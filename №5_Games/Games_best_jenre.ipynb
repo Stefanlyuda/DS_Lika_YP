{
 "cells": [
  {
   "cell_type": "markdown",
   "id": "3f78af80",
   "metadata": {},
   "source": [
    "## Введение"
   ]
  },
  {
   "cell_type": "markdown",
   "id": "78d2c142",
   "metadata": {},
   "source": [
    "Из открытых источников доступны исторические данные о продажах игр, оценки пользователей и экспертов, жанры и платформы."
   ]
  },
  {
   "cell_type": "markdown",
   "id": "eefa88d3",
   "metadata": {},
   "source": [
    "- \tName — название игры\n",
    "- \tPlatform — платформа\n",
    "- \tYear_of_Release — год выпуска\n",
    "-   Genre — жанр игры\n",
    "- \tNA_sales — продажи в Северной Америке (миллионы проданных копий)\n",
    "- \tEU_sales — продажи в Европе (миллионы проданных копий)\n",
    "- \tJP_sales — продажи в Японии (миллионы проданных копий)\n",
    "- \tOther_sales — продажи в других странах (миллионы проданных копий)\n",
    "- \tCritic_Score — оценка критиков (максимум 100)\n",
    "- \tUser_Score — оценка пользователей (максимум 10)\n",
    "- \tRating — рейтинг от организации ESRB (англ. Entertainment Software Rating Board). Эта ассоциация определяет рейтинг компьютерных игр и присваивает им подходящую возрастную категорию."
   ]
  },
  {
   "cell_type": "markdown",
   "id": "46221bb8",
   "metadata": {},
   "source": [
    "##  Задача\n",
    "Выявить определяющие успешность игры закономерности. \n",
    "Дать рекомендации компании по развитию наиболее популярного продукта для планирования рекламных кампаний"
   ]
  },
  {
   "cell_type": "markdown",
   "id": "404e6287",
   "metadata": {},
   "source": [
    "#### Импорт библиотек "
   ]
  },
  {
   "cell_type": "code",
   "execution_count": 1,
   "id": "7a3d5475",
   "metadata": {},
   "outputs": [],
   "source": [
    "import pandas as pd\n",
    "import numpy as np\n",
    "import seaborn as sns\n",
    "from IPython.display import display\n",
    "display(pd)\n",
    "import matplotlib.pyplot as plt \n",
    "import math"
   ]
  },
  {
   "cell_type": "code",
   "execution_count": 7,
   "id": "ba31d076",
   "metadata": {},
   "outputs": [],
   "source": [
    "pd.set_option('mode.chained_assignment', None)"
   ]
  },
  {
   "cell_type": "code",
   "execution_count": 8,
   "id": "2cea8f40",
   "metadata": {},
   "outputs": [
    {
     "name": "stdout",
     "output_type": "stream",
     "text": [
      "Requirement already satisfied: seaborn in /opt/conda/lib/python3.9/site-packages (0.11.1)\n",
      "\u001b[33mWARNING: Retrying (Retry(total=4, connect=None, read=None, redirect=None, status=None)) after connection broken by 'ReadTimeoutError(\"HTTPSConnectionPool(host='pypi.org', port=443): Read timed out. (read timeout=15)\")': /simple/seaborn/\u001b[0m\n",
      "\u001b[33mWARNING: Retrying (Retry(total=3, connect=None, read=None, redirect=None, status=None)) after connection broken by 'ReadTimeoutError(\"HTTPSConnectionPool(host='pypi.org', port=443): Read timed out. (read timeout=15)\")': /simple/seaborn/\u001b[0m\n",
      "\u001b[33mWARNING: Retrying (Retry(total=2, connect=None, read=None, redirect=None, status=None)) after connection broken by 'ReadTimeoutError(\"HTTPSConnectionPool(host='pypi.org', port=443): Read timed out. (read timeout=15)\")': /simple/seaborn/\u001b[0m\n",
      "\u001b[33mWARNING: Retrying (Retry(total=1, connect=None, read=None, redirect=None, status=None)) after connection broken by 'ReadTimeoutError(\"HTTPSConnectionPool(host='pypi.org', port=443): Read timed out. (read timeout=15)\")': /simple/seaborn/\u001b[0m\n",
      "\u001b[33mWARNING: Retrying (Retry(total=0, connect=None, read=None, redirect=None, status=None)) after connection broken by 'ReadTimeoutError(\"HTTPSConnectionPool(host='pypi.org', port=443): Read timed out. (read timeout=15)\")': /simple/seaborn/\u001b[0m\n",
      "Requirement already satisfied: scipy>=1.0 in /opt/conda/lib/python3.9/site-packages (from seaborn) (1.7.3)\n",
      "Requirement already satisfied: numpy>=1.15 in /opt/conda/lib/python3.9/site-packages (from seaborn) (1.20.1)\n",
      "Requirement already satisfied: pandas>=0.23 in /opt/conda/lib/python3.9/site-packages (from seaborn) (1.2.4)\n",
      "Requirement already satisfied: matplotlib>=2.2 in /opt/conda/lib/python3.9/site-packages (from seaborn) (3.3.4)\n",
      "Requirement already satisfied: python-dateutil>=2.1 in /opt/conda/lib/python3.9/site-packages (from matplotlib>=2.2->seaborn) (2.8.1)\n",
      "Requirement already satisfied: cycler>=0.10 in /opt/conda/lib/python3.9/site-packages (from matplotlib>=2.2->seaborn) (0.11.0)\n",
      "Requirement already satisfied: pillow>=6.2.0 in /opt/conda/lib/python3.9/site-packages (from matplotlib>=2.2->seaborn) (8.4.0)\n",
      "Requirement already satisfied: kiwisolver>=1.0.1 in /opt/conda/lib/python3.9/site-packages (from matplotlib>=2.2->seaborn) (1.3.2)\n",
      "Requirement already satisfied: pyparsing!=2.0.4,!=2.1.2,!=2.1.6,>=2.0.3 in /opt/conda/lib/python3.9/site-packages (from matplotlib>=2.2->seaborn) (2.4.7)\n",
      "Requirement already satisfied: pytz>=2017.3 in /opt/conda/lib/python3.9/site-packages (from pandas>=0.23->seaborn) (2021.1)\n",
      "Requirement already satisfied: six>=1.5 in /opt/conda/lib/python3.9/site-packages (from python-dateutil>=2.1->matplotlib>=2.2->seaborn) (1.16.0)\n"
     ]
    }
   ],
   "source": [
    "!pip install seaborn -U"
   ]
  },
  {
   "cell_type": "markdown",
   "id": "e69d4142",
   "metadata": {},
   "source": [
    "### 1. Открытие файла и получение общей информации"
   ]
  },
  {
   "cell_type": "code",
   "execution_count": 9,
   "id": "c4bcd51c",
   "metadata": {},
   "outputs": [],
   "source": [
    "data = pd.read_csv('/datasets/games.csv', sep = ',')"
   ]
  },
  {
   "cell_type": "code",
   "execution_count": 10,
   "id": "9a22d90a",
   "metadata": {},
   "outputs": [
    {
     "data": {
      "text/plain": [
       "(16715, 11)"
      ]
     },
     "execution_count": 10,
     "metadata": {},
     "output_type": "execute_result"
    }
   ],
   "source": [
    "data.shape"
   ]
  },
  {
   "cell_type": "code",
   "execution_count": 11,
   "id": "ba82740d",
   "metadata": {},
   "outputs": [
    {
     "name": "stdout",
     "output_type": "stream",
     "text": [
      "<class 'pandas.core.frame.DataFrame'>\n",
      "RangeIndex: 16715 entries, 0 to 16714\n",
      "Data columns (total 11 columns):\n",
      " #   Column           Non-Null Count  Dtype  \n",
      "---  ------           --------------  -----  \n",
      " 0   Name             16713 non-null  object \n",
      " 1   Platform         16715 non-null  object \n",
      " 2   Year_of_Release  16446 non-null  float64\n",
      " 3   Genre            16713 non-null  object \n",
      " 4   NA_sales         16715 non-null  float64\n",
      " 5   EU_sales         16715 non-null  float64\n",
      " 6   JP_sales         16715 non-null  float64\n",
      " 7   Other_sales      16715 non-null  float64\n",
      " 8   Critic_Score     8137 non-null   float64\n",
      " 9   User_Score       10014 non-null  object \n",
      " 10  Rating           9949 non-null   object \n",
      "dtypes: float64(6), object(5)\n",
      "memory usage: 1.4+ MB\n"
     ]
    }
   ],
   "source": [
    "data.info()"
   ]
  },
  {
   "cell_type": "code",
   "execution_count": 12,
   "id": "bc77034e",
   "metadata": {},
   "outputs": [
    {
     "data": {
      "text/html": [
       "<div>\n",
       "<style scoped>\n",
       "    .dataframe tbody tr th:only-of-type {\n",
       "        vertical-align: middle;\n",
       "    }\n",
       "\n",
       "    .dataframe tbody tr th {\n",
       "        vertical-align: top;\n",
       "    }\n",
       "\n",
       "    .dataframe thead th {\n",
       "        text-align: right;\n",
       "    }\n",
       "</style>\n",
       "<table border=\"1\" class=\"dataframe\">\n",
       "  <thead>\n",
       "    <tr style=\"text-align: right;\">\n",
       "      <th></th>\n",
       "      <th>Name</th>\n",
       "      <th>Platform</th>\n",
       "      <th>Year_of_Release</th>\n",
       "      <th>Genre</th>\n",
       "      <th>NA_sales</th>\n",
       "      <th>EU_sales</th>\n",
       "      <th>JP_sales</th>\n",
       "      <th>Other_sales</th>\n",
       "      <th>Critic_Score</th>\n",
       "      <th>User_Score</th>\n",
       "      <th>Rating</th>\n",
       "    </tr>\n",
       "  </thead>\n",
       "  <tbody>\n",
       "    <tr>\n",
       "      <th>0</th>\n",
       "      <td>Wii Sports</td>\n",
       "      <td>Wii</td>\n",
       "      <td>2006.0</td>\n",
       "      <td>Sports</td>\n",
       "      <td>41.36</td>\n",
       "      <td>28.96</td>\n",
       "      <td>3.77</td>\n",
       "      <td>8.45</td>\n",
       "      <td>76.0</td>\n",
       "      <td>8</td>\n",
       "      <td>E</td>\n",
       "    </tr>\n",
       "    <tr>\n",
       "      <th>1</th>\n",
       "      <td>Super Mario Bros.</td>\n",
       "      <td>NES</td>\n",
       "      <td>1985.0</td>\n",
       "      <td>Platform</td>\n",
       "      <td>29.08</td>\n",
       "      <td>3.58</td>\n",
       "      <td>6.81</td>\n",
       "      <td>0.77</td>\n",
       "      <td>NaN</td>\n",
       "      <td>NaN</td>\n",
       "      <td>NaN</td>\n",
       "    </tr>\n",
       "    <tr>\n",
       "      <th>2</th>\n",
       "      <td>Mario Kart Wii</td>\n",
       "      <td>Wii</td>\n",
       "      <td>2008.0</td>\n",
       "      <td>Racing</td>\n",
       "      <td>15.68</td>\n",
       "      <td>12.76</td>\n",
       "      <td>3.79</td>\n",
       "      <td>3.29</td>\n",
       "      <td>82.0</td>\n",
       "      <td>8.3</td>\n",
       "      <td>E</td>\n",
       "    </tr>\n",
       "    <tr>\n",
       "      <th>3</th>\n",
       "      <td>Wii Sports Resort</td>\n",
       "      <td>Wii</td>\n",
       "      <td>2009.0</td>\n",
       "      <td>Sports</td>\n",
       "      <td>15.61</td>\n",
       "      <td>10.93</td>\n",
       "      <td>3.28</td>\n",
       "      <td>2.95</td>\n",
       "      <td>80.0</td>\n",
       "      <td>8</td>\n",
       "      <td>E</td>\n",
       "    </tr>\n",
       "    <tr>\n",
       "      <th>4</th>\n",
       "      <td>Pokemon Red/Pokemon Blue</td>\n",
       "      <td>GB</td>\n",
       "      <td>1996.0</td>\n",
       "      <td>Role-Playing</td>\n",
       "      <td>11.27</td>\n",
       "      <td>8.89</td>\n",
       "      <td>10.22</td>\n",
       "      <td>1.00</td>\n",
       "      <td>NaN</td>\n",
       "      <td>NaN</td>\n",
       "      <td>NaN</td>\n",
       "    </tr>\n",
       "  </tbody>\n",
       "</table>\n",
       "</div>"
      ],
      "text/plain": [
       "                       Name Platform  Year_of_Release         Genre  NA_sales  \\\n",
       "0                Wii Sports      Wii           2006.0        Sports     41.36   \n",
       "1         Super Mario Bros.      NES           1985.0      Platform     29.08   \n",
       "2            Mario Kart Wii      Wii           2008.0        Racing     15.68   \n",
       "3         Wii Sports Resort      Wii           2009.0        Sports     15.61   \n",
       "4  Pokemon Red/Pokemon Blue       GB           1996.0  Role-Playing     11.27   \n",
       "\n",
       "   EU_sales  JP_sales  Other_sales  Critic_Score User_Score Rating  \n",
       "0     28.96      3.77         8.45          76.0          8      E  \n",
       "1      3.58      6.81         0.77           NaN        NaN    NaN  \n",
       "2     12.76      3.79         3.29          82.0        8.3      E  \n",
       "3     10.93      3.28         2.95          80.0          8      E  \n",
       "4      8.89     10.22         1.00           NaN        NaN    NaN  "
      ]
     },
     "metadata": {},
     "output_type": "display_data"
    }
   ],
   "source": [
    "display (data.head())"
   ]
  },
  {
   "cell_type": "markdown",
   "id": "d6b011b5",
   "metadata": {},
   "source": [
    "Вывод: Для исследования предложена таблица данных, в которой 11 колонок и 16715 строк, присутвуют типы данных, такие как: float64, object. Видны пропуски данных в виде NaN, дубликатов нет. Потребуется замена типов данных, заполнение пропусков, изменение названий столбцов. "
   ]
  },
  {
   "cell_type": "markdown",
   "id": "3eb64879",
   "metadata": {},
   "source": [
    "### 2.  Подготовка данных"
   ]
  },
  {
   "cell_type": "markdown",
   "id": "eedaf78a",
   "metadata": {},
   "source": [
    "#### 2.1 Переименование столбцов"
   ]
  },
  {
   "cell_type": "code",
   "execution_count": 13,
   "id": "3b2ba759",
   "metadata": {},
   "outputs": [],
   "source": [
    " data.columns = data.columns.str.lower()"
   ]
  },
  {
   "cell_type": "code",
   "execution_count": 14,
   "id": "e13dd4e1",
   "metadata": {},
   "outputs": [
    {
     "data": {
      "text/plain": [
       "name                  2\n",
       "platform              0\n",
       "year_of_release     269\n",
       "genre                 2\n",
       "na_sales              0\n",
       "eu_sales              0\n",
       "jp_sales              0\n",
       "other_sales           0\n",
       "critic_score       8578\n",
       "user_score         6701\n",
       "rating             6766\n",
       "dtype: int64"
      ]
     },
     "execution_count": 14,
     "metadata": {},
     "output_type": "execute_result"
    }
   ],
   "source": [
    "data.isna().sum()"
   ]
  },
  {
   "cell_type": "code",
   "execution_count": 15,
   "id": "0454a578",
   "metadata": {},
   "outputs": [
    {
     "data": {
      "text/plain": [
       "array(['8', nan, '8.3', '8.5', '6.6', '8.4', '8.6', '7.7', '6.3', '7.4',\n",
       "       '8.2', '9', '7.9', '8.1', '8.7', '7.1', '3.4', '5.3', '4.8', '3.2',\n",
       "       '8.9', '6.4', '7.8', '7.5', '2.6', '7.2', '9.2', '7', '7.3', '4.3',\n",
       "       '7.6', '5.7', '5', '9.1', '6.5', 'tbd', '8.8', '6.9', '9.4', '6.8',\n",
       "       '6.1', '6.7', '5.4', '4', '4.9', '4.5', '9.3', '6.2', '4.2', '6',\n",
       "       '3.7', '4.1', '5.8', '5.6', '5.5', '4.4', '4.6', '5.9', '3.9',\n",
       "       '3.1', '2.9', '5.2', '3.3', '4.7', '5.1', '3.5', '2.5', '1.9', '3',\n",
       "       '2.7', '2.2', '2', '9.5', '2.1', '3.6', '2.8', '1.8', '3.8', '0',\n",
       "       '1.6', '9.6', '2.4', '1.7', '1.1', '0.3', '1.5', '0.7', '1.2',\n",
       "       '2.3', '0.5', '1.3', '0.2', '0.6', '1.4', '0.9', '1', '9.7'],\n",
       "      dtype=object)"
      ]
     },
     "execution_count": 15,
     "metadata": {},
     "output_type": "execute_result"
    }
   ],
   "source": [
    "data['user_score'].unique()"
   ]
  },
  {
   "cell_type": "markdown",
   "id": "7dfb94d1",
   "metadata": {},
   "source": [
    "Заменим значения tbd и nan на числовые"
   ]
  },
  {
   "cell_type": "code",
   "execution_count": 16,
   "id": "47a81af7",
   "metadata": {},
   "outputs": [],
   "source": [
    "data = data.replace('tbd',np.nan)"
   ]
  },
  {
   "cell_type": "code",
   "execution_count": 17,
   "id": "938d628a",
   "metadata": {},
   "outputs": [
    {
     "data": {
      "text/plain": [
       "array(['8', nan, '8.3', '8.5', '6.6', '8.4', '8.6', '7.7', '6.3', '7.4',\n",
       "       '8.2', '9', '7.9', '8.1', '8.7', '7.1', '3.4', '5.3', '4.8', '3.2',\n",
       "       '8.9', '6.4', '7.8', '7.5', '2.6', '7.2', '9.2', '7', '7.3', '4.3',\n",
       "       '7.6', '5.7', '5', '9.1', '6.5', '8.8', '6.9', '9.4', '6.8', '6.1',\n",
       "       '6.7', '5.4', '4', '4.9', '4.5', '9.3', '6.2', '4.2', '6', '3.7',\n",
       "       '4.1', '5.8', '5.6', '5.5', '4.4', '4.6', '5.9', '3.9', '3.1',\n",
       "       '2.9', '5.2', '3.3', '4.7', '5.1', '3.5', '2.5', '1.9', '3', '2.7',\n",
       "       '2.2', '2', '9.5', '2.1', '3.6', '2.8', '1.8', '3.8', '0', '1.6',\n",
       "       '9.6', '2.4', '1.7', '1.1', '0.3', '1.5', '0.7', '1.2', '2.3',\n",
       "       '0.5', '1.3', '0.2', '0.6', '1.4', '0.9', '1', '9.7'], dtype=object)"
      ]
     },
     "execution_count": 17,
     "metadata": {},
     "output_type": "execute_result"
    }
   ],
   "source": [
    "data['user_score'].unique()"
   ]
  },
  {
   "cell_type": "code",
   "execution_count": 18,
   "id": "b8729082",
   "metadata": {},
   "outputs": [
    {
     "data": {
      "text/plain": [
       "name                  2\n",
       "platform              0\n",
       "year_of_release     269\n",
       "genre                 2\n",
       "na_sales              0\n",
       "eu_sales              0\n",
       "jp_sales              0\n",
       "other_sales           0\n",
       "critic_score       8578\n",
       "user_score         9125\n",
       "rating             6766\n",
       "dtype: int64"
      ]
     },
     "execution_count": 18,
     "metadata": {},
     "output_type": "execute_result"
    }
   ],
   "source": [
    "data.isna().sum()"
   ]
  },
  {
   "cell_type": "markdown",
   "id": "ca42c309",
   "metadata": {},
   "source": [
    "#### Заполнение пропусков"
   ]
  },
  {
   "cell_type": "code",
   "execution_count": 19,
   "id": "cb30c657",
   "metadata": {},
   "outputs": [
    {
     "data": {
      "text/plain": [
       "0        76.0\n",
       "1         NaN\n",
       "2        82.0\n",
       "3        80.0\n",
       "4         NaN\n",
       "         ... \n",
       "16710     NaN\n",
       "16711     NaN\n",
       "16712     NaN\n",
       "16713     NaN\n",
       "16714     NaN\n",
       "Name: critic_score, Length: 16715, dtype: float64"
      ]
     },
     "execution_count": 19,
     "metadata": {},
     "output_type": "execute_result"
    }
   ],
   "source": [
    "pd.to_numeric(data['user_score'], errors = 'coerce')\n",
    "pd.to_numeric(data['critic_score'], errors = 'coerce')"
   ]
  },
  {
   "cell_type": "markdown",
   "id": "afb145e7",
   "metadata": {},
   "source": [
    "Оставим пропущенные значения в user_score и critic_score, ткт.  они. скорее всего возникли потому что эти игры не оценивались критиками и игроками или слишком старые. Будем работать с теми данными, что имеются."
   ]
  },
  {
   "cell_type": "code",
   "execution_count": 20,
   "id": "a3c12da2",
   "metadata": {},
   "outputs": [
    {
     "data": {
      "text/plain": [
       "name                  2\n",
       "platform              0\n",
       "year_of_release     269\n",
       "genre                 2\n",
       "na_sales              0\n",
       "eu_sales              0\n",
       "jp_sales              0\n",
       "other_sales           0\n",
       "critic_score       8578\n",
       "user_score         9125\n",
       "rating             6766\n",
       "dtype: int64"
      ]
     },
     "execution_count": 20,
     "metadata": {},
     "output_type": "execute_result"
    }
   ],
   "source": [
    "data.isna().sum()"
   ]
  },
  {
   "cell_type": "code",
   "execution_count": 21,
   "id": "cc32b78d",
   "metadata": {},
   "outputs": [
    {
     "data": {
      "text/plain": [
       "name                  0\n",
       "platform              0\n",
       "year_of_release       0\n",
       "genre                 0\n",
       "na_sales              0\n",
       "eu_sales              0\n",
       "jp_sales              0\n",
       "other_sales           0\n",
       "critic_score       8461\n",
       "user_score         8981\n",
       "rating             6676\n",
       "dtype: int64"
      ]
     },
     "execution_count": 21,
     "metadata": {},
     "output_type": "execute_result"
    }
   ],
   "source": [
    "data = data.dropna(subset = ['year_of_release','genre'])\n",
    "data.isna().sum()"
   ]
  },
  {
   "cell_type": "markdown",
   "id": "b5867697",
   "metadata": {},
   "source": [
    "#### 2.2 Измененение типов данных"
   ]
  },
  {
   "cell_type": "markdown",
   "id": "8034c178",
   "metadata": {},
   "source": [
    "Заменим типа данных в столбце year_of_release, т.к. это год выпуска игры и он должен быть Int и округленным."
   ]
  },
  {
   "cell_type": "code",
   "execution_count": 22,
   "id": "2c1113b9",
   "metadata": {},
   "outputs": [
    {
     "name": "stdout",
     "output_type": "stream",
     "text": [
      "<class 'pandas.core.frame.DataFrame'>\n",
      "Int64Index: 16444 entries, 0 to 16714\n",
      "Data columns (total 11 columns):\n",
      " #   Column           Non-Null Count  Dtype  \n",
      "---  ------           --------------  -----  \n",
      " 0   name             16444 non-null  object \n",
      " 1   platform         16444 non-null  object \n",
      " 2   year_of_release  16444 non-null  Int64  \n",
      " 3   genre            16444 non-null  object \n",
      " 4   na_sales         16444 non-null  float64\n",
      " 5   eu_sales         16444 non-null  float64\n",
      " 6   jp_sales         16444 non-null  float64\n",
      " 7   other_sales      16444 non-null  float64\n",
      " 8   critic_score     7983 non-null   float64\n",
      " 9   user_score       7463 non-null   object \n",
      " 10  rating           9768 non-null   object \n",
      "dtypes: Int64(1), float64(5), object(5)\n",
      "memory usage: 1.5+ MB\n"
     ]
    }
   ],
   "source": [
    "data['year_of_release'] = data['year_of_release'].round(0)\n",
    "data['year_of_release'] = data['year_of_release'].astype ('Int64')\n",
    "data.info()"
   ]
  },
  {
   "cell_type": "markdown",
   "id": "1001e457",
   "metadata": {},
   "source": [
    "Заменим типа данных в столбце user_score на float64, чтобы продолжать работу далее с числовым типом данных и чтобы снизить обьем затрачиваемой памяти. "
   ]
  },
  {
   "cell_type": "code",
   "execution_count": 23,
   "id": "977b85da",
   "metadata": {},
   "outputs": [
    {
     "name": "stdout",
     "output_type": "stream",
     "text": [
      "<class 'pandas.core.frame.DataFrame'>\n",
      "Int64Index: 16444 entries, 0 to 16714\n",
      "Data columns (total 11 columns):\n",
      " #   Column           Non-Null Count  Dtype  \n",
      "---  ------           --------------  -----  \n",
      " 0   name             16444 non-null  object \n",
      " 1   platform         16444 non-null  object \n",
      " 2   year_of_release  16444 non-null  Int64  \n",
      " 3   genre            16444 non-null  object \n",
      " 4   na_sales         16444 non-null  float64\n",
      " 5   eu_sales         16444 non-null  float64\n",
      " 6   jp_sales         16444 non-null  float64\n",
      " 7   other_sales      16444 non-null  float64\n",
      " 8   critic_score     7983 non-null   float64\n",
      " 9   user_score       7463 non-null   float64\n",
      " 10  rating           9768 non-null   object \n",
      "dtypes: Int64(1), float64(6), object(4)\n",
      "memory usage: 1.5+ MB\n"
     ]
    }
   ],
   "source": [
    "data['user_score'] = data['user_score'].astype ('float64')\n",
    "data.info()"
   ]
  },
  {
   "cell_type": "markdown",
   "id": "3fac8fe0",
   "metadata": {},
   "source": [
    "#### 2.3 Суммы продаж во всех регионах"
   ]
  },
  {
   "cell_type": "code",
   "execution_count": 24,
   "id": "db4ec78a",
   "metadata": {},
   "outputs": [
    {
     "data": {
      "text/html": [
       "<div>\n",
       "<style scoped>\n",
       "    .dataframe tbody tr th:only-of-type {\n",
       "        vertical-align: middle;\n",
       "    }\n",
       "\n",
       "    .dataframe tbody tr th {\n",
       "        vertical-align: top;\n",
       "    }\n",
       "\n",
       "    .dataframe thead th {\n",
       "        text-align: right;\n",
       "    }\n",
       "</style>\n",
       "<table border=\"1\" class=\"dataframe\">\n",
       "  <thead>\n",
       "    <tr style=\"text-align: right;\">\n",
       "      <th></th>\n",
       "      <th>name</th>\n",
       "      <th>platform</th>\n",
       "      <th>year_of_release</th>\n",
       "      <th>genre</th>\n",
       "      <th>na_sales</th>\n",
       "      <th>eu_sales</th>\n",
       "      <th>jp_sales</th>\n",
       "      <th>other_sales</th>\n",
       "      <th>critic_score</th>\n",
       "      <th>user_score</th>\n",
       "      <th>rating</th>\n",
       "      <th>total_sales</th>\n",
       "    </tr>\n",
       "  </thead>\n",
       "  <tbody>\n",
       "    <tr>\n",
       "      <th>0</th>\n",
       "      <td>Wii Sports</td>\n",
       "      <td>Wii</td>\n",
       "      <td>2006</td>\n",
       "      <td>Sports</td>\n",
       "      <td>41.36</td>\n",
       "      <td>28.96</td>\n",
       "      <td>3.77</td>\n",
       "      <td>8.45</td>\n",
       "      <td>76.0</td>\n",
       "      <td>8.0</td>\n",
       "      <td>E</td>\n",
       "      <td>82.54</td>\n",
       "    </tr>\n",
       "    <tr>\n",
       "      <th>1</th>\n",
       "      <td>Super Mario Bros.</td>\n",
       "      <td>NES</td>\n",
       "      <td>1985</td>\n",
       "      <td>Platform</td>\n",
       "      <td>29.08</td>\n",
       "      <td>3.58</td>\n",
       "      <td>6.81</td>\n",
       "      <td>0.77</td>\n",
       "      <td>NaN</td>\n",
       "      <td>NaN</td>\n",
       "      <td>NaN</td>\n",
       "      <td>40.24</td>\n",
       "    </tr>\n",
       "    <tr>\n",
       "      <th>2</th>\n",
       "      <td>Mario Kart Wii</td>\n",
       "      <td>Wii</td>\n",
       "      <td>2008</td>\n",
       "      <td>Racing</td>\n",
       "      <td>15.68</td>\n",
       "      <td>12.76</td>\n",
       "      <td>3.79</td>\n",
       "      <td>3.29</td>\n",
       "      <td>82.0</td>\n",
       "      <td>8.3</td>\n",
       "      <td>E</td>\n",
       "      <td>35.52</td>\n",
       "    </tr>\n",
       "    <tr>\n",
       "      <th>3</th>\n",
       "      <td>Wii Sports Resort</td>\n",
       "      <td>Wii</td>\n",
       "      <td>2009</td>\n",
       "      <td>Sports</td>\n",
       "      <td>15.61</td>\n",
       "      <td>10.93</td>\n",
       "      <td>3.28</td>\n",
       "      <td>2.95</td>\n",
       "      <td>80.0</td>\n",
       "      <td>8.0</td>\n",
       "      <td>E</td>\n",
       "      <td>32.77</td>\n",
       "    </tr>\n",
       "    <tr>\n",
       "      <th>4</th>\n",
       "      <td>Pokemon Red/Pokemon Blue</td>\n",
       "      <td>GB</td>\n",
       "      <td>1996</td>\n",
       "      <td>Role-Playing</td>\n",
       "      <td>11.27</td>\n",
       "      <td>8.89</td>\n",
       "      <td>10.22</td>\n",
       "      <td>1.00</td>\n",
       "      <td>NaN</td>\n",
       "      <td>NaN</td>\n",
       "      <td>NaN</td>\n",
       "      <td>31.38</td>\n",
       "    </tr>\n",
       "  </tbody>\n",
       "</table>\n",
       "</div>"
      ],
      "text/plain": [
       "                       name platform  year_of_release         genre  na_sales  \\\n",
       "0                Wii Sports      Wii             2006        Sports     41.36   \n",
       "1         Super Mario Bros.      NES             1985      Platform     29.08   \n",
       "2            Mario Kart Wii      Wii             2008        Racing     15.68   \n",
       "3         Wii Sports Resort      Wii             2009        Sports     15.61   \n",
       "4  Pokemon Red/Pokemon Blue       GB             1996  Role-Playing     11.27   \n",
       "\n",
       "   eu_sales  jp_sales  other_sales  critic_score  user_score rating  \\\n",
       "0     28.96      3.77         8.45          76.0         8.0      E   \n",
       "1      3.58      6.81         0.77           NaN         NaN    NaN   \n",
       "2     12.76      3.79         3.29          82.0         8.3      E   \n",
       "3     10.93      3.28         2.95          80.0         8.0      E   \n",
       "4      8.89     10.22         1.00           NaN         NaN    NaN   \n",
       "\n",
       "   total_sales  \n",
       "0        82.54  \n",
       "1        40.24  \n",
       "2        35.52  \n",
       "3        32.77  \n",
       "4        31.38  "
      ]
     },
     "execution_count": 24,
     "metadata": {},
     "output_type": "execute_result"
    }
   ],
   "source": [
    "data ['total_sales'] = data.loc[:, ['na_sales', \n",
    "                                    'eu_sales',\n",
    "                                    'jp_sales',\n",
    "                                    'other_sales' ]].sum(axis = 1).astype('float64')\n",
    "data.head()"
   ]
  },
  {
   "cell_type": "markdown",
   "id": "0de919f4",
   "metadata": {},
   "source": [
    "Нашли суммарное значение всех продаж и записали в отдедльный столбец.  Просуммировали по строкам с параметром axis = 1 "
   ]
  },
  {
   "cell_type": "markdown",
   "id": "6d21c47c",
   "metadata": {},
   "source": [
    "### 3. Проведите исследовательский анализ данных\n",
    "#### 3.1 Посмотрите, сколько игр выпускалось в разные годы. Важны ли данные за все периоды?\n"
   ]
  },
  {
   "cell_type": "code",
   "execution_count": 27,
   "id": "52981cf3",
   "metadata": {},
   "outputs": [
    {
     "data": {
      "text/html": [
       "<div>\n",
       "<style scoped>\n",
       "    .dataframe tbody tr th:only-of-type {\n",
       "        vertical-align: middle;\n",
       "    }\n",
       "\n",
       "    .dataframe tbody tr th {\n",
       "        vertical-align: top;\n",
       "    }\n",
       "\n",
       "    .dataframe thead th {\n",
       "        text-align: right;\n",
       "    }\n",
       "</style>\n",
       "<table border=\"1\" class=\"dataframe\">\n",
       "  <thead>\n",
       "    <tr style=\"text-align: right;\">\n",
       "      <th></th>\n",
       "      <th>count</th>\n",
       "    </tr>\n",
       "    <tr>\n",
       "      <th>year_of_release</th>\n",
       "      <th></th>\n",
       "    </tr>\n",
       "  </thead>\n",
       "  <tbody>\n",
       "    <tr>\n",
       "      <th>1980</th>\n",
       "      <td>9</td>\n",
       "    </tr>\n",
       "    <tr>\n",
       "      <th>1981</th>\n",
       "      <td>46</td>\n",
       "    </tr>\n",
       "    <tr>\n",
       "      <th>1982</th>\n",
       "      <td>36</td>\n",
       "    </tr>\n",
       "    <tr>\n",
       "      <th>1983</th>\n",
       "      <td>17</td>\n",
       "    </tr>\n",
       "    <tr>\n",
       "      <th>1984</th>\n",
       "      <td>14</td>\n",
       "    </tr>\n",
       "  </tbody>\n",
       "</table>\n",
       "</div>"
      ],
      "text/plain": [
       "                 count\n",
       "year_of_release       \n",
       "1980                 9\n",
       "1981                46\n",
       "1982                36\n",
       "1983                17\n",
       "1984                14"
      ]
     },
     "metadata": {},
     "output_type": "display_data"
    }
   ],
   "source": [
    "data_sum_game_year = data.pivot_table(index = 'year_of_release',\n",
    "                             values = 'name',\n",
    "                             aggfunc = ['count'])\n",
    "data_sum_game_year.columns = ['count']\n",
    "display (data_sum_game_year.head())"
   ]
  },
  {
   "cell_type": "code",
   "execution_count": 28,
   "id": "a6d874e2",
   "metadata": {},
   "outputs": [
    {
     "data": {
      "text/plain": [
       "Text(0, 0.5, 'Кол-во игр')"
      ]
     },
     "execution_count": 28,
     "metadata": {},
     "output_type": "execute_result"
    },
    {
     "data": {
      "image/png": "[encoded data removed]",
      "text/plain": [
       "<Figure size 864x432 with 1 Axes>"
      ]
     },
     "metadata": {
      "needs_background": "light"
     },
     "output_type": "display_data"
    }
   ],
   "source": [
    "data_sum_game_year.plot(kind='line', figsize=(12, 6))\n",
    "plt.title ('Количество выпускаемых игр в каждый период')\n",
    "plt.xlabel ('Год выпуска')\n",
    "plt.ylabel ('Кол-во игр')"
   ]
  },
  {
   "cell_type": "markdown",
   "id": "f3c7febe",
   "metadata": {},
   "source": [
    "На сводной таблице мы видим, что в меньше всего игр выпускалось в перод с 1980 по 1994 годы, потом был резки скачок до 1006 игр в год в 2006 году.Выпуски были столь же активными до 2011 года, а потомпошли на спад. и в 2012-2016 выпускалось примерно п 500 игр в год.  Для исследования в бОльшей степени нас будут интересовать данные за последние 15 лет, т.к. по ним больше сущаствоующих платформ, а не исчезнувших, а это подтверждает утверждение о том, что в расчет их брать необязательно"
   ]
  },
  {
   "cell_type": "markdown",
   "id": "cce88aa1",
   "metadata": {},
   "source": [
    "#### 3.2 Посмотрите, как менялись продажи по платформам. Выберите платформы с наибольшими суммарными продажами и постройте распределение по годам. За какой характерный срок появляются новые и исчезают старые платформы?"
   ]
  },
  {
   "cell_type": "markdown",
   "id": "b9b090c1",
   "metadata": {},
   "source": [
    "<div class=\"alert alert-info\">\n",
    "1.Посчитать суммарные продажи по каждой платформе за все время."
   ]
  },
  {
   "cell_type": "markdown",
   "id": "06340402",
   "metadata": {},
   "source": [
    " Выделим платформы с наибольшими суммарными продажами, возьмем для изучения первые 10 строчек с максимальным количеством прибыльности"
   ]
  },
  {
   "cell_type": "code",
   "execution_count": 29,
   "id": "516ef5e8",
   "metadata": {},
   "outputs": [
    {
     "data": {
      "text/html": [
       "<div>\n",
       "<style scoped>\n",
       "    .dataframe tbody tr th:only-of-type {\n",
       "        vertical-align: middle;\n",
       "    }\n",
       "\n",
       "    .dataframe tbody tr th {\n",
       "        vertical-align: top;\n",
       "    }\n",
       "\n",
       "    .dataframe thead th {\n",
       "        text-align: right;\n",
       "    }\n",
       "</style>\n",
       "<table border=\"1\" class=\"dataframe\">\n",
       "  <thead>\n",
       "    <tr style=\"text-align: right;\">\n",
       "      <th></th>\n",
       "      <th>sum</th>\n",
       "    </tr>\n",
       "    <tr>\n",
       "      <th>platform</th>\n",
       "      <th></th>\n",
       "    </tr>\n",
       "  </thead>\n",
       "  <tbody>\n",
       "    <tr>\n",
       "      <th>PS2</th>\n",
       "      <td>1233.56</td>\n",
       "    </tr>\n",
       "    <tr>\n",
       "      <th>X360</th>\n",
       "      <td>961.24</td>\n",
       "    </tr>\n",
       "    <tr>\n",
       "      <th>PS3</th>\n",
       "      <td>931.34</td>\n",
       "    </tr>\n",
       "    <tr>\n",
       "      <th>Wii</th>\n",
       "      <td>891.18</td>\n",
       "    </tr>\n",
       "    <tr>\n",
       "      <th>DS</th>\n",
       "      <td>802.78</td>\n",
       "    </tr>\n",
       "    <tr>\n",
       "      <th>PS</th>\n",
       "      <td>727.58</td>\n",
       "    </tr>\n",
       "    <tr>\n",
       "      <th>PS4</th>\n",
       "      <td>314.14</td>\n",
       "    </tr>\n",
       "    <tr>\n",
       "      <th>GBA</th>\n",
       "      <td>312.88</td>\n",
       "    </tr>\n",
       "    <tr>\n",
       "      <th>PSP</th>\n",
       "      <td>289.53</td>\n",
       "    </tr>\n",
       "  </tbody>\n",
       "</table>\n",
       "</div>"
      ],
      "text/plain": [
       "              sum\n",
       "platform         \n",
       "PS2       1233.56\n",
       "X360       961.24\n",
       "PS3        931.34\n",
       "Wii        891.18\n",
       "DS         802.78\n",
       "PS         727.58\n",
       "PS4        314.14\n",
       "GBA        312.88\n",
       "PSP        289.53"
      ]
     },
     "metadata": {},
     "output_type": "display_data"
    }
   ],
   "source": [
    "top_10_platforms = data.pivot_table(index=['platform'],\n",
    "                            values = 'total_sales',\n",
    "                            aggfunc = 'sum').sort_values (by = 'total_sales', ascending = False)\n",
    "top_10_platforms.columns = ['sum']\n",
    "top_10_platforms = top_10_platforms[:9]\n",
    "display (top_10_platforms.head (10))"
   ]
  },
  {
   "cell_type": "markdown",
   "id": "9f64fea8",
   "metadata": {},
   "source": [
    "<div class=\"alert alert-info\">\n",
    "2.Выбрать самые доходные платформы."
   ]
  },
  {
   "cell_type": "code",
   "execution_count": 30,
   "id": "594ee2e0",
   "metadata": {},
   "outputs": [
    {
     "data": {
      "text/plain": [
       "<matplotlib.legend.Legend at 0x7f7f6bee1910>"
      ]
     },
     "execution_count": 30,
     "metadata": {},
     "output_type": "execute_result"
    },
    {
     "data": {
      "image/png": "[encoded data removed]",
      "text/plain": [
       "<Figure size 1152x432 with 1 Axes>"
      ]
     },
     "metadata": {
      "needs_background": "light"
     },
     "output_type": "display_data"
    }
   ],
   "source": [
    "top_10_platforms.plot(kind='bar', figsize=(16, 6))\n",
    "plt.title ('График зависимости популярности платформ')\n",
    "plt.xlabel ('Год')\n",
    "plt.ylabel ('Кол-во игр')\n",
    "plt.legend(title = \"суммарное количество продаж игр платформы в году\")"
   ]
  },
  {
   "cell_type": "markdown",
   "id": "b2673424",
   "metadata": {},
   "source": [
    "Выберем 5 самых доходных платформ"
   ]
  },
  {
   "cell_type": "code",
   "execution_count": 31,
   "id": "d6ee6b36",
   "metadata": {},
   "outputs": [],
   "source": [
    "lst_top5_1 = ['PS2','X360','PS3','Wii','DS','PS']\n",
    "top_5_platforms = data.query(\"platform in @lst_top5_1\")\n"
   ]
  },
  {
   "cell_type": "code",
   "execution_count": 32,
   "id": "ad13a550",
   "metadata": {},
   "outputs": [],
   "source": [
    "top_5_platforms_1=top_5_platforms.pivot_table(index='year_of_release',\n",
    "                           columns='platform',\n",
    "                           values = 'name', \n",
    "                           aggfunc = 'count')\n"
   ]
  },
  {
   "cell_type": "markdown",
   "id": "7094d0f4",
   "metadata": {},
   "source": [
    "<div class=\"alert alert-info\">\n",
    "3.Построить график, отражающий продажи этих платформ по годам."
   ]
  },
  {
   "cell_type": "code",
   "execution_count": 33,
   "id": "c68fe598",
   "metadata": {},
   "outputs": [
    {
     "data": {
      "text/plain": [
       "<matplotlib.legend.Legend at 0x7f7f6bb6c760>"
      ]
     },
     "execution_count": 33,
     "metadata": {},
     "output_type": "execute_result"
    },
    {
     "data": {
      "image/png": "[encoded data removed]",
      "text/plain": [
       "<Figure size 720x432 with 1 Axes>"
      ]
     },
     "metadata": {
      "needs_background": "light"
     },
     "output_type": "display_data"
    }
   ],
   "source": [
    "top_5_platforms_1.plot(kind='line', figsize=(10, 6))\n",
    "plt.title ('График выхода платформ и продаж по годам')\n",
    "plt.xlabel ('Год')\n",
    "plt.ylabel ('Кол-во игр')\n",
    "plt.legend(title = \"Наименования платформ\")"
   ]
  },
  {
   "cell_type": "code",
   "execution_count": 34,
   "id": "e5b225d0",
   "metadata": {},
   "outputs": [
    {
     "data": {
      "image/png": "[encoded data removed]",
      "text/plain": [
       "<Figure size 720x432 with 6 Axes>"
      ]
     },
     "metadata": {
      "needs_background": "light"
     },
     "output_type": "display_data"
    }
   ],
   "source": [
    "l = len(top_5_platforms_1.columns)\n",
    "fig, axes = plt.subplots(nrows=math.ceil(l/2), ncols=2,figsize = (10,6), gridspec_kw = dict(left=0.1, right=0.9,bottom=0.1, top=1.9), constrained_layout=True)\n",
    "fig.suptitle('График по суммарным продажам в год')\n",
    "n = 0\n",
    "for ax in axes.flat:   \n",
    "    if l > n:\n",
    "        ax.set(title=top_5_platforms_1.columns[n])\n",
    "        ax.plot(top_5_platforms_1 [top_5_platforms_1.columns[n]])      \n",
    "        n += 1\n",
    "plt.show()"
   ]
  },
  {
   "cell_type": "markdown",
   "id": "904d77ce",
   "metadata": {},
   "source": [
    "<div class=\"alert alert-info\">\n",
    "4. Из этого графика сделать вывод о среднем времени жизни платформы."
   ]
  },
  {
   "cell_type": "markdown",
   "id": "cacdab3f",
   "metadata": {},
   "source": [
    "Графики позволяют определить время существования каждой из популярных платформ:\n",
    "- DS 10 лет\n",
    "- PS 10 лет\n",
    "- PS2 14 лет\n",
    "- Wii 10 лет\n",
    "- PS3 10 лет\n",
    "- X360 12 лет.\n",
    "- В среднем платформы существуют 10 лет"
   ]
  },
  {
   "cell_type": "markdown",
   "id": "bdd3d035",
   "metadata": {},
   "source": [
    "#### 3.3  Возьмите данные за соответствующий актуальный период. Актуальный период определите самостоятельно в результате исследования предыдущих вопросов. Основной фактор — эти данные помогут построить прогноз на 2017 год.\n",
    "-  Не учитывайте в работе данные за предыдущие годы.\n",
    "-  Какие платформы лидируют по продажам, растут или падают? Выберите несколько потенциально прибыльных платформ."
   ]
  },
  {
   "cell_type": "markdown",
   "id": "87f9bc1a",
   "metadata": {},
   "source": [
    " \n",
    "Отделим данные начиная с 2011 года, начиная с этого периода у нас остаются те платформы, которые наиболее вероятно \"доживут\" до 2017 года"
   ]
  },
  {
   "cell_type": "code",
   "execution_count": 39,
   "id": "3c4bc2b9",
   "metadata": {},
   "outputs": [
    {
     "data": {
      "text/plain": [
       "'Список платформ для анализа:'"
      ]
     },
     "metadata": {},
     "output_type": "display_data"
    },
    {
     "data": {
      "text/plain": [
       "array(['PS3', 'X360', 'PS4', '3DS', 'XOne', 'WiiU', 'Wii', 'PC', 'PSV',\n",
       "       'DS', 'PSP'], dtype=object)"
      ]
     },
     "metadata": {},
     "output_type": "display_data"
    }
   ],
   "source": [
    "data_prediction = data[data['year_of_release'] >= 2013]\n",
    "display('Список платформ для анализа:',data_prediction['platform'].unique())"
   ]
  },
  {
   "cell_type": "code",
   "execution_count": 40,
   "id": "d30479b1",
   "metadata": {},
   "outputs": [
    {
     "data": {
      "text/plain": [
       "<AxesSubplot:xlabel='year_of_release'>"
      ]
     },
     "execution_count": 40,
     "metadata": {},
     "output_type": "execute_result"
    },
    {
     "data": {
      "image/png": "[encoded data removed]",
      "text/plain": [
       "<Figure size 576x432 with 1 Axes>"
      ]
     },
     "metadata": {
      "needs_background": "light"
     },
     "output_type": "display_data"
    }
   ],
   "source": [
    "top_platfoms_actually = data_prediction.pivot_table (index = 'year_of_release',\n",
    "                                                    columns='platform',\n",
    "                                                     values = 'name', \n",
    "                                                     aggfunc = 'count')\n",
    "\n",
    "top_platfoms_actually.plot(kind='line', figsize=(8, 6))"
   ]
  },
  {
   "cell_type": "markdown",
   "id": "02cfddab",
   "metadata": {},
   "source": [
    "Наиболее популярной платформой, приносящей прибыль, является PS4, также на подьеме находится PC\n",
    "Платформы PCV,3DS,PS3,WiiU,Wii,X360 показывают небольшое падение прибыли в в 2016 году по сравнению с предыдущими, но также являются важной частью данных для прогноза на 2017 год."
   ]
  },
  {
   "cell_type": "markdown",
   "id": "c5e032e0",
   "metadata": {},
   "source": [
    " #### 3.4 Постройте график «ящик с усами» по глобальным продажам игр в разбивке по платформам. Опишите результат."
   ]
  },
  {
   "cell_type": "code",
   "execution_count": 41,
   "id": "70fd5bac",
   "metadata": {},
   "outputs": [
    {
     "data": {
      "image/png": "[encoded data removed]",
      "text/plain": [
       "<Figure size 1296x1008 with 1 Axes>"
      ]
     },
     "metadata": {
      "needs_background": "light"
     },
     "output_type": "display_data"
    }
   ],
   "source": [
    "plt.figure(figsize=(18,14))\n",
    "ax = sns.boxplot(y=\"platform\",\n",
    "                 x=\"total_sales\",\n",
    "                 data = data_prediction,\n",
    "                 orient ='h'\n",
    ")\n",
    "\n",
    "ax.grid(which='both')\n",
    "plt.xlabel('выручка млн.',fontsize  = 22)\n",
    "plt.ylabel('платформы',fontsize  = 18)\n",
    "plt.title ('продажи по платформам до 2 млн.',fontsize =22)\n",
    "ax.set(xlim=(0,2))\n",
    "\n",
    "plt.show()"
   ]
  },
  {
   "cell_type": "code",
   "execution_count": 42,
   "id": "f2ea0dcc",
   "metadata": {},
   "outputs": [
    {
     "data": {
      "text/html": [
       "<div>\n",
       "<style scoped>\n",
       "    .dataframe tbody tr th:only-of-type {\n",
       "        vertical-align: middle;\n",
       "    }\n",
       "\n",
       "    .dataframe tbody tr th {\n",
       "        vertical-align: top;\n",
       "    }\n",
       "\n",
       "    .dataframe thead th {\n",
       "        text-align: right;\n",
       "    }\n",
       "</style>\n",
       "<table border=\"1\" class=\"dataframe\">\n",
       "  <thead>\n",
       "    <tr style=\"text-align: right;\">\n",
       "      <th>platform</th>\n",
       "      <th>3DS</th>\n",
       "      <th>DS</th>\n",
       "      <th>PC</th>\n",
       "      <th>PS3</th>\n",
       "      <th>PS4</th>\n",
       "      <th>PSP</th>\n",
       "      <th>PSV</th>\n",
       "      <th>Wii</th>\n",
       "      <th>WiiU</th>\n",
       "      <th>X360</th>\n",
       "      <th>XOne</th>\n",
       "    </tr>\n",
       "  </thead>\n",
       "  <tbody>\n",
       "    <tr>\n",
       "      <th>count</th>\n",
       "      <td>4.000000</td>\n",
       "      <td>1.0</td>\n",
       "      <td>4.000000</td>\n",
       "      <td>4.000000</td>\n",
       "      <td>4.00000</td>\n",
       "      <td>3.000000</td>\n",
       "      <td>4.000000</td>\n",
       "      <td>4.000000</td>\n",
       "      <td>4.000000</td>\n",
       "      <td>4.000000</td>\n",
       "      <td>4.000000</td>\n",
       "    </tr>\n",
       "    <tr>\n",
       "      <th>mean</th>\n",
       "      <td>75.750000</td>\n",
       "      <td>8.0</td>\n",
       "      <td>47.250000</td>\n",
       "      <td>86.250000</td>\n",
       "      <td>98.00000</td>\n",
       "      <td>22.333333</td>\n",
       "      <td>89.500000</td>\n",
       "      <td>5.750000</td>\n",
       "      <td>28.750000</td>\n",
       "      <td>46.500000</td>\n",
       "      <td>61.750000</td>\n",
       "    </tr>\n",
       "    <tr>\n",
       "      <th>std</th>\n",
       "      <td>20.336748</td>\n",
       "      <td>NaN</td>\n",
       "      <td>6.800735</td>\n",
       "      <td>38.973281</td>\n",
       "      <td>66.15638</td>\n",
       "      <td>27.646579</td>\n",
       "      <td>20.436895</td>\n",
       "      <td>4.645787</td>\n",
       "      <td>11.528949</td>\n",
       "      <td>27.922512</td>\n",
       "      <td>30.543685</td>\n",
       "    </tr>\n",
       "    <tr>\n",
       "      <th>min</th>\n",
       "      <td>46.000000</td>\n",
       "      <td>8.0</td>\n",
       "      <td>38.000000</td>\n",
       "      <td>38.000000</td>\n",
       "      <td>16.00000</td>\n",
       "      <td>3.000000</td>\n",
       "      <td>63.000000</td>\n",
       "      <td>1.000000</td>\n",
       "      <td>14.000000</td>\n",
       "      <td>13.000000</td>\n",
       "      <td>19.000000</td>\n",
       "    </tr>\n",
       "    <tr>\n",
       "      <th>25%</th>\n",
       "      <td>71.500000</td>\n",
       "      <td>8.0</td>\n",
       "      <td>44.750000</td>\n",
       "      <td>64.250000</td>\n",
       "      <td>60.25000</td>\n",
       "      <td>6.500000</td>\n",
       "      <td>79.500000</td>\n",
       "      <td>3.250000</td>\n",
       "      <td>24.500000</td>\n",
       "      <td>29.500000</td>\n",
       "      <td>50.500000</td>\n",
       "    </tr>\n",
       "    <tr>\n",
       "      <th>50%</th>\n",
       "      <td>83.000000</td>\n",
       "      <td>8.0</td>\n",
       "      <td>48.500000</td>\n",
       "      <td>90.500000</td>\n",
       "      <td>106.00000</td>\n",
       "      <td>10.000000</td>\n",
       "      <td>92.500000</td>\n",
       "      <td>5.000000</td>\n",
       "      <td>29.500000</td>\n",
       "      <td>49.000000</td>\n",
       "      <td>70.500000</td>\n",
       "    </tr>\n",
       "    <tr>\n",
       "      <th>75%</th>\n",
       "      <td>87.250000</td>\n",
       "      <td>8.0</td>\n",
       "      <td>51.000000</td>\n",
       "      <td>112.500000</td>\n",
       "      <td>143.75000</td>\n",
       "      <td>32.000000</td>\n",
       "      <td>102.500000</td>\n",
       "      <td>7.500000</td>\n",
       "      <td>33.750000</td>\n",
       "      <td>66.000000</td>\n",
       "      <td>81.750000</td>\n",
       "    </tr>\n",
       "    <tr>\n",
       "      <th>max</th>\n",
       "      <td>91.000000</td>\n",
       "      <td>8.0</td>\n",
       "      <td>54.000000</td>\n",
       "      <td>126.000000</td>\n",
       "      <td>164.00000</td>\n",
       "      <td>54.000000</td>\n",
       "      <td>110.000000</td>\n",
       "      <td>12.000000</td>\n",
       "      <td>42.000000</td>\n",
       "      <td>75.000000</td>\n",
       "      <td>87.000000</td>\n",
       "    </tr>\n",
       "  </tbody>\n",
       "</table>\n",
       "</div>"
      ],
      "text/plain": [
       "platform        3DS   DS         PC         PS3        PS4        PSP  \\\n",
       "count      4.000000  1.0   4.000000    4.000000    4.00000   3.000000   \n",
       "mean      75.750000  8.0  47.250000   86.250000   98.00000  22.333333   \n",
       "std       20.336748  NaN   6.800735   38.973281   66.15638  27.646579   \n",
       "min       46.000000  8.0  38.000000   38.000000   16.00000   3.000000   \n",
       "25%       71.500000  8.0  44.750000   64.250000   60.25000   6.500000   \n",
       "50%       83.000000  8.0  48.500000   90.500000  106.00000  10.000000   \n",
       "75%       87.250000  8.0  51.000000  112.500000  143.75000  32.000000   \n",
       "max       91.000000  8.0  54.000000  126.000000  164.00000  54.000000   \n",
       "\n",
       "platform         PSV        Wii       WiiU       X360       XOne  \n",
       "count       4.000000   4.000000   4.000000   4.000000   4.000000  \n",
       "mean       89.500000   5.750000  28.750000  46.500000  61.750000  \n",
       "std        20.436895   4.645787  11.528949  27.922512  30.543685  \n",
       "min        63.000000   1.000000  14.000000  13.000000  19.000000  \n",
       "25%        79.500000   3.250000  24.500000  29.500000  50.500000  \n",
       "50%        92.500000   5.000000  29.500000  49.000000  70.500000  \n",
       "75%       102.500000   7.500000  33.750000  66.000000  81.750000  \n",
       "max       110.000000  12.000000  42.000000  75.000000  87.000000  "
      ]
     },
     "execution_count": 42,
     "metadata": {},
     "output_type": "execute_result"
    }
   ],
   "source": [
    "top_platfoms_actually.describe()"
   ]
  },
  {
   "cell_type": "markdown",
   "id": "7c2c7935",
   "metadata": {},
   "source": [
    "После анализа графика с усами мы видим,  что основной доход платформ приносят выбросы.Они же являются хитами  платформ.Наибольшее количество хитов в акутальный период вышло на платформах PS3 и PS4"
   ]
  },
  {
   "cell_type": "markdown",
   "id": "ecebca27",
   "metadata": {},
   "source": [
    " #### 3.5 •\tПосмотрите, как влияют на продажи внутри одной популярной платформы отзывы пользователей и критиков. Постройте диаграмму рассеяния и посчитайте корреляцию между отзывами и продажами. Сформулируйте выводы."
   ]
  },
  {
   "cell_type": "code",
   "execution_count": 43,
   "id": "8de7aaaf",
   "metadata": {},
   "outputs": [
    {
     "data": {
      "text/html": [
       "<div>\n",
       "<style scoped>\n",
       "    .dataframe tbody tr th:only-of-type {\n",
       "        vertical-align: middle;\n",
       "    }\n",
       "\n",
       "    .dataframe tbody tr th {\n",
       "        vertical-align: top;\n",
       "    }\n",
       "\n",
       "    .dataframe thead th {\n",
       "        text-align: right;\n",
       "    }\n",
       "</style>\n",
       "<table border=\"1\" class=\"dataframe\">\n",
       "  <thead>\n",
       "    <tr style=\"text-align: right;\">\n",
       "      <th></th>\n",
       "      <th>name</th>\n",
       "      <th>platform</th>\n",
       "      <th>year_of_release</th>\n",
       "      <th>genre</th>\n",
       "      <th>na_sales</th>\n",
       "      <th>eu_sales</th>\n",
       "      <th>jp_sales</th>\n",
       "      <th>other_sales</th>\n",
       "      <th>critic_score</th>\n",
       "      <th>user_score</th>\n",
       "      <th>rating</th>\n",
       "      <th>total_sales</th>\n",
       "    </tr>\n",
       "  </thead>\n",
       "  <tbody>\n",
       "    <tr>\n",
       "      <th>16</th>\n",
       "      <td>Grand Theft Auto V</td>\n",
       "      <td>PS3</td>\n",
       "      <td>2013</td>\n",
       "      <td>Action</td>\n",
       "      <td>7.02</td>\n",
       "      <td>9.09</td>\n",
       "      <td>0.98</td>\n",
       "      <td>3.96</td>\n",
       "      <td>97.0</td>\n",
       "      <td>8.2</td>\n",
       "      <td>M</td>\n",
       "      <td>21.05</td>\n",
       "    </tr>\n",
       "    <tr>\n",
       "      <th>69</th>\n",
       "      <td>Call of Duty: Ghosts</td>\n",
       "      <td>PS3</td>\n",
       "      <td>2013</td>\n",
       "      <td>Shooter</td>\n",
       "      <td>4.10</td>\n",
       "      <td>3.63</td>\n",
       "      <td>0.38</td>\n",
       "      <td>1.25</td>\n",
       "      <td>71.0</td>\n",
       "      <td>2.6</td>\n",
       "      <td>M</td>\n",
       "      <td>9.36</td>\n",
       "    </tr>\n",
       "    <tr>\n",
       "      <th>126</th>\n",
       "      <td>FIFA 14</td>\n",
       "      <td>PS3</td>\n",
       "      <td>2013</td>\n",
       "      <td>Sports</td>\n",
       "      <td>0.78</td>\n",
       "      <td>4.24</td>\n",
       "      <td>0.07</td>\n",
       "      <td>1.37</td>\n",
       "      <td>86.0</td>\n",
       "      <td>4.3</td>\n",
       "      <td>E</td>\n",
       "      <td>6.46</td>\n",
       "    </tr>\n",
       "    <tr>\n",
       "      <th>149</th>\n",
       "      <td>The Last of Us</td>\n",
       "      <td>PS3</td>\n",
       "      <td>2013</td>\n",
       "      <td>Action</td>\n",
       "      <td>2.41</td>\n",
       "      <td>2.18</td>\n",
       "      <td>0.28</td>\n",
       "      <td>0.99</td>\n",
       "      <td>95.0</td>\n",
       "      <td>9.1</td>\n",
       "      <td>M</td>\n",
       "      <td>5.86</td>\n",
       "    </tr>\n",
       "    <tr>\n",
       "      <th>180</th>\n",
       "      <td>Minecraft</td>\n",
       "      <td>PS3</td>\n",
       "      <td>2014</td>\n",
       "      <td>Misc</td>\n",
       "      <td>2.03</td>\n",
       "      <td>2.37</td>\n",
       "      <td>0.00</td>\n",
       "      <td>0.87</td>\n",
       "      <td>NaN</td>\n",
       "      <td>NaN</td>\n",
       "      <td>NaN</td>\n",
       "      <td>5.27</td>\n",
       "    </tr>\n",
       "  </tbody>\n",
       "</table>\n",
       "</div>"
      ],
      "text/plain": [
       "                     name platform  year_of_release    genre  na_sales  \\\n",
       "16     Grand Theft Auto V      PS3             2013   Action      7.02   \n",
       "69   Call of Duty: Ghosts      PS3             2013  Shooter      4.10   \n",
       "126               FIFA 14      PS3             2013   Sports      0.78   \n",
       "149        The Last of Us      PS3             2013   Action      2.41   \n",
       "180             Minecraft      PS3             2014     Misc      2.03   \n",
       "\n",
       "     eu_sales  jp_sales  other_sales  critic_score  user_score rating  \\\n",
       "16       9.09      0.98         3.96          97.0         8.2      M   \n",
       "69       3.63      0.38         1.25          71.0         2.6      M   \n",
       "126      4.24      0.07         1.37          86.0         4.3      E   \n",
       "149      2.18      0.28         0.99          95.0         9.1      M   \n",
       "180      2.37      0.00         0.87           NaN         NaN    NaN   \n",
       "\n",
       "     total_sales  \n",
       "16         21.05  \n",
       "69          9.36  \n",
       "126         6.46  \n",
       "149         5.86  \n",
       "180         5.27  "
      ]
     },
     "metadata": {},
     "output_type": "display_data"
    }
   ],
   "source": [
    "data_prediction_PS3  = data_prediction[data_prediction['platform'].isin(['PS3'])]\n",
    "display (data_prediction_PS3.head())"
   ]
  },
  {
   "cell_type": "code",
   "execution_count": 44,
   "id": "718a9be4",
   "metadata": {},
   "outputs": [
    {
     "data": {
      "text/plain": [
       "<AxesSubplot:xlabel='critic_score', ylabel='total_sales'>"
      ]
     },
     "execution_count": 44,
     "metadata": {},
     "output_type": "execute_result"
    },
    {
     "data": {
      "image/png": "[encoded data removed]",
      "text/plain": [
       "<Figure size 432x288 with 1 Axes>"
      ]
     },
     "metadata": {
      "needs_background": "light"
     },
     "output_type": "display_data"
    }
   ],
   "source": [
    "data_prediction_PS3.plot(x ='critic_score', y='total_sales', kind='scatter',color = 'skyblue')"
   ]
  },
  {
   "cell_type": "code",
   "execution_count": 45,
   "id": "d2e7eaf1",
   "metadata": {},
   "outputs": [
    {
     "name": "stdout",
     "output_type": "stream",
     "text": [
      "Коэффициент корреляции Пирсона между оценками критиков и продажами для платформы PS3: 0.3342853393371919\n"
     ]
    }
   ],
   "source": [
    "r1 = data_prediction_PS3['critic_score'].corr(data_prediction_PS3['total_sales'])\n",
    "print('Коэффициент корреляции Пирсона между оценками критиков и продажами для платформы PS3:',r1)"
   ]
  },
  {
   "cell_type": "code",
   "execution_count": 46,
   "id": "f26bafc6",
   "metadata": {},
   "outputs": [
    {
     "data": {
      "text/plain": [
       "<AxesSubplot:xlabel='user_score', ylabel='total_sales'>"
      ]
     },
     "execution_count": 46,
     "metadata": {},
     "output_type": "execute_result"
    },
    {
     "data": {
      "image/png": "[encoded data removed]",
      "text/plain": [
       "<Figure size 432x288 with 1 Axes>"
      ]
     },
     "metadata": {
      "needs_background": "light"
     },
     "output_type": "display_data"
    }
   ],
   "source": [
    "data_prediction_PS3.plot(x ='user_score', y='total_sales', kind='scatter',color = 'skyblue')"
   ]
  },
  {
   "cell_type": "code",
   "execution_count": 47,
   "id": "62f35caf",
   "metadata": {},
   "outputs": [
    {
     "name": "stdout",
     "output_type": "stream",
     "text": [
      "Коэффициент корреляции Пирсона между оценками пользователей и продажами для платформы PS3: 0.0023944027357566925\n"
     ]
    }
   ],
   "source": [
    "r = data_prediction_PS3['user_score'].corr(data_prediction_PS3['total_sales'])\n",
    "print('Коэффициент корреляции Пирсона между оценками пользователей и продажами для платформы PS3:',r)"
   ]
  },
  {
   "cell_type": "markdown",
   "id": "a111359a",
   "metadata": {},
   "source": [
    "После расчета коэффицента корреляции мы видим, что на платформе PS3 практически отсувует зависимость между продажами и оценками пользователей (0.01) и наблюдается слабая связь зависимость между продажами и оценками  критиков (0.38)"
   ]
  },
  {
   "cell_type": "markdown",
   "id": "bf17cec7",
   "metadata": {},
   "source": [
    " #### 3.6 •\tСоотнесите выводы с продажами игр на других платформах."
   ]
  },
  {
   "cell_type": "code",
   "execution_count": 48,
   "id": "1c50244e",
   "metadata": {},
   "outputs": [
    {
     "data": {
      "text/plain": [
       "<AxesSubplot:xlabel='user_score', ylabel='critic_score'>"
      ]
     },
     "execution_count": 48,
     "metadata": {},
     "output_type": "execute_result"
    },
    {
     "data": {
      "image/png": "[encoded data removed]",
      "text/plain": [
       "<Figure size 432x288 with 2 Axes>"
      ]
     },
     "metadata": {
      "needs_background": "light"
     },
     "output_type": "display_data"
    }
   ],
   "source": [
    "data_prediction['critic_score'] = data_prediction['critic_score']/10\n",
    "data_prediction.plot(x ='user_score', y='critic_score',kind = 'hexbin',sharex = False, grid = True )"
   ]
  },
  {
   "cell_type": "code",
   "execution_count": 49,
   "id": "dc3d23f6",
   "metadata": {},
   "outputs": [
    {
     "name": "stdout",
     "output_type": "stream",
     "text": [
      "Коэффициент корреляции Пирсона между оценками пользователей и оценками критиков по всем платформам: -0.0026078133545982744\n"
     ]
    }
   ],
   "source": [
    "r = data_prediction['user_score'].corr(data_prediction['total_sales'])\n",
    "print('Коэффициент корреляции Пирсона между оценками пользователей и оценками критиков по всем платформам:', r)"
   ]
  },
  {
   "cell_type": "markdown",
   "id": "86dc909c",
   "metadata": {},
   "source": [
    "Сформировав график hitmap мы видим, что в целом совпадают оценки критиков и пользователей . Мы привели оценки критиков к тому же разряду, что и оценки пользователей (поделила на 10) и из этого мы видим, что наиболее популярные игры имеют оценку 8 у критиков и. пользователей и очень небольшое смещение есть в играх, которые получили высокие оценки от критиков и оценки более низкие от пользователей. Коэффицент корреляции показывает, что зависимости практически нет между оценками критиков и пользотвателей (0.03)"
   ]
  },
  {
   "cell_type": "code",
   "execution_count": 50,
   "id": "371050c1",
   "metadata": {},
   "outputs": [
    {
     "data": {
      "image/png": "[encoded data removed]",
      "text/plain": [
       "<Figure size 1440x1080 with 14 Axes>"
      ]
     },
     "metadata": {
      "needs_background": "light"
     },
     "output_type": "display_data"
    }
   ],
   "source": [
    "platforms = data_prediction[~data_prediction['platform'].isin(['PS3', 'PSP', 'Wii'])]['platform'].unique()\n",
    "fig, axs = plt.subplots(7, 2, gridspec_kw = dict(left=0.1, right=0.9,bottom=0.1, top=1.9), figsize=(20, 15))\n",
    "for i in range(7):\n",
    "    sc_g = data_prediction[data_prediction['platform'] == platforms[i]]\n",
    "    \n",
    "    sc_g.plot(\n",
    "      kind='scatter',\n",
    "      x='critic_score',\n",
    "      y='total_sales',\n",
    "      title = 'Зависимость продаж от оценки критиков, {}'.format(platforms[i]),\n",
    "      ax=axs[i, 0],color = 'skyblue'\n",
    "      )\n",
    " \n",
    "    sc_g.plot(\n",
    "      kind='scatter',\n",
    "      x='user_score',\n",
    "      y='total_sales',\n",
    "      title = 'Зависимость продаж от оценки пользователей, {}'.format(platforms[i]), \n",
    "      ax=axs[i, 1],color = 'green'\n",
    "      )\n",
    "plt.show()"
   ]
  },
  {
   "cell_type": "markdown",
   "id": "4f5d949b",
   "metadata": {},
   "source": [
    "Видим, что по другим платфорам картина схожая -- низкая зависимоть продаж от оценок пользователей и небольшая зависимость в некоторых платформах между оценками критиков и продажами."
   ]
  },
  {
   "cell_type": "markdown",
   "id": "08014c5f",
   "metadata": {},
   "source": [
    "\n",
    "\n",
    " #### 3.7 Посмотрите на общее распределение игр по жанрам. Что можно сказать о самых прибыльных жанрах? Выделяются ли жанры с высокими и низкими продажами?"
   ]
  },
  {
   "cell_type": "code",
   "execution_count": 51,
   "id": "f242a591",
   "metadata": {},
   "outputs": [
    {
     "data": {
      "text/html": [
       "<div>\n",
       "<style scoped>\n",
       "    .dataframe tbody tr th:only-of-type {\n",
       "        vertical-align: middle;\n",
       "    }\n",
       "\n",
       "    .dataframe tbody tr th {\n",
       "        vertical-align: top;\n",
       "    }\n",
       "\n",
       "    .dataframe thead th {\n",
       "        text-align: right;\n",
       "    }\n",
       "</style>\n",
       "<table border=\"1\" class=\"dataframe\">\n",
       "  <thead>\n",
       "    <tr style=\"text-align: right;\">\n",
       "      <th></th>\n",
       "      <th>total_sales</th>\n",
       "    </tr>\n",
       "    <tr>\n",
       "      <th>genre</th>\n",
       "      <th></th>\n",
       "    </tr>\n",
       "  </thead>\n",
       "  <tbody>\n",
       "    <tr>\n",
       "      <th>Shooter</th>\n",
       "      <td>1.245882</td>\n",
       "    </tr>\n",
       "    <tr>\n",
       "      <th>Sports</th>\n",
       "      <td>0.703972</td>\n",
       "    </tr>\n",
       "    <tr>\n",
       "      <th>Platform</th>\n",
       "      <td>0.576081</td>\n",
       "    </tr>\n",
       "    <tr>\n",
       "      <th>Role-Playing</th>\n",
       "      <td>0.499623</td>\n",
       "    </tr>\n",
       "    <tr>\n",
       "      <th>Racing</th>\n",
       "      <td>0.469294</td>\n",
       "    </tr>\n",
       "    <tr>\n",
       "      <th>Fighting</th>\n",
       "      <td>0.441375</td>\n",
       "    </tr>\n",
       "    <tr>\n",
       "      <th>Action</th>\n",
       "      <td>0.420196</td>\n",
       "    </tr>\n",
       "    <tr>\n",
       "      <th>Misc</th>\n",
       "      <td>0.405290</td>\n",
       "    </tr>\n",
       "    <tr>\n",
       "      <th>Simulation</th>\n",
       "      <td>0.350968</td>\n",
       "    </tr>\n",
       "    <tr>\n",
       "      <th>Puzzle</th>\n",
       "      <td>0.186471</td>\n",
       "    </tr>\n",
       "    <tr>\n",
       "      <th>Strategy</th>\n",
       "      <td>0.180000</td>\n",
       "    </tr>\n",
       "    <tr>\n",
       "      <th>Adventure</th>\n",
       "      <td>0.096490</td>\n",
       "    </tr>\n",
       "  </tbody>\n",
       "</table>\n",
       "</div>"
      ],
      "text/plain": [
       "              total_sales\n",
       "genre                    \n",
       "Shooter          1.245882\n",
       "Sports           0.703972\n",
       "Platform         0.576081\n",
       "Role-Playing     0.499623\n",
       "Racing           0.469294\n",
       "Fighting         0.441375\n",
       "Action           0.420196\n",
       "Misc             0.405290\n",
       "Simulation       0.350968\n",
       "Puzzle           0.186471\n",
       "Strategy         0.180000\n",
       "Adventure        0.096490"
      ]
     },
     "metadata": {},
     "output_type": "display_data"
    },
    {
     "data": {
      "text/plain": [
       "<AxesSubplot:xlabel='genre'>"
      ]
     },
     "execution_count": 51,
     "metadata": {},
     "output_type": "execute_result"
    },
    {
     "data": {
      "image/png": "[encoded data removed]",
      "text/plain": [
       "<Figure size 432x288 with 1 Axes>"
      ]
     },
     "metadata": {
      "needs_background": "light"
     },
     "output_type": "display_data"
    }
   ],
   "source": [
    "top_genre = data_prediction.pivot_table (index = 'genre',\n",
    "                                        values = 'total_sales', \n",
    "                                        aggfunc = 'mean').sort_values(by = 'total_sales',ascending = False)\n",
    "\n",
    "display (top_genre)\n",
    "top_genre.plot( kind='bar',color = 'skyblue')"
   ]
  },
  {
   "cell_type": "markdown",
   "id": "70124f39",
   "metadata": {},
   "source": [
    "На диаграмме мы видим,  что самым прибыльным оказался жанр Shooter. Самые низкие продажиу жанров Puzzle,Adventure,Strategy."
   ]
  },
  {
   "cell_type": "markdown",
   "id": "f31bd5e9",
   "metadata": {},
   "source": [
    "### 4 Составьте портрет пользователя каждого региона"
   ]
  },
  {
   "cell_type": "markdown",
   "id": "7e4c773e",
   "metadata": {},
   "source": [
    "#### 4.1 Определите для пользователя каждого региона (NA, EU, JP):\n",
    "•\tСамые популярные платформы (топ-5). Опишите различия в долях продаж.\n"
   ]
  },
  {
   "cell_type": "code",
   "execution_count": 52,
   "id": "38c1bdd0",
   "metadata": {},
   "outputs": [
    {
     "data": {
      "text/html": [
       "<div>\n",
       "<style scoped>\n",
       "    .dataframe tbody tr th:only-of-type {\n",
       "        vertical-align: middle;\n",
       "    }\n",
       "\n",
       "    .dataframe tbody tr th {\n",
       "        vertical-align: top;\n",
       "    }\n",
       "\n",
       "    .dataframe thead th {\n",
       "        text-align: right;\n",
       "    }\n",
       "</style>\n",
       "<table border=\"1\" class=\"dataframe\">\n",
       "  <thead>\n",
       "    <tr style=\"text-align: right;\">\n",
       "      <th></th>\n",
       "      <th>name</th>\n",
       "      <th>platform</th>\n",
       "      <th>year_of_release</th>\n",
       "      <th>genre</th>\n",
       "      <th>na_sales</th>\n",
       "      <th>eu_sales</th>\n",
       "      <th>jp_sales</th>\n",
       "      <th>other_sales</th>\n",
       "      <th>critic_score</th>\n",
       "      <th>user_score</th>\n",
       "      <th>rating</th>\n",
       "      <th>total_sales</th>\n",
       "    </tr>\n",
       "  </thead>\n",
       "  <tbody>\n",
       "    <tr>\n",
       "      <th>16</th>\n",
       "      <td>Grand Theft Auto V</td>\n",
       "      <td>PS3</td>\n",
       "      <td>2013</td>\n",
       "      <td>Action</td>\n",
       "      <td>7.02</td>\n",
       "      <td>9.09</td>\n",
       "      <td>0.98</td>\n",
       "      <td>3.96</td>\n",
       "      <td>9.7</td>\n",
       "      <td>8.2</td>\n",
       "      <td>M</td>\n",
       "      <td>21.05</td>\n",
       "    </tr>\n",
       "    <tr>\n",
       "      <th>23</th>\n",
       "      <td>Grand Theft Auto V</td>\n",
       "      <td>X360</td>\n",
       "      <td>2013</td>\n",
       "      <td>Action</td>\n",
       "      <td>9.66</td>\n",
       "      <td>5.14</td>\n",
       "      <td>0.06</td>\n",
       "      <td>1.41</td>\n",
       "      <td>9.7</td>\n",
       "      <td>8.1</td>\n",
       "      <td>M</td>\n",
       "      <td>16.27</td>\n",
       "    </tr>\n",
       "    <tr>\n",
       "      <th>31</th>\n",
       "      <td>Call of Duty: Black Ops 3</td>\n",
       "      <td>PS4</td>\n",
       "      <td>2015</td>\n",
       "      <td>Shooter</td>\n",
       "      <td>6.03</td>\n",
       "      <td>5.86</td>\n",
       "      <td>0.36</td>\n",
       "      <td>2.38</td>\n",
       "      <td>NaN</td>\n",
       "      <td>NaN</td>\n",
       "      <td>NaN</td>\n",
       "      <td>14.63</td>\n",
       "    </tr>\n",
       "    <tr>\n",
       "      <th>33</th>\n",
       "      <td>Pokemon X/Pokemon Y</td>\n",
       "      <td>3DS</td>\n",
       "      <td>2013</td>\n",
       "      <td>Role-Playing</td>\n",
       "      <td>5.28</td>\n",
       "      <td>4.19</td>\n",
       "      <td>4.35</td>\n",
       "      <td>0.78</td>\n",
       "      <td>NaN</td>\n",
       "      <td>NaN</td>\n",
       "      <td>NaN</td>\n",
       "      <td>14.60</td>\n",
       "    </tr>\n",
       "    <tr>\n",
       "      <th>42</th>\n",
       "      <td>Grand Theft Auto V</td>\n",
       "      <td>PS4</td>\n",
       "      <td>2014</td>\n",
       "      <td>Action</td>\n",
       "      <td>3.96</td>\n",
       "      <td>6.31</td>\n",
       "      <td>0.38</td>\n",
       "      <td>1.97</td>\n",
       "      <td>9.7</td>\n",
       "      <td>8.3</td>\n",
       "      <td>M</td>\n",
       "      <td>12.62</td>\n",
       "    </tr>\n",
       "  </tbody>\n",
       "</table>\n",
       "</div>"
      ],
      "text/plain": [
       "                         name platform  year_of_release         genre  \\\n",
       "16         Grand Theft Auto V      PS3             2013        Action   \n",
       "23         Grand Theft Auto V     X360             2013        Action   \n",
       "31  Call of Duty: Black Ops 3      PS4             2015       Shooter   \n",
       "33        Pokemon X/Pokemon Y      3DS             2013  Role-Playing   \n",
       "42         Grand Theft Auto V      PS4             2014        Action   \n",
       "\n",
       "    na_sales  eu_sales  jp_sales  other_sales  critic_score  user_score  \\\n",
       "16      7.02      9.09      0.98         3.96           9.7         8.2   \n",
       "23      9.66      5.14      0.06         1.41           9.7         8.1   \n",
       "31      6.03      5.86      0.36         2.38           NaN         NaN   \n",
       "33      5.28      4.19      4.35         0.78           NaN         NaN   \n",
       "42      3.96      6.31      0.38         1.97           9.7         8.3   \n",
       "\n",
       "   rating  total_sales  \n",
       "16      M        21.05  \n",
       "23      M        16.27  \n",
       "31    NaN        14.63  \n",
       "33    NaN        14.60  \n",
       "42      M        12.62  "
      ]
     },
     "metadata": {},
     "output_type": "display_data"
    }
   ],
   "source": [
    "display (data_prediction.head())"
   ]
  },
  {
   "cell_type": "code",
   "execution_count": 53,
   "id": "57f6a09c",
   "metadata": {},
   "outputs": [
    {
     "data": {
      "text/html": [
       "<div>\n",
       "<style scoped>\n",
       "    .dataframe tbody tr th:only-of-type {\n",
       "        vertical-align: middle;\n",
       "    }\n",
       "\n",
       "    .dataframe tbody tr th {\n",
       "        vertical-align: top;\n",
       "    }\n",
       "\n",
       "    .dataframe thead th {\n",
       "        text-align: right;\n",
       "    }\n",
       "</style>\n",
       "<table border=\"1\" class=\"dataframe\">\n",
       "  <thead>\n",
       "    <tr style=\"text-align: right;\">\n",
       "      <th></th>\n",
       "      <th>total_sales</th>\n",
       "    </tr>\n",
       "    <tr>\n",
       "      <th>platform</th>\n",
       "      <th></th>\n",
       "    </tr>\n",
       "  </thead>\n",
       "  <tbody>\n",
       "    <tr>\n",
       "      <th>PS4</th>\n",
       "      <td>314.14</td>\n",
       "    </tr>\n",
       "    <tr>\n",
       "      <th>PS3</th>\n",
       "      <td>181.43</td>\n",
       "    </tr>\n",
       "    <tr>\n",
       "      <th>XOne</th>\n",
       "      <td>159.32</td>\n",
       "    </tr>\n",
       "    <tr>\n",
       "      <th>3DS</th>\n",
       "      <td>143.25</td>\n",
       "    </tr>\n",
       "    <tr>\n",
       "      <th>X360</th>\n",
       "      <td>136.80</td>\n",
       "    </tr>\n",
       "  </tbody>\n",
       "</table>\n",
       "</div>"
      ],
      "text/plain": [
       "          total_sales\n",
       "platform             \n",
       "PS4            314.14\n",
       "PS3            181.43\n",
       "XOne           159.32\n",
       "3DS            143.25\n",
       "X360           136.80"
      ]
     },
     "metadata": {},
     "output_type": "display_data"
    },
    {
     "data": {
      "text/plain": [
       "Text(0, 0.5, 'Продажи, млн')"
      ]
     },
     "execution_count": 53,
     "metadata": {},
     "output_type": "execute_result"
    },
    {
     "data": {
      "image/png": "[encoded data removed]",
      "text/plain": [
       "<Figure size 576x360 with 1 Axes>"
      ]
     },
     "metadata": {
      "needs_background": "light"
     },
     "output_type": "display_data"
    }
   ],
   "source": [
    "top_5_platfoms = data_prediction.pivot_table (index = 'platform',\n",
    "                                                     values = 'total_sales', \n",
    "                                                     aggfunc = 'sum').sort_values(by = 'total_sales',ascending = False)\n",
    "display(top_5_platfoms.head())\n",
    "\n",
    "top_5_platfoms.plot(kind='bar', figsize=(8, 5),color='skyblue')\n",
    "plt.title ('Популярность платформ')\n",
    "plt.xlabel ('Платформы')\n",
    "plt.ylabel ('Продажи, млн')"
   ]
  },
  {
   "cell_type": "code",
   "execution_count": 54,
   "id": "afae672b",
   "metadata": {},
   "outputs": [],
   "source": [
    "lst_top5 = ['PS3','X360','PS4','3DS','XOne']\n",
    "data_prediction_top5 = data_prediction.query(\"platform in @lst_top5\")"
   ]
  },
  {
   "cell_type": "code",
   "execution_count": 55,
   "id": "2a5d4876",
   "metadata": {},
   "outputs": [
    {
     "data": {
      "text/plain": [
       "Text(0, 0.5, 'Total sales, million of copies')"
      ]
     },
     "execution_count": 55,
     "metadata": {},
     "output_type": "execute_result"
    },
    {
     "data": {
      "image/png": "[encoded data removed]",
      "text/plain": [
       "<Figure size 1224x432 with 1 Axes>"
      ]
     },
     "metadata": {
      "needs_background": "light"
     },
     "output_type": "display_data"
    }
   ],
   "source": [
    "# создадим специальную таблицу\n",
    "# через функцию melt()\n",
    "# она позволит сделать названия столбцов значениями столбцов\n",
    "# это позволит сделать группировку на графике\n",
    "sales_region_platform_melt = pd.melt(data_prediction, id_vars=['platform'], value_vars=['eu_sales', 'na_sales', 'jp_sales'])\n",
    "\n",
    "# переименуем колонки\n",
    "sales_region_platform_melt.columns = ['platform', 'region', 'sales']\n",
    "\n",
    "# заменим значения регионов в новой колонке \n",
    "sales_region_platform_melt.replace({'eu_sales': 'Europe', 'jp_sales': 'Japan', 'na_sales': 'North America'}, inplace=True)\n",
    "\n",
    "plt.figure(figsize=(17,6))\n",
    "\n",
    "# построим столбчатый график, который отражает сумму значений\n",
    "sns.barplot(data = sales_region_platform_melt, x='region', y='sales', hue='platform', estimator=sum)\n",
    "sns.set_style(\"darkgrid\")\n",
    "\n",
    "plt.xlabel('Region')\n",
    "plt.ylabel('Total sales, million of copies')"
   ]
  },
  {
   "cell_type": "markdown",
   "id": "baf8b2ac",
   "metadata": {},
   "source": [
    "В Европе и Америке наиболее популярная платформа PS4.В Японии абсолютным лидером является платформа 3DS в Европе и Америке эта платформа показывает довольно средние результаты"
   ]
  },
  {
   "cell_type": "code",
   "execution_count": 57,
   "id": "dae69383",
   "metadata": {},
   "outputs": [
    {
     "data": {
      "text/html": [
       "<div>\n",
       "<style scoped>\n",
       "    .dataframe tbody tr th:only-of-type {\n",
       "        vertical-align: middle;\n",
       "    }\n",
       "\n",
       "    .dataframe tbody tr th {\n",
       "        vertical-align: top;\n",
       "    }\n",
       "\n",
       "    .dataframe thead th {\n",
       "        text-align: right;\n",
       "    }\n",
       "</style>\n",
       "<table border=\"1\" class=\"dataframe\">\n",
       "  <thead>\n",
       "    <tr style=\"text-align: right;\">\n",
       "      <th></th>\n",
       "      <th>name</th>\n",
       "      <th>platform</th>\n",
       "      <th>year_of_release</th>\n",
       "      <th>genre</th>\n",
       "      <th>na_sales</th>\n",
       "      <th>eu_sales</th>\n",
       "      <th>jp_sales</th>\n",
       "      <th>other_sales</th>\n",
       "      <th>critic_score</th>\n",
       "      <th>user_score</th>\n",
       "      <th>rating</th>\n",
       "      <th>total_sales</th>\n",
       "      <th>world_part</th>\n",
       "    </tr>\n",
       "  </thead>\n",
       "  <tbody>\n",
       "    <tr>\n",
       "      <th>16</th>\n",
       "      <td>Grand Theft Auto V</td>\n",
       "      <td>PS3</td>\n",
       "      <td>2013</td>\n",
       "      <td>Action</td>\n",
       "      <td>7.02</td>\n",
       "      <td>9.09</td>\n",
       "      <td>0.98</td>\n",
       "      <td>3.96</td>\n",
       "      <td>9.7</td>\n",
       "      <td>8.2</td>\n",
       "      <td>M</td>\n",
       "      <td>21.05</td>\n",
       "      <td>0.194055</td>\n",
       "    </tr>\n",
       "    <tr>\n",
       "      <th>23</th>\n",
       "      <td>Grand Theft Auto V</td>\n",
       "      <td>X360</td>\n",
       "      <td>2013</td>\n",
       "      <td>Action</td>\n",
       "      <td>9.66</td>\n",
       "      <td>5.14</td>\n",
       "      <td>0.06</td>\n",
       "      <td>1.41</td>\n",
       "      <td>9.7</td>\n",
       "      <td>8.1</td>\n",
       "      <td>M</td>\n",
       "      <td>16.27</td>\n",
       "      <td>0.146320</td>\n",
       "    </tr>\n",
       "    <tr>\n",
       "      <th>31</th>\n",
       "      <td>Call of Duty: Black Ops 3</td>\n",
       "      <td>PS4</td>\n",
       "      <td>2015</td>\n",
       "      <td>Shooter</td>\n",
       "      <td>6.03</td>\n",
       "      <td>5.86</td>\n",
       "      <td>0.36</td>\n",
       "      <td>2.38</td>\n",
       "      <td>NaN</td>\n",
       "      <td>NaN</td>\n",
       "      <td>NaN</td>\n",
       "      <td>14.63</td>\n",
       "      <td>0.336000</td>\n",
       "    </tr>\n",
       "    <tr>\n",
       "      <th>33</th>\n",
       "      <td>Pokemon X/Pokemon Y</td>\n",
       "      <td>3DS</td>\n",
       "      <td>2013</td>\n",
       "      <td>Role-Playing</td>\n",
       "      <td>5.28</td>\n",
       "      <td>4.19</td>\n",
       "      <td>4.35</td>\n",
       "      <td>0.78</td>\n",
       "      <td>NaN</td>\n",
       "      <td>NaN</td>\n",
       "      <td>NaN</td>\n",
       "      <td>14.60</td>\n",
       "      <td>0.153218</td>\n",
       "    </tr>\n",
       "    <tr>\n",
       "      <th>42</th>\n",
       "      <td>Grand Theft Auto V</td>\n",
       "      <td>PS4</td>\n",
       "      <td>2014</td>\n",
       "      <td>Action</td>\n",
       "      <td>3.96</td>\n",
       "      <td>6.31</td>\n",
       "      <td>0.38</td>\n",
       "      <td>1.97</td>\n",
       "      <td>9.7</td>\n",
       "      <td>8.3</td>\n",
       "      <td>M</td>\n",
       "      <td>12.62</td>\n",
       "      <td>0.336000</td>\n",
       "    </tr>\n",
       "  </tbody>\n",
       "</table>\n",
       "</div>"
      ],
      "text/plain": [
       "                         name platform  year_of_release         genre  \\\n",
       "16         Grand Theft Auto V      PS3             2013        Action   \n",
       "23         Grand Theft Auto V     X360             2013        Action   \n",
       "31  Call of Duty: Black Ops 3      PS4             2015       Shooter   \n",
       "33        Pokemon X/Pokemon Y      3DS             2013  Role-Playing   \n",
       "42         Grand Theft Auto V      PS4             2014        Action   \n",
       "\n",
       "    na_sales  eu_sales  jp_sales  other_sales  critic_score  user_score  \\\n",
       "16      7.02      9.09      0.98         3.96           9.7         8.2   \n",
       "23      9.66      5.14      0.06         1.41           9.7         8.1   \n",
       "31      6.03      5.86      0.36         2.38           NaN         NaN   \n",
       "33      5.28      4.19      4.35         0.78           NaN         NaN   \n",
       "42      3.96      6.31      0.38         1.97           9.7         8.3   \n",
       "\n",
       "   rating  total_sales  world_part  \n",
       "16      M        21.05    0.194055  \n",
       "23      M        16.27    0.146320  \n",
       "31    NaN        14.63    0.336000  \n",
       "33    NaN        14.60    0.153218  \n",
       "42      M        12.62    0.336000  "
      ]
     },
     "metadata": {},
     "output_type": "display_data"
    }
   ],
   "source": [
    "def res(platform):\n",
    "    data_prediction_top5[data_prediction_top5['platform'] == platform['platform']]['total_sales'].sum()\n",
    "    sales = data_prediction_top5[data_prediction_top5['platform'] == platform['platform']]['total_sales'].sum() / data_prediction_top5['total_sales'].sum()\n",
    "    return sales\n",
    "data_prediction_top5['world_part'] = data_prediction_top5.apply(res, axis=1)\n",
    "display(data_prediction_top5.head())"
   ]
  },
  {
   "cell_type": "code",
   "execution_count": 58,
   "id": "6f0ef822",
   "metadata": {},
   "outputs": [
    {
     "data": {
      "text/html": [
       "<div>\n",
       "<style scoped>\n",
       "    .dataframe tbody tr th:only-of-type {\n",
       "        vertical-align: middle;\n",
       "    }\n",
       "\n",
       "    .dataframe tbody tr th {\n",
       "        vertical-align: top;\n",
       "    }\n",
       "\n",
       "    .dataframe thead th {\n",
       "        text-align: right;\n",
       "    }\n",
       "</style>\n",
       "<table border=\"1\" class=\"dataframe\">\n",
       "  <thead>\n",
       "    <tr style=\"text-align: right;\">\n",
       "      <th></th>\n",
       "      <th>eu_sales</th>\n",
       "      <th>jp_sales</th>\n",
       "      <th>na_sales</th>\n",
       "      <th>total_sales</th>\n",
       "      <th>world_part</th>\n",
       "    </tr>\n",
       "    <tr>\n",
       "      <th>platform</th>\n",
       "      <th></th>\n",
       "      <th></th>\n",
       "      <th></th>\n",
       "      <th></th>\n",
       "      <th></th>\n",
       "    </tr>\n",
       "  </thead>\n",
       "  <tbody>\n",
       "    <tr>\n",
       "      <th>3DS</th>\n",
       "      <td>30.96</td>\n",
       "      <td>67.81</td>\n",
       "      <td>38.20</td>\n",
       "      <td>143.25</td>\n",
       "      <td>46.425172</td>\n",
       "    </tr>\n",
       "    <tr>\n",
       "      <th>PS3</th>\n",
       "      <td>67.81</td>\n",
       "      <td>23.35</td>\n",
       "      <td>63.50</td>\n",
       "      <td>181.43</td>\n",
       "      <td>66.949056</td>\n",
       "    </tr>\n",
       "    <tr>\n",
       "      <th>PS4</th>\n",
       "      <td>141.09</td>\n",
       "      <td>15.96</td>\n",
       "      <td>108.74</td>\n",
       "      <td>314.14</td>\n",
       "      <td>131.712067</td>\n",
       "    </tr>\n",
       "    <tr>\n",
       "      <th>X360</th>\n",
       "      <td>42.52</td>\n",
       "      <td>0.51</td>\n",
       "      <td>81.66</td>\n",
       "      <td>136.80</td>\n",
       "      <td>27.215436</td>\n",
       "    </tr>\n",
       "    <tr>\n",
       "      <th>XOne</th>\n",
       "      <td>51.59</td>\n",
       "      <td>0.34</td>\n",
       "      <td>93.12</td>\n",
       "      <td>159.32</td>\n",
       "      <td>42.090444</td>\n",
       "    </tr>\n",
       "  </tbody>\n",
       "</table>\n",
       "</div>"
      ],
      "text/plain": [
       "          eu_sales  jp_sales  na_sales  total_sales  world_part\n",
       "platform                                                       \n",
       "3DS          30.96     67.81     38.20       143.25   46.425172\n",
       "PS3          67.81     23.35     63.50       181.43   66.949056\n",
       "PS4         141.09     15.96    108.74       314.14  131.712067\n",
       "X360         42.52      0.51     81.66       136.80   27.215436\n",
       "XOne         51.59      0.34     93.12       159.32   42.090444"
      ]
     },
     "metadata": {},
     "output_type": "display_data"
    }
   ],
   "source": [
    "data_pivot_top5= data_prediction_top5.pivot_table (index = 'platform', \n",
    "                                                values = ['na_sales','eu_sales','jp_sales','total_sales','world_part'],\n",
    "                                                     aggfunc = 'sum')\n",
    "display(data_pivot_top5)"
   ]
  },
  {
   "cell_type": "code",
   "execution_count": 59,
   "id": "3e0b41fc",
   "metadata": {},
   "outputs": [
    {
     "data": {
      "text/html": [
       "<div>\n",
       "<style scoped>\n",
       "    .dataframe tbody tr th:only-of-type {\n",
       "        vertical-align: middle;\n",
       "    }\n",
       "\n",
       "    .dataframe tbody tr th {\n",
       "        vertical-align: top;\n",
       "    }\n",
       "\n",
       "    .dataframe thead th {\n",
       "        text-align: right;\n",
       "    }\n",
       "</style>\n",
       "<table border=\"1\" class=\"dataframe\">\n",
       "  <thead>\n",
       "    <tr style=\"text-align: right;\">\n",
       "      <th></th>\n",
       "      <th>eu_sales</th>\n",
       "      <th>jp_sales</th>\n",
       "      <th>na_sales</th>\n",
       "      <th>total_sales</th>\n",
       "      <th>world_part</th>\n",
       "    </tr>\n",
       "    <tr>\n",
       "      <th>platform</th>\n",
       "      <th></th>\n",
       "      <th></th>\n",
       "      <th></th>\n",
       "      <th></th>\n",
       "      <th></th>\n",
       "    </tr>\n",
       "  </thead>\n",
       "  <tbody>\n",
       "    <tr>\n",
       "      <th>PS4</th>\n",
       "      <td>141.09</td>\n",
       "      <td>15.96</td>\n",
       "      <td>108.74</td>\n",
       "      <td>314.14</td>\n",
       "      <td>0.288020</td>\n",
       "    </tr>\n",
       "    <tr>\n",
       "      <th>PS3</th>\n",
       "      <td>67.81</td>\n",
       "      <td>23.35</td>\n",
       "      <td>63.50</td>\n",
       "      <td>181.43</td>\n",
       "      <td>0.166344</td>\n",
       "    </tr>\n",
       "    <tr>\n",
       "      <th>XOne</th>\n",
       "      <td>51.59</td>\n",
       "      <td>0.34</td>\n",
       "      <td>93.12</td>\n",
       "      <td>159.32</td>\n",
       "      <td>0.146073</td>\n",
       "    </tr>\n",
       "    <tr>\n",
       "      <th>3DS</th>\n",
       "      <td>30.96</td>\n",
       "      <td>67.81</td>\n",
       "      <td>38.20</td>\n",
       "      <td>143.25</td>\n",
       "      <td>0.131339</td>\n",
       "    </tr>\n",
       "    <tr>\n",
       "      <th>X360</th>\n",
       "      <td>42.52</td>\n",
       "      <td>0.51</td>\n",
       "      <td>81.66</td>\n",
       "      <td>136.80</td>\n",
       "      <td>0.125425</td>\n",
       "    </tr>\n",
       "  </tbody>\n",
       "</table>\n",
       "</div>"
      ],
      "text/plain": [
       "          eu_sales  jp_sales  na_sales  total_sales  world_part\n",
       "platform                                                       \n",
       "PS4         141.09     15.96    108.74       314.14    0.288020\n",
       "PS3          67.81     23.35     63.50       181.43    0.166344\n",
       "XOne         51.59      0.34     93.12       159.32    0.146073\n",
       "3DS          30.96     67.81     38.20       143.25    0.131339\n",
       "X360         42.52      0.51     81.66       136.80    0.125425"
      ]
     },
     "metadata": {},
     "output_type": "display_data"
    }
   ],
   "source": [
    "data_pivot_top5['world_part'] = (\n",
    "    data_pivot_top5['total_sales'] / data_prediction['total_sales'].sum())\n",
    "display(data_pivot_top5.sort_values(by = 'world_part',ascending = False))"
   ]
  },
  {
   "cell_type": "markdown",
   "id": "3aa1331e",
   "metadata": {},
   "source": [
    " Самой популярной в мире платформой является PS4, доля продаж составляет почти 30 процентов от значений продаж  по всему миру."
   ]
  },
  {
   "cell_type": "markdown",
   "id": "9c8e716d",
   "metadata": {},
   "source": [
    "#### 4.2 Самые популярные жанры (топ-5). Поясните разницу."
   ]
  },
  {
   "cell_type": "code",
   "execution_count": 60,
   "id": "a5e2ea5e",
   "metadata": {},
   "outputs": [
    {
     "data": {
      "text/html": [
       "<div>\n",
       "<style scoped>\n",
       "    .dataframe tbody tr th:only-of-type {\n",
       "        vertical-align: middle;\n",
       "    }\n",
       "\n",
       "    .dataframe tbody tr th {\n",
       "        vertical-align: top;\n",
       "    }\n",
       "\n",
       "    .dataframe thead th {\n",
       "        text-align: right;\n",
       "    }\n",
       "</style>\n",
       "<table border=\"1\" class=\"dataframe\">\n",
       "  <thead>\n",
       "    <tr style=\"text-align: right;\">\n",
       "      <th></th>\n",
       "      <th>total_sales</th>\n",
       "    </tr>\n",
       "    <tr>\n",
       "      <th>genre</th>\n",
       "      <th></th>\n",
       "    </tr>\n",
       "  </thead>\n",
       "  <tbody>\n",
       "    <tr>\n",
       "      <th>Shooter</th>\n",
       "      <td>1.245882</td>\n",
       "    </tr>\n",
       "    <tr>\n",
       "      <th>Sports</th>\n",
       "      <td>0.703972</td>\n",
       "    </tr>\n",
       "    <tr>\n",
       "      <th>Platform</th>\n",
       "      <td>0.576081</td>\n",
       "    </tr>\n",
       "    <tr>\n",
       "      <th>Role-Playing</th>\n",
       "      <td>0.499623</td>\n",
       "    </tr>\n",
       "    <tr>\n",
       "      <th>Racing</th>\n",
       "      <td>0.469294</td>\n",
       "    </tr>\n",
       "  </tbody>\n",
       "</table>\n",
       "</div>"
      ],
      "text/plain": [
       "              total_sales\n",
       "genre                    \n",
       "Shooter          1.245882\n",
       "Sports           0.703972\n",
       "Platform         0.576081\n",
       "Role-Playing     0.499623\n",
       "Racing           0.469294"
      ]
     },
     "metadata": {},
     "output_type": "display_data"
    },
    {
     "data": {
      "text/plain": [
       "<AxesSubplot:xlabel='genre'>"
      ]
     },
     "execution_count": 60,
     "metadata": {},
     "output_type": "execute_result"
    },
    {
     "data": {
      "image/png": "[encoded data removed]",
      "text/plain": [
       "<Figure size 576x360 with 1 Axes>"
      ]
     },
     "metadata": {},
     "output_type": "display_data"
    }
   ],
   "source": [
    "top_5_genre = data_prediction.pivot_table (index = 'genre',\n",
    "                                                     values = 'total_sales', \n",
    "                                                     aggfunc = 'mean').sort_values(by = 'total_sales',ascending = False)\n",
    "display(top_5_genre.head())\n",
    "\n",
    "top_5_genre.plot(kind='bar', figsize=(8, 5),color='skyblue')"
   ]
  },
  {
   "cell_type": "code",
   "execution_count": 61,
   "id": "d8846021",
   "metadata": {},
   "outputs": [
    {
     "data": {
      "text/html": [
       "<div>\n",
       "<style scoped>\n",
       "    .dataframe tbody tr th:only-of-type {\n",
       "        vertical-align: middle;\n",
       "    }\n",
       "\n",
       "    .dataframe tbody tr th {\n",
       "        vertical-align: top;\n",
       "    }\n",
       "\n",
       "    .dataframe thead th {\n",
       "        text-align: right;\n",
       "    }\n",
       "</style>\n",
       "<table border=\"1\" class=\"dataframe\">\n",
       "  <thead>\n",
       "    <tr style=\"text-align: right;\">\n",
       "      <th></th>\n",
       "      <th>eu_sales</th>\n",
       "      <th>jp_sales</th>\n",
       "      <th>na_sales</th>\n",
       "    </tr>\n",
       "    <tr>\n",
       "      <th>genre</th>\n",
       "      <th></th>\n",
       "      <th></th>\n",
       "      <th></th>\n",
       "    </tr>\n",
       "  </thead>\n",
       "  <tbody>\n",
       "    <tr>\n",
       "      <th>Action</th>\n",
       "      <td>105.06</td>\n",
       "      <td>32.82</td>\n",
       "      <td>113.72</td>\n",
       "    </tr>\n",
       "    <tr>\n",
       "      <th>Adventure</th>\n",
       "      <td>6.97</td>\n",
       "      <td>3.17</td>\n",
       "      <td>6.41</td>\n",
       "    </tr>\n",
       "    <tr>\n",
       "      <th>Fighting</th>\n",
       "      <td>6.88</td>\n",
       "      <td>5.98</td>\n",
       "      <td>12.09</td>\n",
       "    </tr>\n",
       "    <tr>\n",
       "      <th>Misc</th>\n",
       "      <td>13.58</td>\n",
       "      <td>4.95</td>\n",
       "      <td>20.46</td>\n",
       "    </tr>\n",
       "    <tr>\n",
       "      <th>Platform</th>\n",
       "      <td>9.07</td>\n",
       "      <td>2.34</td>\n",
       "      <td>8.91</td>\n",
       "    </tr>\n",
       "    <tr>\n",
       "      <th>Puzzle</th>\n",
       "      <td>0.61</td>\n",
       "      <td>0.91</td>\n",
       "      <td>0.21</td>\n",
       "    </tr>\n",
       "    <tr>\n",
       "      <th>Racing</th>\n",
       "      <td>17.04</td>\n",
       "      <td>0.93</td>\n",
       "      <td>9.64</td>\n",
       "    </tr>\n",
       "    <tr>\n",
       "      <th>Role-Playing</th>\n",
       "      <td>32.70</td>\n",
       "      <td>42.50</td>\n",
       "      <td>42.39</td>\n",
       "    </tr>\n",
       "    <tr>\n",
       "      <th>Shooter</th>\n",
       "      <td>79.99</td>\n",
       "      <td>5.02</td>\n",
       "      <td>103.89</td>\n",
       "    </tr>\n",
       "    <tr>\n",
       "      <th>Simulation</th>\n",
       "      <td>4.93</td>\n",
       "      <td>4.48</td>\n",
       "      <td>2.85</td>\n",
       "    </tr>\n",
       "    <tr>\n",
       "      <th>Sports</th>\n",
       "      <td>56.38</td>\n",
       "      <td>3.68</td>\n",
       "      <td>63.64</td>\n",
       "    </tr>\n",
       "    <tr>\n",
       "      <th>Strategy</th>\n",
       "      <td>0.76</td>\n",
       "      <td>1.19</td>\n",
       "      <td>1.01</td>\n",
       "    </tr>\n",
       "  </tbody>\n",
       "</table>\n",
       "</div>"
      ],
      "text/plain": [
       "              eu_sales  jp_sales  na_sales\n",
       "genre                                     \n",
       "Action          105.06     32.82    113.72\n",
       "Adventure         6.97      3.17      6.41\n",
       "Fighting          6.88      5.98     12.09\n",
       "Misc             13.58      4.95     20.46\n",
       "Platform          9.07      2.34      8.91\n",
       "Puzzle            0.61      0.91      0.21\n",
       "Racing           17.04      0.93      9.64\n",
       "Role-Playing     32.70     42.50     42.39\n",
       "Shooter          79.99      5.02    103.89\n",
       "Simulation        4.93      4.48      2.85\n",
       "Sports           56.38      3.68     63.64\n",
       "Strategy          0.76      1.19      1.01"
      ]
     },
     "metadata": {},
     "output_type": "display_data"
    }
   ],
   "source": [
    "data_pivot_top5_region= data_prediction_top5.pivot_table (index = ['genre'], \n",
    "                                                values = ['na_sales','eu_sales','jp_sales'],\n",
    "                                                     aggfunc = 'sum')\n",
    "display(data_pivot_top5_region)"
   ]
  },
  {
   "cell_type": "code",
   "execution_count": 62,
   "id": "5278d4d9",
   "metadata": {},
   "outputs": [
    {
     "data": {
      "text/plain": [
       "<matplotlib.legend.Legend at 0x7f7f49925d30>"
      ]
     },
     "execution_count": 62,
     "metadata": {},
     "output_type": "execute_result"
    },
    {
     "data": {
      "image/png": "[encoded data removed]",
      "text/plain": [
       "<Figure size 1152x432 with 1 Axes>"
      ]
     },
     "metadata": {},
     "output_type": "display_data"
    }
   ],
   "source": [
    "data_pivot_top5_region.plot(kind='bar', figsize=(16, 6))\n",
    "plt.title ('График зависимости популярности жанров')\n",
    "plt.xlabel ('Жанр')\n",
    "plt.ylabel ('Кол-во игр')\n",
    "plt.legend(title = \"Популярность жанров в регионах\")"
   ]
  },
  {
   "cell_type": "markdown",
   "id": "c8782049",
   "metadata": {},
   "source": [
    "В Америке большей популярностью пользуются жарны Action,Shooter,Sports.В Европе ситуация такая  же,а \n",
    "вот в Японии наиболее популярные жанры Role-Playing и Action"
   ]
  },
  {
   "cell_type": "markdown",
   "id": "88a227dc",
   "metadata": {},
   "source": [
    "#### 4.3. Влияет ли рейтинг ESRB на продажи в отдельном регионе?"
   ]
  },
  {
   "cell_type": "code",
   "execution_count": 63,
   "id": "4afa9b70",
   "metadata": {},
   "outputs": [
    {
     "data": {
      "text/plain": [
       "0       NaN\n",
       "1       NaN\n",
       "2       NaN\n",
       "3       NaN\n",
       "4       NaN\n",
       "         ..\n",
       "16710   NaN\n",
       "16711   NaN\n",
       "16712   NaN\n",
       "16713   NaN\n",
       "16714   NaN\n",
       "Name: rating, Length: 16444, dtype: float64"
      ]
     },
     "execution_count": 63,
     "metadata": {},
     "output_type": "execute_result"
    }
   ],
   "source": [
    "pd.to_numeric(data['rating'], errors = 'coerce')"
   ]
  },
  {
   "cell_type": "markdown",
   "id": "968db167",
   "metadata": {},
   "source": [
    "Заменим все пропуски в столбце рейтинга на Z. Что означет \"рейтинг не определен\""
   ]
  },
  {
   "cell_type": "code",
   "execution_count": 64,
   "id": "3351e3e9",
   "metadata": {},
   "outputs": [],
   "source": [
    "data_prediction['rating'] = data_prediction['rating'].fillna(value = 'Z')"
   ]
  },
  {
   "cell_type": "code",
   "execution_count": 65,
   "id": "7c5656a8",
   "metadata": {
    "scrolled": false
   },
   "outputs": [
    {
     "data": {
      "text/html": [
       "<div>\n",
       "<style scoped>\n",
       "    .dataframe tbody tr th:only-of-type {\n",
       "        vertical-align: middle;\n",
       "    }\n",
       "\n",
       "    .dataframe tbody tr th {\n",
       "        vertical-align: top;\n",
       "    }\n",
       "\n",
       "    .dataframe thead th {\n",
       "        text-align: right;\n",
       "    }\n",
       "</style>\n",
       "<table border=\"1\" class=\"dataframe\">\n",
       "  <thead>\n",
       "    <tr style=\"text-align: right;\">\n",
       "      <th></th>\n",
       "      <th>eu_sales</th>\n",
       "      <th>jp_sales</th>\n",
       "      <th>na_sales</th>\n",
       "    </tr>\n",
       "    <tr>\n",
       "      <th>rating</th>\n",
       "      <th></th>\n",
       "      <th></th>\n",
       "      <th></th>\n",
       "    </tr>\n",
       "  </thead>\n",
       "  <tbody>\n",
       "    <tr>\n",
       "      <th>E</th>\n",
       "      <td>83.36</td>\n",
       "      <td>15.14</td>\n",
       "      <td>79.05</td>\n",
       "    </tr>\n",
       "    <tr>\n",
       "      <th>E10+</th>\n",
       "      <td>42.69</td>\n",
       "      <td>5.89</td>\n",
       "      <td>54.24</td>\n",
       "    </tr>\n",
       "    <tr>\n",
       "      <th>M</th>\n",
       "      <td>145.32</td>\n",
       "      <td>14.11</td>\n",
       "      <td>165.21</td>\n",
       "    </tr>\n",
       "    <tr>\n",
       "      <th>T</th>\n",
       "      <td>41.95</td>\n",
       "      <td>20.59</td>\n",
       "      <td>49.79</td>\n",
       "    </tr>\n",
       "    <tr>\n",
       "      <th>Z</th>\n",
       "      <td>78.91</td>\n",
       "      <td>85.05</td>\n",
       "      <td>89.42</td>\n",
       "    </tr>\n",
       "  </tbody>\n",
       "</table>\n",
       "</div>"
      ],
      "text/plain": [
       "        eu_sales  jp_sales  na_sales\n",
       "rating                              \n",
       "E          83.36     15.14     79.05\n",
       "E10+       42.69      5.89     54.24\n",
       "M         145.32     14.11    165.21\n",
       "T          41.95     20.59     49.79\n",
       "Z          78.91     85.05     89.42"
      ]
     },
     "metadata": {},
     "output_type": "display_data"
    },
    {
     "data": {
      "text/plain": [
       "<AxesSubplot:xlabel='rating'>"
      ]
     },
     "execution_count": 65,
     "metadata": {},
     "output_type": "execute_result"
    },
    {
     "data": {
      "image/png": "[encoded data removed]",
      "text/plain": [
       "<Figure size 576x360 with 1 Axes>"
      ]
     },
     "metadata": {},
     "output_type": "display_data"
    }
   ],
   "source": [
    "ESRB_sale = data_prediction.pivot_table (index = 'rating',\n",
    "                                                     values = ['na_sales','eu_sales','jp_sales'],\n",
    "                                                     aggfunc = 'sum')\n",
    "display(ESRB_sale.head())\n",
    "\n",
    "ESRB_sale.plot(kind='bar', figsize=(8, 5))"
   ]
  },
  {
   "cell_type": "markdown",
   "id": "c84fcb41",
   "metadata": {},
   "source": [
    "Мы видим на диаграмме, что наиболее популярным жанром в Америке и Европе является категория М -- «Mature»(для взрослых) , далее Е --  «Everyone» (для всех) , Т -- «Teen» (подростки). Стабильный доход приносят игры без рейтинга. В Японии,например,данная категория игр значительно опережает другие."
   ]
  },
  {
   "cell_type": "markdown",
   "id": "13f76ec4",
   "metadata": {},
   "source": [
    "### 5 Проверьте гипотезы\n"
   ]
  },
  {
   "cell_type": "markdown",
   "id": "58bed1fd",
   "metadata": {},
   "source": [
    "#### 5.1.Средние пользовательские рейтинги платформ Xbox One и PC одинаковые?"
   ]
  },
  {
   "cell_type": "markdown",
   "id": "3dcfba18",
   "metadata": {},
   "source": [
    "#### Нулевая гипотеза: средний рейтинг пользователй платформ XOne и PC равен.\n",
    "#### Альтернативная гипотеза: средний рейтинг пользователй платформ XOne и PC не равен."
   ]
  },
  {
   "cell_type": "code",
   "execution_count": 66,
   "id": "25888c69",
   "metadata": {},
   "outputs": [],
   "source": [
    "lst_top2 = ['XOne','PC']\n",
    "data_rating = data_prediction.query(\"platform in @lst_top2\")"
   ]
  },
  {
   "cell_type": "code",
   "execution_count": 67,
   "id": "5ef41c34",
   "metadata": {},
   "outputs": [
    {
     "data": {
      "text/html": [
       "<div>\n",
       "<style scoped>\n",
       "    .dataframe tbody tr th:only-of-type {\n",
       "        vertical-align: middle;\n",
       "    }\n",
       "\n",
       "    .dataframe tbody tr th {\n",
       "        vertical-align: top;\n",
       "    }\n",
       "\n",
       "    .dataframe thead tr th {\n",
       "        text-align: left;\n",
       "    }\n",
       "\n",
       "    .dataframe thead tr:last-of-type th {\n",
       "        text-align: right;\n",
       "    }\n",
       "</style>\n",
       "<table border=\"1\" class=\"dataframe\">\n",
       "  <thead>\n",
       "    <tr>\n",
       "      <th></th>\n",
       "      <th>mean</th>\n",
       "      <th>var</th>\n",
       "      <th>std</th>\n",
       "    </tr>\n",
       "    <tr>\n",
       "      <th></th>\n",
       "      <th>user_score</th>\n",
       "      <th>user_score</th>\n",
       "      <th>user_score</th>\n",
       "    </tr>\n",
       "    <tr>\n",
       "      <th>platform</th>\n",
       "      <th></th>\n",
       "      <th></th>\n",
       "      <th></th>\n",
       "    </tr>\n",
       "  </thead>\n",
       "  <tbody>\n",
       "    <tr>\n",
       "      <th>PC</th>\n",
       "      <td>6.0</td>\n",
       "      <td>3.0</td>\n",
       "      <td>2.0</td>\n",
       "    </tr>\n",
       "    <tr>\n",
       "      <th>XOne</th>\n",
       "      <td>7.0</td>\n",
       "      <td>2.0</td>\n",
       "      <td>1.0</td>\n",
       "    </tr>\n",
       "  </tbody>\n",
       "</table>\n",
       "</div>"
      ],
      "text/plain": [
       "               mean        var        std\n",
       "         user_score user_score user_score\n",
       "platform                                 \n",
       "PC              6.0        3.0        2.0\n",
       "XOne            7.0        2.0        1.0"
      ]
     },
     "metadata": {},
     "output_type": "display_data"
    }
   ],
   "source": [
    "data_rating_platform = data_rating.pivot_table(index = 'platform', \n",
    "                 values= ['user_score'], \n",
    "                 aggfunc= ['mean', 'var','std'])\n",
    "display (data_rating_platform.round().head())"
   ]
  },
  {
   "cell_type": "markdown",
   "id": "f935cd5b",
   "metadata": {},
   "source": [
    "Так как дисперсии не сильно отличаются,то в стат. анализе будет выбирать параметр equal_var = True"
   ]
  },
  {
   "cell_type": "code",
   "execution_count": 68,
   "id": "6de0a30f",
   "metadata": {},
   "outputs": [],
   "source": [
    "data_rating = data_rating.dropna(subset=['platform', 'user_score'])"
   ]
  },
  {
   "cell_type": "code",
   "execution_count": 69,
   "id": "abfdae5b",
   "metadata": {},
   "outputs": [],
   "source": [
    "data_PC = data_rating.query ('platform == \"PC\"')\n",
    "data_XOne = data_rating.query ('platform == \"XOne\"')"
   ]
  },
  {
   "cell_type": "code",
   "execution_count": 70,
   "id": "12fed6a8",
   "metadata": {},
   "outputs": [
    {
     "name": "stdout",
     "output_type": "stream",
     "text": [
      "Средний пользовательский рейтинг платформы PC: 6.2696774193548395\n",
      "6.521428571428572\n",
      "p-значение:  0.14012658403611647\n",
      "Не отвергаем нулевую гипотезу\n"
     ]
    }
   ],
   "source": [
    "from scipy import stats as st\n",
    "sample_1 = data_PC ['user_score'] # данные пользовательского рейтинга платформы PC\n",
    "sample_2 = data_XOne['user_score'] # данные пользовательского рейтинга платформы XOne\n",
    "\n",
    "print ('Средний пользовательский рейтинг платформы PC:', data_PC ['user_score'].mean())\n",
    "print (data_XOne ['user_score'].mean())\n",
    "\n",
    "\n",
    "alpha = .05 #выберем альфа 5%\n",
    "results = st.ttest_ind(sample_1, sample_2, equal_var = True)\n",
    "\n",
    "print('p-значение: ', results.pvalue)\n",
    "\n",
    "if results.pvalue < alpha:\n",
    "    print ('Отвергаем нулевую гипотезу')\n",
    "else:\n",
    "    print ('Не отвергаем нулевую гипотезу')"
   ]
  },
  {
   "cell_type": "markdown",
   "id": "67848580",
   "metadata": {},
   "source": [
    "Вывод стат. анализа: средний рейтинг пользователй платформ XOne и PC равен"
   ]
  },
  {
   "cell_type": "markdown",
   "id": "4053fb9c",
   "metadata": {},
   "source": [
    "#### 5.2. Средние пользовательские рейтинги жанров Action (англ. «действие», экшен-игры) и Sports (англ. «спортивные соревнования») разные."
   ]
  },
  {
   "cell_type": "markdown",
   "id": "1fa99e9f",
   "metadata": {},
   "source": [
    "#### Нулевая гипотеза: cредние пользовательские рейтинги жанров Action и Sports равны.\n",
    "#### Альтернативная гипотеза:  cредние пользовательские рейтинги жанров Action и Sports разные.¶"
   ]
  },
  {
   "cell_type": "code",
   "execution_count": 71,
   "id": "125d77ad",
   "metadata": {},
   "outputs": [],
   "source": [
    "lst_top3 = ['Action','Sports']\n",
    "data_genre = data_prediction.query(\"genre in @lst_top3\")\n"
   ]
  },
  {
   "cell_type": "code",
   "execution_count": 72,
   "id": "cdfb202f",
   "metadata": {},
   "outputs": [
    {
     "data": {
      "text/html": [
       "<div>\n",
       "<style scoped>\n",
       "    .dataframe tbody tr th:only-of-type {\n",
       "        vertical-align: middle;\n",
       "    }\n",
       "\n",
       "    .dataframe tbody tr th {\n",
       "        vertical-align: top;\n",
       "    }\n",
       "\n",
       "    .dataframe thead tr th {\n",
       "        text-align: left;\n",
       "    }\n",
       "\n",
       "    .dataframe thead tr:last-of-type th {\n",
       "        text-align: right;\n",
       "    }\n",
       "</style>\n",
       "<table border=\"1\" class=\"dataframe\">\n",
       "  <thead>\n",
       "    <tr>\n",
       "      <th></th>\n",
       "      <th>mean</th>\n",
       "      <th>var</th>\n",
       "      <th>std</th>\n",
       "    </tr>\n",
       "    <tr>\n",
       "      <th></th>\n",
       "      <th>user_score</th>\n",
       "      <th>user_score</th>\n",
       "      <th>user_score</th>\n",
       "    </tr>\n",
       "    <tr>\n",
       "      <th>genre</th>\n",
       "      <th></th>\n",
       "      <th></th>\n",
       "      <th></th>\n",
       "    </tr>\n",
       "  </thead>\n",
       "  <tbody>\n",
       "    <tr>\n",
       "      <th>Action</th>\n",
       "      <td>7.0</td>\n",
       "      <td>2.0</td>\n",
       "      <td>1.0</td>\n",
       "    </tr>\n",
       "    <tr>\n",
       "      <th>Sports</th>\n",
       "      <td>5.0</td>\n",
       "      <td>3.0</td>\n",
       "      <td>2.0</td>\n",
       "    </tr>\n",
       "  </tbody>\n",
       "</table>\n",
       "</div>"
      ],
      "text/plain": [
       "             mean        var        std\n",
       "       user_score user_score user_score\n",
       "genre                                  \n",
       "Action        7.0        2.0        1.0\n",
       "Sports        5.0        3.0        2.0"
      ]
     },
     "metadata": {},
     "output_type": "display_data"
    }
   ],
   "source": [
    "data_genre_mean = data_genre.pivot_table(index = 'genre', \n",
    "                 values= ['user_score'], \n",
    "                 aggfunc= ['mean', 'var','std'])\n",
    "display (data_genre_mean.round().head())"
   ]
  },
  {
   "cell_type": "code",
   "execution_count": 73,
   "id": "af1fdc53",
   "metadata": {},
   "outputs": [],
   "source": [
    "data_genre = data_genre.dropna(subset=['genre', 'user_score'])"
   ]
  },
  {
   "cell_type": "code",
   "execution_count": 74,
   "id": "785ca20f",
   "metadata": {},
   "outputs": [],
   "source": [
    "data_action = data_rating.query ('genre == \"Action\"')\n",
    "data_sports = data_rating.query ('genre == \"Sports\"')"
   ]
  },
  {
   "cell_type": "code",
   "execution_count": 75,
   "id": "d0246cbf",
   "metadata": {},
   "outputs": [
    {
     "name": "stdout",
     "output_type": "stream",
     "text": [
      "6.665656565656565\n",
      "5.370212765957447\n",
      "p-значение:  1.7605327341054213e-07\n",
      "Отвергаем нулевую гипотезу\n"
     ]
    }
   ],
   "source": [
    "from scipy import stats as st\n",
    "sample_1 = data_action ['user_score'] # данные пользовательского рейтинга жанра Аction\n",
    "sample_2 = data_sports['user_score'] # данные пользовательского рейтинга жанра Sports\n",
    "print (data_action ['user_score'].mean())\n",
    "print (data_sports ['user_score'].mean())\n",
    "\n",
    "alpha = .05 #выберем альфа 5%\n",
    "results = st.ttest_ind(sample_1, sample_2, equal_var = True)\n",
    "\n",
    "print('p-значение: ', results.pvalue)\n",
    "\n",
    "if results.pvalue < alpha:\n",
    "    print ('Отвергаем нулевую гипотезу')\n",
    "else:\n",
    "    print ('Не отвергаем нулевую гипотезу')"
   ]
  },
  {
   "cell_type": "markdown",
   "id": "6b30f2f6",
   "metadata": {},
   "source": [
    "Вывод стат. анализа:  Средние пользовательские рейтинги жанров Action и Sports разные"
   ]
  },
  {
   "cell_type": "markdown",
   "id": "e89f451f",
   "metadata": {},
   "source": [
    "### 6 Вывод"
   ]
  },
  {
   "cell_type": "markdown",
   "id": "5b2a5af5",
   "metadata": {},
   "source": [
    "Компании следует усилить развитие направления игр жанра Shooter и Sports катеогории для взрослых или без категории.\n",
    "На платформах PS3,PS4,XOne в регионах Северная Америка и Европа и 3DS в Японии."
   ]
  }
 ],
 "metadata": {
  "ExecuteTimeLog": [
   {
    "duration": 536,
    "start_time": "2022-03-21T17:06:19.011Z"
   },
   {
    "duration": 4,
    "start_time": "2022-03-21T17:06:19.550Z"
   },
   {
    "duration": 1298,
    "start_time": "2022-03-21T17:06:19.557Z"
   },
   {
    "duration": 8,
    "start_time": "2022-03-21T17:06:20.860Z"
   },
   {
    "duration": 19,
    "start_time": "2022-03-21T17:06:20.871Z"
   },
   {
    "duration": 14,
    "start_time": "2022-03-21T17:06:20.893Z"
   },
   {
    "duration": 9,
    "start_time": "2022-03-21T17:06:20.909Z"
   },
   {
    "duration": 79,
    "start_time": "2022-03-21T17:06:20.920Z"
   },
   {
    "duration": 7,
    "start_time": "2022-03-21T17:06:21.001Z"
   },
   {
    "duration": 31,
    "start_time": "2022-03-21T17:06:21.013Z"
   },
   {
    "duration": 41,
    "start_time": "2022-03-21T17:06:21.046Z"
   },
   {
    "duration": 6,
    "start_time": "2022-03-21T17:06:21.090Z"
   },
   {
    "duration": 23,
    "start_time": "2022-03-21T17:06:21.098Z"
   },
   {
    "duration": 24,
    "start_time": "2022-03-21T17:06:21.123Z"
   },
   {
    "duration": 34,
    "start_time": "2022-03-21T17:06:21.150Z"
   },
   {
    "duration": 12,
    "start_time": "2022-03-21T17:06:21.187Z"
   },
   {
    "duration": 36,
    "start_time": "2022-03-21T17:06:21.201Z"
   },
   {
    "duration": 18,
    "start_time": "2022-03-21T17:06:21.240Z"
   },
   {
    "duration": 40,
    "start_time": "2022-03-21T17:06:21.260Z"
   },
   {
    "duration": 38,
    "start_time": "2022-03-21T17:06:21.303Z"
   },
   {
    "duration": 53,
    "start_time": "2022-03-21T17:06:21.344Z"
   },
   {
    "duration": 33,
    "start_time": "2022-03-21T17:06:21.400Z"
   },
   {
    "duration": 61,
    "start_time": "2022-03-21T17:06:21.437Z"
   },
   {
    "duration": 4,
    "start_time": "2022-03-21T17:06:21.500Z"
   },
   {
    "duration": 10,
    "start_time": "2022-03-21T17:06:21.507Z"
   },
   {
    "duration": 195,
    "start_time": "2022-03-21T17:06:21.520Z"
   },
   {
    "duration": 0,
    "start_time": "2022-03-21T17:06:21.721Z"
   },
   {
    "duration": 0,
    "start_time": "2022-03-21T17:06:21.723Z"
   },
   {
    "duration": 0,
    "start_time": "2022-03-21T17:06:21.727Z"
   },
   {
    "duration": 0,
    "start_time": "2022-03-21T17:06:21.729Z"
   },
   {
    "duration": 0,
    "start_time": "2022-03-21T17:06:21.731Z"
   },
   {
    "duration": 0,
    "start_time": "2022-03-21T17:06:21.733Z"
   },
   {
    "duration": 0,
    "start_time": "2022-03-21T17:06:21.734Z"
   },
   {
    "duration": 0,
    "start_time": "2022-03-21T17:06:21.736Z"
   },
   {
    "duration": 0,
    "start_time": "2022-03-21T17:06:21.738Z"
   },
   {
    "duration": 0,
    "start_time": "2022-03-21T17:06:21.742Z"
   },
   {
    "duration": 0,
    "start_time": "2022-03-21T17:06:21.744Z"
   },
   {
    "duration": 0,
    "start_time": "2022-03-21T17:06:21.746Z"
   },
   {
    "duration": 0,
    "start_time": "2022-03-21T17:06:21.785Z"
   },
   {
    "duration": 0,
    "start_time": "2022-03-21T17:06:21.787Z"
   },
   {
    "duration": 0,
    "start_time": "2022-03-21T17:06:21.790Z"
   },
   {
    "duration": 0,
    "start_time": "2022-03-21T17:06:21.791Z"
   },
   {
    "duration": 0,
    "start_time": "2022-03-21T17:06:21.793Z"
   },
   {
    "duration": 0,
    "start_time": "2022-03-21T17:06:21.794Z"
   },
   {
    "duration": 0,
    "start_time": "2022-03-21T17:06:21.797Z"
   },
   {
    "duration": 0,
    "start_time": "2022-03-21T17:06:21.800Z"
   },
   {
    "duration": 0,
    "start_time": "2022-03-21T17:06:21.802Z"
   },
   {
    "duration": 0,
    "start_time": "2022-03-21T17:06:21.803Z"
   },
   {
    "duration": 0,
    "start_time": "2022-03-21T17:06:21.806Z"
   },
   {
    "duration": 1,
    "start_time": "2022-03-21T17:06:21.807Z"
   },
   {
    "duration": 0,
    "start_time": "2022-03-21T17:06:21.810Z"
   },
   {
    "duration": 0,
    "start_time": "2022-03-21T17:06:21.812Z"
   },
   {
    "duration": 0,
    "start_time": "2022-03-21T17:06:21.814Z"
   },
   {
    "duration": 0,
    "start_time": "2022-03-21T17:06:21.815Z"
   },
   {
    "duration": 0,
    "start_time": "2022-03-21T17:06:21.816Z"
   },
   {
    "duration": 0,
    "start_time": "2022-03-21T17:06:21.817Z"
   },
   {
    "duration": 0,
    "start_time": "2022-03-21T17:06:21.821Z"
   },
   {
    "duration": 0,
    "start_time": "2022-03-21T17:06:21.883Z"
   },
   {
    "duration": 0,
    "start_time": "2022-03-21T17:06:21.886Z"
   },
   {
    "duration": 0,
    "start_time": "2022-03-21T17:06:21.887Z"
   },
   {
    "duration": 0,
    "start_time": "2022-03-21T17:06:21.889Z"
   },
   {
    "duration": 0,
    "start_time": "2022-03-21T17:06:21.891Z"
   },
   {
    "duration": 0,
    "start_time": "2022-03-21T17:06:21.892Z"
   },
   {
    "duration": 0,
    "start_time": "2022-03-21T17:06:21.893Z"
   },
   {
    "duration": 0,
    "start_time": "2022-03-21T17:06:21.894Z"
   },
   {
    "duration": 0,
    "start_time": "2022-03-21T17:06:21.895Z"
   },
   {
    "duration": 710,
    "start_time": "2022-03-21T17:07:34.787Z"
   },
   {
    "duration": 3,
    "start_time": "2022-03-21T17:07:35.500Z"
   },
   {
    "duration": 994,
    "start_time": "2022-03-21T17:07:35.506Z"
   },
   {
    "duration": 7,
    "start_time": "2022-03-21T17:07:36.503Z"
   },
   {
    "duration": 5,
    "start_time": "2022-03-21T17:07:36.515Z"
   },
   {
    "duration": 8,
    "start_time": "2022-03-21T17:07:36.522Z"
   },
   {
    "duration": 5115,
    "start_time": "2022-03-21T17:07:36.532Z"
   },
   {
    "duration": 56,
    "start_time": "2022-03-21T17:07:41.650Z"
   },
   {
    "duration": 6,
    "start_time": "2022-03-21T17:07:41.708Z"
   },
   {
    "duration": 32,
    "start_time": "2022-03-21T17:07:41.716Z"
   },
   {
    "duration": 36,
    "start_time": "2022-03-21T17:07:41.750Z"
   },
   {
    "duration": 4,
    "start_time": "2022-03-21T17:07:41.788Z"
   },
   {
    "duration": 45,
    "start_time": "2022-03-21T17:07:41.794Z"
   },
   {
    "duration": 21,
    "start_time": "2022-03-21T17:07:41.845Z"
   },
   {
    "duration": 14,
    "start_time": "2022-03-21T17:07:41.868Z"
   },
   {
    "duration": 21,
    "start_time": "2022-03-21T17:07:41.884Z"
   },
   {
    "duration": 35,
    "start_time": "2022-03-21T17:07:41.907Z"
   },
   {
    "duration": 14,
    "start_time": "2022-03-21T17:07:41.944Z"
   },
   {
    "duration": 38,
    "start_time": "2022-03-21T17:07:41.961Z"
   },
   {
    "duration": 35,
    "start_time": "2022-03-21T17:07:42.001Z"
   },
   {
    "duration": 30,
    "start_time": "2022-03-21T17:07:42.039Z"
   },
   {
    "duration": 29,
    "start_time": "2022-03-21T17:07:42.072Z"
   },
   {
    "duration": 26,
    "start_time": "2022-03-21T17:07:42.104Z"
   },
   {
    "duration": 3,
    "start_time": "2022-03-21T17:07:42.132Z"
   },
   {
    "duration": 18,
    "start_time": "2022-03-21T17:07:42.138Z"
   },
   {
    "duration": 167,
    "start_time": "2022-03-21T17:07:42.158Z"
   },
   {
    "duration": 0,
    "start_time": "2022-03-21T17:07:42.328Z"
   },
   {
    "duration": 0,
    "start_time": "2022-03-21T17:07:42.330Z"
   },
   {
    "duration": 0,
    "start_time": "2022-03-21T17:07:42.331Z"
   },
   {
    "duration": 0,
    "start_time": "2022-03-21T17:07:42.333Z"
   },
   {
    "duration": 0,
    "start_time": "2022-03-21T17:07:42.335Z"
   },
   {
    "duration": 0,
    "start_time": "2022-03-21T17:07:42.336Z"
   },
   {
    "duration": 0,
    "start_time": "2022-03-21T17:07:42.337Z"
   },
   {
    "duration": 0,
    "start_time": "2022-03-21T17:07:42.339Z"
   },
   {
    "duration": 0,
    "start_time": "2022-03-21T17:07:42.342Z"
   },
   {
    "duration": 0,
    "start_time": "2022-03-21T17:07:42.344Z"
   },
   {
    "duration": 0,
    "start_time": "2022-03-21T17:07:42.346Z"
   },
   {
    "duration": 0,
    "start_time": "2022-03-21T17:07:42.348Z"
   },
   {
    "duration": 0,
    "start_time": "2022-03-21T17:07:42.349Z"
   },
   {
    "duration": 0,
    "start_time": "2022-03-21T17:07:42.384Z"
   },
   {
    "duration": 0,
    "start_time": "2022-03-21T17:07:42.385Z"
   },
   {
    "duration": 0,
    "start_time": "2022-03-21T17:07:42.387Z"
   },
   {
    "duration": 0,
    "start_time": "2022-03-21T17:07:42.389Z"
   },
   {
    "duration": 0,
    "start_time": "2022-03-21T17:07:42.390Z"
   },
   {
    "duration": 0,
    "start_time": "2022-03-21T17:07:42.392Z"
   },
   {
    "duration": 0,
    "start_time": "2022-03-21T17:07:42.394Z"
   },
   {
    "duration": 0,
    "start_time": "2022-03-21T17:07:42.395Z"
   },
   {
    "duration": 0,
    "start_time": "2022-03-21T17:07:42.397Z"
   },
   {
    "duration": 0,
    "start_time": "2022-03-21T17:07:42.400Z"
   },
   {
    "duration": 0,
    "start_time": "2022-03-21T17:07:42.401Z"
   },
   {
    "duration": 0,
    "start_time": "2022-03-21T17:07:42.403Z"
   },
   {
    "duration": 0,
    "start_time": "2022-03-21T17:07:42.405Z"
   },
   {
    "duration": 0,
    "start_time": "2022-03-21T17:07:42.407Z"
   },
   {
    "duration": 0,
    "start_time": "2022-03-21T17:07:42.409Z"
   },
   {
    "duration": 0,
    "start_time": "2022-03-21T17:07:42.410Z"
   },
   {
    "duration": 1,
    "start_time": "2022-03-21T17:07:42.411Z"
   },
   {
    "duration": 0,
    "start_time": "2022-03-21T17:07:42.413Z"
   },
   {
    "duration": 0,
    "start_time": "2022-03-21T17:07:42.415Z"
   },
   {
    "duration": 0,
    "start_time": "2022-03-21T17:07:42.416Z"
   },
   {
    "duration": 0,
    "start_time": "2022-03-21T17:07:42.418Z"
   },
   {
    "duration": 0,
    "start_time": "2022-03-21T17:07:42.485Z"
   },
   {
    "duration": 0,
    "start_time": "2022-03-21T17:07:42.487Z"
   },
   {
    "duration": 0,
    "start_time": "2022-03-21T17:07:42.488Z"
   },
   {
    "duration": 0,
    "start_time": "2022-03-21T17:07:42.490Z"
   },
   {
    "duration": 0,
    "start_time": "2022-03-21T17:07:42.491Z"
   },
   {
    "duration": 0,
    "start_time": "2022-03-21T17:07:42.493Z"
   },
   {
    "duration": 23,
    "start_time": "2022-03-21T17:08:14.128Z"
   },
   {
    "duration": 23,
    "start_time": "2022-03-21T17:08:22.729Z"
   },
   {
    "duration": 30,
    "start_time": "2022-03-21T17:08:33.920Z"
   },
   {
    "duration": 23,
    "start_time": "2022-03-21T17:08:37.697Z"
   },
   {
    "duration": 32,
    "start_time": "2022-03-21T17:08:44.514Z"
   },
   {
    "duration": 24,
    "start_time": "2022-03-21T17:09:08.522Z"
   },
   {
    "duration": 22,
    "start_time": "2022-03-21T17:09:57.147Z"
   },
   {
    "duration": 322,
    "start_time": "2022-03-21T17:10:00.827Z"
   },
   {
    "duration": 520,
    "start_time": "2022-03-21T17:10:27.320Z"
   },
   {
    "duration": 5,
    "start_time": "2022-03-21T17:10:27.844Z"
   },
   {
    "duration": 1362,
    "start_time": "2022-03-21T17:10:27.851Z"
   },
   {
    "duration": 10,
    "start_time": "2022-03-21T17:10:29.217Z"
   },
   {
    "duration": 7,
    "start_time": "2022-03-21T17:10:29.230Z"
   },
   {
    "duration": 7,
    "start_time": "2022-03-21T17:10:29.239Z"
   },
   {
    "duration": 3969,
    "start_time": "2022-03-21T17:10:29.248Z"
   },
   {
    "duration": 55,
    "start_time": "2022-03-21T17:10:33.221Z"
   },
   {
    "duration": 6,
    "start_time": "2022-03-21T17:10:33.279Z"
   },
   {
    "duration": 34,
    "start_time": "2022-03-21T17:10:33.289Z"
   },
   {
    "duration": 32,
    "start_time": "2022-03-21T17:10:33.326Z"
   },
   {
    "duration": 14,
    "start_time": "2022-03-21T17:10:33.360Z"
   },
   {
    "duration": 31,
    "start_time": "2022-03-21T17:10:33.376Z"
   },
   {
    "duration": 18,
    "start_time": "2022-03-21T17:10:33.410Z"
   },
   {
    "duration": 26,
    "start_time": "2022-03-21T17:10:33.430Z"
   },
   {
    "duration": 26,
    "start_time": "2022-03-21T17:10:33.459Z"
   },
   {
    "duration": 50,
    "start_time": "2022-03-21T17:10:33.489Z"
   },
   {
    "duration": 47,
    "start_time": "2022-03-21T17:10:33.543Z"
   },
   {
    "duration": 29,
    "start_time": "2022-03-21T17:10:33.593Z"
   },
   {
    "duration": 48,
    "start_time": "2022-03-21T17:10:33.625Z"
   },
   {
    "duration": 32,
    "start_time": "2022-03-21T17:10:33.676Z"
   },
   {
    "duration": 22,
    "start_time": "2022-03-21T17:10:33.711Z"
   },
   {
    "duration": 60,
    "start_time": "2022-03-21T17:10:33.735Z"
   },
   {
    "duration": 14,
    "start_time": "2022-03-21T17:10:33.797Z"
   },
   {
    "duration": 30,
    "start_time": "2022-03-21T17:10:33.813Z"
   },
   {
    "duration": 35,
    "start_time": "2022-03-21T17:10:33.846Z"
   },
   {
    "duration": 356,
    "start_time": "2022-03-21T17:10:33.884Z"
   },
   {
    "duration": 57,
    "start_time": "2022-03-21T17:10:34.247Z"
   },
   {
    "duration": 1098,
    "start_time": "2022-03-21T17:10:34.307Z"
   },
   {
    "duration": 28,
    "start_time": "2022-03-21T17:10:35.408Z"
   },
   {
    "duration": 3,
    "start_time": "2022-03-21T17:10:35.438Z"
   },
   {
    "duration": 11,
    "start_time": "2022-03-21T17:10:35.444Z"
   },
   {
    "duration": 361,
    "start_time": "2022-03-21T17:10:35.457Z"
   },
   {
    "duration": 12,
    "start_time": "2022-03-21T17:10:35.820Z"
   },
   {
    "duration": 523,
    "start_time": "2022-03-21T17:10:35.834Z"
   },
   {
    "duration": 378,
    "start_time": "2022-03-21T17:10:36.361Z"
   },
   {
    "duration": 79,
    "start_time": "2022-03-21T17:10:36.742Z"
   },
   {
    "duration": 25,
    "start_time": "2022-03-21T17:10:36.824Z"
   },
   {
    "duration": 228,
    "start_time": "2022-03-21T17:10:36.851Z"
   },
   {
    "duration": 7,
    "start_time": "2022-03-21T17:10:37.084Z"
   },
   {
    "duration": 314,
    "start_time": "2022-03-21T17:10:37.093Z"
   },
   {
    "duration": 6,
    "start_time": "2022-03-21T17:10:37.410Z"
   },
   {
    "duration": 394,
    "start_time": "2022-03-21T17:10:37.419Z"
   },
   {
    "duration": 7,
    "start_time": "2022-03-21T17:10:37.815Z"
   },
   {
    "duration": 3441,
    "start_time": "2022-03-21T17:10:37.825Z"
   },
   {
    "duration": 318,
    "start_time": "2022-03-21T17:10:41.268Z"
   },
   {
    "duration": 25,
    "start_time": "2022-03-21T17:10:41.589Z"
   },
   {
    "duration": 324,
    "start_time": "2022-03-21T17:10:41.617Z"
   },
   {
    "duration": 9,
    "start_time": "2022-03-21T17:10:41.945Z"
   },
   {
    "duration": 1549,
    "start_time": "2022-03-21T17:10:41.956Z"
   },
   {
    "duration": 4,
    "start_time": "2022-03-21T17:10:43.507Z"
   },
   {
    "duration": 7114,
    "start_time": "2022-03-21T17:10:43.513Z"
   },
   {
    "duration": 37,
    "start_time": "2022-03-21T17:10:50.630Z"
   },
   {
    "duration": 18,
    "start_time": "2022-03-21T17:10:50.685Z"
   },
   {
    "duration": 553,
    "start_time": "2022-03-21T17:10:50.706Z"
   },
   {
    "duration": 432,
    "start_time": "2022-03-21T17:10:51.261Z"
   },
   {
    "duration": 10,
    "start_time": "2022-03-21T17:10:51.696Z"
   },
   {
    "duration": 46,
    "start_time": "2022-03-21T17:10:51.710Z"
   },
   {
    "duration": 31,
    "start_time": "2022-03-21T17:10:51.759Z"
   },
   {
    "duration": 14,
    "start_time": "2022-03-21T17:10:51.793Z"
   },
   {
    "duration": 11,
    "start_time": "2022-03-21T17:10:51.809Z"
   },
   {
    "duration": 10,
    "start_time": "2022-03-21T17:10:51.822Z"
   },
   {
    "duration": 86,
    "start_time": "2022-03-21T17:10:51.834Z"
   },
   {
    "duration": 9,
    "start_time": "2022-03-21T17:10:51.922Z"
   },
   {
    "duration": 14,
    "start_time": "2022-03-21T17:10:51.933Z"
   },
   {
    "duration": 38,
    "start_time": "2022-03-21T17:10:51.949Z"
   },
   {
    "duration": 27,
    "start_time": "2022-03-21T17:35:23.438Z"
   },
   {
    "duration": 31,
    "start_time": "2022-03-21T17:36:39.818Z"
   },
   {
    "duration": 27,
    "start_time": "2022-03-21T17:37:03.734Z"
   },
   {
    "duration": 8,
    "start_time": "2022-03-21T18:38:02.375Z"
   },
   {
    "duration": 46,
    "start_time": "2022-03-21T19:57:16.640Z"
   },
   {
    "duration": 421,
    "start_time": "2022-03-21T19:57:24.316Z"
   },
   {
    "duration": 2,
    "start_time": "2022-03-21T19:57:24.739Z"
   },
   {
    "duration": 873,
    "start_time": "2022-03-21T19:57:24.743Z"
   },
   {
    "duration": 5,
    "start_time": "2022-03-21T19:57:25.618Z"
   },
   {
    "duration": 2,
    "start_time": "2022-03-21T19:57:25.633Z"
   },
   {
    "duration": 9,
    "start_time": "2022-03-21T19:57:25.637Z"
   },
   {
    "duration": 8286,
    "start_time": "2022-03-21T19:57:25.647Z"
   },
   {
    "duration": 83,
    "start_time": "2022-03-21T19:57:33.935Z"
   },
   {
    "duration": 4,
    "start_time": "2022-03-21T19:57:34.021Z"
   },
   {
    "duration": 16,
    "start_time": "2022-03-21T19:57:34.028Z"
   },
   {
    "duration": 15,
    "start_time": "2022-03-21T19:57:34.046Z"
   },
   {
    "duration": 3,
    "start_time": "2022-03-21T19:57:34.063Z"
   },
   {
    "duration": 10,
    "start_time": "2022-03-21T19:57:34.067Z"
   },
   {
    "duration": 4,
    "start_time": "2022-03-21T19:57:34.079Z"
   },
   {
    "duration": 8,
    "start_time": "2022-03-21T19:57:34.085Z"
   },
   {
    "duration": 40,
    "start_time": "2022-03-21T19:57:34.094Z"
   },
   {
    "duration": 10,
    "start_time": "2022-03-21T19:57:34.135Z"
   },
   {
    "duration": 11,
    "start_time": "2022-03-21T19:57:34.146Z"
   },
   {
    "duration": 10,
    "start_time": "2022-03-21T19:57:34.158Z"
   },
   {
    "duration": 18,
    "start_time": "2022-03-21T19:57:34.170Z"
   },
   {
    "duration": 49,
    "start_time": "2022-03-21T19:57:34.190Z"
   },
   {
    "duration": 14,
    "start_time": "2022-03-21T19:57:34.240Z"
   },
   {
    "duration": 18,
    "start_time": "2022-03-21T19:57:34.256Z"
   },
   {
    "duration": 3,
    "start_time": "2022-03-21T19:57:34.275Z"
   },
   {
    "duration": 5,
    "start_time": "2022-03-21T19:57:34.279Z"
   },
   {
    "duration": 23,
    "start_time": "2022-03-21T19:57:34.286Z"
   },
   {
    "duration": 220,
    "start_time": "2022-03-21T19:57:34.311Z"
   },
   {
    "duration": 43,
    "start_time": "2022-03-21T19:57:34.536Z"
   },
   {
    "duration": 827,
    "start_time": "2022-03-21T19:57:34.580Z"
   },
   {
    "duration": 18,
    "start_time": "2022-03-21T19:57:35.409Z"
   },
   {
    "duration": 2,
    "start_time": "2022-03-21T19:57:35.428Z"
   },
   {
    "duration": 4,
    "start_time": "2022-03-21T19:57:35.432Z"
   },
   {
    "duration": 214,
    "start_time": "2022-03-21T19:57:35.438Z"
   },
   {
    "duration": 8,
    "start_time": "2022-03-21T19:57:35.653Z"
   },
   {
    "duration": 307,
    "start_time": "2022-03-21T19:57:35.663Z"
   },
   {
    "duration": 203,
    "start_time": "2022-03-21T19:57:35.971Z"
   },
   {
    "duration": 35,
    "start_time": "2022-03-21T19:57:36.176Z"
   },
   {
    "duration": 32,
    "start_time": "2022-03-21T19:57:36.212Z"
   },
   {
    "duration": 124,
    "start_time": "2022-03-21T19:57:36.246Z"
   },
   {
    "duration": 6,
    "start_time": "2022-03-21T19:57:36.372Z"
   },
   {
    "duration": 265,
    "start_time": "2022-03-21T19:57:36.379Z"
   },
   {
    "duration": 5,
    "start_time": "2022-03-21T19:57:36.646Z"
   },
   {
    "duration": 350,
    "start_time": "2022-03-21T19:57:36.653Z"
   },
   {
    "duration": 6,
    "start_time": "2022-03-21T19:57:37.004Z"
   },
   {
    "duration": 1706,
    "start_time": "2022-03-21T19:57:37.011Z"
   },
   {
    "duration": 175,
    "start_time": "2022-03-21T19:57:38.719Z"
   },
   {
    "duration": 14,
    "start_time": "2022-03-21T19:57:38.895Z"
   },
   {
    "duration": 184,
    "start_time": "2022-03-21T19:57:38.911Z"
   },
   {
    "duration": 6,
    "start_time": "2022-03-21T19:57:39.097Z"
   },
   {
    "duration": 949,
    "start_time": "2022-03-21T19:57:39.104Z"
   },
   {
    "duration": 3,
    "start_time": "2022-03-21T19:57:40.055Z"
   },
   {
    "duration": 3876,
    "start_time": "2022-03-21T19:57:40.059Z"
   },
   {
    "duration": 16,
    "start_time": "2022-03-21T19:57:43.937Z"
   },
   {
    "duration": 10,
    "start_time": "2022-03-21T19:57:43.955Z"
   },
   {
    "duration": 226,
    "start_time": "2022-03-21T19:57:43.967Z"
   },
   {
    "duration": 229,
    "start_time": "2022-03-21T19:57:44.195Z"
   },
   {
    "duration": 10,
    "start_time": "2022-03-21T19:57:44.426Z"
   },
   {
    "duration": 28,
    "start_time": "2022-03-21T19:57:44.437Z"
   },
   {
    "duration": 6,
    "start_time": "2022-03-21T19:57:44.467Z"
   },
   {
    "duration": 14,
    "start_time": "2022-03-21T19:57:44.475Z"
   },
   {
    "duration": 11,
    "start_time": "2022-03-21T19:57:44.491Z"
   },
   {
    "duration": 12,
    "start_time": "2022-03-21T19:57:44.504Z"
   },
   {
    "duration": 39,
    "start_time": "2022-03-21T19:57:44.518Z"
   },
   {
    "duration": 6,
    "start_time": "2022-03-21T19:57:44.559Z"
   },
   {
    "duration": 15,
    "start_time": "2022-03-21T19:57:44.567Z"
   },
   {
    "duration": 11,
    "start_time": "2022-03-21T19:57:44.584Z"
   },
   {
    "duration": 19,
    "start_time": "2022-03-21T19:59:51.133Z"
   },
   {
    "duration": 305,
    "start_time": "2022-03-21T19:59:57.990Z"
   },
   {
    "duration": 324,
    "start_time": "2022-03-21T20:00:53.209Z"
   },
   {
    "duration": 114,
    "start_time": "2022-03-21T20:02:26.182Z"
   },
   {
    "duration": 206,
    "start_time": "2022-03-21T20:04:21.108Z"
   },
   {
    "duration": 17,
    "start_time": "2022-03-21T20:51:16.040Z"
   },
   {
    "duration": 8,
    "start_time": "2022-03-21T20:53:04.870Z"
   },
   {
    "duration": 289,
    "start_time": "2022-03-21T20:53:08.247Z"
   },
   {
    "duration": 5,
    "start_time": "2022-03-21T21:26:12.493Z"
   },
   {
    "duration": 93,
    "start_time": "2022-03-21T21:27:02.912Z"
   },
   {
    "duration": 8,
    "start_time": "2022-03-21T21:27:32.879Z"
   },
   {
    "duration": 24,
    "start_time": "2022-03-21T21:27:56.040Z"
   },
   {
    "duration": 14,
    "start_time": "2022-03-21T21:28:00.333Z"
   },
   {
    "duration": 10,
    "start_time": "2022-03-21T21:28:19.198Z"
   },
   {
    "duration": 24,
    "start_time": "2022-03-21T21:28:27.758Z"
   },
   {
    "duration": 20,
    "start_time": "2022-03-21T21:28:30.351Z"
   },
   {
    "duration": 11,
    "start_time": "2022-03-21T21:28:52.101Z"
   },
   {
    "duration": 23,
    "start_time": "2022-03-21T21:29:00.294Z"
   },
   {
    "duration": 17,
    "start_time": "2022-03-21T21:29:03.209Z"
   },
   {
    "duration": 2011,
    "start_time": "2022-03-21T21:29:23.736Z"
   },
   {
    "duration": 17,
    "start_time": "2022-03-21T21:29:45.082Z"
   },
   {
    "duration": 24,
    "start_time": "2022-03-21T21:29:48.789Z"
   },
   {
    "duration": 581,
    "start_time": "2022-03-21T21:29:51.478Z"
   },
   {
    "duration": 14,
    "start_time": "2022-03-21T21:29:59.267Z"
   },
   {
    "duration": 10,
    "start_time": "2022-03-21T21:31:16.530Z"
   },
   {
    "duration": 24,
    "start_time": "2022-03-21T21:31:26.354Z"
   },
   {
    "duration": 16,
    "start_time": "2022-03-21T21:31:28.972Z"
   },
   {
    "duration": 1984,
    "start_time": "2022-03-21T21:31:32.697Z"
   },
   {
    "duration": 10,
    "start_time": "2022-03-21T21:32:18.531Z"
   },
   {
    "duration": 23,
    "start_time": "2022-03-21T21:32:21.354Z"
   },
   {
    "duration": 14,
    "start_time": "2022-03-21T21:32:24.188Z"
   },
   {
    "duration": 2101,
    "start_time": "2022-03-21T21:32:28.489Z"
   },
   {
    "duration": 24,
    "start_time": "2022-03-21T21:32:54.466Z"
   },
   {
    "duration": 15,
    "start_time": "2022-03-21T21:32:59.208Z"
   },
   {
    "duration": 11,
    "start_time": "2022-03-21T21:33:21.377Z"
   },
   {
    "duration": 25,
    "start_time": "2022-03-21T21:33:25.804Z"
   },
   {
    "duration": 16,
    "start_time": "2022-03-21T21:33:28.870Z"
   },
   {
    "duration": 2328,
    "start_time": "2022-03-21T21:34:54.226Z"
   },
   {
    "duration": 24,
    "start_time": "2022-03-21T21:35:02.308Z"
   },
   {
    "duration": 2359,
    "start_time": "2022-03-21T21:35:05.869Z"
   },
   {
    "duration": 15,
    "start_time": "2022-03-21T21:35:10.693Z"
   },
   {
    "duration": 2107,
    "start_time": "2022-03-21T21:35:12.738Z"
   },
   {
    "duration": 2232,
    "start_time": "2022-03-21T21:35:29.083Z"
   },
   {
    "duration": 171,
    "start_time": "2022-03-21T21:35:51.788Z"
   },
   {
    "duration": 11,
    "start_time": "2022-03-21T21:36:37.658Z"
   },
   {
    "duration": 23,
    "start_time": "2022-03-21T21:36:41.574Z"
   },
   {
    "duration": 15,
    "start_time": "2022-03-21T21:36:44.968Z"
   },
   {
    "duration": 181,
    "start_time": "2022-03-21T21:36:49.315Z"
   },
   {
    "duration": 1991,
    "start_time": "2022-03-21T21:37:02.344Z"
   },
   {
    "duration": 10,
    "start_time": "2022-03-21T21:37:44.327Z"
   },
   {
    "duration": 23,
    "start_time": "2022-03-21T21:37:47.756Z"
   },
   {
    "duration": 16,
    "start_time": "2022-03-21T21:37:50.195Z"
   },
   {
    "duration": 16,
    "start_time": "2022-03-21T21:37:54.639Z"
   },
   {
    "duration": 10,
    "start_time": "2022-03-21T21:38:00.833Z"
   },
   {
    "duration": 23,
    "start_time": "2022-03-21T21:38:04.505Z"
   },
   {
    "duration": 15,
    "start_time": "2022-03-21T21:38:06.990Z"
   },
   {
    "duration": 178,
    "start_time": "2022-03-21T21:39:53.300Z"
   },
   {
    "duration": 2594,
    "start_time": "2022-03-21T21:42:04.994Z"
   },
   {
    "duration": 534,
    "start_time": "2022-03-21T21:42:20.894Z"
   },
   {
    "duration": 187,
    "start_time": "2022-03-21T21:46:18.485Z"
   },
   {
    "duration": 468,
    "start_time": "2022-03-22T07:44:44.020Z"
   },
   {
    "duration": 2,
    "start_time": "2022-03-22T07:44:44.490Z"
   },
   {
    "duration": 945,
    "start_time": "2022-03-22T07:44:44.493Z"
   },
   {
    "duration": 5,
    "start_time": "2022-03-22T07:44:45.440Z"
   },
   {
    "duration": 6,
    "start_time": "2022-03-22T07:44:45.446Z"
   },
   {
    "duration": 5,
    "start_time": "2022-03-22T07:44:45.454Z"
   },
   {
    "duration": 7961,
    "start_time": "2022-03-22T07:44:45.461Z"
   },
   {
    "duration": 43,
    "start_time": "2022-03-22T07:44:53.424Z"
   },
   {
    "duration": 4,
    "start_time": "2022-03-22T07:44:53.469Z"
   },
   {
    "duration": 21,
    "start_time": "2022-03-22T07:44:53.476Z"
   },
   {
    "duration": 18,
    "start_time": "2022-03-22T07:44:53.498Z"
   },
   {
    "duration": 3,
    "start_time": "2022-03-22T07:44:53.518Z"
   },
   {
    "duration": 9,
    "start_time": "2022-03-22T07:44:53.533Z"
   },
   {
    "duration": 10,
    "start_time": "2022-03-22T07:44:53.544Z"
   },
   {
    "duration": 12,
    "start_time": "2022-03-22T07:44:53.556Z"
   },
   {
    "duration": 8,
    "start_time": "2022-03-22T07:44:53.569Z"
   },
   {
    "duration": 11,
    "start_time": "2022-03-22T07:44:53.579Z"
   },
   {
    "duration": 9,
    "start_time": "2022-03-22T07:44:53.592Z"
   },
   {
    "duration": 37,
    "start_time": "2022-03-22T07:44:53.602Z"
   },
   {
    "duration": 17,
    "start_time": "2022-03-22T07:44:53.641Z"
   },
   {
    "duration": 15,
    "start_time": "2022-03-22T07:44:53.659Z"
   },
   {
    "duration": 14,
    "start_time": "2022-03-22T07:44:53.676Z"
   },
   {
    "duration": 46,
    "start_time": "2022-03-22T07:44:53.692Z"
   },
   {
    "duration": 2,
    "start_time": "2022-03-22T07:44:53.740Z"
   },
   {
    "duration": 6,
    "start_time": "2022-03-22T07:44:53.744Z"
   },
   {
    "duration": 16,
    "start_time": "2022-03-22T07:44:53.752Z"
   },
   {
    "duration": 204,
    "start_time": "2022-03-22T07:44:53.770Z"
   },
   {
    "duration": 31,
    "start_time": "2022-03-22T07:44:53.977Z"
   },
   {
    "duration": 555,
    "start_time": "2022-03-22T07:44:54.010Z"
   },
   {
    "duration": 15,
    "start_time": "2022-03-22T07:44:54.567Z"
   },
   {
    "duration": 2,
    "start_time": "2022-03-22T07:44:54.584Z"
   },
   {
    "duration": 5,
    "start_time": "2022-03-22T07:44:54.587Z"
   },
   {
    "duration": 180,
    "start_time": "2022-03-22T07:44:54.594Z"
   },
   {
    "duration": 25,
    "start_time": "2022-03-22T07:44:54.776Z"
   },
   {
    "duration": 34,
    "start_time": "2022-03-22T07:44:54.802Z"
   },
   {
    "duration": 197,
    "start_time": "2022-03-22T07:44:54.838Z"
   },
   {
    "duration": 8,
    "start_time": "2022-03-22T07:44:55.037Z"
   },
   {
    "duration": 308,
    "start_time": "2022-03-22T07:44:55.046Z"
   },
   {
    "duration": 203,
    "start_time": "2022-03-22T07:44:55.356Z"
   },
   {
    "duration": 33,
    "start_time": "2022-03-22T07:44:55.561Z"
   },
   {
    "duration": 14,
    "start_time": "2022-03-22T07:44:55.596Z"
   },
   {
    "duration": 238,
    "start_time": "2022-03-22T07:44:55.611Z"
   },
   {
    "duration": 5,
    "start_time": "2022-03-22T07:44:55.851Z"
   },
   {
    "duration": 123,
    "start_time": "2022-03-22T07:44:55.857Z"
   },
   {
    "duration": 4,
    "start_time": "2022-03-22T07:44:55.982Z"
   },
   {
    "duration": 241,
    "start_time": "2022-03-22T07:44:55.988Z"
   },
   {
    "duration": 5,
    "start_time": "2022-03-22T07:44:56.232Z"
   },
   {
    "duration": 1898,
    "start_time": "2022-03-22T07:44:56.239Z"
   },
   {
    "duration": 186,
    "start_time": "2022-03-22T07:44:58.139Z"
   },
   {
    "duration": 18,
    "start_time": "2022-03-22T07:44:58.327Z"
   },
   {
    "duration": 175,
    "start_time": "2022-03-22T07:44:58.347Z"
   },
   {
    "duration": 10,
    "start_time": "2022-03-22T07:44:58.524Z"
   },
   {
    "duration": 781,
    "start_time": "2022-03-22T07:44:58.536Z"
   },
   {
    "duration": 2,
    "start_time": "2022-03-22T07:44:59.319Z"
   },
   {
    "duration": 1698,
    "start_time": "2022-03-22T07:44:59.323Z"
   },
   {
    "duration": 27,
    "start_time": "2022-03-22T07:45:01.023Z"
   },
   {
    "duration": 15,
    "start_time": "2022-03-22T07:45:01.052Z"
   },
   {
    "duration": 237,
    "start_time": "2022-03-22T07:45:01.069Z"
   },
   {
    "duration": 203,
    "start_time": "2022-03-22T07:45:01.307Z"
   },
   {
    "duration": 6,
    "start_time": "2022-03-22T07:45:01.511Z"
   },
   {
    "duration": 37,
    "start_time": "2022-03-22T07:45:01.518Z"
   },
   {
    "duration": 6,
    "start_time": "2022-03-22T07:45:01.557Z"
   },
   {
    "duration": 15,
    "start_time": "2022-03-22T07:45:01.565Z"
   },
   {
    "duration": 14,
    "start_time": "2022-03-22T07:45:01.582Z"
   },
   {
    "duration": 9,
    "start_time": "2022-03-22T07:45:01.598Z"
   },
   {
    "duration": 44,
    "start_time": "2022-03-22T07:45:01.609Z"
   },
   {
    "duration": 7,
    "start_time": "2022-03-22T07:45:01.654Z"
   },
   {
    "duration": 12,
    "start_time": "2022-03-22T07:45:01.662Z"
   },
   {
    "duration": 8,
    "start_time": "2022-03-22T07:45:01.676Z"
   },
   {
    "duration": 99,
    "start_time": "2022-03-22T07:46:53.581Z"
   },
   {
    "duration": 25,
    "start_time": "2022-03-22T07:46:56.861Z"
   },
   {
    "duration": 15,
    "start_time": "2022-03-22T07:46:59.838Z"
   },
   {
    "duration": 11,
    "start_time": "2022-03-22T07:47:27.414Z"
   },
   {
    "duration": 11,
    "start_time": "2022-03-22T07:47:32.110Z"
   },
   {
    "duration": 25,
    "start_time": "2022-03-22T07:47:35.815Z"
   },
   {
    "duration": 14,
    "start_time": "2022-03-22T07:47:38.055Z"
   },
   {
    "duration": 11,
    "start_time": "2022-03-22T07:48:20.952Z"
   },
   {
    "duration": 23,
    "start_time": "2022-03-22T07:48:23.848Z"
   },
   {
    "duration": 15,
    "start_time": "2022-03-22T07:48:25.753Z"
   },
   {
    "duration": 11,
    "start_time": "2022-03-22T07:49:03.415Z"
   },
   {
    "duration": 25,
    "start_time": "2022-03-22T07:49:05.855Z"
   },
   {
    "duration": 20,
    "start_time": "2022-03-22T07:49:08.657Z"
   },
   {
    "duration": 24,
    "start_time": "2022-03-22T07:49:13.691Z"
   },
   {
    "duration": 17,
    "start_time": "2022-03-22T07:49:16.215Z"
   },
   {
    "duration": 16,
    "start_time": "2022-03-22T07:49:40.683Z"
   },
   {
    "duration": 24,
    "start_time": "2022-03-22T07:49:42.913Z"
   },
   {
    "duration": 18,
    "start_time": "2022-03-22T07:49:45.272Z"
   },
   {
    "duration": 2533,
    "start_time": "2022-03-22T07:50:46.351Z"
   },
   {
    "duration": 17,
    "start_time": "2022-03-22T07:53:41.780Z"
   },
   {
    "duration": 221,
    "start_time": "2022-03-22T07:55:02.212Z"
   },
   {
    "duration": 275,
    "start_time": "2022-03-22T07:59:49.239Z"
   },
   {
    "duration": 614,
    "start_time": "2022-03-22T08:00:30.903Z"
   },
   {
    "duration": 24,
    "start_time": "2022-03-22T08:01:25.613Z"
   },
   {
    "duration": 6,
    "start_time": "2022-03-22T08:01:29.530Z"
   },
   {
    "duration": 24,
    "start_time": "2022-03-22T08:01:30.921Z"
   },
   {
    "duration": 11,
    "start_time": "2022-03-22T08:01:35.603Z"
   },
   {
    "duration": 9,
    "start_time": "2022-03-22T08:01:37.400Z"
   },
   {
    "duration": 13,
    "start_time": "2022-03-22T08:01:38.665Z"
   },
   {
    "duration": 317,
    "start_time": "2022-03-22T08:01:40.247Z"
   },
   {
    "duration": 247,
    "start_time": "2022-03-22T08:02:00.468Z"
   },
   {
    "duration": 244,
    "start_time": "2022-03-22T08:02:07.768Z"
   },
   {
    "duration": 9,
    "start_time": "2022-03-22T08:05:39.350Z"
   },
   {
    "duration": 3,
    "start_time": "2022-03-22T08:07:44.530Z"
   },
   {
    "duration": 411,
    "start_time": "2022-03-22T08:07:51.141Z"
   },
   {
    "duration": 3,
    "start_time": "2022-03-22T08:07:51.554Z"
   },
   {
    "duration": 876,
    "start_time": "2022-03-22T08:07:51.558Z"
   },
   {
    "duration": 5,
    "start_time": "2022-03-22T08:07:52.437Z"
   },
   {
    "duration": 4,
    "start_time": "2022-03-22T08:07:52.443Z"
   },
   {
    "duration": 4,
    "start_time": "2022-03-22T08:07:52.449Z"
   },
   {
    "duration": 5,
    "start_time": "2022-03-22T08:07:52.455Z"
   },
   {
    "duration": 404,
    "start_time": "2022-03-22T08:08:40.765Z"
   },
   {
    "duration": 3,
    "start_time": "2022-03-22T08:08:41.170Z"
   },
   {
    "duration": 852,
    "start_time": "2022-03-22T08:08:41.175Z"
   },
   {
    "duration": 6,
    "start_time": "2022-03-22T08:08:42.029Z"
   },
   {
    "duration": 5,
    "start_time": "2022-03-22T08:08:42.036Z"
   },
   {
    "duration": 4,
    "start_time": "2022-03-22T08:08:42.043Z"
   },
   {
    "duration": 4,
    "start_time": "2022-03-22T08:08:42.049Z"
   },
   {
    "duration": 71576,
    "start_time": "2022-03-22T08:08:42.054Z"
   },
   {
    "duration": 39,
    "start_time": "2022-03-22T08:09:53.633Z"
   },
   {
    "duration": 4,
    "start_time": "2022-03-22T08:09:53.675Z"
   },
   {
    "duration": 18,
    "start_time": "2022-03-22T08:09:53.681Z"
   },
   {
    "duration": 39,
    "start_time": "2022-03-22T08:09:53.701Z"
   },
   {
    "duration": 4,
    "start_time": "2022-03-22T08:09:53.742Z"
   },
   {
    "duration": 11,
    "start_time": "2022-03-22T08:09:53.748Z"
   },
   {
    "duration": 6,
    "start_time": "2022-03-22T08:09:53.761Z"
   },
   {
    "duration": 10,
    "start_time": "2022-03-22T08:09:53.769Z"
   },
   {
    "duration": 6,
    "start_time": "2022-03-22T08:09:53.781Z"
   },
   {
    "duration": 12,
    "start_time": "2022-03-22T08:09:53.789Z"
   },
   {
    "duration": 10,
    "start_time": "2022-03-22T08:09:53.834Z"
   },
   {
    "duration": 11,
    "start_time": "2022-03-22T08:09:53.846Z"
   },
   {
    "duration": 19,
    "start_time": "2022-03-22T08:09:53.859Z"
   },
   {
    "duration": 17,
    "start_time": "2022-03-22T08:09:53.880Z"
   },
   {
    "duration": 49,
    "start_time": "2022-03-22T08:09:53.899Z"
   },
   {
    "duration": 18,
    "start_time": "2022-03-22T08:09:53.950Z"
   },
   {
    "duration": 3,
    "start_time": "2022-03-22T08:09:53.970Z"
   },
   {
    "duration": 8,
    "start_time": "2022-03-22T08:09:53.975Z"
   },
   {
    "duration": 49,
    "start_time": "2022-03-22T08:09:53.985Z"
   },
   {
    "duration": 196,
    "start_time": "2022-03-22T08:09:54.039Z"
   },
   {
    "duration": 15,
    "start_time": "2022-03-22T08:09:54.237Z"
   },
   {
    "duration": 202,
    "start_time": "2022-03-22T08:09:54.254Z"
   },
   {
    "duration": 8,
    "start_time": "2022-03-22T08:09:54.458Z"
   },
   {
    "duration": 15,
    "start_time": "2022-03-22T08:09:54.467Z"
   },
   {
    "duration": 215,
    "start_time": "2022-03-22T08:09:54.484Z"
   },
   {
    "duration": 460,
    "start_time": "2022-03-22T08:09:54.701Z"
   },
   {
    "duration": 0,
    "start_time": "2022-03-22T08:09:55.163Z"
   },
   {
    "duration": 0,
    "start_time": "2022-03-22T08:09:55.164Z"
   },
   {
    "duration": 0,
    "start_time": "2022-03-22T08:09:55.165Z"
   },
   {
    "duration": 0,
    "start_time": "2022-03-22T08:09:55.166Z"
   },
   {
    "duration": 0,
    "start_time": "2022-03-22T08:09:55.167Z"
   },
   {
    "duration": 0,
    "start_time": "2022-03-22T08:09:55.168Z"
   },
   {
    "duration": 0,
    "start_time": "2022-03-22T08:09:55.169Z"
   },
   {
    "duration": 0,
    "start_time": "2022-03-22T08:09:55.170Z"
   },
   {
    "duration": 0,
    "start_time": "2022-03-22T08:09:55.171Z"
   },
   {
    "duration": 0,
    "start_time": "2022-03-22T08:09:55.172Z"
   },
   {
    "duration": 0,
    "start_time": "2022-03-22T08:09:55.173Z"
   },
   {
    "duration": 0,
    "start_time": "2022-03-22T08:09:55.174Z"
   },
   {
    "duration": 1,
    "start_time": "2022-03-22T08:09:55.174Z"
   },
   {
    "duration": 0,
    "start_time": "2022-03-22T08:09:55.176Z"
   },
   {
    "duration": 0,
    "start_time": "2022-03-22T08:09:55.176Z"
   },
   {
    "duration": 0,
    "start_time": "2022-03-22T08:09:55.177Z"
   },
   {
    "duration": 0,
    "start_time": "2022-03-22T08:09:55.178Z"
   },
   {
    "duration": 0,
    "start_time": "2022-03-22T08:09:55.179Z"
   },
   {
    "duration": 0,
    "start_time": "2022-03-22T08:09:55.180Z"
   },
   {
    "duration": 0,
    "start_time": "2022-03-22T08:09:55.181Z"
   },
   {
    "duration": 0,
    "start_time": "2022-03-22T08:09:55.182Z"
   },
   {
    "duration": 0,
    "start_time": "2022-03-22T08:09:55.183Z"
   },
   {
    "duration": 0,
    "start_time": "2022-03-22T08:09:55.184Z"
   },
   {
    "duration": 0,
    "start_time": "2022-03-22T08:09:55.185Z"
   },
   {
    "duration": 0,
    "start_time": "2022-03-22T08:09:55.186Z"
   },
   {
    "duration": 0,
    "start_time": "2022-03-22T08:09:55.187Z"
   },
   {
    "duration": 0,
    "start_time": "2022-03-22T08:09:55.188Z"
   },
   {
    "duration": 0,
    "start_time": "2022-03-22T08:09:55.189Z"
   },
   {
    "duration": 0,
    "start_time": "2022-03-22T08:09:55.233Z"
   },
   {
    "duration": 0,
    "start_time": "2022-03-22T08:09:55.234Z"
   },
   {
    "duration": 0,
    "start_time": "2022-03-22T08:09:55.235Z"
   },
   {
    "duration": 0,
    "start_time": "2022-03-22T08:09:55.236Z"
   },
   {
    "duration": 1,
    "start_time": "2022-03-22T08:09:55.237Z"
   },
   {
    "duration": 0,
    "start_time": "2022-03-22T08:09:55.238Z"
   },
   {
    "duration": 0,
    "start_time": "2022-03-22T08:09:55.239Z"
   },
   {
    "duration": 0,
    "start_time": "2022-03-22T08:09:55.240Z"
   },
   {
    "duration": 0,
    "start_time": "2022-03-22T08:09:55.241Z"
   },
   {
    "duration": 0,
    "start_time": "2022-03-22T08:09:55.242Z"
   },
   {
    "duration": 0,
    "start_time": "2022-03-22T08:09:55.243Z"
   },
   {
    "duration": 353,
    "start_time": "2022-03-22T08:10:18.320Z"
   },
   {
    "duration": 215,
    "start_time": "2022-03-22T08:10:24.952Z"
   },
   {
    "duration": 442,
    "start_time": "2022-03-22T08:11:11.996Z"
   },
   {
    "duration": 420,
    "start_time": "2022-03-22T08:12:25.791Z"
   },
   {
    "duration": 7,
    "start_time": "2022-03-22T08:12:58.789Z"
   },
   {
    "duration": 14,
    "start_time": "2022-03-22T08:13:00.348Z"
   },
   {
    "duration": 197,
    "start_time": "2022-03-22T08:13:03.195Z"
   },
   {
    "duration": 420,
    "start_time": "2022-03-22T08:13:05.783Z"
   },
   {
    "duration": 399,
    "start_time": "2022-03-22T08:14:13.194Z"
   },
   {
    "duration": 3,
    "start_time": "2022-03-22T08:14:13.595Z"
   },
   {
    "duration": 863,
    "start_time": "2022-03-22T08:14:13.599Z"
   },
   {
    "duration": 6,
    "start_time": "2022-03-22T08:14:14.464Z"
   },
   {
    "duration": 12,
    "start_time": "2022-03-22T08:14:14.471Z"
   },
   {
    "duration": 7,
    "start_time": "2022-03-22T08:14:14.484Z"
   },
   {
    "duration": 6,
    "start_time": "2022-03-22T08:14:14.493Z"
   },
   {
    "duration": 54452,
    "start_time": "2022-03-22T08:14:14.500Z"
   },
   {
    "duration": 39,
    "start_time": "2022-03-22T08:15:08.954Z"
   },
   {
    "duration": 5,
    "start_time": "2022-03-22T08:15:08.995Z"
   },
   {
    "duration": 17,
    "start_time": "2022-03-22T08:15:09.001Z"
   },
   {
    "duration": 16,
    "start_time": "2022-03-22T08:15:09.019Z"
   },
   {
    "duration": 3,
    "start_time": "2022-03-22T08:15:09.037Z"
   },
   {
    "duration": 13,
    "start_time": "2022-03-22T08:15:09.042Z"
   },
   {
    "duration": 6,
    "start_time": "2022-03-22T08:15:09.056Z"
   },
   {
    "duration": 9,
    "start_time": "2022-03-22T08:15:09.063Z"
   },
   {
    "duration": 5,
    "start_time": "2022-03-22T08:15:09.074Z"
   },
   {
    "duration": 13,
    "start_time": "2022-03-22T08:15:09.080Z"
   },
   {
    "duration": 39,
    "start_time": "2022-03-22T08:15:09.095Z"
   },
   {
    "duration": 11,
    "start_time": "2022-03-22T08:15:09.136Z"
   },
   {
    "duration": 17,
    "start_time": "2022-03-22T08:15:09.149Z"
   },
   {
    "duration": 16,
    "start_time": "2022-03-22T08:15:09.168Z"
   },
   {
    "duration": 48,
    "start_time": "2022-03-22T08:15:09.185Z"
   },
   {
    "duration": 19,
    "start_time": "2022-03-22T08:15:09.235Z"
   },
   {
    "duration": 3,
    "start_time": "2022-03-22T08:15:09.255Z"
   },
   {
    "duration": 7,
    "start_time": "2022-03-22T08:15:09.259Z"
   },
   {
    "duration": 19,
    "start_time": "2022-03-22T08:15:09.267Z"
   },
   {
    "duration": 222,
    "start_time": "2022-03-22T08:15:09.291Z"
   },
   {
    "duration": 26,
    "start_time": "2022-03-22T08:15:09.515Z"
   },
   {
    "duration": 199,
    "start_time": "2022-03-22T08:15:09.543Z"
   },
   {
    "duration": 9,
    "start_time": "2022-03-22T08:15:09.744Z"
   },
   {
    "duration": 18,
    "start_time": "2022-03-22T08:15:09.755Z"
   },
   {
    "duration": 250,
    "start_time": "2022-03-22T08:15:09.775Z"
   },
   {
    "duration": 455,
    "start_time": "2022-03-22T08:15:10.027Z"
   },
   {
    "duration": 30,
    "start_time": "2022-03-22T08:15:10.483Z"
   },
   {
    "duration": 542,
    "start_time": "2022-03-22T08:15:10.515Z"
   },
   {
    "duration": 16,
    "start_time": "2022-03-22T08:15:11.059Z"
   },
   {
    "duration": 2,
    "start_time": "2022-03-22T08:15:11.077Z"
   },
   {
    "duration": 6,
    "start_time": "2022-03-22T08:15:11.080Z"
   },
   {
    "duration": 28,
    "start_time": "2022-03-22T08:15:11.087Z"
   },
   {
    "duration": 21,
    "start_time": "2022-03-22T08:15:11.117Z"
   },
   {
    "duration": 290,
    "start_time": "2022-03-22T08:15:11.140Z"
   },
   {
    "duration": 291,
    "start_time": "2022-03-22T08:15:11.433Z"
   },
   {
    "duration": 36,
    "start_time": "2022-03-22T08:15:11.726Z"
   },
   {
    "duration": 15,
    "start_time": "2022-03-22T08:15:11.764Z"
   },
   {
    "duration": 142,
    "start_time": "2022-03-22T08:15:11.781Z"
   },
   {
    "duration": 5,
    "start_time": "2022-03-22T08:15:11.934Z"
   },
   {
    "duration": 127,
    "start_time": "2022-03-22T08:15:11.940Z"
   },
   {
    "duration": 5,
    "start_time": "2022-03-22T08:15:12.068Z"
   },
   {
    "duration": 248,
    "start_time": "2022-03-22T08:15:12.075Z"
   },
   {
    "duration": 10,
    "start_time": "2022-03-22T08:15:12.325Z"
   },
   {
    "duration": 1861,
    "start_time": "2022-03-22T08:15:12.336Z"
   },
   {
    "duration": 289,
    "start_time": "2022-03-22T08:15:14.198Z"
   },
   {
    "duration": 15,
    "start_time": "2022-03-22T08:15:14.488Z"
   },
   {
    "duration": 191,
    "start_time": "2022-03-22T08:15:14.505Z"
   },
   {
    "duration": 6,
    "start_time": "2022-03-22T08:15:14.697Z"
   },
   {
    "duration": 663,
    "start_time": "2022-03-22T08:15:14.705Z"
   },
   {
    "duration": 2,
    "start_time": "2022-03-22T08:15:15.370Z"
   },
   {
    "duration": 1632,
    "start_time": "2022-03-22T08:15:15.373Z"
   },
   {
    "duration": 26,
    "start_time": "2022-03-22T08:15:17.007Z"
   },
   {
    "duration": 10,
    "start_time": "2022-03-22T08:15:17.035Z"
   },
   {
    "duration": 232,
    "start_time": "2022-03-22T08:15:17.046Z"
   },
   {
    "duration": 185,
    "start_time": "2022-03-22T08:15:17.279Z"
   },
   {
    "duration": 6,
    "start_time": "2022-03-22T08:15:17.465Z"
   },
   {
    "duration": 29,
    "start_time": "2022-03-22T08:15:17.472Z"
   },
   {
    "duration": 7,
    "start_time": "2022-03-22T08:15:17.502Z"
   },
   {
    "duration": 8,
    "start_time": "2022-03-22T08:15:17.532Z"
   },
   {
    "duration": 10,
    "start_time": "2022-03-22T08:15:17.542Z"
   },
   {
    "duration": 8,
    "start_time": "2022-03-22T08:15:17.554Z"
   },
   {
    "duration": 28,
    "start_time": "2022-03-22T08:15:17.564Z"
   },
   {
    "duration": 5,
    "start_time": "2022-03-22T08:15:17.594Z"
   },
   {
    "duration": 35,
    "start_time": "2022-03-22T08:15:17.601Z"
   },
   {
    "duration": 10,
    "start_time": "2022-03-22T08:15:17.638Z"
   },
   {
    "duration": 0,
    "start_time": "2022-03-22T08:17:14.747Z"
   },
   {
    "duration": 0,
    "start_time": "2022-03-22T08:17:14.748Z"
   },
   {
    "duration": 0,
    "start_time": "2022-03-22T08:17:14.749Z"
   },
   {
    "duration": 0,
    "start_time": "2022-03-22T08:17:14.750Z"
   },
   {
    "duration": 0,
    "start_time": "2022-03-22T08:17:14.751Z"
   },
   {
    "duration": 0,
    "start_time": "2022-03-22T08:17:14.752Z"
   },
   {
    "duration": 0,
    "start_time": "2022-03-22T08:17:14.753Z"
   },
   {
    "duration": 0,
    "start_time": "2022-03-22T08:17:14.755Z"
   },
   {
    "duration": 0,
    "start_time": "2022-03-22T08:17:14.756Z"
   },
   {
    "duration": 0,
    "start_time": "2022-03-22T08:17:14.757Z"
   },
   {
    "duration": 0,
    "start_time": "2022-03-22T08:17:14.757Z"
   },
   {
    "duration": 0,
    "start_time": "2022-03-22T08:17:14.759Z"
   },
   {
    "duration": 0,
    "start_time": "2022-03-22T08:17:14.760Z"
   },
   {
    "duration": 0,
    "start_time": "2022-03-22T08:17:14.761Z"
   },
   {
    "duration": 0,
    "start_time": "2022-03-22T08:17:14.762Z"
   },
   {
    "duration": 0,
    "start_time": "2022-03-22T08:17:14.763Z"
   },
   {
    "duration": 0,
    "start_time": "2022-03-22T08:17:14.764Z"
   },
   {
    "duration": 0,
    "start_time": "2022-03-22T08:17:14.765Z"
   },
   {
    "duration": 0,
    "start_time": "2022-03-22T08:17:14.766Z"
   },
   {
    "duration": 0,
    "start_time": "2022-03-22T08:17:14.767Z"
   },
   {
    "duration": 0,
    "start_time": "2022-03-22T08:17:14.768Z"
   },
   {
    "duration": 0,
    "start_time": "2022-03-22T08:17:14.769Z"
   },
   {
    "duration": 0,
    "start_time": "2022-03-22T08:17:14.769Z"
   },
   {
    "duration": 0,
    "start_time": "2022-03-22T08:17:14.771Z"
   },
   {
    "duration": 0,
    "start_time": "2022-03-22T08:17:14.771Z"
   },
   {
    "duration": 0,
    "start_time": "2022-03-22T08:17:14.833Z"
   },
   {
    "duration": 0,
    "start_time": "2022-03-22T08:17:14.834Z"
   },
   {
    "duration": 0,
    "start_time": "2022-03-22T08:17:14.835Z"
   },
   {
    "duration": 0,
    "start_time": "2022-03-22T08:17:14.836Z"
   },
   {
    "duration": 0,
    "start_time": "2022-03-22T08:17:14.837Z"
   },
   {
    "duration": 0,
    "start_time": "2022-03-22T08:17:14.838Z"
   },
   {
    "duration": 0,
    "start_time": "2022-03-22T08:17:14.839Z"
   },
   {
    "duration": 0,
    "start_time": "2022-03-22T08:17:14.840Z"
   },
   {
    "duration": 0,
    "start_time": "2022-03-22T08:17:14.840Z"
   },
   {
    "duration": 0,
    "start_time": "2022-03-22T08:17:14.841Z"
   },
   {
    "duration": 0,
    "start_time": "2022-03-22T08:17:14.842Z"
   },
   {
    "duration": 0,
    "start_time": "2022-03-22T08:17:14.843Z"
   },
   {
    "duration": 0,
    "start_time": "2022-03-22T08:17:14.844Z"
   },
   {
    "duration": 0,
    "start_time": "2022-03-22T08:17:14.845Z"
   },
   {
    "duration": 0,
    "start_time": "2022-03-22T08:17:14.846Z"
   },
   {
    "duration": 0,
    "start_time": "2022-03-22T08:17:14.847Z"
   },
   {
    "duration": 1,
    "start_time": "2022-03-22T08:17:14.848Z"
   },
   {
    "duration": 0,
    "start_time": "2022-03-22T08:17:14.849Z"
   },
   {
    "duration": 0,
    "start_time": "2022-03-22T08:17:14.850Z"
   },
   {
    "duration": 0,
    "start_time": "2022-03-22T08:17:14.852Z"
   },
   {
    "duration": 0,
    "start_time": "2022-03-22T08:17:14.853Z"
   },
   {
    "duration": 1,
    "start_time": "2022-03-22T08:17:14.853Z"
   },
   {
    "duration": 0,
    "start_time": "2022-03-22T08:17:14.855Z"
   },
   {
    "duration": 0,
    "start_time": "2022-03-22T08:17:14.856Z"
   },
   {
    "duration": 0,
    "start_time": "2022-03-22T08:17:14.857Z"
   },
   {
    "duration": 0,
    "start_time": "2022-03-22T08:17:14.858Z"
   },
   {
    "duration": 0,
    "start_time": "2022-03-22T08:17:14.859Z"
   },
   {
    "duration": 0,
    "start_time": "2022-03-22T08:17:14.860Z"
   },
   {
    "duration": 0,
    "start_time": "2022-03-22T08:17:14.861Z"
   },
   {
    "duration": 0,
    "start_time": "2022-03-22T08:17:14.862Z"
   },
   {
    "duration": 0,
    "start_time": "2022-03-22T08:17:14.863Z"
   },
   {
    "duration": 0,
    "start_time": "2022-03-22T08:17:14.864Z"
   },
   {
    "duration": 0,
    "start_time": "2022-03-22T08:17:14.865Z"
   },
   {
    "duration": 0,
    "start_time": "2022-03-22T08:17:14.866Z"
   },
   {
    "duration": 0,
    "start_time": "2022-03-22T08:17:14.867Z"
   },
   {
    "duration": 0,
    "start_time": "2022-03-22T08:17:14.868Z"
   },
   {
    "duration": 0,
    "start_time": "2022-03-22T08:17:14.869Z"
   },
   {
    "duration": 0,
    "start_time": "2022-03-22T08:17:14.933Z"
   },
   {
    "duration": 0,
    "start_time": "2022-03-22T08:17:14.934Z"
   },
   {
    "duration": 0,
    "start_time": "2022-03-22T08:17:14.935Z"
   },
   {
    "duration": 0,
    "start_time": "2022-03-22T08:17:14.936Z"
   },
   {
    "duration": 0,
    "start_time": "2022-03-22T08:17:14.937Z"
   },
   {
    "duration": 0,
    "start_time": "2022-03-22T08:17:14.939Z"
   },
   {
    "duration": 0,
    "start_time": "2022-03-22T08:17:14.939Z"
   },
   {
    "duration": 0,
    "start_time": "2022-03-22T08:17:14.941Z"
   },
   {
    "duration": 0,
    "start_time": "2022-03-22T08:17:14.942Z"
   },
   {
    "duration": 0,
    "start_time": "2022-03-22T08:17:14.943Z"
   },
   {
    "duration": 0,
    "start_time": "2022-03-22T08:17:14.944Z"
   },
   {
    "duration": 394,
    "start_time": "2022-03-22T08:18:00.188Z"
   },
   {
    "duration": 2,
    "start_time": "2022-03-22T08:18:00.584Z"
   },
   {
    "duration": 826,
    "start_time": "2022-03-22T08:18:00.588Z"
   },
   {
    "duration": 5,
    "start_time": "2022-03-22T08:18:01.416Z"
   },
   {
    "duration": 11,
    "start_time": "2022-03-22T08:18:01.423Z"
   },
   {
    "duration": 13,
    "start_time": "2022-03-22T08:18:01.435Z"
   },
   {
    "duration": 14,
    "start_time": "2022-03-22T08:18:01.450Z"
   },
   {
    "duration": 105530,
    "start_time": "2022-03-22T08:18:01.466Z"
   },
   {
    "duration": 46,
    "start_time": "2022-03-22T08:19:46.998Z"
   },
   {
    "duration": 4,
    "start_time": "2022-03-22T08:19:47.047Z"
   },
   {
    "duration": 24,
    "start_time": "2022-03-22T08:19:47.052Z"
   },
   {
    "duration": 16,
    "start_time": "2022-03-22T08:19:47.078Z"
   },
   {
    "duration": 4,
    "start_time": "2022-03-22T08:19:47.096Z"
   },
   {
    "duration": 15,
    "start_time": "2022-03-22T08:19:47.102Z"
   },
   {
    "duration": 5,
    "start_time": "2022-03-22T08:19:47.134Z"
   },
   {
    "duration": 12,
    "start_time": "2022-03-22T08:19:47.140Z"
   },
   {
    "duration": 7,
    "start_time": "2022-03-22T08:19:47.153Z"
   },
   {
    "duration": 13,
    "start_time": "2022-03-22T08:19:47.161Z"
   },
   {
    "duration": 9,
    "start_time": "2022-03-22T08:19:47.175Z"
   },
   {
    "duration": 13,
    "start_time": "2022-03-22T08:19:47.186Z"
   },
   {
    "duration": 46,
    "start_time": "2022-03-22T08:19:47.201Z"
   },
   {
    "duration": 17,
    "start_time": "2022-03-22T08:19:47.249Z"
   },
   {
    "duration": 16,
    "start_time": "2022-03-22T08:19:47.268Z"
   },
   {
    "duration": 48,
    "start_time": "2022-03-22T08:19:47.286Z"
   },
   {
    "duration": 3,
    "start_time": "2022-03-22T08:19:47.335Z"
   },
   {
    "duration": 6,
    "start_time": "2022-03-22T08:19:47.340Z"
   },
   {
    "duration": 19,
    "start_time": "2022-03-22T08:19:47.348Z"
   },
   {
    "duration": 211,
    "start_time": "2022-03-22T08:19:47.371Z"
   },
   {
    "duration": 16,
    "start_time": "2022-03-22T08:19:47.584Z"
   },
   {
    "duration": 204,
    "start_time": "2022-03-22T08:19:47.602Z"
   },
   {
    "duration": 8,
    "start_time": "2022-03-22T08:19:47.808Z"
   },
   {
    "duration": 25,
    "start_time": "2022-03-22T08:19:47.817Z"
   },
   {
    "duration": 215,
    "start_time": "2022-03-22T08:19:47.844Z"
   },
   {
    "duration": 565,
    "start_time": "2022-03-22T08:19:48.061Z"
   },
   {
    "duration": 33,
    "start_time": "2022-03-22T08:19:48.627Z"
   },
   {
    "duration": 557,
    "start_time": "2022-03-22T08:19:48.662Z"
   },
   {
    "duration": 25,
    "start_time": "2022-03-22T08:19:49.221Z"
   },
   {
    "duration": 3,
    "start_time": "2022-03-22T08:19:49.247Z"
   },
   {
    "duration": 6,
    "start_time": "2022-03-22T08:19:49.251Z"
   },
   {
    "duration": 29,
    "start_time": "2022-03-22T08:19:49.259Z"
   },
   {
    "duration": 8,
    "start_time": "2022-03-22T08:19:49.290Z"
   },
   {
    "duration": 316,
    "start_time": "2022-03-22T08:19:49.299Z"
   },
   {
    "duration": 288,
    "start_time": "2022-03-22T08:19:49.617Z"
   },
   {
    "duration": 47,
    "start_time": "2022-03-22T08:19:49.907Z"
   },
   {
    "duration": 16,
    "start_time": "2022-03-22T08:19:49.956Z"
   },
   {
    "duration": 140,
    "start_time": "2022-03-22T08:19:49.974Z"
   },
   {
    "duration": 4,
    "start_time": "2022-03-22T08:19:50.116Z"
   },
   {
    "duration": 118,
    "start_time": "2022-03-22T08:19:50.133Z"
   },
   {
    "duration": 5,
    "start_time": "2022-03-22T08:19:50.253Z"
   },
   {
    "duration": 243,
    "start_time": "2022-03-22T08:19:50.259Z"
   },
   {
    "duration": 5,
    "start_time": "2022-03-22T08:19:50.504Z"
   },
   {
    "duration": 1917,
    "start_time": "2022-03-22T08:19:50.510Z"
   },
   {
    "duration": 288,
    "start_time": "2022-03-22T08:19:52.433Z"
   },
   {
    "duration": 24,
    "start_time": "2022-03-22T08:19:52.723Z"
   },
   {
    "duration": 187,
    "start_time": "2022-03-22T08:19:52.748Z"
   },
   {
    "duration": 7,
    "start_time": "2022-03-22T08:19:52.937Z"
   },
   {
    "duration": 729,
    "start_time": "2022-03-22T08:19:52.946Z"
   },
   {
    "duration": 2,
    "start_time": "2022-03-22T08:19:53.677Z"
   },
   {
    "duration": 1933,
    "start_time": "2022-03-22T08:19:53.681Z"
   },
   {
    "duration": 25,
    "start_time": "2022-03-22T08:19:55.616Z"
   },
   {
    "duration": 14,
    "start_time": "2022-03-22T08:19:55.644Z"
   },
   {
    "duration": 349,
    "start_time": "2022-03-22T08:19:55.660Z"
   },
   {
    "duration": 194,
    "start_time": "2022-03-22T08:19:56.011Z"
   },
   {
    "duration": 6,
    "start_time": "2022-03-22T08:19:56.207Z"
   },
   {
    "duration": 37,
    "start_time": "2022-03-22T08:19:56.214Z"
   },
   {
    "duration": 6,
    "start_time": "2022-03-22T08:19:56.252Z"
   },
   {
    "duration": 10,
    "start_time": "2022-03-22T08:19:56.259Z"
   },
   {
    "duration": 8,
    "start_time": "2022-03-22T08:19:56.271Z"
   },
   {
    "duration": 10,
    "start_time": "2022-03-22T08:19:56.281Z"
   },
   {
    "duration": 41,
    "start_time": "2022-03-22T08:19:56.293Z"
   },
   {
    "duration": 6,
    "start_time": "2022-03-22T08:19:56.336Z"
   },
   {
    "duration": 10,
    "start_time": "2022-03-22T08:19:56.344Z"
   },
   {
    "duration": 9,
    "start_time": "2022-03-22T08:19:56.355Z"
   },
   {
    "duration": 101751,
    "start_time": "2022-03-22T08:23:13.095Z"
   },
   {
    "duration": 0,
    "start_time": "2022-03-22T08:28:09.611Z"
   },
   {
    "duration": 0,
    "start_time": "2022-03-22T08:28:09.612Z"
   },
   {
    "duration": 0,
    "start_time": "2022-03-22T08:28:09.613Z"
   },
   {
    "duration": 0,
    "start_time": "2022-03-22T08:28:09.614Z"
   },
   {
    "duration": 0,
    "start_time": "2022-03-22T08:28:09.615Z"
   },
   {
    "duration": 0,
    "start_time": "2022-03-22T08:28:09.616Z"
   },
   {
    "duration": 0,
    "start_time": "2022-03-22T08:28:09.617Z"
   },
   {
    "duration": 0,
    "start_time": "2022-03-22T08:28:09.618Z"
   },
   {
    "duration": 0,
    "start_time": "2022-03-22T08:28:09.633Z"
   },
   {
    "duration": 0,
    "start_time": "2022-03-22T08:28:09.634Z"
   },
   {
    "duration": 0,
    "start_time": "2022-03-22T08:28:09.635Z"
   },
   {
    "duration": 0,
    "start_time": "2022-03-22T08:28:09.636Z"
   },
   {
    "duration": 0,
    "start_time": "2022-03-22T08:28:09.637Z"
   },
   {
    "duration": 0,
    "start_time": "2022-03-22T08:28:09.638Z"
   },
   {
    "duration": 0,
    "start_time": "2022-03-22T08:28:09.639Z"
   },
   {
    "duration": 0,
    "start_time": "2022-03-22T08:28:09.640Z"
   },
   {
    "duration": 0,
    "start_time": "2022-03-22T08:28:09.641Z"
   },
   {
    "duration": 0,
    "start_time": "2022-03-22T08:28:09.642Z"
   },
   {
    "duration": 0,
    "start_time": "2022-03-22T08:28:09.643Z"
   },
   {
    "duration": 0,
    "start_time": "2022-03-22T08:28:09.644Z"
   },
   {
    "duration": 0,
    "start_time": "2022-03-22T08:28:09.645Z"
   },
   {
    "duration": 0,
    "start_time": "2022-03-22T08:28:09.646Z"
   },
   {
    "duration": 0,
    "start_time": "2022-03-22T08:28:09.646Z"
   },
   {
    "duration": 0,
    "start_time": "2022-03-22T08:28:09.648Z"
   },
   {
    "duration": 1,
    "start_time": "2022-03-22T08:28:09.648Z"
   },
   {
    "duration": 0,
    "start_time": "2022-03-22T08:28:09.650Z"
   },
   {
    "duration": 0,
    "start_time": "2022-03-22T08:28:09.651Z"
   },
   {
    "duration": 0,
    "start_time": "2022-03-22T08:28:09.652Z"
   },
   {
    "duration": 0,
    "start_time": "2022-03-22T08:28:09.653Z"
   },
   {
    "duration": 0,
    "start_time": "2022-03-22T08:28:09.654Z"
   },
   {
    "duration": 0,
    "start_time": "2022-03-22T08:28:09.654Z"
   },
   {
    "duration": 0,
    "start_time": "2022-03-22T08:28:09.656Z"
   },
   {
    "duration": 0,
    "start_time": "2022-03-22T08:28:09.656Z"
   },
   {
    "duration": 0,
    "start_time": "2022-03-22T08:28:09.657Z"
   },
   {
    "duration": 0,
    "start_time": "2022-03-22T08:28:09.658Z"
   },
   {
    "duration": 0,
    "start_time": "2022-03-22T08:28:09.659Z"
   },
   {
    "duration": 0,
    "start_time": "2022-03-22T08:28:09.660Z"
   },
   {
    "duration": 0,
    "start_time": "2022-03-22T08:28:09.661Z"
   },
   {
    "duration": 0,
    "start_time": "2022-03-22T08:28:09.662Z"
   },
   {
    "duration": 0,
    "start_time": "2022-03-22T08:28:09.663Z"
   },
   {
    "duration": 0,
    "start_time": "2022-03-22T08:28:09.664Z"
   },
   {
    "duration": 0,
    "start_time": "2022-03-22T08:28:09.665Z"
   },
   {
    "duration": 0,
    "start_time": "2022-03-22T08:28:09.666Z"
   },
   {
    "duration": 0,
    "start_time": "2022-03-22T08:28:09.667Z"
   },
   {
    "duration": 0,
    "start_time": "2022-03-22T08:28:09.733Z"
   },
   {
    "duration": 0,
    "start_time": "2022-03-22T08:28:09.735Z"
   },
   {
    "duration": 0,
    "start_time": "2022-03-22T08:28:09.736Z"
   },
   {
    "duration": 0,
    "start_time": "2022-03-22T08:28:09.737Z"
   },
   {
    "duration": 0,
    "start_time": "2022-03-22T08:28:09.738Z"
   },
   {
    "duration": 0,
    "start_time": "2022-03-22T08:28:09.739Z"
   },
   {
    "duration": 1,
    "start_time": "2022-03-22T08:28:09.740Z"
   },
   {
    "duration": 0,
    "start_time": "2022-03-22T08:28:09.742Z"
   },
   {
    "duration": 0,
    "start_time": "2022-03-22T08:28:09.743Z"
   },
   {
    "duration": 0,
    "start_time": "2022-03-22T08:28:09.744Z"
   },
   {
    "duration": 0,
    "start_time": "2022-03-22T08:28:09.745Z"
   },
   {
    "duration": 0,
    "start_time": "2022-03-22T08:28:09.746Z"
   },
   {
    "duration": 0,
    "start_time": "2022-03-22T08:28:09.748Z"
   },
   {
    "duration": 0,
    "start_time": "2022-03-22T08:28:09.749Z"
   },
   {
    "duration": 0,
    "start_time": "2022-03-22T08:28:09.750Z"
   },
   {
    "duration": 0,
    "start_time": "2022-03-22T08:28:09.751Z"
   },
   {
    "duration": 0,
    "start_time": "2022-03-22T08:28:09.753Z"
   },
   {
    "duration": 0,
    "start_time": "2022-03-22T08:28:09.754Z"
   },
   {
    "duration": 0,
    "start_time": "2022-03-22T08:28:09.756Z"
   },
   {
    "duration": 0,
    "start_time": "2022-03-22T08:28:09.757Z"
   },
   {
    "duration": 0,
    "start_time": "2022-03-22T08:28:09.758Z"
   },
   {
    "duration": 0,
    "start_time": "2022-03-22T08:28:09.759Z"
   },
   {
    "duration": 0,
    "start_time": "2022-03-22T08:28:09.760Z"
   },
   {
    "duration": 0,
    "start_time": "2022-03-22T08:28:09.762Z"
   },
   {
    "duration": 0,
    "start_time": "2022-03-22T08:28:09.763Z"
   },
   {
    "duration": 0,
    "start_time": "2022-03-22T08:28:09.765Z"
   },
   {
    "duration": 0,
    "start_time": "2022-03-22T08:28:09.766Z"
   },
   {
    "duration": 0,
    "start_time": "2022-03-22T08:28:09.768Z"
   },
   {
    "duration": 0,
    "start_time": "2022-03-22T08:28:09.833Z"
   },
   {
    "duration": 430,
    "start_time": "2022-03-22T08:28:35.200Z"
   },
   {
    "duration": 3,
    "start_time": "2022-03-22T08:28:35.633Z"
   },
   {
    "duration": 934,
    "start_time": "2022-03-22T08:28:35.637Z"
   },
   {
    "duration": 5,
    "start_time": "2022-03-22T08:28:36.574Z"
   },
   {
    "duration": 6,
    "start_time": "2022-03-22T08:28:36.580Z"
   },
   {
    "duration": 6,
    "start_time": "2022-03-22T08:28:36.587Z"
   },
   {
    "duration": 5,
    "start_time": "2022-03-22T08:28:36.594Z"
   },
   {
    "duration": 23204,
    "start_time": "2022-03-22T08:28:36.601Z"
   },
   {
    "duration": 44,
    "start_time": "2022-03-22T08:28:59.806Z"
   },
   {
    "duration": 4,
    "start_time": "2022-03-22T08:28:59.853Z"
   },
   {
    "duration": 20,
    "start_time": "2022-03-22T08:28:59.858Z"
   },
   {
    "duration": 16,
    "start_time": "2022-03-22T08:28:59.880Z"
   },
   {
    "duration": 3,
    "start_time": "2022-03-22T08:28:59.897Z"
   },
   {
    "duration": 33,
    "start_time": "2022-03-22T08:28:59.902Z"
   },
   {
    "duration": 6,
    "start_time": "2022-03-22T08:28:59.937Z"
   },
   {
    "duration": 11,
    "start_time": "2022-03-22T08:28:59.945Z"
   },
   {
    "duration": 6,
    "start_time": "2022-03-22T08:28:59.958Z"
   },
   {
    "duration": 11,
    "start_time": "2022-03-22T08:28:59.966Z"
   },
   {
    "duration": 17,
    "start_time": "2022-03-22T08:28:59.979Z"
   },
   {
    "duration": 46,
    "start_time": "2022-03-22T08:28:59.998Z"
   },
   {
    "duration": 22,
    "start_time": "2022-03-22T08:29:00.046Z"
   },
   {
    "duration": 16,
    "start_time": "2022-03-22T08:29:00.070Z"
   },
   {
    "duration": 22,
    "start_time": "2022-03-22T08:29:00.088Z"
   },
   {
    "duration": 32,
    "start_time": "2022-03-22T08:29:00.112Z"
   },
   {
    "duration": 2,
    "start_time": "2022-03-22T08:29:00.146Z"
   },
   {
    "duration": 16,
    "start_time": "2022-03-22T08:29:00.150Z"
   },
   {
    "duration": 28,
    "start_time": "2022-03-22T08:29:00.168Z"
   },
   {
    "duration": 191,
    "start_time": "2022-03-22T08:29:00.201Z"
   },
   {
    "duration": 19,
    "start_time": "2022-03-22T08:29:00.394Z"
   },
   {
    "duration": 210,
    "start_time": "2022-03-22T08:29:00.415Z"
   },
   {
    "duration": 14,
    "start_time": "2022-03-22T08:29:00.627Z"
   },
   {
    "duration": 30,
    "start_time": "2022-03-22T08:29:00.642Z"
   },
   {
    "duration": 209,
    "start_time": "2022-03-22T08:29:00.674Z"
   },
   {
    "duration": 910,
    "start_time": "2022-03-22T08:29:00.886Z"
   },
   {
    "duration": 44,
    "start_time": "2022-03-22T08:29:01.798Z"
   },
   {
    "duration": 541,
    "start_time": "2022-03-22T08:29:01.844Z"
   },
   {
    "duration": 15,
    "start_time": "2022-03-22T08:29:02.387Z"
   },
   {
    "duration": 3,
    "start_time": "2022-03-22T08:29:02.403Z"
   },
   {
    "duration": 24,
    "start_time": "2022-03-22T08:29:02.407Z"
   },
   {
    "duration": 29,
    "start_time": "2022-03-22T08:29:02.433Z"
   },
   {
    "duration": 9,
    "start_time": "2022-03-22T08:29:02.463Z"
   },
   {
    "duration": 314,
    "start_time": "2022-03-22T08:29:02.474Z"
   },
   {
    "duration": 287,
    "start_time": "2022-03-22T08:29:02.790Z"
   },
   {
    "duration": 34,
    "start_time": "2022-03-22T08:29:03.079Z"
   },
   {
    "duration": 31,
    "start_time": "2022-03-22T08:29:03.115Z"
   },
   {
    "duration": 140,
    "start_time": "2022-03-22T08:29:03.148Z"
   },
   {
    "duration": 5,
    "start_time": "2022-03-22T08:29:03.290Z"
   },
   {
    "duration": 123,
    "start_time": "2022-03-22T08:29:03.297Z"
   },
   {
    "duration": 13,
    "start_time": "2022-03-22T08:29:03.423Z"
   },
   {
    "duration": 245,
    "start_time": "2022-03-22T08:29:03.438Z"
   },
   {
    "duration": 4,
    "start_time": "2022-03-22T08:29:03.685Z"
   },
   {
    "duration": 1913,
    "start_time": "2022-03-22T08:29:03.691Z"
   },
   {
    "duration": 285,
    "start_time": "2022-03-22T08:29:05.605Z"
   },
   {
    "duration": 15,
    "start_time": "2022-03-22T08:29:05.892Z"
   },
   {
    "duration": 210,
    "start_time": "2022-03-22T08:29:05.909Z"
   },
   {
    "duration": 15,
    "start_time": "2022-03-22T08:29:06.121Z"
   },
   {
    "duration": 808,
    "start_time": "2022-03-22T08:29:06.138Z"
   },
   {
    "duration": 2,
    "start_time": "2022-03-22T08:29:06.948Z"
   },
   {
    "duration": 2155,
    "start_time": "2022-03-22T08:29:06.952Z"
   },
   {
    "duration": 25,
    "start_time": "2022-03-22T08:29:09.109Z"
   },
   {
    "duration": 12,
    "start_time": "2022-03-22T08:29:09.136Z"
   },
   {
    "duration": 277,
    "start_time": "2022-03-22T08:29:09.150Z"
   },
   {
    "duration": 201,
    "start_time": "2022-03-22T08:29:09.432Z"
   },
   {
    "duration": 6,
    "start_time": "2022-03-22T08:29:09.634Z"
   },
   {
    "duration": 34,
    "start_time": "2022-03-22T08:29:09.642Z"
   },
   {
    "duration": 6,
    "start_time": "2022-03-22T08:29:09.678Z"
   },
   {
    "duration": 12,
    "start_time": "2022-03-22T08:29:09.686Z"
   },
   {
    "duration": 14,
    "start_time": "2022-03-22T08:29:09.699Z"
   },
   {
    "duration": 7,
    "start_time": "2022-03-22T08:29:09.733Z"
   },
   {
    "duration": 34,
    "start_time": "2022-03-22T08:29:09.741Z"
   },
   {
    "duration": 7,
    "start_time": "2022-03-22T08:29:09.777Z"
   },
   {
    "duration": 9,
    "start_time": "2022-03-22T08:29:09.786Z"
   },
   {
    "duration": 16,
    "start_time": "2022-03-22T08:29:09.797Z"
   },
   {
    "duration": 362,
    "start_time": "2022-03-22T08:38:50.662Z"
   },
   {
    "duration": 369,
    "start_time": "2022-03-22T08:38:55.051Z"
   },
   {
    "duration": 420,
    "start_time": "2022-03-22T08:39:17.567Z"
   },
   {
    "duration": 3,
    "start_time": "2022-03-22T08:39:17.988Z"
   },
   {
    "duration": 876,
    "start_time": "2022-03-22T08:39:17.992Z"
   },
   {
    "duration": 5,
    "start_time": "2022-03-22T08:39:18.870Z"
   },
   {
    "duration": 5,
    "start_time": "2022-03-22T08:39:18.877Z"
   },
   {
    "duration": 6,
    "start_time": "2022-03-22T08:39:18.883Z"
   },
   {
    "duration": 8,
    "start_time": "2022-03-22T08:39:18.890Z"
   },
   {
    "duration": 101234,
    "start_time": "2022-03-22T08:39:18.899Z"
   },
   {
    "duration": 42,
    "start_time": "2022-03-22T08:41:00.135Z"
   },
   {
    "duration": 4,
    "start_time": "2022-03-22T08:41:00.181Z"
   },
   {
    "duration": 45,
    "start_time": "2022-03-22T08:41:00.187Z"
   },
   {
    "duration": 26,
    "start_time": "2022-03-22T08:41:00.234Z"
   },
   {
    "duration": 45,
    "start_time": "2022-03-22T08:41:00.262Z"
   },
   {
    "duration": 20,
    "start_time": "2022-03-22T08:41:00.309Z"
   },
   {
    "duration": 30,
    "start_time": "2022-03-22T08:41:00.331Z"
   },
   {
    "duration": 29,
    "start_time": "2022-03-22T08:41:00.362Z"
   },
   {
    "duration": 8,
    "start_time": "2022-03-22T08:41:00.393Z"
   },
   {
    "duration": 25,
    "start_time": "2022-03-22T08:41:00.403Z"
   },
   {
    "duration": 18,
    "start_time": "2022-03-22T08:41:00.429Z"
   },
   {
    "duration": 18,
    "start_time": "2022-03-22T08:41:00.449Z"
   },
   {
    "duration": 30,
    "start_time": "2022-03-22T08:41:00.469Z"
   },
   {
    "duration": 16,
    "start_time": "2022-03-22T08:41:00.501Z"
   },
   {
    "duration": 28,
    "start_time": "2022-03-22T08:41:00.519Z"
   },
   {
    "duration": 22,
    "start_time": "2022-03-22T08:41:00.548Z"
   },
   {
    "duration": 2,
    "start_time": "2022-03-22T08:41:00.571Z"
   },
   {
    "duration": 12,
    "start_time": "2022-03-22T08:41:00.575Z"
   },
   {
    "duration": 37,
    "start_time": "2022-03-22T08:41:00.589Z"
   },
   {
    "duration": 197,
    "start_time": "2022-03-22T08:41:00.630Z"
   },
   {
    "duration": 15,
    "start_time": "2022-03-22T08:41:00.832Z"
   },
   {
    "duration": 197,
    "start_time": "2022-03-22T08:41:00.849Z"
   },
   {
    "duration": 8,
    "start_time": "2022-03-22T08:41:01.048Z"
   },
   {
    "duration": 30,
    "start_time": "2022-03-22T08:41:01.058Z"
   },
   {
    "duration": 222,
    "start_time": "2022-03-22T08:41:01.090Z"
   },
   {
    "duration": 902,
    "start_time": "2022-03-22T08:41:01.314Z"
   },
   {
    "duration": 36,
    "start_time": "2022-03-22T08:41:02.218Z"
   },
   {
    "duration": 562,
    "start_time": "2022-03-22T08:41:02.256Z"
   },
   {
    "duration": 18,
    "start_time": "2022-03-22T08:41:02.820Z"
   },
   {
    "duration": 2,
    "start_time": "2022-03-22T08:41:02.840Z"
   },
   {
    "duration": 22,
    "start_time": "2022-03-22T08:41:02.844Z"
   },
   {
    "duration": 28,
    "start_time": "2022-03-22T08:41:02.867Z"
   },
   {
    "duration": 7,
    "start_time": "2022-03-22T08:41:02.897Z"
   },
   {
    "duration": 284,
    "start_time": "2022-03-22T08:41:02.905Z"
   },
   {
    "duration": 286,
    "start_time": "2022-03-22T08:41:03.190Z"
   },
   {
    "duration": 34,
    "start_time": "2022-03-22T08:41:03.478Z"
   },
   {
    "duration": 32,
    "start_time": "2022-03-22T08:41:03.514Z"
   },
   {
    "duration": 164,
    "start_time": "2022-03-22T08:41:03.548Z"
   },
   {
    "duration": 6,
    "start_time": "2022-03-22T08:41:03.714Z"
   },
   {
    "duration": 119,
    "start_time": "2022-03-22T08:41:03.740Z"
   },
   {
    "duration": 5,
    "start_time": "2022-03-22T08:41:03.861Z"
   },
   {
    "duration": 237,
    "start_time": "2022-03-22T08:41:03.868Z"
   },
   {
    "duration": 5,
    "start_time": "2022-03-22T08:41:04.107Z"
   },
   {
    "duration": 1892,
    "start_time": "2022-03-22T08:41:04.114Z"
   },
   {
    "duration": 294,
    "start_time": "2022-03-22T08:41:06.009Z"
   },
   {
    "duration": 16,
    "start_time": "2022-03-22T08:41:06.304Z"
   },
   {
    "duration": 184,
    "start_time": "2022-03-22T08:41:06.334Z"
   },
   {
    "duration": 14,
    "start_time": "2022-03-22T08:41:06.519Z"
   },
   {
    "duration": 685,
    "start_time": "2022-03-22T08:41:06.535Z"
   },
   {
    "duration": 2,
    "start_time": "2022-03-22T08:41:07.222Z"
   },
   {
    "duration": 1742,
    "start_time": "2022-03-22T08:41:07.225Z"
   },
   {
    "duration": 17,
    "start_time": "2022-03-22T08:41:08.968Z"
   },
   {
    "duration": 11,
    "start_time": "2022-03-22T08:41:08.986Z"
   },
   {
    "duration": 245,
    "start_time": "2022-03-22T08:41:08.999Z"
   },
   {
    "duration": 193,
    "start_time": "2022-03-22T08:41:09.246Z"
   },
   {
    "duration": 5,
    "start_time": "2022-03-22T08:41:09.441Z"
   },
   {
    "duration": 30,
    "start_time": "2022-03-22T08:41:09.448Z"
   },
   {
    "duration": 5,
    "start_time": "2022-03-22T08:41:09.480Z"
   },
   {
    "duration": 11,
    "start_time": "2022-03-22T08:41:09.487Z"
   },
   {
    "duration": 34,
    "start_time": "2022-03-22T08:41:09.499Z"
   },
   {
    "duration": 6,
    "start_time": "2022-03-22T08:41:09.535Z"
   },
   {
    "duration": 28,
    "start_time": "2022-03-22T08:41:09.543Z"
   },
   {
    "duration": 6,
    "start_time": "2022-03-22T08:41:09.573Z"
   },
   {
    "duration": 10,
    "start_time": "2022-03-22T08:41:09.580Z"
   },
   {
    "duration": 9,
    "start_time": "2022-03-22T08:41:09.592Z"
   },
   {
    "duration": 30,
    "start_time": "2022-03-22T08:45:56.713Z"
   },
   {
    "duration": 368,
    "start_time": "2022-03-22T08:46:54.037Z"
   },
   {
    "duration": 14,
    "start_time": "2022-03-22T08:47:00.830Z"
   },
   {
    "duration": 7,
    "start_time": "2022-03-22T08:47:02.193Z"
   },
   {
    "duration": 13,
    "start_time": "2022-03-22T08:47:03.246Z"
   },
   {
    "duration": 229,
    "start_time": "2022-03-22T08:47:04.394Z"
   },
   {
    "duration": 2,
    "start_time": "2022-03-22T08:49:44.538Z"
   },
   {
    "duration": 3,
    "start_time": "2022-03-22T08:49:46.412Z"
   },
   {
    "duration": 8,
    "start_time": "2022-03-22T08:51:34.181Z"
   },
   {
    "duration": 312,
    "start_time": "2022-03-22T08:51:36.868Z"
   },
   {
    "duration": 303,
    "start_time": "2022-03-22T08:51:54.904Z"
   },
   {
    "duration": 300,
    "start_time": "2022-03-22T08:52:30.909Z"
   },
   {
    "duration": 112,
    "start_time": "2022-03-22T08:59:03.771Z"
   },
   {
    "duration": 106,
    "start_time": "2022-03-22T08:59:29.578Z"
   },
   {
    "duration": 102,
    "start_time": "2022-03-22T08:59:54.499Z"
   },
   {
    "duration": 8,
    "start_time": "2022-03-22T09:01:27.070Z"
   },
   {
    "duration": 289,
    "start_time": "2022-03-22T09:01:29.636Z"
   },
   {
    "duration": 404,
    "start_time": "2022-03-22T09:01:40.490Z"
   },
   {
    "duration": 103,
    "start_time": "2022-03-22T09:01:48.490Z"
   },
   {
    "duration": 102,
    "start_time": "2022-03-22T09:02:03.048Z"
   },
   {
    "duration": 17,
    "start_time": "2022-03-22T09:11:50.761Z"
   },
   {
    "duration": 201,
    "start_time": "2022-03-22T09:12:12.053Z"
   },
   {
    "duration": 315,
    "start_time": "2022-03-22T09:12:34.677Z"
   },
   {
    "duration": 335,
    "start_time": "2022-03-22T09:13:02.672Z"
   },
   {
    "duration": 17,
    "start_time": "2022-03-22T09:13:44.123Z"
   },
   {
    "duration": 282,
    "start_time": "2022-03-22T09:13:56.877Z"
   },
   {
    "duration": 14,
    "start_time": "2022-03-22T09:13:59.854Z"
   },
   {
    "duration": 241,
    "start_time": "2022-03-22T09:14:06.761Z"
   },
   {
    "duration": 7,
    "start_time": "2022-03-22T09:14:09.000Z"
   },
   {
    "duration": 14,
    "start_time": "2022-03-22T09:14:10.299Z"
   },
   {
    "duration": 241,
    "start_time": "2022-03-22T09:14:12.292Z"
   },
   {
    "duration": 10,
    "start_time": "2022-03-22T09:14:39.054Z"
   },
   {
    "duration": 8,
    "start_time": "2022-03-22T09:14:41.161Z"
   },
   {
    "duration": 14,
    "start_time": "2022-03-22T09:14:42.285Z"
   },
   {
    "duration": 246,
    "start_time": "2022-03-22T09:14:46.111Z"
   },
   {
    "duration": 0,
    "start_time": "2022-03-22T09:17:58.986Z"
   },
   {
    "duration": 0,
    "start_time": "2022-03-22T09:17:58.987Z"
   },
   {
    "duration": 0,
    "start_time": "2022-03-22T09:17:58.988Z"
   },
   {
    "duration": 0,
    "start_time": "2022-03-22T09:17:58.989Z"
   },
   {
    "duration": 0,
    "start_time": "2022-03-22T09:17:58.990Z"
   },
   {
    "duration": 0,
    "start_time": "2022-03-22T09:17:58.991Z"
   },
   {
    "duration": 0,
    "start_time": "2022-03-22T09:17:58.992Z"
   },
   {
    "duration": 0,
    "start_time": "2022-03-22T09:17:58.993Z"
   },
   {
    "duration": 0,
    "start_time": "2022-03-22T09:17:58.994Z"
   },
   {
    "duration": 0,
    "start_time": "2022-03-22T09:17:58.995Z"
   },
   {
    "duration": 0,
    "start_time": "2022-03-22T09:17:58.996Z"
   },
   {
    "duration": 0,
    "start_time": "2022-03-22T09:17:58.997Z"
   },
   {
    "duration": 0,
    "start_time": "2022-03-22T09:17:58.998Z"
   },
   {
    "duration": 0,
    "start_time": "2022-03-22T09:17:58.999Z"
   },
   {
    "duration": 0,
    "start_time": "2022-03-22T09:17:59.000Z"
   },
   {
    "duration": 0,
    "start_time": "2022-03-22T09:17:59.033Z"
   },
   {
    "duration": 0,
    "start_time": "2022-03-22T09:17:59.034Z"
   },
   {
    "duration": 0,
    "start_time": "2022-03-22T09:17:59.035Z"
   },
   {
    "duration": 0,
    "start_time": "2022-03-22T09:17:59.036Z"
   },
   {
    "duration": 0,
    "start_time": "2022-03-22T09:17:59.037Z"
   },
   {
    "duration": 0,
    "start_time": "2022-03-22T09:17:59.038Z"
   },
   {
    "duration": 0,
    "start_time": "2022-03-22T09:17:59.039Z"
   },
   {
    "duration": 0,
    "start_time": "2022-03-22T09:17:59.040Z"
   },
   {
    "duration": 0,
    "start_time": "2022-03-22T09:17:59.041Z"
   },
   {
    "duration": 0,
    "start_time": "2022-03-22T09:17:59.042Z"
   },
   {
    "duration": 1,
    "start_time": "2022-03-22T09:17:59.042Z"
   },
   {
    "duration": 0,
    "start_time": "2022-03-22T09:17:59.043Z"
   },
   {
    "duration": 0,
    "start_time": "2022-03-22T09:17:59.044Z"
   },
   {
    "duration": 0,
    "start_time": "2022-03-22T09:17:59.045Z"
   },
   {
    "duration": 0,
    "start_time": "2022-03-22T09:17:59.046Z"
   },
   {
    "duration": 0,
    "start_time": "2022-03-22T09:17:59.047Z"
   },
   {
    "duration": 0,
    "start_time": "2022-03-22T09:17:59.048Z"
   },
   {
    "duration": 0,
    "start_time": "2022-03-22T09:17:59.049Z"
   },
   {
    "duration": 0,
    "start_time": "2022-03-22T09:17:59.050Z"
   },
   {
    "duration": 0,
    "start_time": "2022-03-22T09:17:59.050Z"
   },
   {
    "duration": 0,
    "start_time": "2022-03-22T09:17:59.051Z"
   },
   {
    "duration": 1,
    "start_time": "2022-03-22T09:17:59.052Z"
   },
   {
    "duration": 0,
    "start_time": "2022-03-22T09:17:59.053Z"
   },
   {
    "duration": 0,
    "start_time": "2022-03-22T09:17:59.054Z"
   },
   {
    "duration": 0,
    "start_time": "2022-03-22T09:17:59.055Z"
   },
   {
    "duration": 0,
    "start_time": "2022-03-22T09:17:59.056Z"
   },
   {
    "duration": 0,
    "start_time": "2022-03-22T09:17:59.057Z"
   },
   {
    "duration": 0,
    "start_time": "2022-03-22T09:17:59.058Z"
   },
   {
    "duration": 0,
    "start_time": "2022-03-22T09:17:59.058Z"
   },
   {
    "duration": 0,
    "start_time": "2022-03-22T09:17:59.059Z"
   },
   {
    "duration": 0,
    "start_time": "2022-03-22T09:17:59.060Z"
   },
   {
    "duration": 0,
    "start_time": "2022-03-22T09:17:59.061Z"
   },
   {
    "duration": 0,
    "start_time": "2022-03-22T09:17:59.061Z"
   },
   {
    "duration": 0,
    "start_time": "2022-03-22T09:17:59.062Z"
   },
   {
    "duration": 0,
    "start_time": "2022-03-22T09:17:59.063Z"
   },
   {
    "duration": 0,
    "start_time": "2022-03-22T09:17:59.064Z"
   },
   {
    "duration": 0,
    "start_time": "2022-03-22T09:17:59.065Z"
   },
   {
    "duration": 0,
    "start_time": "2022-03-22T09:17:59.067Z"
   },
   {
    "duration": 0,
    "start_time": "2022-03-22T09:17:59.068Z"
   },
   {
    "duration": 0,
    "start_time": "2022-03-22T09:17:59.133Z"
   },
   {
    "duration": 0,
    "start_time": "2022-03-22T09:17:59.135Z"
   },
   {
    "duration": 0,
    "start_time": "2022-03-22T09:17:59.136Z"
   },
   {
    "duration": 0,
    "start_time": "2022-03-22T09:17:59.137Z"
   },
   {
    "duration": 0,
    "start_time": "2022-03-22T09:17:59.139Z"
   },
   {
    "duration": 0,
    "start_time": "2022-03-22T09:17:59.141Z"
   },
   {
    "duration": 0,
    "start_time": "2022-03-22T09:17:59.142Z"
   },
   {
    "duration": 0,
    "start_time": "2022-03-22T09:17:59.143Z"
   },
   {
    "duration": 0,
    "start_time": "2022-03-22T09:17:59.145Z"
   },
   {
    "duration": 0,
    "start_time": "2022-03-22T09:17:59.146Z"
   },
   {
    "duration": 0,
    "start_time": "2022-03-22T09:17:59.148Z"
   },
   {
    "duration": 0,
    "start_time": "2022-03-22T09:17:59.149Z"
   },
   {
    "duration": 0,
    "start_time": "2022-03-22T09:17:59.151Z"
   },
   {
    "duration": 0,
    "start_time": "2022-03-22T09:17:59.152Z"
   },
   {
    "duration": 0,
    "start_time": "2022-03-22T09:17:59.156Z"
   },
   {
    "duration": 0,
    "start_time": "2022-03-22T09:17:59.157Z"
   },
   {
    "duration": 0,
    "start_time": "2022-03-22T09:17:59.158Z"
   },
   {
    "duration": 392,
    "start_time": "2022-03-22T09:18:40.369Z"
   },
   {
    "duration": 3,
    "start_time": "2022-03-22T09:18:40.763Z"
   },
   {
    "duration": 816,
    "start_time": "2022-03-22T09:18:40.767Z"
   },
   {
    "duration": 6,
    "start_time": "2022-03-22T09:18:41.585Z"
   },
   {
    "duration": 4,
    "start_time": "2022-03-22T09:18:41.593Z"
   },
   {
    "duration": 5,
    "start_time": "2022-03-22T09:18:41.598Z"
   },
   {
    "duration": 4,
    "start_time": "2022-03-22T09:18:41.605Z"
   },
   {
    "duration": 66337,
    "start_time": "2022-03-22T09:18:41.611Z"
   },
   {
    "duration": 44,
    "start_time": "2022-03-22T09:19:47.950Z"
   },
   {
    "duration": 4,
    "start_time": "2022-03-22T09:19:47.996Z"
   },
   {
    "duration": 18,
    "start_time": "2022-03-22T09:19:48.001Z"
   },
   {
    "duration": 15,
    "start_time": "2022-03-22T09:19:48.021Z"
   },
   {
    "duration": 3,
    "start_time": "2022-03-22T09:19:48.037Z"
   },
   {
    "duration": 11,
    "start_time": "2022-03-22T09:19:48.041Z"
   },
   {
    "duration": 5,
    "start_time": "2022-03-22T09:19:48.054Z"
   },
   {
    "duration": 7,
    "start_time": "2022-03-22T09:19:48.060Z"
   },
   {
    "duration": 5,
    "start_time": "2022-03-22T09:19:48.069Z"
   },
   {
    "duration": 11,
    "start_time": "2022-03-22T09:19:48.076Z"
   },
   {
    "duration": 12,
    "start_time": "2022-03-22T09:19:48.089Z"
   },
   {
    "duration": 40,
    "start_time": "2022-03-22T09:19:48.102Z"
   },
   {
    "duration": 18,
    "start_time": "2022-03-22T09:19:48.143Z"
   },
   {
    "duration": 15,
    "start_time": "2022-03-22T09:19:48.163Z"
   },
   {
    "duration": 14,
    "start_time": "2022-03-22T09:19:48.180Z"
   },
   {
    "duration": 48,
    "start_time": "2022-03-22T09:19:48.196Z"
   },
   {
    "duration": 2,
    "start_time": "2022-03-22T09:19:48.246Z"
   },
   {
    "duration": 10,
    "start_time": "2022-03-22T09:19:48.249Z"
   },
   {
    "duration": 21,
    "start_time": "2022-03-22T09:19:48.260Z"
   },
   {
    "duration": 199,
    "start_time": "2022-03-22T09:19:48.284Z"
   },
   {
    "duration": 15,
    "start_time": "2022-03-22T09:19:48.485Z"
   },
   {
    "duration": 210,
    "start_time": "2022-03-22T09:19:48.502Z"
   },
   {
    "duration": 20,
    "start_time": "2022-03-22T09:19:48.713Z"
   },
   {
    "duration": 16,
    "start_time": "2022-03-22T09:19:48.735Z"
   },
   {
    "duration": 221,
    "start_time": "2022-03-22T09:19:48.753Z"
   },
   {
    "duration": 923,
    "start_time": "2022-03-22T09:19:48.976Z"
   },
   {
    "duration": 2,
    "start_time": "2022-03-22T09:19:49.901Z"
   },
   {
    "duration": 7,
    "start_time": "2022-03-22T09:19:49.905Z"
   },
   {
    "duration": 5,
    "start_time": "2022-03-22T09:19:49.914Z"
   },
   {
    "duration": 13,
    "start_time": "2022-03-22T09:19:49.921Z"
   },
   {
    "duration": 13,
    "start_time": "2022-03-22T09:19:49.935Z"
   },
   {
    "duration": 277,
    "start_time": "2022-03-22T09:19:49.950Z"
   },
   {
    "duration": 264,
    "start_time": "2022-03-22T09:19:50.233Z"
   },
   {
    "duration": 47,
    "start_time": "2022-03-22T09:19:50.499Z"
   },
   {
    "duration": 16,
    "start_time": "2022-03-22T09:19:50.548Z"
   },
   {
    "duration": 131,
    "start_time": "2022-03-22T09:19:50.566Z"
   },
   {
    "duration": 5,
    "start_time": "2022-03-22T09:19:50.698Z"
   },
   {
    "duration": 209,
    "start_time": "2022-03-22T09:19:50.704Z"
   },
   {
    "duration": 4,
    "start_time": "2022-03-22T09:19:50.915Z"
   },
   {
    "duration": 222,
    "start_time": "2022-03-22T09:19:50.933Z"
   },
   {
    "duration": 4,
    "start_time": "2022-03-22T09:19:51.157Z"
   },
   {
    "duration": 1862,
    "start_time": "2022-03-22T09:19:51.163Z"
   },
   {
    "duration": 181,
    "start_time": "2022-03-22T09:19:53.027Z"
   },
   {
    "duration": 24,
    "start_time": "2022-03-22T09:19:53.210Z"
   },
   {
    "duration": 180,
    "start_time": "2022-03-22T09:19:53.236Z"
   },
   {
    "duration": 15,
    "start_time": "2022-03-22T09:19:53.418Z"
   },
   {
    "duration": 725,
    "start_time": "2022-03-22T09:19:53.435Z"
   },
   {
    "duration": 2,
    "start_time": "2022-03-22T09:19:54.162Z"
   },
   {
    "duration": 3058,
    "start_time": "2022-03-22T09:19:54.166Z"
   },
   {
    "duration": 24,
    "start_time": "2022-03-22T09:19:57.225Z"
   },
   {
    "duration": 12,
    "start_time": "2022-03-22T09:19:57.251Z"
   },
   {
    "duration": 231,
    "start_time": "2022-03-22T09:19:57.265Z"
   },
   {
    "duration": 204,
    "start_time": "2022-03-22T09:19:57.498Z"
   },
   {
    "duration": 6,
    "start_time": "2022-03-22T09:19:57.703Z"
   },
   {
    "duration": 40,
    "start_time": "2022-03-22T09:19:57.711Z"
   },
   {
    "duration": 6,
    "start_time": "2022-03-22T09:19:57.752Z"
   },
   {
    "duration": 13,
    "start_time": "2022-03-22T09:19:57.760Z"
   },
   {
    "duration": 9,
    "start_time": "2022-03-22T09:19:57.775Z"
   },
   {
    "duration": 8,
    "start_time": "2022-03-22T09:19:57.785Z"
   },
   {
    "duration": 50,
    "start_time": "2022-03-22T09:19:57.795Z"
   },
   {
    "duration": 5,
    "start_time": "2022-03-22T09:19:57.847Z"
   },
   {
    "duration": 12,
    "start_time": "2022-03-22T09:19:57.854Z"
   },
   {
    "duration": 10,
    "start_time": "2022-03-22T09:19:57.868Z"
   },
   {
    "duration": 331,
    "start_time": "2022-03-22T09:21:17.085Z"
   },
   {
    "duration": 268,
    "start_time": "2022-03-22T09:31:26.384Z"
   },
   {
    "duration": 116,
    "start_time": "2022-03-22T09:31:30.481Z"
   },
   {
    "duration": 12,
    "start_time": "2022-03-22T09:31:53.833Z"
   },
   {
    "duration": 4,
    "start_time": "2022-03-22T09:32:19.500Z"
   },
   {
    "duration": 10,
    "start_time": "2022-03-22T09:32:32.922Z"
   },
   {
    "duration": 24,
    "start_time": "2022-03-22T09:32:38.475Z"
   },
   {
    "duration": 346,
    "start_time": "2022-03-22T09:35:19.861Z"
   },
   {
    "duration": 325,
    "start_time": "2022-03-22T09:35:25.737Z"
   },
   {
    "duration": 326,
    "start_time": "2022-03-22T09:35:31.317Z"
   },
   {
    "duration": 352,
    "start_time": "2022-03-22T09:35:39.648Z"
   },
   {
    "duration": 442,
    "start_time": "2022-03-22T09:35:53.590Z"
   },
   {
    "duration": 8,
    "start_time": "2022-03-22T09:36:55.138Z"
   },
   {
    "duration": 27,
    "start_time": "2022-03-22T09:37:09.423Z"
   },
   {
    "duration": 10,
    "start_time": "2022-03-22T09:37:20.636Z"
   },
   {
    "duration": 323,
    "start_time": "2022-03-22T09:37:27.323Z"
   },
   {
    "duration": 289,
    "start_time": "2022-03-22T09:37:43.634Z"
   },
   {
    "duration": 138,
    "start_time": "2022-03-22T09:39:59.240Z"
   },
   {
    "duration": 221,
    "start_time": "2022-03-22T09:40:45.253Z"
   },
   {
    "duration": 290,
    "start_time": "2022-03-22T09:40:55.147Z"
   },
   {
    "duration": 302,
    "start_time": "2022-03-22T09:42:17.690Z"
   },
   {
    "duration": 337,
    "start_time": "2022-03-22T09:42:33.304Z"
   },
   {
    "duration": 34,
    "start_time": "2022-03-22T09:43:52.796Z"
   },
   {
    "duration": 483,
    "start_time": "2022-03-22T09:44:33.358Z"
   },
   {
    "duration": 326,
    "start_time": "2022-03-22T09:44:49.230Z"
   },
   {
    "duration": 21,
    "start_time": "2022-03-22T09:50:44.959Z"
   },
   {
    "duration": 141,
    "start_time": "2022-03-22T09:50:47.357Z"
   },
   {
    "duration": 5,
    "start_time": "2022-03-22T09:50:50.058Z"
   },
   {
    "duration": 138,
    "start_time": "2022-03-22T09:50:52.469Z"
   },
   {
    "duration": 5,
    "start_time": "2022-03-22T09:50:56.347Z"
   },
   {
    "duration": 2281,
    "start_time": "2022-03-22T10:02:10.983Z"
   },
   {
    "duration": 2413,
    "start_time": "2022-03-22T10:02:34.664Z"
   },
   {
    "duration": 2479,
    "start_time": "2022-03-22T10:02:58.000Z"
   },
   {
    "duration": 5586,
    "start_time": "2022-03-22T10:04:52.812Z"
   },
   {
    "duration": 1535,
    "start_time": "2022-03-22T10:05:51.164Z"
   },
   {
    "duration": 2494,
    "start_time": "2022-03-22T10:06:05.676Z"
   },
   {
    "duration": 211,
    "start_time": "2022-03-22T10:07:25.101Z"
   },
   {
    "duration": 1494,
    "start_time": "2022-03-22T10:07:28.258Z"
   },
   {
    "duration": 2498,
    "start_time": "2022-03-22T10:07:38.658Z"
   },
   {
    "duration": 15,
    "start_time": "2022-03-22T10:12:25.872Z"
   },
   {
    "duration": 203,
    "start_time": "2022-03-22T10:12:28.281Z"
   },
   {
    "duration": 6,
    "start_time": "2022-03-22T10:12:33.398Z"
   },
   {
    "duration": 745,
    "start_time": "2022-03-22T10:12:36.070Z"
   },
   {
    "duration": 1201,
    "start_time": "2022-03-22T10:24:18.764Z"
   },
   {
    "duration": 2276,
    "start_time": "2022-03-22T10:27:45.519Z"
   },
   {
    "duration": 18,
    "start_time": "2022-03-22T10:27:58.047Z"
   },
   {
    "duration": 3564,
    "start_time": "2022-03-22T10:29:29.145Z"
   },
   {
    "duration": 17,
    "start_time": "2022-03-22T10:29:45.252Z"
   },
   {
    "duration": 2251,
    "start_time": "2022-03-22T10:30:05.202Z"
   },
   {
    "duration": 18,
    "start_time": "2022-03-22T10:30:10.247Z"
   },
   {
    "duration": 17,
    "start_time": "2022-03-22T10:30:19.428Z"
   },
   {
    "duration": 10,
    "start_time": "2022-03-22T10:30:22.074Z"
   },
   {
    "duration": 340,
    "start_time": "2022-03-22T10:31:51.356Z"
   },
   {
    "duration": 10,
    "start_time": "2022-03-22T10:31:55.580Z"
   },
   {
    "duration": 9,
    "start_time": "2022-03-22T10:32:21.516Z"
   },
   {
    "duration": 9,
    "start_time": "2022-03-22T10:32:26.413Z"
   },
   {
    "duration": 14,
    "start_time": "2022-03-22T10:32:33.740Z"
   },
   {
    "duration": 553,
    "start_time": "2022-03-22T10:33:05.012Z"
   },
   {
    "duration": 11,
    "start_time": "2022-03-22T10:33:12.092Z"
   },
   {
    "duration": 11,
    "start_time": "2022-03-22T10:34:01.407Z"
   },
   {
    "duration": 201,
    "start_time": "2022-03-22T10:36:14.373Z"
   },
   {
    "duration": 346,
    "start_time": "2022-03-22T10:36:17.706Z"
   },
   {
    "duration": 16,
    "start_time": "2022-03-22T10:48:06.200Z"
   },
   {
    "duration": 16,
    "start_time": "2022-03-22T10:48:31.261Z"
   },
   {
    "duration": 17,
    "start_time": "2022-03-22T10:48:46.977Z"
   },
   {
    "duration": 15,
    "start_time": "2022-03-22T10:49:55.273Z"
   },
   {
    "duration": 12,
    "start_time": "2022-03-22T10:50:17.500Z"
   },
   {
    "duration": 315,
    "start_time": "2022-03-22T10:51:26.435Z"
   },
   {
    "duration": 221,
    "start_time": "2022-03-22T10:52:08.289Z"
   },
   {
    "duration": 407,
    "start_time": "2022-03-22T10:52:35.894Z"
   },
   {
    "duration": 24,
    "start_time": "2022-03-22T10:52:49.707Z"
   },
   {
    "duration": 94,
    "start_time": "2022-03-22T10:52:58.673Z"
   },
   {
    "duration": 16,
    "start_time": "2022-03-22T10:53:05.783Z"
   },
   {
    "duration": 16,
    "start_time": "2022-03-22T10:53:36.053Z"
   },
   {
    "duration": 459,
    "start_time": "2022-03-22T10:53:39.006Z"
   },
   {
    "duration": 276,
    "start_time": "2022-03-22T10:54:12.232Z"
   },
   {
    "duration": 292,
    "start_time": "2022-03-22T10:54:24.935Z"
   },
   {
    "duration": 427,
    "start_time": "2022-03-22T11:01:51.752Z"
   },
   {
    "duration": 13,
    "start_time": "2022-03-22T11:06:02.776Z"
   },
   {
    "duration": 200,
    "start_time": "2022-03-22T11:06:05.818Z"
   },
   {
    "duration": 5,
    "start_time": "2022-03-22T11:09:24.797Z"
   },
   {
    "duration": 196,
    "start_time": "2022-03-22T11:09:27.582Z"
   },
   {
    "duration": 4,
    "start_time": "2022-03-22T11:09:44.557Z"
   },
   {
    "duration": 209,
    "start_time": "2022-03-22T11:09:45.785Z"
   },
   {
    "duration": 19,
    "start_time": "2022-03-22T11:10:40.733Z"
   },
   {
    "duration": 19,
    "start_time": "2022-03-22T11:10:48.942Z"
   },
   {
    "duration": 4,
    "start_time": "2022-03-22T11:10:50.981Z"
   },
   {
    "duration": 19,
    "start_time": "2022-03-22T11:10:52.120Z"
   },
   {
    "duration": 195,
    "start_time": "2022-03-22T11:10:56.805Z"
   },
   {
    "duration": 18,
    "start_time": "2022-03-22T11:11:16.768Z"
   },
   {
    "duration": 19,
    "start_time": "2022-03-22T11:11:22.429Z"
   },
   {
    "duration": 205,
    "start_time": "2022-03-22T11:11:26.416Z"
   },
   {
    "duration": 192,
    "start_time": "2022-03-22T11:11:45.694Z"
   },
   {
    "duration": 458,
    "start_time": "2022-03-22T18:47:47.992Z"
   },
   {
    "duration": 3,
    "start_time": "2022-03-22T18:47:48.452Z"
   },
   {
    "duration": 823,
    "start_time": "2022-03-22T18:47:48.456Z"
   },
   {
    "duration": 6,
    "start_time": "2022-03-22T18:47:49.280Z"
   },
   {
    "duration": 18,
    "start_time": "2022-03-22T18:47:49.288Z"
   },
   {
    "duration": 6,
    "start_time": "2022-03-22T18:47:49.308Z"
   },
   {
    "duration": 5,
    "start_time": "2022-03-22T18:47:49.316Z"
   },
   {
    "duration": 105705,
    "start_time": "2022-03-22T18:47:49.323Z"
   },
   {
    "duration": 48,
    "start_time": "2022-03-22T18:49:35.031Z"
   },
   {
    "duration": 5,
    "start_time": "2022-03-22T18:49:35.082Z"
   },
   {
    "duration": 21,
    "start_time": "2022-03-22T18:49:35.088Z"
   },
   {
    "duration": 37,
    "start_time": "2022-03-22T18:49:35.112Z"
   },
   {
    "duration": 4,
    "start_time": "2022-03-22T18:49:35.151Z"
   },
   {
    "duration": 20,
    "start_time": "2022-03-22T18:49:35.160Z"
   },
   {
    "duration": 9,
    "start_time": "2022-03-22T18:49:35.182Z"
   },
   {
    "duration": 10,
    "start_time": "2022-03-22T18:49:35.193Z"
   },
   {
    "duration": 31,
    "start_time": "2022-03-22T18:49:35.205Z"
   },
   {
    "duration": 16,
    "start_time": "2022-03-22T18:49:35.238Z"
   },
   {
    "duration": 25,
    "start_time": "2022-03-22T18:49:35.256Z"
   },
   {
    "duration": 12,
    "start_time": "2022-03-22T18:49:35.283Z"
   },
   {
    "duration": 36,
    "start_time": "2022-03-22T18:49:35.297Z"
   },
   {
    "duration": 21,
    "start_time": "2022-03-22T18:49:35.336Z"
   },
   {
    "duration": 15,
    "start_time": "2022-03-22T18:49:35.358Z"
   },
   {
    "duration": 17,
    "start_time": "2022-03-22T18:49:35.374Z"
   },
   {
    "duration": 3,
    "start_time": "2022-03-22T18:49:35.392Z"
   },
   {
    "duration": 36,
    "start_time": "2022-03-22T18:49:35.396Z"
   },
   {
    "duration": 25,
    "start_time": "2022-03-22T18:49:35.434Z"
   },
   {
    "duration": 232,
    "start_time": "2022-03-22T18:49:35.462Z"
   },
   {
    "duration": 17,
    "start_time": "2022-03-22T18:49:35.696Z"
   },
   {
    "duration": 246,
    "start_time": "2022-03-22T18:49:35.714Z"
   },
   {
    "duration": 11,
    "start_time": "2022-03-22T18:49:35.962Z"
   },
   {
    "duration": 23,
    "start_time": "2022-03-22T18:49:35.975Z"
   },
   {
    "duration": 279,
    "start_time": "2022-03-22T18:49:36.001Z"
   },
   {
    "duration": 1035,
    "start_time": "2022-03-22T18:49:36.282Z"
   },
   {
    "duration": 13,
    "start_time": "2022-03-22T18:49:37.319Z"
   },
   {
    "duration": 14,
    "start_time": "2022-03-22T18:49:37.334Z"
   },
   {
    "duration": 28,
    "start_time": "2022-03-22T18:49:37.349Z"
   },
   {
    "duration": 17,
    "start_time": "2022-03-22T18:49:37.379Z"
   },
   {
    "duration": 28,
    "start_time": "2022-03-22T18:49:37.397Z"
   },
   {
    "duration": 321,
    "start_time": "2022-03-22T18:49:37.427Z"
   },
   {
    "duration": 373,
    "start_time": "2022-03-22T18:49:37.753Z"
   },
   {
    "duration": 42,
    "start_time": "2022-03-22T18:49:38.128Z"
   },
   {
    "duration": 16,
    "start_time": "2022-03-22T18:49:38.172Z"
   },
   {
    "duration": 226,
    "start_time": "2022-03-22T18:49:38.190Z"
   },
   {
    "duration": 4,
    "start_time": "2022-03-22T18:49:38.418Z"
   },
   {
    "duration": 143,
    "start_time": "2022-03-22T18:49:38.432Z"
   },
   {
    "duration": 5,
    "start_time": "2022-03-22T18:49:38.576Z"
   },
   {
    "duration": 264,
    "start_time": "2022-03-22T18:49:38.582Z"
   },
   {
    "duration": 5,
    "start_time": "2022-03-22T18:49:38.847Z"
   },
   {
    "duration": 2130,
    "start_time": "2022-03-22T18:49:38.854Z"
   },
   {
    "duration": 212,
    "start_time": "2022-03-22T18:49:40.986Z"
   },
   {
    "duration": 16,
    "start_time": "2022-03-22T18:49:41.200Z"
   },
   {
    "duration": 229,
    "start_time": "2022-03-22T18:49:41.218Z"
   },
   {
    "duration": 6,
    "start_time": "2022-03-22T18:49:41.449Z"
   },
   {
    "duration": 1508,
    "start_time": "2022-03-22T18:49:41.457Z"
   },
   {
    "duration": 3,
    "start_time": "2022-03-22T18:49:42.967Z"
   },
   {
    "duration": 2420,
    "start_time": "2022-03-22T18:49:42.972Z"
   },
   {
    "duration": 16,
    "start_time": "2022-03-22T18:49:45.393Z"
   },
   {
    "duration": 17,
    "start_time": "2022-03-22T18:49:45.410Z"
   },
   {
    "duration": 305,
    "start_time": "2022-03-22T18:49:45.429Z"
   },
   {
    "duration": 21,
    "start_time": "2022-03-22T18:49:45.736Z"
   },
   {
    "duration": 517,
    "start_time": "2022-03-22T18:49:45.759Z"
   },
   {
    "duration": 12,
    "start_time": "2022-03-22T18:49:46.278Z"
   },
   {
    "duration": 25,
    "start_time": "2022-03-22T18:49:46.291Z"
   },
   {
    "duration": 238,
    "start_time": "2022-03-22T18:49:46.318Z"
   },
   {
    "duration": 7,
    "start_time": "2022-03-22T18:49:46.558Z"
   },
   {
    "duration": 60,
    "start_time": "2022-03-22T18:49:46.567Z"
   },
   {
    "duration": 13,
    "start_time": "2022-03-22T18:49:46.629Z"
   },
   {
    "duration": 25,
    "start_time": "2022-03-22T18:49:46.644Z"
   },
   {
    "duration": 36,
    "start_time": "2022-03-22T18:49:46.671Z"
   },
   {
    "duration": 16,
    "start_time": "2022-03-22T18:49:46.709Z"
   },
   {
    "duration": 56,
    "start_time": "2022-03-22T18:49:46.727Z"
   },
   {
    "duration": 9,
    "start_time": "2022-03-22T18:49:46.786Z"
   },
   {
    "duration": 32,
    "start_time": "2022-03-22T18:49:46.797Z"
   },
   {
    "duration": 42,
    "start_time": "2022-03-22T18:49:46.831Z"
   }
  ],
  "kernelspec": {
   "display_name": "Python 3 (ipykernel)",
   "language": "python",
   "name": "python3"
  },
  "language_info": {
   "codemirror_mode": {
    "name": "ipython",
    "version": 3
   },
   "file_extension": ".py",
   "mimetype": "text/x-python",
   "name": "python",
   "nbconvert_exporter": "python",
   "pygments_lexer": "ipython3",
   "version": "3.9.7"
  },
  "toc": {
   "base_numbering": 1,
   "nav_menu": {},
   "number_sections": true,
   "sideBar": true,
   "skip_h1_title": true,
   "title_cell": "Table of Contents",
   "title_sidebar": "Contents",
   "toc_cell": false,
   "toc_position": {
    "height": "calc(100% - 180px)",
    "left": "10px",
    "top": "150px",
    "width": "208px"
   },
   "toc_section_display": true,
   "toc_window_display": true
  }
 },
 "nbformat": 4,
 "nbformat_minor": 5
}
