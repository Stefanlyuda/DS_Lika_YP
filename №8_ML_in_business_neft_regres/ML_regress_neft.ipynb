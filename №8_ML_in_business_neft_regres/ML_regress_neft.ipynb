{
 "cells": [
  {
   "cell_type": "markdown",
   "id": "f52b7c8a",
   "metadata": {},
   "source": [
    "### Описание проекта\n",
    "\n",
    "Нужно решить, где бурить новую скважину добывающей компании «ГлавРосГосНефть.\n",
    "Шаги для выбора локации обычно такие:\n",
    "- В избранном регионе собирают характеристики для скважин: качество нефти и объём её запасов;\n",
    "- Строят модель для предсказания объёма запасов в новых скважинах;\n",
    "- Выбирают скважины с самыми высокими оценками значений;\n",
    "- Определяют регион с максимальной суммарной прибылью отобранных скважин.\n",
    "- Вам предоставлены пробы нефти в трёх регионах. Характеристики для каждой скважины в регионе уже известны. Постройте модель для определения региона, где добыча принесёт наибольшую прибыль. Проанализируйте возможную прибыль и риски техникой Bootstrap."
   ]
  },
  {
   "cell_type": "markdown",
   "id": "fd2d7076",
   "metadata": {},
   "source": [
    "Описание данных\n",
    "- id — уникальный идентификатор скважины;\n",
    "- f0, f1, f2 — три признака точек (неважно, что они означают, но сами признаки значимы);\n",
    "- product — объём запасов в скважине (тыс. баррелей)."
   ]
  },
  {
   "cell_type": "markdown",
   "id": "27510c6a",
   "metadata": {},
   "source": [
    "### Условия задачи:\n",
    "- Для обучения модели подходит только линейная регрессия (остальные — недостаточно предсказуемые).\n",
    "- При разведке региона исследуют 500 точек, из которых с помощью машинного обучения выбирают 200 лучших для разработки.\n",
    "- Бюджет на разработку скважин в регионе — 10 млрд рублей.\n",
    "- При нынешних ценах один баррель сырья приносит 450 рублей дохода. Доход с каждой единицы продукта составляет 450 тыс. рублей, поскольку объём указан в тысячах баррелей.\n",
    "- После оценки рисков нужно оставить лишь те регионы, в которых вероятность убытков меньше 2.5%. Среди них выбирают регион с наибольшей средней прибылью.\n",
    "- Данные синтетические: детали контрактов и характеристики месторождений не разглашаются."
   ]
  },
  {
   "cell_type": "code",
   "execution_count": 1,
   "id": "d675c401",
   "metadata": {},
   "outputs": [],
   "source": [
    "import pandas as pd\n",
    "import numpy as np"
   ]
  },
  {
   "cell_type": "code",
   "execution_count": 2,
   "id": "9ea5da4f",
   "metadata": {},
   "outputs": [],
   "source": [
    "from sklearn.linear_model import LinearRegression #линейная регрессия\n",
    "from sklearn.model_selection import train_test_split #деление выборки \n",
    "from sklearn.metrics import f1_score,roc_curve,roc_auc_score,precision_score, recall_score,precision_recall_curve #подсчет  F1\n",
    "import matplotlib.pyplot as plt #график\n",
    "import warnings \n",
    "warnings.simplefilter(action='ignore', category=FutureWarning) #убираем ошибку\n",
    "from sklearn.metrics import mean_squared_error # значение метрики RMSE\n",
    "from tqdm.notebook import tqdm_notebook\n",
    "from numpy.random import RandomState\n",
    "import seaborn as sns"
   ]
  },
  {
   "cell_type": "markdown",
   "id": "5dc3b92e",
   "metadata": {},
   "source": [
    "### 1. Загрузка и подготовка данных"
   ]
  },
  {
   "cell_type": "markdown",
   "id": "27a757af",
   "metadata": {},
   "source": [
    "#### 1.1 Датасет_2"
   ]
  },
  {
   "cell_type": "code",
   "execution_count": 3,
   "id": "1b897a7f",
   "metadata": {},
   "outputs": [],
   "source": [
    "geo_data_2 = pd.read_csv('/Users/l.stefanenko/Desktop/Yandex/Github/№8 ML_in_business_neft/geo_data_2 (1).csv')"
   ]
  },
  {
   "cell_type": "code",
   "execution_count": 4,
   "id": "c488d342",
   "metadata": {},
   "outputs": [
    {
     "data": {
      "text/plain": [
       "(100000, 5)"
      ]
     },
     "execution_count": 4,
     "metadata": {},
     "output_type": "execute_result"
    }
   ],
   "source": [
    "geo_data_2.shape"
   ]
  },
  {
   "cell_type": "code",
   "execution_count": 5,
   "id": "522af3c7",
   "metadata": {},
   "outputs": [
    {
     "data": {
      "text/html": [
       "<div>\n",
       "<style scoped>\n",
       "    .dataframe tbody tr th:only-of-type {\n",
       "        vertical-align: middle;\n",
       "    }\n",
       "\n",
       "    .dataframe tbody tr th {\n",
       "        vertical-align: top;\n",
       "    }\n",
       "\n",
       "    .dataframe thead th {\n",
       "        text-align: right;\n",
       "    }\n",
       "</style>\n",
       "<table border=\"1\" class=\"dataframe\">\n",
       "  <thead>\n",
       "    <tr style=\"text-align: right;\">\n",
       "      <th></th>\n",
       "      <th>id</th>\n",
       "      <th>f0</th>\n",
       "      <th>f1</th>\n",
       "      <th>f2</th>\n",
       "      <th>product</th>\n",
       "    </tr>\n",
       "  </thead>\n",
       "  <tbody>\n",
       "    <tr>\n",
       "      <th>0</th>\n",
       "      <td>fwXo0</td>\n",
       "      <td>-1.146987</td>\n",
       "      <td>0.963328</td>\n",
       "      <td>-0.828965</td>\n",
       "      <td>27.758673</td>\n",
       "    </tr>\n",
       "    <tr>\n",
       "      <th>1</th>\n",
       "      <td>WJtFt</td>\n",
       "      <td>0.262778</td>\n",
       "      <td>0.269839</td>\n",
       "      <td>-2.530187</td>\n",
       "      <td>56.069697</td>\n",
       "    </tr>\n",
       "    <tr>\n",
       "      <th>2</th>\n",
       "      <td>ovLUW</td>\n",
       "      <td>0.194587</td>\n",
       "      <td>0.289035</td>\n",
       "      <td>-5.586433</td>\n",
       "      <td>62.871910</td>\n",
       "    </tr>\n",
       "    <tr>\n",
       "      <th>3</th>\n",
       "      <td>q6cA6</td>\n",
       "      <td>2.236060</td>\n",
       "      <td>-0.553760</td>\n",
       "      <td>0.930038</td>\n",
       "      <td>114.572842</td>\n",
       "    </tr>\n",
       "    <tr>\n",
       "      <th>4</th>\n",
       "      <td>WPMUX</td>\n",
       "      <td>-0.515993</td>\n",
       "      <td>1.716266</td>\n",
       "      <td>5.899011</td>\n",
       "      <td>149.600746</td>\n",
       "    </tr>\n",
       "  </tbody>\n",
       "</table>\n",
       "</div>"
      ],
      "text/plain": [
       "      id        f0        f1        f2     product\n",
       "0  fwXo0 -1.146987  0.963328 -0.828965   27.758673\n",
       "1  WJtFt  0.262778  0.269839 -2.530187   56.069697\n",
       "2  ovLUW  0.194587  0.289035 -5.586433   62.871910\n",
       "3  q6cA6  2.236060 -0.553760  0.930038  114.572842\n",
       "4  WPMUX -0.515993  1.716266  5.899011  149.600746"
      ]
     },
     "metadata": {},
     "output_type": "display_data"
    }
   ],
   "source": [
    "display(geo_data_2.head())"
   ]
  },
  {
   "cell_type": "code",
   "execution_count": 6,
   "id": "922988ad",
   "metadata": {},
   "outputs": [
    {
     "name": "stdout",
     "output_type": "stream",
     "text": [
      "<class 'pandas.core.frame.DataFrame'>\n",
      "RangeIndex: 100000 entries, 0 to 99999\n",
      "Data columns (total 5 columns):\n",
      " #   Column   Non-Null Count   Dtype  \n",
      "---  ------   --------------   -----  \n",
      " 0   id       100000 non-null  object \n",
      " 1   f0       100000 non-null  float64\n",
      " 2   f1       100000 non-null  float64\n",
      " 3   f2       100000 non-null  float64\n",
      " 4   product  100000 non-null  float64\n",
      "dtypes: float64(4), object(1)\n",
      "memory usage: 3.8+ MB\n"
     ]
    }
   ],
   "source": [
    "geo_data_2.info()"
   ]
  },
  {
   "cell_type": "code",
   "execution_count": 7,
   "id": "ac526d01",
   "metadata": {},
   "outputs": [
    {
     "data": {
      "text/html": [
       "<div>\n",
       "<style scoped>\n",
       "    .dataframe tbody tr th:only-of-type {\n",
       "        vertical-align: middle;\n",
       "    }\n",
       "\n",
       "    .dataframe tbody tr th {\n",
       "        vertical-align: top;\n",
       "    }\n",
       "\n",
       "    .dataframe thead th {\n",
       "        text-align: right;\n",
       "    }\n",
       "</style>\n",
       "<table border=\"1\" class=\"dataframe\">\n",
       "  <thead>\n",
       "    <tr style=\"text-align: right;\">\n",
       "      <th></th>\n",
       "      <th>f0</th>\n",
       "      <th>f1</th>\n",
       "      <th>f2</th>\n",
       "      <th>product</th>\n",
       "    </tr>\n",
       "  </thead>\n",
       "  <tbody>\n",
       "    <tr>\n",
       "      <th>count</th>\n",
       "      <td>100000.000000</td>\n",
       "      <td>100000.000000</td>\n",
       "      <td>100000.000000</td>\n",
       "      <td>100000.000000</td>\n",
       "    </tr>\n",
       "    <tr>\n",
       "      <th>mean</th>\n",
       "      <td>0.002023</td>\n",
       "      <td>-0.002081</td>\n",
       "      <td>2.495128</td>\n",
       "      <td>95.000000</td>\n",
       "    </tr>\n",
       "    <tr>\n",
       "      <th>std</th>\n",
       "      <td>1.732045</td>\n",
       "      <td>1.730417</td>\n",
       "      <td>3.473445</td>\n",
       "      <td>44.749921</td>\n",
       "    </tr>\n",
       "    <tr>\n",
       "      <th>min</th>\n",
       "      <td>-8.760004</td>\n",
       "      <td>-7.084020</td>\n",
       "      <td>-11.970335</td>\n",
       "      <td>0.000000</td>\n",
       "    </tr>\n",
       "    <tr>\n",
       "      <th>25%</th>\n",
       "      <td>-1.162288</td>\n",
       "      <td>-1.174820</td>\n",
       "      <td>0.130359</td>\n",
       "      <td>59.450441</td>\n",
       "    </tr>\n",
       "    <tr>\n",
       "      <th>50%</th>\n",
       "      <td>0.009424</td>\n",
       "      <td>-0.009482</td>\n",
       "      <td>2.484236</td>\n",
       "      <td>94.925613</td>\n",
       "    </tr>\n",
       "    <tr>\n",
       "      <th>75%</th>\n",
       "      <td>1.158535</td>\n",
       "      <td>1.163678</td>\n",
       "      <td>4.858794</td>\n",
       "      <td>130.595027</td>\n",
       "    </tr>\n",
       "    <tr>\n",
       "      <th>max</th>\n",
       "      <td>7.238262</td>\n",
       "      <td>7.844801</td>\n",
       "      <td>16.739402</td>\n",
       "      <td>190.029838</td>\n",
       "    </tr>\n",
       "  </tbody>\n",
       "</table>\n",
       "</div>"
      ],
      "text/plain": [
       "                  f0             f1             f2        product\n",
       "count  100000.000000  100000.000000  100000.000000  100000.000000\n",
       "mean        0.002023      -0.002081       2.495128      95.000000\n",
       "std         1.732045       1.730417       3.473445      44.749921\n",
       "min        -8.760004      -7.084020     -11.970335       0.000000\n",
       "25%        -1.162288      -1.174820       0.130359      59.450441\n",
       "50%         0.009424      -0.009482       2.484236      94.925613\n",
       "75%         1.158535       1.163678       4.858794     130.595027\n",
       "max         7.238262       7.844801      16.739402     190.029838"
      ]
     },
     "execution_count": 7,
     "metadata": {},
     "output_type": "execute_result"
    }
   ],
   "source": [
    "geo_data_2.describe()"
   ]
  },
  {
   "cell_type": "markdown",
   "id": "10104d5c",
   "metadata": {},
   "source": [
    "#### 1.2 Датасет_1"
   ]
  },
  {
   "cell_type": "code",
   "execution_count": 8,
   "id": "10c99227",
   "metadata": {},
   "outputs": [],
   "source": [
    "geo_data_1 = pd.read_csv('/Users/l.stefanenko/Desktop/Yandex/Github/№8 ML_in_business_neft/geo_data_1 (1).csv')"
   ]
  },
  {
   "cell_type": "code",
   "execution_count": 9,
   "id": "e26dca83",
   "metadata": {},
   "outputs": [
    {
     "data": {
      "text/html": [
       "<div>\n",
       "<style scoped>\n",
       "    .dataframe tbody tr th:only-of-type {\n",
       "        vertical-align: middle;\n",
       "    }\n",
       "\n",
       "    .dataframe tbody tr th {\n",
       "        vertical-align: top;\n",
       "    }\n",
       "\n",
       "    .dataframe thead th {\n",
       "        text-align: right;\n",
       "    }\n",
       "</style>\n",
       "<table border=\"1\" class=\"dataframe\">\n",
       "  <thead>\n",
       "    <tr style=\"text-align: right;\">\n",
       "      <th></th>\n",
       "      <th>id</th>\n",
       "      <th>f0</th>\n",
       "      <th>f1</th>\n",
       "      <th>f2</th>\n",
       "      <th>product</th>\n",
       "    </tr>\n",
       "  </thead>\n",
       "  <tbody>\n",
       "    <tr>\n",
       "      <th>0</th>\n",
       "      <td>kBEdx</td>\n",
       "      <td>-15.001348</td>\n",
       "      <td>-8.276000</td>\n",
       "      <td>-0.005876</td>\n",
       "      <td>3.179103</td>\n",
       "    </tr>\n",
       "    <tr>\n",
       "      <th>1</th>\n",
       "      <td>62mP7</td>\n",
       "      <td>14.272088</td>\n",
       "      <td>-3.475083</td>\n",
       "      <td>0.999183</td>\n",
       "      <td>26.953261</td>\n",
       "    </tr>\n",
       "    <tr>\n",
       "      <th>2</th>\n",
       "      <td>vyE1P</td>\n",
       "      <td>6.263187</td>\n",
       "      <td>-5.948386</td>\n",
       "      <td>5.001160</td>\n",
       "      <td>134.766305</td>\n",
       "    </tr>\n",
       "    <tr>\n",
       "      <th>3</th>\n",
       "      <td>KcrkZ</td>\n",
       "      <td>-13.081196</td>\n",
       "      <td>-11.506057</td>\n",
       "      <td>4.999415</td>\n",
       "      <td>137.945408</td>\n",
       "    </tr>\n",
       "    <tr>\n",
       "      <th>4</th>\n",
       "      <td>AHL4O</td>\n",
       "      <td>12.702195</td>\n",
       "      <td>-8.147433</td>\n",
       "      <td>5.004363</td>\n",
       "      <td>134.766305</td>\n",
       "    </tr>\n",
       "  </tbody>\n",
       "</table>\n",
       "</div>"
      ],
      "text/plain": [
       "      id         f0         f1        f2     product\n",
       "0  kBEdx -15.001348  -8.276000 -0.005876    3.179103\n",
       "1  62mP7  14.272088  -3.475083  0.999183   26.953261\n",
       "2  vyE1P   6.263187  -5.948386  5.001160  134.766305\n",
       "3  KcrkZ -13.081196 -11.506057  4.999415  137.945408\n",
       "4  AHL4O  12.702195  -8.147433  5.004363  134.766305"
      ]
     },
     "metadata": {},
     "output_type": "display_data"
    }
   ],
   "source": [
    "display(geo_data_1.head())"
   ]
  },
  {
   "cell_type": "code",
   "execution_count": 10,
   "id": "91a9e0cd",
   "metadata": {},
   "outputs": [
    {
     "name": "stdout",
     "output_type": "stream",
     "text": [
      "<class 'pandas.core.frame.DataFrame'>\n",
      "RangeIndex: 100000 entries, 0 to 99999\n",
      "Data columns (total 5 columns):\n",
      " #   Column   Non-Null Count   Dtype  \n",
      "---  ------   --------------   -----  \n",
      " 0   id       100000 non-null  object \n",
      " 1   f0       100000 non-null  float64\n",
      " 2   f1       100000 non-null  float64\n",
      " 3   f2       100000 non-null  float64\n",
      " 4   product  100000 non-null  float64\n",
      "dtypes: float64(4), object(1)\n",
      "memory usage: 3.8+ MB\n"
     ]
    }
   ],
   "source": [
    "geo_data_1.info()"
   ]
  },
  {
   "cell_type": "code",
   "execution_count": 11,
   "id": "62702c78",
   "metadata": {},
   "outputs": [
    {
     "data": {
      "text/html": [
       "<div>\n",
       "<style scoped>\n",
       "    .dataframe tbody tr th:only-of-type {\n",
       "        vertical-align: middle;\n",
       "    }\n",
       "\n",
       "    .dataframe tbody tr th {\n",
       "        vertical-align: top;\n",
       "    }\n",
       "\n",
       "    .dataframe thead th {\n",
       "        text-align: right;\n",
       "    }\n",
       "</style>\n",
       "<table border=\"1\" class=\"dataframe\">\n",
       "  <thead>\n",
       "    <tr style=\"text-align: right;\">\n",
       "      <th></th>\n",
       "      <th>f0</th>\n",
       "      <th>f1</th>\n",
       "      <th>f2</th>\n",
       "      <th>product</th>\n",
       "    </tr>\n",
       "  </thead>\n",
       "  <tbody>\n",
       "    <tr>\n",
       "      <th>count</th>\n",
       "      <td>100000.000000</td>\n",
       "      <td>100000.000000</td>\n",
       "      <td>100000.000000</td>\n",
       "      <td>100000.000000</td>\n",
       "    </tr>\n",
       "    <tr>\n",
       "      <th>mean</th>\n",
       "      <td>1.141296</td>\n",
       "      <td>-4.796579</td>\n",
       "      <td>2.494541</td>\n",
       "      <td>68.825000</td>\n",
       "    </tr>\n",
       "    <tr>\n",
       "      <th>std</th>\n",
       "      <td>8.965932</td>\n",
       "      <td>5.119872</td>\n",
       "      <td>1.703572</td>\n",
       "      <td>45.944423</td>\n",
       "    </tr>\n",
       "    <tr>\n",
       "      <th>min</th>\n",
       "      <td>-31.609576</td>\n",
       "      <td>-26.358598</td>\n",
       "      <td>-0.018144</td>\n",
       "      <td>0.000000</td>\n",
       "    </tr>\n",
       "    <tr>\n",
       "      <th>25%</th>\n",
       "      <td>-6.298551</td>\n",
       "      <td>-8.267985</td>\n",
       "      <td>1.000021</td>\n",
       "      <td>26.953261</td>\n",
       "    </tr>\n",
       "    <tr>\n",
       "      <th>50%</th>\n",
       "      <td>1.153055</td>\n",
       "      <td>-4.813172</td>\n",
       "      <td>2.011479</td>\n",
       "      <td>57.085625</td>\n",
       "    </tr>\n",
       "    <tr>\n",
       "      <th>75%</th>\n",
       "      <td>8.621015</td>\n",
       "      <td>-1.332816</td>\n",
       "      <td>3.999904</td>\n",
       "      <td>107.813044</td>\n",
       "    </tr>\n",
       "    <tr>\n",
       "      <th>max</th>\n",
       "      <td>29.421755</td>\n",
       "      <td>18.734063</td>\n",
       "      <td>5.019721</td>\n",
       "      <td>137.945408</td>\n",
       "    </tr>\n",
       "  </tbody>\n",
       "</table>\n",
       "</div>"
      ],
      "text/plain": [
       "                  f0             f1             f2        product\n",
       "count  100000.000000  100000.000000  100000.000000  100000.000000\n",
       "mean        1.141296      -4.796579       2.494541      68.825000\n",
       "std         8.965932       5.119872       1.703572      45.944423\n",
       "min       -31.609576     -26.358598      -0.018144       0.000000\n",
       "25%        -6.298551      -8.267985       1.000021      26.953261\n",
       "50%         1.153055      -4.813172       2.011479      57.085625\n",
       "75%         8.621015      -1.332816       3.999904     107.813044\n",
       "max        29.421755      18.734063       5.019721     137.945408"
      ]
     },
     "execution_count": 11,
     "metadata": {},
     "output_type": "execute_result"
    }
   ],
   "source": [
    "geo_data_1.describe()"
   ]
  },
  {
   "cell_type": "markdown",
   "id": "040a0463",
   "metadata": {},
   "source": [
    "#### 1.3 Датасет_0"
   ]
  },
  {
   "cell_type": "code",
   "execution_count": 12,
   "id": "b1ff9a84",
   "metadata": {},
   "outputs": [],
   "source": [
    "geo_data_0 = pd.read_csv('/Users/l.stefanenko/Desktop/Yandex/Github/№8 ML_in_business_neft/geo_data_0 (1).csv')"
   ]
  },
  {
   "cell_type": "code",
   "execution_count": 13,
   "id": "b2f753ba",
   "metadata": {},
   "outputs": [
    {
     "data": {
      "text/html": [
       "<div>\n",
       "<style scoped>\n",
       "    .dataframe tbody tr th:only-of-type {\n",
       "        vertical-align: middle;\n",
       "    }\n",
       "\n",
       "    .dataframe tbody tr th {\n",
       "        vertical-align: top;\n",
       "    }\n",
       "\n",
       "    .dataframe thead th {\n",
       "        text-align: right;\n",
       "    }\n",
       "</style>\n",
       "<table border=\"1\" class=\"dataframe\">\n",
       "  <thead>\n",
       "    <tr style=\"text-align: right;\">\n",
       "      <th></th>\n",
       "      <th>id</th>\n",
       "      <th>f0</th>\n",
       "      <th>f1</th>\n",
       "      <th>f2</th>\n",
       "      <th>product</th>\n",
       "    </tr>\n",
       "  </thead>\n",
       "  <tbody>\n",
       "    <tr>\n",
       "      <th>0</th>\n",
       "      <td>txEyH</td>\n",
       "      <td>0.705745</td>\n",
       "      <td>-0.497823</td>\n",
       "      <td>1.221170</td>\n",
       "      <td>105.280062</td>\n",
       "    </tr>\n",
       "    <tr>\n",
       "      <th>1</th>\n",
       "      <td>2acmU</td>\n",
       "      <td>1.334711</td>\n",
       "      <td>-0.340164</td>\n",
       "      <td>4.365080</td>\n",
       "      <td>73.037750</td>\n",
       "    </tr>\n",
       "    <tr>\n",
       "      <th>2</th>\n",
       "      <td>409Wp</td>\n",
       "      <td>1.022732</td>\n",
       "      <td>0.151990</td>\n",
       "      <td>1.419926</td>\n",
       "      <td>85.265647</td>\n",
       "    </tr>\n",
       "    <tr>\n",
       "      <th>3</th>\n",
       "      <td>iJLyR</td>\n",
       "      <td>-0.032172</td>\n",
       "      <td>0.139033</td>\n",
       "      <td>2.978566</td>\n",
       "      <td>168.620776</td>\n",
       "    </tr>\n",
       "    <tr>\n",
       "      <th>4</th>\n",
       "      <td>Xdl7t</td>\n",
       "      <td>1.988431</td>\n",
       "      <td>0.155413</td>\n",
       "      <td>4.751769</td>\n",
       "      <td>154.036647</td>\n",
       "    </tr>\n",
       "  </tbody>\n",
       "</table>\n",
       "</div>"
      ],
      "text/plain": [
       "      id        f0        f1        f2     product\n",
       "0  txEyH  0.705745 -0.497823  1.221170  105.280062\n",
       "1  2acmU  1.334711 -0.340164  4.365080   73.037750\n",
       "2  409Wp  1.022732  0.151990  1.419926   85.265647\n",
       "3  iJLyR -0.032172  0.139033  2.978566  168.620776\n",
       "4  Xdl7t  1.988431  0.155413  4.751769  154.036647"
      ]
     },
     "metadata": {},
     "output_type": "display_data"
    }
   ],
   "source": [
    "display(geo_data_0.head())"
   ]
  },
  {
   "cell_type": "code",
   "execution_count": 14,
   "id": "15934a6e",
   "metadata": {},
   "outputs": [
    {
     "name": "stdout",
     "output_type": "stream",
     "text": [
      "<class 'pandas.core.frame.DataFrame'>\n",
      "RangeIndex: 100000 entries, 0 to 99999\n",
      "Data columns (total 5 columns):\n",
      " #   Column   Non-Null Count   Dtype  \n",
      "---  ------   --------------   -----  \n",
      " 0   id       100000 non-null  object \n",
      " 1   f0       100000 non-null  float64\n",
      " 2   f1       100000 non-null  float64\n",
      " 3   f2       100000 non-null  float64\n",
      " 4   product  100000 non-null  float64\n",
      "dtypes: float64(4), object(1)\n",
      "memory usage: 3.8+ MB\n"
     ]
    }
   ],
   "source": [
    "geo_data_0.info()"
   ]
  },
  {
   "cell_type": "code",
   "execution_count": 15,
   "id": "8cdb9589",
   "metadata": {},
   "outputs": [
    {
     "data": {
      "text/html": [
       "<div>\n",
       "<style scoped>\n",
       "    .dataframe tbody tr th:only-of-type {\n",
       "        vertical-align: middle;\n",
       "    }\n",
       "\n",
       "    .dataframe tbody tr th {\n",
       "        vertical-align: top;\n",
       "    }\n",
       "\n",
       "    .dataframe thead th {\n",
       "        text-align: right;\n",
       "    }\n",
       "</style>\n",
       "<table border=\"1\" class=\"dataframe\">\n",
       "  <thead>\n",
       "    <tr style=\"text-align: right;\">\n",
       "      <th></th>\n",
       "      <th>f0</th>\n",
       "      <th>f1</th>\n",
       "      <th>f2</th>\n",
       "      <th>product</th>\n",
       "    </tr>\n",
       "  </thead>\n",
       "  <tbody>\n",
       "    <tr>\n",
       "      <th>count</th>\n",
       "      <td>100000.000000</td>\n",
       "      <td>100000.000000</td>\n",
       "      <td>100000.000000</td>\n",
       "      <td>100000.000000</td>\n",
       "    </tr>\n",
       "    <tr>\n",
       "      <th>mean</th>\n",
       "      <td>0.500419</td>\n",
       "      <td>0.250143</td>\n",
       "      <td>2.502647</td>\n",
       "      <td>92.500000</td>\n",
       "    </tr>\n",
       "    <tr>\n",
       "      <th>std</th>\n",
       "      <td>0.871832</td>\n",
       "      <td>0.504433</td>\n",
       "      <td>3.248248</td>\n",
       "      <td>44.288691</td>\n",
       "    </tr>\n",
       "    <tr>\n",
       "      <th>min</th>\n",
       "      <td>-1.408605</td>\n",
       "      <td>-0.848218</td>\n",
       "      <td>-12.088328</td>\n",
       "      <td>0.000000</td>\n",
       "    </tr>\n",
       "    <tr>\n",
       "      <th>25%</th>\n",
       "      <td>-0.072580</td>\n",
       "      <td>-0.200881</td>\n",
       "      <td>0.287748</td>\n",
       "      <td>56.497507</td>\n",
       "    </tr>\n",
       "    <tr>\n",
       "      <th>50%</th>\n",
       "      <td>0.502360</td>\n",
       "      <td>0.250252</td>\n",
       "      <td>2.515969</td>\n",
       "      <td>91.849972</td>\n",
       "    </tr>\n",
       "    <tr>\n",
       "      <th>75%</th>\n",
       "      <td>1.073581</td>\n",
       "      <td>0.700646</td>\n",
       "      <td>4.715088</td>\n",
       "      <td>128.564089</td>\n",
       "    </tr>\n",
       "    <tr>\n",
       "      <th>max</th>\n",
       "      <td>2.362331</td>\n",
       "      <td>1.343769</td>\n",
       "      <td>16.003790</td>\n",
       "      <td>185.364347</td>\n",
       "    </tr>\n",
       "  </tbody>\n",
       "</table>\n",
       "</div>"
      ],
      "text/plain": [
       "                  f0             f1             f2        product\n",
       "count  100000.000000  100000.000000  100000.000000  100000.000000\n",
       "mean        0.500419       0.250143       2.502647      92.500000\n",
       "std         0.871832       0.504433       3.248248      44.288691\n",
       "min        -1.408605      -0.848218     -12.088328       0.000000\n",
       "25%        -0.072580      -0.200881       0.287748      56.497507\n",
       "50%         0.502360       0.250252       2.515969      91.849972\n",
       "75%         1.073581       0.700646       4.715088     128.564089\n",
       "max         2.362331       1.343769      16.003790     185.364347"
      ]
     },
     "execution_count": 15,
     "metadata": {},
     "output_type": "execute_result"
    }
   ],
   "source": [
    "geo_data_0.describe()"
   ]
  },
  {
   "cell_type": "markdown",
   "id": "7215f542",
   "metadata": {},
   "source": [
    "#### Вывод \n",
    "Мы видим, что в данных нет пропусков, типы данных нас удовлетворяяют, названия столбцов в нужном формате. Удалим для дальнейшего исследования столбец  ID из каждого датасета"
   ]
  },
  {
   "cell_type": "code",
   "execution_count": 16,
   "id": "40500682",
   "metadata": {},
   "outputs": [
    {
     "data": {
      "text/plain": [
       "<AxesSubplot:>"
      ]
     },
     "execution_count": 16,
     "metadata": {},
     "output_type": "execute_result"
    },
    {
     "data": {
      "image/png": "[encoded data removed]",
      "text/plain": [
       "<Figure size 432x288 with 2 Axes>"
      ]
     },
     "metadata": {
      "needs_background": "light"
     },
     "output_type": "display_data"
    }
   ],
   "source": [
    "sns.heatmap(geo_data_2.corr())"
   ]
  },
  {
   "cell_type": "code",
   "execution_count": 17,
   "id": "0c6dc0b0",
   "metadata": {},
   "outputs": [],
   "source": [
    "geo_data_2 = geo_data_2.drop(columns = ['id'],axis = 1) "
   ]
  },
  {
   "cell_type": "code",
   "execution_count": 18,
   "id": "42dfed6e",
   "metadata": {},
   "outputs": [
    {
     "data": {
      "text/plain": [
       "<AxesSubplot:>"
      ]
     },
     "execution_count": 18,
     "metadata": {},
     "output_type": "execute_result"
    },
    {
     "data": {
      "image/png": "[encoded data removed]",
      "text/plain": [
       "<Figure size 432x288 with 2 Axes>"
      ]
     },
     "metadata": {
      "needs_background": "light"
     },
     "output_type": "display_data"
    }
   ],
   "source": [
    "sns.heatmap(geo_data_1.corr())"
   ]
  },
  {
   "cell_type": "markdown",
   "id": "c8295bcf",
   "metadata": {},
   "source": [
    "Высокая  корреляция между f2 и product, удалим столбец f2"
   ]
  },
  {
   "cell_type": "code",
   "execution_count": 19,
   "id": "0fb75d6c",
   "metadata": {},
   "outputs": [],
   "source": [
    "geo_data_1 = geo_data_1.drop(columns = ['id'],axis = 1) "
   ]
  },
  {
   "cell_type": "code",
   "execution_count": 20,
   "id": "75bc21d2",
   "metadata": {},
   "outputs": [
    {
     "data": {
      "text/plain": [
       "<AxesSubplot:>"
      ]
     },
     "execution_count": 20,
     "metadata": {},
     "output_type": "execute_result"
    },
    {
     "data": {
      "image/png": "[encoded data removed]",
      "text/plain": [
       "<Figure size 432x288 with 2 Axes>"
      ]
     },
     "metadata": {
      "needs_background": "light"
     },
     "output_type": "display_data"
    }
   ],
   "source": [
    "sns.heatmap(geo_data_0.corr())"
   ]
  },
  {
   "cell_type": "code",
   "execution_count": 21,
   "id": "10f40345",
   "metadata": {},
   "outputs": [],
   "source": [
    "geo_data_0 = geo_data_0.drop(columns = ['id'],axis = 1) "
   ]
  },
  {
   "cell_type": "markdown",
   "id": "ff7012be",
   "metadata": {},
   "source": [
    "### 2. Разбейте данные на обучающую и валидационную выборки в соотношении 75:25"
   ]
  },
  {
   "cell_type": "markdown",
   "id": "b9f8db2e",
   "metadata": {},
   "source": [
    "#### 2.1 Разбиение на выборки_Датасет_2"
   ]
  },
  {
   "cell_type": "code",
   "execution_count": 22,
   "id": "406a1673",
   "metadata": {},
   "outputs": [],
   "source": [
    "features_2 = geo_data_2.drop (['product'],axis=1)# извлеките признаки \n",
    "target_2 = geo_data_2['product'] # извлеките целевой признак"
   ]
  },
  {
   "cell_type": "code",
   "execution_count": 23,
   "id": "56a2764b",
   "metadata": {},
   "outputs": [],
   "source": [
    "features_train_2, features_valid_2, target_train_2, target_valid_2 = train_test_split(\n",
    "    features_2,target_2,test_size=0.25, random_state=12345)"
   ]
  },
  {
   "cell_type": "code",
   "execution_count": 24,
   "id": "c1c55265",
   "metadata": {},
   "outputs": [
    {
     "name": "stdout",
     "output_type": "stream",
     "text": [
      "(75000, 3) (75000,)\n",
      "(25000, 3) (25000,)\n"
     ]
    }
   ],
   "source": [
    "print(features_train_2.shape, target_train_2.shape)\n",
    "print(features_valid_2.shape, target_valid_2.shape)"
   ]
  },
  {
   "cell_type": "markdown",
   "id": "336c370b",
   "metadata": {},
   "source": [
    "#### 2.2 Разбиение на выборки_Датасет_1"
   ]
  },
  {
   "cell_type": "code",
   "execution_count": 25,
   "id": "42b62d8f",
   "metadata": {},
   "outputs": [],
   "source": [
    "features_1 = geo_data_1.drop (['product'],axis=1)# извлеките признаки \n",
    "target_1 = geo_data_1['product'] # извлеките целевой признак"
   ]
  },
  {
   "cell_type": "code",
   "execution_count": 26,
   "id": "a5e8bd79",
   "metadata": {},
   "outputs": [],
   "source": [
    "features_train_1, features_valid_1, target_train_1, target_valid_1 = train_test_split(\n",
    "    features_1,target_1,test_size=0.25, random_state=12345)"
   ]
  },
  {
   "cell_type": "code",
   "execution_count": 27,
   "id": "039dc5ce",
   "metadata": {},
   "outputs": [
    {
     "name": "stdout",
     "output_type": "stream",
     "text": [
      "(75000, 3) (75000,)\n",
      "(25000, 3) (25000,)\n"
     ]
    }
   ],
   "source": [
    "print(features_train_1.shape, target_train_1.shape)\n",
    "print(features_valid_1.shape, target_valid_1.shape)"
   ]
  },
  {
   "cell_type": "markdown",
   "id": "a99f0116",
   "metadata": {},
   "source": [
    "#### 2.3 Разбиение на выборки_Датасет_0"
   ]
  },
  {
   "cell_type": "code",
   "execution_count": 28,
   "id": "ba8bdb89",
   "metadata": {},
   "outputs": [],
   "source": [
    "features_0 = geo_data_0.drop (['product'],axis=1)# извлеките признаки \n",
    "target_0 = geo_data_0['product'] # извлеките целевой признак"
   ]
  },
  {
   "cell_type": "code",
   "execution_count": 29,
   "id": "0dbecb6d",
   "metadata": {},
   "outputs": [],
   "source": [
    "features_train_0, features_valid_0, target_train_0, target_valid_0 = train_test_split(\n",
    "    features_0,target_0,test_size=0.25, random_state=12345)"
   ]
  },
  {
   "cell_type": "code",
   "execution_count": 30,
   "id": "f7496689",
   "metadata": {},
   "outputs": [
    {
     "name": "stdout",
     "output_type": "stream",
     "text": [
      "(75000, 3) (75000,)\n",
      "(25000, 3) (25000,)\n"
     ]
    }
   ],
   "source": [
    "print(features_train_0.shape, target_train_0.shape)\n",
    "print(features_valid_0.shape, target_valid_0.shape)"
   ]
  },
  {
   "cell_type": "markdown",
   "id": "fd635e44",
   "metadata": {},
   "source": [
    "### 3.  Обучите модель линойной регрессии на  каждой выборке и сделайте предсказания на валидационной выборке."
   ]
  },
  {
   "cell_type": "markdown",
   "id": "dec106e2",
   "metadata": {},
   "source": [
    "#### 3.1 Обучение модели_Датасет_2"
   ]
  },
  {
   "cell_type": "code",
   "execution_count": 31,
   "id": "a66f9480",
   "metadata": {},
   "outputs": [
    {
     "name": "stdout",
     "output_type": "stream",
     "text": [
      "Средний обьем предсказанного сырья во 2 регионе: 94.96504596800489\n",
      "RMSE_2 модели линейной регрессии на валидационной выборке: 40.02970873393434\n"
     ]
    }
   ],
   "source": [
    "model = LinearRegression() # инициализируйте модель LinearRegression\n",
    "model.fit(features_train_2,target_train_2) # обучите модель на тренировочной выборке\n",
    "predictions_valid_2 = model.predict(features_valid_2) # получите предсказания модели на валидационной выборке\n",
    "\n",
    "result_2 = mean_squared_error(target_valid_2,predictions_valid_2)**0.5# посчитайте значение метрики RMSE на валидационной выборке\n",
    "print(\"Средний обьем предсказанного сырья во 2 регионе:\", predictions_valid_2.mean())\n",
    "print(\"RMSE_2 модели линейной регрессии на валидационной выборке:\", result_2)"
   ]
  },
  {
   "cell_type": "markdown",
   "id": "4ed7d3b5",
   "metadata": {},
   "source": [
    "#### 3.2 Обучение модели_Датасет_1"
   ]
  },
  {
   "cell_type": "code",
   "execution_count": 32,
   "id": "32ef42d7",
   "metadata": {},
   "outputs": [
    {
     "name": "stdout",
     "output_type": "stream",
     "text": [
      "Средний обьем предсказанного сырья в 1 регионе: 68.72854689544602\n",
      "RMSE_1 модели линейной регрессии на валидационной выборке: 0.893099286775617\n"
     ]
    }
   ],
   "source": [
    "model = LinearRegression() # инициализируйте модель LinearRegression\n",
    "model.fit(features_train_1,target_train_1) # обучите модель на тренировочной выборке\n",
    "predictions_valid_1 = model.predict(features_valid_1) # получите предсказания модели на валидационной выборке\n",
    "\n",
    "result_1 = mean_squared_error (target_valid_1,predictions_valid_1)**0.5# посчитайте значение метрики RMSE на валидационной выборке\n",
    "print(\"Средний обьем предсказанного сырья в 1 регионе:\", predictions_valid_1.mean())\n",
    "print(\"RMSE_1 модели линейной регрессии на валидационной выборке:\", result_1)"
   ]
  },
  {
   "cell_type": "markdown",
   "id": "8fc587a7",
   "metadata": {},
   "source": [
    "#### 3.3 Обучение модели_Датасет_0"
   ]
  },
  {
   "cell_type": "code",
   "execution_count": 33,
   "id": "986f22b9",
   "metadata": {},
   "outputs": [
    {
     "name": "stdout",
     "output_type": "stream",
     "text": [
      "Средний обьем предсказанного сырья в 0 регионе: 92.59256778438035\n",
      "RMSE_0 модели линейной регрессии на валидационной выборке: 37.5794217150813\n"
     ]
    }
   ],
   "source": [
    "model = LinearRegression() # инициализируйте модель LinearRegression\n",
    "model.fit(features_train_0,target_train_0) # обучите модель на тренировочной выборке\n",
    "predictions_valid_0 = model.predict(features_valid_0) # получите предсказания модели на валидационной выборке\n",
    "\n",
    "result_0 = mean_squared_error (target_valid_0,predictions_valid_0)**0.5# посчитайте значение метрики RMSE на валидационной выборке\n",
    "print(\"Средний обьем предсказанного сырья в 0 регионе:\", predictions_valid_0.mean())\n",
    "print(\"RMSE_0 модели линейной регрессии на валидационной выборке:\", result_0)"
   ]
  },
  {
   "cell_type": "code",
   "execution_count": 34,
   "id": "d0512cf7",
   "metadata": {},
   "outputs": [],
   "source": [
    "table_result = pd.DataFrame(\n",
    "  columns=['Средний обьем сырья', '|',\n",
    "             'RMSE',  '|',\n",
    "            ],\n",
    "    \n",
    "    index=['Скважина_0',\n",
    "           'Скважина_1',\n",
    "           'Скважина_2'])\n",
    "\n",
    "\n",
    "table_result['|'] =  '|'"
   ]
  },
  {
   "cell_type": "code",
   "execution_count": 35,
   "id": "f955a6d8",
   "metadata": {},
   "outputs": [],
   "source": [
    "table_result.loc['Скважина_0','Средний обьем сырья'] = predictions_valid_0.mean()\n",
    "table_result.loc['Скважина_0','RMSE'] = result_0"
   ]
  },
  {
   "cell_type": "code",
   "execution_count": 36,
   "id": "7bfa47f7",
   "metadata": {},
   "outputs": [],
   "source": [
    "table_result.loc['Скважина_1','Средний обьем сырья'] = predictions_valid_1.mean()\n",
    "table_result.loc['Скважина_1','RMSE'] = result_1"
   ]
  },
  {
   "cell_type": "code",
   "execution_count": 37,
   "id": "27f4a4f8",
   "metadata": {},
   "outputs": [],
   "source": [
    "table_result.loc['Скважина_2','Средний обьем сырья'] = predictions_valid_2.mean()\n",
    "table_result.loc['Скважина_2','RMSE'] = result_2"
   ]
  },
  {
   "cell_type": "code",
   "execution_count": 38,
   "id": "c06cb6f4",
   "metadata": {},
   "outputs": [
    {
     "data": {
      "text/html": [
       "<div>\n",
       "<style scoped>\n",
       "    .dataframe tbody tr th:only-of-type {\n",
       "        vertical-align: middle;\n",
       "    }\n",
       "\n",
       "    .dataframe tbody tr th {\n",
       "        vertical-align: top;\n",
       "    }\n",
       "\n",
       "    .dataframe thead th {\n",
       "        text-align: right;\n",
       "    }\n",
       "</style>\n",
       "<table border=\"1\" class=\"dataframe\">\n",
       "  <thead>\n",
       "    <tr style=\"text-align: right;\">\n",
       "      <th></th>\n",
       "      <th>Средний обьем сырья</th>\n",
       "      <th>|</th>\n",
       "      <th>RMSE</th>\n",
       "      <th>|</th>\n",
       "    </tr>\n",
       "  </thead>\n",
       "  <tbody>\n",
       "    <tr>\n",
       "      <th>Скважина_0</th>\n",
       "      <td>92.592568</td>\n",
       "      <td>|</td>\n",
       "      <td>37.579422</td>\n",
       "      <td>|</td>\n",
       "    </tr>\n",
       "    <tr>\n",
       "      <th>Скважина_1</th>\n",
       "      <td>68.728547</td>\n",
       "      <td>|</td>\n",
       "      <td>0.893099</td>\n",
       "      <td>|</td>\n",
       "    </tr>\n",
       "    <tr>\n",
       "      <th>Скважина_2</th>\n",
       "      <td>94.965046</td>\n",
       "      <td>|</td>\n",
       "      <td>40.029709</td>\n",
       "      <td>|</td>\n",
       "    </tr>\n",
       "  </tbody>\n",
       "</table>\n",
       "</div>"
      ],
      "text/plain": [
       "           Средний обьем сырья  |       RMSE  |\n",
       "Скважина_0           92.592568  |  37.579422  |\n",
       "Скважина_1           68.728547  |   0.893099  |\n",
       "Скважина_2           94.965046  |  40.029709  |"
      ]
     },
     "metadata": {},
     "output_type": "display_data"
    }
   ],
   "source": [
    "display(table_result)"
   ]
  },
  {
   "cell_type": "markdown",
   "id": "c2c5da03",
   "metadata": {},
   "source": [
    "### Вывод: \n",
    "Как видно из полученных данных, для Регионов 0 и 2 показатели средний объем запасов и квадратный корень из средней квадратичной ошибки RMSE очень близки. \n",
    "\n",
    "При этом для Региона 1 показатель RMSE меньше единицы, что более чем в 40 раз меньше аналогичного показателя для Регионов 0 и 2 - это говорит о более точных предсказаниях модели для Региона 1. Такая точность скорее всего вызвана прямой корреляцией параметра `f2` и объема запасов в регионе `product`, а также выбранным алгоритмом обучения с помощью линейной регрессии.Самый большой средний запас сырья (94,9 тыс.бареллей) во 2 регионе "
   ]
  },
  {
   "cell_type": "markdown",
   "id": "72781e19",
   "metadata": {},
   "source": [
    "### 4.Расчет достаточного объёма сырья для безубыточной разработки новой скважины"
   ]
  },
  {
   "cell_type": "markdown",
   "id": "d0ef7a02",
   "metadata": {},
   "source": [
    "#### Условие:\n",
    "- Бюджет на разработку скважин в регионе — 10 млрд рублей.\n",
    "- При разведке региона исследуют 500 точек, из которых с помощью машинного обучения выбирают 200 лучших для разработки.\n",
    "- При нынешних ценах один баррель сырья приносит 450 рублей дохода. \n",
    "- Доход с каждой единицы продукта составляет 450 тыс. рублей, поскольку объём указан в тысячах баррелей."
   ]
  },
  {
   "cell_type": "code",
   "execution_count": 39,
   "id": "4d94e596",
   "metadata": {},
   "outputs": [
    {
     "name": "stdout",
     "output_type": "stream",
     "text": [
      "Минимальное кол-во топлива, необходимого в скважине для выхода в 0: 111.11111111111111\n"
     ]
    }
   ],
   "source": [
    "BUDGET = 10*1e+9\n",
    "COUNT_HOLE = 500\n",
    "BEST_HOLE = 200\n",
    "PROFIT_ONE_HOLE = 450*1e+3\n",
    "MIN_FUEL_ONE_HOLE = BUDGET / (BEST_HOLE * PROFIT_ONE_HOLE)\n",
    "\n",
    "print(\"Минимальное кол-во топлива, необходимого в скважине для выхода в 0:\",MIN_FUEL_ONE_HOLE)"
   ]
  },
  {
   "cell_type": "markdown",
   "id": "82499ee0",
   "metadata": {},
   "source": [
    "### Вывод\n",
    "Среднее количество топлива на одной скажины, необходимое для полного освоения бюджета (выход в 0) - 111 т.баррелей. Это больше чем средний запас предсказанного сырья по валидационной выборке по регионам.  Максимальный запас сырья (94,9 тыс.бареллей) во 2 регионе меньше требуемых 111 тыс.бареллей"
   ]
  },
  {
   "cell_type": "markdown",
   "id": "e894932b",
   "metadata": {},
   "source": [
    "### 5.Расчет прибыли и рисков"
   ]
  },
  {
   "cell_type": "markdown",
   "id": "37d3dbe4",
   "metadata": {},
   "source": [
    "Сброс индексов и перевод в Series"
   ]
  },
  {
   "cell_type": "code",
   "execution_count": 40,
   "id": "9864ba94",
   "metadata": {},
   "outputs": [],
   "source": [
    "target_valid_2 = target_valid_2.reset_index()\n",
    "target_valid_2= target_valid_2['product']\n",
    "target_valid_1 = target_valid_1.reset_index()\n",
    "target_valid_1= target_valid_1['product']\n",
    "target_valid_0 = target_valid_0.reset_index()\n",
    "target_valid_0= target_valid_0['product']"
   ]
  },
  {
   "cell_type": "code",
   "execution_count": 41,
   "id": "dd98b091",
   "metadata": {},
   "outputs": [],
   "source": [
    "predictions_valid_2 = pd.Series (predictions_valid_2)\n",
    "predictions_valid_1 = pd.Series (predictions_valid_1)\n",
    "predictions_valid_0 = pd.Series (predictions_valid_0)"
   ]
  },
  {
   "cell_type": "code",
   "execution_count": 42,
   "id": "4eea2f3d",
   "metadata": {},
   "outputs": [],
   "source": [
    "def get_profit(predict, valid, count):\n",
    "    \"\"\"функция берет значение самых богатых скважин и высчитывает прибыль\"\"\"\n",
    "     #сортируем по возрастанию\n",
    "    predict_sort = predict.sort_values(ascending=False)\n",
    "   \n",
    "    # отбираем из валид.выборки по индексам отсортированного предсказания и берем count скважин\n",
    "    valid_sort = valid[predict_sort.index][:count]\n",
    "    \n",
    "    # общее кол-во топлива\n",
    "    total_fuel = valid_sort.sum()\n",
    "    \n",
    "    # считаем прибиль: запасы топлива всех скважин * прибыль с топлива - бюджет\n",
    "    profit = total_fuel * PROFIT_ONE_HOLE - BUDGET\n",
    " \n",
    "    return profit"
   ]
  },
  {
   "cell_type": "code",
   "execution_count": 43,
   "id": "54c1a989",
   "metadata": {},
   "outputs": [
    {
     "name": "stdout",
     "output_type": "stream",
     "text": [
      "Прибыль с лучших скважин во 2 регионе : 2710 млн.\n",
      "Прибыль с лучших скважин в 1 регионе : 2415 млн.\n",
      "Прибыль с лучших скважин в 0 регионе : 3321 млн.\n"
     ]
    }
   ],
   "source": [
    "print(\"Прибыль с лучших скважин во 2 регионе :\",round(get_profit(predictions_valid_2, target_valid_2, BEST_HOLE)/1e+6), 'млн.')\n",
    "print(\"Прибыль с лучших скважин в 1 регионе :\",round(get_profit(predictions_valid_1, target_valid_1, BEST_HOLE)/1e+6), 'млн.')\n",
    "print(\"Прибыль с лучших скважин в 0 регионе :\",round(get_profit(predictions_valid_0, target_valid_0, BEST_HOLE)/1e+6), 'млн.')"
   ]
  },
  {
   "cell_type": "code",
   "execution_count": 44,
   "id": "c83c52b8",
   "metadata": {},
   "outputs": [],
   "source": [
    "def get_top_fuel(predict, valid, count):\n",
    "    #сортируем по возрастанию\n",
    "    predict_sort = predict.sort_values(ascending=False)\n",
    "\n",
    "    # отбираем из валид.выборки по индексам отсортированного предсказания и берем count скважин\n",
    "    valid_sort = valid[predict_sort.index][:count]\n",
    "    \n",
    "    # общее кол-во топлива\n",
    "    total_fuel = valid_sort.sum()\n",
    " \n",
    "    return total_fuel"
   ]
  },
  {
   "cell_type": "code",
   "execution_count": 45,
   "id": "bd433dab",
   "metadata": {},
   "outputs": [
    {
     "name": "stdout",
     "output_type": "stream",
     "text": [
      "======общее кол-во топлива с лучших скважин по регионам=======\n",
      "общее кол-во топлива с лучших скважин во 2 регионе,тыс.бар.: 28245\n",
      "общее кол-во топлива с лучших скважин во 1 регионе,тыс.бар.: 27589\n",
      "общее кол-во топлива с лучших скважин во 0 регионе,тыс.бар.: 29602\n"
     ]
    }
   ],
   "source": [
    "print('======общее кол-во топлива с лучших скважин по регионам=======')\n",
    "\n",
    "print(\"общее кол-во топлива с лучших скважин во 2 регионе,тыс.бар.:\",round(get_top_fuel(predictions_valid_2, target_valid_2, BEST_HOLE)))\n",
    "print(\"общее кол-во топлива с лучших скважин во 1 регионе,тыс.бар.:\",round(get_top_fuel(predictions_valid_1, target_valid_1, BEST_HOLE)))\n",
    "print(\"общее кол-во топлива с лучших скважин во 0 регионе,тыс.бар.:\",round(get_top_fuel(predictions_valid_0, target_valid_0, BEST_HOLE)))"
   ]
  },
  {
   "cell_type": "markdown",
   "id": "516f3a26",
   "metadata": {},
   "source": [
    "В результате анализа мы видим, что из каждого региона возможность добыть количество баррелей нефти из лучших скважин значительно выше точки безубыточность (111тыс. баррелей)"
   ]
  },
  {
   "cell_type": "markdown",
   "id": "1216d744",
   "metadata": {},
   "source": [
    "#### 5.1 Бутстреп"
   ]
  },
  {
   "cell_type": "code",
   "execution_count": 46,
   "id": "7458d31e",
   "metadata": {},
   "outputs": [],
   "source": [
    "state = np.random.RandomState(12345)"
   ]
  },
  {
   "cell_type": "code",
   "execution_count": 47,
   "id": "5c8fe4fb",
   "metadata": {},
   "outputs": [],
   "source": [
    "def boot_fuel(predict, valid, repeat):\n",
    "    \"\"\"функция с помощью техники бутстреп отбирает средние значения из лучших скважин из случайных\"\"\"\n",
    "    values = []\n",
    "    alpha = 0.05\n",
    "\n",
    "    # бутстреп\n",
    "    for _ in tqdm_notebook(range(repeat)):\n",
    "        predict_sample = predict.sample(n=COUNT_HOLE, random_state=state, replace=True)\n",
    "        valid_sample = valid[predict_sample.index]\n",
    "        # расчет прибыли\n",
    "        result = get_profit(predict_sample, valid_sample, BEST_HOLE)\n",
    "        values.append(result)\n",
    "\n",
    "    values = pd.Series(values)\n",
    "\n",
    "    # доверительный интервал в 95%\n",
    "    lower = round( values.quantile(alpha/2) / 1e+6 ) # 2.5% снизу\n",
    "    upper = round( values.quantile(1-alpha/2) / 1e+6 ) # 2,5% сверху\n",
    "\n",
    "    #считаем шанс получить отрицательную прибыль \n",
    "    risk = (values<0).mean()*100\n",
    "\n",
    "    print(\n",
    "        f'Средняя прибыль: {round(values.mean()/1e+6)} млн.\\n95% интервал:{(lower, upper,)} млн.\\nриск убытков:{round(risk,2)}%'\n",
    "    )\n"
   ]
  },
  {
   "cell_type": "code",
   "execution_count": 48,
   "id": "2ca732fa",
   "metadata": {},
   "outputs": [
    {
     "data": {
      "application/vnd.jupyter.widget-view+json": {
       "model_id": "ec6690b0f62445efa013a23043faa72e",
       "version_major": 2,
       "version_minor": 0
      },
      "text/plain": [
       "  0%|          | 0/500 [00:00<?, ?it/s]"
      ]
     },
     "metadata": {},
     "output_type": "display_data"
    },
    {
     "name": "stdout",
     "output_type": "stream",
     "text": [
      "Средняя прибыль: 436 млн.\n",
      "95% интервал:(-134, 967) млн.\n",
      "риск убытков:7.2%\n"
     ]
    },
    {
     "data": {
      "application/vnd.jupyter.widget-view+json": {
       "model_id": "e6c785df406248519f5f35b170b6a8d6",
       "version_major": 2,
       "version_minor": 0
      },
      "text/plain": [
       "  0%|          | 0/500 [00:00<?, ?it/s]"
      ]
     },
     "metadata": {},
     "output_type": "display_data"
    },
    {
     "name": "stdout",
     "output_type": "stream",
     "text": [
      "Средняя прибыль: 515 млн.\n",
      "95% интервал:(85, 932) млн.\n",
      "риск убытков:0.8%\n"
     ]
    },
    {
     "data": {
      "application/vnd.jupyter.widget-view+json": {
       "model_id": "4ec7045d23274ccc8998eb71509da24e",
       "version_major": 2,
       "version_minor": 0
      },
      "text/plain": [
       "  0%|          | 0/500 [00:00<?, ?it/s]"
      ]
     },
     "metadata": {},
     "output_type": "display_data"
    },
    {
     "name": "stdout",
     "output_type": "stream",
     "text": [
      "Средняя прибыль: 423 млн.\n",
      "95% интервал:(-128, 942) млн.\n",
      "риск убытков:6.2%\n"
     ]
    }
   ],
   "source": [
    "boot_fuel(predictions_valid_2, target_valid_2, 500)\n",
    "boot_fuel(predictions_valid_1, target_valid_1, 500)\n",
    "boot_fuel(predictions_valid_0, target_valid_0, 500)"
   ]
  },
  {
   "cell_type": "markdown",
   "id": "75b1dc70",
   "metadata": {},
   "source": [
    "### Вывод\n",
    "Для дальнейшей разработки месторождений рекомендуется использовать 1 регион. Ожидаемая прибыль 515 млн, риски минимальные  (меньше одного процента)"
   ]
  }
 ],
 "metadata": {
  "ExecuteTimeLog": [
   {
    "duration": 141,
    "start_time": "2022-04-07T11:31:15.867Z"
   },
   {
    "duration": 378,
    "start_time": "2022-04-07T11:36:26.481Z"
   },
   {
    "duration": 1241,
    "start_time": "2022-04-07T11:36:26.861Z"
   },
   {
    "duration": 114,
    "start_time": "2022-04-07T11:36:28.104Z"
   },
   {
    "duration": 5,
    "start_time": "2022-04-07T11:36:28.221Z"
   },
   {
    "duration": 14,
    "start_time": "2022-04-07T11:36:28.227Z"
   },
   {
    "duration": 26,
    "start_time": "2022-04-07T11:36:28.242Z"
   },
   {
    "duration": 32,
    "start_time": "2022-04-07T11:36:28.270Z"
   },
   {
    "duration": 114,
    "start_time": "2022-04-07T11:36:28.303Z"
   },
   {
    "duration": 10,
    "start_time": "2022-04-07T11:36:28.418Z"
   },
   {
    "duration": 17,
    "start_time": "2022-04-07T11:36:28.430Z"
   },
   {
    "duration": 32,
    "start_time": "2022-04-07T11:36:28.463Z"
   },
   {
    "duration": 117,
    "start_time": "2022-04-07T11:36:28.497Z"
   },
   {
    "duration": 9,
    "start_time": "2022-04-07T11:36:28.615Z"
   },
   {
    "duration": 17,
    "start_time": "2022-04-07T11:36:28.625Z"
   },
   {
    "duration": 45,
    "start_time": "2022-04-07T11:36:28.643Z"
   },
   {
    "duration": 5,
    "start_time": "2022-04-07T11:36:28.690Z"
   },
   {
    "duration": 10,
    "start_time": "2022-04-07T11:36:28.696Z"
   },
   {
    "duration": 11,
    "start_time": "2022-04-07T11:36:28.707Z"
   },
   {
    "duration": 7,
    "start_time": "2022-04-07T11:36:28.720Z"
   },
   {
    "duration": 12,
    "start_time": "2022-04-07T11:36:28.728Z"
   },
   {
    "duration": 3,
    "start_time": "2022-04-07T11:36:28.741Z"
   },
   {
    "duration": 20,
    "start_time": "2022-04-07T11:36:28.745Z"
   },
   {
    "duration": 16,
    "start_time": "2022-04-07T11:36:28.767Z"
   },
   {
    "duration": 3,
    "start_time": "2022-04-07T11:36:28.784Z"
   },
   {
    "duration": 7,
    "start_time": "2022-04-07T11:36:28.789Z"
   },
   {
    "duration": 14,
    "start_time": "2022-04-07T11:36:28.797Z"
   },
   {
    "duration": 3,
    "start_time": "2022-04-07T11:36:28.812Z"
   },
   {
    "duration": 54,
    "start_time": "2022-04-07T11:36:28.818Z"
   },
   {
    "duration": 101,
    "start_time": "2022-04-07T11:36:28.873Z"
   },
   {
    "duration": 190,
    "start_time": "2022-04-07T11:36:28.976Z"
   },
   {
    "duration": 101,
    "start_time": "2022-04-07T11:36:29.168Z"
   },
   {
    "duration": 9,
    "start_time": "2022-04-07T11:36:29.271Z"
   },
   {
    "duration": 85,
    "start_time": "2022-04-07T11:36:29.282Z"
   },
   {
    "duration": 5,
    "start_time": "2022-04-07T11:36:29.369Z"
   },
   {
    "duration": 18,
    "start_time": "2022-04-07T11:36:29.376Z"
   },
   {
    "duration": 4,
    "start_time": "2022-04-07T11:36:29.395Z"
   },
   {
    "duration": 20,
    "start_time": "2022-04-07T11:36:29.400Z"
   },
   {
    "duration": 2,
    "start_time": "2022-04-07T11:36:29.422Z"
   },
   {
    "duration": 7,
    "start_time": "2022-04-07T11:36:29.425Z"
   },
   {
    "duration": 2039,
    "start_time": "2022-04-07T11:36:29.434Z"
   },
   {
    "duration": 441,
    "start_time": "2022-04-07T17:14:39.378Z"
   },
   {
    "duration": 950,
    "start_time": "2022-04-07T17:14:39.821Z"
   },
   {
    "duration": 0,
    "start_time": "2022-04-07T17:14:40.774Z"
   },
   {
    "duration": 0,
    "start_time": "2022-04-07T17:14:40.775Z"
   },
   {
    "duration": 0,
    "start_time": "2022-04-07T17:14:40.777Z"
   },
   {
    "duration": 0,
    "start_time": "2022-04-07T17:14:40.778Z"
   },
   {
    "duration": 0,
    "start_time": "2022-04-07T17:14:40.779Z"
   },
   {
    "duration": 0,
    "start_time": "2022-04-07T17:14:40.780Z"
   },
   {
    "duration": 0,
    "start_time": "2022-04-07T17:14:40.781Z"
   },
   {
    "duration": 0,
    "start_time": "2022-04-07T17:14:40.782Z"
   },
   {
    "duration": 0,
    "start_time": "2022-04-07T17:14:40.783Z"
   },
   {
    "duration": 0,
    "start_time": "2022-04-07T17:14:40.784Z"
   },
   {
    "duration": 0,
    "start_time": "2022-04-07T17:14:40.785Z"
   },
   {
    "duration": 0,
    "start_time": "2022-04-07T17:14:40.801Z"
   },
   {
    "duration": 0,
    "start_time": "2022-04-07T17:14:40.803Z"
   },
   {
    "duration": 0,
    "start_time": "2022-04-07T17:14:40.804Z"
   },
   {
    "duration": 0,
    "start_time": "2022-04-07T17:14:40.805Z"
   },
   {
    "duration": 0,
    "start_time": "2022-04-07T17:14:40.806Z"
   },
   {
    "duration": 0,
    "start_time": "2022-04-07T17:14:40.808Z"
   },
   {
    "duration": 0,
    "start_time": "2022-04-07T17:14:40.809Z"
   },
   {
    "duration": 0,
    "start_time": "2022-04-07T17:14:40.810Z"
   },
   {
    "duration": 0,
    "start_time": "2022-04-07T17:14:40.811Z"
   },
   {
    "duration": 0,
    "start_time": "2022-04-07T17:14:40.812Z"
   },
   {
    "duration": 0,
    "start_time": "2022-04-07T17:14:40.813Z"
   },
   {
    "duration": 0,
    "start_time": "2022-04-07T17:14:40.814Z"
   },
   {
    "duration": 0,
    "start_time": "2022-04-07T17:14:40.815Z"
   },
   {
    "duration": 0,
    "start_time": "2022-04-07T17:14:40.816Z"
   },
   {
    "duration": 0,
    "start_time": "2022-04-07T17:14:40.817Z"
   },
   {
    "duration": 0,
    "start_time": "2022-04-07T17:14:40.818Z"
   },
   {
    "duration": 0,
    "start_time": "2022-04-07T17:14:40.819Z"
   },
   {
    "duration": 0,
    "start_time": "2022-04-07T17:14:40.820Z"
   },
   {
    "duration": 0,
    "start_time": "2022-04-07T17:14:40.821Z"
   },
   {
    "duration": 0,
    "start_time": "2022-04-07T17:14:40.822Z"
   },
   {
    "duration": 0,
    "start_time": "2022-04-07T17:14:40.823Z"
   },
   {
    "duration": 0,
    "start_time": "2022-04-07T17:14:40.824Z"
   },
   {
    "duration": 0,
    "start_time": "2022-04-07T17:14:40.825Z"
   },
   {
    "duration": 0,
    "start_time": "2022-04-07T17:14:40.826Z"
   },
   {
    "duration": 0,
    "start_time": "2022-04-07T17:14:40.827Z"
   },
   {
    "duration": 0,
    "start_time": "2022-04-07T17:14:40.829Z"
   },
   {
    "duration": 0,
    "start_time": "2022-04-07T17:14:40.830Z"
   },
   {
    "duration": 441,
    "start_time": "2022-04-07T17:16:16.766Z"
   },
   {
    "duration": 1370,
    "start_time": "2022-04-07T17:16:17.209Z"
   },
   {
    "duration": 122,
    "start_time": "2022-04-07T17:16:18.581Z"
   },
   {
    "duration": 5,
    "start_time": "2022-04-07T17:16:18.705Z"
   },
   {
    "duration": 16,
    "start_time": "2022-04-07T17:16:18.711Z"
   },
   {
    "duration": 15,
    "start_time": "2022-04-07T17:16:18.728Z"
   },
   {
    "duration": 33,
    "start_time": "2022-04-07T17:16:18.745Z"
   },
   {
    "duration": 128,
    "start_time": "2022-04-07T17:16:18.802Z"
   },
   {
    "duration": 9,
    "start_time": "2022-04-07T17:16:18.932Z"
   },
   {
    "duration": 23,
    "start_time": "2022-04-07T17:16:18.944Z"
   },
   {
    "duration": 53,
    "start_time": "2022-04-07T17:16:18.969Z"
   },
   {
    "duration": 124,
    "start_time": "2022-04-07T17:16:19.024Z"
   },
   {
    "duration": 9,
    "start_time": "2022-04-07T17:16:19.150Z"
   },
   {
    "duration": 18,
    "start_time": "2022-04-07T17:16:19.161Z"
   },
   {
    "duration": 48,
    "start_time": "2022-04-07T17:16:19.181Z"
   },
   {
    "duration": 8,
    "start_time": "2022-04-07T17:16:19.231Z"
   },
   {
    "duration": 7,
    "start_time": "2022-04-07T17:16:19.241Z"
   },
   {
    "duration": 16,
    "start_time": "2022-04-07T17:16:19.250Z"
   },
   {
    "duration": 12,
    "start_time": "2022-04-07T17:16:19.268Z"
   },
   {
    "duration": 23,
    "start_time": "2022-04-07T17:16:19.282Z"
   },
   {
    "duration": 4,
    "start_time": "2022-04-07T17:16:19.307Z"
   },
   {
    "duration": 14,
    "start_time": "2022-04-07T17:16:19.312Z"
   },
   {
    "duration": 24,
    "start_time": "2022-04-07T17:16:19.328Z"
   },
   {
    "duration": 4,
    "start_time": "2022-04-07T17:16:19.354Z"
   },
   {
    "duration": 19,
    "start_time": "2022-04-07T17:16:19.361Z"
   },
   {
    "duration": 35,
    "start_time": "2022-04-07T17:16:19.381Z"
   },
   {
    "duration": 8,
    "start_time": "2022-04-07T17:16:19.418Z"
   },
   {
    "duration": 170,
    "start_time": "2022-04-07T17:16:19.430Z"
   },
   {
    "duration": 17,
    "start_time": "2022-04-07T17:16:19.603Z"
   },
   {
    "duration": 103,
    "start_time": "2022-04-07T17:16:19.703Z"
   },
   {
    "duration": 93,
    "start_time": "2022-04-07T17:16:19.809Z"
   },
   {
    "duration": 97,
    "start_time": "2022-04-07T17:16:19.904Z"
   },
   {
    "duration": 4,
    "start_time": "2022-04-07T17:16:20.003Z"
   },
   {
    "duration": 5,
    "start_time": "2022-04-07T17:16:20.009Z"
   },
   {
    "duration": 20,
    "start_time": "2022-04-07T17:16:20.016Z"
   },
   {
    "duration": 4,
    "start_time": "2022-04-07T17:16:20.037Z"
   },
   {
    "duration": 21,
    "start_time": "2022-04-07T17:16:20.042Z"
   },
   {
    "duration": 3,
    "start_time": "2022-04-07T17:16:20.065Z"
   },
   {
    "duration": 37,
    "start_time": "2022-04-07T17:16:20.069Z"
   },
   {
    "duration": 2005,
    "start_time": "2022-04-07T17:16:20.107Z"
   },
   {
    "duration": 368,
    "start_time": "2022-04-07T17:16:36.338Z"
   },
   {
    "duration": 1266,
    "start_time": "2022-04-07T17:16:36.708Z"
   },
   {
    "duration": 130,
    "start_time": "2022-04-07T17:16:37.976Z"
   },
   {
    "duration": 5,
    "start_time": "2022-04-07T17:16:38.108Z"
   },
   {
    "duration": 19,
    "start_time": "2022-04-07T17:16:38.116Z"
   },
   {
    "duration": 14,
    "start_time": "2022-04-07T17:16:38.136Z"
   },
   {
    "duration": 50,
    "start_time": "2022-04-07T17:16:38.151Z"
   },
   {
    "duration": 111,
    "start_time": "2022-04-07T17:16:38.203Z"
   },
   {
    "duration": 8,
    "start_time": "2022-04-07T17:16:38.316Z"
   },
   {
    "duration": 14,
    "start_time": "2022-04-07T17:16:38.326Z"
   },
   {
    "duration": 31,
    "start_time": "2022-04-07T17:16:38.342Z"
   },
   {
    "duration": 119,
    "start_time": "2022-04-07T17:16:38.374Z"
   },
   {
    "duration": 12,
    "start_time": "2022-04-07T17:16:38.495Z"
   },
   {
    "duration": 22,
    "start_time": "2022-04-07T17:16:38.511Z"
   },
   {
    "duration": 36,
    "start_time": "2022-04-07T17:16:38.535Z"
   },
   {
    "duration": 6,
    "start_time": "2022-04-07T17:16:38.572Z"
   },
   {
    "duration": 23,
    "start_time": "2022-04-07T17:16:38.580Z"
   },
   {
    "duration": 12,
    "start_time": "2022-04-07T17:16:38.605Z"
   },
   {
    "duration": 9,
    "start_time": "2022-04-07T17:16:38.618Z"
   },
   {
    "duration": 12,
    "start_time": "2022-04-07T17:16:38.628Z"
   },
   {
    "duration": 8,
    "start_time": "2022-04-07T17:16:38.642Z"
   },
   {
    "duration": 8,
    "start_time": "2022-04-07T17:16:38.651Z"
   },
   {
    "duration": 14,
    "start_time": "2022-04-07T17:16:38.661Z"
   },
   {
    "duration": 4,
    "start_time": "2022-04-07T17:16:38.677Z"
   },
   {
    "duration": 23,
    "start_time": "2022-04-07T17:16:38.682Z"
   },
   {
    "duration": 19,
    "start_time": "2022-04-07T17:16:38.706Z"
   },
   {
    "duration": 4,
    "start_time": "2022-04-07T17:16:38.726Z"
   },
   {
    "duration": 73,
    "start_time": "2022-04-07T17:16:38.732Z"
   },
   {
    "duration": 105,
    "start_time": "2022-04-07T17:16:38.807Z"
   },
   {
    "duration": 191,
    "start_time": "2022-04-07T17:16:38.915Z"
   },
   {
    "duration": 99,
    "start_time": "2022-04-07T17:16:39.108Z"
   },
   {
    "duration": 101,
    "start_time": "2022-04-07T17:16:39.212Z"
   },
   {
    "duration": 7,
    "start_time": "2022-04-07T17:16:39.315Z"
   },
   {
    "duration": 17,
    "start_time": "2022-04-07T17:16:39.323Z"
   },
   {
    "duration": 32,
    "start_time": "2022-04-07T17:16:39.341Z"
   },
   {
    "duration": 3,
    "start_time": "2022-04-07T17:16:39.374Z"
   },
   {
    "duration": 29,
    "start_time": "2022-04-07T17:16:39.378Z"
   },
   {
    "duration": 3,
    "start_time": "2022-04-07T17:16:39.408Z"
   },
   {
    "duration": 7,
    "start_time": "2022-04-07T17:16:39.412Z"
   },
   {
    "duration": 2097,
    "start_time": "2022-04-07T17:16:39.421Z"
   },
   {
    "duration": 384,
    "start_time": "2022-04-07T17:17:06.235Z"
   },
   {
    "duration": 1168,
    "start_time": "2022-04-07T17:17:06.621Z"
   },
   {
    "duration": 137,
    "start_time": "2022-04-07T17:17:07.791Z"
   },
   {
    "duration": 6,
    "start_time": "2022-04-07T17:17:07.930Z"
   },
   {
    "duration": 43,
    "start_time": "2022-04-07T17:17:07.938Z"
   },
   {
    "duration": 22,
    "start_time": "2022-04-07T17:17:07.983Z"
   },
   {
    "duration": 46,
    "start_time": "2022-04-07T17:17:08.008Z"
   },
   {
    "duration": 227,
    "start_time": "2022-04-07T17:17:08.056Z"
   },
   {
    "duration": 16,
    "start_time": "2022-04-07T17:17:08.285Z"
   },
   {
    "duration": 32,
    "start_time": "2022-04-07T17:17:08.303Z"
   },
   {
    "duration": 34,
    "start_time": "2022-04-07T17:17:08.337Z"
   },
   {
    "duration": 123,
    "start_time": "2022-04-07T17:17:08.373Z"
   },
   {
    "duration": 10,
    "start_time": "2022-04-07T17:17:08.498Z"
   },
   {
    "duration": 23,
    "start_time": "2022-04-07T17:17:08.512Z"
   },
   {
    "duration": 38,
    "start_time": "2022-04-07T17:17:08.537Z"
   },
   {
    "duration": 25,
    "start_time": "2022-04-07T17:17:08.576Z"
   },
   {
    "duration": 12,
    "start_time": "2022-04-07T17:17:08.603Z"
   },
   {
    "duration": 12,
    "start_time": "2022-04-07T17:17:08.616Z"
   },
   {
    "duration": 28,
    "start_time": "2022-04-07T17:17:08.630Z"
   },
   {
    "duration": 23,
    "start_time": "2022-04-07T17:17:08.660Z"
   },
   {
    "duration": 10,
    "start_time": "2022-04-07T17:17:08.684Z"
   },
   {
    "duration": 17,
    "start_time": "2022-04-07T17:17:08.696Z"
   },
   {
    "duration": 26,
    "start_time": "2022-04-07T17:17:08.715Z"
   },
   {
    "duration": 12,
    "start_time": "2022-04-07T17:17:08.743Z"
   },
   {
    "duration": 20,
    "start_time": "2022-04-07T17:17:08.757Z"
   },
   {
    "duration": 26,
    "start_time": "2022-04-07T17:17:08.779Z"
   },
   {
    "duration": 5,
    "start_time": "2022-04-07T17:17:08.807Z"
   },
   {
    "duration": 89,
    "start_time": "2022-04-07T17:17:08.814Z"
   },
   {
    "duration": 104,
    "start_time": "2022-04-07T17:17:08.905Z"
   },
   {
    "duration": 193,
    "start_time": "2022-04-07T17:17:09.012Z"
   },
   {
    "duration": 96,
    "start_time": "2022-04-07T17:17:09.208Z"
   },
   {
    "duration": 12,
    "start_time": "2022-04-07T17:17:09.306Z"
   },
   {
    "duration": 9,
    "start_time": "2022-04-07T17:17:09.320Z"
   },
   {
    "duration": 8,
    "start_time": "2022-04-07T17:17:09.331Z"
   },
   {
    "duration": 67,
    "start_time": "2022-04-07T17:17:09.341Z"
   },
   {
    "duration": 4,
    "start_time": "2022-04-07T17:17:09.409Z"
   },
   {
    "duration": 34,
    "start_time": "2022-04-07T17:17:09.414Z"
   },
   {
    "duration": 3,
    "start_time": "2022-04-07T17:17:09.449Z"
   },
   {
    "duration": 15,
    "start_time": "2022-04-07T17:17:09.454Z"
   },
   {
    "duration": 2154,
    "start_time": "2022-04-07T17:17:09.471Z"
   }
  ],
  "kernelspec": {
   "display_name": "Python 3 (ipykernel)",
   "language": "python",
   "name": "python3"
  },
  "language_info": {
   "codemirror_mode": {
    "name": "ipython",
    "version": 3
   },
   "file_extension": ".py",
   "mimetype": "text/x-python",
   "name": "python",
   "nbconvert_exporter": "python",
   "pygments_lexer": "ipython3",
   "version": "3.9.7"
  },
  "toc": {
   "base_numbering": 1,
   "nav_menu": {},
   "number_sections": true,
   "sideBar": true,
   "skip_h1_title": true,
   "title_cell": "Table of Contents",
   "title_sidebar": "Contents",
   "toc_cell": false,
   "toc_position": {},
   "toc_section_display": true,
   "toc_window_display": false
  }
 },
 "nbformat": 4,
 "nbformat_minor": 5
}
