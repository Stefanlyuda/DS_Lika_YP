{
 "cells": [
  {
   "cell_type": "markdown",
   "metadata": {},
   "source": [
    "# Определение возраста покупателей"
   ]
  },
  {
   "cell_type": "markdown",
   "metadata": {},
   "source": [
    "## Исследовательский анализ данных"
   ]
  },
  {
   "cell_type": "code",
   "execution_count": 2,
   "metadata": {},
   "outputs": [],
   "source": [
    "import pandas as pd\n",
    "import matplotlib.pyplot as plt\n",
    "%matplotlib inline\n",
    "import seaborn as sns\n",
    "import numpy as np\n",
    "from tensorflow.keras.preprocessing.image import ImageDataGenerator"
   ]
  },
  {
   "cell_type": "code",
   "execution_count": null,
   "metadata": {},
   "outputs": [],
   "source": [
    "labels = pd.read_csv('/datasets/faces/labels.csv')"
   ]
  },
  {
   "cell_type": "code",
   "execution_count": null,
   "metadata": {},
   "outputs": [],
   "source": [
    "labels.info()"
   ]
  },
  {
   "cell_type": "markdown",
   "metadata": {},
   "source": [
    "<div class=\"alert alert-info\" role=\"alert\">\n",
    "     Вывод: Датасет содержит два столбца file_name и по 7591 строк.Это фотографии и соотвестсвующие им данные о возрасте людей"
   ]
  },
  {
   "cell_type": "code",
   "execution_count": null,
   "metadata": {},
   "outputs": [],
   "source": [
    "labels.head()"
   ]
  },
  {
   "cell_type": "code",
   "execution_count": null,
   "metadata": {},
   "outputs": [],
   "source": [
    "labels['real_age'].unique()"
   ]
  },
  {
   "cell_type": "markdown",
   "metadata": {},
   "source": [
    "<div class=\"alert alert-info\" role=\"alert\">\n",
    "     Вывод: Аномальные заначения возраста отсуствуют"
   ]
  },
  {
   "cell_type": "code",
   "execution_count": null,
   "metadata": {},
   "outputs": [],
   "source": [
    "labels.isna().sum()"
   ]
  },
  {
   "cell_type": "markdown",
   "metadata": {},
   "source": [
    "<div class=\"alert alert-info\" role=\"alert\">\n",
    "     Вывод: Пропуски отсуствуют"
   ]
  },
  {
   "cell_type": "code",
   "execution_count": null,
   "metadata": {},
   "outputs": [],
   "source": [
    "labels.boxplot() \n",
    "plt.show()"
   ]
  },
  {
   "cell_type": "markdown",
   "metadata": {},
   "source": [
    "<div class=\"alert alert-info\" role=\"alert\">\n",
    "     Вывод: В среднем возраст людей на фото равен 30 годам"
   ]
  },
  {
   "cell_type": "code",
   "execution_count": null,
   "metadata": {},
   "outputs": [],
   "source": [
    "labels.plot(kind='hist', figsize=(12, 6),bins = 40)\n",
    "plt.title ('Распеределение возраста по выборке ')\n",
    "plt.xlabel ('Возраст')\n",
    "plt.ylabel ('Количество строчек соответсвующего возраста')\n",
    "plt.legend()"
   ]
  },
  {
   "cell_type": "markdown",
   "metadata": {},
   "source": [
    "<div class=\"alert alert-info\" role=\"alert\">\n",
    "     Вывод: больше вссего избражений с людьми от  18 до 35 лет"
   ]
  },
  {
   "cell_type": "code",
   "execution_count": null,
   "metadata": {},
   "outputs": [],
   "source": [
    "labels.shape"
   ]
  },
  {
   "cell_type": "code",
   "execution_count": null,
   "metadata": {},
   "outputs": [],
   "source": [
    "labels = pd.read_csv('/datasets/faces/labels.csv')\n",
    "train_datagen = ImageDataGenerator(rescale=1./255)\n",
    "train_gen_flow = train_datagen.flow_from_dataframe(\n",
    "        dataframe=labels,\n",
    "        directory='/datasets/faces/final_files/',\n",
    "        x_col='file_name',\n",
    "        y_col='real_age',\n",
    "        target_size=(224, 224),\n",
    "        batch_size=32,\n",
    "        class_mode='raw',\n",
    "        seed=12345) "
   ]
  },
  {
   "cell_type": "code",
   "execution_count": null,
   "metadata": {},
   "outputs": [],
   "source": [
    "labels = pd.read_csv('/datasets/faces/labels.csv')\n",
    "train_datagen = ImageDataGenerator(rescale=1./255)\n",
    "train_gen_flow = train_datagen.flow_from_dataframe(\n",
    "        dataframe=labels,\n",
    "        directory='/datasets/faces/final_files/',\n",
    "        x_col='file_name',\n",
    "        y_col='real_age',\n",
    "        target_size=(224, 224),\n",
    "        batch_size=32,\n",
    "        class_mode='raw',\n",
    "        seed=12345) "
   ]
  },
  {
   "cell_type": "markdown",
   "metadata": {},
   "source": [
    "<div class=\"alert alert-info\" role=\"alert\">\n",
    "     Вывод: Мы видим, что многие изображения недостаточно  высокого качества, иногда снимки сделаны не в анфас или  часть лица закрыта  предметом(жевательная резинка, микрофон). Это может повлиять на качество работы модели."
   ]
  },
  {
   "cell_type": "markdown",
   "metadata": {},
   "source": [
    "## Обучение модели"
   ]
  },
  {
   "cell_type": "markdown",
   "metadata": {},
   "source": [
    "Перенесите сюда код обучения модели и её результат вывода на экран.\n",
    "\n",
    "\n",
    "(Код в этом разделе запускается в отдельном GPU-тренажёре, поэтому оформлен не как ячейка с кодом, а как код в текстовой ячейке)"
   ]
  },
  {
   "cell_type": "code",
   "execution_count": null,
   "metadata": {},
   "outputs": [],
   "source": [
    "from tensorflow.keras.applications.resnet import ResNet50\n",
    "from tensorflow.keras.models import Sequential\n",
    "from tensorflow.keras.layers import GlobalAveragePooling2D, Dense, Dropout, Flatten\n",
    "from tensorflow.keras.optimizers import Adam\n",
    "from tensorflow.keras.preprocessing.image import ImageDataGenerator\n",
    "import numpy as np\n",
    "import pandas as pd\n",
    "from sklearn.metrics import mean_absolute_error \n",
    "\n",
    "def load_train(path):\n",
    "    labels = pd.read_csv(path + 'labels.csv')\n",
    "    \n",
    "    datagen = ImageDataGenerator(\n",
    "        validation_split=0.25,\n",
    "        horizontal_flip=True,\n",
    "        rescale=1./255)\n",
    "    train_gen_flow = datagen.flow_from_dataframe(\n",
    "        dataframe=labels,\n",
    "        directory=path + 'final_files/',\n",
    "        x_col='file_name',\n",
    "        y_col='real_age',\n",
    "        target_size=(224, 224),\n",
    "        batch_size=16,\n",
    "        class_mode='raw',\n",
    "        subset='training',\n",
    "        seed=12345)\n",
    " \n",
    "    return train_gen_flow\n",
    "    \n",
    "def load_test(path):\n",
    "    labels = pd.read_csv(path + 'labels.csv')\n",
    "    test_datagen = ImageDataGenerator(\n",
    "        validation_split=0.25,\n",
    "        rescale=1./255)\n",
    "    test_gen_flow = test_datagen.flow_from_dataframe(\n",
    "        dataframe=labels,\n",
    "        directory=path + 'final_files/',\n",
    "        x_col='file_name',\n",
    "        y_col='real_age',\n",
    "        target_size=(224, 224),\n",
    "        batch_size=16,\n",
    "        class_mode='raw',\n",
    "        subset='validation',\n",
    "        seed=12345)\n",
    " \n",
    "    return test_gen_flow\n",
    "\n",
    "\n",
    "def create_model(input_shape):\n",
    "    optimizer = Adam(lr=0.0001)\n",
    "    backbone = ResNet50(input_shape=(224,224,3),\n",
    "                    weights='imagenet',\n",
    "                    include_top=False) \n",
    " \n",
    "    model = Sequential()\n",
    "    model.add(backbone)\n",
    "    model.add(GlobalAveragePooling2D())\n",
    "    model.add(Dense(1, activation='relu'))\n",
    "    model.compile(optimizer=optimizer, loss='mse',\n",
    "                  metrics=['mae'])\n",
    "    return model\n",
    "\n",
    "def train_model(model, train_data, test_data, batch_size=None, epochs=20,\n",
    "                steps_per_epoch=None, validation_steps=None):\n",
    "\n",
    "    if steps_per_epoch is None:\n",
    "        steps_per_epoch = len(train_data)\n",
    "    if validation_steps is None:\n",
    "        validation_steps = len(test_data)\n",
    "\n",
    "    model.fit(train_data, \n",
    "              validation_data=test_data,\n",
    "              batch_size=batch_size, epochs=epochs,\n",
    "              steps_per_epoch=steps_per_epoch,\n",
    "              validation_steps=validation_steps,\n",
    "              verbose=2)\n",
    "\n",
    "    return model"
   ]
  },
  {
   "cell_type": "code",
   "execution_count": null,
   "metadata": {},
   "outputs": [],
   "source": [
    "Train for 356 steps, validate for 119 steps\n",
    "Epoch 1/20\n",
    "2022-07-11 18:32:39.941199: I tensorflow/stream_executor/platform/default/dso_loader.cc:44] Successfully opened dynamic library libcublas.so.10\n",
    "2022-07-11 18:32:42.126651: I tensorflow/stream_executor/platform/default/dso_loader.cc:44] Successfully opened dynamic library libcudnn.so.7\n",
    "356/356 - 74s - loss: 196.1863 - mae: 10.2413 - val_loss: 543.3729 - val_mae: 18.2420\n",
    "Epoch 2/20\n",
    "356/356 - 39s - loss: 82.8269 - mae: 6.9252 - val_loss: 153.6239 - val_mae: 9.4462\n",
    "Epoch 3/20\n",
    "356/356 - 39s - loss: 56.7158 - mae: 5.7295 - val_loss: 78.5125 - val_mae: 6.6077\n",
    "Epoch 4/20\n",
    "356/356 - 39s - loss: 42.6512 - mae: 4.9981 - val_loss: 77.6264 - val_mae: 6.5696\n",
    "Epoch 5/20\n",
    "356/356 - 38s - loss: 33.8848 - mae: 4.4137 - val_loss: 92.7339 - val_mae: 7.2504\n",
    "Epoch 6/20\n",
    "356/356 - 39s - loss: 23.9111 - mae: 3.7632 - val_loss: 66.5872 - val_mae: 6.1902\n",
    "Epoch 7/20\n",
    "356/356 - 39s - loss: 19.6859 - mae: 3.3724 - val_loss: 69.9524 - val_mae: 6.1824\n",
    "Epoch 8/20\n",
    "356/356 - 39s - loss: 16.7656 - mae: 3.1210 - val_loss: 77.3779 - val_mae: 6.7963\n",
    "Epoch 9/20\n",
    "356/356 - 39s - loss: 15.3829 - mae: 2.9879 - val_loss: 68.8236 - val_mae: 6.3156\n",
    "Epoch 10/20\n",
    "356/356 - 39s - loss: 13.1031 - mae: 2.7666 - val_loss: 63.6125 - val_mae: 5.9492\n",
    "Epoch 11/20\n",
    "356/356 - 39s - loss: 12.8669 - mae: 2.6965 - val_loss: 63.2555 - val_mae: 6.0004\n",
    "Epoch 12/20\n",
    "356/356 - 39s - loss: 13.0365 - mae: 2.7061 - val_loss: 62.1264 - val_mae: 5.8932\n",
    "Epoch 13/20\n",
    "356/356 - 38s - loss: 11.1509 - mae: 2.5411 - val_loss: 64.0888 - val_mae: 5.9069\n",
    "Epoch 14/20\n",
    "356/356 - 39s - loss: 10.5313 - mae: 2.4766 - val_loss: 63.5779 - val_mae: 6.1005\n",
    "Epoch 15/20\n",
    "356/356 - 39s - loss: 10.1908 - mae: 2.4370 - val_loss: 60.6169 - val_mae: 5.7361\n",
    "Epoch 16/20\n",
    "356/356 - 39s - loss: 9.8868 - mae: 2.3954 - val_loss: 60.0284 - val_mae: 5.8039\n",
    "Epoch 17/20\n",
    "356/356 - 39s - loss: 9.7215 - mae: 2.3790 - val_loss: 76.5985 - val_mae: 6.6765\n",
    "Epoch 18/20\n",
    "356/356 - 39s - loss: 10.3380 - mae: 2.4548 - val_loss: 60.6996 - val_mae: 5.7048\n",
    "Epoch 19/20\n",
    "356/356 - 39s - loss: 10.4458 - mae: 2.4403 - val_loss: 66.9873 - val_mae: 6.2403\n",
    "Epoch 20/20\n",
    "356/356 - 39s - loss: 9.8914 - mae: 2.3451 - val_loss: 62.0239 - val_mae: 5.9326"
   ]
  },
  {
   "cell_type": "markdown",
   "metadata": {},
   "source": [
    "## Анализ обученной модели"
   ]
  },
  {
   "cell_type": "markdown",
   "metadata": {},
   "source": [
    "- MAE на валидационной выборке равноа 5.9326, следовательно поставленная задача (MAE модели не больше 8) выполнена \n",
    "- Для обучения использована нейронная сеть ResNett50\n",
    "- Алгоритмом оптимизации выступала адаптивная оценка c параметром optimizer = Adam(lr=0.0001). \n",
    "- Обучение проходило на 10 эпохах."
   ]
  },
  {
   "cell_type": "markdown",
   "metadata": {},
   "source": [
    "## Чек-лист"
   ]
  },
  {
   "cell_type": "markdown",
   "metadata": {},
   "source": [
    "- [x]  Jupyter Notebook открыт\n",
    "- [x]  Весь код выполняется без ошибок\n",
    "- [x]  Ячейки с кодом расположены в порядке исполнения\n",
    "- [x]  Исследовательский анализ данных выполнен\n",
    "- [x]  Результаты исследовательского анализа данных перенесены в финальную тетрадь\n",
    "- [x]  MAE модели не больше 8\n",
    "- [x]  Код обучения модели скопирован в финальную тетрадь\n",
    "- [x]  Результат вывода модели на экран перенесён в финальную тетрадь\n",
    "- [x]  По итогам обучения модели сделаны выводы"
   ]
  }
 ],
 "metadata": {
  "kernelspec": {
   "display_name": "Python 3 (ipykernel)",
   "language": "python",
   "name": "python3"
  },
  "language_info": {
   "codemirror_mode": {
    "name": "ipython",
    "version": 3
   },
   "file_extension": ".py",
   "mimetype": "text/x-python",
   "name": "python",
   "nbconvert_exporter": "python",
   "pygments_lexer": "ipython3",
   "version": "3.9.5"
  },
  "toc": {
   "base_numbering": 1,
   "nav_menu": {},
   "number_sections": true,
   "sideBar": true,
   "skip_h1_title": true,
   "title_cell": "Table of Contents",
   "title_sidebar": "Contents",
   "toc_cell": false,
   "toc_position": {},
   "toc_section_display": true,
   "toc_window_display": false
  }
 },
 "nbformat": 4,
 "nbformat_minor": 2
}
