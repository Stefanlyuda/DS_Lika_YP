{
 "cells": [
  {
   "cell_type": "markdown",
   "metadata": {
    "id": "E0vqbgi9ay0H"
   },
   "source": [
    "# Проект \"Музыка больших городов\" на основе данных Яндекс.Музыка"
   ]
  },
  {
   "cell_type": "markdown",
   "metadata": {
    "id": "VUC88oWjTJw2"
   },
   "source": [
    "\n",
    " * Москва — мегаполис, подчинённый жёсткому ритму рабочей недели;\n",
    " * Петербург — культурная столица, со своими вкусами.\n",
    "\n",
    "**Цель исследования** — проверить три гипотезы:\n",
    "1. Активность пользователей зависит от дня недели. Причём в Москве и Петербурге это проявляется по-разному.\n",
    "2. В понедельник утром в Москве преобладают одни жанры, а в Петербурге — другие. Так же и вечером пятницы преобладают разные жанры — в зависимости от города. \n",
    "3. Москва и Петербург предпочитают разные жанры музыки. В Москве чаще слушают поп-музыку, в Петербурге — русский рэп.\n",
    "\n"
   ]
  },
  {
   "cell_type": "markdown",
   "metadata": {
    "id": "Ml1hmfXC_Zcs"
   },
   "source": [
    "## Обзор данных\n",
    "\n",
    "\n",
    "\n"
   ]
  },
  {
   "cell_type": "code",
   "execution_count": 1,
   "metadata": {
    "id": "AXN7PHPN_Zcs"
   },
   "outputs": [],
   "source": [
    "# импорт библиотеки pandas\n",
    "import pandas as pd\n",
    "import warnings\n",
    "\n",
    "warnings.filterwarnings('ignore')"
   ]
  },
  {
   "cell_type": "code",
   "execution_count": 2,
   "metadata": {
    "id": "fFVu7vqh_Zct"
   },
   "outputs": [],
   "source": [
    "# чтение файла с данными и сохранение в df\n",
    "df = pd.read_csv('/Users/l.stefanenko/Desktop/Yandex/первые проекты/1  музыка скачано/yandex_music_project.csv')"
   ]
  },
  {
   "cell_type": "code",
   "execution_count": 3,
   "metadata": {
    "id": "oWTVX3gW_Zct"
   },
   "outputs": [
    {
     "data": {
      "text/html": [
       "<div>\n",
       "<style scoped>\n",
       "    .dataframe tbody tr th:only-of-type {\n",
       "        vertical-align: middle;\n",
       "    }\n",
       "\n",
       "    .dataframe tbody tr th {\n",
       "        vertical-align: top;\n",
       "    }\n",
       "\n",
       "    .dataframe thead th {\n",
       "        text-align: right;\n",
       "    }\n",
       "</style>\n",
       "<table border=\"1\" class=\"dataframe\">\n",
       "  <thead>\n",
       "    <tr style=\"text-align: right;\">\n",
       "      <th></th>\n",
       "      <th>userID</th>\n",
       "      <th>Track</th>\n",
       "      <th>artist</th>\n",
       "      <th>genre</th>\n",
       "      <th>City</th>\n",
       "      <th>time</th>\n",
       "      <th>Day</th>\n",
       "    </tr>\n",
       "  </thead>\n",
       "  <tbody>\n",
       "    <tr>\n",
       "      <th>0</th>\n",
       "      <td>FFB692EC</td>\n",
       "      <td>Kamigata To Boots</td>\n",
       "      <td>The Mass Missile</td>\n",
       "      <td>rock</td>\n",
       "      <td>Saint-Petersburg</td>\n",
       "      <td>20:28:33</td>\n",
       "      <td>Wednesday</td>\n",
       "    </tr>\n",
       "    <tr>\n",
       "      <th>1</th>\n",
       "      <td>55204538</td>\n",
       "      <td>Delayed Because of Accident</td>\n",
       "      <td>Andreas Rönnberg</td>\n",
       "      <td>rock</td>\n",
       "      <td>Moscow</td>\n",
       "      <td>14:07:09</td>\n",
       "      <td>Friday</td>\n",
       "    </tr>\n",
       "    <tr>\n",
       "      <th>2</th>\n",
       "      <td>20EC38</td>\n",
       "      <td>Funiculì funiculà</td>\n",
       "      <td>Mario Lanza</td>\n",
       "      <td>pop</td>\n",
       "      <td>Saint-Petersburg</td>\n",
       "      <td>20:58:07</td>\n",
       "      <td>Wednesday</td>\n",
       "    </tr>\n",
       "    <tr>\n",
       "      <th>3</th>\n",
       "      <td>A3DD03C9</td>\n",
       "      <td>Dragons in the Sunset</td>\n",
       "      <td>Fire + Ice</td>\n",
       "      <td>folk</td>\n",
       "      <td>Saint-Petersburg</td>\n",
       "      <td>08:37:09</td>\n",
       "      <td>Monday</td>\n",
       "    </tr>\n",
       "    <tr>\n",
       "      <th>4</th>\n",
       "      <td>E2DC1FAE</td>\n",
       "      <td>Soul People</td>\n",
       "      <td>Space Echo</td>\n",
       "      <td>dance</td>\n",
       "      <td>Moscow</td>\n",
       "      <td>08:34:34</td>\n",
       "      <td>Monday</td>\n",
       "    </tr>\n",
       "    <tr>\n",
       "      <th>5</th>\n",
       "      <td>842029A1</td>\n",
       "      <td>Преданная</td>\n",
       "      <td>IMPERVTOR</td>\n",
       "      <td>rusrap</td>\n",
       "      <td>Saint-Petersburg</td>\n",
       "      <td>13:09:41</td>\n",
       "      <td>Friday</td>\n",
       "    </tr>\n",
       "    <tr>\n",
       "      <th>6</th>\n",
       "      <td>4CB90AA5</td>\n",
       "      <td>True</td>\n",
       "      <td>Roman Messer</td>\n",
       "      <td>dance</td>\n",
       "      <td>Moscow</td>\n",
       "      <td>13:00:07</td>\n",
       "      <td>Wednesday</td>\n",
       "    </tr>\n",
       "    <tr>\n",
       "      <th>7</th>\n",
       "      <td>F03E1C1F</td>\n",
       "      <td>Feeling This Way</td>\n",
       "      <td>Polina Griffith</td>\n",
       "      <td>dance</td>\n",
       "      <td>Moscow</td>\n",
       "      <td>20:47:49</td>\n",
       "      <td>Wednesday</td>\n",
       "    </tr>\n",
       "    <tr>\n",
       "      <th>8</th>\n",
       "      <td>8FA1D3BE</td>\n",
       "      <td>И вновь продолжается бой</td>\n",
       "      <td>NaN</td>\n",
       "      <td>ruspop</td>\n",
       "      <td>Moscow</td>\n",
       "      <td>09:17:40</td>\n",
       "      <td>Friday</td>\n",
       "    </tr>\n",
       "    <tr>\n",
       "      <th>9</th>\n",
       "      <td>E772D5C0</td>\n",
       "      <td>Pessimist</td>\n",
       "      <td>NaN</td>\n",
       "      <td>dance</td>\n",
       "      <td>Saint-Petersburg</td>\n",
       "      <td>21:20:49</td>\n",
       "      <td>Wednesday</td>\n",
       "    </tr>\n",
       "  </tbody>\n",
       "</table>\n",
       "</div>"
      ],
      "text/plain": [
       "     userID                        Track            artist   genre  \\\n",
       "0  FFB692EC            Kamigata To Boots  The Mass Missile    rock   \n",
       "1  55204538  Delayed Because of Accident  Andreas Rönnberg    rock   \n",
       "2    20EC38            Funiculì funiculà       Mario Lanza     pop   \n",
       "3  A3DD03C9        Dragons in the Sunset        Fire + Ice    folk   \n",
       "4  E2DC1FAE                  Soul People        Space Echo   dance   \n",
       "5  842029A1                    Преданная         IMPERVTOR  rusrap   \n",
       "6  4CB90AA5                         True      Roman Messer   dance   \n",
       "7  F03E1C1F             Feeling This Way   Polina Griffith   dance   \n",
       "8  8FA1D3BE     И вновь продолжается бой               NaN  ruspop   \n",
       "9  E772D5C0                    Pessimist               NaN   dance   \n",
       "\n",
       "             City        time        Day  \n",
       "0  Saint-Petersburg  20:28:33  Wednesday  \n",
       "1            Moscow  14:07:09     Friday  \n",
       "2  Saint-Petersburg  20:58:07  Wednesday  \n",
       "3  Saint-Petersburg  08:37:09     Monday  \n",
       "4            Moscow  08:34:34     Monday  \n",
       "5  Saint-Petersburg  13:09:41     Friday  \n",
       "6            Moscow  13:00:07  Wednesday  \n",
       "7            Moscow  20:47:49  Wednesday  \n",
       "8            Moscow  09:17:40     Friday  \n",
       "9  Saint-Petersburg  21:20:49  Wednesday  "
      ]
     },
     "execution_count": 3,
     "metadata": {},
     "output_type": "execute_result"
    }
   ],
   "source": [
    "# получение первых 10 строк таблицы df\n",
    "df.head (10)"
   ]
  },
  {
   "cell_type": "code",
   "execution_count": 4,
   "metadata": {
    "id": "DSf2kIb-_Zct",
    "scrolled": true
   },
   "outputs": [
    {
     "name": "stdout",
     "output_type": "stream",
     "text": [
      "<class 'pandas.core.frame.DataFrame'>\n",
      "RangeIndex: 65079 entries, 0 to 65078\n",
      "Data columns (total 7 columns):\n",
      " #   Column    Non-Null Count  Dtype \n",
      "---  ------    --------------  ----- \n",
      " 0     userID  65079 non-null  object\n",
      " 1   Track     63848 non-null  object\n",
      " 2   artist    57876 non-null  object\n",
      " 3   genre     63881 non-null  object\n",
      " 4     City    65079 non-null  object\n",
      " 5   time      65079 non-null  object\n",
      " 6   Day       65079 non-null  object\n",
      "dtypes: object(7)\n",
      "memory usage: 3.5+ MB\n"
     ]
    }
   ],
   "source": [
    "# получение общей информации о данных в таблице df\n",
    "df.info()"
   ]
  },
  {
   "cell_type": "markdown",
   "metadata": {},
   "source": [
    "### Вывод обзора датасета:"
   ]
  },
  {
   "cell_type": "markdown",
   "metadata": {
    "id": "TaQ2Iwbr_Zct"
   },
   "source": [
    "<div class=\"alert alert-info\"> \n",
    " \n",
    "В таблице семь столбцов. Тип данных во всех столбцах — `object`.\n",
    "\n",
    "Согласно документации к данным:\n",
    "* `userID` — идентификатор пользователя;\n",
    "* `Track` — название трека;  \n",
    "* `artist` — имя исполнителя;\n",
    "* `genre` — название жанра;\n",
    "* `City` — город пользователя;\n",
    "* `time` — время начала прослушивания;\n",
    "* `Day` — день недели.\n",
    "\n",
    "В названиях колонок видны три нарушения стиля:\n",
    "1. Строчные буквы сочетаются с прописными.\n",
    "2. Встречаются пробелы.\n",
    "3. Названия напианы не в snake_case регистре \n",
    "\n",
    "\n",
    "\n",
    "Количество значений в столбцах различается. Значит, в данных есть пропущенные значения.\n"
   ]
  },
  {
   "cell_type": "markdown",
   "metadata": {
    "id": "MCB6-dXG_Zct"
   },
   "source": [
    "<div class=\"alert alert-info\"> \n",
    "\n",
    "В каждой строке таблицы — данные о прослушанном треке. Часть колонок описывает саму композицию: название, исполнителя и жанр. Остальные данные рассказывают о пользователе: из какого он города, когда он слушал музыку. \n",
    "\n",
    "Предварительно можно утверждать, что, данных достаточно для проверки гипотез. Но встречаются пропуски в данных, а в названиях колонок — расхождения с хорошим стилем.\n",
    "\n",
    "Чтобы двигаться дальше, нужно устранить проблемы в данных."
   ]
  },
  {
   "cell_type": "markdown",
   "metadata": {
    "id": "SjYF6Ub9_Zct"
   },
   "source": [
    "## Предобработка данных"
   ]
  },
  {
   "cell_type": "markdown",
   "metadata": {
    "id": "dIaKXr29_Zct"
   },
   "source": [
    "\n",
    "Названия столбцов:"
   ]
  },
  {
   "cell_type": "code",
   "execution_count": 5,
   "metadata": {
    "id": "oKOTdF_Q_Zct"
   },
   "outputs": [
    {
     "data": {
      "text/plain": [
       "Index(['  userID', 'Track', 'artist', 'genre', '  City  ', 'time', 'Day'], dtype='object')"
      ]
     },
     "execution_count": 5,
     "metadata": {},
     "output_type": "execute_result"
    }
   ],
   "source": [
    "df.columns "
   ]
  },
  {
   "cell_type": "markdown",
   "metadata": {},
   "source": [
    "#### Переименование столбцов"
   ]
  },
  {
   "cell_type": "code",
   "execution_count": 6,
   "metadata": {
    "id": "ISlFqs5y_Zct"
   },
   "outputs": [],
   "source": [
    "df = df.rename (columns = {'  userID':'user_id',\n",
    "                        'Track':'track',\n",
    "                        '  City  ':'city',\n",
    "                        'Day':'day'}) "
   ]
  },
  {
   "cell_type": "markdown",
   "metadata": {},
   "source": [
    "#### Проверка результатов - перечень названий столбцов"
   ]
  },
  {
   "cell_type": "code",
   "execution_count": 7,
   "metadata": {
    "id": "d4NOAmTW_Zct",
    "scrolled": true
   },
   "outputs": [
    {
     "data": {
      "text/plain": [
       "Index(['user_id', 'track', 'artist', 'genre', 'city', 'time', 'day'], dtype='object')"
      ]
     },
     "execution_count": 7,
     "metadata": {},
     "output_type": "execute_result"
    }
   ],
   "source": [
    "df.columns "
   ]
  },
  {
   "cell_type": "markdown",
   "metadata": {
    "id": "5ISfbcfY_Zct"
   },
   "source": [
    "### Пропуски значений"
   ]
  },
  {
   "cell_type": "code",
   "execution_count": 8,
   "metadata": {},
   "outputs": [
    {
     "data": {
      "text/plain": [
       "user_id       0\n",
       "track      1231\n",
       "artist     7203\n",
       "genre      1198\n",
       "city          0\n",
       "time          0\n",
       "day           0\n",
       "dtype: int64"
      ]
     },
     "execution_count": 8,
     "metadata": {},
     "output_type": "execute_result"
    }
   ],
   "source": [
    "df.isna().sum()"
   ]
  },
  {
   "cell_type": "markdown",
   "metadata": {
    "id": "qubhgnlO_Zct"
   },
   "source": [
    "Не все пропущенные значения влияют на исследование. Так в `track` и `artist` пропуски не важны для работы. Достаточно заменить их явными обозначениями.\n",
    "\n",
    "Но пропуски в `genre` могут помешать сравнению музыкальных вкусов в Москве и Санкт-Петербурге.\n",
    "* заполним эти пропуски явными обозначениями,\n",
    "* оценим, насколько они повредят расчётам. "
   ]
  },
  {
   "cell_type": "markdown",
   "metadata": {},
   "source": [
    "### Замена пропущенных значений в столбцах `track`, `artist` и `genre` на строку `'unknown'`."
   ]
  },
  {
   "cell_type": "code",
   "execution_count": 9,
   "metadata": {
    "id": "KplB5qWs_Zct"
   },
   "outputs": [],
   "source": [
    "columns_to_replace = ['track', 'artist', 'genre']\n",
    "for index in columns_to_replace:\n",
    "    df [index] = df [index].fillna ('unknown')"
   ]
  },
  {
   "cell_type": "code",
   "execution_count": 10,
   "metadata": {
    "id": "Tq4nYRX4_Zct",
    "scrolled": true
   },
   "outputs": [
    {
     "data": {
      "text/plain": [
       "user_id    0\n",
       "track      0\n",
       "artist     0\n",
       "genre      0\n",
       "city       0\n",
       "time       0\n",
       "day        0\n",
       "dtype: int64"
      ]
     },
     "execution_count": 10,
     "metadata": {},
     "output_type": "execute_result"
    }
   ],
   "source": [
    "# подсчёт пропусков после замены\n",
    "df.isna().sum()"
   ]
  },
  {
   "cell_type": "markdown",
   "metadata": {
    "id": "BWKRtBJ3_Zct"
   },
   "source": [
    "### Дубликаты"
   ]
  },
  {
   "cell_type": "markdown",
   "metadata": {},
   "source": [
    "### Подсчёт явных дубликатов"
   ]
  },
  {
   "cell_type": "code",
   "execution_count": 11,
   "metadata": {
    "id": "36eES_S0_Zct"
   },
   "outputs": [
    {
     "data": {
      "text/plain": [
       "3826"
      ]
     },
     "execution_count": 11,
     "metadata": {},
     "output_type": "execute_result"
    }
   ],
   "source": [
    "df.duplicated().sum()"
   ]
  },
  {
   "cell_type": "markdown",
   "metadata": {},
   "source": [
    "#### Удаление явных дубликатов (с удалением старых индексов и формированием новых)"
   ]
  },
  {
   "cell_type": "code",
   "execution_count": 12,
   "metadata": {
    "id": "exFHq6tt_Zct",
    "scrolled": true
   },
   "outputs": [],
   "source": [
    "df = df.drop_duplicates().reset_index(drop = True)"
   ]
  },
  {
   "cell_type": "code",
   "execution_count": 13,
   "metadata": {
    "id": "-8PuNWQ0_Zct"
   },
   "outputs": [
    {
     "data": {
      "text/plain": [
       "0"
      ]
     },
     "execution_count": 13,
     "metadata": {},
     "output_type": "execute_result"
    }
   ],
   "source": [
    "# проверка на отсутствие дубликатов\n",
    "df.duplicated().sum()"
   ]
  },
  {
   "cell_type": "markdown",
   "metadata": {
    "id": "QlFBsxAr_Zct"
   },
   "source": [
    "Теперь избавимсяя от неявных дубликатов в колонке `genre`. Например, название одного и того же жанра может быть записано немного по-разному."
   ]
  },
  {
   "cell_type": "code",
   "execution_count": 14,
   "metadata": {
    "id": "JIUcqzZN_Zct",
    "scrolled": true
   },
   "outputs": [
    {
     "data": {
      "text/plain": [
       "array(['acid', 'acoustic', 'action', 'adult', 'africa', 'afrikaans',\n",
       "       'alternative', 'alternativepunk', 'ambient', 'americana',\n",
       "       'animated', 'anime', 'arabesk', 'arabic', 'arena',\n",
       "       'argentinetango', 'art', 'audiobook', 'author', 'avantgarde',\n",
       "       'axé', 'baile', 'balkan', 'beats', 'bigroom', 'black', 'bluegrass',\n",
       "       'blues', 'bollywood', 'bossa', 'brazilian', 'breakbeat', 'breaks',\n",
       "       'broadway', 'cantautori', 'cantopop', 'canzone', 'caribbean',\n",
       "       'caucasian', 'celtic', 'chamber', 'chanson', 'children', 'chill',\n",
       "       'chinese', 'choral', 'christian', 'christmas', 'classical',\n",
       "       'classicmetal', 'club', 'colombian', 'comedy', 'conjazz',\n",
       "       'contemporary', 'country', 'cuban', 'dance', 'dancehall',\n",
       "       'dancepop', 'dark', 'death', 'deep', 'deutschrock', 'deutschspr',\n",
       "       'dirty', 'disco', 'dnb', 'documentary', 'downbeat', 'downtempo',\n",
       "       'drum', 'dub', 'dubstep', 'eastern', 'easy', 'electronic',\n",
       "       'electropop', 'emo', 'entehno', 'epicmetal', 'estrada', 'ethnic',\n",
       "       'eurofolk', 'european', 'experimental', 'extrememetal', 'fado',\n",
       "       'fairytail', 'film', 'fitness', 'flamenco', 'folk', 'folklore',\n",
       "       'folkmetal', 'folkrock', 'folktronica', 'forró', 'frankreich',\n",
       "       'französisch', 'french', 'funk', 'future', 'gangsta', 'garage',\n",
       "       'german', 'ghazal', 'gitarre', 'glitch', 'gospel', 'gothic',\n",
       "       'grime', 'grunge', 'gypsy', 'handsup', \"hard'n'heavy\", 'hardcore',\n",
       "       'hardstyle', 'hardtechno', 'hip', 'hip-hop', 'hiphop',\n",
       "       'historisch', 'holiday', 'hop', 'horror', 'house', 'hymn', 'idm',\n",
       "       'independent', 'indian', 'indie', 'indipop', 'industrial',\n",
       "       'inspirational', 'instrumental', 'international', 'irish', 'jam',\n",
       "       'japanese', 'jazz', 'jewish', 'jpop', 'jungle', 'k-pop',\n",
       "       'karadeniz', 'karaoke', 'kayokyoku', 'korean', 'laiko', 'latin',\n",
       "       'latino', 'leftfield', 'local', 'lounge', 'loungeelectronic',\n",
       "       'lovers', 'malaysian', 'mandopop', 'marschmusik', 'meditative',\n",
       "       'mediterranean', 'melodic', 'metal', 'metalcore', 'mexican',\n",
       "       'middle', 'minimal', 'miscellaneous', 'modern', 'mood', 'mpb',\n",
       "       'muslim', 'native', 'neoklassik', 'neue', 'new', 'newage',\n",
       "       'newwave', 'nu', 'nujazz', 'numetal', 'oceania', 'old', 'opera',\n",
       "       'orchestral', 'other', 'piano', 'podcasts', 'pop', 'popdance',\n",
       "       'popelectronic', 'popeurodance', 'poprussian', 'post',\n",
       "       'posthardcore', 'postrock', 'power', 'progmetal', 'progressive',\n",
       "       'psychedelic', 'punjabi', 'punk', 'quebecois', 'ragga', 'ram',\n",
       "       'rancheras', 'rap', 'rave', 'reggae', 'reggaeton', 'regional',\n",
       "       'relax', 'religious', 'retro', 'rhythm', 'rnb', 'rnr', 'rock',\n",
       "       'rockabilly', 'rockalternative', 'rockindie', 'rockother',\n",
       "       'romance', 'roots', 'ruspop', 'rusrap', 'rusrock', 'russian',\n",
       "       'salsa', 'samba', 'scenic', 'schlager', 'self', 'sertanejo',\n",
       "       'shanson', 'shoegazing', 'showtunes', 'singer', 'ska', 'skarock',\n",
       "       'slow', 'smooth', 'soft', 'soul', 'soulful', 'sound', 'soundtrack',\n",
       "       'southern', 'specialty', 'speech', 'spiritual', 'sport',\n",
       "       'stonerrock', 'surf', 'swing', 'synthpop', 'synthrock',\n",
       "       'sängerportrait', 'tango', 'tanzorchester', 'taraftar', 'tatar',\n",
       "       'tech', 'techno', 'teen', 'thrash', 'top', 'traditional',\n",
       "       'tradjazz', 'trance', 'tribal', 'trip', 'triphop', 'tropical',\n",
       "       'türk', 'türkçe', 'ukrrock', 'unknown', 'urban', 'uzbek',\n",
       "       'variété', 'vi', 'videogame', 'vocal', 'western', 'world',\n",
       "       'worldbeat', 'ïîï', 'электроника'], dtype=object)"
      ]
     },
     "execution_count": 14,
     "metadata": {},
     "output_type": "execute_result"
    }
   ],
   "source": [
    "df = df.sort_values(by = 'genre', ascending = True)\n",
    "df['genre'].unique()"
   ]
  },
  {
   "cell_type": "markdown",
   "metadata": {
    "id": "qej-Qmuo_Zct"
   },
   "source": [
    "Найдены неявные дубликаты:\n",
    "* *hip*,\n",
    "* *hop*,\n",
    "* *hip-hop*.\n",
    "\n",
    "Чтобы очистить от них таблицу, напишем функцию `replace_wrong_genres()` с двумя параметрами: \n",
    "* `wrong_genres` — список дубликатов,\n",
    "* `correct_genre` — строка с правильным значением.\n",
    "\n",
    "Функция должна исправить колонку `genre` в таблице `df`: заменить каждое значение из списка `wrong_genres` на значение из `correct_genre`."
   ]
  },
  {
   "cell_type": "markdown",
   "metadata": {},
   "source": [
    "### Функция для замены неявных дубликатов"
   ]
  },
  {
   "cell_type": "code",
   "execution_count": 15,
   "metadata": {
    "id": "ErNDkmns_Zct"
   },
   "outputs": [],
   "source": [
    "def replace_wrong_genres(wrong_genres,correct_genre):\n",
    "    for wrong_genre in wrong_genres:\n",
    "        df ['genre'] = df ['genre'].replace(wrong_genre,correct_genre)"
   ]
  },
  {
   "cell_type": "markdown",
   "metadata": {},
   "source": [
    "### Устранение неявных дубликатов"
   ]
  },
  {
   "cell_type": "code",
   "execution_count": 16,
   "metadata": {
    "id": "YN5i2hpmSo09"
   },
   "outputs": [],
   "source": [
    "wrong_genres = ['hip','hop','hip-hop']\n",
    "correct_genre = 'hiphop'\n",
    "replace_wrong_genres (wrong_genres,correct_genre)\n",
    "\n",
    "wrong_genres = ['электроника']\n",
    "correct_genre = 'electronic'\n",
    "replace_wrong_genres (wrong_genres,correct_genre)"
   ]
  },
  {
   "cell_type": "code",
   "execution_count": 17,
   "metadata": {
    "id": "wvixALnFG15m",
    "scrolled": true
   },
   "outputs": [
    {
     "data": {
      "text/plain": [
       "array(['acid', 'acoustic', 'action', 'adult', 'africa', 'afrikaans',\n",
       "       'alternative', 'alternativepunk', 'ambient', 'americana',\n",
       "       'animated', 'anime', 'arabesk', 'arabic', 'arena',\n",
       "       'argentinetango', 'art', 'audiobook', 'author', 'avantgarde',\n",
       "       'axé', 'baile', 'balkan', 'beats', 'bigroom', 'black', 'bluegrass',\n",
       "       'blues', 'bollywood', 'bossa', 'brazilian', 'breakbeat', 'breaks',\n",
       "       'broadway', 'cantautori', 'cantopop', 'canzone', 'caribbean',\n",
       "       'caucasian', 'celtic', 'chamber', 'chanson', 'children', 'chill',\n",
       "       'chinese', 'choral', 'christian', 'christmas', 'classical',\n",
       "       'classicmetal', 'club', 'colombian', 'comedy', 'conjazz',\n",
       "       'contemporary', 'country', 'cuban', 'dance', 'dancehall',\n",
       "       'dancepop', 'dark', 'death', 'deep', 'deutschrock', 'deutschspr',\n",
       "       'dirty', 'disco', 'dnb', 'documentary', 'downbeat', 'downtempo',\n",
       "       'drum', 'dub', 'dubstep', 'eastern', 'easy', 'electronic',\n",
       "       'electropop', 'emo', 'entehno', 'epicmetal', 'estrada', 'ethnic',\n",
       "       'eurofolk', 'european', 'experimental', 'extrememetal', 'fado',\n",
       "       'fairytail', 'film', 'fitness', 'flamenco', 'folk', 'folklore',\n",
       "       'folkmetal', 'folkrock', 'folktronica', 'forró', 'frankreich',\n",
       "       'französisch', 'french', 'funk', 'future', 'gangsta', 'garage',\n",
       "       'german', 'ghazal', 'gitarre', 'glitch', 'gospel', 'gothic',\n",
       "       'grime', 'grunge', 'gypsy', 'handsup', \"hard'n'heavy\", 'hardcore',\n",
       "       'hardstyle', 'hardtechno', 'hiphop', 'historisch', 'holiday',\n",
       "       'horror', 'house', 'hymn', 'idm', 'independent', 'indian', 'indie',\n",
       "       'indipop', 'industrial', 'inspirational', 'instrumental',\n",
       "       'international', 'irish', 'jam', 'japanese', 'jazz', 'jewish',\n",
       "       'jpop', 'jungle', 'k-pop', 'karadeniz', 'karaoke', 'kayokyoku',\n",
       "       'korean', 'laiko', 'latin', 'latino', 'leftfield', 'local',\n",
       "       'lounge', 'loungeelectronic', 'lovers', 'malaysian', 'mandopop',\n",
       "       'marschmusik', 'meditative', 'mediterranean', 'melodic', 'metal',\n",
       "       'metalcore', 'mexican', 'middle', 'minimal', 'miscellaneous',\n",
       "       'modern', 'mood', 'mpb', 'muslim', 'native', 'neoklassik', 'neue',\n",
       "       'new', 'newage', 'newwave', 'nu', 'nujazz', 'numetal', 'oceania',\n",
       "       'old', 'opera', 'orchestral', 'other', 'piano', 'podcasts', 'pop',\n",
       "       'popdance', 'popelectronic', 'popeurodance', 'poprussian', 'post',\n",
       "       'posthardcore', 'postrock', 'power', 'progmetal', 'progressive',\n",
       "       'psychedelic', 'punjabi', 'punk', 'quebecois', 'ragga', 'ram',\n",
       "       'rancheras', 'rap', 'rave', 'reggae', 'reggaeton', 'regional',\n",
       "       'relax', 'religious', 'retro', 'rhythm', 'rnb', 'rnr', 'rock',\n",
       "       'rockabilly', 'rockalternative', 'rockindie', 'rockother',\n",
       "       'romance', 'roots', 'ruspop', 'rusrap', 'rusrock', 'russian',\n",
       "       'salsa', 'samba', 'scenic', 'schlager', 'self', 'sertanejo',\n",
       "       'shanson', 'shoegazing', 'showtunes', 'singer', 'ska', 'skarock',\n",
       "       'slow', 'smooth', 'soft', 'soul', 'soulful', 'sound', 'soundtrack',\n",
       "       'southern', 'specialty', 'speech', 'spiritual', 'sport',\n",
       "       'stonerrock', 'surf', 'swing', 'synthpop', 'synthrock',\n",
       "       'sängerportrait', 'tango', 'tanzorchester', 'taraftar', 'tatar',\n",
       "       'tech', 'techno', 'teen', 'thrash', 'top', 'traditional',\n",
       "       'tradjazz', 'trance', 'tribal', 'trip', 'triphop', 'tropical',\n",
       "       'türk', 'türkçe', 'ukrrock', 'unknown', 'urban', 'uzbek',\n",
       "       'variété', 'vi', 'videogame', 'vocal', 'western', 'world',\n",
       "       'worldbeat', 'ïîï'], dtype=object)"
      ]
     },
     "execution_count": 17,
     "metadata": {},
     "output_type": "execute_result"
    }
   ],
   "source": [
    "# Проверка на наличие неявных дубликатов\n",
    "df['genre'].unique()"
   ]
  },
  {
   "cell_type": "markdown",
   "metadata": {
    "id": "jz6a9-7HQUDd"
   },
   "source": [
    "<div class=\"alert alert-info\">\n",
    "Вывод\n",
    "\n",
    "Предобработка обнаружила три проблемы в данных:\n",
    "\n",
    "- нарушения в стиле заголовков,\n",
    "- пропущенные значения,\n",
    "- дубликаты — явные и неявные.\n",
    "\n",
    "Пропущенные значения заменены на `'unknown'`."
   ]
  },
  {
   "cell_type": "markdown",
   "metadata": {
    "id": "WttZHXH0SqKk"
   },
   "source": [
    "## Проверка гипотез"
   ]
  },
  {
   "cell_type": "markdown",
   "metadata": {
    "id": "Im936VVi_Zcu"
   },
   "source": [
    "### Сравнение поведения пользователей двух столиц"
   ]
  },
  {
   "cell_type": "markdown",
   "metadata": {
    "id": "nwt_MuaL_Zcu"
   },
   "source": [
    "Первая гипотеза утверждает, что пользователи по-разному слушают музыку в Москве и Санкт-Петербурге. Проверьте это предположение по данным о трёх днях недели — понедельнике, среде и пятнице. Для этого:\n",
    "\n",
    "* Разделите пользователей Москвы и Санкт-Петербурга\n",
    "* Сравните, сколько треков послушала каждая группа пользователей в понедельник, среду и пятницу.\n"
   ]
  },
  {
   "cell_type": "markdown",
   "metadata": {},
   "source": [
    "#### Подсчёт количетва прослушиваний в каждом городе"
   ]
  },
  {
   "cell_type": "code",
   "execution_count": 18,
   "metadata": {
    "id": "0_Qs96oh_Zcu",
    "scrolled": true
   },
   "outputs": [
    {
     "data": {
      "text/plain": [
       "city\n",
       "Moscow              42741\n",
       "Saint-Petersburg    18512\n",
       "Name: track, dtype: int64"
      ]
     },
     "execution_count": 18,
     "metadata": {},
     "output_type": "execute_result"
    }
   ],
   "source": [
    "df.groupby('city')['track'].count()"
   ]
  },
  {
   "cell_type": "markdown",
   "metadata": {
    "id": "dzli3w8o_Zcu"
   },
   "source": [
    "<div class=\"alert alert-info\">\n",
    "Вывод\n",
    "    \n",
    "В Москве прослушиваний больше, чем в Петербурге. Из этого не следует, что московские пользователи чаще слушают музыку. Просто самих пользователей в Москве больше.\n",
    "\n",
    "Теперь сгруппируйте данные по дню недели и подсчитайте прослушивания в понедельник, среду и пятницу. Учтите, что в данных есть информация только о прослушиваниях только за эти дни.\n"
   ]
  },
  {
   "cell_type": "code",
   "execution_count": 19,
   "metadata": {
    "id": "uZMKjiJz_Zcu",
    "scrolled": false
   },
   "outputs": [
    {
     "data": {
      "text/plain": [
       "day\n",
       "Friday       21840\n",
       "Monday       21354\n",
       "Wednesday    18059\n",
       "Name: track, dtype: int64"
      ]
     },
     "execution_count": 19,
     "metadata": {},
     "output_type": "execute_result"
    }
   ],
   "source": [
    "df.groupby('day')['track'].count()# Подсчёт прослушиваний в каждый из трёх дней"
   ]
  },
  {
   "cell_type": "markdown",
   "metadata": {
    "id": "cC2tNrlL_Zcu"
   },
   "source": [
    "В среднем пользователи из двух городов менее активны по средам. Но картина может измениться, если рассмотреть каждый город в отдельности."
   ]
  },
  {
   "cell_type": "code",
   "execution_count": 20,
   "metadata": {
    "id": "Nz3GdQB1_Zcu"
   },
   "outputs": [],
   "source": [
    "\n",
    "def number_tracks(day,city): # Объявляется функция с двумя параметрами: day, city.\n",
    "    track_list = df[(df['day'] == day) & (df['city'] == city)]\n",
    "    track_list_count = track_list['user_id'].count()\n",
    "    return track_list_count"
   ]
  },
  {
   "cell_type": "code",
   "execution_count": 21,
   "metadata": {
    "id": "rJcRATNQ_Zcu",
    "scrolled": false
   },
   "outputs": [
    {
     "name": "stdout",
     "output_type": "stream",
     "text": [
      "Количество прослушиваний в Москве по понедельникам: 15740\n"
     ]
    }
   ],
   "source": [
    "print ('Количество прослушиваний в Москве по понедельникам:', number_tracks('Monday','Moscow'))# количество прослушиваний в Москве по понедельникам"
   ]
  },
  {
   "cell_type": "code",
   "execution_count": 22,
   "metadata": {
    "id": "hq_ncZ5T_Zcu",
    "scrolled": true
   },
   "outputs": [
    {
     "name": "stdout",
     "output_type": "stream",
     "text": [
      "Количество прослушиваний в Санкт-Петербурге по понедельникам: 5614\n"
     ]
    }
   ],
   "source": [
    "print ('Количество прослушиваний в Санкт-Петербурге по понедельникам:',number_tracks('Monday','Saint-Petersburg'))# количество прослушиваний в Санкт-Петербурге по понедельникам"
   ]
  },
  {
   "cell_type": "code",
   "execution_count": 23,
   "metadata": {
    "id": "_NTy2VPU_Zcu",
    "scrolled": true
   },
   "outputs": [
    {
     "name": "stdout",
     "output_type": "stream",
     "text": [
      "Количество прослушиваний в Москве по средам: 11056\n"
     ]
    }
   ],
   "source": [
    "print ('Количество прослушиваний в Москве по средам:', number_tracks('Wednesday','Moscow'))# количество прослушиваний в Москве по средам"
   ]
  },
  {
   "cell_type": "code",
   "execution_count": 24,
   "metadata": {
    "id": "j2y3TAwo_Zcu",
    "scrolled": true
   },
   "outputs": [
    {
     "name": "stdout",
     "output_type": "stream",
     "text": [
      "Количество прослушиваний в Санкт-Петербурге по средам: 7003\n"
     ]
    }
   ],
   "source": [
    "print ('Количество прослушиваний в Санкт-Петербурге по средам:', number_tracks('Wednesday','Saint-Petersburg'))# количество прослушиваний в Санкт-Петербурге по средам"
   ]
  },
  {
   "cell_type": "code",
   "execution_count": 25,
   "metadata": {
    "id": "vYDw5u_K_Zcu",
    "scrolled": true
   },
   "outputs": [
    {
     "name": "stdout",
     "output_type": "stream",
     "text": [
      "Количество прослушиваний в Москве по пятницам: 15945\n"
     ]
    }
   ],
   "source": [
    "print ('Количество прослушиваний в Москве по пятницам:', number_tracks('Friday','Moscow'))# количество прослушиваний в Москве по пятницам"
   ]
  },
  {
   "cell_type": "code",
   "execution_count": 26,
   "metadata": {
    "id": "8_yzFtW3_Zcu",
    "scrolled": true
   },
   "outputs": [
    {
     "name": "stdout",
     "output_type": "stream",
     "text": [
      "Количество прослушиваний в Санкт-Петербурге по пятницам: 5895\n"
     ]
    }
   ],
   "source": [
    "print ('Количество прослушиваний в Санкт-Петербурге по пятницам:', number_tracks('Friday','Saint-Petersburg'))# количество прослушиваний в Санкт-Петербурге по пятницам"
   ]
  },
  {
   "cell_type": "markdown",
   "metadata": {
    "id": "7QXffbO-_Zcu"
   },
   "source": [
    "** Создание таблицы с выводом \n",
    "* названия колонок — `['city', 'monday', 'wednesday', 'friday']`;\n",
    "* данные — результаты, которые вы получили с помощью `number_tracks`."
   ]
  },
  {
   "cell_type": "code",
   "execution_count": 27,
   "metadata": {
    "id": "APAcLpOr_Zcu"
   },
   "outputs": [
    {
     "name": "stdout",
     "output_type": "stream",
     "text": [
      "               city monday wednesday friday\n",
      "0            Moscow  15740     15945  11056\n",
      "1  Saint-Petersburg   7003      5614   5895\n"
     ]
    }
   ],
   "source": [
    "columns = ['city', 'monday', 'wednesday', 'friday']\n",
    "data = [['Moscow','15740','15945','11056'],['Saint-Petersburg','7003','5614','5895']]\n",
    "print(pd.DataFrame(data = data , columns = columns)) # Таблица с результатами"
   ]
  },
  {
   "cell_type": "markdown",
   "metadata": {
    "id": "-EgPIHYu_Zcu"
   },
   "source": [
    "**Выводы**\n",
    "\n",
    "Данные показывают разницу поведения пользователей:\n",
    "\n",
    "- В Москве пик прослушиваний приходится на понедельник и пятницу, а в среду заметен спад.\n",
    "- В Петербурге, наоборот, больше слушают музыку по средам. Активность в понедельник и пятницу здесь почти в равной мере уступает среде.\n",
    "\n",
    "Значит, данные говорят в пользу первой гипотезы."
   ]
  },
  {
   "cell_type": "markdown",
   "metadata": {
    "id": "atZAxtq4_Zcu"
   },
   "source": [
    "### Музыка в начале и в конце недели"
   ]
  },
  {
   "cell_type": "markdown",
   "metadata": {
    "id": "eXrQqXFH_Zcu"
   },
   "source": [
    "Согласно второй гипотезе, утром в понедельник в Москве преобладают одни жанры, а в Петербурге — другие. Так же и вечером пятницы преобладают разные жанры — в зависимости от города."
   ]
  },
  {
   "cell_type": "markdown",
   "metadata": {
    "id": "S8UcW6Hw_Zcu"
   },
   "source": [
    "Сохраните таблицы с данными в две переменные:\n",
    "* по Москве — в `moscow_general`;\n",
    "* по Санкт-Петербургу — в `spb_general`."
   ]
  },
  {
   "cell_type": "code",
   "execution_count": 28,
   "metadata": {
    "id": "qeaFfM_P_Zcu"
   },
   "outputs": [
    {
     "name": "stdout",
     "output_type": "stream",
     "text": [
      "        user_id              track                 artist      genre    city  \\\n",
      "31916  C40BC5DF   Shot in the Dark             Four80East       acid  Moscow   \n",
      "57580  23C64044  Don't Stop Me Now  Acoustic Heartstrings   acoustic  Moscow   \n",
      "20264  B02ED3AB              Ой да                unknown   acoustic  Moscow   \n",
      "37784  77D3A7D9              Ой да                unknown   acoustic  Moscow   \n",
      "26378  4D96EB78        Eventuality          Jack Trammell     action  Moscow   \n",
      "...         ...                ...                    ...        ...     ...   \n",
      "22265  9E13CAB3           Caravana       Orchestra Baobab      world  Moscow   \n",
      "7581   E9537159      Back To Black          Simone Mazzer      world  Moscow   \n",
      "41879  613C79DF          Rani Mrid                  Nemri      world  Moscow   \n",
      "27939  D7FB50DA    Drumming Circle       Professor Trance  worldbeat  Moscow   \n",
      "8448   A439123F            Flip It                unknown        ïîï  Moscow   \n",
      "\n",
      "           time        day  \n",
      "31916  09:44:12     Friday  \n",
      "57580  13:30:01  Wednesday  \n",
      "20264  13:31:03  Wednesday  \n",
      "37784  14:27:34     Monday  \n",
      "26378  21:22:51     Monday  \n",
      "...         ...        ...  \n",
      "22265  08:47:38     Friday  \n",
      "7581   20:24:22  Wednesday  \n",
      "41879  21:59:01     Monday  \n",
      "27939  09:30:47     Monday  \n",
      "8448   09:08:51     Friday  \n",
      "\n",
      "[42741 rows x 7 columns]\n"
     ]
    }
   ],
   "source": [
    "moscow_general = df[df['city'].isin (['Moscow'])]\n",
    "print (moscow_general)\n",
    "\n",
    "# получение таблицы moscow_general из тех строк таблицы df, \n",
    "# для которых значение в столбце 'city' равно 'Moscow'\n"
   ]
  },
  {
   "cell_type": "code",
   "execution_count": 29,
   "metadata": {
    "id": "ORaVRKto_Zcu"
   },
   "outputs": [
    {
     "name": "stdout",
     "output_type": "stream",
     "text": [
      "        user_id                       track                artist       genre  \\\n",
      "3636   F10919ED          Ready For The Fire      Valley Of Wolves    acoustic   \n",
      "14611  1C7D9E90  Prelude – Ne Me Qui Te Pas               unknown    acoustic   \n",
      "9393   B24158ED                  Cellophane   Sara Jackson-Holman       adult   \n",
      "13408   BF3BEA4                  Sweet Love           Anita Baker       adult   \n",
      "34021  4DCD818F            Blue Skies Again  Jessica Lea Mayfield       adult   \n",
      "...         ...                         ...                   ...         ...   \n",
      "33671  CB06B200                   Sapashini             Stonebwoy       world   \n",
      "7465   CCC16A51   Toccata Aal Lebnene Remix         Michel Fadel        world   \n",
      "7576   5E9261F4                  Wah Yantee                Simrit       world   \n",
      "39063  AA1730E8                         Anu     Kailash Kokopelli   worldbeat   \n",
      "6465     1D4661                 Раз два три                 Какао  electronic   \n",
      "\n",
      "                   city      time        day  \n",
      "3636   Saint-Petersburg  21:33:18     Monday  \n",
      "14611  Saint-Petersburg  21:47:42     Friday  \n",
      "9393   Saint-Petersburg  14:18:42     Monday  \n",
      "13408  Saint-Petersburg  14:56:07     Monday  \n",
      "34021  Saint-Petersburg  09:05:48  Wednesday  \n",
      "...                 ...       ...        ...  \n",
      "33671  Saint-Petersburg  21:50:13  Wednesday  \n",
      "7465   Saint-Petersburg  21:30:41     Friday  \n",
      "7576   Saint-Petersburg  20:25:57  Wednesday  \n",
      "39063  Saint-Petersburg  20:16:34  Wednesday  \n",
      "6465   Saint-Petersburg  08:54:15  Wednesday  \n",
      "\n",
      "[18512 rows x 7 columns]\n"
     ]
    }
   ],
   "source": [
    "spb_general = df[df['city'].isin (['Saint-Petersburg'])]\n",
    "print(spb_general)# получение таблицы spb_general из тех строк таблицы df,\n",
    "# для которых значение в столбце 'city' равно 'Saint-Petersburg'\n"
   ]
  },
  {
   "cell_type": "markdown",
   "metadata": {
    "id": "MEJV-CX2_Zcu"
   },
   "source": [
    "Создайте функцию `genre_weekday()` с четырьмя параметрами:\n",
    "* таблица (датафрейм) с данными,\n",
    "* день недели,\n",
    "* начальная временная метка в формате 'hh:mm', \n",
    "* последняя временная метка в формате 'hh:mm'.\n",
    "\n",
    "Функция должна вернуть информацию о топ-10 жанров тех треков, которые прослушивали в указанный день, в промежутке между двумя отметками времени."
   ]
  },
  {
   "cell_type": "code",
   "execution_count": 30,
   "metadata": {
    "id": "laJT9BYl_Zcu"
   },
   "outputs": [],
   "source": [
    "def genre_weekday(table, day, time1, time2):\n",
    "    genre_df = table[(table['day'] == day) & (df['time'] > time1) & (df['time'] < time2)]\n",
    "    genre_df_count = genre_df.groupby('genre')['genre'].count()\n",
    "    genre_df_sorted = genre_df_count.sort_values(ascending = False).head(10)\n",
    "    return  genre_df_sorted"
   ]
  },
  {
   "cell_type": "markdown",
   "metadata": {
    "id": "la2s2_PF_Zcu"
   },
   "source": [
    "Cравните результаты функции `genre_weekday()` для Москвы и Санкт-Петербурга в понедельник утром (с 7:00 до 11:00) и в пятницу вечером (с 17:00 до 23:00):"
   ]
  },
  {
   "cell_type": "code",
   "execution_count": 39,
   "metadata": {
    "id": "yz7itPUQ_Zcu"
   },
   "outputs": [
    {
     "data": {
      "text/plain": [
       "genre\n",
       "pop            781\n",
       "dance          549\n",
       "electronic     480\n",
       "rock           474\n",
       "hiphop         286\n",
       "ruspop         186\n",
       "world          181\n",
       "rusrap         175\n",
       "alternative    164\n",
       "unknown        161\n",
       "Name: genre, dtype: int64"
      ]
     },
     "execution_count": 39,
     "metadata": {},
     "output_type": "execute_result"
    }
   ],
   "source": [
    "genre_weekday(moscow_general, 'Monday', '07:00', '11:00')"
   ]
  },
  {
   "cell_type": "code",
   "execution_count": 32,
   "metadata": {
    "id": "kwUcHPdy_Zcu"
   },
   "outputs": [
    {
     "data": {
      "text/plain": [
       "genre\n",
       "pop            218\n",
       "dance          182\n",
       "rock           162\n",
       "electronic     147\n",
       "hiphop          80\n",
       "ruspop          64\n",
       "alternative     58\n",
       "rusrap          55\n",
       "jazz            44\n",
       "classical       40\n",
       "Name: genre, dtype: int64"
      ]
     },
     "execution_count": 32,
     "metadata": {},
     "output_type": "execute_result"
    }
   ],
   "source": [
    "genre_weekday(spb_general, 'Monday', '07:00', '11:00')# вызов функции для утра понедельника в Петербурге (вместо df — таблица spb_general)"
   ]
  },
  {
   "cell_type": "code",
   "execution_count": 33,
   "metadata": {
    "id": "EzXVRE1o_Zcu"
   },
   "outputs": [
    {
     "data": {
      "text/plain": [
       "genre\n",
       "pop            713\n",
       "rock           517\n",
       "dance          495\n",
       "electronic     482\n",
       "hiphop         273\n",
       "world          208\n",
       "ruspop         170\n",
       "alternative    163\n",
       "classical      163\n",
       "rusrap         142\n",
       "Name: genre, dtype: int64"
      ]
     },
     "execution_count": 33,
     "metadata": {},
     "output_type": "execute_result"
    }
   ],
   "source": [
    "genre_weekday(moscow_general, 'Friday','17:00', '23:00')# вызов функции для вечера пятницы в Москве"
   ]
  },
  {
   "cell_type": "code",
   "execution_count": 34,
   "metadata": {
    "id": "JZaEKu5v_Zcu"
   },
   "outputs": [
    {
     "data": {
      "text/plain": [
       "genre\n",
       "pop            256\n",
       "electronic     216\n",
       "rock           216\n",
       "dance          210\n",
       "hiphop          97\n",
       "alternative     63\n",
       "jazz            61\n",
       "classical       60\n",
       "rusrap          59\n",
       "world           54\n",
       "Name: genre, dtype: int64"
      ]
     },
     "execution_count": 34,
     "metadata": {},
     "output_type": "execute_result"
    }
   ],
   "source": [
    "genre_weekday(spb_general, 'Friday','17:00', '23:00')# вызов функции для вечера пятницы в Петербурге"
   ]
  },
  {
   "cell_type": "markdown",
   "metadata": {
    "id": "wrCe4MNX_Zcu"
   },
   "source": [
    "**Выводы**\n",
    "\n",
    "Если сравнить топ-10 жанров в понедельник утром, можно сделать такие выводы:\n",
    "\n",
    "1. В Москве и Петербурге слушают похожую музыку. Единственное отличие — в московский рейтинг вошёл жанр “world”, а в петербургский — джаз и классика.\n",
    "\n",
    "2. В Москве пропущенных значений оказалось так много, что значение `'unknown'` заняло десятое место среди самых популярных жанров. Значит, пропущенные значения занимают существенную долю в данных и угрожают достоверности исследования.\n",
    "\n",
    "Вечер пятницы не меняет эту картину. Некоторые жанры поднимаются немного выше, другие спускаются, но в целом топ-10 остаётся тем же самым.\n",
    "\n",
    "Таким образом, вторая гипотеза подтвердилась лишь частично:\n",
    "* Пользователи слушают похожую музыку в начале недели и в конце.\n",
    "* Разница между Москвой и Петербургом не слишком выражена. В Москве чаще слушают русскую популярную музыку, в Петербурге — джаз.\n",
    "\n",
    "Однако пропуски в данных ставят под сомнение этот результат. В Москве их так много, что рейтинг топ-10 мог бы выглядеть иначе, если бы не утерянные  данные о жанрах."
   ]
  },
  {
   "cell_type": "markdown",
   "metadata": {
    "id": "JolODAqr_Zcu"
   },
   "source": [
    "### Жанровые предпочтения в Москве и Петербурге\n",
    "\n",
    "Гипотеза: Петербург — столица рэпа, музыку этого жанра там слушают чаще, чем в Москве.  А Москва — город контрастов, в котором, тем не менее, преобладает поп-музыка."
   ]
  },
  {
   "cell_type": "markdown",
   "metadata": {
    "id": "DlegSvaT_Zcu"
   },
   "source": [
    "Сгруппируйте таблицу `moscow_general` по жанру и посчитайте прослушивания треков каждого жанра методом `count()`. Затем отсортируйте результат в порядке убывания и сохраните его в таблице `moscow_genres`."
   ]
  },
  {
   "cell_type": "code",
   "execution_count": 35,
   "metadata": {
    "id": "r19lIPke_Zcu",
    "scrolled": true
   },
   "outputs": [],
   "source": [
    "moscow_genres = moscow_general.groupby('genre')['genre'].count()\n",
    "moscow_genres = moscow_genres.sort_values(ascending = False)"
   ]
  },
  {
   "cell_type": "code",
   "execution_count": 36,
   "metadata": {
    "id": "WhCSooF8_Zcv"
   },
   "outputs": [
    {
     "data": {
      "text/plain": [
       "genre\n",
       "pop            5892\n",
       "dance          4435\n",
       "rock           3965\n",
       "electronic     3786\n",
       "hiphop         2096\n",
       "classical      1616\n",
       "world          1432\n",
       "alternative    1379\n",
       "ruspop         1372\n",
       "rusrap         1161\n",
       "Name: genre, dtype: int64"
      ]
     },
     "execution_count": 36,
     "metadata": {},
     "output_type": "execute_result"
    }
   ],
   "source": [
    "moscow_genres.head(10)"
   ]
  },
  {
   "cell_type": "markdown",
   "metadata": {},
   "source": [
    "Группировка таблицы `spb_general` по жанру. Подсчет количства прослушивания треков каждого жанра. Отсортировка результата в порядке убывания в `spb_genres`:"
   ]
  },
  {
   "cell_type": "code",
   "execution_count": 37,
   "metadata": {
    "id": "gluLIpE7_Zcv"
   },
   "outputs": [],
   "source": [
    "spb_genres = spb_general.groupby('genre')['genre'].count()\n",
    "spb_genres = spb_genres.sort_values(ascending = False)"
   ]
  },
  {
   "cell_type": "code",
   "execution_count": 38,
   "metadata": {
    "id": "uaGJHjVU_Zcv",
    "scrolled": true
   },
   "outputs": [
    {
     "data": {
      "text/plain": [
       "genre\n",
       "pop            2431\n",
       "dance          1932\n",
       "rock           1879\n",
       "electronic     1737\n",
       "hiphop          960\n",
       "alternative     649\n",
       "classical       646\n",
       "rusrap          564\n",
       "ruspop          538\n",
       "world           515\n",
       "Name: genre, dtype: int64"
      ]
     },
     "execution_count": 38,
     "metadata": {},
     "output_type": "execute_result"
    }
   ],
   "source": [
    "spb_genres.head(10)"
   ]
  },
  {
   "cell_type": "markdown",
   "metadata": {
    "id": "RY51YJYu_Zcv"
   },
   "source": [
    "**Выводы**"
   ]
  },
  {
   "cell_type": "markdown",
   "metadata": {
    "id": "nVhnJEm__Zcv"
   },
   "source": [
    "Гипотеза частично подтвердилась:\n",
    "* Поп-музыка — самый популярный жанр в Москве, как и предполагала гипотеза. Более того, в топ-10 жанров встречается близкий жанр — русская популярная музыка.\n",
    "* Вопреки ожиданиям, рэп одинаково популярен в Москве и Петербурге. \n"
   ]
  },
  {
   "cell_type": "markdown",
   "metadata": {
    "id": "ykKQ0N65_Zcv"
   },
   "source": [
    "## Итоги исследования"
   ]
  },
  {
   "cell_type": "markdown",
   "metadata": {
    "id": "tjUwbHb3_Zcv"
   },
   "source": [
    "<div class=\"alert alert-info\"> Гипотезы:\n",
    "\n",
    " > 1. Активность пользователей зависит от дня недели. Причём в Москве и Петербурге это проявляется по-разному.\n",
    " >2. В понедельник утром в Москве преобладают одни жанры, а в Петербурге — другие. Так же и вечером пятницы преобладают разные жанры — в зависимости от города.\n",
    " >3. Москва и Петербург предпочитают разные жанры музыки. В Москве чаще слушают поп-музыку, в Петербурге — русский рэп.\n",
    "\n",
    "<b>Результаты проверки гипотез:</b>\n",
    "\n",
    "1. День недели по-разному влияет на активность пользователей в Москве и Петербурге. \n",
    "\n",
    "<b>Первая гипотеза полностью подтвердилась.</b>\n",
    "\n",
    "2. Музыкальные предпочтения не сильно меняются в течение недели — будь то Москва или Петербург. Небольшие различия заметны в начале недели, по понедельникам:\n",
    "> * в Москве преимущественно слушают музыку жанра world\n",
    "> * в Санкт - Петербурге больше любителей джаза и классичекой музыки\n",
    "\n",
    "<b>Вторая гипотеза подтвердилась лишь отчасти. Этот результат мог оказаться иным, если бы не пропуски в данных.</b>\n",
    "\n",
    "3. Во вкусах пользователей Москвы и Петербурга больше общего чем различий. Вопреки ожиданиям, предпочтения жанров в Петербурге напоминают московские.\n",
    "\n",
    "<b>Третья гипотеза не подтвердилась. Если различия в предпочтениях и существуют, на основной массе пользователей они незаметны. </b>\n"
   ]
  }
 ],
 "metadata": {
  "ExecuteTimeLog": [
   {
    "duration": 741,
    "start_time": "2021-12-18T17:02:15.372Z"
   },
   {
    "duration": 493,
    "start_time": "2021-12-18T17:03:07.258Z"
   },
   {
    "duration": 287,
    "start_time": "2021-12-18T17:03:39.531Z"
   },
   {
    "duration": 4,
    "start_time": "2021-12-18T17:04:04.565Z"
   },
   {
    "duration": 181,
    "start_time": "2021-12-18T17:04:07.143Z"
   },
   {
    "duration": 25,
    "start_time": "2021-12-18T17:05:41.435Z"
   },
   {
    "duration": 34,
    "start_time": "2021-12-18T17:14:44.164Z"
   },
   {
    "duration": 6,
    "start_time": "2021-12-18T17:16:56.039Z"
   },
   {
    "duration": 117,
    "start_time": "2021-12-18T17:19:25.774Z"
   },
   {
    "duration": 120,
    "start_time": "2021-12-18T17:19:59.020Z"
   },
   {
    "duration": 373,
    "start_time": "2021-12-18T17:20:27.999Z"
   },
   {
    "duration": 24,
    "start_time": "2021-12-18T17:20:40.976Z"
   },
   {
    "duration": 6,
    "start_time": "2021-12-18T17:21:04.898Z"
   },
   {
    "duration": 46,
    "start_time": "2021-12-18T17:55:16.892Z"
   },
   {
    "duration": 30,
    "start_time": "2021-12-18T17:56:11.121Z"
   },
   {
    "duration": 7874,
    "start_time": "2021-12-18T18:00:13.411Z"
   },
   {
    "duration": 35,
    "start_time": "2021-12-18T18:00:29.241Z"
   },
   {
    "duration": 44,
    "start_time": "2021-12-18T18:00:59.745Z"
   },
   {
    "duration": 42,
    "start_time": "2021-12-18T18:01:05.330Z"
   },
   {
    "duration": 29,
    "start_time": "2021-12-18T18:01:10.899Z"
   },
   {
    "duration": 86,
    "start_time": "2021-12-18T18:01:45.715Z"
   },
   {
    "duration": 109,
    "start_time": "2021-12-18T18:02:41.536Z"
   },
   {
    "duration": 79,
    "start_time": "2021-12-18T18:02:58.062Z"
   },
   {
    "duration": 76,
    "start_time": "2021-12-18T18:03:31.127Z"
   },
   {
    "duration": 76,
    "start_time": "2021-12-18T18:03:41.197Z"
   },
   {
    "duration": 113,
    "start_time": "2021-12-18T18:04:00.772Z"
   },
   {
    "duration": 79,
    "start_time": "2021-12-18T18:04:07.229Z"
   },
   {
    "duration": 102,
    "start_time": "2021-12-18T18:05:10.800Z"
   },
   {
    "duration": 81,
    "start_time": "2021-12-18T20:15:52.679Z"
   },
   {
    "duration": 104,
    "start_time": "2021-12-18T20:17:45.609Z"
   },
   {
    "duration": 82,
    "start_time": "2021-12-18T20:17:51.293Z"
   },
   {
    "duration": 111,
    "start_time": "2021-12-18T20:18:08.022Z"
   },
   {
    "duration": 79,
    "start_time": "2021-12-18T20:18:12.224Z"
   },
   {
    "duration": 88,
    "start_time": "2021-12-18T20:20:16.468Z"
   },
   {
    "duration": 89,
    "start_time": "2021-12-18T20:20:26.430Z"
   },
   {
    "duration": 78,
    "start_time": "2021-12-18T20:20:30.282Z"
   },
   {
    "duration": 10,
    "start_time": "2021-12-18T20:26:19.707Z"
   },
   {
    "duration": 284,
    "start_time": "2021-12-18T20:26:25.923Z"
   },
   {
    "duration": 326,
    "start_time": "2021-12-19T10:20:12.538Z"
   },
   {
    "duration": 260,
    "start_time": "2021-12-19T10:20:31.449Z"
   },
   {
    "duration": 264,
    "start_time": "2021-12-19T10:20:51.791Z"
   },
   {
    "duration": 276,
    "start_time": "2021-12-19T10:21:11.776Z"
   },
   {
    "duration": 256,
    "start_time": "2021-12-19T10:21:43.202Z"
   },
   {
    "duration": 282,
    "start_time": "2021-12-19T10:23:11.093Z"
   },
   {
    "duration": 244,
    "start_time": "2021-12-19T10:24:06.426Z"
   },
   {
    "duration": 261,
    "start_time": "2021-12-19T10:24:16.868Z"
   },
   {
    "duration": 778,
    "start_time": "2021-12-19T10:24:54.068Z"
   },
   {
    "duration": 187,
    "start_time": "2021-12-19T10:24:56.319Z"
   },
   {
    "duration": 27,
    "start_time": "2021-12-19T10:24:58.703Z"
   },
   {
    "duration": 36,
    "start_time": "2021-12-19T10:25:01.777Z"
   },
   {
    "duration": 6,
    "start_time": "2021-12-19T10:25:07.404Z"
   },
   {
    "duration": 24,
    "start_time": "2021-12-19T10:25:10.827Z"
   },
   {
    "duration": 6,
    "start_time": "2021-12-19T10:25:12.630Z"
   },
   {
    "duration": 30,
    "start_time": "2021-12-19T10:25:14.960Z"
   },
   {
    "duration": 42,
    "start_time": "2021-12-19T10:25:18.536Z"
   },
   {
    "duration": 40,
    "start_time": "2021-12-19T10:25:20.790Z"
   },
   {
    "duration": 87,
    "start_time": "2021-12-19T10:25:23.866Z"
   },
   {
    "duration": 105,
    "start_time": "2021-12-19T10:25:26.088Z"
   },
   {
    "duration": 76,
    "start_time": "2021-12-19T10:25:28.654Z"
   },
   {
    "duration": 10,
    "start_time": "2021-12-19T10:25:31.499Z"
   },
   {
    "duration": 83,
    "start_time": "2021-12-19T10:44:21.099Z"
   },
   {
    "duration": 85,
    "start_time": "2021-12-19T10:44:24.737Z"
   },
   {
    "duration": 94,
    "start_time": "2021-12-19T10:46:59.933Z"
   },
   {
    "duration": 88,
    "start_time": "2021-12-19T10:47:05.512Z"
   },
   {
    "duration": 11,
    "start_time": "2021-12-19T10:47:16.851Z"
   },
   {
    "duration": 86,
    "start_time": "2021-12-19T10:47:53.924Z"
   },
   {
    "duration": 9,
    "start_time": "2021-12-19T10:49:48.441Z"
   },
   {
    "duration": 449,
    "start_time": "2021-12-19T10:51:04.916Z"
   },
   {
    "duration": 83,
    "start_time": "2021-12-19T10:51:14.315Z"
   },
   {
    "duration": 82,
    "start_time": "2021-12-19T10:51:48.077Z"
   },
   {
    "duration": 78,
    "start_time": "2021-12-19T10:52:06.443Z"
   },
   {
    "duration": 76,
    "start_time": "2021-12-19T10:56:01.527Z"
   },
   {
    "duration": 76,
    "start_time": "2021-12-19T10:56:05.964Z"
   },
   {
    "duration": 79,
    "start_time": "2021-12-19T10:56:13.974Z"
   },
   {
    "duration": 84,
    "start_time": "2021-12-19T10:56:18.279Z"
   },
   {
    "duration": -14,
    "start_time": "2021-12-19T10:56:47.086Z"
   },
   {
    "duration": 88,
    "start_time": "2021-12-19T10:56:54.949Z"
   },
   {
    "duration": 77,
    "start_time": "2021-12-19T10:57:15.356Z"
   },
   {
    "duration": 5,
    "start_time": "2021-12-19T11:03:09.638Z"
   },
   {
    "duration": 4,
    "start_time": "2021-12-19T11:03:17.233Z"
   },
   {
    "duration": 14,
    "start_time": "2021-12-19T11:05:01.544Z"
   },
   {
    "duration": 15,
    "start_time": "2021-12-19T11:05:14.446Z"
   },
   {
    "duration": 19,
    "start_time": "2021-12-19T11:05:41.032Z"
   },
   {
    "duration": 17,
    "start_time": "2021-12-19T11:06:15.500Z"
   },
   {
    "duration": 24,
    "start_time": "2021-12-19T11:07:35.039Z"
   },
   {
    "duration": 23,
    "start_time": "2021-12-19T11:08:16.580Z"
   },
   {
    "duration": 24,
    "start_time": "2021-12-19T11:08:31.709Z"
   },
   {
    "duration": 22,
    "start_time": "2021-12-19T11:08:51.463Z"
   },
   {
    "duration": 20,
    "start_time": "2021-12-19T11:09:13.231Z"
   },
   {
    "duration": 78,
    "start_time": "2021-12-19T11:10:09.400Z"
   },
   {
    "duration": 22,
    "start_time": "2021-12-19T11:10:14.062Z"
   },
   {
    "duration": 5,
    "start_time": "2021-12-19T11:10:35.223Z"
   },
   {
    "duration": 21,
    "start_time": "2021-12-19T11:10:39.827Z"
   },
   {
    "duration": 13,
    "start_time": "2021-12-19T11:10:54.682Z"
   },
   {
    "duration": 9,
    "start_time": "2021-12-19T11:10:59.691Z"
   },
   {
    "duration": 267,
    "start_time": "2021-12-19T11:37:51.983Z"
   },
   {
    "duration": 264,
    "start_time": "2021-12-19T11:38:20.785Z"
   },
   {
    "duration": 268,
    "start_time": "2021-12-19T11:38:36.929Z"
   },
   {
    "duration": 263,
    "start_time": "2021-12-19T11:38:52.649Z"
   },
   {
    "duration": 407,
    "start_time": "2021-12-19T11:39:19.498Z"
   },
   {
    "duration": 364,
    "start_time": "2021-12-19T11:39:40.349Z"
   },
   {
    "duration": 21,
    "start_time": "2021-12-19T11:39:48.216Z"
   },
   {
    "duration": 272,
    "start_time": "2021-12-19T11:39:57.742Z"
   },
   {
    "duration": 283,
    "start_time": "2021-12-19T11:40:29.455Z"
   },
   {
    "duration": 24,
    "start_time": "2021-12-19T11:41:02.458Z"
   },
   {
    "duration": 6,
    "start_time": "2021-12-19T11:41:04.626Z"
   },
   {
    "duration": 29,
    "start_time": "2021-12-19T11:41:06.635Z"
   },
   {
    "duration": 40,
    "start_time": "2021-12-19T11:41:10.187Z"
   },
   {
    "duration": 29,
    "start_time": "2021-12-19T11:41:13.054Z"
   },
   {
    "duration": 83,
    "start_time": "2021-12-19T11:41:16.669Z"
   },
   {
    "duration": 95,
    "start_time": "2021-12-19T11:41:19.613Z"
   },
   {
    "duration": 43,
    "start_time": "2021-12-19T11:41:40.857Z"
   },
   {
    "duration": 35,
    "start_time": "2021-12-19T11:41:43.345Z"
   },
   {
    "duration": 85,
    "start_time": "2021-12-19T11:41:51.183Z"
   },
   {
    "duration": 91,
    "start_time": "2021-12-19T11:41:53.844Z"
   },
   {
    "duration": 83,
    "start_time": "2021-12-19T11:41:56.685Z"
   },
   {
    "duration": 8,
    "start_time": "2021-12-19T11:42:20.781Z"
   },
   {
    "duration": 4,
    "start_time": "2021-12-19T11:42:36.070Z"
   },
   {
    "duration": 195,
    "start_time": "2021-12-19T11:42:38.053Z"
   },
   {
    "duration": 15,
    "start_time": "2021-12-19T11:42:40.841Z"
   },
   {
    "duration": 35,
    "start_time": "2021-12-19T11:42:44.499Z"
   },
   {
    "duration": 8,
    "start_time": "2021-12-19T11:42:50.861Z"
   },
   {
    "duration": 22,
    "start_time": "2021-12-19T11:42:54.017Z"
   },
   {
    "duration": 6,
    "start_time": "2021-12-19T11:42:56.911Z"
   },
   {
    "duration": 30,
    "start_time": "2021-12-19T11:42:59.873Z"
   },
   {
    "duration": 44,
    "start_time": "2021-12-19T11:43:03.946Z"
   },
   {
    "duration": 31,
    "start_time": "2021-12-19T11:43:06.531Z"
   },
   {
    "duration": 86,
    "start_time": "2021-12-19T11:43:10.043Z"
   },
   {
    "duration": 102,
    "start_time": "2021-12-19T11:43:12.573Z"
   },
   {
    "duration": 78,
    "start_time": "2021-12-19T11:43:14.982Z"
   },
   {
    "duration": 97,
    "start_time": "2021-12-19T11:43:17.770Z"
   },
   {
    "duration": 4,
    "start_time": "2021-12-19T11:43:22.124Z"
   },
   {
    "duration": 15,
    "start_time": "2021-12-19T11:43:23.935Z"
   },
   {
    "duration": 10,
    "start_time": "2021-12-19T11:43:27.092Z"
   },
   {
    "duration": 340,
    "start_time": "2021-12-19T11:43:32.559Z"
   },
   {
    "duration": 262,
    "start_time": "2021-12-19T11:43:37.130Z"
   },
   {
    "duration": 269,
    "start_time": "2021-12-19T11:43:52.736Z"
   },
   {
    "duration": 1055,
    "start_time": "2021-12-19T11:44:28.439Z"
   },
   {
    "duration": 274,
    "start_time": "2021-12-19T11:45:12.669Z"
   },
   {
    "duration": 319,
    "start_time": "2021-12-19T12:17:59.356Z"
   },
   {
    "duration": 300,
    "start_time": "2021-12-19T12:53:27.906Z"
   },
   {
    "duration": 73,
    "start_time": "2021-12-19T12:53:38.894Z"
   },
   {
    "duration": 278,
    "start_time": "2021-12-19T12:54:00.539Z"
   },
   {
    "duration": 44,
    "start_time": "2021-12-19T12:54:50.079Z"
   },
   {
    "duration": 43,
    "start_time": "2021-12-19T12:58:32.177Z"
   },
   {
    "duration": 23,
    "start_time": "2021-12-19T12:59:20.571Z"
   },
   {
    "duration": 14,
    "start_time": "2021-12-19T13:00:18.345Z"
   },
   {
    "duration": 15,
    "start_time": "2021-12-19T13:00:28.136Z"
   },
   {
    "duration": 17,
    "start_time": "2021-12-19T13:00:50.110Z"
   },
   {
    "duration": 53,
    "start_time": "2021-12-19T13:01:03.327Z"
   },
   {
    "duration": 15,
    "start_time": "2021-12-19T13:01:18.260Z"
   },
   {
    "duration": 47,
    "start_time": "2021-12-19T13:02:07.358Z"
   },
   {
    "duration": 13,
    "start_time": "2021-12-19T13:02:17.357Z"
   },
   {
    "duration": 4,
    "start_time": "2021-12-19T13:21:01.631Z"
   },
   {
    "duration": 5,
    "start_time": "2021-12-19T13:25:46.490Z"
   },
   {
    "duration": 90,
    "start_time": "2021-12-19T13:25:59.404Z"
   },
   {
    "duration": 5,
    "start_time": "2021-12-19T13:26:08.234Z"
   },
   {
    "duration": 5,
    "start_time": "2021-12-19T13:29:27.586Z"
   },
   {
    "duration": 5,
    "start_time": "2021-12-19T13:29:32.339Z"
   },
   {
    "duration": 101,
    "start_time": "2021-12-19T13:32:21.626Z"
   },
   {
    "duration": 26,
    "start_time": "2021-12-19T13:32:45.106Z"
   },
   {
    "duration": 9,
    "start_time": "2021-12-19T13:32:49.915Z"
   },
   {
    "duration": 19,
    "start_time": "2021-12-19T13:34:31.597Z"
   },
   {
    "duration": 9,
    "start_time": "2021-12-19T13:34:35.631Z"
   },
   {
    "duration": 18,
    "start_time": "2021-12-19T13:35:14.275Z"
   },
   {
    "duration": 11,
    "start_time": "2021-12-19T13:35:16.950Z"
   },
   {
    "duration": 4,
    "start_time": "2021-12-19T13:35:59.455Z"
   },
   {
    "duration": 17,
    "start_time": "2021-12-19T13:36:01.457Z"
   },
   {
    "duration": 9,
    "start_time": "2021-12-19T13:36:04.392Z"
   },
   {
    "duration": 10,
    "start_time": "2021-12-19T13:36:18.933Z"
   },
   {
    "duration": 80,
    "start_time": "2021-12-19T13:36:47.042Z"
   },
   {
    "duration": 4,
    "start_time": "2021-12-19T13:36:59.068Z"
   },
   {
    "duration": 19,
    "start_time": "2021-12-19T13:37:01.666Z"
   },
   {
    "duration": 12,
    "start_time": "2021-12-19T13:37:04.098Z"
   },
   {
    "duration": 77,
    "start_time": "2021-12-19T13:37:48.197Z"
   },
   {
    "duration": 75,
    "start_time": "2021-12-19T13:38:08.974Z"
   },
   {
    "duration": 5,
    "start_time": "2021-12-19T13:38:19.932Z"
   },
   {
    "duration": 18,
    "start_time": "2021-12-19T13:38:22.348Z"
   },
   {
    "duration": 9,
    "start_time": "2021-12-19T13:38:25.481Z"
   },
   {
    "duration": 19,
    "start_time": "2021-12-19T13:39:10.217Z"
   },
   {
    "duration": 15,
    "start_time": "2021-12-19T13:39:13.490Z"
   },
   {
    "duration": 4,
    "start_time": "2021-12-19T13:39:16.884Z"
   },
   {
    "duration": 452,
    "start_time": "2021-12-19T13:55:52.897Z"
   },
   {
    "duration": 600,
    "start_time": "2021-12-19T13:57:29.828Z"
   },
   {
    "duration": 4,
    "start_time": "2021-12-19T13:57:40.871Z"
   },
   {
    "duration": 34,
    "start_time": "2021-12-19T13:57:44.111Z"
   },
   {
    "duration": 11,
    "start_time": "2021-12-19T13:57:59.000Z"
   },
   {
    "duration": 19,
    "start_time": "2021-12-19T13:58:11.762Z"
   },
   {
    "duration": 14,
    "start_time": "2021-12-19T13:58:14.747Z"
   },
   {
    "duration": 5,
    "start_time": "2021-12-19T13:58:18.693Z"
   },
   {
    "duration": 5,
    "start_time": "2021-12-19T14:12:58.906Z"
   },
   {
    "duration": 6,
    "start_time": "2021-12-19T14:14:24.465Z"
   },
   {
    "duration": 5,
    "start_time": "2021-12-19T14:14:28.996Z"
   },
   {
    "duration": 5,
    "start_time": "2021-12-19T14:27:14.854Z"
   },
   {
    "duration": 4,
    "start_time": "2021-12-19T14:27:17.888Z"
   },
   {
    "duration": 4,
    "start_time": "2021-12-19T14:28:11.447Z"
   },
   {
    "duration": 5,
    "start_time": "2021-12-19T14:28:19.554Z"
   },
   {
    "duration": 4,
    "start_time": "2021-12-19T14:28:44.616Z"
   },
   {
    "duration": 5,
    "start_time": "2021-12-19T14:30:08.906Z"
   },
   {
    "duration": 648,
    "start_time": "2021-12-19T14:30:47.490Z"
   },
   {
    "duration": 560,
    "start_time": "2021-12-19T14:32:14.845Z"
   },
   {
    "duration": 567,
    "start_time": "2021-12-19T14:33:36.991Z"
   },
   {
    "duration": 5,
    "start_time": "2021-12-19T14:33:51.644Z"
   },
   {
    "duration": 1759,
    "start_time": "2021-12-19T14:33:54.327Z"
   },
   {
    "duration": 11,
    "start_time": "2021-12-19T14:34:20.567Z"
   },
   {
    "duration": 898,
    "start_time": "2021-12-19T14:34:23.392Z"
   },
   {
    "duration": 5,
    "start_time": "2021-12-19T14:35:16.239Z"
   },
   {
    "duration": 616,
    "start_time": "2021-12-19T14:35:18.259Z"
   },
   {
    "duration": 14,
    "start_time": "2021-12-19T14:35:39.694Z"
   },
   {
    "duration": 5,
    "start_time": "2021-12-19T14:35:42.981Z"
   },
   {
    "duration": 552,
    "start_time": "2021-12-19T14:35:45.492Z"
   },
   {
    "duration": 5,
    "start_time": "2021-12-19T14:38:03.719Z"
   },
   {
    "duration": 62,
    "start_time": "2021-12-19T14:38:37.212Z"
   },
   {
    "duration": 60,
    "start_time": "2021-12-19T14:38:37.216Z"
   },
   {
    "duration": 83,
    "start_time": "2021-12-19T14:38:43.935Z"
   },
   {
    "duration": 5,
    "start_time": "2021-12-19T14:38:52.080Z"
   },
   {
    "duration": 539,
    "start_time": "2021-12-19T14:38:55.155Z"
   },
   {
    "duration": 10,
    "start_time": "2021-12-19T14:39:42.865Z"
   },
   {
    "duration": 569,
    "start_time": "2021-12-19T14:39:46.916Z"
   },
   {
    "duration": 484,
    "start_time": "2021-12-19T14:40:18.816Z"
   },
   {
    "duration": 6,
    "start_time": "2021-12-19T14:40:23.673Z"
   },
   {
    "duration": 120,
    "start_time": "2021-12-19T14:41:34.046Z"
   },
   {
    "duration": 1683,
    "start_time": "2021-12-19T14:41:41.165Z"
   },
   {
    "duration": 5,
    "start_time": "2021-12-19T14:43:24.489Z"
   },
   {
    "duration": 528,
    "start_time": "2021-12-19T14:43:27.956Z"
   },
   {
    "duration": 5,
    "start_time": "2021-12-19T14:44:41.375Z"
   },
   {
    "duration": 580,
    "start_time": "2021-12-19T14:44:44.055Z"
   },
   {
    "duration": 536,
    "start_time": "2021-12-19T14:45:32.618Z"
   },
   {
    "duration": 5,
    "start_time": "2021-12-19T14:45:34.936Z"
   },
   {
    "duration": 3,
    "start_time": "2021-12-19T14:46:09.684Z"
   },
   {
    "duration": 195,
    "start_time": "2021-12-19T14:46:12.106Z"
   },
   {
    "duration": 18,
    "start_time": "2021-12-19T14:46:14.861Z"
   },
   {
    "duration": 32,
    "start_time": "2021-12-19T14:46:18.371Z"
   },
   {
    "duration": 5,
    "start_time": "2021-12-19T14:46:25.461Z"
   },
   {
    "duration": 27,
    "start_time": "2021-12-19T14:46:28.133Z"
   },
   {
    "duration": 5,
    "start_time": "2021-12-19T14:46:30.997Z"
   },
   {
    "duration": 33,
    "start_time": "2021-12-19T14:46:33.813Z"
   },
   {
    "duration": 44,
    "start_time": "2021-12-19T14:46:37.034Z"
   },
   {
    "duration": 31,
    "start_time": "2021-12-19T14:46:39.675Z"
   },
   {
    "duration": 88,
    "start_time": "2021-12-19T14:46:42.378Z"
   },
   {
    "duration": 95,
    "start_time": "2021-12-19T14:46:44.360Z"
   },
   {
    "duration": 80,
    "start_time": "2021-12-19T14:46:46.736Z"
   },
   {
    "duration": 75,
    "start_time": "2021-12-19T14:46:49.345Z"
   },
   {
    "duration": 4,
    "start_time": "2021-12-19T14:46:52.994Z"
   },
   {
    "duration": 36,
    "start_time": "2021-12-19T14:46:55.692Z"
   },
   {
    "duration": 14,
    "start_time": "2021-12-19T14:47:01.389Z"
   },
   {
    "duration": 19,
    "start_time": "2021-12-19T14:47:13.219Z"
   },
   {
    "duration": 16,
    "start_time": "2021-12-19T14:47:16.388Z"
   },
   {
    "duration": 5,
    "start_time": "2021-12-19T14:47:20.822Z"
   },
   {
    "duration": 683,
    "start_time": "2021-12-19T14:47:23.492Z"
   },
   {
    "duration": 8,
    "start_time": "2021-12-19T14:53:30.098Z"
   },
   {
    "duration": 574,
    "start_time": "2021-12-19T14:53:32.769Z"
   },
   {
    "duration": 5,
    "start_time": "2021-12-19T14:54:48.599Z"
   },
   {
    "duration": 558,
    "start_time": "2021-12-19T14:54:51.023Z"
   },
   {
    "duration": 15,
    "start_time": "2021-12-19T14:56:21.722Z"
   },
   {
    "duration": 583,
    "start_time": "2021-12-19T14:57:54.910Z"
   },
   {
    "duration": 5,
    "start_time": "2021-12-19T14:57:57.901Z"
   },
   {
    "duration": 615,
    "start_time": "2021-12-19T14:58:01.639Z"
   },
   {
    "duration": 6,
    "start_time": "2021-12-19T15:02:47.875Z"
   },
   {
    "duration": 591,
    "start_time": "2021-12-19T15:02:50.708Z"
   },
   {
    "duration": 5,
    "start_time": "2021-12-19T15:04:42.970Z"
   },
   {
    "duration": 24,
    "start_time": "2021-12-19T15:04:46.455Z"
   },
   {
    "duration": 5,
    "start_time": "2021-12-19T15:05:48.535Z"
   },
   {
    "duration": 719,
    "start_time": "2021-12-19T15:05:50.799Z"
   },
   {
    "duration": 5,
    "start_time": "2021-12-19T15:06:34.416Z"
   },
   {
    "duration": 524,
    "start_time": "2021-12-19T15:06:36.799Z"
   },
   {
    "duration": 5,
    "start_time": "2021-12-19T15:07:00.107Z"
   },
   {
    "duration": 557,
    "start_time": "2021-12-19T15:07:05.286Z"
   },
   {
    "duration": 5,
    "start_time": "2021-12-19T15:07:47.743Z"
   },
   {
    "duration": 527,
    "start_time": "2021-12-19T15:07:50.581Z"
   },
   {
    "duration": 5,
    "start_time": "2021-12-19T15:08:08.992Z"
   },
   {
    "duration": 5,
    "start_time": "2021-12-19T15:08:18.035Z"
   },
   {
    "duration": 537,
    "start_time": "2021-12-19T15:08:21.897Z"
   },
   {
    "duration": 5,
    "start_time": "2021-12-19T15:08:53.358Z"
   },
   {
    "duration": 574,
    "start_time": "2021-12-19T15:08:55.868Z"
   },
   {
    "duration": 5,
    "start_time": "2021-12-19T15:10:40.292Z"
   },
   {
    "duration": 543,
    "start_time": "2021-12-19T15:10:42.580Z"
   },
   {
    "duration": 7,
    "start_time": "2021-12-19T15:11:14.426Z"
   },
   {
    "duration": 568,
    "start_time": "2021-12-19T15:11:17.126Z"
   },
   {
    "duration": 6,
    "start_time": "2021-12-19T15:11:33.799Z"
   },
   {
    "duration": 639,
    "start_time": "2021-12-19T15:11:36.924Z"
   },
   {
    "duration": 6,
    "start_time": "2021-12-19T15:12:15.777Z"
   },
   {
    "duration": 510,
    "start_time": "2021-12-19T15:12:18.336Z"
   },
   {
    "duration": 5,
    "start_time": "2021-12-19T15:13:00.617Z"
   },
   {
    "duration": 778,
    "start_time": "2021-12-19T15:13:03.264Z"
   },
   {
    "duration": 8,
    "start_time": "2021-12-19T15:13:26.140Z"
   },
   {
    "duration": 662,
    "start_time": "2021-12-19T15:13:29.003Z"
   },
   {
    "duration": 5,
    "start_time": "2021-12-19T15:16:35.653Z"
   },
   {
    "duration": 21,
    "start_time": "2021-12-19T15:16:38.264Z"
   },
   {
    "duration": 93,
    "start_time": "2021-12-19T15:17:07.073Z"
   },
   {
    "duration": 22,
    "start_time": "2021-12-19T15:17:15.988Z"
   },
   {
    "duration": 91,
    "start_time": "2021-12-19T15:18:31.677Z"
   },
   {
    "duration": 92,
    "start_time": "2021-12-19T15:18:59.460Z"
   },
   {
    "duration": 93,
    "start_time": "2021-12-19T15:19:04.757Z"
   },
   {
    "duration": 86,
    "start_time": "2021-12-19T15:19:13.741Z"
   },
   {
    "duration": 18,
    "start_time": "2021-12-19T15:19:24.363Z"
   },
   {
    "duration": 93,
    "start_time": "2021-12-19T17:10:05.744Z"
   },
   {
    "duration": 91,
    "start_time": "2021-12-19T17:10:14.521Z"
   },
   {
    "duration": 96,
    "start_time": "2021-12-19T17:10:20.904Z"
   },
   {
    "duration": 79,
    "start_time": "2021-12-19T17:10:25.508Z"
   },
   {
    "duration": 21,
    "start_time": "2021-12-19T17:10:31.943Z"
   },
   {
    "duration": 5,
    "start_time": "2021-12-19T18:09:18.072Z"
   },
   {
    "duration": 548,
    "start_time": "2021-12-19T18:09:21.617Z"
   },
   {
    "duration": 5,
    "start_time": "2021-12-19T18:09:34.596Z"
   },
   {
    "duration": 23,
    "start_time": "2021-12-19T18:09:38.012Z"
   },
   {
    "duration": 19,
    "start_time": "2021-12-19T19:56:04.620Z"
   },
   {
    "duration": 94,
    "start_time": "2021-12-19T19:57:23.807Z"
   },
   {
    "duration": 20,
    "start_time": "2021-12-19T19:57:29.241Z"
   },
   {
    "duration": 33,
    "start_time": "2021-12-19T19:58:34.634Z"
   },
   {
    "duration": 17,
    "start_time": "2021-12-19T19:58:39.827Z"
   },
   {
    "duration": 18,
    "start_time": "2021-12-19T19:58:57.350Z"
   },
   {
    "duration": 32,
    "start_time": "2021-12-19T19:58:59.985Z"
   },
   {
    "duration": 82,
    "start_time": "2021-12-19T20:04:55.732Z"
   },
   {
    "duration": 109,
    "start_time": "2021-12-19T20:07:18.984Z"
   },
   {
    "duration": 690,
    "start_time": "2021-12-19T20:07:25.404Z"
   },
   {
    "duration": 92,
    "start_time": "2021-12-19T20:07:33.653Z"
   },
   {
    "duration": 1312,
    "start_time": "2021-12-19T20:07:44.507Z"
   },
   {
    "duration": 294,
    "start_time": "2021-12-19T20:08:31.266Z"
   },
   {
    "duration": 279,
    "start_time": "2021-12-19T20:08:45.779Z"
   },
   {
    "duration": 276,
    "start_time": "2021-12-19T20:09:11.591Z"
   },
   {
    "duration": 272,
    "start_time": "2021-12-19T20:09:55.755Z"
   },
   {
    "duration": 271,
    "start_time": "2021-12-19T20:10:57.643Z"
   },
   {
    "duration": 267,
    "start_time": "2021-12-19T20:17:00.960Z"
   },
   {
    "duration": 272,
    "start_time": "2021-12-19T20:17:31.319Z"
   },
   {
    "duration": 5,
    "start_time": "2021-12-19T20:18:09.636Z"
   },
   {
    "duration": 22,
    "start_time": "2021-12-19T20:18:12.452Z"
   },
   {
    "duration": 19,
    "start_time": "2021-12-19T20:18:14.603Z"
   },
   {
    "duration": 20,
    "start_time": "2021-12-19T20:18:16.913Z"
   },
   {
    "duration": 19,
    "start_time": "2021-12-19T20:18:18.839Z"
   },
   {
    "duration": 22,
    "start_time": "2021-12-19T20:18:21.304Z"
   },
   {
    "duration": 19,
    "start_time": "2021-12-19T20:18:23.227Z"
   },
   {
    "duration": 314,
    "start_time": "2021-12-19T20:18:25.941Z"
   },
   {
    "duration": 275,
    "start_time": "2021-12-19T20:18:49.825Z"
   },
   {
    "duration": 286,
    "start_time": "2021-12-19T20:19:03.519Z"
   },
   {
    "duration": 9,
    "start_time": "2021-12-19T20:19:22.600Z"
   },
   {
    "duration": 133,
    "start_time": "2021-12-19T20:30:48.306Z"
   },
   {
    "duration": 260,
    "start_time": "2021-12-19T20:33:24.713Z"
   },
   {
    "duration": 265,
    "start_time": "2021-12-19T20:36:42.635Z"
   },
   {
    "duration": 279,
    "start_time": "2021-12-19T20:36:47.936Z"
   },
   {
    "duration": 1124,
    "start_time": "2021-12-19T20:40:40.663Z"
   },
   {
    "duration": 5302,
    "start_time": "2021-12-19T20:40:57.494Z"
   },
   {
    "duration": 4897,
    "start_time": "2021-12-19T20:41:04.304Z"
   },
   {
    "duration": 87,
    "start_time": "2021-12-19T20:42:57.229Z"
   },
   {
    "duration": 326,
    "start_time": "2021-12-19T20:43:08.668Z"
   },
   {
    "duration": 16,
    "start_time": "2021-12-19T20:43:45.641Z"
   },
   {
    "duration": 18,
    "start_time": "2021-12-19T20:43:59.328Z"
   },
   {
    "duration": 16,
    "start_time": "2021-12-19T20:44:02.026Z"
   },
   {
    "duration": 15,
    "start_time": "2021-12-19T20:44:15.029Z"
   },
   {
    "duration": 3,
    "start_time": "2021-12-19T20:44:16.996Z"
   },
   {
    "duration": 16,
    "start_time": "2021-12-19T20:44:19.719Z"
   },
   {
    "duration": 15,
    "start_time": "2021-12-19T20:44:56.986Z"
   },
   {
    "duration": 19,
    "start_time": "2021-12-19T20:45:00.204Z"
   },
   {
    "duration": 17,
    "start_time": "2021-12-19T20:45:21.115Z"
   },
   {
    "duration": 18,
    "start_time": "2021-12-19T20:45:28.268Z"
   },
   {
    "duration": 19,
    "start_time": "2021-12-19T20:45:57.661Z"
   },
   {
    "duration": 3,
    "start_time": "2021-12-19T20:46:13.014Z"
   },
   {
    "duration": 198,
    "start_time": "2021-12-19T20:46:15.128Z"
   },
   {
    "duration": 16,
    "start_time": "2021-12-19T20:46:17.747Z"
   },
   {
    "duration": 37,
    "start_time": "2021-12-19T20:46:21.644Z"
   },
   {
    "duration": 5,
    "start_time": "2021-12-19T20:46:25.888Z"
   },
   {
    "duration": 28,
    "start_time": "2021-12-19T20:46:30.566Z"
   },
   {
    "duration": 7,
    "start_time": "2021-12-19T20:46:33.595Z"
   },
   {
    "duration": 32,
    "start_time": "2021-12-19T20:46:36.009Z"
   },
   {
    "duration": 44,
    "start_time": "2021-12-19T20:46:38.519Z"
   },
   {
    "duration": 30,
    "start_time": "2021-12-19T20:46:40.869Z"
   },
   {
    "duration": 86,
    "start_time": "2021-12-19T20:46:43.158Z"
   },
   {
    "duration": 94,
    "start_time": "2021-12-19T20:46:45.450Z"
   },
   {
    "duration": 76,
    "start_time": "2021-12-19T20:46:47.487Z"
   },
   {
    "duration": 78,
    "start_time": "2021-12-19T20:46:49.876Z"
   },
   {
    "duration": 5,
    "start_time": "2021-12-19T20:46:53.300Z"
   },
   {
    "duration": 33,
    "start_time": "2021-12-19T20:46:55.219Z"
   },
   {
    "duration": 9,
    "start_time": "2021-12-19T20:46:58.940Z"
   },
   {
    "duration": 21,
    "start_time": "2021-12-19T20:47:03.663Z"
   },
   {
    "duration": 17,
    "start_time": "2021-12-19T20:47:05.716Z"
   },
   {
    "duration": 4,
    "start_time": "2021-12-19T20:47:08.966Z"
   },
   {
    "duration": 264,
    "start_time": "2021-12-19T20:47:11.130Z"
   },
   {
    "duration": 267,
    "start_time": "2021-12-19T20:47:29.633Z"
   },
   {
    "duration": 5,
    "start_time": "2021-12-19T20:47:37.399Z"
   },
   {
    "duration": 5,
    "start_time": "2021-12-19T20:48:20.668Z"
   },
   {
    "duration": 4,
    "start_time": "2021-12-19T20:48:31.834Z"
   },
   {
    "duration": 614,
    "start_time": "2021-12-19T20:48:34.182Z"
   },
   {
    "duration": 5,
    "start_time": "2021-12-19T20:48:56.929Z"
   },
   {
    "duration": 532,
    "start_time": "2021-12-19T20:48:59.441Z"
   },
   {
    "duration": 5,
    "start_time": "2021-12-19T20:49:15.823Z"
   },
   {
    "duration": 273,
    "start_time": "2021-12-19T20:49:17.980Z"
   },
   {
    "duration": 301,
    "start_time": "2021-12-19T20:49:40.417Z"
   },
   {
    "duration": 5,
    "start_time": "2021-12-19T20:50:15.397Z"
   },
   {
    "duration": 276,
    "start_time": "2021-12-19T20:50:20.514Z"
   },
   {
    "duration": 5,
    "start_time": "2021-12-19T20:50:52.385Z"
   },
   {
    "duration": 288,
    "start_time": "2021-12-19T20:50:56.872Z"
   },
   {
    "duration": 9,
    "start_time": "2021-12-19T20:51:09.536Z"
   },
   {
    "duration": 17,
    "start_time": "2021-12-19T20:51:17.900Z"
   },
   {
    "duration": 17,
    "start_time": "2021-12-19T20:51:19.709Z"
   },
   {
    "duration": 5,
    "start_time": "2021-12-19T20:51:23.628Z"
   },
   {
    "duration": 271,
    "start_time": "2021-12-19T20:51:26.620Z"
   },
   {
    "duration": 5,
    "start_time": "2021-12-19T20:51:46.523Z"
   },
   {
    "duration": 394,
    "start_time": "2021-12-19T20:51:49.367Z"
   },
   {
    "duration": 5,
    "start_time": "2021-12-19T20:52:43.197Z"
   },
   {
    "duration": 303,
    "start_time": "2021-12-19T20:52:46.132Z"
   },
   {
    "duration": 4,
    "start_time": "2021-12-19T20:53:17.485Z"
   },
   {
    "duration": 290,
    "start_time": "2021-12-19T20:53:20.349Z"
   },
   {
    "duration": 6,
    "start_time": "2021-12-19T20:53:37.312Z"
   },
   {
    "duration": 690,
    "start_time": "2021-12-19T20:53:40.043Z"
   },
   {
    "duration": 5,
    "start_time": "2021-12-19T20:54:02.388Z"
   },
   {
    "duration": 1476,
    "start_time": "2021-12-19T20:54:03.530Z"
   },
   {
    "duration": 4,
    "start_time": "2021-12-19T20:54:26.795Z"
   },
   {
    "duration": 1315,
    "start_time": "2021-12-19T20:54:28.029Z"
   },
   {
    "duration": 5,
    "start_time": "2021-12-19T20:55:03.788Z"
   },
   {
    "duration": 311,
    "start_time": "2021-12-19T20:55:08.581Z"
   },
   {
    "duration": 303,
    "start_time": "2021-12-19T20:56:40.054Z"
   },
   {
    "duration": 35,
    "start_time": "2021-12-19T20:56:56.935Z"
   },
   {
    "duration": 5,
    "start_time": "2021-12-19T20:57:07.365Z"
   },
   {
    "duration": 280,
    "start_time": "2021-12-19T20:57:10.329Z"
   },
   {
    "duration": 277,
    "start_time": "2021-12-19T20:59:11.865Z"
   },
   {
    "duration": 331,
    "start_time": "2021-12-19T20:59:15.387Z"
   },
   {
    "duration": 4,
    "start_time": "2021-12-19T20:59:52.290Z"
   },
   {
    "duration": 33,
    "start_time": "2021-12-19T20:59:56.101Z"
   },
   {
    "duration": 10,
    "start_time": "2021-12-19T20:59:57.679Z"
   },
   {
    "duration": 19,
    "start_time": "2021-12-19T21:00:01.477Z"
   },
   {
    "duration": 14,
    "start_time": "2021-12-19T21:00:02.646Z"
   },
   {
    "duration": 4,
    "start_time": "2021-12-19T21:00:04.707Z"
   },
   {
    "duration": 348,
    "start_time": "2021-12-19T21:00:05.907Z"
   },
   {
    "duration": 264,
    "start_time": "2021-12-19T21:01:22.564Z"
   },
   {
    "duration": 3,
    "start_time": "2021-12-19T21:01:39.087Z"
   },
   {
    "duration": 1655,
    "start_time": "2021-12-19T21:01:39.805Z"
   },
   {
    "duration": 17,
    "start_time": "2021-12-19T21:01:41.683Z"
   },
   {
    "duration": 46,
    "start_time": "2021-12-19T21:01:41.704Z"
   },
   {
    "duration": 6,
    "start_time": "2021-12-19T21:01:43.484Z"
   },
   {
    "duration": 27,
    "start_time": "2021-12-19T21:01:44.524Z"
   },
   {
    "duration": 7,
    "start_time": "2021-12-19T21:01:45.352Z"
   },
   {
    "duration": 34,
    "start_time": "2021-12-19T21:01:46.194Z"
   },
   {
    "duration": 42,
    "start_time": "2021-12-19T21:01:47.567Z"
   },
   {
    "duration": 30,
    "start_time": "2021-12-19T21:01:48.531Z"
   },
   {
    "duration": 91,
    "start_time": "2021-12-19T21:01:49.551Z"
   },
   {
    "duration": 104,
    "start_time": "2021-12-19T21:01:50.505Z"
   },
   {
    "duration": 81,
    "start_time": "2021-12-19T21:01:51.403Z"
   },
   {
    "duration": 79,
    "start_time": "2021-12-19T21:01:52.981Z"
   },
   {
    "duration": 5,
    "start_time": "2021-12-19T21:01:55.237Z"
   },
   {
    "duration": 35,
    "start_time": "2021-12-19T21:01:55.982Z"
   },
   {
    "duration": 9,
    "start_time": "2021-12-19T21:01:57.512Z"
   },
   {
    "duration": 20,
    "start_time": "2021-12-19T21:02:01.019Z"
   },
   {
    "duration": 15,
    "start_time": "2021-12-19T21:02:02.220Z"
   },
   {
    "duration": 5,
    "start_time": "2021-12-19T21:02:04.240Z"
   },
   {
    "duration": 323,
    "start_time": "2021-12-19T21:02:05.427Z"
   },
   {
    "duration": 6,
    "start_time": "2021-12-19T21:02:39.769Z"
   },
   {
    "duration": 300,
    "start_time": "2021-12-19T21:02:40.832Z"
   },
   {
    "duration": 96,
    "start_time": "2021-12-19T21:04:29.480Z"
   },
   {
    "duration": 290,
    "start_time": "2021-12-19T21:04:31.654Z"
   },
   {
    "duration": 5,
    "start_time": "2021-12-19T21:05:21.493Z"
   },
   {
    "duration": 268,
    "start_time": "2021-12-19T21:05:22.719Z"
   },
   {
    "duration": 5,
    "start_time": "2021-12-19T21:05:45.627Z"
   },
   {
    "duration": 278,
    "start_time": "2021-12-19T21:05:47.106Z"
   },
   {
    "duration": 3,
    "start_time": "2021-12-19T21:07:09.362Z"
   },
   {
    "duration": 1375,
    "start_time": "2021-12-19T21:07:11.870Z"
   },
   {
    "duration": 16,
    "start_time": "2021-12-19T21:07:13.260Z"
   },
   {
    "duration": 33,
    "start_time": "2021-12-19T21:07:17.110Z"
   },
   {
    "duration": 5,
    "start_time": "2021-12-19T21:07:21.400Z"
   },
   {
    "duration": 24,
    "start_time": "2021-12-19T21:07:23.017Z"
   },
   {
    "duration": 6,
    "start_time": "2021-12-19T21:07:24.578Z"
   },
   {
    "duration": 32,
    "start_time": "2021-12-19T21:07:26.358Z"
   },
   {
    "duration": 41,
    "start_time": "2021-12-19T21:07:28.843Z"
   },
   {
    "duration": 34,
    "start_time": "2021-12-19T21:07:31.709Z"
   },
   {
    "duration": 88,
    "start_time": "2021-12-19T21:07:33.436Z"
   },
   {
    "duration": 101,
    "start_time": "2021-12-19T21:07:34.668Z"
   },
   {
    "duration": 108,
    "start_time": "2021-12-19T21:07:35.810Z"
   },
   {
    "duration": 78,
    "start_time": "2021-12-19T21:07:38.098Z"
   },
   {
    "duration": 4,
    "start_time": "2021-12-19T21:07:41.653Z"
   },
   {
    "duration": 33,
    "start_time": "2021-12-19T21:07:43.993Z"
   },
   {
    "duration": 10,
    "start_time": "2021-12-19T21:07:45.859Z"
   },
   {
    "duration": 20,
    "start_time": "2021-12-19T21:07:49.841Z"
   },
   {
    "duration": 15,
    "start_time": "2021-12-19T21:07:54.826Z"
   },
   {
    "duration": 4,
    "start_time": "2021-12-19T21:07:56.857Z"
   },
   {
    "duration": 327,
    "start_time": "2021-12-19T21:07:58.333Z"
   },
   {
    "duration": 5,
    "start_time": "2021-12-19T21:10:10.092Z"
   },
   {
    "duration": 859,
    "start_time": "2021-12-19T21:10:11.414Z"
   },
   {
    "duration": 4,
    "start_time": "2021-12-19T21:10:39.559Z"
   },
   {
    "duration": 597,
    "start_time": "2021-12-19T21:10:40.957Z"
   },
   {
    "duration": 742,
    "start_time": "2021-12-19T21:11:54.529Z"
   },
   {
    "duration": 173,
    "start_time": "2021-12-19T21:11:55.273Z"
   },
   {
    "duration": 27,
    "start_time": "2021-12-19T21:11:55.450Z"
   },
   {
    "duration": 57,
    "start_time": "2021-12-19T21:11:55.480Z"
   },
   {
    "duration": 6,
    "start_time": "2021-12-19T21:11:55.539Z"
   },
   {
    "duration": 28,
    "start_time": "2021-12-19T21:11:55.547Z"
   },
   {
    "duration": 6,
    "start_time": "2021-12-19T21:11:55.577Z"
   },
   {
    "duration": 62,
    "start_time": "2021-12-19T21:11:55.586Z"
   },
   {
    "duration": 41,
    "start_time": "2021-12-19T21:11:55.651Z"
   },
   {
    "duration": 54,
    "start_time": "2021-12-19T21:11:55.695Z"
   },
   {
    "duration": 100,
    "start_time": "2021-12-19T21:11:55.752Z"
   },
   {
    "duration": 119,
    "start_time": "2021-12-19T21:11:55.855Z"
   },
   {
    "duration": 87,
    "start_time": "2021-12-19T21:11:55.977Z"
   },
   {
    "duration": 86,
    "start_time": "2021-12-19T21:11:56.067Z"
   },
   {
    "duration": 5,
    "start_time": "2021-12-19T21:11:56.156Z"
   },
   {
    "duration": 35,
    "start_time": "2021-12-19T21:11:56.165Z"
   },
   {
    "duration": 11,
    "start_time": "2021-12-19T21:11:56.222Z"
   },
   {
    "duration": 21,
    "start_time": "2021-12-19T21:11:56.236Z"
   },
   {
    "duration": 15,
    "start_time": "2021-12-19T21:11:56.260Z"
   },
   {
    "duration": 5,
    "start_time": "2021-12-19T21:12:05.104Z"
   },
   {
    "duration": 30,
    "start_time": "2021-12-19T21:12:12.632Z"
   },
   {
    "duration": 19,
    "start_time": "2021-12-19T21:12:15.902Z"
   },
   {
    "duration": 30,
    "start_time": "2021-12-19T21:12:16.940Z"
   },
   {
    "duration": 20,
    "start_time": "2021-12-19T21:12:17.649Z"
   },
   {
    "duration": 18,
    "start_time": "2021-12-19T21:12:18.525Z"
   },
   {
    "duration": 17,
    "start_time": "2021-12-19T21:12:19.286Z"
   },
   {
    "duration": 10,
    "start_time": "2021-12-19T21:12:21.320Z"
   },
   {
    "duration": 22,
    "start_time": "2021-12-19T21:12:26.972Z"
   },
   {
    "duration": 4,
    "start_time": "2021-12-19T21:12:28.153Z"
   },
   {
    "duration": 19,
    "start_time": "2021-12-19T21:14:24.119Z"
   },
   {
    "duration": 21,
    "start_time": "2021-12-19T21:14:26.215Z"
   },
   {
    "duration": 32,
    "start_time": "2021-12-19T21:14:34.825Z"
   },
   {
    "duration": 28,
    "start_time": "2021-12-19T21:14:44.700Z"
   },
   {
    "duration": 24,
    "start_time": "2021-12-19T21:15:08.861Z"
   },
   {
    "duration": 20,
    "start_time": "2021-12-19T21:15:24.202Z"
   },
   {
    "duration": 3,
    "start_time": "2021-12-19T21:16:22.681Z"
   },
   {
    "duration": 195,
    "start_time": "2021-12-19T21:16:22.687Z"
   },
   {
    "duration": 14,
    "start_time": "2021-12-19T21:16:22.885Z"
   },
   {
    "duration": 47,
    "start_time": "2021-12-19T21:16:22.902Z"
   },
   {
    "duration": 6,
    "start_time": "2021-12-19T21:16:22.951Z"
   },
   {
    "duration": 24,
    "start_time": "2021-12-19T21:16:22.959Z"
   },
   {
    "duration": 6,
    "start_time": "2021-12-19T21:16:22.986Z"
   },
   {
    "duration": 31,
    "start_time": "2021-12-19T21:16:23.023Z"
   },
   {
    "duration": 41,
    "start_time": "2021-12-19T21:16:23.056Z"
   },
   {
    "duration": 51,
    "start_time": "2021-12-19T21:16:23.099Z"
   },
   {
    "duration": 98,
    "start_time": "2021-12-19T21:16:23.153Z"
   },
   {
    "duration": 114,
    "start_time": "2021-12-19T21:16:23.254Z"
   },
   {
    "duration": 94,
    "start_time": "2021-12-19T21:16:23.371Z"
   },
   {
    "duration": 89,
    "start_time": "2021-12-19T21:16:23.468Z"
   },
   {
    "duration": 4,
    "start_time": "2021-12-19T21:16:23.559Z"
   },
   {
    "duration": 35,
    "start_time": "2021-12-19T21:16:23.566Z"
   },
   {
    "duration": 25,
    "start_time": "2021-12-19T21:16:23.604Z"
   },
   {
    "duration": 19,
    "start_time": "2021-12-19T21:16:23.631Z"
   },
   {
    "duration": 13,
    "start_time": "2021-12-19T21:16:23.654Z"
   },
   {
    "duration": 4,
    "start_time": "2021-12-19T21:16:23.670Z"
   },
   {
    "duration": 60,
    "start_time": "2021-12-19T21:16:23.677Z"
   },
   {
    "duration": 16,
    "start_time": "2021-12-19T21:16:23.740Z"
   },
   {
    "duration": 17,
    "start_time": "2021-12-19T21:16:23.759Z"
   },
   {
    "duration": 53,
    "start_time": "2021-12-19T21:16:23.779Z"
   },
   {
    "duration": 42,
    "start_time": "2021-12-19T21:16:23.835Z"
   },
   {
    "duration": 30,
    "start_time": "2021-12-19T21:16:23.881Z"
   },
   {
    "duration": 14,
    "start_time": "2021-12-19T21:16:23.924Z"
   },
   {
    "duration": 45,
    "start_time": "2021-12-19T21:16:23.941Z"
   },
   {
    "duration": 19,
    "start_time": "2021-12-19T21:18:59.016Z"
   },
   {
    "duration": 18,
    "start_time": "2021-12-19T21:19:19.620Z"
   },
   {
    "duration": 25,
    "start_time": "2021-12-19T21:19:25.090Z"
   },
   {
    "duration": 19,
    "start_time": "2021-12-19T21:19:41.394Z"
   },
   {
    "duration": 18,
    "start_time": "2021-12-19T21:19:53.818Z"
   },
   {
    "duration": 5,
    "start_time": "2021-12-19T21:26:42.771Z"
   },
   {
    "duration": 5,
    "start_time": "2021-12-19T21:26:50.335Z"
   },
   {
    "duration": 5,
    "start_time": "2021-12-19T21:27:21.682Z"
   },
   {
    "duration": 5,
    "start_time": "2021-12-19T21:27:33.331Z"
   },
   {
    "duration": 4,
    "start_time": "2021-12-19T21:27:41.115Z"
   },
   {
    "duration": 172,
    "start_time": "2021-12-19T21:27:41.121Z"
   },
   {
    "duration": 15,
    "start_time": "2021-12-19T21:27:41.296Z"
   },
   {
    "duration": 28,
    "start_time": "2021-12-19T21:27:41.323Z"
   },
   {
    "duration": 6,
    "start_time": "2021-12-19T21:27:41.354Z"
   },
   {
    "duration": 26,
    "start_time": "2021-12-19T21:27:41.363Z"
   },
   {
    "duration": 33,
    "start_time": "2021-12-19T21:27:41.392Z"
   },
   {
    "duration": 32,
    "start_time": "2021-12-19T21:27:41.428Z"
   },
   {
    "duration": 77,
    "start_time": "2021-12-19T21:27:41.464Z"
   },
   {
    "duration": 30,
    "start_time": "2021-12-19T21:27:41.544Z"
   },
   {
    "duration": 110,
    "start_time": "2021-12-19T21:27:41.577Z"
   },
   {
    "duration": 95,
    "start_time": "2021-12-19T21:27:41.690Z"
   },
   {
    "duration": 86,
    "start_time": "2021-12-19T21:27:41.788Z"
   },
   {
    "duration": 86,
    "start_time": "2021-12-19T21:27:41.877Z"
   },
   {
    "duration": 4,
    "start_time": "2021-12-19T21:27:41.966Z"
   },
   {
    "duration": 52,
    "start_time": "2021-12-19T21:27:41.973Z"
   },
   {
    "duration": 8,
    "start_time": "2021-12-19T21:27:42.027Z"
   },
   {
    "duration": 18,
    "start_time": "2021-12-19T21:27:42.038Z"
   },
   {
    "duration": 16,
    "start_time": "2021-12-19T21:27:42.058Z"
   },
   {
    "duration": 4,
    "start_time": "2021-12-19T21:27:42.077Z"
   },
   {
    "duration": 24,
    "start_time": "2021-12-19T21:27:42.124Z"
   },
   {
    "duration": 19,
    "start_time": "2021-12-19T21:27:42.151Z"
   },
   {
    "duration": 57,
    "start_time": "2021-12-19T21:27:42.172Z"
   },
   {
    "duration": 18,
    "start_time": "2021-12-19T21:27:42.232Z"
   },
   {
    "duration": 20,
    "start_time": "2021-12-19T21:27:42.253Z"
   },
   {
    "duration": 52,
    "start_time": "2021-12-19T21:27:42.276Z"
   },
   {
    "duration": 8,
    "start_time": "2021-12-19T21:27:42.333Z"
   },
   {
    "duration": 24,
    "start_time": "2021-12-19T21:27:42.343Z"
   },
   {
    "duration": 55,
    "start_time": "2021-12-19T21:27:42.369Z"
   },
   {
    "duration": 6,
    "start_time": "2021-12-19T21:27:42.427Z"
   },
   {
    "duration": 5,
    "start_time": "2021-12-19T21:27:44.953Z"
   },
   {
    "duration": 5,
    "start_time": "2021-12-19T21:28:27.106Z"
   },
   {
    "duration": 5,
    "start_time": "2021-12-19T21:30:30.126Z"
   },
   {
    "duration": 5,
    "start_time": "2021-12-19T21:31:43.927Z"
   },
   {
    "duration": 5,
    "start_time": "2021-12-19T21:32:43.893Z"
   },
   {
    "duration": 5,
    "start_time": "2021-12-19T21:32:46.464Z"
   },
   {
    "duration": 5,
    "start_time": "2021-12-19T21:33:30.928Z"
   },
   {
    "duration": 4,
    "start_time": "2021-12-19T21:33:39.148Z"
   },
   {
    "duration": 181,
    "start_time": "2021-12-19T21:33:39.161Z"
   },
   {
    "duration": 14,
    "start_time": "2021-12-19T21:33:39.345Z"
   },
   {
    "duration": 41,
    "start_time": "2021-12-19T21:33:39.362Z"
   },
   {
    "duration": 21,
    "start_time": "2021-12-19T21:33:39.406Z"
   },
   {
    "duration": 34,
    "start_time": "2021-12-19T21:33:39.429Z"
   },
   {
    "duration": 26,
    "start_time": "2021-12-19T21:33:39.465Z"
   },
   {
    "duration": 40,
    "start_time": "2021-12-19T21:33:39.494Z"
   },
   {
    "duration": 47,
    "start_time": "2021-12-19T21:33:39.537Z"
   },
   {
    "duration": 28,
    "start_time": "2021-12-19T21:33:39.588Z"
   },
   {
    "duration": 81,
    "start_time": "2021-12-19T21:33:39.624Z"
   },
   {
    "duration": 97,
    "start_time": "2021-12-19T21:33:39.707Z"
   },
   {
    "duration": 78,
    "start_time": "2021-12-19T21:33:39.807Z"
   },
   {
    "duration": 86,
    "start_time": "2021-12-19T21:33:39.887Z"
   },
   {
    "duration": 4,
    "start_time": "2021-12-19T21:33:39.975Z"
   },
   {
    "duration": 52,
    "start_time": "2021-12-19T21:33:39.981Z"
   },
   {
    "duration": 19,
    "start_time": "2021-12-19T21:33:40.036Z"
   },
   {
    "duration": 32,
    "start_time": "2021-12-19T21:33:40.058Z"
   },
   {
    "duration": 24,
    "start_time": "2021-12-19T21:33:40.092Z"
   },
   {
    "duration": 22,
    "start_time": "2021-12-19T21:33:40.118Z"
   },
   {
    "duration": 47,
    "start_time": "2021-12-19T21:33:40.143Z"
   },
   {
    "duration": 27,
    "start_time": "2021-12-19T21:33:40.193Z"
   },
   {
    "duration": 52,
    "start_time": "2021-12-19T21:33:40.222Z"
   },
   {
    "duration": 33,
    "start_time": "2021-12-19T21:33:40.277Z"
   },
   {
    "duration": 33,
    "start_time": "2021-12-19T21:33:40.312Z"
   },
   {
    "duration": 38,
    "start_time": "2021-12-19T21:33:40.347Z"
   },
   {
    "duration": 28,
    "start_time": "2021-12-19T21:33:40.387Z"
   },
   {
    "duration": 44,
    "start_time": "2021-12-19T21:33:40.419Z"
   },
   {
    "duration": 27,
    "start_time": "2021-12-19T21:33:40.465Z"
   },
   {
    "duration": 32,
    "start_time": "2021-12-19T21:33:40.495Z"
   },
   {
    "duration": 5,
    "start_time": "2021-12-19T21:33:45.442Z"
   },
   {
    "duration": 5,
    "start_time": "2021-12-19T21:36:14.392Z"
   },
   {
    "duration": 305,
    "start_time": "2021-12-19T21:37:39.601Z"
   },
   {
    "duration": -89,
    "start_time": "2021-12-19T21:37:57.948Z"
   },
   {
    "duration": 7813,
    "start_time": "2021-12-19T21:38:27.191Z"
   },
   {
    "duration": -119,
    "start_time": "2021-12-19T21:38:35.126Z"
   },
   {
    "duration": 5,
    "start_time": "2021-12-19T21:39:13.368Z"
   },
   {
    "duration": -177,
    "start_time": "2021-12-19T21:39:22.859Z"
   },
   {
    "duration": 6,
    "start_time": "2021-12-19T21:39:35.773Z"
   },
   {
    "duration": 709,
    "start_time": "2021-12-19T21:39:37.221Z"
   },
   {
    "duration": 6,
    "start_time": "2021-12-19T21:40:20.523Z"
   },
   {
    "duration": 108,
    "start_time": "2021-12-19T21:40:21.875Z"
   },
   {
    "duration": 145,
    "start_time": "2021-12-19T21:42:18.795Z"
   },
   {
    "duration": 118,
    "start_time": "2021-12-19T21:48:15.783Z"
   },
   {
    "duration": 121,
    "start_time": "2021-12-19T21:48:25.694Z"
   },
   {
    "duration": 125,
    "start_time": "2021-12-19T21:48:26.656Z"
   },
   {
    "duration": 128,
    "start_time": "2021-12-19T21:49:00.089Z"
   },
   {
    "duration": 125,
    "start_time": "2021-12-19T21:49:06.854Z"
   },
   {
    "duration": 104,
    "start_time": "2021-12-19T21:49:58.945Z"
   },
   {
    "duration": 115,
    "start_time": "2021-12-19T21:50:12.446Z"
   },
   {
    "duration": 119,
    "start_time": "2021-12-19T21:50:28.293Z"
   },
   {
    "duration": 111,
    "start_time": "2021-12-19T21:50:39.853Z"
   },
   {
    "duration": 115,
    "start_time": "2021-12-19T21:50:50.657Z"
   },
   {
    "duration": 109,
    "start_time": "2021-12-19T21:51:04.039Z"
   },
   {
    "duration": 112,
    "start_time": "2021-12-19T21:51:09.637Z"
   },
   {
    "duration": 120,
    "start_time": "2021-12-19T21:51:15.301Z"
   },
   {
    "duration": 124,
    "start_time": "2021-12-19T21:51:32.652Z"
   },
   {
    "duration": 3,
    "start_time": "2021-12-19T21:51:51.803Z"
   },
   {
    "duration": 204,
    "start_time": "2021-12-19T21:51:51.812Z"
   },
   {
    "duration": 20,
    "start_time": "2021-12-19T21:51:52.022Z"
   },
   {
    "duration": 29,
    "start_time": "2021-12-19T21:51:52.045Z"
   },
   {
    "duration": 6,
    "start_time": "2021-12-19T21:51:52.077Z"
   },
   {
    "duration": 60,
    "start_time": "2021-12-19T21:51:52.085Z"
   },
   {
    "duration": 5,
    "start_time": "2021-12-19T21:51:52.147Z"
   },
   {
    "duration": 29,
    "start_time": "2021-12-19T21:51:52.155Z"
   },
   {
    "duration": 75,
    "start_time": "2021-12-19T21:51:52.186Z"
   },
   {
    "duration": 29,
    "start_time": "2021-12-19T21:51:52.265Z"
   },
   {
    "duration": 96,
    "start_time": "2021-12-19T21:51:52.298Z"
   },
   {
    "duration": 102,
    "start_time": "2021-12-19T21:51:52.396Z"
   },
   {
    "duration": 79,
    "start_time": "2021-12-19T21:51:52.500Z"
   },
   {
    "duration": 80,
    "start_time": "2021-12-19T21:51:52.581Z"
   },
   {
    "duration": 3,
    "start_time": "2021-12-19T21:51:52.663Z"
   },
   {
    "duration": 42,
    "start_time": "2021-12-19T21:51:52.668Z"
   },
   {
    "duration": 17,
    "start_time": "2021-12-19T21:51:52.713Z"
   },
   {
    "duration": 38,
    "start_time": "2021-12-19T21:51:52.733Z"
   },
   {
    "duration": 13,
    "start_time": "2021-12-19T21:51:52.773Z"
   },
   {
    "duration": 5,
    "start_time": "2021-12-19T21:51:52.788Z"
   },
   {
    "duration": 45,
    "start_time": "2021-12-19T21:51:52.795Z"
   },
   {
    "duration": 15,
    "start_time": "2021-12-19T21:51:52.843Z"
   },
   {
    "duration": 17,
    "start_time": "2021-12-19T21:51:52.860Z"
   },
   {
    "duration": 15,
    "start_time": "2021-12-19T21:51:52.879Z"
   },
   {
    "duration": 22,
    "start_time": "2021-12-19T21:51:52.924Z"
   },
   {
    "duration": 16,
    "start_time": "2021-12-19T21:51:52.949Z"
   },
   {
    "duration": 8,
    "start_time": "2021-12-19T21:51:52.967Z"
   },
   {
    "duration": 61,
    "start_time": "2021-12-19T21:51:52.980Z"
   },
   {
    "duration": 17,
    "start_time": "2021-12-19T21:51:53.043Z"
   },
   {
    "duration": 5,
    "start_time": "2021-12-19T21:51:53.063Z"
   },
   {
    "duration": 171,
    "start_time": "2021-12-19T21:51:53.070Z"
   },
   {
    "duration": 146,
    "start_time": "2021-12-19T21:51:53.244Z"
   },
   {
    "duration": 117,
    "start_time": "2021-12-19T21:51:53.392Z"
   },
   {
    "duration": 135,
    "start_time": "2021-12-19T21:51:53.512Z"
   },
   {
    "duration": 111,
    "start_time": "2021-12-19T21:52:58.882Z"
   },
   {
    "duration": 140,
    "start_time": "2021-12-19T21:53:04.884Z"
   },
   {
    "duration": 330,
    "start_time": "2021-12-19T21:59:22.760Z"
   },
   {
    "duration": 292,
    "start_time": "2021-12-19T22:00:02.886Z"
   },
   {
    "duration": 293,
    "start_time": "2021-12-19T22:00:35.436Z"
   },
   {
    "duration": 284,
    "start_time": "2021-12-19T22:03:01.716Z"
   },
   {
    "duration": 282,
    "start_time": "2021-12-19T22:03:23.674Z"
   },
   {
    "duration": 280,
    "start_time": "2021-12-19T22:03:44.111Z"
   },
   {
    "duration": 371,
    "start_time": "2021-12-19T22:04:14.033Z"
   },
   {
    "duration": 280,
    "start_time": "2021-12-19T22:04:18.687Z"
   },
   {
    "duration": 324,
    "start_time": "2021-12-19T22:05:01.360Z"
   },
   {
    "duration": 3,
    "start_time": "2021-12-19T22:05:36.185Z"
   },
   {
    "duration": 208,
    "start_time": "2021-12-19T22:05:36.190Z"
   },
   {
    "duration": 14,
    "start_time": "2021-12-19T22:05:36.400Z"
   },
   {
    "duration": 36,
    "start_time": "2021-12-19T22:05:36.425Z"
   },
   {
    "duration": 7,
    "start_time": "2021-12-19T22:05:36.464Z"
   },
   {
    "duration": 60,
    "start_time": "2021-12-19T22:05:36.473Z"
   },
   {
    "duration": 6,
    "start_time": "2021-12-19T22:05:36.537Z"
   },
   {
    "duration": 36,
    "start_time": "2021-12-19T22:05:36.545Z"
   },
   {
    "duration": 61,
    "start_time": "2021-12-19T22:05:36.584Z"
   },
   {
    "duration": 31,
    "start_time": "2021-12-19T22:05:36.647Z"
   },
   {
    "duration": 105,
    "start_time": "2021-12-19T22:05:36.681Z"
   },
   {
    "duration": 112,
    "start_time": "2021-12-19T22:05:36.789Z"
   },
   {
    "duration": 83,
    "start_time": "2021-12-19T22:05:36.903Z"
   },
   {
    "duration": 95,
    "start_time": "2021-12-19T22:05:36.988Z"
   },
   {
    "duration": 4,
    "start_time": "2021-12-19T22:05:37.085Z"
   },
   {
    "duration": 59,
    "start_time": "2021-12-19T22:05:37.092Z"
   },
   {
    "duration": 9,
    "start_time": "2021-12-19T22:05:37.154Z"
   },
   {
    "duration": 22,
    "start_time": "2021-12-19T22:05:37.165Z"
   },
   {
    "duration": 48,
    "start_time": "2021-12-19T22:05:37.194Z"
   },
   {
    "duration": 5,
    "start_time": "2021-12-19T22:05:37.246Z"
   },
   {
    "duration": 33,
    "start_time": "2021-12-19T22:05:37.253Z"
   },
   {
    "duration": 38,
    "start_time": "2021-12-19T22:05:37.289Z"
   },
   {
    "duration": 26,
    "start_time": "2021-12-19T22:05:37.330Z"
   },
   {
    "duration": 17,
    "start_time": "2021-12-19T22:05:37.358Z"
   },
   {
    "duration": 53,
    "start_time": "2021-12-19T22:05:37.377Z"
   },
   {
    "duration": 25,
    "start_time": "2021-12-19T22:05:37.432Z"
   },
   {
    "duration": 10,
    "start_time": "2021-12-19T22:05:37.460Z"
   },
   {
    "duration": 27,
    "start_time": "2021-12-19T22:05:37.472Z"
   },
   {
    "duration": 27,
    "start_time": "2021-12-19T22:05:37.526Z"
   },
   {
    "duration": 4,
    "start_time": "2021-12-19T22:05:37.556Z"
   },
   {
    "duration": 148,
    "start_time": "2021-12-19T22:05:37.563Z"
   },
   {
    "duration": 141,
    "start_time": "2021-12-19T22:05:37.713Z"
   },
   {
    "duration": 122,
    "start_time": "2021-12-19T22:05:37.856Z"
   },
   {
    "duration": 138,
    "start_time": "2021-12-19T22:05:37.981Z"
   },
   {
    "duration": 276,
    "start_time": "2021-12-19T22:06:08.463Z"
   },
   {
    "duration": 290,
    "start_time": "2021-12-19T22:06:37.505Z"
   },
   {
    "duration": 3,
    "start_time": "2021-12-19T22:06:43.190Z"
   },
   {
    "duration": 208,
    "start_time": "2021-12-19T22:06:43.196Z"
   },
   {
    "duration": 17,
    "start_time": "2021-12-19T22:06:43.407Z"
   },
   {
    "duration": 51,
    "start_time": "2021-12-19T22:06:43.426Z"
   },
   {
    "duration": 19,
    "start_time": "2021-12-19T22:06:43.480Z"
   },
   {
    "duration": 27,
    "start_time": "2021-12-19T22:06:43.502Z"
   },
   {
    "duration": 10,
    "start_time": "2021-12-19T22:06:43.532Z"
   },
   {
    "duration": 50,
    "start_time": "2021-12-19T22:06:43.545Z"
   },
   {
    "duration": 50,
    "start_time": "2021-12-19T22:06:43.599Z"
   },
   {
    "duration": 29,
    "start_time": "2021-12-19T22:06:43.652Z"
   },
   {
    "duration": 91,
    "start_time": "2021-12-19T22:06:43.683Z"
   },
   {
    "duration": 91,
    "start_time": "2021-12-19T22:06:43.776Z"
   },
   {
    "duration": 80,
    "start_time": "2021-12-19T22:06:43.870Z"
   },
   {
    "duration": 78,
    "start_time": "2021-12-19T22:06:43.952Z"
   },
   {
    "duration": 7,
    "start_time": "2021-12-19T22:06:44.035Z"
   },
   {
    "duration": 36,
    "start_time": "2021-12-19T22:06:44.044Z"
   },
   {
    "duration": 8,
    "start_time": "2021-12-19T22:06:44.082Z"
   },
   {
    "duration": 41,
    "start_time": "2021-12-19T22:06:44.092Z"
   },
   {
    "duration": 14,
    "start_time": "2021-12-19T22:06:44.135Z"
   },
   {
    "duration": 5,
    "start_time": "2021-12-19T22:06:44.151Z"
   },
   {
    "duration": 26,
    "start_time": "2021-12-19T22:06:44.158Z"
   },
   {
    "duration": 44,
    "start_time": "2021-12-19T22:06:44.186Z"
   },
   {
    "duration": 21,
    "start_time": "2021-12-19T22:06:44.232Z"
   },
   {
    "duration": 16,
    "start_time": "2021-12-19T22:06:44.256Z"
   },
   {
    "duration": 48,
    "start_time": "2021-12-19T22:06:44.275Z"
   },
   {
    "duration": 22,
    "start_time": "2021-12-19T22:06:44.326Z"
   },
   {
    "duration": 11,
    "start_time": "2021-12-19T22:06:44.352Z"
   },
   {
    "duration": 26,
    "start_time": "2021-12-19T22:06:44.365Z"
   },
   {
    "duration": 49,
    "start_time": "2021-12-19T22:06:44.394Z"
   },
   {
    "duration": 7,
    "start_time": "2021-12-19T22:06:44.447Z"
   },
   {
    "duration": 143,
    "start_time": "2021-12-19T22:06:44.456Z"
   },
   {
    "duration": 149,
    "start_time": "2021-12-19T22:06:44.601Z"
   },
   {
    "duration": 116,
    "start_time": "2021-12-19T22:06:44.752Z"
   },
   {
    "duration": 150,
    "start_time": "2021-12-19T22:06:44.870Z"
   },
   {
    "duration": 274,
    "start_time": "2021-12-19T22:06:45.024Z"
   },
   {
    "duration": 400,
    "start_time": "2021-12-19T22:07:20.521Z"
   },
   {
    "duration": 367,
    "start_time": "2021-12-19T22:07:44.464Z"
   },
   {
    "duration": 279,
    "start_time": "2021-12-19T22:08:00.166Z"
   },
   {
    "duration": 275,
    "start_time": "2021-12-19T22:08:05.833Z"
   },
   {
    "duration": 286,
    "start_time": "2021-12-19T22:09:48.100Z"
   },
   {
    "duration": 304,
    "start_time": "2021-12-19T22:09:51.872Z"
   },
   {
    "duration": 23,
    "start_time": "2021-12-19T22:10:13.901Z"
   },
   {
    "duration": 269,
    "start_time": "2021-12-19T22:10:59.404Z"
   },
   {
    "duration": 275,
    "start_time": "2021-12-19T22:11:16.716Z"
   },
   {
    "duration": 330,
    "start_time": "2021-12-19T22:11:48.459Z"
   },
   {
    "duration": 311,
    "start_time": "2021-12-19T22:12:00.972Z"
   },
   {
    "duration": 297,
    "start_time": "2021-12-19T22:12:08.615Z"
   },
   {
    "duration": 325,
    "start_time": "2021-12-19T22:12:18.799Z"
   },
   {
    "duration": 393,
    "start_time": "2021-12-19T22:12:37.883Z"
   },
   {
    "duration": 29,
    "start_time": "2021-12-19T22:13:06.591Z"
   },
   {
    "duration": 13,
    "start_time": "2021-12-19T22:13:10.855Z"
   },
   {
    "duration": 278,
    "start_time": "2021-12-19T22:13:44.223Z"
   },
   {
    "duration": 7,
    "start_time": "2021-12-19T22:13:45.856Z"
   },
   {
    "duration": 9,
    "start_time": "2021-12-19T22:14:21.736Z"
   },
   {
    "duration": 6,
    "start_time": "2021-12-19T22:14:23.475Z"
   },
   {
    "duration": 100,
    "start_time": "2021-12-19T22:14:50.512Z"
   },
   {
    "duration": 351,
    "start_time": "2021-12-19T22:15:09.283Z"
   },
   {
    "duration": 372,
    "start_time": "2021-12-19T22:15:22.531Z"
   },
   {
    "duration": 182,
    "start_time": "2021-12-19T22:15:36.992Z"
   },
   {
    "duration": 632,
    "start_time": "2021-12-20T18:19:18.006Z"
   },
   {
    "duration": 151,
    "start_time": "2021-12-20T18:19:18.640Z"
   },
   {
    "duration": 17,
    "start_time": "2021-12-20T18:19:18.794Z"
   },
   {
    "duration": 25,
    "start_time": "2021-12-20T18:19:18.814Z"
   },
   {
    "duration": 25,
    "start_time": "2021-12-20T18:19:18.841Z"
   },
   {
    "duration": 29,
    "start_time": "2021-12-20T18:19:18.868Z"
   },
   {
    "duration": 7,
    "start_time": "2021-12-20T18:19:18.899Z"
   },
   {
    "duration": 25,
    "start_time": "2021-12-20T18:19:18.908Z"
   },
   {
    "duration": 54,
    "start_time": "2021-12-20T18:19:18.936Z"
   },
   {
    "duration": 24,
    "start_time": "2021-12-20T18:19:18.993Z"
   },
   {
    "duration": 79,
    "start_time": "2021-12-20T18:19:19.019Z"
   },
   {
    "duration": 123,
    "start_time": "2021-12-20T18:19:19.100Z"
   },
   {
    "duration": 131,
    "start_time": "2021-12-20T18:19:19.234Z"
   },
   {
    "duration": 87,
    "start_time": "2021-12-20T18:19:19.368Z"
   },
   {
    "duration": 54,
    "start_time": "2021-12-20T18:19:19.461Z"
   },
   {
    "duration": 126,
    "start_time": "2021-12-20T18:19:19.517Z"
   },
   {
    "duration": 11,
    "start_time": "2021-12-20T18:19:19.645Z"
   },
   {
    "duration": 96,
    "start_time": "2021-12-20T18:19:19.658Z"
   },
   {
    "duration": 55,
    "start_time": "2021-12-20T18:19:19.756Z"
   },
   {
    "duration": 4,
    "start_time": "2021-12-20T18:19:19.813Z"
   },
   {
    "duration": 28,
    "start_time": "2021-12-20T18:19:19.820Z"
   },
   {
    "duration": 15,
    "start_time": "2021-12-20T18:19:19.850Z"
   },
   {
    "duration": 24,
    "start_time": "2021-12-20T18:19:19.868Z"
   },
   {
    "duration": 12,
    "start_time": "2021-12-20T18:19:19.894Z"
   },
   {
    "duration": 16,
    "start_time": "2021-12-20T18:19:19.908Z"
   },
   {
    "duration": 13,
    "start_time": "2021-12-20T18:19:19.925Z"
   },
   {
    "duration": 19,
    "start_time": "2021-12-20T18:19:19.942Z"
   },
   {
    "duration": 29,
    "start_time": "2021-12-20T18:19:19.964Z"
   },
   {
    "duration": 12,
    "start_time": "2021-12-20T18:19:19.994Z"
   },
   {
    "duration": 10,
    "start_time": "2021-12-20T18:19:20.008Z"
   },
   {
    "duration": 109,
    "start_time": "2021-12-20T18:19:20.020Z"
   },
   {
    "duration": 101,
    "start_time": "2021-12-20T18:19:20.131Z"
   },
   {
    "duration": 95,
    "start_time": "2021-12-20T18:19:20.234Z"
   },
   {
    "duration": 107,
    "start_time": "2021-12-20T18:19:20.331Z"
   },
   {
    "duration": 7,
    "start_time": "2021-12-20T18:19:20.440Z"
   },
   {
    "duration": 13,
    "start_time": "2021-12-20T18:19:20.449Z"
   },
   {
    "duration": 96,
    "start_time": "2021-12-20T18:19:20.464Z"
   },
   {
    "duration": -410,
    "start_time": "2021-12-20T18:19:20.973Z"
   },
   {
    "duration": 309,
    "start_time": "2021-12-20T18:52:19.926Z"
   },
   {
    "duration": 663,
    "start_time": "2021-12-20T18:53:51.382Z"
   },
   {
    "duration": 159,
    "start_time": "2021-12-20T18:53:52.048Z"
   },
   {
    "duration": 17,
    "start_time": "2021-12-20T18:53:52.209Z"
   },
   {
    "duration": 47,
    "start_time": "2021-12-20T18:53:52.228Z"
   },
   {
    "duration": 12,
    "start_time": "2021-12-20T18:53:52.277Z"
   },
   {
    "duration": 45,
    "start_time": "2021-12-20T18:53:52.290Z"
   },
   {
    "duration": 36,
    "start_time": "2021-12-20T18:53:52.337Z"
   },
   {
    "duration": 50,
    "start_time": "2021-12-20T18:53:52.376Z"
   },
   {
    "duration": 45,
    "start_time": "2021-12-20T18:53:52.428Z"
   },
   {
    "duration": 24,
    "start_time": "2021-12-20T18:53:52.475Z"
   },
   {
    "duration": 74,
    "start_time": "2021-12-20T18:53:52.501Z"
   },
   {
    "duration": 68,
    "start_time": "2021-12-20T18:53:52.576Z"
   },
   {
    "duration": 64,
    "start_time": "2021-12-20T18:53:52.645Z"
   },
   {
    "duration": 57,
    "start_time": "2021-12-20T18:53:52.711Z"
   },
   {
    "duration": 21,
    "start_time": "2021-12-20T18:53:52.769Z"
   },
   {
    "duration": 111,
    "start_time": "2021-12-20T18:53:52.792Z"
   },
   {
    "duration": 22,
    "start_time": "2021-12-20T18:53:52.904Z"
   },
   {
    "duration": 38,
    "start_time": "2021-12-20T18:53:52.927Z"
   },
   {
    "duration": 32,
    "start_time": "2021-12-20T18:53:52.966Z"
   },
   {
    "duration": 28,
    "start_time": "2021-12-20T18:53:52.999Z"
   },
   {
    "duration": 61,
    "start_time": "2021-12-20T18:53:53.028Z"
   },
   {
    "duration": 35,
    "start_time": "2021-12-20T18:53:53.091Z"
   },
   {
    "duration": 42,
    "start_time": "2021-12-20T18:53:53.129Z"
   },
   {
    "duration": 25,
    "start_time": "2021-12-20T18:53:53.173Z"
   },
   {
    "duration": 35,
    "start_time": "2021-12-20T18:53:53.200Z"
   },
   {
    "duration": 37,
    "start_time": "2021-12-20T18:53:53.237Z"
   },
   {
    "duration": 21,
    "start_time": "2021-12-20T18:53:53.276Z"
   },
   {
    "duration": 40,
    "start_time": "2021-12-20T18:53:53.299Z"
   },
   {
    "duration": 26,
    "start_time": "2021-12-20T18:53:53.341Z"
   },
   {
    "duration": 29,
    "start_time": "2021-12-20T18:53:53.369Z"
   },
   {
    "duration": 108,
    "start_time": "2021-12-20T18:53:53.400Z"
   },
   {
    "duration": 91,
    "start_time": "2021-12-20T18:53:53.510Z"
   },
   {
    "duration": 87,
    "start_time": "2021-12-20T18:53:53.603Z"
   },
   {
    "duration": 95,
    "start_time": "2021-12-20T18:53:53.692Z"
   },
   {
    "duration": 9,
    "start_time": "2021-12-20T18:53:53.790Z"
   },
   {
    "duration": 44,
    "start_time": "2021-12-20T18:53:53.801Z"
   },
   {
    "duration": 142,
    "start_time": "2021-12-20T18:53:53.847Z"
   },
   {
    "duration": -416,
    "start_time": "2021-12-20T18:53:54.407Z"
   },
   {
    "duration": 213,
    "start_time": "2021-12-21T15:09:10.789Z"
   },
   {
    "duration": 198,
    "start_time": "2021-12-21T15:09:36.179Z"
   },
   {
    "duration": 615,
    "start_time": "2021-12-21T15:09:45.167Z"
   },
   {
    "duration": 190,
    "start_time": "2021-12-21T15:09:45.784Z"
   },
   {
    "duration": 17,
    "start_time": "2021-12-21T15:09:45.976Z"
   },
   {
    "duration": 32,
    "start_time": "2021-12-21T15:09:45.995Z"
   },
   {
    "duration": 13,
    "start_time": "2021-12-21T15:09:46.029Z"
   },
   {
    "duration": 39,
    "start_time": "2021-12-21T15:09:46.044Z"
   },
   {
    "duration": 20,
    "start_time": "2021-12-21T15:09:46.085Z"
   },
   {
    "duration": 34,
    "start_time": "2021-12-21T15:09:46.107Z"
   },
   {
    "duration": 33,
    "start_time": "2021-12-21T15:09:46.143Z"
   },
   {
    "duration": 24,
    "start_time": "2021-12-21T15:09:46.178Z"
   },
   {
    "duration": 60,
    "start_time": "2021-12-21T15:09:46.204Z"
   },
   {
    "duration": 83,
    "start_time": "2021-12-21T15:09:46.266Z"
   },
   {
    "duration": 64,
    "start_time": "2021-12-21T15:09:46.351Z"
   },
   {
    "duration": 52,
    "start_time": "2021-12-21T15:09:46.417Z"
   },
   {
    "duration": 3,
    "start_time": "2021-12-21T15:09:46.472Z"
   },
   {
    "duration": 24,
    "start_time": "2021-12-21T15:09:46.491Z"
   },
   {
    "duration": 6,
    "start_time": "2021-12-21T15:09:46.516Z"
   },
   {
    "duration": 14,
    "start_time": "2021-12-21T15:09:46.524Z"
   },
   {
    "duration": 10,
    "start_time": "2021-12-21T15:09:46.540Z"
   },
   {
    "duration": 4,
    "start_time": "2021-12-21T15:09:46.552Z"
   },
   {
    "duration": 17,
    "start_time": "2021-12-21T15:09:46.592Z"
   },
   {
    "duration": 14,
    "start_time": "2021-12-21T15:09:46.611Z"
   },
   {
    "duration": 14,
    "start_time": "2021-12-21T15:09:46.628Z"
   },
   {
    "duration": 14,
    "start_time": "2021-12-21T15:09:46.643Z"
   },
   {
    "duration": 49,
    "start_time": "2021-12-21T15:09:46.658Z"
   },
   {
    "duration": 13,
    "start_time": "2021-12-21T15:09:46.709Z"
   },
   {
    "duration": 6,
    "start_time": "2021-12-21T15:09:46.724Z"
   },
   {
    "duration": 16,
    "start_time": "2021-12-21T15:09:46.732Z"
   },
   {
    "duration": 42,
    "start_time": "2021-12-21T15:09:46.750Z"
   },
   {
    "duration": 15,
    "start_time": "2021-12-21T15:14:25.361Z"
   },
   {
    "duration": 6,
    "start_time": "2021-12-21T15:14:48.210Z"
   },
   {
    "duration": 7,
    "start_time": "2021-12-21T15:14:54.253Z"
   },
   {
    "duration": 5,
    "start_time": "2021-12-21T15:14:58.498Z"
   },
   {
    "duration": 31,
    "start_time": "2021-12-21T15:15:21.052Z"
   },
   {
    "duration": 6,
    "start_time": "2021-12-21T15:15:52.308Z"
   },
   {
    "duration": 29,
    "start_time": "2021-12-21T15:16:38.777Z"
   },
   {
    "duration": 216,
    "start_time": "2021-12-22T20:25:40.974Z"
   },
   {
    "duration": 585,
    "start_time": "2021-12-22T20:25:46.554Z"
   },
   {
    "duration": 150,
    "start_time": "2021-12-22T20:25:47.141Z"
   },
   {
    "duration": 23,
    "start_time": "2021-12-22T20:25:47.294Z"
   },
   {
    "duration": 26,
    "start_time": "2021-12-22T20:25:47.319Z"
   },
   {
    "duration": 4,
    "start_time": "2021-12-22T20:25:47.347Z"
   },
   {
    "duration": 49,
    "start_time": "2021-12-22T20:25:47.353Z"
   },
   {
    "duration": 6,
    "start_time": "2021-12-22T20:25:47.405Z"
   },
   {
    "duration": 5180,
    "start_time": "2021-12-22T20:25:47.414Z"
   },
   {
    "duration": 38,
    "start_time": "2021-12-22T20:26:13.048Z"
   },
   {
    "duration": 32,
    "start_time": "2021-12-22T20:26:19.220Z"
   },
   {
    "duration": 51,
    "start_time": "2021-12-22T20:27:10.799Z"
   },
   {
    "duration": 59,
    "start_time": "2021-12-22T20:29:02.634Z"
   },
   {
    "duration": 33,
    "start_time": "2021-12-22T20:29:09.247Z"
   },
   {
    "duration": 31,
    "start_time": "2021-12-22T20:29:14.187Z"
   },
   {
    "duration": 22,
    "start_time": "2021-12-22T20:29:21.437Z"
   },
   {
    "duration": 29,
    "start_time": "2021-12-22T20:29:36.833Z"
   },
   {
    "duration": 404,
    "start_time": "2021-12-22T20:29:50.378Z"
   },
   {
    "duration": 203,
    "start_time": "2021-12-22T20:29:57.098Z"
   },
   {
    "duration": 28,
    "start_time": "2021-12-22T20:32:40.898Z"
   },
   {
    "duration": 27,
    "start_time": "2021-12-22T20:32:56.481Z"
   },
   {
    "duration": 32,
    "start_time": "2021-12-22T20:32:59.082Z"
   },
   {
    "duration": 2,
    "start_time": "2021-12-22T20:33:03.241Z"
   },
   {
    "duration": 155,
    "start_time": "2021-12-22T20:33:03.245Z"
   },
   {
    "duration": 14,
    "start_time": "2021-12-22T20:33:03.402Z"
   },
   {
    "duration": 27,
    "start_time": "2021-12-22T20:33:03.418Z"
   },
   {
    "duration": 4,
    "start_time": "2021-12-22T20:33:03.447Z"
   },
   {
    "duration": 48,
    "start_time": "2021-12-22T20:33:03.452Z"
   },
   {
    "duration": 5,
    "start_time": "2021-12-22T20:33:03.502Z"
   },
   {
    "duration": 24,
    "start_time": "2021-12-22T20:33:03.509Z"
   },
   {
    "duration": 27,
    "start_time": "2021-12-22T20:33:03.535Z"
   },
   {
    "duration": 3,
    "start_time": "2021-12-22T20:33:19.605Z"
   },
   {
    "duration": 145,
    "start_time": "2021-12-22T20:33:19.611Z"
   },
   {
    "duration": 34,
    "start_time": "2021-12-22T20:33:19.758Z"
   },
   {
    "duration": 31,
    "start_time": "2021-12-22T20:33:19.796Z"
   },
   {
    "duration": 9,
    "start_time": "2021-12-22T20:33:19.829Z"
   },
   {
    "duration": 24,
    "start_time": "2021-12-22T20:33:19.840Z"
   },
   {
    "duration": 4,
    "start_time": "2021-12-22T20:33:19.866Z"
   },
   {
    "duration": 38,
    "start_time": "2021-12-22T20:33:19.872Z"
   },
   {
    "duration": 27,
    "start_time": "2021-12-22T20:33:19.912Z"
   },
   {
    "duration": 83,
    "start_time": "2021-12-22T20:33:19.941Z"
   },
   {
    "duration": 84,
    "start_time": "2021-12-22T20:33:20.025Z"
   },
   {
    "duration": 50,
    "start_time": "2021-12-22T20:33:20.111Z"
   },
   {
    "duration": 73,
    "start_time": "2021-12-22T20:33:20.163Z"
   },
   {
    "duration": 3,
    "start_time": "2021-12-22T20:33:20.238Z"
   },
   {
    "duration": 23,
    "start_time": "2021-12-22T20:33:20.243Z"
   },
   {
    "duration": 9,
    "start_time": "2021-12-22T20:33:20.267Z"
   },
   {
    "duration": 25,
    "start_time": "2021-12-22T20:33:20.277Z"
   },
   {
    "duration": 22,
    "start_time": "2021-12-22T20:33:20.304Z"
   },
   {
    "duration": 3,
    "start_time": "2021-12-22T20:33:20.330Z"
   },
   {
    "duration": 21,
    "start_time": "2021-12-22T20:33:20.336Z"
   },
   {
    "duration": 45,
    "start_time": "2021-12-22T20:33:20.359Z"
   },
   {
    "duration": 25,
    "start_time": "2021-12-22T20:33:20.407Z"
   },
   {
    "duration": 14,
    "start_time": "2021-12-22T20:33:20.434Z"
   },
   {
    "duration": 22,
    "start_time": "2021-12-22T20:33:20.450Z"
   },
   {
    "duration": 31,
    "start_time": "2021-12-22T20:33:20.474Z"
   },
   {
    "duration": 15,
    "start_time": "2021-12-22T20:33:20.510Z"
   },
   {
    "duration": 25,
    "start_time": "2021-12-22T20:33:20.527Z"
   },
   {
    "duration": 14,
    "start_time": "2021-12-22T20:33:20.554Z"
   },
   {
    "duration": 22,
    "start_time": "2021-12-22T20:33:20.570Z"
   },
   {
    "duration": 115,
    "start_time": "2021-12-22T20:33:20.595Z"
   },
   {
    "duration": 107,
    "start_time": "2021-12-22T20:33:20.713Z"
   },
   {
    "duration": 90,
    "start_time": "2021-12-22T20:33:20.822Z"
   },
   {
    "duration": 106,
    "start_time": "2021-12-22T20:33:20.914Z"
   },
   {
    "duration": 8,
    "start_time": "2021-12-22T20:33:21.022Z"
   },
   {
    "duration": 5,
    "start_time": "2021-12-22T20:33:21.031Z"
   },
   {
    "duration": 6,
    "start_time": "2021-12-22T20:33:26.656Z"
   },
   {
    "duration": 6,
    "start_time": "2021-12-22T20:33:29.500Z"
   },
   {
    "duration": 790,
    "start_time": "2022-01-08T10:46:08.418Z"
   },
   {
    "duration": 187,
    "start_time": "2022-01-08T10:46:09.211Z"
   },
   {
    "duration": 26,
    "start_time": "2022-01-08T10:46:09.401Z"
   },
   {
    "duration": 34,
    "start_time": "2022-01-08T10:46:09.430Z"
   },
   {
    "duration": 5,
    "start_time": "2022-01-08T10:46:09.467Z"
   },
   {
    "duration": 63,
    "start_time": "2022-01-08T10:46:09.474Z"
   },
   {
    "duration": 5,
    "start_time": "2022-01-08T10:46:09.540Z"
   },
   {
    "duration": 24,
    "start_time": "2022-01-08T10:46:09.549Z"
   },
   {
    "duration": 50,
    "start_time": "2022-01-08T10:46:09.576Z"
   },
   {
    "duration": 102,
    "start_time": "2022-01-08T10:46:09.628Z"
   },
   {
    "duration": 114,
    "start_time": "2022-01-08T10:46:09.733Z"
   },
   {
    "duration": 85,
    "start_time": "2022-01-08T10:46:09.849Z"
   },
   {
    "duration": 87,
    "start_time": "2022-01-08T10:46:09.936Z"
   },
   {
    "duration": 4,
    "start_time": "2022-01-08T10:46:10.025Z"
   },
   {
    "duration": 23,
    "start_time": "2022-01-08T10:46:10.031Z"
   },
   {
    "duration": 9,
    "start_time": "2022-01-08T10:46:10.056Z"
   },
   {
    "duration": 50,
    "start_time": "2022-01-08T10:46:10.067Z"
   },
   {
    "duration": 14,
    "start_time": "2022-01-08T10:46:10.119Z"
   },
   {
    "duration": 5,
    "start_time": "2022-01-08T10:46:10.135Z"
   },
   {
    "duration": 34,
    "start_time": "2022-01-08T10:46:10.142Z"
   },
   {
    "duration": 53,
    "start_time": "2022-01-08T10:46:10.179Z"
   },
   {
    "duration": 26,
    "start_time": "2022-01-08T10:46:10.236Z"
   },
   {
    "duration": 49,
    "start_time": "2022-01-08T10:46:10.269Z"
   },
   {
    "duration": 21,
    "start_time": "2022-01-08T10:46:10.321Z"
   },
   {
    "duration": 26,
    "start_time": "2022-01-08T10:46:10.344Z"
   },
   {
    "duration": 43,
    "start_time": "2022-01-08T10:46:10.373Z"
   },
   {
    "duration": 30,
    "start_time": "2022-01-08T10:46:10.419Z"
   },
   {
    "duration": 25,
    "start_time": "2022-01-08T10:46:10.452Z"
   },
   {
    "duration": 38,
    "start_time": "2022-01-08T10:46:10.480Z"
   },
   {
    "duration": 142,
    "start_time": "2022-01-08T10:46:10.521Z"
   },
   {
    "duration": 141,
    "start_time": "2022-01-08T10:46:10.665Z"
   },
   {
    "duration": 130,
    "start_time": "2022-01-08T10:46:10.808Z"
   },
   {
    "duration": 146,
    "start_time": "2022-01-08T10:46:10.941Z"
   },
   {
    "duration": 9,
    "start_time": "2022-01-08T10:46:11.090Z"
   },
   {
    "duration": 18,
    "start_time": "2022-01-08T10:46:11.102Z"
   },
   {
    "duration": 10,
    "start_time": "2022-01-08T10:46:11.122Z"
   },
   {
    "duration": 7,
    "start_time": "2022-01-08T10:46:11.135Z"
   }
  ],
  "colab": {
   "collapsed_sections": [
    "E0vqbgi9ay0H",
    "VUC88oWjTJw2"
   ],
   "name": "yandex_music_project_2021.2.ipynb",
   "provenance": []
  },
  "kernelspec": {
   "display_name": "Python 3 (ipykernel)",
   "language": "python",
   "name": "python3"
  },
  "language_info": {
   "codemirror_mode": {
    "name": "ipython",
    "version": 3
   },
   "file_extension": ".py",
   "mimetype": "text/x-python",
   "name": "python",
   "nbconvert_exporter": "python",
   "pygments_lexer": "ipython3",
   "version": "3.9.7"
  },
  "toc": {
   "base_numbering": 1,
   "nav_menu": {},
   "number_sections": true,
   "sideBar": true,
   "skip_h1_title": true,
   "title_cell": "Table of Contents",
   "title_sidebar": "Contents",
   "toc_cell": false,
   "toc_position": {
    "height": "calc(100% - 180px)",
    "left": "10px",
    "top": "150px",
    "width": "238.391px"
   },
   "toc_section_display": true,
   "toc_window_display": true
  }
 },
 "nbformat": 4,
 "nbformat_minor": 1
}
