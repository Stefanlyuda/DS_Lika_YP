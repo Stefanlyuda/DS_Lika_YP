{
 "cells": [
  {
   "cell_type": "markdown",
   "id": "df23a8f8",
   "metadata": {},
   "source": [
    "### Проект для «Викишоп». Машинное обучение для текстов"
   ]
  },
  {
   "cell_type": "markdown",
   "id": "0beed913",
   "metadata": {},
   "source": [
    "Интернет-магазин «Викишоп» запускает новый сервис. Теперь пользователи могут редактировать и дополнять описания товаров, как в вики-сообществах. То есть клиенты предлагают свои правки и комментируют изменения других. Магазину нужен инструмент, который будет искать токсичные комментарии и отправлять их на модерацию.\n"
   ]
  },
  {
   "cell_type": "markdown",
   "id": "76ba05b7",
   "metadata": {},
   "source": [
    "- Обучите модель классифицировать комментарии на позитивные и негативные. В вашем распоряжении набор данных с разметкой о токсичности правок.\n",
    "- Постройте модель со значением метрики качества F1 не меньше 0.75."
   ]
  },
  {
   "cell_type": "markdown",
   "id": "5230f658",
   "metadata": {},
   "source": [
    "### Импорт библиотек"
   ]
  },
  {
   "cell_type": "code",
   "execution_count": 1,
   "id": "54869218",
   "metadata": {},
   "outputs": [
    {
     "name": "stdout",
     "output_type": "stream",
     "text": [
      "Requirement already satisfied: nltk in /Users/l.stefanenko/opt/anaconda3/lib/python3.9/site-packages (3.6.5)\n",
      "Requirement already satisfied: click in /Users/l.stefanenko/opt/anaconda3/lib/python3.9/site-packages (from nltk) (8.0.3)\n",
      "Requirement already satisfied: joblib in /Users/l.stefanenko/opt/anaconda3/lib/python3.9/site-packages (from nltk) (1.1.0)\n",
      "Requirement already satisfied: regex>=2021.8.3 in /Users/l.stefanenko/opt/anaconda3/lib/python3.9/site-packages (from nltk) (2021.8.3)\n",
      "Requirement already satisfied: tqdm in /Users/l.stefanenko/opt/anaconda3/lib/python3.9/site-packages (from nltk) (4.62.3)\n",
      "\u001b[33mWARNING: There was an error checking the latest version of pip.\u001b[0m\u001b[33m\n",
      "\u001b[0m"
     ]
    }
   ],
   "source": [
    "!pip install nltk"
   ]
  },
  {
   "cell_type": "code",
   "execution_count": 2,
   "id": "f05d1beb",
   "metadata": {},
   "outputs": [
    {
     "name": "stdout",
     "output_type": "stream",
     "text": [
      "Requirement already satisfied: pymystem3 in /Users/l.stefanenko/opt/anaconda3/lib/python3.9/site-packages (0.2.0)\n",
      "Requirement already satisfied: requests in /Users/l.stefanenko/opt/anaconda3/lib/python3.9/site-packages (from pymystem3) (2.26.0)\n",
      "Requirement already satisfied: charset-normalizer~=2.0.0 in /Users/l.stefanenko/opt/anaconda3/lib/python3.9/site-packages (from requests->pymystem3) (2.0.4)\n",
      "Requirement already satisfied: urllib3<1.27,>=1.21.1 in /Users/l.stefanenko/opt/anaconda3/lib/python3.9/site-packages (from requests->pymystem3) (1.26.7)\n",
      "Requirement already satisfied: certifi>=2017.4.17 in /Users/l.stefanenko/opt/anaconda3/lib/python3.9/site-packages (from requests->pymystem3) (2021.10.8)\n",
      "Requirement already satisfied: idna<4,>=2.5 in /Users/l.stefanenko/opt/anaconda3/lib/python3.9/site-packages (from requests->pymystem3) (3.2)\n",
      "\u001b[33mWARNING: There was an error checking the latest version of pip.\u001b[0m\u001b[33m\n",
      "\u001b[0m"
     ]
    }
   ],
   "source": [
    "!pip install pymystem3"
   ]
  },
  {
   "cell_type": "code",
   "execution_count": 3,
   "id": "15cd647d",
   "metadata": {},
   "outputs": [],
   "source": [
    "import pandas as pd\n",
    "import nltk\n",
    "import numpy as np\n",
    "from nltk.corpus import stopwords as stopwords\n",
    "\n",
    "from sklearn.linear_model import LogisticRegression\n",
    "\n",
    "from sklearn.metrics import f1_score\n",
    "from sklearn.model_selection import train_test_split,GridSearchCV\n",
    "from sklearn.tree import DecisionTreeClassifier\n",
    "\n",
    "from sklearn.feature_extraction.text import TfidfVectorizer\n",
    "from pymystem3 import Mystem\n",
    "import re\n",
    "\n",
    "from numpy.random import RandomState\n",
    "rdm = RandomState(1234)\n",
    "\n",
    "import matplotlib.pyplot as plt\n",
    "import seaborn as sns"
   ]
  },
  {
   "cell_type": "markdown",
   "id": "eb6e86a2",
   "metadata": {},
   "source": [
    "### Чтение и анализ датасета"
   ]
  },
  {
   "cell_type": "code",
   "execution_count": 4,
   "id": "1245a0a7",
   "metadata": {},
   "outputs": [],
   "source": [
    "data = pd.read_csv('/Users/l.stefanenko/Desktop/Yandex/Github/№12 Тексты/toxic_comments (1).csv')"
   ]
  },
  {
   "cell_type": "code",
   "execution_count": 5,
   "id": "8107e3f1",
   "metadata": {},
   "outputs": [
    {
     "data": {
      "text/html": [
       "<div>\n",
       "<style scoped>\n",
       "    .dataframe tbody tr th:only-of-type {\n",
       "        vertical-align: middle;\n",
       "    }\n",
       "\n",
       "    .dataframe tbody tr th {\n",
       "        vertical-align: top;\n",
       "    }\n",
       "\n",
       "    .dataframe thead th {\n",
       "        text-align: right;\n",
       "    }\n",
       "</style>\n",
       "<table border=\"1\" class=\"dataframe\">\n",
       "  <thead>\n",
       "    <tr style=\"text-align: right;\">\n",
       "      <th></th>\n",
       "      <th>Unnamed: 0</th>\n",
       "      <th>text</th>\n",
       "      <th>toxic</th>\n",
       "    </tr>\n",
       "  </thead>\n",
       "  <tbody>\n",
       "    <tr>\n",
       "      <th>71272</th>\n",
       "      <td>71342</td>\n",
       "      <td>\"\\nPro Moldovan?? What in hell!!! do I have to...</td>\n",
       "      <td>1</td>\n",
       "    </tr>\n",
       "    <tr>\n",
       "      <th>144433</th>\n",
       "      <td>144589</td>\n",
       "      <td>What the fuck is your problem?</td>\n",
       "      <td>1</td>\n",
       "    </tr>\n",
       "    <tr>\n",
       "      <th>105603</th>\n",
       "      <td>105700</td>\n",
       "      <td>Birmingham \\n\\nHi, I noticed your comment at t...</td>\n",
       "      <td>0</td>\n",
       "    </tr>\n",
       "    <tr>\n",
       "      <th>46889</th>\n",
       "      <td>46944</td>\n",
       "      <td>There is Postini, Message Labs, Microsoft Exch...</td>\n",
       "      <td>0</td>\n",
       "    </tr>\n",
       "    <tr>\n",
       "      <th>22174</th>\n",
       "      <td>22194</td>\n",
       "      <td>\":Ah, well if we're mentioning television show...</td>\n",
       "      <td>0</td>\n",
       "    </tr>\n",
       "  </tbody>\n",
       "</table>\n",
       "</div>"
      ],
      "text/plain": [
       "        Unnamed: 0                                               text  toxic\n",
       "71272        71342  \"\\nPro Moldovan?? What in hell!!! do I have to...      1\n",
       "144433      144589                     What the fuck is your problem?      1\n",
       "105603      105700  Birmingham \\n\\nHi, I noticed your comment at t...      0\n",
       "46889        46944  There is Postini, Message Labs, Microsoft Exch...      0\n",
       "22174        22194  \":Ah, well if we're mentioning television show...      0"
      ]
     },
     "execution_count": 5,
     "metadata": {},
     "output_type": "execute_result"
    }
   ],
   "source": [
    "data.sample(5)"
   ]
  },
  {
   "cell_type": "code",
   "execution_count": 6,
   "id": "7a51b946",
   "metadata": {},
   "outputs": [
    {
     "name": "stdout",
     "output_type": "stream",
     "text": [
      "<class 'pandas.core.frame.DataFrame'>\n",
      "RangeIndex: 159292 entries, 0 to 159291\n",
      "Data columns (total 3 columns):\n",
      " #   Column      Non-Null Count   Dtype \n",
      "---  ------      --------------   ----- \n",
      " 0   Unnamed: 0  159292 non-null  int64 \n",
      " 1   text        159292 non-null  object\n",
      " 2   toxic       159292 non-null  int64 \n",
      "dtypes: int64(2), object(1)\n",
      "memory usage: 3.6+ MB\n"
     ]
    }
   ],
   "source": [
    "data.info()"
   ]
  },
  {
   "cell_type": "code",
   "execution_count": 7,
   "id": "ade8eb14",
   "metadata": {},
   "outputs": [
    {
     "data": {
      "text/plain": [
       "0    143106\n",
       "1     16186\n",
       "Name: toxic, dtype: int64"
      ]
     },
     "execution_count": 7,
     "metadata": {},
     "output_type": "execute_result"
    }
   ],
   "source": [
    "data['toxic'].value_counts()"
   ]
  },
  {
   "cell_type": "code",
   "execution_count": 8,
   "id": "37a3141f",
   "metadata": {},
   "outputs": [
    {
     "data": {
      "image/png": "[encoded data removed]",
      "text/plain": [
       "<Figure size 432x288 with 1 Axes>"
      ]
     },
     "metadata": {
      "needs_background": "light"
     },
     "output_type": "display_data"
    }
   ],
   "source": [
    "data['toxic'].value_counts().plot(kind='bar', label='toxic')\n",
    "plt.legend()\n",
    "plt.title('Распределение токсичных комментариев');"
   ]
  },
  {
   "cell_type": "markdown",
   "id": "e0f65c90",
   "metadata": {},
   "source": [
    "## Предобработка данных"
   ]
  },
  {
   "cell_type": "markdown",
   "id": "4eed1140",
   "metadata": {},
   "source": [
    "### Приведение  к нижнему регистру"
   ]
  },
  {
   "cell_type": "markdown",
   "id": "77405395",
   "metadata": {},
   "source": [
    "### Удаление лишних пробелов и работа с регулярными выражениями (удаление ненужных для анализа символов)"
   ]
  },
  {
   "cell_type": "code",
   "execution_count": 9,
   "id": "51e6dabf",
   "metadata": {},
   "outputs": [
    {
     "name": "stdout",
     "output_type": "stream",
     "text": [
      "Исходный текст: 0    Explanation\\nWhy the edits made under my usern...\n",
      "1    D'aww! He matches this background colour I'm s...\n",
      "2    Hey man, I'm really not trying to edit war. It...\n",
      "3    \"\\nMore\\nI can't make any real suggestions on ...\n",
      "4    You, sir, are my hero. Any chance you remember...\n",
      "Name: text, dtype: object\n"
     ]
    }
   ],
   "source": [
    "print(\"Исходный текст:\", data['text'].head())"
   ]
  },
  {
   "cell_type": "code",
   "execution_count": 10,
   "id": "f77590f4",
   "metadata": {},
   "outputs": [],
   "source": [
    "m = Mystem()\n",
    "\n",
    "def clear_text(text):    \n",
    "    text = text.lower()\n",
    "    c_text = re.sub(r'[^a-zA-Z]', ' ', text) \n",
    "    return \" \".join(c_text.split())\n",
    "data['text'] = data['text'].apply(clear_text)"
   ]
  },
  {
   "cell_type": "code",
   "execution_count": 11,
   "id": "9eb16e3d",
   "metadata": {},
   "outputs": [
    {
     "name": "stdout",
     "output_type": "stream",
     "text": [
      "Чистый текст: 0    explanation why the edits made under my userna...\n",
      "1    d aww he matches this background colour i m se...\n",
      "2    hey man i m really not trying to edit war it s...\n",
      "3    more i can t make any real suggestions on impr...\n",
      "4    you sir are my hero any chance you remember wh...\n",
      "Name: text, dtype: object\n"
     ]
    }
   ],
   "source": [
    "print(\"Чистый текст:\", data['text'].head())"
   ]
  },
  {
   "cell_type": "markdown",
   "id": "4a17aba2",
   "metadata": {},
   "source": [
    "### Лемматизация spaCy "
   ]
  },
  {
   "cell_type": "code",
   "execution_count": 12,
   "id": "0acacf66",
   "metadata": {},
   "outputs": [
    {
     "name": "stdout",
     "output_type": "stream",
     "text": [
      "Requirement already satisfied: spacy in /Users/l.stefanenko/opt/anaconda3/lib/python3.9/site-packages (3.3.1)\n",
      "Requirement already satisfied: wasabi<1.1.0,>=0.9.1 in /Users/l.stefanenko/opt/anaconda3/lib/python3.9/site-packages (from spacy) (0.9.1)\n",
      "Requirement already satisfied: cymem<2.1.0,>=2.0.2 in /Users/l.stefanenko/opt/anaconda3/lib/python3.9/site-packages (from spacy) (2.0.6)\n",
      "Requirement already satisfied: catalogue<2.1.0,>=2.0.6 in /Users/l.stefanenko/opt/anaconda3/lib/python3.9/site-packages (from spacy) (2.0.7)\n",
      "Requirement already satisfied: pathy>=0.3.5 in /Users/l.stefanenko/opt/anaconda3/lib/python3.9/site-packages (from spacy) (0.6.1)\n",
      "Requirement already satisfied: typer<0.5.0,>=0.3.0 in /Users/l.stefanenko/opt/anaconda3/lib/python3.9/site-packages (from spacy) (0.4.1)\n",
      "Requirement already satisfied: murmurhash<1.1.0,>=0.28.0 in /Users/l.stefanenko/opt/anaconda3/lib/python3.9/site-packages (from spacy) (1.0.7)\n",
      "Requirement already satisfied: langcodes<4.0.0,>=3.2.0 in /Users/l.stefanenko/opt/anaconda3/lib/python3.9/site-packages (from spacy) (3.3.0)\n",
      "Requirement already satisfied: preshed<3.1.0,>=3.0.2 in /Users/l.stefanenko/opt/anaconda3/lib/python3.9/site-packages (from spacy) (3.0.6)\n",
      "Requirement already satisfied: blis<0.8.0,>=0.4.0 in /Users/l.stefanenko/opt/anaconda3/lib/python3.9/site-packages (from spacy) (0.7.7)\n",
      "Requirement already satisfied: packaging>=20.0 in /Users/l.stefanenko/opt/anaconda3/lib/python3.9/site-packages (from spacy) (21.0)\n",
      "Requirement already satisfied: setuptools in /Users/l.stefanenko/opt/anaconda3/lib/python3.9/site-packages (from spacy) (62.3.2)\n",
      "Requirement already satisfied: spacy-loggers<2.0.0,>=1.0.0 in /Users/l.stefanenko/opt/anaconda3/lib/python3.9/site-packages (from spacy) (1.0.2)\n",
      "Requirement already satisfied: tqdm<5.0.0,>=4.38.0 in /Users/l.stefanenko/opt/anaconda3/lib/python3.9/site-packages (from spacy) (4.62.3)\n",
      "Requirement already satisfied: jinja2 in /Users/l.stefanenko/opt/anaconda3/lib/python3.9/site-packages (from spacy) (2.11.3)\n",
      "Requirement already satisfied: thinc<8.1.0,>=8.0.14 in /Users/l.stefanenko/opt/anaconda3/lib/python3.9/site-packages (from spacy) (8.0.17)\n",
      "Requirement already satisfied: srsly<3.0.0,>=2.4.3 in /Users/l.stefanenko/opt/anaconda3/lib/python3.9/site-packages (from spacy) (2.4.3)\n",
      "Requirement already satisfied: pydantic!=1.8,!=1.8.1,<1.9.0,>=1.7.4 in /Users/l.stefanenko/opt/anaconda3/lib/python3.9/site-packages (from spacy) (1.8.2)\n",
      "Requirement already satisfied: spacy-legacy<3.1.0,>=3.0.9 in /Users/l.stefanenko/opt/anaconda3/lib/python3.9/site-packages (from spacy) (3.0.9)\n",
      "Requirement already satisfied: requests<3.0.0,>=2.13.0 in /Users/l.stefanenko/opt/anaconda3/lib/python3.9/site-packages (from spacy) (2.26.0)\n",
      "Requirement already satisfied: numpy>=1.15.0 in /Users/l.stefanenko/opt/anaconda3/lib/python3.9/site-packages (from spacy) (1.20.3)\n",
      "Requirement already satisfied: pyparsing>=2.0.2 in /Users/l.stefanenko/opt/anaconda3/lib/python3.9/site-packages (from packaging>=20.0->spacy) (3.0.4)\n",
      "Requirement already satisfied: smart-open<6.0.0,>=5.0.0 in /Users/l.stefanenko/opt/anaconda3/lib/python3.9/site-packages (from pathy>=0.3.5->spacy) (5.2.1)\n",
      "Requirement already satisfied: typing-extensions>=3.7.4.3 in /Users/l.stefanenko/opt/anaconda3/lib/python3.9/site-packages (from pydantic!=1.8,!=1.8.1,<1.9.0,>=1.7.4->spacy) (3.10.0.2)\n",
      "Requirement already satisfied: idna<4,>=2.5 in /Users/l.stefanenko/opt/anaconda3/lib/python3.9/site-packages (from requests<3.0.0,>=2.13.0->spacy) (3.2)\n",
      "Requirement already satisfied: urllib3<1.27,>=1.21.1 in /Users/l.stefanenko/opt/anaconda3/lib/python3.9/site-packages (from requests<3.0.0,>=2.13.0->spacy) (1.26.7)\n",
      "Requirement already satisfied: certifi>=2017.4.17 in /Users/l.stefanenko/opt/anaconda3/lib/python3.9/site-packages (from requests<3.0.0,>=2.13.0->spacy) (2021.10.8)\n",
      "Requirement already satisfied: charset-normalizer~=2.0.0 in /Users/l.stefanenko/opt/anaconda3/lib/python3.9/site-packages (from requests<3.0.0,>=2.13.0->spacy) (2.0.4)\n",
      "Requirement already satisfied: click<9.0.0,>=7.1.1 in /Users/l.stefanenko/opt/anaconda3/lib/python3.9/site-packages (from typer<0.5.0,>=0.3.0->spacy) (8.0.3)\n",
      "Requirement already satisfied: MarkupSafe>=0.23 in /Users/l.stefanenko/opt/anaconda3/lib/python3.9/site-packages (from jinja2->spacy) (1.1.1)\n",
      "\u001b[33mWARNING: There was an error checking the latest version of pip.\u001b[0m\u001b[33m\n",
      "\u001b[0m\u001b[38;5;3m⚠ As of spaCy v3.0, shortcuts like 'en' are deprecated. Please use the\n",
      "full pipeline package name 'en_core_web_sm' instead.\u001b[0m\n",
      "Collecting en-core-web-sm==3.3.0\n",
      "  Downloading https://github.com/explosion/spacy-models/releases/download/en_core_web_sm-3.3.0/en_core_web_sm-3.3.0-py3-none-any.whl (12.8 MB)\n",
      "\u001b[2K     \u001b[90m━━━━━━━━━━━━━━━━━━━━━━━━━━━━━━━━━━━━━━━━\u001b[0m \u001b[32m12.8/12.8 MB\u001b[0m \u001b[31m5.5 MB/s\u001b[0m eta \u001b[36m0:00:00\u001b[0m00:01\u001b[0m00:01\u001b[0m\n",
      "\u001b[?25hRequirement already satisfied: spacy<3.4.0,>=3.3.0.dev0 in /Users/l.stefanenko/opt/anaconda3/lib/python3.9/site-packages (from en-core-web-sm==3.3.0) (3.3.1)\n",
      "Requirement already satisfied: jinja2 in /Users/l.stefanenko/opt/anaconda3/lib/python3.9/site-packages (from spacy<3.4.0,>=3.3.0.dev0->en-core-web-sm==3.3.0) (2.11.3)\n",
      "Requirement already satisfied: pydantic!=1.8,!=1.8.1,<1.9.0,>=1.7.4 in /Users/l.stefanenko/opt/anaconda3/lib/python3.9/site-packages (from spacy<3.4.0,>=3.3.0.dev0->en-core-web-sm==3.3.0) (1.8.2)\n",
      "Requirement already satisfied: spacy-legacy<3.1.0,>=3.0.9 in /Users/l.stefanenko/opt/anaconda3/lib/python3.9/site-packages (from spacy<3.4.0,>=3.3.0.dev0->en-core-web-sm==3.3.0) (3.0.9)\n",
      "Requirement already satisfied: thinc<8.1.0,>=8.0.14 in /Users/l.stefanenko/opt/anaconda3/lib/python3.9/site-packages (from spacy<3.4.0,>=3.3.0.dev0->en-core-web-sm==3.3.0) (8.0.17)\n",
      "Requirement already satisfied: langcodes<4.0.0,>=3.2.0 in /Users/l.stefanenko/opt/anaconda3/lib/python3.9/site-packages (from spacy<3.4.0,>=3.3.0.dev0->en-core-web-sm==3.3.0) (3.3.0)\n",
      "Requirement already satisfied: typer<0.5.0,>=0.3.0 in /Users/l.stefanenko/opt/anaconda3/lib/python3.9/site-packages (from spacy<3.4.0,>=3.3.0.dev0->en-core-web-sm==3.3.0) (0.4.1)\n",
      "Requirement already satisfied: catalogue<2.1.0,>=2.0.6 in /Users/l.stefanenko/opt/anaconda3/lib/python3.9/site-packages (from spacy<3.4.0,>=3.3.0.dev0->en-core-web-sm==3.3.0) (2.0.7)\n",
      "Requirement already satisfied: tqdm<5.0.0,>=4.38.0 in /Users/l.stefanenko/opt/anaconda3/lib/python3.9/site-packages (from spacy<3.4.0,>=3.3.0.dev0->en-core-web-sm==3.3.0) (4.62.3)\n",
      "Requirement already satisfied: preshed<3.1.0,>=3.0.2 in /Users/l.stefanenko/opt/anaconda3/lib/python3.9/site-packages (from spacy<3.4.0,>=3.3.0.dev0->en-core-web-sm==3.3.0) (3.0.6)\n",
      "Requirement already satisfied: srsly<3.0.0,>=2.4.3 in /Users/l.stefanenko/opt/anaconda3/lib/python3.9/site-packages (from spacy<3.4.0,>=3.3.0.dev0->en-core-web-sm==3.3.0) (2.4.3)\n",
      "Requirement already satisfied: setuptools in /Users/l.stefanenko/opt/anaconda3/lib/python3.9/site-packages (from spacy<3.4.0,>=3.3.0.dev0->en-core-web-sm==3.3.0) (62.3.2)\n",
      "Requirement already satisfied: wasabi<1.1.0,>=0.9.1 in /Users/l.stefanenko/opt/anaconda3/lib/python3.9/site-packages (from spacy<3.4.0,>=3.3.0.dev0->en-core-web-sm==3.3.0) (0.9.1)\n",
      "Requirement already satisfied: murmurhash<1.1.0,>=0.28.0 in /Users/l.stefanenko/opt/anaconda3/lib/python3.9/site-packages (from spacy<3.4.0,>=3.3.0.dev0->en-core-web-sm==3.3.0) (1.0.7)\n",
      "Requirement already satisfied: requests<3.0.0,>=2.13.0 in /Users/l.stefanenko/opt/anaconda3/lib/python3.9/site-packages (from spacy<3.4.0,>=3.3.0.dev0->en-core-web-sm==3.3.0) (2.26.0)\n",
      "Requirement already satisfied: pathy>=0.3.5 in /Users/l.stefanenko/opt/anaconda3/lib/python3.9/site-packages (from spacy<3.4.0,>=3.3.0.dev0->en-core-web-sm==3.3.0) (0.6.1)\n",
      "Requirement already satisfied: packaging>=20.0 in /Users/l.stefanenko/opt/anaconda3/lib/python3.9/site-packages (from spacy<3.4.0,>=3.3.0.dev0->en-core-web-sm==3.3.0) (21.0)\n",
      "Requirement already satisfied: cymem<2.1.0,>=2.0.2 in /Users/l.stefanenko/opt/anaconda3/lib/python3.9/site-packages (from spacy<3.4.0,>=3.3.0.dev0->en-core-web-sm==3.3.0) (2.0.6)\n",
      "Requirement already satisfied: spacy-loggers<2.0.0,>=1.0.0 in /Users/l.stefanenko/opt/anaconda3/lib/python3.9/site-packages (from spacy<3.4.0,>=3.3.0.dev0->en-core-web-sm==3.3.0) (1.0.2)\n",
      "Requirement already satisfied: blis<0.8.0,>=0.4.0 in /Users/l.stefanenko/opt/anaconda3/lib/python3.9/site-packages (from spacy<3.4.0,>=3.3.0.dev0->en-core-web-sm==3.3.0) (0.7.7)\n",
      "Requirement already satisfied: numpy>=1.15.0 in /Users/l.stefanenko/opt/anaconda3/lib/python3.9/site-packages (from spacy<3.4.0,>=3.3.0.dev0->en-core-web-sm==3.3.0) (1.20.3)\n",
      "Requirement already satisfied: pyparsing>=2.0.2 in /Users/l.stefanenko/opt/anaconda3/lib/python3.9/site-packages (from packaging>=20.0->spacy<3.4.0,>=3.3.0.dev0->en-core-web-sm==3.3.0) (3.0.4)\n"
     ]
    },
    {
     "name": "stdout",
     "output_type": "stream",
     "text": [
      "Requirement already satisfied: smart-open<6.0.0,>=5.0.0 in /Users/l.stefanenko/opt/anaconda3/lib/python3.9/site-packages (from pathy>=0.3.5->spacy<3.4.0,>=3.3.0.dev0->en-core-web-sm==3.3.0) (5.2.1)\n",
      "Requirement already satisfied: typing-extensions>=3.7.4.3 in /Users/l.stefanenko/opt/anaconda3/lib/python3.9/site-packages (from pydantic!=1.8,!=1.8.1,<1.9.0,>=1.7.4->spacy<3.4.0,>=3.3.0.dev0->en-core-web-sm==3.3.0) (3.10.0.2)\n",
      "Requirement already satisfied: idna<4,>=2.5 in /Users/l.stefanenko/opt/anaconda3/lib/python3.9/site-packages (from requests<3.0.0,>=2.13.0->spacy<3.4.0,>=3.3.0.dev0->en-core-web-sm==3.3.0) (3.2)\n",
      "Requirement already satisfied: charset-normalizer~=2.0.0 in /Users/l.stefanenko/opt/anaconda3/lib/python3.9/site-packages (from requests<3.0.0,>=2.13.0->spacy<3.4.0,>=3.3.0.dev0->en-core-web-sm==3.3.0) (2.0.4)\n",
      "Requirement already satisfied: urllib3<1.27,>=1.21.1 in /Users/l.stefanenko/opt/anaconda3/lib/python3.9/site-packages (from requests<3.0.0,>=2.13.0->spacy<3.4.0,>=3.3.0.dev0->en-core-web-sm==3.3.0) (1.26.7)\n",
      "Requirement already satisfied: certifi>=2017.4.17 in /Users/l.stefanenko/opt/anaconda3/lib/python3.9/site-packages (from requests<3.0.0,>=2.13.0->spacy<3.4.0,>=3.3.0.dev0->en-core-web-sm==3.3.0) (2021.10.8)\n",
      "Requirement already satisfied: click<9.0.0,>=7.1.1 in /Users/l.stefanenko/opt/anaconda3/lib/python3.9/site-packages (from typer<0.5.0,>=0.3.0->spacy<3.4.0,>=3.3.0.dev0->en-core-web-sm==3.3.0) (8.0.3)\n",
      "Requirement already satisfied: MarkupSafe>=0.23 in /Users/l.stefanenko/opt/anaconda3/lib/python3.9/site-packages (from jinja2->spacy<3.4.0,>=3.3.0.dev0->en-core-web-sm==3.3.0) (1.1.1)\n",
      "\u001b[33mWARNING: There was an error checking the latest version of pip.\u001b[0m\u001b[33m\n",
      "\u001b[0m\u001b[38;5;2m✔ Download and installation successful\u001b[0m\n",
      "You can now load the package via spacy.load('en_core_web_sm')\n"
     ]
    }
   ],
   "source": [
    "# Install spaCy (run in terminal/prompt)\n",
    "import sys\n",
    "!{sys.executable} -m pip install spacy\n",
    "# Download spaCy's  'en' Model\n",
    "!{sys.executable} -m spacy download en"
   ]
  },
  {
   "cell_type": "code",
   "execution_count": 13,
   "id": "7f6df1e0",
   "metadata": {},
   "outputs": [],
   "source": [
    "import spacy\n",
    "# Initialize spacy 'en' model, keeping only tagger component needed for lemmatization\n",
    "nlp = spacy.load(\"en_core_web_sm\", disable=['parser', 'ner'])\n",
    "def text_lemmatizer(text):\n",
    "    doc = nlp(text)\n",
    "    return ' '.join([word.lemma_ for word in doc])"
   ]
  },
  {
   "cell_type": "code",
   "execution_count": 14,
   "id": "233fae68",
   "metadata": {},
   "outputs": [],
   "source": [
    "data['text'] = data['text'].apply(text_lemmatizer)"
   ]
  },
  {
   "cell_type": "code",
   "execution_count": 15,
   "id": "6f2188cd",
   "metadata": {},
   "outputs": [
    {
     "name": "stdout",
     "output_type": "stream",
     "text": [
      "Лемматизированный текст: 0    explanation why the edit make under my usernam...\n",
      "1    d aww he match this background colour I m seem...\n",
      "2    hey man I m really not try to edit war it s ju...\n",
      "3    more I can t make any real suggestion on impro...\n",
      "4    you sir be my hero any chance you remember wha...\n",
      "Name: text, dtype: object\n"
     ]
    }
   ],
   "source": [
    "print(\"Лемматизированный текст:\", data['text'].head())"
   ]
  },
  {
   "cell_type": "markdown",
   "id": "f79a12cd",
   "metadata": {},
   "source": [
    "### Исправление ошибок"
   ]
  },
  {
   "cell_type": "code",
   "execution_count": 16,
   "id": "79630e06",
   "metadata": {},
   "outputs": [],
   "source": [
    "#!pip install pyspellchecker"
   ]
  },
  {
   "cell_type": "code",
   "execution_count": 17,
   "id": "6663f0e7",
   "metadata": {},
   "outputs": [],
   "source": [
    "#from spellchecker import SpellChecker\n",
    "\n",
    "#def spell_check(text):\n",
    "    \n",
    "    #result = []\n",
    "    #spell = SpellChecker()\n",
    "    #for word in text:\n",
    "        #correct_word = spell.correction(word)\n",
    "        #result.append(correct_word)\n",
    "    \n",
    "    #return ' '.join(spell_check(data['text']))\n",
    "\n"
   ]
  },
  {
   "cell_type": "code",
   "execution_count": 18,
   "id": "9f3c6ec2",
   "metadata": {},
   "outputs": [],
   "source": [
    "#data['text'] = data['text'].apply(spell_check)"
   ]
  },
  {
   "cell_type": "markdown",
   "id": "dd57f877",
   "metadata": {},
   "source": [
    "### Удаление стоп-слов, TF-IDF"
   ]
  },
  {
   "cell_type": "code",
   "execution_count": 19,
   "id": "f8c0dabe",
   "metadata": {},
   "outputs": [
    {
     "name": "stderr",
     "output_type": "stream",
     "text": [
      "[nltk_data] Downloading package stopwords to\n",
      "[nltk_data]     /Users/l.stefanenko/nltk_data...\n",
      "[nltk_data]   Unzipping corpora/stopwords.zip.\n"
     ]
    },
    {
     "data": {
      "text/plain": [
       "True"
      ]
     },
     "execution_count": 19,
     "metadata": {},
     "output_type": "execute_result"
    }
   ],
   "source": [
    "nltk.download('stopwords')"
   ]
  },
  {
   "cell_type": "code",
   "execution_count": 20,
   "id": "16b51830",
   "metadata": {},
   "outputs": [],
   "source": [
    "stopwords = set(stopwords.words(\"english\"))\n",
    "count_tf_idf = TfidfVectorizer(stop_words=stopwords)"
   ]
  },
  {
   "cell_type": "markdown",
   "id": "9119c019",
   "metadata": {},
   "source": [
    "### Разделение на выборки"
   ]
  },
  {
   "cell_type": "code",
   "execution_count": 21,
   "id": "be1204f4",
   "metadata": {},
   "outputs": [],
   "source": [
    "features = data.drop(['toxic'], axis=1)"
   ]
  },
  {
   "cell_type": "code",
   "execution_count": 22,
   "id": "7a0722ef",
   "metadata": {},
   "outputs": [],
   "source": [
    "target = data['toxic']"
   ]
  },
  {
   "cell_type": "code",
   "execution_count": 23,
   "id": "4edd3bc0",
   "metadata": {},
   "outputs": [],
   "source": [
    "x_train, x_test, y_train, y_test = train_test_split(features,target,test_size=0.4, random_state=rdm)"
   ]
  },
  {
   "cell_type": "code",
   "execution_count": 24,
   "id": "73264096",
   "metadata": {},
   "outputs": [],
   "source": [
    "x_train = count_tf_idf.fit_transform(x_train['text'])\n",
    "x_test = count_tf_idf.transform(x_test['text'])"
   ]
  },
  {
   "cell_type": "markdown",
   "id": "fa2458ac",
   "metadata": {},
   "source": [
    "## Построение моделей для машинного обучения"
   ]
  },
  {
   "cell_type": "markdown",
   "id": "bc51a44a",
   "metadata": {},
   "source": [
    "### Дерево решений"
   ]
  },
  {
   "cell_type": "code",
   "execution_count": 25,
   "id": "66e449e7",
   "metadata": {},
   "outputs": [
    {
     "name": "stdout",
     "output_type": "stream",
     "text": [
      "F1_score DecisionTreeClassifier: 0.7165525824517734\n",
      "CPU times: user 4min 16s, sys: 572 ms, total: 4min 17s\n",
      "Wall time: 4min 19s\n"
     ]
    }
   ],
   "source": [
    "%%time\n",
    "model = DecisionTreeClassifier()\n",
    "model.fit(x_train,y_train)\n",
    "\n",
    "predictions = model.predict(x_test)\n",
    "\n",
    "F1_DT = f1_score(y_test, predictions)\n",
    "print (\"F1_score DecisionTreeClassifier:\",F1_DT)"
   ]
  },
  {
   "cell_type": "markdown",
   "id": "7df93fce",
   "metadata": {},
   "source": [
    "### Дерево решений с использоваием GridSearchCV"
   ]
  },
  {
   "cell_type": "code",
   "execution_count": 26,
   "id": "cb1641dc",
   "metadata": {},
   "outputs": [
    {
     "name": "stdout",
     "output_type": "stream",
     "text": [
      "0.6084113344150545\n",
      "CPU times: user 2min 34s, sys: 956 ms, total: 2min 34s\n",
      "Wall time: 2min 36s\n"
     ]
    }
   ],
   "source": [
    "%%time\n",
    "model = DecisionTreeClassifier(random_state = rdm)\n",
    "params = {\n",
    "   'criterion':['gini', 'entropy'],        \n",
    "   'max_depth':list(range(1,15,5)) \n",
    "}\n",
    "tree_gs = GridSearchCV(model, params, cv=3, scoring='f1', verbose=False).fit(x_train, y_train)\n",
    "target_predictions = tree_gs.predict(x_test) \n",
    "F1_score_DT_with_GS = tree_gs.best_score_\n",
    "print (F1_score_DT_with_GS)"
   ]
  },
  {
   "cell_type": "markdown",
   "id": "76ed43b1",
   "metadata": {},
   "source": [
    "### Логистическая регрессия"
   ]
  },
  {
   "cell_type": "code",
   "execution_count": 27,
   "id": "2dae910d",
   "metadata": {},
   "outputs": [
    {
     "name": "stdout",
     "output_type": "stream",
     "text": [
      "0.7623236065291453\n",
      "{'C': 5.0, 'intercept_scaling': 5, 'penalty': 'l2', 'solver': 'liblinear'}\n",
      "CPU times: user 3min 17s, sys: 3.16 s, total: 3min 21s\n",
      "Wall time: 2min 25s\n"
     ]
    }
   ],
   "source": [
    "%%time\n",
    "model = LogisticRegression (random_state = rdm, class_weight = 'balanced')\n",
    "params = {\n",
    "    'penalty': ['l1','l2'],\n",
    "    'C':[0.5,1.0,5.0,15.0],\n",
    "    'intercept_scaling':range(5,100,40),\n",
    "    'solver':['liblinear']\n",
    "}\n",
    "tree_gs = GridSearchCV(model, params, cv=3, scoring='f1', verbose=False).fit(x_train, y_train)\n",
    "\n",
    "F1_score_LR = tree_gs.best_score_\n",
    "print(F1_score_LR)\n",
    "print(tree_gs.best_params_)"
   ]
  },
  {
   "cell_type": "markdown",
   "id": "ead1f880",
   "metadata": {},
   "source": [
    "## Результаты"
   ]
  },
  {
   "cell_type": "code",
   "execution_count": 28,
   "id": "565b0176",
   "metadata": {},
   "outputs": [],
   "source": [
    "df_train_result = pd.DataFrame(\n",
    "   \n",
    "    index=['дерево_решений',\n",
    "           'дерево_решений_GS',\n",
    "           'логистическая_регрессия']\n",
    ")\n",
    "df_train_result['|'] =  '|'"
   ]
  },
  {
   "cell_type": "code",
   "execution_count": 29,
   "id": "d61d7996",
   "metadata": {},
   "outputs": [],
   "source": [
    "df_train_result.loc['дерево_решений','F1_score'] = F1_DT\n",
    "df_train_result.loc['дерево_решений_GS','F1_score'] = F1_score_DT_with_GS\n",
    "df_train_result.loc['логистическая_регрессия','F1_score'] = F1_score_LR"
   ]
  },
  {
   "cell_type": "code",
   "execution_count": 30,
   "id": "aa4a286e",
   "metadata": {},
   "outputs": [
    {
     "data": {
      "text/html": [
       "<div>\n",
       "<style scoped>\n",
       "    .dataframe tbody tr th:only-of-type {\n",
       "        vertical-align: middle;\n",
       "    }\n",
       "\n",
       "    .dataframe tbody tr th {\n",
       "        vertical-align: top;\n",
       "    }\n",
       "\n",
       "    .dataframe thead th {\n",
       "        text-align: right;\n",
       "    }\n",
       "</style>\n",
       "<table border=\"1\" class=\"dataframe\">\n",
       "  <thead>\n",
       "    <tr style=\"text-align: right;\">\n",
       "      <th></th>\n",
       "      <th>|</th>\n",
       "      <th>F1_score</th>\n",
       "    </tr>\n",
       "  </thead>\n",
       "  <tbody>\n",
       "    <tr>\n",
       "      <th>дерево_решений</th>\n",
       "      <td>|</td>\n",
       "      <td>0.716553</td>\n",
       "    </tr>\n",
       "    <tr>\n",
       "      <th>дерево_решений_GS</th>\n",
       "      <td>|</td>\n",
       "      <td>0.608411</td>\n",
       "    </tr>\n",
       "    <tr>\n",
       "      <th>логистическая_регрессия</th>\n",
       "      <td>|</td>\n",
       "      <td>0.762324</td>\n",
       "    </tr>\n",
       "  </tbody>\n",
       "</table>\n",
       "</div>"
      ],
      "text/plain": [
       "                         |  F1_score\n",
       "дерево_решений           |  0.716553\n",
       "дерево_решений_GS        |  0.608411\n",
       "логистическая_регрессия  |  0.762324"
      ]
     },
     "metadata": {},
     "output_type": "display_data"
    }
   ],
   "source": [
    "display(df_train_result)"
   ]
  },
  {
   "cell_type": "markdown",
   "id": "e3d94594",
   "metadata": {},
   "source": [
    "### Вывод о работе лучше модели"
   ]
  },
  {
   "cell_type": "markdown",
   "id": "ada6e726",
   "metadata": {},
   "source": [
    "Наилучшие результаты показала модель логистической регрессии со следующими параметрами:  \n",
    "- 'penalty': ['l2'],\n",
    "- 'C':[0.15],\n",
    "- 'intercept_scaling':range(5),\n",
    "- 'solver':['liblinear']\n",
    "\n",
    "F1_score  на этой модели равен 0.762324"
   ]
  },
  {
   "cell_type": "markdown",
   "id": "1fab6fda",
   "metadata": {},
   "source": [
    "### Эффективность работы полученной модели"
   ]
  },
  {
   "cell_type": "code",
   "execution_count": 92,
   "id": "4a36767f",
   "metadata": {},
   "outputs": [
    {
     "name": "stdout",
     "output_type": "stream",
     "text": [
      "0.7686116700201207\n"
     ]
    }
   ],
   "source": [
    "f1_score_fin = f1_score(y_test, tree_gs.predict(x_test))\n",
    "print(f1_score_fin)"
   ]
  },
  {
   "cell_type": "code",
   "execution_count": 84,
   "id": "5706e651",
   "metadata": {},
   "outputs": [],
   "source": [
    "result = pd.DataFrame(tree_gs.predict(x_test), columns=['target_predictions'])"
   ]
  },
  {
   "cell_type": "code",
   "execution_count": 85,
   "id": "a88acba4",
   "metadata": {},
   "outputs": [
    {
     "data": {
      "text/html": [
       "<div>\n",
       "<style scoped>\n",
       "    .dataframe tbody tr th:only-of-type {\n",
       "        vertical-align: middle;\n",
       "    }\n",
       "\n",
       "    .dataframe tbody tr th {\n",
       "        vertical-align: top;\n",
       "    }\n",
       "\n",
       "    .dataframe thead th {\n",
       "        text-align: right;\n",
       "    }\n",
       "</style>\n",
       "<table border=\"1\" class=\"dataframe\">\n",
       "  <thead>\n",
       "    <tr style=\"text-align: right;\">\n",
       "      <th></th>\n",
       "      <th>target_predictions</th>\n",
       "    </tr>\n",
       "  </thead>\n",
       "  <tbody>\n",
       "    <tr>\n",
       "      <th>0</th>\n",
       "      <td>0</td>\n",
       "    </tr>\n",
       "    <tr>\n",
       "      <th>1</th>\n",
       "      <td>0</td>\n",
       "    </tr>\n",
       "    <tr>\n",
       "      <th>2</th>\n",
       "      <td>0</td>\n",
       "    </tr>\n",
       "    <tr>\n",
       "      <th>3</th>\n",
       "      <td>0</td>\n",
       "    </tr>\n",
       "    <tr>\n",
       "      <th>4</th>\n",
       "      <td>0</td>\n",
       "    </tr>\n",
       "  </tbody>\n",
       "</table>\n",
       "</div>"
      ],
      "text/plain": [
       "   target_predictions\n",
       "0                   0\n",
       "1                   0\n",
       "2                   0\n",
       "3                   0\n",
       "4                   0"
      ]
     },
     "metadata": {},
     "output_type": "display_data"
    }
   ],
   "source": [
    "display (result.head())"
   ]
  },
  {
   "cell_type": "code",
   "execution_count": 37,
   "id": "24d45681",
   "metadata": {},
   "outputs": [],
   "source": [
    "#result.to_csv('predictions')"
   ]
  },
  {
   "cell_type": "code",
   "execution_count": 86,
   "id": "e26806ed",
   "metadata": {},
   "outputs": [
    {
     "data": {
      "text/plain": [
       "target_predictions\n",
       "0                     56232\n",
       "1                      7485\n",
       "dtype: int64"
      ]
     },
     "execution_count": 86,
     "metadata": {},
     "output_type": "execute_result"
    }
   ],
   "source": [
    "result.value_counts()"
   ]
  },
  {
   "cell_type": "code",
   "execution_count": 87,
   "id": "8d3c6c28",
   "metadata": {},
   "outputs": [
    {
     "data": {
      "image/png": "[encoded data removed]",
      "text/plain": [
       "<Figure size 432x288 with 1 Axes>"
      ]
     },
     "metadata": {
      "needs_background": "light"
     },
     "output_type": "display_data"
    }
   ],
   "source": [
    "result.value_counts().plot(kind='bar', label='toxic')\n",
    "plt.legend()\n",
    "plt.title('Распределение токсичных комментариев в предсказанной модели');"
   ]
  },
  {
   "cell_type": "code",
   "execution_count": 88,
   "id": "1e245fb1",
   "metadata": {},
   "outputs": [],
   "source": [
    "from sklearn.metrics import confusion_matrix"
   ]
  },
  {
   "cell_type": "code",
   "execution_count": 90,
   "id": "5dfbf348",
   "metadata": {},
   "outputs": [
    {
     "data": {
      "text/plain": [
       "74919     0\n",
       "112284    0\n",
       "13185     0\n",
       "54358     0\n",
       "152791    0\n",
       "Name: toxic, dtype: int64"
      ]
     },
     "execution_count": 90,
     "metadata": {},
     "output_type": "execute_result"
    }
   ],
   "source": [
    "y_test.head()"
   ]
  },
  {
   "cell_type": "code",
   "execution_count": 91,
   "id": "234f346d",
   "metadata": {},
   "outputs": [
    {
     "data": {
      "text/plain": [
       "array([[55149,  2137],\n",
       "       [ 1083,  5348]])"
      ]
     },
     "metadata": {},
     "output_type": "display_data"
    }
   ],
   "source": [
    "cm = confusion_matrix(y_test, target_predictions)\n",
    "display (cm)"
   ]
  },
  {
   "cell_type": "markdown",
   "id": "fa62278b",
   "metadata": {},
   "source": [
    "### Общий вывод"
   ]
  },
  {
   "cell_type": "markdown",
   "id": "e14d552a",
   "metadata": {},
   "source": [
    "Лучшей моделью оказалась линейная регрессия. \n",
    "Матрица confusion_matrix показывает, что результаты модели на тестовой выборке дают хорошие показатели: \n",
    "\n",
    "55149 положительных предсказаний, когда они действительно были правдой\n",
    "5348 отрицательных предсказаний, когда они были toxic\n",
    "\n",
    "ошибки первого и второго рода в матрице равны 2137 и 1083 соответвенно. Это около одного процента от предсказаний.\n",
    "Наилучшие результаты показала модель логистической регрессии со следующими параметрами:  \n",
    "- 'penalty': ['l2'],\n",
    "- 'C':[0.15],\n",
    "- 'intercept_scaling':range(5),\n",
    "- 'solver':['liblinear']\n",
    "\n",
    "    f1 на тестовой выборке равен 0.7686"
   ]
  }
 ],
 "metadata": {
  "ExecuteTimeLog": [
   {
    "duration": 83,
    "start_time": "2022-06-13T17:25:08.730Z"
   },
   {
    "duration": 2010,
    "start_time": "2022-06-13T18:41:22.232Z"
   },
   {
    "duration": 1962,
    "start_time": "2022-06-13T18:41:24.245Z"
   },
   {
    "duration": 1770,
    "start_time": "2022-06-13T18:41:26.209Z"
   },
   {
    "duration": 2387,
    "start_time": "2022-06-13T18:41:27.981Z"
   },
   {
    "duration": 14,
    "start_time": "2022-06-13T18:41:30.370Z"
   },
   {
    "duration": 38,
    "start_time": "2022-06-13T18:41:30.385Z"
   },
   {
    "duration": 6,
    "start_time": "2022-06-13T18:41:30.425Z"
   },
   {
    "duration": 160,
    "start_time": "2022-06-13T18:41:30.432Z"
   },
   {
    "duration": 5,
    "start_time": "2022-06-13T18:41:30.594Z"
   },
   {
    "duration": 4022,
    "start_time": "2022-06-13T18:41:30.602Z"
   },
   {
    "duration": 4,
    "start_time": "2022-06-13T18:41:34.626Z"
   },
   {
    "duration": 12533,
    "start_time": "2022-06-13T18:41:34.632Z"
   },
   {
    "duration": 3263,
    "start_time": "2022-06-13T18:41:47.167Z"
   },
   {
    "duration": 2041,
    "start_time": "2022-06-13T18:56:08.025Z"
   },
   {
    "duration": 1955,
    "start_time": "2022-06-13T18:56:10.068Z"
   },
   {
    "duration": 1345,
    "start_time": "2022-06-13T18:56:12.025Z"
   },
   {
    "duration": 782,
    "start_time": "2022-06-13T18:56:13.372Z"
   },
   {
    "duration": 15,
    "start_time": "2022-06-13T18:56:14.156Z"
   },
   {
    "duration": 33,
    "start_time": "2022-06-13T18:56:14.172Z"
   },
   {
    "duration": 6,
    "start_time": "2022-06-13T18:56:14.206Z"
   },
   {
    "duration": 222,
    "start_time": "2022-06-13T18:56:14.214Z"
   },
   {
    "duration": 5,
    "start_time": "2022-06-13T18:56:14.438Z"
   },
   {
    "duration": 4022,
    "start_time": "2022-06-13T18:56:14.446Z"
   },
   {
    "duration": 4,
    "start_time": "2022-06-13T18:56:18.470Z"
   },
   {
    "duration": 9530,
    "start_time": "2022-06-13T18:56:18.475Z"
   },
   {
    "duration": 3171,
    "start_time": "2022-06-13T18:56:28.007Z"
   },
   {
    "duration": 2119,
    "start_time": "2022-06-14T08:48:16.374Z"
   },
   {
    "duration": 2211,
    "start_time": "2022-06-14T08:48:18.495Z"
   },
   {
    "duration": 1753,
    "start_time": "2022-06-14T08:48:20.708Z"
   },
   {
    "duration": 2476,
    "start_time": "2022-06-14T08:48:22.464Z"
   },
   {
    "duration": 15,
    "start_time": "2022-06-14T08:48:24.942Z"
   },
   {
    "duration": 34,
    "start_time": "2022-06-14T08:48:24.959Z"
   },
   {
    "duration": 5,
    "start_time": "2022-06-14T08:48:24.995Z"
   },
   {
    "duration": 145,
    "start_time": "2022-06-14T08:48:25.002Z"
   },
   {
    "duration": 3,
    "start_time": "2022-06-14T08:48:25.149Z"
   },
   {
    "duration": 4403,
    "start_time": "2022-06-14T08:48:25.154Z"
   },
   {
    "duration": 4,
    "start_time": "2022-06-14T08:48:29.558Z"
   },
   {
    "duration": 10218,
    "start_time": "2022-06-14T08:48:29.564Z"
   },
   {
    "duration": 3325,
    "start_time": "2022-06-14T08:48:39.785Z"
   },
   {
    "duration": 950960,
    "start_time": "2022-06-14T08:48:43.112Z"
   },
   {
    "duration": 6,
    "start_time": "2022-06-14T09:04:34.075Z"
   },
   {
    "duration": 8,
    "start_time": "2022-06-14T09:04:34.082Z"
   },
   {
    "duration": 6,
    "start_time": "2022-06-14T09:04:34.092Z"
   },
   {
    "duration": 230,
    "start_time": "2022-06-14T09:04:34.099Z"
   },
   {
    "duration": 6,
    "start_time": "2022-06-14T09:04:34.330Z"
   },
   {
    "duration": 20,
    "start_time": "2022-06-14T09:04:34.339Z"
   },
   {
    "duration": 5,
    "start_time": "2022-06-14T09:04:34.361Z"
   },
   {
    "duration": 27,
    "start_time": "2022-06-14T09:04:34.368Z"
   },
   {
    "duration": 7057,
    "start_time": "2022-06-14T09:04:34.397Z"
   },
   {
    "duration": 216051,
    "start_time": "2022-06-14T09:04:41.456Z"
   },
   {
    "duration": 98526,
    "start_time": "2022-06-14T09:08:17.508Z"
   },
   {
    "duration": 1020351,
    "start_time": "2022-06-14T09:09:56.037Z"
   },
   {
    "duration": 5,
    "start_time": "2022-06-14T09:26:56.390Z"
   },
   {
    "duration": 16,
    "start_time": "2022-06-14T09:26:56.398Z"
   },
   {
    "duration": 16,
    "start_time": "2022-06-14T09:26:56.415Z"
   },
   {
    "duration": 5,
    "start_time": "2022-06-14T09:26:56.433Z"
   },
   {
    "duration": 18,
    "start_time": "2022-06-14T09:26:56.439Z"
   },
   {
    "duration": 20,
    "start_time": "2022-06-14T09:26:56.459Z"
   },
   {
    "duration": 3,
    "start_time": "2022-06-14T09:26:56.481Z"
   },
   {
    "duration": 15,
    "start_time": "2022-06-14T09:26:56.486Z"
   },
   {
    "duration": 25,
    "start_time": "2022-06-14T09:26:56.502Z"
   },
   {
    "duration": 6,
    "start_time": "2022-06-14T09:26:56.529Z"
   },
   {
    "duration": 9,
    "start_time": "2022-06-14T09:26:56.536Z"
   },
   {
    "duration": 10,
    "start_time": "2022-06-14T09:26:56.547Z"
   },
   {
    "duration": 156,
    "start_time": "2022-06-14T09:26:56.559Z"
   },
   {
    "duration": 8,
    "start_time": "2022-06-14T09:26:56.716Z"
   },
   {
    "duration": 355,
    "start_time": "2022-06-14T09:26:56.726Z"
   },
   {
    "duration": 0,
    "start_time": "2022-06-14T09:26:57.083Z"
   },
   {
    "duration": 4,
    "start_time": "2022-06-14T09:28:22.723Z"
   },
   {
    "duration": 31,
    "start_time": "2022-06-14T09:28:55.550Z"
   },
   {
    "duration": 5,
    "start_time": "2022-06-14T09:29:06.818Z"
   },
   {
    "duration": 6,
    "start_time": "2022-06-14T09:29:11.598Z"
   },
   {
    "duration": 5,
    "start_time": "2022-06-14T09:29:20.184Z"
   },
   {
    "duration": 5,
    "start_time": "2022-06-14T09:29:55.754Z"
   },
   {
    "duration": 4,
    "start_time": "2022-06-14T09:30:07.200Z"
   },
   {
    "duration": 10,
    "start_time": "2022-06-14T09:30:17.106Z"
   },
   {
    "duration": 26,
    "start_time": "2022-06-14T09:30:26.172Z"
   },
   {
    "duration": 4,
    "start_time": "2022-06-14T09:30:28.464Z"
   },
   {
    "duration": 3,
    "start_time": "2022-06-14T09:30:48.194Z"
   },
   {
    "duration": 5,
    "start_time": "2022-06-14T09:30:54.368Z"
   },
   {
    "duration": 4,
    "start_time": "2022-06-14T09:30:58.673Z"
   },
   {
    "duration": 29,
    "start_time": "2022-06-14T09:31:54.826Z"
   },
   {
    "duration": 28,
    "start_time": "2022-06-14T09:32:10.339Z"
   },
   {
    "duration": 49,
    "start_time": "2022-06-14T09:32:39.676Z"
   }
  ],
  "kernelspec": {
   "display_name": "Python 3 (ipykernel)",
   "language": "python",
   "name": "python3"
  },
  "language_info": {
   "codemirror_mode": {
    "name": "ipython",
    "version": 3
   },
   "file_extension": ".py",
   "mimetype": "text/x-python",
   "name": "python",
   "nbconvert_exporter": "python",
   "pygments_lexer": "ipython3",
   "version": "3.9.7"
  },
  "toc": {
   "base_numbering": 1,
   "nav_menu": {},
   "number_sections": true,
   "sideBar": true,
   "skip_h1_title": true,
   "title_cell": "Table of Contents",
   "title_sidebar": "Contents",
   "toc_cell": false,
   "toc_position": {},
   "toc_section_display": true,
   "toc_window_display": false
  }
 },
 "nbformat": 4,
 "nbformat_minor": 5
}
