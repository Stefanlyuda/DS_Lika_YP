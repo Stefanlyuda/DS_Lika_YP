{
 "cells": [
  {
   "cell_type": "markdown",
   "id": "4bfc80e4",
   "metadata": {},
   "source": [
    "### Описание проекта"
   ]
  },
  {
   "cell_type": "markdown",
   "id": "d915e45d",
   "metadata": {},
   "source": [
    "Из «Бета-Банка» стали уходить клиенты. Каждый месяц. Немного, но заметно. Банковские маркетологи посчитали: сохранять текущих клиентов дешевле, чем привлекать новых."
   ]
  },
  {
   "cell_type": "markdown",
   "id": "6f86f1f6",
   "metadata": {},
   "source": [
    "### Задача"
   ]
  },
  {
   "cell_type": "markdown",
   "id": "9ee46eda",
   "metadata": {},
   "source": [
    "- Построить модель с высокиими показателями точности,которая будет предсказывать уйдёт клиент из банка в ближайшее время или нет.\n",
    "- Достигнуть F1 меры 0.59 на тестовой выборке"
   ]
  },
  {
   "cell_type": "markdown",
   "id": "ac2be4b9",
   "metadata": {},
   "source": [
    "\n",
    "Признаки\n",
    "- RowNumber — индекс строки в данных\n",
    "- CustomerId — уникальный идентификатор клиента\n",
    "- Surname — фамилия\n",
    "- CreditScore — кредитный рейтинг\n",
    "- Geography — страна проживания\n",
    "- Gender — пол\n",
    "- Age — возраст\n",
    "- Tenure — сколько лет человек является клиентом банка\n",
    "- Balance — баланс на счёте\n",
    "- NumOfProducts — количество продуктов банка, используемых клиентом\n",
    "- HasCrCard — наличие кредитной карты\n",
    "-  IsActiveMember — активность клиента\n",
    "- EstimatedSalary — предполагаемая зарплата\n",
    "- Exited — факт ухода клиента"
   ]
  },
  {
   "cell_type": "markdown",
   "id": "e05bc4ff",
   "metadata": {},
   "source": [
    "### 1. Загрузите и подготовьте данные. Поясните порядок действий."
   ]
  },
  {
   "cell_type": "markdown",
   "id": "4447367d",
   "metadata": {},
   "source": [
    "#### 1.1 Загрузка и предобработка данных (пропуски,название столбцов,типы данных)"
   ]
  },
  {
   "cell_type": "code",
   "execution_count": 1,
   "id": "48ef413d",
   "metadata": {},
   "outputs": [],
   "source": [
    "import pandas as pd\n",
    "import numpy as np"
   ]
  },
  {
   "cell_type": "code",
   "execution_count": 2,
   "id": "5a591480",
   "metadata": {},
   "outputs": [],
   "source": [
    "from sklearn.tree import DecisionTreeClassifier #дерево решений \n",
    "from sklearn.ensemble import RandomForestClassifier #случайный лес\n",
    "from sklearn.linear_model import LogisticRegression #логическая регрессия \n",
    "\n",
    "from sklearn.model_selection import train_test_split #деление выборки \n",
    "\n",
    "from sklearn.preprocessing import StandardScaler #масштабирование количественных признаков\n",
    "pd.options.mode.chained_assignment = None\n",
    "\n",
    "from sklearn.metrics import f1_score #подсчет  F1\n",
    "\n",
    "from sklearn.metrics import roc_curve #график auc_roc\n",
    "from sklearn.metrics import roc_auc_score #подсчет auc_roc\n",
    "\n",
    "import matplotlib.pyplot as plt #график\n",
    "\n",
    "from sklearn.utils import shuffle #перемешивание при семплировании \n",
    "\n",
    "from sklearn.metrics import precision_score, recall_score\n",
    "from sklearn.metrics import precision_recall_curve\n",
    "\n",
    "import warnings \n",
    "warnings.simplefilter(action='ignore', category=FutureWarning) #убираем ошибку"
   ]
  },
  {
   "cell_type": "code",
   "execution_count": 3,
   "id": "ba8f1e30",
   "metadata": {},
   "outputs": [],
   "source": [
    "data = pd.read_csv('/Users/l.stefanenko/Desktop/Yandex/Github/№7 ML_with_teaher_ottok_bank_class/Churn (1).csv')"
   ]
  },
  {
   "cell_type": "code",
   "execution_count": 4,
   "id": "68c70867",
   "metadata": {},
   "outputs": [
    {
     "data": {
      "text/plain": [
       "(10000, 14)"
      ]
     },
     "execution_count": 4,
     "metadata": {},
     "output_type": "execute_result"
    }
   ],
   "source": [
    "data.shape"
   ]
  },
  {
   "cell_type": "code",
   "execution_count": 5,
   "id": "8674b31d",
   "metadata": {},
   "outputs": [
    {
     "data": {
      "text/html": [
       "<div>\n",
       "<style scoped>\n",
       "    .dataframe tbody tr th:only-of-type {\n",
       "        vertical-align: middle;\n",
       "    }\n",
       "\n",
       "    .dataframe tbody tr th {\n",
       "        vertical-align: top;\n",
       "    }\n",
       "\n",
       "    .dataframe thead th {\n",
       "        text-align: right;\n",
       "    }\n",
       "</style>\n",
       "<table border=\"1\" class=\"dataframe\">\n",
       "  <thead>\n",
       "    <tr style=\"text-align: right;\">\n",
       "      <th></th>\n",
       "      <th>RowNumber</th>\n",
       "      <th>CustomerId</th>\n",
       "      <th>Surname</th>\n",
       "      <th>CreditScore</th>\n",
       "      <th>Geography</th>\n",
       "      <th>Gender</th>\n",
       "      <th>Age</th>\n",
       "      <th>Tenure</th>\n",
       "      <th>Balance</th>\n",
       "      <th>NumOfProducts</th>\n",
       "      <th>HasCrCard</th>\n",
       "      <th>IsActiveMember</th>\n",
       "      <th>EstimatedSalary</th>\n",
       "      <th>Exited</th>\n",
       "    </tr>\n",
       "  </thead>\n",
       "  <tbody>\n",
       "    <tr>\n",
       "      <th>0</th>\n",
       "      <td>1</td>\n",
       "      <td>15634602</td>\n",
       "      <td>Hargrave</td>\n",
       "      <td>619</td>\n",
       "      <td>France</td>\n",
       "      <td>Female</td>\n",
       "      <td>42</td>\n",
       "      <td>2.0</td>\n",
       "      <td>0.00</td>\n",
       "      <td>1</td>\n",
       "      <td>1</td>\n",
       "      <td>1</td>\n",
       "      <td>101348.88</td>\n",
       "      <td>1</td>\n",
       "    </tr>\n",
       "    <tr>\n",
       "      <th>1</th>\n",
       "      <td>2</td>\n",
       "      <td>15647311</td>\n",
       "      <td>Hill</td>\n",
       "      <td>608</td>\n",
       "      <td>Spain</td>\n",
       "      <td>Female</td>\n",
       "      <td>41</td>\n",
       "      <td>1.0</td>\n",
       "      <td>83807.86</td>\n",
       "      <td>1</td>\n",
       "      <td>0</td>\n",
       "      <td>1</td>\n",
       "      <td>112542.58</td>\n",
       "      <td>0</td>\n",
       "    </tr>\n",
       "    <tr>\n",
       "      <th>2</th>\n",
       "      <td>3</td>\n",
       "      <td>15619304</td>\n",
       "      <td>Onio</td>\n",
       "      <td>502</td>\n",
       "      <td>France</td>\n",
       "      <td>Female</td>\n",
       "      <td>42</td>\n",
       "      <td>8.0</td>\n",
       "      <td>159660.80</td>\n",
       "      <td>3</td>\n",
       "      <td>1</td>\n",
       "      <td>0</td>\n",
       "      <td>113931.57</td>\n",
       "      <td>1</td>\n",
       "    </tr>\n",
       "    <tr>\n",
       "      <th>3</th>\n",
       "      <td>4</td>\n",
       "      <td>15701354</td>\n",
       "      <td>Boni</td>\n",
       "      <td>699</td>\n",
       "      <td>France</td>\n",
       "      <td>Female</td>\n",
       "      <td>39</td>\n",
       "      <td>1.0</td>\n",
       "      <td>0.00</td>\n",
       "      <td>2</td>\n",
       "      <td>0</td>\n",
       "      <td>0</td>\n",
       "      <td>93826.63</td>\n",
       "      <td>0</td>\n",
       "    </tr>\n",
       "    <tr>\n",
       "      <th>4</th>\n",
       "      <td>5</td>\n",
       "      <td>15737888</td>\n",
       "      <td>Mitchell</td>\n",
       "      <td>850</td>\n",
       "      <td>Spain</td>\n",
       "      <td>Female</td>\n",
       "      <td>43</td>\n",
       "      <td>2.0</td>\n",
       "      <td>125510.82</td>\n",
       "      <td>1</td>\n",
       "      <td>1</td>\n",
       "      <td>1</td>\n",
       "      <td>79084.10</td>\n",
       "      <td>0</td>\n",
       "    </tr>\n",
       "  </tbody>\n",
       "</table>\n",
       "</div>"
      ],
      "text/plain": [
       "   RowNumber  CustomerId   Surname  CreditScore Geography  Gender  Age  \\\n",
       "0          1    15634602  Hargrave          619    France  Female   42   \n",
       "1          2    15647311      Hill          608     Spain  Female   41   \n",
       "2          3    15619304      Onio          502    France  Female   42   \n",
       "3          4    15701354      Boni          699    France  Female   39   \n",
       "4          5    15737888  Mitchell          850     Spain  Female   43   \n",
       "\n",
       "   Tenure    Balance  NumOfProducts  HasCrCard  IsActiveMember  \\\n",
       "0     2.0       0.00              1          1               1   \n",
       "1     1.0   83807.86              1          0               1   \n",
       "2     8.0  159660.80              3          1               0   \n",
       "3     1.0       0.00              2          0               0   \n",
       "4     2.0  125510.82              1          1               1   \n",
       "\n",
       "   EstimatedSalary  Exited  \n",
       "0        101348.88       1  \n",
       "1        112542.58       0  \n",
       "2        113931.57       1  \n",
       "3         93826.63       0  \n",
       "4         79084.10       0  "
      ]
     },
     "metadata": {},
     "output_type": "display_data"
    }
   ],
   "source": [
    "display(data.head())"
   ]
  },
  {
   "cell_type": "code",
   "execution_count": 6,
   "id": "878a94b0",
   "metadata": {},
   "outputs": [
    {
     "name": "stdout",
     "output_type": "stream",
     "text": [
      "<class 'pandas.core.frame.DataFrame'>\n",
      "RangeIndex: 10000 entries, 0 to 9999\n",
      "Data columns (total 14 columns):\n",
      " #   Column            Non-Null Count  Dtype  \n",
      "---  ------            --------------  -----  \n",
      " 0   row_number        10000 non-null  int64  \n",
      " 1   customer_id       10000 non-null  int64  \n",
      " 2   surname           10000 non-null  object \n",
      " 3   credit_score      10000 non-null  int64  \n",
      " 4   geography         10000 non-null  object \n",
      " 5   gender            10000 non-null  object \n",
      " 6   age               10000 non-null  int64  \n",
      " 7   tenure            9091 non-null   float64\n",
      " 8   balance           10000 non-null  float64\n",
      " 9   num_of_products   10000 non-null  int64  \n",
      " 10  has_cr_card       10000 non-null  int64  \n",
      " 11  is_active_member  10000 non-null  int64  \n",
      " 12  estimated_salary  10000 non-null  float64\n",
      " 13  exited            10000 non-null  int64  \n",
      "dtypes: float64(3), int64(8), object(3)\n",
      "memory usage: 1.1+ MB\n"
     ]
    }
   ],
   "source": [
    "data.rename(columns = {'RowNumber':'row_number',\n",
    "                      'CustomerId':'customer_id',\n",
    "                       'CreditScore':'credit_score',\n",
    "                       'NumOfProducts':'num_of_products',\n",
    "                       'HasCrCard':'has_cr_card',\n",
    "                       'IsActiveMember':'is_active_member',\n",
    "                       'EstimatedSalary':'estimated_salary',\n",
    "                       'Surname':'surname',\n",
    "                       'Geography':'geography',\n",
    "                       'Gender':'gender',\n",
    "                       'Age':'age',\n",
    "                       'Tenure':'tenure',\n",
    "                       'Balance':'balance',\n",
    "                       'Exited':'exited'\n",
    "                      },inplace = True)\n",
    "\n",
    "data.info()"
   ]
  },
  {
   "cell_type": "markdown",
   "id": "6cad16a0",
   "metadata": {},
   "source": [
    "Удалим столбцы, которые неважны для построения моделей"
   ]
  },
  {
   "cell_type": "code",
   "execution_count": 7,
   "id": "9e055a34",
   "metadata": {},
   "outputs": [],
   "source": [
    "data = data.drop(columns = ['row_number','surname','customer_id'],axis = 1) "
   ]
  },
  {
   "cell_type": "markdown",
   "id": "466dd616",
   "metadata": {},
   "source": [
    "Сделаем предположение, что пропуски в столбце tenure вызваны тем, что пользователь является клиентом банка меньше одного года, поэтому в таблице пропуск. Заменим все пропуски на значение 1 (год) для дальнейшего построения модели. А также изменим типа данных этого столбца на  INT 64 для сокращения затрачиваемой памяти и отбросим нули, поскольку оперируем только целыми числами в данном столбце"
   ]
  },
  {
   "cell_type": "code",
   "execution_count": 8,
   "id": "853ba4e7",
   "metadata": {},
   "outputs": [
    {
     "data": {
      "text/plain": [
       "array([ 2.,  1.,  8.,  7.,  4.,  6.,  3., 10.,  5.,  9.,  0., nan])"
      ]
     },
     "execution_count": 8,
     "metadata": {},
     "output_type": "execute_result"
    }
   ],
   "source": [
    "data['tenure'].unique()"
   ]
  },
  {
   "cell_type": "code",
   "execution_count": 9,
   "id": "9dffb48f",
   "metadata": {},
   "outputs": [],
   "source": [
    "median = data['tenure'].median()"
   ]
  },
  {
   "cell_type": "code",
   "execution_count": 10,
   "id": "0303d489",
   "metadata": {},
   "outputs": [],
   "source": [
    "data['tenure'] = data['tenure'].fillna(median)\n",
    "data['tenure'] = data['tenure'].astype ('Int64')"
   ]
  },
  {
   "cell_type": "code",
   "execution_count": 11,
   "id": "116fbc39",
   "metadata": {},
   "outputs": [
    {
     "data": {
      "text/plain": [
       "<IntegerArray>\n",
       "[2, 1, 8, 7, 4, 6, 3, 10, 5, 9, 0]\n",
       "Length: 11, dtype: Int64"
      ]
     },
     "execution_count": 11,
     "metadata": {},
     "output_type": "execute_result"
    }
   ],
   "source": [
    "data['tenure'].unique()"
   ]
  },
  {
   "cell_type": "code",
   "execution_count": 12,
   "id": "03457c5d",
   "metadata": {},
   "outputs": [
    {
     "name": "stdout",
     "output_type": "stream",
     "text": [
      "<class 'pandas.core.frame.DataFrame'>\n",
      "RangeIndex: 10000 entries, 0 to 9999\n",
      "Data columns (total 11 columns):\n",
      " #   Column            Non-Null Count  Dtype  \n",
      "---  ------            --------------  -----  \n",
      " 0   credit_score      10000 non-null  int64  \n",
      " 1   geography         10000 non-null  object \n",
      " 2   gender            10000 non-null  object \n",
      " 3   age               10000 non-null  int64  \n",
      " 4   tenure            10000 non-null  Int64  \n",
      " 5   balance           10000 non-null  float64\n",
      " 6   num_of_products   10000 non-null  int64  \n",
      " 7   has_cr_card       10000 non-null  int64  \n",
      " 8   is_active_member  10000 non-null  int64  \n",
      " 9   estimated_salary  10000 non-null  float64\n",
      " 10  exited            10000 non-null  int64  \n",
      "dtypes: Int64(1), float64(2), int64(6), object(2)\n",
      "memory usage: 869.3+ KB\n"
     ]
    }
   ],
   "source": [
    "data.info()"
   ]
  },
  {
   "cell_type": "code",
   "execution_count": 13,
   "id": "8b6591f1",
   "metadata": {},
   "outputs": [
    {
     "data": {
      "text/html": [
       "<div>\n",
       "<style scoped>\n",
       "    .dataframe tbody tr th:only-of-type {\n",
       "        vertical-align: middle;\n",
       "    }\n",
       "\n",
       "    .dataframe tbody tr th {\n",
       "        vertical-align: top;\n",
       "    }\n",
       "\n",
       "    .dataframe thead th {\n",
       "        text-align: right;\n",
       "    }\n",
       "</style>\n",
       "<table border=\"1\" class=\"dataframe\">\n",
       "  <thead>\n",
       "    <tr style=\"text-align: right;\">\n",
       "      <th></th>\n",
       "      <th>credit_score</th>\n",
       "      <th>geography</th>\n",
       "      <th>gender</th>\n",
       "      <th>age</th>\n",
       "      <th>tenure</th>\n",
       "      <th>balance</th>\n",
       "      <th>num_of_products</th>\n",
       "      <th>has_cr_card</th>\n",
       "      <th>is_active_member</th>\n",
       "      <th>estimated_salary</th>\n",
       "      <th>exited</th>\n",
       "    </tr>\n",
       "  </thead>\n",
       "  <tbody>\n",
       "    <tr>\n",
       "      <th>0</th>\n",
       "      <td>619</td>\n",
       "      <td>France</td>\n",
       "      <td>Female</td>\n",
       "      <td>42</td>\n",
       "      <td>2</td>\n",
       "      <td>0.00</td>\n",
       "      <td>1</td>\n",
       "      <td>1</td>\n",
       "      <td>1</td>\n",
       "      <td>101348.88</td>\n",
       "      <td>1</td>\n",
       "    </tr>\n",
       "    <tr>\n",
       "      <th>1</th>\n",
       "      <td>608</td>\n",
       "      <td>Spain</td>\n",
       "      <td>Female</td>\n",
       "      <td>41</td>\n",
       "      <td>1</td>\n",
       "      <td>83807.86</td>\n",
       "      <td>1</td>\n",
       "      <td>0</td>\n",
       "      <td>1</td>\n",
       "      <td>112542.58</td>\n",
       "      <td>0</td>\n",
       "    </tr>\n",
       "    <tr>\n",
       "      <th>2</th>\n",
       "      <td>502</td>\n",
       "      <td>France</td>\n",
       "      <td>Female</td>\n",
       "      <td>42</td>\n",
       "      <td>8</td>\n",
       "      <td>159660.80</td>\n",
       "      <td>3</td>\n",
       "      <td>1</td>\n",
       "      <td>0</td>\n",
       "      <td>113931.57</td>\n",
       "      <td>1</td>\n",
       "    </tr>\n",
       "    <tr>\n",
       "      <th>3</th>\n",
       "      <td>699</td>\n",
       "      <td>France</td>\n",
       "      <td>Female</td>\n",
       "      <td>39</td>\n",
       "      <td>1</td>\n",
       "      <td>0.00</td>\n",
       "      <td>2</td>\n",
       "      <td>0</td>\n",
       "      <td>0</td>\n",
       "      <td>93826.63</td>\n",
       "      <td>0</td>\n",
       "    </tr>\n",
       "    <tr>\n",
       "      <th>4</th>\n",
       "      <td>850</td>\n",
       "      <td>Spain</td>\n",
       "      <td>Female</td>\n",
       "      <td>43</td>\n",
       "      <td>2</td>\n",
       "      <td>125510.82</td>\n",
       "      <td>1</td>\n",
       "      <td>1</td>\n",
       "      <td>1</td>\n",
       "      <td>79084.10</td>\n",
       "      <td>0</td>\n",
       "    </tr>\n",
       "  </tbody>\n",
       "</table>\n",
       "</div>"
      ],
      "text/plain": [
       "   credit_score geography  gender  age  tenure    balance  num_of_products  \\\n",
       "0           619    France  Female   42       2       0.00                1   \n",
       "1           608     Spain  Female   41       1   83807.86                1   \n",
       "2           502    France  Female   42       8  159660.80                3   \n",
       "3           699    France  Female   39       1       0.00                2   \n",
       "4           850     Spain  Female   43       2  125510.82                1   \n",
       "\n",
       "   has_cr_card  is_active_member  estimated_salary  exited  \n",
       "0            1                 1         101348.88       1  \n",
       "1            0                 1         112542.58       0  \n",
       "2            1                 0         113931.57       1  \n",
       "3            0                 0          93826.63       0  \n",
       "4            1                 1          79084.10       0  "
      ]
     },
     "metadata": {},
     "output_type": "display_data"
    }
   ],
   "source": [
    "display(data.head())"
   ]
  },
  {
   "cell_type": "markdown",
   "id": "9e71c6ea",
   "metadata": {},
   "source": [
    "###  1.2 Подготовка данных для построения моделей"
   ]
  },
  {
   "cell_type": "markdown",
   "id": "966735d9",
   "metadata": {},
   "source": [
    "#### 1.2.1 Преобразование качественных признаков техникой OHE"
   ]
  },
  {
   "cell_type": "code",
   "execution_count": 14,
   "id": "2b553ba2",
   "metadata": {},
   "outputs": [
    {
     "data": {
      "text/html": [
       "<div>\n",
       "<style scoped>\n",
       "    .dataframe tbody tr th:only-of-type {\n",
       "        vertical-align: middle;\n",
       "    }\n",
       "\n",
       "    .dataframe tbody tr th {\n",
       "        vertical-align: top;\n",
       "    }\n",
       "\n",
       "    .dataframe thead th {\n",
       "        text-align: right;\n",
       "    }\n",
       "</style>\n",
       "<table border=\"1\" class=\"dataframe\">\n",
       "  <thead>\n",
       "    <tr style=\"text-align: right;\">\n",
       "      <th></th>\n",
       "      <th>credit_score</th>\n",
       "      <th>age</th>\n",
       "      <th>tenure</th>\n",
       "      <th>balance</th>\n",
       "      <th>num_of_products</th>\n",
       "      <th>has_cr_card</th>\n",
       "      <th>is_active_member</th>\n",
       "      <th>estimated_salary</th>\n",
       "      <th>exited</th>\n",
       "      <th>gender_Male</th>\n",
       "      <th>geography_Germany</th>\n",
       "      <th>geography_Spain</th>\n",
       "    </tr>\n",
       "  </thead>\n",
       "  <tbody>\n",
       "    <tr>\n",
       "      <th>0</th>\n",
       "      <td>619</td>\n",
       "      <td>42</td>\n",
       "      <td>2</td>\n",
       "      <td>0.00</td>\n",
       "      <td>1</td>\n",
       "      <td>1</td>\n",
       "      <td>1</td>\n",
       "      <td>101348.88</td>\n",
       "      <td>1</td>\n",
       "      <td>0</td>\n",
       "      <td>0</td>\n",
       "      <td>0</td>\n",
       "    </tr>\n",
       "    <tr>\n",
       "      <th>1</th>\n",
       "      <td>608</td>\n",
       "      <td>41</td>\n",
       "      <td>1</td>\n",
       "      <td>83807.86</td>\n",
       "      <td>1</td>\n",
       "      <td>0</td>\n",
       "      <td>1</td>\n",
       "      <td>112542.58</td>\n",
       "      <td>0</td>\n",
       "      <td>0</td>\n",
       "      <td>0</td>\n",
       "      <td>1</td>\n",
       "    </tr>\n",
       "    <tr>\n",
       "      <th>2</th>\n",
       "      <td>502</td>\n",
       "      <td>42</td>\n",
       "      <td>8</td>\n",
       "      <td>159660.80</td>\n",
       "      <td>3</td>\n",
       "      <td>1</td>\n",
       "      <td>0</td>\n",
       "      <td>113931.57</td>\n",
       "      <td>1</td>\n",
       "      <td>0</td>\n",
       "      <td>0</td>\n",
       "      <td>0</td>\n",
       "    </tr>\n",
       "    <tr>\n",
       "      <th>3</th>\n",
       "      <td>699</td>\n",
       "      <td>39</td>\n",
       "      <td>1</td>\n",
       "      <td>0.00</td>\n",
       "      <td>2</td>\n",
       "      <td>0</td>\n",
       "      <td>0</td>\n",
       "      <td>93826.63</td>\n",
       "      <td>0</td>\n",
       "      <td>0</td>\n",
       "      <td>0</td>\n",
       "      <td>0</td>\n",
       "    </tr>\n",
       "    <tr>\n",
       "      <th>4</th>\n",
       "      <td>850</td>\n",
       "      <td>43</td>\n",
       "      <td>2</td>\n",
       "      <td>125510.82</td>\n",
       "      <td>1</td>\n",
       "      <td>1</td>\n",
       "      <td>1</td>\n",
       "      <td>79084.10</td>\n",
       "      <td>0</td>\n",
       "      <td>0</td>\n",
       "      <td>0</td>\n",
       "      <td>1</td>\n",
       "    </tr>\n",
       "    <tr>\n",
       "      <th>...</th>\n",
       "      <td>...</td>\n",
       "      <td>...</td>\n",
       "      <td>...</td>\n",
       "      <td>...</td>\n",
       "      <td>...</td>\n",
       "      <td>...</td>\n",
       "      <td>...</td>\n",
       "      <td>...</td>\n",
       "      <td>...</td>\n",
       "      <td>...</td>\n",
       "      <td>...</td>\n",
       "      <td>...</td>\n",
       "    </tr>\n",
       "    <tr>\n",
       "      <th>9995</th>\n",
       "      <td>771</td>\n",
       "      <td>39</td>\n",
       "      <td>5</td>\n",
       "      <td>0.00</td>\n",
       "      <td>2</td>\n",
       "      <td>1</td>\n",
       "      <td>0</td>\n",
       "      <td>96270.64</td>\n",
       "      <td>0</td>\n",
       "      <td>1</td>\n",
       "      <td>0</td>\n",
       "      <td>0</td>\n",
       "    </tr>\n",
       "    <tr>\n",
       "      <th>9996</th>\n",
       "      <td>516</td>\n",
       "      <td>35</td>\n",
       "      <td>10</td>\n",
       "      <td>57369.61</td>\n",
       "      <td>1</td>\n",
       "      <td>1</td>\n",
       "      <td>1</td>\n",
       "      <td>101699.77</td>\n",
       "      <td>0</td>\n",
       "      <td>1</td>\n",
       "      <td>0</td>\n",
       "      <td>0</td>\n",
       "    </tr>\n",
       "    <tr>\n",
       "      <th>9997</th>\n",
       "      <td>709</td>\n",
       "      <td>36</td>\n",
       "      <td>7</td>\n",
       "      <td>0.00</td>\n",
       "      <td>1</td>\n",
       "      <td>0</td>\n",
       "      <td>1</td>\n",
       "      <td>42085.58</td>\n",
       "      <td>1</td>\n",
       "      <td>0</td>\n",
       "      <td>0</td>\n",
       "      <td>0</td>\n",
       "    </tr>\n",
       "    <tr>\n",
       "      <th>9998</th>\n",
       "      <td>772</td>\n",
       "      <td>42</td>\n",
       "      <td>3</td>\n",
       "      <td>75075.31</td>\n",
       "      <td>2</td>\n",
       "      <td>1</td>\n",
       "      <td>0</td>\n",
       "      <td>92888.52</td>\n",
       "      <td>1</td>\n",
       "      <td>1</td>\n",
       "      <td>1</td>\n",
       "      <td>0</td>\n",
       "    </tr>\n",
       "    <tr>\n",
       "      <th>9999</th>\n",
       "      <td>792</td>\n",
       "      <td>28</td>\n",
       "      <td>5</td>\n",
       "      <td>130142.79</td>\n",
       "      <td>1</td>\n",
       "      <td>1</td>\n",
       "      <td>0</td>\n",
       "      <td>38190.78</td>\n",
       "      <td>0</td>\n",
       "      <td>0</td>\n",
       "      <td>0</td>\n",
       "      <td>0</td>\n",
       "    </tr>\n",
       "  </tbody>\n",
       "</table>\n",
       "<p>10000 rows × 12 columns</p>\n",
       "</div>"
      ],
      "text/plain": [
       "      credit_score  age  tenure    balance  num_of_products  has_cr_card  \\\n",
       "0              619   42       2       0.00                1            1   \n",
       "1              608   41       1   83807.86                1            0   \n",
       "2              502   42       8  159660.80                3            1   \n",
       "3              699   39       1       0.00                2            0   \n",
       "4              850   43       2  125510.82                1            1   \n",
       "...            ...  ...     ...        ...              ...          ...   \n",
       "9995           771   39       5       0.00                2            1   \n",
       "9996           516   35      10   57369.61                1            1   \n",
       "9997           709   36       7       0.00                1            0   \n",
       "9998           772   42       3   75075.31                2            1   \n",
       "9999           792   28       5  130142.79                1            1   \n",
       "\n",
       "      is_active_member  estimated_salary  exited  gender_Male  \\\n",
       "0                    1         101348.88       1            0   \n",
       "1                    1         112542.58       0            0   \n",
       "2                    0         113931.57       1            0   \n",
       "3                    0          93826.63       0            0   \n",
       "4                    1          79084.10       0            0   \n",
       "...                ...               ...     ...          ...   \n",
       "9995                 0          96270.64       0            1   \n",
       "9996                 1         101699.77       0            1   \n",
       "9997                 1          42085.58       1            0   \n",
       "9998                 0          92888.52       1            1   \n",
       "9999                 0          38190.78       0            0   \n",
       "\n",
       "      geography_Germany  geography_Spain  \n",
       "0                     0                0  \n",
       "1                     0                1  \n",
       "2                     0                0  \n",
       "3                     0                0  \n",
       "4                     0                1  \n",
       "...                 ...              ...  \n",
       "9995                  0                0  \n",
       "9996                  0                0  \n",
       "9997                  0                0  \n",
       "9998                  1                0  \n",
       "9999                  0                0  \n",
       "\n",
       "[10000 rows x 12 columns]"
      ]
     },
     "metadata": {},
     "output_type": "display_data"
    }
   ],
   "source": [
    "data_ohe = pd.get_dummies(data, columns = ['gender','geography'], drop_first=True)\n",
    "display(data_ohe)"
   ]
  },
  {
   "cell_type": "markdown",
   "id": "9997b241",
   "metadata": {},
   "source": [
    "Разобьем датасет на целевой признак target и другие признаки features"
   ]
  },
  {
   "cell_type": "code",
   "execution_count": 15,
   "id": "6541f6f6",
   "metadata": {},
   "outputs": [
    {
     "name": "stdout",
     "output_type": "stream",
     "text": [
      "<class 'pandas.core.frame.DataFrame'>\n",
      "RangeIndex: 10000 entries, 0 to 9999\n",
      "Data columns (total 12 columns):\n",
      " #   Column             Non-Null Count  Dtype  \n",
      "---  ------             --------------  -----  \n",
      " 0   credit_score       10000 non-null  int64  \n",
      " 1   age                10000 non-null  int64  \n",
      " 2   tenure             10000 non-null  Int64  \n",
      " 3   balance            10000 non-null  float64\n",
      " 4   num_of_products    10000 non-null  int64  \n",
      " 5   has_cr_card        10000 non-null  int64  \n",
      " 6   is_active_member   10000 non-null  int64  \n",
      " 7   estimated_salary   10000 non-null  float64\n",
      " 8   exited             10000 non-null  int64  \n",
      " 9   gender_Male        10000 non-null  uint8  \n",
      " 10  geography_Germany  10000 non-null  uint8  \n",
      " 11  geography_Spain    10000 non-null  uint8  \n",
      "dtypes: Int64(1), float64(2), int64(6), uint8(3)\n",
      "memory usage: 742.3 KB\n"
     ]
    }
   ],
   "source": [
    "target = data_ohe['exited']\n",
    "features = data_ohe.drop('exited', axis=1)\n",
    "data_ohe.info()"
   ]
  },
  {
   "cell_type": "markdown",
   "id": "234bd69a",
   "metadata": {},
   "source": [
    "Целевой признак категориальный, значит решается задача классификации."
   ]
  },
  {
   "cell_type": "markdown",
   "id": "fdac043b",
   "metadata": {},
   "source": [
    "#### Разбили исходные данные на n три выборки в соотношении 20 валидационная :65 обучающая :25 тестовая (%)\n",
    "- обучающую (train);\n",
    "- валидационную (valid);\n",
    "- тестовую (test);"
   ]
  },
  {
   "cell_type": "code",
   "execution_count": 16,
   "id": "3e7fe758",
   "metadata": {},
   "outputs": [],
   "source": [
    "train_valid, test = train_test_split(data_ohe, test_size=0.2, random_state=12345)\n",
    "train, valid = train_test_split(train_valid, test_size=0.25, random_state=12345)"
   ]
  },
  {
   "cell_type": "code",
   "execution_count": 17,
   "id": "3ad5dae7",
   "metadata": {},
   "outputs": [],
   "source": [
    "features_train = train.drop(['exited'],axis = 1) # Переменные для обучающей выборки\n",
    "target_train = train['exited'] "
   ]
  },
  {
   "cell_type": "code",
   "execution_count": 18,
   "id": "c98a9d7f",
   "metadata": {},
   "outputs": [],
   "source": [
    "features_valid = valid.drop(['exited'],axis = 1) # Переменные для валидационной выборки\n",
    "target_valid = valid['exited'] "
   ]
  },
  {
   "cell_type": "code",
   "execution_count": 19,
   "id": "67297e64",
   "metadata": {},
   "outputs": [],
   "source": [
    "features_test = test.drop(['exited'],axis = 1) # Переменные для тестовой выборки\n",
    "target_test = test['exited'] "
   ]
  },
  {
   "cell_type": "code",
   "execution_count": 20,
   "id": "4e3914a4",
   "metadata": {},
   "outputs": [
    {
     "name": "stdout",
     "output_type": "stream",
     "text": [
      "(6000, 11) (6000,)\n",
      "(2000, 11) (2000,)\n",
      "(2000, 11) (2000,)\n"
     ]
    }
   ],
   "source": [
    "print(features_train.shape, target_train.shape)\n",
    "print(features_valid.shape, target_valid.shape)\n",
    "print(features_test.shape, target_test.shape)"
   ]
  },
  {
   "cell_type": "markdown",
   "id": "203b0b3c",
   "metadata": {},
   "source": [
    "#### 1.2.2 Масшатбирование количественных признаков методом стандартизации данных"
   ]
  },
  {
   "cell_type": "code",
   "execution_count": 21,
   "id": "9dd126e7",
   "metadata": {},
   "outputs": [],
   "source": [
    "numeric = ['credit_score', 'age', 'balance', 'tenure',\n",
    "           'estimated_salary','num_of_products']"
   ]
  },
  {
   "cell_type": "code",
   "execution_count": 22,
   "id": "fafa35a1",
   "metadata": {},
   "outputs": [
    {
     "data": {
      "text/html": [
       "<div>\n",
       "<style scoped>\n",
       "    .dataframe tbody tr th:only-of-type {\n",
       "        vertical-align: middle;\n",
       "    }\n",
       "\n",
       "    .dataframe tbody tr th {\n",
       "        vertical-align: top;\n",
       "    }\n",
       "\n",
       "    .dataframe thead th {\n",
       "        text-align: right;\n",
       "    }\n",
       "</style>\n",
       "<table border=\"1\" class=\"dataframe\">\n",
       "  <thead>\n",
       "    <tr style=\"text-align: right;\">\n",
       "      <th></th>\n",
       "      <th>credit_score</th>\n",
       "      <th>age</th>\n",
       "      <th>tenure</th>\n",
       "      <th>balance</th>\n",
       "      <th>num_of_products</th>\n",
       "      <th>has_cr_card</th>\n",
       "      <th>is_active_member</th>\n",
       "      <th>estimated_salary</th>\n",
       "      <th>gender_Male</th>\n",
       "      <th>geography_Germany</th>\n",
       "      <th>geography_Spain</th>\n",
       "    </tr>\n",
       "  </thead>\n",
       "  <tbody>\n",
       "    <tr>\n",
       "      <th>492</th>\n",
       "      <td>-0.134048</td>\n",
       "      <td>-0.078068</td>\n",
       "      <td>-0.369113</td>\n",
       "      <td>0.076163</td>\n",
       "      <td>0.816929</td>\n",
       "      <td>0</td>\n",
       "      <td>1</td>\n",
       "      <td>0.331571</td>\n",
       "      <td>0</td>\n",
       "      <td>0</td>\n",
       "      <td>0</td>\n",
       "    </tr>\n",
       "    <tr>\n",
       "      <th>6655</th>\n",
       "      <td>-1.010798</td>\n",
       "      <td>0.494555</td>\n",
       "      <td>-0.007415</td>\n",
       "      <td>0.136391</td>\n",
       "      <td>-0.896909</td>\n",
       "      <td>1</td>\n",
       "      <td>1</td>\n",
       "      <td>-0.727858</td>\n",
       "      <td>1</td>\n",
       "      <td>0</td>\n",
       "      <td>0</td>\n",
       "    </tr>\n",
       "    <tr>\n",
       "      <th>4287</th>\n",
       "      <td>0.639554</td>\n",
       "      <td>1.353490</td>\n",
       "      <td>-1.454209</td>\n",
       "      <td>0.358435</td>\n",
       "      <td>-0.896909</td>\n",
       "      <td>1</td>\n",
       "      <td>1</td>\n",
       "      <td>-0.477006</td>\n",
       "      <td>1</td>\n",
       "      <td>1</td>\n",
       "      <td>0</td>\n",
       "    </tr>\n",
       "    <tr>\n",
       "      <th>42</th>\n",
       "      <td>-0.990168</td>\n",
       "      <td>2.116987</td>\n",
       "      <td>-1.092511</td>\n",
       "      <td>0.651725</td>\n",
       "      <td>-0.896909</td>\n",
       "      <td>1</td>\n",
       "      <td>1</td>\n",
       "      <td>-0.100232</td>\n",
       "      <td>0</td>\n",
       "      <td>0</td>\n",
       "      <td>0</td>\n",
       "    </tr>\n",
       "    <tr>\n",
       "      <th>8178</th>\n",
       "      <td>0.567351</td>\n",
       "      <td>0.685430</td>\n",
       "      <td>0.715982</td>\n",
       "      <td>0.813110</td>\n",
       "      <td>0.816929</td>\n",
       "      <td>1</td>\n",
       "      <td>1</td>\n",
       "      <td>0.801922</td>\n",
       "      <td>0</td>\n",
       "      <td>0</td>\n",
       "      <td>0</td>\n",
       "    </tr>\n",
       "  </tbody>\n",
       "</table>\n",
       "</div>"
      ],
      "text/plain": [
       "      credit_score       age    tenure   balance  num_of_products  \\\n",
       "492      -0.134048 -0.078068 -0.369113  0.076163         0.816929   \n",
       "6655     -1.010798  0.494555 -0.007415  0.136391        -0.896909   \n",
       "4287      0.639554  1.353490 -1.454209  0.358435        -0.896909   \n",
       "42       -0.990168  2.116987 -1.092511  0.651725        -0.896909   \n",
       "8178      0.567351  0.685430  0.715982  0.813110         0.816929   \n",
       "\n",
       "      has_cr_card  is_active_member  estimated_salary  gender_Male  \\\n",
       "492             0                 1          0.331571            0   \n",
       "6655            1                 1         -0.727858            1   \n",
       "4287            1                 1         -0.477006            1   \n",
       "42              1                 1         -0.100232            0   \n",
       "8178            1                 1          0.801922            0   \n",
       "\n",
       "      geography_Germany  geography_Spain  \n",
       "492                   0                0  \n",
       "6655                  0                0  \n",
       "4287                  1                0  \n",
       "42                    0                0  \n",
       "8178                  0                0  "
      ]
     },
     "metadata": {},
     "output_type": "display_data"
    }
   ],
   "source": [
    "scaler = StandardScaler()\n",
    "\n",
    "scaler.fit(features_train[numeric])\n",
    "\n",
    "features_train[numeric] = scaler.transform(features_train[numeric])\n",
    "features_valid[numeric] = scaler.transform(features_valid[numeric])\n",
    "features_test[numeric] = scaler.transform(features_test[numeric])\n",
    "\n",
    "display(features_train.head())"
   ]
  },
  {
   "cell_type": "markdown",
   "id": "50f39ee4",
   "metadata": {},
   "source": [
    "### 2. Построение модели классификации на сырых данных\n"
   ]
  },
  {
   "cell_type": "markdown",
   "id": "552ef8fc",
   "metadata": {},
   "source": [
    "#### 2.1 Проверим значение F1 на трех моделях обучения задачи классификации: Случайный лес, дерево решений и логическая регрессия. Выберем из них лучшее значение  F1 "
   ]
  },
  {
   "cell_type": "markdown",
   "id": "ab5f33f1",
   "metadata": {},
   "source": [
    "#### Модель случайного леса на сырых данных"
   ]
  },
  {
   "cell_type": "code",
   "execution_count": 23,
   "id": "2e45fc2d",
   "metadata": {},
   "outputs": [
    {
     "name": "stdout",
     "output_type": "stream",
     "text": [
      "F1 Случайного леса: 0.5754716981132075 RandomForestClassifier(n_estimators=29, random_state=12345)\n",
      "AUC_ROC_raw: 0.834302413374894\n"
     ]
    }
   ],
   "source": [
    "best_model = None\n",
    "best_result = 0\n",
    "for est in range(1, 30):\n",
    "    model = RandomForestClassifier(random_state=12345, n_estimators=est)\n",
    "    model.fit(features_train,target_train)\n",
    "    predicted_valid = model.predict(features_valid)\n",
    "    result = f1_score(target_valid,predicted_valid)\n",
    "    if result > best_result:\n",
    "        best_model = model\n",
    "        best_random_tree_result = result\n",
    "\n",
    "print(\"F1 Случайного леса:\", best_random_tree_result, best_model)\n",
    "\n",
    "probabilities_valid = model.predict_proba(features_valid)\n",
    "probabilities_one_valid = probabilities_valid[:, 1]\n",
    "\n",
    "best_random_tree_aucroc=roc_auc_score(target_valid,probabilities_one_valid)\n",
    "print('AUC_ROC_raw:',best_random_tree_aucroc)"
   ]
  },
  {
   "cell_type": "markdown",
   "id": "e6615309",
   "metadata": {},
   "source": [
    "#### Модель дерева решений на сырых данных"
   ]
  },
  {
   "cell_type": "code",
   "execution_count": 24,
   "id": "3df0150f",
   "metadata": {},
   "outputs": [
    {
     "name": "stdout",
     "output_type": "stream",
     "text": [
      "F1 Дерева решений: 0.49933949801849403 DecisionTreeClassifier(max_depth=15, random_state=12345)\n",
      "AUC_ROC_raw: 0.6938258103792764\n"
     ]
    }
   ],
   "source": [
    "best_model = None\n",
    "best_result = 0\n",
    "for depth in range(1, 16):\n",
    "    model = DecisionTreeClassifier(random_state=12345, max_depth = depth)\n",
    "    model.fit(features_train,target_train)\n",
    "    predicted_valid = model.predict(features_valid)\n",
    "    result = f1_score(target_valid,predicted_valid)\n",
    "    if result > best_result:\n",
    "        best_model = model\n",
    "        best_tree_result = result\n",
    "\n",
    "print(\"F1 Дерева решений:\", best_tree_result, best_model)\n",
    "\n",
    "probabilities_valid = model.predict_proba(features_valid)\n",
    "probabilities_one_valid = probabilities_valid[:, 1]\n",
    "\n",
    "best_tree_aucroc=roc_auc_score(target_valid,probabilities_one_valid)\n",
    "print('AUC_ROC_raw:',best_tree_aucroc)"
   ]
  },
  {
   "cell_type": "markdown",
   "id": "b4d584fb",
   "metadata": {},
   "source": [
    "#### Модель логической регрессии на сырых данных"
   ]
  },
  {
   "cell_type": "code",
   "execution_count": 25,
   "id": "35c53eb6",
   "metadata": {},
   "outputs": [
    {
     "name": "stdout",
     "output_type": "stream",
     "text": [
      "F1 логической регрессии: 0.30131826741996237 LogisticRegression(random_state=12345)\n",
      "AUC_ROC_raw: 0.7703391568208877\n"
     ]
    }
   ],
   "source": [
    "best_model = None\n",
    "best_result = 0\n",
    "model = LogisticRegression(random_state=12345, solver='lbfgs', max_iter=100)#solver='lbfgs',позволяет выбрать алгоритм, который будет строить модель.иперпараметром max_iter задаётся максимальное количество итераций обучения. \n",
    "#Значение этого параметра по умолчанию 100, но в некоторых случаях понадобится больше итераций.\n",
    "model.fit(features_train,target_train)\n",
    "predicted_valid = model.predict(features_valid)\n",
    "best_logic_result = f1_score(target_valid,predicted_valid)\n",
    "\n",
    "print(\"F1 логической регрессии:\", best_logic_result,model)\n",
    "\n",
    "probabilities_valid = model.predict_proba(features_valid)\n",
    "probabilities_one_valid = probabilities_valid[:, 1]\n",
    "\n",
    "best_logic_aucroc=roc_auc_score(target_valid,probabilities_one_valid)\n",
    "print('AUC_ROC_raw:',best_logic_aucroc)"
   ]
  },
  {
   "cell_type": "markdown",
   "id": "0f398aef",
   "metadata": {},
   "source": [
    "#### 2.2 Построим график AUC-ROC для сырых данных модели логической регрессии"
   ]
  },
  {
   "cell_type": "code",
   "execution_count": 26,
   "id": "77a27622",
   "metadata": {},
   "outputs": [
    {
     "data": {
      "image/png": "[encoded data removed]",
      "text/plain": [
       "<Figure size 432x288 with 1 Axes>"
      ]
     },
     "metadata": {
      "needs_background": "light"
     },
     "output_type": "display_data"
    }
   ],
   "source": [
    "probabilities_valid = model.predict_proba(features_valid)\n",
    "probabilities_one_valid = probabilities_valid[:, 1]\n",
    "\n",
    "fpr, tpr, thresholds = roc_curve(target_valid, probabilities_one_valid)\n",
    "\n",
    "plt.figure()\n",
    "plt.plot(fpr, tpr, linestyle='--')\n",
    "\n",
    "plt.xlim([0.0, 1.0])\n",
    "plt.ylim([0.0, 1.0])\n",
    "plt.xlabel('False Positive Rate')\n",
    "plt.ylabel('True Positive Rate')\n",
    "plt.title('ROC-кривая')\n",
    "\n",
    "plt.show()"
   ]
  },
  {
   "cell_type": "markdown",
   "id": "7157ba9c",
   "metadata": {},
   "source": [
    "### 3. Построение моделей со сбалансированными весами классов"
   ]
  },
  {
   "cell_type": "code",
   "execution_count": 27,
   "id": "99c11ccf",
   "metadata": {},
   "outputs": [
    {
     "data": {
      "text/plain": [
       "0    7963\n",
       "1    2037\n",
       "Name: exited, dtype: int64"
      ]
     },
     "execution_count": 27,
     "metadata": {},
     "output_type": "execute_result"
    }
   ],
   "source": [
    "data['exited'].value_counts()"
   ]
  },
  {
   "cell_type": "markdown",
   "id": "d2c896ad",
   "metadata": {},
   "source": [
    "<div class=\"alert alert-block alert-info\">\n",
    "Видим несбалансированность классов после работы функции value_counts().  Проведем опреции по сбалансированию классов. "
   ]
  },
  {
   "cell_type": "markdown",
   "id": "4d710533",
   "metadata": {},
   "source": [
    "#### Модель случайного леса со сбалансированными классами"
   ]
  },
  {
   "cell_type": "code",
   "execution_count": 28,
   "id": "f54534bb",
   "metadata": {},
   "outputs": [
    {
     "name": "stdout",
     "output_type": "stream",
     "text": [
      "F1 Случайного леса: 0.5204582651391163 RandomForestClassifier(class_weight='balanced', n_estimators=29,\n",
      "                       random_state=12345)\n",
      "AUC_ROC_balanced_случайный лес: 0.8256816278001459\n"
     ]
    }
   ],
   "source": [
    "best_model = None\n",
    "best_result = 0\n",
    "for est in range(1, 30):\n",
    "    model = RandomForestClassifier(random_state=12345, n_estimators=est,class_weight='balanced')# обучите модель с заданным количеством деревьев\n",
    "    model.fit(features_train,target_train)\n",
    "    predicted_valid = model.predict(features_valid)\n",
    "    result = f1_score(target_valid,predicted_valid)\n",
    "    if result > best_result:\n",
    "        best_model = model\n",
    "        best_random_tree_result_balanced = result\n",
    "\n",
    "print(\"F1 Случайного леса:\", best_random_tree_result_balanced, best_model)\n",
    "\n",
    "probabilities_valid = model.predict_proba(features_valid)\n",
    "probabilities_one_valid = probabilities_valid[:, 1]\n",
    "\n",
    "best_random_tree_aucroc_balanced=roc_auc_score(target_valid,probabilities_one_valid)\n",
    "print('AUC_ROC_balanced_случайный лес:',best_random_tree_aucroc_balanced)"
   ]
  },
  {
   "cell_type": "markdown",
   "id": "c324e1e3",
   "metadata": {},
   "source": [
    "#### Модель дерева решений со сбалансированными классами"
   ]
  },
  {
   "cell_type": "code",
   "execution_count": 29,
   "id": "12f49831",
   "metadata": {},
   "outputs": [
    {
     "name": "stdout",
     "output_type": "stream",
     "text": [
      "F1 Дерева решений: 0.4701670644391408 DecisionTreeClassifier(class_weight='balanced', max_depth=15,\n",
      "                       random_state=12345)\n",
      "AUC_ROC_balanced_дерево_решений: 0.6908645264250484\n"
     ]
    }
   ],
   "source": [
    "best_model = None\n",
    "best_result = 0\n",
    "for depth in range(1, 16):\n",
    "    model = DecisionTreeClassifier(random_state=12345, max_depth = depth,class_weight='balanced')# обучите модель с заданным количеством деревьев\n",
    "    model.fit(features_train,target_train)\n",
    "    predicted_valid = model.predict(features_valid)\n",
    "    result = f1_score(target_valid,predicted_valid)\n",
    "    if result > best_result:\n",
    "        best_model = model\n",
    "        best_tree_result_balanced = result\n",
    "\n",
    "print(\"F1 Дерева решений:\", best_tree_result_balanced, best_model)\n",
    "\n",
    "probabilities_valid = model.predict_proba(features_valid)\n",
    "probabilities_one_valid = probabilities_valid[:, 1]\n",
    "\n",
    "best_tree_aucroc_balanced=roc_auc_score(target_valid,probabilities_one_valid)\n",
    "print('AUC_ROC_balanced_дерево_решений:',best_tree_aucroc_balanced)"
   ]
  },
  {
   "cell_type": "markdown",
   "id": "b40b28e0",
   "metadata": {},
   "source": [
    "#### Модель логической регрессии со сбалансированными классами"
   ]
  },
  {
   "cell_type": "code",
   "execution_count": 30,
   "id": "3099c78e",
   "metadata": {},
   "outputs": [
    {
     "name": "stdout",
     "output_type": "stream",
     "text": [
      "F1 логической регрессии: 0.4741532976827095\n",
      "AUC_ROC_balanced_логической регрессии: 0.7725660805030526\n"
     ]
    }
   ],
   "source": [
    "model = LogisticRegression(random_state=12345, solver='liblinear',class_weight='balanced')\n",
    "model.fit(features_train, target_train)\n",
    "predicted_valid = model.predict(features_valid)\n",
    "\n",
    "best_logic_balanced = f1_score(target_valid, predicted_valid)\n",
    "print(\"F1 логической регрессии:\",best_logic_balanced)\n",
    "\n",
    "probabilities_valid = model.predict_proba(features_valid)\n",
    "probabilities_one_valid = probabilities_valid[:, 1]\n",
    "\n",
    "best_logic_auc_balanced =roc_auc_score(target_valid,probabilities_one_valid)\n",
    "print('AUC_ROC_balanced_логической регрессии:',best_logic_auc_balanced)"
   ]
  },
  {
   "cell_type": "markdown",
   "id": "1d069bc3",
   "metadata": {},
   "source": [
    "#### Вывод_сбалансированные классы: наилучший результат\n",
    "- F1 Случайного леса: 0.5718799368088467 (n_estimators=29)\n",
    "- AUC_ROC_balanced_случайный лес: 0.8397743511164024"
   ]
  },
  {
   "cell_type": "markdown",
   "id": "f217519a",
   "metadata": {},
   "source": [
    "### 4. Работа с классами данных методом Upsampling "
   ]
  },
  {
   "cell_type": "markdown",
   "id": "4861e106",
   "metadata": {},
   "source": [
    "#### 4.1 Разделение выборок на классы "
   ]
  },
  {
   "cell_type": "markdown",
   "id": "2813cee7",
   "metadata": {},
   "source": [
    "Разделили обучающую выборку на отрицательные и положительные объекты\n",
    "- features_zeros — признаки объектов с ответом «0»;\n",
    "- features_ones — признаки объектов с ответом «1»;\n",
    "- target_zeros — целевой признак объектов, у которых ответы только «0»;\n",
    "- target_ones — целевой признак объектов, у которых ответы только «1»"
   ]
  },
  {
   "cell_type": "code",
   "execution_count": 31,
   "id": "2e6997ce",
   "metadata": {},
   "outputs": [
    {
     "name": "stdout",
     "output_type": "stream",
     "text": [
      "(4781, 11)\n",
      "(1219, 11)\n",
      "(4781,)\n",
      "(1219,)\n"
     ]
    }
   ],
   "source": [
    "features_zeros= features_train[target_train == 0]\n",
    "features_ones= features_train[target_train == 1]\n",
    "target_zeros= target_train[target_train == 0]\n",
    "target_ones= target_train[target_train == 1]\n",
    "\n",
    "print(features_zeros.shape)\n",
    "print(features_ones.shape)\n",
    "print(target_zeros.shape)\n",
    "print(target_ones.shape)"
   ]
  },
  {
   "cell_type": "markdown",
   "id": "470b42eb",
   "metadata": {},
   "source": [
    "Продублировали объекты положительного класса и объединили их с объектами отрицательного класса.   Видим, что выборки примерно в 4 раза различаются, заначит выберем параметр  repeat =  4"
   ]
  },
  {
   "cell_type": "code",
   "execution_count": 32,
   "id": "4141ecb1",
   "metadata": {},
   "outputs": [],
   "source": [
    "repeat = 4\n",
    "features_upsampled = pd.concat([features_zeros] + [features_ones] * repeat)\n",
    "target_upsampled = pd.concat([target_zeros] + [target_ones] * repeat)"
   ]
  },
  {
   "cell_type": "code",
   "execution_count": 33,
   "id": "a6e81ac8",
   "metadata": {},
   "outputs": [
    {
     "name": "stdout",
     "output_type": "stream",
     "text": [
      "(6000, 11)\n",
      "(2000, 11)\n",
      "(2000,)\n"
     ]
    }
   ],
   "source": [
    "repeat = 4\n",
    "def upsample(features, target, repeat):\n",
    "    features_zeros = features_train[target_train == 0]\n",
    "    features_ones = features_train[target_train == 1]\n",
    "    target_zeros = target_train[target_train == 0]\n",
    "    target_ones = target_train[target_train == 1]\n",
    "    \n",
    "    \n",
    "    features_upsampled = pd.concat([features_zeros] + [features_ones] * repeat)\n",
    "    target_upsampled = pd.concat([target_zeros] + [target_ones] * repeat)\n",
    "    \n",
    "    features_upsampled,target_upsampled = shuffle(features_upsampled, target_upsampled, random_state=12345)\n",
    "    \n",
    "    return features_upsampled, target_upsampled\n",
    "features_upsampled, target_upsampled = upsample(features_train, target_train, 4)\n",
    "print(features_train.shape)\n",
    "print(features_valid.shape)\n",
    "print(target_test.shape)"
   ]
  },
  {
   "cell_type": "code",
   "execution_count": 34,
   "id": "1cb9a60a",
   "metadata": {},
   "outputs": [
    {
     "name": "stdout",
     "output_type": "stream",
     "text": [
      "(9657, 11) (9657,)\n"
     ]
    }
   ],
   "source": [
    "print(features_upsampled.shape, target_upsampled.shape)"
   ]
  },
  {
   "cell_type": "markdown",
   "id": "8f628469",
   "metadata": {},
   "source": [
    "### 5.Улучшите качество моделей. Обучите разные модели и найдите лучшую. Кратко опишите выводы."
   ]
  },
  {
   "cell_type": "markdown",
   "id": "fae312db",
   "metadata": {},
   "source": [
    "#### 5.1 Построение моделей с использование данных после Upsampling "
   ]
  },
  {
   "cell_type": "markdown",
   "id": "c8e57afa",
   "metadata": {},
   "source": [
    "#### Модель случайного леса с данными после upsamling"
   ]
  },
  {
   "cell_type": "code",
   "execution_count": 35,
   "id": "ed06456f",
   "metadata": {},
   "outputs": [
    {
     "name": "stdout",
     "output_type": "stream",
     "text": [
      "F1 Случайного леса на сэмплированных данных: 0.5865921787709497 RandomForestClassifier(n_estimators=99, random_state=12345)\n",
      "AUC_ROC_up_на сэмплированных данных: 0.8418590123649103\n"
     ]
    }
   ],
   "source": [
    "best_model = None\n",
    "best_result = 0\n",
    "for est in range(1, 100):\n",
    "    model = RandomForestClassifier(random_state=12345, n_estimators=est)\n",
    "    model.fit(features_upsampled,target_upsampled)\n",
    "    predicted_valid = model.predict(features_valid)\n",
    "    result = f1_score(target_valid,predicted_valid)\n",
    "    if result > best_result:\n",
    "        best_model = model\n",
    "        best_random_tree_result_up= result\n",
    "\n",
    "print(\"F1 Случайного леса на сэмплированных данных:\", best_random_tree_result_up, best_model)\n",
    "\n",
    "probabilities_valid = model.predict_proba(features_valid)\n",
    "probabilities_one_valid = probabilities_valid[:, 1]\n",
    "\n",
    "best_random_tree_aucroc_up=roc_auc_score(target_valid,probabilities_one_valid)\n",
    "print('AUC_ROC_up_на сэмплированных данных:',best_random_tree_aucroc_up)"
   ]
  },
  {
   "cell_type": "markdown",
   "id": "7100ca9c",
   "metadata": {},
   "source": [
    "#### Модель дерева решений с данными после upsamling"
   ]
  },
  {
   "cell_type": "code",
   "execution_count": 36,
   "id": "d592193d",
   "metadata": {},
   "outputs": [
    {
     "name": "stdout",
     "output_type": "stream",
     "text": [
      "F1 Дерева решений на сэмплированных данных:: 0.47281323877068554 DecisionTreeClassifier(max_depth=15, random_state=12345)\n",
      "AUC_ROC_up_на сэмплированных данных: 0.6936263250672767\n"
     ]
    }
   ],
   "source": [
    "best_model = None\n",
    "best_result = 0\n",
    "for depth in range(1, 16):\n",
    "    model = DecisionTreeClassifier(random_state=12345, max_depth = depth)\n",
    "    model.fit(features_upsampled,target_upsampled)\n",
    "    predicted_valid = model.predict(features_valid)\n",
    "    result = f1_score(target_valid,predicted_valid)\n",
    "    if result > best_result:\n",
    "        best_model = model\n",
    "        best_tree_result_up = result\n",
    "\n",
    "print(\"F1 Дерева решений на сэмплированных данных::\", best_tree_result_up, best_model)\n",
    "\n",
    "probabilities_valid = model.predict_proba(features_valid)\n",
    "probabilities_one_valid = probabilities_valid[:, 1]\n",
    "\n",
    "best_tree_aucroc_up=roc_auc_score(target_valid,probabilities_one_valid)\n",
    "print('AUC_ROC_up_на сэмплированных данных:',best_tree_aucroc_up)"
   ]
  },
  {
   "cell_type": "markdown",
   "id": "f326bb7f",
   "metadata": {},
   "source": [
    "#### Модель логической регрессии с данными после upsamling"
   ]
  },
  {
   "cell_type": "code",
   "execution_count": 37,
   "id": "5dc015da",
   "metadata": {},
   "outputs": [
    {
     "name": "stdout",
     "output_type": "stream",
     "text": [
      "F1 Логической регрессии на сэмплированных данных: 0.4771126760563381\n",
      "AUC_ROC_up_на сэмплированных данных: 0.7725676700274511\n"
     ]
    }
   ],
   "source": [
    "model = LogisticRegression(random_state=12345, solver='lbfgs', max_iter=100)#solver='lbfgs',позволяет выбрать алгоритм, который будет строить модель.иперпараметром max_iter задаётся максимальное количество итераций обучения. \n",
    "#Значение этого параметра по умолчанию 100, но в некоторых случаях понадобится больше итераций.\n",
    "model.fit(features_upsampled,target_upsampled)\n",
    "predicted_valid = model.predict(features_valid)\n",
    "\n",
    "best_logic_up = f1_score(target_valid, predicted_valid)\n",
    "\n",
    "print(\"F1 Логической регрессии на сэмплированных данных:\", best_logic_up )\n",
    "\n",
    "probabilities_valid = model.predict_proba(features_valid)\n",
    "probabilities_one_valid = probabilities_valid[:, 1]\n",
    "\n",
    "best_logic_aucroc_up=roc_auc_score(target_valid,probabilities_one_valid)\n",
    "print('AUC_ROC_up_на сэмплированных данных:',best_logic_aucroc_up)"
   ]
  },
  {
   "cell_type": "code",
   "execution_count": 38,
   "id": "48e1bac2",
   "metadata": {},
   "outputs": [],
   "source": [
    "#model = RandomForestClassifier(random_state=12345, n_estimators=25)\n",
    "#model.fit(features_upsampled,target_upsampled)\n",
    "#predicted_valid = model.predict(features_valid)\n",
    "\n",
    "#probabilities_one_valid = probabilities_valid[:, 1]\n",
    "\n",
    "#for threshold in np.arange(0, 0.3, 0.02):\n",
    "    #predicted_valid = probabilities_one_valid > threshold\n",
    "    #F1 = f1_score(target_valid, predicted_valid)\n",
    "    #print(\"Порог = {:.2f} | F1 = {:.3f}\".format(\n",
    "        #threshold, F1))"
   ]
  },
  {
   "cell_type": "code",
   "execution_count": 39,
   "id": "a55a98b1",
   "metadata": {},
   "outputs": [],
   "source": [
    "#model = DecisionTreeClassifier(random_state=12345, max_depth=7)\n",
    "#model.fit(features_upsampled,target_upsampled)# обучите модель\n",
    "#predicted_valid = model.predict(features_valid)\n",
    "\n",
    "#probabilities_one_valid = probabilities_valid[:, 1]\n",
    "\n",
    "#for threshold in np.arange(0, 0.3, 0.02):\n",
    "    #predicted_valid = probabilities_one_valid > threshold\n",
    "    #F1 = f1_score(target_valid, predicted_valid)\n",
    "    #print(\"Порог = {:.2f} | F1 = {:.3f}\".format(\n",
    "        #threshold, F1))"
   ]
  },
  {
   "cell_type": "code",
   "execution_count": 40,
   "id": "20ddcf10",
   "metadata": {},
   "outputs": [],
   "source": [
    "#model = LogisticRegression(solver='liblinear',random_state = 12345 )\n",
    "#model.fit(features_upsampled,target_upsampled)\n",
    "#predicted_valid = model.predict(features_valid)\n",
    "\n",
    "#probabilities_one_valid = probabilities_valid[:, 1]\n",
    "\n",
    "#for threshold in np.arange(0, 0.3, 0.02):\n",
    "    #predicted_valid = probabilities_one_valid > threshold\n",
    "    #F1 = f1_score(target_valid, predicted_valid)\n",
    "    #print(\"Порог = {:.2f} | F1 = {:.3f}\".format(\n",
    "        #threshold, F1))"
   ]
  },
  {
   "cell_type": "markdown",
   "id": "3239131c",
   "metadata": {},
   "source": [
    "#### 5.2 Построим график PR для логической регрессии"
   ]
  },
  {
   "cell_type": "code",
   "execution_count": 41,
   "id": "ce48bfbd",
   "metadata": {},
   "outputs": [
    {
     "data": {
      "image/png": "[encoded data removed]",
      "text/plain": [
       "<Figure size 432x432 with 1 Axes>"
      ]
     },
     "metadata": {
      "needs_background": "light"
     },
     "output_type": "display_data"
    }
   ],
   "source": [
    "model = LogisticRegression(random_state=12345, solver='liblinear')\n",
    "model.fit(features_upsampled,target_upsampled)\n",
    "\n",
    "probabilities_valid = model.predict_proba(features_valid)\n",
    "precision, recall, thresholds = precision_recall_curve(target_valid, probabilities_valid[:, 1])\n",
    "\n",
    "plt.figure(figsize=(6, 6))\n",
    "plt.step(recall, precision, where='post')\n",
    "plt.xlabel('Recall')\n",
    "plt.ylabel('Precision')\n",
    "plt.ylim([0.0, 1.05])\n",
    "plt.xlim([0.0, 1.0])\n",
    "plt.title('Кривая Precision-Recall')\n",
    "plt.show() "
   ]
  },
  {
   "cell_type": "markdown",
   "id": "84212ef5",
   "metadata": {},
   "source": [
    "### 6. Выбор лучшей модели и финальное тестирование"
   ]
  },
  {
   "cell_type": "markdown",
   "id": "a30c1a5d",
   "metadata": {},
   "source": [
    "#### 6.1 Построение таблицы значений для выбора наилучшей модели и значений"
   ]
  },
  {
   "cell_type": "code",
   "execution_count": 42,
   "id": "bab5a20a",
   "metadata": {},
   "outputs": [],
   "source": [
    "df_train_result = pd.DataFrame(\n",
    "    columns=['F1_raw', 'AUC_ROC_raw', '|',\n",
    "             'F1_balanced', 'AUC_ROC_balanced', '|',\n",
    "             'F1_up', 'AUC_ROC_up', '|'\n",
    "            ],\n",
    "    \n",
    "    index=['случайный_лес',\n",
    "           'дерево_решений',\n",
    "           'логистическая_регрессия']\n",
    ")\n",
    "df_train_result['|'] =  '|'"
   ]
  },
  {
   "cell_type": "markdown",
   "id": "b398e205",
   "metadata": {},
   "source": [
    "#### 6.1.1 Результаты модели для сырых данных"
   ]
  },
  {
   "cell_type": "code",
   "execution_count": 43,
   "id": "e64abb3c",
   "metadata": {},
   "outputs": [],
   "source": [
    "df_train_result.loc['дерево_решений', 'F1_raw'] = best_tree_result\n",
    "df_train_result.loc['дерево_решений', 'AUC_ROC_raw'] = best_tree_aucroc"
   ]
  },
  {
   "cell_type": "code",
   "execution_count": 44,
   "id": "91a95643",
   "metadata": {},
   "outputs": [],
   "source": [
    "df_train_result.loc['случайный_лес', 'F1_raw'] = best_random_tree_result\n",
    "df_train_result.loc['случайный_лес', 'AUC_ROC_raw'] = best_random_tree_aucroc"
   ]
  },
  {
   "cell_type": "code",
   "execution_count": 45,
   "id": "d57f0e9d",
   "metadata": {},
   "outputs": [],
   "source": [
    "df_train_result.loc['логистическая_регрессия', 'F1_raw'] = best_logic_result\n",
    "df_train_result.loc['логистическая_регрессия', 'AUC_ROC_raw'] = best_logic_aucroc"
   ]
  },
  {
   "cell_type": "markdown",
   "id": "8f1fee8d",
   "metadata": {},
   "source": [
    "#### 6.1.2 Результаты модели для сбалансирования данных"
   ]
  },
  {
   "cell_type": "code",
   "execution_count": 46,
   "id": "f534deed",
   "metadata": {},
   "outputs": [],
   "source": [
    "df_train_result.loc['дерево_решений', 'F1_balanced'] = best_tree_result_balanced\n",
    "df_train_result.loc['дерево_решений', 'AUC_ROC_balanced'] = best_tree_aucroc_balanced"
   ]
  },
  {
   "cell_type": "code",
   "execution_count": 47,
   "id": "59546756",
   "metadata": {},
   "outputs": [],
   "source": [
    "df_train_result.loc['случайный_лес', 'F1_balanced'] = best_random_tree_result_balanced\n",
    "df_train_result.loc['случайный_лес', 'AUC_ROC_balanced'] = best_random_tree_aucroc_balanced"
   ]
  },
  {
   "cell_type": "code",
   "execution_count": 48,
   "id": "d09fbf1a",
   "metadata": {},
   "outputs": [],
   "source": [
    "df_train_result.loc['логистическая_регрессия', 'F1_balanced'] = best_logic_balanced\n",
    "df_train_result.loc['логистическая_регрессия', 'AUC_ROC_balanced'] = best_logic_auc_balanced"
   ]
  },
  {
   "cell_type": "markdown",
   "id": "81f7a974",
   "metadata": {},
   "source": [
    "#### 6.1.3 Результаты модели для данных после upsamling"
   ]
  },
  {
   "cell_type": "code",
   "execution_count": 49,
   "id": "e460e664",
   "metadata": {},
   "outputs": [],
   "source": [
    "df_train_result.loc['дерево_решений', 'F1_up'] = best_tree_result_up\n",
    "df_train_result.loc['дерево_решений', 'AUC_ROC_up'] = best_tree_aucroc_up"
   ]
  },
  {
   "cell_type": "code",
   "execution_count": 50,
   "id": "82f30f9e",
   "metadata": {},
   "outputs": [],
   "source": [
    "df_train_result.loc['случайный_лес', 'F1_up'] = best_random_tree_result_up\n",
    "df_train_result.loc['случайный_лес', 'AUC_ROC_up'] = best_random_tree_aucroc_up"
   ]
  },
  {
   "cell_type": "code",
   "execution_count": 51,
   "id": "bbdf29c0",
   "metadata": {},
   "outputs": [],
   "source": [
    "df_train_result.loc['логистическая_регрессия', 'F1_up'] = best_logic_up\n",
    "df_train_result.loc['логистическая_регрессия', 'AUC_ROC_up'] = best_logic_aucroc_up"
   ]
  },
  {
   "cell_type": "markdown",
   "id": "5661f64f",
   "metadata": {},
   "source": [
    "#### 6.2 Итоговая таблица результатов"
   ]
  },
  {
   "cell_type": "code",
   "execution_count": 52,
   "id": "0d6bf328",
   "metadata": {},
   "outputs": [
    {
     "data": {
      "text/html": [
       "<div>\n",
       "<style scoped>\n",
       "    .dataframe tbody tr th:only-of-type {\n",
       "        vertical-align: middle;\n",
       "    }\n",
       "\n",
       "    .dataframe tbody tr th {\n",
       "        vertical-align: top;\n",
       "    }\n",
       "\n",
       "    .dataframe thead th {\n",
       "        text-align: right;\n",
       "    }\n",
       "</style>\n",
       "<table border=\"1\" class=\"dataframe\">\n",
       "  <thead>\n",
       "    <tr style=\"text-align: right;\">\n",
       "      <th></th>\n",
       "      <th>F1_raw</th>\n",
       "      <th>AUC_ROC_raw</th>\n",
       "      <th>|</th>\n",
       "      <th>F1_balanced</th>\n",
       "      <th>AUC_ROC_balanced</th>\n",
       "      <th>|</th>\n",
       "      <th>F1_up</th>\n",
       "      <th>AUC_ROC_up</th>\n",
       "      <th>|</th>\n",
       "    </tr>\n",
       "  </thead>\n",
       "  <tbody>\n",
       "    <tr>\n",
       "      <th>случайный_лес</th>\n",
       "      <td>0.575472</td>\n",
       "      <td>0.834302</td>\n",
       "      <td>|</td>\n",
       "      <td>0.520458</td>\n",
       "      <td>0.825682</td>\n",
       "      <td>|</td>\n",
       "      <td>0.586592</td>\n",
       "      <td>0.841859</td>\n",
       "      <td>|</td>\n",
       "    </tr>\n",
       "    <tr>\n",
       "      <th>дерево_решений</th>\n",
       "      <td>0.499339</td>\n",
       "      <td>0.693826</td>\n",
       "      <td>|</td>\n",
       "      <td>0.470167</td>\n",
       "      <td>0.690865</td>\n",
       "      <td>|</td>\n",
       "      <td>0.472813</td>\n",
       "      <td>0.693626</td>\n",
       "      <td>|</td>\n",
       "    </tr>\n",
       "    <tr>\n",
       "      <th>логистическая_регрессия</th>\n",
       "      <td>0.301318</td>\n",
       "      <td>0.770339</td>\n",
       "      <td>|</td>\n",
       "      <td>0.474153</td>\n",
       "      <td>0.772566</td>\n",
       "      <td>|</td>\n",
       "      <td>0.477113</td>\n",
       "      <td>0.772568</td>\n",
       "      <td>|</td>\n",
       "    </tr>\n",
       "  </tbody>\n",
       "</table>\n",
       "</div>"
      ],
      "text/plain": [
       "                           F1_raw AUC_ROC_raw  | F1_balanced AUC_ROC_balanced  \\\n",
       "случайный_лес            0.575472    0.834302  |    0.520458         0.825682   \n",
       "дерево_решений           0.499339    0.693826  |    0.470167         0.690865   \n",
       "логистическая_регрессия  0.301318    0.770339  |    0.474153         0.772566   \n",
       "\n",
       "                         |     F1_up AUC_ROC_up  |  \n",
       "случайный_лес            |  0.586592   0.841859  |  \n",
       "дерево_решений           |  0.472813   0.693626  |  \n",
       "логистическая_регрессия  |  0.477113   0.772568  |  "
      ]
     },
     "metadata": {},
     "output_type": "display_data"
    }
   ],
   "source": [
    "display(df_train_result)"
   ]
  },
  {
   "cell_type": "markdown",
   "id": "b850d327",
   "metadata": {},
   "source": [
    "#### Вывод и выбор модели: Наилучшие показатели F1 и AUC-ROC у модели случайного леса с данными после upsamping. Обратимся к расчету  этой модели и возьмем наилучшие показатели n_estimators=99 для предсказаний на тестовой выборке"
   ]
  },
  {
   "cell_type": "markdown",
   "id": "519dffd1",
   "metadata": {},
   "source": [
    "### 7.  Расчет F1-меры и AUC-ROC на тестовой выборке "
   ]
  },
  {
   "cell_type": "markdown",
   "id": "3d38ea8f",
   "metadata": {},
   "source": [
    "Возьмем для дальнеших расчетов обьедененную выборку Train_valid для  увеличения точности работы модели"
   ]
  },
  {
   "cell_type": "code",
   "execution_count": 53,
   "id": "1e5192d2",
   "metadata": {},
   "outputs": [],
   "source": [
    "features_train = train_valid.drop(['exited'],axis = 1)\n",
    "target_train = train_valid['exited'] "
   ]
  },
  {
   "cell_type": "code",
   "execution_count": 54,
   "id": "e8eabf8a",
   "metadata": {},
   "outputs": [
    {
     "name": "stdout",
     "output_type": "stream",
     "text": [
      "F1 на тестовой выборке: 0.5979381443298969\n",
      "auc_roc на тестовой выборке: 0.8418590123649103\n"
     ]
    }
   ],
   "source": [
    "model = RandomForestClassifier(random_state=12345, n_estimators=99)\n",
    "model.fit(features_upsampled,target_upsampled)\n",
    "predict_test = model.predict(features_test)\n",
    "\n",
    "result_test = f1_score(target_test,predict_test)\n",
    "print (\"F1 на тестовой выборке:\",result_test)\n",
    "\n",
    "probabilities_valid = model.predict_proba(features_valid)\n",
    "probabilities_one_valid = probabilities_valid[:, 1]\n",
    "\n",
    "auc_roc=roc_auc_score(target_valid,probabilities_one_valid)\n",
    "print(\"auc_roc на тестовой выборке:\",auc_roc)"
   ]
  },
  {
   "cell_type": "markdown",
   "id": "87eab9f4",
   "metadata": {},
   "source": [
    "### 8. Общий вывод \n",
    "Подготовлена модель случайного леса с показателями (random_state=12345, n_estimators=99) для дальнейшего прогнозирование ухода клиентов из \"Бета-банка\". \n",
    "- Показатели данной модели: \n",
    "- F1 : 0.5979381443298969\n",
    "- auc_roc : 0.8418590123649103"
   ]
  }
 ],
 "metadata": {
  "ExecuteTimeLog": [
   {
    "duration": 436,
    "start_time": "2022-03-29T13:19:18.853Z"
   },
   {
    "duration": 1329,
    "start_time": "2022-03-29T13:19:19.291Z"
   },
   {
    "duration": 33,
    "start_time": "2022-03-29T13:19:20.622Z"
   },
   {
    "duration": 6,
    "start_time": "2022-03-29T13:19:20.657Z"
   },
   {
    "duration": 35,
    "start_time": "2022-03-29T13:19:20.666Z"
   },
   {
    "duration": 36,
    "start_time": "2022-03-29T13:19:20.703Z"
   },
   {
    "duration": 5,
    "start_time": "2022-03-29T13:19:20.741Z"
   },
   {
    "duration": 10,
    "start_time": "2022-03-29T13:19:20.748Z"
   },
   {
    "duration": 21,
    "start_time": "2022-03-29T13:19:20.760Z"
   },
   {
    "duration": 13,
    "start_time": "2022-03-29T13:19:20.783Z"
   },
   {
    "duration": 53,
    "start_time": "2022-03-29T13:19:20.798Z"
   },
   {
    "duration": 17,
    "start_time": "2022-03-29T13:19:20.853Z"
   },
   {
    "duration": 11,
    "start_time": "2022-03-29T13:19:20.872Z"
   },
   {
    "duration": 3,
    "start_time": "2022-03-29T13:19:20.887Z"
   },
   {
    "duration": 10,
    "start_time": "2022-03-29T13:19:20.892Z"
   },
   {
    "duration": 29,
    "start_time": "2022-03-29T13:19:20.904Z"
   },
   {
    "duration": 5,
    "start_time": "2022-03-29T13:19:20.936Z"
   },
   {
    "duration": 8,
    "start_time": "2022-03-29T13:19:20.943Z"
   },
   {
    "duration": 7,
    "start_time": "2022-03-29T13:19:20.953Z"
   },
   {
    "duration": 7,
    "start_time": "2022-03-29T13:19:20.962Z"
   },
   {
    "duration": 90,
    "start_time": "2022-03-29T13:19:20.971Z"
   },
   {
    "duration": 3664,
    "start_time": "2022-03-29T13:19:21.063Z"
   },
   {
    "duration": 2350,
    "start_time": "2022-03-29T13:19:24.729Z"
   },
   {
    "duration": 257,
    "start_time": "2022-03-29T13:19:27.081Z"
   },
   {
    "duration": 404,
    "start_time": "2022-03-29T13:19:27.340Z"
   },
   {
    "duration": 3581,
    "start_time": "2022-03-29T13:19:27.746Z"
   },
   {
    "duration": 1530,
    "start_time": "2022-03-29T13:19:31.329Z"
   },
   {
    "duration": 175,
    "start_time": "2022-03-29T13:19:32.861Z"
   },
   {
    "duration": 98,
    "start_time": "2022-03-29T13:19:33.039Z"
   },
   {
    "duration": 5,
    "start_time": "2022-03-29T13:19:33.139Z"
   },
   {
    "duration": 15,
    "start_time": "2022-03-29T13:19:33.146Z"
   },
   {
    "duration": 53614,
    "start_time": "2022-03-29T13:19:33.163Z"
   },
   {
    "duration": 1813,
    "start_time": "2022-03-29T13:20:26.779Z"
   },
   {
    "duration": 248,
    "start_time": "2022-03-29T13:20:28.594Z"
   },
   {
    "duration": 88,
    "start_time": "2022-03-29T13:20:28.844Z"
   },
   {
    "duration": 118,
    "start_time": "2022-03-29T13:20:28.936Z"
   },
   {
    "duration": 22,
    "start_time": "2022-03-29T13:20:29.056Z"
   },
   {
    "duration": 352,
    "start_time": "2022-03-29T13:20:29.080Z"
   },
   {
    "duration": 7,
    "start_time": "2022-03-29T13:20:29.434Z"
   },
   {
    "duration": 21,
    "start_time": "2022-03-29T13:20:29.442Z"
   },
   {
    "duration": 11,
    "start_time": "2022-03-29T13:20:29.467Z"
   },
   {
    "duration": 28,
    "start_time": "2022-03-29T13:20:29.480Z"
   },
   {
    "duration": 23,
    "start_time": "2022-03-29T13:20:29.509Z"
   },
   {
    "duration": 25,
    "start_time": "2022-03-29T13:20:29.534Z"
   },
   {
    "duration": 30,
    "start_time": "2022-03-29T13:20:29.561Z"
   },
   {
    "duration": 19,
    "start_time": "2022-03-29T13:20:29.593Z"
   },
   {
    "duration": 27,
    "start_time": "2022-03-29T13:20:29.614Z"
   },
   {
    "duration": 19,
    "start_time": "2022-03-29T13:20:29.643Z"
   },
   {
    "duration": 31,
    "start_time": "2022-03-29T13:20:29.664Z"
   },
   {
    "duration": 20,
    "start_time": "2022-03-29T13:20:29.697Z"
   },
   {
    "duration": 1126,
    "start_time": "2022-03-29T13:20:29.719Z"
   },
   {
    "duration": 412,
    "start_time": "2022-03-29T13:30:37.758Z"
   },
   {
    "duration": 1149,
    "start_time": "2022-03-29T13:30:38.172Z"
   },
   {
    "duration": 36,
    "start_time": "2022-03-29T13:30:39.323Z"
   },
   {
    "duration": 7,
    "start_time": "2022-03-29T13:30:39.361Z"
   },
   {
    "duration": 27,
    "start_time": "2022-03-29T13:30:39.370Z"
   },
   {
    "duration": 17,
    "start_time": "2022-03-29T13:30:39.399Z"
   },
   {
    "duration": 5,
    "start_time": "2022-03-29T13:30:39.432Z"
   },
   {
    "duration": 10,
    "start_time": "2022-03-29T13:30:39.439Z"
   },
   {
    "duration": 19,
    "start_time": "2022-03-29T13:30:39.451Z"
   },
   {
    "duration": 17,
    "start_time": "2022-03-29T13:30:39.473Z"
   },
   {
    "duration": 50,
    "start_time": "2022-03-29T13:30:39.492Z"
   },
   {
    "duration": 14,
    "start_time": "2022-03-29T13:30:39.544Z"
   },
   {
    "duration": 11,
    "start_time": "2022-03-29T13:30:39.560Z"
   },
   {
    "duration": 3,
    "start_time": "2022-03-29T13:30:39.573Z"
   },
   {
    "duration": 11,
    "start_time": "2022-03-29T13:30:39.578Z"
   },
   {
    "duration": 22,
    "start_time": "2022-03-29T13:30:39.591Z"
   },
   {
    "duration": 17,
    "start_time": "2022-03-29T13:30:39.615Z"
   },
   {
    "duration": 9,
    "start_time": "2022-03-29T13:30:39.634Z"
   },
   {
    "duration": 9,
    "start_time": "2022-03-29T13:30:39.645Z"
   },
   {
    "duration": 9,
    "start_time": "2022-03-29T13:30:39.656Z"
   },
   {
    "duration": 52,
    "start_time": "2022-03-29T13:30:39.667Z"
   },
   {
    "duration": 4449,
    "start_time": "2022-03-29T13:30:39.732Z"
   },
   {
    "duration": 1570,
    "start_time": "2022-03-29T13:30:44.183Z"
   },
   {
    "duration": 985,
    "start_time": "2022-03-29T13:30:45.756Z"
   },
   {
    "duration": 404,
    "start_time": "2022-03-29T13:30:46.745Z"
   },
   {
    "duration": 3608,
    "start_time": "2022-03-29T13:30:47.151Z"
   },
   {
    "duration": 1502,
    "start_time": "2022-03-29T13:30:50.761Z"
   },
   {
    "duration": 171,
    "start_time": "2022-03-29T13:30:52.269Z"
   },
   {
    "duration": 93,
    "start_time": "2022-03-29T13:30:52.443Z"
   },
   {
    "duration": 10,
    "start_time": "2022-03-29T13:30:52.538Z"
   },
   {
    "duration": 87,
    "start_time": "2022-03-29T13:30:52.550Z"
   },
   {
    "duration": 53162,
    "start_time": "2022-03-29T13:30:52.639Z"
   },
   {
    "duration": 1910,
    "start_time": "2022-03-29T13:31:45.803Z"
   },
   {
    "duration": 521,
    "start_time": "2022-03-29T13:31:47.715Z"
   },
   {
    "duration": 5,
    "start_time": "2022-03-29T13:31:48.239Z"
   },
   {
    "duration": 11,
    "start_time": "2022-03-29T13:31:48.331Z"
   },
   {
    "duration": 8,
    "start_time": "2022-03-29T13:31:48.343Z"
   },
   {
    "duration": 304,
    "start_time": "2022-03-29T13:31:48.353Z"
   },
   {
    "duration": 6,
    "start_time": "2022-03-29T13:31:48.659Z"
   },
   {
    "duration": 8,
    "start_time": "2022-03-29T13:31:48.667Z"
   },
   {
    "duration": 7,
    "start_time": "2022-03-29T13:31:48.677Z"
   },
   {
    "duration": 6,
    "start_time": "2022-03-29T13:31:48.686Z"
   },
   {
    "duration": 8,
    "start_time": "2022-03-29T13:31:48.694Z"
   },
   {
    "duration": 29,
    "start_time": "2022-03-29T13:31:48.703Z"
   },
   {
    "duration": 10,
    "start_time": "2022-03-29T13:31:48.734Z"
   },
   {
    "duration": 8,
    "start_time": "2022-03-29T13:31:48.746Z"
   },
   {
    "duration": 8,
    "start_time": "2022-03-29T13:31:48.756Z"
   },
   {
    "duration": 8,
    "start_time": "2022-03-29T13:31:48.766Z"
   },
   {
    "duration": 16,
    "start_time": "2022-03-29T13:31:48.776Z"
   },
   {
    "duration": 8,
    "start_time": "2022-03-29T13:31:48.794Z"
   },
   {
    "duration": 1157,
    "start_time": "2022-03-29T13:31:48.805Z"
   },
   {
    "duration": 5,
    "start_time": "2022-03-29T13:56:31.058Z"
   },
   {
    "duration": 3,
    "start_time": "2022-03-29T13:57:02.658Z"
   },
   {
    "duration": 9,
    "start_time": "2022-03-29T13:57:02.664Z"
   },
   {
    "duration": 43,
    "start_time": "2022-03-29T13:57:02.675Z"
   },
   {
    "duration": 5,
    "start_time": "2022-03-29T13:57:02.721Z"
   },
   {
    "duration": 25,
    "start_time": "2022-03-29T13:57:02.727Z"
   },
   {
    "duration": 26,
    "start_time": "2022-03-29T13:57:02.754Z"
   },
   {
    "duration": 11,
    "start_time": "2022-03-29T13:57:02.782Z"
   },
   {
    "duration": 16,
    "start_time": "2022-03-29T13:57:02.795Z"
   },
   {
    "duration": 35,
    "start_time": "2022-03-29T13:57:02.813Z"
   },
   {
    "duration": 13,
    "start_time": "2022-03-29T13:57:02.851Z"
   },
   {
    "duration": 40,
    "start_time": "2022-03-29T13:57:02.866Z"
   },
   {
    "duration": 35,
    "start_time": "2022-03-29T13:57:02.908Z"
   },
   {
    "duration": 23,
    "start_time": "2022-03-29T13:57:02.945Z"
   },
   {
    "duration": 18,
    "start_time": "2022-03-29T13:57:02.970Z"
   },
   {
    "duration": 17,
    "start_time": "2022-03-29T13:57:02.991Z"
   },
   {
    "duration": 13,
    "start_time": "2022-03-29T13:57:03.010Z"
   },
   {
    "duration": 13,
    "start_time": "2022-03-29T13:57:03.025Z"
   },
   {
    "duration": 21,
    "start_time": "2022-03-29T13:57:03.040Z"
   },
   {
    "duration": 30,
    "start_time": "2022-03-29T13:57:03.063Z"
   },
   {
    "duration": 19,
    "start_time": "2022-03-29T13:57:03.095Z"
   },
   {
    "duration": 5,
    "start_time": "2022-03-29T13:57:31.550Z"
   },
   {
    "duration": 5,
    "start_time": "2022-03-29T13:57:59.526Z"
   },
   {
    "duration": 50,
    "start_time": "2022-03-29T14:18:44.345Z"
   },
   {
    "duration": 561,
    "start_time": "2022-03-29T14:19:07.524Z"
   },
   {
    "duration": 1691,
    "start_time": "2022-03-29T14:19:08.088Z"
   },
   {
    "duration": 28,
    "start_time": "2022-03-29T14:19:09.781Z"
   },
   {
    "duration": 6,
    "start_time": "2022-03-29T14:19:09.811Z"
   },
   {
    "duration": 27,
    "start_time": "2022-03-29T14:19:09.818Z"
   },
   {
    "duration": 15,
    "start_time": "2022-03-29T14:19:09.847Z"
   },
   {
    "duration": 4,
    "start_time": "2022-03-29T14:19:09.864Z"
   },
   {
    "duration": 11,
    "start_time": "2022-03-29T14:19:09.870Z"
   },
   {
    "duration": 18,
    "start_time": "2022-03-29T14:19:09.882Z"
   },
   {
    "duration": 38,
    "start_time": "2022-03-29T14:19:09.903Z"
   },
   {
    "duration": 37,
    "start_time": "2022-03-29T14:19:09.943Z"
   },
   {
    "duration": 17,
    "start_time": "2022-03-29T14:19:09.982Z"
   },
   {
    "duration": 29,
    "start_time": "2022-03-29T14:19:10.009Z"
   },
   {
    "duration": 7,
    "start_time": "2022-03-29T14:19:10.040Z"
   },
   {
    "duration": 12,
    "start_time": "2022-03-29T14:19:10.049Z"
   },
   {
    "duration": 10,
    "start_time": "2022-03-29T14:19:10.063Z"
   },
   {
    "duration": 15,
    "start_time": "2022-03-29T14:19:10.074Z"
   },
   {
    "duration": 7,
    "start_time": "2022-03-29T14:19:10.091Z"
   },
   {
    "duration": 8,
    "start_time": "2022-03-29T14:19:10.099Z"
   },
   {
    "duration": 8,
    "start_time": "2022-03-29T14:19:10.109Z"
   },
   {
    "duration": 18,
    "start_time": "2022-03-29T14:19:10.119Z"
   },
   {
    "duration": 42,
    "start_time": "2022-03-29T14:19:10.139Z"
   },
   {
    "duration": 3104,
    "start_time": "2022-03-29T14:19:10.183Z"
   },
   {
    "duration": 1314,
    "start_time": "2022-03-29T14:19:13.289Z"
   },
   {
    "duration": 329,
    "start_time": "2022-03-29T14:19:14.605Z"
   },
   {
    "duration": 333,
    "start_time": "2022-03-29T14:19:14.936Z"
   },
   {
    "duration": 2966,
    "start_time": "2022-03-29T14:19:15.270Z"
   },
   {
    "duration": 1295,
    "start_time": "2022-03-29T14:19:18.240Z"
   },
   {
    "duration": 107,
    "start_time": "2022-03-29T14:19:19.537Z"
   },
   {
    "duration": 11,
    "start_time": "2022-03-29T14:19:19.734Z"
   },
   {
    "duration": 11,
    "start_time": "2022-03-29T14:19:19.833Z"
   },
   {
    "duration": 11,
    "start_time": "2022-03-29T14:19:19.846Z"
   },
   {
    "duration": 4,
    "start_time": "2022-03-29T14:19:19.858Z"
   },
   {
    "duration": 48479,
    "start_time": "2022-03-29T14:19:19.863Z"
   },
   {
    "duration": 1603,
    "start_time": "2022-03-29T14:20:08.344Z"
   },
   {
    "duration": 288,
    "start_time": "2022-03-29T14:20:09.949Z"
   },
   {
    "duration": 7,
    "start_time": "2022-03-29T14:20:10.240Z"
   },
   {
    "duration": 3,
    "start_time": "2022-03-29T14:20:10.334Z"
   },
   {
    "duration": 10,
    "start_time": "2022-03-29T14:20:10.338Z"
   },
   {
    "duration": 273,
    "start_time": "2022-03-29T14:20:10.350Z"
   },
   {
    "duration": 6,
    "start_time": "2022-03-29T14:20:10.632Z"
   },
   {
    "duration": 6,
    "start_time": "2022-03-29T14:20:10.640Z"
   },
   {
    "duration": 7,
    "start_time": "2022-03-29T14:20:10.648Z"
   },
   {
    "duration": 9,
    "start_time": "2022-03-29T14:20:10.657Z"
   },
   {
    "duration": 6,
    "start_time": "2022-03-29T14:20:10.667Z"
   },
   {
    "duration": 10,
    "start_time": "2022-03-29T14:20:10.674Z"
   },
   {
    "duration": 5,
    "start_time": "2022-03-29T14:20:10.686Z"
   },
   {
    "duration": 7,
    "start_time": "2022-03-29T14:20:10.693Z"
   },
   {
    "duration": 7,
    "start_time": "2022-03-29T14:20:10.701Z"
   },
   {
    "duration": 25,
    "start_time": "2022-03-29T14:20:10.710Z"
   },
   {
    "duration": 13,
    "start_time": "2022-03-29T14:20:10.736Z"
   },
   {
    "duration": 7,
    "start_time": "2022-03-29T14:20:10.750Z"
   },
   {
    "duration": 967,
    "start_time": "2022-03-29T14:20:10.758Z"
   }
  ],
  "kernelspec": {
   "display_name": "Python 3 (ipykernel)",
   "language": "python",
   "name": "python3"
  },
  "language_info": {
   "codemirror_mode": {
    "name": "ipython",
    "version": 3
   },
   "file_extension": ".py",
   "mimetype": "text/x-python",
   "name": "python",
   "nbconvert_exporter": "python",
   "pygments_lexer": "ipython3",
   "version": "3.9.7"
  },
  "toc": {
   "base_numbering": 1,
   "nav_menu": {},
   "number_sections": true,
   "sideBar": true,
   "skip_h1_title": true,
   "title_cell": "Table of Contents",
   "title_sidebar": "Contents",
   "toc_cell": false,
   "toc_position": {
    "height": "calc(100% - 180px)",
    "left": "10px",
    "top": "150px",
    "width": "266.884px"
   },
   "toc_section_display": true,
   "toc_window_display": true
  }
 },
 "nbformat": 4,
 "nbformat_minor": 5
}
