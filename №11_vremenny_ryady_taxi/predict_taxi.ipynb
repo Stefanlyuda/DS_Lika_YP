{
 "cells": [
  {
   "cell_type": "markdown",
   "id": "573d96d2",
   "metadata": {},
   "source": [
    "## Проект \"Прогнозирование заказов такси\". Временные ряды"
   ]
  },
  {
   "cell_type": "markdown",
   "id": "f605905d",
   "metadata": {},
   "source": [
    "### Описание проекта\n",
    "Компания «Чётенькое такси» собрала исторические данные о заказах такси в аэропортах. Чтобы привлекать больше водителей в период пиковой нагрузки, нужно спрогнозировать количество заказов такси на следующий час."
   ]
  },
  {
   "cell_type": "markdown",
   "id": "2d6d9817",
   "metadata": {},
   "source": [
    "### Цель проекта\n",
    "- Построить модель предсказания спроса на такси на следующий час\n"
   ]
  },
  {
   "cell_type": "markdown",
   "id": "c60dc955",
   "metadata": {},
   "source": [
    "### Требования к работе модели\n",
    "- Сделайте тестовую выборку размером 10% от исходных данных\n",
    "- Обучите разные модели с различными гиперпараметрами\n",
    "- RMSE на тестовой выборке должно быть не больше 48\n",
    "- P.s.Количество заказов находится в столбце 'num_orders' (от англ. number of orders, «число заказов»)."
   ]
  },
  {
   "cell_type": "markdown",
   "id": "d46b4b5a",
   "metadata": {},
   "source": [
    "### Импорт библиотек"
   ]
  },
  {
   "cell_type": "code",
   "execution_count": 1,
   "id": "321628ca",
   "metadata": {},
   "outputs": [],
   "source": [
    "import pandas as pd\n",
    "import seaborn as sns\n",
    "import numpy as np\n",
    "import matplotlib.pyplot as plt\n",
    "import math\n",
    "\n",
    "\n",
    "from sklearn.model_selection import train_test_split,GridSearchCV\n",
    "from sklearn.metrics import mean_absolute_error\n",
    "\n",
    "from sklearn.linear_model import LogisticRegression\n",
    "from sklearn.ensemble import RandomForestRegressor\n",
    "from sklearn.linear_model import LinearRegression\n",
    "\n",
    "\n",
    "\n",
    "from numpy.random import RandomState\n",
    "rdm = RandomState(1234)\n",
    "\n",
    "from statsmodels.tsa.seasonal import seasonal_decompose\n",
    "from sklearn.model_selection import TimeSeriesSplit\n",
    "\n",
    "from sklearn.model_selection import cross_val_score\n",
    "from sklearn.metrics import fbeta_score, make_scorer\n",
    "from sklearn.metrics import mean_absolute_error as mae"
   ]
  },
  {
   "cell_type": "code",
   "execution_count": 2,
   "id": "09a3f6cb",
   "metadata": {},
   "outputs": [
    {
     "name": "stdout",
     "output_type": "stream",
     "text": [
      "Requirement already satisfied: catboost in /opt/conda/lib/python3.9/site-packages (1.0.3)\n",
      "Requirement already satisfied: graphviz in /opt/conda/lib/python3.9/site-packages (from catboost) (0.20)\n",
      "Requirement already satisfied: plotly in /opt/conda/lib/python3.9/site-packages (from catboost) (5.4.0)\n",
      "Requirement already satisfied: matplotlib in /opt/conda/lib/python3.9/site-packages (from catboost) (3.3.4)\n",
      "Requirement already satisfied: scipy in /opt/conda/lib/python3.9/site-packages (from catboost) (1.8.0)\n",
      "Requirement already satisfied: pandas>=0.24.0 in /opt/conda/lib/python3.9/site-packages (from catboost) (1.2.4)\n",
      "Requirement already satisfied: numpy>=1.16.0 in /opt/conda/lib/python3.9/site-packages (from catboost) (1.22.3)\n",
      "Requirement already satisfied: six in /opt/conda/lib/python3.9/site-packages (from catboost) (1.16.0)\n",
      "Requirement already satisfied: python-dateutil>=2.7.3 in /opt/conda/lib/python3.9/site-packages (from pandas>=0.24.0->catboost) (2.8.2)\n",
      "Requirement already satisfied: pytz>=2017.3 in /opt/conda/lib/python3.9/site-packages (from pandas>=0.24.0->catboost) (2021.3)\n",
      "Requirement already satisfied: pillow>=6.2.0 in /opt/conda/lib/python3.9/site-packages (from matplotlib->catboost) (8.4.0)\n",
      "Requirement already satisfied: pyparsing!=2.0.4,!=2.1.2,!=2.1.6,>=2.0.3 in /opt/conda/lib/python3.9/site-packages (from matplotlib->catboost) (3.0.6)\n",
      "Requirement already satisfied: cycler>=0.10 in /opt/conda/lib/python3.9/site-packages (from matplotlib->catboost) (0.11.0)\n",
      "Requirement already satisfied: kiwisolver>=1.0.1 in /opt/conda/lib/python3.9/site-packages (from matplotlib->catboost) (1.4.2)\n",
      "Requirement already satisfied: tenacity>=6.2.0 in /opt/conda/lib/python3.9/site-packages (from plotly->catboost) (8.0.1)\n"
     ]
    }
   ],
   "source": [
    "!pip install catboost"
   ]
  },
  {
   "cell_type": "code",
   "execution_count": 3,
   "id": "6d810871",
   "metadata": {},
   "outputs": [],
   "source": [
    "from catboost import CatBoostRegressor\n",
    "import warnings\n",
    "warnings.filterwarnings(\"ignore\")"
   ]
  },
  {
   "cell_type": "markdown",
   "id": "1dbf39b8",
   "metadata": {},
   "source": [
    "### Загрузка данных"
   ]
  },
  {
   "cell_type": "code",
   "execution_count": 4,
   "id": "5d2fc9f2",
   "metadata": {},
   "outputs": [],
   "source": [
    "data = pd.read_csv('/datasets/taxi.csv',index_col=[0],parse_dates=[0])"
   ]
  },
  {
   "cell_type": "code",
   "execution_count": 5,
   "id": "e8ef4187",
   "metadata": {},
   "outputs": [
    {
     "data": {
      "text/plain": [
       "(26496, 1)"
      ]
     },
     "execution_count": 5,
     "metadata": {},
     "output_type": "execute_result"
    }
   ],
   "source": [
    "data.shape"
   ]
  },
  {
   "cell_type": "code",
   "execution_count": 6,
   "id": "10229a2f",
   "metadata": {},
   "outputs": [
    {
     "data": {
      "text/html": [
       "<div>\n",
       "<style scoped>\n",
       "    .dataframe tbody tr th:only-of-type {\n",
       "        vertical-align: middle;\n",
       "    }\n",
       "\n",
       "    .dataframe tbody tr th {\n",
       "        vertical-align: top;\n",
       "    }\n",
       "\n",
       "    .dataframe thead th {\n",
       "        text-align: right;\n",
       "    }\n",
       "</style>\n",
       "<table border=\"1\" class=\"dataframe\">\n",
       "  <thead>\n",
       "    <tr style=\"text-align: right;\">\n",
       "      <th></th>\n",
       "      <th>num_orders</th>\n",
       "    </tr>\n",
       "    <tr>\n",
       "      <th>datetime</th>\n",
       "      <th></th>\n",
       "    </tr>\n",
       "  </thead>\n",
       "  <tbody>\n",
       "    <tr>\n",
       "      <th>2018-04-30 10:50:00</th>\n",
       "      <td>16</td>\n",
       "    </tr>\n",
       "    <tr>\n",
       "      <th>2018-08-31 00:50:00</th>\n",
       "      <td>51</td>\n",
       "    </tr>\n",
       "    <tr>\n",
       "      <th>2018-03-09 02:30:00</th>\n",
       "      <td>1</td>\n",
       "    </tr>\n",
       "    <tr>\n",
       "      <th>2018-05-14 18:30:00</th>\n",
       "      <td>14</td>\n",
       "    </tr>\n",
       "    <tr>\n",
       "      <th>2018-04-03 00:30:00</th>\n",
       "      <td>22</td>\n",
       "    </tr>\n",
       "  </tbody>\n",
       "</table>\n",
       "</div>"
      ],
      "text/plain": [
       "                     num_orders\n",
       "datetime                       \n",
       "2018-04-30 10:50:00          16\n",
       "2018-08-31 00:50:00          51\n",
       "2018-03-09 02:30:00           1\n",
       "2018-05-14 18:30:00          14\n",
       "2018-04-03 00:30:00          22"
      ]
     },
     "execution_count": 6,
     "metadata": {},
     "output_type": "execute_result"
    }
   ],
   "source": [
    "data.sample(5)"
   ]
  },
  {
   "cell_type": "code",
   "execution_count": 7,
   "id": "b36b9a83",
   "metadata": {},
   "outputs": [
    {
     "data": {
      "text/html": [
       "<div>\n",
       "<style scoped>\n",
       "    .dataframe tbody tr th:only-of-type {\n",
       "        vertical-align: middle;\n",
       "    }\n",
       "\n",
       "    .dataframe tbody tr th {\n",
       "        vertical-align: top;\n",
       "    }\n",
       "\n",
       "    .dataframe thead th {\n",
       "        text-align: right;\n",
       "    }\n",
       "</style>\n",
       "<table border=\"1\" class=\"dataframe\">\n",
       "  <thead>\n",
       "    <tr style=\"text-align: right;\">\n",
       "      <th></th>\n",
       "      <th>num_orders</th>\n",
       "    </tr>\n",
       "  </thead>\n",
       "  <tbody>\n",
       "    <tr>\n",
       "      <th>count</th>\n",
       "      <td>26496.000000</td>\n",
       "    </tr>\n",
       "    <tr>\n",
       "      <th>mean</th>\n",
       "      <td>14.070463</td>\n",
       "    </tr>\n",
       "    <tr>\n",
       "      <th>std</th>\n",
       "      <td>9.211330</td>\n",
       "    </tr>\n",
       "    <tr>\n",
       "      <th>min</th>\n",
       "      <td>0.000000</td>\n",
       "    </tr>\n",
       "    <tr>\n",
       "      <th>25%</th>\n",
       "      <td>8.000000</td>\n",
       "    </tr>\n",
       "    <tr>\n",
       "      <th>50%</th>\n",
       "      <td>13.000000</td>\n",
       "    </tr>\n",
       "    <tr>\n",
       "      <th>75%</th>\n",
       "      <td>19.000000</td>\n",
       "    </tr>\n",
       "    <tr>\n",
       "      <th>max</th>\n",
       "      <td>119.000000</td>\n",
       "    </tr>\n",
       "  </tbody>\n",
       "</table>\n",
       "</div>"
      ],
      "text/plain": [
       "         num_orders\n",
       "count  26496.000000\n",
       "mean      14.070463\n",
       "std        9.211330\n",
       "min        0.000000\n",
       "25%        8.000000\n",
       "50%       13.000000\n",
       "75%       19.000000\n",
       "max      119.000000"
      ]
     },
     "execution_count": 7,
     "metadata": {},
     "output_type": "execute_result"
    }
   ],
   "source": [
    "data.describe()"
   ]
  },
  {
   "cell_type": "code",
   "execution_count": 8,
   "id": "3bc17905",
   "metadata": {},
   "outputs": [
    {
     "name": "stdout",
     "output_type": "stream",
     "text": [
      "<class 'pandas.core.frame.DataFrame'>\n",
      "DatetimeIndex: 26496 entries, 2018-03-01 00:00:00 to 2018-08-31 23:50:00\n",
      "Data columns (total 1 columns):\n",
      " #   Column      Non-Null Count  Dtype\n",
      "---  ------      --------------  -----\n",
      " 0   num_orders  26496 non-null  int64\n",
      "dtypes: int64(1)\n",
      "memory usage: 414.0 KB\n"
     ]
    }
   ],
   "source": [
    "data.info()"
   ]
  },
  {
   "cell_type": "code",
   "execution_count": 9,
   "id": "b30bddb4",
   "metadata": {},
   "outputs": [
    {
     "data": {
      "text/plain": [
       "26415"
      ]
     },
     "execution_count": 9,
     "metadata": {},
     "output_type": "execute_result"
    }
   ],
   "source": [
    "data.duplicated().sum()"
   ]
  },
  {
   "cell_type": "code",
   "execution_count": 10,
   "id": "20efe751",
   "metadata": {},
   "outputs": [
    {
     "data": {
      "text/plain": [
       "num_orders    0\n",
       "dtype: int64"
      ]
     },
     "execution_count": 10,
     "metadata": {},
     "output_type": "execute_result"
    }
   ],
   "source": [
    "data.isna().sum()"
   ]
  },
  {
   "cell_type": "markdown",
   "id": "adb16e1e",
   "metadata": {},
   "source": [
    "### Вывод после загрузки данны\n",
    "Датасет не содержит дубликатов, типы данных верные, пропусков не обранужено. Есть некоторое количество аномальных значений в количестве заказов.Уберем их на последующих этапах предобработки из расчета, что если такси работает 10 часов в день и на заказ в стредем тратится 15 минут, то максиумум может быть 40 заказов в день. "
   ]
  },
  {
   "cell_type": "markdown",
   "id": "5d283933",
   "metadata": {},
   "source": [
    "### Подготовка данных для работы моделей машиного обучения"
   ]
  },
  {
   "cell_type": "code",
   "execution_count": 11,
   "id": "33a8b111",
   "metadata": {},
   "outputs": [
    {
     "data": {
      "text/html": [
       "<div>\n",
       "<style scoped>\n",
       "    .dataframe tbody tr th:only-of-type {\n",
       "        vertical-align: middle;\n",
       "    }\n",
       "\n",
       "    .dataframe tbody tr th {\n",
       "        vertical-align: top;\n",
       "    }\n",
       "\n",
       "    .dataframe thead th {\n",
       "        text-align: right;\n",
       "    }\n",
       "</style>\n",
       "<table border=\"1\" class=\"dataframe\">\n",
       "  <thead>\n",
       "    <tr style=\"text-align: right;\">\n",
       "      <th></th>\n",
       "      <th>num_orders</th>\n",
       "    </tr>\n",
       "  </thead>\n",
       "  <tbody>\n",
       "    <tr>\n",
       "      <th>count</th>\n",
       "      <td>26496.000000</td>\n",
       "    </tr>\n",
       "    <tr>\n",
       "      <th>mean</th>\n",
       "      <td>14.070463</td>\n",
       "    </tr>\n",
       "    <tr>\n",
       "      <th>std</th>\n",
       "      <td>9.211330</td>\n",
       "    </tr>\n",
       "    <tr>\n",
       "      <th>min</th>\n",
       "      <td>0.000000</td>\n",
       "    </tr>\n",
       "    <tr>\n",
       "      <th>25%</th>\n",
       "      <td>8.000000</td>\n",
       "    </tr>\n",
       "    <tr>\n",
       "      <th>50%</th>\n",
       "      <td>13.000000</td>\n",
       "    </tr>\n",
       "    <tr>\n",
       "      <th>75%</th>\n",
       "      <td>19.000000</td>\n",
       "    </tr>\n",
       "    <tr>\n",
       "      <th>max</th>\n",
       "      <td>119.000000</td>\n",
       "    </tr>\n",
       "  </tbody>\n",
       "</table>\n",
       "</div>"
      ],
      "text/plain": [
       "         num_orders\n",
       "count  26496.000000\n",
       "mean      14.070463\n",
       "std        9.211330\n",
       "min        0.000000\n",
       "25%        8.000000\n",
       "50%       13.000000\n",
       "75%       19.000000\n",
       "max      119.000000"
      ]
     },
     "execution_count": 11,
     "metadata": {},
     "output_type": "execute_result"
    }
   ],
   "source": [
    "data.describe()"
   ]
  },
  {
   "cell_type": "markdown",
   "id": "3e10ea65",
   "metadata": {},
   "source": [
    "### Ресемплирование данных по одному часу"
   ]
  },
  {
   "cell_type": "code",
   "execution_count": 12,
   "id": "a71fb13f",
   "metadata": {},
   "outputs": [],
   "source": [
    "data = data.resample('1H').sum()"
   ]
  },
  {
   "cell_type": "code",
   "execution_count": 13,
   "id": "5f20663c",
   "metadata": {},
   "outputs": [
    {
     "name": "stdout",
     "output_type": "stream",
     "text": [
      "True\n"
     ]
    }
   ],
   "source": [
    "print(data.index.is_monotonic)"
   ]
  },
  {
   "cell_type": "code",
   "execution_count": 14,
   "id": "b76c580b",
   "metadata": {},
   "outputs": [
    {
     "data": {
      "text/plain": [
       "num_orders    0\n",
       "dtype: int64"
      ]
     },
     "execution_count": 14,
     "metadata": {},
     "output_type": "execute_result"
    }
   ],
   "source": [
    "data.isna().sum()"
   ]
  },
  {
   "cell_type": "markdown",
   "id": "38738c47",
   "metadata": {},
   "source": [
    "### Анализ трендов и сезонности"
   ]
  },
  {
   "cell_type": "markdown",
   "id": "dd6b1028",
   "metadata": {},
   "source": [
    "- decomposed.trend — тренд;\n",
    "- decomposed.seasonal — сезонная составляющая;\n",
    "- decomposed.resid — остаток декомпозиции."
   ]
  },
  {
   "cell_type": "markdown",
   "id": "177ae079",
   "metadata": {},
   "source": [
    "### Анализ трендов"
   ]
  },
  {
   "cell_type": "code",
   "execution_count": 15,
   "id": "15c19dbb",
   "metadata": {},
   "outputs": [
    {
     "data": {
      "text/plain": [
       "<AxesSubplot:xlabel='datetime'>"
      ]
     },
     "execution_count": 15,
     "metadata": {},
     "output_type": "execute_result"
    },
    {
     "data": {
      "image/png": "[encoded data removed]",
      "text/plain": [
       "<Figure size 576x288 with 1 Axes>"
      ]
     },
     "metadata": {
      "needs_background": "light"
     },
     "output_type": "display_data"
    }
   ],
   "source": [
    "decomposed_trend = seasonal_decompose(data['num_orders'].resample('1H').sum())\n",
    " \n",
    "plt.figure(figsize=(8, 4))\n",
    "decomposed_trend.trend.plot(ax=plt.gca())"
   ]
  },
  {
   "cell_type": "markdown",
   "id": "efcadb2c",
   "metadata": {},
   "source": [
    "#### Вывод: наблюдается увеличение количества заказов такси в период с июня по конец августа"
   ]
  },
  {
   "cell_type": "markdown",
   "id": "c2fd4221",
   "metadata": {},
   "source": [
    "### Анализ сезонов"
   ]
  },
  {
   "cell_type": "code",
   "execution_count": 16,
   "id": "40e568f1",
   "metadata": {},
   "outputs": [
    {
     "name": "stdout",
     "output_type": "stream",
     "text": [
      "<class 'pandas.core.frame.DataFrame'>\n",
      "DatetimeIndex: 4416 entries, 2018-03-01 00:00:00 to 2018-08-31 23:00:00\n",
      "Freq: H\n",
      "Data columns (total 1 columns):\n",
      " #   Column      Non-Null Count  Dtype\n",
      "---  ------      --------------  -----\n",
      " 0   num_orders  4416 non-null   int64\n",
      "dtypes: int64(1)\n",
      "memory usage: 69.0 KB\n"
     ]
    }
   ],
   "source": [
    "data.info()"
   ]
  },
  {
   "cell_type": "code",
   "execution_count": 17,
   "id": "ceef11c6",
   "metadata": {},
   "outputs": [
    {
     "data": {
      "text/plain": [
       "<AxesSubplot:xlabel='datetime'>"
      ]
     },
     "execution_count": 17,
     "metadata": {},
     "output_type": "execute_result"
    },
    {
     "data": {
      "image/png": "[encoded data removed]",
      "text/plain": [
       "<Figure size 576x288 with 1 Axes>"
      ]
     },
     "metadata": {
      "needs_background": "light"
     },
     "output_type": "display_data"
    }
   ],
   "source": [
    "decomposed_seasonal = seasonal_decompose(data[4000:4056]['num_orders'].resample('1H').sum())\n",
    " \n",
    "plt.figure(figsize=(8, 4))\n",
    "decomposed_seasonal.seasonal.plot(ax=plt.gca())"
   ]
  },
  {
   "cell_type": "code",
   "execution_count": 18,
   "id": "c3ea7830",
   "metadata": {},
   "outputs": [
    {
     "data": {
      "text/plain": [
       "<AxesSubplot:xlabel='datetime'>"
      ]
     },
     "execution_count": 18,
     "metadata": {},
     "output_type": "execute_result"
    },
    {
     "data": {
      "image/png": "[encoded data removed]",
      "text/plain": [
       "<Figure size 576x288 with 1 Axes>"
      ]
     },
     "metadata": {
      "needs_background": "light"
     },
     "output_type": "display_data"
    }
   ],
   "source": [
    "decomposed_seasonal = seasonal_decompose(data[100:156]['num_orders'].resample('1H').sum())\n",
    " \n",
    "plt.figure(figsize=(8, 4))\n",
    "decomposed_seasonal.seasonal.plot(ax=plt.gca())"
   ]
  },
  {
   "cell_type": "markdown",
   "id": "9938be6c",
   "metadata": {},
   "source": [
    "сезонность - приросты относительно среднего уровня продаж.6 утра - минус тридцать продаж относительно сутокчного среднего, поэтому получаются отрицательные значения."
   ]
  },
  {
   "cell_type": "markdown",
   "id": "5ecccd5d",
   "metadata": {},
   "source": [
    "#### Вывод: наблюдается увеличение количества заказов такси еженедельно в течение всего временного периода датафрейма"
   ]
  },
  {
   "cell_type": "markdown",
   "id": "e9612f71",
   "metadata": {},
   "source": [
    "### Анализ шума"
   ]
  },
  {
   "cell_type": "code",
   "execution_count": 19,
   "id": "59ded1ea",
   "metadata": {},
   "outputs": [
    {
     "data": {
      "text/plain": [
       "<AxesSubplot:xlabel='datetime'>"
      ]
     },
     "execution_count": 19,
     "metadata": {},
     "output_type": "execute_result"
    },
    {
     "data": {
      "image/png": "[encoded data removed]",
      "text/plain": [
       "<Figure size 576x288 with 1 Axes>"
      ]
     },
     "metadata": {
      "needs_background": "light"
     },
     "output_type": "display_data"
    }
   ],
   "source": [
    "decomposed_resid = seasonal_decompose(data['num_orders'].resample('1H').sum())\n",
    " \n",
    "plt.figure(figsize=(8, 4))\n",
    "decomposed_resid.resid.plot(ax=plt.gca())"
   ]
  },
  {
   "cell_type": "markdown",
   "id": "0ace32c5",
   "metadata": {},
   "source": [
    "#### Вывод: шума в данных в по марту больше, чем в другие месяцы"
   ]
  },
  {
   "cell_type": "markdown",
   "id": "98b1a960",
   "metadata": {},
   "source": [
    "### Поиск разности временного ряда "
   ]
  },
  {
   "cell_type": "code",
   "execution_count": 20,
   "id": "873bde72",
   "metadata": {},
   "outputs": [
    {
     "name": "stdout",
     "output_type": "stream",
     "text": [
      "AxesSubplot(0.125,0.125;0.775x0.755)\n"
     ]
    },
    {
     "data": {
      "image/png": "[encoded data removed]",
      "text/plain": [
       "<Figure size 432x288 with 1 Axes>"
      ]
     },
     "metadata": {
      "needs_background": "light"
     },
     "output_type": "display_data"
    }
   ],
   "source": [
    "data_shift = data.shift(fill_value=0)\n",
    "print(data_shift.plot())"
   ]
  },
  {
   "cell_type": "markdown",
   "id": "55fbb0bf",
   "metadata": {},
   "source": [
    "### Создание признаков для прогнозирования"
   ]
  },
  {
   "cell_type": "markdown",
   "id": "d608b0a5",
   "metadata": {},
   "source": [
    "Представим как отдельные столбцы день недели, час, скользящее среднее и лаги"
   ]
  },
  {
   "cell_type": "markdown",
   "id": "cdf245c7",
   "metadata": {},
   "source": [
    "Рассмотриваем день недели, т.к. у нас еть недельная сезоннасть в заказах такси (график сезонов с ресемплированием по дням)"
   ]
  },
  {
   "cell_type": "code",
   "execution_count": 21,
   "id": "129f1344",
   "metadata": {},
   "outputs": [],
   "source": [
    "data['dayofweek'] = data.index.dayofweek"
   ]
  },
  {
   "cell_type": "markdown",
   "id": "ef64e53b",
   "metadata": {},
   "source": [
    "Также создадим признак по часу,т.к. в  задании требуется предсказание на 24 часа и в зависимоти от времени в сутках будет меняться количество заказов"
   ]
  },
  {
   "cell_type": "code",
   "execution_count": 22,
   "id": "2d26ec06",
   "metadata": {},
   "outputs": [],
   "source": [
    "data['hour'] = data.index.hour"
   ]
  },
  {
   "cell_type": "markdown",
   "id": "1b861204",
   "metadata": {},
   "source": [
    "Скользящее среднее как признак задаёт общий тренд временного ряда"
   ]
  },
  {
   "cell_type": "code",
   "execution_count": 23,
   "id": "b9f715ba",
   "metadata": {},
   "outputs": [],
   "source": [
    "data['rolling_mean'] = data['num_orders'].rolling(15).sum()"
   ]
  },
  {
   "cell_type": "markdown",
   "id": "af8b1a46",
   "metadata": {},
   "source": [
    "Предыдущие значения временного ряда подскажут, будет ли функция x(t) расти или уменьшаться. Получим отстающие значения функцией shift()"
   ]
  },
  {
   "cell_type": "code",
   "execution_count": 24,
   "id": "61736a56",
   "metadata": {},
   "outputs": [],
   "source": [
    "data['lag_1'] = data['num_orders'].shift(1)\n",
    "data['lag_2'] = data['num_orders'].shift(2)\n",
    "data['lag_3'] = data['num_orders'].shift(3)"
   ]
  },
  {
   "cell_type": "markdown",
   "id": "157d1caa",
   "metadata": {},
   "source": [
    "Допустим lag=1 - учитывает (для удобства будем считать, что продажи собраны по дням) как вчерашние продажи - вчерашние события - воалияли на сегоняшние.Lag=2: учитывает как позавчерашние продажи влияютна сегодняшние\n",
    "    \n",
    "Предположим rolling=10 - скользящее среднее. По сути, ищем среднее по 10 точкам, потом следующие 10 точек, и т.д. - это некое подобие тренда будет - средней линии. Т.е. - сглаживание колебаний/выбросов. Это легко увидеть на пределе: допустим длина ряда 100 дней. rolling(100) - это просто одно число - среднее всего ряда."
   ]
  },
  {
   "cell_type": "code",
   "execution_count": 25,
   "id": "562efbdf",
   "metadata": {},
   "outputs": [
    {
     "name": "stdout",
     "output_type": "stream",
     "text": [
      "                     num_orders  dayofweek  hour  rolling_mean  lag_1  lag_2  \\\n",
      "datetime                                                                       \n",
      "2018-08-26 01:00:00         156          6     1        2179.0  281.0  174.0   \n",
      "2018-06-26 07:00:00          41          1     7        1126.0   39.0   17.0   \n",
      "2018-08-27 22:00:00         173          0    22        2253.0  152.0   96.0   \n",
      "2018-04-16 13:00:00          74          0    13        1138.0   52.0   81.0   \n",
      "2018-06-22 14:00:00          89          4    14        1299.0   96.0   57.0   \n",
      "2018-04-19 15:00:00          93          3    15         798.0   38.0   42.0   \n",
      "2018-06-13 03:00:00         103          2     3        1741.0  229.0   97.0   \n",
      "2018-06-04 01:00:00          69          0     1        1197.0  176.0  124.0   \n",
      "2018-06-02 05:00:00          44          5     5        1351.0   95.0   85.0   \n",
      "2018-03-03 04:00:00          44          5     4        1195.0   64.0   25.0   \n",
      "\n",
      "                     lag_3  \n",
      "datetime                    \n",
      "2018-08-26 01:00:00  155.0  \n",
      "2018-06-26 07:00:00   89.0  \n",
      "2018-08-27 22:00:00  152.0  \n",
      "2018-04-16 13:00:00  138.0  \n",
      "2018-06-22 14:00:00   69.0  \n",
      "2018-04-19 15:00:00   45.0  \n",
      "2018-06-13 03:00:00  188.0  \n",
      "2018-06-04 01:00:00   90.0  \n",
      "2018-06-02 05:00:00  126.0  \n",
      "2018-03-03 04:00:00  108.0  \n"
     ]
    }
   ],
   "source": [
    "print(data.sample(10))"
   ]
  },
  {
   "cell_type": "markdown",
   "id": "700c0277",
   "metadata": {},
   "source": [
    "Сформируем функцию для выделения признаков в датасете"
   ]
  },
  {
   "cell_type": "code",
   "execution_count": 26,
   "id": "1795cf08",
   "metadata": {},
   "outputs": [
    {
     "name": "stdout",
     "output_type": "stream",
     "text": [
      "                     num_orders  dayofweek  hour  rolling_mean  lag_1  lag_2  \\\n",
      "datetime                                                                       \n",
      "2018-03-01 00:00:00         124          3     0           NaN    NaN    NaN   \n",
      "2018-03-01 01:00:00          85          3     1           NaN  124.0    NaN   \n",
      "2018-03-01 02:00:00          71          3     2           NaN   85.0  124.0   \n",
      "2018-03-01 03:00:00          66          3     3           NaN   71.0   85.0   \n",
      "2018-03-01 04:00:00          43          3     4           NaN   66.0   71.0   \n",
      "\n",
      "                     lag_3  \n",
      "datetime                    \n",
      "2018-03-01 00:00:00    NaN  \n",
      "2018-03-01 01:00:00    NaN  \n",
      "2018-03-01 02:00:00    NaN  \n",
      "2018-03-01 03:00:00  124.0  \n",
      "2018-03-01 04:00:00   85.0  \n"
     ]
    }
   ],
   "source": [
    "def make_features(data, max_lag, rolling_mean_size):\n",
    "    data['dayofweek'] = data.index.dayofweek\n",
    "    data['hour'] = data.index.hour\n",
    "    for lag in range(1, max_lag + 1):\n",
    "        data['lag_{}'.format(lag)] = data['num_orders'].shift(lag)\n",
    "    data['rolling_mean'] = data['num_orders'].rolling(rolling_mean_size).mean().shift()\n",
    "    \n",
    "make_features(data, 3, 8)\n",
    "print(data.head())"
   ]
  },
  {
   "cell_type": "markdown",
   "id": "c9b7339d",
   "metadata": {},
   "source": [
    "### Разделение на выборки"
   ]
  },
  {
   "cell_type": "code",
   "execution_count": 27,
   "id": "f5ad4800",
   "metadata": {},
   "outputs": [
    {
     "name": "stdout",
     "output_type": "stream",
     "text": [
      "Обучающая выборка:\n",
      "                     num_orders  dayofweek  hour  rolling_mean  lag_1  lag_2  \\\n",
      "datetime                                                                       \n",
      "2018-03-01 00:00:00         124          3     0           NaN    NaN    NaN   \n",
      "2018-03-01 01:00:00          85          3     1           NaN  124.0    NaN   \n",
      "2018-03-01 02:00:00          71          3     2           NaN   85.0  124.0   \n",
      "2018-03-01 03:00:00          66          3     3           NaN   71.0   85.0   \n",
      "2018-03-01 04:00:00          43          3     4           NaN   66.0   71.0   \n",
      "...                         ...        ...   ...           ...    ...    ...   \n",
      "2018-08-13 09:00:00         137          0     9       162.500   91.0   39.0   \n",
      "2018-08-13 10:00:00         156          0    10       145.500  137.0   91.0   \n",
      "2018-08-13 11:00:00         144          0    11       110.375  156.0  137.0   \n",
      "2018-08-13 12:00:00          92          0    12       107.375  144.0  156.0   \n",
      "2018-08-13 13:00:00         119          0    13       101.000   92.0  144.0   \n",
      "\n",
      "                     lag_3  \n",
      "datetime                    \n",
      "2018-03-01 00:00:00    NaN  \n",
      "2018-03-01 01:00:00    NaN  \n",
      "2018-03-01 02:00:00    NaN  \n",
      "2018-03-01 03:00:00  124.0  \n",
      "2018-03-01 04:00:00   85.0  \n",
      "...                    ...  \n",
      "2018-08-13 09:00:00   66.0  \n",
      "2018-08-13 10:00:00   39.0  \n",
      "2018-08-13 11:00:00   91.0  \n",
      "2018-08-13 12:00:00  137.0  \n",
      "2018-08-13 13:00:00  156.0  \n",
      "\n",
      "[3974 rows x 7 columns]\n",
      "Тестовая выборка:\n",
      "                     num_orders  dayofweek  hour  rolling_mean  lag_1  lag_2  \\\n",
      "datetime                                                                       \n",
      "2018-08-13 14:00:00         102          0    14       105.500  119.0   92.0   \n",
      "2018-08-13 15:00:00         175          0    15       110.000  102.0  119.0   \n",
      "2018-08-13 16:00:00         144          0    16       127.000  175.0  102.0   \n",
      "2018-08-13 17:00:00         152          0    17       133.625  144.0  175.0   \n",
      "2018-08-13 18:00:00         104          0    18       135.500  152.0  144.0   \n",
      "...                         ...        ...   ...           ...    ...    ...   \n",
      "2018-08-31 19:00:00         136          4    19       167.375  207.0  217.0   \n",
      "2018-08-31 20:00:00         154          4    20       163.500  136.0  207.0   \n",
      "2018-08-31 21:00:00         159          4    21       165.750  154.0  136.0   \n",
      "2018-08-31 22:00:00         223          4    22       164.875  159.0  154.0   \n",
      "2018-08-31 23:00:00         205          4    23       176.125  223.0  159.0   \n",
      "\n",
      "                     lag_3  \n",
      "datetime                    \n",
      "2018-08-13 14:00:00  144.0  \n",
      "2018-08-13 15:00:00   92.0  \n",
      "2018-08-13 16:00:00  119.0  \n",
      "2018-08-13 17:00:00  102.0  \n",
      "2018-08-13 18:00:00  175.0  \n",
      "...                    ...  \n",
      "2018-08-31 19:00:00  197.0  \n",
      "2018-08-31 20:00:00  217.0  \n",
      "2018-08-31 21:00:00  207.0  \n",
      "2018-08-31 22:00:00  136.0  \n",
      "2018-08-31 23:00:00  154.0  \n",
      "\n",
      "[442 rows x 7 columns]\n"
     ]
    }
   ],
   "source": [
    "train, test = train_test_split(data, shuffle=False, test_size=0.1)\n",
    "print('Обучающая выборка:')\n",
    "print(train)\n",
    "print('Тестовая выборка:')\n",
    "print(test) "
   ]
  },
  {
   "cell_type": "code",
   "execution_count": 28,
   "id": "11cc937b",
   "metadata": {},
   "outputs": [
    {
     "data": {
      "image/png": "[encoded data removed]",
      "text/plain": [
       "<Figure size 864x576 with 9 Axes>"
      ]
     },
     "metadata": {
      "needs_background": "light"
     },
     "output_type": "display_data"
    }
   ],
   "source": [
    "fig, ax = plt.subplots(figsize=(12, 8))\n",
    "data.hist(bins=30, ax=ax)\n",
    "_ = ax.set(\n",
    "    xlabel=\"Параметры признака\",\n",
    "    ylabel=\"Количество заказов, соотвествующих параметру\",\n",
    ")"
   ]
  },
  {
   "cell_type": "code",
   "execution_count": 29,
   "id": "0d766abd",
   "metadata": {},
   "outputs": [
    {
     "name": "stdout",
     "output_type": "stream",
     "text": [
      "(3974, 7)\n",
      "(442, 7)\n"
     ]
    }
   ],
   "source": [
    "print(train.shape)\n",
    "print(test.shape)"
   ]
  },
  {
   "cell_type": "markdown",
   "id": "517b9061",
   "metadata": {},
   "source": [
    "Проверим корректность деления на выборки"
   ]
  },
  {
   "cell_type": "code",
   "execution_count": 30,
   "id": "4bd42f49",
   "metadata": {},
   "outputs": [
    {
     "name": "stdout",
     "output_type": "stream",
     "text": [
      "2018-03-01 00:00:00 2018-08-13 13:00:00\n",
      "2018-08-13 14:00:00 2018-08-31 23:00:00\n"
     ]
    }
   ],
   "source": [
    "print(train.index.min(), train.index.max())\n",
    "print(test.index.min(), test.index.max())"
   ]
  },
  {
   "cell_type": "code",
   "execution_count": 31,
   "id": "9d29237a",
   "metadata": {},
   "outputs": [
    {
     "name": "stdout",
     "output_type": "stream",
     "text": [
      "(3974, 7)\n",
      "(442, 7)\n"
     ]
    }
   ],
   "source": [
    "print(train.shape)\n",
    "print(test.shape)"
   ]
  },
  {
   "cell_type": "code",
   "execution_count": 32,
   "id": "8fac88b5",
   "metadata": {},
   "outputs": [],
   "source": [
    "train = train.dropna()\n",
    "test = test.dropna()"
   ]
  },
  {
   "cell_type": "code",
   "execution_count": 33,
   "id": "1c5491f9",
   "metadata": {},
   "outputs": [],
   "source": [
    "X_train = train.drop(['num_orders'],axis = 1) # Переменные для обучающей выборки\n",
    "y_train = train['num_orders'] \n",
    "\n",
    "X_test = test.drop(['num_orders'],axis = 1) # Переменные для тестовой выборки\n",
    "y_test = test['num_orders'] "
   ]
  },
  {
   "cell_type": "markdown",
   "id": "f0e0a60e",
   "metadata": {},
   "source": [
    "### Случайный лес"
   ]
  },
  {
   "cell_type": "code",
   "execution_count": 34,
   "id": "298b8871",
   "metadata": {},
   "outputs": [
    {
     "name": "stdout",
     "output_type": "stream",
     "text": [
      "RMSE RF: 48.80362156699335\n",
      "CPU times: user 1.23 s, sys: 24.1 ms, total: 1.26 s\n",
      "Wall time: 1.26 s\n"
     ]
    }
   ],
   "source": [
    "%%time\n",
    "model = RandomForestRegressor(random_state=rdm, n_estimators=100)\n",
    "model.fit(X_train, y_train)\n",
    "\n",
    "predictions = model.predict(X_test)\n",
    "def rmse(y, predictions):\n",
    "    return (((y_test-predictions)**2).mean())**0.5\n",
    "RMSE_RF=rmse(y_test, predictions)\n",
    "print(\"RMSE RF:\",RMSE_RF)"
   ]
  },
  {
   "cell_type": "markdown",
   "id": "f4f45eca",
   "metadata": {},
   "source": [
    "### Линейная регрессия"
   ]
  },
  {
   "cell_type": "code",
   "execution_count": 35,
   "id": "7bcbac00",
   "metadata": {},
   "outputs": [
    {
     "name": "stdout",
     "output_type": "stream",
     "text": [
      "RMSE LR: 54.115855717365626\n",
      "CPU times: user 12.3 ms, sys: 8.47 ms, total: 20.8 ms\n",
      "Wall time: 21.6 ms\n"
     ]
    }
   ],
   "source": [
    "%%time\n",
    "from sklearn.linear_model import LinearRegression\n",
    "model = LinearRegression()\n",
    "model.fit(X_train, y_train)\n",
    "\n",
    "predictions = model.predict(X_test)\n",
    "def rmse(y, predictions):\n",
    "    return (((y_test-predictions)**2).mean())**0.5\n",
    "RMSE_LR = rmse(y_test, predictions)\n",
    "print(\"RMSE LR:\",RMSE_LR)"
   ]
  },
  {
   "cell_type": "markdown",
   "id": "87b8e0d4",
   "metadata": {},
   "source": [
    "### Применение TimeSeriesSplit"
   ]
  },
  {
   "cell_type": "markdown",
   "id": "1d81672d",
   "metadata": {},
   "source": [
    "Поскольку мы имеем дело  верменными рядами, то корректнее разделять датасет  помощью TimeSeriesSplit. Посмотрим как изменится результат работы модели Линейной регресси поссле применения такого деления. А также используем его для работы модели градиентного бустинга"
   ]
  },
  {
   "cell_type": "code",
   "execution_count": 36,
   "id": "96721fff",
   "metadata": {},
   "outputs": [
    {
     "name": "stdout",
     "output_type": "stream",
     "text": [
      "TimeSeriesSplit(gap=0, max_train_size=None, n_splits=6, test_size=None)\n"
     ]
    }
   ],
   "source": [
    "cv = TimeSeriesSplit(n_splits=6)\n",
    "print(cv)"
   ]
  },
  {
   "cell_type": "markdown",
   "id": "6b3c6b24",
   "metadata": {},
   "source": [
    "### CatBoostRegressor"
   ]
  },
  {
   "cell_type": "code",
   "execution_count": 37,
   "id": "6efdb346",
   "metadata": {},
   "outputs": [
    {
     "name": "stdout",
     "output_type": "stream",
     "text": [
      "Learning rate set to 0.427903\n",
      "0:\tlearn: 23.7967484\ttotal: 51.5ms\tremaining: 2.52s\n",
      "1:\tlearn: 20.9745311\ttotal: 52.9ms\tremaining: 1.27s\n",
      "2:\tlearn: 19.0638636\ttotal: 53.5ms\tremaining: 838ms\n",
      "3:\tlearn: 18.1791458\ttotal: 54.3ms\tremaining: 625ms\n",
      "4:\tlearn: 17.3680551\ttotal: 55.1ms\tremaining: 496ms\n",
      "5:\tlearn: 16.9243943\ttotal: 55.8ms\tremaining: 409ms\n",
      "6:\tlearn: 16.7093405\ttotal: 56.4ms\tremaining: 346ms\n",
      "7:\tlearn: 16.5173550\ttotal: 57.1ms\tremaining: 300ms\n",
      "8:\tlearn: 16.4269888\ttotal: 57.8ms\tremaining: 263ms\n",
      "9:\tlearn: 16.2707741\ttotal: 58.4ms\tremaining: 233ms\n",
      "10:\tlearn: 16.0808180\ttotal: 59ms\tremaining: 209ms\n",
      "11:\tlearn: 15.8600982\ttotal: 59.6ms\tremaining: 189ms\n",
      "12:\tlearn: 15.6606468\ttotal: 60.2ms\tremaining: 171ms\n",
      "13:\tlearn: 15.5497473\ttotal: 60.8ms\tremaining: 156ms\n",
      "14:\tlearn: 15.4020430\ttotal: 61.9ms\tremaining: 144ms\n",
      "15:\tlearn: 15.2969142\ttotal: 62.8ms\tremaining: 133ms\n",
      "16:\tlearn: 15.1405730\ttotal: 63.9ms\tremaining: 124ms\n",
      "17:\tlearn: 15.0591888\ttotal: 64.6ms\tremaining: 115ms\n",
      "18:\tlearn: 14.9565676\ttotal: 65.6ms\tremaining: 107ms\n",
      "19:\tlearn: 14.7699698\ttotal: 66.2ms\tremaining: 99.4ms\n",
      "20:\tlearn: 14.6912099\ttotal: 66.9ms\tremaining: 92.4ms\n",
      "21:\tlearn: 14.5485610\ttotal: 67.5ms\tremaining: 85.9ms\n",
      "22:\tlearn: 14.3718773\ttotal: 68.2ms\tremaining: 80.1ms\n",
      "23:\tlearn: 14.2742664\ttotal: 69.3ms\tremaining: 75ms\n",
      "24:\tlearn: 14.1603241\ttotal: 70ms\tremaining: 70ms\n",
      "25:\tlearn: 13.8951924\ttotal: 70.9ms\tremaining: 65.5ms\n",
      "26:\tlearn: 13.7850788\ttotal: 71.7ms\tremaining: 61.1ms\n",
      "27:\tlearn: 13.7450228\ttotal: 72.4ms\tremaining: 56.9ms\n",
      "28:\tlearn: 13.6722675\ttotal: 73ms\tremaining: 52.9ms\n",
      "29:\tlearn: 13.6275496\ttotal: 73.7ms\tremaining: 49.1ms\n",
      "30:\tlearn: 13.4788166\ttotal: 74.3ms\tremaining: 45.5ms\n",
      "31:\tlearn: 13.3663740\ttotal: 74.9ms\tremaining: 42.1ms\n",
      "32:\tlearn: 13.2232741\ttotal: 75.6ms\tremaining: 38.9ms\n",
      "33:\tlearn: 13.1774437\ttotal: 76.8ms\tremaining: 36.2ms\n",
      "34:\tlearn: 13.0510428\ttotal: 77.8ms\tremaining: 33.3ms\n",
      "35:\tlearn: 12.9151982\ttotal: 78.4ms\tremaining: 30.5ms\n",
      "36:\tlearn: 12.8339494\ttotal: 79.1ms\tremaining: 27.8ms\n",
      "37:\tlearn: 12.7363220\ttotal: 79.8ms\tremaining: 25.2ms\n",
      "38:\tlearn: 12.5340803\ttotal: 80.5ms\tremaining: 22.7ms\n",
      "39:\tlearn: 12.3877181\ttotal: 81.1ms\tremaining: 20.3ms\n",
      "40:\tlearn: 12.3353343\ttotal: 81.8ms\tremaining: 17.9ms\n",
      "41:\tlearn: 12.1859666\ttotal: 82.5ms\tremaining: 15.7ms\n",
      "42:\tlearn: 12.0652210\ttotal: 83.5ms\tremaining: 13.6ms\n",
      "43:\tlearn: 11.8548521\ttotal: 84.5ms\tremaining: 11.5ms\n",
      "44:\tlearn: 11.7437401\ttotal: 85.7ms\tremaining: 9.53ms\n",
      "45:\tlearn: 11.7223409\ttotal: 86.8ms\tremaining: 7.54ms\n",
      "46:\tlearn: 11.6506682\ttotal: 87.5ms\tremaining: 5.59ms\n",
      "47:\tlearn: 11.5841352\ttotal: 88.5ms\tremaining: 3.69ms\n",
      "48:\tlearn: 11.4427194\ttotal: 89.5ms\tremaining: 1.83ms\n",
      "49:\tlearn: 11.3971242\ttotal: 90.1ms\tremaining: 0us\n",
      "Learning rate set to 0.477163\n",
      "0:\tlearn: 26.8331652\ttotal: 1.11ms\tremaining: 54.6ms\n",
      "1:\tlearn: 22.7195061\ttotal: 2.14ms\tremaining: 51.4ms\n",
      "2:\tlearn: 20.6179801\ttotal: 3.42ms\tremaining: 53.5ms\n",
      "3:\tlearn: 19.6695572\ttotal: 4.72ms\tremaining: 54.2ms\n",
      "4:\tlearn: 19.3211735\ttotal: 5.49ms\tremaining: 49.4ms\n",
      "5:\tlearn: 18.9813280\ttotal: 6.42ms\tremaining: 47.1ms\n",
      "6:\tlearn: 18.8000422\ttotal: 7.41ms\tremaining: 45.5ms\n",
      "7:\tlearn: 18.6403057\ttotal: 8.43ms\tremaining: 44.2ms\n",
      "8:\tlearn: 18.5057710\ttotal: 9.49ms\tremaining: 43.2ms\n",
      "9:\tlearn: 18.3791684\ttotal: 10.5ms\tremaining: 42.1ms\n",
      "10:\tlearn: 18.1775338\ttotal: 11.6ms\tremaining: 41.1ms\n",
      "11:\tlearn: 18.1239160\ttotal: 12.6ms\tremaining: 39.8ms\n",
      "12:\tlearn: 18.0165424\ttotal: 13.6ms\tremaining: 38.8ms\n",
      "13:\tlearn: 17.8799157\ttotal: 14.6ms\tremaining: 37.7ms\n",
      "14:\tlearn: 17.7749990\ttotal: 15.6ms\tremaining: 36.5ms\n",
      "15:\tlearn: 17.6256987\ttotal: 16.7ms\tremaining: 35.4ms\n",
      "16:\tlearn: 17.4517249\ttotal: 17.7ms\tremaining: 34.3ms\n",
      "17:\tlearn: 17.3452300\ttotal: 18.8ms\tremaining: 33.5ms\n",
      "18:\tlearn: 17.0220937\ttotal: 20.5ms\tremaining: 33.4ms\n",
      "19:\tlearn: 16.8512732\ttotal: 21.7ms\tremaining: 32.5ms\n",
      "20:\tlearn: 16.7828162\ttotal: 22.5ms\tremaining: 31ms\n",
      "21:\tlearn: 16.6688730\ttotal: 23.3ms\tremaining: 29.7ms\n",
      "22:\tlearn: 16.5411180\ttotal: 24.1ms\tremaining: 28.3ms\n",
      "23:\tlearn: 16.3919396\ttotal: 24.9ms\tremaining: 27ms\n",
      "24:\tlearn: 16.3287825\ttotal: 25.6ms\tremaining: 25.6ms\n",
      "25:\tlearn: 16.2724951\ttotal: 26.4ms\tremaining: 24.4ms\n",
      "26:\tlearn: 16.1735287\ttotal: 27.3ms\tremaining: 23.2ms\n",
      "27:\tlearn: 16.0271360\ttotal: 28.1ms\tremaining: 22.1ms\n",
      "28:\tlearn: 15.9061540\ttotal: 28.8ms\tremaining: 20.9ms\n",
      "29:\tlearn: 15.7321292\ttotal: 29.7ms\tremaining: 19.8ms\n",
      "30:\tlearn: 15.6574782\ttotal: 30.5ms\tremaining: 18.7ms\n",
      "31:\tlearn: 15.6516445\ttotal: 31.2ms\tremaining: 17.6ms\n",
      "32:\tlearn: 15.4513816\ttotal: 31.9ms\tremaining: 16.5ms\n",
      "33:\tlearn: 15.3713420\ttotal: 32.9ms\tremaining: 15.5ms\n",
      "34:\tlearn: 15.2270803\ttotal: 33.6ms\tremaining: 14.4ms\n",
      "35:\tlearn: 15.1645316\ttotal: 34.4ms\tremaining: 13.4ms\n",
      "36:\tlearn: 15.0537770\ttotal: 35.2ms\tremaining: 12.4ms\n",
      "37:\tlearn: 15.0258867\ttotal: 36ms\tremaining: 11.4ms\n",
      "38:\tlearn: 14.9964061\ttotal: 36.8ms\tremaining: 10.4ms\n",
      "39:\tlearn: 14.9690542\ttotal: 37.7ms\tremaining: 9.42ms\n",
      "40:\tlearn: 14.9548416\ttotal: 38.5ms\tremaining: 8.45ms\n",
      "41:\tlearn: 14.8633680\ttotal: 39.3ms\tremaining: 7.49ms\n",
      "42:\tlearn: 14.8563155\ttotal: 40ms\tremaining: 6.51ms\n",
      "43:\tlearn: 14.7832140\ttotal: 40.8ms\tremaining: 5.56ms\n",
      "44:\tlearn: 14.7148450\ttotal: 41.7ms\tremaining: 4.63ms\n",
      "45:\tlearn: 14.5789799\ttotal: 42.4ms\tremaining: 3.69ms\n",
      "46:\tlearn: 14.5219611\ttotal: 43.2ms\tremaining: 2.76ms\n",
      "47:\tlearn: 14.4415987\ttotal: 44ms\tremaining: 1.83ms\n",
      "48:\tlearn: 14.3245476\ttotal: 44.7ms\tremaining: 912us\n",
      "49:\tlearn: 14.2738757\ttotal: 45.4ms\tremaining: 0us\n",
      "Learning rate set to 0.5\n",
      "0:\tlearn: 24.6928404\ttotal: 1.49ms\tremaining: 73.1ms\n",
      "1:\tlearn: 22.4793161\ttotal: 2.44ms\tremaining: 58.6ms\n",
      "2:\tlearn: 21.2142413\ttotal: 3.32ms\tremaining: 52ms\n",
      "3:\tlearn: 20.6821268\ttotal: 4.17ms\tremaining: 47.9ms\n",
      "4:\tlearn: 20.3944032\ttotal: 5.26ms\tremaining: 47.4ms\n",
      "5:\tlearn: 20.1500790\ttotal: 6.12ms\tremaining: 44.9ms\n",
      "6:\tlearn: 20.0075871\ttotal: 7.07ms\tremaining: 43.4ms\n",
      "7:\tlearn: 19.8350114\ttotal: 8.07ms\tremaining: 42.4ms\n",
      "8:\tlearn: 19.8167299\ttotal: 9.27ms\tremaining: 42.2ms\n",
      "9:\tlearn: 19.7040776\ttotal: 10.4ms\tremaining: 41.6ms\n",
      "10:\tlearn: 19.5467027\ttotal: 11.3ms\tremaining: 40.2ms\n",
      "11:\tlearn: 19.3757515\ttotal: 12.2ms\tremaining: 38.7ms\n",
      "12:\tlearn: 19.2981818\ttotal: 13.3ms\tremaining: 37.7ms\n",
      "13:\tlearn: 19.1879447\ttotal: 14.1ms\tremaining: 36.3ms\n",
      "14:\tlearn: 19.0253670\ttotal: 15ms\tremaining: 35ms\n",
      "15:\tlearn: 18.9968600\ttotal: 15.9ms\tremaining: 33.8ms\n",
      "16:\tlearn: 18.8619175\ttotal: 16.8ms\tremaining: 32.6ms\n",
      "17:\tlearn: 18.7458192\ttotal: 17.8ms\tremaining: 31.6ms\n",
      "18:\tlearn: 18.6578962\ttotal: 18.6ms\tremaining: 30.4ms\n",
      "19:\tlearn: 18.5302138\ttotal: 19.5ms\tremaining: 29.3ms\n",
      "20:\tlearn: 18.5141718\ttotal: 20.5ms\tremaining: 28.3ms\n",
      "21:\tlearn: 18.5100391\ttotal: 21.4ms\tremaining: 27.2ms\n",
      "22:\tlearn: 18.4375224\ttotal: 22.3ms\tremaining: 26.2ms\n",
      "23:\tlearn: 18.2465642\ttotal: 23.1ms\tremaining: 25ms\n",
      "24:\tlearn: 18.1599061\ttotal: 24ms\tremaining: 24ms\n",
      "25:\tlearn: 17.9612879\ttotal: 24.8ms\tremaining: 22.9ms\n",
      "26:\tlearn: 17.9569258\ttotal: 25.6ms\tremaining: 21.8ms\n",
      "27:\tlearn: 17.9204695\ttotal: 26.4ms\tremaining: 20.7ms\n",
      "28:\tlearn: 17.7808540\ttotal: 27.3ms\tremaining: 19.8ms\n",
      "29:\tlearn: 17.7329722\ttotal: 28.3ms\tremaining: 18.9ms\n",
      "30:\tlearn: 17.7020015\ttotal: 29.4ms\tremaining: 18ms\n",
      "31:\tlearn: 17.6984701\ttotal: 30.6ms\tremaining: 17.2ms\n",
      "32:\tlearn: 17.4480849\ttotal: 31.7ms\tremaining: 16.4ms\n",
      "33:\tlearn: 17.3935251\ttotal: 32.7ms\tremaining: 15.4ms\n",
      "34:\tlearn: 17.3909683\ttotal: 33.6ms\tremaining: 14.4ms\n",
      "35:\tlearn: 17.2956189\ttotal: 34.6ms\tremaining: 13.5ms\n",
      "36:\tlearn: 17.2400058\ttotal: 35.7ms\tremaining: 12.5ms\n",
      "37:\tlearn: 17.1864894\ttotal: 36.8ms\tremaining: 11.6ms\n",
      "38:\tlearn: 17.1654584\ttotal: 37.7ms\tremaining: 10.6ms\n",
      "39:\tlearn: 17.0909716\ttotal: 38.5ms\tremaining: 9.62ms\n",
      "40:\tlearn: 16.9871479\ttotal: 39.4ms\tremaining: 8.64ms\n",
      "41:\tlearn: 16.9091341\ttotal: 40.2ms\tremaining: 7.66ms\n",
      "42:\tlearn: 16.8645973\ttotal: 41ms\tremaining: 6.68ms\n",
      "43:\tlearn: 16.7818101\ttotal: 41.9ms\tremaining: 5.71ms\n",
      "44:\tlearn: 16.7400805\ttotal: 42.7ms\tremaining: 4.75ms\n",
      "45:\tlearn: 16.6603573\ttotal: 43.6ms\tremaining: 3.79ms\n",
      "46:\tlearn: 16.6276161\ttotal: 44.5ms\tremaining: 2.84ms\n",
      "47:\tlearn: 16.5483322\ttotal: 45.4ms\tremaining: 1.89ms\n",
      "48:\tlearn: 16.4595119\ttotal: 46.3ms\tremaining: 943us\n",
      "49:\tlearn: 16.4156759\ttotal: 47ms\tremaining: 0us\n",
      "Learning rate set to 0.5\n",
      "0:\tlearn: 29.4903280\ttotal: 1.54ms\tremaining: 75.5ms\n",
      "1:\tlearn: 24.9698284\ttotal: 2.84ms\tremaining: 68.2ms\n",
      "2:\tlearn: 22.8224482\ttotal: 4.07ms\tremaining: 63.7ms\n",
      "3:\tlearn: 22.1825143\ttotal: 5.13ms\tremaining: 59.1ms\n",
      "4:\tlearn: 21.8328302\ttotal: 6.4ms\tremaining: 57.6ms\n",
      "5:\tlearn: 21.5678894\ttotal: 7.45ms\tremaining: 54.6ms\n",
      "6:\tlearn: 21.3493158\ttotal: 8.49ms\tremaining: 52.2ms\n",
      "7:\tlearn: 21.2071419\ttotal: 9.86ms\tremaining: 51.8ms\n",
      "8:\tlearn: 20.9937434\ttotal: 11.8ms\tremaining: 53.6ms\n",
      "9:\tlearn: 20.9030605\ttotal: 13.3ms\tremaining: 53.3ms\n",
      "10:\tlearn: 20.8165242\ttotal: 14.6ms\tremaining: 51.9ms\n",
      "11:\tlearn: 20.7334059\ttotal: 16ms\tremaining: 50.7ms\n",
      "12:\tlearn: 20.5584562\ttotal: 17.3ms\tremaining: 49.3ms\n",
      "13:\tlearn: 20.4911084\ttotal: 18.6ms\tremaining: 47.8ms\n",
      "14:\tlearn: 20.4102919\ttotal: 19.9ms\tremaining: 46.5ms\n",
      "15:\tlearn: 20.3357225\ttotal: 21.2ms\tremaining: 45.1ms\n",
      "16:\tlearn: 20.2736076\ttotal: 22.2ms\tremaining: 43.2ms\n",
      "17:\tlearn: 20.2206247\ttotal: 23.2ms\tremaining: 41.2ms\n",
      "18:\tlearn: 20.0314009\ttotal: 24.2ms\tremaining: 39.5ms\n",
      "19:\tlearn: 19.9462102\ttotal: 25.2ms\tremaining: 37.8ms\n",
      "20:\tlearn: 19.8652660\ttotal: 26.2ms\tremaining: 36.1ms\n",
      "21:\tlearn: 19.7683460\ttotal: 27.2ms\tremaining: 34.6ms\n",
      "22:\tlearn: 19.6692493\ttotal: 28.1ms\tremaining: 33ms\n",
      "23:\tlearn: 19.5714251\ttotal: 29.1ms\tremaining: 31.5ms\n",
      "24:\tlearn: 19.4834253\ttotal: 30.1ms\tremaining: 30.1ms\n",
      "25:\tlearn: 19.3528098\ttotal: 31ms\tremaining: 28.6ms\n",
      "26:\tlearn: 19.2419668\ttotal: 31.9ms\tremaining: 27.2ms\n",
      "27:\tlearn: 19.1455454\ttotal: 32.8ms\tremaining: 25.8ms\n",
      "28:\tlearn: 19.0773066\ttotal: 33.8ms\tremaining: 24.4ms\n",
      "29:\tlearn: 18.9490937\ttotal: 34.8ms\tremaining: 23.2ms\n",
      "30:\tlearn: 18.9166044\ttotal: 35.6ms\tremaining: 21.8ms\n",
      "31:\tlearn: 18.7718883\ttotal: 36.7ms\tremaining: 20.6ms\n",
      "32:\tlearn: 18.6941970\ttotal: 38.2ms\tremaining: 19.7ms\n",
      "33:\tlearn: 18.6555562\ttotal: 39.1ms\tremaining: 18.4ms\n",
      "34:\tlearn: 18.5842844\ttotal: 40.1ms\tremaining: 17.2ms\n",
      "35:\tlearn: 18.4807289\ttotal: 41.1ms\tremaining: 16ms\n",
      "36:\tlearn: 18.4439289\ttotal: 42.1ms\tremaining: 14.8ms\n",
      "37:\tlearn: 18.3379804\ttotal: 42.9ms\tremaining: 13.6ms\n",
      "38:\tlearn: 18.2816453\ttotal: 43.9ms\tremaining: 12.4ms\n",
      "39:\tlearn: 18.2017227\ttotal: 45ms\tremaining: 11.2ms\n",
      "40:\tlearn: 18.1076849\ttotal: 46ms\tremaining: 10.1ms\n",
      "41:\tlearn: 18.0280242\ttotal: 47.1ms\tremaining: 8.97ms\n",
      "42:\tlearn: 17.9705063\ttotal: 48.1ms\tremaining: 7.83ms\n",
      "43:\tlearn: 17.9322856\ttotal: 49.2ms\tremaining: 6.7ms\n",
      "44:\tlearn: 17.8728531\ttotal: 50.2ms\tremaining: 5.57ms\n",
      "45:\tlearn: 17.8635600\ttotal: 51.1ms\tremaining: 4.44ms\n",
      "46:\tlearn: 17.8315590\ttotal: 52ms\tremaining: 3.32ms\n",
      "47:\tlearn: 17.7900071\ttotal: 53.3ms\tremaining: 2.22ms\n",
      "48:\tlearn: 17.7708146\ttotal: 54.2ms\tremaining: 1.11ms\n",
      "49:\tlearn: 17.7679894\ttotal: 55.2ms\tremaining: 0us\n",
      "Learning rate set to 0.5\n",
      "0:\tlearn: 29.5441820\ttotal: 2.14ms\tremaining: 105ms\n",
      "1:\tlearn: 25.3259450\ttotal: 4.09ms\tremaining: 98.3ms\n",
      "2:\tlearn: 23.7035256\ttotal: 5.7ms\tremaining: 89.2ms\n",
      "3:\tlearn: 23.1783594\ttotal: 7.36ms\tremaining: 84.6ms\n",
      "4:\tlearn: 22.7712409\ttotal: 8.95ms\tremaining: 80.5ms\n",
      "5:\tlearn: 22.5317884\ttotal: 10.6ms\tremaining: 77.9ms\n",
      "6:\tlearn: 22.3451024\ttotal: 12.4ms\tremaining: 76ms\n",
      "7:\tlearn: 22.2463145\ttotal: 14.1ms\tremaining: 73.8ms\n",
      "8:\tlearn: 22.1175468\ttotal: 15.6ms\tremaining: 71.1ms\n",
      "9:\tlearn: 22.0117030\ttotal: 16.7ms\tremaining: 66.6ms\n",
      "10:\tlearn: 21.9283968\ttotal: 18.3ms\tremaining: 64.9ms\n",
      "11:\tlearn: 21.8441753\ttotal: 20ms\tremaining: 63.3ms\n",
      "12:\tlearn: 21.8002639\ttotal: 21.6ms\tremaining: 61.4ms\n",
      "13:\tlearn: 21.6534519\ttotal: 23.2ms\tremaining: 59.7ms\n",
      "14:\tlearn: 21.5324106\ttotal: 24.9ms\tremaining: 58.1ms\n",
      "15:\tlearn: 21.4559546\ttotal: 26.6ms\tremaining: 56.4ms\n",
      "16:\tlearn: 21.3647755\ttotal: 27.8ms\tremaining: 53.9ms\n",
      "17:\tlearn: 21.2231355\ttotal: 28.7ms\tremaining: 51ms\n",
      "18:\tlearn: 21.1304900\ttotal: 29.8ms\tremaining: 48.7ms\n",
      "19:\tlearn: 21.0904784\ttotal: 31.8ms\tremaining: 47.7ms\n",
      "20:\tlearn: 20.9763876\ttotal: 33.3ms\tremaining: 46ms\n",
      "21:\tlearn: 20.9463858\ttotal: 34.5ms\tremaining: 43.9ms\n",
      "22:\tlearn: 20.7801905\ttotal: 36ms\tremaining: 42.3ms\n",
      "23:\tlearn: 20.6808534\ttotal: 37.2ms\tremaining: 40.3ms\n",
      "24:\tlearn: 20.6712769\ttotal: 38.3ms\tremaining: 38.3ms\n",
      "25:\tlearn: 20.5618269\ttotal: 39.4ms\tremaining: 36.4ms\n",
      "26:\tlearn: 20.4905926\ttotal: 40.5ms\tremaining: 34.5ms\n",
      "27:\tlearn: 20.3647314\ttotal: 41.7ms\tremaining: 32.8ms\n",
      "28:\tlearn: 20.3372578\ttotal: 42.8ms\tremaining: 31ms\n",
      "29:\tlearn: 20.2210454\ttotal: 43.8ms\tremaining: 29.2ms\n",
      "30:\tlearn: 20.1029044\ttotal: 45ms\tremaining: 27.6ms\n",
      "31:\tlearn: 20.0549983\ttotal: 45.9ms\tremaining: 25.8ms\n",
      "32:\tlearn: 19.9316546\ttotal: 47.1ms\tremaining: 24.3ms\n",
      "33:\tlearn: 19.9111807\ttotal: 48.2ms\tremaining: 22.7ms\n",
      "34:\tlearn: 19.8085687\ttotal: 49.2ms\tremaining: 21.1ms\n",
      "35:\tlearn: 19.7318773\ttotal: 50.4ms\tremaining: 19.6ms\n",
      "36:\tlearn: 19.6606001\ttotal: 51.5ms\tremaining: 18.1ms\n",
      "37:\tlearn: 19.6335905\ttotal: 53.3ms\tremaining: 16.8ms\n",
      "38:\tlearn: 19.5353672\ttotal: 54.4ms\tremaining: 15.3ms\n",
      "39:\tlearn: 19.5063792\ttotal: 55.6ms\tremaining: 13.9ms\n",
      "40:\tlearn: 19.4668363\ttotal: 56.7ms\tremaining: 12.4ms\n",
      "41:\tlearn: 19.3825509\ttotal: 57.7ms\tremaining: 11ms\n",
      "42:\tlearn: 19.3002185\ttotal: 58.7ms\tremaining: 9.56ms\n",
      "43:\tlearn: 19.2602184\ttotal: 59.7ms\tremaining: 8.13ms\n",
      "44:\tlearn: 19.1980492\ttotal: 60.8ms\tremaining: 6.75ms\n",
      "45:\tlearn: 19.1569342\ttotal: 61.8ms\tremaining: 5.37ms\n",
      "46:\tlearn: 19.0805212\ttotal: 62.8ms\tremaining: 4.01ms\n",
      "47:\tlearn: 19.0319477\ttotal: 63.7ms\tremaining: 2.65ms\n",
      "48:\tlearn: 19.0085827\ttotal: 64.7ms\tremaining: 1.32ms\n",
      "49:\tlearn: 18.9862462\ttotal: 65.7ms\tremaining: 0us\n",
      "Learning rate set to 0.5\n",
      "0:\tlearn: 31.2904430\ttotal: 1.58ms\tremaining: 77.4ms\n",
      "1:\tlearn: 26.4143385\ttotal: 3.11ms\tremaining: 74.6ms\n",
      "2:\tlearn: 24.4795271\ttotal: 4.63ms\tremaining: 72.5ms\n",
      "3:\tlearn: 23.8517191\ttotal: 5.81ms\tremaining: 66.8ms\n",
      "4:\tlearn: 23.6207712\ttotal: 6.97ms\tremaining: 62.7ms\n",
      "5:\tlearn: 23.3326700\ttotal: 8.2ms\tremaining: 60.1ms\n",
      "6:\tlearn: 23.1847858\ttotal: 9.39ms\tremaining: 57.7ms\n",
      "7:\tlearn: 23.0790563\ttotal: 10.7ms\tremaining: 56ms\n",
      "8:\tlearn: 23.0205381\ttotal: 11.8ms\tremaining: 53.8ms\n",
      "9:\tlearn: 22.9584186\ttotal: 13ms\tremaining: 52.1ms\n",
      "10:\tlearn: 22.8600733\ttotal: 14.1ms\tremaining: 50.1ms\n",
      "11:\tlearn: 22.7047421\ttotal: 15.3ms\tremaining: 48.4ms\n",
      "12:\tlearn: 22.5772966\ttotal: 16.4ms\tremaining: 46.6ms\n",
      "13:\tlearn: 22.3980984\ttotal: 17.6ms\tremaining: 45.1ms\n",
      "14:\tlearn: 22.3345861\ttotal: 18.8ms\tremaining: 43.9ms\n",
      "15:\tlearn: 22.2417460\ttotal: 20ms\tremaining: 42.5ms\n",
      "16:\tlearn: 22.1682303\ttotal: 21.2ms\tremaining: 41.1ms\n",
      "17:\tlearn: 22.1259921\ttotal: 22.4ms\tremaining: 39.8ms\n",
      "18:\tlearn: 22.0739189\ttotal: 23.6ms\tremaining: 38.5ms\n",
      "19:\tlearn: 21.9354254\ttotal: 24.7ms\tremaining: 37ms\n",
      "20:\tlearn: 21.9107258\ttotal: 25.9ms\tremaining: 35.7ms\n",
      "21:\tlearn: 21.7652355\ttotal: 27ms\tremaining: 34.4ms\n",
      "22:\tlearn: 21.6796858\ttotal: 28.2ms\tremaining: 33.1ms\n",
      "23:\tlearn: 21.5804167\ttotal: 29.6ms\tremaining: 32ms\n",
      "24:\tlearn: 21.4547098\ttotal: 31.9ms\tremaining: 31.9ms\n",
      "25:\tlearn: 21.3986115\ttotal: 33.9ms\tremaining: 31.3ms\n",
      "26:\tlearn: 21.3215864\ttotal: 35.8ms\tremaining: 30.5ms\n",
      "27:\tlearn: 21.2634494\ttotal: 37.4ms\tremaining: 29.3ms\n",
      "28:\tlearn: 21.2009801\ttotal: 38.6ms\tremaining: 28ms\n",
      "29:\tlearn: 21.1723689\ttotal: 39.8ms\tremaining: 26.6ms\n",
      "30:\tlearn: 21.0643334\ttotal: 41ms\tremaining: 25.1ms\n",
      "31:\tlearn: 21.0069272\ttotal: 42.3ms\tremaining: 23.8ms\n",
      "32:\tlearn: 20.9289332\ttotal: 43.4ms\tremaining: 22.4ms\n",
      "33:\tlearn: 20.9252428\ttotal: 44.5ms\tremaining: 20.9ms\n",
      "34:\tlearn: 20.8389499\ttotal: 45.8ms\tremaining: 19.6ms\n",
      "35:\tlearn: 20.7607742\ttotal: 47.4ms\tremaining: 18.5ms\n",
      "36:\tlearn: 20.6866979\ttotal: 48.6ms\tremaining: 17.1ms\n",
      "37:\tlearn: 20.6357683\ttotal: 49.8ms\tremaining: 15.7ms\n",
      "38:\tlearn: 20.5847529\ttotal: 51.1ms\tremaining: 14.4ms\n",
      "39:\tlearn: 20.5284574\ttotal: 52.3ms\tremaining: 13.1ms\n",
      "40:\tlearn: 20.5081786\ttotal: 53.6ms\tremaining: 11.8ms\n",
      "41:\tlearn: 20.4214852\ttotal: 54.8ms\tremaining: 10.4ms\n",
      "42:\tlearn: 20.3340986\ttotal: 56.1ms\tremaining: 9.14ms\n",
      "43:\tlearn: 20.2667604\ttotal: 57.3ms\tremaining: 7.82ms\n",
      "44:\tlearn: 20.2237621\ttotal: 58.7ms\tremaining: 6.52ms\n",
      "45:\tlearn: 20.1621927\ttotal: 59.9ms\tremaining: 5.21ms\n",
      "46:\tlearn: 20.1517682\ttotal: 61.1ms\tremaining: 3.9ms\n",
      "47:\tlearn: 20.0977954\ttotal: 62.2ms\tremaining: 2.59ms\n",
      "48:\tlearn: 20.0295015\ttotal: 63.4ms\tremaining: 1.29ms\n",
      "49:\tlearn: 19.9895711\ttotal: 64.6ms\tremaining: 0us\n",
      "Learning rate set to 0.243561\n",
      "0:\tlearn: 26.0800993\ttotal: 787us\tremaining: 78ms\n",
      "1:\tlearn: 23.6645226\ttotal: 1.88ms\tremaining: 92.3ms\n",
      "2:\tlearn: 21.9129405\ttotal: 2.75ms\tremaining: 89ms\n",
      "3:\tlearn: 20.9229867\ttotal: 3.55ms\tremaining: 85.3ms\n",
      "4:\tlearn: 20.0347797\ttotal: 4.68ms\tremaining: 88.9ms\n",
      "5:\tlearn: 19.0740990\ttotal: 5.73ms\tremaining: 89.8ms\n",
      "6:\tlearn: 18.4102835\ttotal: 6.94ms\tremaining: 92.2ms\n",
      "7:\tlearn: 17.9613715\ttotal: 7.51ms\tremaining: 86.4ms\n",
      "8:\tlearn: 17.4521804\ttotal: 8.41ms\tremaining: 85ms\n",
      "9:\tlearn: 17.3236182\ttotal: 9.01ms\tremaining: 81.1ms\n",
      "10:\tlearn: 17.0839263\ttotal: 9.97ms\tremaining: 80.6ms\n",
      "11:\tlearn: 16.9293368\ttotal: 10.5ms\tremaining: 77.3ms\n",
      "12:\tlearn: 16.6807172\ttotal: 11.2ms\tremaining: 75ms\n",
      "13:\tlearn: 16.5971774\ttotal: 11.8ms\tremaining: 72.7ms\n",
      "14:\tlearn: 16.5022818\ttotal: 12.4ms\tremaining: 70.4ms\n",
      "15:\tlearn: 16.2443409\ttotal: 13.1ms\tremaining: 68.9ms\n",
      "16:\tlearn: 16.1322129\ttotal: 14ms\tremaining: 68.6ms\n",
      "17:\tlearn: 16.0407657\ttotal: 15ms\tremaining: 68.3ms\n",
      "18:\tlearn: 15.9216778\ttotal: 15.9ms\tremaining: 67.9ms\n",
      "19:\tlearn: 15.7469033\ttotal: 16.8ms\tremaining: 67ms\n",
      "20:\tlearn: 15.6867455\ttotal: 17.6ms\tremaining: 66.3ms\n",
      "21:\tlearn: 15.5891996\ttotal: 18.6ms\tremaining: 66ms\n",
      "22:\tlearn: 15.5079851\ttotal: 19.6ms\tremaining: 65.6ms\n",
      "23:\tlearn: 15.4818674\ttotal: 19.9ms\tremaining: 63.1ms\n",
      "24:\tlearn: 15.4162215\ttotal: 20.9ms\tremaining: 62.7ms\n",
      "25:\tlearn: 15.3175169\ttotal: 21.8ms\tremaining: 62.1ms\n",
      "26:\tlearn: 15.2643922\ttotal: 22.7ms\tremaining: 61.4ms\n",
      "27:\tlearn: 15.1820615\ttotal: 23.6ms\tremaining: 60.6ms\n",
      "28:\tlearn: 14.9984337\ttotal: 24.2ms\tremaining: 59.2ms\n",
      "29:\tlearn: 14.9003757\ttotal: 24.8ms\tremaining: 57.8ms\n",
      "30:\tlearn: 14.8228814\ttotal: 25.4ms\tremaining: 56.4ms\n",
      "31:\tlearn: 14.7292767\ttotal: 25.9ms\tremaining: 55ms\n",
      "32:\tlearn: 14.6460159\ttotal: 26.5ms\tremaining: 53.8ms\n",
      "33:\tlearn: 14.5669815\ttotal: 27.1ms\tremaining: 52.7ms\n",
      "34:\tlearn: 14.5403103\ttotal: 27.8ms\tremaining: 51.6ms\n",
      "35:\tlearn: 14.4720220\ttotal: 28.4ms\tremaining: 50.5ms\n",
      "36:\tlearn: 14.4054308\ttotal: 29.1ms\tremaining: 49.5ms\n",
      "37:\tlearn: 14.3301626\ttotal: 30.1ms\tremaining: 49ms\n",
      "38:\tlearn: 14.2789027\ttotal: 30.6ms\tremaining: 47.9ms\n",
      "39:\tlearn: 14.1759620\ttotal: 31.3ms\tremaining: 47ms\n",
      "40:\tlearn: 14.1167500\ttotal: 31.9ms\tremaining: 45.9ms\n",
      "41:\tlearn: 14.0746307\ttotal: 32.5ms\tremaining: 44.9ms\n",
      "42:\tlearn: 14.0409765\ttotal: 33.2ms\tremaining: 44ms\n",
      "43:\tlearn: 13.9407877\ttotal: 33.8ms\tremaining: 43ms\n",
      "44:\tlearn: 13.8715374\ttotal: 34.3ms\tremaining: 42ms\n",
      "45:\tlearn: 13.8516860\ttotal: 34.9ms\tremaining: 41ms\n",
      "46:\tlearn: 13.7762266\ttotal: 35.5ms\tremaining: 40ms\n",
      "47:\tlearn: 13.7281263\ttotal: 36ms\tremaining: 39.1ms\n",
      "48:\tlearn: 13.5541352\ttotal: 36.7ms\tremaining: 38.2ms\n",
      "49:\tlearn: 13.4493996\ttotal: 37.5ms\tremaining: 37.5ms\n",
      "50:\tlearn: 13.3875474\ttotal: 38.2ms\tremaining: 36.7ms\n",
      "51:\tlearn: 13.3597760\ttotal: 38.8ms\tremaining: 35.8ms\n",
      "52:\tlearn: 13.2507319\ttotal: 39.4ms\tremaining: 34.9ms\n",
      "53:\tlearn: 13.2261925\ttotal: 40ms\tremaining: 34.1ms\n",
      "54:\tlearn: 13.1833538\ttotal: 40.5ms\tremaining: 33.2ms\n",
      "55:\tlearn: 13.1428238\ttotal: 41.1ms\tremaining: 32.3ms\n",
      "56:\tlearn: 13.0510314\ttotal: 41.9ms\tremaining: 31.6ms\n",
      "57:\tlearn: 13.0292540\ttotal: 42.5ms\tremaining: 30.8ms\n",
      "58:\tlearn: 12.9527880\ttotal: 43.1ms\tremaining: 30ms\n",
      "59:\tlearn: 12.8130789\ttotal: 43.7ms\tremaining: 29.2ms\n",
      "60:\tlearn: 12.7525044\ttotal: 44.3ms\tremaining: 28.4ms\n",
      "61:\tlearn: 12.6512101\ttotal: 44.9ms\tremaining: 27.5ms\n",
      "62:\tlearn: 12.5650678\ttotal: 45.6ms\tremaining: 26.8ms\n",
      "63:\tlearn: 12.5244506\ttotal: 46.1ms\tremaining: 25.9ms\n",
      "64:\tlearn: 12.4406269\ttotal: 46.8ms\tremaining: 25.2ms\n",
      "65:\tlearn: 12.3778054\ttotal: 47.4ms\tremaining: 24.4ms\n",
      "66:\tlearn: 12.3442486\ttotal: 48ms\tremaining: 23.7ms\n",
      "67:\tlearn: 12.2902629\ttotal: 48.6ms\tremaining: 22.9ms\n",
      "68:\tlearn: 12.2761879\ttotal: 49.2ms\tremaining: 22.1ms\n",
      "69:\tlearn: 12.1795893\ttotal: 49.9ms\tremaining: 21.4ms\n",
      "70:\tlearn: 12.0886487\ttotal: 50.5ms\tremaining: 20.6ms\n",
      "71:\tlearn: 12.0623967\ttotal: 51.1ms\tremaining: 19.9ms\n",
      "72:\tlearn: 12.0127651\ttotal: 51.7ms\tremaining: 19.1ms\n",
      "73:\tlearn: 11.9786128\ttotal: 52.4ms\tremaining: 18.4ms\n",
      "74:\tlearn: 11.8381710\ttotal: 53ms\tremaining: 17.7ms\n",
      "75:\tlearn: 11.7666798\ttotal: 53.7ms\tremaining: 16.9ms\n",
      "76:\tlearn: 11.7380681\ttotal: 54.3ms\tremaining: 16.2ms\n",
      "77:\tlearn: 11.7138352\ttotal: 55ms\tremaining: 15.5ms\n",
      "78:\tlearn: 11.6587145\ttotal: 55.7ms\tremaining: 14.8ms\n",
      "79:\tlearn: 11.5954521\ttotal: 56.3ms\tremaining: 14.1ms\n",
      "80:\tlearn: 11.4937749\ttotal: 56.9ms\tremaining: 13.3ms\n",
      "81:\tlearn: 11.4764855\ttotal: 57.5ms\tremaining: 12.6ms\n",
      "82:\tlearn: 11.4186881\ttotal: 58.1ms\tremaining: 11.9ms\n",
      "83:\tlearn: 11.3838494\ttotal: 58.8ms\tremaining: 11.2ms\n",
      "84:\tlearn: 11.2653275\ttotal: 59.4ms\tremaining: 10.5ms\n",
      "85:\tlearn: 11.2329662\ttotal: 60.1ms\tremaining: 9.78ms\n",
      "86:\tlearn: 11.2096129\ttotal: 60.8ms\tremaining: 9.09ms\n",
      "87:\tlearn: 11.2038366\ttotal: 61.5ms\tremaining: 8.38ms\n",
      "88:\tlearn: 11.0988883\ttotal: 62.1ms\tremaining: 7.67ms\n",
      "89:\tlearn: 11.0537707\ttotal: 62.7ms\tremaining: 6.97ms\n",
      "90:\tlearn: 10.9432859\ttotal: 63.8ms\tremaining: 6.3ms\n",
      "91:\tlearn: 10.9255455\ttotal: 64.4ms\tremaining: 5.6ms\n",
      "92:\tlearn: 10.8720097\ttotal: 65ms\tremaining: 4.89ms\n",
      "93:\tlearn: 10.8540078\ttotal: 65.6ms\tremaining: 4.18ms\n",
      "94:\tlearn: 10.7888220\ttotal: 66.2ms\tremaining: 3.48ms\n",
      "95:\tlearn: 10.6859675\ttotal: 66.8ms\tremaining: 2.78ms\n",
      "96:\tlearn: 10.6046121\ttotal: 67.7ms\tremaining: 2.09ms\n",
      "97:\tlearn: 10.5468713\ttotal: 68.3ms\tremaining: 1.39ms\n",
      "98:\tlearn: 10.5258682\ttotal: 69ms\tremaining: 696us\n",
      "99:\tlearn: 10.4913906\ttotal: 69.6ms\tremaining: 0us\n",
      "Learning rate set to 0.2716\n",
      "0:\tlearn: 27.8113358\ttotal: 1ms\tremaining: 99.1ms\n",
      "1:\tlearn: 24.9220995\ttotal: 1.97ms\tremaining: 96.5ms\n",
      "2:\tlearn: 22.9652543\ttotal: 2.73ms\tremaining: 88.2ms\n",
      "3:\tlearn: 21.5912959\ttotal: 3.46ms\tremaining: 83.1ms\n",
      "4:\tlearn: 20.5755078\ttotal: 4.13ms\tremaining: 78.5ms\n",
      "5:\tlearn: 19.8254523\ttotal: 4.83ms\tremaining: 75.7ms\n",
      "6:\tlearn: 19.3867840\ttotal: 5.61ms\tremaining: 74.5ms\n",
      "7:\tlearn: 19.0880196\ttotal: 6.35ms\tremaining: 73.1ms\n",
      "8:\tlearn: 18.8684741\ttotal: 7.05ms\tremaining: 71.3ms\n",
      "9:\tlearn: 18.6868328\ttotal: 7.77ms\tremaining: 70ms\n",
      "10:\tlearn: 18.5199336\ttotal: 8.49ms\tremaining: 68.7ms\n",
      "11:\tlearn: 18.4027249\ttotal: 9.19ms\tremaining: 67.4ms\n",
      "12:\tlearn: 18.2980539\ttotal: 9.84ms\tremaining: 65.8ms\n",
      "13:\tlearn: 18.2297709\ttotal: 10.6ms\tremaining: 65.2ms\n",
      "14:\tlearn: 18.1106875\ttotal: 11.3ms\tremaining: 64.1ms\n",
      "15:\tlearn: 17.9337701\ttotal: 12ms\tremaining: 63.1ms\n",
      "16:\tlearn: 17.8613143\ttotal: 12.7ms\tremaining: 62ms\n",
      "17:\tlearn: 17.7963273\ttotal: 13.4ms\tremaining: 61ms\n",
      "18:\tlearn: 17.7185961\ttotal: 14.1ms\tremaining: 60.2ms\n",
      "19:\tlearn: 17.6857824\ttotal: 14.8ms\tremaining: 59.2ms\n",
      "20:\tlearn: 17.6595291\ttotal: 15.5ms\tremaining: 58.2ms\n",
      "21:\tlearn: 17.6376187\ttotal: 16.3ms\tremaining: 57.9ms\n",
      "22:\tlearn: 17.5304528\ttotal: 17ms\tremaining: 56.9ms\n",
      "23:\tlearn: 17.4272551\ttotal: 17.7ms\tremaining: 56.1ms\n",
      "24:\tlearn: 17.4165897\ttotal: 18.4ms\tremaining: 55.4ms\n",
      "25:\tlearn: 17.3264682\ttotal: 19.3ms\tremaining: 55ms\n",
      "26:\tlearn: 17.3074388\ttotal: 20ms\tremaining: 54.1ms\n",
      "27:\tlearn: 17.2831921\ttotal: 20.7ms\tremaining: 53.2ms\n",
      "28:\tlearn: 17.2328061\ttotal: 21.4ms\tremaining: 52.3ms\n",
      "29:\tlearn: 17.1533236\ttotal: 22.6ms\tremaining: 52.7ms\n",
      "30:\tlearn: 17.0788640\ttotal: 23.8ms\tremaining: 52.9ms\n",
      "31:\tlearn: 16.9868423\ttotal: 24.8ms\tremaining: 52.8ms\n",
      "32:\tlearn: 16.9227597\ttotal: 25.8ms\tremaining: 52.4ms\n",
      "33:\tlearn: 16.8811568\ttotal: 26.7ms\tremaining: 51.9ms\n",
      "34:\tlearn: 16.8570411\ttotal: 27.8ms\tremaining: 51.7ms\n",
      "35:\tlearn: 16.8411318\ttotal: 29ms\tremaining: 51.6ms\n",
      "36:\tlearn: 16.8211246\ttotal: 30ms\tremaining: 51.1ms\n",
      "37:\tlearn: 16.7625644\ttotal: 31.1ms\tremaining: 50.8ms\n",
      "38:\tlearn: 16.6829023\ttotal: 31.9ms\tremaining: 49.9ms\n",
      "39:\tlearn: 16.6079620\ttotal: 32.8ms\tremaining: 49.1ms\n",
      "40:\tlearn: 16.5736089\ttotal: 33.4ms\tremaining: 48.1ms\n",
      "41:\tlearn: 16.4942076\ttotal: 34.3ms\tremaining: 47.3ms\n",
      "42:\tlearn: 16.4795430\ttotal: 35.1ms\tremaining: 46.5ms\n",
      "43:\tlearn: 16.4675096\ttotal: 35.8ms\tremaining: 45.6ms\n",
      "44:\tlearn: 16.4100405\ttotal: 36.5ms\tremaining: 44.6ms\n",
      "45:\tlearn: 16.3176663\ttotal: 37.3ms\tremaining: 43.8ms\n",
      "46:\tlearn: 16.1756399\ttotal: 38.1ms\tremaining: 42.9ms\n",
      "47:\tlearn: 16.1268209\ttotal: 38.8ms\tremaining: 42ms\n",
      "48:\tlearn: 16.0517136\ttotal: 39.7ms\tremaining: 41.3ms\n",
      "49:\tlearn: 15.9997727\ttotal: 40.5ms\tremaining: 40.5ms\n",
      "50:\tlearn: 15.9548467\ttotal: 41.2ms\tremaining: 39.6ms\n",
      "51:\tlearn: 15.9432637\ttotal: 42ms\tremaining: 38.8ms\n",
      "52:\tlearn: 15.8332860\ttotal: 42.8ms\tremaining: 37.9ms\n",
      "53:\tlearn: 15.7947466\ttotal: 43.5ms\tremaining: 37ms\n",
      "54:\tlearn: 15.7326529\ttotal: 44.3ms\tremaining: 36.2ms\n",
      "55:\tlearn: 15.6716753\ttotal: 45.1ms\tremaining: 35.4ms\n",
      "56:\tlearn: 15.6696772\ttotal: 45.9ms\tremaining: 34.6ms\n",
      "57:\tlearn: 15.6242331\ttotal: 46.8ms\tremaining: 33.9ms\n",
      "58:\tlearn: 15.5724877\ttotal: 47.6ms\tremaining: 33.1ms\n",
      "59:\tlearn: 15.5248521\ttotal: 48.3ms\tremaining: 32.2ms\n",
      "60:\tlearn: 15.4401538\ttotal: 49.1ms\tremaining: 31.4ms\n",
      "61:\tlearn: 15.4065114\ttotal: 50ms\tremaining: 30.7ms\n",
      "62:\tlearn: 15.3275224\ttotal: 50.8ms\tremaining: 29.8ms\n",
      "63:\tlearn: 15.3076856\ttotal: 51.5ms\tremaining: 29ms\n",
      "64:\tlearn: 15.2589241\ttotal: 52.3ms\tremaining: 28.2ms\n",
      "65:\tlearn: 15.1882718\ttotal: 53.1ms\tremaining: 27.4ms\n",
      "66:\tlearn: 15.1446145\ttotal: 53.9ms\tremaining: 26.5ms\n",
      "67:\tlearn: 15.0663787\ttotal: 54.6ms\tremaining: 25.7ms\n",
      "68:\tlearn: 15.0589511\ttotal: 55.4ms\tremaining: 24.9ms\n",
      "69:\tlearn: 15.0088101\ttotal: 56.1ms\tremaining: 24.1ms\n",
      "70:\tlearn: 14.9574722\ttotal: 56.9ms\tremaining: 23.2ms\n",
      "71:\tlearn: 14.9315585\ttotal: 57.7ms\tremaining: 22.4ms\n",
      "72:\tlearn: 14.8664976\ttotal: 58.4ms\tremaining: 21.6ms\n",
      "73:\tlearn: 14.8519522\ttotal: 59.2ms\tremaining: 20.8ms\n",
      "74:\tlearn: 14.8283030\ttotal: 60.1ms\tremaining: 20ms\n",
      "75:\tlearn: 14.7999520\ttotal: 60.9ms\tremaining: 19.2ms\n",
      "76:\tlearn: 14.7399384\ttotal: 61.8ms\tremaining: 18.5ms\n",
      "77:\tlearn: 14.7274227\ttotal: 62.7ms\tremaining: 17.7ms\n",
      "78:\tlearn: 14.7196889\ttotal: 63.5ms\tremaining: 16.9ms\n",
      "79:\tlearn: 14.6796520\ttotal: 64.6ms\tremaining: 16.1ms\n",
      "80:\tlearn: 14.6526738\ttotal: 65.5ms\tremaining: 15.4ms\n",
      "81:\tlearn: 14.6512186\ttotal: 66.4ms\tremaining: 14.6ms\n",
      "82:\tlearn: 14.5657635\ttotal: 67.2ms\tremaining: 13.8ms\n",
      "83:\tlearn: 14.5309936\ttotal: 67.9ms\tremaining: 12.9ms\n",
      "84:\tlearn: 14.4675986\ttotal: 68.7ms\tremaining: 12.1ms\n",
      "85:\tlearn: 14.4510060\ttotal: 69.4ms\tremaining: 11.3ms\n",
      "86:\tlearn: 14.4152324\ttotal: 70.2ms\tremaining: 10.5ms\n",
      "87:\tlearn: 14.4030215\ttotal: 70.9ms\tremaining: 9.67ms\n",
      "88:\tlearn: 14.3731624\ttotal: 71.7ms\tremaining: 8.86ms\n",
      "89:\tlearn: 14.3269095\ttotal: 72.6ms\tremaining: 8.06ms\n",
      "90:\tlearn: 14.2663345\ttotal: 73.3ms\tremaining: 7.25ms\n",
      "91:\tlearn: 14.2537878\ttotal: 74.1ms\tremaining: 6.45ms\n",
      "92:\tlearn: 14.2485055\ttotal: 74.9ms\tremaining: 5.64ms\n",
      "93:\tlearn: 14.2225405\ttotal: 75.6ms\tremaining: 4.82ms\n",
      "94:\tlearn: 14.2210234\ttotal: 76.3ms\tremaining: 4.01ms\n",
      "95:\tlearn: 14.2177427\ttotal: 77ms\tremaining: 3.21ms\n",
      "96:\tlearn: 14.2003375\ttotal: 77.7ms\tremaining: 2.4ms\n",
      "97:\tlearn: 14.1488135\ttotal: 78.5ms\tremaining: 1.6ms\n",
      "98:\tlearn: 14.1261427\ttotal: 79.2ms\tremaining: 799us\n",
      "99:\tlearn: 14.0950605\ttotal: 79.9ms\tremaining: 0us\n",
      "Learning rate set to 0.289515\n",
      "0:\tlearn: 27.0379226\ttotal: 1.32ms\tremaining: 130ms\n",
      "1:\tlearn: 24.7051495\ttotal: 2.26ms\tremaining: 111ms\n",
      "2:\tlearn: 22.9940523\ttotal: 3.26ms\tremaining: 105ms\n",
      "3:\tlearn: 21.9850038\ttotal: 4.17ms\tremaining: 100ms\n",
      "4:\tlearn: 21.3685090\ttotal: 5.05ms\tremaining: 96ms\n",
      "5:\tlearn: 20.9647308\ttotal: 6.21ms\tremaining: 97.2ms\n",
      "6:\tlearn: 20.6951498\ttotal: 7.49ms\tremaining: 99.5ms\n",
      "7:\tlearn: 20.5207416\ttotal: 8.65ms\tremaining: 99.5ms\n",
      "8:\tlearn: 20.2890986\ttotal: 9.79ms\tremaining: 98.9ms\n",
      "9:\tlearn: 20.1741222\ttotal: 12.9ms\tremaining: 116ms\n",
      "10:\tlearn: 20.0800642\ttotal: 14ms\tremaining: 113ms\n",
      "11:\tlearn: 20.0035492\ttotal: 15.5ms\tremaining: 114ms\n",
      "12:\tlearn: 19.8602237\ttotal: 17ms\tremaining: 114ms\n",
      "13:\tlearn: 19.7780229\ttotal: 17.9ms\tremaining: 110ms\n",
      "14:\tlearn: 19.7659558\ttotal: 18.3ms\tremaining: 104ms\n",
      "15:\tlearn: 19.7138395\ttotal: 19.2ms\tremaining: 101ms\n",
      "16:\tlearn: 19.6602788\ttotal: 20.1ms\tremaining: 97.9ms\n",
      "17:\tlearn: 19.5225242\ttotal: 20.9ms\tremaining: 95.2ms\n",
      "18:\tlearn: 19.4501962\ttotal: 21.7ms\tremaining: 92.3ms\n",
      "19:\tlearn: 19.3500988\ttotal: 22.5ms\tremaining: 90.1ms\n",
      "20:\tlearn: 19.2863089\ttotal: 23.5ms\tremaining: 88.4ms\n",
      "21:\tlearn: 19.2626714\ttotal: 24.4ms\tremaining: 86.5ms\n",
      "22:\tlearn: 19.2080345\ttotal: 25.3ms\tremaining: 84.6ms\n",
      "23:\tlearn: 19.1619978\ttotal: 26ms\tremaining: 82.5ms\n",
      "24:\tlearn: 19.0974324\ttotal: 26.9ms\tremaining: 80.7ms\n",
      "25:\tlearn: 19.0540078\ttotal: 27.7ms\tremaining: 79ms\n",
      "26:\tlearn: 19.0144438\ttotal: 28.5ms\tremaining: 77.1ms\n",
      "27:\tlearn: 18.9304225\ttotal: 29.4ms\tremaining: 75.6ms\n",
      "28:\tlearn: 18.8747793\ttotal: 30.3ms\tremaining: 74.2ms\n",
      "29:\tlearn: 18.8305216\ttotal: 31.1ms\tremaining: 72.6ms\n",
      "30:\tlearn: 18.7799105\ttotal: 32.3ms\tremaining: 71.8ms\n",
      "31:\tlearn: 18.7591289\ttotal: 33.1ms\tremaining: 70.4ms\n",
      "32:\tlearn: 18.7204188\ttotal: 34ms\tremaining: 69.1ms\n",
      "33:\tlearn: 18.6590996\ttotal: 35ms\tremaining: 68ms\n",
      "34:\tlearn: 18.5425583\ttotal: 35.9ms\tremaining: 66.7ms\n",
      "35:\tlearn: 18.4727951\ttotal: 36.9ms\tremaining: 65.6ms\n",
      "36:\tlearn: 18.3580725\ttotal: 37.7ms\tremaining: 64.2ms\n",
      "37:\tlearn: 18.3032096\ttotal: 38.5ms\tremaining: 62.8ms\n",
      "38:\tlearn: 18.2390487\ttotal: 39.5ms\tremaining: 61.7ms\n",
      "39:\tlearn: 18.1693905\ttotal: 40.4ms\tremaining: 60.5ms\n",
      "40:\tlearn: 18.1343364\ttotal: 41.4ms\tremaining: 59.6ms\n",
      "41:\tlearn: 18.0731637\ttotal: 42.3ms\tremaining: 58.4ms\n",
      "42:\tlearn: 18.0290780\ttotal: 43.2ms\tremaining: 57.3ms\n",
      "43:\tlearn: 17.9676494\ttotal: 44.1ms\tremaining: 56.1ms\n",
      "44:\tlearn: 17.9618714\ttotal: 44.9ms\tremaining: 54.9ms\n",
      "45:\tlearn: 17.8606761\ttotal: 45.8ms\tremaining: 53.8ms\n",
      "46:\tlearn: 17.8018270\ttotal: 46.8ms\tremaining: 52.8ms\n",
      "47:\tlearn: 17.7664108\ttotal: 47.7ms\tremaining: 51.7ms\n",
      "48:\tlearn: 17.7206296\ttotal: 48.6ms\tremaining: 50.6ms\n",
      "49:\tlearn: 17.7055926\ttotal: 49.5ms\tremaining: 49.5ms\n",
      "50:\tlearn: 17.6345877\ttotal: 50.3ms\tremaining: 48.3ms\n",
      "51:\tlearn: 17.5581843\ttotal: 51.2ms\tremaining: 47.3ms\n",
      "52:\tlearn: 17.5546369\ttotal: 52ms\tremaining: 46.1ms\n",
      "53:\tlearn: 17.4612424\ttotal: 52.9ms\tremaining: 45.1ms\n",
      "54:\tlearn: 17.4217486\ttotal: 54.1ms\tremaining: 44.3ms\n",
      "55:\tlearn: 17.3586931\ttotal: 55.3ms\tremaining: 43.4ms\n",
      "56:\tlearn: 17.2452900\ttotal: 58.4ms\tremaining: 44.1ms\n",
      "57:\tlearn: 17.1806952\ttotal: 59.4ms\tremaining: 43ms\n",
      "58:\tlearn: 17.1488247\ttotal: 60.3ms\tremaining: 41.9ms\n",
      "59:\tlearn: 17.1020340\ttotal: 61.4ms\tremaining: 40.9ms\n",
      "60:\tlearn: 17.0180186\ttotal: 62.3ms\tremaining: 39.8ms\n",
      "61:\tlearn: 16.9783622\ttotal: 63.2ms\tremaining: 38.7ms\n",
      "62:\tlearn: 16.9192271\ttotal: 64.1ms\tremaining: 37.6ms\n",
      "63:\tlearn: 16.8665276\ttotal: 65ms\tremaining: 36.6ms\n",
      "64:\tlearn: 16.7982978\ttotal: 65.9ms\tremaining: 35.5ms\n",
      "65:\tlearn: 16.7369926\ttotal: 66.8ms\tremaining: 34.4ms\n",
      "66:\tlearn: 16.6347977\ttotal: 67.6ms\tremaining: 33.3ms\n",
      "67:\tlearn: 16.5815455\ttotal: 68.5ms\tremaining: 32.2ms\n",
      "68:\tlearn: 16.5408365\ttotal: 69.4ms\tremaining: 31.2ms\n",
      "69:\tlearn: 16.4818700\ttotal: 70.3ms\tremaining: 30.1ms\n",
      "70:\tlearn: 16.4009845\ttotal: 71.3ms\tremaining: 29.1ms\n",
      "71:\tlearn: 16.3621701\ttotal: 72.1ms\tremaining: 28ms\n",
      "72:\tlearn: 16.3138358\ttotal: 73ms\tremaining: 27ms\n",
      "73:\tlearn: 16.3017051\ttotal: 74.3ms\tremaining: 26.1ms\n",
      "74:\tlearn: 16.2639381\ttotal: 75.2ms\tremaining: 25.1ms\n",
      "75:\tlearn: 16.2356901\ttotal: 76ms\tremaining: 24ms\n",
      "76:\tlearn: 16.2331025\ttotal: 76.8ms\tremaining: 22.9ms\n",
      "77:\tlearn: 16.2060149\ttotal: 77.7ms\tremaining: 21.9ms\n",
      "78:\tlearn: 16.2042259\ttotal: 78.6ms\tremaining: 20.9ms\n",
      "79:\tlearn: 16.1596308\ttotal: 79.5ms\tremaining: 19.9ms\n",
      "80:\tlearn: 16.0666252\ttotal: 80.3ms\tremaining: 18.8ms\n",
      "81:\tlearn: 16.0530707\ttotal: 81.3ms\tremaining: 17.9ms\n",
      "82:\tlearn: 16.0269573\ttotal: 82.1ms\tremaining: 16.8ms\n",
      "83:\tlearn: 16.0080551\ttotal: 82.8ms\tremaining: 15.8ms\n",
      "84:\tlearn: 15.9108206\ttotal: 83.8ms\tremaining: 14.8ms\n",
      "85:\tlearn: 15.8415512\ttotal: 84.7ms\tremaining: 13.8ms\n",
      "86:\tlearn: 15.8000998\ttotal: 85.9ms\tremaining: 12.8ms\n",
      "87:\tlearn: 15.7365777\ttotal: 86.6ms\tremaining: 11.8ms\n",
      "88:\tlearn: 15.7154074\ttotal: 87.9ms\tremaining: 10.9ms\n",
      "89:\tlearn: 15.6569431\ttotal: 88.8ms\tremaining: 9.86ms\n",
      "90:\tlearn: 15.5968327\ttotal: 89.7ms\tremaining: 8.87ms\n",
      "91:\tlearn: 15.5719714\ttotal: 90.7ms\tremaining: 7.89ms\n",
      "92:\tlearn: 15.5276062\ttotal: 91.6ms\tremaining: 6.9ms\n",
      "93:\tlearn: 15.4951101\ttotal: 93ms\tremaining: 5.93ms\n",
      "94:\tlearn: 15.4558961\ttotal: 94ms\tremaining: 4.94ms\n",
      "95:\tlearn: 15.4203125\ttotal: 95ms\tremaining: 3.96ms\n",
      "96:\tlearn: 15.3917487\ttotal: 96.3ms\tremaining: 2.98ms\n",
      "97:\tlearn: 15.3616386\ttotal: 97.2ms\tremaining: 1.98ms\n",
      "98:\tlearn: 15.3223300\ttotal: 98.1ms\tremaining: 990us\n",
      "99:\tlearn: 15.3061378\ttotal: 99.4ms\tremaining: 0us\n",
      "Learning rate set to 0.30295\n",
      "0:\tlearn: 30.5937148\ttotal: 1.81ms\tremaining: 180ms\n",
      "1:\tlearn: 27.0271705\ttotal: 3.67ms\tremaining: 180ms\n",
      "2:\tlearn: 24.7617561\ttotal: 5.48ms\tremaining: 177ms\n",
      "3:\tlearn: 23.5746448\ttotal: 6.59ms\tremaining: 158ms\n",
      "4:\tlearn: 22.8219125\ttotal: 7.85ms\tremaining: 149ms\n",
      "5:\tlearn: 22.2757047\ttotal: 9.02ms\tremaining: 141ms\n",
      "6:\tlearn: 21.9798133\ttotal: 10.1ms\tremaining: 134ms\n",
      "7:\tlearn: 21.6709526\ttotal: 11.8ms\tremaining: 136ms\n",
      "8:\tlearn: 21.5659701\ttotal: 13.2ms\tremaining: 134ms\n",
      "9:\tlearn: 21.4844103\ttotal: 14.8ms\tremaining: 133ms\n",
      "10:\tlearn: 21.4070583\ttotal: 16.4ms\tremaining: 132ms\n",
      "11:\tlearn: 21.2829875\ttotal: 17.8ms\tremaining: 131ms\n",
      "12:\tlearn: 21.1742828\ttotal: 18.9ms\tremaining: 126ms\n",
      "13:\tlearn: 21.0792811\ttotal: 20.2ms\tremaining: 124ms\n",
      "14:\tlearn: 20.9509028\ttotal: 21.5ms\tremaining: 122ms\n",
      "15:\tlearn: 20.8608608\ttotal: 22.6ms\tremaining: 118ms\n",
      "16:\tlearn: 20.7894664\ttotal: 23.6ms\tremaining: 115ms\n",
      "17:\tlearn: 20.7483847\ttotal: 24.6ms\tremaining: 112ms\n",
      "18:\tlearn: 20.7004237\ttotal: 25.9ms\tremaining: 110ms\n",
      "19:\tlearn: 20.6328674\ttotal: 27.2ms\tremaining: 109ms\n",
      "20:\tlearn: 20.5450243\ttotal: 28.4ms\tremaining: 107ms\n",
      "21:\tlearn: 20.4785836\ttotal: 29.4ms\tremaining: 104ms\n",
      "22:\tlearn: 20.3951811\ttotal: 30.7ms\tremaining: 103ms\n",
      "23:\tlearn: 20.3418016\ttotal: 31.7ms\tremaining: 100ms\n",
      "24:\tlearn: 20.2852201\ttotal: 32.7ms\tremaining: 98.1ms\n",
      "25:\tlearn: 20.2208294\ttotal: 33.8ms\tremaining: 96.1ms\n",
      "26:\tlearn: 20.1746346\ttotal: 34.7ms\tremaining: 93.7ms\n",
      "27:\tlearn: 20.0746283\ttotal: 35.6ms\tremaining: 91.7ms\n",
      "28:\tlearn: 19.9535610\ttotal: 36.7ms\tremaining: 89.8ms\n",
      "29:\tlearn: 19.9106621\ttotal: 37.6ms\tremaining: 87.7ms\n",
      "30:\tlearn: 19.8686890\ttotal: 38.6ms\tremaining: 86ms\n",
      "31:\tlearn: 19.8285118\ttotal: 39.7ms\tremaining: 84.3ms\n",
      "32:\tlearn: 19.7876275\ttotal: 40.7ms\tremaining: 82.6ms\n",
      "33:\tlearn: 19.7313450\ttotal: 41.6ms\tremaining: 80.8ms\n",
      "34:\tlearn: 19.6848462\ttotal: 42.8ms\tremaining: 79.5ms\n",
      "35:\tlearn: 19.6338932\ttotal: 43.9ms\tremaining: 78ms\n",
      "36:\tlearn: 19.5888780\ttotal: 44.9ms\tremaining: 76.5ms\n",
      "37:\tlearn: 19.5446424\ttotal: 45.9ms\tremaining: 74.9ms\n",
      "38:\tlearn: 19.5053638\ttotal: 47.2ms\tremaining: 73.8ms\n",
      "39:\tlearn: 19.4943349\ttotal: 48.4ms\tremaining: 72.6ms\n",
      "40:\tlearn: 19.4554467\ttotal: 49.4ms\tremaining: 71.1ms\n",
      "41:\tlearn: 19.3467493\ttotal: 50.4ms\tremaining: 69.6ms\n",
      "42:\tlearn: 19.2982674\ttotal: 51.5ms\tremaining: 68.2ms\n",
      "43:\tlearn: 19.2684088\ttotal: 52.5ms\tremaining: 66.8ms\n",
      "44:\tlearn: 19.2450078\ttotal: 53.4ms\tremaining: 65.3ms\n",
      "45:\tlearn: 19.1635701\ttotal: 54.4ms\tremaining: 63.8ms\n",
      "46:\tlearn: 19.0685907\ttotal: 55.6ms\tremaining: 62.7ms\n",
      "47:\tlearn: 19.0104958\ttotal: 56.6ms\tremaining: 61.3ms\n",
      "48:\tlearn: 18.9383028\ttotal: 57.5ms\tremaining: 59.9ms\n",
      "49:\tlearn: 18.8728712\ttotal: 58.5ms\tremaining: 58.5ms\n",
      "50:\tlearn: 18.8194341\ttotal: 59.5ms\tremaining: 57.2ms\n",
      "51:\tlearn: 18.8087110\ttotal: 60.5ms\tremaining: 55.8ms\n",
      "52:\tlearn: 18.7907031\ttotal: 61.6ms\tremaining: 54.6ms\n",
      "53:\tlearn: 18.7624047\ttotal: 62.5ms\tremaining: 53.2ms\n",
      "54:\tlearn: 18.6996002\ttotal: 63.6ms\tremaining: 52ms\n",
      "55:\tlearn: 18.6658435\ttotal: 64.6ms\tremaining: 50.7ms\n",
      "56:\tlearn: 18.6004035\ttotal: 65.6ms\tremaining: 49.5ms\n",
      "57:\tlearn: 18.5745822\ttotal: 66.6ms\tremaining: 48.2ms\n",
      "58:\tlearn: 18.5545298\ttotal: 67.5ms\tremaining: 46.9ms\n",
      "59:\tlearn: 18.5244780\ttotal: 68.5ms\tremaining: 45.7ms\n",
      "60:\tlearn: 18.5039074\ttotal: 69.5ms\tremaining: 44.4ms\n",
      "61:\tlearn: 18.4660823\ttotal: 70.5ms\tremaining: 43.2ms\n",
      "62:\tlearn: 18.3814946\ttotal: 71.6ms\tremaining: 42ms\n",
      "63:\tlearn: 18.3390727\ttotal: 73ms\tremaining: 41.1ms\n",
      "64:\tlearn: 18.3302238\ttotal: 74.4ms\tremaining: 40.1ms\n",
      "65:\tlearn: 18.2646905\ttotal: 75.4ms\tremaining: 38.9ms\n",
      "66:\tlearn: 18.2315642\ttotal: 76.4ms\tremaining: 37.6ms\n",
      "67:\tlearn: 18.2001798\ttotal: 77.4ms\tremaining: 36.4ms\n",
      "68:\tlearn: 18.1767039\ttotal: 78.4ms\tremaining: 35.2ms\n",
      "69:\tlearn: 18.1500434\ttotal: 79.4ms\tremaining: 34ms\n",
      "70:\tlearn: 18.1067172\ttotal: 80.3ms\tremaining: 32.8ms\n",
      "71:\tlearn: 18.0501859\ttotal: 81.2ms\tremaining: 31.6ms\n",
      "72:\tlearn: 17.9970758\ttotal: 82.2ms\tremaining: 30.4ms\n",
      "73:\tlearn: 17.9420599\ttotal: 83.1ms\tremaining: 29.2ms\n",
      "74:\tlearn: 17.8943001\ttotal: 84.1ms\tremaining: 28ms\n",
      "75:\tlearn: 17.8551346\ttotal: 85.1ms\tremaining: 26.9ms\n",
      "76:\tlearn: 17.8043483\ttotal: 86ms\tremaining: 25.7ms\n",
      "77:\tlearn: 17.7911325\ttotal: 87ms\tremaining: 24.5ms\n",
      "78:\tlearn: 17.7348407\ttotal: 88ms\tremaining: 23.4ms\n",
      "79:\tlearn: 17.7144511\ttotal: 89ms\tremaining: 22.3ms\n",
      "80:\tlearn: 17.7005519\ttotal: 90ms\tremaining: 21.1ms\n",
      "81:\tlearn: 17.6756644\ttotal: 91ms\tremaining: 20ms\n",
      "82:\tlearn: 17.6371109\ttotal: 92ms\tremaining: 18.8ms\n",
      "83:\tlearn: 17.6195922\ttotal: 93ms\tremaining: 17.7ms\n",
      "84:\tlearn: 17.5643903\ttotal: 94.5ms\tremaining: 16.7ms\n",
      "85:\tlearn: 17.5173502\ttotal: 95.4ms\tremaining: 15.5ms\n",
      "86:\tlearn: 17.4922742\ttotal: 96.5ms\tremaining: 14.4ms\n",
      "87:\tlearn: 17.4652017\ttotal: 97.5ms\tremaining: 13.3ms\n",
      "88:\tlearn: 17.4359481\ttotal: 98.7ms\tremaining: 12.2ms\n",
      "89:\tlearn: 17.4074286\ttotal: 99.7ms\tremaining: 11.1ms\n",
      "90:\tlearn: 17.3819782\ttotal: 101ms\tremaining: 9.96ms\n",
      "91:\tlearn: 17.3606401\ttotal: 102ms\tremaining: 8.84ms\n",
      "92:\tlearn: 17.3096061\ttotal: 103ms\tremaining: 7.72ms\n",
      "93:\tlearn: 17.2664162\ttotal: 103ms\tremaining: 6.61ms\n",
      "94:\tlearn: 17.2462100\ttotal: 104ms\tremaining: 5.5ms\n",
      "95:\tlearn: 17.2284382\ttotal: 105ms\tremaining: 4.39ms\n",
      "96:\tlearn: 17.1913494\ttotal: 106ms\tremaining: 3.29ms\n",
      "97:\tlearn: 17.1551005\ttotal: 107ms\tremaining: 2.19ms\n",
      "98:\tlearn: 17.1317167\ttotal: 108ms\tremaining: 1.09ms\n",
      "99:\tlearn: 17.1263955\ttotal: 109ms\tremaining: 0us\n",
      "Learning rate set to 0.313804\n",
      "0:\tlearn: 30.7724172\ttotal: 1.38ms\tremaining: 136ms\n",
      "1:\tlearn: 27.3137969\ttotal: 2.75ms\tremaining: 135ms\n",
      "2:\tlearn: 25.4078731\ttotal: 3.83ms\tremaining: 124ms\n",
      "3:\tlearn: 24.2172403\ttotal: 4.94ms\tremaining: 119ms\n",
      "4:\tlearn: 23.5728857\ttotal: 5.99ms\tremaining: 114ms\n",
      "5:\tlearn: 23.0491583\ttotal: 7.1ms\tremaining: 111ms\n",
      "6:\tlearn: 22.7647006\ttotal: 8.1ms\tremaining: 108ms\n",
      "7:\tlearn: 22.5835036\ttotal: 9.41ms\tremaining: 108ms\n",
      "8:\tlearn: 22.4590742\ttotal: 10.4ms\tremaining: 105ms\n",
      "9:\tlearn: 22.3543065\ttotal: 11.5ms\tremaining: 104ms\n",
      "10:\tlearn: 22.2491215\ttotal: 12.6ms\tremaining: 102ms\n",
      "11:\tlearn: 22.1469822\ttotal: 13.7ms\tremaining: 100ms\n",
      "12:\tlearn: 22.0125681\ttotal: 14.8ms\tremaining: 98.9ms\n",
      "13:\tlearn: 21.9350093\ttotal: 15.8ms\tremaining: 96.9ms\n",
      "14:\tlearn: 21.8115668\ttotal: 17ms\tremaining: 96.2ms\n",
      "15:\tlearn: 21.7642093\ttotal: 18.2ms\tremaining: 95.5ms\n",
      "16:\tlearn: 21.6970129\ttotal: 19.3ms\tremaining: 94.2ms\n",
      "17:\tlearn: 21.6720564\ttotal: 20.4ms\tremaining: 93.1ms\n",
      "18:\tlearn: 21.6274700\ttotal: 21.5ms\tremaining: 91.8ms\n",
      "19:\tlearn: 21.5642106\ttotal: 22.9ms\tremaining: 91.8ms\n",
      "20:\tlearn: 21.5234054\ttotal: 24.7ms\tremaining: 93.1ms\n",
      "21:\tlearn: 21.4397856\ttotal: 26.5ms\tremaining: 93.9ms\n",
      "22:\tlearn: 21.3805521\ttotal: 28.5ms\tremaining: 95.5ms\n",
      "23:\tlearn: 21.3163299\ttotal: 30.4ms\tremaining: 96.1ms\n",
      "24:\tlearn: 21.2973822\ttotal: 31.9ms\tremaining: 95.7ms\n",
      "25:\tlearn: 21.2038101\ttotal: 33.6ms\tremaining: 95.7ms\n",
      "26:\tlearn: 21.1546706\ttotal: 35.3ms\tremaining: 95.4ms\n",
      "27:\tlearn: 21.0596722\ttotal: 37ms\tremaining: 95.3ms\n",
      "28:\tlearn: 21.0094888\ttotal: 38.7ms\tremaining: 94.8ms\n",
      "29:\tlearn: 20.9119262\ttotal: 40.5ms\tremaining: 94.5ms\n",
      "30:\tlearn: 20.8963166\ttotal: 42.1ms\tremaining: 93.7ms\n",
      "31:\tlearn: 20.8483625\ttotal: 43.9ms\tremaining: 93.4ms\n",
      "32:\tlearn: 20.7934962\ttotal: 45.7ms\tremaining: 92.8ms\n",
      "33:\tlearn: 20.7380930\ttotal: 47.4ms\tremaining: 92ms\n",
      "34:\tlearn: 20.7303552\ttotal: 49ms\tremaining: 91.1ms\n",
      "35:\tlearn: 20.6646739\ttotal: 50.2ms\tremaining: 89.3ms\n",
      "36:\tlearn: 20.6125471\ttotal: 51.3ms\tremaining: 87.4ms\n",
      "37:\tlearn: 20.5850133\ttotal: 52.5ms\tremaining: 85.6ms\n",
      "38:\tlearn: 20.5280699\ttotal: 53.6ms\tremaining: 83.9ms\n",
      "39:\tlearn: 20.5031496\ttotal: 54.9ms\tremaining: 82.3ms\n",
      "40:\tlearn: 20.4207552\ttotal: 56ms\tremaining: 80.7ms\n",
      "41:\tlearn: 20.4085016\ttotal: 57.2ms\tremaining: 79ms\n",
      "42:\tlearn: 20.3845397\ttotal: 58.3ms\tremaining: 77.2ms\n",
      "43:\tlearn: 20.3597774\ttotal: 59.4ms\tremaining: 75.7ms\n",
      "44:\tlearn: 20.2758447\ttotal: 60.6ms\tremaining: 74.1ms\n",
      "45:\tlearn: 20.2567808\ttotal: 61.8ms\tremaining: 72.6ms\n",
      "46:\tlearn: 20.2003439\ttotal: 63ms\tremaining: 71ms\n",
      "47:\tlearn: 20.1568692\ttotal: 64.1ms\tremaining: 69.5ms\n",
      "48:\tlearn: 20.1123258\ttotal: 65.3ms\tremaining: 68ms\n",
      "49:\tlearn: 20.0685477\ttotal: 66.4ms\tremaining: 66.4ms\n",
      "50:\tlearn: 20.0374545\ttotal: 67.4ms\tremaining: 64.8ms\n",
      "51:\tlearn: 19.9710314\ttotal: 68.5ms\tremaining: 63.3ms\n",
      "52:\tlearn: 19.9403957\ttotal: 70.2ms\tremaining: 62.2ms\n",
      "53:\tlearn: 19.8894280\ttotal: 72.3ms\tremaining: 61.6ms\n",
      "54:\tlearn: 19.8682975\ttotal: 74.1ms\tremaining: 60.6ms\n",
      "55:\tlearn: 19.7970207\ttotal: 75.9ms\tremaining: 59.6ms\n",
      "56:\tlearn: 19.7879163\ttotal: 77.3ms\tremaining: 58.3ms\n",
      "57:\tlearn: 19.7435121\ttotal: 79.1ms\tremaining: 57.3ms\n",
      "58:\tlearn: 19.6971750\ttotal: 80.7ms\tremaining: 56.1ms\n",
      "59:\tlearn: 19.6744345\ttotal: 82.4ms\tremaining: 54.9ms\n",
      "60:\tlearn: 19.6077581\ttotal: 84.6ms\tremaining: 54.1ms\n",
      "61:\tlearn: 19.5608596\ttotal: 86.3ms\tremaining: 52.9ms\n",
      "62:\tlearn: 19.4842813\ttotal: 87.7ms\tremaining: 51.5ms\n",
      "63:\tlearn: 19.4491238\ttotal: 89ms\tremaining: 50.1ms\n",
      "64:\tlearn: 19.4063968\ttotal: 90.7ms\tremaining: 48.8ms\n",
      "65:\tlearn: 19.3487854\ttotal: 92.3ms\tremaining: 47.6ms\n",
      "66:\tlearn: 19.3086789\ttotal: 94.1ms\tremaining: 46.3ms\n",
      "67:\tlearn: 19.2497990\ttotal: 95.2ms\tremaining: 44.8ms\n",
      "68:\tlearn: 19.2248902\ttotal: 96.9ms\tremaining: 43.5ms\n",
      "69:\tlearn: 19.1650674\ttotal: 98.7ms\tremaining: 42.3ms\n",
      "70:\tlearn: 19.1266973\ttotal: 100ms\tremaining: 40.8ms\n",
      "71:\tlearn: 19.0772825\ttotal: 101ms\tremaining: 39.4ms\n",
      "72:\tlearn: 19.0625495\ttotal: 103ms\tremaining: 38ms\n",
      "73:\tlearn: 19.0464954\ttotal: 104ms\tremaining: 36.6ms\n",
      "74:\tlearn: 19.0143085\ttotal: 106ms\tremaining: 35.3ms\n",
      "75:\tlearn: 18.9738505\ttotal: 107ms\tremaining: 33.9ms\n",
      "76:\tlearn: 18.9222310\ttotal: 109ms\tremaining: 32.5ms\n",
      "77:\tlearn: 18.8761687\ttotal: 110ms\tremaining: 31.2ms\n",
      "78:\tlearn: 18.8518729\ttotal: 112ms\tremaining: 29.7ms\n",
      "79:\tlearn: 18.8139072\ttotal: 113ms\tremaining: 28.3ms\n",
      "80:\tlearn: 18.7762479\ttotal: 115ms\tremaining: 26.9ms\n",
      "81:\tlearn: 18.7723656\ttotal: 117ms\tremaining: 25.6ms\n",
      "82:\tlearn: 18.7201883\ttotal: 118ms\tremaining: 24.2ms\n",
      "83:\tlearn: 18.6415452\ttotal: 120ms\tremaining: 22.8ms\n",
      "84:\tlearn: 18.6116967\ttotal: 121ms\tremaining: 21.4ms\n",
      "85:\tlearn: 18.5944632\ttotal: 123ms\tremaining: 20ms\n",
      "86:\tlearn: 18.5607621\ttotal: 124ms\tremaining: 18.6ms\n",
      "87:\tlearn: 18.5420606\ttotal: 126ms\tremaining: 17.1ms\n",
      "88:\tlearn: 18.5111195\ttotal: 127ms\tremaining: 15.7ms\n",
      "89:\tlearn: 18.4940066\ttotal: 128ms\tremaining: 14.3ms\n",
      "90:\tlearn: 18.4623822\ttotal: 130ms\tremaining: 12.8ms\n",
      "91:\tlearn: 18.4427762\ttotal: 131ms\tremaining: 11.4ms\n",
      "92:\tlearn: 18.3933229\ttotal: 132ms\tremaining: 9.97ms\n",
      "93:\tlearn: 18.3705696\ttotal: 134ms\tremaining: 8.53ms\n",
      "94:\tlearn: 18.3521992\ttotal: 135ms\tremaining: 7.1ms\n",
      "95:\tlearn: 18.3286242\ttotal: 137ms\tremaining: 5.69ms\n",
      "96:\tlearn: 18.2669698\ttotal: 138ms\tremaining: 4.27ms\n",
      "97:\tlearn: 18.2514015\ttotal: 140ms\tremaining: 2.86ms\n",
      "98:\tlearn: 18.2263347\ttotal: 141ms\tremaining: 1.43ms\n",
      "99:\tlearn: 18.1715434\ttotal: 142ms\tremaining: 0us\n",
      "Learning rate set to 0.322963\n",
      "0:\tlearn: 32.4122994\ttotal: 1.9ms\tremaining: 188ms\n",
      "1:\tlearn: 30.5103239\ttotal: 3.34ms\tremaining: 164ms\n",
      "2:\tlearn: 27.3436748\ttotal: 4.78ms\tremaining: 155ms\n",
      "3:\tlearn: 25.5148495\ttotal: 6.7ms\tremaining: 161ms\n",
      "4:\tlearn: 24.4438436\ttotal: 8.24ms\tremaining: 157ms\n",
      "5:\tlearn: 23.8644891\ttotal: 9.87ms\tremaining: 155ms\n",
      "6:\tlearn: 23.4740628\ttotal: 11.7ms\tremaining: 156ms\n",
      "7:\tlearn: 23.2720320\ttotal: 13.1ms\tremaining: 151ms\n",
      "8:\tlearn: 23.1186667\ttotal: 14.6ms\tremaining: 148ms\n",
      "9:\tlearn: 22.9875705\ttotal: 16.3ms\tremaining: 146ms\n",
      "10:\tlearn: 22.8980744\ttotal: 17.8ms\tremaining: 144ms\n",
      "11:\tlearn: 22.8454333\ttotal: 18.6ms\tremaining: 136ms\n",
      "12:\tlearn: 22.8009251\ttotal: 20.2ms\tremaining: 135ms\n",
      "13:\tlearn: 22.7049325\ttotal: 21.9ms\tremaining: 134ms\n",
      "14:\tlearn: 22.6403300\ttotal: 23.4ms\tremaining: 133ms\n",
      "15:\tlearn: 22.6102135\ttotal: 25.1ms\tremaining: 132ms\n",
      "16:\tlearn: 22.5639759\ttotal: 26.2ms\tremaining: 128ms\n",
      "17:\tlearn: 22.4752374\ttotal: 27.5ms\tremaining: 125ms\n",
      "18:\tlearn: 22.4037030\ttotal: 29.1ms\tremaining: 124ms\n",
      "19:\tlearn: 22.3669775\ttotal: 30.5ms\tremaining: 122ms\n",
      "20:\tlearn: 22.3166653\ttotal: 32.4ms\tremaining: 122ms\n",
      "21:\tlearn: 22.2788118\ttotal: 34.2ms\tremaining: 121ms\n",
      "22:\tlearn: 22.2530349\ttotal: 35.6ms\tremaining: 119ms\n",
      "23:\tlearn: 22.2114230\ttotal: 37.4ms\tremaining: 119ms\n",
      "24:\tlearn: 22.1500791\ttotal: 39.3ms\tremaining: 118ms\n",
      "25:\tlearn: 22.1156522\ttotal: 40.7ms\tremaining: 116ms\n",
      "26:\tlearn: 22.0608030\ttotal: 42.4ms\tremaining: 115ms\n",
      "27:\tlearn: 22.0108516\ttotal: 43.9ms\tremaining: 113ms\n",
      "28:\tlearn: 21.9437570\ttotal: 45.3ms\tremaining: 111ms\n",
      "29:\tlearn: 21.8822545\ttotal: 46.7ms\tremaining: 109ms\n",
      "30:\tlearn: 21.8224623\ttotal: 48.2ms\tremaining: 107ms\n",
      "31:\tlearn: 21.7505930\ttotal: 49.4ms\tremaining: 105ms\n",
      "32:\tlearn: 21.7194176\ttotal: 50.9ms\tremaining: 103ms\n",
      "33:\tlearn: 21.6859472\ttotal: 52.5ms\tremaining: 102ms\n",
      "34:\tlearn: 21.6520794\ttotal: 54ms\tremaining: 100ms\n",
      "35:\tlearn: 21.5971220\ttotal: 55.3ms\tremaining: 98.4ms\n",
      "36:\tlearn: 21.5938427\ttotal: 56.5ms\tremaining: 96.3ms\n",
      "37:\tlearn: 21.5417931\ttotal: 57.9ms\tremaining: 94.4ms\n",
      "38:\tlearn: 21.4458182\ttotal: 59.1ms\tremaining: 92.5ms\n",
      "39:\tlearn: 21.3743512\ttotal: 60.9ms\tremaining: 91.3ms\n",
      "40:\tlearn: 21.3166537\ttotal: 62.4ms\tremaining: 89.8ms\n",
      "41:\tlearn: 21.2878397\ttotal: 63.5ms\tremaining: 87.7ms\n",
      "42:\tlearn: 21.2347395\ttotal: 64.9ms\tremaining: 86ms\n",
      "43:\tlearn: 21.2233871\ttotal: 66.4ms\tremaining: 84.5ms\n",
      "44:\tlearn: 21.1890990\ttotal: 67.8ms\tremaining: 82.9ms\n",
      "45:\tlearn: 21.1282867\ttotal: 69.6ms\tremaining: 81.7ms\n",
      "46:\tlearn: 21.0638594\ttotal: 71.3ms\tremaining: 80.4ms\n",
      "47:\tlearn: 21.0200006\ttotal: 73ms\tremaining: 79.1ms\n",
      "48:\tlearn: 20.9877700\ttotal: 74.2ms\tremaining: 77.2ms\n",
      "49:\tlearn: 20.9843745\ttotal: 75.8ms\tremaining: 75.8ms\n",
      "50:\tlearn: 20.9382699\ttotal: 77.6ms\tremaining: 74.6ms\n",
      "51:\tlearn: 20.9128479\ttotal: 79.2ms\tremaining: 73.1ms\n",
      "52:\tlearn: 20.8597970\ttotal: 80.9ms\tremaining: 71.8ms\n",
      "53:\tlearn: 20.8238115\ttotal: 82.6ms\tremaining: 70.4ms\n",
      "54:\tlearn: 20.7866098\ttotal: 83.7ms\tremaining: 68.5ms\n",
      "55:\tlearn: 20.7239778\ttotal: 84.9ms\tremaining: 66.7ms\n",
      "56:\tlearn: 20.6946355\ttotal: 86.6ms\tremaining: 65.3ms\n",
      "57:\tlearn: 20.6550899\ttotal: 87.8ms\tremaining: 63.6ms\n",
      "58:\tlearn: 20.6192237\ttotal: 89.6ms\tremaining: 62.3ms\n",
      "59:\tlearn: 20.6050032\ttotal: 91.4ms\tremaining: 60.9ms\n",
      "60:\tlearn: 20.5829059\ttotal: 93.1ms\tremaining: 59.5ms\n",
      "61:\tlearn: 20.5518818\ttotal: 95.4ms\tremaining: 58.5ms\n",
      "62:\tlearn: 20.5031098\ttotal: 97.2ms\tremaining: 57.1ms\n",
      "63:\tlearn: 20.4708868\ttotal: 99.2ms\tremaining: 55.8ms\n",
      "64:\tlearn: 20.4414631\ttotal: 101ms\tremaining: 54.4ms\n",
      "65:\tlearn: 20.4087592\ttotal: 103ms\tremaining: 52.9ms\n",
      "66:\tlearn: 20.3954905\ttotal: 104ms\tremaining: 51.4ms\n",
      "67:\tlearn: 20.3279838\ttotal: 106ms\tremaining: 49.9ms\n",
      "68:\tlearn: 20.2787373\ttotal: 108ms\tremaining: 48.5ms\n",
      "69:\tlearn: 20.2534117\ttotal: 110ms\tremaining: 47ms\n",
      "70:\tlearn: 20.2306937\ttotal: 111ms\tremaining: 45.5ms\n",
      "71:\tlearn: 20.1908309\ttotal: 113ms\tremaining: 43.9ms\n",
      "72:\tlearn: 20.1394187\ttotal: 114ms\tremaining: 42.2ms\n",
      "73:\tlearn: 20.1107448\ttotal: 115ms\tremaining: 40.5ms\n",
      "74:\tlearn: 20.0907686\ttotal: 116ms\tremaining: 38.8ms\n",
      "75:\tlearn: 20.0495714\ttotal: 118ms\tremaining: 37.1ms\n",
      "76:\tlearn: 20.0006210\ttotal: 119ms\tremaining: 35.5ms\n",
      "77:\tlearn: 19.9705872\ttotal: 120ms\tremaining: 34ms\n",
      "78:\tlearn: 19.9093392\ttotal: 122ms\tremaining: 32.5ms\n",
      "79:\tlearn: 19.8720439\ttotal: 124ms\tremaining: 30.9ms\n",
      "80:\tlearn: 19.8567304\ttotal: 125ms\tremaining: 29.4ms\n",
      "81:\tlearn: 19.8460401\ttotal: 127ms\tremaining: 27.9ms\n",
      "82:\tlearn: 19.7789934\ttotal: 129ms\tremaining: 26.4ms\n",
      "83:\tlearn: 19.7530228\ttotal: 131ms\tremaining: 24.9ms\n",
      "84:\tlearn: 19.6822396\ttotal: 132ms\tremaining: 23.4ms\n",
      "85:\tlearn: 19.6719374\ttotal: 134ms\tremaining: 21.8ms\n",
      "86:\tlearn: 19.6558941\ttotal: 136ms\tremaining: 20.3ms\n",
      "87:\tlearn: 19.6384210\ttotal: 138ms\tremaining: 18.8ms\n",
      "88:\tlearn: 19.6056050\ttotal: 139ms\tremaining: 17.2ms\n",
      "89:\tlearn: 19.5739714\ttotal: 141ms\tremaining: 15.6ms\n",
      "90:\tlearn: 19.5400036\ttotal: 142ms\tremaining: 14ms\n",
      "91:\tlearn: 19.5221708\ttotal: 143ms\tremaining: 12.4ms\n",
      "92:\tlearn: 19.4928535\ttotal: 144ms\tremaining: 10.9ms\n",
      "93:\tlearn: 19.4894260\ttotal: 145ms\tremaining: 9.28ms\n",
      "94:\tlearn: 19.4561791\ttotal: 147ms\tremaining: 7.71ms\n",
      "95:\tlearn: 19.3993260\ttotal: 148ms\tremaining: 6.18ms\n",
      "96:\tlearn: 19.3698630\ttotal: 149ms\tremaining: 4.62ms\n",
      "97:\tlearn: 19.3278114\ttotal: 151ms\tremaining: 3.07ms\n",
      "98:\tlearn: 19.3028969\ttotal: 152ms\tremaining: 1.53ms\n",
      "99:\tlearn: 19.2679570\ttotal: 153ms\tremaining: 0us\n",
      "Learning rate set to 0.175164\n",
      "0:\tlearn: 27.0014389\ttotal: 1.37ms\tremaining: 204ms\n",
      "1:\tlearn: 24.9353976\ttotal: 2.23ms\tremaining: 165ms\n",
      "2:\tlearn: 23.3901299\ttotal: 3.06ms\tremaining: 150ms\n",
      "3:\tlearn: 22.2599535\ttotal: 3.99ms\tremaining: 146ms\n",
      "4:\tlearn: 21.3049835\ttotal: 4.82ms\tremaining: 140ms\n",
      "5:\tlearn: 20.5581683\ttotal: 5.5ms\tremaining: 132ms\n",
      "6:\tlearn: 19.7478464\ttotal: 6.18ms\tremaining: 126ms\n",
      "7:\tlearn: 19.1053759\ttotal: 6.97ms\tremaining: 124ms\n",
      "8:\tlearn: 18.5848607\ttotal: 7.63ms\tremaining: 120ms\n",
      "9:\tlearn: 17.9901558\ttotal: 8.45ms\tremaining: 118ms\n",
      "10:\tlearn: 17.6120094\ttotal: 9.15ms\tremaining: 116ms\n",
      "11:\tlearn: 17.3987593\ttotal: 10.2ms\tremaining: 117ms\n",
      "12:\tlearn: 17.0718428\ttotal: 11.3ms\tremaining: 119ms\n",
      "13:\tlearn: 16.9021742\ttotal: 12.1ms\tremaining: 118ms\n",
      "14:\tlearn: 16.7854458\ttotal: 13ms\tremaining: 117ms\n",
      "15:\tlearn: 16.6752042\ttotal: 13.9ms\tremaining: 116ms\n",
      "16:\tlearn: 16.5196725\ttotal: 14.6ms\tremaining: 114ms\n",
      "17:\tlearn: 16.3622768\ttotal: 15.3ms\tremaining: 112ms\n",
      "18:\tlearn: 16.1980064\ttotal: 16ms\tremaining: 110ms\n",
      "19:\tlearn: 16.0649117\ttotal: 16.8ms\tremaining: 109ms\n",
      "20:\tlearn: 15.9735683\ttotal: 17.5ms\tremaining: 107ms\n",
      "21:\tlearn: 15.8939693\ttotal: 18.2ms\tremaining: 106ms\n",
      "22:\tlearn: 15.8520815\ttotal: 19ms\tremaining: 105ms\n",
      "23:\tlearn: 15.7575070\ttotal: 19.6ms\tremaining: 103ms\n",
      "24:\tlearn: 15.6537495\ttotal: 20.4ms\tremaining: 102ms\n",
      "25:\tlearn: 15.5116393\ttotal: 21ms\tremaining: 100ms\n",
      "26:\tlearn: 15.3847013\ttotal: 21.6ms\tremaining: 98.4ms\n",
      "27:\tlearn: 15.3295542\ttotal: 22.2ms\tremaining: 96.8ms\n",
      "28:\tlearn: 15.2487380\ttotal: 23.1ms\tremaining: 96.4ms\n",
      "29:\tlearn: 15.1734373\ttotal: 23.7ms\tremaining: 94.7ms\n",
      "30:\tlearn: 15.1217532\ttotal: 24.4ms\tremaining: 93.6ms\n",
      "31:\tlearn: 15.0901173\ttotal: 24.7ms\tremaining: 91.2ms\n",
      "32:\tlearn: 14.9043923\ttotal: 25.3ms\tremaining: 89.8ms\n",
      "33:\tlearn: 14.8255439\ttotal: 26ms\tremaining: 88.6ms\n",
      "34:\tlearn: 14.6943075\ttotal: 26.6ms\tremaining: 87.4ms\n",
      "35:\tlearn: 14.6226833\ttotal: 27.2ms\tremaining: 86.1ms\n",
      "36:\tlearn: 14.5484845\ttotal: 28.2ms\tremaining: 86ms\n",
      "37:\tlearn: 14.4897840\ttotal: 29.2ms\tremaining: 85.9ms\n",
      "38:\tlearn: 14.4248727\ttotal: 30ms\tremaining: 85.4ms\n",
      "39:\tlearn: 14.3753196\ttotal: 30.9ms\tremaining: 84.9ms\n",
      "40:\tlearn: 14.3490674\ttotal: 31.4ms\tremaining: 83.4ms\n",
      "41:\tlearn: 14.2553247\ttotal: 32.3ms\tremaining: 82.9ms\n",
      "42:\tlearn: 14.2061161\ttotal: 33.2ms\tremaining: 82.6ms\n",
      "43:\tlearn: 14.1176606\ttotal: 34.6ms\tremaining: 83.3ms\n",
      "44:\tlearn: 14.0563517\ttotal: 35.6ms\tremaining: 83.1ms\n",
      "45:\tlearn: 14.0212179\ttotal: 36.5ms\tremaining: 82.6ms\n",
      "46:\tlearn: 13.9782790\ttotal: 37.5ms\tremaining: 82.3ms\n",
      "47:\tlearn: 13.8976834\ttotal: 38.3ms\tremaining: 81.4ms\n",
      "48:\tlearn: 13.8517179\ttotal: 39ms\tremaining: 80.3ms\n",
      "49:\tlearn: 13.7928515\ttotal: 39.6ms\tremaining: 79.2ms\n",
      "50:\tlearn: 13.7773632\ttotal: 40.1ms\tremaining: 77.9ms\n",
      "51:\tlearn: 13.7378752\ttotal: 41ms\tremaining: 77.3ms\n",
      "52:\tlearn: 13.7050538\ttotal: 41.6ms\tremaining: 76.2ms\n",
      "53:\tlearn: 13.6617666\ttotal: 42.3ms\tremaining: 75.2ms\n",
      "54:\tlearn: 13.6002925\ttotal: 43ms\tremaining: 74.3ms\n",
      "55:\tlearn: 13.5568757\ttotal: 44ms\tremaining: 73.9ms\n",
      "56:\tlearn: 13.5207664\ttotal: 45.1ms\tremaining: 73.6ms\n",
      "57:\tlearn: 13.4870687\ttotal: 45.7ms\tremaining: 72.6ms\n",
      "58:\tlearn: 13.4708505\ttotal: 46.5ms\tremaining: 71.7ms\n",
      "59:\tlearn: 13.4493630\ttotal: 47.2ms\tremaining: 70.8ms\n",
      "60:\tlearn: 13.4027755\ttotal: 48.1ms\tremaining: 70.2ms\n",
      "61:\tlearn: 13.3195957\ttotal: 49.2ms\tremaining: 69.8ms\n",
      "62:\tlearn: 13.2789030\ttotal: 50.1ms\tremaining: 69.2ms\n",
      "63:\tlearn: 13.2417024\ttotal: 51ms\tremaining: 68.5ms\n",
      "64:\tlearn: 13.2238308\ttotal: 51.9ms\tremaining: 67.9ms\n",
      "65:\tlearn: 13.2069545\ttotal: 52.8ms\tremaining: 67.2ms\n",
      "66:\tlearn: 13.1157505\ttotal: 53.8ms\tremaining: 66.6ms\n",
      "67:\tlearn: 13.0829794\ttotal: 54.8ms\tremaining: 66ms\n",
      "68:\tlearn: 13.0280506\ttotal: 55.4ms\tremaining: 65ms\n",
      "69:\tlearn: 13.0204629\ttotal: 56.2ms\tremaining: 64.3ms\n",
      "70:\tlearn: 12.9829788\ttotal: 56.9ms\tremaining: 63.3ms\n",
      "71:\tlearn: 12.9013239\ttotal: 57.6ms\tremaining: 62.4ms\n",
      "72:\tlearn: 12.8170030\ttotal: 58.5ms\tremaining: 61.7ms\n",
      "73:\tlearn: 12.7858487\ttotal: 59.4ms\tremaining: 61ms\n",
      "74:\tlearn: 12.7425741\ttotal: 60.2ms\tremaining: 60.2ms\n",
      "75:\tlearn: 12.7027386\ttotal: 61.2ms\tremaining: 59.6ms\n",
      "76:\tlearn: 12.6827108\ttotal: 61.9ms\tremaining: 58.7ms\n",
      "77:\tlearn: 12.5613795\ttotal: 63ms\tremaining: 58.1ms\n",
      "78:\tlearn: 12.5428948\ttotal: 63.7ms\tremaining: 57.3ms\n",
      "79:\tlearn: 12.5142653\ttotal: 64.6ms\tremaining: 56.5ms\n",
      "80:\tlearn: 12.4840701\ttotal: 65.2ms\tremaining: 55.6ms\n",
      "81:\tlearn: 12.4480193\ttotal: 65.9ms\tremaining: 54.7ms\n",
      "82:\tlearn: 12.4348259\ttotal: 66.5ms\tremaining: 53.7ms\n",
      "83:\tlearn: 12.3681376\ttotal: 67.3ms\tremaining: 52.8ms\n",
      "84:\tlearn: 12.2850033\ttotal: 67.9ms\tremaining: 51.9ms\n",
      "85:\tlearn: 12.2607644\ttotal: 69.2ms\tremaining: 51.5ms\n",
      "86:\tlearn: 12.1869382\ttotal: 70ms\tremaining: 50.7ms\n",
      "87:\tlearn: 12.1708008\ttotal: 70.9ms\tremaining: 49.9ms\n",
      "88:\tlearn: 12.1166946\ttotal: 71.6ms\tremaining: 49.1ms\n",
      "89:\tlearn: 12.0798555\ttotal: 72.7ms\tremaining: 48.4ms\n",
      "90:\tlearn: 12.0322331\ttotal: 73.7ms\tremaining: 47.8ms\n",
      "91:\tlearn: 12.0054647\ttotal: 74.7ms\tremaining: 47.1ms\n",
      "92:\tlearn: 11.9636756\ttotal: 75.5ms\tremaining: 46.3ms\n",
      "93:\tlearn: 11.9316968\ttotal: 76.3ms\tremaining: 45.5ms\n",
      "94:\tlearn: 11.8948739\ttotal: 77ms\tremaining: 44.6ms\n",
      "95:\tlearn: 11.8100094\ttotal: 77.6ms\tremaining: 43.7ms\n",
      "96:\tlearn: 11.7561935\ttotal: 78.3ms\tremaining: 42.8ms\n",
      "97:\tlearn: 11.7334841\ttotal: 79.1ms\tremaining: 42ms\n",
      "98:\tlearn: 11.6847483\ttotal: 79.8ms\tremaining: 41.1ms\n",
      "99:\tlearn: 11.5890111\ttotal: 80.6ms\tremaining: 40.3ms\n",
      "100:\tlearn: 11.5433507\ttotal: 81.1ms\tremaining: 39.4ms\n",
      "101:\tlearn: 11.5133771\ttotal: 81.7ms\tremaining: 38.4ms\n",
      "102:\tlearn: 11.4958054\ttotal: 82.3ms\tremaining: 37.5ms\n",
      "103:\tlearn: 11.4661414\ttotal: 83ms\tremaining: 36.7ms\n",
      "104:\tlearn: 11.4544130\ttotal: 83.6ms\tremaining: 35.8ms\n",
      "105:\tlearn: 11.4270756\ttotal: 84.3ms\tremaining: 35ms\n",
      "106:\tlearn: 11.3911931\ttotal: 84.9ms\tremaining: 34.1ms\n",
      "107:\tlearn: 11.3776118\ttotal: 85.8ms\tremaining: 33.4ms\n",
      "108:\tlearn: 11.3407803\ttotal: 86.7ms\tremaining: 32.6ms\n",
      "109:\tlearn: 11.3312992\ttotal: 87.3ms\tremaining: 31.7ms\n",
      "110:\tlearn: 11.2689924\ttotal: 87.9ms\tremaining: 30.9ms\n",
      "111:\tlearn: 11.2478537\ttotal: 88.5ms\tremaining: 30ms\n",
      "112:\tlearn: 11.2181512\ttotal: 89.2ms\tremaining: 29.2ms\n",
      "113:\tlearn: 11.2048618\ttotal: 89.8ms\tremaining: 28.4ms\n",
      "114:\tlearn: 11.1920850\ttotal: 90.4ms\tremaining: 27.5ms\n",
      "115:\tlearn: 11.1483955\ttotal: 91.1ms\tremaining: 26.7ms\n",
      "116:\tlearn: 11.0857654\ttotal: 91.7ms\tremaining: 25.9ms\n",
      "117:\tlearn: 11.0645041\ttotal: 92.4ms\tremaining: 25ms\n",
      "118:\tlearn: 11.0502706\ttotal: 93ms\tremaining: 24.2ms\n",
      "119:\tlearn: 11.0416605\ttotal: 93.6ms\tremaining: 23.4ms\n",
      "120:\tlearn: 11.0277252\ttotal: 94.1ms\tremaining: 22.6ms\n",
      "121:\tlearn: 10.9754443\ttotal: 94.7ms\tremaining: 21.7ms\n",
      "122:\tlearn: 10.9421023\ttotal: 95.4ms\tremaining: 20.9ms\n",
      "123:\tlearn: 10.9080488\ttotal: 96ms\tremaining: 20.1ms\n",
      "124:\tlearn: 10.8961906\ttotal: 96.6ms\tremaining: 19.3ms\n",
      "125:\tlearn: 10.8809072\ttotal: 97.3ms\tremaining: 18.5ms\n",
      "126:\tlearn: 10.8707208\ttotal: 97.9ms\tremaining: 17.7ms\n",
      "127:\tlearn: 10.8419639\ttotal: 98.4ms\tremaining: 16.9ms\n",
      "128:\tlearn: 10.7936207\ttotal: 99.1ms\tremaining: 16.1ms\n",
      "129:\tlearn: 10.7575664\ttotal: 99.7ms\tremaining: 15.3ms\n",
      "130:\tlearn: 10.7425943\ttotal: 100ms\tremaining: 14.5ms\n",
      "131:\tlearn: 10.7273301\ttotal: 101ms\tremaining: 13.8ms\n",
      "132:\tlearn: 10.7121609\ttotal: 102ms\tremaining: 13ms\n",
      "133:\tlearn: 10.7093583\ttotal: 102ms\tremaining: 12.2ms\n",
      "134:\tlearn: 10.6679437\ttotal: 103ms\tremaining: 11.4ms\n",
      "135:\tlearn: 10.6225011\ttotal: 104ms\tremaining: 10.7ms\n",
      "136:\tlearn: 10.5908764\ttotal: 104ms\tremaining: 9.88ms\n",
      "137:\tlearn: 10.5368594\ttotal: 105ms\tremaining: 9.11ms\n",
      "138:\tlearn: 10.5143442\ttotal: 106ms\tremaining: 8.36ms\n",
      "139:\tlearn: 10.5068056\ttotal: 107ms\tremaining: 7.61ms\n",
      "140:\tlearn: 10.4784173\ttotal: 107ms\tremaining: 6.86ms\n",
      "141:\tlearn: 10.4730372\ttotal: 108ms\tremaining: 6.11ms\n",
      "142:\tlearn: 10.4542936\ttotal: 110ms\tremaining: 5.36ms\n",
      "143:\tlearn: 10.4129598\ttotal: 110ms\tremaining: 4.6ms\n",
      "144:\tlearn: 10.3739313\ttotal: 111ms\tremaining: 3.84ms\n",
      "145:\tlearn: 10.3395629\ttotal: 112ms\tremaining: 3.07ms\n",
      "146:\tlearn: 10.3155699\ttotal: 113ms\tremaining: 2.3ms\n",
      "147:\tlearn: 10.2983232\ttotal: 114ms\tremaining: 1.54ms\n",
      "148:\tlearn: 10.2893362\ttotal: 114ms\tremaining: 767us\n",
      "149:\tlearn: 10.2685033\ttotal: 115ms\tremaining: 0us\n",
      "Learning rate set to 0.195329\n",
      "0:\tlearn: 28.2372505\ttotal: 1.05ms\tremaining: 157ms\n",
      "1:\tlearn: 25.9747325\ttotal: 2.09ms\tremaining: 155ms\n",
      "2:\tlearn: 24.1196067\ttotal: 3.11ms\tremaining: 153ms\n",
      "3:\tlearn: 22.7941771\ttotal: 3.99ms\tremaining: 146ms\n",
      "4:\tlearn: 21.6070162\ttotal: 5.16ms\tremaining: 150ms\n",
      "5:\tlearn: 20.9058730\ttotal: 6.03ms\tremaining: 145ms\n",
      "6:\tlearn: 20.2863693\ttotal: 6.81ms\tremaining: 139ms\n",
      "7:\tlearn: 19.8570505\ttotal: 7.62ms\tremaining: 135ms\n",
      "8:\tlearn: 19.4785231\ttotal: 8.46ms\tremaining: 133ms\n",
      "9:\tlearn: 19.2493350\ttotal: 9.3ms\tremaining: 130ms\n",
      "10:\tlearn: 19.0928882\ttotal: 10.1ms\tremaining: 128ms\n",
      "11:\tlearn: 18.8805316\ttotal: 11ms\tremaining: 127ms\n",
      "12:\tlearn: 18.7596960\ttotal: 11.8ms\tremaining: 125ms\n",
      "13:\tlearn: 18.6470292\ttotal: 12.7ms\tremaining: 124ms\n",
      "14:\tlearn: 18.5017416\ttotal: 13.6ms\tremaining: 122ms\n",
      "15:\tlearn: 18.4681134\ttotal: 14ms\tremaining: 117ms\n",
      "16:\tlearn: 18.4110936\ttotal: 14.9ms\tremaining: 116ms\n",
      "17:\tlearn: 18.3334820\ttotal: 15.9ms\tremaining: 116ms\n",
      "18:\tlearn: 18.2574703\ttotal: 16.7ms\tremaining: 115ms\n",
      "19:\tlearn: 18.1849756\ttotal: 17.5ms\tremaining: 114ms\n",
      "20:\tlearn: 18.1290412\ttotal: 18.3ms\tremaining: 113ms\n",
      "21:\tlearn: 18.0139460\ttotal: 19.1ms\tremaining: 111ms\n",
      "22:\tlearn: 17.9356848\ttotal: 19.9ms\tremaining: 110ms\n",
      "23:\tlearn: 17.9108018\ttotal: 20.7ms\tremaining: 109ms\n",
      "24:\tlearn: 17.8652583\ttotal: 21.5ms\tremaining: 108ms\n",
      "25:\tlearn: 17.7464931\ttotal: 22.3ms\tremaining: 107ms\n",
      "26:\tlearn: 17.6768024\ttotal: 23.1ms\tremaining: 105ms\n",
      "27:\tlearn: 17.6574584\ttotal: 23.9ms\tremaining: 104ms\n",
      "28:\tlearn: 17.5481393\ttotal: 24.6ms\tremaining: 103ms\n",
      "29:\tlearn: 17.5198416\ttotal: 25.4ms\tremaining: 101ms\n",
      "30:\tlearn: 17.4611766\ttotal: 26.2ms\tremaining: 101ms\n",
      "31:\tlearn: 17.4152411\ttotal: 27.1ms\tremaining: 99.8ms\n",
      "32:\tlearn: 17.3584666\ttotal: 27.8ms\tremaining: 98.4ms\n",
      "33:\tlearn: 17.2865168\ttotal: 28.6ms\tremaining: 97.5ms\n",
      "34:\tlearn: 17.2217699\ttotal: 29.5ms\tremaining: 96.8ms\n",
      "35:\tlearn: 17.1721866\ttotal: 30.3ms\tremaining: 95.8ms\n",
      "36:\tlearn: 17.1502765\ttotal: 31.1ms\tremaining: 95ms\n",
      "37:\tlearn: 17.1015028\ttotal: 31.9ms\tremaining: 94.1ms\n",
      "38:\tlearn: 17.0221597\ttotal: 32.7ms\tremaining: 93.1ms\n",
      "39:\tlearn: 17.0035453\ttotal: 33.5ms\tremaining: 92.3ms\n",
      "40:\tlearn: 16.9900271\ttotal: 34.4ms\tremaining: 91.5ms\n",
      "41:\tlearn: 16.9232525\ttotal: 35.1ms\tremaining: 90.3ms\n",
      "42:\tlearn: 16.8237532\ttotal: 35.9ms\tremaining: 89.4ms\n",
      "43:\tlearn: 16.8072960\ttotal: 36.7ms\tremaining: 88.4ms\n",
      "44:\tlearn: 16.7847816\ttotal: 37.4ms\tremaining: 87.2ms\n",
      "45:\tlearn: 16.7625116\ttotal: 38.2ms\tremaining: 86.4ms\n",
      "46:\tlearn: 16.7126169\ttotal: 38.9ms\tremaining: 85.2ms\n",
      "47:\tlearn: 16.6871015\ttotal: 39.6ms\tremaining: 84.3ms\n",
      "48:\tlearn: 16.6607778\ttotal: 40.6ms\tremaining: 83.6ms\n",
      "49:\tlearn: 16.6420148\ttotal: 42ms\tremaining: 84ms\n",
      "50:\tlearn: 16.6207093\ttotal: 42.8ms\tremaining: 83ms\n",
      "51:\tlearn: 16.5861216\ttotal: 43.6ms\tremaining: 82.2ms\n",
      "52:\tlearn: 16.5370848\ttotal: 44.4ms\tremaining: 81.3ms\n",
      "53:\tlearn: 16.4762527\ttotal: 45.2ms\tremaining: 80.4ms\n",
      "54:\tlearn: 16.4610033\ttotal: 46ms\tremaining: 79.4ms\n",
      "55:\tlearn: 16.3908435\ttotal: 46.8ms\tremaining: 78.6ms\n",
      "56:\tlearn: 16.3468952\ttotal: 47.7ms\tremaining: 77.8ms\n",
      "57:\tlearn: 16.2774247\ttotal: 48.6ms\tremaining: 77ms\n",
      "58:\tlearn: 16.2535633\ttotal: 49.4ms\tremaining: 76.2ms\n",
      "59:\tlearn: 16.1986157\ttotal: 50.2ms\tremaining: 75.3ms\n",
      "60:\tlearn: 16.1776026\ttotal: 51ms\tremaining: 74.4ms\n",
      "61:\tlearn: 16.1696254\ttotal: 51.7ms\tremaining: 73.4ms\n",
      "62:\tlearn: 16.1242945\ttotal: 52.9ms\tremaining: 73ms\n",
      "63:\tlearn: 16.0863341\ttotal: 53.8ms\tremaining: 72.3ms\n",
      "64:\tlearn: 15.9739094\ttotal: 54.7ms\tremaining: 71.6ms\n",
      "65:\tlearn: 15.9000887\ttotal: 55.5ms\tremaining: 70.6ms\n",
      "66:\tlearn: 15.8909050\ttotal: 56.3ms\tremaining: 69.7ms\n",
      "67:\tlearn: 15.8825952\ttotal: 57.4ms\tremaining: 69.3ms\n",
      "68:\tlearn: 15.8740556\ttotal: 58.2ms\tremaining: 68.4ms\n",
      "69:\tlearn: 15.8410478\ttotal: 59.1ms\tremaining: 67.5ms\n",
      "70:\tlearn: 15.8038650\ttotal: 59.9ms\tremaining: 66.7ms\n",
      "71:\tlearn: 15.7518486\ttotal: 60.7ms\tremaining: 65.7ms\n",
      "72:\tlearn: 15.6732235\ttotal: 61.5ms\tremaining: 64.9ms\n",
      "73:\tlearn: 15.6682214\ttotal: 62.5ms\tremaining: 64.2ms\n",
      "74:\tlearn: 15.5926472\ttotal: 63.6ms\tremaining: 63.6ms\n",
      "75:\tlearn: 15.5655974\ttotal: 64.9ms\tremaining: 63.2ms\n",
      "76:\tlearn: 15.5313436\ttotal: 66.1ms\tremaining: 62.6ms\n",
      "77:\tlearn: 15.5026355\ttotal: 67.3ms\tremaining: 62.2ms\n",
      "78:\tlearn: 15.4715722\ttotal: 68.6ms\tremaining: 61.7ms\n",
      "79:\tlearn: 15.4347983\ttotal: 69.9ms\tremaining: 61.2ms\n",
      "80:\tlearn: 15.3874938\ttotal: 70.9ms\tremaining: 60.4ms\n",
      "81:\tlearn: 15.3842368\ttotal: 71.8ms\tremaining: 59.5ms\n",
      "82:\tlearn: 15.3783582\ttotal: 72.6ms\tremaining: 58.6ms\n",
      "83:\tlearn: 15.3462378\ttotal: 73.5ms\tremaining: 57.7ms\n",
      "84:\tlearn: 15.2828567\ttotal: 74.4ms\tremaining: 56.9ms\n",
      "85:\tlearn: 15.2332118\ttotal: 75.1ms\tremaining: 55.9ms\n",
      "86:\tlearn: 15.1609662\ttotal: 75.8ms\tremaining: 54.9ms\n",
      "87:\tlearn: 15.1579673\ttotal: 76.5ms\tremaining: 53.9ms\n",
      "88:\tlearn: 15.1182204\ttotal: 77.3ms\tremaining: 53ms\n",
      "89:\tlearn: 15.1134196\ttotal: 78.1ms\tremaining: 52.1ms\n",
      "90:\tlearn: 15.0612663\ttotal: 79.2ms\tremaining: 51.3ms\n",
      "91:\tlearn: 15.0555006\ttotal: 80.2ms\tremaining: 50.5ms\n",
      "92:\tlearn: 15.0268350\ttotal: 81.3ms\tremaining: 49.8ms\n",
      "93:\tlearn: 14.9711793\ttotal: 82.4ms\tremaining: 49.1ms\n",
      "94:\tlearn: 14.9697550\ttotal: 83.7ms\tremaining: 48.4ms\n",
      "95:\tlearn: 14.9620861\ttotal: 84.5ms\tremaining: 47.5ms\n",
      "96:\tlearn: 14.9358862\ttotal: 85.2ms\tremaining: 46.6ms\n",
      "97:\tlearn: 14.9167373\ttotal: 86.1ms\tremaining: 45.7ms\n",
      "98:\tlearn: 14.8696221\ttotal: 86.9ms\tremaining: 44.8ms\n",
      "99:\tlearn: 14.8517359\ttotal: 88.1ms\tremaining: 44ms\n",
      "100:\tlearn: 14.8313307\ttotal: 89.3ms\tremaining: 43.3ms\n",
      "101:\tlearn: 14.8070773\ttotal: 90.6ms\tremaining: 42.6ms\n",
      "102:\tlearn: 14.8052812\ttotal: 91.7ms\tremaining: 41.8ms\n",
      "103:\tlearn: 14.7890591\ttotal: 92.8ms\tremaining: 41.1ms\n",
      "104:\tlearn: 14.7692303\ttotal: 93.9ms\tremaining: 40.3ms\n",
      "105:\tlearn: 14.7399900\ttotal: 95.1ms\tremaining: 39.5ms\n",
      "106:\tlearn: 14.7149295\ttotal: 96ms\tremaining: 38.6ms\n",
      "107:\tlearn: 14.6727870\ttotal: 97.1ms\tremaining: 37.8ms\n",
      "108:\tlearn: 14.6646376\ttotal: 98.2ms\tremaining: 36.9ms\n",
      "109:\tlearn: 14.6035064\ttotal: 99.1ms\tremaining: 36ms\n",
      "110:\tlearn: 14.5522186\ttotal: 99.9ms\tremaining: 35.1ms\n",
      "111:\tlearn: 14.5044310\ttotal: 101ms\tremaining: 34.2ms\n",
      "112:\tlearn: 14.4754707\ttotal: 101ms\tremaining: 33.2ms\n",
      "113:\tlearn: 14.4455130\ttotal: 102ms\tremaining: 32.3ms\n",
      "114:\tlearn: 14.4175720\ttotal: 103ms\tremaining: 31.4ms\n",
      "115:\tlearn: 14.3994653\ttotal: 104ms\tremaining: 30.4ms\n",
      "116:\tlearn: 14.3798224\ttotal: 105ms\tremaining: 29.5ms\n",
      "117:\tlearn: 14.3263303\ttotal: 105ms\tremaining: 28.6ms\n",
      "118:\tlearn: 14.2967630\ttotal: 107ms\tremaining: 27.8ms\n",
      "119:\tlearn: 14.2331677\ttotal: 107ms\tremaining: 26.9ms\n",
      "120:\tlearn: 14.2073654\ttotal: 108ms\tremaining: 25.9ms\n",
      "121:\tlearn: 14.1771389\ttotal: 109ms\tremaining: 25.1ms\n",
      "122:\tlearn: 14.1315179\ttotal: 110ms\tremaining: 24.2ms\n",
      "123:\tlearn: 14.1187399\ttotal: 111ms\tremaining: 23.3ms\n",
      "124:\tlearn: 14.1149373\ttotal: 112ms\tremaining: 22.5ms\n",
      "125:\tlearn: 14.0775075\ttotal: 114ms\tremaining: 21.6ms\n",
      "126:\tlearn: 14.0615319\ttotal: 115ms\tremaining: 20.8ms\n",
      "127:\tlearn: 14.0345593\ttotal: 116ms\tremaining: 19.9ms\n",
      "128:\tlearn: 14.0142638\ttotal: 117ms\tremaining: 19.1ms\n",
      "129:\tlearn: 13.9773012\ttotal: 118ms\tremaining: 18.2ms\n",
      "130:\tlearn: 13.9175019\ttotal: 119ms\tremaining: 17.3ms\n",
      "131:\tlearn: 13.8782720\ttotal: 120ms\tremaining: 16.4ms\n",
      "132:\tlearn: 13.8486579\ttotal: 121ms\tremaining: 15.5ms\n",
      "133:\tlearn: 13.8477519\ttotal: 122ms\tremaining: 14.5ms\n",
      "134:\tlearn: 13.8253751\ttotal: 123ms\tremaining: 13.6ms\n",
      "135:\tlearn: 13.8035180\ttotal: 123ms\tremaining: 12.7ms\n",
      "136:\tlearn: 13.8008940\ttotal: 124ms\tremaining: 11.8ms\n",
      "137:\tlearn: 13.7721693\ttotal: 125ms\tremaining: 10.9ms\n",
      "138:\tlearn: 13.7373592\ttotal: 126ms\tremaining: 9.94ms\n",
      "139:\tlearn: 13.7028025\ttotal: 126ms\tremaining: 9.03ms\n",
      "140:\tlearn: 13.6813909\ttotal: 127ms\tremaining: 8.12ms\n",
      "141:\tlearn: 13.6706731\ttotal: 128ms\tremaining: 7.21ms\n",
      "142:\tlearn: 13.6030304\ttotal: 129ms\tremaining: 6.31ms\n",
      "143:\tlearn: 13.5636858\ttotal: 130ms\tremaining: 5.4ms\n",
      "144:\tlearn: 13.5534901\ttotal: 130ms\tremaining: 4.49ms\n",
      "145:\tlearn: 13.5089474\ttotal: 131ms\tremaining: 3.6ms\n",
      "146:\tlearn: 13.5077829\ttotal: 132ms\tremaining: 2.69ms\n",
      "147:\tlearn: 13.4714467\ttotal: 133ms\tremaining: 1.79ms\n",
      "148:\tlearn: 13.4608011\ttotal: 134ms\tremaining: 896us\n",
      "149:\tlearn: 13.4405936\ttotal: 135ms\tremaining: 0us\n",
      "Learning rate set to 0.208214\n",
      "0:\tlearn: 28.0836867\ttotal: 1.18ms\tremaining: 176ms\n",
      "1:\tlearn: 26.0710498\ttotal: 2.11ms\tremaining: 156ms\n",
      "2:\tlearn: 24.4014400\ttotal: 3.02ms\tremaining: 148ms\n",
      "3:\tlearn: 23.3002703\ttotal: 3.9ms\tremaining: 142ms\n",
      "4:\tlearn: 22.4891014\ttotal: 4.73ms\tremaining: 137ms\n",
      "5:\tlearn: 21.9246206\ttotal: 5.62ms\tremaining: 135ms\n",
      "6:\tlearn: 21.4590246\ttotal: 6.5ms\tremaining: 133ms\n",
      "7:\tlearn: 21.1011048\ttotal: 7.36ms\tremaining: 131ms\n",
      "8:\tlearn: 20.8370400\ttotal: 8.36ms\tremaining: 131ms\n",
      "9:\tlearn: 20.6127035\ttotal: 9.51ms\tremaining: 133ms\n",
      "10:\tlearn: 20.3765576\ttotal: 10.4ms\tremaining: 132ms\n",
      "11:\tlearn: 20.2857669\ttotal: 11.3ms\tremaining: 130ms\n",
      "12:\tlearn: 20.1756249\ttotal: 12.1ms\tremaining: 128ms\n",
      "13:\tlearn: 20.0463525\ttotal: 12.9ms\tremaining: 126ms\n",
      "14:\tlearn: 19.9608075\ttotal: 13.8ms\tremaining: 124ms\n",
      "15:\tlearn: 19.9134695\ttotal: 14.6ms\tremaining: 122ms\n",
      "16:\tlearn: 19.8686124\ttotal: 15.6ms\tremaining: 122ms\n",
      "17:\tlearn: 19.7874684\ttotal: 16.4ms\tremaining: 121ms\n",
      "18:\tlearn: 19.7199983\ttotal: 17.4ms\tremaining: 120ms\n",
      "19:\tlearn: 19.6505865\ttotal: 18.1ms\tremaining: 118ms\n",
      "20:\tlearn: 19.5114561\ttotal: 19ms\tremaining: 117ms\n",
      "21:\tlearn: 19.4448583\ttotal: 20ms\tremaining: 116ms\n",
      "22:\tlearn: 19.3948152\ttotal: 20.8ms\tremaining: 115ms\n",
      "23:\tlearn: 19.3484167\ttotal: 21.7ms\tremaining: 114ms\n",
      "24:\tlearn: 19.2962058\ttotal: 22.6ms\tremaining: 113ms\n",
      "25:\tlearn: 19.2437351\ttotal: 23.4ms\tremaining: 112ms\n",
      "26:\tlearn: 19.1992748\ttotal: 24.2ms\tremaining: 110ms\n",
      "27:\tlearn: 19.1667339\ttotal: 25.1ms\tremaining: 109ms\n",
      "28:\tlearn: 19.1312184\ttotal: 25.9ms\tremaining: 108ms\n",
      "29:\tlearn: 19.0486802\ttotal: 26.7ms\tremaining: 107ms\n",
      "30:\tlearn: 19.0252795\ttotal: 28.1ms\tremaining: 108ms\n",
      "31:\tlearn: 18.9974998\ttotal: 29.4ms\tremaining: 108ms\n",
      "32:\tlearn: 18.9414765\ttotal: 30.6ms\tremaining: 109ms\n",
      "33:\tlearn: 18.8914890\ttotal: 31.6ms\tremaining: 108ms\n",
      "34:\tlearn: 18.8633784\ttotal: 32.6ms\tremaining: 107ms\n",
      "35:\tlearn: 18.8037704\ttotal: 33.4ms\tremaining: 106ms\n",
      "36:\tlearn: 18.7634251\ttotal: 34.3ms\tremaining: 105ms\n",
      "37:\tlearn: 18.7015924\ttotal: 35.3ms\tremaining: 104ms\n",
      "38:\tlearn: 18.6569912\ttotal: 36.1ms\tremaining: 103ms\n",
      "39:\tlearn: 18.5953138\ttotal: 37.1ms\tremaining: 102ms\n",
      "40:\tlearn: 18.5303246\ttotal: 38.1ms\tremaining: 101ms\n",
      "41:\tlearn: 18.4696924\ttotal: 38.9ms\tremaining: 100ms\n",
      "42:\tlearn: 18.4144906\ttotal: 39.7ms\tremaining: 98.8ms\n",
      "43:\tlearn: 18.3320461\ttotal: 40.7ms\tremaining: 98ms\n",
      "44:\tlearn: 18.2869917\ttotal: 41.5ms\tremaining: 96.9ms\n",
      "45:\tlearn: 18.2674668\ttotal: 42.3ms\tremaining: 95.7ms\n",
      "46:\tlearn: 18.2387653\ttotal: 43.1ms\tremaining: 94.5ms\n",
      "47:\tlearn: 18.2113226\ttotal: 44.1ms\tremaining: 93.7ms\n",
      "48:\tlearn: 18.1389956\ttotal: 45ms\tremaining: 92.8ms\n",
      "49:\tlearn: 18.1282938\ttotal: 45.9ms\tremaining: 91.9ms\n",
      "50:\tlearn: 18.1241493\ttotal: 46.9ms\tremaining: 91ms\n",
      "51:\tlearn: 18.0871361\ttotal: 47.9ms\tremaining: 90.2ms\n",
      "52:\tlearn: 18.0552056\ttotal: 48.8ms\tremaining: 89.4ms\n",
      "53:\tlearn: 17.9999484\ttotal: 49.8ms\tremaining: 88.5ms\n",
      "54:\tlearn: 17.9525079\ttotal: 50.7ms\tremaining: 87.5ms\n",
      "55:\tlearn: 17.9119000\ttotal: 51.5ms\tremaining: 86.5ms\n",
      "56:\tlearn: 17.8442381\ttotal: 52.5ms\tremaining: 85.7ms\n",
      "57:\tlearn: 17.8406223\ttotal: 53.4ms\tremaining: 84.8ms\n",
      "58:\tlearn: 17.8155100\ttotal: 54.3ms\tremaining: 83.7ms\n",
      "59:\tlearn: 17.7715817\ttotal: 55.2ms\tremaining: 82.7ms\n",
      "60:\tlearn: 17.6935965\ttotal: 56.1ms\tremaining: 81.9ms\n",
      "61:\tlearn: 17.6424726\ttotal: 57ms\tremaining: 80.8ms\n",
      "62:\tlearn: 17.5926604\ttotal: 57.8ms\tremaining: 79.8ms\n",
      "63:\tlearn: 17.5550181\ttotal: 58.7ms\tremaining: 78.9ms\n",
      "64:\tlearn: 17.5509137\ttotal: 59.7ms\tremaining: 78ms\n",
      "65:\tlearn: 17.5329080\ttotal: 60.5ms\tremaining: 77ms\n",
      "66:\tlearn: 17.5294976\ttotal: 61.3ms\tremaining: 75.9ms\n",
      "67:\tlearn: 17.4780631\ttotal: 62.3ms\tremaining: 75.1ms\n",
      "68:\tlearn: 17.4629102\ttotal: 63ms\tremaining: 74ms\n",
      "69:\tlearn: 17.4189853\ttotal: 63.9ms\tremaining: 73ms\n",
      "70:\tlearn: 17.3958470\ttotal: 64.9ms\tremaining: 72.2ms\n",
      "71:\tlearn: 17.3688596\ttotal: 65.9ms\tremaining: 71.4ms\n",
      "72:\tlearn: 17.3224520\ttotal: 66.8ms\tremaining: 70.4ms\n",
      "73:\tlearn: 17.2446557\ttotal: 67.7ms\tremaining: 69.5ms\n",
      "74:\tlearn: 17.2228502\ttotal: 68.6ms\tremaining: 68.6ms\n",
      "75:\tlearn: 17.1872709\ttotal: 69.6ms\tremaining: 67.8ms\n",
      "76:\tlearn: 17.1137242\ttotal: 70.5ms\tremaining: 66.8ms\n",
      "77:\tlearn: 17.0753422\ttotal: 71.4ms\tremaining: 65.9ms\n",
      "78:\tlearn: 17.0583375\ttotal: 72.6ms\tremaining: 65.2ms\n",
      "79:\tlearn: 17.0552713\ttotal: 73.7ms\tremaining: 64.5ms\n",
      "80:\tlearn: 17.0137533\ttotal: 75.1ms\tremaining: 64ms\n",
      "81:\tlearn: 16.9648435\ttotal: 76.4ms\tremaining: 63.3ms\n",
      "82:\tlearn: 16.9254938\ttotal: 77.6ms\tremaining: 62.6ms\n",
      "83:\tlearn: 16.9237701\ttotal: 78.7ms\tremaining: 61.9ms\n",
      "84:\tlearn: 16.8929051\ttotal: 79.9ms\tremaining: 61.1ms\n",
      "85:\tlearn: 16.8845372\ttotal: 81ms\tremaining: 60.3ms\n",
      "86:\tlearn: 16.8474491\ttotal: 82.4ms\tremaining: 59.6ms\n",
      "87:\tlearn: 16.7981839\ttotal: 83.4ms\tremaining: 58.7ms\n",
      "88:\tlearn: 16.7323935\ttotal: 84.5ms\tremaining: 57.9ms\n",
      "89:\tlearn: 16.6859027\ttotal: 85.7ms\tremaining: 57.1ms\n",
      "90:\tlearn: 16.6527725\ttotal: 86.6ms\tremaining: 56.1ms\n",
      "91:\tlearn: 16.6043359\ttotal: 87.5ms\tremaining: 55.2ms\n",
      "92:\tlearn: 16.5719507\ttotal: 88.6ms\tremaining: 54.3ms\n",
      "93:\tlearn: 16.5157439\ttotal: 89.4ms\tremaining: 53.2ms\n",
      "94:\tlearn: 16.5142341\ttotal: 90.2ms\tremaining: 52.2ms\n",
      "95:\tlearn: 16.4882439\ttotal: 91.1ms\tremaining: 51.2ms\n",
      "96:\tlearn: 16.4864351\ttotal: 91.9ms\tremaining: 50.2ms\n",
      "97:\tlearn: 16.4846269\ttotal: 92.9ms\tremaining: 49.3ms\n",
      "98:\tlearn: 16.4586184\ttotal: 93.7ms\tremaining: 48.3ms\n",
      "99:\tlearn: 16.4300325\ttotal: 94.7ms\tremaining: 47.3ms\n",
      "100:\tlearn: 16.3613461\ttotal: 95.7ms\tremaining: 46.4ms\n",
      "101:\tlearn: 16.3375417\ttotal: 96.5ms\tremaining: 45.4ms\n",
      "102:\tlearn: 16.2965736\ttotal: 97.4ms\tremaining: 44.4ms\n",
      "103:\tlearn: 16.2650284\ttotal: 98.3ms\tremaining: 43.5ms\n",
      "104:\tlearn: 16.2279470\ttotal: 99.2ms\tremaining: 42.5ms\n",
      "105:\tlearn: 16.2004755\ttotal: 100ms\tremaining: 41.6ms\n",
      "106:\tlearn: 16.1533122\ttotal: 101ms\tremaining: 40.6ms\n",
      "107:\tlearn: 16.1235618\ttotal: 102ms\tremaining: 39.7ms\n",
      "108:\tlearn: 16.0999629\ttotal: 103ms\tremaining: 38.7ms\n",
      "109:\tlearn: 16.0610018\ttotal: 104ms\tremaining: 37.7ms\n",
      "110:\tlearn: 16.0132558\ttotal: 105ms\tremaining: 36.8ms\n",
      "111:\tlearn: 15.9776642\ttotal: 106ms\tremaining: 35.8ms\n",
      "112:\tlearn: 15.9562359\ttotal: 106ms\tremaining: 34.9ms\n",
      "113:\tlearn: 15.9274338\ttotal: 107ms\tremaining: 33.9ms\n",
      "114:\tlearn: 15.9120745\ttotal: 108ms\tremaining: 32.9ms\n",
      "115:\tlearn: 15.9028591\ttotal: 109ms\tremaining: 32ms\n",
      "116:\tlearn: 15.8689430\ttotal: 110ms\tremaining: 31ms\n",
      "117:\tlearn: 15.8379201\ttotal: 111ms\tremaining: 30.1ms\n",
      "118:\tlearn: 15.8226792\ttotal: 112ms\tremaining: 29.1ms\n",
      "119:\tlearn: 15.7804135\ttotal: 113ms\tremaining: 28.2ms\n",
      "120:\tlearn: 15.7704242\ttotal: 114ms\tremaining: 27.2ms\n",
      "121:\tlearn: 15.7546302\ttotal: 115ms\tremaining: 26.3ms\n",
      "122:\tlearn: 15.7276822\ttotal: 116ms\tremaining: 25.4ms\n",
      "123:\tlearn: 15.7041533\ttotal: 117ms\tremaining: 24.4ms\n",
      "124:\tlearn: 15.6862639\ttotal: 117ms\tremaining: 23.5ms\n",
      "125:\tlearn: 15.6407209\ttotal: 118ms\tremaining: 22.6ms\n",
      "126:\tlearn: 15.6120880\ttotal: 119ms\tremaining: 21.6ms\n",
      "127:\tlearn: 15.6052510\ttotal: 120ms\tremaining: 20.7ms\n",
      "128:\tlearn: 15.5698741\ttotal: 121ms\tremaining: 19.8ms\n",
      "129:\tlearn: 15.5619410\ttotal: 122ms\tremaining: 18.8ms\n",
      "130:\tlearn: 15.5361257\ttotal: 123ms\tremaining: 17.8ms\n",
      "131:\tlearn: 15.5346645\ttotal: 124ms\tremaining: 16.9ms\n",
      "132:\tlearn: 15.5230792\ttotal: 125ms\tremaining: 16ms\n",
      "133:\tlearn: 15.5002872\ttotal: 126ms\tremaining: 15.1ms\n",
      "134:\tlearn: 15.4788250\ttotal: 127ms\tremaining: 14.1ms\n",
      "135:\tlearn: 15.4532310\ttotal: 128ms\tremaining: 13.2ms\n",
      "136:\tlearn: 15.4238149\ttotal: 129ms\tremaining: 12.2ms\n",
      "137:\tlearn: 15.4092312\ttotal: 130ms\tremaining: 11.3ms\n",
      "138:\tlearn: 15.3927119\ttotal: 131ms\tremaining: 10.3ms\n",
      "139:\tlearn: 15.3802243\ttotal: 132ms\tremaining: 9.4ms\n",
      "140:\tlearn: 15.3558059\ttotal: 132ms\tremaining: 8.45ms\n",
      "141:\tlearn: 15.3118625\ttotal: 133ms\tremaining: 7.51ms\n",
      "142:\tlearn: 15.2855023\ttotal: 134ms\tremaining: 6.57ms\n",
      "143:\tlearn: 15.2609514\ttotal: 135ms\tremaining: 5.63ms\n",
      "144:\tlearn: 15.2482922\ttotal: 136ms\tremaining: 4.7ms\n",
      "145:\tlearn: 15.2192408\ttotal: 138ms\tremaining: 3.77ms\n",
      "146:\tlearn: 15.1915802\ttotal: 139ms\tremaining: 2.83ms\n",
      "147:\tlearn: 15.1895450\ttotal: 140ms\tremaining: 1.89ms\n",
      "148:\tlearn: 15.1671998\ttotal: 140ms\tremaining: 942us\n",
      "149:\tlearn: 15.1545440\ttotal: 141ms\tremaining: 0us\n",
      "Learning rate set to 0.217876\n",
      "0:\tlearn: 31.1593621\ttotal: 1.71ms\tremaining: 255ms\n",
      "1:\tlearn: 28.4557764\ttotal: 3.05ms\tremaining: 226ms\n",
      "2:\tlearn: 26.4843708\ttotal: 4.18ms\tremaining: 205ms\n",
      "3:\tlearn: 24.9869460\ttotal: 5.23ms\tremaining: 191ms\n",
      "4:\tlearn: 23.9534088\ttotal: 6.3ms\tremaining: 183ms\n",
      "5:\tlearn: 23.2666864\ttotal: 7.29ms\tremaining: 175ms\n",
      "6:\tlearn: 22.7393029\ttotal: 8.25ms\tremaining: 169ms\n",
      "7:\tlearn: 22.3365879\ttotal: 9.4ms\tremaining: 167ms\n",
      "8:\tlearn: 22.0887071\ttotal: 10.5ms\tremaining: 165ms\n",
      "9:\tlearn: 21.9088450\ttotal: 11.5ms\tremaining: 161ms\n",
      "10:\tlearn: 21.7730258\ttotal: 12.5ms\tremaining: 158ms\n",
      "11:\tlearn: 21.6337763\ttotal: 13.5ms\tremaining: 156ms\n",
      "12:\tlearn: 21.5624565\ttotal: 14.6ms\tremaining: 154ms\n",
      "13:\tlearn: 21.4876875\ttotal: 15.8ms\tremaining: 153ms\n",
      "14:\tlearn: 21.4207438\ttotal: 16.7ms\tremaining: 151ms\n",
      "15:\tlearn: 21.3447843\ttotal: 17.7ms\tremaining: 148ms\n",
      "16:\tlearn: 21.2835366\ttotal: 18.6ms\tremaining: 146ms\n",
      "17:\tlearn: 21.2424074\ttotal: 19.6ms\tremaining: 144ms\n",
      "18:\tlearn: 21.1981783\ttotal: 20.7ms\tremaining: 143ms\n",
      "19:\tlearn: 21.1836342\ttotal: 21.5ms\tremaining: 140ms\n",
      "20:\tlearn: 21.1693853\ttotal: 22.2ms\tremaining: 136ms\n",
      "21:\tlearn: 21.1254854\ttotal: 23.3ms\tremaining: 135ms\n",
      "22:\tlearn: 21.0942978\ttotal: 24.2ms\tremaining: 134ms\n",
      "23:\tlearn: 21.0306612\ttotal: 25.8ms\tremaining: 135ms\n",
      "24:\tlearn: 20.8948067\ttotal: 26.7ms\tremaining: 134ms\n",
      "25:\tlearn: 20.8019035\ttotal: 27.6ms\tremaining: 132ms\n",
      "26:\tlearn: 20.7347155\ttotal: 28.7ms\tremaining: 131ms\n",
      "27:\tlearn: 20.7000737\ttotal: 29.7ms\tremaining: 129ms\n",
      "28:\tlearn: 20.6575641\ttotal: 30.8ms\tremaining: 128ms\n",
      "29:\tlearn: 20.5877282\ttotal: 31.7ms\tremaining: 127ms\n",
      "30:\tlearn: 20.5210571\ttotal: 32.7ms\tremaining: 125ms\n",
      "31:\tlearn: 20.4497656\ttotal: 33.6ms\tremaining: 124ms\n",
      "32:\tlearn: 20.4265165\ttotal: 34.6ms\tremaining: 123ms\n",
      "33:\tlearn: 20.3533719\ttotal: 35.7ms\tremaining: 122ms\n",
      "34:\tlearn: 20.3035225\ttotal: 36.6ms\tremaining: 120ms\n",
      "35:\tlearn: 20.2762517\ttotal: 37.6ms\tremaining: 119ms\n",
      "36:\tlearn: 20.2599865\ttotal: 38.8ms\tremaining: 119ms\n",
      "37:\tlearn: 20.2428233\ttotal: 39.8ms\tremaining: 117ms\n",
      "38:\tlearn: 20.2022319\ttotal: 40.8ms\tremaining: 116ms\n",
      "39:\tlearn: 20.1522764\ttotal: 41.8ms\tremaining: 115ms\n",
      "40:\tlearn: 20.1249140\ttotal: 42.9ms\tremaining: 114ms\n",
      "41:\tlearn: 20.0883361\ttotal: 43.9ms\tremaining: 113ms\n",
      "42:\tlearn: 20.0580275\ttotal: 45.2ms\tremaining: 113ms\n",
      "43:\tlearn: 20.0056002\ttotal: 46.6ms\tremaining: 112ms\n",
      "44:\tlearn: 19.9636925\ttotal: 48ms\tremaining: 112ms\n",
      "45:\tlearn: 19.9410454\ttotal: 49.4ms\tremaining: 112ms\n",
      "46:\tlearn: 19.9076120\ttotal: 50.7ms\tremaining: 111ms\n",
      "47:\tlearn: 19.8893305\ttotal: 52ms\tremaining: 110ms\n",
      "48:\tlearn: 19.8718700\ttotal: 53ms\tremaining: 109ms\n",
      "49:\tlearn: 19.8378629\ttotal: 54.4ms\tremaining: 109ms\n",
      "50:\tlearn: 19.7711602\ttotal: 55.6ms\tremaining: 108ms\n",
      "51:\tlearn: 19.7435937\ttotal: 57ms\tremaining: 107ms\n",
      "52:\tlearn: 19.6904523\ttotal: 58ms\tremaining: 106ms\n",
      "53:\tlearn: 19.6414232\ttotal: 59.4ms\tremaining: 106ms\n",
      "54:\tlearn: 19.5808636\ttotal: 60.9ms\tremaining: 105ms\n",
      "55:\tlearn: 19.5320567\ttotal: 62.4ms\tremaining: 105ms\n",
      "56:\tlearn: 19.4537947\ttotal: 63.8ms\tremaining: 104ms\n",
      "57:\tlearn: 19.4141713\ttotal: 65.1ms\tremaining: 103ms\n",
      "58:\tlearn: 19.3896320\ttotal: 66ms\tremaining: 102ms\n",
      "59:\tlearn: 19.3449417\ttotal: 67ms\tremaining: 100ms\n",
      "60:\tlearn: 19.3156879\ttotal: 68ms\tremaining: 99.2ms\n",
      "61:\tlearn: 19.2728237\ttotal: 68.9ms\tremaining: 97.8ms\n",
      "62:\tlearn: 19.2426484\ttotal: 69.9ms\tremaining: 96.5ms\n",
      "63:\tlearn: 19.2278758\ttotal: 70.8ms\tremaining: 95.1ms\n",
      "64:\tlearn: 19.2006713\ttotal: 71.7ms\tremaining: 93.8ms\n",
      "65:\tlearn: 19.1443539\ttotal: 72.7ms\tremaining: 92.5ms\n",
      "66:\tlearn: 19.0897185\ttotal: 73.6ms\tremaining: 91.2ms\n",
      "67:\tlearn: 19.0694206\ttotal: 74.5ms\tremaining: 89.9ms\n",
      "68:\tlearn: 19.0294087\ttotal: 75.4ms\tremaining: 88.6ms\n",
      "69:\tlearn: 18.9812198\ttotal: 76.8ms\tremaining: 87.7ms\n",
      "70:\tlearn: 18.9210450\ttotal: 77.7ms\tremaining: 86.4ms\n",
      "71:\tlearn: 18.8978829\ttotal: 79.1ms\tremaining: 85.7ms\n",
      "72:\tlearn: 18.8669573\ttotal: 80.7ms\tremaining: 85.1ms\n",
      "73:\tlearn: 18.8334504\ttotal: 81.7ms\tremaining: 83.9ms\n",
      "74:\tlearn: 18.7921629\ttotal: 82.7ms\tremaining: 82.7ms\n",
      "75:\tlearn: 18.7701162\ttotal: 83.8ms\tremaining: 81.6ms\n",
      "76:\tlearn: 18.7433287\ttotal: 85.1ms\tremaining: 80.7ms\n",
      "77:\tlearn: 18.7000268\ttotal: 86.3ms\tremaining: 79.6ms\n",
      "78:\tlearn: 18.6308101\ttotal: 87.3ms\tremaining: 78.4ms\n",
      "79:\tlearn: 18.5926664\ttotal: 88.4ms\tremaining: 77.3ms\n",
      "80:\tlearn: 18.5750832\ttotal: 89.4ms\tremaining: 76.1ms\n",
      "81:\tlearn: 18.5617713\ttotal: 90.5ms\tremaining: 75ms\n",
      "82:\tlearn: 18.5218623\ttotal: 91.5ms\tremaining: 73.8ms\n",
      "83:\tlearn: 18.4977942\ttotal: 92.5ms\tremaining: 72.7ms\n",
      "84:\tlearn: 18.4694238\ttotal: 93.6ms\tremaining: 71.6ms\n",
      "85:\tlearn: 18.4613348\ttotal: 94.6ms\tremaining: 70.4ms\n",
      "86:\tlearn: 18.4218860\ttotal: 95.8ms\tremaining: 69.4ms\n",
      "87:\tlearn: 18.4019079\ttotal: 96.9ms\tremaining: 68.3ms\n",
      "88:\tlearn: 18.3857108\ttotal: 97.9ms\tremaining: 67.1ms\n",
      "89:\tlearn: 18.3150716\ttotal: 99.4ms\tremaining: 66.3ms\n",
      "90:\tlearn: 18.3034758\ttotal: 101ms\tremaining: 65.4ms\n",
      "91:\tlearn: 18.2650445\ttotal: 102ms\tremaining: 64.4ms\n",
      "92:\tlearn: 18.1979337\ttotal: 104ms\tremaining: 63.5ms\n",
      "93:\tlearn: 18.1814324\ttotal: 105ms\tremaining: 62.3ms\n",
      "94:\tlearn: 18.1453980\ttotal: 106ms\tremaining: 61.2ms\n",
      "95:\tlearn: 18.1065703\ttotal: 107ms\tremaining: 60ms\n",
      "96:\tlearn: 18.0724952\ttotal: 108ms\tremaining: 58.9ms\n",
      "97:\tlearn: 18.0566341\ttotal: 109ms\tremaining: 57.7ms\n",
      "98:\tlearn: 18.0351197\ttotal: 110ms\tremaining: 56.7ms\n",
      "99:\tlearn: 18.0103707\ttotal: 111ms\tremaining: 55.6ms\n",
      "100:\tlearn: 17.9936022\ttotal: 112ms\tremaining: 54.4ms\n",
      "101:\tlearn: 17.9775442\ttotal: 113ms\tremaining: 53.2ms\n",
      "102:\tlearn: 17.9263419\ttotal: 114ms\tremaining: 52.1ms\n",
      "103:\tlearn: 17.9042623\ttotal: 115ms\tremaining: 50.9ms\n",
      "104:\tlearn: 17.8529872\ttotal: 116ms\tremaining: 49.9ms\n",
      "105:\tlearn: 17.7970087\ttotal: 118ms\tremaining: 48.8ms\n",
      "106:\tlearn: 17.7558538\ttotal: 119ms\tremaining: 47.7ms\n",
      "107:\tlearn: 17.7274893\ttotal: 120ms\tremaining: 46.7ms\n",
      "108:\tlearn: 17.7009254\ttotal: 121ms\tremaining: 45.6ms\n",
      "109:\tlearn: 17.6728888\ttotal: 122ms\tremaining: 44.5ms\n",
      "110:\tlearn: 17.6562680\ttotal: 124ms\tremaining: 43.6ms\n",
      "111:\tlearn: 17.6267844\ttotal: 126ms\tremaining: 42.7ms\n",
      "112:\tlearn: 17.6002523\ttotal: 127ms\tremaining: 41.7ms\n",
      "113:\tlearn: 17.5580673\ttotal: 129ms\tremaining: 40.7ms\n",
      "114:\tlearn: 17.5043764\ttotal: 130ms\tremaining: 39.5ms\n",
      "115:\tlearn: 17.4942643\ttotal: 131ms\tremaining: 38.4ms\n",
      "116:\tlearn: 17.4879583\ttotal: 132ms\tremaining: 37.2ms\n",
      "117:\tlearn: 17.4768385\ttotal: 133ms\tremaining: 36.1ms\n",
      "118:\tlearn: 17.4540428\ttotal: 134ms\tremaining: 34.9ms\n",
      "119:\tlearn: 17.4301065\ttotal: 135ms\tremaining: 33.7ms\n",
      "120:\tlearn: 17.4170332\ttotal: 136ms\tremaining: 32.6ms\n",
      "121:\tlearn: 17.3723029\ttotal: 137ms\tremaining: 31.5ms\n",
      "122:\tlearn: 17.3394629\ttotal: 138ms\tremaining: 30.3ms\n",
      "123:\tlearn: 17.3006646\ttotal: 140ms\tremaining: 29.3ms\n",
      "124:\tlearn: 17.2713437\ttotal: 141ms\tremaining: 28.1ms\n",
      "125:\tlearn: 17.2641263\ttotal: 142ms\tremaining: 27ms\n",
      "126:\tlearn: 17.2184177\ttotal: 143ms\tremaining: 26ms\n",
      "127:\tlearn: 17.1678917\ttotal: 145ms\tremaining: 24.9ms\n",
      "128:\tlearn: 17.1491350\ttotal: 146ms\tremaining: 23.7ms\n",
      "129:\tlearn: 17.1241691\ttotal: 147ms\tremaining: 22.6ms\n",
      "130:\tlearn: 17.1030194\ttotal: 148ms\tremaining: 21.4ms\n",
      "131:\tlearn: 17.0720235\ttotal: 149ms\tremaining: 20.3ms\n",
      "132:\tlearn: 17.0688482\ttotal: 150ms\tremaining: 19.1ms\n",
      "133:\tlearn: 17.0632559\ttotal: 151ms\tremaining: 18ms\n",
      "134:\tlearn: 17.0518006\ttotal: 152ms\tremaining: 16.9ms\n",
      "135:\tlearn: 17.0343626\ttotal: 154ms\tremaining: 15.8ms\n",
      "136:\tlearn: 17.0054831\ttotal: 155ms\tremaining: 14.7ms\n",
      "137:\tlearn: 16.9901889\ttotal: 156ms\tremaining: 13.6ms\n",
      "138:\tlearn: 16.9489754\ttotal: 157ms\tremaining: 12.4ms\n",
      "139:\tlearn: 16.9109116\ttotal: 158ms\tremaining: 11.3ms\n",
      "140:\tlearn: 16.8733911\ttotal: 159ms\tremaining: 10.2ms\n",
      "141:\tlearn: 16.8411652\ttotal: 160ms\tremaining: 9.02ms\n",
      "142:\tlearn: 16.8305033\ttotal: 161ms\tremaining: 7.89ms\n",
      "143:\tlearn: 16.8011382\ttotal: 162ms\tremaining: 6.77ms\n",
      "144:\tlearn: 16.7975490\ttotal: 163ms\tremaining: 5.63ms\n",
      "145:\tlearn: 16.7621936\ttotal: 164ms\tremaining: 4.5ms\n",
      "146:\tlearn: 16.7190998\ttotal: 166ms\tremaining: 3.38ms\n",
      "147:\tlearn: 16.6920401\ttotal: 167ms\tremaining: 2.25ms\n",
      "148:\tlearn: 16.6874845\ttotal: 168ms\tremaining: 1.13ms\n",
      "149:\tlearn: 16.6798462\ttotal: 169ms\tremaining: 0us\n",
      "Learning rate set to 0.225682\n",
      "0:\tlearn: 31.4623298\ttotal: 1.53ms\tremaining: 228ms\n",
      "1:\tlearn: 30.1378039\ttotal: 3.65ms\tremaining: 270ms\n",
      "2:\tlearn: 27.7556921\ttotal: 4.98ms\tremaining: 244ms\n",
      "3:\tlearn: 26.0641854\ttotal: 6.36ms\tremaining: 232ms\n",
      "4:\tlearn: 24.9893757\ttotal: 7.7ms\tremaining: 223ms\n",
      "5:\tlearn: 24.1117297\ttotal: 8.93ms\tremaining: 214ms\n",
      "6:\tlearn: 23.5712815\ttotal: 9.97ms\tremaining: 204ms\n",
      "7:\tlearn: 23.1853323\ttotal: 11ms\tremaining: 195ms\n",
      "8:\tlearn: 22.8873904\ttotal: 12.1ms\tremaining: 189ms\n",
      "9:\tlearn: 22.7311966\ttotal: 13.1ms\tremaining: 184ms\n",
      "10:\tlearn: 22.5470197\ttotal: 14.1ms\tremaining: 178ms\n",
      "11:\tlearn: 22.4094090\ttotal: 15.2ms\tremaining: 174ms\n",
      "12:\tlearn: 22.3151223\ttotal: 16.3ms\tremaining: 172ms\n",
      "13:\tlearn: 22.2162082\ttotal: 17.3ms\tremaining: 168ms\n",
      "14:\tlearn: 22.1646714\ttotal: 18.3ms\tremaining: 165ms\n",
      "15:\tlearn: 22.1108268\ttotal: 19.4ms\tremaining: 162ms\n",
      "16:\tlearn: 22.0654617\ttotal: 20.4ms\tremaining: 160ms\n",
      "17:\tlearn: 22.0363225\ttotal: 21.6ms\tremaining: 158ms\n",
      "18:\tlearn: 21.9686761\ttotal: 22.6ms\tremaining: 156ms\n",
      "19:\tlearn: 21.9198273\ttotal: 23.7ms\tremaining: 154ms\n",
      "20:\tlearn: 21.8556272\ttotal: 24.8ms\tremaining: 152ms\n",
      "21:\tlearn: 21.8169755\ttotal: 25.8ms\tremaining: 150ms\n",
      "22:\tlearn: 21.7755725\ttotal: 26.9ms\tremaining: 149ms\n",
      "23:\tlearn: 21.7401801\ttotal: 27.9ms\tremaining: 147ms\n",
      "24:\tlearn: 21.7049990\ttotal: 29.1ms\tremaining: 145ms\n",
      "25:\tlearn: 21.6723748\ttotal: 30.4ms\tremaining: 145ms\n",
      "26:\tlearn: 21.6283062\ttotal: 31.4ms\tremaining: 143ms\n",
      "27:\tlearn: 21.6032929\ttotal: 32.5ms\tremaining: 141ms\n",
      "28:\tlearn: 21.5620232\ttotal: 33.6ms\tremaining: 140ms\n",
      "29:\tlearn: 21.5169052\ttotal: 34.7ms\tremaining: 139ms\n",
      "30:\tlearn: 21.4603470\ttotal: 35.7ms\tremaining: 137ms\n",
      "31:\tlearn: 21.4237853\ttotal: 36.9ms\tremaining: 136ms\n",
      "32:\tlearn: 21.3800552\ttotal: 38.1ms\tremaining: 135ms\n",
      "33:\tlearn: 21.3050735\ttotal: 39.2ms\tremaining: 134ms\n",
      "34:\tlearn: 21.2985380\ttotal: 40.3ms\tremaining: 133ms\n",
      "35:\tlearn: 21.2828430\ttotal: 41.4ms\tremaining: 131ms\n",
      "36:\tlearn: 21.2233275\ttotal: 42.5ms\tremaining: 130ms\n",
      "37:\tlearn: 21.1902007\ttotal: 43.7ms\tremaining: 129ms\n",
      "38:\tlearn: 21.1516045\ttotal: 44.9ms\tremaining: 128ms\n",
      "39:\tlearn: 21.1354699\ttotal: 46.3ms\tremaining: 127ms\n",
      "40:\tlearn: 21.0860054\ttotal: 47.5ms\tremaining: 126ms\n",
      "41:\tlearn: 21.0689893\ttotal: 48.8ms\tremaining: 125ms\n",
      "42:\tlearn: 21.0513662\ttotal: 49.9ms\tremaining: 124ms\n",
      "43:\tlearn: 21.0251910\ttotal: 51.1ms\tremaining: 123ms\n",
      "44:\tlearn: 20.9980653\ttotal: 52.2ms\tremaining: 122ms\n",
      "45:\tlearn: 20.9522565\ttotal: 53.4ms\tremaining: 121ms\n",
      "46:\tlearn: 20.8997261\ttotal: 54.5ms\tremaining: 119ms\n",
      "47:\tlearn: 20.8577752\ttotal: 55.6ms\tremaining: 118ms\n",
      "48:\tlearn: 20.8068884\ttotal: 56.7ms\tremaining: 117ms\n",
      "49:\tlearn: 20.7714816\ttotal: 57.8ms\tremaining: 116ms\n",
      "50:\tlearn: 20.7089594\ttotal: 59ms\tremaining: 114ms\n",
      "51:\tlearn: 20.6881008\ttotal: 60.2ms\tremaining: 113ms\n",
      "52:\tlearn: 20.6458738\ttotal: 61.3ms\tremaining: 112ms\n",
      "53:\tlearn: 20.6395333\ttotal: 62.4ms\tremaining: 111ms\n",
      "54:\tlearn: 20.6280686\ttotal: 63.5ms\tremaining: 110ms\n",
      "55:\tlearn: 20.5873289\ttotal: 64.6ms\tremaining: 108ms\n",
      "56:\tlearn: 20.5246721\ttotal: 65.8ms\tremaining: 107ms\n",
      "57:\tlearn: 20.4914745\ttotal: 67.5ms\tremaining: 107ms\n",
      "58:\tlearn: 20.4529617\ttotal: 68.9ms\tremaining: 106ms\n",
      "59:\tlearn: 20.4224564\ttotal: 70.5ms\tremaining: 106ms\n",
      "60:\tlearn: 20.3641193\ttotal: 72.1ms\tremaining: 105ms\n",
      "61:\tlearn: 20.3250090\ttotal: 74ms\tremaining: 105ms\n",
      "62:\tlearn: 20.2798685\ttotal: 75.7ms\tremaining: 104ms\n",
      "63:\tlearn: 20.2503321\ttotal: 77.3ms\tremaining: 104ms\n",
      "64:\tlearn: 20.2028315\ttotal: 78.8ms\tremaining: 103ms\n",
      "65:\tlearn: 20.1772068\ttotal: 79.9ms\tremaining: 102ms\n",
      "66:\tlearn: 20.1258746\ttotal: 80.9ms\tremaining: 100ms\n",
      "67:\tlearn: 20.0872552\ttotal: 82.1ms\tremaining: 99ms\n",
      "68:\tlearn: 20.0520440\ttotal: 83.2ms\tremaining: 97.7ms\n",
      "69:\tlearn: 20.0457479\ttotal: 84.3ms\tremaining: 96.4ms\n",
      "70:\tlearn: 20.0172706\ttotal: 85.4ms\tremaining: 95ms\n",
      "71:\tlearn: 19.9822890\ttotal: 86.3ms\tremaining: 93.5ms\n",
      "72:\tlearn: 19.9354351\ttotal: 87.5ms\tremaining: 92.3ms\n",
      "73:\tlearn: 19.9019039\ttotal: 88.5ms\tremaining: 90.9ms\n",
      "74:\tlearn: 19.8683697\ttotal: 89.6ms\tremaining: 89.6ms\n",
      "75:\tlearn: 19.8418852\ttotal: 90.9ms\tremaining: 88.5ms\n",
      "76:\tlearn: 19.8279909\ttotal: 92.6ms\tremaining: 87.8ms\n",
      "77:\tlearn: 19.8016428\ttotal: 94.5ms\tremaining: 87.2ms\n",
      "78:\tlearn: 19.7529408\ttotal: 95.7ms\tremaining: 86ms\n",
      "79:\tlearn: 19.7227960\ttotal: 96.8ms\tremaining: 84.7ms\n",
      "80:\tlearn: 19.6993111\ttotal: 98.1ms\tremaining: 83.5ms\n",
      "81:\tlearn: 19.6617501\ttotal: 99.2ms\tremaining: 82.2ms\n",
      "82:\tlearn: 19.6396993\ttotal: 100ms\tremaining: 81ms\n",
      "83:\tlearn: 19.5856634\ttotal: 101ms\tremaining: 79.7ms\n",
      "84:\tlearn: 19.5453679\ttotal: 102ms\tremaining: 78.3ms\n",
      "85:\tlearn: 19.5317252\ttotal: 104ms\tremaining: 77.1ms\n",
      "86:\tlearn: 19.5051129\ttotal: 105ms\tremaining: 75.8ms\n",
      "87:\tlearn: 19.4815049\ttotal: 106ms\tremaining: 74.5ms\n",
      "88:\tlearn: 19.4188504\ttotal: 107ms\tremaining: 73.2ms\n",
      "89:\tlearn: 19.3975560\ttotal: 108ms\tremaining: 72ms\n",
      "90:\tlearn: 19.3774935\ttotal: 109ms\tremaining: 70.8ms\n",
      "91:\tlearn: 19.3404164\ttotal: 110ms\tremaining: 69.6ms\n",
      "92:\tlearn: 19.3259465\ttotal: 112ms\tremaining: 68.5ms\n",
      "93:\tlearn: 19.2855830\ttotal: 113ms\tremaining: 67.3ms\n",
      "94:\tlearn: 19.2644026\ttotal: 114ms\tremaining: 66ms\n",
      "95:\tlearn: 19.2442273\ttotal: 115ms\tremaining: 64.8ms\n",
      "96:\tlearn: 19.2224569\ttotal: 116ms\tremaining: 63.5ms\n",
      "97:\tlearn: 19.2060154\ttotal: 117ms\tremaining: 62.3ms\n",
      "98:\tlearn: 19.1744432\ttotal: 119ms\tremaining: 61.1ms\n",
      "99:\tlearn: 19.1664226\ttotal: 120ms\tremaining: 59.8ms\n",
      "100:\tlearn: 19.1585531\ttotal: 121ms\tremaining: 58.6ms\n",
      "101:\tlearn: 19.1225315\ttotal: 122ms\tremaining: 57.4ms\n",
      "102:\tlearn: 19.1095461\ttotal: 123ms\tremaining: 56.2ms\n",
      "103:\tlearn: 19.0797329\ttotal: 124ms\tremaining: 55ms\n",
      "104:\tlearn: 19.0185196\ttotal: 125ms\tremaining: 53.8ms\n",
      "105:\tlearn: 19.0027629\ttotal: 127ms\tremaining: 52.6ms\n",
      "106:\tlearn: 18.9608016\ttotal: 128ms\tremaining: 51.3ms\n",
      "107:\tlearn: 18.9157301\ttotal: 129ms\tremaining: 50.1ms\n",
      "108:\tlearn: 18.8946136\ttotal: 130ms\tremaining: 48.9ms\n",
      "109:\tlearn: 18.8661898\ttotal: 131ms\tremaining: 47.6ms\n",
      "110:\tlearn: 18.8300097\ttotal: 132ms\tremaining: 46.4ms\n",
      "111:\tlearn: 18.7793407\ttotal: 133ms\tremaining: 45.2ms\n",
      "112:\tlearn: 18.7718751\ttotal: 134ms\tremaining: 44ms\n",
      "113:\tlearn: 18.7517055\ttotal: 135ms\tremaining: 42.8ms\n",
      "114:\tlearn: 18.7280407\ttotal: 137ms\tremaining: 41.6ms\n",
      "115:\tlearn: 18.6835898\ttotal: 138ms\tremaining: 40.6ms\n",
      "116:\tlearn: 18.6706643\ttotal: 140ms\tremaining: 39.4ms\n",
      "117:\tlearn: 18.6684242\ttotal: 141ms\tremaining: 38.2ms\n",
      "118:\tlearn: 18.6346669\ttotal: 142ms\tremaining: 37ms\n",
      "119:\tlearn: 18.6176905\ttotal: 143ms\tremaining: 35.7ms\n",
      "120:\tlearn: 18.5926045\ttotal: 144ms\tremaining: 34.5ms\n",
      "121:\tlearn: 18.5866557\ttotal: 145ms\tremaining: 33.3ms\n",
      "122:\tlearn: 18.5768034\ttotal: 146ms\tremaining: 32.1ms\n",
      "123:\tlearn: 18.5593387\ttotal: 148ms\tremaining: 30.9ms\n",
      "124:\tlearn: 18.5572600\ttotal: 149ms\tremaining: 29.7ms\n",
      "125:\tlearn: 18.5318196\ttotal: 150ms\tremaining: 28.5ms\n",
      "126:\tlearn: 18.5177738\ttotal: 151ms\tremaining: 27.3ms\n",
      "127:\tlearn: 18.4801672\ttotal: 152ms\tremaining: 26.1ms\n",
      "128:\tlearn: 18.4534319\ttotal: 153ms\tremaining: 24.9ms\n",
      "129:\tlearn: 18.4439923\ttotal: 154ms\tremaining: 23.7ms\n",
      "130:\tlearn: 18.4189352\ttotal: 155ms\tremaining: 22.5ms\n",
      "131:\tlearn: 18.3981369\ttotal: 156ms\tremaining: 21.3ms\n",
      "132:\tlearn: 18.3513852\ttotal: 157ms\tremaining: 20.1ms\n",
      "133:\tlearn: 18.3355501\ttotal: 158ms\tremaining: 18.9ms\n",
      "134:\tlearn: 18.2957943\ttotal: 160ms\tremaining: 17.7ms\n",
      "135:\tlearn: 18.2910782\ttotal: 161ms\tremaining: 16.5ms\n",
      "136:\tlearn: 18.2820591\ttotal: 162ms\tremaining: 15.4ms\n",
      "137:\tlearn: 18.2667886\ttotal: 163ms\tremaining: 14.2ms\n",
      "138:\tlearn: 18.2347680\ttotal: 164ms\tremaining: 13ms\n",
      "139:\tlearn: 18.2182996\ttotal: 165ms\tremaining: 11.8ms\n",
      "140:\tlearn: 18.2141177\ttotal: 166ms\tremaining: 10.6ms\n",
      "141:\tlearn: 18.1905648\ttotal: 168ms\tremaining: 9.44ms\n",
      "142:\tlearn: 18.1654998\ttotal: 169ms\tremaining: 8.26ms\n",
      "143:\tlearn: 18.1455200\ttotal: 170ms\tremaining: 7.07ms\n",
      "144:\tlearn: 18.1154206\ttotal: 171ms\tremaining: 5.89ms\n",
      "145:\tlearn: 18.0923763\ttotal: 172ms\tremaining: 4.71ms\n",
      "146:\tlearn: 18.0528836\ttotal: 174ms\tremaining: 3.54ms\n",
      "147:\tlearn: 17.9942184\ttotal: 175ms\tremaining: 2.37ms\n",
      "148:\tlearn: 17.9688350\ttotal: 177ms\tremaining: 1.19ms\n",
      "149:\tlearn: 17.9461889\ttotal: 179ms\tremaining: 0us\n",
      "Learning rate set to 0.232269\n",
      "0:\tlearn: 33.0959076\ttotal: 1.55ms\tremaining: 231ms\n",
      "1:\tlearn: 31.5104023\ttotal: 3.19ms\tremaining: 236ms\n",
      "2:\tlearn: 28.9056221\ttotal: 4.58ms\tremaining: 224ms\n",
      "3:\tlearn: 27.1551032\ttotal: 5.77ms\tremaining: 211ms\n",
      "4:\tlearn: 25.8809942\ttotal: 7.14ms\tremaining: 207ms\n",
      "5:\tlearn: 25.0500005\ttotal: 8.37ms\tremaining: 201ms\n",
      "6:\tlearn: 24.3842377\ttotal: 9.61ms\tremaining: 196ms\n",
      "7:\tlearn: 23.9749825\ttotal: 10.7ms\tremaining: 190ms\n",
      "8:\tlearn: 23.7297564\ttotal: 12ms\tremaining: 189ms\n",
      "9:\tlearn: 23.5386271\ttotal: 13.3ms\tremaining: 186ms\n",
      "10:\tlearn: 23.3737469\ttotal: 14.6ms\tremaining: 185ms\n",
      "11:\tlearn: 23.2682885\ttotal: 15.9ms\tremaining: 183ms\n",
      "12:\tlearn: 23.1217229\ttotal: 17.2ms\tremaining: 181ms\n",
      "13:\tlearn: 23.0259987\ttotal: 18.4ms\tremaining: 179ms\n",
      "14:\tlearn: 22.9726234\ttotal: 19.7ms\tremaining: 178ms\n",
      "15:\tlearn: 22.9081373\ttotal: 21ms\tremaining: 176ms\n",
      "16:\tlearn: 22.8181752\ttotal: 22.3ms\tremaining: 174ms\n",
      "17:\tlearn: 22.7787073\ttotal: 23.5ms\tremaining: 173ms\n",
      "18:\tlearn: 22.7404029\ttotal: 24.7ms\tremaining: 170ms\n",
      "19:\tlearn: 22.7046761\ttotal: 26ms\tremaining: 169ms\n",
      "20:\tlearn: 22.6231596\ttotal: 27.3ms\tremaining: 168ms\n",
      "21:\tlearn: 22.5837001\ttotal: 28.5ms\tremaining: 166ms\n",
      "22:\tlearn: 22.5258155\ttotal: 29.6ms\tremaining: 164ms\n",
      "23:\tlearn: 22.4729228\ttotal: 30.8ms\tremaining: 162ms\n",
      "24:\tlearn: 22.4524632\ttotal: 32.1ms\tremaining: 160ms\n",
      "25:\tlearn: 22.4277709\ttotal: 33.6ms\tremaining: 160ms\n",
      "26:\tlearn: 22.3787708\ttotal: 35.4ms\tremaining: 161ms\n",
      "27:\tlearn: 22.3658324\ttotal: 36.9ms\tremaining: 161ms\n",
      "28:\tlearn: 22.3236629\ttotal: 38.2ms\tremaining: 159ms\n",
      "29:\tlearn: 22.2817342\ttotal: 39.3ms\tremaining: 157ms\n",
      "30:\tlearn: 22.2191199\ttotal: 40.7ms\tremaining: 156ms\n",
      "31:\tlearn: 22.2001408\ttotal: 41.9ms\tremaining: 155ms\n",
      "32:\tlearn: 22.1584669\ttotal: 43.3ms\tremaining: 153ms\n",
      "33:\tlearn: 22.1161049\ttotal: 46.7ms\tremaining: 159ms\n",
      "34:\tlearn: 22.0602982\ttotal: 48.6ms\tremaining: 160ms\n",
      "35:\tlearn: 22.0029747\ttotal: 50.8ms\tremaining: 161ms\n",
      "36:\tlearn: 21.9709234\ttotal: 52.7ms\tremaining: 161ms\n",
      "37:\tlearn: 21.9134845\ttotal: 54.6ms\tremaining: 161ms\n",
      "38:\tlearn: 21.8802056\ttotal: 56.5ms\tremaining: 161ms\n",
      "39:\tlearn: 21.8549632\ttotal: 57.7ms\tremaining: 159ms\n",
      "40:\tlearn: 21.8265894\ttotal: 59ms\tremaining: 157ms\n",
      "41:\tlearn: 21.7828326\ttotal: 60.2ms\tremaining: 155ms\n",
      "42:\tlearn: 21.7245708\ttotal: 61.5ms\tremaining: 153ms\n",
      "43:\tlearn: 21.6954124\ttotal: 62.7ms\tremaining: 151ms\n",
      "44:\tlearn: 21.6519593\ttotal: 63.9ms\tremaining: 149ms\n",
      "45:\tlearn: 21.6224292\ttotal: 65.2ms\tremaining: 147ms\n",
      "46:\tlearn: 21.5789189\ttotal: 66.4ms\tremaining: 145ms\n",
      "47:\tlearn: 21.5054487\ttotal: 67.6ms\tremaining: 144ms\n",
      "48:\tlearn: 21.4452839\ttotal: 68.9ms\tremaining: 142ms\n",
      "49:\tlearn: 21.3779153\ttotal: 70.2ms\tremaining: 140ms\n",
      "50:\tlearn: 21.3566165\ttotal: 71.3ms\tremaining: 138ms\n",
      "51:\tlearn: 21.3218359\ttotal: 72.5ms\tremaining: 137ms\n",
      "52:\tlearn: 21.2943516\ttotal: 73.7ms\tremaining: 135ms\n",
      "53:\tlearn: 21.2285225\ttotal: 75ms\tremaining: 133ms\n",
      "54:\tlearn: 21.1830437\ttotal: 76.3ms\tremaining: 132ms\n",
      "55:\tlearn: 21.1298787\ttotal: 77.5ms\tremaining: 130ms\n",
      "56:\tlearn: 21.0810862\ttotal: 78.8ms\tremaining: 129ms\n",
      "57:\tlearn: 21.0589485\ttotal: 80ms\tremaining: 127ms\n",
      "58:\tlearn: 21.0140660\ttotal: 81.2ms\tremaining: 125ms\n",
      "59:\tlearn: 20.9631289\ttotal: 82.5ms\tremaining: 124ms\n",
      "60:\tlearn: 20.9402706\ttotal: 84.2ms\tremaining: 123ms\n",
      "61:\tlearn: 20.9187950\ttotal: 85.5ms\tremaining: 121ms\n",
      "62:\tlearn: 20.8913049\ttotal: 87.2ms\tremaining: 120ms\n",
      "63:\tlearn: 20.8484852\ttotal: 88.5ms\tremaining: 119ms\n",
      "64:\tlearn: 20.8178307\ttotal: 89.7ms\tremaining: 117ms\n",
      "65:\tlearn: 20.7946340\ttotal: 91ms\tremaining: 116ms\n",
      "66:\tlearn: 20.7500474\ttotal: 92.2ms\tremaining: 114ms\n",
      "67:\tlearn: 20.7457007\ttotal: 93.9ms\tremaining: 113ms\n",
      "68:\tlearn: 20.7349856\ttotal: 95.6ms\tremaining: 112ms\n",
      "69:\tlearn: 20.7101745\ttotal: 97.3ms\tremaining: 111ms\n",
      "70:\tlearn: 20.7016973\ttotal: 99.1ms\tremaining: 110ms\n",
      "71:\tlearn: 20.6685198\ttotal: 101ms\tremaining: 109ms\n",
      "72:\tlearn: 20.6357600\ttotal: 103ms\tremaining: 108ms\n",
      "73:\tlearn: 20.6206906\ttotal: 105ms\tremaining: 108ms\n",
      "74:\tlearn: 20.6000336\ttotal: 107ms\tremaining: 107ms\n",
      "75:\tlearn: 20.5748278\ttotal: 109ms\tremaining: 106ms\n",
      "76:\tlearn: 20.5382169\ttotal: 111ms\tremaining: 105ms\n",
      "77:\tlearn: 20.5100444\ttotal: 112ms\tremaining: 103ms\n",
      "78:\tlearn: 20.4635816\ttotal: 113ms\tremaining: 102ms\n",
      "79:\tlearn: 20.4555027\ttotal: 115ms\tremaining: 100ms\n",
      "80:\tlearn: 20.4063369\ttotal: 116ms\tremaining: 98.8ms\n",
      "81:\tlearn: 20.3723179\ttotal: 117ms\tremaining: 97.3ms\n",
      "82:\tlearn: 20.3599021\ttotal: 119ms\tremaining: 95.7ms\n",
      "83:\tlearn: 20.3298541\ttotal: 120ms\tremaining: 94.3ms\n",
      "84:\tlearn: 20.2979594\ttotal: 121ms\tremaining: 92.8ms\n",
      "85:\tlearn: 20.2674604\ttotal: 123ms\tremaining: 91.4ms\n",
      "86:\tlearn: 20.2644228\ttotal: 124ms\tremaining: 89.9ms\n",
      "87:\tlearn: 20.2286985\ttotal: 125ms\tremaining: 88.4ms\n",
      "88:\tlearn: 20.1825304\ttotal: 127ms\tremaining: 86.8ms\n",
      "89:\tlearn: 20.1426423\ttotal: 128ms\tremaining: 85.3ms\n",
      "90:\tlearn: 20.1004494\ttotal: 129ms\tremaining: 83.7ms\n",
      "91:\tlearn: 20.0846831\ttotal: 130ms\tremaining: 82.1ms\n",
      "92:\tlearn: 20.0421505\ttotal: 131ms\tremaining: 80.5ms\n",
      "93:\tlearn: 20.0003037\ttotal: 133ms\tremaining: 79ms\n",
      "94:\tlearn: 19.9869413\ttotal: 134ms\tremaining: 77.5ms\n",
      "95:\tlearn: 19.9505785\ttotal: 135ms\tremaining: 76.1ms\n",
      "96:\tlearn: 19.9097911\ttotal: 136ms\tremaining: 74.5ms\n",
      "97:\tlearn: 19.8774725\ttotal: 138ms\tremaining: 73ms\n",
      "98:\tlearn: 19.8377552\ttotal: 139ms\tremaining: 71.5ms\n",
      "99:\tlearn: 19.7973649\ttotal: 140ms\tremaining: 70.2ms\n",
      "100:\tlearn: 19.7813249\ttotal: 141ms\tremaining: 68.6ms\n",
      "101:\tlearn: 19.7437145\ttotal: 143ms\tremaining: 67.2ms\n",
      "102:\tlearn: 19.7185195\ttotal: 144ms\tremaining: 65.7ms\n",
      "103:\tlearn: 19.7033079\ttotal: 145ms\tremaining: 64.3ms\n",
      "104:\tlearn: 19.6819667\ttotal: 147ms\tremaining: 62.8ms\n",
      "105:\tlearn: 19.6539263\ttotal: 148ms\tremaining: 61.3ms\n",
      "106:\tlearn: 19.6320117\ttotal: 149ms\tremaining: 60ms\n",
      "107:\tlearn: 19.6135034\ttotal: 151ms\tremaining: 58.8ms\n",
      "108:\tlearn: 19.5708295\ttotal: 153ms\tremaining: 57.5ms\n",
      "109:\tlearn: 19.5372798\ttotal: 155ms\tremaining: 56.2ms\n",
      "110:\tlearn: 19.5062043\ttotal: 157ms\tremaining: 55ms\n",
      "111:\tlearn: 19.5050364\ttotal: 158ms\tremaining: 53.5ms\n",
      "112:\tlearn: 19.4902929\ttotal: 159ms\tremaining: 52ms\n",
      "113:\tlearn: 19.4728171\ttotal: 160ms\tremaining: 50.6ms\n",
      "114:\tlearn: 19.4569918\ttotal: 161ms\tremaining: 49.1ms\n",
      "115:\tlearn: 19.4487799\ttotal: 163ms\tremaining: 47.7ms\n",
      "116:\tlearn: 19.4167451\ttotal: 164ms\tremaining: 46.2ms\n",
      "117:\tlearn: 19.3998203\ttotal: 165ms\tremaining: 44.8ms\n",
      "118:\tlearn: 19.3796703\ttotal: 166ms\tremaining: 43.3ms\n",
      "119:\tlearn: 19.3790210\ttotal: 168ms\tremaining: 42ms\n",
      "120:\tlearn: 19.3580802\ttotal: 169ms\tremaining: 40.6ms\n",
      "121:\tlearn: 19.3337805\ttotal: 170ms\tremaining: 39.1ms\n",
      "122:\tlearn: 19.3144510\ttotal: 172ms\tremaining: 37.7ms\n",
      "123:\tlearn: 19.3071822\ttotal: 173ms\tremaining: 36.2ms\n",
      "124:\tlearn: 19.2930984\ttotal: 174ms\tremaining: 34.8ms\n",
      "125:\tlearn: 19.2629671\ttotal: 176ms\tremaining: 33.4ms\n",
      "126:\tlearn: 19.2343462\ttotal: 177ms\tremaining: 32ms\n",
      "127:\tlearn: 19.1939208\ttotal: 178ms\tremaining: 30.6ms\n",
      "128:\tlearn: 19.1782551\ttotal: 179ms\tremaining: 29.2ms\n",
      "129:\tlearn: 19.1610751\ttotal: 180ms\tremaining: 27.7ms\n",
      "130:\tlearn: 19.1320842\ttotal: 182ms\tremaining: 26.3ms\n",
      "131:\tlearn: 19.1222301\ttotal: 183ms\tremaining: 24.9ms\n",
      "132:\tlearn: 19.0957071\ttotal: 184ms\tremaining: 23.5ms\n",
      "133:\tlearn: 19.0945403\ttotal: 185ms\tremaining: 22.1ms\n",
      "134:\tlearn: 19.0586813\ttotal: 186ms\tremaining: 20.7ms\n",
      "135:\tlearn: 19.0394076\ttotal: 187ms\tremaining: 19.3ms\n",
      "136:\tlearn: 19.0198587\ttotal: 189ms\tremaining: 17.9ms\n",
      "137:\tlearn: 19.0094178\ttotal: 190ms\tremaining: 16.5ms\n",
      "138:\tlearn: 18.9795859\ttotal: 192ms\tremaining: 15.2ms\n",
      "139:\tlearn: 18.9577474\ttotal: 193ms\tremaining: 13.8ms\n",
      "140:\tlearn: 18.9272147\ttotal: 194ms\tremaining: 12.4ms\n",
      "141:\tlearn: 18.9051593\ttotal: 196ms\tremaining: 11ms\n",
      "142:\tlearn: 18.8958642\ttotal: 197ms\tremaining: 9.64ms\n",
      "143:\tlearn: 18.8950947\ttotal: 198ms\tremaining: 8.26ms\n",
      "144:\tlearn: 18.8737461\ttotal: 199ms\tremaining: 6.88ms\n",
      "145:\tlearn: 18.8528271\ttotal: 201ms\tremaining: 5.5ms\n",
      "146:\tlearn: 18.8243008\ttotal: 202ms\tremaining: 4.12ms\n",
      "147:\tlearn: 18.8149624\ttotal: 206ms\tremaining: 2.78ms\n",
      "148:\tlearn: 18.8141753\ttotal: 207ms\tremaining: 1.39ms\n",
      "149:\tlearn: 18.7865802\ttotal: 209ms\tremaining: 0us\n",
      "Learning rate set to 0.427903\n",
      "0:\tlearn: 23.7967484\ttotal: 1.15ms\tremaining: 56.5ms\n",
      "1:\tlearn: 20.8764896\ttotal: 3.7ms\tremaining: 88.9ms\n",
      "2:\tlearn: 18.4988528\ttotal: 12.7ms\tremaining: 199ms\n",
      "3:\tlearn: 16.8409590\ttotal: 19ms\tremaining: 219ms\n",
      "4:\tlearn: 15.9033228\ttotal: 25.6ms\tremaining: 231ms\n",
      "5:\tlearn: 15.1667635\ttotal: 29.2ms\tremaining: 214ms\n",
      "6:\tlearn: 14.5394325\ttotal: 35.5ms\tremaining: 218ms\n",
      "7:\tlearn: 14.0599458\ttotal: 44.3ms\tremaining: 233ms\n",
      "8:\tlearn: 13.5603444\ttotal: 52ms\tremaining: 237ms\n",
      "9:\tlearn: 13.1596666\ttotal: 59.2ms\tremaining: 237ms\n",
      "10:\tlearn: 13.1530989\ttotal: 59.5ms\tremaining: 211ms\n",
      "11:\tlearn: 13.0296782\ttotal: 60.5ms\tremaining: 191ms\n",
      "12:\tlearn: 12.6501460\ttotal: 67.3ms\tremaining: 192ms\n",
      "13:\tlearn: 12.1406035\ttotal: 73.9ms\tremaining: 190ms\n",
      "14:\tlearn: 11.8727342\ttotal: 80.7ms\tremaining: 188ms\n",
      "15:\tlearn: 11.7734935\ttotal: 82.7ms\tremaining: 176ms\n",
      "16:\tlearn: 11.5034046\ttotal: 89.8ms\tremaining: 174ms\n",
      "17:\tlearn: 10.9129158\ttotal: 96.4ms\tremaining: 171ms\n",
      "18:\tlearn: 10.5914217\ttotal: 103ms\tremaining: 168ms\n",
      "19:\tlearn: 10.3939490\ttotal: 110ms\tremaining: 165ms\n",
      "20:\tlearn: 10.1968523\ttotal: 121ms\tremaining: 167ms\n",
      "21:\tlearn: 10.1231358\ttotal: 132ms\tremaining: 168ms\n",
      "22:\tlearn: 9.9211109\ttotal: 143ms\tremaining: 168ms\n",
      "23:\tlearn: 9.7515137\ttotal: 150ms\tremaining: 162ms\n",
      "24:\tlearn: 9.5730764\ttotal: 156ms\tremaining: 156ms\n",
      "25:\tlearn: 9.2290440\ttotal: 163ms\tremaining: 151ms\n",
      "26:\tlearn: 9.0732956\ttotal: 170ms\tremaining: 145ms\n",
      "27:\tlearn: 8.7860346\ttotal: 176ms\tremaining: 138ms\n",
      "28:\tlearn: 8.4803753\ttotal: 184ms\tremaining: 133ms\n",
      "29:\tlearn: 8.3065090\ttotal: 192ms\tremaining: 128ms\n",
      "30:\tlearn: 8.0091392\ttotal: 199ms\tremaining: 122ms\n",
      "31:\tlearn: 7.8199834\ttotal: 205ms\tremaining: 116ms\n",
      "32:\tlearn: 7.5404682\ttotal: 212ms\tremaining: 109ms\n",
      "33:\tlearn: 7.4003081\ttotal: 219ms\tremaining: 103ms\n",
      "34:\tlearn: 7.1325470\ttotal: 225ms\tremaining: 96.6ms\n",
      "35:\tlearn: 7.0751564\ttotal: 232ms\tremaining: 90.4ms\n",
      "36:\tlearn: 7.0245153\ttotal: 239ms\tremaining: 84ms\n",
      "37:\tlearn: 6.8264074\ttotal: 246ms\tremaining: 77.6ms\n",
      "38:\tlearn: 6.6853318\ttotal: 258ms\tremaining: 72.7ms\n",
      "39:\tlearn: 6.4941210\ttotal: 267ms\tremaining: 66.7ms\n",
      "40:\tlearn: 6.4151789\ttotal: 275ms\tremaining: 60.4ms\n",
      "41:\tlearn: 6.2556992\ttotal: 282ms\tremaining: 53.7ms\n",
      "42:\tlearn: 6.1950858\ttotal: 289ms\tremaining: 47.1ms\n",
      "43:\tlearn: 5.9833883\ttotal: 296ms\tremaining: 40.4ms\n",
      "44:\tlearn: 5.8476902\ttotal: 303ms\tremaining: 33.6ms\n",
      "45:\tlearn: 5.7889289\ttotal: 309ms\tremaining: 26.9ms\n",
      "46:\tlearn: 5.5631044\ttotal: 317ms\tremaining: 20.2ms\n",
      "47:\tlearn: 5.4582745\ttotal: 325ms\tremaining: 13.6ms\n",
      "48:\tlearn: 5.3507583\ttotal: 333ms\tremaining: 6.79ms\n",
      "49:\tlearn: 5.2096091\ttotal: 344ms\tremaining: 0us\n",
      "Learning rate set to 0.477163\n",
      "0:\tlearn: 26.1060402\ttotal: 12.5ms\tremaining: 612ms\n",
      "1:\tlearn: 21.7127495\ttotal: 24.3ms\tremaining: 583ms\n",
      "2:\tlearn: 19.5682011\ttotal: 32.7ms\tremaining: 513ms\n",
      "3:\tlearn: 18.1225296\ttotal: 40ms\tremaining: 460ms\n",
      "4:\tlearn: 17.1394033\ttotal: 48.8ms\tremaining: 439ms\n",
      "5:\tlearn: 16.6097004\ttotal: 57ms\tremaining: 418ms\n",
      "6:\tlearn: 16.1376503\ttotal: 64.4ms\tremaining: 395ms\n",
      "7:\tlearn: 16.1010138\ttotal: 64.8ms\tremaining: 340ms\n",
      "8:\tlearn: 15.6794880\ttotal: 72.2ms\tremaining: 329ms\n",
      "9:\tlearn: 15.1831220\ttotal: 79.5ms\tremaining: 318ms\n",
      "10:\tlearn: 14.7640301\ttotal: 87.3ms\tremaining: 310ms\n",
      "11:\tlearn: 14.4740417\ttotal: 98.3ms\tremaining: 311ms\n",
      "12:\tlearn: 14.1782309\ttotal: 112ms\tremaining: 320ms\n",
      "13:\tlearn: 13.6882395\ttotal: 121ms\tremaining: 311ms\n",
      "14:\tlearn: 13.4265624\ttotal: 128ms\tremaining: 299ms\n",
      "15:\tlearn: 13.0473488\ttotal: 138ms\tremaining: 292ms\n",
      "16:\tlearn: 12.9344120\ttotal: 145ms\tremaining: 281ms\n",
      "17:\tlearn: 12.7535862\ttotal: 152ms\tremaining: 270ms\n",
      "18:\tlearn: 12.5845408\ttotal: 159ms\tremaining: 260ms\n",
      "19:\tlearn: 12.2904211\ttotal: 167ms\tremaining: 250ms\n",
      "20:\tlearn: 12.0663665\ttotal: 176ms\tremaining: 243ms\n",
      "21:\tlearn: 11.9163648\ttotal: 184ms\tremaining: 234ms\n",
      "22:\tlearn: 11.7027272\ttotal: 191ms\tremaining: 225ms\n",
      "23:\tlearn: 11.6645345\ttotal: 199ms\tremaining: 216ms\n",
      "24:\tlearn: 11.4609587\ttotal: 207ms\tremaining: 207ms\n",
      "25:\tlearn: 11.3833970\ttotal: 214ms\tremaining: 198ms\n",
      "26:\tlearn: 11.1075591\ttotal: 222ms\tremaining: 189ms\n",
      "27:\tlearn: 11.0881387\ttotal: 229ms\tremaining: 180ms\n",
      "28:\tlearn: 11.0204401\ttotal: 236ms\tremaining: 171ms\n",
      "29:\tlearn: 10.8037176\ttotal: 247ms\tremaining: 165ms\n",
      "30:\tlearn: 10.6566618\ttotal: 255ms\tremaining: 156ms\n",
      "31:\tlearn: 10.6351248\ttotal: 262ms\tremaining: 148ms\n",
      "32:\tlearn: 10.4493580\ttotal: 270ms\tremaining: 139ms\n",
      "33:\tlearn: 10.4191292\ttotal: 278ms\tremaining: 131ms\n",
      "34:\tlearn: 10.3887213\ttotal: 286ms\tremaining: 123ms\n",
      "35:\tlearn: 10.1222227\ttotal: 293ms\tremaining: 114ms\n",
      "36:\tlearn: 10.0749752\ttotal: 301ms\tremaining: 106ms\n",
      "37:\tlearn: 9.9293879\ttotal: 309ms\tremaining: 97.5ms\n",
      "38:\tlearn: 9.7017393\ttotal: 321ms\tremaining: 90.5ms\n",
      "39:\tlearn: 9.6355587\ttotal: 333ms\tremaining: 83.2ms\n",
      "40:\tlearn: 9.4689543\ttotal: 340ms\tremaining: 74.7ms\n",
      "41:\tlearn: 9.3824163\ttotal: 348ms\tremaining: 66.2ms\n",
      "42:\tlearn: 9.2310313\ttotal: 355ms\tremaining: 57.8ms\n",
      "43:\tlearn: 9.2283436\ttotal: 357ms\tremaining: 48.7ms\n",
      "44:\tlearn: 8.9601445\ttotal: 365ms\tremaining: 40.6ms\n",
      "45:\tlearn: 8.8687118\ttotal: 374ms\tremaining: 32.5ms\n",
      "46:\tlearn: 8.6421617\ttotal: 386ms\tremaining: 24.6ms\n",
      "47:\tlearn: 8.5584675\ttotal: 394ms\tremaining: 16.4ms\n",
      "48:\tlearn: 8.4234150\ttotal: 402ms\tremaining: 8.21ms\n",
      "49:\tlearn: 8.2859524\ttotal: 411ms\tremaining: 0us\n",
      "Learning rate set to 0.5\n",
      "0:\tlearn: 24.3873546\ttotal: 9.1ms\tremaining: 446ms\n",
      "1:\tlearn: 21.4644903\ttotal: 17.4ms\tremaining: 418ms\n",
      "2:\tlearn: 20.2584979\ttotal: 30.2ms\tremaining: 473ms\n",
      "3:\tlearn: 19.4768023\ttotal: 43ms\tremaining: 494ms\n",
      "4:\tlearn: 18.8867400\ttotal: 56.1ms\tremaining: 505ms\n",
      "5:\tlearn: 18.4279593\ttotal: 70.1ms\tremaining: 514ms\n",
      "6:\tlearn: 17.8993840\ttotal: 83.1ms\tremaining: 510ms\n",
      "7:\tlearn: 17.4204463\ttotal: 96.1ms\tremaining: 505ms\n",
      "8:\tlearn: 16.9893128\ttotal: 107ms\tremaining: 487ms\n",
      "9:\tlearn: 16.7598637\ttotal: 115ms\tremaining: 461ms\n",
      "10:\tlearn: 16.3280139\ttotal: 123ms\tremaining: 437ms\n",
      "11:\tlearn: 16.0073866\ttotal: 131ms\tremaining: 416ms\n",
      "12:\tlearn: 15.5202112\ttotal: 143ms\tremaining: 408ms\n",
      "13:\tlearn: 15.1609685\ttotal: 156ms\tremaining: 402ms\n",
      "14:\tlearn: 15.0359509\ttotal: 171ms\tremaining: 399ms\n",
      "15:\tlearn: 14.6300333\ttotal: 184ms\tremaining: 392ms\n",
      "16:\tlearn: 14.1429588\ttotal: 198ms\tremaining: 385ms\n",
      "17:\tlearn: 13.8333056\ttotal: 208ms\tremaining: 369ms\n",
      "18:\tlearn: 13.6888879\ttotal: 216ms\tremaining: 353ms\n",
      "19:\tlearn: 13.5629961\ttotal: 229ms\tremaining: 343ms\n",
      "20:\tlearn: 13.2807998\ttotal: 242ms\tremaining: 335ms\n",
      "21:\tlearn: 13.0300356\ttotal: 255ms\tremaining: 325ms\n",
      "22:\tlearn: 12.8073610\ttotal: 264ms\tremaining: 310ms\n",
      "23:\tlearn: 12.6508344\ttotal: 272ms\tremaining: 295ms\n",
      "24:\tlearn: 12.2910336\ttotal: 281ms\tremaining: 281ms\n",
      "25:\tlearn: 12.1095029\ttotal: 289ms\tremaining: 267ms\n",
      "26:\tlearn: 11.8217234\ttotal: 303ms\tremaining: 258ms\n",
      "27:\tlearn: 11.7575648\ttotal: 307ms\tremaining: 241ms\n",
      "28:\tlearn: 11.6190085\ttotal: 316ms\tremaining: 229ms\n",
      "29:\tlearn: 11.5094336\ttotal: 325ms\tremaining: 216ms\n",
      "30:\tlearn: 11.2993239\ttotal: 335ms\tremaining: 205ms\n",
      "31:\tlearn: 11.0892815\ttotal: 343ms\tremaining: 193ms\n",
      "32:\tlearn: 11.0474774\ttotal: 353ms\tremaining: 182ms\n",
      "33:\tlearn: 11.0296979\ttotal: 361ms\tremaining: 170ms\n",
      "34:\tlearn: 10.8195911\ttotal: 372ms\tremaining: 159ms\n",
      "35:\tlearn: 10.5611914\ttotal: 384ms\tremaining: 149ms\n",
      "36:\tlearn: 10.3689989\ttotal: 396ms\tremaining: 139ms\n",
      "37:\tlearn: 10.2067040\ttotal: 406ms\tremaining: 128ms\n",
      "38:\tlearn: 10.0584398\ttotal: 415ms\tremaining: 117ms\n",
      "39:\tlearn: 9.9290053\ttotal: 423ms\tremaining: 106ms\n",
      "40:\tlearn: 9.6828208\ttotal: 431ms\tremaining: 94.7ms\n",
      "41:\tlearn: 9.6765718\ttotal: 440ms\tremaining: 83.8ms\n",
      "42:\tlearn: 9.5145745\ttotal: 448ms\tremaining: 73ms\n",
      "43:\tlearn: 9.3339168\ttotal: 458ms\tremaining: 62.4ms\n",
      "44:\tlearn: 9.2045622\ttotal: 470ms\tremaining: 52.2ms\n",
      "45:\tlearn: 9.1220085\ttotal: 479ms\tremaining: 41.6ms\n",
      "46:\tlearn: 8.9840807\ttotal: 487ms\tremaining: 31.1ms\n",
      "47:\tlearn: 8.9309959\ttotal: 495ms\tremaining: 20.6ms\n",
      "48:\tlearn: 8.8552710\ttotal: 504ms\tremaining: 10.3ms\n",
      "49:\tlearn: 8.7517006\ttotal: 512ms\tremaining: 0us\n",
      "Learning rate set to 0.5\n",
      "0:\tlearn: 29.2934033\ttotal: 9.61ms\tremaining: 471ms\n",
      "1:\tlearn: 24.2364122\ttotal: 18.8ms\tremaining: 451ms\n",
      "2:\tlearn: 22.2941776\ttotal: 28.4ms\tremaining: 446ms\n",
      "3:\tlearn: 21.3072600\ttotal: 39.8ms\tremaining: 458ms\n",
      "4:\tlearn: 20.6749003\ttotal: 52.8ms\tremaining: 475ms\n",
      "5:\tlearn: 20.2307989\ttotal: 64.9ms\tremaining: 476ms\n",
      "6:\tlearn: 19.9550441\ttotal: 73.4ms\tremaining: 451ms\n",
      "7:\tlearn: 19.7206408\ttotal: 81.7ms\tremaining: 429ms\n",
      "8:\tlearn: 19.4851376\ttotal: 90.4ms\tremaining: 412ms\n",
      "9:\tlearn: 19.1873572\ttotal: 99.1ms\tremaining: 396ms\n",
      "10:\tlearn: 19.1149604\ttotal: 102ms\tremaining: 362ms\n",
      "11:\tlearn: 19.1149432\ttotal: 103ms\tremaining: 325ms\n",
      "12:\tlearn: 18.7605955\ttotal: 111ms\tremaining: 316ms\n",
      "13:\tlearn: 18.7269742\ttotal: 112ms\tremaining: 288ms\n",
      "14:\tlearn: 18.4821982\ttotal: 122ms\tremaining: 284ms\n",
      "15:\tlearn: 18.4670250\ttotal: 123ms\tremaining: 261ms\n",
      "16:\tlearn: 18.2497065\ttotal: 134ms\tremaining: 260ms\n",
      "17:\tlearn: 17.9673677\ttotal: 144ms\tremaining: 257ms\n",
      "18:\tlearn: 17.7666930\ttotal: 157ms\tremaining: 256ms\n",
      "19:\tlearn: 17.4068105\ttotal: 165ms\tremaining: 247ms\n",
      "20:\tlearn: 16.9716579\ttotal: 174ms\tremaining: 240ms\n",
      "21:\tlearn: 16.7001710\ttotal: 182ms\tremaining: 232ms\n",
      "22:\tlearn: 16.4692644\ttotal: 191ms\tremaining: 224ms\n",
      "23:\tlearn: 16.3839659\ttotal: 200ms\tremaining: 216ms\n",
      "24:\tlearn: 16.1771979\ttotal: 212ms\tremaining: 212ms\n",
      "25:\tlearn: 15.7653988\ttotal: 228ms\tremaining: 211ms\n",
      "26:\tlearn: 15.5614318\ttotal: 240ms\tremaining: 205ms\n",
      "27:\tlearn: 15.2342950\ttotal: 250ms\tremaining: 196ms\n",
      "28:\tlearn: 15.2118692\ttotal: 258ms\tremaining: 187ms\n",
      "29:\tlearn: 14.9784610\ttotal: 267ms\tremaining: 178ms\n",
      "30:\tlearn: 14.7903561\ttotal: 278ms\tremaining: 170ms\n",
      "31:\tlearn: 14.5562335\ttotal: 287ms\tremaining: 161ms\n",
      "32:\tlearn: 14.3681343\ttotal: 302ms\tremaining: 155ms\n",
      "33:\tlearn: 14.2553176\ttotal: 313ms\tremaining: 147ms\n",
      "34:\tlearn: 14.1437158\ttotal: 323ms\tremaining: 138ms\n",
      "35:\tlearn: 13.9495627\ttotal: 332ms\tremaining: 129ms\n",
      "36:\tlearn: 13.8669179\ttotal: 342ms\tremaining: 120ms\n",
      "37:\tlearn: 13.7129812\ttotal: 356ms\tremaining: 112ms\n",
      "38:\tlearn: 13.4208894\ttotal: 368ms\tremaining: 104ms\n",
      "39:\tlearn: 13.3637915\ttotal: 384ms\tremaining: 96ms\n",
      "40:\tlearn: 13.2260991\ttotal: 395ms\tremaining: 86.7ms\n",
      "41:\tlearn: 13.0491694\ttotal: 404ms\tremaining: 76.9ms\n",
      "42:\tlearn: 12.8949924\ttotal: 412ms\tremaining: 67.1ms\n",
      "43:\tlearn: 12.7881787\ttotal: 421ms\tremaining: 57.4ms\n",
      "44:\tlearn: 12.6640122\ttotal: 430ms\tremaining: 47.7ms\n",
      "45:\tlearn: 12.3885624\ttotal: 439ms\tremaining: 38.2ms\n",
      "46:\tlearn: 12.3606374\ttotal: 442ms\tremaining: 28.2ms\n",
      "47:\tlearn: 12.3329134\ttotal: 454ms\tremaining: 18.9ms\n",
      "48:\tlearn: 12.2654630\ttotal: 467ms\tremaining: 9.53ms\n",
      "49:\tlearn: 12.0062094\ttotal: 477ms\tremaining: 0us\n",
      "Learning rate set to 0.5\n",
      "0:\tlearn: 29.4841781\ttotal: 14.8ms\tremaining: 724ms\n",
      "1:\tlearn: 24.9456261\ttotal: 20.1ms\tremaining: 482ms\n",
      "2:\tlearn: 22.9497539\ttotal: 34.4ms\tremaining: 540ms\n",
      "3:\tlearn: 22.0171864\ttotal: 48.4ms\tremaining: 557ms\n",
      "4:\tlearn: 21.6033098\ttotal: 57.1ms\tremaining: 514ms\n",
      "5:\tlearn: 21.1757292\ttotal: 66.3ms\tremaining: 486ms\n",
      "6:\tlearn: 20.8931007\ttotal: 76.7ms\tremaining: 471ms\n",
      "7:\tlearn: 20.4848622\ttotal: 85.5ms\tremaining: 449ms\n",
      "8:\tlearn: 20.0134809\ttotal: 98ms\tremaining: 447ms\n",
      "9:\tlearn: 19.8514099\ttotal: 113ms\tremaining: 450ms\n",
      "10:\tlearn: 19.4090614\ttotal: 127ms\tremaining: 449ms\n",
      "11:\tlearn: 19.1221837\ttotal: 136ms\tremaining: 429ms\n",
      "12:\tlearn: 19.0304157\ttotal: 146ms\tremaining: 415ms\n",
      "13:\tlearn: 18.7086718\ttotal: 156ms\tremaining: 400ms\n",
      "14:\tlearn: 18.5456442\ttotal: 164ms\tremaining: 383ms\n",
      "15:\tlearn: 18.2610101\ttotal: 174ms\tremaining: 370ms\n",
      "16:\tlearn: 18.0164155\ttotal: 186ms\tremaining: 360ms\n",
      "17:\tlearn: 17.9340921\ttotal: 198ms\tremaining: 352ms\n",
      "18:\tlearn: 17.7101782\ttotal: 209ms\tremaining: 342ms\n",
      "19:\tlearn: 17.6812059\ttotal: 219ms\tremaining: 329ms\n",
      "20:\tlearn: 17.5298952\ttotal: 228ms\tremaining: 315ms\n",
      "21:\tlearn: 17.2918236\ttotal: 237ms\tremaining: 302ms\n",
      "22:\tlearn: 17.1241208\ttotal: 248ms\tremaining: 291ms\n",
      "23:\tlearn: 16.9750850\ttotal: 257ms\tremaining: 278ms\n",
      "24:\tlearn: 16.6578398\ttotal: 266ms\tremaining: 266ms\n",
      "25:\tlearn: 16.5032428\ttotal: 279ms\tremaining: 258ms\n",
      "26:\tlearn: 16.1826768\ttotal: 289ms\tremaining: 246ms\n",
      "27:\tlearn: 16.0920444\ttotal: 298ms\tremaining: 234ms\n",
      "28:\tlearn: 15.7696294\ttotal: 307ms\tremaining: 222ms\n",
      "29:\tlearn: 15.6033096\ttotal: 316ms\tremaining: 211ms\n",
      "30:\tlearn: 15.3415751\ttotal: 326ms\tremaining: 200ms\n",
      "31:\tlearn: 15.0968129\ttotal: 334ms\tremaining: 188ms\n",
      "32:\tlearn: 14.9642351\ttotal: 346ms\tremaining: 178ms\n",
      "33:\tlearn: 14.8413013\ttotal: 355ms\tremaining: 167ms\n",
      "34:\tlearn: 14.7182949\ttotal: 364ms\tremaining: 156ms\n",
      "35:\tlearn: 14.6494969\ttotal: 374ms\tremaining: 146ms\n",
      "36:\tlearn: 14.4549089\ttotal: 383ms\tremaining: 135ms\n",
      "37:\tlearn: 14.4468115\ttotal: 393ms\tremaining: 124ms\n",
      "38:\tlearn: 14.3098828\ttotal: 402ms\tremaining: 113ms\n",
      "39:\tlearn: 14.0962356\ttotal: 412ms\tremaining: 103ms\n",
      "40:\tlearn: 13.9822878\ttotal: 423ms\tremaining: 93ms\n",
      "41:\tlearn: 13.8557569\ttotal: 433ms\tremaining: 82.4ms\n",
      "42:\tlearn: 13.7713297\ttotal: 442ms\tremaining: 72ms\n",
      "43:\tlearn: 13.6384569\ttotal: 453ms\tremaining: 61.8ms\n",
      "44:\tlearn: 13.5596313\ttotal: 462ms\tremaining: 51.3ms\n",
      "45:\tlearn: 13.2780923\ttotal: 471ms\tremaining: 41ms\n",
      "46:\tlearn: 13.1685711\ttotal: 480ms\tremaining: 30.6ms\n",
      "47:\tlearn: 13.0922824\ttotal: 492ms\tremaining: 20.5ms\n",
      "48:\tlearn: 12.9902579\ttotal: 504ms\tremaining: 10.3ms\n",
      "49:\tlearn: 12.9083335\ttotal: 513ms\tremaining: 0us\n",
      "Learning rate set to 0.5\n",
      "0:\tlearn: 30.3349200\ttotal: 9.72ms\tremaining: 476ms\n",
      "1:\tlearn: 25.8534141\ttotal: 19.1ms\tremaining: 459ms\n",
      "2:\tlearn: 23.6956912\ttotal: 28.3ms\tremaining: 443ms\n",
      "3:\tlearn: 22.8204898\ttotal: 37.3ms\tremaining: 429ms\n",
      "4:\tlearn: 22.2274534\ttotal: 46.2ms\tremaining: 416ms\n",
      "5:\tlearn: 21.9778653\ttotal: 51.7ms\tremaining: 379ms\n",
      "6:\tlearn: 21.6865749\ttotal: 61ms\tremaining: 375ms\n",
      "7:\tlearn: 21.3733497\ttotal: 72.3ms\tremaining: 379ms\n",
      "8:\tlearn: 21.1747530\ttotal: 83ms\tremaining: 378ms\n",
      "9:\tlearn: 20.8986669\ttotal: 92.4ms\tremaining: 370ms\n",
      "10:\tlearn: 20.5385755\ttotal: 101ms\tremaining: 359ms\n",
      "11:\tlearn: 20.1308221\ttotal: 111ms\tremaining: 351ms\n",
      "12:\tlearn: 19.9221103\ttotal: 121ms\tremaining: 343ms\n",
      "13:\tlearn: 19.7666476\ttotal: 130ms\tremaining: 334ms\n",
      "14:\tlearn: 19.4487204\ttotal: 139ms\tremaining: 325ms\n",
      "15:\tlearn: 19.1635572\ttotal: 149ms\tremaining: 317ms\n",
      "16:\tlearn: 18.9422839\ttotal: 159ms\tremaining: 308ms\n",
      "17:\tlearn: 18.6121073\ttotal: 168ms\tremaining: 298ms\n",
      "18:\tlearn: 18.5220841\ttotal: 177ms\tremaining: 288ms\n",
      "19:\tlearn: 18.3342559\ttotal: 187ms\tremaining: 280ms\n",
      "20:\tlearn: 18.1971377\ttotal: 197ms\tremaining: 272ms\n",
      "21:\tlearn: 18.0231506\ttotal: 212ms\tremaining: 270ms\n",
      "22:\tlearn: 17.8324647\ttotal: 227ms\tremaining: 266ms\n",
      "23:\tlearn: 17.7066248\ttotal: 242ms\tremaining: 262ms\n",
      "24:\tlearn: 17.6005967\ttotal: 251ms\tremaining: 251ms\n",
      "25:\tlearn: 17.4930157\ttotal: 261ms\tremaining: 241ms\n",
      "26:\tlearn: 17.2904163\ttotal: 271ms\tremaining: 231ms\n",
      "27:\tlearn: 17.1139468\ttotal: 280ms\tremaining: 220ms\n",
      "28:\tlearn: 16.9573492\ttotal: 289ms\tremaining: 209ms\n",
      "29:\tlearn: 16.9133679\ttotal: 299ms\tremaining: 200ms\n",
      "30:\tlearn: 16.7986434\ttotal: 314ms\tremaining: 193ms\n",
      "31:\tlearn: 16.5399420\ttotal: 325ms\tremaining: 183ms\n",
      "32:\tlearn: 16.3864350\ttotal: 335ms\tremaining: 173ms\n",
      "33:\tlearn: 16.2476967\ttotal: 345ms\tremaining: 162ms\n",
      "34:\tlearn: 16.0726707\ttotal: 354ms\tremaining: 152ms\n",
      "35:\tlearn: 16.0110595\ttotal: 364ms\tremaining: 141ms\n",
      "36:\tlearn: 15.8476316\ttotal: 379ms\tremaining: 133ms\n",
      "37:\tlearn: 15.6665752\ttotal: 395ms\tremaining: 125ms\n",
      "38:\tlearn: 15.5374805\ttotal: 406ms\tremaining: 115ms\n",
      "39:\tlearn: 15.3990867\ttotal: 415ms\tremaining: 104ms\n",
      "40:\tlearn: 15.2838439\ttotal: 425ms\tremaining: 93.2ms\n",
      "41:\tlearn: 15.2733926\ttotal: 434ms\tremaining: 82.6ms\n",
      "42:\tlearn: 15.1274520\ttotal: 443ms\tremaining: 72.1ms\n",
      "43:\tlearn: 14.9524755\ttotal: 458ms\tremaining: 62.5ms\n",
      "44:\tlearn: 14.8841115\ttotal: 471ms\tremaining: 52.3ms\n",
      "45:\tlearn: 14.7182016\ttotal: 480ms\tremaining: 41.8ms\n",
      "46:\tlearn: 14.5441566\ttotal: 490ms\tremaining: 31.3ms\n",
      "47:\tlearn: 14.4284972\ttotal: 499ms\tremaining: 20.8ms\n",
      "48:\tlearn: 14.3828789\ttotal: 508ms\tremaining: 10.4ms\n",
      "49:\tlearn: 14.2182248\ttotal: 517ms\tremaining: 0us\n",
      "Learning rate set to 0.243561\n",
      "0:\tlearn: 26.0800993\ttotal: 1.13ms\tremaining: 112ms\n",
      "1:\tlearn: 23.7838006\ttotal: 1.81ms\tremaining: 88.8ms\n",
      "2:\tlearn: 22.1968134\ttotal: 2.22ms\tremaining: 71.9ms\n",
      "3:\tlearn: 20.9618786\ttotal: 2.67ms\tremaining: 64.1ms\n",
      "4:\tlearn: 19.9931194\ttotal: 3.09ms\tremaining: 58.8ms\n",
      "5:\tlearn: 18.8372904\ttotal: 10.4ms\tremaining: 163ms\n",
      "6:\tlearn: 17.8312807\ttotal: 17.8ms\tremaining: 237ms\n",
      "7:\tlearn: 17.1244328\ttotal: 24.6ms\tremaining: 283ms\n",
      "8:\tlearn: 16.7215693\ttotal: 25.6ms\tremaining: 259ms\n",
      "9:\tlearn: 16.1824923\ttotal: 32.9ms\tremaining: 296ms\n",
      "10:\tlearn: 15.5637033\ttotal: 42ms\tremaining: 340ms\n",
      "11:\tlearn: 15.4561674\ttotal: 42.8ms\tremaining: 314ms\n",
      "12:\tlearn: 15.0957643\ttotal: 54.4ms\tremaining: 364ms\n",
      "13:\tlearn: 14.6816604\ttotal: 65.1ms\tremaining: 400ms\n",
      "14:\tlearn: 14.2675484\ttotal: 71.9ms\tremaining: 407ms\n",
      "15:\tlearn: 14.0338519\ttotal: 78.3ms\tremaining: 411ms\n",
      "16:\tlearn: 13.6733050\ttotal: 85.2ms\tremaining: 416ms\n",
      "17:\tlearn: 13.4939583\ttotal: 91.9ms\tremaining: 419ms\n",
      "18:\tlearn: 13.4194195\ttotal: 92.8ms\tremaining: 396ms\n",
      "19:\tlearn: 13.3708514\ttotal: 93.3ms\tremaining: 373ms\n",
      "20:\tlearn: 13.1616632\ttotal: 100ms\tremaining: 378ms\n",
      "21:\tlearn: 12.9985717\ttotal: 107ms\tremaining: 380ms\n",
      "22:\tlearn: 12.6599892\ttotal: 116ms\tremaining: 388ms\n",
      "23:\tlearn: 12.4125725\ttotal: 124ms\tremaining: 393ms\n",
      "24:\tlearn: 12.2684472\ttotal: 128ms\tremaining: 384ms\n",
      "25:\tlearn: 12.0861012\ttotal: 135ms\tremaining: 385ms\n",
      "26:\tlearn: 11.9396898\ttotal: 143ms\tremaining: 387ms\n",
      "27:\tlearn: 11.6442452\ttotal: 150ms\tremaining: 385ms\n",
      "28:\tlearn: 11.5103220\ttotal: 156ms\tremaining: 382ms\n",
      "29:\tlearn: 11.2963243\ttotal: 163ms\tremaining: 380ms\n",
      "30:\tlearn: 11.0722625\ttotal: 169ms\tremaining: 377ms\n",
      "31:\tlearn: 10.8828273\ttotal: 176ms\tremaining: 373ms\n",
      "32:\tlearn: 10.7066914\ttotal: 183ms\tremaining: 371ms\n",
      "33:\tlearn: 10.5476190\ttotal: 192ms\tremaining: 374ms\n",
      "34:\tlearn: 10.4819105\ttotal: 199ms\tremaining: 370ms\n",
      "35:\tlearn: 10.1953245\ttotal: 206ms\tremaining: 366ms\n",
      "36:\tlearn: 10.1073000\ttotal: 213ms\tremaining: 362ms\n",
      "37:\tlearn: 9.9253432\ttotal: 219ms\tremaining: 357ms\n",
      "38:\tlearn: 9.8369994\ttotal: 226ms\tremaining: 353ms\n",
      "39:\tlearn: 9.7680476\ttotal: 232ms\tremaining: 348ms\n",
      "40:\tlearn: 9.6567755\ttotal: 239ms\tremaining: 343ms\n",
      "41:\tlearn: 9.5353458\ttotal: 245ms\tremaining: 339ms\n",
      "42:\tlearn: 9.4129234\ttotal: 265ms\tremaining: 351ms\n",
      "43:\tlearn: 9.2901259\ttotal: 272ms\tremaining: 347ms\n",
      "44:\tlearn: 9.1329898\ttotal: 279ms\tremaining: 341ms\n",
      "45:\tlearn: 8.9601384\ttotal: 287ms\tremaining: 337ms\n",
      "46:\tlearn: 8.9116893\ttotal: 294ms\tremaining: 331ms\n",
      "47:\tlearn: 8.8099047\ttotal: 301ms\tremaining: 326ms\n",
      "48:\tlearn: 8.7427220\ttotal: 308ms\tremaining: 321ms\n",
      "49:\tlearn: 8.5482172\ttotal: 315ms\tremaining: 315ms\n",
      "50:\tlearn: 8.4644018\ttotal: 321ms\tremaining: 309ms\n",
      "51:\tlearn: 8.3905002\ttotal: 330ms\tremaining: 304ms\n",
      "52:\tlearn: 8.1769990\ttotal: 339ms\tremaining: 301ms\n",
      "53:\tlearn: 8.0099578\ttotal: 348ms\tremaining: 297ms\n",
      "54:\tlearn: 7.9409355\ttotal: 359ms\tremaining: 293ms\n",
      "55:\tlearn: 7.8720957\ttotal: 369ms\tremaining: 290ms\n",
      "56:\tlearn: 7.7102964\ttotal: 379ms\tremaining: 286ms\n",
      "57:\tlearn: 7.6609242\ttotal: 390ms\tremaining: 282ms\n",
      "58:\tlearn: 7.5172379\ttotal: 400ms\tremaining: 278ms\n",
      "59:\tlearn: 7.4209136\ttotal: 410ms\tremaining: 274ms\n",
      "60:\tlearn: 7.3492759\ttotal: 418ms\tremaining: 267ms\n",
      "61:\tlearn: 7.2132432\ttotal: 429ms\tremaining: 263ms\n",
      "62:\tlearn: 7.0619148\ttotal: 440ms\tremaining: 258ms\n",
      "63:\tlearn: 7.0328439\ttotal: 448ms\tremaining: 252ms\n",
      "64:\tlearn: 6.8895343\ttotal: 455ms\tremaining: 245ms\n",
      "65:\tlearn: 6.7779582\ttotal: 463ms\tremaining: 239ms\n",
      "66:\tlearn: 6.7114897\ttotal: 470ms\tremaining: 232ms\n",
      "67:\tlearn: 6.6496714\ttotal: 477ms\tremaining: 224ms\n",
      "68:\tlearn: 6.5533572\ttotal: 484ms\tremaining: 217ms\n",
      "69:\tlearn: 6.5215875\ttotal: 490ms\tremaining: 210ms\n",
      "70:\tlearn: 6.4431930\ttotal: 497ms\tremaining: 203ms\n",
      "71:\tlearn: 6.4159895\ttotal: 507ms\tremaining: 197ms\n",
      "72:\tlearn: 6.3271176\ttotal: 514ms\tremaining: 190ms\n",
      "73:\tlearn: 6.2876143\ttotal: 521ms\tremaining: 183ms\n",
      "74:\tlearn: 6.2476776\ttotal: 527ms\tremaining: 176ms\n",
      "75:\tlearn: 6.1161598\ttotal: 534ms\tremaining: 169ms\n",
      "76:\tlearn: 6.0855268\ttotal: 540ms\tremaining: 161ms\n",
      "77:\tlearn: 5.9946298\ttotal: 547ms\tremaining: 154ms\n",
      "78:\tlearn: 5.9170935\ttotal: 553ms\tremaining: 147ms\n",
      "79:\tlearn: 5.8756266\ttotal: 560ms\tremaining: 140ms\n",
      "80:\tlearn: 5.8609929\ttotal: 566ms\tremaining: 133ms\n",
      "81:\tlearn: 5.6799619\ttotal: 575ms\tremaining: 126ms\n",
      "82:\tlearn: 5.5941807\ttotal: 585ms\tremaining: 120ms\n",
      "83:\tlearn: 5.5577845\ttotal: 592ms\tremaining: 113ms\n",
      "84:\tlearn: 5.4640897\ttotal: 599ms\tremaining: 106ms\n",
      "85:\tlearn: 5.4281085\ttotal: 608ms\tremaining: 98.9ms\n",
      "86:\tlearn: 5.3691673\ttotal: 614ms\tremaining: 91.8ms\n",
      "87:\tlearn: 5.3078865\ttotal: 622ms\tremaining: 84.8ms\n",
      "88:\tlearn: 5.2205468\ttotal: 628ms\tremaining: 77.6ms\n",
      "89:\tlearn: 5.2000920\ttotal: 635ms\tremaining: 70.5ms\n",
      "90:\tlearn: 5.1715897\ttotal: 641ms\tremaining: 63.4ms\n",
      "91:\tlearn: 5.0648355\ttotal: 651ms\tremaining: 56.6ms\n",
      "92:\tlearn: 5.0038381\ttotal: 662ms\tremaining: 49.8ms\n",
      "93:\tlearn: 4.9233786\ttotal: 670ms\tremaining: 42.8ms\n",
      "94:\tlearn: 4.8733104\ttotal: 677ms\tremaining: 35.6ms\n",
      "95:\tlearn: 4.7992942\ttotal: 683ms\tremaining: 28.5ms\n",
      "96:\tlearn: 4.7264316\ttotal: 690ms\tremaining: 21.3ms\n",
      "97:\tlearn: 4.6694407\ttotal: 697ms\tremaining: 14.2ms\n",
      "98:\tlearn: 4.6446674\ttotal: 704ms\tremaining: 7.11ms\n",
      "99:\tlearn: 4.6256196\ttotal: 715ms\tremaining: 0us\n",
      "Learning rate set to 0.2716\n",
      "0:\tlearn: 27.3870514\ttotal: 9.21ms\tremaining: 912ms\n",
      "1:\tlearn: 24.3310446\ttotal: 16.6ms\tremaining: 814ms\n",
      "2:\tlearn: 22.1301967\ttotal: 23.9ms\tremaining: 772ms\n",
      "3:\tlearn: 20.7036622\ttotal: 31.2ms\tremaining: 749ms\n",
      "4:\tlearn: 19.5051026\ttotal: 38.5ms\tremaining: 732ms\n",
      "5:\tlearn: 18.7584846\ttotal: 45.7ms\tremaining: 717ms\n",
      "6:\tlearn: 18.0568675\ttotal: 52.9ms\tremaining: 702ms\n",
      "7:\tlearn: 17.4844378\ttotal: 61.3ms\tremaining: 705ms\n",
      "8:\tlearn: 17.0533974\ttotal: 69.9ms\tremaining: 707ms\n",
      "9:\tlearn: 16.7129846\ttotal: 77.2ms\tremaining: 695ms\n",
      "10:\tlearn: 16.3475084\ttotal: 84.1ms\tremaining: 681ms\n",
      "11:\tlearn: 15.9829893\ttotal: 91.6ms\tremaining: 672ms\n",
      "12:\tlearn: 15.6968892\ttotal: 99.8ms\tremaining: 668ms\n",
      "13:\tlearn: 15.3706226\ttotal: 108ms\tremaining: 661ms\n",
      "14:\tlearn: 15.1939631\ttotal: 116ms\tremaining: 656ms\n",
      "15:\tlearn: 14.9779945\ttotal: 125ms\tremaining: 654ms\n",
      "16:\tlearn: 14.7623335\ttotal: 137ms\tremaining: 670ms\n",
      "17:\tlearn: 14.5139886\ttotal: 147ms\tremaining: 669ms\n",
      "18:\tlearn: 14.3054262\ttotal: 155ms\tremaining: 660ms\n",
      "19:\tlearn: 14.1166782\ttotal: 163ms\tremaining: 650ms\n",
      "20:\tlearn: 13.9029860\ttotal: 170ms\tremaining: 640ms\n",
      "21:\tlearn: 13.7567016\ttotal: 177ms\tremaining: 629ms\n",
      "22:\tlearn: 13.5761520\ttotal: 185ms\tremaining: 619ms\n",
      "23:\tlearn: 13.4768766\ttotal: 202ms\tremaining: 641ms\n",
      "24:\tlearn: 13.3435194\ttotal: 211ms\tremaining: 632ms\n",
      "25:\tlearn: 13.2168690\ttotal: 219ms\tremaining: 622ms\n",
      "26:\tlearn: 13.1328092\ttotal: 226ms\tremaining: 612ms\n",
      "27:\tlearn: 12.9424924\ttotal: 234ms\tremaining: 602ms\n",
      "28:\tlearn: 12.7780785\ttotal: 242ms\tremaining: 591ms\n",
      "29:\tlearn: 12.6459557\ttotal: 249ms\tremaining: 581ms\n",
      "30:\tlearn: 12.5252807\ttotal: 256ms\tremaining: 570ms\n",
      "31:\tlearn: 12.4333170\ttotal: 264ms\tremaining: 561ms\n",
      "32:\tlearn: 12.3459267\ttotal: 276ms\tremaining: 561ms\n",
      "33:\tlearn: 12.3417589\ttotal: 277ms\tremaining: 538ms\n",
      "34:\tlearn: 12.2054972\ttotal: 288ms\tremaining: 536ms\n",
      "35:\tlearn: 12.1026918\ttotal: 297ms\tremaining: 527ms\n",
      "36:\tlearn: 11.9570519\ttotal: 304ms\tremaining: 518ms\n",
      "37:\tlearn: 11.6923201\ttotal: 311ms\tremaining: 508ms\n",
      "38:\tlearn: 11.5918370\ttotal: 319ms\tremaining: 499ms\n",
      "39:\tlearn: 11.5379574\ttotal: 326ms\tremaining: 489ms\n",
      "40:\tlearn: 11.4223681\ttotal: 334ms\tremaining: 480ms\n",
      "41:\tlearn: 11.3993366\ttotal: 342ms\tremaining: 473ms\n",
      "42:\tlearn: 11.2869605\ttotal: 360ms\tremaining: 477ms\n",
      "43:\tlearn: 11.2735685\ttotal: 374ms\tremaining: 476ms\n",
      "44:\tlearn: 11.1534827\ttotal: 385ms\tremaining: 470ms\n",
      "45:\tlearn: 11.0338734\ttotal: 397ms\tremaining: 466ms\n",
      "46:\tlearn: 10.8414649\ttotal: 407ms\tremaining: 459ms\n",
      "47:\tlearn: 10.7061936\ttotal: 419ms\tremaining: 454ms\n",
      "48:\tlearn: 10.5448582\ttotal: 430ms\tremaining: 448ms\n",
      "49:\tlearn: 10.5329247\ttotal: 444ms\tremaining: 444ms\n",
      "50:\tlearn: 10.4754443\ttotal: 457ms\tremaining: 439ms\n",
      "51:\tlearn: 10.4369194\ttotal: 469ms\tremaining: 433ms\n",
      "52:\tlearn: 10.2932168\ttotal: 481ms\tremaining: 426ms\n",
      "53:\tlearn: 10.1506221\ttotal: 490ms\tremaining: 417ms\n",
      "54:\tlearn: 9.9956322\ttotal: 501ms\tremaining: 410ms\n",
      "55:\tlearn: 9.8776696\ttotal: 510ms\tremaining: 401ms\n",
      "56:\tlearn: 9.8243270\ttotal: 520ms\tremaining: 392ms\n",
      "57:\tlearn: 9.7181182\ttotal: 529ms\tremaining: 383ms\n",
      "58:\tlearn: 9.5865708\ttotal: 538ms\tremaining: 374ms\n",
      "59:\tlearn: 9.5285555\ttotal: 550ms\tremaining: 367ms\n",
      "60:\tlearn: 9.5215339\ttotal: 552ms\tremaining: 353ms\n",
      "61:\tlearn: 9.3378929\ttotal: 564ms\tremaining: 346ms\n",
      "62:\tlearn: 9.2836926\ttotal: 575ms\tremaining: 338ms\n",
      "63:\tlearn: 9.1325877\ttotal: 588ms\tremaining: 331ms\n",
      "64:\tlearn: 9.0844612\ttotal: 601ms\tremaining: 324ms\n",
      "65:\tlearn: 9.0213484\ttotal: 612ms\tremaining: 315ms\n",
      "66:\tlearn: 8.9449904\ttotal: 622ms\tremaining: 306ms\n",
      "67:\tlearn: 8.9323167\ttotal: 634ms\tremaining: 298ms\n",
      "68:\tlearn: 8.8131513\ttotal: 644ms\tremaining: 290ms\n",
      "69:\tlearn: 8.7765821\ttotal: 655ms\tremaining: 281ms\n",
      "70:\tlearn: 8.6260216\ttotal: 666ms\tremaining: 272ms\n",
      "71:\tlearn: 8.5954714\ttotal: 677ms\tremaining: 263ms\n",
      "72:\tlearn: 8.5338204\ttotal: 689ms\tremaining: 255ms\n",
      "73:\tlearn: 8.5104373\ttotal: 701ms\tremaining: 246ms\n",
      "74:\tlearn: 8.4223153\ttotal: 713ms\tremaining: 238ms\n",
      "75:\tlearn: 8.3606063\ttotal: 724ms\tremaining: 229ms\n",
      "76:\tlearn: 8.3272408\ttotal: 733ms\tremaining: 219ms\n",
      "77:\tlearn: 8.2441483\ttotal: 747ms\tremaining: 211ms\n",
      "78:\tlearn: 8.2325494\ttotal: 757ms\tremaining: 201ms\n",
      "79:\tlearn: 8.1716938\ttotal: 767ms\tremaining: 192ms\n",
      "80:\tlearn: 8.1072388\ttotal: 778ms\tremaining: 183ms\n",
      "81:\tlearn: 7.9767458\ttotal: 787ms\tremaining: 173ms\n",
      "82:\tlearn: 7.9677620\ttotal: 794ms\tremaining: 163ms\n",
      "83:\tlearn: 7.9221863\ttotal: 808ms\tremaining: 154ms\n",
      "84:\tlearn: 7.8859347\ttotal: 821ms\tremaining: 145ms\n",
      "85:\tlearn: 7.8612192\ttotal: 834ms\tremaining: 136ms\n",
      "86:\tlearn: 7.7563359\ttotal: 847ms\tremaining: 127ms\n",
      "87:\tlearn: 7.7111005\ttotal: 856ms\tremaining: 117ms\n",
      "88:\tlearn: 7.6791164\ttotal: 864ms\tremaining: 107ms\n",
      "89:\tlearn: 7.6763317\ttotal: 876ms\tremaining: 97.3ms\n",
      "90:\tlearn: 7.5405776\ttotal: 888ms\tremaining: 87.8ms\n",
      "91:\tlearn: 7.4584437\ttotal: 897ms\tremaining: 78ms\n",
      "92:\tlearn: 7.3738187\ttotal: 905ms\tremaining: 68.1ms\n",
      "93:\tlearn: 7.2915358\ttotal: 912ms\tremaining: 58.2ms\n",
      "94:\tlearn: 7.2416556\ttotal: 920ms\tremaining: 48.4ms\n",
      "95:\tlearn: 7.1778100\ttotal: 928ms\tremaining: 38.7ms\n",
      "96:\tlearn: 7.1147476\ttotal: 936ms\tremaining: 28.9ms\n",
      "97:\tlearn: 7.0370051\ttotal: 943ms\tremaining: 19.2ms\n",
      "98:\tlearn: 6.9966237\ttotal: 950ms\tremaining: 9.6ms\n",
      "99:\tlearn: 6.9676648\ttotal: 957ms\tremaining: 0us\n",
      "Learning rate set to 0.289515\n",
      "0:\tlearn: 26.9034407\ttotal: 9.05ms\tremaining: 896ms\n",
      "1:\tlearn: 24.2163022\ttotal: 18.1ms\tremaining: 888ms\n",
      "2:\tlearn: 22.4109314\ttotal: 30.5ms\tremaining: 986ms\n",
      "3:\tlearn: 21.2004129\ttotal: 42.5ms\tremaining: 1.02s\n",
      "4:\tlearn: 20.2377742\ttotal: 54.3ms\tremaining: 1.03s\n",
      "5:\tlearn: 19.5706924\ttotal: 63.6ms\tremaining: 996ms\n",
      "6:\tlearn: 19.0476255\ttotal: 73.3ms\tremaining: 973ms\n",
      "7:\tlearn: 18.7224934\ttotal: 81.7ms\tremaining: 940ms\n",
      "8:\tlearn: 18.3609466\ttotal: 90.4ms\tremaining: 914ms\n",
      "9:\tlearn: 18.0899922\ttotal: 100ms\tremaining: 900ms\n",
      "10:\tlearn: 17.8952442\ttotal: 114ms\tremaining: 920ms\n",
      "11:\tlearn: 17.8801765\ttotal: 114ms\tremaining: 837ms\n",
      "12:\tlearn: 17.6953941\ttotal: 134ms\tremaining: 894ms\n",
      "13:\tlearn: 17.4814957\ttotal: 147ms\tremaining: 901ms\n",
      "14:\tlearn: 17.2734347\ttotal: 156ms\tremaining: 884ms\n",
      "15:\tlearn: 17.0138828\ttotal: 164ms\tremaining: 862ms\n",
      "16:\tlearn: 16.6906904\ttotal: 173ms\tremaining: 845ms\n",
      "17:\tlearn: 16.3885266\ttotal: 187ms\tremaining: 850ms\n",
      "18:\tlearn: 16.2552565\ttotal: 199ms\tremaining: 849ms\n",
      "19:\tlearn: 16.1134354\ttotal: 211ms\tremaining: 846ms\n",
      "20:\tlearn: 15.8750694\ttotal: 221ms\tremaining: 831ms\n",
      "21:\tlearn: 15.7138334\ttotal: 229ms\tremaining: 812ms\n",
      "22:\tlearn: 15.5194994\ttotal: 241ms\tremaining: 808ms\n",
      "23:\tlearn: 15.3317038\ttotal: 254ms\tremaining: 804ms\n",
      "24:\tlearn: 15.2069121\ttotal: 264ms\tremaining: 791ms\n",
      "25:\tlearn: 15.0096651\ttotal: 274ms\tremaining: 781ms\n",
      "26:\tlearn: 14.9408989\ttotal: 286ms\tremaining: 773ms\n",
      "27:\tlearn: 14.8310546\ttotal: 296ms\tremaining: 761ms\n",
      "28:\tlearn: 14.8280660\ttotal: 297ms\tremaining: 726ms\n",
      "29:\tlearn: 14.7006856\ttotal: 305ms\tremaining: 711ms\n",
      "30:\tlearn: 14.5750096\ttotal: 313ms\tremaining: 696ms\n",
      "31:\tlearn: 14.4712586\ttotal: 321ms\tremaining: 682ms\n",
      "32:\tlearn: 14.3936243\ttotal: 333ms\tremaining: 676ms\n",
      "33:\tlearn: 14.1794291\ttotal: 342ms\tremaining: 664ms\n",
      "34:\tlearn: 14.1007214\ttotal: 352ms\tremaining: 654ms\n",
      "35:\tlearn: 13.8942038\ttotal: 361ms\tremaining: 642ms\n",
      "36:\tlearn: 13.7662149\ttotal: 371ms\tremaining: 631ms\n",
      "37:\tlearn: 13.5689454\ttotal: 380ms\tremaining: 619ms\n",
      "38:\tlearn: 13.5017029\ttotal: 391ms\tremaining: 612ms\n",
      "39:\tlearn: 13.4698774\ttotal: 405ms\tremaining: 608ms\n",
      "40:\tlearn: 13.4006478\ttotal: 414ms\tremaining: 595ms\n",
      "41:\tlearn: 13.2111867\ttotal: 422ms\tremaining: 582ms\n",
      "42:\tlearn: 13.2077419\ttotal: 430ms\tremaining: 570ms\n",
      "43:\tlearn: 13.1574051\ttotal: 438ms\tremaining: 558ms\n",
      "44:\tlearn: 12.9479778\ttotal: 447ms\tremaining: 546ms\n",
      "45:\tlearn: 12.8492661\ttotal: 455ms\tremaining: 534ms\n",
      "46:\tlearn: 12.6027651\ttotal: 463ms\tremaining: 523ms\n",
      "47:\tlearn: 12.3796472\ttotal: 474ms\tremaining: 513ms\n",
      "48:\tlearn: 12.2604422\ttotal: 487ms\tremaining: 507ms\n",
      "49:\tlearn: 12.1414764\ttotal: 496ms\tremaining: 496ms\n",
      "50:\tlearn: 11.9896792\ttotal: 504ms\tremaining: 484ms\n",
      "51:\tlearn: 11.8593601\ttotal: 512ms\tremaining: 473ms\n",
      "52:\tlearn: 11.7571311\ttotal: 521ms\tremaining: 462ms\n",
      "53:\tlearn: 11.7494413\ttotal: 529ms\tremaining: 450ms\n",
      "54:\tlearn: 11.6438718\ttotal: 537ms\tremaining: 439ms\n",
      "55:\tlearn: 11.4818304\ttotal: 545ms\tremaining: 428ms\n",
      "56:\tlearn: 11.3833436\ttotal: 555ms\tremaining: 419ms\n",
      "57:\tlearn: 11.2757325\ttotal: 564ms\tremaining: 408ms\n",
      "58:\tlearn: 11.1961983\ttotal: 572ms\tremaining: 397ms\n",
      "59:\tlearn: 11.0861397\ttotal: 580ms\tremaining: 387ms\n",
      "60:\tlearn: 10.9452488\ttotal: 588ms\tremaining: 376ms\n",
      "61:\tlearn: 10.8491646\ttotal: 596ms\tremaining: 365ms\n",
      "62:\tlearn: 10.7553393\ttotal: 603ms\tremaining: 354ms\n",
      "63:\tlearn: 10.6273441\ttotal: 611ms\tremaining: 344ms\n",
      "64:\tlearn: 10.6023439\ttotal: 623ms\tremaining: 336ms\n",
      "65:\tlearn: 10.5520222\ttotal: 632ms\tremaining: 325ms\n",
      "66:\tlearn: 10.4234038\ttotal: 640ms\tremaining: 315ms\n",
      "67:\tlearn: 10.3180943\ttotal: 648ms\tremaining: 305ms\n",
      "68:\tlearn: 10.2480240\ttotal: 655ms\tremaining: 294ms\n",
      "69:\tlearn: 10.1775309\ttotal: 663ms\tremaining: 284ms\n",
      "70:\tlearn: 10.0494808\ttotal: 671ms\tremaining: 274ms\n",
      "71:\tlearn: 10.0467277\ttotal: 672ms\tremaining: 261ms\n",
      "72:\tlearn: 9.9867550\ttotal: 679ms\tremaining: 251ms\n",
      "73:\tlearn: 9.9848501\ttotal: 688ms\tremaining: 242ms\n",
      "74:\tlearn: 9.9169865\ttotal: 700ms\tremaining: 233ms\n",
      "75:\tlearn: 9.8784322\ttotal: 711ms\tremaining: 225ms\n",
      "76:\tlearn: 9.8264319\ttotal: 720ms\tremaining: 215ms\n",
      "77:\tlearn: 9.8223404\ttotal: 733ms\tremaining: 207ms\n",
      "78:\tlearn: 9.7481224\ttotal: 746ms\tremaining: 198ms\n",
      "79:\tlearn: 9.6439483\ttotal: 759ms\tremaining: 190ms\n",
      "80:\tlearn: 9.5812188\ttotal: 771ms\tremaining: 181ms\n",
      "81:\tlearn: 9.5093042\ttotal: 784ms\tremaining: 172ms\n",
      "82:\tlearn: 9.3797477\ttotal: 796ms\tremaining: 163ms\n",
      "83:\tlearn: 9.2957200\ttotal: 804ms\tremaining: 153ms\n",
      "84:\tlearn: 9.2563691\ttotal: 812ms\tremaining: 143ms\n",
      "85:\tlearn: 9.1867359\ttotal: 820ms\tremaining: 133ms\n",
      "86:\tlearn: 9.1443440\ttotal: 828ms\tremaining: 124ms\n",
      "87:\tlearn: 9.1121609\ttotal: 837ms\tremaining: 114ms\n",
      "88:\tlearn: 9.0187706\ttotal: 844ms\tremaining: 104ms\n",
      "89:\tlearn: 8.9480232\ttotal: 853ms\tremaining: 94.8ms\n",
      "90:\tlearn: 8.9253818\ttotal: 864ms\tremaining: 85.5ms\n",
      "91:\tlearn: 8.8478967\ttotal: 873ms\tremaining: 75.9ms\n",
      "92:\tlearn: 8.7516565\ttotal: 881ms\tremaining: 66.3ms\n",
      "93:\tlearn: 8.7507365\ttotal: 889ms\tremaining: 56.7ms\n",
      "94:\tlearn: 8.6968862\ttotal: 897ms\tremaining: 47.2ms\n",
      "95:\tlearn: 8.6460190\ttotal: 905ms\tremaining: 37.7ms\n",
      "96:\tlearn: 8.5859156\ttotal: 913ms\tremaining: 28.2ms\n",
      "97:\tlearn: 8.5369106\ttotal: 921ms\tremaining: 18.8ms\n",
      "98:\tlearn: 8.4649854\ttotal: 930ms\tremaining: 9.39ms\n",
      "99:\tlearn: 8.4424260\ttotal: 939ms\tremaining: 0us\n",
      "Learning rate set to 0.30295\n",
      "0:\tlearn: 30.4934730\ttotal: 13.1ms\tremaining: 1.3s\n",
      "1:\tlearn: 26.7051002\ttotal: 26.2ms\tremaining: 1.28s\n",
      "2:\tlearn: 24.4884512\ttotal: 38.9ms\tremaining: 1.26s\n",
      "3:\tlearn: 23.0050084\ttotal: 47.7ms\tremaining: 1.14s\n",
      "4:\tlearn: 22.0830515\ttotal: 56.8ms\tremaining: 1.08s\n",
      "5:\tlearn: 21.4450993\ttotal: 65.4ms\tremaining: 1.02s\n",
      "6:\tlearn: 20.8991511\ttotal: 74.1ms\tremaining: 984ms\n",
      "7:\tlearn: 20.4665537\ttotal: 83.7ms\tremaining: 963ms\n",
      "8:\tlearn: 20.1771823\ttotal: 92.3ms\tremaining: 933ms\n",
      "9:\tlearn: 19.8464906\ttotal: 106ms\tremaining: 955ms\n",
      "10:\tlearn: 19.5713430\ttotal: 120ms\tremaining: 968ms\n",
      "11:\tlearn: 19.3686935\ttotal: 129ms\tremaining: 943ms\n",
      "12:\tlearn: 19.1664123\ttotal: 137ms\tremaining: 920ms\n",
      "13:\tlearn: 18.8729882\ttotal: 148ms\tremaining: 907ms\n",
      "14:\tlearn: 18.6671335\ttotal: 157ms\tremaining: 887ms\n",
      "15:\tlearn: 18.4742182\ttotal: 165ms\tremaining: 867ms\n",
      "16:\tlearn: 18.2174310\ttotal: 177ms\tremaining: 862ms\n",
      "17:\tlearn: 18.0931415\ttotal: 188ms\tremaining: 856ms\n",
      "18:\tlearn: 17.9642038\ttotal: 197ms\tremaining: 839ms\n",
      "19:\tlearn: 17.8368459\ttotal: 206ms\tremaining: 822ms\n",
      "20:\tlearn: 17.6261964\ttotal: 214ms\tremaining: 807ms\n",
      "21:\tlearn: 17.4472874\ttotal: 223ms\tremaining: 792ms\n",
      "22:\tlearn: 17.3150707\ttotal: 232ms\tremaining: 778ms\n",
      "23:\tlearn: 17.0712585\ttotal: 241ms\tremaining: 763ms\n",
      "24:\tlearn: 16.9626706\ttotal: 257ms\tremaining: 771ms\n",
      "25:\tlearn: 16.8510843\ttotal: 270ms\tremaining: 769ms\n",
      "26:\tlearn: 16.7799729\ttotal: 280ms\tremaining: 758ms\n",
      "27:\tlearn: 16.6294111\ttotal: 289ms\tremaining: 743ms\n",
      "28:\tlearn: 16.4870106\ttotal: 297ms\tremaining: 728ms\n",
      "29:\tlearn: 16.3866432\ttotal: 306ms\tremaining: 714ms\n",
      "30:\tlearn: 16.2553899\ttotal: 315ms\tremaining: 702ms\n",
      "31:\tlearn: 16.1639314\ttotal: 324ms\tremaining: 688ms\n",
      "32:\tlearn: 16.0913676\ttotal: 333ms\tremaining: 676ms\n",
      "33:\tlearn: 16.0135373\ttotal: 344ms\tremaining: 669ms\n",
      "34:\tlearn: 15.9175708\ttotal: 357ms\tremaining: 662ms\n",
      "35:\tlearn: 15.8457959\ttotal: 369ms\tremaining: 656ms\n",
      "36:\tlearn: 15.7811435\ttotal: 374ms\tremaining: 637ms\n",
      "37:\tlearn: 15.7550616\ttotal: 382ms\tremaining: 624ms\n",
      "38:\tlearn: 15.6323594\ttotal: 391ms\tremaining: 611ms\n",
      "39:\tlearn: 15.4355149\ttotal: 399ms\tremaining: 599ms\n",
      "40:\tlearn: 15.3813064\ttotal: 407ms\tremaining: 586ms\n",
      "41:\tlearn: 15.3331442\ttotal: 416ms\tremaining: 574ms\n",
      "42:\tlearn: 15.1714685\ttotal: 424ms\tremaining: 563ms\n",
      "43:\tlearn: 15.0701146\ttotal: 436ms\tremaining: 554ms\n",
      "44:\tlearn: 14.9247004\ttotal: 450ms\tremaining: 549ms\n",
      "45:\tlearn: 14.8965505\ttotal: 458ms\tremaining: 538ms\n",
      "46:\tlearn: 14.7719128\ttotal: 467ms\tremaining: 527ms\n",
      "47:\tlearn: 14.6842247\ttotal: 476ms\tremaining: 515ms\n",
      "48:\tlearn: 14.4247639\ttotal: 484ms\tremaining: 504ms\n",
      "49:\tlearn: 14.2841897\ttotal: 493ms\tremaining: 493ms\n",
      "50:\tlearn: 14.1165367\ttotal: 505ms\tremaining: 485ms\n",
      "51:\tlearn: 14.0549831\ttotal: 514ms\tremaining: 475ms\n",
      "52:\tlearn: 14.0035570\ttotal: 524ms\tremaining: 464ms\n",
      "53:\tlearn: 13.8951291\ttotal: 532ms\tremaining: 453ms\n",
      "54:\tlearn: 13.7764221\ttotal: 541ms\tremaining: 443ms\n",
      "55:\tlearn: 13.6802572\ttotal: 551ms\tremaining: 433ms\n",
      "56:\tlearn: 13.5926336\ttotal: 559ms\tremaining: 422ms\n",
      "57:\tlearn: 13.5183304\ttotal: 571ms\tremaining: 413ms\n",
      "58:\tlearn: 13.4011956\ttotal: 581ms\tremaining: 404ms\n",
      "59:\tlearn: 13.3201834\ttotal: 590ms\tremaining: 393ms\n",
      "60:\tlearn: 13.2862365\ttotal: 599ms\tremaining: 383ms\n",
      "61:\tlearn: 13.2238279\ttotal: 608ms\tremaining: 373ms\n",
      "62:\tlearn: 13.0941425\ttotal: 617ms\tremaining: 362ms\n",
      "63:\tlearn: 12.9642203\ttotal: 626ms\tremaining: 352ms\n",
      "64:\tlearn: 12.9011794\ttotal: 635ms\tremaining: 342ms\n",
      "65:\tlearn: 12.7857796\ttotal: 649ms\tremaining: 335ms\n",
      "66:\tlearn: 12.6645490\ttotal: 660ms\tremaining: 325ms\n",
      "67:\tlearn: 12.6420891\ttotal: 669ms\tremaining: 315ms\n",
      "68:\tlearn: 12.5360375\ttotal: 678ms\tremaining: 305ms\n",
      "69:\tlearn: 12.4878357\ttotal: 687ms\tremaining: 295ms\n",
      "70:\tlearn: 12.4720297\ttotal: 697ms\tremaining: 285ms\n",
      "71:\tlearn: 12.3559406\ttotal: 706ms\tremaining: 275ms\n",
      "72:\tlearn: 12.3058602\ttotal: 716ms\tremaining: 265ms\n",
      "73:\tlearn: 12.2167893\ttotal: 731ms\tremaining: 257ms\n",
      "74:\tlearn: 12.0690197\ttotal: 744ms\tremaining: 248ms\n",
      "75:\tlearn: 12.0087671\ttotal: 758ms\tremaining: 239ms\n",
      "76:\tlearn: 11.9558540\ttotal: 768ms\tremaining: 229ms\n",
      "77:\tlearn: 11.9136559\ttotal: 778ms\tremaining: 219ms\n",
      "78:\tlearn: 11.8486854\ttotal: 789ms\tremaining: 210ms\n",
      "79:\tlearn: 11.7606397\ttotal: 805ms\tremaining: 201ms\n",
      "80:\tlearn: 11.6526472\ttotal: 817ms\tremaining: 192ms\n",
      "81:\tlearn: 11.5588931\ttotal: 828ms\tremaining: 182ms\n",
      "82:\tlearn: 11.5150522\ttotal: 837ms\tremaining: 171ms\n",
      "83:\tlearn: 11.4162408\ttotal: 846ms\tremaining: 161ms\n",
      "84:\tlearn: 11.3583849\ttotal: 855ms\tremaining: 151ms\n",
      "85:\tlearn: 11.3377385\ttotal: 864ms\tremaining: 141ms\n",
      "86:\tlearn: 11.2541225\ttotal: 878ms\tremaining: 131ms\n",
      "87:\tlearn: 11.2132924\ttotal: 892ms\tremaining: 122ms\n",
      "88:\tlearn: 11.0883781\ttotal: 902ms\tremaining: 111ms\n",
      "89:\tlearn: 11.0126230\ttotal: 910ms\tremaining: 101ms\n",
      "90:\tlearn: 10.8762798\ttotal: 919ms\tremaining: 90.9ms\n",
      "91:\tlearn: 10.7849420\ttotal: 930ms\tremaining: 80.8ms\n",
      "92:\tlearn: 10.6715601\ttotal: 939ms\tremaining: 70.7ms\n",
      "93:\tlearn: 10.6302634\ttotal: 952ms\tremaining: 60.8ms\n",
      "94:\tlearn: 10.5530890\ttotal: 962ms\tremaining: 50.6ms\n",
      "95:\tlearn: 10.4928106\ttotal: 971ms\tremaining: 40.5ms\n",
      "96:\tlearn: 10.4402768\ttotal: 982ms\tremaining: 30.4ms\n",
      "97:\tlearn: 10.3681576\ttotal: 992ms\tremaining: 20.2ms\n",
      "98:\tlearn: 10.3041009\ttotal: 1s\tremaining: 10.1ms\n",
      "99:\tlearn: 10.2921719\ttotal: 1.01s\tremaining: 0us\n",
      "Learning rate set to 0.313804\n",
      "0:\tlearn: 30.7682974\ttotal: 9.87ms\tremaining: 977ms\n",
      "1:\tlearn: 27.2109163\ttotal: 19.4ms\tremaining: 949ms\n",
      "2:\tlearn: 24.8502627\ttotal: 28.8ms\tremaining: 933ms\n",
      "3:\tlearn: 23.3890328\ttotal: 37.8ms\tremaining: 908ms\n",
      "4:\tlearn: 22.4400514\ttotal: 47.4ms\tremaining: 900ms\n",
      "5:\tlearn: 21.8473306\ttotal: 56.4ms\tremaining: 884ms\n",
      "6:\tlearn: 21.4634575\ttotal: 65.2ms\tremaining: 867ms\n",
      "7:\tlearn: 21.1042604\ttotal: 79.1ms\tremaining: 909ms\n",
      "8:\tlearn: 20.8178524\ttotal: 91.6ms\tremaining: 926ms\n",
      "9:\tlearn: 20.5191176\ttotal: 100ms\tremaining: 903ms\n",
      "10:\tlearn: 20.3187821\ttotal: 109ms\tremaining: 883ms\n",
      "11:\tlearn: 20.1386495\ttotal: 118ms\tremaining: 866ms\n",
      "12:\tlearn: 19.9598600\ttotal: 127ms\tremaining: 848ms\n",
      "13:\tlearn: 19.8642843\ttotal: 135ms\tremaining: 830ms\n",
      "14:\tlearn: 19.7140470\ttotal: 143ms\tremaining: 812ms\n",
      "15:\tlearn: 19.5054781\ttotal: 152ms\tremaining: 800ms\n",
      "16:\tlearn: 19.3831784\ttotal: 165ms\tremaining: 807ms\n",
      "17:\tlearn: 19.3079208\ttotal: 178ms\tremaining: 811ms\n",
      "18:\tlearn: 19.1456820\ttotal: 188ms\tremaining: 802ms\n",
      "19:\tlearn: 18.9464548\ttotal: 197ms\tremaining: 789ms\n",
      "20:\tlearn: 18.8702238\ttotal: 206ms\tremaining: 776ms\n",
      "21:\tlearn: 18.7368173\ttotal: 215ms\tremaining: 762ms\n",
      "22:\tlearn: 18.6196699\ttotal: 224ms\tremaining: 749ms\n",
      "23:\tlearn: 18.5021539\ttotal: 232ms\tremaining: 735ms\n",
      "24:\tlearn: 18.3880281\ttotal: 242ms\tremaining: 725ms\n",
      "25:\tlearn: 18.2013255\ttotal: 255ms\tremaining: 726ms\n",
      "26:\tlearn: 18.0900970\ttotal: 264ms\tremaining: 715ms\n",
      "27:\tlearn: 18.0428620\ttotal: 273ms\tremaining: 703ms\n",
      "28:\tlearn: 17.9552423\ttotal: 283ms\tremaining: 692ms\n",
      "29:\tlearn: 17.8383744\ttotal: 292ms\tremaining: 681ms\n",
      "30:\tlearn: 17.7151034\ttotal: 301ms\tremaining: 671ms\n",
      "31:\tlearn: 17.5229398\ttotal: 311ms\tremaining: 660ms\n",
      "32:\tlearn: 17.4191030\ttotal: 325ms\tremaining: 659ms\n",
      "33:\tlearn: 17.3388556\ttotal: 339ms\tremaining: 658ms\n",
      "34:\tlearn: 17.1378462\ttotal: 355ms\tremaining: 659ms\n",
      "35:\tlearn: 16.9508914\ttotal: 365ms\tremaining: 649ms\n",
      "36:\tlearn: 16.7366247\ttotal: 374ms\tremaining: 637ms\n",
      "37:\tlearn: 16.5382464\ttotal: 384ms\tremaining: 627ms\n",
      "38:\tlearn: 16.3447359\ttotal: 393ms\tremaining: 615ms\n",
      "39:\tlearn: 16.1842375\ttotal: 407ms\tremaining: 611ms\n",
      "40:\tlearn: 16.0761930\ttotal: 422ms\tremaining: 607ms\n",
      "41:\tlearn: 16.0543823\ttotal: 437ms\tremaining: 603ms\n",
      "42:\tlearn: 15.9993078\ttotal: 451ms\tremaining: 598ms\n",
      "43:\tlearn: 15.8032575\ttotal: 466ms\tremaining: 593ms\n",
      "44:\tlearn: 15.6604576\ttotal: 480ms\tremaining: 587ms\n",
      "45:\tlearn: 15.5510435\ttotal: 493ms\tremaining: 579ms\n",
      "46:\tlearn: 15.4102158\ttotal: 504ms\tremaining: 569ms\n",
      "47:\tlearn: 15.3529217\ttotal: 515ms\tremaining: 558ms\n",
      "48:\tlearn: 15.2594243\ttotal: 528ms\tremaining: 550ms\n",
      "49:\tlearn: 15.1553270\ttotal: 538ms\tremaining: 538ms\n",
      "50:\tlearn: 15.0646647\ttotal: 551ms\tremaining: 529ms\n",
      "51:\tlearn: 14.9381748\ttotal: 565ms\tremaining: 521ms\n",
      "52:\tlearn: 14.8160277\ttotal: 574ms\tremaining: 509ms\n",
      "53:\tlearn: 14.6089445\ttotal: 582ms\tremaining: 496ms\n",
      "54:\tlearn: 14.5099961\ttotal: 591ms\tremaining: 484ms\n",
      "55:\tlearn: 14.4261338\ttotal: 600ms\tremaining: 472ms\n",
      "56:\tlearn: 14.3786452\ttotal: 609ms\tremaining: 460ms\n",
      "57:\tlearn: 14.3393087\ttotal: 618ms\tremaining: 448ms\n",
      "58:\tlearn: 14.2768550\ttotal: 628ms\tremaining: 437ms\n",
      "59:\tlearn: 14.2199089\ttotal: 642ms\tremaining: 428ms\n",
      "60:\tlearn: 14.1050951\ttotal: 652ms\tremaining: 417ms\n",
      "61:\tlearn: 14.0618615\ttotal: 660ms\tremaining: 405ms\n",
      "62:\tlearn: 14.0306271\ttotal: 669ms\tremaining: 393ms\n",
      "63:\tlearn: 13.9540407\ttotal: 679ms\tremaining: 382ms\n",
      "64:\tlearn: 13.7892510\ttotal: 688ms\tremaining: 370ms\n",
      "65:\tlearn: 13.6930094\ttotal: 697ms\tremaining: 359ms\n",
      "66:\tlearn: 13.5902073\ttotal: 705ms\tremaining: 347ms\n",
      "67:\tlearn: 13.5159815\ttotal: 718ms\tremaining: 338ms\n",
      "68:\tlearn: 13.4348514\ttotal: 729ms\tremaining: 328ms\n",
      "69:\tlearn: 13.3879742\ttotal: 738ms\tremaining: 316ms\n",
      "70:\tlearn: 13.3469613\ttotal: 747ms\tremaining: 305ms\n",
      "71:\tlearn: 13.2581065\ttotal: 756ms\tremaining: 294ms\n",
      "72:\tlearn: 13.1312965\ttotal: 764ms\tremaining: 283ms\n",
      "73:\tlearn: 13.0984473\ttotal: 773ms\tremaining: 272ms\n",
      "74:\tlearn: 13.0434835\ttotal: 782ms\tremaining: 261ms\n",
      "75:\tlearn: 12.9273045\ttotal: 795ms\tremaining: 251ms\n",
      "76:\tlearn: 12.8409602\ttotal: 804ms\tremaining: 240ms\n",
      "77:\tlearn: 12.8086741\ttotal: 812ms\tremaining: 229ms\n",
      "78:\tlearn: 12.7655596\ttotal: 821ms\tremaining: 218ms\n",
      "79:\tlearn: 12.6492599\ttotal: 830ms\tremaining: 207ms\n",
      "80:\tlearn: 12.5415527\ttotal: 839ms\tremaining: 197ms\n",
      "81:\tlearn: 12.4910782\ttotal: 848ms\tremaining: 186ms\n",
      "82:\tlearn: 12.4361927\ttotal: 857ms\tremaining: 176ms\n",
      "83:\tlearn: 12.3109242\ttotal: 870ms\tremaining: 166ms\n",
      "84:\tlearn: 12.2588055\ttotal: 885ms\tremaining: 156ms\n",
      "85:\tlearn: 12.1806704\ttotal: 894ms\tremaining: 146ms\n",
      "86:\tlearn: 12.0692825\ttotal: 903ms\tremaining: 135ms\n",
      "87:\tlearn: 11.9661298\ttotal: 911ms\tremaining: 124ms\n",
      "88:\tlearn: 11.8942967\ttotal: 921ms\tremaining: 114ms\n",
      "89:\tlearn: 11.8930920\ttotal: 926ms\tremaining: 103ms\n",
      "90:\tlearn: 11.8423080\ttotal: 940ms\tremaining: 92.9ms\n",
      "91:\tlearn: 11.7268285\ttotal: 951ms\tremaining: 82.7ms\n",
      "92:\tlearn: 11.5836483\ttotal: 961ms\tremaining: 72.4ms\n",
      "93:\tlearn: 11.5471754\ttotal: 970ms\tremaining: 61.9ms\n",
      "94:\tlearn: 11.5080634\ttotal: 980ms\tremaining: 51.6ms\n",
      "95:\tlearn: 11.4755899\ttotal: 989ms\tremaining: 41.2ms\n",
      "96:\tlearn: 11.3411987\ttotal: 998ms\tremaining: 30.9ms\n",
      "97:\tlearn: 11.2515651\ttotal: 1.01s\tremaining: 20.5ms\n",
      "98:\tlearn: 11.1426603\ttotal: 1.02s\tremaining: 10.3ms\n",
      "99:\tlearn: 11.0569881\ttotal: 1.03s\tremaining: 0us\n",
      "Learning rate set to 0.322963\n",
      "0:\tlearn: 31.7728603\ttotal: 11.7ms\tremaining: 1.16s\n",
      "1:\tlearn: 27.8720680\ttotal: 21.6ms\tremaining: 1.06s\n",
      "2:\tlearn: 25.5866664\ttotal: 32.6ms\tremaining: 1.05s\n",
      "3:\tlearn: 24.2552658\ttotal: 42.2ms\tremaining: 1.01s\n",
      "4:\tlearn: 23.3584853\ttotal: 53.1ms\tremaining: 1.01s\n",
      "5:\tlearn: 22.8233889\ttotal: 63.1ms\tremaining: 988ms\n",
      "6:\tlearn: 22.4572346\ttotal: 79.1ms\tremaining: 1.05s\n",
      "7:\tlearn: 22.1724083\ttotal: 93.6ms\tremaining: 1.08s\n",
      "8:\tlearn: 21.9391207\ttotal: 103ms\tremaining: 1.04s\n",
      "9:\tlearn: 21.6374526\ttotal: 118ms\tremaining: 1.06s\n",
      "10:\tlearn: 21.3619934\ttotal: 133ms\tremaining: 1.08s\n",
      "11:\tlearn: 21.2266474\ttotal: 148ms\tremaining: 1.09s\n",
      "12:\tlearn: 20.8848852\ttotal: 159ms\tremaining: 1.06s\n",
      "13:\tlearn: 20.7151625\ttotal: 173ms\tremaining: 1.06s\n",
      "14:\tlearn: 20.4806848\ttotal: 184ms\tremaining: 1.04s\n",
      "15:\tlearn: 20.3816531\ttotal: 193ms\tremaining: 1.01s\n",
      "16:\tlearn: 20.2395768\ttotal: 205ms\tremaining: 999ms\n",
      "17:\tlearn: 20.0589633\ttotal: 215ms\tremaining: 978ms\n",
      "18:\tlearn: 19.8727669\ttotal: 224ms\tremaining: 956ms\n",
      "19:\tlearn: 19.6987536\ttotal: 234ms\tremaining: 934ms\n",
      "20:\tlearn: 19.5710300\ttotal: 243ms\tremaining: 914ms\n",
      "21:\tlearn: 19.4296175\ttotal: 253ms\tremaining: 896ms\n",
      "22:\tlearn: 19.3059151\ttotal: 263ms\tremaining: 882ms\n",
      "23:\tlearn: 19.1628859\ttotal: 277ms\tremaining: 878ms\n",
      "24:\tlearn: 19.0271668\ttotal: 291ms\tremaining: 873ms\n",
      "25:\tlearn: 18.9637308\ttotal: 303ms\tremaining: 863ms\n",
      "26:\tlearn: 18.8075063\ttotal: 312ms\tremaining: 845ms\n",
      "27:\tlearn: 18.6582971\ttotal: 322ms\tremaining: 828ms\n",
      "28:\tlearn: 18.5674140\ttotal: 332ms\tremaining: 812ms\n",
      "29:\tlearn: 18.5023816\ttotal: 341ms\tremaining: 795ms\n",
      "30:\tlearn: 18.3974433\ttotal: 352ms\tremaining: 783ms\n",
      "31:\tlearn: 18.3632551\ttotal: 366ms\tremaining: 777ms\n",
      "32:\tlearn: 18.2533269\ttotal: 379ms\tremaining: 770ms\n",
      "33:\tlearn: 17.9705682\ttotal: 391ms\tremaining: 760ms\n",
      "34:\tlearn: 17.8683261\ttotal: 401ms\tremaining: 744ms\n",
      "35:\tlearn: 17.6006601\ttotal: 410ms\tremaining: 729ms\n",
      "36:\tlearn: 17.5297760\ttotal: 420ms\tremaining: 715ms\n",
      "37:\tlearn: 17.3983411\ttotal: 429ms\tremaining: 700ms\n",
      "38:\tlearn: 17.2810181\ttotal: 439ms\tremaining: 686ms\n",
      "39:\tlearn: 17.2263739\ttotal: 453ms\tremaining: 679ms\n",
      "40:\tlearn: 17.0661034\ttotal: 464ms\tremaining: 668ms\n",
      "41:\tlearn: 16.9758252\ttotal: 474ms\tremaining: 654ms\n",
      "42:\tlearn: 16.9033149\ttotal: 484ms\tremaining: 641ms\n",
      "43:\tlearn: 16.8202024\ttotal: 494ms\tremaining: 628ms\n",
      "44:\tlearn: 16.7791993\ttotal: 506ms\tremaining: 619ms\n",
      "45:\tlearn: 16.7171598\ttotal: 521ms\tremaining: 612ms\n",
      "46:\tlearn: 16.5746135\ttotal: 538ms\tremaining: 606ms\n",
      "47:\tlearn: 16.4539624\ttotal: 549ms\tremaining: 595ms\n",
      "48:\tlearn: 16.3412477\ttotal: 560ms\tremaining: 582ms\n",
      "49:\tlearn: 16.1646482\ttotal: 569ms\tremaining: 569ms\n",
      "50:\tlearn: 16.0076853\ttotal: 579ms\tremaining: 556ms\n",
      "51:\tlearn: 15.8823658\ttotal: 591ms\tremaining: 545ms\n",
      "52:\tlearn: 15.7043679\ttotal: 603ms\tremaining: 535ms\n",
      "53:\tlearn: 15.5977133\ttotal: 619ms\tremaining: 527ms\n",
      "54:\tlearn: 15.4783260\ttotal: 635ms\tremaining: 520ms\n",
      "55:\tlearn: 15.4173498\ttotal: 651ms\tremaining: 512ms\n",
      "56:\tlearn: 15.3425233\ttotal: 661ms\tremaining: 499ms\n",
      "57:\tlearn: 15.2405448\ttotal: 674ms\tremaining: 488ms\n",
      "58:\tlearn: 15.1443954\ttotal: 692ms\tremaining: 481ms\n",
      "59:\tlearn: 15.0152265\ttotal: 708ms\tremaining: 472ms\n",
      "60:\tlearn: 15.0033205\ttotal: 725ms\tremaining: 463ms\n",
      "61:\tlearn: 14.9310475\ttotal: 735ms\tremaining: 451ms\n",
      "62:\tlearn: 14.9091266\ttotal: 748ms\tremaining: 439ms\n",
      "63:\tlearn: 14.8474368\ttotal: 767ms\tremaining: 431ms\n",
      "64:\tlearn: 14.7762674\ttotal: 784ms\tremaining: 422ms\n",
      "65:\tlearn: 14.6313961\ttotal: 795ms\tremaining: 410ms\n",
      "66:\tlearn: 14.5354758\ttotal: 811ms\tremaining: 400ms\n",
      "67:\tlearn: 14.4835989\ttotal: 821ms\tremaining: 386ms\n",
      "68:\tlearn: 14.4160071\ttotal: 832ms\tremaining: 374ms\n",
      "69:\tlearn: 14.3365854\ttotal: 848ms\tremaining: 364ms\n",
      "70:\tlearn: 14.3322353\ttotal: 858ms\tremaining: 351ms\n",
      "71:\tlearn: 14.2503169\ttotal: 870ms\tremaining: 338ms\n",
      "72:\tlearn: 14.2050177\ttotal: 882ms\tremaining: 326ms\n",
      "73:\tlearn: 14.1024606\ttotal: 894ms\tremaining: 314ms\n",
      "74:\tlearn: 14.0982635\ttotal: 910ms\tremaining: 303ms\n",
      "75:\tlearn: 13.9881379\ttotal: 920ms\tremaining: 291ms\n",
      "76:\tlearn: 13.9871206\ttotal: 935ms\tremaining: 279ms\n",
      "77:\tlearn: 13.9284121\ttotal: 947ms\tremaining: 267ms\n",
      "78:\tlearn: 13.9251301\ttotal: 964ms\tremaining: 256ms\n",
      "79:\tlearn: 13.8479382\ttotal: 978ms\tremaining: 245ms\n",
      "80:\tlearn: 13.8175253\ttotal: 991ms\tremaining: 232ms\n",
      "81:\tlearn: 13.7730992\ttotal: 1s\tremaining: 220ms\n",
      "82:\tlearn: 13.6667344\ttotal: 1.01s\tremaining: 207ms\n",
      "83:\tlearn: 13.6210718\ttotal: 1.02s\tremaining: 194ms\n",
      "84:\tlearn: 13.4595475\ttotal: 1.03s\tremaining: 182ms\n",
      "85:\tlearn: 13.2993187\ttotal: 1.04s\tremaining: 169ms\n",
      "86:\tlearn: 13.2367580\ttotal: 1.05s\tremaining: 157ms\n",
      "87:\tlearn: 13.1685421\ttotal: 1.06s\tremaining: 144ms\n",
      "88:\tlearn: 13.0878122\ttotal: 1.07s\tremaining: 132ms\n",
      "89:\tlearn: 13.0203991\ttotal: 1.08s\tremaining: 120ms\n",
      "90:\tlearn: 12.9090871\ttotal: 1.08s\tremaining: 107ms\n",
      "91:\tlearn: 12.8289884\ttotal: 1.09s\tremaining: 95.2ms\n",
      "92:\tlearn: 12.7476168\ttotal: 1.1s\tremaining: 83.1ms\n",
      "93:\tlearn: 12.6766763\ttotal: 1.12s\tremaining: 71.2ms\n",
      "94:\tlearn: 12.5781334\ttotal: 1.13s\tremaining: 59.3ms\n",
      "95:\tlearn: 12.5264290\ttotal: 1.14s\tremaining: 47.3ms\n",
      "96:\tlearn: 12.4722537\ttotal: 1.15s\tremaining: 35.5ms\n",
      "97:\tlearn: 12.3937014\ttotal: 1.16s\tremaining: 23.6ms\n",
      "98:\tlearn: 12.3347822\ttotal: 1.17s\tremaining: 11.8ms\n",
      "99:\tlearn: 12.2754429\ttotal: 1.18s\tremaining: 0us\n",
      "Learning rate set to 0.175164\n",
      "0:\tlearn: 27.0014389\ttotal: 1.17ms\tremaining: 175ms\n",
      "1:\tlearn: 25.0118927\ttotal: 1.87ms\tremaining: 139ms\n",
      "2:\tlearn: 23.5768732\ttotal: 2.24ms\tremaining: 110ms\n",
      "3:\tlearn: 22.4134238\ttotal: 9.54ms\tremaining: 348ms\n",
      "4:\tlearn: 21.4373383\ttotal: 11.4ms\tremaining: 331ms\n",
      "5:\tlearn: 20.6282484\ttotal: 12.7ms\tremaining: 305ms\n",
      "6:\tlearn: 19.6407779\ttotal: 19.5ms\tremaining: 399ms\n",
      "7:\tlearn: 18.8200678\ttotal: 20.8ms\tremaining: 369ms\n",
      "8:\tlearn: 18.1367884\ttotal: 27.4ms\tremaining: 429ms\n",
      "9:\tlearn: 17.4800514\ttotal: 34.1ms\tremaining: 477ms\n",
      "10:\tlearn: 17.0609487\ttotal: 34.8ms\tremaining: 439ms\n",
      "11:\tlearn: 16.6741371\ttotal: 41.7ms\tremaining: 479ms\n",
      "12:\tlearn: 16.2969590\ttotal: 50.4ms\tremaining: 531ms\n",
      "13:\tlearn: 15.9843719\ttotal: 62.4ms\tremaining: 606ms\n",
      "14:\tlearn: 15.6471967\ttotal: 72.7ms\tremaining: 654ms\n",
      "15:\tlearn: 15.3116769\ttotal: 83.5ms\tremaining: 700ms\n",
      "16:\tlearn: 15.0145298\ttotal: 94.1ms\tremaining: 737ms\n",
      "17:\tlearn: 14.7805312\ttotal: 102ms\tremaining: 748ms\n",
      "18:\tlearn: 14.6327134\ttotal: 105ms\tremaining: 725ms\n",
      "19:\tlearn: 14.3963672\ttotal: 112ms\tremaining: 730ms\n",
      "20:\tlearn: 14.1556786\ttotal: 122ms\tremaining: 747ms\n",
      "21:\tlearn: 13.9731429\ttotal: 131ms\tremaining: 765ms\n",
      "22:\tlearn: 13.9480932\ttotal: 132ms\tremaining: 728ms\n",
      "23:\tlearn: 13.7709856\ttotal: 140ms\tremaining: 736ms\n",
      "24:\tlearn: 13.7309646\ttotal: 141ms\tremaining: 707ms\n",
      "25:\tlearn: 13.6377876\ttotal: 153ms\tremaining: 728ms\n",
      "26:\tlearn: 13.4035207\ttotal: 164ms\tremaining: 746ms\n",
      "27:\tlearn: 13.2025737\ttotal: 174ms\tremaining: 760ms\n",
      "28:\tlearn: 13.0138790\ttotal: 182ms\tremaining: 760ms\n",
      "29:\tlearn: 12.8448616\ttotal: 194ms\tremaining: 775ms\n",
      "30:\tlearn: 12.7154903\ttotal: 202ms\tremaining: 775ms\n",
      "31:\tlearn: 12.5889103\ttotal: 209ms\tremaining: 771ms\n",
      "32:\tlearn: 12.4162712\ttotal: 216ms\tremaining: 767ms\n",
      "33:\tlearn: 12.1923264\ttotal: 224ms\tremaining: 764ms\n",
      "34:\tlearn: 11.9913697\ttotal: 231ms\tremaining: 760ms\n",
      "35:\tlearn: 11.8287565\ttotal: 238ms\tremaining: 754ms\n",
      "36:\tlearn: 11.6792283\ttotal: 250ms\tremaining: 764ms\n",
      "37:\tlearn: 11.5327451\ttotal: 257ms\tremaining: 759ms\n",
      "38:\tlearn: 11.4223908\ttotal: 265ms\tremaining: 755ms\n",
      "39:\tlearn: 11.2970786\ttotal: 273ms\tremaining: 750ms\n",
      "40:\tlearn: 11.2362565\ttotal: 275ms\tremaining: 731ms\n",
      "41:\tlearn: 11.1418775\ttotal: 282ms\tremaining: 726ms\n",
      "42:\tlearn: 11.0308629\ttotal: 289ms\tremaining: 719ms\n",
      "43:\tlearn: 10.8812764\ttotal: 296ms\tremaining: 713ms\n",
      "44:\tlearn: 10.8004867\ttotal: 302ms\tremaining: 706ms\n",
      "45:\tlearn: 10.7028251\ttotal: 312ms\tremaining: 706ms\n",
      "46:\tlearn: 10.5969474\ttotal: 321ms\tremaining: 704ms\n",
      "47:\tlearn: 10.5021226\ttotal: 328ms\tremaining: 698ms\n",
      "48:\tlearn: 10.4155322\ttotal: 335ms\tremaining: 691ms\n",
      "49:\tlearn: 10.3009975\ttotal: 343ms\tremaining: 686ms\n",
      "50:\tlearn: 10.2444376\ttotal: 350ms\tremaining: 680ms\n",
      "51:\tlearn: 10.1831074\ttotal: 358ms\tremaining: 674ms\n",
      "52:\tlearn: 10.0638650\ttotal: 365ms\tremaining: 668ms\n",
      "53:\tlearn: 10.0525138\ttotal: 366ms\tremaining: 651ms\n",
      "54:\tlearn: 9.9905910\ttotal: 375ms\tremaining: 648ms\n",
      "55:\tlearn: 9.8974978\ttotal: 386ms\tremaining: 649ms\n",
      "56:\tlearn: 9.8000677\ttotal: 397ms\tremaining: 648ms\n",
      "57:\tlearn: 9.7436502\ttotal: 405ms\tremaining: 643ms\n",
      "58:\tlearn: 9.6184642\ttotal: 412ms\tremaining: 636ms\n",
      "59:\tlearn: 9.5333999\ttotal: 420ms\tremaining: 629ms\n",
      "60:\tlearn: 9.5162431\ttotal: 421ms\tremaining: 615ms\n",
      "61:\tlearn: 9.4351685\ttotal: 429ms\tremaining: 608ms\n",
      "62:\tlearn: 9.3742895\ttotal: 436ms\tremaining: 602ms\n",
      "63:\tlearn: 9.3134559\ttotal: 444ms\tremaining: 597ms\n",
      "64:\tlearn: 9.2108195\ttotal: 454ms\tremaining: 594ms\n",
      "65:\tlearn: 9.1279237\ttotal: 464ms\tremaining: 590ms\n",
      "66:\tlearn: 9.0456560\ttotal: 471ms\tremaining: 583ms\n",
      "67:\tlearn: 8.9887601\ttotal: 477ms\tremaining: 576ms\n",
      "68:\tlearn: 8.9392264\ttotal: 484ms\tremaining: 569ms\n",
      "69:\tlearn: 8.8733255\ttotal: 495ms\tremaining: 566ms\n",
      "70:\tlearn: 8.7737839\ttotal: 507ms\tremaining: 564ms\n",
      "71:\tlearn: 8.7145774\ttotal: 518ms\tremaining: 561ms\n",
      "72:\tlearn: 8.6442572\ttotal: 528ms\tremaining: 557ms\n",
      "73:\tlearn: 8.5783641\ttotal: 537ms\tremaining: 551ms\n",
      "74:\tlearn: 8.5500108\ttotal: 544ms\tremaining: 544ms\n",
      "75:\tlearn: 8.4633663\ttotal: 551ms\tremaining: 537ms\n",
      "76:\tlearn: 8.4011930\ttotal: 560ms\tremaining: 531ms\n",
      "77:\tlearn: 8.3330732\ttotal: 567ms\tremaining: 524ms\n",
      "78:\tlearn: 8.2434915\ttotal: 575ms\tremaining: 517ms\n",
      "79:\tlearn: 8.1172824\ttotal: 582ms\tremaining: 509ms\n",
      "80:\tlearn: 8.0014274\ttotal: 589ms\tremaining: 502ms\n",
      "81:\tlearn: 7.9168727\ttotal: 597ms\tremaining: 495ms\n",
      "82:\tlearn: 7.8693416\ttotal: 604ms\tremaining: 488ms\n",
      "83:\tlearn: 7.8299127\ttotal: 611ms\tremaining: 480ms\n",
      "84:\tlearn: 7.7883075\ttotal: 619ms\tremaining: 473ms\n",
      "85:\tlearn: 7.7672237\ttotal: 626ms\tremaining: 466ms\n",
      "86:\tlearn: 7.6572550\ttotal: 633ms\tremaining: 459ms\n",
      "87:\tlearn: 7.5654187\ttotal: 640ms\tremaining: 451ms\n",
      "88:\tlearn: 7.5487405\ttotal: 649ms\tremaining: 445ms\n",
      "89:\tlearn: 7.4359075\ttotal: 658ms\tremaining: 439ms\n",
      "90:\tlearn: 7.3635257\ttotal: 665ms\tremaining: 431ms\n",
      "91:\tlearn: 7.3197764\ttotal: 672ms\tremaining: 424ms\n",
      "92:\tlearn: 7.1856756\ttotal: 679ms\tremaining: 416ms\n",
      "93:\tlearn: 7.1210889\ttotal: 686ms\tremaining: 408ms\n",
      "94:\tlearn: 7.0408504\ttotal: 692ms\tremaining: 401ms\n",
      "95:\tlearn: 6.9886395\ttotal: 699ms\tremaining: 393ms\n",
      "96:\tlearn: 6.9290363\ttotal: 714ms\tremaining: 390ms\n",
      "97:\tlearn: 6.9056119\ttotal: 728ms\tremaining: 386ms\n",
      "98:\tlearn: 6.8177500\ttotal: 737ms\tremaining: 380ms\n",
      "99:\tlearn: 6.7933985\ttotal: 744ms\tremaining: 372ms\n",
      "100:\tlearn: 6.7636353\ttotal: 751ms\tremaining: 364ms\n",
      "101:\tlearn: 6.6496981\ttotal: 758ms\tremaining: 357ms\n",
      "102:\tlearn: 6.6397773\ttotal: 760ms\tremaining: 347ms\n",
      "103:\tlearn: 6.6168046\ttotal: 768ms\tremaining: 339ms\n",
      "104:\tlearn: 6.6006953\ttotal: 780ms\tremaining: 334ms\n",
      "105:\tlearn: 6.5071067\ttotal: 792ms\tremaining: 329ms\n",
      "106:\tlearn: 6.4672816\ttotal: 805ms\tremaining: 323ms\n",
      "107:\tlearn: 6.4321732\ttotal: 814ms\tremaining: 316ms\n",
      "108:\tlearn: 6.4115226\ttotal: 827ms\tremaining: 311ms\n",
      "109:\tlearn: 6.3905720\ttotal: 840ms\tremaining: 305ms\n",
      "110:\tlearn: 6.3383178\ttotal: 848ms\tremaining: 298ms\n",
      "111:\tlearn: 6.2110278\ttotal: 859ms\tremaining: 291ms\n",
      "112:\tlearn: 6.1646743\ttotal: 869ms\tremaining: 284ms\n",
      "113:\tlearn: 6.1197896\ttotal: 881ms\tremaining: 278ms\n",
      "114:\tlearn: 6.0670955\ttotal: 888ms\tremaining: 270ms\n",
      "115:\tlearn: 5.9689188\ttotal: 896ms\tremaining: 263ms\n",
      "116:\tlearn: 5.9018838\ttotal: 903ms\tremaining: 255ms\n",
      "117:\tlearn: 5.8365150\ttotal: 910ms\tremaining: 247ms\n",
      "118:\tlearn: 5.7639340\ttotal: 918ms\tremaining: 239ms\n",
      "119:\tlearn: 5.7357692\ttotal: 930ms\tremaining: 233ms\n",
      "120:\tlearn: 5.6469718\ttotal: 944ms\tremaining: 226ms\n",
      "121:\tlearn: 5.5681980\ttotal: 957ms\tremaining: 220ms\n",
      "122:\tlearn: 5.5069034\ttotal: 965ms\tremaining: 212ms\n",
      "123:\tlearn: 5.4915319\ttotal: 973ms\tremaining: 204ms\n",
      "124:\tlearn: 5.4576742\ttotal: 981ms\tremaining: 196ms\n",
      "125:\tlearn: 5.4167519\ttotal: 989ms\tremaining: 188ms\n",
      "126:\tlearn: 5.4009630\ttotal: 997ms\tremaining: 181ms\n",
      "127:\tlearn: 5.3273935\ttotal: 1s\tremaining: 173ms\n",
      "128:\tlearn: 5.2373563\ttotal: 1.01s\tremaining: 165ms\n",
      "129:\tlearn: 5.1885080\ttotal: 1.02s\tremaining: 157ms\n",
      "130:\tlearn: 5.1583999\ttotal: 1.03s\tremaining: 149ms\n",
      "131:\tlearn: 5.1361528\ttotal: 1.03s\tremaining: 141ms\n",
      "132:\tlearn: 5.0321256\ttotal: 1.04s\tremaining: 133ms\n",
      "133:\tlearn: 4.9976642\ttotal: 1.05s\tremaining: 125ms\n",
      "134:\tlearn: 4.9416521\ttotal: 1.06s\tremaining: 118ms\n",
      "135:\tlearn: 4.8721478\ttotal: 1.07s\tremaining: 110ms\n",
      "136:\tlearn: 4.8445206\ttotal: 1.08s\tremaining: 103ms\n",
      "137:\tlearn: 4.8240131\ttotal: 1.09s\tremaining: 94.8ms\n",
      "138:\tlearn: 4.7759080\ttotal: 1.1s\tremaining: 87ms\n",
      "139:\tlearn: 4.7682491\ttotal: 1.11s\tremaining: 79.1ms\n",
      "140:\tlearn: 4.7565224\ttotal: 1.11s\tremaining: 71.2ms\n",
      "141:\tlearn: 4.7527833\ttotal: 1.12s\tremaining: 63.3ms\n",
      "142:\tlearn: 4.7199650\ttotal: 1.14s\tremaining: 55.6ms\n",
      "143:\tlearn: 4.6826020\ttotal: 1.14s\tremaining: 47.6ms\n",
      "144:\tlearn: 4.6610721\ttotal: 1.15s\tremaining: 39.7ms\n",
      "145:\tlearn: 4.6386032\ttotal: 1.16s\tremaining: 31.7ms\n",
      "146:\tlearn: 4.5775121\ttotal: 1.17s\tremaining: 23.8ms\n",
      "147:\tlearn: 4.5199780\ttotal: 1.17s\tremaining: 15.8ms\n",
      "148:\tlearn: 4.4788776\ttotal: 1.18s\tremaining: 7.92ms\n",
      "149:\tlearn: 4.4639179\ttotal: 1.19s\tremaining: 0us\n",
      "Learning rate set to 0.195329\n",
      "0:\tlearn: 27.9302076\ttotal: 9.9ms\tremaining: 1.48s\n",
      "1:\tlearn: 25.6994526\ttotal: 17.4ms\tremaining: 1.29s\n",
      "2:\tlearn: 23.7794514\ttotal: 24.9ms\tremaining: 1.22s\n",
      "3:\tlearn: 22.2772796\ttotal: 33.3ms\tremaining: 1.22s\n",
      "4:\tlearn: 21.0386678\ttotal: 42ms\tremaining: 1.22s\n",
      "5:\tlearn: 20.1416870\ttotal: 50.7ms\tremaining: 1.22s\n",
      "6:\tlearn: 19.2944531\ttotal: 60.4ms\tremaining: 1.23s\n",
      "7:\tlearn: 18.6228721\ttotal: 70.5ms\tremaining: 1.25s\n",
      "8:\tlearn: 18.0991513\ttotal: 80.2ms\tremaining: 1.26s\n",
      "9:\tlearn: 17.5934567\ttotal: 87.5ms\tremaining: 1.22s\n",
      "10:\tlearn: 17.2408108\ttotal: 95.1ms\tremaining: 1.2s\n",
      "11:\tlearn: 16.8270294\ttotal: 102ms\tremaining: 1.17s\n",
      "12:\tlearn: 16.5384033\ttotal: 109ms\tremaining: 1.15s\n",
      "13:\tlearn: 16.2264397\ttotal: 116ms\tremaining: 1.13s\n",
      "14:\tlearn: 15.9838331\ttotal: 123ms\tremaining: 1.1s\n",
      "15:\tlearn: 15.7595285\ttotal: 130ms\tremaining: 1.09s\n",
      "16:\tlearn: 15.5963524\ttotal: 137ms\tremaining: 1.07s\n",
      "17:\tlearn: 15.3684216\ttotal: 147ms\tremaining: 1.08s\n",
      "18:\tlearn: 15.2134418\ttotal: 155ms\tremaining: 1.07s\n",
      "19:\tlearn: 14.9813376\ttotal: 162ms\tremaining: 1.06s\n",
      "20:\tlearn: 14.8290473\ttotal: 169ms\tremaining: 1.04s\n",
      "21:\tlearn: 14.6403390\ttotal: 177ms\tremaining: 1.03s\n",
      "22:\tlearn: 14.4541682\ttotal: 183ms\tremaining: 1.01s\n",
      "23:\tlearn: 14.3262455\ttotal: 191ms\tremaining: 1s\n",
      "24:\tlearn: 14.1231311\ttotal: 198ms\tremaining: 990ms\n",
      "25:\tlearn: 14.0022821\ttotal: 205ms\tremaining: 978ms\n",
      "26:\tlearn: 13.9010116\ttotal: 214ms\tremaining: 973ms\n",
      "27:\tlearn: 13.7991471\ttotal: 222ms\tremaining: 968ms\n",
      "28:\tlearn: 13.7370036\ttotal: 230ms\tremaining: 962ms\n",
      "29:\tlearn: 13.6390141\ttotal: 238ms\tremaining: 952ms\n",
      "30:\tlearn: 13.5077102\ttotal: 245ms\tremaining: 941ms\n",
      "31:\tlearn: 13.3600115\ttotal: 252ms\tremaining: 929ms\n",
      "32:\tlearn: 13.2308804\ttotal: 259ms\tremaining: 918ms\n",
      "33:\tlearn: 13.0305520\ttotal: 266ms\tremaining: 909ms\n",
      "34:\tlearn: 12.8927054\ttotal: 273ms\tremaining: 898ms\n",
      "35:\tlearn: 12.7842384\ttotal: 280ms\tremaining: 887ms\n",
      "36:\tlearn: 12.7277142\ttotal: 289ms\tremaining: 882ms\n",
      "37:\tlearn: 12.6092166\ttotal: 297ms\tremaining: 876ms\n",
      "38:\tlearn: 12.5196599\ttotal: 305ms\tremaining: 867ms\n",
      "39:\tlearn: 12.4728365\ttotal: 313ms\tremaining: 860ms\n",
      "40:\tlearn: 12.4066352\ttotal: 322ms\tremaining: 855ms\n",
      "41:\tlearn: 12.3212694\ttotal: 329ms\tremaining: 846ms\n",
      "42:\tlearn: 12.2423422\ttotal: 337ms\tremaining: 838ms\n",
      "43:\tlearn: 12.2068151\ttotal: 344ms\tremaining: 829ms\n",
      "44:\tlearn: 12.1447872\ttotal: 351ms\tremaining: 820ms\n",
      "45:\tlearn: 12.0740225\ttotal: 362ms\tremaining: 819ms\n",
      "46:\tlearn: 11.9725932\ttotal: 371ms\tremaining: 814ms\n",
      "47:\tlearn: 11.9339958\ttotal: 382ms\tremaining: 811ms\n",
      "48:\tlearn: 11.8766798\ttotal: 389ms\tremaining: 802ms\n",
      "49:\tlearn: 11.8371495\ttotal: 397ms\tremaining: 793ms\n",
      "50:\tlearn: 11.7848171\ttotal: 405ms\tremaining: 786ms\n",
      "51:\tlearn: 11.7241539\ttotal: 413ms\tremaining: 778ms\n",
      "52:\tlearn: 11.6460263\ttotal: 420ms\tremaining: 769ms\n",
      "53:\tlearn: 11.5945502\ttotal: 428ms\tremaining: 761ms\n",
      "54:\tlearn: 11.5663097\ttotal: 436ms\tremaining: 752ms\n",
      "55:\tlearn: 11.5555785\ttotal: 437ms\tremaining: 734ms\n",
      "56:\tlearn: 11.4068675\ttotal: 445ms\tremaining: 725ms\n",
      "57:\tlearn: 11.2854809\ttotal: 456ms\tremaining: 723ms\n",
      "58:\tlearn: 11.2289611\ttotal: 465ms\tremaining: 717ms\n",
      "59:\tlearn: 11.1522963\ttotal: 473ms\tremaining: 709ms\n",
      "60:\tlearn: 11.1089901\ttotal: 481ms\tremaining: 702ms\n",
      "61:\tlearn: 11.0298993\ttotal: 489ms\tremaining: 694ms\n",
      "62:\tlearn: 10.9702202\ttotal: 496ms\tremaining: 685ms\n",
      "63:\tlearn: 10.8903953\ttotal: 503ms\tremaining: 676ms\n",
      "64:\tlearn: 10.8574527\ttotal: 511ms\tremaining: 668ms\n",
      "65:\tlearn: 10.7952498\ttotal: 518ms\tremaining: 660ms\n",
      "66:\tlearn: 10.7538753\ttotal: 527ms\tremaining: 653ms\n",
      "67:\tlearn: 10.7042993\ttotal: 536ms\tremaining: 646ms\n",
      "68:\tlearn: 10.6298929\ttotal: 543ms\tremaining: 638ms\n",
      "69:\tlearn: 10.5540487\ttotal: 551ms\tremaining: 630ms\n",
      "70:\tlearn: 10.5107334\ttotal: 559ms\tremaining: 622ms\n",
      "71:\tlearn: 10.4905105\ttotal: 564ms\tremaining: 611ms\n",
      "72:\tlearn: 10.3935818\ttotal: 573ms\tremaining: 604ms\n",
      "73:\tlearn: 10.3317464\ttotal: 581ms\tremaining: 597ms\n",
      "74:\tlearn: 10.3117688\ttotal: 592ms\tremaining: 592ms\n",
      "75:\tlearn: 10.2600252\ttotal: 600ms\tremaining: 585ms\n",
      "76:\tlearn: 10.1553855\ttotal: 608ms\tremaining: 576ms\n",
      "77:\tlearn: 10.0455615\ttotal: 616ms\tremaining: 569ms\n",
      "78:\tlearn: 9.9555823\ttotal: 624ms\tremaining: 561ms\n",
      "79:\tlearn: 9.9184047\ttotal: 631ms\tremaining: 552ms\n",
      "80:\tlearn: 9.8234043\ttotal: 638ms\tremaining: 544ms\n",
      "81:\tlearn: 9.7646682\ttotal: 646ms\tremaining: 536ms\n",
      "82:\tlearn: 9.6565189\ttotal: 653ms\tremaining: 527ms\n",
      "83:\tlearn: 9.6104864\ttotal: 663ms\tremaining: 521ms\n",
      "84:\tlearn: 9.5143060\ttotal: 671ms\tremaining: 513ms\n",
      "85:\tlearn: 9.4623110\ttotal: 679ms\tremaining: 505ms\n",
      "86:\tlearn: 9.3629892\ttotal: 686ms\tremaining: 497ms\n",
      "87:\tlearn: 9.3150359\ttotal: 693ms\tremaining: 488ms\n",
      "88:\tlearn: 9.1652949\ttotal: 701ms\tremaining: 480ms\n",
      "89:\tlearn: 9.1455601\ttotal: 708ms\tremaining: 472ms\n",
      "90:\tlearn: 9.0392903\ttotal: 715ms\tremaining: 463ms\n",
      "91:\tlearn: 8.9547395\ttotal: 722ms\tremaining: 455ms\n",
      "92:\tlearn: 8.8961841\ttotal: 730ms\tremaining: 447ms\n",
      "93:\tlearn: 8.8899880\ttotal: 740ms\tremaining: 441ms\n",
      "94:\tlearn: 8.8056743\ttotal: 748ms\tremaining: 433ms\n",
      "95:\tlearn: 8.7423753\ttotal: 755ms\tremaining: 425ms\n",
      "96:\tlearn: 8.6886551\ttotal: 762ms\tremaining: 416ms\n",
      "97:\tlearn: 8.6744638\ttotal: 769ms\tremaining: 408ms\n",
      "98:\tlearn: 8.6117914\ttotal: 777ms\tremaining: 400ms\n",
      "99:\tlearn: 8.5869259\ttotal: 785ms\tremaining: 393ms\n",
      "100:\tlearn: 8.4955275\ttotal: 793ms\tremaining: 385ms\n",
      "101:\tlearn: 8.4342366\ttotal: 800ms\tremaining: 377ms\n",
      "102:\tlearn: 8.3946369\ttotal: 808ms\tremaining: 369ms\n",
      "103:\tlearn: 8.2926522\ttotal: 818ms\tremaining: 362ms\n",
      "104:\tlearn: 8.2338141\ttotal: 827ms\tremaining: 354ms\n",
      "105:\tlearn: 8.2216044\ttotal: 835ms\tremaining: 346ms\n",
      "106:\tlearn: 8.1744955\ttotal: 842ms\tremaining: 338ms\n",
      "107:\tlearn: 8.0883303\ttotal: 850ms\tremaining: 330ms\n",
      "108:\tlearn: 8.0487186\ttotal: 857ms\tremaining: 322ms\n",
      "109:\tlearn: 8.0223792\ttotal: 864ms\tremaining: 314ms\n",
      "110:\tlearn: 7.9597163\ttotal: 871ms\tremaining: 306ms\n",
      "111:\tlearn: 7.9504398\ttotal: 878ms\tremaining: 298ms\n",
      "112:\tlearn: 7.9434040\ttotal: 886ms\tremaining: 290ms\n",
      "113:\tlearn: 7.8783677\ttotal: 898ms\tremaining: 284ms\n",
      "114:\tlearn: 7.8595099\ttotal: 907ms\tremaining: 276ms\n",
      "115:\tlearn: 7.8381742\ttotal: 914ms\tremaining: 268ms\n",
      "116:\tlearn: 7.7961051\ttotal: 922ms\tremaining: 260ms\n",
      "117:\tlearn: 7.7651350\ttotal: 929ms\tremaining: 252ms\n",
      "118:\tlearn: 7.7321010\ttotal: 936ms\tremaining: 244ms\n",
      "119:\tlearn: 7.7065340\ttotal: 943ms\tremaining: 236ms\n",
      "120:\tlearn: 7.6659931\ttotal: 950ms\tremaining: 228ms\n",
      "121:\tlearn: 7.6329661\ttotal: 958ms\tremaining: 220ms\n",
      "122:\tlearn: 7.5294326\ttotal: 965ms\tremaining: 212ms\n",
      "123:\tlearn: 7.5178554\ttotal: 973ms\tremaining: 204ms\n",
      "124:\tlearn: 7.4740164\ttotal: 983ms\tremaining: 197ms\n",
      "125:\tlearn: 7.4200678\ttotal: 990ms\tremaining: 189ms\n",
      "126:\tlearn: 7.3702927\ttotal: 997ms\tremaining: 181ms\n",
      "127:\tlearn: 7.3172888\ttotal: 1s\tremaining: 173ms\n",
      "128:\tlearn: 7.2887513\ttotal: 1.01s\tremaining: 165ms\n",
      "129:\tlearn: 7.2521903\ttotal: 1.02s\tremaining: 157ms\n",
      "130:\tlearn: 7.2157330\ttotal: 1.02s\tremaining: 149ms\n",
      "131:\tlearn: 7.1265588\ttotal: 1.03s\tremaining: 141ms\n",
      "132:\tlearn: 7.0937138\ttotal: 1.04s\tremaining: 133ms\n",
      "133:\tlearn: 7.0723216\ttotal: 1.05s\tremaining: 125ms\n",
      "134:\tlearn: 7.0649710\ttotal: 1.06s\tremaining: 118ms\n",
      "135:\tlearn: 7.0500182\ttotal: 1.06s\tremaining: 110ms\n",
      "136:\tlearn: 7.0423985\ttotal: 1.07s\tremaining: 102ms\n",
      "137:\tlearn: 6.9668111\ttotal: 1.08s\tremaining: 93.9ms\n",
      "138:\tlearn: 6.9351574\ttotal: 1.09s\tremaining: 86ms\n",
      "139:\tlearn: 6.9104718\ttotal: 1.09s\tremaining: 78.2ms\n",
      "140:\tlearn: 6.8951485\ttotal: 1.1s\tremaining: 70.4ms\n",
      "141:\tlearn: 6.8385303\ttotal: 1.11s\tremaining: 62.5ms\n",
      "142:\tlearn: 6.8256929\ttotal: 1.12s\tremaining: 54.9ms\n",
      "143:\tlearn: 6.8097544\ttotal: 1.13s\tremaining: 47ms\n",
      "144:\tlearn: 6.7924392\ttotal: 1.14s\tremaining: 39.2ms\n",
      "145:\tlearn: 6.7811987\ttotal: 1.15s\tremaining: 31.4ms\n",
      "146:\tlearn: 6.7606972\ttotal: 1.15s\tremaining: 23.5ms\n",
      "147:\tlearn: 6.6860331\ttotal: 1.16s\tremaining: 15.7ms\n",
      "148:\tlearn: 6.6360391\ttotal: 1.17s\tremaining: 7.83ms\n",
      "149:\tlearn: 6.6208071\ttotal: 1.17s\tremaining: 0us\n",
      "Learning rate set to 0.208214\n",
      "0:\tlearn: 27.9977310\ttotal: 9.38ms\tremaining: 1.4s\n",
      "1:\tlearn: 25.7458740\ttotal: 17.6ms\tremaining: 1.3s\n",
      "2:\tlearn: 24.0394276\ttotal: 25.8ms\tremaining: 1.26s\n",
      "3:\tlearn: 22.7733894\ttotal: 34.2ms\tremaining: 1.25s\n",
      "4:\tlearn: 21.7070905\ttotal: 44.9ms\tremaining: 1.3s\n",
      "5:\tlearn: 20.9537487\ttotal: 53.7ms\tremaining: 1.29s\n",
      "6:\tlearn: 20.3978849\ttotal: 61.8ms\tremaining: 1.26s\n",
      "7:\tlearn: 19.9007320\ttotal: 69.7ms\tremaining: 1.24s\n",
      "8:\tlearn: 19.4315900\ttotal: 78.8ms\tremaining: 1.23s\n",
      "9:\tlearn: 19.0012155\ttotal: 86.7ms\tremaining: 1.21s\n",
      "10:\tlearn: 18.7123379\ttotal: 96.4ms\tremaining: 1.22s\n",
      "11:\tlearn: 18.4217298\ttotal: 105ms\tremaining: 1.21s\n",
      "12:\tlearn: 18.1657884\ttotal: 113ms\tremaining: 1.2s\n",
      "13:\tlearn: 17.8729988\ttotal: 122ms\tremaining: 1.18s\n",
      "14:\tlearn: 17.6144759\ttotal: 129ms\tremaining: 1.17s\n",
      "15:\tlearn: 17.4360585\ttotal: 137ms\tremaining: 1.15s\n",
      "16:\tlearn: 17.2424756\ttotal: 145ms\tremaining: 1.14s\n",
      "17:\tlearn: 17.0255263\ttotal: 153ms\tremaining: 1.12s\n",
      "18:\tlearn: 16.9044974\ttotal: 161ms\tremaining: 1.11s\n",
      "19:\tlearn: 16.8027826\ttotal: 170ms\tremaining: 1.1s\n",
      "20:\tlearn: 16.6259682\ttotal: 177ms\tremaining: 1.09s\n",
      "21:\tlearn: 16.4939749\ttotal: 188ms\tremaining: 1.1s\n",
      "22:\tlearn: 16.2976046\ttotal: 197ms\tremaining: 1.09s\n",
      "23:\tlearn: 16.1935857\ttotal: 205ms\tremaining: 1.08s\n",
      "24:\tlearn: 16.0930752\ttotal: 214ms\tremaining: 1.07s\n",
      "25:\tlearn: 15.8791964\ttotal: 222ms\tremaining: 1.06s\n",
      "26:\tlearn: 15.7447366\ttotal: 230ms\tremaining: 1.04s\n",
      "27:\tlearn: 15.6047036\ttotal: 237ms\tremaining: 1.03s\n",
      "28:\tlearn: 15.4531866\ttotal: 245ms\tremaining: 1.02s\n",
      "29:\tlearn: 15.2754002\ttotal: 254ms\tremaining: 1.01s\n",
      "30:\tlearn: 15.1721571\ttotal: 265ms\tremaining: 1.01s\n",
      "31:\tlearn: 15.0203494\ttotal: 273ms\tremaining: 1.01s\n",
      "32:\tlearn: 14.9106053\ttotal: 281ms\tremaining: 997ms\n",
      "33:\tlearn: 14.8767340\ttotal: 289ms\tremaining: 987ms\n",
      "34:\tlearn: 14.7134133\ttotal: 297ms\tremaining: 975ms\n",
      "35:\tlearn: 14.5860783\ttotal: 305ms\tremaining: 966ms\n",
      "36:\tlearn: 14.5461298\ttotal: 309ms\tremaining: 945ms\n",
      "37:\tlearn: 14.4682876\ttotal: 317ms\tremaining: 935ms\n",
      "38:\tlearn: 14.3795365\ttotal: 325ms\tremaining: 925ms\n",
      "39:\tlearn: 14.2695248\ttotal: 333ms\tremaining: 917ms\n",
      "40:\tlearn: 14.1453291\ttotal: 343ms\tremaining: 912ms\n",
      "41:\tlearn: 14.0698580\ttotal: 351ms\tremaining: 901ms\n",
      "42:\tlearn: 13.9709505\ttotal: 358ms\tremaining: 891ms\n",
      "43:\tlearn: 13.8558471\ttotal: 366ms\tremaining: 881ms\n",
      "44:\tlearn: 13.7227456\ttotal: 373ms\tremaining: 871ms\n",
      "45:\tlearn: 13.6834611\ttotal: 381ms\tremaining: 861ms\n",
      "46:\tlearn: 13.6074175\ttotal: 388ms\tremaining: 851ms\n",
      "47:\tlearn: 13.4727782\ttotal: 396ms\tremaining: 841ms\n",
      "48:\tlearn: 13.4154514\ttotal: 405ms\tremaining: 835ms\n",
      "49:\tlearn: 13.3002451\ttotal: 416ms\tremaining: 832ms\n",
      "50:\tlearn: 13.1993863\ttotal: 424ms\tremaining: 823ms\n",
      "51:\tlearn: 13.1840220\ttotal: 425ms\tremaining: 802ms\n",
      "52:\tlearn: 13.1186246\ttotal: 433ms\tremaining: 793ms\n",
      "53:\tlearn: 13.0291204\ttotal: 441ms\tremaining: 784ms\n",
      "54:\tlearn: 12.9398915\ttotal: 450ms\tremaining: 777ms\n",
      "55:\tlearn: 12.9002684\ttotal: 458ms\tremaining: 768ms\n",
      "56:\tlearn: 12.8517697\ttotal: 466ms\tremaining: 760ms\n",
      "57:\tlearn: 12.7342431\ttotal: 474ms\tremaining: 752ms\n",
      "58:\tlearn: 12.7051752\ttotal: 484ms\tremaining: 746ms\n",
      "59:\tlearn: 12.6252718\ttotal: 492ms\tremaining: 737ms\n",
      "60:\tlearn: 12.5445149\ttotal: 499ms\tremaining: 728ms\n",
      "61:\tlearn: 12.5010958\ttotal: 507ms\tremaining: 720ms\n",
      "62:\tlearn: 12.4360228\ttotal: 515ms\tremaining: 711ms\n",
      "63:\tlearn: 12.3874350\ttotal: 523ms\tremaining: 702ms\n",
      "64:\tlearn: 12.3151040\ttotal: 530ms\tremaining: 694ms\n",
      "65:\tlearn: 12.2569893\ttotal: 539ms\tremaining: 685ms\n",
      "66:\tlearn: 12.1804989\ttotal: 546ms\tremaining: 677ms\n",
      "67:\tlearn: 12.0928907\ttotal: 558ms\tremaining: 673ms\n",
      "68:\tlearn: 12.0272092\ttotal: 568ms\tremaining: 667ms\n",
      "69:\tlearn: 11.9912488\ttotal: 576ms\tremaining: 658ms\n",
      "70:\tlearn: 11.9282066\ttotal: 584ms\tremaining: 650ms\n",
      "71:\tlearn: 11.8888531\ttotal: 592ms\tremaining: 641ms\n",
      "72:\tlearn: 11.7777221\ttotal: 600ms\tremaining: 632ms\n",
      "73:\tlearn: 11.7175787\ttotal: 608ms\tremaining: 624ms\n",
      "74:\tlearn: 11.6474049\ttotal: 617ms\tremaining: 617ms\n",
      "75:\tlearn: 11.5190436\ttotal: 625ms\tremaining: 609ms\n",
      "76:\tlearn: 11.5077484\ttotal: 633ms\tremaining: 600ms\n",
      "77:\tlearn: 11.3656708\ttotal: 641ms\tremaining: 592ms\n",
      "78:\tlearn: 11.2516954\ttotal: 648ms\tremaining: 583ms\n",
      "79:\tlearn: 11.1895111\ttotal: 656ms\tremaining: 574ms\n",
      "80:\tlearn: 11.1520042\ttotal: 663ms\tremaining: 565ms\n",
      "81:\tlearn: 11.0714402\ttotal: 671ms\tremaining: 556ms\n",
      "82:\tlearn: 11.0664786\ttotal: 678ms\tremaining: 548ms\n",
      "83:\tlearn: 10.9767301\ttotal: 688ms\tremaining: 541ms\n",
      "84:\tlearn: 10.8891339\ttotal: 698ms\tremaining: 534ms\n",
      "85:\tlearn: 10.8522817\ttotal: 708ms\tremaining: 527ms\n",
      "86:\tlearn: 10.7866736\ttotal: 717ms\tremaining: 519ms\n",
      "87:\tlearn: 10.6839684\ttotal: 725ms\tremaining: 510ms\n",
      "88:\tlearn: 10.6119816\ttotal: 733ms\tremaining: 502ms\n",
      "89:\tlearn: 10.5427390\ttotal: 742ms\tremaining: 495ms\n",
      "90:\tlearn: 10.5195435\ttotal: 751ms\tremaining: 487ms\n",
      "91:\tlearn: 10.3992267\ttotal: 764ms\tremaining: 482ms\n",
      "92:\tlearn: 10.3430312\ttotal: 773ms\tremaining: 473ms\n",
      "93:\tlearn: 10.3104685\ttotal: 781ms\tremaining: 465ms\n",
      "94:\tlearn: 10.2048387\ttotal: 789ms\tremaining: 457ms\n",
      "95:\tlearn: 10.1554264\ttotal: 797ms\tremaining: 448ms\n",
      "96:\tlearn: 10.1497577\ttotal: 801ms\tremaining: 438ms\n",
      "97:\tlearn: 10.1137084\ttotal: 809ms\tremaining: 429ms\n",
      "98:\tlearn: 10.0938021\ttotal: 817ms\tremaining: 421ms\n",
      "99:\tlearn: 10.0425788\ttotal: 825ms\tremaining: 413ms\n",
      "100:\tlearn: 10.0349621\ttotal: 837ms\tremaining: 406ms\n",
      "101:\tlearn: 9.9726901\ttotal: 847ms\tremaining: 399ms\n",
      "102:\tlearn: 9.9709724\ttotal: 856ms\tremaining: 390ms\n",
      "103:\tlearn: 9.9265804\ttotal: 864ms\tremaining: 382ms\n",
      "104:\tlearn: 9.8678759\ttotal: 873ms\tremaining: 374ms\n",
      "105:\tlearn: 9.7927153\ttotal: 882ms\tremaining: 366ms\n",
      "106:\tlearn: 9.7690840\ttotal: 891ms\tremaining: 358ms\n",
      "107:\tlearn: 9.7269306\ttotal: 899ms\tremaining: 350ms\n",
      "108:\tlearn: 9.7083149\ttotal: 910ms\tremaining: 342ms\n",
      "109:\tlearn: 9.5976140\ttotal: 921ms\tremaining: 335ms\n",
      "110:\tlearn: 9.5513253\ttotal: 930ms\tremaining: 327ms\n",
      "111:\tlearn: 9.4978467\ttotal: 938ms\tremaining: 318ms\n",
      "112:\tlearn: 9.4807268\ttotal: 946ms\tremaining: 310ms\n",
      "113:\tlearn: 9.4410968\ttotal: 955ms\tremaining: 302ms\n",
      "114:\tlearn: 9.4181422\ttotal: 963ms\tremaining: 293ms\n",
      "115:\tlearn: 9.3804422\ttotal: 971ms\tremaining: 285ms\n",
      "116:\tlearn: 9.2998611\ttotal: 979ms\tremaining: 276ms\n",
      "117:\tlearn: 9.2628321\ttotal: 989ms\tremaining: 268ms\n",
      "118:\tlearn: 9.2321338\ttotal: 1s\tremaining: 261ms\n",
      "119:\tlearn: 9.1606164\ttotal: 1.01s\tremaining: 253ms\n",
      "120:\tlearn: 9.1199890\ttotal: 1.02s\tremaining: 245ms\n",
      "121:\tlearn: 9.0717257\ttotal: 1.03s\tremaining: 236ms\n",
      "122:\tlearn: 8.9848923\ttotal: 1.04s\tremaining: 228ms\n",
      "123:\tlearn: 8.9165687\ttotal: 1.04s\tremaining: 219ms\n",
      "124:\tlearn: 8.8967401\ttotal: 1.05s\tremaining: 210ms\n",
      "125:\tlearn: 8.8715181\ttotal: 1.06s\tremaining: 202ms\n",
      "126:\tlearn: 8.8508224\ttotal: 1.07s\tremaining: 193ms\n",
      "127:\tlearn: 8.8062365\ttotal: 1.08s\tremaining: 186ms\n",
      "128:\tlearn: 8.7265737\ttotal: 1.09s\tremaining: 178ms\n",
      "129:\tlearn: 8.6766971\ttotal: 1.1s\tremaining: 170ms\n",
      "130:\tlearn: 8.5630308\ttotal: 1.11s\tremaining: 161ms\n",
      "131:\tlearn: 8.4861321\ttotal: 1.12s\tremaining: 152ms\n",
      "132:\tlearn: 8.4170129\ttotal: 1.13s\tremaining: 144ms\n",
      "133:\tlearn: 8.3917214\ttotal: 1.13s\tremaining: 135ms\n",
      "134:\tlearn: 8.3307341\ttotal: 1.14s\tremaining: 127ms\n",
      "135:\tlearn: 8.2481761\ttotal: 1.15s\tremaining: 118ms\n",
      "136:\tlearn: 8.2115933\ttotal: 1.16s\tremaining: 110ms\n",
      "137:\tlearn: 8.1895108\ttotal: 1.17s\tremaining: 102ms\n",
      "138:\tlearn: 8.1547011\ttotal: 1.18s\tremaining: 93.7ms\n",
      "139:\tlearn: 8.1231767\ttotal: 1.2s\tremaining: 85.4ms\n",
      "140:\tlearn: 8.0550374\ttotal: 1.2s\tremaining: 76.9ms\n",
      "141:\tlearn: 7.9882477\ttotal: 1.21s\tremaining: 68.4ms\n",
      "142:\tlearn: 7.9037517\ttotal: 1.23s\tremaining: 60ms\n",
      "143:\tlearn: 7.8838938\ttotal: 1.24s\tremaining: 51.6ms\n",
      "144:\tlearn: 7.8630555\ttotal: 1.25s\tremaining: 43.1ms\n",
      "145:\tlearn: 7.8055571\ttotal: 1.26s\tremaining: 34.5ms\n",
      "146:\tlearn: 7.7534876\ttotal: 1.27s\tremaining: 25.9ms\n",
      "147:\tlearn: 7.7252104\ttotal: 1.28s\tremaining: 17.3ms\n",
      "148:\tlearn: 7.6738747\ttotal: 1.29s\tremaining: 8.66ms\n",
      "149:\tlearn: 7.6258228\ttotal: 1.3s\tremaining: 0us\n",
      "Learning rate set to 0.217876\n",
      "0:\tlearn: 31.0930605\ttotal: 12.8ms\tremaining: 1.91s\n",
      "1:\tlearn: 28.1289118\ttotal: 25.6ms\tremaining: 1.9s\n",
      "2:\tlearn: 26.2201052\ttotal: 37.7ms\tremaining: 1.84s\n",
      "3:\tlearn: 24.5636372\ttotal: 52.1ms\tremaining: 1.9s\n",
      "4:\tlearn: 23.3249498\ttotal: 65.1ms\tremaining: 1.89s\n",
      "5:\tlearn: 22.4049182\ttotal: 75ms\tremaining: 1.8s\n",
      "6:\tlearn: 21.7892816\ttotal: 84.7ms\tremaining: 1.73s\n",
      "7:\tlearn: 21.3617169\ttotal: 90ms\tremaining: 1.6s\n",
      "8:\tlearn: 20.9854157\ttotal: 99.9ms\tremaining: 1.56s\n",
      "9:\tlearn: 20.6799837\ttotal: 109ms\tremaining: 1.53s\n",
      "10:\tlearn: 20.3238351\ttotal: 118ms\tremaining: 1.49s\n",
      "11:\tlearn: 20.0809826\ttotal: 129ms\tremaining: 1.49s\n",
      "12:\tlearn: 19.8697324\ttotal: 139ms\tremaining: 1.46s\n",
      "13:\tlearn: 19.6906389\ttotal: 147ms\tremaining: 1.43s\n",
      "14:\tlearn: 19.4528704\ttotal: 156ms\tremaining: 1.4s\n",
      "15:\tlearn: 19.3009256\ttotal: 165ms\tremaining: 1.38s\n",
      "16:\tlearn: 19.1321590\ttotal: 174ms\tremaining: 1.36s\n",
      "17:\tlearn: 19.0047329\ttotal: 182ms\tremaining: 1.34s\n",
      "18:\tlearn: 18.8964440\ttotal: 191ms\tremaining: 1.32s\n",
      "19:\tlearn: 18.6752962\ttotal: 202ms\tremaining: 1.31s\n",
      "20:\tlearn: 18.5476151\ttotal: 215ms\tremaining: 1.32s\n",
      "21:\tlearn: 18.4277545\ttotal: 228ms\tremaining: 1.32s\n",
      "22:\tlearn: 18.3513795\ttotal: 237ms\tremaining: 1.31s\n",
      "23:\tlearn: 18.2106346\ttotal: 246ms\tremaining: 1.29s\n",
      "24:\tlearn: 18.0578692\ttotal: 255ms\tremaining: 1.27s\n",
      "25:\tlearn: 17.9289083\ttotal: 264ms\tremaining: 1.26s\n",
      "26:\tlearn: 17.7486301\ttotal: 273ms\tremaining: 1.24s\n",
      "27:\tlearn: 17.5897247\ttotal: 282ms\tremaining: 1.23s\n",
      "28:\tlearn: 17.4731624\ttotal: 293ms\tremaining: 1.22s\n",
      "29:\tlearn: 17.4050378\ttotal: 303ms\tremaining: 1.21s\n",
      "30:\tlearn: 17.3576860\ttotal: 312ms\tremaining: 1.2s\n",
      "31:\tlearn: 17.1949847\ttotal: 323ms\tremaining: 1.19s\n",
      "32:\tlearn: 17.0677347\ttotal: 333ms\tremaining: 1.18s\n",
      "33:\tlearn: 16.9608400\ttotal: 343ms\tremaining: 1.17s\n",
      "34:\tlearn: 16.8727589\ttotal: 352ms\tremaining: 1.16s\n",
      "35:\tlearn: 16.7978775\ttotal: 365ms\tremaining: 1.16s\n",
      "36:\tlearn: 16.7113516\ttotal: 377ms\tremaining: 1.15s\n",
      "37:\tlearn: 16.6541906\ttotal: 387ms\tremaining: 1.14s\n",
      "38:\tlearn: 16.5724650\ttotal: 396ms\tremaining: 1.13s\n",
      "39:\tlearn: 16.4653743\ttotal: 404ms\tremaining: 1.11s\n",
      "40:\tlearn: 16.3370950\ttotal: 413ms\tremaining: 1.1s\n",
      "41:\tlearn: 16.1886298\ttotal: 422ms\tremaining: 1.08s\n",
      "42:\tlearn: 16.0905786\ttotal: 431ms\tremaining: 1.07s\n",
      "43:\tlearn: 16.0535662\ttotal: 439ms\tremaining: 1.06s\n",
      "44:\tlearn: 15.9770573\ttotal: 451ms\tremaining: 1.05s\n",
      "45:\tlearn: 15.9268039\ttotal: 460ms\tremaining: 1.04s\n",
      "46:\tlearn: 15.8503415\ttotal: 469ms\tremaining: 1.03s\n",
      "47:\tlearn: 15.8288582\ttotal: 478ms\tremaining: 1.02s\n",
      "48:\tlearn: 15.7767084\ttotal: 487ms\tremaining: 1s\n",
      "49:\tlearn: 15.7018303\ttotal: 497ms\tremaining: 994ms\n",
      "50:\tlearn: 15.6222684\ttotal: 506ms\tremaining: 982ms\n",
      "51:\tlearn: 15.5880406\ttotal: 514ms\tremaining: 969ms\n",
      "52:\tlearn: 15.4868594\ttotal: 525ms\tremaining: 961ms\n",
      "53:\tlearn: 15.4572705\ttotal: 537ms\tremaining: 955ms\n",
      "54:\tlearn: 15.3635788\ttotal: 546ms\tremaining: 943ms\n",
      "55:\tlearn: 15.2745807\ttotal: 555ms\tremaining: 932ms\n",
      "56:\tlearn: 15.1411267\ttotal: 564ms\tremaining: 920ms\n",
      "57:\tlearn: 15.0861508\ttotal: 573ms\tremaining: 909ms\n",
      "58:\tlearn: 15.0590620\ttotal: 581ms\tremaining: 897ms\n",
      "59:\tlearn: 15.0057530\ttotal: 590ms\tremaining: 885ms\n",
      "60:\tlearn: 14.7899766\ttotal: 600ms\tremaining: 876ms\n",
      "61:\tlearn: 14.7742335\ttotal: 611ms\tremaining: 867ms\n",
      "62:\tlearn: 14.7377546\ttotal: 619ms\tremaining: 855ms\n",
      "63:\tlearn: 14.5729806\ttotal: 628ms\tremaining: 843ms\n",
      "64:\tlearn: 14.4527635\ttotal: 636ms\tremaining: 832ms\n",
      "65:\tlearn: 14.3625687\ttotal: 645ms\tremaining: 821ms\n",
      "66:\tlearn: 14.2868355\ttotal: 654ms\tremaining: 811ms\n",
      "67:\tlearn: 14.1362075\ttotal: 663ms\tremaining: 800ms\n",
      "68:\tlearn: 14.0282185\ttotal: 672ms\tremaining: 789ms\n",
      "69:\tlearn: 13.9615577\ttotal: 682ms\tremaining: 780ms\n",
      "70:\tlearn: 13.9344736\ttotal: 695ms\tremaining: 774ms\n",
      "71:\tlearn: 13.9051855\ttotal: 707ms\tremaining: 766ms\n",
      "72:\tlearn: 13.8256812\ttotal: 717ms\tremaining: 756ms\n",
      "73:\tlearn: 13.7036947\ttotal: 726ms\tremaining: 746ms\n",
      "74:\tlearn: 13.5522827\ttotal: 736ms\tremaining: 736ms\n",
      "75:\tlearn: 13.5054185\ttotal: 746ms\tremaining: 726ms\n",
      "76:\tlearn: 13.4468633\ttotal: 756ms\tremaining: 716ms\n",
      "77:\tlearn: 13.4155049\ttotal: 765ms\tremaining: 706ms\n",
      "78:\tlearn: 13.3407679\ttotal: 778ms\tremaining: 699ms\n",
      "79:\tlearn: 13.2484947\ttotal: 787ms\tremaining: 689ms\n",
      "80:\tlearn: 13.1654002\ttotal: 797ms\tremaining: 679ms\n",
      "81:\tlearn: 13.1116166\ttotal: 807ms\tremaining: 669ms\n",
      "82:\tlearn: 13.0691199\ttotal: 817ms\tremaining: 659ms\n",
      "83:\tlearn: 12.9520098\ttotal: 827ms\tremaining: 650ms\n",
      "84:\tlearn: 12.9103178\ttotal: 836ms\tremaining: 639ms\n",
      "85:\tlearn: 12.8947820\ttotal: 846ms\tremaining: 630ms\n",
      "86:\tlearn: 12.8132346\ttotal: 855ms\tremaining: 619ms\n",
      "87:\tlearn: 12.7443408\ttotal: 864ms\tremaining: 609ms\n",
      "88:\tlearn: 12.6050016\ttotal: 873ms\tremaining: 598ms\n",
      "89:\tlearn: 12.5357128\ttotal: 883ms\tremaining: 589ms\n",
      "90:\tlearn: 12.4468767\ttotal: 892ms\tremaining: 579ms\n",
      "91:\tlearn: 12.4037801\ttotal: 903ms\tremaining: 569ms\n",
      "92:\tlearn: 12.3132391\ttotal: 913ms\tremaining: 560ms\n",
      "93:\tlearn: 12.2927411\ttotal: 923ms\tremaining: 550ms\n",
      "94:\tlearn: 12.2720319\ttotal: 932ms\tremaining: 540ms\n",
      "95:\tlearn: 12.1548954\ttotal: 942ms\tremaining: 530ms\n",
      "96:\tlearn: 12.1035985\ttotal: 952ms\tremaining: 520ms\n",
      "97:\tlearn: 11.9909701\ttotal: 962ms\tremaining: 510ms\n",
      "98:\tlearn: 11.8764167\ttotal: 971ms\tremaining: 500ms\n",
      "99:\tlearn: 11.8208171\ttotal: 995ms\tremaining: 497ms\n",
      "100:\tlearn: 11.7188091\ttotal: 1s\tremaining: 488ms\n",
      "101:\tlearn: 11.6839995\ttotal: 1.01s\tremaining: 477ms\n",
      "102:\tlearn: 11.5925750\ttotal: 1.02s\tremaining: 467ms\n",
      "103:\tlearn: 11.5517508\ttotal: 1.03s\tremaining: 457ms\n",
      "104:\tlearn: 11.5194708\ttotal: 1.04s\tremaining: 447ms\n",
      "105:\tlearn: 11.4379283\ttotal: 1.05s\tremaining: 436ms\n",
      "106:\tlearn: 11.4092461\ttotal: 1.06s\tremaining: 426ms\n",
      "107:\tlearn: 11.3862096\ttotal: 1.07s\tremaining: 417ms\n",
      "108:\tlearn: 11.3094520\ttotal: 1.08s\tremaining: 407ms\n",
      "109:\tlearn: 11.2760512\ttotal: 1.09s\tremaining: 397ms\n",
      "110:\tlearn: 11.1541988\ttotal: 1.1s\tremaining: 387ms\n",
      "111:\tlearn: 11.1325985\ttotal: 1.11s\tremaining: 377ms\n",
      "112:\tlearn: 11.1293578\ttotal: 1.12s\tremaining: 367ms\n",
      "113:\tlearn: 11.0568637\ttotal: 1.13s\tremaining: 357ms\n",
      "114:\tlearn: 11.0242339\ttotal: 1.14s\tremaining: 347ms\n",
      "115:\tlearn: 10.9366673\ttotal: 1.15s\tremaining: 337ms\n",
      "116:\tlearn: 10.8804363\ttotal: 1.16s\tremaining: 327ms\n",
      "117:\tlearn: 10.8780216\ttotal: 1.16s\tremaining: 315ms\n",
      "118:\tlearn: 10.8536187\ttotal: 1.17s\tremaining: 305ms\n",
      "119:\tlearn: 10.8057712\ttotal: 1.18s\tremaining: 295ms\n",
      "120:\tlearn: 10.7478339\ttotal: 1.19s\tremaining: 286ms\n",
      "121:\tlearn: 10.6817389\ttotal: 1.2s\tremaining: 277ms\n",
      "122:\tlearn: 10.6595475\ttotal: 1.22s\tremaining: 267ms\n",
      "123:\tlearn: 10.6066465\ttotal: 1.23s\tremaining: 258ms\n",
      "124:\tlearn: 10.5662709\ttotal: 1.24s\tremaining: 249ms\n",
      "125:\tlearn: 10.4600017\ttotal: 1.25s\tremaining: 239ms\n",
      "126:\tlearn: 10.4119826\ttotal: 1.26s\tremaining: 229ms\n",
      "127:\tlearn: 10.3349836\ttotal: 1.27s\tremaining: 219ms\n",
      "128:\tlearn: 10.2966682\ttotal: 1.28s\tremaining: 209ms\n",
      "129:\tlearn: 10.2619669\ttotal: 1.29s\tremaining: 199ms\n",
      "130:\tlearn: 10.2519381\ttotal: 1.31s\tremaining: 190ms\n",
      "131:\tlearn: 10.2181700\ttotal: 1.32s\tremaining: 180ms\n",
      "132:\tlearn: 10.1953035\ttotal: 1.33s\tremaining: 170ms\n",
      "133:\tlearn: 10.1365691\ttotal: 1.34s\tremaining: 160ms\n",
      "134:\tlearn: 10.1110894\ttotal: 1.35s\tremaining: 150ms\n",
      "135:\tlearn: 10.0731465\ttotal: 1.36s\tremaining: 140ms\n",
      "136:\tlearn: 10.0344719\ttotal: 1.37s\tremaining: 130ms\n",
      "137:\tlearn: 10.0316086\ttotal: 1.38s\tremaining: 120ms\n",
      "138:\tlearn: 9.9912390\ttotal: 1.39s\tremaining: 110ms\n",
      "139:\tlearn: 9.9292427\ttotal: 1.4s\tremaining: 99.8ms\n",
      "140:\tlearn: 9.8575801\ttotal: 1.41s\tremaining: 90.2ms\n",
      "141:\tlearn: 9.7966253\ttotal: 1.42s\tremaining: 80.2ms\n",
      "142:\tlearn: 9.7824476\ttotal: 1.43s\tremaining: 69.9ms\n",
      "143:\tlearn: 9.7325046\ttotal: 1.44s\tremaining: 60ms\n",
      "144:\tlearn: 9.7037960\ttotal: 1.45s\tremaining: 49.9ms\n",
      "145:\tlearn: 9.6586395\ttotal: 1.46s\tremaining: 39.9ms\n",
      "146:\tlearn: 9.6278399\ttotal: 1.47s\tremaining: 29.9ms\n",
      "147:\tlearn: 9.6063533\ttotal: 1.48s\tremaining: 20ms\n",
      "148:\tlearn: 9.5758059\ttotal: 1.49s\tremaining: 9.98ms\n",
      "149:\tlearn: 9.5072072\ttotal: 1.5s\tremaining: 0us\n",
      "Learning rate set to 0.225682\n",
      "0:\tlearn: 31.4700841\ttotal: 11ms\tremaining: 1.63s\n",
      "1:\tlearn: 28.7328989\ttotal: 15.1ms\tremaining: 1.12s\n",
      "2:\tlearn: 26.5290278\ttotal: 24.9ms\tremaining: 1.22s\n",
      "3:\tlearn: 25.1321595\ttotal: 33.4ms\tremaining: 1.22s\n",
      "4:\tlearn: 23.9527703\ttotal: 42.1ms\tremaining: 1.22s\n",
      "5:\tlearn: 23.1717846\ttotal: 50.8ms\tremaining: 1.22s\n",
      "6:\tlearn: 22.5592227\ttotal: 60.2ms\tremaining: 1.23s\n",
      "7:\tlearn: 22.1449634\ttotal: 74.8ms\tremaining: 1.33s\n",
      "8:\tlearn: 21.7802160\ttotal: 85.4ms\tremaining: 1.34s\n",
      "9:\tlearn: 21.4285247\ttotal: 100ms\tremaining: 1.4s\n",
      "10:\tlearn: 21.1642236\ttotal: 113ms\tremaining: 1.43s\n",
      "11:\tlearn: 20.9009692\ttotal: 122ms\tremaining: 1.41s\n",
      "12:\tlearn: 20.7627776\ttotal: 132ms\tremaining: 1.39s\n",
      "13:\tlearn: 20.6086386\ttotal: 142ms\tremaining: 1.38s\n",
      "14:\tlearn: 20.4208451\ttotal: 151ms\tremaining: 1.36s\n",
      "15:\tlearn: 20.2989903\ttotal: 161ms\tremaining: 1.34s\n",
      "16:\tlearn: 20.1076211\ttotal: 170ms\tremaining: 1.33s\n",
      "17:\tlearn: 19.8922080\ttotal: 181ms\tremaining: 1.32s\n",
      "18:\tlearn: 19.7402828\ttotal: 192ms\tremaining: 1.32s\n",
      "19:\tlearn: 19.5652990\ttotal: 201ms\tremaining: 1.31s\n",
      "20:\tlearn: 19.4889779\ttotal: 211ms\tremaining: 1.3s\n",
      "21:\tlearn: 19.4175831\ttotal: 221ms\tremaining: 1.28s\n",
      "22:\tlearn: 19.2135294\ttotal: 232ms\tremaining: 1.28s\n",
      "23:\tlearn: 19.0827512\ttotal: 241ms\tremaining: 1.26s\n",
      "24:\tlearn: 18.9926804\ttotal: 250ms\tremaining: 1.25s\n",
      "25:\tlearn: 18.8573815\ttotal: 260ms\tremaining: 1.24s\n",
      "26:\tlearn: 18.6946664\ttotal: 270ms\tremaining: 1.23s\n",
      "27:\tlearn: 18.6357319\ttotal: 279ms\tremaining: 1.22s\n",
      "28:\tlearn: 18.5160944\ttotal: 288ms\tremaining: 1.2s\n",
      "29:\tlearn: 18.4217295\ttotal: 298ms\tremaining: 1.19s\n",
      "30:\tlearn: 18.3172941\ttotal: 307ms\tremaining: 1.18s\n",
      "31:\tlearn: 18.2148544\ttotal: 316ms\tremaining: 1.17s\n",
      "32:\tlearn: 18.1019003\ttotal: 328ms\tremaining: 1.16s\n",
      "33:\tlearn: 18.0059602\ttotal: 339ms\tremaining: 1.16s\n",
      "34:\tlearn: 17.8777385\ttotal: 348ms\tremaining: 1.14s\n",
      "35:\tlearn: 17.8252593\ttotal: 358ms\tremaining: 1.13s\n",
      "36:\tlearn: 17.6946212\ttotal: 367ms\tremaining: 1.12s\n",
      "37:\tlearn: 17.6476199\ttotal: 376ms\tremaining: 1.11s\n",
      "38:\tlearn: 17.5863841\ttotal: 386ms\tremaining: 1.1s\n",
      "39:\tlearn: 17.5813406\ttotal: 387ms\tremaining: 1.06s\n",
      "40:\tlearn: 17.4912536\ttotal: 397ms\tremaining: 1.05s\n",
      "41:\tlearn: 17.4350645\ttotal: 408ms\tremaining: 1.05s\n",
      "42:\tlearn: 17.3610065\ttotal: 417ms\tremaining: 1.04s\n",
      "43:\tlearn: 17.3144297\ttotal: 427ms\tremaining: 1.03s\n",
      "44:\tlearn: 17.1624282\ttotal: 437ms\tremaining: 1.02s\n",
      "45:\tlearn: 17.0145253\ttotal: 447ms\tremaining: 1.01s\n",
      "46:\tlearn: 16.9112790\ttotal: 456ms\tremaining: 999ms\n",
      "47:\tlearn: 16.8338809\ttotal: 465ms\tremaining: 988ms\n",
      "48:\tlearn: 16.7571261\ttotal: 478ms\tremaining: 985ms\n",
      "49:\tlearn: 16.7190601\ttotal: 493ms\tremaining: 986ms\n",
      "50:\tlearn: 16.6279501\ttotal: 502ms\tremaining: 975ms\n",
      "51:\tlearn: 16.5742948\ttotal: 511ms\tremaining: 963ms\n",
      "52:\tlearn: 16.4762468\ttotal: 522ms\tremaining: 955ms\n",
      "53:\tlearn: 16.4112326\ttotal: 531ms\tremaining: 944ms\n",
      "54:\tlearn: 16.3806502\ttotal: 541ms\tremaining: 934ms\n",
      "55:\tlearn: 16.3497598\ttotal: 550ms\tremaining: 923ms\n",
      "56:\tlearn: 16.2363962\ttotal: 562ms\tremaining: 916ms\n",
      "57:\tlearn: 16.1114039\ttotal: 576ms\tremaining: 914ms\n",
      "58:\tlearn: 15.9748429\ttotal: 586ms\tremaining: 904ms\n",
      "59:\tlearn: 15.8874693\ttotal: 595ms\tremaining: 893ms\n",
      "60:\tlearn: 15.8349141\ttotal: 605ms\tremaining: 882ms\n",
      "61:\tlearn: 15.6576186\ttotal: 614ms\tremaining: 871ms\n",
      "62:\tlearn: 15.5680981\ttotal: 623ms\tremaining: 861ms\n",
      "63:\tlearn: 15.5019183\ttotal: 634ms\tremaining: 852ms\n",
      "64:\tlearn: 15.4468617\ttotal: 648ms\tremaining: 847ms\n",
      "65:\tlearn: 15.3886164\ttotal: 657ms\tremaining: 836ms\n",
      "66:\tlearn: 15.3524936\ttotal: 667ms\tremaining: 827ms\n",
      "67:\tlearn: 15.2847593\ttotal: 678ms\tremaining: 817ms\n",
      "68:\tlearn: 15.2138206\ttotal: 687ms\tremaining: 806ms\n",
      "69:\tlearn: 15.1249677\ttotal: 695ms\tremaining: 795ms\n",
      "70:\tlearn: 15.0415796\ttotal: 704ms\tremaining: 784ms\n",
      "71:\tlearn: 14.9018566\ttotal: 721ms\tremaining: 781ms\n",
      "72:\tlearn: 14.8673633\ttotal: 733ms\tremaining: 773ms\n",
      "73:\tlearn: 14.8073747\ttotal: 743ms\tremaining: 763ms\n",
      "74:\tlearn: 14.7599501\ttotal: 752ms\tremaining: 752ms\n",
      "75:\tlearn: 14.7499227\ttotal: 761ms\tremaining: 741ms\n",
      "76:\tlearn: 14.7478870\ttotal: 763ms\tremaining: 723ms\n",
      "77:\tlearn: 14.7448292\ttotal: 773ms\tremaining: 714ms\n",
      "78:\tlearn: 14.6701303\ttotal: 785ms\tremaining: 705ms\n",
      "79:\tlearn: 14.6172484\ttotal: 798ms\tremaining: 698ms\n",
      "80:\tlearn: 14.5548213\ttotal: 812ms\tremaining: 692ms\n",
      "81:\tlearn: 14.5098544\ttotal: 826ms\tremaining: 685ms\n",
      "82:\tlearn: 14.4411341\ttotal: 836ms\tremaining: 675ms\n",
      "83:\tlearn: 14.4394070\ttotal: 846ms\tremaining: 665ms\n",
      "84:\tlearn: 14.3916843\ttotal: 858ms\tremaining: 656ms\n",
      "85:\tlearn: 14.3011439\ttotal: 868ms\tremaining: 646ms\n",
      "86:\tlearn: 14.1990356\ttotal: 879ms\tremaining: 637ms\n",
      "87:\tlearn: 14.1530933\ttotal: 891ms\tremaining: 628ms\n",
      "88:\tlearn: 14.1033140\ttotal: 901ms\tremaining: 617ms\n",
      "89:\tlearn: 13.9993616\ttotal: 910ms\tremaining: 606ms\n",
      "90:\tlearn: 13.9665577\ttotal: 919ms\tremaining: 596ms\n",
      "91:\tlearn: 13.9333447\ttotal: 928ms\tremaining: 585ms\n",
      "92:\tlearn: 13.8368801\ttotal: 938ms\tremaining: 575ms\n",
      "93:\tlearn: 13.7675947\ttotal: 949ms\tremaining: 565ms\n",
      "94:\tlearn: 13.7307643\ttotal: 963ms\tremaining: 558ms\n",
      "95:\tlearn: 13.6174877\ttotal: 974ms\tremaining: 548ms\n",
      "96:\tlearn: 13.5439140\ttotal: 984ms\tremaining: 537ms\n",
      "97:\tlearn: 13.4388319\ttotal: 993ms\tremaining: 527ms\n",
      "98:\tlearn: 13.3146311\ttotal: 1s\tremaining: 516ms\n",
      "99:\tlearn: 13.2319349\ttotal: 1.01s\tremaining: 506ms\n",
      "100:\tlearn: 13.1012153\ttotal: 1.02s\tremaining: 496ms\n",
      "101:\tlearn: 13.0429522\ttotal: 1.03s\tremaining: 486ms\n",
      "102:\tlearn: 12.9829394\ttotal: 1.04s\tremaining: 477ms\n",
      "103:\tlearn: 12.8998234\ttotal: 1.06s\tremaining: 468ms\n",
      "104:\tlearn: 12.8507840\ttotal: 1.07s\tremaining: 457ms\n",
      "105:\tlearn: 12.7879645\ttotal: 1.07s\tremaining: 446ms\n",
      "106:\tlearn: 12.7488328\ttotal: 1.08s\tremaining: 436ms\n",
      "107:\tlearn: 12.7035969\ttotal: 1.09s\tremaining: 426ms\n",
      "108:\tlearn: 12.6424252\ttotal: 1.1s\tremaining: 415ms\n",
      "109:\tlearn: 12.6015303\ttotal: 1.11s\tremaining: 405ms\n",
      "110:\tlearn: 12.5269309\ttotal: 1.12s\tremaining: 395ms\n",
      "111:\tlearn: 12.4803596\ttotal: 1.13s\tremaining: 385ms\n",
      "112:\tlearn: 12.4191884\ttotal: 1.14s\tremaining: 375ms\n",
      "113:\tlearn: 12.3868461\ttotal: 1.15s\tremaining: 364ms\n",
      "114:\tlearn: 12.3629444\ttotal: 1.16s\tremaining: 354ms\n",
      "115:\tlearn: 12.3584915\ttotal: 1.17s\tremaining: 344ms\n",
      "116:\tlearn: 12.3036204\ttotal: 1.18s\tremaining: 333ms\n",
      "117:\tlearn: 12.2763135\ttotal: 1.19s\tremaining: 324ms\n",
      "118:\tlearn: 12.2405315\ttotal: 1.21s\tremaining: 314ms\n",
      "119:\tlearn: 12.1621420\ttotal: 1.22s\tremaining: 304ms\n",
      "120:\tlearn: 12.1227790\ttotal: 1.22s\tremaining: 293ms\n",
      "121:\tlearn: 12.0774106\ttotal: 1.23s\tremaining: 283ms\n",
      "122:\tlearn: 12.0213685\ttotal: 1.24s\tremaining: 273ms\n",
      "123:\tlearn: 11.9974687\ttotal: 1.25s\tremaining: 262ms\n",
      "124:\tlearn: 11.9405074\ttotal: 1.26s\tremaining: 252ms\n",
      "125:\tlearn: 11.9150663\ttotal: 1.27s\tremaining: 242ms\n",
      "126:\tlearn: 11.8584339\ttotal: 1.28s\tremaining: 232ms\n",
      "127:\tlearn: 11.8318434\ttotal: 1.29s\tremaining: 222ms\n",
      "128:\tlearn: 11.8033525\ttotal: 1.3s\tremaining: 212ms\n",
      "129:\tlearn: 11.7611641\ttotal: 1.31s\tremaining: 202ms\n",
      "130:\tlearn: 11.6919152\ttotal: 1.32s\tremaining: 191ms\n",
      "131:\tlearn: 11.6358772\ttotal: 1.33s\tremaining: 181ms\n",
      "132:\tlearn: 11.5709833\ttotal: 1.34s\tremaining: 171ms\n",
      "133:\tlearn: 11.5598150\ttotal: 1.35s\tremaining: 161ms\n",
      "134:\tlearn: 11.5399619\ttotal: 1.36s\tremaining: 152ms\n",
      "135:\tlearn: 11.5287986\ttotal: 1.38s\tremaining: 142ms\n",
      "136:\tlearn: 11.5114581\ttotal: 1.38s\tremaining: 131ms\n",
      "137:\tlearn: 11.4951967\ttotal: 1.39s\tremaining: 121ms\n",
      "138:\tlearn: 11.4424810\ttotal: 1.4s\tremaining: 111ms\n",
      "139:\tlearn: 11.4336780\ttotal: 1.41s\tremaining: 101ms\n",
      "140:\tlearn: 11.4153403\ttotal: 1.42s\tremaining: 90.8ms\n",
      "141:\tlearn: 11.3737771\ttotal: 1.43s\tremaining: 80.7ms\n",
      "142:\tlearn: 11.3511006\ttotal: 1.44s\tremaining: 70.7ms\n",
      "143:\tlearn: 11.2916660\ttotal: 1.46s\tremaining: 60.7ms\n",
      "144:\tlearn: 11.2419773\ttotal: 1.47s\tremaining: 50.6ms\n",
      "145:\tlearn: 11.2322763\ttotal: 1.48s\tremaining: 40.5ms\n",
      "146:\tlearn: 11.1928453\ttotal: 1.49s\tremaining: 30.3ms\n",
      "147:\tlearn: 11.1845609\ttotal: 1.5s\tremaining: 20.2ms\n",
      "148:\tlearn: 11.1440396\ttotal: 1.5s\tremaining: 10.1ms\n",
      "149:\tlearn: 11.1228818\ttotal: 1.51s\tremaining: 0us\n",
      "Learning rate set to 0.232269\n",
      "0:\tlearn: 32.6299562\ttotal: 11.5ms\tremaining: 1.72s\n",
      "1:\tlearn: 29.5460779\ttotal: 24.4ms\tremaining: 1.81s\n",
      "2:\tlearn: 27.3073421\ttotal: 39.2ms\tremaining: 1.92s\n",
      "3:\tlearn: 25.7229876\ttotal: 54ms\tremaining: 1.97s\n",
      "4:\tlearn: 24.5966608\ttotal: 68ms\tremaining: 1.97s\n",
      "5:\tlearn: 23.7836326\ttotal: 78.2ms\tremaining: 1.88s\n",
      "6:\tlearn: 23.1452459\ttotal: 89.1ms\tremaining: 1.82s\n",
      "7:\tlearn: 22.7552331\ttotal: 99.5ms\tremaining: 1.77s\n",
      "8:\tlearn: 22.3599186\ttotal: 110ms\tremaining: 1.72s\n",
      "9:\tlearn: 22.0249742\ttotal: 126ms\tremaining: 1.76s\n",
      "10:\tlearn: 21.7904617\ttotal: 137ms\tremaining: 1.73s\n",
      "11:\tlearn: 21.5962887\ttotal: 146ms\tremaining: 1.68s\n",
      "12:\tlearn: 21.4334442\ttotal: 157ms\tremaining: 1.65s\n",
      "13:\tlearn: 21.3034764\ttotal: 167ms\tremaining: 1.62s\n",
      "14:\tlearn: 21.1256070\ttotal: 178ms\tremaining: 1.6s\n",
      "15:\tlearn: 20.9659145\ttotal: 188ms\tremaining: 1.57s\n",
      "16:\tlearn: 20.8060437\ttotal: 203ms\tremaining: 1.59s\n",
      "17:\tlearn: 20.6554419\ttotal: 216ms\tremaining: 1.59s\n",
      "18:\tlearn: 20.5150938\ttotal: 225ms\tremaining: 1.55s\n",
      "19:\tlearn: 20.4040073\ttotal: 235ms\tremaining: 1.53s\n",
      "20:\tlearn: 20.3206522\ttotal: 245ms\tremaining: 1.5s\n",
      "21:\tlearn: 20.2184742\ttotal: 255ms\tremaining: 1.48s\n",
      "22:\tlearn: 20.0871611\ttotal: 264ms\tremaining: 1.46s\n",
      "23:\tlearn: 20.0184468\ttotal: 274ms\tremaining: 1.44s\n",
      "24:\tlearn: 19.9337878\ttotal: 287ms\tremaining: 1.44s\n",
      "25:\tlearn: 19.8517356\ttotal: 301ms\tremaining: 1.43s\n",
      "26:\tlearn: 19.7759917\ttotal: 313ms\tremaining: 1.42s\n",
      "27:\tlearn: 19.6562902\ttotal: 323ms\tremaining: 1.41s\n",
      "28:\tlearn: 19.5651593\ttotal: 333ms\tremaining: 1.39s\n",
      "29:\tlearn: 19.4413355\ttotal: 343ms\tremaining: 1.37s\n",
      "30:\tlearn: 19.3318714\ttotal: 354ms\tremaining: 1.36s\n",
      "31:\tlearn: 19.2806933\ttotal: 364ms\tremaining: 1.34s\n",
      "32:\tlearn: 19.1794356\ttotal: 376ms\tremaining: 1.33s\n",
      "33:\tlearn: 19.0801154\ttotal: 387ms\tremaining: 1.32s\n",
      "34:\tlearn: 18.9531187\ttotal: 397ms\tremaining: 1.3s\n",
      "35:\tlearn: 18.8438043\ttotal: 407ms\tremaining: 1.29s\n",
      "36:\tlearn: 18.7282234\ttotal: 417ms\tremaining: 1.27s\n",
      "37:\tlearn: 18.6470352\ttotal: 427ms\tremaining: 1.26s\n",
      "38:\tlearn: 18.5198841\ttotal: 439ms\tremaining: 1.25s\n",
      "39:\tlearn: 18.4759205\ttotal: 451ms\tremaining: 1.24s\n",
      "40:\tlearn: 18.4283425\ttotal: 460ms\tremaining: 1.22s\n",
      "41:\tlearn: 18.3648308\ttotal: 470ms\tremaining: 1.21s\n",
      "42:\tlearn: 18.3214013\ttotal: 479ms\tremaining: 1.19s\n",
      "43:\tlearn: 18.2299928\ttotal: 489ms\tremaining: 1.18s\n",
      "44:\tlearn: 18.1438800\ttotal: 500ms\tremaining: 1.17s\n",
      "45:\tlearn: 18.0641327\ttotal: 512ms\tremaining: 1.16s\n",
      "46:\tlearn: 17.9533931\ttotal: 523ms\tremaining: 1.15s\n",
      "47:\tlearn: 17.8925726\ttotal: 533ms\tremaining: 1.13s\n",
      "48:\tlearn: 17.7294184\ttotal: 543ms\tremaining: 1.12s\n",
      "49:\tlearn: 17.6451107\ttotal: 552ms\tremaining: 1.1s\n",
      "50:\tlearn: 17.5646630\ttotal: 562ms\tremaining: 1.09s\n",
      "51:\tlearn: 17.4768129\ttotal: 571ms\tremaining: 1.07s\n",
      "52:\tlearn: 17.4071654\ttotal: 580ms\tremaining: 1.06s\n",
      "53:\tlearn: 17.2076220\ttotal: 593ms\tremaining: 1.05s\n",
      "54:\tlearn: 17.1272332\ttotal: 607ms\tremaining: 1.05s\n",
      "55:\tlearn: 17.0409030\ttotal: 617ms\tremaining: 1.04s\n",
      "56:\tlearn: 16.8957635\ttotal: 627ms\tremaining: 1.02s\n",
      "57:\tlearn: 16.8236843\ttotal: 637ms\tremaining: 1.01s\n",
      "58:\tlearn: 16.7099329\ttotal: 647ms\tremaining: 998ms\n",
      "59:\tlearn: 16.6614072\ttotal: 657ms\tremaining: 985ms\n",
      "60:\tlearn: 16.5517727\ttotal: 666ms\tremaining: 972ms\n",
      "61:\tlearn: 16.4743610\ttotal: 681ms\tremaining: 966ms\n",
      "62:\tlearn: 16.4691142\ttotal: 694ms\tremaining: 958ms\n",
      "63:\tlearn: 16.3755023\ttotal: 704ms\tremaining: 946ms\n",
      "64:\tlearn: 16.3175835\ttotal: 715ms\tremaining: 934ms\n",
      "65:\tlearn: 16.2793856\ttotal: 725ms\tremaining: 922ms\n",
      "66:\tlearn: 16.2094757\ttotal: 735ms\tremaining: 910ms\n",
      "67:\tlearn: 16.1095352\ttotal: 746ms\tremaining: 899ms\n",
      "68:\tlearn: 16.0516945\ttotal: 759ms\tremaining: 891ms\n",
      "69:\tlearn: 15.9065017\ttotal: 773ms\tremaining: 883ms\n",
      "70:\tlearn: 15.8442796\ttotal: 783ms\tremaining: 871ms\n",
      "71:\tlearn: 15.7817761\ttotal: 793ms\tremaining: 859ms\n",
      "72:\tlearn: 15.7478018\ttotal: 806ms\tremaining: 850ms\n",
      "73:\tlearn: 15.6863849\ttotal: 817ms\tremaining: 839ms\n",
      "74:\tlearn: 15.6064243\ttotal: 827ms\tremaining: 827ms\n",
      "75:\tlearn: 15.5589153\ttotal: 839ms\tremaining: 817ms\n",
      "76:\tlearn: 15.4483325\ttotal: 851ms\tremaining: 806ms\n",
      "77:\tlearn: 15.3877721\ttotal: 861ms\tremaining: 794ms\n",
      "78:\tlearn: 15.3467235\ttotal: 872ms\tremaining: 784ms\n",
      "79:\tlearn: 15.2554494\ttotal: 882ms\tremaining: 772ms\n",
      "80:\tlearn: 15.2313613\ttotal: 894ms\tremaining: 762ms\n",
      "81:\tlearn: 15.1173066\ttotal: 906ms\tremaining: 752ms\n",
      "82:\tlearn: 15.0515296\ttotal: 917ms\tremaining: 740ms\n",
      "83:\tlearn: 15.0015516\ttotal: 927ms\tremaining: 729ms\n",
      "84:\tlearn: 14.9252072\ttotal: 939ms\tremaining: 718ms\n",
      "85:\tlearn: 14.8623223\ttotal: 950ms\tremaining: 707ms\n",
      "86:\tlearn: 14.8256448\ttotal: 961ms\tremaining: 696ms\n",
      "87:\tlearn: 14.7459781\ttotal: 971ms\tremaining: 684ms\n",
      "88:\tlearn: 14.6448049\ttotal: 987ms\tremaining: 676ms\n",
      "89:\tlearn: 14.6005960\ttotal: 997ms\tremaining: 665ms\n",
      "90:\tlearn: 14.5240934\ttotal: 1.01s\tremaining: 653ms\n",
      "91:\tlearn: 14.4433417\ttotal: 1.02s\tremaining: 641ms\n",
      "92:\tlearn: 14.4237144\ttotal: 1.03s\tremaining: 630ms\n",
      "93:\tlearn: 14.3767514\ttotal: 1.04s\tremaining: 619ms\n",
      "94:\tlearn: 14.3206819\ttotal: 1.05s\tremaining: 607ms\n",
      "95:\tlearn: 14.2827950\ttotal: 1.06s\tremaining: 597ms\n",
      "96:\tlearn: 14.1873068\ttotal: 1.08s\tremaining: 588ms\n",
      "97:\tlearn: 14.1027716\ttotal: 1.09s\tremaining: 576ms\n",
      "98:\tlearn: 14.0756111\ttotal: 1.1s\tremaining: 565ms\n",
      "99:\tlearn: 14.0632267\ttotal: 1.1s\tremaining: 551ms\n",
      "100:\tlearn: 14.0208324\ttotal: 1.11s\tremaining: 539ms\n",
      "101:\tlearn: 13.9226716\ttotal: 1.12s\tremaining: 528ms\n",
      "102:\tlearn: 13.8516487\ttotal: 1.13s\tremaining: 516ms\n",
      "103:\tlearn: 13.8144187\ttotal: 1.14s\tremaining: 505ms\n",
      "104:\tlearn: 13.7478621\ttotal: 1.15s\tremaining: 494ms\n",
      "105:\tlearn: 13.6644732\ttotal: 1.16s\tremaining: 483ms\n",
      "106:\tlearn: 13.5745573\ttotal: 1.17s\tremaining: 471ms\n",
      "107:\tlearn: 13.5382891\ttotal: 1.18s\tremaining: 460ms\n",
      "108:\tlearn: 13.5251077\ttotal: 1.19s\tremaining: 448ms\n",
      "109:\tlearn: 13.4848624\ttotal: 1.2s\tremaining: 437ms\n",
      "110:\tlearn: 13.3808862\ttotal: 1.21s\tremaining: 425ms\n",
      "111:\tlearn: 13.3538929\ttotal: 1.22s\tremaining: 414ms\n",
      "112:\tlearn: 13.2924775\ttotal: 1.23s\tremaining: 403ms\n",
      "113:\tlearn: 13.2405371\ttotal: 1.24s\tremaining: 392ms\n",
      "114:\tlearn: 13.2158074\ttotal: 1.25s\tremaining: 381ms\n",
      "115:\tlearn: 13.1421309\ttotal: 1.26s\tremaining: 369ms\n",
      "116:\tlearn: 13.0591808\ttotal: 1.27s\tremaining: 358ms\n",
      "117:\tlearn: 13.0306158\ttotal: 1.28s\tremaining: 347ms\n",
      "118:\tlearn: 12.9837780\ttotal: 1.29s\tremaining: 336ms\n",
      "119:\tlearn: 12.9235040\ttotal: 1.3s\tremaining: 326ms\n",
      "120:\tlearn: 12.8987093\ttotal: 1.31s\tremaining: 315ms\n",
      "121:\tlearn: 12.8685191\ttotal: 1.32s\tremaining: 304ms\n",
      "122:\tlearn: 12.8430453\ttotal: 1.33s\tremaining: 293ms\n",
      "123:\tlearn: 12.7712764\ttotal: 1.34s\tremaining: 282ms\n",
      "124:\tlearn: 12.7056581\ttotal: 1.35s\tremaining: 271ms\n",
      "125:\tlearn: 12.6615304\ttotal: 1.36s\tremaining: 260ms\n",
      "126:\tlearn: 12.5897231\ttotal: 1.38s\tremaining: 249ms\n",
      "127:\tlearn: 12.5887600\ttotal: 1.39s\tremaining: 239ms\n",
      "128:\tlearn: 12.4928557\ttotal: 1.4s\tremaining: 228ms\n",
      "129:\tlearn: 12.4147821\ttotal: 1.41s\tremaining: 217ms\n",
      "130:\tlearn: 12.3576898\ttotal: 1.42s\tremaining: 206ms\n",
      "131:\tlearn: 12.3338338\ttotal: 1.43s\tremaining: 195ms\n",
      "132:\tlearn: 12.3075176\ttotal: 1.44s\tremaining: 184ms\n",
      "133:\tlearn: 12.2544930\ttotal: 1.45s\tremaining: 173ms\n",
      "134:\tlearn: 12.2395903\ttotal: 1.46s\tremaining: 162ms\n",
      "135:\tlearn: 12.1685258\ttotal: 1.47s\tremaining: 152ms\n",
      "136:\tlearn: 12.1035571\ttotal: 1.49s\tremaining: 141ms\n",
      "137:\tlearn: 12.0164184\ttotal: 1.5s\tremaining: 130ms\n",
      "138:\tlearn: 11.9750057\ttotal: 1.5s\tremaining: 119ms\n",
      "139:\tlearn: 11.9509495\ttotal: 1.51s\tremaining: 108ms\n",
      "140:\tlearn: 11.8947012\ttotal: 1.52s\tremaining: 97.3ms\n",
      "141:\tlearn: 11.8323864\ttotal: 1.53s\tremaining: 86.4ms\n",
      "142:\tlearn: 11.8177587\ttotal: 1.54s\tremaining: 75.6ms\n",
      "143:\tlearn: 11.7948874\ttotal: 1.56s\tremaining: 65ms\n",
      "144:\tlearn: 11.7779950\ttotal: 1.57s\tremaining: 54.3ms\n",
      "145:\tlearn: 11.7310552\ttotal: 1.58s\tremaining: 43.4ms\n",
      "146:\tlearn: 11.7058818\ttotal: 1.59s\tremaining: 32.5ms\n",
      "147:\tlearn: 11.6454319\ttotal: 1.6s\tremaining: 21.7ms\n",
      "148:\tlearn: 11.6284524\ttotal: 1.62s\tremaining: 10.9ms\n",
      "149:\tlearn: 11.5761428\ttotal: 1.63s\tremaining: 0us\n",
      "Learning rate set to 0.237989\n",
      "0:\tlearn: 35.8570405\ttotal: 1.71ms\tremaining: 255ms\n",
      "1:\tlearn: 32.6548345\ttotal: 3.41ms\tremaining: 252ms\n",
      "2:\tlearn: 30.2314181\ttotal: 5.16ms\tremaining: 253ms\n",
      "3:\tlearn: 28.5176553\ttotal: 6.89ms\tremaining: 252ms\n",
      "4:\tlearn: 27.4567364\ttotal: 8.82ms\tremaining: 256ms\n",
      "5:\tlearn: 26.7946063\ttotal: 10.4ms\tremaining: 249ms\n",
      "6:\tlearn: 26.2378953\ttotal: 11.7ms\tremaining: 239ms\n",
      "7:\tlearn: 25.7202493\ttotal: 13.1ms\tremaining: 233ms\n",
      "8:\tlearn: 25.4125910\ttotal: 14.4ms\tremaining: 226ms\n",
      "9:\tlearn: 25.1843123\ttotal: 15.9ms\tremaining: 223ms\n",
      "10:\tlearn: 25.0264051\ttotal: 17.2ms\tremaining: 217ms\n",
      "11:\tlearn: 24.9192438\ttotal: 18.5ms\tremaining: 213ms\n",
      "12:\tlearn: 24.7727260\ttotal: 20ms\tremaining: 210ms\n",
      "13:\tlearn: 24.7015262\ttotal: 21.4ms\tremaining: 207ms\n",
      "14:\tlearn: 24.6535203\ttotal: 23.5ms\tremaining: 212ms\n",
      "15:\tlearn: 24.5614792\ttotal: 25.1ms\tremaining: 210ms\n",
      "16:\tlearn: 24.4764605\ttotal: 26.6ms\tremaining: 208ms\n",
      "17:\tlearn: 24.4433715\ttotal: 28ms\tremaining: 206ms\n",
      "18:\tlearn: 24.4004564\ttotal: 29.6ms\tremaining: 204ms\n",
      "19:\tlearn: 24.3696886\ttotal: 31.5ms\tremaining: 205ms\n",
      "20:\tlearn: 24.3090430\ttotal: 32.8ms\tremaining: 201ms\n",
      "21:\tlearn: 24.2635033\ttotal: 34.1ms\tremaining: 199ms\n",
      "22:\tlearn: 24.1828478\ttotal: 35.5ms\tremaining: 196ms\n",
      "23:\tlearn: 24.1324334\ttotal: 36.8ms\tremaining: 193ms\n",
      "24:\tlearn: 24.0942510\ttotal: 38.1ms\tremaining: 191ms\n",
      "25:\tlearn: 24.0366822\ttotal: 39.4ms\tremaining: 188ms\n",
      "26:\tlearn: 23.9880730\ttotal: 41.3ms\tremaining: 188ms\n",
      "27:\tlearn: 23.9726142\ttotal: 42.8ms\tremaining: 187ms\n",
      "28:\tlearn: 23.8996306\ttotal: 44.9ms\tremaining: 187ms\n",
      "29:\tlearn: 23.8873906\ttotal: 47ms\tremaining: 188ms\n",
      "30:\tlearn: 23.8339152\ttotal: 48.4ms\tremaining: 186ms\n",
      "31:\tlearn: 23.7883653\ttotal: 49.8ms\tremaining: 184ms\n",
      "32:\tlearn: 23.7426333\ttotal: 51.1ms\tremaining: 181ms\n",
      "33:\tlearn: 23.7075296\ttotal: 52.5ms\tremaining: 179ms\n",
      "34:\tlearn: 23.6980278\ttotal: 54.4ms\tremaining: 179ms\n",
      "35:\tlearn: 23.6573621\ttotal: 56.1ms\tremaining: 178ms\n",
      "36:\tlearn: 23.6208494\ttotal: 58ms\tremaining: 177ms\n",
      "37:\tlearn: 23.6000482\ttotal: 59.3ms\tremaining: 175ms\n",
      "38:\tlearn: 23.5926779\ttotal: 60.4ms\tremaining: 172ms\n",
      "39:\tlearn: 23.5609537\ttotal: 61.7ms\tremaining: 170ms\n",
      "40:\tlearn: 23.4981021\ttotal: 63.1ms\tremaining: 168ms\n",
      "41:\tlearn: 23.4528142\ttotal: 64.7ms\tremaining: 166ms\n",
      "42:\tlearn: 23.4390721\ttotal: 66.3ms\tremaining: 165ms\n",
      "43:\tlearn: 23.4277182\ttotal: 68.3ms\tremaining: 165ms\n",
      "44:\tlearn: 23.3946223\ttotal: 69.9ms\tremaining: 163ms\n",
      "45:\tlearn: 23.3091760\ttotal: 71.4ms\tremaining: 161ms\n",
      "46:\tlearn: 23.2657290\ttotal: 72.8ms\tremaining: 160ms\n",
      "47:\tlearn: 23.2494028\ttotal: 74.2ms\tremaining: 158ms\n",
      "48:\tlearn: 23.2010628\ttotal: 75.5ms\tremaining: 156ms\n",
      "49:\tlearn: 23.1539178\ttotal: 76.8ms\tremaining: 154ms\n",
      "50:\tlearn: 23.1386614\ttotal: 78ms\tremaining: 152ms\n",
      "51:\tlearn: 23.1046167\ttotal: 79.3ms\tremaining: 149ms\n",
      "52:\tlearn: 23.1006499\ttotal: 80.5ms\tremaining: 147ms\n",
      "53:\tlearn: 23.0576105\ttotal: 81.8ms\tremaining: 145ms\n",
      "54:\tlearn: 23.0541981\ttotal: 83.1ms\tremaining: 144ms\n",
      "55:\tlearn: 23.0102320\ttotal: 84.3ms\tremaining: 142ms\n",
      "56:\tlearn: 22.9817127\ttotal: 85.6ms\tremaining: 140ms\n",
      "57:\tlearn: 22.9308686\ttotal: 86.9ms\tremaining: 138ms\n",
      "58:\tlearn: 22.9088622\ttotal: 88.2ms\tremaining: 136ms\n",
      "59:\tlearn: 22.9030102\ttotal: 89.6ms\tremaining: 134ms\n",
      "60:\tlearn: 22.8848958\ttotal: 90.9ms\tremaining: 133ms\n",
      "61:\tlearn: 22.8630182\ttotal: 92.4ms\tremaining: 131ms\n",
      "62:\tlearn: 22.8543062\ttotal: 93.6ms\tremaining: 129ms\n",
      "63:\tlearn: 22.8212064\ttotal: 95.5ms\tremaining: 128ms\n",
      "64:\tlearn: 22.8175815\ttotal: 96.9ms\tremaining: 127ms\n",
      "65:\tlearn: 22.7785412\ttotal: 98.2ms\tremaining: 125ms\n",
      "66:\tlearn: 22.7674278\ttotal: 99.4ms\tremaining: 123ms\n",
      "67:\tlearn: 22.7336296\ttotal: 101ms\tremaining: 122ms\n",
      "68:\tlearn: 22.7076940\ttotal: 102ms\tremaining: 120ms\n",
      "69:\tlearn: 22.6507021\ttotal: 104ms\tremaining: 118ms\n",
      "70:\tlearn: 22.6319492\ttotal: 105ms\tremaining: 117ms\n",
      "71:\tlearn: 22.6272529\ttotal: 106ms\tremaining: 115ms\n",
      "72:\tlearn: 22.6248898\ttotal: 108ms\tremaining: 114ms\n",
      "73:\tlearn: 22.5869907\ttotal: 109ms\tremaining: 112ms\n",
      "74:\tlearn: 22.5533786\ttotal: 110ms\tremaining: 110ms\n",
      "75:\tlearn: 22.5263771\ttotal: 112ms\tremaining: 109ms\n",
      "76:\tlearn: 22.4826656\ttotal: 113ms\tremaining: 107ms\n",
      "77:\tlearn: 22.4253222\ttotal: 115ms\tremaining: 106ms\n",
      "78:\tlearn: 22.4039252\ttotal: 116ms\tremaining: 104ms\n",
      "79:\tlearn: 22.3644678\ttotal: 117ms\tremaining: 103ms\n",
      "80:\tlearn: 22.3326175\ttotal: 119ms\tremaining: 101ms\n",
      "81:\tlearn: 22.3154327\ttotal: 121ms\tremaining: 100ms\n",
      "82:\tlearn: 22.2650985\ttotal: 123ms\tremaining: 99ms\n",
      "83:\tlearn: 22.2078693\ttotal: 124ms\tremaining: 97.5ms\n",
      "84:\tlearn: 22.1799068\ttotal: 125ms\tremaining: 95.9ms\n",
      "85:\tlearn: 22.1665697\ttotal: 127ms\tremaining: 94.3ms\n",
      "86:\tlearn: 22.1601439\ttotal: 128ms\tremaining: 92.8ms\n",
      "87:\tlearn: 22.1453986\ttotal: 130ms\tremaining: 91.2ms\n",
      "88:\tlearn: 22.1111718\ttotal: 131ms\tremaining: 89.6ms\n",
      "89:\tlearn: 22.0948394\ttotal: 132ms\tremaining: 88ms\n",
      "90:\tlearn: 22.0550031\ttotal: 133ms\tremaining: 86.4ms\n",
      "91:\tlearn: 22.0436148\ttotal: 135ms\tremaining: 84.8ms\n",
      "92:\tlearn: 22.0130297\ttotal: 136ms\tremaining: 83.2ms\n",
      "93:\tlearn: 21.9879701\ttotal: 137ms\tremaining: 81.7ms\n",
      "94:\tlearn: 21.9606960\ttotal: 138ms\tremaining: 80.1ms\n",
      "95:\tlearn: 21.9439233\ttotal: 140ms\tremaining: 78.5ms\n",
      "96:\tlearn: 21.9162230\ttotal: 141ms\tremaining: 77ms\n",
      "97:\tlearn: 21.9077108\ttotal: 142ms\tremaining: 75.5ms\n",
      "98:\tlearn: 21.8925965\ttotal: 144ms\tremaining: 74ms\n",
      "99:\tlearn: 21.8556419\ttotal: 145ms\tremaining: 72.4ms\n",
      "100:\tlearn: 21.8365417\ttotal: 146ms\tremaining: 70.9ms\n",
      "101:\tlearn: 21.8126074\ttotal: 147ms\tremaining: 69.4ms\n",
      "102:\tlearn: 21.7901353\ttotal: 149ms\tremaining: 67.8ms\n",
      "103:\tlearn: 21.7505893\ttotal: 150ms\tremaining: 66.3ms\n",
      "104:\tlearn: 21.7360102\ttotal: 151ms\tremaining: 64.8ms\n",
      "105:\tlearn: 21.7258527\ttotal: 152ms\tremaining: 63.3ms\n",
      "106:\tlearn: 21.6951709\ttotal: 154ms\tremaining: 61.8ms\n",
      "107:\tlearn: 21.6808603\ttotal: 155ms\tremaining: 60.4ms\n",
      "108:\tlearn: 21.6532213\ttotal: 156ms\tremaining: 58.9ms\n",
      "109:\tlearn: 21.6313151\ttotal: 158ms\tremaining: 57.4ms\n",
      "110:\tlearn: 21.6286468\ttotal: 159ms\tremaining: 55.9ms\n",
      "111:\tlearn: 21.6208121\ttotal: 160ms\tremaining: 54.4ms\n",
      "112:\tlearn: 21.6130059\ttotal: 162ms\tremaining: 52.9ms\n",
      "113:\tlearn: 21.5874232\ttotal: 163ms\tremaining: 51.5ms\n",
      "114:\tlearn: 21.5668292\ttotal: 164ms\tremaining: 50ms\n",
      "115:\tlearn: 21.5173751\ttotal: 166ms\tremaining: 48.6ms\n",
      "116:\tlearn: 21.4955467\ttotal: 167ms\tremaining: 47.1ms\n",
      "117:\tlearn: 21.4690489\ttotal: 168ms\tremaining: 45.6ms\n",
      "118:\tlearn: 21.4620993\ttotal: 169ms\tremaining: 44.1ms\n",
      "119:\tlearn: 21.4557073\ttotal: 171ms\tremaining: 42.7ms\n",
      "120:\tlearn: 21.4227569\ttotal: 172ms\tremaining: 41.2ms\n",
      "121:\tlearn: 21.4008789\ttotal: 174ms\tremaining: 39.9ms\n",
      "122:\tlearn: 21.3906490\ttotal: 176ms\tremaining: 38.6ms\n",
      "123:\tlearn: 21.3815363\ttotal: 177ms\tremaining: 37.2ms\n",
      "124:\tlearn: 21.3564430\ttotal: 179ms\tremaining: 35.7ms\n",
      "125:\tlearn: 21.3433722\ttotal: 180ms\tremaining: 34.3ms\n",
      "126:\tlearn: 21.3107117\ttotal: 181ms\tremaining: 32.8ms\n",
      "127:\tlearn: 21.2969490\ttotal: 183ms\tremaining: 31.4ms\n",
      "128:\tlearn: 21.2551770\ttotal: 184ms\tremaining: 30ms\n",
      "129:\tlearn: 21.2166968\ttotal: 185ms\tremaining: 28.5ms\n",
      "130:\tlearn: 21.1940566\ttotal: 187ms\tremaining: 27.1ms\n",
      "131:\tlearn: 21.1559835\ttotal: 188ms\tremaining: 25.7ms\n",
      "132:\tlearn: 21.1373147\ttotal: 189ms\tremaining: 24.2ms\n",
      "133:\tlearn: 21.1008575\ttotal: 191ms\tremaining: 22.8ms\n",
      "134:\tlearn: 21.0593121\ttotal: 192ms\tremaining: 21.3ms\n",
      "135:\tlearn: 21.0446735\ttotal: 194ms\tremaining: 19.9ms\n",
      "136:\tlearn: 21.0065166\ttotal: 195ms\tremaining: 18.5ms\n",
      "137:\tlearn: 20.9903462\ttotal: 196ms\tremaining: 17.1ms\n",
      "138:\tlearn: 20.9534890\ttotal: 197ms\tremaining: 15.6ms\n",
      "139:\tlearn: 20.9293881\ttotal: 199ms\tremaining: 14.2ms\n",
      "140:\tlearn: 20.9213604\ttotal: 200ms\tremaining: 12.8ms\n",
      "141:\tlearn: 20.8994840\ttotal: 201ms\tremaining: 11.3ms\n",
      "142:\tlearn: 20.8904287\ttotal: 203ms\tremaining: 9.92ms\n",
      "143:\tlearn: 20.8611472\ttotal: 204ms\tremaining: 8.5ms\n",
      "144:\tlearn: 20.8535501\ttotal: 205ms\tremaining: 7.08ms\n",
      "145:\tlearn: 20.8421448\ttotal: 207ms\tremaining: 5.67ms\n",
      "146:\tlearn: 20.8110063\ttotal: 208ms\tremaining: 4.25ms\n",
      "147:\tlearn: 20.7991391\ttotal: 210ms\tremaining: 2.83ms\n",
      "148:\tlearn: 20.7778502\ttotal: 211ms\tremaining: 1.42ms\n",
      "149:\tlearn: 20.7565095\ttotal: 212ms\tremaining: 0us\n",
      "CPU times: user 19.9 s, sys: 1.11 s, total: 21 s\n",
      "Wall time: 40.5 s\n"
     ]
    }
   ],
   "source": [
    "%%time\n",
    "scoring_fit = 'neg_mean_squared_error'\n",
    "\n",
    "cat_features = ['hour']\n",
    "\n",
    "model_cat = CatBoostRegressor(cat_features=cat_features)\n",
    "param_grid  = {'n_estimators':[50,100,150],\n",
    "               'max_depth':[5,10],\n",
    "}\n",
    "gs = GridSearchCV (model_cat,param_grid,cv = cv,scoring = scoring_fit)\n",
    "fitted_cat = gs.fit(X_train,y_train,cat_features=cat_features)\n",
    "\n",
    "pred = fitted_cat.predict(X_test) \n",
    "def rmse(y, predictions):\n",
    "    return (((y_test-pred)**2).mean())**0.5\n",
    "rmse_cat = rmse(y_test, pred) "
   ]
  },
  {
   "cell_type": "code",
   "execution_count": 38,
   "id": "441e1c3e",
   "metadata": {},
   "outputs": [
    {
     "name": "stdout",
     "output_type": "stream",
     "text": [
      "rmse при работе модели catboost 44.961602243727164\n",
      "наилучшие параметры модели catboost {'max_depth': 5, 'n_estimators': 150}\n"
     ]
    }
   ],
   "source": [
    "print (\"rmse при работе модели catboost\", rmse_cat)\n",
    "print (\"наилучшие параметры модели catboost\", fitted_cat.best_params_)"
   ]
  },
  {
   "cell_type": "code",
   "execution_count": 39,
   "id": "2b3a33b9",
   "metadata": {},
   "outputs": [
    {
     "name": "stdout",
     "output_type": "stream",
     "text": [
      "44.961602243727164\n"
     ]
    }
   ],
   "source": [
    "rmse_cat_test = (np.sqrt(mae(y_test, pred))) \n",
    "print(rmse_cat)"
   ]
  },
  {
   "cell_type": "code",
   "execution_count": 40,
   "id": "f088e336",
   "metadata": {},
   "outputs": [],
   "source": [
    "def score_func(X_train, prediction):\n",
    "    return np.sqrt(mae(X_train, predictions, squared=Flase))\n",
    "\n",
    "rmse = make_scorer(score_func, greater_is_better = False)"
   ]
  },
  {
   "cell_type": "markdown",
   "id": "32cc8d71",
   "metadata": {},
   "source": [
    "### Линейная регрессия после TimeSeriesSplit"
   ]
  },
  {
   "cell_type": "code",
   "execution_count": 41,
   "id": "675ab00e",
   "metadata": {},
   "outputs": [
    {
     "name": "stdout",
     "output_type": "stream",
     "text": [
      "MAE LR: -1073.3211624849866\n",
      "RMSE LR: 32.76158058587813\n",
      "{'fit_intercept': True, 'normalize': True}\n"
     ]
    }
   ],
   "source": [
    "model_lr = LinearRegression()\n",
    "param_lr = {'fit_intercept':[True,False],'normalize':[True,False]}\n",
    "model_lr_grid = GridSearchCV(model_lr,param_lr, cv=cv, scoring = 'neg_mean_squared_error')\n",
    "model_lr_grid.fit(X_train,y_train)\n",
    "\n",
    "MAE_LR = model_lr_grid.best_score_\n",
    "RMSE_LR_TS = np.sqrt(abs(MAE_LR))\n",
    "\n",
    "print(\"MAE LR:\",model_lr_grid.best_score_)\n",
    "print(\"RMSE LR:\",RMSE_LR_TS)\n",
    "print(model_lr_grid.best_params_)"
   ]
  },
  {
   "cell_type": "markdown",
   "id": "d430b1e8",
   "metadata": {},
   "source": [
    "scoring = 'neg_mean_squared_error'. Там заложена так, чтобы искать минимамльную ошибку. И в итоге возникает минус. Но на него можно не обращать внимание."
   ]
  },
  {
   "cell_type": "markdown",
   "id": "e6827cb2",
   "metadata": {},
   "source": [
    "## Результаты работы моделей"
   ]
  },
  {
   "cell_type": "code",
   "execution_count": 44,
   "id": "d4195e7e",
   "metadata": {},
   "outputs": [
    {
     "data": {
      "text/plain": [
       "RMSE RF           48.803622\n",
       "RMSE LR           54.115856\n",
       "RMSE Catboost     44.961602\n",
       "RMSE_LR_TS        32.761581\n",
       "dtype: float64"
      ]
     },
     "execution_count": 44,
     "metadata": {},
     "output_type": "execute_result"
    }
   ],
   "source": [
    "result_models = pd.Series({\"RMSE RF\":RMSE_RF,\"RMSE LR\":RMSE_LR,'RMSE Catboost ':rmse_cat,\"RMSE_LR_TS\":RMSE_LR_TS})\n",
    "result_models"
   ]
  },
  {
   "cell_type": "markdown",
   "id": "2bb2a025",
   "metadata": {},
   "source": [
    "## Предсказание заказов такси"
   ]
  },
  {
   "cell_type": "code",
   "execution_count": 54,
   "id": "e5905fef",
   "metadata": {},
   "outputs": [
    {
     "data": {
      "image/png": "[encoded data removed]",
      "text/plain": [
       "<Figure size 432x288 with 1 Axes>"
      ]
     },
     "metadata": {
      "needs_background": "light"
     },
     "output_type": "display_data"
    }
   ],
   "source": [
    "sns.lineplot(x=y_test.index,\n",
    "                y = y_test, label = 'График заказов такси по текущим данным')\n",
    "sns.lineplot(x=y_test.index,\n",
    "                y = pred_lr_grid, label = 'Предсказания заказов такси')\n",
    "plt.legend(loc = 'upper right')\n",
    "plt.title ('График предсказания заказов такси на следующий час')\n",
    "plt.xlim(pd.Timestamp('2018-08-17'), pd.Timestamp('2018-08-18'))\n",
    "plt.xticks(rotation=45 )\n",
    "plt.show()"
   ]
  },
  {
   "cell_type": "markdown",
   "id": "a66da2dc",
   "metadata": {},
   "source": [
    "### Общий вывод и результаты"
   ]
  },
  {
   "cell_type": "markdown",
   "id": "17d7959d",
   "metadata": {},
   "source": [
    "Требование задания об RMSE менее 48 при работе модели выполенено в моделях градиентного бустсинга RMSE Catboost = 44.961602 и в модели лиеной регрессси после применения TimeSeriesSplit при разделении датасета и подборе  гиперпараметров в гридссерч RMSE_LR_TS = 32.761581. Результат работы Линейной регресии после TimeSeriesSplit показал наилучшие результаты.\n",
    "\n",
    "Результы предскзааний -- падение количество заказов такси от 50 до 65 шт. на следующий час в августе 2018 года. "
   ]
  }
 ],
 "metadata": {
  "ExecuteTimeLog": [
   {
    "duration": 1442,
    "start_time": "2022-06-03T03:49:20.164Z"
   },
   {
    "duration": 20,
    "start_time": "2022-06-03T03:49:24.477Z"
   },
   {
    "duration": 51,
    "start_time": "2022-06-03T03:49:25.905Z"
   },
   {
    "duration": 5,
    "start_time": "2022-06-03T03:49:26.553Z"
   },
   {
    "duration": 13,
    "start_time": "2022-06-03T03:49:27.013Z"
   },
   {
    "duration": 13,
    "start_time": "2022-06-03T03:49:27.425Z"
   },
   {
    "duration": 11,
    "start_time": "2022-06-03T03:49:27.661Z"
   },
   {
    "duration": 6,
    "start_time": "2022-06-03T03:49:27.942Z"
   },
   {
    "duration": 6,
    "start_time": "2022-06-03T03:49:28.385Z"
   },
   {
    "duration": 14,
    "start_time": "2022-06-03T03:49:36.242Z"
   },
   {
    "duration": 12,
    "start_time": "2022-06-03T03:49:37.215Z"
   },
   {
    "duration": 3,
    "start_time": "2022-06-03T03:49:37.420Z"
   },
   {
    "duration": 6,
    "start_time": "2022-06-03T03:49:37.655Z"
   },
   {
    "duration": 8,
    "start_time": "2022-06-03T03:49:52.984Z"
   },
   {
    "duration": 4,
    "start_time": "2022-06-03T03:49:53.518Z"
   },
   {
    "duration": 6,
    "start_time": "2022-06-03T03:49:53.722Z"
   },
   {
    "duration": 243,
    "start_time": "2022-06-03T03:50:10.940Z"
   },
   {
    "duration": 260,
    "start_time": "2022-06-03T03:50:12.861Z"
   },
   {
    "duration": 253,
    "start_time": "2022-06-03T03:50:14.239Z"
   },
   {
    "duration": 254,
    "start_time": "2022-06-03T03:50:15.882Z"
   },
   {
    "duration": 4,
    "start_time": "2022-06-03T03:50:19.226Z"
   },
   {
    "duration": 7,
    "start_time": "2022-06-03T03:50:21.186Z"
   },
   {
    "duration": 6,
    "start_time": "2022-06-03T03:50:21.959Z"
   },
   {
    "duration": 8,
    "start_time": "2022-06-03T03:50:23.609Z"
   },
   {
    "duration": 9,
    "start_time": "2022-06-03T03:50:36.654Z"
   },
   {
    "duration": 11,
    "start_time": "2022-06-03T03:50:38.412Z"
   },
   {
    "duration": 18,
    "start_time": "2022-06-03T03:50:43.936Z"
   },
   {
    "duration": 1121,
    "start_time": "2022-06-03T03:50:44.516Z"
   },
   {
    "duration": 4,
    "start_time": "2022-06-03T03:50:51.253Z"
   },
   {
    "duration": 5,
    "start_time": "2022-06-03T03:50:51.882Z"
   },
   {
    "duration": 5,
    "start_time": "2022-06-03T03:50:52.150Z"
   },
   {
    "duration": 10,
    "start_time": "2022-06-03T03:50:52.511Z"
   },
   {
    "duration": 6,
    "start_time": "2022-06-03T03:50:52.716Z"
   },
   {
    "duration": 1326,
    "start_time": "2022-06-03T03:50:56.416Z"
   },
   {
    "duration": 12,
    "start_time": "2022-06-03T03:51:03.414Z"
   },
   {
    "duration": 62,
    "start_time": "2022-06-03T11:15:25.941Z"
   },
   {
    "duration": 1559,
    "start_time": "2022-06-03T11:15:33.628Z"
   },
   {
    "duration": 2717,
    "start_time": "2022-06-03T11:15:35.189Z"
   },
   {
    "duration": 25,
    "start_time": "2022-06-03T11:15:37.908Z"
   },
   {
    "duration": 156,
    "start_time": "2022-06-03T11:15:37.935Z"
   },
   {
    "duration": 6,
    "start_time": "2022-06-03T11:15:38.093Z"
   },
   {
    "duration": 26,
    "start_time": "2022-06-03T11:15:38.100Z"
   },
   {
    "duration": 20,
    "start_time": "2022-06-03T11:15:38.129Z"
   },
   {
    "duration": 15,
    "start_time": "2022-06-03T11:15:38.151Z"
   },
   {
    "duration": 17,
    "start_time": "2022-06-03T11:15:38.168Z"
   },
   {
    "duration": 16,
    "start_time": "2022-06-03T11:15:38.187Z"
   },
   {
    "duration": 36,
    "start_time": "2022-06-03T11:15:38.205Z"
   },
   {
    "duration": 28,
    "start_time": "2022-06-03T11:15:38.243Z"
   },
   {
    "duration": 25,
    "start_time": "2022-06-03T11:15:38.273Z"
   },
   {
    "duration": 30,
    "start_time": "2022-06-03T11:15:38.303Z"
   },
   {
    "duration": 331,
    "start_time": "2022-06-03T11:15:38.334Z"
   },
   {
    "duration": 267,
    "start_time": "2022-06-03T11:15:38.666Z"
   },
   {
    "duration": 264,
    "start_time": "2022-06-03T11:15:38.935Z"
   },
   {
    "duration": 282,
    "start_time": "2022-06-03T11:15:39.201Z"
   },
   {
    "duration": 5,
    "start_time": "2022-06-03T11:15:39.489Z"
   },
   {
    "duration": 31,
    "start_time": "2022-06-03T11:15:39.495Z"
   },
   {
    "duration": 8,
    "start_time": "2022-06-03T11:15:39.528Z"
   },
   {
    "duration": 23,
    "start_time": "2022-06-03T11:15:39.538Z"
   },
   {
    "duration": 32,
    "start_time": "2022-06-03T11:15:39.563Z"
   },
   {
    "duration": 27,
    "start_time": "2022-06-03T11:15:39.597Z"
   },
   {
    "duration": 127,
    "start_time": "2022-06-03T11:15:39.625Z"
   },
   {
    "duration": 1061,
    "start_time": "2022-06-03T11:15:39.755Z"
   },
   {
    "duration": 3,
    "start_time": "2022-06-03T11:15:40.818Z"
   },
   {
    "duration": 6,
    "start_time": "2022-06-03T11:15:40.823Z"
   },
   {
    "duration": 6,
    "start_time": "2022-06-03T11:15:40.831Z"
   },
   {
    "duration": 12,
    "start_time": "2022-06-03T11:15:40.838Z"
   },
   {
    "duration": 5,
    "start_time": "2022-06-03T11:15:40.851Z"
   },
   {
    "duration": 1421,
    "start_time": "2022-06-03T11:15:40.857Z"
   },
   {
    "duration": 25,
    "start_time": "2022-06-03T11:15:42.280Z"
   },
   {
    "duration": 93,
    "start_time": "2022-06-03T11:15:42.307Z"
   },
   {
    "duration": 37066,
    "start_time": "2022-06-03T11:15:42.403Z"
   },
   {
    "duration": 3,
    "start_time": "2022-06-03T11:16:19.473Z"
   },
   {
    "duration": 11,
    "start_time": "2022-06-03T11:16:19.478Z"
   },
   {
    "duration": 9,
    "start_time": "2022-06-03T11:16:19.491Z"
   },
   {
    "duration": 289,
    "start_time": "2022-06-03T11:16:19.501Z"
   },
   {
    "duration": 3,
    "start_time": "2022-06-03T11:16:19.791Z"
   },
   {
    "duration": 3,
    "start_time": "2022-06-03T11:16:19.799Z"
   },
   {
    "duration": 13,
    "start_time": "2022-06-03T11:16:19.804Z"
   },
   {
    "duration": 166,
    "start_time": "2022-06-03T11:17:05.512Z"
   },
   {
    "duration": 1385,
    "start_time": "2022-06-03T11:17:13.621Z"
   },
   {
    "duration": 2483,
    "start_time": "2022-06-03T11:17:15.008Z"
   },
   {
    "duration": 24,
    "start_time": "2022-06-03T11:17:17.492Z"
   },
   {
    "duration": 52,
    "start_time": "2022-06-03T11:17:17.518Z"
   },
   {
    "duration": 6,
    "start_time": "2022-06-03T11:17:17.572Z"
   },
   {
    "duration": 12,
    "start_time": "2022-06-03T11:17:17.580Z"
   },
   {
    "duration": 17,
    "start_time": "2022-06-03T11:17:17.593Z"
   },
   {
    "duration": 10,
    "start_time": "2022-06-03T11:17:17.611Z"
   },
   {
    "duration": 5,
    "start_time": "2022-06-03T11:17:17.623Z"
   },
   {
    "duration": 20,
    "start_time": "2022-06-03T11:17:17.629Z"
   },
   {
    "duration": 15,
    "start_time": "2022-06-03T11:17:17.651Z"
   },
   {
    "duration": 29,
    "start_time": "2022-06-03T11:17:17.668Z"
   },
   {
    "duration": 4,
    "start_time": "2022-06-03T11:17:17.699Z"
   },
   {
    "duration": 11,
    "start_time": "2022-06-03T11:17:17.707Z"
   },
   {
    "duration": 299,
    "start_time": "2022-06-03T11:17:17.724Z"
   },
   {
    "duration": 153,
    "start_time": "2022-06-03T11:17:18.025Z"
   },
   {
    "duration": 0,
    "start_time": "2022-06-03T11:17:18.180Z"
   },
   {
    "duration": 0,
    "start_time": "2022-06-03T11:17:18.182Z"
   },
   {
    "duration": 0,
    "start_time": "2022-06-03T11:17:18.183Z"
   },
   {
    "duration": 0,
    "start_time": "2022-06-03T11:17:18.189Z"
   },
   {
    "duration": 0,
    "start_time": "2022-06-03T11:17:18.190Z"
   },
   {
    "duration": 0,
    "start_time": "2022-06-03T11:17:18.191Z"
   },
   {
    "duration": 0,
    "start_time": "2022-06-03T11:17:18.192Z"
   },
   {
    "duration": 0,
    "start_time": "2022-06-03T11:17:18.194Z"
   },
   {
    "duration": 0,
    "start_time": "2022-06-03T11:17:18.195Z"
   },
   {
    "duration": 0,
    "start_time": "2022-06-03T11:17:18.197Z"
   },
   {
    "duration": 0,
    "start_time": "2022-06-03T11:17:18.198Z"
   },
   {
    "duration": 0,
    "start_time": "2022-06-03T11:17:18.200Z"
   },
   {
    "duration": 0,
    "start_time": "2022-06-03T11:17:18.201Z"
   },
   {
    "duration": 0,
    "start_time": "2022-06-03T11:17:18.203Z"
   },
   {
    "duration": 0,
    "start_time": "2022-06-03T11:17:18.204Z"
   },
   {
    "duration": 0,
    "start_time": "2022-06-03T11:17:18.207Z"
   },
   {
    "duration": 0,
    "start_time": "2022-06-03T11:17:18.208Z"
   },
   {
    "duration": 0,
    "start_time": "2022-06-03T11:17:18.209Z"
   },
   {
    "duration": 0,
    "start_time": "2022-06-03T11:17:18.210Z"
   },
   {
    "duration": 0,
    "start_time": "2022-06-03T11:17:18.211Z"
   },
   {
    "duration": 0,
    "start_time": "2022-06-03T11:17:18.213Z"
   },
   {
    "duration": 0,
    "start_time": "2022-06-03T11:17:18.214Z"
   },
   {
    "duration": 0,
    "start_time": "2022-06-03T11:17:18.215Z"
   },
   {
    "duration": 0,
    "start_time": "2022-06-03T11:17:18.217Z"
   },
   {
    "duration": 0,
    "start_time": "2022-06-03T11:17:18.218Z"
   },
   {
    "duration": 0,
    "start_time": "2022-06-03T11:17:18.219Z"
   },
   {
    "duration": 235,
    "start_time": "2022-06-03T11:17:25.887Z"
   },
   {
    "duration": 250,
    "start_time": "2022-06-03T11:18:40.662Z"
   },
   {
    "duration": 4,
    "start_time": "2022-06-03T11:20:53.786Z"
   },
   {
    "duration": 706,
    "start_time": "2022-06-03T11:21:17.598Z"
   },
   {
    "duration": 742,
    "start_time": "2022-06-03T11:22:16.897Z"
   },
   {
    "duration": 766,
    "start_time": "2022-06-03T11:24:08.390Z"
   },
   {
    "duration": 599,
    "start_time": "2022-06-03T11:24:37.177Z"
   },
   {
    "duration": 7,
    "start_time": "2022-06-03T11:24:55.514Z"
   },
   {
    "duration": 894,
    "start_time": "2022-06-03T11:25:12.285Z"
   },
   {
    "duration": 15,
    "start_time": "2022-06-03T11:27:26.464Z"
   },
   {
    "duration": 1309,
    "start_time": "2022-06-03T11:27:36.025Z"
   },
   {
    "duration": 2398,
    "start_time": "2022-06-03T11:27:37.336Z"
   },
   {
    "duration": 25,
    "start_time": "2022-06-03T11:27:39.736Z"
   },
   {
    "duration": 52,
    "start_time": "2022-06-03T11:27:39.762Z"
   },
   {
    "duration": 6,
    "start_time": "2022-06-03T11:27:39.816Z"
   },
   {
    "duration": 12,
    "start_time": "2022-06-03T11:27:39.824Z"
   },
   {
    "duration": 13,
    "start_time": "2022-06-03T11:27:39.838Z"
   },
   {
    "duration": 10,
    "start_time": "2022-06-03T11:27:39.853Z"
   },
   {
    "duration": 28,
    "start_time": "2022-06-03T11:27:39.865Z"
   },
   {
    "duration": 11,
    "start_time": "2022-06-03T11:27:39.895Z"
   },
   {
    "duration": 14,
    "start_time": "2022-06-03T11:27:39.907Z"
   },
   {
    "duration": 11,
    "start_time": "2022-06-03T11:27:39.923Z"
   },
   {
    "duration": 4,
    "start_time": "2022-06-03T11:27:39.935Z"
   },
   {
    "duration": 5,
    "start_time": "2022-06-03T11:27:39.942Z"
   },
   {
    "duration": 285,
    "start_time": "2022-06-03T11:27:39.949Z"
   },
   {
    "duration": 8,
    "start_time": "2022-06-03T11:27:40.236Z"
   },
   {
    "duration": 185,
    "start_time": "2022-06-03T11:27:40.245Z"
   },
   {
    "duration": 0,
    "start_time": "2022-06-03T11:27:40.432Z"
   },
   {
    "duration": 0,
    "start_time": "2022-06-03T11:27:40.434Z"
   },
   {
    "duration": 0,
    "start_time": "2022-06-03T11:27:40.435Z"
   },
   {
    "duration": 0,
    "start_time": "2022-06-03T11:27:40.436Z"
   },
   {
    "duration": 0,
    "start_time": "2022-06-03T11:27:40.437Z"
   },
   {
    "duration": 0,
    "start_time": "2022-06-03T11:27:40.438Z"
   },
   {
    "duration": 0,
    "start_time": "2022-06-03T11:27:40.440Z"
   },
   {
    "duration": 0,
    "start_time": "2022-06-03T11:27:40.441Z"
   },
   {
    "duration": 0,
    "start_time": "2022-06-03T11:27:40.442Z"
   },
   {
    "duration": 0,
    "start_time": "2022-06-03T11:27:40.443Z"
   },
   {
    "duration": 0,
    "start_time": "2022-06-03T11:27:40.444Z"
   },
   {
    "duration": 0,
    "start_time": "2022-06-03T11:27:40.445Z"
   },
   {
    "duration": 0,
    "start_time": "2022-06-03T11:27:40.446Z"
   },
   {
    "duration": 0,
    "start_time": "2022-06-03T11:27:40.447Z"
   },
   {
    "duration": 0,
    "start_time": "2022-06-03T11:27:40.449Z"
   },
   {
    "duration": 0,
    "start_time": "2022-06-03T11:27:40.450Z"
   },
   {
    "duration": 0,
    "start_time": "2022-06-03T11:27:40.451Z"
   },
   {
    "duration": 0,
    "start_time": "2022-06-03T11:27:40.452Z"
   },
   {
    "duration": 0,
    "start_time": "2022-06-03T11:27:40.453Z"
   },
   {
    "duration": 0,
    "start_time": "2022-06-03T11:27:40.454Z"
   },
   {
    "duration": 0,
    "start_time": "2022-06-03T11:27:40.490Z"
   },
   {
    "duration": 0,
    "start_time": "2022-06-03T11:27:40.491Z"
   },
   {
    "duration": 0,
    "start_time": "2022-06-03T11:27:40.493Z"
   },
   {
    "duration": 0,
    "start_time": "2022-06-03T11:27:40.494Z"
   },
   {
    "duration": 0,
    "start_time": "2022-06-03T11:27:40.495Z"
   },
   {
    "duration": 0,
    "start_time": "2022-06-03T11:27:40.496Z"
   },
   {
    "duration": 0,
    "start_time": "2022-06-03T11:27:40.497Z"
   },
   {
    "duration": 0,
    "start_time": "2022-06-03T11:27:40.499Z"
   },
   {
    "duration": 1487,
    "start_time": "2022-06-03T11:27:57.552Z"
   },
   {
    "duration": 2410,
    "start_time": "2022-06-03T11:27:59.041Z"
   },
   {
    "duration": 26,
    "start_time": "2022-06-03T11:28:01.454Z"
   },
   {
    "duration": 55,
    "start_time": "2022-06-03T11:28:01.482Z"
   },
   {
    "duration": 7,
    "start_time": "2022-06-03T11:28:01.539Z"
   },
   {
    "duration": 51,
    "start_time": "2022-06-03T11:28:01.548Z"
   },
   {
    "duration": 42,
    "start_time": "2022-06-03T11:28:01.601Z"
   },
   {
    "duration": 34,
    "start_time": "2022-06-03T11:28:01.645Z"
   },
   {
    "duration": 35,
    "start_time": "2022-06-03T11:28:01.681Z"
   },
   {
    "duration": 40,
    "start_time": "2022-06-03T11:28:01.719Z"
   },
   {
    "duration": 34,
    "start_time": "2022-06-03T11:28:01.761Z"
   },
   {
    "duration": 50,
    "start_time": "2022-06-03T11:28:01.797Z"
   },
   {
    "duration": 27,
    "start_time": "2022-06-03T11:28:01.849Z"
   },
   {
    "duration": 39,
    "start_time": "2022-06-03T11:28:01.878Z"
   },
   {
    "duration": 324,
    "start_time": "2022-06-03T11:28:01.920Z"
   },
   {
    "duration": 7,
    "start_time": "2022-06-03T11:28:02.246Z"
   },
   {
    "duration": 197,
    "start_time": "2022-06-03T11:28:02.254Z"
   },
   {
    "duration": 0,
    "start_time": "2022-06-03T11:28:02.453Z"
   },
   {
    "duration": 0,
    "start_time": "2022-06-03T11:28:02.455Z"
   },
   {
    "duration": 0,
    "start_time": "2022-06-03T11:28:02.456Z"
   },
   {
    "duration": 0,
    "start_time": "2022-06-03T11:28:02.457Z"
   },
   {
    "duration": 0,
    "start_time": "2022-06-03T11:28:02.458Z"
   },
   {
    "duration": 0,
    "start_time": "2022-06-03T11:28:02.459Z"
   },
   {
    "duration": 0,
    "start_time": "2022-06-03T11:28:02.460Z"
   },
   {
    "duration": 0,
    "start_time": "2022-06-03T11:28:02.461Z"
   },
   {
    "duration": 0,
    "start_time": "2022-06-03T11:28:02.462Z"
   },
   {
    "duration": 0,
    "start_time": "2022-06-03T11:28:02.463Z"
   },
   {
    "duration": 0,
    "start_time": "2022-06-03T11:28:02.464Z"
   },
   {
    "duration": 0,
    "start_time": "2022-06-03T11:28:02.465Z"
   },
   {
    "duration": 0,
    "start_time": "2022-06-03T11:28:02.466Z"
   },
   {
    "duration": 0,
    "start_time": "2022-06-03T11:28:02.489Z"
   },
   {
    "duration": 0,
    "start_time": "2022-06-03T11:28:02.490Z"
   },
   {
    "duration": 0,
    "start_time": "2022-06-03T11:28:02.491Z"
   },
   {
    "duration": 0,
    "start_time": "2022-06-03T11:28:02.492Z"
   },
   {
    "duration": 0,
    "start_time": "2022-06-03T11:28:02.493Z"
   },
   {
    "duration": 0,
    "start_time": "2022-06-03T11:28:02.494Z"
   },
   {
    "duration": 0,
    "start_time": "2022-06-03T11:28:02.495Z"
   },
   {
    "duration": 0,
    "start_time": "2022-06-03T11:28:02.496Z"
   },
   {
    "duration": 0,
    "start_time": "2022-06-03T11:28:02.497Z"
   },
   {
    "duration": 0,
    "start_time": "2022-06-03T11:28:02.498Z"
   },
   {
    "duration": 0,
    "start_time": "2022-06-03T11:28:02.499Z"
   },
   {
    "duration": 0,
    "start_time": "2022-06-03T11:28:02.501Z"
   },
   {
    "duration": 0,
    "start_time": "2022-06-03T11:28:02.502Z"
   },
   {
    "duration": 0,
    "start_time": "2022-06-03T11:28:02.503Z"
   },
   {
    "duration": 0,
    "start_time": "2022-06-03T11:28:02.506Z"
   },
   {
    "duration": 179,
    "start_time": "2022-06-03T11:28:32.191Z"
   },
   {
    "duration": 175,
    "start_time": "2022-06-03T11:29:27.748Z"
   },
   {
    "duration": 180,
    "start_time": "2022-06-03T11:29:36.505Z"
   },
   {
    "duration": 16,
    "start_time": "2022-06-03T11:30:01.516Z"
   },
   {
    "duration": 10,
    "start_time": "2022-06-03T11:30:06.399Z"
   },
   {
    "duration": 202,
    "start_time": "2022-06-03T11:30:32.142Z"
   },
   {
    "duration": 1635,
    "start_time": "2022-06-04T18:40:19.559Z"
   },
   {
    "duration": 2750,
    "start_time": "2022-06-04T18:40:21.196Z"
   },
   {
    "duration": 25,
    "start_time": "2022-06-04T18:40:23.948Z"
   },
   {
    "duration": 146,
    "start_time": "2022-06-04T18:40:23.976Z"
   },
   {
    "duration": 11,
    "start_time": "2022-06-04T18:40:24.124Z"
   },
   {
    "duration": 25,
    "start_time": "2022-06-04T18:40:24.137Z"
   },
   {
    "duration": 16,
    "start_time": "2022-06-04T18:40:24.163Z"
   },
   {
    "duration": 13,
    "start_time": "2022-06-04T18:40:24.181Z"
   },
   {
    "duration": 11,
    "start_time": "2022-06-04T18:40:24.196Z"
   },
   {
    "duration": 23,
    "start_time": "2022-06-04T18:40:24.225Z"
   },
   {
    "duration": 16,
    "start_time": "2022-06-04T18:40:24.249Z"
   },
   {
    "duration": 10,
    "start_time": "2022-06-04T18:40:24.266Z"
   },
   {
    "duration": 3,
    "start_time": "2022-06-04T18:40:24.278Z"
   },
   {
    "duration": 11,
    "start_time": "2022-06-04T18:40:24.283Z"
   },
   {
    "duration": 269,
    "start_time": "2022-06-04T18:40:24.296Z"
   },
   {
    "duration": 13,
    "start_time": "2022-06-04T18:40:24.567Z"
   },
   {
    "duration": 194,
    "start_time": "2022-06-04T18:40:24.583Z"
   },
   {
    "duration": 191,
    "start_time": "2022-06-04T18:40:24.779Z"
   },
   {
    "duration": 240,
    "start_time": "2022-06-04T18:40:24.971Z"
   },
   {
    "duration": 264,
    "start_time": "2022-06-04T18:40:25.213Z"
   },
   {
    "duration": 5,
    "start_time": "2022-06-04T18:40:25.478Z"
   },
   {
    "duration": 7,
    "start_time": "2022-06-04T18:40:25.485Z"
   },
   {
    "duration": 7,
    "start_time": "2022-06-04T18:40:25.493Z"
   },
   {
    "duration": 25,
    "start_time": "2022-06-04T18:40:25.502Z"
   },
   {
    "duration": 15,
    "start_time": "2022-06-04T18:40:25.529Z"
   },
   {
    "duration": 13,
    "start_time": "2022-06-04T18:40:25.546Z"
   },
   {
    "duration": 156,
    "start_time": "2022-06-04T18:40:25.561Z"
   },
   {
    "duration": 940,
    "start_time": "2022-06-04T18:40:25.728Z"
   },
   {
    "duration": 4,
    "start_time": "2022-06-04T18:40:26.669Z"
   },
   {
    "duration": 9,
    "start_time": "2022-06-04T18:40:26.674Z"
   },
   {
    "duration": 10,
    "start_time": "2022-06-04T18:40:26.684Z"
   },
   {
    "duration": 30,
    "start_time": "2022-06-04T18:40:26.696Z"
   },
   {
    "duration": 12,
    "start_time": "2022-06-04T18:40:26.728Z"
   },
   {
    "duration": 1298,
    "start_time": "2022-06-04T18:40:26.743Z"
   },
   {
    "duration": 16,
    "start_time": "2022-06-04T18:40:28.044Z"
   },
   {
    "duration": 166,
    "start_time": "2022-06-04T18:40:28.062Z"
   },
   {
    "duration": 30431,
    "start_time": "2022-06-04T18:40:28.230Z"
   },
   {
    "duration": 3,
    "start_time": "2022-06-04T18:40:58.663Z"
   },
   {
    "duration": 11,
    "start_time": "2022-06-04T18:40:58.668Z"
   },
   {
    "duration": 6,
    "start_time": "2022-06-04T18:40:58.680Z"
   },
   {
    "duration": 176,
    "start_time": "2022-06-04T18:40:58.688Z"
   },
   {
    "duration": 2,
    "start_time": "2022-06-04T18:40:58.866Z"
   },
   {
    "duration": 59,
    "start_time": "2022-06-04T18:40:58.870Z"
   },
   {
    "duration": 24,
    "start_time": "2022-06-04T18:40:58.937Z"
   },
   {
    "duration": 1388,
    "start_time": "2022-06-04T18:41:46.954Z"
   },
   {
    "duration": 2269,
    "start_time": "2022-06-04T18:41:48.346Z"
   },
   {
    "duration": 31,
    "start_time": "2022-06-04T18:41:50.618Z"
   },
   {
    "duration": 63,
    "start_time": "2022-06-04T18:41:50.651Z"
   },
   {
    "duration": 5,
    "start_time": "2022-06-04T18:41:50.716Z"
   },
   {
    "duration": 36,
    "start_time": "2022-06-04T18:41:50.723Z"
   },
   {
    "duration": 14,
    "start_time": "2022-06-04T18:41:50.760Z"
   },
   {
    "duration": 9,
    "start_time": "2022-06-04T18:41:50.776Z"
   },
   {
    "duration": 7,
    "start_time": "2022-06-04T18:41:50.786Z"
   },
   {
    "duration": 7,
    "start_time": "2022-06-04T18:41:50.795Z"
   },
   {
    "duration": 14,
    "start_time": "2022-06-04T18:41:50.803Z"
   },
   {
    "duration": 44,
    "start_time": "2022-06-04T18:41:50.819Z"
   },
   {
    "duration": 3,
    "start_time": "2022-06-04T18:41:50.865Z"
   },
   {
    "duration": 10,
    "start_time": "2022-06-04T18:41:50.871Z"
   },
   {
    "duration": 238,
    "start_time": "2022-06-04T18:41:50.882Z"
   },
   {
    "duration": 20,
    "start_time": "2022-06-04T18:41:51.122Z"
   },
   {
    "duration": 210,
    "start_time": "2022-06-04T18:41:51.144Z"
   },
   {
    "duration": 153,
    "start_time": "2022-06-04T18:41:51.356Z"
   },
   {
    "duration": 247,
    "start_time": "2022-06-04T18:41:51.511Z"
   },
   {
    "duration": 226,
    "start_time": "2022-06-04T18:41:51.760Z"
   },
   {
    "duration": 5,
    "start_time": "2022-06-04T18:41:51.989Z"
   },
   {
    "duration": 8,
    "start_time": "2022-06-04T18:41:51.996Z"
   },
   {
    "duration": 26,
    "start_time": "2022-06-04T18:41:52.005Z"
   },
   {
    "duration": 26,
    "start_time": "2022-06-04T18:41:52.040Z"
   },
   {
    "duration": 10,
    "start_time": "2022-06-04T18:41:52.068Z"
   },
   {
    "duration": 14,
    "start_time": "2022-06-04T18:41:52.079Z"
   },
   {
    "duration": 152,
    "start_time": "2022-06-04T18:41:52.094Z"
   },
   {
    "duration": 1078,
    "start_time": "2022-06-04T18:41:52.253Z"
   },
   {
    "duration": 4,
    "start_time": "2022-06-04T18:41:53.333Z"
   },
   {
    "duration": 32,
    "start_time": "2022-06-04T18:41:53.338Z"
   },
   {
    "duration": 6,
    "start_time": "2022-06-04T18:41:53.372Z"
   },
   {
    "duration": 11,
    "start_time": "2022-06-04T18:41:53.380Z"
   },
   {
    "duration": 7,
    "start_time": "2022-06-04T18:41:53.394Z"
   },
   {
    "duration": 1260,
    "start_time": "2022-06-04T18:41:53.403Z"
   },
   {
    "duration": 12,
    "start_time": "2022-06-04T18:41:54.665Z"
   },
   {
    "duration": 127,
    "start_time": "2022-06-04T18:41:54.732Z"
   },
   {
    "duration": 31020,
    "start_time": "2022-06-04T18:41:54.861Z"
   },
   {
    "duration": 3,
    "start_time": "2022-06-04T18:42:25.883Z"
   },
   {
    "duration": 13,
    "start_time": "2022-06-04T18:42:25.888Z"
   },
   {
    "duration": 17,
    "start_time": "2022-06-04T18:42:25.903Z"
   },
   {
    "duration": 230,
    "start_time": "2022-06-04T18:42:25.925Z"
   },
   {
    "duration": 2,
    "start_time": "2022-06-04T18:42:26.157Z"
   },
   {
    "duration": 6,
    "start_time": "2022-06-04T18:42:26.160Z"
   },
   {
    "duration": 7,
    "start_time": "2022-06-04T18:42:26.223Z"
   },
   {
    "duration": 166,
    "start_time": "2022-06-04T18:45:34.373Z"
   },
   {
    "duration": 144,
    "start_time": "2022-06-04T18:51:49.719Z"
   },
   {
    "duration": 456,
    "start_time": "2022-06-04T18:51:58.813Z"
   },
   {
    "duration": 1394,
    "start_time": "2022-06-04T18:52:08.411Z"
   },
   {
    "duration": 2168,
    "start_time": "2022-06-04T18:52:09.807Z"
   },
   {
    "duration": 24,
    "start_time": "2022-06-04T18:52:11.977Z"
   },
   {
    "duration": 66,
    "start_time": "2022-06-04T18:52:12.003Z"
   },
   {
    "duration": 6,
    "start_time": "2022-06-04T18:52:12.070Z"
   },
   {
    "duration": 16,
    "start_time": "2022-06-04T18:52:12.077Z"
   },
   {
    "duration": 12,
    "start_time": "2022-06-04T18:52:12.094Z"
   },
   {
    "duration": 9,
    "start_time": "2022-06-04T18:52:12.108Z"
   },
   {
    "duration": 22,
    "start_time": "2022-06-04T18:52:12.119Z"
   },
   {
    "duration": 10,
    "start_time": "2022-06-04T18:52:12.146Z"
   },
   {
    "duration": 14,
    "start_time": "2022-06-04T18:52:12.158Z"
   },
   {
    "duration": 8,
    "start_time": "2022-06-04T18:52:12.173Z"
   },
   {
    "duration": 5,
    "start_time": "2022-06-04T18:52:12.183Z"
   },
   {
    "duration": 8,
    "start_time": "2022-06-04T18:52:12.189Z"
   },
   {
    "duration": 252,
    "start_time": "2022-06-04T18:52:12.198Z"
   },
   {
    "duration": 11,
    "start_time": "2022-06-04T18:52:12.452Z"
   },
   {
    "duration": 215,
    "start_time": "2022-06-04T18:52:12.465Z"
   },
   {
    "duration": 198,
    "start_time": "2022-06-04T18:52:12.683Z"
   },
   {
    "duration": 257,
    "start_time": "2022-06-04T18:52:12.883Z"
   },
   {
    "duration": 210,
    "start_time": "2022-06-04T18:52:13.145Z"
   },
   {
    "duration": 6,
    "start_time": "2022-06-04T18:52:13.357Z"
   },
   {
    "duration": 14,
    "start_time": "2022-06-04T18:52:13.364Z"
   },
   {
    "duration": 8,
    "start_time": "2022-06-04T18:52:13.379Z"
   },
   {
    "duration": 16,
    "start_time": "2022-06-04T18:52:13.389Z"
   },
   {
    "duration": 12,
    "start_time": "2022-06-04T18:52:13.406Z"
   },
   {
    "duration": 35,
    "start_time": "2022-06-04T18:52:13.419Z"
   },
   {
    "duration": 112,
    "start_time": "2022-06-04T18:52:13.456Z"
   },
   {
    "duration": 910,
    "start_time": "2022-06-04T18:52:13.571Z"
   },
   {
    "duration": 4,
    "start_time": "2022-06-04T18:52:14.482Z"
   },
   {
    "duration": 6,
    "start_time": "2022-06-04T18:52:14.487Z"
   },
   {
    "duration": 5,
    "start_time": "2022-06-04T18:52:14.494Z"
   },
   {
    "duration": 36,
    "start_time": "2022-06-04T18:52:14.500Z"
   },
   {
    "duration": 5,
    "start_time": "2022-06-04T18:52:14.545Z"
   },
   {
    "duration": 1225,
    "start_time": "2022-06-04T18:52:14.552Z"
   },
   {
    "duration": 57,
    "start_time": "2022-06-04T18:52:15.779Z"
   },
   {
    "duration": 116,
    "start_time": "2022-06-04T18:52:15.838Z"
   },
   {
    "duration": 1343,
    "start_time": "2022-06-04T18:52:49.105Z"
   },
   {
    "duration": 2295,
    "start_time": "2022-06-04T18:52:50.453Z"
   },
   {
    "duration": 27,
    "start_time": "2022-06-04T18:52:52.750Z"
   },
   {
    "duration": 63,
    "start_time": "2022-06-04T18:52:52.780Z"
   },
   {
    "duration": 18,
    "start_time": "2022-06-04T18:52:52.851Z"
   },
   {
    "duration": 22,
    "start_time": "2022-06-04T18:52:52.873Z"
   },
   {
    "duration": 24,
    "start_time": "2022-06-04T18:52:52.897Z"
   },
   {
    "duration": 12,
    "start_time": "2022-06-04T18:52:52.923Z"
   },
   {
    "duration": 36,
    "start_time": "2022-06-04T18:52:52.937Z"
   },
   {
    "duration": 7,
    "start_time": "2022-06-04T18:52:52.977Z"
   },
   {
    "duration": 20,
    "start_time": "2022-06-04T18:52:52.985Z"
   },
   {
    "duration": 9,
    "start_time": "2022-06-04T18:52:53.006Z"
   },
   {
    "duration": 4,
    "start_time": "2022-06-04T18:52:53.016Z"
   },
   {
    "duration": 36,
    "start_time": "2022-06-04T18:52:53.021Z"
   },
   {
    "duration": 246,
    "start_time": "2022-06-04T18:52:53.059Z"
   },
   {
    "duration": 10,
    "start_time": "2022-06-04T18:52:53.307Z"
   },
   {
    "duration": 172,
    "start_time": "2022-06-04T18:52:53.327Z"
   },
   {
    "duration": 174,
    "start_time": "2022-06-04T18:52:53.501Z"
   },
   {
    "duration": 232,
    "start_time": "2022-06-04T18:52:53.677Z"
   },
   {
    "duration": 235,
    "start_time": "2022-06-04T18:52:53.911Z"
   },
   {
    "duration": 8,
    "start_time": "2022-06-04T18:52:54.147Z"
   },
   {
    "duration": 6,
    "start_time": "2022-06-04T18:52:54.156Z"
   },
   {
    "duration": 4,
    "start_time": "2022-06-04T18:52:54.164Z"
   },
   {
    "duration": 11,
    "start_time": "2022-06-04T18:52:54.170Z"
   },
   {
    "duration": 9,
    "start_time": "2022-06-04T18:52:54.183Z"
   },
   {
    "duration": 37,
    "start_time": "2022-06-04T18:52:54.194Z"
   },
   {
    "duration": 119,
    "start_time": "2022-06-04T18:52:54.240Z"
   },
   {
    "duration": 892,
    "start_time": "2022-06-04T18:52:54.362Z"
   },
   {
    "duration": 3,
    "start_time": "2022-06-04T18:52:55.256Z"
   },
   {
    "duration": 9,
    "start_time": "2022-06-04T18:52:55.261Z"
   },
   {
    "duration": 6,
    "start_time": "2022-06-04T18:52:55.271Z"
   },
   {
    "duration": 10,
    "start_time": "2022-06-04T18:52:55.278Z"
   },
   {
    "duration": 5,
    "start_time": "2022-06-04T18:52:55.289Z"
   },
   {
    "duration": 1196,
    "start_time": "2022-06-04T18:52:55.295Z"
   },
   {
    "duration": 42,
    "start_time": "2022-06-04T18:52:56.493Z"
   },
   {
    "duration": 3,
    "start_time": "2022-06-04T18:52:56.536Z"
   },
   {
    "duration": 31312,
    "start_time": "2022-06-04T18:52:56.541Z"
   },
   {
    "duration": 4,
    "start_time": "2022-06-04T18:53:27.855Z"
   },
   {
    "duration": 8,
    "start_time": "2022-06-04T18:53:27.860Z"
   },
   {
    "duration": 6,
    "start_time": "2022-06-04T18:53:27.869Z"
   },
   {
    "duration": 188,
    "start_time": "2022-06-04T18:53:27.877Z"
   },
   {
    "duration": 2,
    "start_time": "2022-06-04T18:53:28.067Z"
   },
   {
    "duration": 37,
    "start_time": "2022-06-04T18:53:28.126Z"
   },
   {
    "duration": 10,
    "start_time": "2022-06-04T18:53:28.165Z"
   },
   {
    "duration": 579,
    "start_time": "2022-06-04T18:53:28.177Z"
   },
   {
    "duration": 8,
    "start_time": "2022-06-04T18:55:05.590Z"
   },
   {
    "duration": 271,
    "start_time": "2022-06-04T18:55:10.636Z"
   },
   {
    "duration": 366,
    "start_time": "2022-06-04T18:56:00.121Z"
   },
   {
    "duration": 300,
    "start_time": "2022-06-04T18:56:20.458Z"
   },
   {
    "duration": 456,
    "start_time": "2022-06-04T18:56:50.991Z"
   },
   {
    "duration": 292,
    "start_time": "2022-06-04T18:57:13.440Z"
   },
   {
    "duration": 270,
    "start_time": "2022-06-04T18:57:34.509Z"
   },
   {
    "duration": 300,
    "start_time": "2022-06-04T18:57:37.815Z"
   },
   {
    "duration": 286,
    "start_time": "2022-06-04T18:58:27.657Z"
   },
   {
    "duration": 294,
    "start_time": "2022-06-04T18:58:35.299Z"
   },
   {
    "duration": 263,
    "start_time": "2022-06-04T18:58:38.359Z"
   },
   {
    "duration": 274,
    "start_time": "2022-06-04T18:58:42.997Z"
   },
   {
    "duration": 254,
    "start_time": "2022-06-04T18:58:49.913Z"
   },
   {
    "duration": 1583,
    "start_time": "2022-06-04T18:59:00.954Z"
   },
   {
    "duration": 2456,
    "start_time": "2022-06-04T18:59:02.543Z"
   },
   {
    "duration": 28,
    "start_time": "2022-06-04T18:59:05.001Z"
   },
   {
    "duration": 81,
    "start_time": "2022-06-04T18:59:05.033Z"
   },
   {
    "duration": 5,
    "start_time": "2022-06-04T18:59:05.116Z"
   },
   {
    "duration": 40,
    "start_time": "2022-06-04T18:59:05.123Z"
   },
   {
    "duration": 15,
    "start_time": "2022-06-04T18:59:05.165Z"
   },
   {
    "duration": 9,
    "start_time": "2022-06-04T18:59:05.182Z"
   },
   {
    "duration": 5,
    "start_time": "2022-06-04T18:59:05.193Z"
   },
   {
    "duration": 8,
    "start_time": "2022-06-04T18:59:05.199Z"
   },
   {
    "duration": 30,
    "start_time": "2022-06-04T18:59:05.208Z"
   },
   {
    "duration": 13,
    "start_time": "2022-06-04T18:59:05.239Z"
   },
   {
    "duration": 13,
    "start_time": "2022-06-04T18:59:05.254Z"
   },
   {
    "duration": 9,
    "start_time": "2022-06-04T18:59:05.270Z"
   },
   {
    "duration": 266,
    "start_time": "2022-06-04T18:59:05.280Z"
   },
   {
    "duration": 16,
    "start_time": "2022-06-04T18:59:05.548Z"
   },
   {
    "duration": 185,
    "start_time": "2022-06-04T18:59:05.566Z"
   },
   {
    "duration": 174,
    "start_time": "2022-06-04T18:59:05.753Z"
   },
   {
    "duration": 238,
    "start_time": "2022-06-04T18:59:05.936Z"
   },
   {
    "duration": 235,
    "start_time": "2022-06-04T18:59:06.176Z"
   },
   {
    "duration": 17,
    "start_time": "2022-06-04T18:59:06.413Z"
   },
   {
    "duration": 19,
    "start_time": "2022-06-04T18:59:06.435Z"
   },
   {
    "duration": 9,
    "start_time": "2022-06-04T18:59:06.457Z"
   },
   {
    "duration": 9,
    "start_time": "2022-06-04T18:59:06.468Z"
   },
   {
    "duration": 12,
    "start_time": "2022-06-04T18:59:06.478Z"
   },
   {
    "duration": 10,
    "start_time": "2022-06-04T18:59:06.492Z"
   },
   {
    "duration": 134,
    "start_time": "2022-06-04T18:59:06.503Z"
   },
   {
    "duration": 938,
    "start_time": "2022-06-04T18:59:06.641Z"
   },
   {
    "duration": 3,
    "start_time": "2022-06-04T18:59:07.581Z"
   },
   {
    "duration": 8,
    "start_time": "2022-06-04T18:59:07.585Z"
   },
   {
    "duration": 5,
    "start_time": "2022-06-04T18:59:07.594Z"
   },
   {
    "duration": 31,
    "start_time": "2022-06-04T18:59:07.601Z"
   },
   {
    "duration": 22,
    "start_time": "2022-06-04T18:59:07.636Z"
   },
   {
    "duration": 1276,
    "start_time": "2022-06-04T18:59:07.659Z"
   },
   {
    "duration": 27,
    "start_time": "2022-06-04T18:59:08.940Z"
   },
   {
    "duration": 164,
    "start_time": "2022-06-04T18:59:08.969Z"
   },
   {
    "duration": 40567,
    "start_time": "2022-06-04T18:59:09.144Z"
   },
   {
    "duration": 3,
    "start_time": "2022-06-04T18:59:49.713Z"
   },
   {
    "duration": 28,
    "start_time": "2022-06-04T18:59:49.718Z"
   },
   {
    "duration": 7,
    "start_time": "2022-06-04T18:59:49.747Z"
   },
   {
    "duration": 210,
    "start_time": "2022-06-04T18:59:49.757Z"
   },
   {
    "duration": 3,
    "start_time": "2022-06-04T18:59:49.969Z"
   },
   {
    "duration": 8,
    "start_time": "2022-06-04T18:59:50.029Z"
   },
   {
    "duration": 28,
    "start_time": "2022-06-04T18:59:50.042Z"
   },
   {
    "duration": 54,
    "start_time": "2022-06-04T18:59:50.072Z"
   },
   {
    "duration": 367,
    "start_time": "2022-06-04T18:59:50.128Z"
   },
   {
    "duration": 261,
    "start_time": "2022-06-04T19:00:26.993Z"
   },
   {
    "duration": 258,
    "start_time": "2022-06-04T19:00:30.506Z"
   },
   {
    "duration": 263,
    "start_time": "2022-06-04T19:00:37.935Z"
   },
   {
    "duration": 402,
    "start_time": "2022-06-04T19:01:30.501Z"
   },
   {
    "duration": 285,
    "start_time": "2022-06-04T19:01:59.713Z"
   },
   {
    "duration": 273,
    "start_time": "2022-06-04T19:02:05.492Z"
   },
   {
    "duration": 250,
    "start_time": "2022-06-04T19:02:13.415Z"
   },
   {
    "duration": 271,
    "start_time": "2022-06-04T19:02:17.701Z"
   }
  ],
  "kernelspec": {
   "display_name": "Python 3 (ipykernel)",
   "language": "python",
   "name": "python3"
  },
  "language_info": {
   "codemirror_mode": {
    "name": "ipython",
    "version": 3
   },
   "file_extension": ".py",
   "mimetype": "text/x-python",
   "name": "python",
   "nbconvert_exporter": "python",
   "pygments_lexer": "ipython3",
   "version": "3.9.7"
  },
  "toc": {
   "base_numbering": 1,
   "nav_menu": {},
   "number_sections": true,
   "sideBar": true,
   "skip_h1_title": true,
   "title_cell": "Table of Contents",
   "title_sidebar": "Contents",
   "toc_cell": false,
   "toc_position": {},
   "toc_section_display": true,
   "toc_window_display": false
  }
 },
 "nbformat": 4,
 "nbformat_minor": 5
}
