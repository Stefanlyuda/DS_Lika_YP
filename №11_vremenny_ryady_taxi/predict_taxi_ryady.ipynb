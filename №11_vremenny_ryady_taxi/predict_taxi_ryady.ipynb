{
 "cells": [
  {
   "cell_type": "markdown",
   "id": "573d96d2",
   "metadata": {},
   "source": [
    "## Проект \"Прогнозирование заказов такси\". Временные ряды"
   ]
  },
  {
   "cell_type": "markdown",
   "id": "f605905d",
   "metadata": {},
   "source": [
    "### Описание проекта\n",
    "Компания «Чётенькое такси» собрала исторические данные о заказах такси в аэропортах. Чтобы привлекать больше водителей в период пиковой нагрузки, нужно спрогнозировать количество заказов такси на следующий час."
   ]
  },
  {
   "cell_type": "markdown",
   "id": "2d6d9817",
   "metadata": {},
   "source": [
    "### Цель проекта\n",
    "- Построить модель предсказания спроса на такси на следующий час\n"
   ]
  },
  {
   "cell_type": "markdown",
   "id": "c60dc955",
   "metadata": {},
   "source": [
    "### Требования к работе модели\n",
    "- Сделайте тестовую выборку размером 10% от исходных данных\n",
    "- Обучите разные модели с различными гиперпараметрами\n",
    "- RMSE на тестовой выборке должно быть не больше 48\n",
    "- P.s.Количество заказов находится в столбце 'num_orders' (от англ. number of orders, «число заказов»)."
   ]
  },
  {
   "cell_type": "markdown",
   "id": "d46b4b5a",
   "metadata": {},
   "source": [
    "### Импорт библиотек"
   ]
  },
  {
   "cell_type": "code",
   "execution_count": 1,
   "id": "321628ca",
   "metadata": {},
   "outputs": [],
   "source": [
    "import pandas as pd\n",
    "import seaborn as sns\n",
    "import numpy as np\n",
    "import matplotlib.pyplot as plt\n",
    "import math\n",
    "\n",
    "\n",
    "from sklearn.model_selection import train_test_split,GridSearchCV\n",
    "from sklearn.metrics import mean_absolute_error\n",
    "\n",
    "from sklearn.linear_model import LogisticRegression\n",
    "from sklearn.ensemble import RandomForestRegressor\n",
    "from sklearn.linear_model import LinearRegression\n",
    "\n",
    "\n",
    "\n",
    "from numpy.random import RandomState\n",
    "rdm = RandomState(1234)\n",
    "\n",
    "from statsmodels.tsa.seasonal import seasonal_decompose\n",
    "from sklearn.model_selection import TimeSeriesSplit\n",
    "\n",
    "from sklearn.model_selection import cross_val_score\n",
    "from sklearn.metrics import fbeta_score, make_scorer\n",
    "from sklearn.metrics import mean_absolute_error as mae"
   ]
  },
  {
   "cell_type": "code",
   "execution_count": 2,
   "id": "09a3f6cb",
   "metadata": {},
   "outputs": [
    {
     "name": "stdout",
     "output_type": "stream",
     "text": [
      "Requirement already satisfied: catboost in /Users/l.stefanenko/opt/anaconda3/lib/python3.9/site-packages (1.0.5)\n",
      "Requirement already satisfied: scipy in /Users/l.stefanenko/opt/anaconda3/lib/python3.9/site-packages (from catboost) (1.7.1)\n",
      "Requirement already satisfied: plotly in /Users/l.stefanenko/opt/anaconda3/lib/python3.9/site-packages (from catboost) (5.8.0)\n",
      "Requirement already satisfied: graphviz in /Users/l.stefanenko/opt/anaconda3/lib/python3.9/site-packages (from catboost) (0.20)\n",
      "Requirement already satisfied: numpy>=1.16.0 in /Users/l.stefanenko/opt/anaconda3/lib/python3.9/site-packages (from catboost) (1.20.3)\n",
      "Requirement already satisfied: matplotlib in /Users/l.stefanenko/opt/anaconda3/lib/python3.9/site-packages (from catboost) (3.4.3)\n",
      "Requirement already satisfied: pandas>=0.24.0 in /Users/l.stefanenko/opt/anaconda3/lib/python3.9/site-packages (from catboost) (1.3.4)\n",
      "Requirement already satisfied: six in /Users/l.stefanenko/opt/anaconda3/lib/python3.9/site-packages (from catboost) (1.16.0)\n",
      "Requirement already satisfied: python-dateutil>=2.7.3 in /Users/l.stefanenko/opt/anaconda3/lib/python3.9/site-packages (from pandas>=0.24.0->catboost) (2.8.2)\n",
      "Requirement already satisfied: pytz>=2017.3 in /Users/l.stefanenko/opt/anaconda3/lib/python3.9/site-packages (from pandas>=0.24.0->catboost) (2021.3)\n",
      "Requirement already satisfied: kiwisolver>=1.0.1 in /Users/l.stefanenko/opt/anaconda3/lib/python3.9/site-packages (from matplotlib->catboost) (1.3.1)\n",
      "Requirement already satisfied: pyparsing>=2.2.1 in /Users/l.stefanenko/opt/anaconda3/lib/python3.9/site-packages (from matplotlib->catboost) (3.0.4)\n",
      "Requirement already satisfied: cycler>=0.10 in /Users/l.stefanenko/opt/anaconda3/lib/python3.9/site-packages (from matplotlib->catboost) (0.10.0)\n",
      "Requirement already satisfied: pillow>=6.2.0 in /Users/l.stefanenko/opt/anaconda3/lib/python3.9/site-packages (from matplotlib->catboost) (8.4.0)\n",
      "Requirement already satisfied: tenacity>=6.2.0 in /Users/l.stefanenko/opt/anaconda3/lib/python3.9/site-packages (from plotly->catboost) (8.0.1)\n",
      "\u001b[33mWARNING: There was an error checking the latest version of pip.\u001b[0m\u001b[33m\n",
      "\u001b[0m"
     ]
    }
   ],
   "source": [
    "!pip install catboost"
   ]
  },
  {
   "cell_type": "code",
   "execution_count": 3,
   "id": "6d810871",
   "metadata": {},
   "outputs": [],
   "source": [
    "from catboost import CatBoostRegressor\n",
    "import warnings\n",
    "warnings.filterwarnings(\"ignore\")"
   ]
  },
  {
   "cell_type": "markdown",
   "id": "1dbf39b8",
   "metadata": {},
   "source": [
    "### Загрузка данных"
   ]
  },
  {
   "cell_type": "code",
   "execution_count": 4,
   "id": "5d2fc9f2",
   "metadata": {},
   "outputs": [],
   "source": [
    "data = pd.read_csv('/Users/l.stefanenko/Desktop/Yandex/Github/№11 Временные ряды_такси/taxi (1).csv',index_col=[0],parse_dates=[0])"
   ]
  },
  {
   "cell_type": "code",
   "execution_count": 5,
   "id": "e8ef4187",
   "metadata": {},
   "outputs": [
    {
     "data": {
      "text/plain": [
       "(26496, 1)"
      ]
     },
     "execution_count": 5,
     "metadata": {},
     "output_type": "execute_result"
    }
   ],
   "source": [
    "data.shape"
   ]
  },
  {
   "cell_type": "code",
   "execution_count": 6,
   "id": "10229a2f",
   "metadata": {},
   "outputs": [
    {
     "data": {
      "text/html": [
       "<div>\n",
       "<style scoped>\n",
       "    .dataframe tbody tr th:only-of-type {\n",
       "        vertical-align: middle;\n",
       "    }\n",
       "\n",
       "    .dataframe tbody tr th {\n",
       "        vertical-align: top;\n",
       "    }\n",
       "\n",
       "    .dataframe thead th {\n",
       "        text-align: right;\n",
       "    }\n",
       "</style>\n",
       "<table border=\"1\" class=\"dataframe\">\n",
       "  <thead>\n",
       "    <tr style=\"text-align: right;\">\n",
       "      <th></th>\n",
       "      <th>num_orders</th>\n",
       "    </tr>\n",
       "    <tr>\n",
       "      <th>datetime</th>\n",
       "      <th></th>\n",
       "    </tr>\n",
       "  </thead>\n",
       "  <tbody>\n",
       "    <tr>\n",
       "      <th>2018-04-07 19:30:00</th>\n",
       "      <td>6</td>\n",
       "    </tr>\n",
       "    <tr>\n",
       "      <th>2018-06-21 02:30:00</th>\n",
       "      <td>12</td>\n",
       "    </tr>\n",
       "    <tr>\n",
       "      <th>2018-05-05 13:40:00</th>\n",
       "      <td>4</td>\n",
       "    </tr>\n",
       "    <tr>\n",
       "      <th>2018-03-28 08:40:00</th>\n",
       "      <td>16</td>\n",
       "    </tr>\n",
       "    <tr>\n",
       "      <th>2018-06-01 02:50:00</th>\n",
       "      <td>16</td>\n",
       "    </tr>\n",
       "  </tbody>\n",
       "</table>\n",
       "</div>"
      ],
      "text/plain": [
       "                     num_orders\n",
       "datetime                       \n",
       "2018-04-07 19:30:00           6\n",
       "2018-06-21 02:30:00          12\n",
       "2018-05-05 13:40:00           4\n",
       "2018-03-28 08:40:00          16\n",
       "2018-06-01 02:50:00          16"
      ]
     },
     "execution_count": 6,
     "metadata": {},
     "output_type": "execute_result"
    }
   ],
   "source": [
    "data.sample(5)"
   ]
  },
  {
   "cell_type": "code",
   "execution_count": 7,
   "id": "b36b9a83",
   "metadata": {},
   "outputs": [
    {
     "data": {
      "text/html": [
       "<div>\n",
       "<style scoped>\n",
       "    .dataframe tbody tr th:only-of-type {\n",
       "        vertical-align: middle;\n",
       "    }\n",
       "\n",
       "    .dataframe tbody tr th {\n",
       "        vertical-align: top;\n",
       "    }\n",
       "\n",
       "    .dataframe thead th {\n",
       "        text-align: right;\n",
       "    }\n",
       "</style>\n",
       "<table border=\"1\" class=\"dataframe\">\n",
       "  <thead>\n",
       "    <tr style=\"text-align: right;\">\n",
       "      <th></th>\n",
       "      <th>num_orders</th>\n",
       "    </tr>\n",
       "  </thead>\n",
       "  <tbody>\n",
       "    <tr>\n",
       "      <th>count</th>\n",
       "      <td>26496.000000</td>\n",
       "    </tr>\n",
       "    <tr>\n",
       "      <th>mean</th>\n",
       "      <td>14.070463</td>\n",
       "    </tr>\n",
       "    <tr>\n",
       "      <th>std</th>\n",
       "      <td>9.211330</td>\n",
       "    </tr>\n",
       "    <tr>\n",
       "      <th>min</th>\n",
       "      <td>0.000000</td>\n",
       "    </tr>\n",
       "    <tr>\n",
       "      <th>25%</th>\n",
       "      <td>8.000000</td>\n",
       "    </tr>\n",
       "    <tr>\n",
       "      <th>50%</th>\n",
       "      <td>13.000000</td>\n",
       "    </tr>\n",
       "    <tr>\n",
       "      <th>75%</th>\n",
       "      <td>19.000000</td>\n",
       "    </tr>\n",
       "    <tr>\n",
       "      <th>max</th>\n",
       "      <td>119.000000</td>\n",
       "    </tr>\n",
       "  </tbody>\n",
       "</table>\n",
       "</div>"
      ],
      "text/plain": [
       "         num_orders\n",
       "count  26496.000000\n",
       "mean      14.070463\n",
       "std        9.211330\n",
       "min        0.000000\n",
       "25%        8.000000\n",
       "50%       13.000000\n",
       "75%       19.000000\n",
       "max      119.000000"
      ]
     },
     "execution_count": 7,
     "metadata": {},
     "output_type": "execute_result"
    }
   ],
   "source": [
    "data.describe()"
   ]
  },
  {
   "cell_type": "code",
   "execution_count": 8,
   "id": "3bc17905",
   "metadata": {},
   "outputs": [
    {
     "name": "stdout",
     "output_type": "stream",
     "text": [
      "<class 'pandas.core.frame.DataFrame'>\n",
      "DatetimeIndex: 26496 entries, 2018-03-01 00:00:00 to 2018-08-31 23:50:00\n",
      "Data columns (total 1 columns):\n",
      " #   Column      Non-Null Count  Dtype\n",
      "---  ------      --------------  -----\n",
      " 0   num_orders  26496 non-null  int64\n",
      "dtypes: int64(1)\n",
      "memory usage: 414.0 KB\n"
     ]
    }
   ],
   "source": [
    "data.info()"
   ]
  },
  {
   "cell_type": "code",
   "execution_count": 9,
   "id": "b30bddb4",
   "metadata": {},
   "outputs": [
    {
     "data": {
      "text/plain": [
       "26415"
      ]
     },
     "execution_count": 9,
     "metadata": {},
     "output_type": "execute_result"
    }
   ],
   "source": [
    "data.duplicated().sum()"
   ]
  },
  {
   "cell_type": "code",
   "execution_count": 10,
   "id": "20efe751",
   "metadata": {},
   "outputs": [
    {
     "data": {
      "text/plain": [
       "num_orders    0\n",
       "dtype: int64"
      ]
     },
     "execution_count": 10,
     "metadata": {},
     "output_type": "execute_result"
    }
   ],
   "source": [
    "data.isna().sum()"
   ]
  },
  {
   "cell_type": "markdown",
   "id": "adb16e1e",
   "metadata": {},
   "source": [
    "### Вывод после загрузки данны\n",
    "Датасет не содержит дубликатов, типы данных верные, пропусков не обранужено. Есть некоторое количество аномальных значений в количестве заказов.Уберем их на последующих этапах предобработки из расчета, что если такси работает 10 часов в день и на заказ в стредем тратится 15 минут, то максиумум может быть 40 заказов в день. "
   ]
  },
  {
   "cell_type": "markdown",
   "id": "5d283933",
   "metadata": {},
   "source": [
    "### Подготовка данных для работы моделей машиного обучения"
   ]
  },
  {
   "cell_type": "code",
   "execution_count": 11,
   "id": "33a8b111",
   "metadata": {},
   "outputs": [
    {
     "data": {
      "text/html": [
       "<div>\n",
       "<style scoped>\n",
       "    .dataframe tbody tr th:only-of-type {\n",
       "        vertical-align: middle;\n",
       "    }\n",
       "\n",
       "    .dataframe tbody tr th {\n",
       "        vertical-align: top;\n",
       "    }\n",
       "\n",
       "    .dataframe thead th {\n",
       "        text-align: right;\n",
       "    }\n",
       "</style>\n",
       "<table border=\"1\" class=\"dataframe\">\n",
       "  <thead>\n",
       "    <tr style=\"text-align: right;\">\n",
       "      <th></th>\n",
       "      <th>num_orders</th>\n",
       "    </tr>\n",
       "  </thead>\n",
       "  <tbody>\n",
       "    <tr>\n",
       "      <th>count</th>\n",
       "      <td>26496.000000</td>\n",
       "    </tr>\n",
       "    <tr>\n",
       "      <th>mean</th>\n",
       "      <td>14.070463</td>\n",
       "    </tr>\n",
       "    <tr>\n",
       "      <th>std</th>\n",
       "      <td>9.211330</td>\n",
       "    </tr>\n",
       "    <tr>\n",
       "      <th>min</th>\n",
       "      <td>0.000000</td>\n",
       "    </tr>\n",
       "    <tr>\n",
       "      <th>25%</th>\n",
       "      <td>8.000000</td>\n",
       "    </tr>\n",
       "    <tr>\n",
       "      <th>50%</th>\n",
       "      <td>13.000000</td>\n",
       "    </tr>\n",
       "    <tr>\n",
       "      <th>75%</th>\n",
       "      <td>19.000000</td>\n",
       "    </tr>\n",
       "    <tr>\n",
       "      <th>max</th>\n",
       "      <td>119.000000</td>\n",
       "    </tr>\n",
       "  </tbody>\n",
       "</table>\n",
       "</div>"
      ],
      "text/plain": [
       "         num_orders\n",
       "count  26496.000000\n",
       "mean      14.070463\n",
       "std        9.211330\n",
       "min        0.000000\n",
       "25%        8.000000\n",
       "50%       13.000000\n",
       "75%       19.000000\n",
       "max      119.000000"
      ]
     },
     "execution_count": 11,
     "metadata": {},
     "output_type": "execute_result"
    }
   ],
   "source": [
    "data.describe()"
   ]
  },
  {
   "cell_type": "markdown",
   "id": "3e10ea65",
   "metadata": {},
   "source": [
    "### Ресемплирование данных по одному часу"
   ]
  },
  {
   "cell_type": "code",
   "execution_count": 12,
   "id": "a71fb13f",
   "metadata": {},
   "outputs": [],
   "source": [
    "data = data.resample('1H').sum()"
   ]
  },
  {
   "cell_type": "code",
   "execution_count": 13,
   "id": "5f20663c",
   "metadata": {},
   "outputs": [
    {
     "name": "stdout",
     "output_type": "stream",
     "text": [
      "True\n"
     ]
    }
   ],
   "source": [
    "print(data.index.is_monotonic)"
   ]
  },
  {
   "cell_type": "code",
   "execution_count": 14,
   "id": "b76c580b",
   "metadata": {},
   "outputs": [
    {
     "data": {
      "text/plain": [
       "num_orders    0\n",
       "dtype: int64"
      ]
     },
     "execution_count": 14,
     "metadata": {},
     "output_type": "execute_result"
    }
   ],
   "source": [
    "data.isna().sum()"
   ]
  },
  {
   "cell_type": "markdown",
   "id": "38738c47",
   "metadata": {},
   "source": [
    "### Анализ трендов и сезонности"
   ]
  },
  {
   "cell_type": "markdown",
   "id": "dd6b1028",
   "metadata": {},
   "source": [
    "- decomposed.trend — тренд;\n",
    "- decomposed.seasonal — сезонная составляющая;\n",
    "- decomposed.resid — остаток декомпозиции."
   ]
  },
  {
   "cell_type": "markdown",
   "id": "177ae079",
   "metadata": {},
   "source": [
    "### Анализ трендов"
   ]
  },
  {
   "cell_type": "code",
   "execution_count": 15,
   "id": "15c19dbb",
   "metadata": {},
   "outputs": [
    {
     "data": {
      "text/plain": [
       "<AxesSubplot:xlabel='datetime'>"
      ]
     },
     "execution_count": 15,
     "metadata": {},
     "output_type": "execute_result"
    },
    {
     "data": {
      "image/png": "[encoded data removed]",
      "text/plain": [
       "<Figure size 576x288 with 1 Axes>"
      ]
     },
     "metadata": {
      "needs_background": "light"
     },
     "output_type": "display_data"
    }
   ],
   "source": [
    "decomposed_trend = seasonal_decompose(data['num_orders'].resample('1H').sum())\n",
    " \n",
    "plt.figure(figsize=(8, 4))\n",
    "decomposed_trend.trend.plot(ax=plt.gca())"
   ]
  },
  {
   "cell_type": "markdown",
   "id": "efcadb2c",
   "metadata": {},
   "source": [
    "#### Вывод: наблюдается увеличение количества заказов такси в период с июня по конец августа"
   ]
  },
  {
   "cell_type": "markdown",
   "id": "c2fd4221",
   "metadata": {},
   "source": [
    "### Анализ сезонов"
   ]
  },
  {
   "cell_type": "code",
   "execution_count": 16,
   "id": "40e568f1",
   "metadata": {},
   "outputs": [
    {
     "name": "stdout",
     "output_type": "stream",
     "text": [
      "<class 'pandas.core.frame.DataFrame'>\n",
      "DatetimeIndex: 4416 entries, 2018-03-01 00:00:00 to 2018-08-31 23:00:00\n",
      "Freq: H\n",
      "Data columns (total 1 columns):\n",
      " #   Column      Non-Null Count  Dtype\n",
      "---  ------      --------------  -----\n",
      " 0   num_orders  4416 non-null   int64\n",
      "dtypes: int64(1)\n",
      "memory usage: 69.0 KB\n"
     ]
    }
   ],
   "source": [
    "data.info()"
   ]
  },
  {
   "cell_type": "code",
   "execution_count": 17,
   "id": "ceef11c6",
   "metadata": {},
   "outputs": [
    {
     "data": {
      "text/plain": [
       "<AxesSubplot:xlabel='datetime'>"
      ]
     },
     "execution_count": 17,
     "metadata": {},
     "output_type": "execute_result"
    },
    {
     "data": {
      "image/png": "[encoded data removed]",
      "text/plain": [
       "<Figure size 576x288 with 1 Axes>"
      ]
     },
     "metadata": {
      "needs_background": "light"
     },
     "output_type": "display_data"
    }
   ],
   "source": [
    "decomposed_seasonal = seasonal_decompose(data[4000:4056]['num_orders'].resample('1H').sum())\n",
    " \n",
    "plt.figure(figsize=(8, 4))\n",
    "decomposed_seasonal.seasonal.plot(ax=plt.gca())"
   ]
  },
  {
   "cell_type": "code",
   "execution_count": 18,
   "id": "c3ea7830",
   "metadata": {},
   "outputs": [
    {
     "data": {
      "text/plain": [
       "<AxesSubplot:xlabel='datetime'>"
      ]
     },
     "execution_count": 18,
     "metadata": {},
     "output_type": "execute_result"
    },
    {
     "data": {
      "image/png": "[encoded data removed]",
      "text/plain": [
       "<Figure size 576x288 with 1 Axes>"
      ]
     },
     "metadata": {
      "needs_background": "light"
     },
     "output_type": "display_data"
    }
   ],
   "source": [
    "decomposed_seasonal = seasonal_decompose(data[100:156]['num_orders'].resample('1H').sum())\n",
    " \n",
    "plt.figure(figsize=(8, 4))\n",
    "decomposed_seasonal.seasonal.plot(ax=plt.gca())"
   ]
  },
  {
   "cell_type": "markdown",
   "id": "9938be6c",
   "metadata": {},
   "source": [
    "сезонность - приросты относительно среднего уровня продаж.6 утра - минус тридцать продаж относительно сутокчного среднего, поэтому получаются отрицательные значения."
   ]
  },
  {
   "cell_type": "markdown",
   "id": "5ecccd5d",
   "metadata": {},
   "source": [
    "#### Вывод: наблюдается увеличение количества заказов такси еженедельно в течение всего временного периода датафрейма"
   ]
  },
  {
   "cell_type": "markdown",
   "id": "e9612f71",
   "metadata": {},
   "source": [
    "### Анализ шума"
   ]
  },
  {
   "cell_type": "code",
   "execution_count": 19,
   "id": "59ded1ea",
   "metadata": {},
   "outputs": [
    {
     "data": {
      "text/plain": [
       "<AxesSubplot:xlabel='datetime'>"
      ]
     },
     "execution_count": 19,
     "metadata": {},
     "output_type": "execute_result"
    },
    {
     "data": {
      "image/png": "[encoded data removed]",
      "text/plain": [
       "<Figure size 576x288 with 1 Axes>"
      ]
     },
     "metadata": {
      "needs_background": "light"
     },
     "output_type": "display_data"
    }
   ],
   "source": [
    "decomposed_resid = seasonal_decompose(data['num_orders'].resample('1H').sum())\n",
    " \n",
    "plt.figure(figsize=(8, 4))\n",
    "decomposed_resid.resid.plot(ax=plt.gca())"
   ]
  },
  {
   "cell_type": "markdown",
   "id": "0ace32c5",
   "metadata": {},
   "source": [
    "#### Вывод: шума в данных в по марту больше, чем в другие месяцы"
   ]
  },
  {
   "cell_type": "markdown",
   "id": "98b1a960",
   "metadata": {},
   "source": [
    "### Поиск разности временного ряда "
   ]
  },
  {
   "cell_type": "code",
   "execution_count": 20,
   "id": "873bde72",
   "metadata": {},
   "outputs": [
    {
     "name": "stdout",
     "output_type": "stream",
     "text": [
      "AxesSubplot(0.125,0.125;0.775x0.755)\n"
     ]
    },
    {
     "data": {
      "image/png": "[encoded data removed]",
      "text/plain": [
       "<Figure size 432x288 with 1 Axes>"
      ]
     },
     "metadata": {
      "needs_background": "light"
     },
     "output_type": "display_data"
    }
   ],
   "source": [
    "data_shift = data.shift(fill_value=0)\n",
    "print(data_shift.plot())"
   ]
  },
  {
   "cell_type": "markdown",
   "id": "55fbb0bf",
   "metadata": {},
   "source": [
    "### Создание признаков для прогнозирования"
   ]
  },
  {
   "cell_type": "markdown",
   "id": "d608b0a5",
   "metadata": {},
   "source": [
    "Представим как отдельные столбцы день недели, час, скользящее среднее и лаги"
   ]
  },
  {
   "cell_type": "markdown",
   "id": "cdf245c7",
   "metadata": {},
   "source": [
    "Рассмотриваем день недели, т.к. у нас еть недельная сезоннасть в заказах такси (график сезонов с ресемплированием по дням)"
   ]
  },
  {
   "cell_type": "code",
   "execution_count": 21,
   "id": "129f1344",
   "metadata": {},
   "outputs": [],
   "source": [
    "data['dayofweek'] = data.index.dayofweek"
   ]
  },
  {
   "cell_type": "markdown",
   "id": "ef64e53b",
   "metadata": {},
   "source": [
    "Также создадим признак по часу,т.к. в  задании требуется предсказание на 24 часа и в зависимоти от времени в сутках будет меняться количество заказов"
   ]
  },
  {
   "cell_type": "code",
   "execution_count": 22,
   "id": "2d26ec06",
   "metadata": {},
   "outputs": [],
   "source": [
    "data['hour'] = data.index.hour"
   ]
  },
  {
   "cell_type": "markdown",
   "id": "1b861204",
   "metadata": {},
   "source": [
    "Скользящее среднее как признак задаёт общий тренд временного ряда"
   ]
  },
  {
   "cell_type": "code",
   "execution_count": 23,
   "id": "b9f715ba",
   "metadata": {},
   "outputs": [],
   "source": [
    "data['rolling_mean'] = data['num_orders'].rolling(15).sum()"
   ]
  },
  {
   "cell_type": "markdown",
   "id": "af8b1a46",
   "metadata": {},
   "source": [
    "Предыдущие значения временного ряда подскажут, будет ли функция x(t) расти или уменьшаться. Получим отстающие значения функцией shift()"
   ]
  },
  {
   "cell_type": "code",
   "execution_count": 24,
   "id": "61736a56",
   "metadata": {},
   "outputs": [],
   "source": [
    "data['lag_1'] = data['num_orders'].shift(1)\n",
    "data['lag_2'] = data['num_orders'].shift(2)\n",
    "data['lag_3'] = data['num_orders'].shift(3)"
   ]
  },
  {
   "cell_type": "markdown",
   "id": "157d1caa",
   "metadata": {},
   "source": [
    "Допустим lag=1 - учитывает (для удобства будем считать, что продажи собраны по дням) как вчерашние продажи - вчерашние события - воалияли на сегоняшние.Lag=2: учитывает как позавчерашние продажи влияютна сегодняшние\n",
    "    \n",
    "Предположим rolling=10 - скользящее среднее. По сути, ищем среднее по 10 точкам, потом следующие 10 точек, и т.д. - это некое подобие тренда будет - средней линии. Т.е. - сглаживание колебаний/выбросов. Это легко увидеть на пределе: допустим длина ряда 100 дней. rolling(100) - это просто одно число - среднее всего ряда."
   ]
  },
  {
   "cell_type": "code",
   "execution_count": 25,
   "id": "562efbdf",
   "metadata": {},
   "outputs": [
    {
     "name": "stdout",
     "output_type": "stream",
     "text": [
      "                     num_orders  dayofweek  hour  rolling_mean  lag_1  lag_2  \\\n",
      "datetime                                                                       \n",
      "2018-03-22 06:00:00           3          3     6         901.0   21.0   25.0   \n",
      "2018-04-19 12:00:00          45          3    12        1003.0   50.0   72.0   \n",
      "2018-05-22 08:00:00          74          1     8        1002.0   47.0   31.0   \n",
      "2018-07-18 18:00:00          83          2    18        1480.0  129.0  146.0   \n",
      "2018-07-29 23:00:00         177          6    23        1701.0  135.0   84.0   \n",
      "2018-03-14 05:00:00          15          2     5         910.0   21.0   57.0   \n",
      "2018-04-29 06:00:00           5          6     6        1257.0   15.0   76.0   \n",
      "2018-07-06 05:00:00          82          4     5        1429.0   75.0   57.0   \n",
      "2018-06-26 17:00:00         104          1    17        1101.0  117.0  102.0   \n",
      "2018-07-14 18:00:00          63          5    18        1360.0  110.0  168.0   \n",
      "\n",
      "                     lag_3  \n",
      "datetime                    \n",
      "2018-03-22 06:00:00   75.0  \n",
      "2018-04-19 12:00:00   62.0  \n",
      "2018-05-22 08:00:00   16.0  \n",
      "2018-07-18 18:00:00   73.0  \n",
      "2018-07-29 23:00:00  114.0  \n",
      "2018-03-14 05:00:00   39.0  \n",
      "2018-04-29 06:00:00  121.0  \n",
      "2018-07-06 05:00:00  146.0  \n",
      "2018-06-26 17:00:00   73.0  \n",
      "2018-07-14 18:00:00  109.0  \n"
     ]
    }
   ],
   "source": [
    "print(data.sample(10))"
   ]
  },
  {
   "cell_type": "markdown",
   "id": "700c0277",
   "metadata": {},
   "source": [
    "Сформируем функцию для выделения признаков в датасете"
   ]
  },
  {
   "cell_type": "code",
   "execution_count": 26,
   "id": "1795cf08",
   "metadata": {},
   "outputs": [
    {
     "name": "stdout",
     "output_type": "stream",
     "text": [
      "                     num_orders  dayofweek  hour  rolling_mean  lag_1  lag_2  \\\n",
      "datetime                                                                       \n",
      "2018-03-01 00:00:00         124          3     0           NaN    NaN    NaN   \n",
      "2018-03-01 01:00:00          85          3     1           NaN  124.0    NaN   \n",
      "2018-03-01 02:00:00          71          3     2           NaN   85.0  124.0   \n",
      "2018-03-01 03:00:00          66          3     3           NaN   71.0   85.0   \n",
      "2018-03-01 04:00:00          43          3     4           NaN   66.0   71.0   \n",
      "\n",
      "                     lag_3  \n",
      "datetime                    \n",
      "2018-03-01 00:00:00    NaN  \n",
      "2018-03-01 01:00:00    NaN  \n",
      "2018-03-01 02:00:00    NaN  \n",
      "2018-03-01 03:00:00  124.0  \n",
      "2018-03-01 04:00:00   85.0  \n"
     ]
    }
   ],
   "source": [
    "def make_features(data, max_lag, rolling_mean_size):\n",
    "    data['dayofweek'] = data.index.dayofweek\n",
    "    data['hour'] = data.index.hour\n",
    "    for lag in range(1, max_lag + 1):\n",
    "        data['lag_{}'.format(lag)] = data['num_orders'].shift(lag)\n",
    "    data['rolling_mean'] = data['num_orders'].rolling(rolling_mean_size).mean().shift()\n",
    "    \n",
    "make_features(data, 3, 8)\n",
    "print(data.head())"
   ]
  },
  {
   "cell_type": "markdown",
   "id": "c9b7339d",
   "metadata": {},
   "source": [
    "### Разделение на выборки"
   ]
  },
  {
   "cell_type": "code",
   "execution_count": 27,
   "id": "f5ad4800",
   "metadata": {},
   "outputs": [
    {
     "name": "stdout",
     "output_type": "stream",
     "text": [
      "Обучающая выборка:\n",
      "                     num_orders  dayofweek  hour  rolling_mean  lag_1  lag_2  \\\n",
      "datetime                                                                       \n",
      "2018-03-01 00:00:00         124          3     0           NaN    NaN    NaN   \n",
      "2018-03-01 01:00:00          85          3     1           NaN  124.0    NaN   \n",
      "2018-03-01 02:00:00          71          3     2           NaN   85.0  124.0   \n",
      "2018-03-01 03:00:00          66          3     3           NaN   71.0   85.0   \n",
      "2018-03-01 04:00:00          43          3     4           NaN   66.0   71.0   \n",
      "...                         ...        ...   ...           ...    ...    ...   \n",
      "2018-08-13 09:00:00         137          0     9       162.500   91.0   39.0   \n",
      "2018-08-13 10:00:00         156          0    10       145.500  137.0   91.0   \n",
      "2018-08-13 11:00:00         144          0    11       110.375  156.0  137.0   \n",
      "2018-08-13 12:00:00          92          0    12       107.375  144.0  156.0   \n",
      "2018-08-13 13:00:00         119          0    13       101.000   92.0  144.0   \n",
      "\n",
      "                     lag_3  \n",
      "datetime                    \n",
      "2018-03-01 00:00:00    NaN  \n",
      "2018-03-01 01:00:00    NaN  \n",
      "2018-03-01 02:00:00    NaN  \n",
      "2018-03-01 03:00:00  124.0  \n",
      "2018-03-01 04:00:00   85.0  \n",
      "...                    ...  \n",
      "2018-08-13 09:00:00   66.0  \n",
      "2018-08-13 10:00:00   39.0  \n",
      "2018-08-13 11:00:00   91.0  \n",
      "2018-08-13 12:00:00  137.0  \n",
      "2018-08-13 13:00:00  156.0  \n",
      "\n",
      "[3974 rows x 7 columns]\n",
      "Тестовая выборка:\n",
      "                     num_orders  dayofweek  hour  rolling_mean  lag_1  lag_2  \\\n",
      "datetime                                                                       \n",
      "2018-08-13 14:00:00         102          0    14       105.500  119.0   92.0   \n",
      "2018-08-13 15:00:00         175          0    15       110.000  102.0  119.0   \n",
      "2018-08-13 16:00:00         144          0    16       127.000  175.0  102.0   \n",
      "2018-08-13 17:00:00         152          0    17       133.625  144.0  175.0   \n",
      "2018-08-13 18:00:00         104          0    18       135.500  152.0  144.0   \n",
      "...                         ...        ...   ...           ...    ...    ...   \n",
      "2018-08-31 19:00:00         136          4    19       167.375  207.0  217.0   \n",
      "2018-08-31 20:00:00         154          4    20       163.500  136.0  207.0   \n",
      "2018-08-31 21:00:00         159          4    21       165.750  154.0  136.0   \n",
      "2018-08-31 22:00:00         223          4    22       164.875  159.0  154.0   \n",
      "2018-08-31 23:00:00         205          4    23       176.125  223.0  159.0   \n",
      "\n",
      "                     lag_3  \n",
      "datetime                    \n",
      "2018-08-13 14:00:00  144.0  \n",
      "2018-08-13 15:00:00   92.0  \n",
      "2018-08-13 16:00:00  119.0  \n",
      "2018-08-13 17:00:00  102.0  \n",
      "2018-08-13 18:00:00  175.0  \n",
      "...                    ...  \n",
      "2018-08-31 19:00:00  197.0  \n",
      "2018-08-31 20:00:00  217.0  \n",
      "2018-08-31 21:00:00  207.0  \n",
      "2018-08-31 22:00:00  136.0  \n",
      "2018-08-31 23:00:00  154.0  \n",
      "\n",
      "[442 rows x 7 columns]\n"
     ]
    }
   ],
   "source": [
    "train, test = train_test_split(data, shuffle=False, test_size=0.1)\n",
    "print('Обучающая выборка:')\n",
    "print(train)\n",
    "print('Тестовая выборка:')\n",
    "print(test) "
   ]
  },
  {
   "cell_type": "code",
   "execution_count": 28,
   "id": "11cc937b",
   "metadata": {},
   "outputs": [
    {
     "data": {
      "image/png": "[encoded data removed]",
      "text/plain": [
       "<Figure size 864x576 with 9 Axes>"
      ]
     },
     "metadata": {
      "needs_background": "light"
     },
     "output_type": "display_data"
    }
   ],
   "source": [
    "fig, ax = plt.subplots(figsize=(12, 8))\n",
    "data.hist(bins=30, ax=ax)\n",
    "_ = ax.set(\n",
    "    xlabel=\"Параметры признака\",\n",
    "    ylabel=\"Количество заказов, соотвествующих параметру\",\n",
    ")"
   ]
  },
  {
   "cell_type": "code",
   "execution_count": 29,
   "id": "0d766abd",
   "metadata": {},
   "outputs": [
    {
     "name": "stdout",
     "output_type": "stream",
     "text": [
      "(3974, 7)\n",
      "(442, 7)\n"
     ]
    }
   ],
   "source": [
    "print(train.shape)\n",
    "print(test.shape)"
   ]
  },
  {
   "cell_type": "markdown",
   "id": "517b9061",
   "metadata": {},
   "source": [
    "Проверим корректность деления на выборки"
   ]
  },
  {
   "cell_type": "code",
   "execution_count": 30,
   "id": "4bd42f49",
   "metadata": {},
   "outputs": [
    {
     "name": "stdout",
     "output_type": "stream",
     "text": [
      "2018-03-01 00:00:00 2018-08-13 13:00:00\n",
      "2018-08-13 14:00:00 2018-08-31 23:00:00\n"
     ]
    }
   ],
   "source": [
    "print(train.index.min(), train.index.max())\n",
    "print(test.index.min(), test.index.max())"
   ]
  },
  {
   "cell_type": "code",
   "execution_count": 31,
   "id": "9d29237a",
   "metadata": {},
   "outputs": [
    {
     "name": "stdout",
     "output_type": "stream",
     "text": [
      "(3974, 7)\n",
      "(442, 7)\n"
     ]
    }
   ],
   "source": [
    "print(train.shape)\n",
    "print(test.shape)"
   ]
  },
  {
   "cell_type": "code",
   "execution_count": 32,
   "id": "8fac88b5",
   "metadata": {},
   "outputs": [],
   "source": [
    "train = train.dropna()\n",
    "test = test.dropna()"
   ]
  },
  {
   "cell_type": "code",
   "execution_count": 33,
   "id": "1c5491f9",
   "metadata": {},
   "outputs": [],
   "source": [
    "X_train = train.drop(['num_orders'],axis = 1) # Переменные для обучающей выборки\n",
    "y_train = train['num_orders'] \n",
    "\n",
    "X_test = test.drop(['num_orders'],axis = 1) # Переменные для тестовой выборки\n",
    "y_test = test['num_orders'] "
   ]
  },
  {
   "cell_type": "markdown",
   "id": "f0e0a60e",
   "metadata": {},
   "source": [
    "### Случайный лес"
   ]
  },
  {
   "cell_type": "code",
   "execution_count": 34,
   "id": "298b8871",
   "metadata": {},
   "outputs": [
    {
     "name": "stdout",
     "output_type": "stream",
     "text": [
      "RMSE RF: 48.80362156699334\n",
      "CPU times: user 1.6 s, sys: 46.4 ms, total: 1.64 s\n",
      "Wall time: 1.7 s\n"
     ]
    }
   ],
   "source": [
    "%%time\n",
    "model = RandomForestRegressor(random_state=rdm, n_estimators=100)\n",
    "model.fit(X_train, y_train)\n",
    "\n",
    "predictions = model.predict(X_test)\n",
    "def rmse(y, predictions):\n",
    "    return (((y_test-predictions)**2).mean())**0.5\n",
    "RMSE_RF=rmse(y_test, predictions)\n",
    "print(\"RMSE RF:\",RMSE_RF)"
   ]
  },
  {
   "cell_type": "markdown",
   "id": "f4f45eca",
   "metadata": {},
   "source": [
    "### Линейная регрессия"
   ]
  },
  {
   "cell_type": "code",
   "execution_count": 35,
   "id": "7bcbac00",
   "metadata": {},
   "outputs": [
    {
     "name": "stdout",
     "output_type": "stream",
     "text": [
      "RMSE LR: 54.11585571736562\n",
      "CPU times: user 12.4 ms, sys: 8.16 ms, total: 20.6 ms\n",
      "Wall time: 27.2 ms\n"
     ]
    }
   ],
   "source": [
    "%%time\n",
    "from sklearn.linear_model import LinearRegression\n",
    "model = LinearRegression()\n",
    "model.fit(X_train, y_train)\n",
    "\n",
    "predictions = model.predict(X_test)\n",
    "def rmse(y, predictions):\n",
    "    return (((y_test-predictions)**2).mean())**0.5\n",
    "RMSE_LR = rmse(y_test, predictions)\n",
    "print(\"RMSE LR:\",RMSE_LR)"
   ]
  },
  {
   "cell_type": "markdown",
   "id": "87b8e0d4",
   "metadata": {},
   "source": [
    "### Применение TimeSeriesSplit"
   ]
  },
  {
   "cell_type": "markdown",
   "id": "1d81672d",
   "metadata": {},
   "source": [
    "Поскольку мы имеем дело  верменными рядами, то корректнее разделять датасет  помощью TimeSeriesSplit. Посмотрим как изменится результат работы модели Линейной регресси поссле применения такого деления. А также используем его для работы модели градиентного бустинга"
   ]
  },
  {
   "cell_type": "code",
   "execution_count": 36,
   "id": "96721fff",
   "metadata": {},
   "outputs": [
    {
     "name": "stdout",
     "output_type": "stream",
     "text": [
      "TimeSeriesSplit(gap=0, max_train_size=None, n_splits=6, test_size=None)\n"
     ]
    }
   ],
   "source": [
    "cv = TimeSeriesSplit(n_splits=6)\n",
    "print(cv)"
   ]
  },
  {
   "cell_type": "markdown",
   "id": "6b3c6b24",
   "metadata": {},
   "source": [
    "### CatBoostRegressor"
   ]
  },
  {
   "cell_type": "code",
   "execution_count": 37,
   "id": "6efdb346",
   "metadata": {},
   "outputs": [
    {
     "name": "stdout",
     "output_type": "stream",
     "text": [
      "CPU times: user 47.5 s, sys: 1.93 s, total: 49.4 s\n",
      "Wall time: 19.3 s\n"
     ]
    }
   ],
   "source": [
    "%%time\n",
    "scoring_fit = 'neg_mean_squared_error'\n",
    "\n",
    "cat_features = ['hour']\n",
    "\n",
    "model_cat = CatBoostRegressor(cat_features=cat_features,verbose = False)\n",
    "param_grid  = {'n_estimators':[50,100,150],\n",
    "               'max_depth':[5,10],\n",
    "}\n",
    "gs = GridSearchCV (model_cat,param_grid,cv = cv,scoring = scoring_fit)\n",
    "fitted_cat = gs.fit(X_train,y_train,cat_features=cat_features)\n",
    "\n",
    "pred = fitted_cat.predict(X_test) \n",
    "def rmse(y, predictions):\n",
    "    return (((y_test-pred)**2).mean())**0.5\n",
    "rmse_cat = rmse(y_test, pred) "
   ]
  },
  {
   "cell_type": "code",
   "execution_count": 38,
   "id": "441e1c3e",
   "metadata": {},
   "outputs": [
    {
     "name": "stdout",
     "output_type": "stream",
     "text": [
      "rmse при работе модели catboost 44.961602243727185\n",
      "наилучшие параметры модели catboost {'max_depth': 5, 'n_estimators': 150}\n"
     ]
    }
   ],
   "source": [
    "print (\"rmse при работе модели catboost\", rmse_cat)\n",
    "print (\"наилучшие параметры модели catboost\", fitted_cat.best_params_)"
   ]
  },
  {
   "cell_type": "code",
   "execution_count": 39,
   "id": "2b3a33b9",
   "metadata": {},
   "outputs": [
    {
     "name": "stdout",
     "output_type": "stream",
     "text": [
      "44.961602243727185\n"
     ]
    }
   ],
   "source": [
    "rmse_cat_test = (np.sqrt(mae(y_test, pred))) \n",
    "print(rmse_cat)"
   ]
  },
  {
   "cell_type": "code",
   "execution_count": 40,
   "id": "f088e336",
   "metadata": {},
   "outputs": [],
   "source": [
    "def score_func(X_train, prediction):\n",
    "    return np.sqrt(mae(X_train, predictions, squared=Flase))\n",
    "\n",
    "rmse = make_scorer(score_func, greater_is_better = False)"
   ]
  },
  {
   "cell_type": "markdown",
   "id": "32cc8d71",
   "metadata": {},
   "source": [
    "### Линейная регрессия после TimeSeriesSplit"
   ]
  },
  {
   "cell_type": "code",
   "execution_count": 43,
   "id": "675ab00e",
   "metadata": {},
   "outputs": [
    {
     "name": "stdout",
     "output_type": "stream",
     "text": [
      "MAE LR: -1073.3211624849866\n",
      "RMSE LR: 32.76158058587813\n",
      "{'fit_intercept': True, 'normalize': True}\n"
     ]
    }
   ],
   "source": [
    "model_lr = LinearRegression()\n",
    "param_lr = {'fit_intercept':[True,False],'normalize':[True,False]}\n",
    "model_lr_grid = GridSearchCV(model_lr,param_lr, cv=cv, scoring = 'neg_mean_squared_error')\n",
    "model_lr_grid.fit(X_train,y_train)\n",
    "\n",
    "MAE_LR = model_lr_grid.best_score_\n",
    "RMSE_LR_TS = np.sqrt(abs(MAE_LR))\n",
    "\n",
    "print(\"MAE LR:\",model_lr_grid.best_score_)\n",
    "print(\"RMSE LR:\",RMSE_LR_TS)\n",
    "print(model_lr_grid.best_params_)"
   ]
  },
  {
   "cell_type": "markdown",
   "id": "d430b1e8",
   "metadata": {},
   "source": [
    "scoring = 'neg_mean_squared_error'. Там заложена так, чтобы искать минимамльную ошибку. И в итоге возникает минус. Но на него можно не обращать внимание."
   ]
  },
  {
   "cell_type": "markdown",
   "id": "e6827cb2",
   "metadata": {},
   "source": [
    "## Результаты работы моделей"
   ]
  },
  {
   "cell_type": "code",
   "execution_count": 48,
   "id": "d4195e7e",
   "metadata": {},
   "outputs": [
    {
     "data": {
      "text/plain": [
       "RMSE RF           48.803622\n",
       "RMSE LR           54.115856\n",
       "RMSE Catboost     44.961602\n",
       "RMSE_LR_TS        32.761581\n",
       "dtype: float64"
      ]
     },
     "execution_count": 48,
     "metadata": {},
     "output_type": "execute_result"
    }
   ],
   "source": [
    "result_models = pd.Series({\"RMSE RF\":RMSE_RF,\"RMSE LR\":RMSE_LR,'RMSE Catboost ':rmse_cat,\"RMSE_LR_TS\":RMSE_LR_TS})\n",
    "result_models"
   ]
  },
  {
   "cell_type": "markdown",
   "id": "2bb2a025",
   "metadata": {},
   "source": [
    "## Предсказание заказов такси"
   ]
  },
  {
   "cell_type": "code",
   "execution_count": 49,
   "id": "e5905fef",
   "metadata": {},
   "outputs": [
    {
     "data": {
      "image/png": "[encoded data removed]",
      "text/plain": [
       "<Figure size 432x288 with 1 Axes>"
      ]
     },
     "metadata": {
      "needs_background": "light"
     },
     "output_type": "display_data"
    }
   ],
   "source": [
    "sns.lineplot(x=y_test.index,\n",
    "                y = y_test, label = 'График заказов такси по текущим данным')\n",
    "sns.lineplot(x=y_test.index,\n",
    "                y = pred, label = 'Предсказания заказов такси')\n",
    "plt.legend(loc = 'upper right')\n",
    "plt.title ('График предсказания заказов такси на следующий час')\n",
    "plt.xlim(pd.Timestamp('2018-08-17'), pd.Timestamp('2018-08-18'))\n",
    "plt.xticks(rotation=45 )\n",
    "plt.show()"
   ]
  },
  {
   "cell_type": "markdown",
   "id": "a66da2dc",
   "metadata": {},
   "source": [
    "### Общий вывод и результаты"
   ]
  },
  {
   "cell_type": "markdown",
   "id": "17d7959d",
   "metadata": {},
   "source": [
    "Требование задания об RMSE менее 48 при работе модели выполенено в моделях градиентного бустсинга RMSE Catboost = 44.961602 и в модели лиеной регрессси после применения TimeSeriesSplit при разделении датасета и подборе  гиперпараметров в гридссерч RMSE_LR_TS = 32.761581. Результат работы Линейной регресии после TimeSeriesSplit показал наилучшие результаты.\n",
    "\n",
    "Результы предскзааний -- падение количество заказов такси от 280 до 190 шт. на следующий час в августе 2018 года. "
   ]
  }
 ],
 "metadata": {
  "ExecuteTimeLog": [
   {
    "duration": 1442,
    "start_time": "2022-06-03T03:49:20.164Z"
   },
   {
    "duration": 20,
    "start_time": "2022-06-03T03:49:24.477Z"
   },
   {
    "duration": 51,
    "start_time": "2022-06-03T03:49:25.905Z"
   },
   {
    "duration": 5,
    "start_time": "2022-06-03T03:49:26.553Z"
   },
   {
    "duration": 13,
    "start_time": "2022-06-03T03:49:27.013Z"
   },
   {
    "duration": 13,
    "start_time": "2022-06-03T03:49:27.425Z"
   },
   {
    "duration": 11,
    "start_time": "2022-06-03T03:49:27.661Z"
   },
   {
    "duration": 6,
    "start_time": "2022-06-03T03:49:27.942Z"
   },
   {
    "duration": 6,
    "start_time": "2022-06-03T03:49:28.385Z"
   },
   {
    "duration": 14,
    "start_time": "2022-06-03T03:49:36.242Z"
   },
   {
    "duration": 12,
    "start_time": "2022-06-03T03:49:37.215Z"
   },
   {
    "duration": 3,
    "start_time": "2022-06-03T03:49:37.420Z"
   },
   {
    "duration": 6,
    "start_time": "2022-06-03T03:49:37.655Z"
   },
   {
    "duration": 8,
    "start_time": "2022-06-03T03:49:52.984Z"
   },
   {
    "duration": 4,
    "start_time": "2022-06-03T03:49:53.518Z"
   },
   {
    "duration": 6,
    "start_time": "2022-06-03T03:49:53.722Z"
   },
   {
    "duration": 243,
    "start_time": "2022-06-03T03:50:10.940Z"
   },
   {
    "duration": 260,
    "start_time": "2022-06-03T03:50:12.861Z"
   },
   {
    "duration": 253,
    "start_time": "2022-06-03T03:50:14.239Z"
   },
   {
    "duration": 254,
    "start_time": "2022-06-03T03:50:15.882Z"
   },
   {
    "duration": 4,
    "start_time": "2022-06-03T03:50:19.226Z"
   },
   {
    "duration": 7,
    "start_time": "2022-06-03T03:50:21.186Z"
   },
   {
    "duration": 6,
    "start_time": "2022-06-03T03:50:21.959Z"
   },
   {
    "duration": 8,
    "start_time": "2022-06-03T03:50:23.609Z"
   },
   {
    "duration": 9,
    "start_time": "2022-06-03T03:50:36.654Z"
   },
   {
    "duration": 11,
    "start_time": "2022-06-03T03:50:38.412Z"
   },
   {
    "duration": 18,
    "start_time": "2022-06-03T03:50:43.936Z"
   },
   {
    "duration": 1121,
    "start_time": "2022-06-03T03:50:44.516Z"
   },
   {
    "duration": 4,
    "start_time": "2022-06-03T03:50:51.253Z"
   },
   {
    "duration": 5,
    "start_time": "2022-06-03T03:50:51.882Z"
   },
   {
    "duration": 5,
    "start_time": "2022-06-03T03:50:52.150Z"
   },
   {
    "duration": 10,
    "start_time": "2022-06-03T03:50:52.511Z"
   },
   {
    "duration": 6,
    "start_time": "2022-06-03T03:50:52.716Z"
   },
   {
    "duration": 1326,
    "start_time": "2022-06-03T03:50:56.416Z"
   },
   {
    "duration": 12,
    "start_time": "2022-06-03T03:51:03.414Z"
   },
   {
    "duration": 62,
    "start_time": "2022-06-03T11:15:25.941Z"
   },
   {
    "duration": 1559,
    "start_time": "2022-06-03T11:15:33.628Z"
   },
   {
    "duration": 2717,
    "start_time": "2022-06-03T11:15:35.189Z"
   },
   {
    "duration": 25,
    "start_time": "2022-06-03T11:15:37.908Z"
   },
   {
    "duration": 156,
    "start_time": "2022-06-03T11:15:37.935Z"
   },
   {
    "duration": 6,
    "start_time": "2022-06-03T11:15:38.093Z"
   },
   {
    "duration": 26,
    "start_time": "2022-06-03T11:15:38.100Z"
   },
   {
    "duration": 20,
    "start_time": "2022-06-03T11:15:38.129Z"
   },
   {
    "duration": 15,
    "start_time": "2022-06-03T11:15:38.151Z"
   },
   {
    "duration": 17,
    "start_time": "2022-06-03T11:15:38.168Z"
   },
   {
    "duration": 16,
    "start_time": "2022-06-03T11:15:38.187Z"
   },
   {
    "duration": 36,
    "start_time": "2022-06-03T11:15:38.205Z"
   },
   {
    "duration": 28,
    "start_time": "2022-06-03T11:15:38.243Z"
   },
   {
    "duration": 25,
    "start_time": "2022-06-03T11:15:38.273Z"
   },
   {
    "duration": 30,
    "start_time": "2022-06-03T11:15:38.303Z"
   },
   {
    "duration": 331,
    "start_time": "2022-06-03T11:15:38.334Z"
   },
   {
    "duration": 267,
    "start_time": "2022-06-03T11:15:38.666Z"
   },
   {
    "duration": 264,
    "start_time": "2022-06-03T11:15:38.935Z"
   },
   {
    "duration": 282,
    "start_time": "2022-06-03T11:15:39.201Z"
   },
   {
    "duration": 5,
    "start_time": "2022-06-03T11:15:39.489Z"
   },
   {
    "duration": 31,
    "start_time": "2022-06-03T11:15:39.495Z"
   },
   {
    "duration": 8,
    "start_time": "2022-06-03T11:15:39.528Z"
   },
   {
    "duration": 23,
    "start_time": "2022-06-03T11:15:39.538Z"
   },
   {
    "duration": 32,
    "start_time": "2022-06-03T11:15:39.563Z"
   },
   {
    "duration": 27,
    "start_time": "2022-06-03T11:15:39.597Z"
   },
   {
    "duration": 127,
    "start_time": "2022-06-03T11:15:39.625Z"
   },
   {
    "duration": 1061,
    "start_time": "2022-06-03T11:15:39.755Z"
   },
   {
    "duration": 3,
    "start_time": "2022-06-03T11:15:40.818Z"
   },
   {
    "duration": 6,
    "start_time": "2022-06-03T11:15:40.823Z"
   },
   {
    "duration": 6,
    "start_time": "2022-06-03T11:15:40.831Z"
   },
   {
    "duration": 12,
    "start_time": "2022-06-03T11:15:40.838Z"
   },
   {
    "duration": 5,
    "start_time": "2022-06-03T11:15:40.851Z"
   },
   {
    "duration": 1421,
    "start_time": "2022-06-03T11:15:40.857Z"
   },
   {
    "duration": 25,
    "start_time": "2022-06-03T11:15:42.280Z"
   },
   {
    "duration": 93,
    "start_time": "2022-06-03T11:15:42.307Z"
   },
   {
    "duration": 37066,
    "start_time": "2022-06-03T11:15:42.403Z"
   },
   {
    "duration": 3,
    "start_time": "2022-06-03T11:16:19.473Z"
   },
   {
    "duration": 11,
    "start_time": "2022-06-03T11:16:19.478Z"
   },
   {
    "duration": 9,
    "start_time": "2022-06-03T11:16:19.491Z"
   },
   {
    "duration": 289,
    "start_time": "2022-06-03T11:16:19.501Z"
   },
   {
    "duration": 3,
    "start_time": "2022-06-03T11:16:19.791Z"
   },
   {
    "duration": 3,
    "start_time": "2022-06-03T11:16:19.799Z"
   },
   {
    "duration": 13,
    "start_time": "2022-06-03T11:16:19.804Z"
   },
   {
    "duration": 166,
    "start_time": "2022-06-03T11:17:05.512Z"
   },
   {
    "duration": 1385,
    "start_time": "2022-06-03T11:17:13.621Z"
   },
   {
    "duration": 2483,
    "start_time": "2022-06-03T11:17:15.008Z"
   },
   {
    "duration": 24,
    "start_time": "2022-06-03T11:17:17.492Z"
   },
   {
    "duration": 52,
    "start_time": "2022-06-03T11:17:17.518Z"
   },
   {
    "duration": 6,
    "start_time": "2022-06-03T11:17:17.572Z"
   },
   {
    "duration": 12,
    "start_time": "2022-06-03T11:17:17.580Z"
   },
   {
    "duration": 17,
    "start_time": "2022-06-03T11:17:17.593Z"
   },
   {
    "duration": 10,
    "start_time": "2022-06-03T11:17:17.611Z"
   },
   {
    "duration": 5,
    "start_time": "2022-06-03T11:17:17.623Z"
   },
   {
    "duration": 20,
    "start_time": "2022-06-03T11:17:17.629Z"
   },
   {
    "duration": 15,
    "start_time": "2022-06-03T11:17:17.651Z"
   },
   {
    "duration": 29,
    "start_time": "2022-06-03T11:17:17.668Z"
   },
   {
    "duration": 4,
    "start_time": "2022-06-03T11:17:17.699Z"
   },
   {
    "duration": 11,
    "start_time": "2022-06-03T11:17:17.707Z"
   },
   {
    "duration": 299,
    "start_time": "2022-06-03T11:17:17.724Z"
   },
   {
    "duration": 153,
    "start_time": "2022-06-03T11:17:18.025Z"
   },
   {
    "duration": 0,
    "start_time": "2022-06-03T11:17:18.180Z"
   },
   {
    "duration": 0,
    "start_time": "2022-06-03T11:17:18.182Z"
   },
   {
    "duration": 0,
    "start_time": "2022-06-03T11:17:18.183Z"
   },
   {
    "duration": 0,
    "start_time": "2022-06-03T11:17:18.189Z"
   },
   {
    "duration": 0,
    "start_time": "2022-06-03T11:17:18.190Z"
   },
   {
    "duration": 0,
    "start_time": "2022-06-03T11:17:18.191Z"
   },
   {
    "duration": 0,
    "start_time": "2022-06-03T11:17:18.192Z"
   },
   {
    "duration": 0,
    "start_time": "2022-06-03T11:17:18.194Z"
   },
   {
    "duration": 0,
    "start_time": "2022-06-03T11:17:18.195Z"
   },
   {
    "duration": 0,
    "start_time": "2022-06-03T11:17:18.197Z"
   },
   {
    "duration": 0,
    "start_time": "2022-06-03T11:17:18.198Z"
   },
   {
    "duration": 0,
    "start_time": "2022-06-03T11:17:18.200Z"
   },
   {
    "duration": 0,
    "start_time": "2022-06-03T11:17:18.201Z"
   },
   {
    "duration": 0,
    "start_time": "2022-06-03T11:17:18.203Z"
   },
   {
    "duration": 0,
    "start_time": "2022-06-03T11:17:18.204Z"
   },
   {
    "duration": 0,
    "start_time": "2022-06-03T11:17:18.207Z"
   },
   {
    "duration": 0,
    "start_time": "2022-06-03T11:17:18.208Z"
   },
   {
    "duration": 0,
    "start_time": "2022-06-03T11:17:18.209Z"
   },
   {
    "duration": 0,
    "start_time": "2022-06-03T11:17:18.210Z"
   },
   {
    "duration": 0,
    "start_time": "2022-06-03T11:17:18.211Z"
   },
   {
    "duration": 0,
    "start_time": "2022-06-03T11:17:18.213Z"
   },
   {
    "duration": 0,
    "start_time": "2022-06-03T11:17:18.214Z"
   },
   {
    "duration": 0,
    "start_time": "2022-06-03T11:17:18.215Z"
   },
   {
    "duration": 0,
    "start_time": "2022-06-03T11:17:18.217Z"
   },
   {
    "duration": 0,
    "start_time": "2022-06-03T11:17:18.218Z"
   },
   {
    "duration": 0,
    "start_time": "2022-06-03T11:17:18.219Z"
   },
   {
    "duration": 235,
    "start_time": "2022-06-03T11:17:25.887Z"
   },
   {
    "duration": 250,
    "start_time": "2022-06-03T11:18:40.662Z"
   },
   {
    "duration": 4,
    "start_time": "2022-06-03T11:20:53.786Z"
   },
   {
    "duration": 706,
    "start_time": "2022-06-03T11:21:17.598Z"
   },
   {
    "duration": 742,
    "start_time": "2022-06-03T11:22:16.897Z"
   },
   {
    "duration": 766,
    "start_time": "2022-06-03T11:24:08.390Z"
   },
   {
    "duration": 599,
    "start_time": "2022-06-03T11:24:37.177Z"
   },
   {
    "duration": 7,
    "start_time": "2022-06-03T11:24:55.514Z"
   },
   {
    "duration": 894,
    "start_time": "2022-06-03T11:25:12.285Z"
   },
   {
    "duration": 15,
    "start_time": "2022-06-03T11:27:26.464Z"
   },
   {
    "duration": 1309,
    "start_time": "2022-06-03T11:27:36.025Z"
   },
   {
    "duration": 2398,
    "start_time": "2022-06-03T11:27:37.336Z"
   },
   {
    "duration": 25,
    "start_time": "2022-06-03T11:27:39.736Z"
   },
   {
    "duration": 52,
    "start_time": "2022-06-03T11:27:39.762Z"
   },
   {
    "duration": 6,
    "start_time": "2022-06-03T11:27:39.816Z"
   },
   {
    "duration": 12,
    "start_time": "2022-06-03T11:27:39.824Z"
   },
   {
    "duration": 13,
    "start_time": "2022-06-03T11:27:39.838Z"
   },
   {
    "duration": 10,
    "start_time": "2022-06-03T11:27:39.853Z"
   },
   {
    "duration": 28,
    "start_time": "2022-06-03T11:27:39.865Z"
   },
   {
    "duration": 11,
    "start_time": "2022-06-03T11:27:39.895Z"
   },
   {
    "duration": 14,
    "start_time": "2022-06-03T11:27:39.907Z"
   },
   {
    "duration": 11,
    "start_time": "2022-06-03T11:27:39.923Z"
   },
   {
    "duration": 4,
    "start_time": "2022-06-03T11:27:39.935Z"
   },
   {
    "duration": 5,
    "start_time": "2022-06-03T11:27:39.942Z"
   },
   {
    "duration": 285,
    "start_time": "2022-06-03T11:27:39.949Z"
   },
   {
    "duration": 8,
    "start_time": "2022-06-03T11:27:40.236Z"
   },
   {
    "duration": 185,
    "start_time": "2022-06-03T11:27:40.245Z"
   },
   {
    "duration": 0,
    "start_time": "2022-06-03T11:27:40.432Z"
   },
   {
    "duration": 0,
    "start_time": "2022-06-03T11:27:40.434Z"
   },
   {
    "duration": 0,
    "start_time": "2022-06-03T11:27:40.435Z"
   },
   {
    "duration": 0,
    "start_time": "2022-06-03T11:27:40.436Z"
   },
   {
    "duration": 0,
    "start_time": "2022-06-03T11:27:40.437Z"
   },
   {
    "duration": 0,
    "start_time": "2022-06-03T11:27:40.438Z"
   },
   {
    "duration": 0,
    "start_time": "2022-06-03T11:27:40.440Z"
   },
   {
    "duration": 0,
    "start_time": "2022-06-03T11:27:40.441Z"
   },
   {
    "duration": 0,
    "start_time": "2022-06-03T11:27:40.442Z"
   },
   {
    "duration": 0,
    "start_time": "2022-06-03T11:27:40.443Z"
   },
   {
    "duration": 0,
    "start_time": "2022-06-03T11:27:40.444Z"
   },
   {
    "duration": 0,
    "start_time": "2022-06-03T11:27:40.445Z"
   },
   {
    "duration": 0,
    "start_time": "2022-06-03T11:27:40.446Z"
   },
   {
    "duration": 0,
    "start_time": "2022-06-03T11:27:40.447Z"
   },
   {
    "duration": 0,
    "start_time": "2022-06-03T11:27:40.449Z"
   },
   {
    "duration": 0,
    "start_time": "2022-06-03T11:27:40.450Z"
   },
   {
    "duration": 0,
    "start_time": "2022-06-03T11:27:40.451Z"
   },
   {
    "duration": 0,
    "start_time": "2022-06-03T11:27:40.452Z"
   },
   {
    "duration": 0,
    "start_time": "2022-06-03T11:27:40.453Z"
   },
   {
    "duration": 0,
    "start_time": "2022-06-03T11:27:40.454Z"
   },
   {
    "duration": 0,
    "start_time": "2022-06-03T11:27:40.490Z"
   },
   {
    "duration": 0,
    "start_time": "2022-06-03T11:27:40.491Z"
   },
   {
    "duration": 0,
    "start_time": "2022-06-03T11:27:40.493Z"
   },
   {
    "duration": 0,
    "start_time": "2022-06-03T11:27:40.494Z"
   },
   {
    "duration": 0,
    "start_time": "2022-06-03T11:27:40.495Z"
   },
   {
    "duration": 0,
    "start_time": "2022-06-03T11:27:40.496Z"
   },
   {
    "duration": 0,
    "start_time": "2022-06-03T11:27:40.497Z"
   },
   {
    "duration": 0,
    "start_time": "2022-06-03T11:27:40.499Z"
   },
   {
    "duration": 1487,
    "start_time": "2022-06-03T11:27:57.552Z"
   },
   {
    "duration": 2410,
    "start_time": "2022-06-03T11:27:59.041Z"
   },
   {
    "duration": 26,
    "start_time": "2022-06-03T11:28:01.454Z"
   },
   {
    "duration": 55,
    "start_time": "2022-06-03T11:28:01.482Z"
   },
   {
    "duration": 7,
    "start_time": "2022-06-03T11:28:01.539Z"
   },
   {
    "duration": 51,
    "start_time": "2022-06-03T11:28:01.548Z"
   },
   {
    "duration": 42,
    "start_time": "2022-06-03T11:28:01.601Z"
   },
   {
    "duration": 34,
    "start_time": "2022-06-03T11:28:01.645Z"
   },
   {
    "duration": 35,
    "start_time": "2022-06-03T11:28:01.681Z"
   },
   {
    "duration": 40,
    "start_time": "2022-06-03T11:28:01.719Z"
   },
   {
    "duration": 34,
    "start_time": "2022-06-03T11:28:01.761Z"
   },
   {
    "duration": 50,
    "start_time": "2022-06-03T11:28:01.797Z"
   },
   {
    "duration": 27,
    "start_time": "2022-06-03T11:28:01.849Z"
   },
   {
    "duration": 39,
    "start_time": "2022-06-03T11:28:01.878Z"
   },
   {
    "duration": 324,
    "start_time": "2022-06-03T11:28:01.920Z"
   },
   {
    "duration": 7,
    "start_time": "2022-06-03T11:28:02.246Z"
   },
   {
    "duration": 197,
    "start_time": "2022-06-03T11:28:02.254Z"
   },
   {
    "duration": 0,
    "start_time": "2022-06-03T11:28:02.453Z"
   },
   {
    "duration": 0,
    "start_time": "2022-06-03T11:28:02.455Z"
   },
   {
    "duration": 0,
    "start_time": "2022-06-03T11:28:02.456Z"
   },
   {
    "duration": 0,
    "start_time": "2022-06-03T11:28:02.457Z"
   },
   {
    "duration": 0,
    "start_time": "2022-06-03T11:28:02.458Z"
   },
   {
    "duration": 0,
    "start_time": "2022-06-03T11:28:02.459Z"
   },
   {
    "duration": 0,
    "start_time": "2022-06-03T11:28:02.460Z"
   },
   {
    "duration": 0,
    "start_time": "2022-06-03T11:28:02.461Z"
   },
   {
    "duration": 0,
    "start_time": "2022-06-03T11:28:02.462Z"
   },
   {
    "duration": 0,
    "start_time": "2022-06-03T11:28:02.463Z"
   },
   {
    "duration": 0,
    "start_time": "2022-06-03T11:28:02.464Z"
   },
   {
    "duration": 0,
    "start_time": "2022-06-03T11:28:02.465Z"
   },
   {
    "duration": 0,
    "start_time": "2022-06-03T11:28:02.466Z"
   },
   {
    "duration": 0,
    "start_time": "2022-06-03T11:28:02.489Z"
   },
   {
    "duration": 0,
    "start_time": "2022-06-03T11:28:02.490Z"
   },
   {
    "duration": 0,
    "start_time": "2022-06-03T11:28:02.491Z"
   },
   {
    "duration": 0,
    "start_time": "2022-06-03T11:28:02.492Z"
   },
   {
    "duration": 0,
    "start_time": "2022-06-03T11:28:02.493Z"
   },
   {
    "duration": 0,
    "start_time": "2022-06-03T11:28:02.494Z"
   },
   {
    "duration": 0,
    "start_time": "2022-06-03T11:28:02.495Z"
   },
   {
    "duration": 0,
    "start_time": "2022-06-03T11:28:02.496Z"
   },
   {
    "duration": 0,
    "start_time": "2022-06-03T11:28:02.497Z"
   },
   {
    "duration": 0,
    "start_time": "2022-06-03T11:28:02.498Z"
   },
   {
    "duration": 0,
    "start_time": "2022-06-03T11:28:02.499Z"
   },
   {
    "duration": 0,
    "start_time": "2022-06-03T11:28:02.501Z"
   },
   {
    "duration": 0,
    "start_time": "2022-06-03T11:28:02.502Z"
   },
   {
    "duration": 0,
    "start_time": "2022-06-03T11:28:02.503Z"
   },
   {
    "duration": 0,
    "start_time": "2022-06-03T11:28:02.506Z"
   },
   {
    "duration": 179,
    "start_time": "2022-06-03T11:28:32.191Z"
   },
   {
    "duration": 175,
    "start_time": "2022-06-03T11:29:27.748Z"
   },
   {
    "duration": 180,
    "start_time": "2022-06-03T11:29:36.505Z"
   },
   {
    "duration": 16,
    "start_time": "2022-06-03T11:30:01.516Z"
   },
   {
    "duration": 10,
    "start_time": "2022-06-03T11:30:06.399Z"
   },
   {
    "duration": 202,
    "start_time": "2022-06-03T11:30:32.142Z"
   },
   {
    "duration": 1635,
    "start_time": "2022-06-04T18:40:19.559Z"
   },
   {
    "duration": 2750,
    "start_time": "2022-06-04T18:40:21.196Z"
   },
   {
    "duration": 25,
    "start_time": "2022-06-04T18:40:23.948Z"
   },
   {
    "duration": 146,
    "start_time": "2022-06-04T18:40:23.976Z"
   },
   {
    "duration": 11,
    "start_time": "2022-06-04T18:40:24.124Z"
   },
   {
    "duration": 25,
    "start_time": "2022-06-04T18:40:24.137Z"
   },
   {
    "duration": 16,
    "start_time": "2022-06-04T18:40:24.163Z"
   },
   {
    "duration": 13,
    "start_time": "2022-06-04T18:40:24.181Z"
   },
   {
    "duration": 11,
    "start_time": "2022-06-04T18:40:24.196Z"
   },
   {
    "duration": 23,
    "start_time": "2022-06-04T18:40:24.225Z"
   },
   {
    "duration": 16,
    "start_time": "2022-06-04T18:40:24.249Z"
   },
   {
    "duration": 10,
    "start_time": "2022-06-04T18:40:24.266Z"
   },
   {
    "duration": 3,
    "start_time": "2022-06-04T18:40:24.278Z"
   },
   {
    "duration": 11,
    "start_time": "2022-06-04T18:40:24.283Z"
   },
   {
    "duration": 269,
    "start_time": "2022-06-04T18:40:24.296Z"
   },
   {
    "duration": 13,
    "start_time": "2022-06-04T18:40:24.567Z"
   },
   {
    "duration": 194,
    "start_time": "2022-06-04T18:40:24.583Z"
   },
   {
    "duration": 191,
    "start_time": "2022-06-04T18:40:24.779Z"
   },
   {
    "duration": 240,
    "start_time": "2022-06-04T18:40:24.971Z"
   },
   {
    "duration": 264,
    "start_time": "2022-06-04T18:40:25.213Z"
   },
   {
    "duration": 5,
    "start_time": "2022-06-04T18:40:25.478Z"
   },
   {
    "duration": 7,
    "start_time": "2022-06-04T18:40:25.485Z"
   },
   {
    "duration": 7,
    "start_time": "2022-06-04T18:40:25.493Z"
   },
   {
    "duration": 25,
    "start_time": "2022-06-04T18:40:25.502Z"
   },
   {
    "duration": 15,
    "start_time": "2022-06-04T18:40:25.529Z"
   },
   {
    "duration": 13,
    "start_time": "2022-06-04T18:40:25.546Z"
   },
   {
    "duration": 156,
    "start_time": "2022-06-04T18:40:25.561Z"
   },
   {
    "duration": 940,
    "start_time": "2022-06-04T18:40:25.728Z"
   },
   {
    "duration": 4,
    "start_time": "2022-06-04T18:40:26.669Z"
   },
   {
    "duration": 9,
    "start_time": "2022-06-04T18:40:26.674Z"
   },
   {
    "duration": 10,
    "start_time": "2022-06-04T18:40:26.684Z"
   },
   {
    "duration": 30,
    "start_time": "2022-06-04T18:40:26.696Z"
   },
   {
    "duration": 12,
    "start_time": "2022-06-04T18:40:26.728Z"
   },
   {
    "duration": 1298,
    "start_time": "2022-06-04T18:40:26.743Z"
   },
   {
    "duration": 16,
    "start_time": "2022-06-04T18:40:28.044Z"
   },
   {
    "duration": 166,
    "start_time": "2022-06-04T18:40:28.062Z"
   },
   {
    "duration": 30431,
    "start_time": "2022-06-04T18:40:28.230Z"
   },
   {
    "duration": 3,
    "start_time": "2022-06-04T18:40:58.663Z"
   },
   {
    "duration": 11,
    "start_time": "2022-06-04T18:40:58.668Z"
   },
   {
    "duration": 6,
    "start_time": "2022-06-04T18:40:58.680Z"
   },
   {
    "duration": 176,
    "start_time": "2022-06-04T18:40:58.688Z"
   },
   {
    "duration": 2,
    "start_time": "2022-06-04T18:40:58.866Z"
   },
   {
    "duration": 59,
    "start_time": "2022-06-04T18:40:58.870Z"
   },
   {
    "duration": 24,
    "start_time": "2022-06-04T18:40:58.937Z"
   },
   {
    "duration": 1388,
    "start_time": "2022-06-04T18:41:46.954Z"
   },
   {
    "duration": 2269,
    "start_time": "2022-06-04T18:41:48.346Z"
   },
   {
    "duration": 31,
    "start_time": "2022-06-04T18:41:50.618Z"
   },
   {
    "duration": 63,
    "start_time": "2022-06-04T18:41:50.651Z"
   },
   {
    "duration": 5,
    "start_time": "2022-06-04T18:41:50.716Z"
   },
   {
    "duration": 36,
    "start_time": "2022-06-04T18:41:50.723Z"
   },
   {
    "duration": 14,
    "start_time": "2022-06-04T18:41:50.760Z"
   },
   {
    "duration": 9,
    "start_time": "2022-06-04T18:41:50.776Z"
   },
   {
    "duration": 7,
    "start_time": "2022-06-04T18:41:50.786Z"
   },
   {
    "duration": 7,
    "start_time": "2022-06-04T18:41:50.795Z"
   },
   {
    "duration": 14,
    "start_time": "2022-06-04T18:41:50.803Z"
   },
   {
    "duration": 44,
    "start_time": "2022-06-04T18:41:50.819Z"
   },
   {
    "duration": 3,
    "start_time": "2022-06-04T18:41:50.865Z"
   },
   {
    "duration": 10,
    "start_time": "2022-06-04T18:41:50.871Z"
   },
   {
    "duration": 238,
    "start_time": "2022-06-04T18:41:50.882Z"
   },
   {
    "duration": 20,
    "start_time": "2022-06-04T18:41:51.122Z"
   },
   {
    "duration": 210,
    "start_time": "2022-06-04T18:41:51.144Z"
   },
   {
    "duration": 153,
    "start_time": "2022-06-04T18:41:51.356Z"
   },
   {
    "duration": 247,
    "start_time": "2022-06-04T18:41:51.511Z"
   },
   {
    "duration": 226,
    "start_time": "2022-06-04T18:41:51.760Z"
   },
   {
    "duration": 5,
    "start_time": "2022-06-04T18:41:51.989Z"
   },
   {
    "duration": 8,
    "start_time": "2022-06-04T18:41:51.996Z"
   },
   {
    "duration": 26,
    "start_time": "2022-06-04T18:41:52.005Z"
   },
   {
    "duration": 26,
    "start_time": "2022-06-04T18:41:52.040Z"
   },
   {
    "duration": 10,
    "start_time": "2022-06-04T18:41:52.068Z"
   },
   {
    "duration": 14,
    "start_time": "2022-06-04T18:41:52.079Z"
   },
   {
    "duration": 152,
    "start_time": "2022-06-04T18:41:52.094Z"
   },
   {
    "duration": 1078,
    "start_time": "2022-06-04T18:41:52.253Z"
   },
   {
    "duration": 4,
    "start_time": "2022-06-04T18:41:53.333Z"
   },
   {
    "duration": 32,
    "start_time": "2022-06-04T18:41:53.338Z"
   },
   {
    "duration": 6,
    "start_time": "2022-06-04T18:41:53.372Z"
   },
   {
    "duration": 11,
    "start_time": "2022-06-04T18:41:53.380Z"
   },
   {
    "duration": 7,
    "start_time": "2022-06-04T18:41:53.394Z"
   },
   {
    "duration": 1260,
    "start_time": "2022-06-04T18:41:53.403Z"
   },
   {
    "duration": 12,
    "start_time": "2022-06-04T18:41:54.665Z"
   },
   {
    "duration": 127,
    "start_time": "2022-06-04T18:41:54.732Z"
   },
   {
    "duration": 31020,
    "start_time": "2022-06-04T18:41:54.861Z"
   },
   {
    "duration": 3,
    "start_time": "2022-06-04T18:42:25.883Z"
   },
   {
    "duration": 13,
    "start_time": "2022-06-04T18:42:25.888Z"
   },
   {
    "duration": 17,
    "start_time": "2022-06-04T18:42:25.903Z"
   },
   {
    "duration": 230,
    "start_time": "2022-06-04T18:42:25.925Z"
   },
   {
    "duration": 2,
    "start_time": "2022-06-04T18:42:26.157Z"
   },
   {
    "duration": 6,
    "start_time": "2022-06-04T18:42:26.160Z"
   },
   {
    "duration": 7,
    "start_time": "2022-06-04T18:42:26.223Z"
   },
   {
    "duration": 166,
    "start_time": "2022-06-04T18:45:34.373Z"
   },
   {
    "duration": 144,
    "start_time": "2022-06-04T18:51:49.719Z"
   },
   {
    "duration": 456,
    "start_time": "2022-06-04T18:51:58.813Z"
   },
   {
    "duration": 1394,
    "start_time": "2022-06-04T18:52:08.411Z"
   },
   {
    "duration": 2168,
    "start_time": "2022-06-04T18:52:09.807Z"
   },
   {
    "duration": 24,
    "start_time": "2022-06-04T18:52:11.977Z"
   },
   {
    "duration": 66,
    "start_time": "2022-06-04T18:52:12.003Z"
   },
   {
    "duration": 6,
    "start_time": "2022-06-04T18:52:12.070Z"
   },
   {
    "duration": 16,
    "start_time": "2022-06-04T18:52:12.077Z"
   },
   {
    "duration": 12,
    "start_time": "2022-06-04T18:52:12.094Z"
   },
   {
    "duration": 9,
    "start_time": "2022-06-04T18:52:12.108Z"
   },
   {
    "duration": 22,
    "start_time": "2022-06-04T18:52:12.119Z"
   },
   {
    "duration": 10,
    "start_time": "2022-06-04T18:52:12.146Z"
   },
   {
    "duration": 14,
    "start_time": "2022-06-04T18:52:12.158Z"
   },
   {
    "duration": 8,
    "start_time": "2022-06-04T18:52:12.173Z"
   },
   {
    "duration": 5,
    "start_time": "2022-06-04T18:52:12.183Z"
   },
   {
    "duration": 8,
    "start_time": "2022-06-04T18:52:12.189Z"
   },
   {
    "duration": 252,
    "start_time": "2022-06-04T18:52:12.198Z"
   },
   {
    "duration": 11,
    "start_time": "2022-06-04T18:52:12.452Z"
   },
   {
    "duration": 215,
    "start_time": "2022-06-04T18:52:12.465Z"
   },
   {
    "duration": 198,
    "start_time": "2022-06-04T18:52:12.683Z"
   },
   {
    "duration": 257,
    "start_time": "2022-06-04T18:52:12.883Z"
   },
   {
    "duration": 210,
    "start_time": "2022-06-04T18:52:13.145Z"
   },
   {
    "duration": 6,
    "start_time": "2022-06-04T18:52:13.357Z"
   },
   {
    "duration": 14,
    "start_time": "2022-06-04T18:52:13.364Z"
   },
   {
    "duration": 8,
    "start_time": "2022-06-04T18:52:13.379Z"
   },
   {
    "duration": 16,
    "start_time": "2022-06-04T18:52:13.389Z"
   },
   {
    "duration": 12,
    "start_time": "2022-06-04T18:52:13.406Z"
   },
   {
    "duration": 35,
    "start_time": "2022-06-04T18:52:13.419Z"
   },
   {
    "duration": 112,
    "start_time": "2022-06-04T18:52:13.456Z"
   },
   {
    "duration": 910,
    "start_time": "2022-06-04T18:52:13.571Z"
   },
   {
    "duration": 4,
    "start_time": "2022-06-04T18:52:14.482Z"
   },
   {
    "duration": 6,
    "start_time": "2022-06-04T18:52:14.487Z"
   },
   {
    "duration": 5,
    "start_time": "2022-06-04T18:52:14.494Z"
   },
   {
    "duration": 36,
    "start_time": "2022-06-04T18:52:14.500Z"
   },
   {
    "duration": 5,
    "start_time": "2022-06-04T18:52:14.545Z"
   },
   {
    "duration": 1225,
    "start_time": "2022-06-04T18:52:14.552Z"
   },
   {
    "duration": 57,
    "start_time": "2022-06-04T18:52:15.779Z"
   },
   {
    "duration": 116,
    "start_time": "2022-06-04T18:52:15.838Z"
   },
   {
    "duration": 1343,
    "start_time": "2022-06-04T18:52:49.105Z"
   },
   {
    "duration": 2295,
    "start_time": "2022-06-04T18:52:50.453Z"
   },
   {
    "duration": 27,
    "start_time": "2022-06-04T18:52:52.750Z"
   },
   {
    "duration": 63,
    "start_time": "2022-06-04T18:52:52.780Z"
   },
   {
    "duration": 18,
    "start_time": "2022-06-04T18:52:52.851Z"
   },
   {
    "duration": 22,
    "start_time": "2022-06-04T18:52:52.873Z"
   },
   {
    "duration": 24,
    "start_time": "2022-06-04T18:52:52.897Z"
   },
   {
    "duration": 12,
    "start_time": "2022-06-04T18:52:52.923Z"
   },
   {
    "duration": 36,
    "start_time": "2022-06-04T18:52:52.937Z"
   },
   {
    "duration": 7,
    "start_time": "2022-06-04T18:52:52.977Z"
   },
   {
    "duration": 20,
    "start_time": "2022-06-04T18:52:52.985Z"
   },
   {
    "duration": 9,
    "start_time": "2022-06-04T18:52:53.006Z"
   },
   {
    "duration": 4,
    "start_time": "2022-06-04T18:52:53.016Z"
   },
   {
    "duration": 36,
    "start_time": "2022-06-04T18:52:53.021Z"
   },
   {
    "duration": 246,
    "start_time": "2022-06-04T18:52:53.059Z"
   },
   {
    "duration": 10,
    "start_time": "2022-06-04T18:52:53.307Z"
   },
   {
    "duration": 172,
    "start_time": "2022-06-04T18:52:53.327Z"
   },
   {
    "duration": 174,
    "start_time": "2022-06-04T18:52:53.501Z"
   },
   {
    "duration": 232,
    "start_time": "2022-06-04T18:52:53.677Z"
   },
   {
    "duration": 235,
    "start_time": "2022-06-04T18:52:53.911Z"
   },
   {
    "duration": 8,
    "start_time": "2022-06-04T18:52:54.147Z"
   },
   {
    "duration": 6,
    "start_time": "2022-06-04T18:52:54.156Z"
   },
   {
    "duration": 4,
    "start_time": "2022-06-04T18:52:54.164Z"
   },
   {
    "duration": 11,
    "start_time": "2022-06-04T18:52:54.170Z"
   },
   {
    "duration": 9,
    "start_time": "2022-06-04T18:52:54.183Z"
   },
   {
    "duration": 37,
    "start_time": "2022-06-04T18:52:54.194Z"
   },
   {
    "duration": 119,
    "start_time": "2022-06-04T18:52:54.240Z"
   },
   {
    "duration": 892,
    "start_time": "2022-06-04T18:52:54.362Z"
   },
   {
    "duration": 3,
    "start_time": "2022-06-04T18:52:55.256Z"
   },
   {
    "duration": 9,
    "start_time": "2022-06-04T18:52:55.261Z"
   },
   {
    "duration": 6,
    "start_time": "2022-06-04T18:52:55.271Z"
   },
   {
    "duration": 10,
    "start_time": "2022-06-04T18:52:55.278Z"
   },
   {
    "duration": 5,
    "start_time": "2022-06-04T18:52:55.289Z"
   },
   {
    "duration": 1196,
    "start_time": "2022-06-04T18:52:55.295Z"
   },
   {
    "duration": 42,
    "start_time": "2022-06-04T18:52:56.493Z"
   },
   {
    "duration": 3,
    "start_time": "2022-06-04T18:52:56.536Z"
   },
   {
    "duration": 31312,
    "start_time": "2022-06-04T18:52:56.541Z"
   },
   {
    "duration": 4,
    "start_time": "2022-06-04T18:53:27.855Z"
   },
   {
    "duration": 8,
    "start_time": "2022-06-04T18:53:27.860Z"
   },
   {
    "duration": 6,
    "start_time": "2022-06-04T18:53:27.869Z"
   },
   {
    "duration": 188,
    "start_time": "2022-06-04T18:53:27.877Z"
   },
   {
    "duration": 2,
    "start_time": "2022-06-04T18:53:28.067Z"
   },
   {
    "duration": 37,
    "start_time": "2022-06-04T18:53:28.126Z"
   },
   {
    "duration": 10,
    "start_time": "2022-06-04T18:53:28.165Z"
   },
   {
    "duration": 579,
    "start_time": "2022-06-04T18:53:28.177Z"
   },
   {
    "duration": 8,
    "start_time": "2022-06-04T18:55:05.590Z"
   },
   {
    "duration": 271,
    "start_time": "2022-06-04T18:55:10.636Z"
   },
   {
    "duration": 366,
    "start_time": "2022-06-04T18:56:00.121Z"
   },
   {
    "duration": 300,
    "start_time": "2022-06-04T18:56:20.458Z"
   },
   {
    "duration": 456,
    "start_time": "2022-06-04T18:56:50.991Z"
   },
   {
    "duration": 292,
    "start_time": "2022-06-04T18:57:13.440Z"
   },
   {
    "duration": 270,
    "start_time": "2022-06-04T18:57:34.509Z"
   },
   {
    "duration": 300,
    "start_time": "2022-06-04T18:57:37.815Z"
   },
   {
    "duration": 286,
    "start_time": "2022-06-04T18:58:27.657Z"
   },
   {
    "duration": 294,
    "start_time": "2022-06-04T18:58:35.299Z"
   },
   {
    "duration": 263,
    "start_time": "2022-06-04T18:58:38.359Z"
   },
   {
    "duration": 274,
    "start_time": "2022-06-04T18:58:42.997Z"
   },
   {
    "duration": 254,
    "start_time": "2022-06-04T18:58:49.913Z"
   },
   {
    "duration": 1583,
    "start_time": "2022-06-04T18:59:00.954Z"
   },
   {
    "duration": 2456,
    "start_time": "2022-06-04T18:59:02.543Z"
   },
   {
    "duration": 28,
    "start_time": "2022-06-04T18:59:05.001Z"
   },
   {
    "duration": 81,
    "start_time": "2022-06-04T18:59:05.033Z"
   },
   {
    "duration": 5,
    "start_time": "2022-06-04T18:59:05.116Z"
   },
   {
    "duration": 40,
    "start_time": "2022-06-04T18:59:05.123Z"
   },
   {
    "duration": 15,
    "start_time": "2022-06-04T18:59:05.165Z"
   },
   {
    "duration": 9,
    "start_time": "2022-06-04T18:59:05.182Z"
   },
   {
    "duration": 5,
    "start_time": "2022-06-04T18:59:05.193Z"
   },
   {
    "duration": 8,
    "start_time": "2022-06-04T18:59:05.199Z"
   },
   {
    "duration": 30,
    "start_time": "2022-06-04T18:59:05.208Z"
   },
   {
    "duration": 13,
    "start_time": "2022-06-04T18:59:05.239Z"
   },
   {
    "duration": 13,
    "start_time": "2022-06-04T18:59:05.254Z"
   },
   {
    "duration": 9,
    "start_time": "2022-06-04T18:59:05.270Z"
   },
   {
    "duration": 266,
    "start_time": "2022-06-04T18:59:05.280Z"
   },
   {
    "duration": 16,
    "start_time": "2022-06-04T18:59:05.548Z"
   },
   {
    "duration": 185,
    "start_time": "2022-06-04T18:59:05.566Z"
   },
   {
    "duration": 174,
    "start_time": "2022-06-04T18:59:05.753Z"
   },
   {
    "duration": 238,
    "start_time": "2022-06-04T18:59:05.936Z"
   },
   {
    "duration": 235,
    "start_time": "2022-06-04T18:59:06.176Z"
   },
   {
    "duration": 17,
    "start_time": "2022-06-04T18:59:06.413Z"
   },
   {
    "duration": 19,
    "start_time": "2022-06-04T18:59:06.435Z"
   },
   {
    "duration": 9,
    "start_time": "2022-06-04T18:59:06.457Z"
   },
   {
    "duration": 9,
    "start_time": "2022-06-04T18:59:06.468Z"
   },
   {
    "duration": 12,
    "start_time": "2022-06-04T18:59:06.478Z"
   },
   {
    "duration": 10,
    "start_time": "2022-06-04T18:59:06.492Z"
   },
   {
    "duration": 134,
    "start_time": "2022-06-04T18:59:06.503Z"
   },
   {
    "duration": 938,
    "start_time": "2022-06-04T18:59:06.641Z"
   },
   {
    "duration": 3,
    "start_time": "2022-06-04T18:59:07.581Z"
   },
   {
    "duration": 8,
    "start_time": "2022-06-04T18:59:07.585Z"
   },
   {
    "duration": 5,
    "start_time": "2022-06-04T18:59:07.594Z"
   },
   {
    "duration": 31,
    "start_time": "2022-06-04T18:59:07.601Z"
   },
   {
    "duration": 22,
    "start_time": "2022-06-04T18:59:07.636Z"
   },
   {
    "duration": 1276,
    "start_time": "2022-06-04T18:59:07.659Z"
   },
   {
    "duration": 27,
    "start_time": "2022-06-04T18:59:08.940Z"
   },
   {
    "duration": 164,
    "start_time": "2022-06-04T18:59:08.969Z"
   },
   {
    "duration": 40567,
    "start_time": "2022-06-04T18:59:09.144Z"
   },
   {
    "duration": 3,
    "start_time": "2022-06-04T18:59:49.713Z"
   },
   {
    "duration": 28,
    "start_time": "2022-06-04T18:59:49.718Z"
   },
   {
    "duration": 7,
    "start_time": "2022-06-04T18:59:49.747Z"
   },
   {
    "duration": 210,
    "start_time": "2022-06-04T18:59:49.757Z"
   },
   {
    "duration": 3,
    "start_time": "2022-06-04T18:59:49.969Z"
   },
   {
    "duration": 8,
    "start_time": "2022-06-04T18:59:50.029Z"
   },
   {
    "duration": 28,
    "start_time": "2022-06-04T18:59:50.042Z"
   },
   {
    "duration": 54,
    "start_time": "2022-06-04T18:59:50.072Z"
   },
   {
    "duration": 367,
    "start_time": "2022-06-04T18:59:50.128Z"
   },
   {
    "duration": 261,
    "start_time": "2022-06-04T19:00:26.993Z"
   },
   {
    "duration": 258,
    "start_time": "2022-06-04T19:00:30.506Z"
   },
   {
    "duration": 263,
    "start_time": "2022-06-04T19:00:37.935Z"
   },
   {
    "duration": 402,
    "start_time": "2022-06-04T19:01:30.501Z"
   },
   {
    "duration": 285,
    "start_time": "2022-06-04T19:01:59.713Z"
   },
   {
    "duration": 273,
    "start_time": "2022-06-04T19:02:05.492Z"
   },
   {
    "duration": 250,
    "start_time": "2022-06-04T19:02:13.415Z"
   },
   {
    "duration": 271,
    "start_time": "2022-06-04T19:02:17.701Z"
   }
  ],
  "kernelspec": {
   "display_name": "Python 3 (ipykernel)",
   "language": "python",
   "name": "python3"
  },
  "language_info": {
   "codemirror_mode": {
    "name": "ipython",
    "version": 3
   },
   "file_extension": ".py",
   "mimetype": "text/x-python",
   "name": "python",
   "nbconvert_exporter": "python",
   "pygments_lexer": "ipython3",
   "version": "3.9.7"
  },
  "toc": {
   "base_numbering": 1,
   "nav_menu": {},
   "number_sections": true,
   "sideBar": true,
   "skip_h1_title": true,
   "title_cell": "Table of Contents",
   "title_sidebar": "Contents",
   "toc_cell": false,
   "toc_position": {},
   "toc_section_display": true,
   "toc_window_display": false
  }
 },
 "nbformat": 4,
 "nbformat_minor": 5
}
