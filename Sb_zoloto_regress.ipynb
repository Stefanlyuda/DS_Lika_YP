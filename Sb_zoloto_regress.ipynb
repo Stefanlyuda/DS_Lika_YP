{
 "cells": [
  {
   "cell_type": "markdown",
   "id": "ae42ad08",
   "metadata": {},
   "source": [
    "# Восстановление золота из руды"
   ]
  },
  {
   "cell_type": "markdown",
   "id": "8eec43f5",
   "metadata": {},
   "source": [
    "### Постановка задачи\n",
    "- Подготовьте прототип модели машинного обучения для «Цифры». Компания разрабатывает решения для эффективной работы промышленных предприятий.\n",
    "- Модель должна предсказать коэффициент восстановления золота из золотосодержащей руды. В вашем распоряжении данные с параметрами добычи и очистки.\n",
    "- Модель поможет оптимизировать производство, чтобы не запускать предприятие с убыточными характеристиками.\n",
    "Вам нужно:\n",
    "Подготовить данные;\n",
    "Провести исследовательский анализ данных;\n",
    "Построить и обучить модель.\n",
    "Чтобы выполнить проект, обращайтесь к библиотекам pandas, matplotlib и sklearn. Вам поможет их документация."
   ]
  },
  {
   "cell_type": "markdown",
   "id": "e7d72ac1",
   "metadata": {},
   "source": [
    "### Описание данных\n",
    "Технологический процесс\n",
    "- Rougher feed — исходное сырье\n",
    "- Rougher additions (или reagent additions) — флотационные реагенты: Xanthate, Sulphate, Depressant\n",
    "- Xanthate **— ксантогенат (промотер, или активатор флотации);\n",
    "- Sulphate — сульфат (на данном производстве сульфид натрия);\n",
    "- Depressant — депрессант (силикат натрия).\n",
    "- Rougher process (англ. «грубый процесс») — флотация\n",
    "- Rougher tails — отвальные хвосты\n",
    "- Float banks — флотационная установка\n",
    "- Cleaner process — очистка\n",
    "- Rougher Au — черновой концентрат золота\n",
    "- Final Au — финальный концентрат золота\n",
    "\n",
    "Параметры этапов\n",
    "- air amount — объём воздуха\n",
    "- fluid levels — уровень жидкости\n",
    "- feed size — размер гранул сырья\n",
    "- feed rate — скорость подачи"
   ]
  },
  {
   "cell_type": "markdown",
   "id": "56babb76",
   "metadata": {},
   "source": [
    "- Нужно спрогнозировать сразу две величины:\n",
    "- эффективность обогащения чернового концентрата rougher.output.recovery;\n",
    "- эффективность обогащения финального концентрата final.output.recovery."
   ]
  },
  {
   "cell_type": "markdown",
   "id": "85e1f692",
   "metadata": {},
   "source": [
    "Возможные значения для блока [этап]:\n",
    "- rougher — флотация\n",
    "- primary_cleaner — первичная очистка\n",
    "- secondary_cleaner — вторичная очистка\n",
    "- final — финальные характеристики\n",
    "Возможные значения для блока [тип_параметра]:\n",
    "- input — параметры сырья\n",
    "- output — параметры продукта\n",
    "- state — параметры, характеризующие текущее состояние этапа\n",
    "- calculation — расчётные характеристики"
   ]
  },
  {
   "cell_type": "markdown",
   "id": "9a59de81",
   "metadata": {},
   "source": [
    "### Решение задачи"
   ]
  },
  {
   "cell_type": "markdown",
   "id": "e2f8b173",
   "metadata": {},
   "source": [
    "#### Импорт библиотек"
   ]
  },
  {
   "cell_type": "code",
   "execution_count": 1,
   "id": "2337e6f5",
   "metadata": {},
   "outputs": [],
   "source": [
    "import numpy as np\n",
    "import matplotlib.pyplot as plt\n",
    "import pandas as pd\n",
    "import seaborn as sns\n",
    "\n",
    "import warnings \n",
    "warnings.simplefilter(action='ignore', category=FutureWarning) #убираем ошибку\n",
    "pd.set_option('display.max_rows', None)\n",
    "from sklearn.metrics import mean_absolute_error, make_scorer\n",
    "\n",
    "from sklearn.tree import DecisionTreeRegressor\n",
    "from sklearn.linear_model import LinearRegression\n",
    "from sklearn.ensemble import RandomForestRegressor\n",
    "\n",
    "from sklearn.model_selection import GridSearchCV\n"
   ]
  },
  {
   "cell_type": "markdown",
   "id": "d5e3c111",
   "metadata": {},
   "source": [
    "#### Загрузка данных"
   ]
  },
  {
   "cell_type": "code",
   "execution_count": 2,
   "id": "ed282774",
   "metadata": {},
   "outputs": [],
   "source": [
    "data = pd.read_csv('/Users/l.stefanenko/Desktop/Yandex/Github/№9 Сборный золото регресия/gold_recovery_full_new (1).csv', \n",
    "                   index_col='date', parse_dates=True)\n",
    "data_train = pd.read_csv('/Users/l.stefanenko/Desktop/Yandex/Github/№9 Сборный золото регресия/gold_recovery_train_new (1).csv', \n",
    "                         index_col='date', parse_dates=True)\n",
    "data_test = pd.read_csv('/Users/l.stefanenko/Desktop/Yandex/Github/№9 Сборный золото регресия/gold_recovery_test_new (1).csv', \n",
    "                        index_col='date', parse_dates=True)"
   ]
  },
  {
   "cell_type": "markdown",
   "id": "c83f652d",
   "metadata": {},
   "source": [
    "Посмотрим на датасеты, для этого напишем цикл dataset  и посмотрим основную информацию (количество строк, пропусков  и дубликатов)"
   ]
  },
  {
   "cell_type": "code",
   "execution_count": 3,
   "id": "80feac2b",
   "metadata": {},
   "outputs": [
    {
     "name": "stdout",
     "output_type": "stream",
     "text": [
      "\n",
      "\n",
      "Shape: (19439, 86)\n",
      "Количество пропусков: 4481\n",
      "Количество дубликатов: 0\n",
      "\n",
      "\n",
      "Shape: (14149, 86)\n",
      "Количество пропусков: 4100\n",
      "Количество дубликатов: 0\n",
      "\n",
      "\n",
      "Shape: (5290, 52)\n",
      "Количество пропусков: 90\n",
      "Количество дубликатов: 0\n"
     ]
    }
   ],
   "source": [
    "full = [data, data_train, data_test]\n",
    "\n",
    "for dataset in full:\n",
    "    print('\\n')\n",
    "    print('Shape:', dataset.shape)\n",
    "    print('Количество пропусков:', dataset.isna().sum().sum())\n",
    "    print('Количество дубликатов:', dataset.duplicated().sum())"
   ]
  },
  {
   "cell_type": "markdown",
   "id": "9c7fcb03",
   "metadata": {},
   "source": [
    "Вывод: необхоимо избавиться от пропусков в датасетах для построения моделей"
   ]
  },
  {
   "cell_type": "code",
   "execution_count": 4,
   "id": "fbad53c3",
   "metadata": {},
   "outputs": [
    {
     "data": {
      "text/html": [
       "<div>\n",
       "<style scoped>\n",
       "    .dataframe tbody tr th:only-of-type {\n",
       "        vertical-align: middle;\n",
       "    }\n",
       "\n",
       "    .dataframe tbody tr th {\n",
       "        vertical-align: top;\n",
       "    }\n",
       "\n",
       "    .dataframe thead th {\n",
       "        text-align: right;\n",
       "    }\n",
       "</style>\n",
       "<table border=\"1\" class=\"dataframe\">\n",
       "  <thead>\n",
       "    <tr style=\"text-align: right;\">\n",
       "      <th></th>\n",
       "      <th>final.output.concentrate_ag</th>\n",
       "      <th>final.output.concentrate_pb</th>\n",
       "      <th>final.output.concentrate_sol</th>\n",
       "      <th>final.output.concentrate_au</th>\n",
       "      <th>final.output.recovery</th>\n",
       "      <th>final.output.tail_ag</th>\n",
       "      <th>final.output.tail_pb</th>\n",
       "      <th>final.output.tail_sol</th>\n",
       "      <th>final.output.tail_au</th>\n",
       "      <th>primary_cleaner.input.sulfate</th>\n",
       "      <th>...</th>\n",
       "      <th>secondary_cleaner.state.floatbank4_a_air</th>\n",
       "      <th>secondary_cleaner.state.floatbank4_a_level</th>\n",
       "      <th>secondary_cleaner.state.floatbank4_b_air</th>\n",
       "      <th>secondary_cleaner.state.floatbank4_b_level</th>\n",
       "      <th>secondary_cleaner.state.floatbank5_a_air</th>\n",
       "      <th>secondary_cleaner.state.floatbank5_a_level</th>\n",
       "      <th>secondary_cleaner.state.floatbank5_b_air</th>\n",
       "      <th>secondary_cleaner.state.floatbank5_b_level</th>\n",
       "      <th>secondary_cleaner.state.floatbank6_a_air</th>\n",
       "      <th>secondary_cleaner.state.floatbank6_a_level</th>\n",
       "    </tr>\n",
       "    <tr>\n",
       "      <th>date</th>\n",
       "      <th></th>\n",
       "      <th></th>\n",
       "      <th></th>\n",
       "      <th></th>\n",
       "      <th></th>\n",
       "      <th></th>\n",
       "      <th></th>\n",
       "      <th></th>\n",
       "      <th></th>\n",
       "      <th></th>\n",
       "      <th></th>\n",
       "      <th></th>\n",
       "      <th></th>\n",
       "      <th></th>\n",
       "      <th></th>\n",
       "      <th></th>\n",
       "      <th></th>\n",
       "      <th></th>\n",
       "      <th></th>\n",
       "      <th></th>\n",
       "      <th></th>\n",
       "    </tr>\n",
       "  </thead>\n",
       "  <tbody>\n",
       "    <tr>\n",
       "      <th>2016-01-15</th>\n",
       "      <td>6.055403</td>\n",
       "      <td>9.889648</td>\n",
       "      <td>5.507324</td>\n",
       "      <td>42.19202</td>\n",
       "      <td>70.541216</td>\n",
       "      <td>10.411962</td>\n",
       "      <td>0.895447</td>\n",
       "      <td>16.904297</td>\n",
       "      <td>2.143149</td>\n",
       "      <td>127.092003</td>\n",
       "      <td>...</td>\n",
       "      <td>14.016835</td>\n",
       "      <td>-502.488007</td>\n",
       "      <td>12.099931</td>\n",
       "      <td>-504.715942</td>\n",
       "      <td>9.925633</td>\n",
       "      <td>-498.310211</td>\n",
       "      <td>8.079666</td>\n",
       "      <td>-500.470978</td>\n",
       "      <td>14.151341</td>\n",
       "      <td>-605.84198</td>\n",
       "    </tr>\n",
       "  </tbody>\n",
       "</table>\n",
       "<p>1 rows × 86 columns</p>\n",
       "</div>"
      ],
      "text/plain": [
       "            final.output.concentrate_ag  final.output.concentrate_pb  \\\n",
       "date                                                                   \n",
       "2016-01-15                     6.055403                     9.889648   \n",
       "\n",
       "            final.output.concentrate_sol  final.output.concentrate_au  \\\n",
       "date                                                                    \n",
       "2016-01-15                      5.507324                     42.19202   \n",
       "\n",
       "            final.output.recovery  final.output.tail_ag  final.output.tail_pb  \\\n",
       "date                                                                            \n",
       "2016-01-15              70.541216             10.411962              0.895447   \n",
       "\n",
       "            final.output.tail_sol  final.output.tail_au  \\\n",
       "date                                                      \n",
       "2016-01-15              16.904297              2.143149   \n",
       "\n",
       "            primary_cleaner.input.sulfate  ...  \\\n",
       "date                                       ...   \n",
       "2016-01-15                     127.092003  ...   \n",
       "\n",
       "            secondary_cleaner.state.floatbank4_a_air  \\\n",
       "date                                                   \n",
       "2016-01-15                                 14.016835   \n",
       "\n",
       "            secondary_cleaner.state.floatbank4_a_level  \\\n",
       "date                                                     \n",
       "2016-01-15                                 -502.488007   \n",
       "\n",
       "            secondary_cleaner.state.floatbank4_b_air  \\\n",
       "date                                                   \n",
       "2016-01-15                                 12.099931   \n",
       "\n",
       "            secondary_cleaner.state.floatbank4_b_level  \\\n",
       "date                                                     \n",
       "2016-01-15                                 -504.715942   \n",
       "\n",
       "            secondary_cleaner.state.floatbank5_a_air  \\\n",
       "date                                                   \n",
       "2016-01-15                                  9.925633   \n",
       "\n",
       "            secondary_cleaner.state.floatbank5_a_level  \\\n",
       "date                                                     \n",
       "2016-01-15                                 -498.310211   \n",
       "\n",
       "            secondary_cleaner.state.floatbank5_b_air  \\\n",
       "date                                                   \n",
       "2016-01-15                                  8.079666   \n",
       "\n",
       "            secondary_cleaner.state.floatbank5_b_level  \\\n",
       "date                                                     \n",
       "2016-01-15                                 -500.470978   \n",
       "\n",
       "            secondary_cleaner.state.floatbank6_a_air  \\\n",
       "date                                                   \n",
       "2016-01-15                                 14.151341   \n",
       "\n",
       "            secondary_cleaner.state.floatbank6_a_level  \n",
       "date                                                    \n",
       "2016-01-15                                  -605.84198  \n",
       "\n",
       "[1 rows x 86 columns]"
      ]
     },
     "metadata": {},
     "output_type": "display_data"
    }
   ],
   "source": [
    "display(data_train.head(1))"
   ]
  },
  {
   "cell_type": "markdown",
   "id": "63c0db43",
   "metadata": {},
   "source": [
    "####  Проверка расчетов эффективности обогащения (MAE)"
   ]
  },
  {
   "cell_type": "code",
   "execution_count": 10,
   "id": "a5dfb6b6",
   "metadata": {},
   "outputs": [
    {
     "name": "stdout",
     "output_type": "stream",
     "text": [
      "MAE обучающей выборки: 9.73512347450521e-15\n"
     ]
    }
   ],
   "source": [
    "def recovery (c, f, t):\n",
    "    result = (c*(f-t))/(f*(c-t))*100\n",
    "    return result\n",
    " \n",
    "data_train['recovery'] = recovery(data_train['rougher.output.concentrate_au'],\n",
    "                                              data_train['rougher.input.feed_au'],\n",
    "                                              data_train['rougher.output.tail_au'])\n",
    " \n",
    "print('MAE обучающей выборки:',mean_absolute_error(data_train['rougher.output.recovery'], data_train['recovery']))\n"
   ]
  },
  {
   "cell_type": "markdown",
   "id": "4c3c7291",
   "metadata": {},
   "source": [
    " Вывод: MAE много меньше единицы,  эффективность обогащения на обучающей выборке рассчитана правильно"
   ]
  },
  {
   "cell_type": "markdown",
   "id": "952311a2",
   "metadata": {},
   "source": [
    "<div class=\"alert alert-block alert-success\">\n",
    "<b>Комментарий ревьюера👍:</b> Верно, полученное значение оказалось в достаточной степени маленьким, чтобы можно было утверждать о правильности расчёта\n",
    "</div>\n"
   ]
  },
  {
   "cell_type": "markdown",
   "id": "3bcf13b5",
   "metadata": {},
   "source": [
    "В условии задачи сказано:\n",
    "Некоторые параметры недоступны, потому что замеряются и/или рассчитываются значительно позже. Из-за этого в тестовой выборке отсутствуют некоторые признаки, которые могут быть в обучающей.\n",
    "\n",
    "Найдем столбцы, которые отсуствуют в тестовой выборке"
   ]
  },
  {
   "cell_type": "code",
   "execution_count": 12,
   "id": "cf168e0f",
   "metadata": {},
   "outputs": [
    {
     "data": {
      "text/plain": [
       "['rougher.output.concentrate_ag',\n",
       " 'primary_cleaner.output.concentrate_au',\n",
       " 'final.output.concentrate_sol',\n",
       " 'rougher.output.concentrate_au',\n",
       " 'final.output.concentrate_pb',\n",
       " 'primary_cleaner.output.concentrate_sol',\n",
       " 'rougher.output.concentrate_sol',\n",
       " 'final.output.tail_pb',\n",
       " 'rougher.calculation.au_pb_ratio',\n",
       " 'primary_cleaner.output.concentrate_ag',\n",
       " 'secondary_cleaner.output.tail_pb',\n",
       " 'final.output.tail_au',\n",
       " 'rougher.output.tail_ag',\n",
       " 'secondary_cleaner.output.tail_ag',\n",
       " 'recovery',\n",
       " 'final.output.concentrate_ag',\n",
       " 'rougher.calculation.sulfate_to_au_concentrate',\n",
       " 'primary_cleaner.output.tail_ag',\n",
       " 'primary_cleaner.output.tail_pb',\n",
       " 'final.output.tail_ag',\n",
       " 'rougher.calculation.floatbank10_sulfate_to_au_feed',\n",
       " 'primary_cleaner.output.concentrate_pb',\n",
       " 'rougher.output.concentrate_pb',\n",
       " 'primary_cleaner.output.tail_au',\n",
       " 'final.output.tail_sol',\n",
       " 'rougher.output.tail_sol',\n",
       " 'final.output.concentrate_au',\n",
       " 'rougher.output.recovery',\n",
       " 'rougher.calculation.floatbank11_sulfate_to_au_feed',\n",
       " 'rougher.output.tail_pb',\n",
       " 'primary_cleaner.output.tail_sol',\n",
       " 'secondary_cleaner.output.tail_sol',\n",
       " 'secondary_cleaner.output.tail_au',\n",
       " 'rougher.output.tail_au',\n",
       " 'final.output.recovery']"
      ]
     },
     "execution_count": 12,
     "metadata": {},
     "output_type": "execute_result"
    }
   ],
   "source": [
    "set_trian_test = list(set(data_train.columns) - set(data_test.columns))\n",
    "set_trian_test"
   ]
  },
  {
   "cell_type": "markdown",
   "id": "b71bd5e8",
   "metadata": {},
   "source": [
    "- rougher — флотация\n",
    "- primary_cleaner — первичная очистка\n",
    "- secondary_cleaner — вторичная очистка\n",
    "- final — финальные характеристики Возможные значения для блока [тип_параметра]:\n",
    "- input — параметры сырья\n",
    "- output — параметры продукта\n",
    "- state — параметры, характеризующие текущее состояние этапа\n",
    "- calculation — расчётные характеристики"
   ]
  },
  {
   "cell_type": "markdown",
   "id": "7f297e90",
   "metadata": {},
   "source": [
    "### Вывод:\n",
    "В тестовой выборке отсутствуют целевые признаки, а также параметры продукта и расчётные характеристики, имеющиеся в обучающей выборке. Эти параметры недоступны в test выборке, т.к. их невозможно получить/измерить во время выполнения технологического процесса.\n"
   ]
  },
  {
   "cell_type": "markdown",
   "id": "8ab9e89b",
   "metadata": {},
   "source": [
    "### Предобработка данных"
   ]
  },
  {
   "cell_type": "markdown",
   "id": "cbb7656c",
   "metadata": {},
   "source": [
    "#### Заполнение пропусков с помощью метода линейной интерполяции"
   ]
  },
  {
   "cell_type": "code",
   "execution_count": 13,
   "id": "d76e0515",
   "metadata": {},
   "outputs": [],
   "source": [
    "data = data.interpolate(method ='linear', limit_direction ='forward')\n",
    "data_train = data_train.interpolate(method ='linear', limit_direction ='forward') \n",
    "data_test = data_test.interpolate(method ='linear', limit_direction ='forward')"
   ]
  },
  {
   "cell_type": "code",
   "execution_count": 14,
   "id": "fa41ec30",
   "metadata": {},
   "outputs": [],
   "source": [
    "#data_test.isna().sum()\n",
    "#data_test.isna().sum()\n",
    "#data_test.isna().sum()"
   ]
  },
  {
   "cell_type": "markdown",
   "id": "bdb4a9ca",
   "metadata": {},
   "source": [
    "Существует несколько методов борьбы с пропусками (заполнение медианой, нулями, удаление пропусков). Два послендний метода нам не подходяят, потому что они внесут слишком много изменений в данные и как следствие будет искажение модели.  пропусков у нас достаточно много для того,чтобы их просто удалить. Заполенне медианным значенеим или средним арифметическим таже будет вносить большое изменение в данные. Помню пример из консультации, когда несколько людей с разными  зп собрались в одной комнате и при подсчете среднего арифметического  получилось, что средняя зп близка к максимальной,  что не соотвествует реальности. в данном случе подходит медианнй метод расчета: медиана делит пополам все значения и показывает число, которое находится  между  этими группами. Два этих метода хороши (на мой  взгляд), когда наши  значения в датасете близки друг к другу и нет выбросов.  В нашем  же случае  пропуски необходимо заполнить с учетом значений  данных вокруг пропуска. Поэтому и был выбран метод линейной интреполяции, поскольку он основан на аппроксимации. Мы имеем некоторый разброс данных и с помощью подбора уравнения y=ax+b строится прямая, которая и поможет спрогнозировать пропущенные значения с учетом известных значений. "
   ]
  },
  {
   "cell_type": "markdown",
   "id": "7d67da0b",
   "metadata": {},
   "source": [
    "#### Удаление из обучающей выборки всех признаков, которых нет в тестовой выборке"
   ]
  },
  {
   "cell_type": "markdown",
   "id": "1e3eaa5e",
   "metadata": {},
   "source": [
    "Удалим из обучающей выборки колонки, которых нет в тестовой выборке, кроме целевых признаков. А в текстовую выборку добавим целевые признаки."
   ]
  },
  {
   "cell_type": "code",
   "execution_count": 15,
   "id": "d07c1b86",
   "metadata": {},
   "outputs": [],
   "source": [
    "full_df_merged = data[['rougher.output.recovery', 'final.output.recovery']]\n",
    "data_test = data_test.merge(full_df_merged, on='date', how='left')"
   ]
  },
  {
   "cell_type": "markdown",
   "id": "c1998aca",
   "metadata": {},
   "source": [
    "### Анализ данных"
   ]
  },
  {
   "cell_type": "markdown",
   "id": "ccd0f92d",
   "metadata": {},
   "source": [
    "### Концентрация металлов (Au, Ag, Pb) на различных этапах очистки"
   ]
  },
  {
   "cell_type": "markdown",
   "id": "782e17b4",
   "metadata": {},
   "source": [
    "- исходные данные rougher.input.feed\n",
    "- сырье после флотации rougher.output.concentrate\n",
    "- черновой концентрат primary_cleaner.output\n",
    "- финальный концентрат final.output.concentrate"
   ]
  },
  {
   "cell_type": "code",
   "execution_count": 16,
   "id": "6169863b",
   "metadata": {},
   "outputs": [],
   "source": [
    "def metal_every_level (i,r,p,f,title):\n",
    "    \n",
    "    \n",
    "    \n",
    "    plt.figure(figsize = [12,9])\n",
    "    \n",
    "    plt.hist(i,bins = 100, alpha= 0.5, label ='суммарная концентрация в сырье')\n",
    "    plt.hist(r,bins = 100, alpha= 0.5, label ='суммарная концентрация во время флотации')\n",
    "    plt.hist(p,bins = 100, alpha= 0.5, label ='суммарная концентрация в черновом концентрате')\n",
    "    plt.hist(f,bins = 100, alpha= 0.5, label ='суммарная концентрация в финале')\n",
    "\n",
    "    \n",
    "    plt.title(title)\n",
    "    plt.legend()\n",
    "    \n",
    "    plt.show()"
   ]
  },
  {
   "cell_type": "code",
   "execution_count": 17,
   "id": "100fb5b8",
   "metadata": {},
   "outputs": [
    {
     "data": {
      "image/png": "[encoded data removed]",
      "text/plain": [
       "<Figure size 864x648 with 1 Axes>"
      ]
     },
     "metadata": {
      "needs_background": "light"
     },
     "output_type": "display_data"
    },
    {
     "data": {
      "image/png": "[encoded data removed]",
      "text/plain": [
       "<Figure size 864x648 with 1 Axes>"
      ]
     },
     "metadata": {
      "needs_background": "light"
     },
     "output_type": "display_data"
    },
    {
     "data": {
      "image/png": "[encoded data removed]",
      "text/plain": [
       "<Figure size 864x648 with 1 Axes>"
      ]
     },
     "metadata": {
      "needs_background": "light"
     },
     "output_type": "display_data"
    }
   ],
   "source": [
    "metal_every_level(data['rougher.input.feed_au'], \n",
    "           data['rougher.output.concentrate_au'], \n",
    "           data['primary_cleaner.output.concentrate_au'], \n",
    "           data['final.output.concentrate_au'], \n",
    "           'Золото')\n",
    "metal_every_level(data['rougher.input.feed_ag'], \n",
    "           data['rougher.output.concentrate_ag'], \n",
    "           data['primary_cleaner.output.concentrate_ag'], \n",
    "           data['final.output.concentrate_ag'], \n",
    "           'Серебро')\n",
    "metal_every_level(data['rougher.input.feed_pb'], \n",
    "           data['rougher.output.concentrate_pb'], \n",
    "           data['primary_cleaner.output.concentrate_pb'], \n",
    "           data['final.output.concentrate_pb'], \n",
    "           'Свинец')"
   ]
  },
  {
   "cell_type": "code",
   "execution_count": 18,
   "id": "a296b008",
   "metadata": {},
   "outputs": [
    {
     "data": {
      "image/png": "[encoded data removed]",
      "text/plain": [
       "<Figure size 864x648 with 1 Axes>"
      ]
     },
     "metadata": {
      "needs_background": "light"
     },
     "output_type": "display_data"
    }
   ],
   "source": [
    "metal_every_level(data['rougher.input.feed_sol'], \n",
    "           data['rougher.output.concentrate_sol'], \n",
    "           data['primary_cleaner.output.concentrate_sol'], \n",
    "           data['final.output.concentrate_sol'], \n",
    "           'Коллоид')"
   ]
  },
  {
   "cell_type": "markdown",
   "id": "d4b35191",
   "metadata": {},
   "source": [
    "### Концентрация всех веществ (золото, серебро, свинец, коллоид) на разных этапах (сырье, черновой концентрат, финал)"
   ]
  },
  {
   "cell_type": "code",
   "execution_count": 37,
   "id": "81ec09bd",
   "metadata": {},
   "outputs": [
    {
     "data": {
      "image/png": "[encoded data removed]",
      "text/plain": [
       "<Figure size 432x288 with 1 Axes>"
      ]
     },
     "metadata": {
      "needs_background": "light"
     },
     "output_type": "display_data"
    }
   ],
   "source": [
    "rougher_au = data ['rougher.input.feed_au']\n",
    "rougher_ag = data ['rougher.input.feed_ag']\n",
    "rougher_pb = data ['rougher.input.feed_pb']\n",
    "rougher_sol = data ['rougher.input.feed_sol']\n",
    "\n",
    "rougher_au.plot(bins = 10, kind = 'hist', alpha= 0.5, label ='золото', density=True)\n",
    "rougher_ag.plot(bins = 10, kind = 'hist', alpha= 0.5, label ='серебро', density=True)\n",
    "rougher_pb.plot(bins = 10, kind = 'hist', alpha= 0.5, label ='свинец', density=True)\n",
    "rougher_sol.plot(bins = 10, kind = 'hist', alpha= 0.5, label ='коллоид', density=True)\n",
    "\n",
    "plt.legend(loc='upper right')\n",
    "plt.title ('Гистограмма распределения суммарной концентрации всех веществ в сырье')\n",
    "\n",
    "plt.show()"
   ]
  },
  {
   "cell_type": "markdown",
   "id": "d83b2c0f",
   "metadata": {},
   "source": [
    "Видим, что изначально в сырье больше всего коллоида"
   ]
  },
  {
   "cell_type": "code",
   "execution_count": 38,
   "id": "c1a607a3",
   "metadata": {},
   "outputs": [
    {
     "data": {
      "image/png": "[encoded data removed]",
      "text/plain": [
       "<Figure size 432x288 with 1 Axes>"
      ]
     },
     "metadata": {
      "needs_background": "light"
     },
     "output_type": "display_data"
    }
   ],
   "source": [
    "rougher_output_au = data ['rougher.output.concentrate_au']\n",
    "rougher_output_ag = data ['rougher.output.concentrate_ag']\n",
    "rougher_output_pb = data ['rougher.output.concentrate_pb']\n",
    "rougher_output_sol = data ['rougher.output.concentrate_sol']\n",
    "\n",
    "rougher_output_au.plot(bins = 10, kind = 'hist', alpha= 0.5, label ='золото', density=True)\n",
    "rougher_output_ag.plot(bins = 10, kind = 'hist', alpha= 0.5, label ='серебро', density=True)\n",
    "rougher_output_pb.plot(bins = 10, kind = 'hist', alpha= 0.5, label ='свинец', density=True)\n",
    "rougher_output_sol.plot(bins = 10, kind = 'hist', alpha= 0.5, label ='коллоид', density=True)\n",
    "\n",
    "plt.legend(loc='upper right')\n",
    "plt.title ('Гистограмма распределения суммарной концентрации всех веществ в  черновом конценрате')\n",
    "\n",
    "plt.show()"
   ]
  },
  {
   "cell_type": "markdown",
   "id": "d91e1b66",
   "metadata": {},
   "source": [
    "После проведения предварительной очистки наблюдаем небольшое уменьшение коллоида  и увеличение золота, серебра и свинца"
   ]
  },
  {
   "cell_type": "code",
   "execution_count": 39,
   "id": "c9bd3080",
   "metadata": {},
   "outputs": [
    {
     "data": {
      "image/png": "[encoded data removed]",
      "text/plain": [
       "<Figure size 432x288 with 1 Axes>"
      ]
     },
     "metadata": {
      "needs_background": "light"
     },
     "output_type": "display_data"
    }
   ],
   "source": [
    "fial_au = data ['final.output.concentrate_au']\n",
    "fial_ag = data ['final.output.concentrate_ag']\n",
    "fial_pb = data ['final.output.concentrate_pb']\n",
    "fial_sol = data ['final.output.concentrate_sol']\n",
    "\n",
    "fial_au.plot(bins = 10, kind = 'hist', alpha= 0.5, label ='золото', density=True)\n",
    "fial_ag.plot(bins = 10, kind = 'hist', alpha= 0.5, label ='серебро', density=True)\n",
    "fial_pb.plot(bins = 10, kind = 'hist', alpha= 0.5, label ='свинец', density=True)\n",
    "fial_sol.plot(bins = 10, kind = 'hist', alpha= 0.5, label ='коллоид', density=True)\n",
    "\n",
    "plt.legend(loc='upper right')\n",
    "plt.title ('Гистограмма распределения суммарной концентрации всех веществ в финале')\n",
    "\n",
    "plt.show()"
   ]
  },
  {
   "cell_type": "markdown",
   "id": "aee6770d",
   "metadata": {},
   "source": [
    "Вывод:\n",
    "\n",
    "На построенных гистограммах мы видим,что на разных этапах разные элементы ведут себя по-разному. Например у серебра  максимальное количество концертрации во время  флотации,а у других элементов (золото, свинец) на финальном этапе. Полагаю, что серебро и свинец плохо отделяетсяя  флотацией, поэтому и растет концентрация на этом этапе. \n",
    "Также мне было интересно посмотреть концентрацию металлов на на каждом этапе и я построила другой вид диаграмм (все металлы на каждом из этапов), чтобы увидеть распеределение. "
   ]
  },
  {
   "cell_type": "markdown",
   "id": "0611748b",
   "metadata": {},
   "source": [
    "#### Сравнение  размеров гранул сырья на обучающей и тестовой выборках"
   ]
  },
  {
   "cell_type": "code",
   "execution_count": 22,
   "id": "8b06a38a",
   "metadata": {},
   "outputs": [
    {
     "data": {
      "image/png": "[encoded data removed]",
      "text/plain": [
       "<Figure size 432x288 with 1 Axes>"
      ]
     },
     "metadata": {
      "needs_background": "light"
     },
     "output_type": "display_data"
    }
   ],
   "source": [
    "feed_size_test = data_test['primary_cleaner.input.feed_size']\n",
    "feed_size_train = data_train['primary_cleaner.input.feed_size']\n",
    "\n",
    "feed_size_test.plot(bins = 10, kind = 'hist', alpha= 0.5, label ='test', density=True, color='red')\n",
    "feed_size_train.plot(bins = 10, kind = 'hist', alpha= 0.4, label ='train', density=True, color= 'skyblue')\n",
    "\n",
    "plt.legend(loc='upper left')\n",
    "plt.title ('Гистограмма распределения размеров  гранул сырья в выборках')\n",
    "plt.show()"
   ]
  },
  {
   "cell_type": "markdown",
   "id": "3cd2aeef",
   "metadata": {},
   "source": [
    "### Вывод: \n",
    "Видно, что на входе процесса стараются поддерживать размер гранул в 55-60 микрон, есть незначительное смещение распределения от нормального в сторону увеличения гранул. Также, на тестовой выборке имеется большее значение очень маленьких гранул. Визуально значительных различий между train и test не наблюдается. Можем использовать данные для оценки моделей"
   ]
  },
  {
   "cell_type": "markdown",
   "id": "ebd44d73",
   "metadata": {},
   "source": [
    "\n",
    "#### Рассмотрение суммарной концентрации всех веществ на разных стадиях: в сырье, в черновом и финальном концентратах."
   ]
  },
  {
   "cell_type": "code",
   "execution_count": 23,
   "id": "c5f880a8",
   "metadata": {},
   "outputs": [],
   "source": [
    "def total(df):\n",
    "    rougher_input_total = (df['rougher.input.feed_au'] \n",
    "                          + df['rougher.input.feed_ag'] \n",
    "                          + df['rougher.input.feed_pb'] \n",
    "                          + df['rougher.input.feed_sol'])\n",
    "    rougher_output_total = (df['rougher.output.concentrate_au'] \n",
    "                            + df['rougher.output.concentrate_ag'] \n",
    "                            + df['rougher.output.concentrate_pb'] \n",
    "                            + df['rougher.output.concentrate_sol'])\n",
    "    primari_cleaner_output_total = (df['primary_cleaner.output.concentrate_au'] \n",
    "                            + df['primary_cleaner.output.concentrate_ag'] \n",
    "                            + df['primary_cleaner.output.concentrate_pb'] \n",
    "                            + df['primary_cleaner.output.concentrate_sol'])\n",
    "    final_output_total = (df['final.output.concentrate_au'] \n",
    "                          + df['final.output.concentrate_ag'] \n",
    "                          + df['final.output.concentrate_pb'] \n",
    "                          + df['final.output.concentrate_sol'])\n",
    "    return rougher_input_total,rougher_output_total,primari_cleaner_output_total,final_output_total"
   ]
  },
  {
   "cell_type": "code",
   "execution_count": 24,
   "id": "404d60f3",
   "metadata": {},
   "outputs": [],
   "source": [
    "def hist (i,r,p,f,x,y,title):\n",
    "    plt.figure(figsize = [12,9])\n",
    "    \n",
    "    plt.hist(i,bins = 100, alpha= 0.5, label ='суммарная концентрация в сырье')\n",
    "    plt.hist(r,bins = 100, alpha= 0.5, label ='суммарная концентрация во время флотации')\n",
    "    plt.hist(p,bins = 100, alpha= 0.5, label ='суммарная концентрация в черновом концентрате')\n",
    "    plt.hist(f,bins = 100, alpha= 0.5, label ='суммарная концентрация в финале')\n",
    "    \n",
    "    plt.title(title)\n",
    "    plt.legend()\n",
    "    \n",
    "    plt.xlim([0,x])\n",
    "    plt.ylim([0,y])\n",
    "    \n",
    "    plt.show()"
   ]
  },
  {
   "cell_type": "code",
   "execution_count": 25,
   "id": "4240858f",
   "metadata": {},
   "outputs": [
    {
     "data": {
      "image/png": "[encoded data removed]",
      "text/plain": [
       "<Figure size 864x648 with 1 Axes>"
      ]
     },
     "metadata": {
      "needs_background": "light"
     },
     "output_type": "display_data"
    }
   ],
   "source": [
    "i,r,p,f = total(data)\n",
    "hist(i,r,p,f,90,2700,\"Концентрация веществ на разных этапах\")"
   ]
  },
  {
   "cell_type": "markdown",
   "id": "77728ad7",
   "metadata": {},
   "source": [
    "#### Вывод\n",
    "На гистограмме распределения суммарных концентраций на каждом из этапов мы видим  большое количество нулевых значений. Дело в том, что хоть грамм чего-нибудь но есть в \"суммарной руде\"- соль+золото+серебро+свинец - точно что-то должно быть.. А если мы имеем ноль, значит большая вероятность неточности измерений. Общая идея какая с суммарной концентрацией: отдельно по каждой руде нуль может быть (взяли лопату руды - и нет там золота - не всегда же есть крупинки..). А вот нуль суммарно - это уже вряд ли (в этой лопате хоть что-то но будет).\n"
   ]
  },
  {
   "cell_type": "code",
   "execution_count": 26,
   "id": "7b152914",
   "metadata": {},
   "outputs": [
    {
     "data": {
      "text/plain": [
       "(5290, 54)"
      ]
     },
     "metadata": {},
     "output_type": "display_data"
    },
    {
     "data": {
      "text/plain": [
       "(14149, 87)"
      ]
     },
     "metadata": {},
     "output_type": "display_data"
    },
    {
     "data": {
      "text/plain": [
       "(5290, 54)"
      ]
     },
     "metadata": {},
     "output_type": "display_data"
    },
    {
     "data": {
      "text/plain": [
       "(14149, 87)"
      ]
     },
     "metadata": {},
     "output_type": "display_data"
    }
   ],
   "source": [
    "features_rough_concentrate = [\n",
    "    'rougher.output.concentrate_au',\n",
    "    'rougher.output.concentrate_ag',\n",
    "    'rougher.output.concentrate_pb',\n",
    "    'rougher.output.concentrate_sol',\n",
    "]\n",
    "\n",
    "features_input_concentrate = [\n",
    "    'rougher.input.feed_au',\n",
    "    'rougher.input.feed_ag',\n",
    "    'rougher.input.feed_pb',\n",
    "    'rougher.input.feed_sol',\n",
    "]\n",
    "features_final_concentrate = [\n",
    "    'final.output.concentrate_au',\n",
    "    'final.output.concentrate_ag',\n",
    "    'final.output.concentrate_pb',\n",
    "    'final.output.concentrate_sol',\n",
    "]\n",
    "\n",
    "display(data_test.shape)\n",
    "display(data_train.shape)\n",
    "\n",
    "\n",
    "\n",
    "data_full = data.loc[data_test.index]\n",
    "\n",
    "\n",
    "display(data_test.shape)\n",
    "display(data_train.shape)"
   ]
  },
  {
   "cell_type": "markdown",
   "id": "ca7084d5",
   "metadata": {},
   "source": [
    "Удаление нулевых значений"
   ]
  },
  {
   "cell_type": "code",
   "execution_count": 27,
   "id": "f8d82876",
   "metadata": {},
   "outputs": [
    {
     "name": "stderr",
     "output_type": "stream",
     "text": [
      "/var/folders/0t/x_91wd9n6xj5w224pdngwnl80000gn/T/ipykernel_2031/2174631406.py:7: UserWarning: Boolean Series key will be reindexed to match DataFrame index.\n",
      "  data_test = data_test[data_full[features_final_concentrate].sum(1) > 0]\n"
     ]
    }
   ],
   "source": [
    "data_train = data_train[data_train[features_input_concentrate].sum(1) > 0]\n",
    "data_train = data_train[data_train[features_rough_concentrate].sum(1) > 0]\n",
    "data_train = data_train[data_train[features_final_concentrate].sum(1) > 0]\n",
    "\n",
    "data_test = data_test[data_full[features_input_concentrate].sum(1) > 0]\n",
    "data_test = data_test[data_full[features_rough_concentrate].sum(1) > 0]\n",
    "data_test = data_test[data_full[features_final_concentrate].sum(1) > 0]"
   ]
  },
  {
   "cell_type": "markdown",
   "id": "8e0975f1",
   "metadata": {},
   "source": [
    "### Построение модели\n"
   ]
  },
  {
   "cell_type": "markdown",
   "id": "eecee300",
   "metadata": {},
   "source": [
    "#### Подготовка данных и разделение на выборки\n"
   ]
  },
  {
   "cell_type": "markdown",
   "id": "236915ac",
   "metadata": {},
   "source": [
    "Разобьем выборки на features и target"
   ]
  },
  {
   "cell_type": "code",
   "execution_count": 28,
   "id": "900a2356",
   "metadata": {},
   "outputs": [],
   "source": [
    "features_train = data_train.drop(columns=[\"rougher.output.recovery\", \"final.output.recovery\"], axis=1)\n",
    "target_train = data_train[[\"rougher.output.recovery\", \"final.output.recovery\"]]\n",
    "\n",
    "features_test = data_test.drop(columns=[\"rougher.output.recovery\", \"final.output.recovery\"], axis=1)\n",
    "target_test = data_test[[\"rougher.output.recovery\", \"final.output.recovery\"]]"
   ]
  },
  {
   "cell_type": "code",
   "execution_count": 29,
   "id": "6de7173f",
   "metadata": {},
   "outputs": [
    {
     "data": {
      "text/plain": [
       "(13795, 85)"
      ]
     },
     "metadata": {},
     "output_type": "display_data"
    },
    {
     "data": {
      "text/plain": [
       "(13795, 2)"
      ]
     },
     "metadata": {},
     "output_type": "display_data"
    },
    {
     "data": {
      "text/plain": [
       "(5154, 52)"
      ]
     },
     "metadata": {},
     "output_type": "display_data"
    },
    {
     "data": {
      "text/plain": [
       "(5154, 2)"
      ]
     },
     "metadata": {},
     "output_type": "display_data"
    }
   ],
   "source": [
    "display(features_train.shape)\n",
    "display(target_train.shape)\n",
    "display(features_test.shape)\n",
    "display(target_test.shape)"
   ]
  },
  {
   "cell_type": "markdown",
   "id": "564e7460",
   "metadata": {},
   "source": [
    "Удалим столбцы, характеризующие этапы последующей обработки, из обучающей выборки, которые обнаружили ранее. \n",
    "Удалим из списка 'rougher.output.recovery', 'final.output.recovery'\n"
   ]
  },
  {
   "cell_type": "code",
   "execution_count": 30,
   "id": "17dcc36c",
   "metadata": {},
   "outputs": [],
   "source": [
    "features_train = features_train.drop(columns = ['rougher.output.concentrate_ag',\n",
    "                                                'primary_cleaner.output.tail_au',\n",
    "                                                'final.output.tail_ag',\n",
    "                                                'final.output.concentrate_sol',\n",
    "                                                'rougher.output.tail_pb',\n",
    "                                                'recovery',\n",
    "                                                'final.output.tail_au',\n",
    "                                                'primary_cleaner.output.concentrate_au',\n",
    "                                                'primary_cleaner.output.concentrate_pb',\n",
    "                                                'rougher.output.concentrate_sol',\n",
    "                                                'rougher.output.concentrate_au',\n",
    "                                                'rougher.calculation.au_pb_ratio',\n",
    "                                                'rougher.calculation.sulfate_to_au_concentrate',\n",
    "                                                'rougher.output.tail_au',\n",
    "                                                'rougher.output.concentrate_pb',\n",
    "                                                'final.output.tail_sol',\n",
    "                                                'rougher.calculation.floatbank10_sulfate_to_au_feed',\n",
    "                                                'rougher.output.tail_sol',\n",
    "                                                'primary_cleaner.output.tail_pb',\n",
    "                                                'primary_cleaner.output.tail_ag',\n",
    "                                                \n",
    "                                                \n",
    "                                                'final.output.tail_pb',\n",
    "                                                'rougher.output.tail_ag',\n",
    "                                                'secondary_cleaner.output.tail_sol',\n",
    "                                                'primary_cleaner.output.tail_sol',\n",
    "                                                'secondary_cleaner.output.tail_au',\n",
    "                                                'secondary_cleaner.output.tail_pb',\n",
    "                                                'rougher.calculation.floatbank11_sulfate_to_au_feed',\n",
    "                                                'final.output.concentrate_au',\n",
    "                                                'secondary_cleaner.output.tail_ag',\n",
    "                                                'primary_cleaner.output.concentrate_ag',\n",
    "                                                'final.output.concentrate_ag',\n",
    "                                                'final.output.concentrate_pb','primary_cleaner.output.concentrate_sol'],axis = 1)"
   ]
  },
  {
   "cell_type": "markdown",
   "id": "d048a86e",
   "metadata": {},
   "source": [
    "Посмотрим на итоговое количество строчек и столбцов для модели"
   ]
  },
  {
   "cell_type": "code",
   "execution_count": 31,
   "id": "44363330",
   "metadata": {},
   "outputs": [
    {
     "data": {
      "text/plain": [
       "(13795, 52)"
      ]
     },
     "metadata": {},
     "output_type": "display_data"
    },
    {
     "data": {
      "text/plain": [
       "(13795, 2)"
      ]
     },
     "metadata": {},
     "output_type": "display_data"
    },
    {
     "data": {
      "text/plain": [
       "(5154, 52)"
      ]
     },
     "metadata": {},
     "output_type": "display_data"
    },
    {
     "data": {
      "text/plain": [
       "(5154, 2)"
      ]
     },
     "metadata": {},
     "output_type": "display_data"
    }
   ],
   "source": [
    "display(features_train.shape)\n",
    "display(target_train.shape)\n",
    "display(features_test.shape)\n",
    "display(target_test.shape)"
   ]
  },
  {
   "cell_type": "markdown",
   "id": "be0aae70",
   "metadata": {},
   "source": [
    "#### Функция для вычисления итоговой sMAPE."
   ]
  },
  {
   "cell_type": "code",
   "execution_count": 32,
   "id": "594332bb",
   "metadata": {},
   "outputs": [],
   "source": [
    "def calculate_smape(target_actual, target_predictions):\n",
    "    numerator = np.abs(target_actual - target_predictions)\n",
    "    denominator = (np.abs(target_actual) + np.abs(target_predictions)) / 2 \n",
    "    return 1 / len(target_actual) * np.sum(numerator / denominator) * 100 \n",
    "  \n",
    "def calculate_final_smape(target_actual, target_predictions):\n",
    "    target_actual_rougher = target_actual['rougher.output.recovery']\n",
    "    target_actual_final = target_actual['final.output.recovery']\n",
    "    target_predictions_rougher = target_predictions[:, 0]\n",
    "    target_predictions_final = target_predictions[:, 1]\n",
    "    return 0.25 * calculate_smape(target_actual_rougher, target_predictions_rougher) + 0.75 * calculate_smape(target_actual_rougher, target_predictions_rougher)\n",
    "\n",
    "smape_scorer = make_scorer(calculate_final_smape, greater_is_better=False)"
   ]
  },
  {
   "cell_type": "markdown",
   "id": "b90446c7",
   "metadata": {},
   "source": [
    " ### Обучение моделей"
   ]
  },
  {
   "cell_type": "markdown",
   "id": "0d12bfcc",
   "metadata": {},
   "source": [
    " #### Линейная регрессия"
   ]
  },
  {
   "cell_type": "code",
   "execution_count": 33,
   "id": "b8816f46",
   "metadata": {},
   "outputs": [
    {
     "name": "stdout",
     "output_type": "stream",
     "text": [
      "Лучшее значение smape для LinearRegression: 7.2338 \n",
      "Параметры модели: {'normalize': False}\n"
     ]
    }
   ],
   "source": [
    "param_grid_lg = {'normalize': [False, True]}\n",
    "lg = LinearRegression()\n",
    "grid_search_lg = GridSearchCV(estimator=lg, param_grid=param_grid_lg, \n",
    "                              scoring=smape_scorer, cv=5, n_jobs=-1)\n",
    "grid_search_lg.fit(features_train, target_train)\n",
    "\n",
    "print(\"Лучшее значение smape для LinearRegression:\", -grid_search_lg.best_score_.round(4),\n",
    "      \"\\nПараметры модели:\", grid_search_lg.best_params_)"
   ]
  },
  {
   "cell_type": "markdown",
   "id": "7531769a",
   "metadata": {},
   "source": [
    " #### Случайный лес "
   ]
  },
  {
   "cell_type": "markdown",
   "id": "ed55eb7e",
   "metadata": {},
   "source": [
    "Создадим параметры для модели RandomForestRegressor"
   ]
  },
  {
   "cell_type": "code",
   "execution_count": 34,
   "id": "ec276038",
   "metadata": {},
   "outputs": [
    {
     "name": "stdout",
     "output_type": "stream",
     "text": [
      "Fitting 5 folds for each of 3 candidates, totalling 15 fits\n",
      "Лучшее значение smape для RandomForestRegressor: 6.7209 \n",
      "Лучшая модель: {'max_depth': 16, 'n_estimators': 110}\n"
     ]
    }
   ],
   "source": [
    "param_grid_rf = {\n",
    "    'max_depth': [16],\n",
    "    'n_estimators': range(100, 121, 10)\n",
    "}\n",
    "\n",
    "rf = RandomForestRegressor(random_state=12345)\n",
    "\n",
    "grid_search_rf = GridSearchCV(estimator=rf, param_grid=param_grid_rf, \n",
    "                              scoring=smape_scorer, cv=5, n_jobs=-1, verbose=2)\n",
    "\n",
    "grid_search_rf.fit(features_train, target_train)\n",
    "\n",
    "print(\"Лучшее значение smape для RandomForestRegressor:\", -grid_search_rf.best_score_.round(4),\n",
    "      \"\\nЛучшая модель:\", grid_search_rf.best_params_)"
   ]
  },
  {
   "cell_type": "markdown",
   "id": "184eaa2f",
   "metadata": {},
   "source": [
    " #### Дерево решений "
   ]
  },
  {
   "cell_type": "code",
   "execution_count": 35,
   "id": "c9d5159f",
   "metadata": {},
   "outputs": [
    {
     "name": "stdout",
     "output_type": "stream",
     "text": [
      "Лучшее значение smape для DecisionTreeRegressor: 7.0735 \n",
      "Лучшая модель: {'max_depth': 4}\n"
     ]
    }
   ],
   "source": [
    "# Создадим параметры grid для модели DecisionTreeRegressor\n",
    "param_grid_dt = {'max_depth': range(2, 8)}\n",
    "# Создадим модель\n",
    "dt = DecisionTreeRegressor(random_state=12345)\n",
    "# Instantiate the grid search model\n",
    "grid_search_dt = GridSearchCV(estimator=dt, param_grid=param_grid_dt, scoring=smape_scorer, cv=5, n_jobs=-1)\n",
    "\n",
    "grid_search_dt.fit(features_train, target_train)\n",
    "\n",
    "print(\"Лучшее значение smape для DecisionTreeRegressor:\", -grid_search_dt.best_score_.round(4),\n",
    "      \"\\nЛучшая модель:\", grid_search_dt.best_params_)"
   ]
  },
  {
   "cell_type": "markdown",
   "id": "326f99d8",
   "metadata": {},
   "source": [
    "Вывод: Лучше всего показала себя модель DecisionTreeRegressor, у которой минимальный параметр sMape. LinearRegression: 7.07\n",
    "параметр {'max_depth': 4}"
   ]
  },
  {
   "cell_type": "markdown",
   "id": "6b19efc1",
   "metadata": {},
   "source": [
    "### Тестирование модели"
   ]
  },
  {
   "cell_type": "code",
   "execution_count": 36,
   "id": "1d313beb",
   "metadata": {},
   "outputs": [
    {
     "name": "stdout",
     "output_type": "stream",
     "text": [
      "sMape LinearRegression на тестовой выборке: 4.826770035137061\n",
      "sMape DecisionTreeRegressor на тестовой выборке: 4.9830012579408045\n",
      "sMape RandomForestRegressor на тестовой выборке: 4.9846039241791695\n",
      "[CV] END .....................max_depth=16, n_estimators=100; total time= 1.6min\n",
      "[CV] END .....................max_depth=16, n_estimators=110; total time= 1.7min\n",
      "[CV] END .....................max_depth=16, n_estimators=120; total time= 1.8min\n",
      "[CV] END .....................max_depth=16, n_estimators=120; total time= 1.5min\n",
      "[CV] END .....................max_depth=16, n_estimators=100; total time= 1.6min\n",
      "[CV] END .....................max_depth=16, n_estimators=110; total time= 1.6min\n",
      "[CV] END .....................max_depth=16, n_estimators=110; total time= 1.7min\n",
      "[CV] END .....................max_depth=16, n_estimators=120; total time= 1.5min\n",
      "[CV] END .....................max_depth=16, n_estimators=100; total time= 1.6min\n",
      "[CV] END .....................max_depth=16, n_estimators=110; total time= 1.7min\n",
      "[CV] END .....................max_depth=16, n_estimators=120; total time= 1.8min\n",
      "[CV] END .....................max_depth=16, n_estimators=100; total time= 1.5min\n",
      "[CV] END .....................max_depth=16, n_estimators=100; total time= 1.5min\n",
      "[CV] END .....................max_depth=16, n_estimators=110; total time= 1.6min\n",
      "[CV] END .....................max_depth=16, n_estimators=120; total time= 1.6min\n"
     ]
    }
   ],
   "source": [
    "model_lg_best = LinearRegression()\n",
    "model_lg_best.fit(features_train, target_train)\n",
    "predicted_test = model_lg_best.predict(features_test)\n",
    "print('sMape LinearRegression на тестовой выборке:', calculate_final_smape(target_test, predicted_test))\n",
    "\n",
    "model_dt_best = DecisionTreeRegressor(random_state=12345, max_depth=4)\n",
    "model_dt_best.fit(features_train, target_train)\n",
    "predicted_test = model_dt_best.predict(features_test)\n",
    "print('sMape DecisionTreeRegressor на тестовой выборке:', calculate_final_smape(target_test, predicted_test))\n",
    "\n",
    "model_rf_best = RandomForestRegressor(random_state=12345, max_depth=16, n_estimators=110)\n",
    "model_rf_best.fit(features_train, target_train)\n",
    "predicted_test = model_rf_best.predict(features_test)\n",
    "print('sMape RandomForestRegressor на тестовой выборке:', calculate_final_smape(target_test, predicted_test))"
   ]
  },
  {
   "cell_type": "markdown",
   "id": "55ab882d",
   "metadata": {},
   "source": [
    "Общий вывод: Подготовлена модель обработки  данных. Применен лучший подход к обработке  -- метод линейной регрессии. Модель LinearRegression показала лучшее sMape=4.83 на тестовой выборке"
   ]
  }
 ],
 "metadata": {
  "ExecuteTimeLog": [
   {
    "duration": 60,
    "start_time": "2022-04-17T17:57:51.762Z"
   },
   {
    "duration": 5,
    "start_time": "2022-04-18T07:12:53.873Z"
   },
   {
    "duration": 79,
    "start_time": "2022-04-18T13:45:58.485Z"
   },
   {
    "duration": 2516,
    "start_time": "2022-04-18T13:46:04.847Z"
   },
   {
    "duration": 311,
    "start_time": "2022-04-18T13:46:07.366Z"
   },
   {
    "duration": 0,
    "start_time": "2022-04-18T13:46:07.681Z"
   },
   {
    "duration": 0,
    "start_time": "2022-04-18T13:46:07.682Z"
   },
   {
    "duration": 0,
    "start_time": "2022-04-18T13:46:07.684Z"
   },
   {
    "duration": 0,
    "start_time": "2022-04-18T13:46:07.685Z"
   },
   {
    "duration": 0,
    "start_time": "2022-04-18T13:46:07.687Z"
   },
   {
    "duration": 0,
    "start_time": "2022-04-18T13:46:07.688Z"
   },
   {
    "duration": 0,
    "start_time": "2022-04-18T13:46:07.697Z"
   },
   {
    "duration": 0,
    "start_time": "2022-04-18T13:46:07.700Z"
   },
   {
    "duration": 0,
    "start_time": "2022-04-18T13:46:07.703Z"
   },
   {
    "duration": 0,
    "start_time": "2022-04-18T13:46:07.705Z"
   },
   {
    "duration": 0,
    "start_time": "2022-04-18T13:46:07.707Z"
   },
   {
    "duration": 0,
    "start_time": "2022-04-18T13:46:07.710Z"
   },
   {
    "duration": 0,
    "start_time": "2022-04-18T13:46:07.712Z"
   },
   {
    "duration": 0,
    "start_time": "2022-04-18T13:46:07.715Z"
   },
   {
    "duration": 0,
    "start_time": "2022-04-18T13:46:07.717Z"
   },
   {
    "duration": 0,
    "start_time": "2022-04-18T13:46:07.718Z"
   },
   {
    "duration": 0,
    "start_time": "2022-04-18T13:46:07.720Z"
   },
   {
    "duration": 0,
    "start_time": "2022-04-18T13:46:07.721Z"
   },
   {
    "duration": 0,
    "start_time": "2022-04-18T13:46:07.723Z"
   },
   {
    "duration": 0,
    "start_time": "2022-04-18T13:46:07.725Z"
   },
   {
    "duration": 0,
    "start_time": "2022-04-18T13:46:07.726Z"
   },
   {
    "duration": 0,
    "start_time": "2022-04-18T13:46:07.728Z"
   },
   {
    "duration": 0,
    "start_time": "2022-04-18T13:46:07.730Z"
   },
   {
    "duration": 0,
    "start_time": "2022-04-18T13:46:07.731Z"
   },
   {
    "duration": 0,
    "start_time": "2022-04-18T13:46:07.733Z"
   },
   {
    "duration": 0,
    "start_time": "2022-04-18T13:46:07.734Z"
   },
   {
    "duration": 0,
    "start_time": "2022-04-18T13:46:07.794Z"
   },
   {
    "duration": 0,
    "start_time": "2022-04-18T13:46:07.802Z"
   },
   {
    "duration": 0,
    "start_time": "2022-04-18T13:46:07.805Z"
   },
   {
    "duration": 0,
    "start_time": "2022-04-18T13:46:07.807Z"
   },
   {
    "duration": 0,
    "start_time": "2022-04-18T13:46:07.809Z"
   },
   {
    "duration": 0,
    "start_time": "2022-04-18T13:46:07.811Z"
   },
   {
    "duration": 0,
    "start_time": "2022-04-18T13:46:07.813Z"
   },
   {
    "duration": 0,
    "start_time": "2022-04-18T13:46:07.815Z"
   },
   {
    "duration": 0,
    "start_time": "2022-04-18T13:46:07.817Z"
   },
   {
    "duration": 2210,
    "start_time": "2022-04-18T13:47:49.637Z"
   },
   {
    "duration": 1038,
    "start_time": "2022-04-18T13:47:51.850Z"
   },
   {
    "duration": 13,
    "start_time": "2022-04-18T13:47:52.890Z"
   },
   {
    "duration": 42,
    "start_time": "2022-04-18T13:47:52.907Z"
   },
   {
    "duration": 6,
    "start_time": "2022-04-18T13:47:52.952Z"
   },
   {
    "duration": 33,
    "start_time": "2022-04-18T13:47:52.960Z"
   },
   {
    "duration": 27,
    "start_time": "2022-04-18T13:47:52.998Z"
   },
   {
    "duration": 12,
    "start_time": "2022-04-18T13:47:53.027Z"
   },
   {
    "duration": 12,
    "start_time": "2022-04-18T13:47:53.041Z"
   },
   {
    "duration": 11,
    "start_time": "2022-04-18T13:47:53.055Z"
   },
   {
    "duration": 6,
    "start_time": "2022-04-18T13:47:53.068Z"
   },
   {
    "duration": 7,
    "start_time": "2022-04-18T13:47:53.076Z"
   },
   {
    "duration": 10,
    "start_time": "2022-04-18T13:47:53.085Z"
   },
   {
    "duration": 20,
    "start_time": "2022-04-18T13:47:53.102Z"
   },
   {
    "duration": 5,
    "start_time": "2022-04-18T13:47:53.124Z"
   },
   {
    "duration": 7,
    "start_time": "2022-04-18T13:47:53.131Z"
   },
   {
    "duration": 18,
    "start_time": "2022-04-18T13:47:53.141Z"
   },
   {
    "duration": 38,
    "start_time": "2022-04-18T13:47:53.161Z"
   },
   {
    "duration": 10,
    "start_time": "2022-04-18T13:47:53.203Z"
   },
   {
    "duration": 148,
    "start_time": "2022-04-18T13:47:53.216Z"
   },
   {
    "duration": 3,
    "start_time": "2022-04-18T13:47:53.366Z"
   },
   {
    "duration": 82,
    "start_time": "2022-04-18T13:47:53.371Z"
   },
   {
    "duration": 7,
    "start_time": "2022-04-18T13:47:53.456Z"
   },
   {
    "duration": 5668,
    "start_time": "2022-04-18T13:47:53.465Z"
   },
   {
    "duration": 3,
    "start_time": "2022-04-18T13:47:59.136Z"
   },
   {
    "duration": 8,
    "start_time": "2022-04-18T13:47:59.141Z"
   },
   {
    "duration": 338,
    "start_time": "2022-04-18T13:47:59.152Z"
   },
   {
    "duration": 12,
    "start_time": "2022-04-18T13:47:59.493Z"
   },
   {
    "duration": 10,
    "start_time": "2022-04-18T13:47:59.508Z"
   },
   {
    "duration": 1495,
    "start_time": "2022-04-18T13:47:59.521Z"
   },
   {
    "duration": 419,
    "start_time": "2022-04-18T13:48:01.018Z"
   },
   {
    "duration": 405,
    "start_time": "2022-04-18T13:48:01.440Z"
   },
   {
    "duration": 383,
    "start_time": "2022-04-18T13:48:01.847Z"
   },
   {
    "duration": 16,
    "start_time": "2022-04-18T13:48:02.232Z"
   },
   {
    "duration": 37,
    "start_time": "2022-04-18T13:48:02.250Z"
   },
   {
    "duration": 21,
    "start_time": "2022-04-18T13:48:02.290Z"
   },
   {
    "duration": 1747,
    "start_time": "2022-04-18T13:48:02.313Z"
   },
   {
    "duration": 200,
    "start_time": "2022-04-18T13:48:59.797Z"
   },
   {
    "duration": 385,
    "start_time": "2022-04-18T13:50:23.770Z"
   },
   {
    "duration": 2128,
    "start_time": "2022-04-18T13:50:38.159Z"
   },
   {
    "duration": 842,
    "start_time": "2022-04-18T13:50:40.289Z"
   },
   {
    "duration": 8,
    "start_time": "2022-04-18T13:50:41.134Z"
   },
   {
    "duration": 476,
    "start_time": "2022-04-18T13:50:41.145Z"
   },
   {
    "duration": 30,
    "start_time": "2022-04-18T13:50:41.624Z"
   },
   {
    "duration": 7,
    "start_time": "2022-04-18T13:50:41.657Z"
   },
   {
    "duration": 5,
    "start_time": "2022-04-18T13:50:41.696Z"
   },
   {
    "duration": 14,
    "start_time": "2022-04-18T13:50:41.704Z"
   },
   {
    "duration": 6,
    "start_time": "2022-04-18T13:50:41.722Z"
   },
   {
    "duration": 7,
    "start_time": "2022-04-18T13:50:41.735Z"
   },
   {
    "duration": 5,
    "start_time": "2022-04-18T13:50:41.744Z"
   },
   {
    "duration": 10,
    "start_time": "2022-04-18T13:50:41.751Z"
   },
   {
    "duration": 36,
    "start_time": "2022-04-18T13:50:41.763Z"
   },
   {
    "duration": 16,
    "start_time": "2022-04-18T13:50:41.803Z"
   },
   {
    "duration": 10,
    "start_time": "2022-04-18T13:50:41.822Z"
   },
   {
    "duration": 5,
    "start_time": "2022-04-18T13:50:41.834Z"
   },
   {
    "duration": 7,
    "start_time": "2022-04-18T13:50:41.841Z"
   },
   {
    "duration": 44,
    "start_time": "2022-04-18T13:50:41.850Z"
   },
   {
    "duration": 14,
    "start_time": "2022-04-18T13:50:41.898Z"
   },
   {
    "duration": 7,
    "start_time": "2022-04-18T13:50:41.915Z"
   },
   {
    "duration": 168,
    "start_time": "2022-04-18T13:50:41.925Z"
   },
   {
    "duration": 4,
    "start_time": "2022-04-18T13:50:42.096Z"
   },
   {
    "duration": 95,
    "start_time": "2022-04-18T13:50:42.106Z"
   },
   {
    "duration": 9,
    "start_time": "2022-04-18T13:50:42.205Z"
   },
   {
    "duration": 5598,
    "start_time": "2022-04-18T13:50:42.216Z"
   },
   {
    "duration": 4,
    "start_time": "2022-04-18T13:50:47.816Z"
   },
   {
    "duration": 8,
    "start_time": "2022-04-18T13:50:47.823Z"
   },
   {
    "duration": 336,
    "start_time": "2022-04-18T13:50:47.836Z"
   },
   {
    "duration": 7,
    "start_time": "2022-04-18T13:50:48.174Z"
   },
   {
    "duration": 12,
    "start_time": "2022-04-18T13:50:48.195Z"
   },
   {
    "duration": 1461,
    "start_time": "2022-04-18T13:50:48.210Z"
   },
   {
    "duration": 406,
    "start_time": "2022-04-18T13:50:49.673Z"
   },
   {
    "duration": 421,
    "start_time": "2022-04-18T13:50:50.081Z"
   },
   {
    "duration": 376,
    "start_time": "2022-04-18T13:50:50.505Z"
   },
   {
    "duration": 28,
    "start_time": "2022-04-18T13:50:50.883Z"
   },
   {
    "duration": 26,
    "start_time": "2022-04-18T13:50:50.914Z"
   },
   {
    "duration": 10,
    "start_time": "2022-04-18T13:50:50.942Z"
   },
   {
    "duration": 1804,
    "start_time": "2022-04-18T13:50:50.955Z"
   },
   {
    "duration": 3,
    "start_time": "2022-04-18T13:51:07.328Z"
   },
   {
    "duration": 3,
    "start_time": "2022-04-18T13:53:02.734Z"
   },
   {
    "duration": 5,
    "start_time": "2022-04-18T13:53:23.758Z"
   },
   {
    "duration": 879,
    "start_time": "2022-04-18T13:53:23.875Z"
   },
   {
    "duration": 6,
    "start_time": "2022-04-18T13:53:24.756Z"
   },
   {
    "duration": 411,
    "start_time": "2022-04-18T13:53:24.764Z"
   },
   {
    "duration": 42,
    "start_time": "2022-04-18T13:53:25.177Z"
   },
   {
    "duration": 3,
    "start_time": "2022-04-18T13:53:25.223Z"
   },
   {
    "duration": 8,
    "start_time": "2022-04-18T13:53:25.228Z"
   },
   {
    "duration": 6,
    "start_time": "2022-04-18T13:53:25.238Z"
   },
   {
    "duration": 7,
    "start_time": "2022-04-18T13:53:25.246Z"
   },
   {
    "duration": 6,
    "start_time": "2022-04-18T13:53:25.255Z"
   },
   {
    "duration": 46,
    "start_time": "2022-04-18T13:53:25.263Z"
   },
   {
    "duration": 16,
    "start_time": "2022-04-18T13:53:25.312Z"
   },
   {
    "duration": 10,
    "start_time": "2022-04-18T13:53:25.330Z"
   },
   {
    "duration": 133,
    "start_time": "2022-04-18T13:53:25.342Z"
   },
   {
    "duration": 16,
    "start_time": "2022-04-18T13:53:25.481Z"
   },
   {
    "duration": 62,
    "start_time": "2022-04-18T13:53:25.499Z"
   },
   {
    "duration": 32,
    "start_time": "2022-04-18T13:53:25.563Z"
   },
   {
    "duration": 5691,
    "start_time": "2022-04-18T13:53:25.599Z"
   },
   {
    "duration": 7,
    "start_time": "2022-04-18T13:53:31.292Z"
   },
   {
    "duration": 21,
    "start_time": "2022-04-18T13:53:31.305Z"
   },
   {
    "duration": 305,
    "start_time": "2022-04-18T13:53:31.328Z"
   },
   {
    "duration": 7,
    "start_time": "2022-04-18T13:53:31.636Z"
   },
   {
    "duration": 18,
    "start_time": "2022-04-18T13:53:31.645Z"
   },
   {
    "duration": 1594,
    "start_time": "2022-04-18T13:53:31.665Z"
   },
   {
    "duration": 425,
    "start_time": "2022-04-18T13:53:33.262Z"
   },
   {
    "duration": 426,
    "start_time": "2022-04-18T13:53:33.693Z"
   },
   {
    "duration": 372,
    "start_time": "2022-04-18T13:53:34.121Z"
   },
   {
    "duration": 20,
    "start_time": "2022-04-18T13:53:34.496Z"
   },
   {
    "duration": 12,
    "start_time": "2022-04-18T13:53:34.519Z"
   },
   {
    "duration": 7,
    "start_time": "2022-04-18T13:53:34.533Z"
   },
   {
    "duration": 1947,
    "start_time": "2022-04-18T13:53:34.542Z"
   },
   {
    "duration": 399,
    "start_time": "2022-04-18T13:57:45.478Z"
   },
   {
    "duration": 396,
    "start_time": "2022-04-18T13:57:59.627Z"
   },
   {
    "duration": 375,
    "start_time": "2022-04-18T13:58:15.314Z"
   },
   {
    "duration": 377,
    "start_time": "2022-04-18T13:59:55.128Z"
   },
   {
    "duration": 2179,
    "start_time": "2022-04-18T14:00:04.218Z"
   },
   {
    "duration": 888,
    "start_time": "2022-04-18T14:00:06.401Z"
   },
   {
    "duration": 423,
    "start_time": "2022-04-18T14:00:07.291Z"
   },
   {
    "duration": 32,
    "start_time": "2022-04-18T14:00:07.717Z"
   },
   {
    "duration": 3,
    "start_time": "2022-04-18T14:00:07.751Z"
   },
   {
    "duration": 9,
    "start_time": "2022-04-18T14:00:07.756Z"
   },
   {
    "duration": 27,
    "start_time": "2022-04-18T14:00:07.767Z"
   },
   {
    "duration": 16,
    "start_time": "2022-04-18T14:00:07.797Z"
   },
   {
    "duration": 10,
    "start_time": "2022-04-18T14:00:07.815Z"
   },
   {
    "duration": 18,
    "start_time": "2022-04-18T14:00:07.828Z"
   },
   {
    "duration": 10,
    "start_time": "2022-04-18T14:00:07.848Z"
   },
   {
    "duration": 34,
    "start_time": "2022-04-18T14:00:07.860Z"
   },
   {
    "duration": 131,
    "start_time": "2022-04-18T14:00:07.897Z"
   },
   {
    "duration": 3,
    "start_time": "2022-04-18T14:00:08.030Z"
   },
   {
    "duration": 82,
    "start_time": "2022-04-18T14:00:08.035Z"
   },
   {
    "duration": 6,
    "start_time": "2022-04-18T14:00:08.119Z"
   },
   {
    "duration": 5697,
    "start_time": "2022-04-18T14:00:08.127Z"
   },
   {
    "duration": 4,
    "start_time": "2022-04-18T14:00:13.826Z"
   },
   {
    "duration": 10,
    "start_time": "2022-04-18T14:00:13.831Z"
   },
   {
    "duration": 320,
    "start_time": "2022-04-18T14:00:13.843Z"
   },
   {
    "duration": 6,
    "start_time": "2022-04-18T14:00:14.165Z"
   },
   {
    "duration": 23,
    "start_time": "2022-04-18T14:00:14.174Z"
   },
   {
    "duration": 1476,
    "start_time": "2022-04-18T14:00:14.200Z"
   },
   {
    "duration": 411,
    "start_time": "2022-04-18T14:00:15.678Z"
   },
   {
    "duration": 426,
    "start_time": "2022-04-18T14:00:16.092Z"
   },
   {
    "duration": 388,
    "start_time": "2022-04-18T14:00:16.521Z"
   },
   {
    "duration": 19,
    "start_time": "2022-04-18T14:00:16.911Z"
   },
   {
    "duration": 18,
    "start_time": "2022-04-18T14:00:16.934Z"
   },
   {
    "duration": 17,
    "start_time": "2022-04-18T14:00:16.954Z"
   },
   {
    "duration": 1760,
    "start_time": "2022-04-18T14:00:16.973Z"
   },
   {
    "duration": 2131,
    "start_time": "2022-04-18T14:01:34.961Z"
   },
   {
    "duration": 948,
    "start_time": "2022-04-18T14:01:37.101Z"
   },
   {
    "duration": 423,
    "start_time": "2022-04-18T14:01:38.051Z"
   },
   {
    "duration": 50,
    "start_time": "2022-04-18T14:01:38.478Z"
   },
   {
    "duration": 3,
    "start_time": "2022-04-18T14:01:38.530Z"
   },
   {
    "duration": 7,
    "start_time": "2022-04-18T14:01:38.535Z"
   },
   {
    "duration": 5,
    "start_time": "2022-04-18T14:01:38.544Z"
   },
   {
    "duration": 8,
    "start_time": "2022-04-18T14:01:38.551Z"
   },
   {
    "duration": 36,
    "start_time": "2022-04-18T14:01:38.561Z"
   },
   {
    "duration": 25,
    "start_time": "2022-04-18T14:01:38.605Z"
   },
   {
    "duration": 9,
    "start_time": "2022-04-18T14:01:38.632Z"
   },
   {
    "duration": 8,
    "start_time": "2022-04-18T14:01:38.644Z"
   },
   {
    "duration": 153,
    "start_time": "2022-04-18T14:01:38.654Z"
   },
   {
    "duration": 4,
    "start_time": "2022-04-18T14:01:38.809Z"
   },
   {
    "duration": 86,
    "start_time": "2022-04-18T14:01:38.815Z"
   },
   {
    "duration": 7,
    "start_time": "2022-04-18T14:01:38.904Z"
   },
   {
    "duration": 5847,
    "start_time": "2022-04-18T14:01:38.913Z"
   },
   {
    "duration": 4,
    "start_time": "2022-04-18T14:01:44.763Z"
   },
   {
    "duration": 24,
    "start_time": "2022-04-18T14:01:44.770Z"
   },
   {
    "duration": 325,
    "start_time": "2022-04-18T14:01:44.797Z"
   },
   {
    "duration": 6,
    "start_time": "2022-04-18T14:01:45.124Z"
   },
   {
    "duration": 10,
    "start_time": "2022-04-18T14:01:45.132Z"
   },
   {
    "duration": 1463,
    "start_time": "2022-04-18T14:01:45.145Z"
   },
   {
    "duration": 394,
    "start_time": "2022-04-18T14:01:46.610Z"
   },
   {
    "duration": 417,
    "start_time": "2022-04-18T14:01:47.007Z"
   },
   {
    "duration": 384,
    "start_time": "2022-04-18T14:01:47.426Z"
   },
   {
    "duration": 18,
    "start_time": "2022-04-18T14:01:47.812Z"
   },
   {
    "duration": 18,
    "start_time": "2022-04-18T14:01:47.834Z"
   },
   {
    "duration": 7,
    "start_time": "2022-04-18T14:01:47.854Z"
   },
   {
    "duration": 1838,
    "start_time": "2022-04-18T14:01:47.863Z"
   },
   {
    "duration": 2435,
    "start_time": "2022-04-18T14:25:49.510Z"
   },
   {
    "duration": 997,
    "start_time": "2022-04-18T14:25:51.949Z"
   },
   {
    "duration": 394,
    "start_time": "2022-04-18T14:25:52.949Z"
   },
   {
    "duration": 51,
    "start_time": "2022-04-18T14:25:53.347Z"
   },
   {
    "duration": 4,
    "start_time": "2022-04-18T14:25:53.401Z"
   },
   {
    "duration": 6,
    "start_time": "2022-04-18T14:25:53.408Z"
   },
   {
    "duration": 7,
    "start_time": "2022-04-18T14:25:53.416Z"
   },
   {
    "duration": 7,
    "start_time": "2022-04-18T14:25:53.425Z"
   },
   {
    "duration": 8,
    "start_time": "2022-04-18T14:25:53.434Z"
   },
   {
    "duration": 50,
    "start_time": "2022-04-18T14:25:53.447Z"
   },
   {
    "duration": 12,
    "start_time": "2022-04-18T14:25:53.500Z"
   },
   {
    "duration": 9,
    "start_time": "2022-04-18T14:25:53.515Z"
   },
   {
    "duration": 148,
    "start_time": "2022-04-18T14:25:53.526Z"
   },
   {
    "duration": 3,
    "start_time": "2022-04-18T14:25:53.676Z"
   },
   {
    "duration": 17,
    "start_time": "2022-04-18T14:25:53.694Z"
   },
   {
    "duration": 88,
    "start_time": "2022-04-18T14:25:53.713Z"
   },
   {
    "duration": 6,
    "start_time": "2022-04-18T14:25:53.803Z"
   },
   {
    "duration": 5431,
    "start_time": "2022-04-18T14:25:53.812Z"
   },
   {
    "duration": 4,
    "start_time": "2022-04-18T14:25:59.245Z"
   },
   {
    "duration": 310,
    "start_time": "2022-04-18T14:25:59.252Z"
   },
   {
    "duration": 8,
    "start_time": "2022-04-18T14:25:59.564Z"
   },
   {
    "duration": 25,
    "start_time": "2022-04-18T14:25:59.574Z"
   },
   {
    "duration": 2148,
    "start_time": "2022-04-18T14:25:59.602Z"
   },
   {
    "duration": 610,
    "start_time": "2022-04-18T14:26:01.753Z"
   },
   {
    "duration": 677,
    "start_time": "2022-04-18T14:26:02.366Z"
   },
   {
    "duration": 577,
    "start_time": "2022-04-18T14:26:03.046Z"
   },
   {
    "duration": 24,
    "start_time": "2022-04-18T14:26:03.627Z"
   },
   {
    "duration": 22,
    "start_time": "2022-04-18T14:26:03.657Z"
   },
   {
    "duration": 18,
    "start_time": "2022-04-18T14:26:03.681Z"
   },
   {
    "duration": 2431,
    "start_time": "2022-04-18T14:26:03.702Z"
   },
   {
    "duration": 21,
    "start_time": "2022-04-18T14:26:11.380Z"
   },
   {
    "duration": 71,
    "start_time": "2022-04-18T14:27:52.720Z"
   },
   {
    "duration": 2259,
    "start_time": "2022-04-18T14:28:01.773Z"
   },
   {
    "duration": 791,
    "start_time": "2022-04-18T14:28:04.036Z"
   },
   {
    "duration": 413,
    "start_time": "2022-04-18T14:28:04.830Z"
   },
   {
    "duration": 33,
    "start_time": "2022-04-18T14:28:05.246Z"
   },
   {
    "duration": 3,
    "start_time": "2022-04-18T14:28:05.293Z"
   },
   {
    "duration": 6,
    "start_time": "2022-04-18T14:28:05.298Z"
   },
   {
    "duration": 6,
    "start_time": "2022-04-18T14:28:05.306Z"
   },
   {
    "duration": 5,
    "start_time": "2022-04-18T14:28:05.315Z"
   },
   {
    "duration": 7,
    "start_time": "2022-04-18T14:28:05.323Z"
   },
   {
    "duration": 16,
    "start_time": "2022-04-18T14:28:05.335Z"
   },
   {
    "duration": 9,
    "start_time": "2022-04-18T14:28:05.393Z"
   },
   {
    "duration": 12,
    "start_time": "2022-04-18T14:28:05.405Z"
   },
   {
    "duration": 144,
    "start_time": "2022-04-18T14:28:05.420Z"
   },
   {
    "duration": 3,
    "start_time": "2022-04-18T14:28:05.566Z"
   },
   {
    "duration": 31,
    "start_time": "2022-04-18T14:28:05.572Z"
   },
   {
    "duration": 88,
    "start_time": "2022-04-18T14:28:05.605Z"
   },
   {
    "duration": 7,
    "start_time": "2022-04-18T14:28:05.696Z"
   },
   {
    "duration": 5849,
    "start_time": "2022-04-18T14:28:05.706Z"
   },
   {
    "duration": 4,
    "start_time": "2022-04-18T14:28:11.558Z"
   },
   {
    "duration": 311,
    "start_time": "2022-04-18T14:28:11.564Z"
   },
   {
    "duration": 5,
    "start_time": "2022-04-18T14:28:11.878Z"
   },
   {
    "duration": 6,
    "start_time": "2022-04-18T14:28:11.894Z"
   },
   {
    "duration": 1431,
    "start_time": "2022-04-18T14:28:11.903Z"
   },
   {
    "duration": 386,
    "start_time": "2022-04-18T14:28:13.336Z"
   },
   {
    "duration": 393,
    "start_time": "2022-04-18T14:28:13.724Z"
   },
   {
    "duration": 370,
    "start_time": "2022-04-18T14:28:14.119Z"
   },
   {
    "duration": 19,
    "start_time": "2022-04-18T14:28:14.492Z"
   },
   {
    "duration": 203,
    "start_time": "2022-04-18T14:28:14.515Z"
   },
   {
    "duration": 0,
    "start_time": "2022-04-18T14:28:14.720Z"
   },
   {
    "duration": 0,
    "start_time": "2022-04-18T14:28:14.722Z"
   },
   {
    "duration": 1500,
    "start_time": "2022-04-18T14:32:31.013Z"
   },
   {
    "duration": 2036,
    "start_time": "2022-04-18T14:32:42.333Z"
   },
   {
    "duration": 796,
    "start_time": "2022-04-18T14:32:44.373Z"
   },
   {
    "duration": 410,
    "start_time": "2022-04-18T14:32:45.171Z"
   },
   {
    "duration": 36,
    "start_time": "2022-04-18T14:32:45.584Z"
   },
   {
    "duration": 3,
    "start_time": "2022-04-18T14:32:45.622Z"
   },
   {
    "duration": 6,
    "start_time": "2022-04-18T14:32:45.628Z"
   },
   {
    "duration": 5,
    "start_time": "2022-04-18T14:32:45.637Z"
   },
   {
    "duration": 48,
    "start_time": "2022-04-18T14:32:45.645Z"
   },
   {
    "duration": 6,
    "start_time": "2022-04-18T14:32:45.696Z"
   },
   {
    "duration": 18,
    "start_time": "2022-04-18T14:32:45.706Z"
   },
   {
    "duration": 9,
    "start_time": "2022-04-18T14:32:45.727Z"
   },
   {
    "duration": 14,
    "start_time": "2022-04-18T14:32:45.738Z"
   },
   {
    "duration": 150,
    "start_time": "2022-04-18T14:32:45.754Z"
   },
   {
    "duration": 3,
    "start_time": "2022-04-18T14:32:45.907Z"
   },
   {
    "duration": 23,
    "start_time": "2022-04-18T14:32:45.913Z"
   },
   {
    "duration": 55,
    "start_time": "2022-04-18T14:32:45.938Z"
   },
   {
    "duration": 6,
    "start_time": "2022-04-18T14:32:45.995Z"
   },
   {
    "duration": 4189,
    "start_time": "2022-04-18T14:32:46.004Z"
   },
   {
    "duration": 1239,
    "start_time": "2022-04-18T14:32:50.196Z"
   },
   {
    "duration": 3,
    "start_time": "2022-04-18T14:32:51.437Z"
   },
   {
    "duration": 292,
    "start_time": "2022-04-18T14:32:51.443Z"
   },
   {
    "duration": 6,
    "start_time": "2022-04-18T14:32:51.737Z"
   },
   {
    "duration": 15,
    "start_time": "2022-04-18T14:32:51.746Z"
   },
   {
    "duration": 1377,
    "start_time": "2022-04-18T14:32:51.763Z"
   },
   {
    "duration": 386,
    "start_time": "2022-04-18T14:32:53.142Z"
   },
   {
    "duration": 490,
    "start_time": "2022-04-18T14:32:53.530Z"
   },
   {
    "duration": 374,
    "start_time": "2022-04-18T14:32:54.023Z"
   },
   {
    "duration": 64,
    "start_time": "2022-04-18T14:32:54.405Z"
   },
   {
    "duration": 23,
    "start_time": "2022-04-18T14:32:54.492Z"
   },
   {
    "duration": 380,
    "start_time": "2022-04-18T14:32:54.518Z"
   },
   {
    "duration": 0,
    "start_time": "2022-04-18T14:32:54.901Z"
   },
   {
    "duration": 0,
    "start_time": "2022-04-18T14:32:54.903Z"
   },
   {
    "duration": 2119,
    "start_time": "2022-04-18T14:40:45.421Z"
   },
   {
    "duration": 781,
    "start_time": "2022-04-18T14:40:47.543Z"
   },
   {
    "duration": 400,
    "start_time": "2022-04-18T14:40:48.326Z"
   },
   {
    "duration": 33,
    "start_time": "2022-04-18T14:40:48.728Z"
   },
   {
    "duration": 3,
    "start_time": "2022-04-18T14:40:48.764Z"
   },
   {
    "duration": 3,
    "start_time": "2022-04-18T14:40:48.794Z"
   },
   {
    "duration": 5,
    "start_time": "2022-04-18T14:40:48.800Z"
   },
   {
    "duration": 6,
    "start_time": "2022-04-18T14:40:48.807Z"
   },
   {
    "duration": 6,
    "start_time": "2022-04-18T14:40:48.815Z"
   },
   {
    "duration": 19,
    "start_time": "2022-04-18T14:40:48.823Z"
   },
   {
    "duration": 55,
    "start_time": "2022-04-18T14:40:48.844Z"
   },
   {
    "duration": 6,
    "start_time": "2022-04-18T14:40:48.901Z"
   },
   {
    "duration": 139,
    "start_time": "2022-04-18T14:40:48.909Z"
   },
   {
    "duration": 3,
    "start_time": "2022-04-18T14:40:49.053Z"
   },
   {
    "duration": 19,
    "start_time": "2022-04-18T14:40:49.058Z"
   },
   {
    "duration": 17,
    "start_time": "2022-04-18T14:40:49.094Z"
   },
   {
    "duration": 6,
    "start_time": "2022-04-18T14:40:49.114Z"
   },
   {
    "duration": 4400,
    "start_time": "2022-04-18T14:40:49.122Z"
   },
   {
    "duration": 1997,
    "start_time": "2022-04-18T14:40:53.525Z"
   },
   {
    "duration": 402,
    "start_time": "2022-04-18T14:40:55.525Z"
   },
   {
    "duration": 516,
    "start_time": "2022-04-18T14:40:55.930Z"
   },
   {
    "duration": 368,
    "start_time": "2022-04-18T14:40:56.449Z"
   },
   {
    "duration": 296,
    "start_time": "2022-04-18T14:40:56.820Z"
   },
   {
    "duration": 7,
    "start_time": "2022-04-18T14:40:57.119Z"
   },
   {
    "duration": 10,
    "start_time": "2022-04-18T14:40:57.129Z"
   },
   {
    "duration": 1359,
    "start_time": "2022-04-18T14:40:57.141Z"
   },
   {
    "duration": 392,
    "start_time": "2022-04-18T14:40:58.504Z"
   },
   {
    "duration": 48,
    "start_time": "2022-04-18T14:40:58.899Z"
   },
   {
    "duration": 46,
    "start_time": "2022-04-18T14:40:58.950Z"
   },
   {
    "duration": 202,
    "start_time": "2022-04-18T14:40:58.998Z"
   },
   {
    "duration": 0,
    "start_time": "2022-04-18T14:40:59.202Z"
   },
   {
    "duration": 0,
    "start_time": "2022-04-18T14:40:59.204Z"
   },
   {
    "duration": 2108,
    "start_time": "2022-04-18T14:45:27.762Z"
   },
   {
    "duration": 844,
    "start_time": "2022-04-18T14:45:29.873Z"
   },
   {
    "duration": 436,
    "start_time": "2022-04-18T14:45:30.719Z"
   },
   {
    "duration": 50,
    "start_time": "2022-04-18T14:45:31.159Z"
   },
   {
    "duration": 4,
    "start_time": "2022-04-18T14:45:31.211Z"
   },
   {
    "duration": 27,
    "start_time": "2022-04-18T14:45:31.218Z"
   },
   {
    "duration": 35,
    "start_time": "2022-04-18T14:45:31.248Z"
   },
   {
    "duration": 8,
    "start_time": "2022-04-18T14:45:31.286Z"
   },
   {
    "duration": 9,
    "start_time": "2022-04-18T14:45:31.296Z"
   },
   {
    "duration": 35,
    "start_time": "2022-04-18T14:45:31.309Z"
   },
   {
    "duration": 25,
    "start_time": "2022-04-18T14:45:31.346Z"
   },
   {
    "duration": 13,
    "start_time": "2022-04-18T14:45:31.374Z"
   },
   {
    "duration": 121,
    "start_time": "2022-04-18T14:45:31.389Z"
   },
   {
    "duration": 4,
    "start_time": "2022-04-18T14:45:31.512Z"
   },
   {
    "duration": 45,
    "start_time": "2022-04-18T14:45:31.518Z"
   },
   {
    "duration": 20,
    "start_time": "2022-04-18T14:45:31.566Z"
   },
   {
    "duration": 11,
    "start_time": "2022-04-18T14:45:31.592Z"
   },
   {
    "duration": 4412,
    "start_time": "2022-04-18T14:45:31.605Z"
   },
   {
    "duration": 1197,
    "start_time": "2022-04-18T14:45:36.019Z"
   },
   {
    "duration": 609,
    "start_time": "2022-04-18T14:45:37.218Z"
   },
   {
    "duration": 689,
    "start_time": "2022-04-18T14:45:37.830Z"
   },
   {
    "duration": 521,
    "start_time": "2022-04-18T14:45:38.522Z"
   },
   {
    "duration": 283,
    "start_time": "2022-04-18T14:45:39.046Z"
   },
   {
    "duration": 6,
    "start_time": "2022-04-18T14:45:39.331Z"
   },
   {
    "duration": 11,
    "start_time": "2022-04-18T14:45:39.339Z"
   },
   {
    "duration": 1231,
    "start_time": "2022-04-18T14:45:39.352Z"
   },
   {
    "duration": 388,
    "start_time": "2022-04-18T14:45:40.585Z"
   },
   {
    "duration": 56,
    "start_time": "2022-04-18T14:45:40.978Z"
   },
   {
    "duration": 17,
    "start_time": "2022-04-18T14:45:41.036Z"
   },
   {
    "duration": 239,
    "start_time": "2022-04-18T14:45:41.055Z"
   },
   {
    "duration": 0,
    "start_time": "2022-04-18T14:45:41.296Z"
   },
   {
    "duration": 0,
    "start_time": "2022-04-18T14:45:41.298Z"
   },
   {
    "duration": 275,
    "start_time": "2022-04-18T14:47:03.691Z"
   },
   {
    "duration": 386,
    "start_time": "2022-04-18T14:47:25.274Z"
   },
   {
    "duration": 276,
    "start_time": "2022-04-18T14:47:37.120Z"
   },
   {
    "duration": 277,
    "start_time": "2022-04-18T14:47:50.064Z"
   },
   {
    "duration": 274,
    "start_time": "2022-04-18T14:48:13.135Z"
   },
   {
    "duration": 19,
    "start_time": "2022-04-18T15:05:41.776Z"
   },
   {
    "duration": 12,
    "start_time": "2022-04-18T15:05:43.837Z"
   },
   {
    "duration": 2704,
    "start_time": "2022-04-18T15:08:50.608Z"
   },
   {
    "duration": 809,
    "start_time": "2022-04-18T15:08:53.316Z"
   },
   {
    "duration": 594,
    "start_time": "2022-04-18T15:08:54.128Z"
   },
   {
    "duration": 45,
    "start_time": "2022-04-18T15:08:54.725Z"
   },
   {
    "duration": 4,
    "start_time": "2022-04-18T15:08:54.773Z"
   },
   {
    "duration": 3,
    "start_time": "2022-04-18T15:08:54.794Z"
   },
   {
    "duration": 7,
    "start_time": "2022-04-18T15:08:54.799Z"
   },
   {
    "duration": 8,
    "start_time": "2022-04-18T15:08:54.809Z"
   },
   {
    "duration": 7,
    "start_time": "2022-04-18T15:08:54.819Z"
   },
   {
    "duration": 19,
    "start_time": "2022-04-18T15:08:54.831Z"
   },
   {
    "duration": 41,
    "start_time": "2022-04-18T15:08:54.853Z"
   },
   {
    "duration": 6,
    "start_time": "2022-04-18T15:08:54.897Z"
   },
   {
    "duration": 139,
    "start_time": "2022-04-18T15:08:54.906Z"
   },
   {
    "duration": 4,
    "start_time": "2022-04-18T15:08:55.047Z"
   },
   {
    "duration": 39,
    "start_time": "2022-04-18T15:08:55.054Z"
   },
   {
    "duration": 20,
    "start_time": "2022-04-18T15:08:55.096Z"
   },
   {
    "duration": 9,
    "start_time": "2022-04-18T15:08:55.119Z"
   },
   {
    "duration": 4587,
    "start_time": "2022-04-18T15:08:55.131Z"
   },
   {
    "duration": 1259,
    "start_time": "2022-04-18T15:08:59.721Z"
   },
   {
    "duration": 412,
    "start_time": "2022-04-18T15:09:00.983Z"
   },
   {
    "duration": 800,
    "start_time": "2022-04-18T15:09:01.397Z"
   },
   {
    "duration": 365,
    "start_time": "2022-04-18T15:09:02.200Z"
   },
   {
    "duration": 398,
    "start_time": "2022-04-18T15:09:02.567Z"
   },
   {
    "duration": 7,
    "start_time": "2022-04-18T15:09:02.968Z"
   },
   {
    "duration": 10,
    "start_time": "2022-04-18T15:09:02.993Z"
   },
   {
    "duration": 1367,
    "start_time": "2022-04-18T15:09:03.005Z"
   },
   {
    "duration": 65,
    "start_time": "2022-04-18T15:09:04.375Z"
   },
   {
    "duration": 20,
    "start_time": "2022-04-18T15:09:04.447Z"
   },
   {
    "duration": 39,
    "start_time": "2022-04-18T15:09:04.470Z"
   },
   {
    "duration": 19,
    "start_time": "2022-04-18T15:09:04.511Z"
   },
   {
    "duration": 7,
    "start_time": "2022-04-18T15:09:04.533Z"
   },
   {
    "duration": 1737,
    "start_time": "2022-04-18T15:09:04.542Z"
   },
   {
    "duration": 2288,
    "start_time": "2022-04-18T15:09:19.958Z"
   },
   {
    "duration": 869,
    "start_time": "2022-04-18T15:09:22.249Z"
   },
   {
    "duration": 413,
    "start_time": "2022-04-18T15:09:23.120Z"
   },
   {
    "duration": 33,
    "start_time": "2022-04-18T15:09:23.536Z"
   },
   {
    "duration": 23,
    "start_time": "2022-04-18T15:09:23.571Z"
   },
   {
    "duration": 8,
    "start_time": "2022-04-18T15:09:23.596Z"
   },
   {
    "duration": 5,
    "start_time": "2022-04-18T15:09:23.606Z"
   },
   {
    "duration": 7,
    "start_time": "2022-04-18T15:09:23.613Z"
   },
   {
    "duration": 7,
    "start_time": "2022-04-18T15:09:23.622Z"
   },
   {
    "duration": 16,
    "start_time": "2022-04-18T15:09:23.633Z"
   },
   {
    "duration": 46,
    "start_time": "2022-04-18T15:09:23.651Z"
   },
   {
    "duration": 8,
    "start_time": "2022-04-18T15:09:23.699Z"
   },
   {
    "duration": 137,
    "start_time": "2022-04-18T15:09:23.709Z"
   },
   {
    "duration": 3,
    "start_time": "2022-04-18T15:09:23.848Z"
   },
   {
    "duration": 23,
    "start_time": "2022-04-18T15:09:23.853Z"
   },
   {
    "duration": 30,
    "start_time": "2022-04-18T15:09:23.878Z"
   },
   {
    "duration": 6,
    "start_time": "2022-04-18T15:09:23.910Z"
   },
   {
    "duration": 4430,
    "start_time": "2022-04-18T15:09:23.919Z"
   },
   {
    "duration": 1211,
    "start_time": "2022-04-18T15:09:28.351Z"
   },
   {
    "duration": 388,
    "start_time": "2022-04-18T15:09:29.565Z"
   },
   {
    "duration": 525,
    "start_time": "2022-04-18T15:09:29.956Z"
   },
   {
    "duration": 382,
    "start_time": "2022-04-18T15:09:30.483Z"
   },
   {
    "duration": 393,
    "start_time": "2022-04-18T15:09:30.868Z"
   },
   {
    "duration": 6,
    "start_time": "2022-04-18T15:09:31.263Z"
   },
   {
    "duration": 48,
    "start_time": "2022-04-18T15:09:31.272Z"
   },
   {
    "duration": 1248,
    "start_time": "2022-04-18T15:09:31.323Z"
   },
   {
    "duration": 61,
    "start_time": "2022-04-18T15:09:32.573Z"
   },
   {
    "duration": 17,
    "start_time": "2022-04-18T15:09:32.639Z"
   },
   {
    "duration": 206,
    "start_time": "2022-04-18T15:09:32.658Z"
   },
   {
    "duration": 0,
    "start_time": "2022-04-18T15:09:32.867Z"
   },
   {
    "duration": 0,
    "start_time": "2022-04-18T15:09:32.870Z"
   },
   {
    "duration": 21,
    "start_time": "2022-04-18T15:11:31.054Z"
   },
   {
    "duration": 15,
    "start_time": "2022-04-18T15:11:34.151Z"
   },
   {
    "duration": 2072,
    "start_time": "2022-04-18T15:11:46.824Z"
   },
   {
    "duration": 806,
    "start_time": "2022-04-18T15:11:48.899Z"
   },
   {
    "duration": 429,
    "start_time": "2022-04-18T15:11:49.707Z"
   },
   {
    "duration": 34,
    "start_time": "2022-04-18T15:11:50.139Z"
   },
   {
    "duration": 17,
    "start_time": "2022-04-18T15:11:50.176Z"
   },
   {
    "duration": 14,
    "start_time": "2022-04-18T15:11:50.196Z"
   },
   {
    "duration": 16,
    "start_time": "2022-04-18T15:11:50.212Z"
   },
   {
    "duration": 12,
    "start_time": "2022-04-18T15:11:50.231Z"
   },
   {
    "duration": 6,
    "start_time": "2022-04-18T15:11:50.245Z"
   },
   {
    "duration": 19,
    "start_time": "2022-04-18T15:11:50.255Z"
   },
   {
    "duration": 22,
    "start_time": "2022-04-18T15:11:50.277Z"
   },
   {
    "duration": 21,
    "start_time": "2022-04-18T15:11:50.301Z"
   },
   {
    "duration": 131,
    "start_time": "2022-04-18T15:11:50.325Z"
   },
   {
    "duration": 4,
    "start_time": "2022-04-18T15:11:50.459Z"
   },
   {
    "duration": 33,
    "start_time": "2022-04-18T15:11:50.465Z"
   },
   {
    "duration": 18,
    "start_time": "2022-04-18T15:11:50.500Z"
   },
   {
    "duration": 8,
    "start_time": "2022-04-18T15:11:50.521Z"
   },
   {
    "duration": 4233,
    "start_time": "2022-04-18T15:11:50.531Z"
   },
   {
    "duration": 1242,
    "start_time": "2022-04-18T15:11:54.766Z"
   },
   {
    "duration": 391,
    "start_time": "2022-04-18T15:11:56.010Z"
   },
   {
    "duration": 500,
    "start_time": "2022-04-18T15:11:56.403Z"
   },
   {
    "duration": 364,
    "start_time": "2022-04-18T15:11:56.905Z"
   },
   {
    "duration": 292,
    "start_time": "2022-04-18T15:11:57.271Z"
   },
   {
    "duration": 6,
    "start_time": "2022-04-18T15:11:57.565Z"
   },
   {
    "duration": 22,
    "start_time": "2022-04-18T15:11:57.573Z"
   },
   {
    "duration": 1278,
    "start_time": "2022-04-18T15:11:57.597Z"
   },
   {
    "duration": 56,
    "start_time": "2022-04-18T15:11:58.877Z"
   },
   {
    "duration": 18,
    "start_time": "2022-04-18T15:11:58.938Z"
   },
   {
    "duration": 274,
    "start_time": "2022-04-18T15:11:58.959Z"
   },
   {
    "duration": 0,
    "start_time": "2022-04-18T15:11:59.236Z"
   },
   {
    "duration": 0,
    "start_time": "2022-04-18T15:11:59.238Z"
   },
   {
    "duration": 2573,
    "start_time": "2022-04-18T15:12:42.406Z"
   },
   {
    "duration": 814,
    "start_time": "2022-04-18T15:12:44.981Z"
   },
   {
    "duration": 397,
    "start_time": "2022-04-18T15:12:45.797Z"
   },
   {
    "duration": 33,
    "start_time": "2022-04-18T15:12:46.197Z"
   },
   {
    "duration": 4,
    "start_time": "2022-04-18T15:12:46.233Z"
   },
   {
    "duration": 15,
    "start_time": "2022-04-18T15:12:46.240Z"
   },
   {
    "duration": 36,
    "start_time": "2022-04-18T15:12:46.257Z"
   },
   {
    "duration": 11,
    "start_time": "2022-04-18T15:12:46.296Z"
   },
   {
    "duration": 5,
    "start_time": "2022-04-18T15:12:46.310Z"
   },
   {
    "duration": 21,
    "start_time": "2022-04-18T15:12:46.321Z"
   },
   {
    "duration": 11,
    "start_time": "2022-04-18T15:12:46.345Z"
   },
   {
    "duration": 37,
    "start_time": "2022-04-18T15:12:46.359Z"
   },
   {
    "duration": 177,
    "start_time": "2022-04-18T15:12:46.399Z"
   },
   {
    "duration": 4,
    "start_time": "2022-04-18T15:12:46.578Z"
   },
   {
    "duration": 16,
    "start_time": "2022-04-18T15:12:46.593Z"
   },
   {
    "duration": 17,
    "start_time": "2022-04-18T15:12:46.611Z"
   },
   {
    "duration": 8,
    "start_time": "2022-04-18T15:12:46.631Z"
   },
   {
    "duration": 4036,
    "start_time": "2022-04-18T15:12:46.642Z"
   },
   {
    "duration": 1245,
    "start_time": "2022-04-18T15:12:50.680Z"
   },
   {
    "duration": 402,
    "start_time": "2022-04-18T15:12:51.927Z"
   },
   {
    "duration": 518,
    "start_time": "2022-04-18T15:12:52.331Z"
   },
   {
    "duration": 365,
    "start_time": "2022-04-18T15:12:52.852Z"
   },
   {
    "duration": 380,
    "start_time": "2022-04-18T15:12:53.220Z"
   },
   {
    "duration": 6,
    "start_time": "2022-04-18T15:12:53.602Z"
   },
   {
    "duration": 10,
    "start_time": "2022-04-18T15:12:53.610Z"
   },
   {
    "duration": 1254,
    "start_time": "2022-04-18T15:12:53.622Z"
   },
   {
    "duration": 53,
    "start_time": "2022-04-18T15:12:54.878Z"
   },
   {
    "duration": 16,
    "start_time": "2022-04-18T15:12:54.936Z"
   },
   {
    "duration": 207,
    "start_time": "2022-04-18T15:12:54.954Z"
   },
   {
    "duration": 0,
    "start_time": "2022-04-18T15:12:55.164Z"
   },
   {
    "duration": 0,
    "start_time": "2022-04-18T15:12:55.165Z"
   },
   {
    "duration": 2469,
    "start_time": "2022-04-18T16:35:03.841Z"
   },
   {
    "duration": 13949,
    "start_time": "2022-04-18T16:35:06.313Z"
   },
   {
    "duration": 407,
    "start_time": "2022-04-18T16:35:20.264Z"
   },
   {
    "duration": 47,
    "start_time": "2022-04-18T16:35:20.675Z"
   },
   {
    "duration": 3,
    "start_time": "2022-04-18T16:35:20.725Z"
   },
   {
    "duration": 9,
    "start_time": "2022-04-18T16:35:20.731Z"
   },
   {
    "duration": 5,
    "start_time": "2022-04-18T16:35:20.742Z"
   },
   {
    "duration": 6,
    "start_time": "2022-04-18T16:35:20.749Z"
   },
   {
    "duration": 3,
    "start_time": "2022-04-18T16:35:20.794Z"
   },
   {
    "duration": 15,
    "start_time": "2022-04-18T16:35:20.801Z"
   },
   {
    "duration": 8,
    "start_time": "2022-04-18T16:35:20.819Z"
   },
   {
    "duration": 21,
    "start_time": "2022-04-18T16:35:20.829Z"
   },
   {
    "duration": 158,
    "start_time": "2022-04-18T16:35:20.852Z"
   },
   {
    "duration": 4,
    "start_time": "2022-04-18T16:35:21.012Z"
   },
   {
    "duration": 21,
    "start_time": "2022-04-18T16:35:21.018Z"
   },
   {
    "duration": 17,
    "start_time": "2022-04-18T16:35:21.042Z"
   },
   {
    "duration": 7,
    "start_time": "2022-04-18T16:35:21.094Z"
   },
   {
    "duration": 4412,
    "start_time": "2022-04-18T16:35:21.104Z"
   },
   {
    "duration": 1476,
    "start_time": "2022-04-18T16:35:25.519Z"
   },
   {
    "duration": 452,
    "start_time": "2022-04-18T16:35:26.997Z"
   },
   {
    "duration": 562,
    "start_time": "2022-04-18T16:35:27.451Z"
   },
   {
    "duration": 403,
    "start_time": "2022-04-18T16:35:28.015Z"
   },
   {
    "duration": 315,
    "start_time": "2022-04-18T16:35:28.421Z"
   },
   {
    "duration": 6,
    "start_time": "2022-04-18T16:35:28.739Z"
   },
   {
    "duration": 16,
    "start_time": "2022-04-18T16:35:28.748Z"
   },
   {
    "duration": 1306,
    "start_time": "2022-04-18T16:35:28.767Z"
   },
   {
    "duration": 62,
    "start_time": "2022-04-18T16:35:30.076Z"
   },
   {
    "duration": 15,
    "start_time": "2022-04-18T16:35:30.143Z"
   },
   {
    "duration": 46,
    "start_time": "2022-04-18T16:35:30.160Z"
   },
   {
    "duration": 23,
    "start_time": "2022-04-18T16:35:30.208Z"
   },
   {
    "duration": 7,
    "start_time": "2022-04-18T16:35:30.233Z"
   },
   {
    "duration": 1774,
    "start_time": "2022-04-18T16:35:30.242Z"
   },
   {
    "duration": 2109,
    "start_time": "2022-04-18T16:39:05.472Z"
   },
   {
    "duration": 861,
    "start_time": "2022-04-18T16:39:07.584Z"
   },
   {
    "duration": 395,
    "start_time": "2022-04-18T16:39:08.448Z"
   },
   {
    "duration": 50,
    "start_time": "2022-04-18T16:39:08.846Z"
   },
   {
    "duration": 3,
    "start_time": "2022-04-18T16:39:08.898Z"
   },
   {
    "duration": 6,
    "start_time": "2022-04-18T16:39:08.904Z"
   },
   {
    "duration": 6,
    "start_time": "2022-04-18T16:39:08.912Z"
   },
   {
    "duration": 8,
    "start_time": "2022-04-18T16:39:08.921Z"
   },
   {
    "duration": 6,
    "start_time": "2022-04-18T16:39:08.931Z"
   },
   {
    "duration": 60,
    "start_time": "2022-04-18T16:39:08.940Z"
   },
   {
    "duration": 8,
    "start_time": "2022-04-18T16:39:09.003Z"
   },
   {
    "duration": 6,
    "start_time": "2022-04-18T16:39:09.013Z"
   },
   {
    "duration": 145,
    "start_time": "2022-04-18T16:39:09.021Z"
   },
   {
    "duration": 3,
    "start_time": "2022-04-18T16:39:09.168Z"
   },
   {
    "duration": 32,
    "start_time": "2022-04-18T16:39:09.173Z"
   },
   {
    "duration": 7,
    "start_time": "2022-04-18T16:39:09.207Z"
   },
   {
    "duration": 4134,
    "start_time": "2022-04-18T16:39:09.216Z"
   },
   {
    "duration": 1264,
    "start_time": "2022-04-18T16:39:13.353Z"
   },
   {
    "duration": 499,
    "start_time": "2022-04-18T16:39:14.620Z"
   },
   {
    "duration": 627,
    "start_time": "2022-04-18T16:39:15.122Z"
   },
   {
    "duration": 360,
    "start_time": "2022-04-18T16:39:15.751Z"
   },
   {
    "duration": 291,
    "start_time": "2022-04-18T16:39:16.114Z"
   },
   {
    "duration": 6,
    "start_time": "2022-04-18T16:39:16.407Z"
   },
   {
    "duration": 15,
    "start_time": "2022-04-18T16:39:16.416Z"
   },
   {
    "duration": 1288,
    "start_time": "2022-04-18T16:39:16.433Z"
   },
   {
    "duration": 15,
    "start_time": "2022-04-18T16:39:17.723Z"
   },
   {
    "duration": 84,
    "start_time": "2022-04-18T16:39:17.741Z"
   },
   {
    "duration": 15,
    "start_time": "2022-04-18T16:39:17.829Z"
   },
   {
    "duration": 18,
    "start_time": "2022-04-18T16:39:17.847Z"
   },
   {
    "duration": 40,
    "start_time": "2022-04-18T16:39:17.867Z"
   },
   {
    "duration": 7,
    "start_time": "2022-04-18T16:39:17.909Z"
   },
   {
    "duration": 1650,
    "start_time": "2022-04-18T16:39:17.918Z"
   },
   {
    "duration": 157,
    "start_time": "2022-04-18T16:39:50.439Z"
   },
   {
    "duration": 17,
    "start_time": "2022-04-18T16:40:30.247Z"
   },
   {
    "duration": 12,
    "start_time": "2022-04-18T16:41:03.287Z"
   },
   {
    "duration": 1448,
    "start_time": "2022-04-18T16:41:16.685Z"
   },
   {
    "duration": 2047,
    "start_time": "2022-04-18T16:44:21.469Z"
   },
   {
    "duration": 831,
    "start_time": "2022-04-18T16:44:23.518Z"
   },
   {
    "duration": 397,
    "start_time": "2022-04-18T16:44:24.351Z"
   },
   {
    "duration": 47,
    "start_time": "2022-04-18T16:44:24.751Z"
   },
   {
    "duration": 3,
    "start_time": "2022-04-18T16:44:24.800Z"
   },
   {
    "duration": 6,
    "start_time": "2022-04-18T16:44:24.805Z"
   },
   {
    "duration": 5,
    "start_time": "2022-04-18T16:44:24.813Z"
   },
   {
    "duration": 8,
    "start_time": "2022-04-18T16:44:24.820Z"
   },
   {
    "duration": 6,
    "start_time": "2022-04-18T16:44:24.830Z"
   },
   {
    "duration": 57,
    "start_time": "2022-04-18T16:44:24.840Z"
   },
   {
    "duration": 9,
    "start_time": "2022-04-18T16:44:24.899Z"
   },
   {
    "duration": 7,
    "start_time": "2022-04-18T16:44:24.911Z"
   },
   {
    "duration": 145,
    "start_time": "2022-04-18T16:44:24.921Z"
   },
   {
    "duration": 3,
    "start_time": "2022-04-18T16:44:25.069Z"
   },
   {
    "duration": 30,
    "start_time": "2022-04-18T16:44:25.074Z"
   },
   {
    "duration": 6,
    "start_time": "2022-04-18T16:44:25.106Z"
   },
   {
    "duration": 4051,
    "start_time": "2022-04-18T16:44:25.115Z"
   },
   {
    "duration": 1275,
    "start_time": "2022-04-18T16:44:29.168Z"
   },
   {
    "duration": 432,
    "start_time": "2022-04-18T16:44:30.445Z"
   },
   {
    "duration": 523,
    "start_time": "2022-04-18T16:44:30.879Z"
   },
   {
    "duration": 358,
    "start_time": "2022-04-18T16:44:31.404Z"
   },
   {
    "duration": 272,
    "start_time": "2022-04-18T16:44:31.764Z"
   },
   {
    "duration": 7,
    "start_time": "2022-04-18T16:44:32.038Z"
   },
   {
    "duration": 9,
    "start_time": "2022-04-18T16:44:32.048Z"
   },
   {
    "duration": 1286,
    "start_time": "2022-04-18T16:44:32.060Z"
   },
   {
    "duration": 1648,
    "start_time": "2022-04-18T16:44:33.349Z"
   },
   {
    "duration": 0,
    "start_time": "2022-04-18T16:44:35.000Z"
   },
   {
    "duration": 0,
    "start_time": "2022-04-18T16:44:35.002Z"
   },
   {
    "duration": 0,
    "start_time": "2022-04-18T16:44:35.006Z"
   },
   {
    "duration": 0,
    "start_time": "2022-04-18T16:44:35.008Z"
   },
   {
    "duration": 0,
    "start_time": "2022-04-18T16:44:35.010Z"
   },
   {
    "duration": 0,
    "start_time": "2022-04-18T16:44:35.011Z"
   },
   {
    "duration": 2103,
    "start_time": "2022-04-18T16:44:58.359Z"
   },
   {
    "duration": 962,
    "start_time": "2022-04-18T16:45:00.465Z"
   },
   {
    "duration": 422,
    "start_time": "2022-04-18T16:45:01.429Z"
   },
   {
    "duration": 51,
    "start_time": "2022-04-18T16:45:01.855Z"
   },
   {
    "duration": 3,
    "start_time": "2022-04-18T16:45:01.909Z"
   },
   {
    "duration": 11,
    "start_time": "2022-04-18T16:45:01.914Z"
   },
   {
    "duration": 7,
    "start_time": "2022-04-18T16:45:01.927Z"
   },
   {
    "duration": 22,
    "start_time": "2022-04-18T16:45:01.936Z"
   },
   {
    "duration": 17,
    "start_time": "2022-04-18T16:45:01.960Z"
   },
   {
    "duration": 29,
    "start_time": "2022-04-18T16:45:01.981Z"
   },
   {
    "duration": 8,
    "start_time": "2022-04-18T16:45:02.012Z"
   },
   {
    "duration": 18,
    "start_time": "2022-04-18T16:45:02.022Z"
   },
   {
    "duration": 139,
    "start_time": "2022-04-18T16:45:02.042Z"
   },
   {
    "duration": 11,
    "start_time": "2022-04-18T16:45:02.183Z"
   },
   {
    "duration": 30,
    "start_time": "2022-04-18T16:45:02.197Z"
   },
   {
    "duration": 12,
    "start_time": "2022-04-18T16:45:02.229Z"
   },
   {
    "duration": 3908,
    "start_time": "2022-04-18T16:45:02.243Z"
   },
   {
    "duration": 1302,
    "start_time": "2022-04-18T16:45:06.153Z"
   },
   {
    "duration": 406,
    "start_time": "2022-04-18T16:45:07.458Z"
   },
   {
    "duration": 537,
    "start_time": "2022-04-18T16:45:07.867Z"
   },
   {
    "duration": 378,
    "start_time": "2022-04-18T16:45:08.406Z"
   },
   {
    "duration": 288,
    "start_time": "2022-04-18T16:45:08.793Z"
   },
   {
    "duration": 9,
    "start_time": "2022-04-18T16:45:09.084Z"
   },
   {
    "duration": 11,
    "start_time": "2022-04-18T16:45:09.095Z"
   },
   {
    "duration": 1367,
    "start_time": "2022-04-18T16:45:09.108Z"
   },
   {
    "duration": 28,
    "start_time": "2022-04-18T16:45:10.477Z"
   },
   {
    "duration": 47,
    "start_time": "2022-04-18T16:45:10.507Z"
   },
   {
    "duration": 50,
    "start_time": "2022-04-18T16:45:10.558Z"
   },
   {
    "duration": 195,
    "start_time": "2022-04-18T16:45:10.610Z"
   },
   {
    "duration": 0,
    "start_time": "2022-04-18T16:45:10.808Z"
   },
   {
    "duration": 0,
    "start_time": "2022-04-18T16:45:10.809Z"
   },
   {
    "duration": 47,
    "start_time": "2022-04-18T16:47:49.799Z"
   },
   {
    "duration": 50,
    "start_time": "2022-04-18T16:48:40.676Z"
   },
   {
    "duration": 69,
    "start_time": "2022-04-18T16:48:52.656Z"
   },
   {
    "duration": 48,
    "start_time": "2022-04-18T16:49:40.019Z"
   },
   {
    "duration": 1987,
    "start_time": "2022-04-18T16:54:45.628Z"
   },
   {
    "duration": 827,
    "start_time": "2022-04-18T16:54:47.618Z"
   },
   {
    "duration": 404,
    "start_time": "2022-04-18T16:54:48.447Z"
   },
   {
    "duration": 57,
    "start_time": "2022-04-18T16:54:48.855Z"
   },
   {
    "duration": 4,
    "start_time": "2022-04-18T16:54:48.915Z"
   },
   {
    "duration": 6,
    "start_time": "2022-04-18T16:54:48.922Z"
   },
   {
    "duration": 5,
    "start_time": "2022-04-18T16:54:48.931Z"
   },
   {
    "duration": 6,
    "start_time": "2022-04-18T16:54:48.939Z"
   },
   {
    "duration": 8,
    "start_time": "2022-04-18T16:54:48.947Z"
   },
   {
    "duration": 17,
    "start_time": "2022-04-18T16:54:48.994Z"
   },
   {
    "duration": 10,
    "start_time": "2022-04-18T16:54:49.014Z"
   },
   {
    "duration": 11,
    "start_time": "2022-04-18T16:54:49.026Z"
   },
   {
    "duration": 148,
    "start_time": "2022-04-18T16:54:49.040Z"
   },
   {
    "duration": 3,
    "start_time": "2022-04-18T16:54:49.191Z"
   },
   {
    "duration": 20,
    "start_time": "2022-04-18T16:54:49.196Z"
   },
   {
    "duration": 6,
    "start_time": "2022-04-18T16:54:49.218Z"
   },
   {
    "duration": 4067,
    "start_time": "2022-04-18T16:54:49.226Z"
   },
   {
    "duration": 1215,
    "start_time": "2022-04-18T16:54:53.296Z"
   },
   {
    "duration": 371,
    "start_time": "2022-04-18T16:54:54.513Z"
   },
   {
    "duration": 514,
    "start_time": "2022-04-18T16:54:54.887Z"
   },
   {
    "duration": 360,
    "start_time": "2022-04-18T16:54:55.403Z"
   },
   {
    "duration": 283,
    "start_time": "2022-04-18T16:54:55.765Z"
   },
   {
    "duration": 6,
    "start_time": "2022-04-18T16:54:56.051Z"
   },
   {
    "duration": 10,
    "start_time": "2022-04-18T16:54:56.059Z"
   },
   {
    "duration": 1258,
    "start_time": "2022-04-18T16:54:56.093Z"
   },
   {
    "duration": 38,
    "start_time": "2022-04-18T16:54:57.354Z"
   },
   {
    "duration": 49,
    "start_time": "2022-04-18T16:54:57.394Z"
   },
   {
    "duration": 12,
    "start_time": "2022-04-18T16:54:57.448Z"
   },
   {
    "duration": 35,
    "start_time": "2022-04-18T16:54:57.462Z"
   },
   {
    "duration": 1762,
    "start_time": "2022-04-18T16:54:57.499Z"
   },
   {
    "duration": 12,
    "start_time": "2022-04-18T16:56:23.749Z"
   },
   {
    "duration": 2134,
    "start_time": "2022-04-18T16:57:41.705Z"
   },
   {
    "duration": 879,
    "start_time": "2022-04-18T16:57:43.842Z"
   },
   {
    "duration": 419,
    "start_time": "2022-04-18T16:57:44.723Z"
   },
   {
    "duration": 32,
    "start_time": "2022-04-18T16:57:45.145Z"
   },
   {
    "duration": 4,
    "start_time": "2022-04-18T16:57:45.194Z"
   },
   {
    "duration": 17,
    "start_time": "2022-04-18T16:57:45.200Z"
   },
   {
    "duration": 9,
    "start_time": "2022-04-18T16:57:45.220Z"
   },
   {
    "duration": 8,
    "start_time": "2022-04-18T16:57:45.231Z"
   },
   {
    "duration": 8,
    "start_time": "2022-04-18T16:57:45.241Z"
   },
   {
    "duration": 42,
    "start_time": "2022-04-18T16:57:45.254Z"
   },
   {
    "duration": 12,
    "start_time": "2022-04-18T16:57:45.301Z"
   },
   {
    "duration": 6,
    "start_time": "2022-04-18T16:57:45.315Z"
   },
   {
    "duration": 154,
    "start_time": "2022-04-18T16:57:45.324Z"
   },
   {
    "duration": 4,
    "start_time": "2022-04-18T16:57:45.480Z"
   },
   {
    "duration": 28,
    "start_time": "2022-04-18T16:57:45.493Z"
   },
   {
    "duration": 21,
    "start_time": "2022-04-18T16:57:45.524Z"
   },
   {
    "duration": 6,
    "start_time": "2022-04-18T16:57:45.547Z"
   },
   {
    "duration": 4250,
    "start_time": "2022-04-18T16:57:45.555Z"
   },
   {
    "duration": 1316,
    "start_time": "2022-04-18T16:57:49.808Z"
   },
   {
    "duration": 409,
    "start_time": "2022-04-18T16:57:51.126Z"
   },
   {
    "duration": 525,
    "start_time": "2022-04-18T16:57:51.538Z"
   },
   {
    "duration": 400,
    "start_time": "2022-04-18T16:57:52.065Z"
   },
   {
    "duration": 325,
    "start_time": "2022-04-18T16:57:52.468Z"
   },
   {
    "duration": 9,
    "start_time": "2022-04-18T16:57:52.796Z"
   },
   {
    "duration": 8,
    "start_time": "2022-04-18T16:57:52.809Z"
   },
   {
    "duration": 1426,
    "start_time": "2022-04-18T16:57:52.820Z"
   },
   {
    "duration": 19,
    "start_time": "2022-04-18T16:57:54.248Z"
   },
   {
    "duration": 212,
    "start_time": "2022-04-18T16:57:54.297Z"
   },
   {
    "duration": 0,
    "start_time": "2022-04-18T16:57:54.511Z"
   },
   {
    "duration": 0,
    "start_time": "2022-04-18T16:57:54.513Z"
   },
   {
    "duration": 0,
    "start_time": "2022-04-18T16:57:54.515Z"
   },
   {
    "duration": 0,
    "start_time": "2022-04-18T16:57:54.516Z"
   },
   {
    "duration": 16,
    "start_time": "2022-04-18T16:59:31.080Z"
   },
   {
    "duration": 2561,
    "start_time": "2022-04-18T16:59:40.888Z"
   },
   {
    "duration": 843,
    "start_time": "2022-04-18T16:59:43.452Z"
   },
   {
    "duration": 415,
    "start_time": "2022-04-18T16:59:44.297Z"
   },
   {
    "duration": 34,
    "start_time": "2022-04-18T16:59:44.715Z"
   },
   {
    "duration": 3,
    "start_time": "2022-04-18T16:59:44.751Z"
   },
   {
    "duration": 37,
    "start_time": "2022-04-18T16:59:44.756Z"
   },
   {
    "duration": 5,
    "start_time": "2022-04-18T16:59:44.796Z"
   },
   {
    "duration": 5,
    "start_time": "2022-04-18T16:59:44.803Z"
   },
   {
    "duration": 8,
    "start_time": "2022-04-18T16:59:44.811Z"
   },
   {
    "duration": 18,
    "start_time": "2022-04-18T16:59:44.823Z"
   },
   {
    "duration": 11,
    "start_time": "2022-04-18T16:59:44.894Z"
   },
   {
    "duration": 8,
    "start_time": "2022-04-18T16:59:44.907Z"
   },
   {
    "duration": 175,
    "start_time": "2022-04-18T16:59:44.918Z"
   },
   {
    "duration": 3,
    "start_time": "2022-04-18T16:59:45.096Z"
   },
   {
    "duration": 22,
    "start_time": "2022-04-18T16:59:45.101Z"
   },
   {
    "duration": 6,
    "start_time": "2022-04-18T16:59:45.126Z"
   },
   {
    "duration": 4103,
    "start_time": "2022-04-18T16:59:45.134Z"
   },
   {
    "duration": 1230,
    "start_time": "2022-04-18T16:59:49.239Z"
   },
   {
    "duration": 394,
    "start_time": "2022-04-18T16:59:50.472Z"
   },
   {
    "duration": 525,
    "start_time": "2022-04-18T16:59:50.868Z"
   },
   {
    "duration": 359,
    "start_time": "2022-04-18T16:59:51.395Z"
   },
   {
    "duration": 290,
    "start_time": "2022-04-18T16:59:51.757Z"
   },
   {
    "duration": 8,
    "start_time": "2022-04-18T16:59:52.050Z"
   },
   {
    "duration": 32,
    "start_time": "2022-04-18T16:59:52.061Z"
   },
   {
    "duration": 1342,
    "start_time": "2022-04-18T16:59:52.095Z"
   },
   {
    "duration": 17,
    "start_time": "2022-04-18T16:59:53.439Z"
   },
   {
    "duration": 63,
    "start_time": "2022-04-18T16:59:53.458Z"
   },
   {
    "duration": 14,
    "start_time": "2022-04-18T16:59:53.526Z"
   },
   {
    "duration": 14,
    "start_time": "2022-04-18T16:59:53.542Z"
   },
   {
    "duration": 187,
    "start_time": "2022-04-18T16:59:53.558Z"
   },
   {
    "duration": 0,
    "start_time": "2022-04-18T16:59:53.747Z"
   },
   {
    "duration": 0,
    "start_time": "2022-04-18T16:59:53.749Z"
   },
   {
    "duration": 21,
    "start_time": "2022-04-18T17:00:18.969Z"
   },
   {
    "duration": 13,
    "start_time": "2022-04-18T17:02:08.783Z"
   },
   {
    "duration": 10,
    "start_time": "2022-04-18T17:02:19.443Z"
   },
   {
    "duration": 22,
    "start_time": "2022-04-18T17:03:45.578Z"
   },
   {
    "duration": 15,
    "start_time": "2022-04-18T17:03:58.786Z"
   },
   {
    "duration": 10,
    "start_time": "2022-04-18T17:04:00.395Z"
   },
   {
    "duration": 11,
    "start_time": "2022-04-18T17:04:02.057Z"
   },
   {
    "duration": 11,
    "start_time": "2022-04-18T17:04:05.753Z"
   },
   {
    "duration": 2080,
    "start_time": "2022-04-18T17:05:24.928Z"
   },
   {
    "duration": 880,
    "start_time": "2022-04-18T17:05:27.011Z"
   },
   {
    "duration": 418,
    "start_time": "2022-04-18T17:05:27.894Z"
   },
   {
    "duration": 36,
    "start_time": "2022-04-18T17:05:28.316Z"
   },
   {
    "duration": 4,
    "start_time": "2022-04-18T17:05:28.354Z"
   },
   {
    "duration": 4,
    "start_time": "2022-04-18T17:05:28.392Z"
   },
   {
    "duration": 7,
    "start_time": "2022-04-18T17:05:28.399Z"
   },
   {
    "duration": 6,
    "start_time": "2022-04-18T17:05:28.409Z"
   },
   {
    "duration": 7,
    "start_time": "2022-04-18T17:05:28.418Z"
   },
   {
    "duration": 20,
    "start_time": "2022-04-18T17:05:28.430Z"
   },
   {
    "duration": 12,
    "start_time": "2022-04-18T17:05:28.494Z"
   },
   {
    "duration": 299,
    "start_time": "2022-04-18T17:05:28.509Z"
   },
   {
    "duration": 0,
    "start_time": "2022-04-18T17:05:28.811Z"
   },
   {
    "duration": 1,
    "start_time": "2022-04-18T17:05:28.813Z"
   },
   {
    "duration": 0,
    "start_time": "2022-04-18T17:05:28.815Z"
   },
   {
    "duration": 0,
    "start_time": "2022-04-18T17:05:28.817Z"
   },
   {
    "duration": 0,
    "start_time": "2022-04-18T17:05:28.819Z"
   },
   {
    "duration": 0,
    "start_time": "2022-04-18T17:05:28.821Z"
   },
   {
    "duration": 0,
    "start_time": "2022-04-18T17:05:28.823Z"
   },
   {
    "duration": 0,
    "start_time": "2022-04-18T17:05:28.825Z"
   },
   {
    "duration": 0,
    "start_time": "2022-04-18T17:05:28.826Z"
   },
   {
    "duration": 0,
    "start_time": "2022-04-18T17:05:28.828Z"
   },
   {
    "duration": 0,
    "start_time": "2022-04-18T17:05:28.830Z"
   },
   {
    "duration": 0,
    "start_time": "2022-04-18T17:05:28.832Z"
   },
   {
    "duration": 0,
    "start_time": "2022-04-18T17:05:28.833Z"
   },
   {
    "duration": 0,
    "start_time": "2022-04-18T17:05:28.835Z"
   },
   {
    "duration": 0,
    "start_time": "2022-04-18T17:05:28.837Z"
   },
   {
    "duration": 0,
    "start_time": "2022-04-18T17:05:28.839Z"
   },
   {
    "duration": 0,
    "start_time": "2022-04-18T17:05:28.841Z"
   },
   {
    "duration": 0,
    "start_time": "2022-04-18T17:05:28.893Z"
   },
   {
    "duration": 0,
    "start_time": "2022-04-18T17:05:28.895Z"
   },
   {
    "duration": 0,
    "start_time": "2022-04-18T17:05:28.896Z"
   },
   {
    "duration": 0,
    "start_time": "2022-04-18T17:05:28.898Z"
   },
   {
    "duration": 2121,
    "start_time": "2022-04-18T17:06:13.544Z"
   },
   {
    "duration": 832,
    "start_time": "2022-04-18T17:06:15.667Z"
   },
   {
    "duration": 425,
    "start_time": "2022-04-18T17:06:16.501Z"
   },
   {
    "duration": 33,
    "start_time": "2022-04-18T17:06:16.929Z"
   },
   {
    "duration": 3,
    "start_time": "2022-04-18T17:06:16.965Z"
   },
   {
    "duration": 4,
    "start_time": "2022-04-18T17:06:16.993Z"
   },
   {
    "duration": 5,
    "start_time": "2022-04-18T17:06:16.999Z"
   },
   {
    "duration": 6,
    "start_time": "2022-04-18T17:06:17.006Z"
   },
   {
    "duration": 6,
    "start_time": "2022-04-18T17:06:17.014Z"
   },
   {
    "duration": 70,
    "start_time": "2022-04-18T17:06:17.024Z"
   },
   {
    "duration": 11,
    "start_time": "2022-04-18T17:06:17.096Z"
   },
   {
    "duration": 8,
    "start_time": "2022-04-18T17:06:17.109Z"
   },
   {
    "duration": 177,
    "start_time": "2022-04-18T17:06:17.119Z"
   },
   {
    "duration": 4,
    "start_time": "2022-04-18T17:06:17.299Z"
   },
   {
    "duration": 26,
    "start_time": "2022-04-18T17:06:17.306Z"
   },
   {
    "duration": 9,
    "start_time": "2022-04-18T17:06:17.334Z"
   },
   {
    "duration": 5157,
    "start_time": "2022-04-18T17:06:17.346Z"
   },
   {
    "duration": 1245,
    "start_time": "2022-04-18T17:06:22.505Z"
   },
   {
    "duration": 391,
    "start_time": "2022-04-18T17:06:23.752Z"
   },
   {
    "duration": 514,
    "start_time": "2022-04-18T17:06:24.145Z"
   },
   {
    "duration": 365,
    "start_time": "2022-04-18T17:06:24.662Z"
   },
   {
    "duration": 288,
    "start_time": "2022-04-18T17:06:25.030Z"
   },
   {
    "duration": 6,
    "start_time": "2022-04-18T17:06:25.320Z"
   },
   {
    "duration": 13,
    "start_time": "2022-04-18T17:06:25.329Z"
   },
   {
    "duration": 1275,
    "start_time": "2022-04-18T17:06:25.344Z"
   },
   {
    "duration": 16,
    "start_time": "2022-04-18T17:06:26.621Z"
   },
   {
    "duration": 88,
    "start_time": "2022-04-18T17:06:26.639Z"
   },
   {
    "duration": 12,
    "start_time": "2022-04-18T17:06:26.732Z"
   },
   {
    "duration": 52,
    "start_time": "2022-04-18T17:06:26.746Z"
   },
   {
    "duration": 10,
    "start_time": "2022-04-18T17:06:26.800Z"
   },
   {
    "duration": 15,
    "start_time": "2022-04-18T17:06:26.813Z"
   },
   {
    "duration": 7,
    "start_time": "2022-04-18T17:06:26.830Z"
   },
   {
    "duration": 1132,
    "start_time": "2022-04-18T17:06:26.839Z"
   },
   {
    "duration": 6,
    "start_time": "2022-04-18T17:08:13.111Z"
   },
   {
    "duration": 6,
    "start_time": "2022-04-18T17:08:21.327Z"
   },
   {
    "duration": 2052,
    "start_time": "2022-04-18T17:08:42.857Z"
   },
   {
    "duration": 833,
    "start_time": "2022-04-18T17:08:44.912Z"
   },
   {
    "duration": 408,
    "start_time": "2022-04-18T17:08:45.748Z"
   },
   {
    "duration": 47,
    "start_time": "2022-04-18T17:08:46.159Z"
   },
   {
    "duration": 6,
    "start_time": "2022-04-18T17:08:46.209Z"
   },
   {
    "duration": 8,
    "start_time": "2022-04-18T17:08:46.217Z"
   },
   {
    "duration": 5,
    "start_time": "2022-04-18T17:08:46.228Z"
   },
   {
    "duration": 8,
    "start_time": "2022-04-18T17:08:46.235Z"
   },
   {
    "duration": 47,
    "start_time": "2022-04-18T17:08:46.246Z"
   },
   {
    "duration": 21,
    "start_time": "2022-04-18T17:08:46.298Z"
   },
   {
    "duration": 13,
    "start_time": "2022-04-18T17:08:46.321Z"
   },
   {
    "duration": 9,
    "start_time": "2022-04-18T17:08:46.336Z"
   },
   {
    "duration": 157,
    "start_time": "2022-04-18T17:08:46.347Z"
   },
   {
    "duration": 3,
    "start_time": "2022-04-18T17:08:46.506Z"
   },
   {
    "duration": 18,
    "start_time": "2022-04-18T17:08:46.511Z"
   },
   {
    "duration": 6,
    "start_time": "2022-04-18T17:08:46.531Z"
   },
   {
    "duration": 4138,
    "start_time": "2022-04-18T17:08:46.540Z"
   },
   {
    "duration": 1239,
    "start_time": "2022-04-18T17:08:50.680Z"
   },
   {
    "duration": 390,
    "start_time": "2022-04-18T17:08:51.921Z"
   },
   {
    "duration": 513,
    "start_time": "2022-04-18T17:08:52.314Z"
   },
   {
    "duration": 369,
    "start_time": "2022-04-18T17:08:52.829Z"
   },
   {
    "duration": 281,
    "start_time": "2022-04-18T17:08:53.200Z"
   },
   {
    "duration": 10,
    "start_time": "2022-04-18T17:08:53.483Z"
   },
   {
    "duration": 8,
    "start_time": "2022-04-18T17:08:53.496Z"
   },
   {
    "duration": 1269,
    "start_time": "2022-04-18T17:08:53.506Z"
   },
   {
    "duration": 26,
    "start_time": "2022-04-18T17:08:54.778Z"
   },
   {
    "duration": 47,
    "start_time": "2022-04-18T17:08:54.807Z"
   },
   {
    "duration": 46,
    "start_time": "2022-04-18T17:08:54.859Z"
   },
   {
    "duration": 19,
    "start_time": "2022-04-18T17:08:54.907Z"
   },
   {
    "duration": 11,
    "start_time": "2022-04-18T17:08:54.928Z"
   },
   {
    "duration": 53,
    "start_time": "2022-04-18T17:08:54.942Z"
   },
   {
    "duration": 7,
    "start_time": "2022-04-18T17:08:54.997Z"
   },
   {
    "duration": 1487,
    "start_time": "2022-04-18T17:08:55.006Z"
   },
   {
    "duration": 173,
    "start_time": "2022-04-18T17:10:42.722Z"
   },
   {
    "duration": 21,
    "start_time": "2022-04-18T17:11:00.053Z"
   },
   {
    "duration": 24,
    "start_time": "2022-04-18T17:11:16.795Z"
   },
   {
    "duration": 22,
    "start_time": "2022-04-18T17:11:45.781Z"
   },
   {
    "duration": 2064,
    "start_time": "2022-04-18T17:11:57.880Z"
   },
   {
    "duration": 843,
    "start_time": "2022-04-18T17:11:59.947Z"
   },
   {
    "duration": 447,
    "start_time": "2022-04-18T17:12:00.793Z"
   },
   {
    "duration": 56,
    "start_time": "2022-04-18T17:12:01.243Z"
   },
   {
    "duration": 4,
    "start_time": "2022-04-18T17:12:01.301Z"
   },
   {
    "duration": 9,
    "start_time": "2022-04-18T17:12:01.307Z"
   },
   {
    "duration": 6,
    "start_time": "2022-04-18T17:12:01.318Z"
   },
   {
    "duration": 7,
    "start_time": "2022-04-18T17:12:01.326Z"
   },
   {
    "duration": 30,
    "start_time": "2022-04-18T17:12:01.335Z"
   },
   {
    "duration": 20,
    "start_time": "2022-04-18T17:12:01.393Z"
   },
   {
    "duration": 18,
    "start_time": "2022-04-18T17:12:01.415Z"
   },
   {
    "duration": 28,
    "start_time": "2022-04-18T17:12:01.435Z"
   },
   {
    "duration": 135,
    "start_time": "2022-04-18T17:12:01.465Z"
   },
   {
    "duration": 3,
    "start_time": "2022-04-18T17:12:01.603Z"
   },
   {
    "duration": 33,
    "start_time": "2022-04-18T17:12:01.608Z"
   },
   {
    "duration": 17,
    "start_time": "2022-04-18T17:12:01.643Z"
   },
   {
    "duration": 4839,
    "start_time": "2022-04-18T17:12:01.662Z"
   },
   {
    "duration": 1279,
    "start_time": "2022-04-18T17:12:06.503Z"
   },
   {
    "duration": 400,
    "start_time": "2022-04-18T17:12:07.784Z"
   },
   {
    "duration": 541,
    "start_time": "2022-04-18T17:12:08.194Z"
   },
   {
    "duration": 382,
    "start_time": "2022-04-18T17:12:08.737Z"
   },
   {
    "duration": 306,
    "start_time": "2022-04-18T17:12:09.122Z"
   },
   {
    "duration": 7,
    "start_time": "2022-04-18T17:12:09.430Z"
   },
   {
    "duration": 24,
    "start_time": "2022-04-18T17:12:09.439Z"
   },
   {
    "duration": 1339,
    "start_time": "2022-04-18T17:12:09.466Z"
   },
   {
    "duration": 19,
    "start_time": "2022-04-18T17:12:10.807Z"
   },
   {
    "duration": 92,
    "start_time": "2022-04-18T17:12:10.828Z"
   },
   {
    "duration": 12,
    "start_time": "2022-04-18T17:12:10.926Z"
   },
   {
    "duration": 15,
    "start_time": "2022-04-18T17:12:10.941Z"
   },
   {
    "duration": 346,
    "start_time": "2022-04-18T17:12:10.994Z"
   },
   {
    "duration": 0,
    "start_time": "2022-04-18T17:12:11.343Z"
   },
   {
    "duration": 0,
    "start_time": "2022-04-18T17:12:11.344Z"
   },
   {
    "duration": 0,
    "start_time": "2022-04-18T17:12:11.345Z"
   },
   {
    "duration": 12,
    "start_time": "2022-04-18T17:12:45.371Z"
   },
   {
    "duration": 11,
    "start_time": "2022-04-18T17:12:49.515Z"
   },
   {
    "duration": 2139,
    "start_time": "2022-04-18T17:12:59.265Z"
   },
   {
    "duration": 826,
    "start_time": "2022-04-18T17:13:01.407Z"
   },
   {
    "duration": 415,
    "start_time": "2022-04-18T17:13:02.235Z"
   },
   {
    "duration": 51,
    "start_time": "2022-04-18T17:13:02.654Z"
   },
   {
    "duration": 4,
    "start_time": "2022-04-18T17:13:02.707Z"
   },
   {
    "duration": 10,
    "start_time": "2022-04-18T17:13:02.713Z"
   },
   {
    "duration": 6,
    "start_time": "2022-04-18T17:13:02.728Z"
   },
   {
    "duration": 16,
    "start_time": "2022-04-18T17:13:02.736Z"
   },
   {
    "duration": 8,
    "start_time": "2022-04-18T17:13:02.754Z"
   },
   {
    "duration": 38,
    "start_time": "2022-04-18T17:13:02.766Z"
   },
   {
    "duration": 8,
    "start_time": "2022-04-18T17:13:02.807Z"
   },
   {
    "duration": 20,
    "start_time": "2022-04-18T17:13:02.817Z"
   },
   {
    "duration": 140,
    "start_time": "2022-04-18T17:13:02.839Z"
   },
   {
    "duration": 11,
    "start_time": "2022-04-18T17:13:02.982Z"
   },
   {
    "duration": 24,
    "start_time": "2022-04-18T17:13:02.996Z"
   },
   {
    "duration": 19,
    "start_time": "2022-04-18T17:13:03.023Z"
   },
   {
    "duration": 4049,
    "start_time": "2022-04-18T17:13:03.044Z"
   },
   {
    "duration": 1258,
    "start_time": "2022-04-18T17:13:07.095Z"
   },
   {
    "duration": 383,
    "start_time": "2022-04-18T17:13:08.355Z"
   },
   {
    "duration": 505,
    "start_time": "2022-04-18T17:13:08.740Z"
   },
   {
    "duration": 377,
    "start_time": "2022-04-18T17:13:09.247Z"
   },
   {
    "duration": 287,
    "start_time": "2022-04-18T17:13:09.626Z"
   },
   {
    "duration": 6,
    "start_time": "2022-04-18T17:13:09.915Z"
   },
   {
    "duration": 19,
    "start_time": "2022-04-18T17:13:09.923Z"
   },
   {
    "duration": 1368,
    "start_time": "2022-04-18T17:13:09.944Z"
   },
   {
    "duration": 18,
    "start_time": "2022-04-18T17:13:11.314Z"
   },
   {
    "duration": 96,
    "start_time": "2022-04-18T17:13:11.334Z"
   },
   {
    "duration": 13,
    "start_time": "2022-04-18T17:13:11.437Z"
   },
   {
    "duration": 48,
    "start_time": "2022-04-18T17:13:11.454Z"
   },
   {
    "duration": 10,
    "start_time": "2022-04-18T17:13:11.505Z"
   },
   {
    "duration": 16,
    "start_time": "2022-04-18T17:13:11.517Z"
   },
   {
    "duration": 6,
    "start_time": "2022-04-18T17:13:11.536Z"
   },
   {
    "duration": 1060,
    "start_time": "2022-04-18T17:13:11.593Z"
   },
   {
    "duration": 2089,
    "start_time": "2022-04-18T18:04:57.712Z"
   },
   {
    "duration": 822,
    "start_time": "2022-04-18T18:04:59.804Z"
   },
   {
    "duration": 401,
    "start_time": "2022-04-18T18:05:00.629Z"
   },
   {
    "duration": 33,
    "start_time": "2022-04-18T18:05:01.033Z"
   },
   {
    "duration": 25,
    "start_time": "2022-04-18T18:05:01.068Z"
   },
   {
    "duration": 4,
    "start_time": "2022-04-18T18:05:01.095Z"
   },
   {
    "duration": 11,
    "start_time": "2022-04-18T18:05:01.101Z"
   },
   {
    "duration": 10,
    "start_time": "2022-04-18T18:05:01.114Z"
   },
   {
    "duration": 10,
    "start_time": "2022-04-18T18:05:01.127Z"
   },
   {
    "duration": 26,
    "start_time": "2022-04-18T18:05:01.141Z"
   },
   {
    "duration": 25,
    "start_time": "2022-04-18T18:05:01.169Z"
   },
   {
    "duration": 6,
    "start_time": "2022-04-18T18:05:01.197Z"
   },
   {
    "duration": 134,
    "start_time": "2022-04-18T18:05:01.205Z"
   },
   {
    "duration": 4,
    "start_time": "2022-04-18T18:05:01.341Z"
   },
   {
    "duration": 22,
    "start_time": "2022-04-18T18:05:01.348Z"
   },
   {
    "duration": 26,
    "start_time": "2022-04-18T18:05:01.372Z"
   },
   {
    "duration": 3932,
    "start_time": "2022-04-18T18:05:01.400Z"
   },
   {
    "duration": 1220,
    "start_time": "2022-04-18T18:05:05.335Z"
   },
   {
    "duration": 386,
    "start_time": "2022-04-18T18:05:06.558Z"
   },
   {
    "duration": 497,
    "start_time": "2022-04-18T18:05:06.947Z"
   },
   {
    "duration": 368,
    "start_time": "2022-04-18T18:05:07.447Z"
   },
   {
    "duration": 286,
    "start_time": "2022-04-18T18:05:07.818Z"
   },
   {
    "duration": 6,
    "start_time": "2022-04-18T18:05:08.106Z"
   },
   {
    "duration": 11,
    "start_time": "2022-04-18T18:05:08.115Z"
   },
   {
    "duration": 1248,
    "start_time": "2022-04-18T18:05:08.129Z"
   },
   {
    "duration": 24,
    "start_time": "2022-04-18T18:05:09.379Z"
   },
   {
    "duration": 47,
    "start_time": "2022-04-18T18:05:09.405Z"
   },
   {
    "duration": 13,
    "start_time": "2022-04-18T18:05:09.493Z"
   },
   {
    "duration": 15,
    "start_time": "2022-04-18T18:05:09.508Z"
   },
   {
    "duration": 12,
    "start_time": "2022-04-18T18:05:09.525Z"
   },
   {
    "duration": 55,
    "start_time": "2022-04-18T18:05:09.540Z"
   },
   {
    "duration": 6,
    "start_time": "2022-04-18T18:05:09.597Z"
   },
   {
    "duration": 1058,
    "start_time": "2022-04-18T18:05:09.605Z"
   },
   {
    "duration": 163,
    "start_time": "2022-04-18T18:11:54.489Z"
   },
   {
    "duration": 2046,
    "start_time": "2022-04-18T18:12:43.081Z"
   },
   {
    "duration": 800,
    "start_time": "2022-04-18T18:12:45.130Z"
   },
   {
    "duration": 395,
    "start_time": "2022-04-18T18:12:45.932Z"
   },
   {
    "duration": 33,
    "start_time": "2022-04-18T18:12:46.330Z"
   },
   {
    "duration": 4,
    "start_time": "2022-04-18T18:12:46.365Z"
   },
   {
    "duration": 4,
    "start_time": "2022-04-18T18:12:46.392Z"
   },
   {
    "duration": 7,
    "start_time": "2022-04-18T18:12:46.398Z"
   },
   {
    "duration": 8,
    "start_time": "2022-04-18T18:12:46.408Z"
   },
   {
    "duration": 7,
    "start_time": "2022-04-18T18:12:46.420Z"
   },
   {
    "duration": 19,
    "start_time": "2022-04-18T18:12:46.431Z"
   },
   {
    "duration": 9,
    "start_time": "2022-04-18T18:12:46.452Z"
   },
   {
    "duration": 6,
    "start_time": "2022-04-18T18:12:46.494Z"
   },
   {
    "duration": 128,
    "start_time": "2022-04-18T18:12:46.502Z"
   },
   {
    "duration": 3,
    "start_time": "2022-04-18T18:12:46.633Z"
   },
   {
    "duration": 22,
    "start_time": "2022-04-18T18:12:46.638Z"
   },
   {
    "duration": 6,
    "start_time": "2022-04-18T18:12:46.663Z"
   },
   {
    "duration": 3894,
    "start_time": "2022-04-18T18:12:46.671Z"
   },
   {
    "duration": 1280,
    "start_time": "2022-04-18T18:12:50.567Z"
   },
   {
    "duration": 391,
    "start_time": "2022-04-18T18:12:51.850Z"
   },
   {
    "duration": 518,
    "start_time": "2022-04-18T18:12:52.244Z"
   },
   {
    "duration": 376,
    "start_time": "2022-04-18T18:12:52.765Z"
   },
   {
    "duration": 301,
    "start_time": "2022-04-18T18:12:53.145Z"
   },
   {
    "duration": 6,
    "start_time": "2022-04-18T18:12:53.449Z"
   },
   {
    "duration": 12,
    "start_time": "2022-04-18T18:12:53.458Z"
   },
   {
    "duration": 1381,
    "start_time": "2022-04-18T18:12:53.472Z"
   },
   {
    "duration": 16,
    "start_time": "2022-04-18T18:12:54.855Z"
   },
   {
    "duration": 45,
    "start_time": "2022-04-18T18:12:54.894Z"
   },
   {
    "duration": 12,
    "start_time": "2022-04-18T18:12:54.944Z"
   },
   {
    "duration": 41,
    "start_time": "2022-04-18T18:12:54.960Z"
   },
   {
    "duration": 11,
    "start_time": "2022-04-18T18:12:55.003Z"
   },
   {
    "duration": 19,
    "start_time": "2022-04-18T18:12:55.016Z"
   },
   {
    "duration": 6,
    "start_time": "2022-04-18T18:12:55.037Z"
   },
   {
    "duration": 1254,
    "start_time": "2022-04-18T18:12:55.045Z"
   },
   {
    "duration": 5003,
    "start_time": "2022-04-18T18:12:56.302Z"
   },
   {
    "duration": 1594,
    "start_time": "2022-04-18T20:10:39.179Z"
   },
   {
    "duration": 599,
    "start_time": "2022-04-18T20:10:40.775Z"
   },
   {
    "duration": 259,
    "start_time": "2022-04-18T20:10:41.376Z"
   },
   {
    "duration": 34,
    "start_time": "2022-04-18T20:10:41.637Z"
   },
   {
    "duration": 3,
    "start_time": "2022-04-18T20:10:41.672Z"
   },
   {
    "duration": 8,
    "start_time": "2022-04-18T20:10:41.676Z"
   },
   {
    "duration": 5,
    "start_time": "2022-04-18T20:10:41.686Z"
   },
   {
    "duration": 13,
    "start_time": "2022-04-18T20:10:41.693Z"
   },
   {
    "duration": 8,
    "start_time": "2022-04-18T20:10:41.708Z"
   },
   {
    "duration": 17,
    "start_time": "2022-04-18T20:10:41.718Z"
   },
   {
    "duration": 6,
    "start_time": "2022-04-18T20:10:41.736Z"
   },
   {
    "duration": 15,
    "start_time": "2022-04-18T20:10:41.743Z"
   },
   {
    "duration": 103,
    "start_time": "2022-04-18T20:10:41.760Z"
   },
   {
    "duration": 2,
    "start_time": "2022-04-18T20:10:41.865Z"
   },
   {
    "duration": 14,
    "start_time": "2022-04-18T20:10:41.868Z"
   },
   {
    "duration": 5,
    "start_time": "2022-04-18T20:10:41.884Z"
   },
   {
    "duration": 2400,
    "start_time": "2022-04-18T20:10:41.890Z"
   },
   {
    "duration": 684,
    "start_time": "2022-04-18T20:10:44.292Z"
   },
   {
    "duration": 230,
    "start_time": "2022-04-18T20:10:44.978Z"
   },
   {
    "duration": 337,
    "start_time": "2022-04-18T20:10:45.209Z"
   },
   {
    "duration": 230,
    "start_time": "2022-04-18T20:10:45.547Z"
   },
   {
    "duration": 156,
    "start_time": "2022-04-18T20:10:45.779Z"
   },
   {
    "duration": 4,
    "start_time": "2022-04-18T20:10:45.937Z"
   },
   {
    "duration": 4,
    "start_time": "2022-04-18T20:10:45.954Z"
   },
   {
    "duration": 664,
    "start_time": "2022-04-18T20:10:45.959Z"
   },
   {
    "duration": 11,
    "start_time": "2022-04-18T20:10:46.624Z"
   },
   {
    "duration": 41,
    "start_time": "2022-04-18T20:10:46.636Z"
   },
   {
    "duration": 7,
    "start_time": "2022-04-18T20:10:46.681Z"
   },
   {
    "duration": 12,
    "start_time": "2022-04-18T20:10:46.690Z"
   },
   {
    "duration": 8,
    "start_time": "2022-04-18T20:10:46.703Z"
   },
   {
    "duration": 12,
    "start_time": "2022-04-18T20:10:46.713Z"
   },
   {
    "duration": 28,
    "start_time": "2022-04-18T20:10:46.726Z"
   },
   {
    "duration": 787,
    "start_time": "2022-04-18T20:10:46.756Z"
   },
   {
    "duration": 2810,
    "start_time": "2022-04-18T20:10:47.545Z"
   },
   {
    "duration": 757726,
    "start_time": "2022-04-18T20:10:50.358Z"
   },
   {
    "duration": 7790,
    "start_time": "2022-04-18T20:24:51.260Z"
   },
   {
    "duration": 349,
    "start_time": "2022-04-18T20:25:04.080Z"
   },
   {
    "duration": 58516,
    "start_time": "2022-04-18T20:27:40.390Z"
   },
   {
    "duration": 1578,
    "start_time": "2022-04-18T20:34:04.163Z"
   },
   {
    "duration": 699,
    "start_time": "2022-04-18T20:34:05.743Z"
   },
   {
    "duration": 265,
    "start_time": "2022-04-18T20:34:06.443Z"
   },
   {
    "duration": 19,
    "start_time": "2022-04-18T20:34:06.710Z"
   },
   {
    "duration": 2,
    "start_time": "2022-04-18T20:34:06.731Z"
   },
   {
    "duration": 20,
    "start_time": "2022-04-18T20:34:06.735Z"
   },
   {
    "duration": 18,
    "start_time": "2022-04-18T20:34:06.757Z"
   },
   {
    "duration": 16,
    "start_time": "2022-04-18T20:34:06.777Z"
   },
   {
    "duration": 20,
    "start_time": "2022-04-18T20:34:06.794Z"
   },
   {
    "duration": 31,
    "start_time": "2022-04-18T20:34:06.817Z"
   },
   {
    "duration": 12,
    "start_time": "2022-04-18T20:34:06.850Z"
   },
   {
    "duration": 25,
    "start_time": "2022-04-18T20:34:06.864Z"
   },
   {
    "duration": 108,
    "start_time": "2022-04-18T20:34:06.892Z"
   },
   {
    "duration": 2,
    "start_time": "2022-04-18T20:34:07.002Z"
   },
   {
    "duration": 29,
    "start_time": "2022-04-18T20:34:07.006Z"
   },
   {
    "duration": 17,
    "start_time": "2022-04-18T20:34:07.037Z"
   },
   {
    "duration": 2546,
    "start_time": "2022-04-18T20:34:07.056Z"
   },
   {
    "duration": 806,
    "start_time": "2022-04-18T20:34:09.604Z"
   },
   {
    "duration": 234,
    "start_time": "2022-04-18T20:34:10.411Z"
   },
   {
    "duration": 364,
    "start_time": "2022-04-18T20:34:10.647Z"
   },
   {
    "duration": 222,
    "start_time": "2022-04-18T20:34:11.013Z"
   },
   {
    "duration": 179,
    "start_time": "2022-04-18T20:34:11.237Z"
   },
   {
    "duration": 4,
    "start_time": "2022-04-18T20:34:11.418Z"
   },
   {
    "duration": 8,
    "start_time": "2022-04-18T20:34:11.423Z"
   },
   {
    "duration": 728,
    "start_time": "2022-04-18T20:34:11.432Z"
   },
   {
    "duration": 13,
    "start_time": "2022-04-18T20:34:12.162Z"
   },
   {
    "duration": 30,
    "start_time": "2022-04-18T20:34:12.177Z"
   },
   {
    "duration": 7,
    "start_time": "2022-04-18T20:34:12.211Z"
   },
   {
    "duration": 36,
    "start_time": "2022-04-18T20:34:12.220Z"
   },
   {
    "duration": 11,
    "start_time": "2022-04-18T20:34:12.258Z"
   },
   {
    "duration": 14,
    "start_time": "2022-04-18T20:34:12.271Z"
   },
   {
    "duration": 4,
    "start_time": "2022-04-18T20:34:12.287Z"
   },
   {
    "duration": 875,
    "start_time": "2022-04-18T20:34:12.293Z"
   },
   {
    "duration": 2808,
    "start_time": "2022-04-18T20:34:13.170Z"
   },
   {
    "duration": 775867,
    "start_time": "2022-04-18T20:34:16.057Z"
   },
   {
    "duration": 7962,
    "start_time": "2022-04-18T20:47:11.925Z"
   },
   {
    "duration": 60474,
    "start_time": "2022-04-18T20:47:19.888Z"
   }
  ],
  "kernelspec": {
   "display_name": "Python 3 (ipykernel)",
   "language": "python",
   "name": "python3"
  },
  "language_info": {
   "codemirror_mode": {
    "name": "ipython",
    "version": 3
   },
   "file_extension": ".py",
   "mimetype": "text/x-python",
   "name": "python",
   "nbconvert_exporter": "python",
   "pygments_lexer": "ipython3",
   "version": "3.9.7"
  },
  "toc": {
   "base_numbering": 1,
   "nav_menu": {},
   "number_sections": true,
   "sideBar": true,
   "skip_h1_title": true,
   "title_cell": "Table of Contents",
   "title_sidebar": "Contents",
   "toc_cell": false,
   "toc_position": {},
   "toc_section_display": true,
   "toc_window_display": false
  }
 },
 "nbformat": 4,
 "nbformat_minor": 5
}
