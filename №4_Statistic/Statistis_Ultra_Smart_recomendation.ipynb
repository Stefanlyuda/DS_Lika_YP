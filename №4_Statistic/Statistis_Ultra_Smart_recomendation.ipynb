{
 "cells": [
  {
   "cell_type": "markdown",
   "id": "f9e00e94",
   "metadata": {},
   "source": [
    "## Определение перспективного тарифа для телеком-компании"
   ]
  },
  {
   "cell_type": "markdown",
   "id": "e67ac453",
   "metadata": {},
   "source": [
    "Описание тарифов\n",
    "- Тариф «Смарт»\n",
    "Ежемесячная плата: 550 рублей\n",
    "Включено 500 минут разговора, 50 сообщений и 15 Гб интернет-трафика\n",
    "Стоимость услуг сверх тарифного пакета:\n",
    "минута разговора: 3 рубля\n",
    "сообщение: 3 рубля\n",
    "1 Гб интернет-трафика: 200 рублей\n",
    "- Тариф «Ультра»\n",
    "Ежемесячная плата: 1950 рублей\n",
    "Включено 3000 минут разговора, 1000 сообщений и 30 Гб интернет-трафика\n",
    "Стоимость услуг сверх тарифного пакета:\n",
    "минута разговора: 1 рубль\n",
    "сообщение: 1 рубль\n",
    "1 Гб интернет-трафика: 150 рублей"
   ]
  },
  {
   "cell_type": "markdown",
   "id": "f1c7b709",
   "metadata": {},
   "source": [
    "Описание данных\n",
    "##### Таблица users (информация о пользователях):\n",
    "-  user_id — уникальный идентификатор пользователя\n",
    "- first_name — имя пользователя\n",
    "- last_name — фамилия пользователя\n",
    "- age — возраст пользователя (годы)\n",
    "- reg_date — дата подключения тарифа (день, месяц, год)\n",
    "- churn_date — дата прекращения пользования тарифом (если значение пропущено, то тариф ещё действовал на момент выгрузки данных)\n",
    "- city — город проживания пользователя\n",
    "- tarif — название тарифного плана\n",
    "##### Таблица calls (информация о звонках):\n",
    "- id — уникальный номер звонка\n",
    "- call_date — дата звонка\n",
    "- duration — длительность звонка в минутах\n",
    "- user_id — идентификатор пользователя, сделавшего звонок\n",
    "##### Таблица messages (информация о сообщениях):\n",
    "- id — уникальный номер сообщения\n",
    "- message_date — дата сообщения\n",
    "- user_id — идентификатор пользователя, отправившего сообщение\n",
    "##### Таблица internet (информация об интернет-сессиях):\n",
    "- id — уникальный номер сессии\n",
    "- mb_used — объём потраченного за сессию интернет-трафика (в мегабайтах)\n",
    "- session_date — дата интернет-сессии\n",
    "- user_id — идентификатор пользователя\n",
    "##### Таблица tariffs (информация о тарифах):\n",
    "- tariff_name — название тарифа\n",
    "- rub_monthly_fee — ежемесячная абонентская плата в рублях\n",
    "- minutes_included — количество минут разговора в месяц, включённых в абонентскую плату\n",
    "- messages_included — количество сообщений в месяц, включённых в абонентскую плату\n",
    "- mb_per_month_included — объём интернет-трафика, включённого в абонентскую плату (в мегабайтах)\n",
    "- rub_per_minute — стоимость минуты разговора сверх тарифного пакета (например, если в тарифе 100 минут разговора в месяц, то со 101 минуты будет взиматься плата)\n",
    "- rub_per_message — стоимость отправки сообщения сверх тарифного пакета\n",
    "- rub_per_gb — стоимость дополнительного гигабайта интернет-трафика сверх тарифного пакета (1 гигабайт = 1024 мегабайта)"
   ]
  },
  {
   "cell_type": "markdown",
   "id": "5ede9c7b",
   "metadata": {},
   "source": [
    "####  Задачи исследования \n",
    "1. Сделать предварительный анализ тарифов «Смарт» и «Ультра» на небольшой выборке клиентов\n",
    "2. Выяснить какой тариф приносит больше денег компании «Мегалайн»\n",
    "3. Проанализировать поведение клиентов и сделать вывод — какой тариф лучше"
   ]
  },
  {
   "cell_type": "code",
   "execution_count": 1,
   "id": "4bdd3db8",
   "metadata": {},
   "outputs": [],
   "source": [
    "import pandas as pd\n",
    "import numpy as np\n",
    "import matplotlib.pyplot as plt\n",
    "pd.set_option('mode.chained_assignment', None)\n",
    "from scipy import stats as st"
   ]
  },
  {
   "cell_type": "markdown",
   "id": "9bd7bd17",
   "metadata": {},
   "source": [
    "### 1.Открытие файлов и изучение общей информации"
   ]
  },
  {
   "cell_type": "code",
   "execution_count": 5,
   "id": "cb49f10f",
   "metadata": {},
   "outputs": [
    {
     "name": "stdout",
     "output_type": "stream",
     "text": [
      "<class 'pandas.core.frame.DataFrame'>\n",
      "RangeIndex: 149396 entries, 0 to 149395\n",
      "Data columns (total 5 columns):\n",
      "Unnamed: 0      149396 non-null int64\n",
      "id              149396 non-null object\n",
      "mb_used         149396 non-null float64\n",
      "session_date    149396 non-null object\n",
      "user_id         149396 non-null int64\n",
      "dtypes: float64(1), int64(2), object(2)\n",
      "memory usage: 5.7+ MB\n"
     ]
    }
   ],
   "source": [
    "data_internet = pd.read_csv('/datasets/internet.csv', sep = ',')\n",
    "data_internet.info()"
   ]
  },
  {
   "cell_type": "code",
   "execution_count": 6,
   "id": "066f87d8",
   "metadata": {},
   "outputs": [
    {
     "name": "stdout",
     "output_type": "stream",
     "text": [
      "<class 'pandas.core.frame.DataFrame'>\n",
      "RangeIndex: 123036 entries, 0 to 123035\n",
      "Data columns (total 3 columns):\n",
      "id              123036 non-null object\n",
      "message_date    123036 non-null object\n",
      "user_id         123036 non-null int64\n",
      "dtypes: int64(1), object(2)\n",
      "memory usage: 2.8+ MB\n"
     ]
    }
   ],
   "source": [
    "data_messages = pd.read_csv('/datasets/messages.csv', sep = ',')\n",
    "data_messages.info()"
   ]
  },
  {
   "cell_type": "code",
   "execution_count": 7,
   "id": "0618985f",
   "metadata": {},
   "outputs": [
    {
     "name": "stdout",
     "output_type": "stream",
     "text": [
      "<class 'pandas.core.frame.DataFrame'>\n",
      "RangeIndex: 500 entries, 0 to 499\n",
      "Data columns (total 8 columns):\n",
      "user_id       500 non-null int64\n",
      "age           500 non-null int64\n",
      "churn_date    38 non-null object\n",
      "city          500 non-null object\n",
      "first_name    500 non-null object\n",
      "last_name     500 non-null object\n",
      "reg_date      500 non-null object\n",
      "tariff        500 non-null object\n",
      "dtypes: int64(2), object(6)\n",
      "memory usage: 31.4+ KB\n"
     ]
    }
   ],
   "source": [
    "data_users = pd.read_csv('/datasets/users.csv', sep = ',')\n",
    "data_users.info()"
   ]
  },
  {
   "cell_type": "code",
   "execution_count": 8,
   "id": "138c0ca1",
   "metadata": {},
   "outputs": [
    {
     "name": "stdout",
     "output_type": "stream",
     "text": [
      "<class 'pandas.core.frame.DataFrame'>\n",
      "RangeIndex: 2 entries, 0 to 1\n",
      "Data columns (total 8 columns):\n",
      "messages_included        2 non-null int64\n",
      "mb_per_month_included    2 non-null int64\n",
      "minutes_included         2 non-null int64\n",
      "rub_monthly_fee          2 non-null int64\n",
      "rub_per_gb               2 non-null int64\n",
      "rub_per_message          2 non-null int64\n",
      "rub_per_minute           2 non-null int64\n",
      "tariff_name              2 non-null object\n",
      "dtypes: int64(7), object(1)\n",
      "memory usage: 256.0+ bytes\n"
     ]
    },
    {
     "data": {
      "text/html": [
       "<div>\n",
       "<style scoped>\n",
       "    .dataframe tbody tr th:only-of-type {\n",
       "        vertical-align: middle;\n",
       "    }\n",
       "\n",
       "    .dataframe tbody tr th {\n",
       "        vertical-align: top;\n",
       "    }\n",
       "\n",
       "    .dataframe thead th {\n",
       "        text-align: right;\n",
       "    }\n",
       "</style>\n",
       "<table border=\"1\" class=\"dataframe\">\n",
       "  <thead>\n",
       "    <tr style=\"text-align: right;\">\n",
       "      <th></th>\n",
       "      <th>messages_included</th>\n",
       "      <th>mb_per_month_included</th>\n",
       "      <th>minutes_included</th>\n",
       "      <th>rub_monthly_fee</th>\n",
       "      <th>rub_per_gb</th>\n",
       "      <th>rub_per_message</th>\n",
       "      <th>rub_per_minute</th>\n",
       "      <th>tariff_name</th>\n",
       "    </tr>\n",
       "  </thead>\n",
       "  <tbody>\n",
       "    <tr>\n",
       "      <td>0</td>\n",
       "      <td>50</td>\n",
       "      <td>15360</td>\n",
       "      <td>500</td>\n",
       "      <td>550</td>\n",
       "      <td>200</td>\n",
       "      <td>3</td>\n",
       "      <td>3</td>\n",
       "      <td>smart</td>\n",
       "    </tr>\n",
       "    <tr>\n",
       "      <td>1</td>\n",
       "      <td>1000</td>\n",
       "      <td>30720</td>\n",
       "      <td>3000</td>\n",
       "      <td>1950</td>\n",
       "      <td>150</td>\n",
       "      <td>1</td>\n",
       "      <td>1</td>\n",
       "      <td>ultra</td>\n",
       "    </tr>\n",
       "  </tbody>\n",
       "</table>\n",
       "</div>"
      ],
      "text/plain": [
       "   messages_included  mb_per_month_included  minutes_included  \\\n",
       "0                 50                  15360               500   \n",
       "1               1000                  30720              3000   \n",
       "\n",
       "   rub_monthly_fee  rub_per_gb  rub_per_message  rub_per_minute tariff_name  \n",
       "0              550         200                3               3       smart  \n",
       "1             1950         150                1               1       ultra  "
      ]
     },
     "metadata": {},
     "output_type": "display_data"
    }
   ],
   "source": [
    "data_tariffs = pd.read_csv('/datasets/tariffs.csv', sep = ',')\n",
    "data_tariffs.info()\n",
    "display (data_tariffs)"
   ]
  },
  {
   "cell_type": "code",
   "execution_count": 9,
   "id": "68da8686",
   "metadata": {},
   "outputs": [
    {
     "name": "stdout",
     "output_type": "stream",
     "text": [
      "<class 'pandas.core.frame.DataFrame'>\n",
      "RangeIndex: 202607 entries, 0 to 202606\n",
      "Data columns (total 4 columns):\n",
      "id           202607 non-null object\n",
      "call_date    202607 non-null object\n",
      "duration     202607 non-null float64\n",
      "user_id      202607 non-null int64\n",
      "dtypes: float64(1), int64(1), object(2)\n",
      "memory usage: 6.2+ MB\n"
     ]
    }
   ],
   "source": [
    "data_calls = pd.read_csv('/datasets/calls.csv', sep = ',')\n",
    "data_calls.info()"
   ]
  },
  {
   "cell_type": "markdown",
   "id": "d8c1a227",
   "metadata": {},
   "source": [
    "Посмотрим количество пропущенных значений"
   ]
  },
  {
   "cell_type": "code",
   "execution_count": 10,
   "id": "8a3d8be7",
   "metadata": {},
   "outputs": [
    {
     "data": {
      "text/plain": [
       "id           0\n",
       "call_date    0\n",
       "duration     0\n",
       "user_id      0\n",
       "dtype: int64"
      ]
     },
     "metadata": {},
     "output_type": "display_data"
    },
    {
     "data": {
      "text/plain": [
       "Unnamed: 0      0\n",
       "id              0\n",
       "mb_used         0\n",
       "session_date    0\n",
       "user_id         0\n",
       "dtype: int64"
      ]
     },
     "metadata": {},
     "output_type": "display_data"
    },
    {
     "data": {
      "text/plain": [
       "id              0\n",
       "message_date    0\n",
       "user_id         0\n",
       "dtype: int64"
      ]
     },
     "metadata": {},
     "output_type": "display_data"
    },
    {
     "data": {
      "text/plain": [
       "messages_included        0\n",
       "mb_per_month_included    0\n",
       "minutes_included         0\n",
       "rub_monthly_fee          0\n",
       "rub_per_gb               0\n",
       "rub_per_message          0\n",
       "rub_per_minute           0\n",
       "tariff_name              0\n",
       "dtype: int64"
      ]
     },
     "metadata": {},
     "output_type": "display_data"
    },
    {
     "data": {
      "text/plain": [
       "user_id         0\n",
       "age             0\n",
       "churn_date    462\n",
       "city            0\n",
       "first_name      0\n",
       "last_name       0\n",
       "reg_date        0\n",
       "tariff          0\n",
       "dtype: int64"
      ]
     },
     "metadata": {},
     "output_type": "display_data"
    }
   ],
   "source": [
    "data = [data_calls, \n",
    "        data_internet, \n",
    "        data_messages, \n",
    "        data_tariffs, \n",
    "        data_users]\n",
    "for i in range(len(data)):\n",
    "    display(data[i].isna().sum())"
   ]
  },
  {
   "cell_type": "markdown",
   "id": "36e87131",
   "metadata": {},
   "source": [
    "<div class=\"alert alert-info\" role=\"alert\">\n",
    "    В описании данных указано, что в столбце churn_date — если значение пропущено, то тариф ещё действовал на момент выгрузки данных. Таких значений немного, предлагаю их не трогать. Их пропуски логично обьяснены. В продолжении исследования выяснилось, что пропусков слишком много в этом столбце и я его совсем удалила, т.к. он неважен для исследования"
   ]
  },
  {
   "cell_type": "markdown",
   "id": "1025dd6b",
   "metadata": {},
   "source": [
    "### 2.Подготовка данных"
   ]
  },
  {
   "cell_type": "markdown",
   "id": "4db6ff25",
   "metadata": {},
   "source": [
    "####  Приведите данные к нужным типам;\n",
    "\n"
   ]
  },
  {
   "cell_type": "markdown",
   "id": "0ee9a6ed",
   "metadata": {},
   "source": [
    "Изменим тип дат из object на date"
   ]
  },
  {
   "cell_type": "code",
   "execution_count": 11,
   "id": "91bdc340",
   "metadata": {},
   "outputs": [],
   "source": [
    "data_internet['session_date'] = pd.to_datetime(data_internet['session_date'], format = '%Y-%m-%d %H:%M')\n",
    "data_messages['message_date'] = pd.to_datetime(data_messages['message_date'], format = '%Y-%m-%d %H:%M')\n",
    "data_calls['call_date'] = pd.to_datetime(data_calls['call_date'], format = '%Y-%m-%d %H:%M')"
   ]
  },
  {
   "cell_type": "markdown",
   "id": "b74ee6bc",
   "metadata": {},
   "source": [
    "Вычислим количество месяцев использования интернета"
   ]
  },
  {
   "cell_type": "code",
   "execution_count": 12,
   "id": "3b7af340",
   "metadata": {},
   "outputs": [],
   "source": [
    "data_internet['month'] = data_internet['session_date'].dt.month"
   ]
  },
  {
   "cell_type": "code",
   "execution_count": 13,
   "id": "6258148d",
   "metadata": {},
   "outputs": [],
   "source": [
    "data_messages['month'] = data_messages['message_date'].dt.month"
   ]
  },
  {
   "cell_type": "code",
   "execution_count": 14,
   "id": "d95773de",
   "metadata": {},
   "outputs": [],
   "source": [
    "data_calls['month'] = data_calls['call_date'].dt.month"
   ]
  },
  {
   "cell_type": "markdown",
   "id": "0bf4a6b0",
   "metadata": {},
   "source": [
    "#### 2.Обьденение таблиц"
   ]
  },
  {
   "cell_type": "markdown",
   "id": "3d7134cf",
   "metadata": {},
   "source": [
    "Для начала сгруппируем таблицы по месяцам и id пользователей для обьеденения"
   ]
  },
  {
   "cell_type": "markdown",
   "id": "c8cd38a4",
   "metadata": {},
   "source": [
    "#### Информация об интернет-сессиях  по месяцам"
   ]
  },
  {
   "cell_type": "code",
   "execution_count": 15,
   "id": "02450113",
   "metadata": {},
   "outputs": [
    {
     "data": {
      "text/html": [
       "<div>\n",
       "<style scoped>\n",
       "    .dataframe tbody tr th:only-of-type {\n",
       "        vertical-align: middle;\n",
       "    }\n",
       "\n",
       "    .dataframe tbody tr th {\n",
       "        vertical-align: top;\n",
       "    }\n",
       "\n",
       "    .dataframe thead th {\n",
       "        text-align: right;\n",
       "    }\n",
       "</style>\n",
       "<table border=\"1\" class=\"dataframe\">\n",
       "  <thead>\n",
       "    <tr style=\"text-align: right;\">\n",
       "      <th></th>\n",
       "      <th>user_id</th>\n",
       "      <th>month</th>\n",
       "      <th>sum_mb</th>\n",
       "    </tr>\n",
       "  </thead>\n",
       "  <tbody>\n",
       "    <tr>\n",
       "      <td>0</td>\n",
       "      <td>1000</td>\n",
       "      <td>5</td>\n",
       "      <td>2253.49</td>\n",
       "    </tr>\n",
       "    <tr>\n",
       "      <td>1</td>\n",
       "      <td>1000</td>\n",
       "      <td>6</td>\n",
       "      <td>23233.77</td>\n",
       "    </tr>\n",
       "    <tr>\n",
       "      <td>2</td>\n",
       "      <td>1000</td>\n",
       "      <td>7</td>\n",
       "      <td>14003.64</td>\n",
       "    </tr>\n",
       "    <tr>\n",
       "      <td>3</td>\n",
       "      <td>1000</td>\n",
       "      <td>8</td>\n",
       "      <td>14055.93</td>\n",
       "    </tr>\n",
       "    <tr>\n",
       "      <td>4</td>\n",
       "      <td>1000</td>\n",
       "      <td>9</td>\n",
       "      <td>14568.91</td>\n",
       "    </tr>\n",
       "  </tbody>\n",
       "</table>\n",
       "</div>"
      ],
      "text/plain": [
       "   user_id  month    sum_mb\n",
       "0     1000      5   2253.49\n",
       "1     1000      6  23233.77\n",
       "2     1000      7  14003.64\n",
       "3     1000      8  14055.93\n",
       "4     1000      9  14568.91"
      ]
     },
     "execution_count": 15,
     "metadata": {},
     "output_type": "execute_result"
    }
   ],
   "source": [
    "internet_month = data_internet.pivot_table(index = ['user_id','month'],\n",
    "                                           values = 'mb_used',\n",
    "                                           aggfunc = 'sum').reset_index()\n",
    "internet_month.columns = ['user_id','month','sum_mb']\n",
    "internet_month.head()"
   ]
  },
  {
   "cell_type": "markdown",
   "id": "2a00b08d",
   "metadata": {},
   "source": [
    "#### Информация об sms  по месяцам"
   ]
  },
  {
   "cell_type": "code",
   "execution_count": 16,
   "id": "cffad683",
   "metadata": {},
   "outputs": [
    {
     "data": {
      "text/html": [
       "<div>\n",
       "<style scoped>\n",
       "    .dataframe tbody tr th:only-of-type {\n",
       "        vertical-align: middle;\n",
       "    }\n",
       "\n",
       "    .dataframe tbody tr th {\n",
       "        vertical-align: top;\n",
       "    }\n",
       "\n",
       "    .dataframe thead th {\n",
       "        text-align: right;\n",
       "    }\n",
       "</style>\n",
       "<table border=\"1\" class=\"dataframe\">\n",
       "  <thead>\n",
       "    <tr style=\"text-align: right;\">\n",
       "      <th></th>\n",
       "      <th>user_id</th>\n",
       "      <th>month</th>\n",
       "      <th>sum_sms</th>\n",
       "    </tr>\n",
       "  </thead>\n",
       "  <tbody>\n",
       "    <tr>\n",
       "      <td>0</td>\n",
       "      <td>1000</td>\n",
       "      <td>5</td>\n",
       "      <td>22</td>\n",
       "    </tr>\n",
       "    <tr>\n",
       "      <td>1</td>\n",
       "      <td>1000</td>\n",
       "      <td>6</td>\n",
       "      <td>60</td>\n",
       "    </tr>\n",
       "    <tr>\n",
       "      <td>2</td>\n",
       "      <td>1000</td>\n",
       "      <td>7</td>\n",
       "      <td>75</td>\n",
       "    </tr>\n",
       "    <tr>\n",
       "      <td>3</td>\n",
       "      <td>1000</td>\n",
       "      <td>8</td>\n",
       "      <td>81</td>\n",
       "    </tr>\n",
       "    <tr>\n",
       "      <td>4</td>\n",
       "      <td>1000</td>\n",
       "      <td>9</td>\n",
       "      <td>57</td>\n",
       "    </tr>\n",
       "  </tbody>\n",
       "</table>\n",
       "</div>"
      ],
      "text/plain": [
       "   user_id  month  sum_sms\n",
       "0     1000      5       22\n",
       "1     1000      6       60\n",
       "2     1000      7       75\n",
       "3     1000      8       81\n",
       "4     1000      9       57"
      ]
     },
     "execution_count": 16,
     "metadata": {},
     "output_type": "execute_result"
    }
   ],
   "source": [
    "messages_month = data_messages.pivot_table(index = ['user_id','month'],\n",
    "                                           values = 'id',\n",
    "                                           aggfunc = 'count').reset_index()\n",
    "messages_month.columns = ['user_id','month','sum_sms']\n",
    "messages_month.head()"
   ]
  },
  {
   "cell_type": "markdown",
   "id": "2ed166cf",
   "metadata": {},
   "source": [
    "#### Информация о звонках по месяцам"
   ]
  },
  {
   "cell_type": "markdown",
   "id": "7a66c8ff",
   "metadata": {},
   "source": [
    "Округлим значения звонков, как указано в условии (в большую сторону)"
   ]
  },
  {
   "cell_type": "code",
   "execution_count": 17,
   "id": "b768043c",
   "metadata": {},
   "outputs": [],
   "source": [
    "data_calls ['duration'] = np.ceil(data_calls['duration'])"
   ]
  },
  {
   "cell_type": "code",
   "execution_count": 18,
   "id": "7d98d4e4",
   "metadata": {},
   "outputs": [
    {
     "data": {
      "text/html": [
       "<div>\n",
       "<style scoped>\n",
       "    .dataframe tbody tr th:only-of-type {\n",
       "        vertical-align: middle;\n",
       "    }\n",
       "\n",
       "    .dataframe tbody tr th {\n",
       "        vertical-align: top;\n",
       "    }\n",
       "\n",
       "    .dataframe thead th {\n",
       "        text-align: right;\n",
       "    }\n",
       "</style>\n",
       "<table border=\"1\" class=\"dataframe\">\n",
       "  <thead>\n",
       "    <tr style=\"text-align: right;\">\n",
       "      <th></th>\n",
       "      <th>user_id</th>\n",
       "      <th>month</th>\n",
       "      <th>sum_calls</th>\n",
       "    </tr>\n",
       "  </thead>\n",
       "  <tbody>\n",
       "    <tr>\n",
       "      <td>0</td>\n",
       "      <td>1000</td>\n",
       "      <td>5</td>\n",
       "      <td>159.0</td>\n",
       "    </tr>\n",
       "    <tr>\n",
       "      <td>1</td>\n",
       "      <td>1000</td>\n",
       "      <td>6</td>\n",
       "      <td>172.0</td>\n",
       "    </tr>\n",
       "    <tr>\n",
       "      <td>2</td>\n",
       "      <td>1000</td>\n",
       "      <td>7</td>\n",
       "      <td>340.0</td>\n",
       "    </tr>\n",
       "    <tr>\n",
       "      <td>3</td>\n",
       "      <td>1000</td>\n",
       "      <td>8</td>\n",
       "      <td>408.0</td>\n",
       "    </tr>\n",
       "    <tr>\n",
       "      <td>4</td>\n",
       "      <td>1000</td>\n",
       "      <td>9</td>\n",
       "      <td>466.0</td>\n",
       "    </tr>\n",
       "  </tbody>\n",
       "</table>\n",
       "</div>"
      ],
      "text/plain": [
       "   user_id  month  sum_calls\n",
       "0     1000      5      159.0\n",
       "1     1000      6      172.0\n",
       "2     1000      7      340.0\n",
       "3     1000      8      408.0\n",
       "4     1000      9      466.0"
      ]
     },
     "execution_count": 18,
     "metadata": {},
     "output_type": "execute_result"
    }
   ],
   "source": [
    "calls_month = data_calls.pivot_table(index = ['user_id','month'],\n",
    "                                           values = 'duration',\n",
    "                                           aggfunc = 'sum').reset_index()\n",
    "calls_month.columns = ['user_id','month','sum_calls']\n",
    "calls_month.head()"
   ]
  },
  {
   "cell_type": "code",
   "execution_count": 20,
   "id": "2b08fd53",
   "metadata": {},
   "outputs": [],
   "source": [
    "calls_month['sum_calls'] = calls_month['sum_calls'].astype ('int')"
   ]
  },
  {
   "cell_type": "markdown",
   "id": "ba6f6475",
   "metadata": {},
   "source": [
    "### Обьединение таблиц"
   ]
  },
  {
   "cell_type": "code",
   "execution_count": 21,
   "id": "5b563d42",
   "metadata": {},
   "outputs": [],
   "source": [
    "data = data_users.merge(calls_month, on = 'user_id', how = 'outer')"
   ]
  },
  {
   "cell_type": "code",
   "execution_count": 22,
   "id": "7bd0b6f5",
   "metadata": {},
   "outputs": [],
   "source": [
    "data = data.merge (messages_month, on = ['user_id','month'], how = 'outer')"
   ]
  },
  {
   "cell_type": "code",
   "execution_count": 23,
   "id": "a163c9c7",
   "metadata": {},
   "outputs": [],
   "source": [
    "data_tariffs = data_tariffs.rename(columns = {'tariff_name':'tariff'})"
   ]
  },
  {
   "cell_type": "code",
   "execution_count": 24,
   "id": "7d7e7514",
   "metadata": {},
   "outputs": [],
   "source": [
    "data = data.merge (data_tariffs, on = 'tariff', how = 'left')"
   ]
  },
  {
   "cell_type": "code",
   "execution_count": 25,
   "id": "ae0b9a9d",
   "metadata": {},
   "outputs": [
    {
     "data": {
      "text/html": [
       "<div>\n",
       "<style scoped>\n",
       "    .dataframe tbody tr th:only-of-type {\n",
       "        vertical-align: middle;\n",
       "    }\n",
       "\n",
       "    .dataframe tbody tr th {\n",
       "        vertical-align: top;\n",
       "    }\n",
       "\n",
       "    .dataframe thead th {\n",
       "        text-align: right;\n",
       "    }\n",
       "</style>\n",
       "<table border=\"1\" class=\"dataframe\">\n",
       "  <thead>\n",
       "    <tr style=\"text-align: right;\">\n",
       "      <th></th>\n",
       "      <th>user_id</th>\n",
       "      <th>age</th>\n",
       "      <th>churn_date</th>\n",
       "      <th>city</th>\n",
       "      <th>first_name</th>\n",
       "      <th>last_name</th>\n",
       "      <th>reg_date</th>\n",
       "      <th>tariff</th>\n",
       "      <th>month</th>\n",
       "      <th>sum_calls</th>\n",
       "      <th>sum_sms</th>\n",
       "      <th>messages_included</th>\n",
       "      <th>mb_per_month_included</th>\n",
       "      <th>minutes_included</th>\n",
       "      <th>rub_monthly_fee</th>\n",
       "      <th>rub_per_gb</th>\n",
       "      <th>rub_per_message</th>\n",
       "      <th>rub_per_minute</th>\n",
       "      <th>sum_mb</th>\n",
       "    </tr>\n",
       "  </thead>\n",
       "  <tbody>\n",
       "    <tr>\n",
       "      <td>0</td>\n",
       "      <td>1000</td>\n",
       "      <td>52.0</td>\n",
       "      <td>NaN</td>\n",
       "      <td>Краснодар</td>\n",
       "      <td>Рафаил</td>\n",
       "      <td>Верещагин</td>\n",
       "      <td>2018-05-25</td>\n",
       "      <td>ultra</td>\n",
       "      <td>5.0</td>\n",
       "      <td>159.0</td>\n",
       "      <td>22.0</td>\n",
       "      <td>1000.0</td>\n",
       "      <td>30720.0</td>\n",
       "      <td>3000.0</td>\n",
       "      <td>1950.0</td>\n",
       "      <td>150.0</td>\n",
       "      <td>1.0</td>\n",
       "      <td>1.0</td>\n",
       "      <td>2253.49</td>\n",
       "    </tr>\n",
       "    <tr>\n",
       "      <td>1</td>\n",
       "      <td>1000</td>\n",
       "      <td>52.0</td>\n",
       "      <td>NaN</td>\n",
       "      <td>Краснодар</td>\n",
       "      <td>Рафаил</td>\n",
       "      <td>Верещагин</td>\n",
       "      <td>2018-05-25</td>\n",
       "      <td>ultra</td>\n",
       "      <td>6.0</td>\n",
       "      <td>172.0</td>\n",
       "      <td>60.0</td>\n",
       "      <td>1000.0</td>\n",
       "      <td>30720.0</td>\n",
       "      <td>3000.0</td>\n",
       "      <td>1950.0</td>\n",
       "      <td>150.0</td>\n",
       "      <td>1.0</td>\n",
       "      <td>1.0</td>\n",
       "      <td>23233.77</td>\n",
       "    </tr>\n",
       "    <tr>\n",
       "      <td>2</td>\n",
       "      <td>1000</td>\n",
       "      <td>52.0</td>\n",
       "      <td>NaN</td>\n",
       "      <td>Краснодар</td>\n",
       "      <td>Рафаил</td>\n",
       "      <td>Верещагин</td>\n",
       "      <td>2018-05-25</td>\n",
       "      <td>ultra</td>\n",
       "      <td>7.0</td>\n",
       "      <td>340.0</td>\n",
       "      <td>75.0</td>\n",
       "      <td>1000.0</td>\n",
       "      <td>30720.0</td>\n",
       "      <td>3000.0</td>\n",
       "      <td>1950.0</td>\n",
       "      <td>150.0</td>\n",
       "      <td>1.0</td>\n",
       "      <td>1.0</td>\n",
       "      <td>14003.64</td>\n",
       "    </tr>\n",
       "    <tr>\n",
       "      <td>3</td>\n",
       "      <td>1000</td>\n",
       "      <td>52.0</td>\n",
       "      <td>NaN</td>\n",
       "      <td>Краснодар</td>\n",
       "      <td>Рафаил</td>\n",
       "      <td>Верещагин</td>\n",
       "      <td>2018-05-25</td>\n",
       "      <td>ultra</td>\n",
       "      <td>8.0</td>\n",
       "      <td>408.0</td>\n",
       "      <td>81.0</td>\n",
       "      <td>1000.0</td>\n",
       "      <td>30720.0</td>\n",
       "      <td>3000.0</td>\n",
       "      <td>1950.0</td>\n",
       "      <td>150.0</td>\n",
       "      <td>1.0</td>\n",
       "      <td>1.0</td>\n",
       "      <td>14055.93</td>\n",
       "    </tr>\n",
       "    <tr>\n",
       "      <td>4</td>\n",
       "      <td>1000</td>\n",
       "      <td>52.0</td>\n",
       "      <td>NaN</td>\n",
       "      <td>Краснодар</td>\n",
       "      <td>Рафаил</td>\n",
       "      <td>Верещагин</td>\n",
       "      <td>2018-05-25</td>\n",
       "      <td>ultra</td>\n",
       "      <td>9.0</td>\n",
       "      <td>466.0</td>\n",
       "      <td>57.0</td>\n",
       "      <td>1000.0</td>\n",
       "      <td>30720.0</td>\n",
       "      <td>3000.0</td>\n",
       "      <td>1950.0</td>\n",
       "      <td>150.0</td>\n",
       "      <td>1.0</td>\n",
       "      <td>1.0</td>\n",
       "      <td>14568.91</td>\n",
       "    </tr>\n",
       "    <tr>\n",
       "      <td>...</td>\n",
       "      <td>...</td>\n",
       "      <td>...</td>\n",
       "      <td>...</td>\n",
       "      <td>...</td>\n",
       "      <td>...</td>\n",
       "      <td>...</td>\n",
       "      <td>...</td>\n",
       "      <td>...</td>\n",
       "      <td>...</td>\n",
       "      <td>...</td>\n",
       "      <td>...</td>\n",
       "      <td>...</td>\n",
       "      <td>...</td>\n",
       "      <td>...</td>\n",
       "      <td>...</td>\n",
       "      <td>...</td>\n",
       "      <td>...</td>\n",
       "      <td>...</td>\n",
       "      <td>...</td>\n",
       "    </tr>\n",
       "    <tr>\n",
       "      <td>3217</td>\n",
       "      <td>1489</td>\n",
       "      <td>NaN</td>\n",
       "      <td>NaN</td>\n",
       "      <td>NaN</td>\n",
       "      <td>NaN</td>\n",
       "      <td>NaN</td>\n",
       "      <td>NaN</td>\n",
       "      <td>NaN</td>\n",
       "      <td>9.0</td>\n",
       "      <td>NaN</td>\n",
       "      <td>32.0</td>\n",
       "      <td>NaN</td>\n",
       "      <td>NaN</td>\n",
       "      <td>NaN</td>\n",
       "      <td>NaN</td>\n",
       "      <td>NaN</td>\n",
       "      <td>NaN</td>\n",
       "      <td>NaN</td>\n",
       "      <td>17206.30</td>\n",
       "    </tr>\n",
       "    <tr>\n",
       "      <td>3218</td>\n",
       "      <td>1489</td>\n",
       "      <td>NaN</td>\n",
       "      <td>NaN</td>\n",
       "      <td>NaN</td>\n",
       "      <td>NaN</td>\n",
       "      <td>NaN</td>\n",
       "      <td>NaN</td>\n",
       "      <td>NaN</td>\n",
       "      <td>10.0</td>\n",
       "      <td>NaN</td>\n",
       "      <td>21.0</td>\n",
       "      <td>NaN</td>\n",
       "      <td>NaN</td>\n",
       "      <td>NaN</td>\n",
       "      <td>NaN</td>\n",
       "      <td>NaN</td>\n",
       "      <td>NaN</td>\n",
       "      <td>NaN</td>\n",
       "      <td>19559.44</td>\n",
       "    </tr>\n",
       "    <tr>\n",
       "      <td>3219</td>\n",
       "      <td>1489</td>\n",
       "      <td>NaN</td>\n",
       "      <td>NaN</td>\n",
       "      <td>NaN</td>\n",
       "      <td>NaN</td>\n",
       "      <td>NaN</td>\n",
       "      <td>NaN</td>\n",
       "      <td>NaN</td>\n",
       "      <td>11.0</td>\n",
       "      <td>NaN</td>\n",
       "      <td>20.0</td>\n",
       "      <td>NaN</td>\n",
       "      <td>NaN</td>\n",
       "      <td>NaN</td>\n",
       "      <td>NaN</td>\n",
       "      <td>NaN</td>\n",
       "      <td>NaN</td>\n",
       "      <td>NaN</td>\n",
       "      <td>17491.56</td>\n",
       "    </tr>\n",
       "    <tr>\n",
       "      <td>3220</td>\n",
       "      <td>1489</td>\n",
       "      <td>NaN</td>\n",
       "      <td>NaN</td>\n",
       "      <td>NaN</td>\n",
       "      <td>NaN</td>\n",
       "      <td>NaN</td>\n",
       "      <td>NaN</td>\n",
       "      <td>NaN</td>\n",
       "      <td>12.0</td>\n",
       "      <td>NaN</td>\n",
       "      <td>35.0</td>\n",
       "      <td>NaN</td>\n",
       "      <td>NaN</td>\n",
       "      <td>NaN</td>\n",
       "      <td>NaN</td>\n",
       "      <td>NaN</td>\n",
       "      <td>NaN</td>\n",
       "      <td>NaN</td>\n",
       "      <td>17322.51</td>\n",
       "    </tr>\n",
       "    <tr>\n",
       "      <td>3221</td>\n",
       "      <td>1476</td>\n",
       "      <td>NaN</td>\n",
       "      <td>NaN</td>\n",
       "      <td>NaN</td>\n",
       "      <td>NaN</td>\n",
       "      <td>NaN</td>\n",
       "      <td>NaN</td>\n",
       "      <td>NaN</td>\n",
       "      <td>4.0</td>\n",
       "      <td>NaN</td>\n",
       "      <td>NaN</td>\n",
       "      <td>NaN</td>\n",
       "      <td>NaN</td>\n",
       "      <td>NaN</td>\n",
       "      <td>NaN</td>\n",
       "      <td>NaN</td>\n",
       "      <td>NaN</td>\n",
       "      <td>NaN</td>\n",
       "      <td>530.78</td>\n",
       "    </tr>\n",
       "  </tbody>\n",
       "</table>\n",
       "<p>3222 rows × 19 columns</p>\n",
       "</div>"
      ],
      "text/plain": [
       "      user_id   age churn_date       city first_name  last_name    reg_date  \\\n",
       "0        1000  52.0        NaN  Краснодар     Рафаил  Верещагин  2018-05-25   \n",
       "1        1000  52.0        NaN  Краснодар     Рафаил  Верещагин  2018-05-25   \n",
       "2        1000  52.0        NaN  Краснодар     Рафаил  Верещагин  2018-05-25   \n",
       "3        1000  52.0        NaN  Краснодар     Рафаил  Верещагин  2018-05-25   \n",
       "4        1000  52.0        NaN  Краснодар     Рафаил  Верещагин  2018-05-25   \n",
       "...       ...   ...        ...        ...        ...        ...         ...   \n",
       "3217     1489   NaN        NaN        NaN        NaN        NaN         NaN   \n",
       "3218     1489   NaN        NaN        NaN        NaN        NaN         NaN   \n",
       "3219     1489   NaN        NaN        NaN        NaN        NaN         NaN   \n",
       "3220     1489   NaN        NaN        NaN        NaN        NaN         NaN   \n",
       "3221     1476   NaN        NaN        NaN        NaN        NaN         NaN   \n",
       "\n",
       "     tariff  month  sum_calls  sum_sms  messages_included  \\\n",
       "0     ultra    5.0      159.0     22.0             1000.0   \n",
       "1     ultra    6.0      172.0     60.0             1000.0   \n",
       "2     ultra    7.0      340.0     75.0             1000.0   \n",
       "3     ultra    8.0      408.0     81.0             1000.0   \n",
       "4     ultra    9.0      466.0     57.0             1000.0   \n",
       "...     ...    ...        ...      ...                ...   \n",
       "3217    NaN    9.0        NaN     32.0                NaN   \n",
       "3218    NaN   10.0        NaN     21.0                NaN   \n",
       "3219    NaN   11.0        NaN     20.0                NaN   \n",
       "3220    NaN   12.0        NaN     35.0                NaN   \n",
       "3221    NaN    4.0        NaN      NaN                NaN   \n",
       "\n",
       "      mb_per_month_included  minutes_included  rub_monthly_fee  rub_per_gb  \\\n",
       "0                   30720.0            3000.0           1950.0       150.0   \n",
       "1                   30720.0            3000.0           1950.0       150.0   \n",
       "2                   30720.0            3000.0           1950.0       150.0   \n",
       "3                   30720.0            3000.0           1950.0       150.0   \n",
       "4                   30720.0            3000.0           1950.0       150.0   \n",
       "...                     ...               ...              ...         ...   \n",
       "3217                    NaN               NaN              NaN         NaN   \n",
       "3218                    NaN               NaN              NaN         NaN   \n",
       "3219                    NaN               NaN              NaN         NaN   \n",
       "3220                    NaN               NaN              NaN         NaN   \n",
       "3221                    NaN               NaN              NaN         NaN   \n",
       "\n",
       "      rub_per_message  rub_per_minute    sum_mb  \n",
       "0                 1.0             1.0   2253.49  \n",
       "1                 1.0             1.0  23233.77  \n",
       "2                 1.0             1.0  14003.64  \n",
       "3                 1.0             1.0  14055.93  \n",
       "4                 1.0             1.0  14568.91  \n",
       "...               ...             ...       ...  \n",
       "3217              NaN             NaN  17206.30  \n",
       "3218              NaN             NaN  19559.44  \n",
       "3219              NaN             NaN  17491.56  \n",
       "3220              NaN             NaN  17322.51  \n",
       "3221              NaN             NaN    530.78  \n",
       "\n",
       "[3222 rows x 19 columns]"
      ]
     },
     "metadata": {},
     "output_type": "display_data"
    }
   ],
   "source": [
    "data = data.merge(internet_month, on = ['user_id','month'], how = 'outer')\n",
    "display (data)"
   ]
  },
  {
   "cell_type": "markdown",
   "id": "236a7b35",
   "metadata": {},
   "source": [
    "Мы имеем таблицу для дальнейшей работы, где содержится информация о звонках, смс и потраченном трафике всех пользователей"
   ]
  },
  {
   "cell_type": "markdown",
   "id": "8d5bdb0b",
   "metadata": {},
   "source": [
    "Округлим значения согласно условию:\n",
    "- «Мегалайн» всегда округляет секунды до минут, а мегабайты — до гигабайт. Каждый звонок округляется отдельно: даже если он длился всего 1 секунду, будет засчитан как 1 минута.\n",
    "- Для веб-трафика отдельные сессии не считаются. Вместо этого общая сумма за месяц округляется в бо́льшую сторону. Если абонент использует 1025 мегабайт в этом месяце, с него возьмут плату за 2 гигабайта."
   ]
  },
  {
   "cell_type": "code",
   "execution_count": 26,
   "id": "9d7dc520",
   "metadata": {},
   "outputs": [],
   "source": [
    "data['sum_mb'] = data['sum_mb']/1024\n",
    "data['sum_mb'] = np.ceil(data['sum_mb'])\n",
    "data['sum_mb'] = data['sum_mb'].fillna(0)\n",
    "data['sum_mb'] = data['sum_mb'].astype ('int')\n",
    "data = data.rename (columns = {'sum_mb':'sum_gb'})"
   ]
  },
  {
   "cell_type": "code",
   "execution_count": 27,
   "id": "751b0b5f",
   "metadata": {},
   "outputs": [],
   "source": [
    "data['sum_sms'] = data['sum_sms'].fillna(0)\n",
    "data['sum_calls'] = data['sum_calls'].fillna(0)"
   ]
  },
  {
   "cell_type": "code",
   "execution_count": 28,
   "id": "75572b76",
   "metadata": {},
   "outputs": [],
   "source": [
    "data['gb_per_month_included'] = data['mb_per_month_included']/1024"
   ]
  },
  {
   "cell_type": "markdown",
   "id": "2b585e9e",
   "metadata": {},
   "source": [
    "Посчитайте для каждого пользователя:\n",
    "- количество сделанных звонков и израсходованных минут разговора по месяцам;\n",
    "- количество отправленных сообщений по месяцам;\n",
    "- объем израсходованного интернет-трафика по месяцам;\n",
    "- помесячную выручку с каждого пользователя (вычтите бесплатный лимит из суммарного количества звонков, сообщений и интернет-трафика; остаток умножьте на значение из тарифного плана; прибавьте абонентскую плату, соответствующую тарифному плану).\n",
    "\n",
    "- tariff_name — название тарифа\n",
    "- rub_monthly_fee — ежемесячная абонентская плата в рублях\n",
    "- minutes_included — количество минут разговора в месяц, включённых в абонентскую плату\n",
    "- messages_included — количество сообщений в месяц, включённых в абонентскую плату\n",
    "- mb_per_month_included — объём интернет-трафика, включённого в абонентскую плату (в мегабайтах)\n",
    "- rub_per_minute — стоимость минуты разговора сверх тарифного пакета (например, если в тарифе 100 минут разговора в месяц, то со 101 минуты будет взиматься плата)\n",
    "- rub_per_message — стоимость отправки сообщения сверх тарифного пакета\n",
    "- rub_per_gb — стоимость дополнительного гигабайта интернет-трафика сверх тарифного пакета (1 гигабайт = 1024 мегабайта)"
   ]
  },
  {
   "cell_type": "code",
   "execution_count": 29,
   "id": "6219233d",
   "metadata": {
    "scrolled": true
   },
   "outputs": [
    {
     "data": {
      "text/html": [
       "<div>\n",
       "<style scoped>\n",
       "    .dataframe tbody tr th:only-of-type {\n",
       "        vertical-align: middle;\n",
       "    }\n",
       "\n",
       "    .dataframe tbody tr th {\n",
       "        vertical-align: top;\n",
       "    }\n",
       "\n",
       "    .dataframe thead th {\n",
       "        text-align: right;\n",
       "    }\n",
       "</style>\n",
       "<table border=\"1\" class=\"dataframe\">\n",
       "  <thead>\n",
       "    <tr style=\"text-align: right;\">\n",
       "      <th></th>\n",
       "      <th>user_id</th>\n",
       "      <th>age</th>\n",
       "      <th>churn_date</th>\n",
       "      <th>city</th>\n",
       "      <th>first_name</th>\n",
       "      <th>last_name</th>\n",
       "      <th>reg_date</th>\n",
       "      <th>tariff</th>\n",
       "      <th>month</th>\n",
       "      <th>sum_calls</th>\n",
       "      <th>...</th>\n",
       "      <th>messages_included</th>\n",
       "      <th>mb_per_month_included</th>\n",
       "      <th>minutes_included</th>\n",
       "      <th>rub_monthly_fee</th>\n",
       "      <th>rub_per_gb</th>\n",
       "      <th>rub_per_message</th>\n",
       "      <th>rub_per_minute</th>\n",
       "      <th>sum_gb</th>\n",
       "      <th>gb_per_month_included</th>\n",
       "      <th>revenue</th>\n",
       "    </tr>\n",
       "  </thead>\n",
       "  <tbody>\n",
       "    <tr>\n",
       "      <td>0</td>\n",
       "      <td>1000</td>\n",
       "      <td>52.0</td>\n",
       "      <td>NaN</td>\n",
       "      <td>Краснодар</td>\n",
       "      <td>Рафаил</td>\n",
       "      <td>Верещагин</td>\n",
       "      <td>2018-05-25</td>\n",
       "      <td>ultra</td>\n",
       "      <td>5.0</td>\n",
       "      <td>159.0</td>\n",
       "      <td>...</td>\n",
       "      <td>1000.0</td>\n",
       "      <td>30720.0</td>\n",
       "      <td>3000.0</td>\n",
       "      <td>1950.0</td>\n",
       "      <td>150.0</td>\n",
       "      <td>1.0</td>\n",
       "      <td>1.0</td>\n",
       "      <td>3</td>\n",
       "      <td>30.0</td>\n",
       "      <td>1950.0</td>\n",
       "    </tr>\n",
       "    <tr>\n",
       "      <td>1</td>\n",
       "      <td>1000</td>\n",
       "      <td>52.0</td>\n",
       "      <td>NaN</td>\n",
       "      <td>Краснодар</td>\n",
       "      <td>Рафаил</td>\n",
       "      <td>Верещагин</td>\n",
       "      <td>2018-05-25</td>\n",
       "      <td>ultra</td>\n",
       "      <td>6.0</td>\n",
       "      <td>172.0</td>\n",
       "      <td>...</td>\n",
       "      <td>1000.0</td>\n",
       "      <td>30720.0</td>\n",
       "      <td>3000.0</td>\n",
       "      <td>1950.0</td>\n",
       "      <td>150.0</td>\n",
       "      <td>1.0</td>\n",
       "      <td>1.0</td>\n",
       "      <td>23</td>\n",
       "      <td>30.0</td>\n",
       "      <td>1950.0</td>\n",
       "    </tr>\n",
       "    <tr>\n",
       "      <td>2</td>\n",
       "      <td>1000</td>\n",
       "      <td>52.0</td>\n",
       "      <td>NaN</td>\n",
       "      <td>Краснодар</td>\n",
       "      <td>Рафаил</td>\n",
       "      <td>Верещагин</td>\n",
       "      <td>2018-05-25</td>\n",
       "      <td>ultra</td>\n",
       "      <td>7.0</td>\n",
       "      <td>340.0</td>\n",
       "      <td>...</td>\n",
       "      <td>1000.0</td>\n",
       "      <td>30720.0</td>\n",
       "      <td>3000.0</td>\n",
       "      <td>1950.0</td>\n",
       "      <td>150.0</td>\n",
       "      <td>1.0</td>\n",
       "      <td>1.0</td>\n",
       "      <td>14</td>\n",
       "      <td>30.0</td>\n",
       "      <td>1950.0</td>\n",
       "    </tr>\n",
       "    <tr>\n",
       "      <td>3</td>\n",
       "      <td>1000</td>\n",
       "      <td>52.0</td>\n",
       "      <td>NaN</td>\n",
       "      <td>Краснодар</td>\n",
       "      <td>Рафаил</td>\n",
       "      <td>Верещагин</td>\n",
       "      <td>2018-05-25</td>\n",
       "      <td>ultra</td>\n",
       "      <td>8.0</td>\n",
       "      <td>408.0</td>\n",
       "      <td>...</td>\n",
       "      <td>1000.0</td>\n",
       "      <td>30720.0</td>\n",
       "      <td>3000.0</td>\n",
       "      <td>1950.0</td>\n",
       "      <td>150.0</td>\n",
       "      <td>1.0</td>\n",
       "      <td>1.0</td>\n",
       "      <td>14</td>\n",
       "      <td>30.0</td>\n",
       "      <td>1950.0</td>\n",
       "    </tr>\n",
       "    <tr>\n",
       "      <td>4</td>\n",
       "      <td>1000</td>\n",
       "      <td>52.0</td>\n",
       "      <td>NaN</td>\n",
       "      <td>Краснодар</td>\n",
       "      <td>Рафаил</td>\n",
       "      <td>Верещагин</td>\n",
       "      <td>2018-05-25</td>\n",
       "      <td>ultra</td>\n",
       "      <td>9.0</td>\n",
       "      <td>466.0</td>\n",
       "      <td>...</td>\n",
       "      <td>1000.0</td>\n",
       "      <td>30720.0</td>\n",
       "      <td>3000.0</td>\n",
       "      <td>1950.0</td>\n",
       "      <td>150.0</td>\n",
       "      <td>1.0</td>\n",
       "      <td>1.0</td>\n",
       "      <td>15</td>\n",
       "      <td>30.0</td>\n",
       "      <td>1950.0</td>\n",
       "    </tr>\n",
       "    <tr>\n",
       "      <td>5</td>\n",
       "      <td>1000</td>\n",
       "      <td>52.0</td>\n",
       "      <td>NaN</td>\n",
       "      <td>Краснодар</td>\n",
       "      <td>Рафаил</td>\n",
       "      <td>Верещагин</td>\n",
       "      <td>2018-05-25</td>\n",
       "      <td>ultra</td>\n",
       "      <td>10.0</td>\n",
       "      <td>350.0</td>\n",
       "      <td>...</td>\n",
       "      <td>1000.0</td>\n",
       "      <td>30720.0</td>\n",
       "      <td>3000.0</td>\n",
       "      <td>1950.0</td>\n",
       "      <td>150.0</td>\n",
       "      <td>1.0</td>\n",
       "      <td>1.0</td>\n",
       "      <td>15</td>\n",
       "      <td>30.0</td>\n",
       "      <td>1950.0</td>\n",
       "    </tr>\n",
       "    <tr>\n",
       "      <td>6</td>\n",
       "      <td>1000</td>\n",
       "      <td>52.0</td>\n",
       "      <td>NaN</td>\n",
       "      <td>Краснодар</td>\n",
       "      <td>Рафаил</td>\n",
       "      <td>Верещагин</td>\n",
       "      <td>2018-05-25</td>\n",
       "      <td>ultra</td>\n",
       "      <td>11.0</td>\n",
       "      <td>338.0</td>\n",
       "      <td>...</td>\n",
       "      <td>1000.0</td>\n",
       "      <td>30720.0</td>\n",
       "      <td>3000.0</td>\n",
       "      <td>1950.0</td>\n",
       "      <td>150.0</td>\n",
       "      <td>1.0</td>\n",
       "      <td>1.0</td>\n",
       "      <td>15</td>\n",
       "      <td>30.0</td>\n",
       "      <td>1950.0</td>\n",
       "    </tr>\n",
       "    <tr>\n",
       "      <td>7</td>\n",
       "      <td>1000</td>\n",
       "      <td>52.0</td>\n",
       "      <td>NaN</td>\n",
       "      <td>Краснодар</td>\n",
       "      <td>Рафаил</td>\n",
       "      <td>Верещагин</td>\n",
       "      <td>2018-05-25</td>\n",
       "      <td>ultra</td>\n",
       "      <td>12.0</td>\n",
       "      <td>333.0</td>\n",
       "      <td>...</td>\n",
       "      <td>1000.0</td>\n",
       "      <td>30720.0</td>\n",
       "      <td>3000.0</td>\n",
       "      <td>1950.0</td>\n",
       "      <td>150.0</td>\n",
       "      <td>1.0</td>\n",
       "      <td>1.0</td>\n",
       "      <td>10</td>\n",
       "      <td>30.0</td>\n",
       "      <td>1950.0</td>\n",
       "    </tr>\n",
       "    <tr>\n",
       "      <td>8</td>\n",
       "      <td>1001</td>\n",
       "      <td>41.0</td>\n",
       "      <td>NaN</td>\n",
       "      <td>Москва</td>\n",
       "      <td>Иван</td>\n",
       "      <td>Ежов</td>\n",
       "      <td>2018-11-01</td>\n",
       "      <td>smart</td>\n",
       "      <td>11.0</td>\n",
       "      <td>430.0</td>\n",
       "      <td>...</td>\n",
       "      <td>50.0</td>\n",
       "      <td>15360.0</td>\n",
       "      <td>500.0</td>\n",
       "      <td>550.0</td>\n",
       "      <td>200.0</td>\n",
       "      <td>3.0</td>\n",
       "      <td>3.0</td>\n",
       "      <td>18</td>\n",
       "      <td>15.0</td>\n",
       "      <td>1150.0</td>\n",
       "    </tr>\n",
       "    <tr>\n",
       "      <td>9</td>\n",
       "      <td>1001</td>\n",
       "      <td>41.0</td>\n",
       "      <td>NaN</td>\n",
       "      <td>Москва</td>\n",
       "      <td>Иван</td>\n",
       "      <td>Ежов</td>\n",
       "      <td>2018-11-01</td>\n",
       "      <td>smart</td>\n",
       "      <td>12.0</td>\n",
       "      <td>414.0</td>\n",
       "      <td>...</td>\n",
       "      <td>50.0</td>\n",
       "      <td>15360.0</td>\n",
       "      <td>500.0</td>\n",
       "      <td>550.0</td>\n",
       "      <td>200.0</td>\n",
       "      <td>3.0</td>\n",
       "      <td>3.0</td>\n",
       "      <td>14</td>\n",
       "      <td>15.0</td>\n",
       "      <td>550.0</td>\n",
       "    </tr>\n",
       "  </tbody>\n",
       "</table>\n",
       "<p>10 rows × 21 columns</p>\n",
       "</div>"
      ],
      "text/plain": [
       "   user_id   age churn_date       city first_name  last_name    reg_date  \\\n",
       "0     1000  52.0        NaN  Краснодар     Рафаил  Верещагин  2018-05-25   \n",
       "1     1000  52.0        NaN  Краснодар     Рафаил  Верещагин  2018-05-25   \n",
       "2     1000  52.0        NaN  Краснодар     Рафаил  Верещагин  2018-05-25   \n",
       "3     1000  52.0        NaN  Краснодар     Рафаил  Верещагин  2018-05-25   \n",
       "4     1000  52.0        NaN  Краснодар     Рафаил  Верещагин  2018-05-25   \n",
       "5     1000  52.0        NaN  Краснодар     Рафаил  Верещагин  2018-05-25   \n",
       "6     1000  52.0        NaN  Краснодар     Рафаил  Верещагин  2018-05-25   \n",
       "7     1000  52.0        NaN  Краснодар     Рафаил  Верещагин  2018-05-25   \n",
       "8     1001  41.0        NaN     Москва       Иван       Ежов  2018-11-01   \n",
       "9     1001  41.0        NaN     Москва       Иван       Ежов  2018-11-01   \n",
       "\n",
       "  tariff  month  sum_calls  ...  messages_included  mb_per_month_included  \\\n",
       "0  ultra    5.0      159.0  ...             1000.0                30720.0   \n",
       "1  ultra    6.0      172.0  ...             1000.0                30720.0   \n",
       "2  ultra    7.0      340.0  ...             1000.0                30720.0   \n",
       "3  ultra    8.0      408.0  ...             1000.0                30720.0   \n",
       "4  ultra    9.0      466.0  ...             1000.0                30720.0   \n",
       "5  ultra   10.0      350.0  ...             1000.0                30720.0   \n",
       "6  ultra   11.0      338.0  ...             1000.0                30720.0   \n",
       "7  ultra   12.0      333.0  ...             1000.0                30720.0   \n",
       "8  smart   11.0      430.0  ...               50.0                15360.0   \n",
       "9  smart   12.0      414.0  ...               50.0                15360.0   \n",
       "\n",
       "   minutes_included  rub_monthly_fee  rub_per_gb  rub_per_message  \\\n",
       "0            3000.0           1950.0       150.0              1.0   \n",
       "1            3000.0           1950.0       150.0              1.0   \n",
       "2            3000.0           1950.0       150.0              1.0   \n",
       "3            3000.0           1950.0       150.0              1.0   \n",
       "4            3000.0           1950.0       150.0              1.0   \n",
       "5            3000.0           1950.0       150.0              1.0   \n",
       "6            3000.0           1950.0       150.0              1.0   \n",
       "7            3000.0           1950.0       150.0              1.0   \n",
       "8             500.0            550.0       200.0              3.0   \n",
       "9             500.0            550.0       200.0              3.0   \n",
       "\n",
       "   rub_per_minute  sum_gb  gb_per_month_included  revenue  \n",
       "0             1.0       3                   30.0   1950.0  \n",
       "1             1.0      23                   30.0   1950.0  \n",
       "2             1.0      14                   30.0   1950.0  \n",
       "3             1.0      14                   30.0   1950.0  \n",
       "4             1.0      15                   30.0   1950.0  \n",
       "5             1.0      15                   30.0   1950.0  \n",
       "6             1.0      15                   30.0   1950.0  \n",
       "7             1.0      10                   30.0   1950.0  \n",
       "8             3.0      18                   15.0   1150.0  \n",
       "9             3.0      14                   15.0    550.0  \n",
       "\n",
       "[10 rows x 21 columns]"
      ]
     },
     "metadata": {},
     "output_type": "display_data"
    }
   ],
   "source": [
    "def revenue (row):\n",
    "    sms = (row ['sum_sms'] - row['messages_included'])*row['rub_per_message']\n",
    "    calls = (row ['sum_calls'] - row['minutes_included'])*row['rub_per_minute']\n",
    "    internet = (row ['sum_gb'] - row['gb_per_month_included'])*row['rub_per_gb']\n",
    "    total = 0\n",
    "    for i in [sms,calls,internet]:\n",
    "        if i>0:\n",
    "            total += i\n",
    "    total +=  row['rub_monthly_fee']\n",
    "    return total\n",
    "data['revenue'] = data.apply(revenue,axis = 1)\n",
    "display (data.head (10))"
   ]
  },
  {
   "cell_type": "code",
   "execution_count": 30,
   "id": "674647ec",
   "metadata": {},
   "outputs": [
    {
     "data": {
      "text/plain": [
       "user_id                     0\n",
       "age                        40\n",
       "churn_date               3033\n",
       "city                       40\n",
       "first_name                 40\n",
       "last_name                  40\n",
       "reg_date                   40\n",
       "tariff                     40\n",
       "month                       8\n",
       "sum_calls                   0\n",
       "sum_sms                     0\n",
       "messages_included          40\n",
       "mb_per_month_included      40\n",
       "minutes_included           40\n",
       "rub_monthly_fee            40\n",
       "rub_per_gb                 40\n",
       "rub_per_message            40\n",
       "rub_per_minute             40\n",
       "sum_gb                      0\n",
       "gb_per_month_included      40\n",
       "revenue                    40\n",
       "dtype: int64"
      ]
     },
     "execution_count": 30,
     "metadata": {},
     "output_type": "execute_result"
    }
   ],
   "source": [
    "data.isna().sum()"
   ]
  },
  {
   "cell_type": "markdown",
   "id": "1299d904",
   "metadata": {},
   "source": [
    "<div class=\"alert alert-info\" role=\"alert\">\n",
    "    удалим колонку churn_date, т.к. в ней много пропусков и она не нужна для исследования"
   ]
  },
  {
   "cell_type": "code",
   "execution_count": 31,
   "id": "2455aa27",
   "metadata": {},
   "outputs": [],
   "source": [
    "data = data.drop(columns = ['churn_date'],axis = 1,inplace = True) "
   ]
  },
  {
   "cell_type": "markdown",
   "id": "7c71bca5",
   "metadata": {},
   "source": [
    "<div class=\"alert alert-info\" role=\"alert\">\n",
    "     Если значение равно нулю или будет отрицательным, то это значит, что пользователь не перерасходовал лимит своего тарифа и оплачивает только абоненскую плату."
   ]
  },
  {
   "cell_type": "markdown",
   "id": "391efc0b",
   "metadata": {},
   "source": [
    "### 3.Анализ данных"
   ]
  },
  {
   "cell_type": "markdown",
   "id": "8dc2faeb",
   "metadata": {},
   "source": [
    "Опишите поведение клиентов оператора, исходя из выборки. Сколько минут разговора, сколько сообщений и какой объём интернет-трафика требуется пользователям каждого тарифа в месяц? Посчитайте среднее количество, дисперсию и стандартное отклонение. Постройте гистограммы. Опишите распределения."
   ]
  },
  {
   "cell_type": "markdown",
   "id": "a4e1ff68",
   "metadata": {},
   "source": [
    "Сделаем сводную таблицу по тарифам и посчитаем дисперсию, среднее количество и стандатрное отклонение для каждого показателя"
   ]
  },
  {
   "cell_type": "code",
   "execution_count": 32,
   "id": "4bfc802a",
   "metadata": {},
   "outputs": [
    {
     "data": {
      "text/html": [
       "<div>\n",
       "<style scoped>\n",
       "    .dataframe tbody tr th:only-of-type {\n",
       "        vertical-align: middle;\n",
       "    }\n",
       "\n",
       "    .dataframe tbody tr th {\n",
       "        vertical-align: top;\n",
       "    }\n",
       "\n",
       "    .dataframe thead tr th {\n",
       "        text-align: left;\n",
       "    }\n",
       "\n",
       "    .dataframe thead tr:last-of-type th {\n",
       "        text-align: right;\n",
       "    }\n",
       "</style>\n",
       "<table border=\"1\" class=\"dataframe\">\n",
       "  <thead>\n",
       "    <tr>\n",
       "      <th></th>\n",
       "      <th colspan=\"3\" halign=\"left\">mean</th>\n",
       "      <th colspan=\"3\" halign=\"left\">var</th>\n",
       "      <th colspan=\"3\" halign=\"left\">std</th>\n",
       "    </tr>\n",
       "    <tr>\n",
       "      <th></th>\n",
       "      <th>sum_calls</th>\n",
       "      <th>sum_gb</th>\n",
       "      <th>sum_sms</th>\n",
       "      <th>sum_calls</th>\n",
       "      <th>sum_gb</th>\n",
       "      <th>sum_sms</th>\n",
       "      <th>sum_calls</th>\n",
       "      <th>sum_gb</th>\n",
       "      <th>sum_sms</th>\n",
       "    </tr>\n",
       "    <tr>\n",
       "      <th>tariff</th>\n",
       "      <th></th>\n",
       "      <th></th>\n",
       "      <th></th>\n",
       "      <th></th>\n",
       "      <th></th>\n",
       "      <th></th>\n",
       "      <th></th>\n",
       "      <th></th>\n",
       "      <th></th>\n",
       "    </tr>\n",
       "  </thead>\n",
       "  <tbody>\n",
       "    <tr>\n",
       "      <td>smart</td>\n",
       "      <td>419.0</td>\n",
       "      <td>16.0</td>\n",
       "      <td>33.0</td>\n",
       "      <td>35970.0</td>\n",
       "      <td>33.0</td>\n",
       "      <td>799.0</td>\n",
       "      <td>190.0</td>\n",
       "      <td>6.0</td>\n",
       "      <td>28.0</td>\n",
       "    </tr>\n",
       "    <tr>\n",
       "      <td>ultra</td>\n",
       "      <td>542.0</td>\n",
       "      <td>19.0</td>\n",
       "      <td>49.0</td>\n",
       "      <td>95468.0</td>\n",
       "      <td>100.0</td>\n",
       "      <td>2200.0</td>\n",
       "      <td>309.0</td>\n",
       "      <td>10.0</td>\n",
       "      <td>47.0</td>\n",
       "    </tr>\n",
       "  </tbody>\n",
       "</table>\n",
       "</div>"
      ],
      "text/plain": [
       "            mean                      var                      std         \\\n",
       "       sum_calls sum_gb sum_sms sum_calls sum_gb sum_sms sum_calls sum_gb   \n",
       "tariff                                                                      \n",
       "smart      419.0   16.0    33.0   35970.0   33.0   799.0     190.0    6.0   \n",
       "ultra      542.0   19.0    49.0   95468.0  100.0  2200.0     309.0   10.0   \n",
       "\n",
       "                \n",
       "       sum_sms  \n",
       "tariff          \n",
       "smart     28.0  \n",
       "ultra     47.0  "
      ]
     },
     "metadata": {},
     "output_type": "display_data"
    }
   ],
   "source": [
    "data_analis = data.pivot_table(index = 'tariff', \n",
    "                 values= ['sum_sms','sum_calls','sum_gb'], \n",
    "                 aggfunc= ['mean', 'var','std'])\n",
    "display (data_analis.round().head())"
   ]
  },
  {
   "cell_type": "markdown",
   "id": "1ef0196e",
   "metadata": {},
   "source": [
    "<div class=\"alert alert-info\" role=\"alert\">\n",
    "    Так как дисперсии сильно отличаются,то в стат. анализе будет выбирать параметр  equal_var =  False"
   ]
  },
  {
   "cell_type": "markdown",
   "id": "7c1bc840",
   "metadata": {},
   "source": [
    "Сделаем выборку по тарифам Смарт и Ультра "
   ]
  },
  {
   "cell_type": "code",
   "execution_count": 33,
   "id": "b279c42d",
   "metadata": {},
   "outputs": [],
   "source": [
    "data_ultra = data.query ('tariff == \"ultra\"')"
   ]
  },
  {
   "cell_type": "code",
   "execution_count": 34,
   "id": "ebc74243",
   "metadata": {},
   "outputs": [],
   "source": [
    "data_smart = data.query ('tariff == \"smart\"')"
   ]
  },
  {
   "cell_type": "code",
   "execution_count": 35,
   "id": "002ee485",
   "metadata": {},
   "outputs": [],
   "source": [
    "#data_smart_month = data_smart.pivot_table(index = ['month'],\n",
    "                                           #values = ['sum_sms','sum_calls','sum_gb'],\n",
    "                                           #aggfunc = 'sum').reset_index()"
   ]
  },
  {
   "cell_type": "markdown",
   "id": "069ca840",
   "metadata": {},
   "source": [
    "Построим гисторграммы использования услуг в тарифах Смарт и Ультра"
   ]
  },
  {
   "cell_type": "code",
   "execution_count": 36,
   "id": "7adc079d",
   "metadata": {},
   "outputs": [
    {
     "data": {
      "image/png": "[encoded data removed]",
      "text/plain": [
       "<Figure size 864x432 with 1 Axes>"
      ]
     },
     "metadata": {
      "needs_background": "light"
     },
     "output_type": "display_data"
    }
   ],
   "source": [
    "ax = (data_ultra.plot(kind = 'hist', y = 'sum_sms',\n",
    "                          histtype = 'step',\n",
    "                          linewidth = 3,\n",
    "                          legend = True,\n",
    "                          label ='sms_uitra',\n",
    "                      grid = True, figsize = (12,6), bins = 25\n",
    "                      \n",
    "                          )\n",
    "         )\n",
    "(         data_smart.plot(kind = 'hist', y = 'sum_sms',\n",
    "                                ax = ax,\n",
    "                                alpha = 0.3,\n",
    "                                legend = True,\n",
    "                                label ='sms_smart',\n",
    "                                title = 'sms_ultra_smart',\n",
    "                          grid = True, figsize = (12,6), bins = 25, color='skyblue'\n",
    "                          )\n",
    ");"
   ]
  },
  {
   "cell_type": "markdown",
   "id": "1388fdfc",
   "metadata": {},
   "source": [
    "По гистограммам мы видим, что пользователи тарифа Смарт гораздо более активно используют смс сообщения в обьеме от нуля до 100 в пакете, тогда как на тарифе Ультра есть доля пользоваталей, которые отправляют более 150 смс в месяц. Однако на. тарифе Смарт гораздо больше пользоватлей, которые не пользуются смс вовсе (первый скачок на диаграмме у нуля). "
   ]
  },
  {
   "cell_type": "code",
   "execution_count": 37,
   "id": "f3016c86",
   "metadata": {},
   "outputs": [
    {
     "data": {
      "image/png": "[encoded data removed]",
      "text/plain": [
       "<Figure size 864x432 with 1 Axes>"
      ]
     },
     "metadata": {
      "needs_background": "light"
     },
     "output_type": "display_data"
    }
   ],
   "source": [
    "ax = (data_ultra.plot(kind = 'hist', y = 'sum_calls',\n",
    "                          histtype = 'step',\n",
    "                          linewidth = 3,\n",
    "                          legend = True,\n",
    "                          label ='calls_uitra',\n",
    "                      grid = True, figsize = (12,6), bins = 25\n",
    "                      \n",
    "                          )\n",
    "         )\n",
    "(         data_smart.plot(kind = 'hist', y = 'sum_calls',\n",
    "                                ax = ax,\n",
    "                                alpha = 0.3,\n",
    "                                legend = True,\n",
    "                                label ='calls_smart',\n",
    "                                title = 'calls_ultra_smart',\n",
    "                          grid = True, figsize = (12,6), bins = 25, color='skyblue'\n",
    "                          )\n",
    ");"
   ]
  },
  {
   "cell_type": "markdown",
   "id": "9446e2be",
   "metadata": {},
   "source": [
    "Пользоватлеи тарифа Смарт звонят гораздо активнее пользователей тарифа Ультра. Порядка 250 пользователей совершает треть всех звонков на этом тарифе. "
   ]
  },
  {
   "cell_type": "code",
   "execution_count": 38,
   "id": "f5efc44e",
   "metadata": {},
   "outputs": [
    {
     "data": {
      "image/png": "[encoded data removed]",
      "text/plain": [
       "<Figure size 864x432 with 1 Axes>"
      ]
     },
     "metadata": {
      "needs_background": "light"
     },
     "output_type": "display_data"
    }
   ],
   "source": [
    "ax = (data_ultra.plot(kind = 'hist', y = 'sum_gb',\n",
    "                          histtype = 'step',\n",
    "                          linewidth = 3,\n",
    "                          legend = True,\n",
    "                          label ='gb_uitra',\n",
    "                      grid = True, figsize = (12,6), bins = 25\n",
    "                      \n",
    "                          )\n",
    "         )\n",
    "(         data_smart.plot(kind = 'hist', y = 'sum_gb',\n",
    "                                ax = ax,\n",
    "                                alpha = 0.3,\n",
    "                                legend = True,\n",
    "                                label ='gb_smart',\n",
    "                                title = 'gb_ultra_smart',\n",
    "                          grid = True, figsize = (12,6), bins = 25, color='skyblue'\n",
    "                          )\n",
    ");"
   ]
  },
  {
   "cell_type": "markdown",
   "id": "cdb2c3c8",
   "metadata": {},
   "source": [
    "Пользователи тарифа Смарт неравномерно используют интернет. На графике видны скачки от 10 до 22 гб интернета. Возможно эти скачки обьясняются системой пакетов поставки интернета пользователю и многие пользователи не покупают следующий пакет, когда предыдущий закончился. На тарифе Ультра все равномерно и стабильно)"
   ]
  },
  {
   "cell_type": "markdown",
   "id": "1383d92f",
   "metadata": {},
   "source": [
    "### 4.Проверка гипотез"
   ]
  },
  {
   "cell_type": "markdown",
   "id": "b293f336",
   "metadata": {},
   "source": [
    "- средняя выручка пользователей тарифов «Ультра» и «Смарт» различаются;\n",
    "- средняя выручка пользователи из Москвы отличается от выручки пользователей из других регионов.\n",
    "- Пороговое значение alpha задайте самостоятельно.\n",
    "Поясните:\n",
    "- как вы формулировали нулевую и альтернативную гипотезы;\n",
    "- какой критерий использовали для проверки гипотез и почему."
   ]
  },
  {
   "cell_type": "markdown",
   "id": "0a540f70",
   "metadata": {},
   "source": [
    "#### Нулевая гипотеза: средние значения выручки генеральных совокупностей от тарифов «Ультра» и «Смарт» равны. \n",
    "#### Альтернативная гипотеза: среднее значение выручки генеральных совокупностей тарифов не равны (будем делать двухстороннюю проверку).\n",
    "Нулевая гипотеза формируется из равенства параметров, а альтернативная относильно ее. "
   ]
  },
  {
   "cell_type": "code",
   "execution_count": 39,
   "id": "157ebc2c",
   "metadata": {},
   "outputs": [
    {
     "name": "stdout",
     "output_type": "stream",
     "text": [
      "Стандартное отклонение выручки_ultra: 378.3514863127655\n",
      "Стандартное отклонение выручки_smart: 819.0525887092329\n"
     ]
    }
   ],
   "source": [
    "std_ultra = np.std (data_ultra['revenue'],ddof = 1)\n",
    "print('Стандартное отклонение выручки_ultra:',std_ultra)\n",
    "std_smart = np.std (data_smart['revenue'],ddof = 1)\n",
    "print('Стандартное отклонение выручки_smart:',std_smart)\n"
   ]
  },
  {
   "cell_type": "code",
   "execution_count": 40,
   "id": "e694d001",
   "metadata": {},
   "outputs": [
    {
     "name": "stdout",
     "output_type": "stream",
     "text": [
      "p-значение:  2.796424815525196e-246\n",
      "Отвергаем нулевую гипотезу\n"
     ]
    }
   ],
   "source": [
    "sample_1 = data_ultra['revenue'] # данные по выручке тарифа Ультра\n",
    "sample_2 = data_smart['revenue'] # данные по выручке тарифа Смарт\n",
    "\n",
    "alpha = .05 #выберем альфа 5%\n",
    "results = st.ttest_ind(sample_1, sample_2, equal_var = False)\n",
    "print('p-значение: ', results.pvalue)\n",
    "\n",
    "if results.pvalue < alpha:\n",
    "    print ('Отвергаем нулевую гипотезу')\n",
    "else:\n",
    "    print ('Не отвергаем нулевую гипотезу')"
   ]
  },
  {
   "cell_type": "markdown",
   "id": "b8ba647a",
   "metadata": {},
   "source": [
    "Вывод: Выручки тарифов Смарт и Ультра не равны"
   ]
  },
  {
   "cell_type": "markdown",
   "id": "0d539638",
   "metadata": {},
   "source": [
    "#### Нулевая гипотеза: средние значения выручки генеральных совокупностей от тарифов «Ультра» и «Смарт» в Москве и регионах равны. \n",
    "#### Альтернативная гипотеза: среднее значение выручки генеральных совокупностей тарифов не равны (будем делать двухстороннюю проверку)."
   ]
  },
  {
   "cell_type": "code",
   "execution_count": 41,
   "id": "a9dc5c2b",
   "metadata": {},
   "outputs": [
    {
     "data": {
      "text/plain": [
       "user_id                   0\n",
       "age                      40\n",
       "city                     40\n",
       "first_name               40\n",
       "last_name                40\n",
       "reg_date                 40\n",
       "tariff                   40\n",
       "month                     8\n",
       "sum_calls                 0\n",
       "sum_sms                   0\n",
       "messages_included        40\n",
       "mb_per_month_included    40\n",
       "minutes_included         40\n",
       "rub_monthly_fee          40\n",
       "rub_per_gb               40\n",
       "rub_per_message          40\n",
       "rub_per_minute           40\n",
       "sum_gb                    0\n",
       "gb_per_month_included    40\n",
       "revenue                  40\n",
       "dtype: int64"
      ]
     },
     "execution_count": 41,
     "metadata": {},
     "output_type": "execute_result"
    }
   ],
   "source": [
    "data.isna().sum()"
   ]
  },
  {
   "cell_type": "code",
   "execution_count": 42,
   "id": "4d73aa35",
   "metadata": {},
   "outputs": [],
   "source": [
    "data = data.dropna(subset=['revenue', 'city'])"
   ]
  },
  {
   "cell_type": "code",
   "execution_count": 43,
   "id": "66218ee7",
   "metadata": {},
   "outputs": [
    {
     "name": "stdout",
     "output_type": "stream",
     "text": [
      "p-значение:  0.4452390325541491\n",
      "Не отвергаем нулевую гипотезу\n"
     ]
    }
   ],
   "source": [
    "from scipy import stats as st\n",
    "sample_3 = data[data['city']!= 'Москва']['revenue']\n",
    "sample_4 = data[data['city'] == 'Москва']['revenue'] \n",
    "\n",
    "alpha = .05 #выберем альфа 5%\n",
    "results = st.ttest_ind(sample_3, sample_4, equal_var =  False)\n",
    "# equal_var - считать ли равными дисперсии выборок, по умолчанию имеет значение False\n",
    "print('p-значение: ', results.pvalue)\n",
    "\n",
    "if results.pvalue < alpha:\n",
    "    print ('Отвергаем нулевую гипотезу')\n",
    "else:\n",
    "    print ('Не отвергаем нулевую гипотезу')"
   ]
  },
  {
   "cell_type": "markdown",
   "id": "569c5c13",
   "metadata": {},
   "source": [
    "Вывод: Средняя выручка в Москве и регионах на двух тарифах равна"
   ]
  },
  {
   "cell_type": "code",
   "execution_count": 44,
   "id": "55987236",
   "metadata": {},
   "outputs": [
    {
     "data": {
      "image/png": "[encoded data removed]",
      "text/plain": [
       "<Figure size 864x288 with 1 Axes>"
      ]
     },
     "metadata": {
      "needs_background": "light"
     },
     "output_type": "display_data"
    }
   ],
   "source": [
    "ax = (sample_3.plot(kind = 'hist', y = 'revenue',\n",
    "                          histtype = 'step',\n",
    "                          linewidth = 3,\n",
    "                          legend = True,\n",
    "                          label ='regions',\n",
    "                      grid = True, figsize = (12,4), bins = 25, color='green'\n",
    "                      \n",
    "                          )\n",
    "         )\n",
    "(        sample_4.plot(kind = 'hist', y = 'revenue',\n",
    "                                ax = ax,\n",
    "                                alpha = 0.7,\n",
    "                                legend = True,\n",
    "                                label ='Moscow',\n",
    "                                title = 'tafiff_Moscow_region',\n",
    "                          grid = True, figsize = (12,4), bins = 25, color='red'\n",
    "                          )\n",
    ");"
   ]
  },
  {
   "cell_type": "code",
   "execution_count": 45,
   "id": "6132c289",
   "metadata": {},
   "outputs": [
    {
     "data": {
      "image/png": "[encoded data removed]",
      "text/plain": [
       "<Figure size 1152x432 with 1 Axes>"
      ]
     },
     "metadata": {
      "needs_background": "light"
     },
     "output_type": "display_data"
    }
   ],
   "source": [
    "ax = (sample_1.plot(kind = 'hist', y = 'revenue',\n",
    "                          histtype = 'step',\n",
    "                          linewidth = 3,\n",
    "                          legend = True,\n",
    "                          label ='ultra',\n",
    "                      grid = True, figsize = (16,6), bins = 25\n",
    "                      \n",
    "                          )\n",
    "         )\n",
    "(        sample_2.plot(kind = 'hist', y = 'revenue',\n",
    "                                ax = ax,\n",
    "                                alpha = 0.3,\n",
    "                                legend = True,\n",
    "                                label ='smart',\n",
    "                                title = 'ultra_smart_revenue',\n",
    "                          grid = True, figsize = (16,6), bins = 25, color='skyblue'\n",
    "                          )\n",
    ");"
   ]
  },
  {
   "cell_type": "markdown",
   "id": "f879450a",
   "metadata": {},
   "source": [
    "<div class=\"alert alert-info\" role=\"alert\">\n",
    "    По графику выручки видно, что у тарифа Cмарт суммарная выручка больше от продажи стандартного пакета, чем на тарифе Ультра (столбик, указывающий на количество выручки за счет покупки стандартного пакета). \n",
    "    Кроме этого на тарифе Смарт гораздо больше пользотвателей выходят за рамки стандартного пакета и покупают дополнительные услуги.  Последующая сортировка по выручке показала, что даже самый прибыльный для компании пользователь использует тариф Смарт. Пользователь потратил 6770 рублей за месяц. "
   ]
  },
  {
   "cell_type": "code",
   "execution_count": 46,
   "id": "97f78729",
   "metadata": {},
   "outputs": [
    {
     "data": {
      "text/plain": [
       "784     4800.0\n",
       "1503    4650.0\n",
       "1601    4200.0\n",
       "1888    4050.0\n",
       "1150    3900.0\n",
       "         ...  \n",
       "2182    1950.0\n",
       "2181    1950.0\n",
       "2180    1950.0\n",
       "2179    1950.0\n",
       "0       1950.0\n",
       "Name: revenue, Length: 957, dtype: float64"
      ]
     },
     "execution_count": 46,
     "metadata": {},
     "output_type": "execute_result"
    }
   ],
   "source": [
    "data_ultra['revenue'].sort_values(ascending = False)"
   ]
  },
  {
   "cell_type": "code",
   "execution_count": 47,
   "id": "b726f1e7",
   "metadata": {},
   "outputs": [
    {
     "data": {
      "text/plain": [
       "3113    6770.0\n",
       "260     5709.0\n",
       "3112    5680.0\n",
       "1626    5672.0\n",
       "1797    5321.0\n",
       "         ...  \n",
       "2052     550.0\n",
       "2057     550.0\n",
       "2059     550.0\n",
       "2063     550.0\n",
       "1106     550.0\n",
       "Name: revenue, Length: 2225, dtype: float64"
      ]
     },
     "execution_count": 47,
     "metadata": {},
     "output_type": "execute_result"
    }
   ],
   "source": [
    "data_smart['revenue'].sort_values(ascending = False)"
   ]
  },
  {
   "cell_type": "markdown",
   "id": "6728a422",
   "metadata": {},
   "source": [
    "### 5.Общий вывод"
   ]
  },
  {
   "cell_type": "markdown",
   "id": "b6fb04f7",
   "metadata": {},
   "source": [
    "После анализа тарифов Ультра и Смарт мы видим следующую картину: \n",
    "\n",
    "1. Смс на тарифе Смарт видно большое количетсво пользователей, которые не используют смс вовсе. Их больше, чем на тарифе Ультра. Однако в рамках диапазао 0-100 смс в месяц бользователи тарифа Смарт гораздо более активны, чем пользователи тарифа Ультра. \n",
    "2. Звонков на тарифе Смарт значитель больше, чем на тарифе Ультра. На тарифе Ультра есть пользователи, которые говорят более 1000 минут в месяц.  На тарифе Смарт такиех пользователей уже нет\n",
    "3. Интернет на тарифе Смарт используется чаще и в бОльших обьмемах, чем на тарифе Ультра. Можно также сказать, что на тарифе Смарт используются пакеты продления интернета. Этим обуславливаются скачки на диаграмме Смарта\n",
    "4. Выручка. Очевидным выводом из вышеописанной сиутации с смс, звонками и интерентом является более высокая выручка на тарифе Смарт. Тариф Ультра больше используют пользоватли, которые не используют дополнительные услуги за рамками начальных тарифов. Это обуславливается тем, что на этом тарифе начальные условия значительно больше Смарта (Включено 3000 минут разговора, 1000 сообщений и 30 Гб интернет-трафика)\n",
    "5. Тариф ультра используется в регионах в рамках стандартного пакета в значительно большей степени (примерно в 3 раза), чем в Москве. За рамками пакета небольшая группа пользователей использует тариф Ультра в Москве и регионах примерно в одинаковом количестве\n",
    "6. Тариф Смарт гораздо более активно распространен в регионах, чем Ультра. Выручка тарифа по регионам выше, чем выручка по Москве. В регионах также достаточно много пользователей, которые исопльзуют тариф в рамках станадартного (базового пакета). \n",
    "\n",
    "\n"
   ]
  },
  {
   "cell_type": "markdown",
   "id": "c6a925a4",
   "metadata": {},
   "source": [
    "### 5.Рекоммендации"
   ]
  },
  {
   "cell_type": "markdown",
   "id": "e3fd4caa",
   "metadata": {},
   "source": [
    "Согласно результам исследования для тарифа компании для Мегалайн будет выгодно развитие тарифа Смарт в регионах и маркт. бюджет следует направить в эту область.\n",
    "А на тарифе Ультра следует пересмотреть стандартный пакет, сделать его более гибким, позволить пользователю конвернтации остатка пакета (минуты в гб и наоборот). Также для Ультры следует добавить. гибкие возможности роуминга, это привлечет пользователей из Москвы,  которые часто путешествую и используюет большие пакеты интернета.  "
   ]
  }
 ],
 "metadata": {
  "ExecuteTimeLog": [
   {
    "duration": 575,
    "start_time": "2022-03-02T08:20:35.170Z"
   },
   {
    "duration": 2,
    "start_time": "2022-03-02T08:20:35.747Z"
   },
   {
    "duration": 79,
    "start_time": "2022-03-02T08:20:35.751Z"
   },
   {
    "duration": 2,
    "start_time": "2022-03-02T08:20:35.832Z"
   },
   {
    "duration": 1425,
    "start_time": "2022-03-02T08:20:35.836Z"
   },
   {
    "duration": -121,
    "start_time": "2022-03-02T08:20:37.385Z"
   },
   {
    "duration": -129,
    "start_time": "2022-03-02T08:20:37.394Z"
   },
   {
    "duration": -135,
    "start_time": "2022-03-02T08:20:37.401Z"
   },
   {
    "duration": -141,
    "start_time": "2022-03-02T08:20:37.408Z"
   },
   {
    "duration": -151,
    "start_time": "2022-03-02T08:20:37.419Z"
   },
   {
    "duration": -163,
    "start_time": "2022-03-02T08:20:37.432Z"
   },
   {
    "duration": -169,
    "start_time": "2022-03-02T08:20:37.439Z"
   },
   {
    "duration": -179,
    "start_time": "2022-03-02T08:20:37.450Z"
   },
   {
    "duration": -185,
    "start_time": "2022-03-02T08:20:37.457Z"
   },
   {
    "duration": -196,
    "start_time": "2022-03-02T08:20:37.469Z"
   },
   {
    "duration": -200,
    "start_time": "2022-03-02T08:20:37.474Z"
   },
   {
    "duration": -210,
    "start_time": "2022-03-02T08:20:37.485Z"
   },
   {
    "duration": -221,
    "start_time": "2022-03-02T08:20:37.497Z"
   },
   {
    "duration": -227,
    "start_time": "2022-03-02T08:20:37.504Z"
   },
   {
    "duration": -237,
    "start_time": "2022-03-02T08:20:37.515Z"
   },
   {
    "duration": -243,
    "start_time": "2022-03-02T08:20:37.522Z"
   },
   {
    "duration": -284,
    "start_time": "2022-03-02T08:20:37.564Z"
   },
   {
    "duration": -289,
    "start_time": "2022-03-02T08:20:37.570Z"
   },
   {
    "duration": -300,
    "start_time": "2022-03-02T08:20:37.582Z"
   },
   {
    "duration": -305,
    "start_time": "2022-03-02T08:20:37.588Z"
   },
   {
    "duration": -316,
    "start_time": "2022-03-02T08:20:37.600Z"
   },
   {
    "duration": -323,
    "start_time": "2022-03-02T08:20:37.608Z"
   },
   {
    "duration": -335,
    "start_time": "2022-03-02T08:20:37.620Z"
   },
   {
    "duration": -347,
    "start_time": "2022-03-02T08:20:37.633Z"
   },
   {
    "duration": -352,
    "start_time": "2022-03-02T08:20:37.639Z"
   },
   {
    "duration": -363,
    "start_time": "2022-03-02T08:20:37.651Z"
   },
   {
    "duration": -368,
    "start_time": "2022-03-02T08:20:37.657Z"
   },
   {
    "duration": -377,
    "start_time": "2022-03-02T08:20:37.667Z"
   },
   {
    "duration": -383,
    "start_time": "2022-03-02T08:20:37.674Z"
   },
   {
    "duration": -394,
    "start_time": "2022-03-02T08:20:37.685Z"
   },
   {
    "duration": -398,
    "start_time": "2022-03-02T08:20:37.690Z"
   },
   {
    "duration": -408,
    "start_time": "2022-03-02T08:20:37.701Z"
   },
   {
    "duration": -414,
    "start_time": "2022-03-02T08:20:37.708Z"
   },
   {
    "duration": -423,
    "start_time": "2022-03-02T08:20:37.718Z"
   },
   {
    "duration": -429,
    "start_time": "2022-03-02T08:20:37.724Z"
   },
   {
    "duration": -440,
    "start_time": "2022-03-02T08:20:37.736Z"
   },
   {
    "duration": -450,
    "start_time": "2022-03-02T08:20:37.747Z"
   },
   {
    "duration": -455,
    "start_time": "2022-03-02T08:20:37.753Z"
   },
   {
    "duration": -466,
    "start_time": "2022-03-02T08:20:37.765Z"
   },
   {
    "duration": -472,
    "start_time": "2022-03-02T08:20:37.772Z"
   },
   {
    "duration": -482,
    "start_time": "2022-03-02T08:20:37.783Z"
   },
   {
    "duration": -489,
    "start_time": "2022-03-02T08:20:37.790Z"
   },
   {
    "duration": -499,
    "start_time": "2022-03-02T08:20:37.801Z"
   },
   {
    "duration": 139,
    "start_time": "2022-03-02T08:22:10.864Z"
   },
   {
    "duration": 2,
    "start_time": "2022-03-02T08:22:37.488Z"
   },
   {
    "duration": 10,
    "start_time": "2022-03-02T08:22:37.495Z"
   },
   {
    "duration": 5,
    "start_time": "2022-03-02T08:22:37.507Z"
   },
   {
    "duration": 4,
    "start_time": "2022-03-02T08:22:37.514Z"
   },
   {
    "duration": 157,
    "start_time": "2022-03-02T08:22:37.520Z"
   },
   {
    "duration": 102,
    "start_time": "2022-03-02T08:22:37.679Z"
   },
   {
    "duration": 20,
    "start_time": "2022-03-02T08:22:37.783Z"
   },
   {
    "duration": 21,
    "start_time": "2022-03-02T08:22:37.804Z"
   },
   {
    "duration": 166,
    "start_time": "2022-03-02T08:22:37.827Z"
   },
   {
    "duration": 69,
    "start_time": "2022-03-02T08:22:37.995Z"
   },
   {
    "duration": 65,
    "start_time": "2022-03-02T08:22:38.066Z"
   },
   {
    "duration": 34,
    "start_time": "2022-03-02T08:22:38.133Z"
   },
   {
    "duration": 15,
    "start_time": "2022-03-02T08:22:38.169Z"
   },
   {
    "duration": 24,
    "start_time": "2022-03-02T08:22:38.186Z"
   },
   {
    "duration": 53,
    "start_time": "2022-03-02T08:22:38.211Z"
   },
   {
    "duration": 33,
    "start_time": "2022-03-02T08:22:38.265Z"
   },
   {
    "duration": 31,
    "start_time": "2022-03-02T08:22:38.300Z"
   },
   {
    "duration": 29,
    "start_time": "2022-03-02T08:22:38.334Z"
   },
   {
    "duration": 10,
    "start_time": "2022-03-02T08:22:38.365Z"
   },
   {
    "duration": 6,
    "start_time": "2022-03-02T08:22:38.376Z"
   },
   {
    "duration": 15,
    "start_time": "2022-03-02T08:22:38.384Z"
   },
   {
    "duration": 38,
    "start_time": "2022-03-02T08:22:38.400Z"
   },
   {
    "duration": 4,
    "start_time": "2022-03-02T08:22:38.440Z"
   },
   {
    "duration": 18,
    "start_time": "2022-03-02T08:22:38.445Z"
   },
   {
    "duration": 5,
    "start_time": "2022-03-02T08:22:38.464Z"
   },
   {
    "duration": 7,
    "start_time": "2022-03-02T08:22:38.470Z"
   },
   {
    "duration": 233,
    "start_time": "2022-03-02T08:22:38.478Z"
   },
   {
    "duration": 32,
    "start_time": "2022-03-02T08:22:38.713Z"
   },
   {
    "duration": 21,
    "start_time": "2022-03-02T08:22:38.746Z"
   },
   {
    "duration": 6,
    "start_time": "2022-03-02T08:22:38.768Z"
   },
   {
    "duration": 11,
    "start_time": "2022-03-02T08:22:38.775Z"
   },
   {
    "duration": 5,
    "start_time": "2022-03-02T08:22:38.788Z"
   },
   {
    "duration": 299,
    "start_time": "2022-03-02T08:22:38.794Z"
   },
   {
    "duration": 307,
    "start_time": "2022-03-02T08:22:39.095Z"
   },
   {
    "duration": 286,
    "start_time": "2022-03-02T08:22:39.404Z"
   },
   {
    "duration": 2,
    "start_time": "2022-03-02T08:22:39.691Z"
   },
   {
    "duration": 6,
    "start_time": "2022-03-02T08:22:39.695Z"
   },
   {
    "duration": 7,
    "start_time": "2022-03-02T08:22:39.703Z"
   },
   {
    "duration": 396,
    "start_time": "2022-03-02T08:22:39.712Z"
   },
   {
    "duration": 8,
    "start_time": "2022-03-02T08:22:40.110Z"
   },
   {
    "duration": 7,
    "start_time": "2022-03-02T08:22:40.120Z"
   },
   {
    "duration": 35,
    "start_time": "2022-03-02T08:22:40.129Z"
   },
   {
    "duration": 2,
    "start_time": "2022-03-02T08:22:40.166Z"
   },
   {
    "duration": 11,
    "start_time": "2022-03-02T08:22:40.169Z"
   },
   {
    "duration": 2,
    "start_time": "2022-03-02T08:22:40.184Z"
   },
   {
    "duration": 282,
    "start_time": "2022-03-02T08:22:40.187Z"
   },
   {
    "duration": 272,
    "start_time": "2022-03-02T08:22:40.471Z"
   },
   {
    "duration": 284,
    "start_time": "2022-03-02T08:22:40.745Z"
   },
   {
    "duration": 18,
    "start_time": "2022-03-02T08:31:20.389Z"
   },
   {
    "duration": 19,
    "start_time": "2022-03-02T08:31:25.053Z"
   },
   {
    "duration": 18,
    "start_time": "2022-03-02T08:36:09.194Z"
   },
   {
    "duration": 6,
    "start_time": "2022-03-02T08:47:58.580Z"
   },
   {
    "duration": 794,
    "start_time": "2022-03-03T07:19:46.223Z"
   },
   {
    "duration": 3,
    "start_time": "2022-03-03T07:19:47.020Z"
   },
   {
    "duration": 116,
    "start_time": "2022-03-03T07:19:47.026Z"
   },
   {
    "duration": 3,
    "start_time": "2022-03-03T07:19:47.145Z"
   },
   {
    "duration": 188,
    "start_time": "2022-03-03T07:19:47.151Z"
   },
   {
    "duration": 132,
    "start_time": "2022-03-03T07:19:47.342Z"
   },
   {
    "duration": 45,
    "start_time": "2022-03-03T07:19:47.476Z"
   },
   {
    "duration": 35,
    "start_time": "2022-03-03T07:19:47.525Z"
   },
   {
    "duration": 222,
    "start_time": "2022-03-03T07:19:47.563Z"
   },
   {
    "duration": 76,
    "start_time": "2022-03-03T07:19:47.788Z"
   },
   {
    "duration": 110,
    "start_time": "2022-03-03T07:19:47.866Z"
   },
   {
    "duration": 24,
    "start_time": "2022-03-03T07:19:47.979Z"
   },
   {
    "duration": 38,
    "start_time": "2022-03-03T07:19:48.005Z"
   },
   {
    "duration": 31,
    "start_time": "2022-03-03T07:19:48.046Z"
   },
   {
    "duration": 62,
    "start_time": "2022-03-03T07:19:48.079Z"
   },
   {
    "duration": 43,
    "start_time": "2022-03-03T07:19:48.143Z"
   },
   {
    "duration": 66,
    "start_time": "2022-03-03T07:19:48.189Z"
   },
   {
    "duration": 9,
    "start_time": "2022-03-03T07:19:48.258Z"
   },
   {
    "duration": 13,
    "start_time": "2022-03-03T07:19:48.270Z"
   },
   {
    "duration": 5,
    "start_time": "2022-03-03T07:19:48.285Z"
   },
   {
    "duration": 41,
    "start_time": "2022-03-03T07:19:48.292Z"
   },
   {
    "duration": 45,
    "start_time": "2022-03-03T07:19:48.336Z"
   },
   {
    "duration": 4,
    "start_time": "2022-03-03T07:19:48.386Z"
   },
   {
    "duration": 11,
    "start_time": "2022-03-03T07:19:48.393Z"
   },
   {
    "duration": 6,
    "start_time": "2022-03-03T07:19:48.433Z"
   },
   {
    "duration": 7,
    "start_time": "2022-03-03T07:19:48.441Z"
   },
   {
    "duration": 384,
    "start_time": "2022-03-03T07:19:48.450Z"
   },
   {
    "duration": 53,
    "start_time": "2022-03-03T07:19:48.836Z"
   },
   {
    "duration": 7,
    "start_time": "2022-03-03T07:19:48.891Z"
   },
   {
    "duration": 5,
    "start_time": "2022-03-03T07:19:48.900Z"
   },
   {
    "duration": 29,
    "start_time": "2022-03-03T07:19:48.908Z"
   },
   {
    "duration": 5,
    "start_time": "2022-03-03T07:19:48.939Z"
   },
   {
    "duration": 476,
    "start_time": "2022-03-03T07:19:48.946Z"
   },
   {
    "duration": 495,
    "start_time": "2022-03-03T07:19:49.424Z"
   },
   {
    "duration": 483,
    "start_time": "2022-03-03T07:19:49.921Z"
   },
   {
    "duration": 3,
    "start_time": "2022-03-03T07:19:50.406Z"
   },
   {
    "duration": 6,
    "start_time": "2022-03-03T07:19:50.411Z"
   },
   {
    "duration": 15,
    "start_time": "2022-03-03T07:19:50.419Z"
   },
   {
    "duration": 515,
    "start_time": "2022-03-03T07:19:50.436Z"
   },
   {
    "duration": 11,
    "start_time": "2022-03-03T07:19:50.954Z"
   },
   {
    "duration": 19,
    "start_time": "2022-03-03T07:19:50.968Z"
   },
   {
    "duration": 48,
    "start_time": "2022-03-03T07:19:50.990Z"
   },
   {
    "duration": 11,
    "start_time": "2022-03-03T07:19:51.041Z"
   },
   {
    "duration": 17,
    "start_time": "2022-03-03T07:19:51.055Z"
   },
   {
    "duration": 6,
    "start_time": "2022-03-03T07:19:51.074Z"
   },
   {
    "duration": 444,
    "start_time": "2022-03-03T07:19:51.082Z"
   },
   {
    "duration": 447,
    "start_time": "2022-03-03T07:19:51.529Z"
   },
   {
    "duration": 459,
    "start_time": "2022-03-03T07:19:51.979Z"
   },
   {
    "duration": 6,
    "start_time": "2022-03-03T07:39:31.917Z"
   },
   {
    "duration": 6,
    "start_time": "2022-03-03T07:39:43.566Z"
   },
   {
    "duration": 6,
    "start_time": "2022-03-03T07:39:48.300Z"
   },
   {
    "duration": 47,
    "start_time": "2022-03-03T07:39:50.835Z"
   },
   {
    "duration": 6,
    "start_time": "2022-03-03T07:39:52.936Z"
   },
   {
    "duration": 6,
    "start_time": "2022-03-03T07:40:12.770Z"
   },
   {
    "duration": 38,
    "start_time": "2022-03-03T07:41:21.392Z"
   },
   {
    "duration": 437,
    "start_time": "2022-03-03T07:42:38.266Z"
   },
   {
    "duration": 437,
    "start_time": "2022-03-03T07:42:47.280Z"
   },
   {
    "duration": 767,
    "start_time": "2022-03-03T07:42:53.225Z"
   },
   {
    "duration": 3,
    "start_time": "2022-03-03T07:42:53.994Z"
   },
   {
    "duration": 129,
    "start_time": "2022-03-03T07:42:54.001Z"
   },
   {
    "duration": 4,
    "start_time": "2022-03-03T07:42:54.133Z"
   },
   {
    "duration": 197,
    "start_time": "2022-03-03T07:42:54.139Z"
   },
   {
    "duration": 137,
    "start_time": "2022-03-03T07:42:54.338Z"
   },
   {
    "duration": 34,
    "start_time": "2022-03-03T07:42:54.477Z"
   },
   {
    "duration": 34,
    "start_time": "2022-03-03T07:42:54.515Z"
   },
   {
    "duration": 230,
    "start_time": "2022-03-03T07:42:54.552Z"
   },
   {
    "duration": 80,
    "start_time": "2022-03-03T07:42:54.785Z"
   },
   {
    "duration": 115,
    "start_time": "2022-03-03T07:42:54.868Z"
   },
   {
    "duration": 24,
    "start_time": "2022-03-03T07:42:54.985Z"
   },
   {
    "duration": 43,
    "start_time": "2022-03-03T07:42:55.011Z"
   },
   {
    "duration": 40,
    "start_time": "2022-03-03T07:42:55.057Z"
   },
   {
    "duration": 87,
    "start_time": "2022-03-03T07:42:55.100Z"
   },
   {
    "duration": 67,
    "start_time": "2022-03-03T07:42:55.191Z"
   },
   {
    "duration": 43,
    "start_time": "2022-03-03T07:42:55.261Z"
   },
   {
    "duration": 419,
    "start_time": "2022-03-03T07:42:55.306Z"
   },
   {
    "duration": -146,
    "start_time": "2022-03-03T07:42:55.875Z"
   },
   {
    "duration": -190,
    "start_time": "2022-03-03T07:42:55.920Z"
   },
   {
    "duration": -223,
    "start_time": "2022-03-03T07:42:55.955Z"
   },
   {
    "duration": -235,
    "start_time": "2022-03-03T07:42:55.968Z"
   },
   {
    "duration": -251,
    "start_time": "2022-03-03T07:42:55.986Z"
   },
   {
    "duration": -266,
    "start_time": "2022-03-03T07:42:56.002Z"
   },
   {
    "duration": -277,
    "start_time": "2022-03-03T07:42:56.015Z"
   },
   {
    "duration": -286,
    "start_time": "2022-03-03T07:42:56.025Z"
   },
   {
    "duration": -293,
    "start_time": "2022-03-03T07:42:56.034Z"
   },
   {
    "duration": -299,
    "start_time": "2022-03-03T07:42:56.042Z"
   },
   {
    "duration": -308,
    "start_time": "2022-03-03T07:42:56.052Z"
   },
   {
    "duration": -313,
    "start_time": "2022-03-03T07:42:56.059Z"
   },
   {
    "duration": -322,
    "start_time": "2022-03-03T07:42:56.069Z"
   },
   {
    "duration": -325,
    "start_time": "2022-03-03T07:42:56.074Z"
   },
   {
    "duration": -330,
    "start_time": "2022-03-03T07:42:56.080Z"
   },
   {
    "duration": -336,
    "start_time": "2022-03-03T07:42:56.088Z"
   },
   {
    "duration": -342,
    "start_time": "2022-03-03T07:42:56.095Z"
   },
   {
    "duration": -348,
    "start_time": "2022-03-03T07:42:56.103Z"
   },
   {
    "duration": -353,
    "start_time": "2022-03-03T07:42:56.109Z"
   },
   {
    "duration": -359,
    "start_time": "2022-03-03T07:42:56.117Z"
   },
   {
    "duration": -365,
    "start_time": "2022-03-03T07:42:56.124Z"
   },
   {
    "duration": -370,
    "start_time": "2022-03-03T07:42:56.131Z"
   },
   {
    "duration": -378,
    "start_time": "2022-03-03T07:42:56.140Z"
   },
   {
    "duration": -384,
    "start_time": "2022-03-03T07:42:56.148Z"
   },
   {
    "duration": -391,
    "start_time": "2022-03-03T07:42:56.156Z"
   },
   {
    "duration": -396,
    "start_time": "2022-03-03T07:42:56.163Z"
   },
   {
    "duration": -404,
    "start_time": "2022-03-03T07:42:56.172Z"
   },
   {
    "duration": -410,
    "start_time": "2022-03-03T07:42:56.179Z"
   },
   {
    "duration": -417,
    "start_time": "2022-03-03T07:42:56.188Z"
   },
   {
    "duration": -367,
    "start_time": "2022-03-03T07:42:56.199Z"
   },
   {
    "duration": 310,
    "start_time": "2022-03-03T07:43:26.096Z"
   },
   {
    "duration": 314,
    "start_time": "2022-03-03T07:43:34.797Z"
   },
   {
    "duration": 299,
    "start_time": "2022-03-03T07:44:52.170Z"
   },
   {
    "duration": 312,
    "start_time": "2022-03-03T07:44:55.201Z"
   },
   {
    "duration": 367,
    "start_time": "2022-03-03T07:45:51.418Z"
   },
   {
    "duration": 755,
    "start_time": "2022-03-03T07:45:58.433Z"
   },
   {
    "duration": 3,
    "start_time": "2022-03-03T07:45:59.191Z"
   },
   {
    "duration": 186,
    "start_time": "2022-03-03T07:45:59.197Z"
   },
   {
    "duration": 5,
    "start_time": "2022-03-03T07:45:59.387Z"
   },
   {
    "duration": 215,
    "start_time": "2022-03-03T07:45:59.395Z"
   },
   {
    "duration": 142,
    "start_time": "2022-03-03T07:45:59.613Z"
   },
   {
    "duration": 45,
    "start_time": "2022-03-03T07:45:59.758Z"
   },
   {
    "duration": 39,
    "start_time": "2022-03-03T07:45:59.807Z"
   },
   {
    "duration": 243,
    "start_time": "2022-03-03T07:45:59.850Z"
   },
   {
    "duration": 87,
    "start_time": "2022-03-03T07:46:00.096Z"
   },
   {
    "duration": 139,
    "start_time": "2022-03-03T07:46:00.186Z"
   },
   {
    "duration": 28,
    "start_time": "2022-03-03T07:46:00.333Z"
   },
   {
    "duration": 24,
    "start_time": "2022-03-03T07:46:00.363Z"
   },
   {
    "duration": 67,
    "start_time": "2022-03-03T07:46:00.390Z"
   },
   {
    "duration": 75,
    "start_time": "2022-03-03T07:46:00.459Z"
   },
   {
    "duration": 48,
    "start_time": "2022-03-03T07:46:00.537Z"
   },
   {
    "duration": 76,
    "start_time": "2022-03-03T07:46:00.588Z"
   },
   {
    "duration": 398,
    "start_time": "2022-03-03T07:46:00.666Z"
   },
   {
    "duration": -160,
    "start_time": "2022-03-03T07:46:01.228Z"
   },
   {
    "duration": -168,
    "start_time": "2022-03-03T07:46:01.237Z"
   },
   {
    "duration": -174,
    "start_time": "2022-03-03T07:46:01.245Z"
   },
   {
    "duration": -214,
    "start_time": "2022-03-03T07:46:01.286Z"
   },
   {
    "duration": -268,
    "start_time": "2022-03-03T07:46:01.341Z"
   },
   {
    "duration": -301,
    "start_time": "2022-03-03T07:46:01.375Z"
   },
   {
    "duration": -324,
    "start_time": "2022-03-03T07:46:01.400Z"
   },
   {
    "duration": -330,
    "start_time": "2022-03-03T07:46:01.407Z"
   },
   {
    "duration": -336,
    "start_time": "2022-03-03T07:46:01.414Z"
   },
   {
    "duration": -342,
    "start_time": "2022-03-03T07:46:01.421Z"
   },
   {
    "duration": -346,
    "start_time": "2022-03-03T07:46:01.427Z"
   },
   {
    "duration": -351,
    "start_time": "2022-03-03T07:46:01.433Z"
   },
   {
    "duration": -355,
    "start_time": "2022-03-03T07:46:01.438Z"
   },
   {
    "duration": -358,
    "start_time": "2022-03-03T07:46:01.443Z"
   },
   {
    "duration": -365,
    "start_time": "2022-03-03T07:46:01.451Z"
   },
   {
    "duration": -368,
    "start_time": "2022-03-03T07:46:01.455Z"
   },
   {
    "duration": -372,
    "start_time": "2022-03-03T07:46:01.461Z"
   },
   {
    "duration": -378,
    "start_time": "2022-03-03T07:46:01.468Z"
   },
   {
    "duration": -383,
    "start_time": "2022-03-03T07:46:01.474Z"
   },
   {
    "duration": -386,
    "start_time": "2022-03-03T07:46:01.479Z"
   },
   {
    "duration": -393,
    "start_time": "2022-03-03T07:46:01.487Z"
   },
   {
    "duration": -397,
    "start_time": "2022-03-03T07:46:01.492Z"
   },
   {
    "duration": -429,
    "start_time": "2022-03-03T07:46:01.525Z"
   },
   {
    "duration": -441,
    "start_time": "2022-03-03T07:46:01.538Z"
   },
   {
    "duration": -447,
    "start_time": "2022-03-03T07:46:01.546Z"
   },
   {
    "duration": -454,
    "start_time": "2022-03-03T07:46:01.554Z"
   },
   {
    "duration": -459,
    "start_time": "2022-03-03T07:46:01.561Z"
   },
   {
    "duration": -467,
    "start_time": "2022-03-03T07:46:01.570Z"
   },
   {
    "duration": -444,
    "start_time": "2022-03-03T07:46:01.576Z"
   },
   {
    "duration": -449,
    "start_time": "2022-03-03T07:46:01.583Z"
   },
   {
    "duration": 313,
    "start_time": "2022-03-03T08:00:39.910Z"
   },
   {
    "duration": 764,
    "start_time": "2022-03-03T08:00:47.634Z"
   },
   {
    "duration": 4,
    "start_time": "2022-03-03T08:00:48.400Z"
   },
   {
    "duration": 132,
    "start_time": "2022-03-03T08:00:48.406Z"
   },
   {
    "duration": 3,
    "start_time": "2022-03-03T08:00:48.540Z"
   },
   {
    "duration": 199,
    "start_time": "2022-03-03T08:00:48.546Z"
   },
   {
    "duration": 123,
    "start_time": "2022-03-03T08:00:48.747Z"
   },
   {
    "duration": 33,
    "start_time": "2022-03-03T08:00:48.873Z"
   },
   {
    "duration": 35,
    "start_time": "2022-03-03T08:00:48.908Z"
   },
   {
    "duration": 229,
    "start_time": "2022-03-03T08:00:48.947Z"
   },
   {
    "duration": 84,
    "start_time": "2022-03-03T08:00:49.180Z"
   },
   {
    "duration": 122,
    "start_time": "2022-03-03T08:00:49.266Z"
   },
   {
    "duration": 27,
    "start_time": "2022-03-03T08:00:49.390Z"
   },
   {
    "duration": 21,
    "start_time": "2022-03-03T08:00:49.432Z"
   },
   {
    "duration": 34,
    "start_time": "2022-03-03T08:00:49.456Z"
   },
   {
    "duration": 79,
    "start_time": "2022-03-03T08:00:49.492Z"
   },
   {
    "duration": 73,
    "start_time": "2022-03-03T08:00:49.574Z"
   },
   {
    "duration": 46,
    "start_time": "2022-03-03T08:00:49.651Z"
   },
   {
    "duration": 426,
    "start_time": "2022-03-03T08:00:49.699Z"
   },
   {
    "duration": -582,
    "start_time": "2022-03-03T08:00:50.710Z"
   },
   {
    "duration": -590,
    "start_time": "2022-03-03T08:00:50.720Z"
   },
   {
    "duration": -599,
    "start_time": "2022-03-03T08:00:50.730Z"
   },
   {
    "duration": -604,
    "start_time": "2022-03-03T08:00:50.737Z"
   },
   {
    "duration": -611,
    "start_time": "2022-03-03T08:00:50.745Z"
   },
   {
    "duration": -616,
    "start_time": "2022-03-03T08:00:50.752Z"
   },
   {
    "duration": -627,
    "start_time": "2022-03-03T08:00:50.764Z"
   },
   {
    "duration": -634,
    "start_time": "2022-03-03T08:00:50.773Z"
   },
   {
    "duration": -655,
    "start_time": "2022-03-03T08:00:50.796Z"
   },
   {
    "duration": -661,
    "start_time": "2022-03-03T08:00:50.803Z"
   },
   {
    "duration": -672,
    "start_time": "2022-03-03T08:00:50.816Z"
   },
   {
    "duration": -678,
    "start_time": "2022-03-03T08:00:50.823Z"
   },
   {
    "duration": -686,
    "start_time": "2022-03-03T08:00:50.833Z"
   },
   {
    "duration": -690,
    "start_time": "2022-03-03T08:00:50.839Z"
   },
   {
    "duration": -723,
    "start_time": "2022-03-03T08:00:50.873Z"
   },
   {
    "duration": -731,
    "start_time": "2022-03-03T08:00:50.883Z"
   },
   {
    "duration": -753,
    "start_time": "2022-03-03T08:00:50.906Z"
   },
   {
    "duration": -766,
    "start_time": "2022-03-03T08:00:50.921Z"
   },
   {
    "duration": -775,
    "start_time": "2022-03-03T08:00:50.931Z"
   },
   {
    "duration": -778,
    "start_time": "2022-03-03T08:00:50.936Z"
   },
   {
    "duration": -788,
    "start_time": "2022-03-03T08:00:50.947Z"
   },
   {
    "duration": -793,
    "start_time": "2022-03-03T08:00:50.953Z"
   },
   {
    "duration": -825,
    "start_time": "2022-03-03T08:00:50.987Z"
   },
   {
    "duration": -836,
    "start_time": "2022-03-03T08:00:51.000Z"
   },
   {
    "duration": -881,
    "start_time": "2022-03-03T08:00:51.046Z"
   },
   {
    "duration": -902,
    "start_time": "2022-03-03T08:00:51.068Z"
   },
   {
    "duration": -909,
    "start_time": "2022-03-03T08:00:51.077Z"
   },
   {
    "duration": -914,
    "start_time": "2022-03-03T08:00:51.083Z"
   },
   {
    "duration": -935,
    "start_time": "2022-03-03T08:00:51.106Z"
   },
   {
    "duration": -942,
    "start_time": "2022-03-03T08:00:51.114Z"
   },
   {
    "duration": 336,
    "start_time": "2022-03-03T08:01:02.832Z"
   },
   {
    "duration": 325,
    "start_time": "2022-03-03T08:01:04.899Z"
   },
   {
    "duration": 296,
    "start_time": "2022-03-03T08:01:48.365Z"
   },
   {
    "duration": 298,
    "start_time": "2022-03-03T08:02:23.268Z"
   },
   {
    "duration": 278,
    "start_time": "2022-03-03T08:02:33.150Z"
   },
   {
    "duration": 42,
    "start_time": "2022-03-03T08:02:43.556Z"
   },
   {
    "duration": 320,
    "start_time": "2022-03-03T08:02:45.954Z"
   },
   {
    "duration": 298,
    "start_time": "2022-03-03T08:03:18.129Z"
   },
   {
    "duration": 344,
    "start_time": "2022-03-03T08:03:37.585Z"
   },
   {
    "duration": 4,
    "start_time": "2022-03-03T08:03:42.995Z"
   },
   {
    "duration": 307,
    "start_time": "2022-03-03T08:03:49.641Z"
   },
   {
    "duration": 5,
    "start_time": "2022-03-03T08:03:55.932Z"
   },
   {
    "duration": 5,
    "start_time": "2022-03-03T08:03:58.841Z"
   },
   {
    "duration": 5,
    "start_time": "2022-03-03T08:04:00.173Z"
   },
   {
    "duration": 12,
    "start_time": "2022-03-03T08:04:41.299Z"
   },
   {
    "duration": 15,
    "start_time": "2022-03-03T08:04:42.981Z"
   },
   {
    "duration": 5,
    "start_time": "2022-03-03T08:04:44.509Z"
   },
   {
    "duration": 10,
    "start_time": "2022-03-03T08:04:45.599Z"
   },
   {
    "duration": 47,
    "start_time": "2022-03-03T08:04:47.025Z"
   },
   {
    "duration": 316,
    "start_time": "2022-03-03T08:04:52.670Z"
   },
   {
    "duration": 11,
    "start_time": "2022-03-03T08:06:03.773Z"
   },
   {
    "duration": 6,
    "start_time": "2022-03-03T08:06:08.501Z"
   },
   {
    "duration": 5,
    "start_time": "2022-03-03T08:06:12.965Z"
   },
   {
    "duration": 5,
    "start_time": "2022-03-03T08:06:14.664Z"
   },
   {
    "duration": 351,
    "start_time": "2022-03-03T08:06:17.557Z"
   },
   {
    "duration": 449,
    "start_time": "2022-03-03T08:07:05.929Z"
   },
   {
    "duration": 705,
    "start_time": "2022-03-03T08:07:17.380Z"
   },
   {
    "duration": 3,
    "start_time": "2022-03-03T08:07:18.088Z"
   },
   {
    "duration": 128,
    "start_time": "2022-03-03T08:07:18.094Z"
   },
   {
    "duration": 4,
    "start_time": "2022-03-03T08:07:18.224Z"
   },
   {
    "duration": 196,
    "start_time": "2022-03-03T08:07:18.233Z"
   },
   {
    "duration": 127,
    "start_time": "2022-03-03T08:07:18.433Z"
   },
   {
    "duration": 35,
    "start_time": "2022-03-03T08:07:18.562Z"
   },
   {
    "duration": 35,
    "start_time": "2022-03-03T08:07:18.601Z"
   },
   {
    "duration": 224,
    "start_time": "2022-03-03T08:07:18.640Z"
   },
   {
    "duration": 81,
    "start_time": "2022-03-03T08:07:18.867Z"
   },
   {
    "duration": 116,
    "start_time": "2022-03-03T08:07:18.950Z"
   },
   {
    "duration": 24,
    "start_time": "2022-03-03T08:07:19.069Z"
   },
   {
    "duration": 41,
    "start_time": "2022-03-03T08:07:19.095Z"
   },
   {
    "duration": 32,
    "start_time": "2022-03-03T08:07:19.138Z"
   },
   {
    "duration": 68,
    "start_time": "2022-03-03T08:07:19.172Z"
   },
   {
    "duration": 44,
    "start_time": "2022-03-03T08:07:19.242Z"
   },
   {
    "duration": 70,
    "start_time": "2022-03-03T08:07:19.289Z"
   },
   {
    "duration": 4,
    "start_time": "2022-03-03T08:07:19.361Z"
   },
   {
    "duration": 10,
    "start_time": "2022-03-03T08:07:19.367Z"
   },
   {
    "duration": 9,
    "start_time": "2022-03-03T08:07:19.379Z"
   },
   {
    "duration": 46,
    "start_time": "2022-03-03T08:07:19.390Z"
   },
   {
    "duration": 5,
    "start_time": "2022-03-03T08:07:19.438Z"
   },
   {
    "duration": 10,
    "start_time": "2022-03-03T08:07:19.448Z"
   },
   {
    "duration": 81,
    "start_time": "2022-03-03T08:07:19.461Z"
   },
   {
    "duration": 13,
    "start_time": "2022-03-03T08:07:19.545Z"
   },
   {
    "duration": 5,
    "start_time": "2022-03-03T08:07:19.560Z"
   },
   {
    "duration": 6,
    "start_time": "2022-03-03T08:07:19.568Z"
   },
   {
    "duration": 472,
    "start_time": "2022-03-03T08:07:19.576Z"
   },
   {
    "duration": 59,
    "start_time": "2022-03-03T08:07:20.051Z"
   },
   {
    "duration": 9,
    "start_time": "2022-03-03T08:07:20.133Z"
   },
   {
    "duration": 5,
    "start_time": "2022-03-03T08:07:20.144Z"
   },
   {
    "duration": 18,
    "start_time": "2022-03-03T08:07:20.152Z"
   },
   {
    "duration": 10,
    "start_time": "2022-03-03T08:07:20.173Z"
   },
   {
    "duration": 501,
    "start_time": "2022-03-03T08:07:20.185Z"
   },
   {
    "duration": 503,
    "start_time": "2022-03-03T08:07:20.688Z"
   },
   {
    "duration": 477,
    "start_time": "2022-03-03T08:07:21.193Z"
   },
   {
    "duration": 3,
    "start_time": "2022-03-03T08:07:21.673Z"
   },
   {
    "duration": 6,
    "start_time": "2022-03-03T08:07:21.678Z"
   },
   {
    "duration": 8,
    "start_time": "2022-03-03T08:07:21.686Z"
   },
   {
    "duration": 539,
    "start_time": "2022-03-03T08:07:21.697Z"
   },
   {
    "duration": 12,
    "start_time": "2022-03-03T08:07:22.238Z"
   },
   {
    "duration": 12,
    "start_time": "2022-03-03T08:07:22.253Z"
   },
   {
    "duration": 66,
    "start_time": "2022-03-03T08:07:22.267Z"
   },
   {
    "duration": 3,
    "start_time": "2022-03-03T08:07:22.335Z"
   },
   {
    "duration": 16,
    "start_time": "2022-03-03T08:07:22.340Z"
   },
   {
    "duration": 5,
    "start_time": "2022-03-03T08:07:22.358Z"
   },
   {
    "duration": 482,
    "start_time": "2022-03-03T08:07:22.366Z"
   },
   {
    "duration": 437,
    "start_time": "2022-03-03T08:07:22.851Z"
   },
   {
    "duration": 461,
    "start_time": "2022-03-03T08:07:23.291Z"
   },
   {
    "duration": 441,
    "start_time": "2022-03-03T08:09:39.983Z"
   },
   {
    "duration": 442,
    "start_time": "2022-03-03T08:09:48.356Z"
   },
   {
    "duration": 514,
    "start_time": "2022-03-03T08:09:53.562Z"
   },
   {
    "duration": 461,
    "start_time": "2022-03-03T08:10:29.193Z"
   },
   {
    "duration": 477,
    "start_time": "2022-03-03T08:10:36.772Z"
   },
   {
    "duration": 14,
    "start_time": "2022-03-03T08:12:29.557Z"
   },
   {
    "duration": 14,
    "start_time": "2022-03-03T08:13:16.601Z"
   },
   {
    "duration": 13,
    "start_time": "2022-03-03T08:13:37.940Z"
   },
   {
    "duration": 12,
    "start_time": "2022-03-03T08:14:35.996Z"
   },
   {
    "duration": 694,
    "start_time": "2022-03-03T08:15:54.000Z"
   },
   {
    "duration": 12,
    "start_time": "2022-03-03T08:15:58.134Z"
   },
   {
    "duration": 36,
    "start_time": "2022-03-03T08:16:21.685Z"
   },
   {
    "duration": 8,
    "start_time": "2022-03-03T08:16:44.520Z"
   },
   {
    "duration": 424,
    "start_time": "2022-03-03T08:18:06.178Z"
   },
   {
    "duration": 11,
    "start_time": "2022-03-03T08:18:15.794Z"
   },
   {
    "duration": 10,
    "start_time": "2022-03-03T08:18:41.490Z"
   },
   {
    "duration": 10,
    "start_time": "2022-03-03T08:19:14.199Z"
   },
   {
    "duration": 14,
    "start_time": "2022-03-03T08:19:17.184Z"
   },
   {
    "duration": 14,
    "start_time": "2022-03-03T08:19:20.902Z"
   },
   {
    "duration": 13,
    "start_time": "2022-03-03T08:19:26.634Z"
   },
   {
    "duration": 796,
    "start_time": "2022-03-03T08:19:34.081Z"
   },
   {
    "duration": 3,
    "start_time": "2022-03-03T08:19:34.880Z"
   },
   {
    "duration": 199,
    "start_time": "2022-03-03T08:19:34.887Z"
   },
   {
    "duration": 5,
    "start_time": "2022-03-03T08:19:35.089Z"
   },
   {
    "duration": 296,
    "start_time": "2022-03-03T08:19:35.097Z"
   },
   {
    "duration": 187,
    "start_time": "2022-03-03T08:19:35.396Z"
   },
   {
    "duration": 39,
    "start_time": "2022-03-03T08:19:35.587Z"
   },
   {
    "duration": 46,
    "start_time": "2022-03-03T08:19:35.632Z"
   },
   {
    "duration": 258,
    "start_time": "2022-03-03T08:19:35.682Z"
   },
   {
    "duration": 96,
    "start_time": "2022-03-03T08:19:35.944Z"
   },
   {
    "duration": 125,
    "start_time": "2022-03-03T08:19:36.043Z"
   },
   {
    "duration": 26,
    "start_time": "2022-03-03T08:19:36.171Z"
   },
   {
    "duration": 46,
    "start_time": "2022-03-03T08:19:36.199Z"
   },
   {
    "duration": 36,
    "start_time": "2022-03-03T08:19:36.247Z"
   },
   {
    "duration": 81,
    "start_time": "2022-03-03T08:19:36.285Z"
   },
   {
    "duration": 64,
    "start_time": "2022-03-03T08:19:36.369Z"
   },
   {
    "duration": 43,
    "start_time": "2022-03-03T08:19:36.435Z"
   },
   {
    "duration": 4,
    "start_time": "2022-03-03T08:19:36.480Z"
   },
   {
    "duration": 8,
    "start_time": "2022-03-03T08:19:36.486Z"
   },
   {
    "duration": 9,
    "start_time": "2022-03-03T08:19:36.532Z"
   },
   {
    "duration": 14,
    "start_time": "2022-03-03T08:19:36.543Z"
   },
   {
    "duration": 5,
    "start_time": "2022-03-03T08:19:36.559Z"
   },
   {
    "duration": 9,
    "start_time": "2022-03-03T08:19:36.569Z"
   },
   {
    "duration": 46,
    "start_time": "2022-03-03T08:19:36.632Z"
   },
   {
    "duration": 55,
    "start_time": "2022-03-03T08:19:36.680Z"
   },
   {
    "duration": 5,
    "start_time": "2022-03-03T08:19:36.737Z"
   },
   {
    "duration": 5,
    "start_time": "2022-03-03T08:19:36.745Z"
   },
   {
    "duration": 473,
    "start_time": "2022-03-03T08:19:36.752Z"
   },
   {
    "duration": 57,
    "start_time": "2022-03-03T08:19:37.227Z"
   },
   {
    "duration": 7,
    "start_time": "2022-03-03T08:19:37.287Z"
   },
   {
    "duration": 4,
    "start_time": "2022-03-03T08:19:37.333Z"
   },
   {
    "duration": 9,
    "start_time": "2022-03-03T08:19:37.339Z"
   },
   {
    "duration": 4,
    "start_time": "2022-03-03T08:19:37.350Z"
   },
   {
    "duration": 505,
    "start_time": "2022-03-03T08:19:37.357Z"
   },
   {
    "duration": 500,
    "start_time": "2022-03-03T08:19:37.864Z"
   },
   {
    "duration": 741,
    "start_time": "2022-03-03T08:19:38.367Z"
   },
   {
    "duration": 4,
    "start_time": "2022-03-03T08:19:39.111Z"
   },
   {
    "duration": 4,
    "start_time": "2022-03-03T08:19:39.132Z"
   },
   {
    "duration": 4,
    "start_time": "2022-03-03T08:19:39.139Z"
   },
   {
    "duration": 534,
    "start_time": "2022-03-03T08:19:39.146Z"
   },
   {
    "duration": 10,
    "start_time": "2022-03-03T08:19:39.683Z"
   },
   {
    "duration": 8,
    "start_time": "2022-03-03T08:19:39.696Z"
   },
   {
    "duration": 15,
    "start_time": "2022-03-03T08:19:39.733Z"
   },
   {
    "duration": 15,
    "start_time": "2022-03-03T08:19:39.752Z"
   },
   {
    "duration": 78,
    "start_time": "2022-03-03T08:19:39.770Z"
   },
   {
    "duration": 3,
    "start_time": "2022-03-03T08:19:39.851Z"
   },
   {
    "duration": 17,
    "start_time": "2022-03-03T08:19:39.856Z"
   },
   {
    "duration": 2,
    "start_time": "2022-03-03T08:19:39.876Z"
   },
   {
    "duration": 482,
    "start_time": "2022-03-03T08:19:39.881Z"
   },
   {
    "duration": 470,
    "start_time": "2022-03-03T08:19:40.365Z"
   },
   {
    "duration": 466,
    "start_time": "2022-03-03T08:19:40.837Z"
   },
   {
    "duration": 12,
    "start_time": "2022-03-03T08:21:27.496Z"
   },
   {
    "duration": 12,
    "start_time": "2022-03-03T08:21:28.404Z"
   },
   {
    "duration": 8,
    "start_time": "2022-03-03T08:21:45.834Z"
   },
   {
    "duration": 13,
    "start_time": "2022-03-03T08:21:47.946Z"
   },
   {
    "duration": 17,
    "start_time": "2022-03-03T08:21:49.016Z"
   },
   {
    "duration": 18,
    "start_time": "2022-03-03T08:21:49.742Z"
   },
   {
    "duration": 17,
    "start_time": "2022-03-03T08:21:55.194Z"
   },
   {
    "duration": 626,
    "start_time": "2022-03-04T18:28:57.786Z"
   },
   {
    "duration": 4,
    "start_time": "2022-03-04T18:28:58.414Z"
   },
   {
    "duration": 94,
    "start_time": "2022-03-04T18:28:58.420Z"
   },
   {
    "duration": 2,
    "start_time": "2022-03-04T18:28:58.516Z"
   },
   {
    "duration": 177,
    "start_time": "2022-03-04T18:28:58.520Z"
   },
   {
    "duration": 102,
    "start_time": "2022-03-04T18:28:58.699Z"
   },
   {
    "duration": 29,
    "start_time": "2022-03-04T18:28:58.803Z"
   },
   {
    "duration": 26,
    "start_time": "2022-03-04T18:28:58.835Z"
   },
   {
    "duration": 187,
    "start_time": "2022-03-04T18:28:58.864Z"
   },
   {
    "duration": 59,
    "start_time": "2022-03-04T18:28:59.053Z"
   },
   {
    "duration": 90,
    "start_time": "2022-03-04T18:28:59.114Z"
   },
   {
    "duration": 19,
    "start_time": "2022-03-04T18:28:59.206Z"
   },
   {
    "duration": 16,
    "start_time": "2022-03-04T18:28:59.226Z"
   },
   {
    "duration": 46,
    "start_time": "2022-03-04T18:28:59.244Z"
   },
   {
    "duration": 37,
    "start_time": "2022-03-04T18:28:59.292Z"
   },
   {
    "duration": 50,
    "start_time": "2022-03-04T18:28:59.331Z"
   },
   {
    "duration": 33,
    "start_time": "2022-03-04T18:28:59.382Z"
   },
   {
    "duration": 3,
    "start_time": "2022-03-04T18:28:59.417Z"
   },
   {
    "duration": 7,
    "start_time": "2022-03-04T18:28:59.422Z"
   },
   {
    "duration": 16,
    "start_time": "2022-03-04T18:28:59.431Z"
   },
   {
    "duration": 30,
    "start_time": "2022-03-04T18:28:59.449Z"
   },
   {
    "duration": 4,
    "start_time": "2022-03-04T18:28:59.480Z"
   },
   {
    "duration": 12,
    "start_time": "2022-03-04T18:28:59.487Z"
   },
   {
    "duration": 32,
    "start_time": "2022-03-04T18:28:59.501Z"
   },
   {
    "duration": 9,
    "start_time": "2022-03-04T18:28:59.534Z"
   },
   {
    "duration": 4,
    "start_time": "2022-03-04T18:28:59.544Z"
   },
   {
    "duration": 5,
    "start_time": "2022-03-04T18:28:59.577Z"
   },
   {
    "duration": 295,
    "start_time": "2022-03-04T18:28:59.583Z"
   },
   {
    "duration": 40,
    "start_time": "2022-03-04T18:28:59.879Z"
   },
   {
    "duration": 5,
    "start_time": "2022-03-04T18:28:59.921Z"
   },
   {
    "duration": 5,
    "start_time": "2022-03-04T18:28:59.928Z"
   },
   {
    "duration": 9,
    "start_time": "2022-03-04T18:28:59.935Z"
   },
   {
    "duration": 32,
    "start_time": "2022-03-04T18:28:59.945Z"
   },
   {
    "duration": 333,
    "start_time": "2022-03-04T18:28:59.979Z"
   },
   {
    "duration": 372,
    "start_time": "2022-03-04T18:29:00.313Z"
   },
   {
    "duration": 376,
    "start_time": "2022-03-04T18:29:00.687Z"
   },
   {
    "duration": 3,
    "start_time": "2022-03-04T18:29:01.065Z"
   },
   {
    "duration": 9,
    "start_time": "2022-03-04T18:29:01.077Z"
   },
   {
    "duration": 11,
    "start_time": "2022-03-04T18:29:01.087Z"
   },
   {
    "duration": 433,
    "start_time": "2022-03-04T18:29:01.100Z"
   },
   {
    "duration": 9,
    "start_time": "2022-03-04T18:29:01.535Z"
   },
   {
    "duration": 20,
    "start_time": "2022-03-04T18:29:01.545Z"
   },
   {
    "duration": 14,
    "start_time": "2022-03-04T18:29:01.566Z"
   },
   {
    "duration": 11,
    "start_time": "2022-03-04T18:29:01.582Z"
   },
   {
    "duration": 11,
    "start_time": "2022-03-04T18:29:01.595Z"
   },
   {
    "duration": 23,
    "start_time": "2022-03-04T18:29:01.608Z"
   },
   {
    "duration": 6,
    "start_time": "2022-03-04T18:29:01.633Z"
   },
   {
    "duration": 42,
    "start_time": "2022-03-04T18:29:01.640Z"
   },
   {
    "duration": 2,
    "start_time": "2022-03-04T18:29:01.684Z"
   },
   {
    "duration": 351,
    "start_time": "2022-03-04T18:29:01.688Z"
   },
   {
    "duration": 355,
    "start_time": "2022-03-04T18:29:02.041Z"
   },
   {
    "duration": 349,
    "start_time": "2022-03-04T18:29:02.398Z"
   },
   {
    "duration": 45,
    "start_time": "2022-03-04T18:34:37.901Z"
   },
   {
    "duration": 9,
    "start_time": "2022-03-04T18:34:56.455Z"
   },
   {
    "duration": 41,
    "start_time": "2022-03-04T18:35:00.855Z"
   },
   {
    "duration": 9,
    "start_time": "2022-03-04T18:35:03.414Z"
   },
   {
    "duration": 28,
    "start_time": "2022-03-04T18:35:20.930Z"
   },
   {
    "duration": 9,
    "start_time": "2022-03-04T18:38:46.102Z"
   },
   {
    "duration": 662,
    "start_time": "2022-03-04T18:40:18.571Z"
   },
   {
    "duration": 3,
    "start_time": "2022-03-04T18:40:19.234Z"
   },
   {
    "duration": 84,
    "start_time": "2022-03-04T18:40:19.238Z"
   },
   {
    "duration": 2,
    "start_time": "2022-03-04T18:40:19.325Z"
   },
   {
    "duration": 167,
    "start_time": "2022-03-04T18:40:19.329Z"
   },
   {
    "duration": 108,
    "start_time": "2022-03-04T18:40:19.498Z"
   },
   {
    "duration": 31,
    "start_time": "2022-03-04T18:40:19.607Z"
   },
   {
    "duration": 28,
    "start_time": "2022-03-04T18:40:19.639Z"
   },
   {
    "duration": 182,
    "start_time": "2022-03-04T18:40:19.671Z"
   },
   {
    "duration": 58,
    "start_time": "2022-03-04T18:40:19.855Z"
   },
   {
    "duration": 89,
    "start_time": "2022-03-04T18:40:19.914Z"
   },
   {
    "duration": 19,
    "start_time": "2022-03-04T18:40:20.005Z"
   },
   {
    "duration": 17,
    "start_time": "2022-03-04T18:40:20.026Z"
   },
   {
    "duration": 41,
    "start_time": "2022-03-04T18:40:20.045Z"
   },
   {
    "duration": 38,
    "start_time": "2022-03-04T18:40:20.088Z"
   },
   {
    "duration": 33,
    "start_time": "2022-03-04T18:40:20.128Z"
   },
   {
    "duration": 35,
    "start_time": "2022-03-04T18:40:20.178Z"
   },
   {
    "duration": 4,
    "start_time": "2022-03-04T18:40:20.215Z"
   },
   {
    "duration": 9,
    "start_time": "2022-03-04T18:40:20.221Z"
   },
   {
    "duration": 12,
    "start_time": "2022-03-04T18:40:20.232Z"
   },
   {
    "duration": 40,
    "start_time": "2022-03-04T18:40:20.246Z"
   },
   {
    "duration": 4,
    "start_time": "2022-03-04T18:40:20.288Z"
   },
   {
    "duration": 8,
    "start_time": "2022-03-04T18:40:20.294Z"
   },
   {
    "duration": 34,
    "start_time": "2022-03-04T18:40:20.304Z"
   },
   {
    "duration": 39,
    "start_time": "2022-03-04T18:40:20.340Z"
   },
   {
    "duration": 6,
    "start_time": "2022-03-04T18:40:20.381Z"
   },
   {
    "duration": 5,
    "start_time": "2022-03-04T18:40:20.391Z"
   },
   {
    "duration": 293,
    "start_time": "2022-03-04T18:40:20.399Z"
   },
   {
    "duration": 40,
    "start_time": "2022-03-04T18:40:20.694Z"
   },
   {
    "duration": 7,
    "start_time": "2022-03-04T18:40:20.736Z"
   },
   {
    "duration": 7,
    "start_time": "2022-03-04T18:40:20.745Z"
   },
   {
    "duration": 27,
    "start_time": "2022-03-04T18:40:20.754Z"
   },
   {
    "duration": 7,
    "start_time": "2022-03-04T18:40:20.783Z"
   },
   {
    "duration": 341,
    "start_time": "2022-03-04T18:40:20.791Z"
   },
   {
    "duration": 359,
    "start_time": "2022-03-04T18:40:21.135Z"
   },
   {
    "duration": 347,
    "start_time": "2022-03-04T18:40:21.497Z"
   },
   {
    "duration": 2,
    "start_time": "2022-03-04T18:40:21.847Z"
   },
   {
    "duration": 17,
    "start_time": "2022-03-04T18:40:21.852Z"
   },
   {
    "duration": 9,
    "start_time": "2022-03-04T18:40:21.871Z"
   },
   {
    "duration": 442,
    "start_time": "2022-03-04T18:40:21.881Z"
   },
   {
    "duration": 8,
    "start_time": "2022-03-04T18:40:22.326Z"
   },
   {
    "duration": 9,
    "start_time": "2022-03-04T18:40:22.336Z"
   },
   {
    "duration": 8,
    "start_time": "2022-03-04T18:40:22.347Z"
   },
   {
    "duration": 29,
    "start_time": "2022-03-04T18:40:22.356Z"
   },
   {
    "duration": 10,
    "start_time": "2022-03-04T18:40:22.387Z"
   },
   {
    "duration": 21,
    "start_time": "2022-03-04T18:40:22.398Z"
   },
   {
    "duration": 7,
    "start_time": "2022-03-04T18:40:22.421Z"
   },
   {
    "duration": 17,
    "start_time": "2022-03-04T18:40:22.430Z"
   },
   {
    "duration": 29,
    "start_time": "2022-03-04T18:40:22.449Z"
   },
   {
    "duration": 319,
    "start_time": "2022-03-04T18:40:22.480Z"
   },
   {
    "duration": 344,
    "start_time": "2022-03-04T18:40:22.801Z"
   },
   {
    "duration": 325,
    "start_time": "2022-03-04T18:40:23.147Z"
   },
   {
    "duration": 11,
    "start_time": "2022-03-04T18:41:06.354Z"
   },
   {
    "duration": 11,
    "start_time": "2022-03-04T18:41:12.163Z"
   },
   {
    "duration": 346,
    "start_time": "2022-03-04T18:41:36.834Z"
   },
   {
    "duration": 7,
    "start_time": "2022-03-04T18:41:45.587Z"
   },
   {
    "duration": 248,
    "start_time": "2022-03-04T18:42:34.063Z"
   },
   {
    "duration": 7,
    "start_time": "2022-03-04T18:42:42.031Z"
   },
   {
    "duration": 9,
    "start_time": "2022-03-04T18:42:44.538Z"
   },
   {
    "duration": 9,
    "start_time": "2022-03-04T18:42:54.079Z"
   },
   {
    "duration": 7,
    "start_time": "2022-03-04T18:43:00.953Z"
   },
   {
    "duration": 10,
    "start_time": "2022-03-04T18:44:34.916Z"
   },
   {
    "duration": 9,
    "start_time": "2022-03-04T18:44:46.577Z"
   },
   {
    "duration": 318,
    "start_time": "2022-03-04T18:45:58.110Z"
   },
   {
    "duration": 330,
    "start_time": "2022-03-04T18:46:03.609Z"
   },
   {
    "duration": 395,
    "start_time": "2022-03-04T18:46:15.023Z"
   },
   {
    "duration": 363,
    "start_time": "2022-03-04T18:47:19.139Z"
   },
   {
    "duration": 267,
    "start_time": "2022-03-04T18:49:54.438Z"
   },
   {
    "duration": 91,
    "start_time": "2022-03-04T18:50:01.628Z"
   },
   {
    "duration": 242,
    "start_time": "2022-03-04T18:55:08.474Z"
   },
   {
    "duration": 272,
    "start_time": "2022-03-04T19:01:46.242Z"
   },
   {
    "duration": 93,
    "start_time": "2022-03-04T19:03:23.951Z"
   },
   {
    "duration": 260,
    "start_time": "2022-03-04T19:04:57.038Z"
   },
   {
    "duration": 93,
    "start_time": "2022-03-04T19:09:17.570Z"
   },
   {
    "duration": 249,
    "start_time": "2022-03-04T19:09:23.876Z"
   },
   {
    "duration": 504,
    "start_time": "2022-03-04T19:09:42.599Z"
   },
   {
    "duration": 88,
    "start_time": "2022-03-04T19:09:46.651Z"
   },
   {
    "duration": 268,
    "start_time": "2022-03-04T19:09:49.171Z"
   },
   {
    "duration": 264,
    "start_time": "2022-03-04T19:10:24.810Z"
   },
   {
    "duration": 635,
    "start_time": "2022-03-04T19:11:08.677Z"
   },
   {
    "duration": 3,
    "start_time": "2022-03-04T19:11:09.314Z"
   },
   {
    "duration": 91,
    "start_time": "2022-03-04T19:11:09.319Z"
   },
   {
    "duration": 2,
    "start_time": "2022-03-04T19:11:09.412Z"
   },
   {
    "duration": 171,
    "start_time": "2022-03-04T19:11:09.416Z"
   },
   {
    "duration": 103,
    "start_time": "2022-03-04T19:11:09.589Z"
   },
   {
    "duration": 29,
    "start_time": "2022-03-04T19:11:09.693Z"
   },
   {
    "duration": 26,
    "start_time": "2022-03-04T19:11:09.725Z"
   },
   {
    "duration": 175,
    "start_time": "2022-03-04T19:11:09.753Z"
   },
   {
    "duration": 60,
    "start_time": "2022-03-04T19:11:09.929Z"
   },
   {
    "duration": 88,
    "start_time": "2022-03-04T19:11:09.991Z"
   },
   {
    "duration": 19,
    "start_time": "2022-03-04T19:11:10.081Z"
   },
   {
    "duration": 16,
    "start_time": "2022-03-04T19:11:10.102Z"
   },
   {
    "duration": 25,
    "start_time": "2022-03-04T19:11:10.120Z"
   },
   {
    "duration": 61,
    "start_time": "2022-03-04T19:11:10.147Z"
   },
   {
    "duration": 34,
    "start_time": "2022-03-04T19:11:10.209Z"
   },
   {
    "duration": 46,
    "start_time": "2022-03-04T19:11:10.245Z"
   },
   {
    "duration": 3,
    "start_time": "2022-03-04T19:11:10.293Z"
   },
   {
    "duration": 7,
    "start_time": "2022-03-04T19:11:10.297Z"
   },
   {
    "duration": 9,
    "start_time": "2022-03-04T19:11:10.305Z"
   },
   {
    "duration": 9,
    "start_time": "2022-03-04T19:11:10.316Z"
   },
   {
    "duration": 4,
    "start_time": "2022-03-04T19:11:10.326Z"
   },
   {
    "duration": 8,
    "start_time": "2022-03-04T19:11:10.333Z"
   },
   {
    "duration": 60,
    "start_time": "2022-03-04T19:11:10.343Z"
   },
   {
    "duration": 8,
    "start_time": "2022-03-04T19:11:10.405Z"
   },
   {
    "duration": 5,
    "start_time": "2022-03-04T19:11:10.414Z"
   },
   {
    "duration": 6,
    "start_time": "2022-03-04T19:11:10.420Z"
   },
   {
    "duration": 290,
    "start_time": "2022-03-04T19:11:10.428Z"
   },
   {
    "duration": 335,
    "start_time": "2022-03-04T19:11:10.719Z"
   },
   {
    "duration": 14,
    "start_time": "2022-03-04T19:11:11.042Z"
   },
   {
    "duration": -3,
    "start_time": "2022-03-04T19:11:11.060Z"
   },
   {
    "duration": -9,
    "start_time": "2022-03-04T19:11:11.067Z"
   },
   {
    "duration": -14,
    "start_time": "2022-03-04T19:11:11.073Z"
   },
   {
    "duration": -19,
    "start_time": "2022-03-04T19:11:11.079Z"
   },
   {
    "duration": -24,
    "start_time": "2022-03-04T19:11:11.085Z"
   },
   {
    "duration": -29,
    "start_time": "2022-03-04T19:11:11.091Z"
   },
   {
    "duration": -34,
    "start_time": "2022-03-04T19:11:11.097Z"
   },
   {
    "duration": -38,
    "start_time": "2022-03-04T19:11:11.102Z"
   },
   {
    "duration": -42,
    "start_time": "2022-03-04T19:11:11.107Z"
   },
   {
    "duration": -46,
    "start_time": "2022-03-04T19:11:11.112Z"
   },
   {
    "duration": -54,
    "start_time": "2022-03-04T19:11:11.121Z"
   },
   {
    "duration": -57,
    "start_time": "2022-03-04T19:11:11.125Z"
   },
   {
    "duration": -61,
    "start_time": "2022-03-04T19:11:11.130Z"
   },
   {
    "duration": -65,
    "start_time": "2022-03-04T19:11:11.135Z"
   },
   {
    "duration": -70,
    "start_time": "2022-03-04T19:11:11.141Z"
   },
   {
    "duration": -73,
    "start_time": "2022-03-04T19:11:11.145Z"
   },
   {
    "duration": -78,
    "start_time": "2022-03-04T19:11:11.152Z"
   },
   {
    "duration": -93,
    "start_time": "2022-03-04T19:11:11.167Z"
   },
   {
    "duration": -96,
    "start_time": "2022-03-04T19:11:11.172Z"
   },
   {
    "duration": 627,
    "start_time": "2022-03-04T19:11:35.257Z"
   },
   {
    "duration": 3,
    "start_time": "2022-03-04T19:11:35.886Z"
   },
   {
    "duration": 94,
    "start_time": "2022-03-04T19:11:35.893Z"
   },
   {
    "duration": 2,
    "start_time": "2022-03-04T19:11:35.989Z"
   },
   {
    "duration": 171,
    "start_time": "2022-03-04T19:11:35.993Z"
   },
   {
    "duration": 111,
    "start_time": "2022-03-04T19:11:36.166Z"
   },
   {
    "duration": 30,
    "start_time": "2022-03-04T19:11:36.279Z"
   },
   {
    "duration": 28,
    "start_time": "2022-03-04T19:11:36.311Z"
   },
   {
    "duration": 183,
    "start_time": "2022-03-04T19:11:36.341Z"
   },
   {
    "duration": 61,
    "start_time": "2022-03-04T19:11:36.526Z"
   },
   {
    "duration": 68,
    "start_time": "2022-03-04T19:11:36.589Z"
   },
   {
    "duration": 36,
    "start_time": "2022-03-04T19:11:36.659Z"
   },
   {
    "duration": 16,
    "start_time": "2022-03-04T19:11:36.697Z"
   },
   {
    "duration": 25,
    "start_time": "2022-03-04T19:11:36.714Z"
   },
   {
    "duration": 58,
    "start_time": "2022-03-04T19:11:36.741Z"
   },
   {
    "duration": 36,
    "start_time": "2022-03-04T19:11:36.800Z"
   },
   {
    "duration": 51,
    "start_time": "2022-03-04T19:11:36.837Z"
   },
   {
    "duration": 3,
    "start_time": "2022-03-04T19:11:36.889Z"
   },
   {
    "duration": 10,
    "start_time": "2022-03-04T19:11:36.893Z"
   },
   {
    "duration": 10,
    "start_time": "2022-03-04T19:11:36.904Z"
   },
   {
    "duration": 11,
    "start_time": "2022-03-04T19:11:36.915Z"
   },
   {
    "duration": 4,
    "start_time": "2022-03-04T19:11:36.930Z"
   },
   {
    "duration": 8,
    "start_time": "2022-03-04T19:11:36.936Z"
   },
   {
    "duration": 52,
    "start_time": "2022-03-04T19:11:36.946Z"
   },
   {
    "duration": 9,
    "start_time": "2022-03-04T19:11:37.000Z"
   },
   {
    "duration": 3,
    "start_time": "2022-03-04T19:11:37.011Z"
   },
   {
    "duration": 6,
    "start_time": "2022-03-04T19:11:37.016Z"
   },
   {
    "duration": 291,
    "start_time": "2022-03-04T19:11:37.023Z"
   },
   {
    "duration": 38,
    "start_time": "2022-03-04T19:11:37.316Z"
   },
   {
    "duration": 5,
    "start_time": "2022-03-04T19:11:37.356Z"
   },
   {
    "duration": 2,
    "start_time": "2022-03-04T19:11:37.377Z"
   },
   {
    "duration": 7,
    "start_time": "2022-03-04T19:11:37.381Z"
   },
   {
    "duration": 3,
    "start_time": "2022-03-04T19:11:37.390Z"
   },
   {
    "duration": 340,
    "start_time": "2022-03-04T19:11:37.395Z"
   },
   {
    "duration": 346,
    "start_time": "2022-03-04T19:11:37.736Z"
   },
   {
    "duration": 346,
    "start_time": "2022-03-04T19:11:38.084Z"
   },
   {
    "duration": 2,
    "start_time": "2022-03-04T19:11:38.432Z"
   },
   {
    "duration": 6,
    "start_time": "2022-03-04T19:11:38.436Z"
   },
   {
    "duration": 6,
    "start_time": "2022-03-04T19:11:38.444Z"
   },
   {
    "duration": 397,
    "start_time": "2022-03-04T19:11:38.451Z"
   },
   {
    "duration": 9,
    "start_time": "2022-03-04T19:11:38.850Z"
   },
   {
    "duration": 34,
    "start_time": "2022-03-04T19:11:38.861Z"
   },
   {
    "duration": 3,
    "start_time": "2022-03-04T19:11:38.896Z"
   },
   {
    "duration": 16,
    "start_time": "2022-03-04T19:11:38.900Z"
   },
   {
    "duration": 7,
    "start_time": "2022-03-04T19:11:38.918Z"
   },
   {
    "duration": 314,
    "start_time": "2022-03-04T19:11:38.927Z"
   },
   {
    "duration": 339,
    "start_time": "2022-03-04T19:11:39.243Z"
   },
   {
    "duration": 337,
    "start_time": "2022-03-04T19:11:39.584Z"
   },
   {
    "duration": 9,
    "start_time": "2022-03-04T19:13:10.722Z"
   },
   {
    "duration": 6,
    "start_time": "2022-03-04T19:13:20.958Z"
   },
   {
    "duration": 9,
    "start_time": "2022-03-04T19:13:36.292Z"
   },
   {
    "duration": 261,
    "start_time": "2022-03-04T19:13:55.692Z"
   },
   {
    "duration": 273,
    "start_time": "2022-03-04T19:14:07.672Z"
   },
   {
    "duration": 98,
    "start_time": "2022-03-04T19:16:15.631Z"
   },
   {
    "duration": 263,
    "start_time": "2022-03-04T19:16:22.990Z"
   },
   {
    "duration": 662,
    "start_time": "2022-03-04T19:16:39.818Z"
   },
   {
    "duration": 3,
    "start_time": "2022-03-04T19:16:40.482Z"
   },
   {
    "duration": 97,
    "start_time": "2022-03-04T19:16:40.487Z"
   },
   {
    "duration": 2,
    "start_time": "2022-03-04T19:16:40.586Z"
   },
   {
    "duration": 175,
    "start_time": "2022-03-04T19:16:40.590Z"
   },
   {
    "duration": 104,
    "start_time": "2022-03-04T19:16:40.767Z"
   },
   {
    "duration": 29,
    "start_time": "2022-03-04T19:16:40.877Z"
   },
   {
    "duration": 27,
    "start_time": "2022-03-04T19:16:40.909Z"
   },
   {
    "duration": 191,
    "start_time": "2022-03-04T19:16:40.939Z"
   },
   {
    "duration": 64,
    "start_time": "2022-03-04T19:16:41.132Z"
   },
   {
    "duration": 94,
    "start_time": "2022-03-04T19:16:41.198Z"
   },
   {
    "duration": 21,
    "start_time": "2022-03-04T19:16:41.294Z"
   },
   {
    "duration": 18,
    "start_time": "2022-03-04T19:16:41.317Z"
   },
   {
    "duration": 48,
    "start_time": "2022-03-04T19:16:41.337Z"
   },
   {
    "duration": 40,
    "start_time": "2022-03-04T19:16:41.387Z"
   },
   {
    "duration": 55,
    "start_time": "2022-03-04T19:16:41.430Z"
   },
   {
    "duration": 35,
    "start_time": "2022-03-04T19:16:41.486Z"
   },
   {
    "duration": 4,
    "start_time": "2022-03-04T19:16:41.522Z"
   },
   {
    "duration": 7,
    "start_time": "2022-03-04T19:16:41.527Z"
   },
   {
    "duration": 13,
    "start_time": "2022-03-04T19:16:41.536Z"
   },
   {
    "duration": 32,
    "start_time": "2022-03-04T19:16:41.551Z"
   },
   {
    "duration": 6,
    "start_time": "2022-03-04T19:16:41.585Z"
   },
   {
    "duration": 16,
    "start_time": "2022-03-04T19:16:41.595Z"
   },
   {
    "duration": 33,
    "start_time": "2022-03-04T19:16:41.614Z"
   },
   {
    "duration": 9,
    "start_time": "2022-03-04T19:16:41.649Z"
   },
   {
    "duration": 4,
    "start_time": "2022-03-04T19:16:41.678Z"
   },
   {
    "duration": 7,
    "start_time": "2022-03-04T19:16:41.684Z"
   },
   {
    "duration": 270,
    "start_time": "2022-03-04T19:16:41.693Z"
   },
   {
    "duration": 44,
    "start_time": "2022-03-04T19:16:41.965Z"
   },
   {
    "duration": 6,
    "start_time": "2022-03-04T19:16:42.011Z"
   },
   {
    "duration": 5,
    "start_time": "2022-03-04T19:16:42.019Z"
   },
   {
    "duration": 7,
    "start_time": "2022-03-04T19:16:42.026Z"
   },
   {
    "duration": 4,
    "start_time": "2022-03-04T19:16:42.035Z"
   },
   {
    "duration": 360,
    "start_time": "2022-03-04T19:16:42.041Z"
   },
   {
    "duration": 366,
    "start_time": "2022-03-04T19:16:42.404Z"
   },
   {
    "duration": 359,
    "start_time": "2022-03-04T19:16:42.772Z"
   },
   {
    "duration": 3,
    "start_time": "2022-03-04T19:16:43.134Z"
   },
   {
    "duration": 5,
    "start_time": "2022-03-04T19:16:43.139Z"
   },
   {
    "duration": 5,
    "start_time": "2022-03-04T19:16:43.146Z"
   },
   {
    "duration": 467,
    "start_time": "2022-03-04T19:16:43.153Z"
   },
   {
    "duration": 9,
    "start_time": "2022-03-04T19:16:43.622Z"
   },
   {
    "duration": 20,
    "start_time": "2022-03-04T19:16:43.633Z"
   },
   {
    "duration": 24,
    "start_time": "2022-03-04T19:16:43.654Z"
   },
   {
    "duration": 14,
    "start_time": "2022-03-04T19:16:43.680Z"
   },
   {
    "duration": 2,
    "start_time": "2022-03-04T19:16:43.696Z"
   },
   {
    "duration": 331,
    "start_time": "2022-03-04T19:16:43.700Z"
   },
   {
    "duration": 328,
    "start_time": "2022-03-04T19:16:44.033Z"
   },
   {
    "duration": 357,
    "start_time": "2022-03-04T19:16:44.362Z"
   },
   {
    "duration": 9,
    "start_time": "2022-03-04T19:17:00.451Z"
   },
   {
    "duration": 9,
    "start_time": "2022-03-04T19:50:57.333Z"
   },
   {
    "duration": 9,
    "start_time": "2022-03-04T19:51:07.159Z"
   },
   {
    "duration": 9,
    "start_time": "2022-03-04T19:51:10.908Z"
   },
   {
    "duration": 229,
    "start_time": "2022-03-04T20:00:57.592Z"
   },
   {
    "duration": 247,
    "start_time": "2022-03-04T20:01:19.454Z"
   },
   {
    "duration": 243,
    "start_time": "2022-03-04T20:01:22.472Z"
   },
   {
    "duration": 245,
    "start_time": "2022-03-04T20:01:28.760Z"
   },
   {
    "duration": 246,
    "start_time": "2022-03-04T20:01:35.669Z"
   },
   {
    "duration": 255,
    "start_time": "2022-03-04T20:01:55.535Z"
   },
   {
    "duration": 306,
    "start_time": "2022-03-04T20:02:16.925Z"
   },
   {
    "duration": 252,
    "start_time": "2022-03-04T20:02:26.823Z"
   },
   {
    "duration": 6,
    "start_time": "2022-03-04T20:02:31.053Z"
   },
   {
    "duration": 11,
    "start_time": "2022-03-04T20:02:41.255Z"
   },
   {
    "duration": 5,
    "start_time": "2022-03-04T20:03:11.648Z"
   },
   {
    "duration": 6,
    "start_time": "2022-03-04T20:03:29.784Z"
   },
   {
    "duration": 10,
    "start_time": "2022-03-04T20:03:31.316Z"
   },
   {
    "duration": 9,
    "start_time": "2022-03-04T20:03:47.354Z"
   },
   {
    "duration": 9,
    "start_time": "2022-03-04T20:03:56.650Z"
   },
   {
    "duration": 20,
    "start_time": "2022-03-04T20:04:10.782Z"
   },
   {
    "duration": 315,
    "start_time": "2022-03-04T20:06:50.665Z"
   },
   {
    "duration": 304,
    "start_time": "2022-03-04T20:07:12.727Z"
   },
   {
    "duration": 369,
    "start_time": "2022-03-04T20:07:24.214Z"
   },
   {
    "duration": 319,
    "start_time": "2022-03-04T20:07:57.685Z"
   },
   {
    "duration": 295,
    "start_time": "2022-03-04T20:11:27.727Z"
   },
   {
    "duration": 290,
    "start_time": "2022-03-04T20:12:24.161Z"
   },
   {
    "duration": 354,
    "start_time": "2022-03-04T20:12:45.840Z"
   },
   {
    "duration": 340,
    "start_time": "2022-03-04T20:12:54.839Z"
   },
   {
    "duration": 302,
    "start_time": "2022-03-04T20:14:19.430Z"
   },
   {
    "duration": 242,
    "start_time": "2022-03-04T20:18:22.354Z"
   },
   {
    "duration": 603,
    "start_time": "2022-03-04T20:18:46.415Z"
   },
   {
    "duration": 2,
    "start_time": "2022-03-04T20:18:47.020Z"
   },
   {
    "duration": 83,
    "start_time": "2022-03-04T20:18:47.025Z"
   },
   {
    "duration": 3,
    "start_time": "2022-03-04T20:18:47.110Z"
   },
   {
    "duration": 160,
    "start_time": "2022-03-04T20:18:47.115Z"
   },
   {
    "duration": 108,
    "start_time": "2022-03-04T20:18:47.277Z"
   },
   {
    "duration": 31,
    "start_time": "2022-03-04T20:18:47.386Z"
   },
   {
    "duration": 27,
    "start_time": "2022-03-04T20:18:47.420Z"
   },
   {
    "duration": 184,
    "start_time": "2022-03-04T20:18:47.449Z"
   },
   {
    "duration": 63,
    "start_time": "2022-03-04T20:18:47.635Z"
   },
   {
    "duration": 81,
    "start_time": "2022-03-04T20:18:47.700Z"
   },
   {
    "duration": 19,
    "start_time": "2022-03-04T20:18:47.783Z"
   },
   {
    "duration": 16,
    "start_time": "2022-03-04T20:18:47.804Z"
   },
   {
    "duration": 30,
    "start_time": "2022-03-04T20:18:47.822Z"
   },
   {
    "duration": 56,
    "start_time": "2022-03-04T20:18:47.854Z"
   },
   {
    "duration": 36,
    "start_time": "2022-03-04T20:18:47.912Z"
   },
   {
    "duration": 52,
    "start_time": "2022-03-04T20:18:47.950Z"
   },
   {
    "duration": 3,
    "start_time": "2022-03-04T20:18:48.004Z"
   },
   {
    "duration": 9,
    "start_time": "2022-03-04T20:18:48.009Z"
   },
   {
    "duration": 15,
    "start_time": "2022-03-04T20:18:48.019Z"
   },
   {
    "duration": 8,
    "start_time": "2022-03-04T20:18:48.036Z"
   },
   {
    "duration": 3,
    "start_time": "2022-03-04T20:18:48.046Z"
   },
   {
    "duration": 27,
    "start_time": "2022-03-04T20:18:48.053Z"
   },
   {
    "duration": 33,
    "start_time": "2022-03-04T20:18:48.082Z"
   },
   {
    "duration": 8,
    "start_time": "2022-03-04T20:18:48.117Z"
   },
   {
    "duration": 3,
    "start_time": "2022-03-04T20:18:48.127Z"
   },
   {
    "duration": 7,
    "start_time": "2022-03-04T20:18:48.132Z"
   },
   {
    "duration": 265,
    "start_time": "2022-03-04T20:18:48.141Z"
   },
   {
    "duration": 37,
    "start_time": "2022-03-04T20:18:48.408Z"
   },
   {
    "duration": 5,
    "start_time": "2022-03-04T20:18:48.447Z"
   },
   {
    "duration": 23,
    "start_time": "2022-03-04T20:18:48.454Z"
   },
   {
    "duration": 5,
    "start_time": "2022-03-04T20:18:48.479Z"
   },
   {
    "duration": 10,
    "start_time": "2022-03-04T20:18:48.486Z"
   },
   {
    "duration": 329,
    "start_time": "2022-03-04T20:18:48.497Z"
   },
   {
    "duration": 344,
    "start_time": "2022-03-04T20:18:48.828Z"
   },
   {
    "duration": 339,
    "start_time": "2022-03-04T20:18:49.173Z"
   },
   {
    "duration": 2,
    "start_time": "2022-03-04T20:18:49.514Z"
   },
   {
    "duration": 5,
    "start_time": "2022-03-04T20:18:49.518Z"
   },
   {
    "duration": 5,
    "start_time": "2022-03-04T20:18:49.525Z"
   },
   {
    "duration": 403,
    "start_time": "2022-03-04T20:18:49.531Z"
   },
   {
    "duration": 6,
    "start_time": "2022-03-04T20:18:49.935Z"
   },
   {
    "duration": 10,
    "start_time": "2022-03-04T20:18:49.942Z"
   },
   {
    "duration": 33,
    "start_time": "2022-03-04T20:18:49.953Z"
   },
   {
    "duration": 5,
    "start_time": "2022-03-04T20:18:49.988Z"
   },
   {
    "duration": 14,
    "start_time": "2022-03-04T20:18:49.995Z"
   },
   {
    "duration": 6,
    "start_time": "2022-03-04T20:18:50.011Z"
   },
   {
    "duration": 329,
    "start_time": "2022-03-04T20:18:50.019Z"
   },
   {
    "duration": 338,
    "start_time": "2022-03-04T20:18:50.350Z"
   },
   {
    "duration": 365,
    "start_time": "2022-03-04T20:18:50.689Z"
   },
   {
    "duration": 11,
    "start_time": "2022-03-04T20:19:04.447Z"
   },
   {
    "duration": 9,
    "start_time": "2022-03-04T20:19:19.179Z"
   },
   {
    "duration": 9,
    "start_time": "2022-03-04T20:22:10.472Z"
   },
   {
    "duration": 585,
    "start_time": "2022-03-04T20:22:20.538Z"
   },
   {
    "duration": 2,
    "start_time": "2022-03-04T20:22:21.125Z"
   },
   {
    "duration": 92,
    "start_time": "2022-03-04T20:22:21.129Z"
   },
   {
    "duration": 3,
    "start_time": "2022-03-04T20:22:21.223Z"
   },
   {
    "duration": 170,
    "start_time": "2022-03-04T20:22:21.227Z"
   },
   {
    "duration": 110,
    "start_time": "2022-03-04T20:22:21.399Z"
   },
   {
    "duration": 30,
    "start_time": "2022-03-04T20:22:21.510Z"
   },
   {
    "duration": 28,
    "start_time": "2022-03-04T20:22:21.543Z"
   },
   {
    "duration": 183,
    "start_time": "2022-03-04T20:22:21.573Z"
   },
   {
    "duration": 54,
    "start_time": "2022-03-04T20:22:21.757Z"
   },
   {
    "duration": 89,
    "start_time": "2022-03-04T20:22:21.813Z"
   },
   {
    "duration": 18,
    "start_time": "2022-03-04T20:22:21.904Z"
   },
   {
    "duration": 16,
    "start_time": "2022-03-04T20:22:21.924Z"
   },
   {
    "duration": 41,
    "start_time": "2022-03-04T20:22:21.942Z"
   },
   {
    "duration": 39,
    "start_time": "2022-03-04T20:22:21.985Z"
   },
   {
    "duration": 34,
    "start_time": "2022-03-04T20:22:22.025Z"
   },
   {
    "duration": 47,
    "start_time": "2022-03-04T20:22:22.061Z"
   },
   {
    "duration": 3,
    "start_time": "2022-03-04T20:22:22.110Z"
   },
   {
    "duration": 7,
    "start_time": "2022-03-04T20:22:22.115Z"
   },
   {
    "duration": 10,
    "start_time": "2022-03-04T20:22:22.123Z"
   },
   {
    "duration": 10,
    "start_time": "2022-03-04T20:22:22.134Z"
   },
   {
    "duration": 4,
    "start_time": "2022-03-04T20:22:22.145Z"
   },
   {
    "duration": 8,
    "start_time": "2022-03-04T20:22:22.177Z"
   },
   {
    "duration": 32,
    "start_time": "2022-03-04T20:22:22.187Z"
   },
   {
    "duration": 8,
    "start_time": "2022-03-04T20:22:22.221Z"
   },
   {
    "duration": 3,
    "start_time": "2022-03-04T20:22:22.231Z"
   },
   {
    "duration": 8,
    "start_time": "2022-03-04T20:22:22.236Z"
   },
   {
    "duration": 263,
    "start_time": "2022-03-04T20:22:22.245Z"
   },
   {
    "duration": 39,
    "start_time": "2022-03-04T20:22:22.509Z"
   },
   {
    "duration": 6,
    "start_time": "2022-03-04T20:22:22.550Z"
   },
   {
    "duration": 21,
    "start_time": "2022-03-04T20:22:22.557Z"
   },
   {
    "duration": 15,
    "start_time": "2022-03-04T20:22:22.579Z"
   },
   {
    "duration": 10,
    "start_time": "2022-03-04T20:22:22.595Z"
   },
   {
    "duration": 324,
    "start_time": "2022-03-04T20:22:22.606Z"
   },
   {
    "duration": 353,
    "start_time": "2022-03-04T20:22:22.931Z"
   },
   {
    "duration": 344,
    "start_time": "2022-03-04T20:22:23.285Z"
   },
   {
    "duration": 2,
    "start_time": "2022-03-04T20:22:23.631Z"
   },
   {
    "duration": 11,
    "start_time": "2022-03-04T20:22:23.634Z"
   },
   {
    "duration": 6,
    "start_time": "2022-03-04T20:22:23.646Z"
   },
   {
    "duration": 378,
    "start_time": "2022-03-04T20:22:23.653Z"
   },
   {
    "duration": 9,
    "start_time": "2022-03-04T20:22:24.033Z"
   },
   {
    "duration": 12,
    "start_time": "2022-03-04T20:22:24.043Z"
   },
   {
    "duration": 5,
    "start_time": "2022-03-04T20:22:24.057Z"
   },
   {
    "duration": 25,
    "start_time": "2022-03-04T20:22:24.063Z"
   },
   {
    "duration": 3,
    "start_time": "2022-03-04T20:22:24.090Z"
   },
   {
    "duration": 306,
    "start_time": "2022-03-04T20:22:24.095Z"
   },
   {
    "duration": 307,
    "start_time": "2022-03-04T20:22:24.402Z"
   },
   {
    "duration": 342,
    "start_time": "2022-03-04T20:22:24.711Z"
   },
   {
    "duration": 8,
    "start_time": "2022-03-04T20:25:49.891Z"
   },
   {
    "duration": 6,
    "start_time": "2022-03-04T20:25:51.198Z"
   },
   {
    "duration": 30,
    "start_time": "2022-03-04T20:26:38.737Z"
   },
   {
    "duration": 6,
    "start_time": "2022-03-04T20:28:07.153Z"
   },
   {
    "duration": 5,
    "start_time": "2022-03-04T20:28:23.765Z"
   },
   {
    "duration": 9,
    "start_time": "2022-03-04T20:28:26.116Z"
   },
   {
    "duration": 4,
    "start_time": "2022-03-04T20:28:30.069Z"
   },
   {
    "duration": 5,
    "start_time": "2022-03-04T20:28:31.372Z"
   },
   {
    "duration": 9,
    "start_time": "2022-03-04T20:28:32.811Z"
   },
   {
    "duration": 31,
    "start_time": "2022-03-04T20:28:44.882Z"
   },
   {
    "duration": 29,
    "start_time": "2022-03-04T20:28:55.058Z"
   },
   {
    "duration": 645,
    "start_time": "2022-03-04T20:29:03.763Z"
   },
   {
    "duration": 3,
    "start_time": "2022-03-04T20:29:04.410Z"
   },
   {
    "duration": 92,
    "start_time": "2022-03-04T20:29:04.416Z"
   },
   {
    "duration": 3,
    "start_time": "2022-03-04T20:29:04.510Z"
   },
   {
    "duration": 176,
    "start_time": "2022-03-04T20:29:04.515Z"
   },
   {
    "duration": 104,
    "start_time": "2022-03-04T20:29:04.692Z"
   },
   {
    "duration": 29,
    "start_time": "2022-03-04T20:29:04.798Z"
   },
   {
    "duration": 28,
    "start_time": "2022-03-04T20:29:04.830Z"
   },
   {
    "duration": 181,
    "start_time": "2022-03-04T20:29:04.860Z"
   },
   {
    "duration": 56,
    "start_time": "2022-03-04T20:29:05.043Z"
   },
   {
    "duration": 87,
    "start_time": "2022-03-04T20:29:05.101Z"
   },
   {
    "duration": 19,
    "start_time": "2022-03-04T20:29:05.189Z"
   },
   {
    "duration": 16,
    "start_time": "2022-03-04T20:29:05.209Z"
   },
   {
    "duration": 26,
    "start_time": "2022-03-04T20:29:05.226Z"
   },
   {
    "duration": 55,
    "start_time": "2022-03-04T20:29:05.254Z"
   },
   {
    "duration": 35,
    "start_time": "2022-03-04T20:29:05.310Z"
   },
   {
    "duration": 56,
    "start_time": "2022-03-04T20:29:05.346Z"
   },
   {
    "duration": 3,
    "start_time": "2022-03-04T20:29:05.404Z"
   },
   {
    "duration": 8,
    "start_time": "2022-03-04T20:29:05.409Z"
   },
   {
    "duration": 11,
    "start_time": "2022-03-04T20:29:05.419Z"
   },
   {
    "duration": 10,
    "start_time": "2022-03-04T20:29:05.432Z"
   },
   {
    "duration": 5,
    "start_time": "2022-03-04T20:29:05.444Z"
   },
   {
    "duration": 28,
    "start_time": "2022-03-04T20:29:05.452Z"
   },
   {
    "duration": 31,
    "start_time": "2022-03-04T20:29:05.482Z"
   },
   {
    "duration": 8,
    "start_time": "2022-03-04T20:29:05.515Z"
   },
   {
    "duration": 4,
    "start_time": "2022-03-04T20:29:05.524Z"
   },
   {
    "duration": 6,
    "start_time": "2022-03-04T20:29:05.530Z"
   },
   {
    "duration": 275,
    "start_time": "2022-03-04T20:29:05.537Z"
   },
   {
    "duration": 40,
    "start_time": "2022-03-04T20:29:05.814Z"
   },
   {
    "duration": 21,
    "start_time": "2022-03-04T20:29:05.856Z"
   },
   {
    "duration": 2,
    "start_time": "2022-03-04T20:29:05.879Z"
   },
   {
    "duration": 9,
    "start_time": "2022-03-04T20:29:05.883Z"
   },
   {
    "duration": 5,
    "start_time": "2022-03-04T20:29:05.894Z"
   },
   {
    "duration": 332,
    "start_time": "2022-03-04T20:29:05.900Z"
   },
   {
    "duration": 337,
    "start_time": "2022-03-04T20:29:06.233Z"
   },
   {
    "duration": 337,
    "start_time": "2022-03-04T20:29:06.572Z"
   },
   {
    "duration": 2,
    "start_time": "2022-03-04T20:29:06.911Z"
   },
   {
    "duration": 5,
    "start_time": "2022-03-04T20:29:06.915Z"
   },
   {
    "duration": 8,
    "start_time": "2022-03-04T20:29:06.922Z"
   },
   {
    "duration": 401,
    "start_time": "2022-03-04T20:29:06.931Z"
   },
   {
    "duration": 28,
    "start_time": "2022-03-04T20:29:07.334Z"
   },
   {
    "duration": 15,
    "start_time": "2022-03-04T20:29:07.364Z"
   },
   {
    "duration": 4,
    "start_time": "2022-03-04T20:29:07.381Z"
   },
   {
    "duration": 10,
    "start_time": "2022-03-04T20:29:07.386Z"
   },
   {
    "duration": 10,
    "start_time": "2022-03-04T20:29:07.397Z"
   },
   {
    "duration": 5,
    "start_time": "2022-03-04T20:29:07.408Z"
   },
   {
    "duration": 12,
    "start_time": "2022-03-04T20:29:07.414Z"
   },
   {
    "duration": 3,
    "start_time": "2022-03-04T20:29:07.427Z"
   },
   {
    "duration": 347,
    "start_time": "2022-03-04T20:29:07.431Z"
   },
   {
    "duration": 339,
    "start_time": "2022-03-04T20:29:07.781Z"
   },
   {
    "duration": 347,
    "start_time": "2022-03-04T20:29:08.122Z"
   },
   {
    "duration": 5,
    "start_time": "2022-03-04T20:31:42.529Z"
   },
   {
    "duration": 636,
    "start_time": "2022-03-04T20:31:49.255Z"
   },
   {
    "duration": 2,
    "start_time": "2022-03-04T20:31:49.893Z"
   },
   {
    "duration": 91,
    "start_time": "2022-03-04T20:31:49.897Z"
   },
   {
    "duration": 3,
    "start_time": "2022-03-04T20:31:49.990Z"
   },
   {
    "duration": 169,
    "start_time": "2022-03-04T20:31:49.995Z"
   },
   {
    "duration": 111,
    "start_time": "2022-03-04T20:31:50.166Z"
   },
   {
    "duration": 30,
    "start_time": "2022-03-04T20:31:50.278Z"
   },
   {
    "duration": 26,
    "start_time": "2022-03-04T20:31:50.311Z"
   },
   {
    "duration": 199,
    "start_time": "2022-03-04T20:31:50.340Z"
   },
   {
    "duration": 60,
    "start_time": "2022-03-04T20:31:50.541Z"
   },
   {
    "duration": 328,
    "start_time": "2022-03-04T20:31:50.603Z"
   },
   {
    "duration": -53,
    "start_time": "2022-03-04T20:31:50.988Z"
   },
   {
    "duration": -92,
    "start_time": "2022-03-04T20:31:51.028Z"
   },
   {
    "duration": -104,
    "start_time": "2022-03-04T20:31:51.041Z"
   },
   {
    "duration": -109,
    "start_time": "2022-03-04T20:31:51.047Z"
   },
   {
    "duration": -117,
    "start_time": "2022-03-04T20:31:51.056Z"
   },
   {
    "duration": -122,
    "start_time": "2022-03-04T20:31:51.063Z"
   },
   {
    "duration": -130,
    "start_time": "2022-03-04T20:31:51.072Z"
   },
   {
    "duration": -135,
    "start_time": "2022-03-04T20:31:51.079Z"
   },
   {
    "duration": -142,
    "start_time": "2022-03-04T20:31:51.087Z"
   },
   {
    "duration": -148,
    "start_time": "2022-03-04T20:31:51.095Z"
   },
   {
    "duration": -158,
    "start_time": "2022-03-04T20:31:51.106Z"
   },
   {
    "duration": -199,
    "start_time": "2022-03-04T20:31:51.149Z"
   },
   {
    "duration": -222,
    "start_time": "2022-03-04T20:31:51.173Z"
   },
   {
    "duration": -230,
    "start_time": "2022-03-04T20:31:51.182Z"
   },
   {
    "duration": -253,
    "start_time": "2022-03-04T20:31:51.206Z"
   },
   {
    "duration": -276,
    "start_time": "2022-03-04T20:31:51.230Z"
   },
   {
    "duration": -300,
    "start_time": "2022-03-04T20:31:51.255Z"
   },
   {
    "duration": -309,
    "start_time": "2022-03-04T20:31:51.265Z"
   },
   {
    "duration": -332,
    "start_time": "2022-03-04T20:31:51.289Z"
   },
   {
    "duration": -341,
    "start_time": "2022-03-04T20:31:51.299Z"
   },
   {
    "duration": -364,
    "start_time": "2022-03-04T20:31:51.323Z"
   },
   {
    "duration": -374,
    "start_time": "2022-03-04T20:31:51.334Z"
   },
   {
    "duration": -397,
    "start_time": "2022-03-04T20:31:51.358Z"
   },
   {
    "duration": -419,
    "start_time": "2022-03-04T20:31:51.381Z"
   },
   {
    "duration": -439,
    "start_time": "2022-03-04T20:31:51.402Z"
   },
   {
    "duration": -448,
    "start_time": "2022-03-04T20:31:51.412Z"
   },
   {
    "duration": -468,
    "start_time": "2022-03-04T20:31:51.433Z"
   },
   {
    "duration": -490,
    "start_time": "2022-03-04T20:31:51.456Z"
   },
   {
    "duration": -498,
    "start_time": "2022-03-04T20:31:51.465Z"
   },
   {
    "duration": -518,
    "start_time": "2022-03-04T20:31:51.486Z"
   },
   {
    "duration": -525,
    "start_time": "2022-03-04T20:31:51.494Z"
   },
   {
    "duration": -531,
    "start_time": "2022-03-04T20:31:51.502Z"
   },
   {
    "duration": -548,
    "start_time": "2022-03-04T20:31:51.524Z"
   },
   {
    "duration": -556,
    "start_time": "2022-03-04T20:31:51.533Z"
   },
   {
    "duration": -575,
    "start_time": "2022-03-04T20:31:51.553Z"
   },
   {
    "duration": -582,
    "start_time": "2022-03-04T20:31:51.562Z"
   },
   {
    "duration": -589,
    "start_time": "2022-03-04T20:31:51.570Z"
   },
   {
    "duration": -609,
    "start_time": "2022-03-04T20:31:51.591Z"
   },
   {
    "duration": -616,
    "start_time": "2022-03-04T20:31:51.599Z"
   },
   {
    "duration": -636,
    "start_time": "2022-03-04T20:31:51.620Z"
   },
   {
    "duration": -645,
    "start_time": "2022-03-04T20:31:51.630Z"
   },
   {
    "duration": 256,
    "start_time": "2022-03-04T20:32:25.595Z"
   },
   {
    "duration": 265,
    "start_time": "2022-03-04T20:32:28.890Z"
   },
   {
    "duration": 265,
    "start_time": "2022-03-04T20:33:19.586Z"
   },
   {
    "duration": 250,
    "start_time": "2022-03-04T20:34:05.673Z"
   },
   {
    "duration": 325,
    "start_time": "2022-03-04T20:35:43.926Z"
   },
   {
    "duration": 398,
    "start_time": "2022-03-04T20:36:02.957Z"
   },
   {
    "duration": 626,
    "start_time": "2022-03-05T18:04:37.722Z"
   },
   {
    "duration": 2,
    "start_time": "2022-03-05T18:04:38.350Z"
   },
   {
    "duration": 87,
    "start_time": "2022-03-05T18:04:38.354Z"
   },
   {
    "duration": 2,
    "start_time": "2022-03-05T18:04:38.443Z"
   },
   {
    "duration": 156,
    "start_time": "2022-03-05T18:04:38.447Z"
   },
   {
    "duration": 98,
    "start_time": "2022-03-05T18:04:38.605Z"
   },
   {
    "duration": 30,
    "start_time": "2022-03-05T18:04:38.704Z"
   },
   {
    "duration": 28,
    "start_time": "2022-03-05T18:04:38.737Z"
   },
   {
    "duration": 179,
    "start_time": "2022-03-05T18:04:38.768Z"
   },
   {
    "duration": 60,
    "start_time": "2022-03-05T18:04:38.949Z"
   },
   {
    "duration": 85,
    "start_time": "2022-03-05T18:04:39.011Z"
   },
   {
    "duration": 19,
    "start_time": "2022-03-05T18:04:39.097Z"
   },
   {
    "duration": 16,
    "start_time": "2022-03-05T18:04:39.118Z"
   },
   {
    "duration": 41,
    "start_time": "2022-03-05T18:04:39.136Z"
   },
   {
    "duration": 36,
    "start_time": "2022-03-05T18:04:39.178Z"
   },
   {
    "duration": 33,
    "start_time": "2022-03-05T18:04:39.216Z"
   },
   {
    "duration": 49,
    "start_time": "2022-03-05T18:04:39.251Z"
   },
   {
    "duration": 3,
    "start_time": "2022-03-05T18:04:39.302Z"
   },
   {
    "duration": 10,
    "start_time": "2022-03-05T18:04:39.306Z"
   },
   {
    "duration": 11,
    "start_time": "2022-03-05T18:04:39.317Z"
   },
   {
    "duration": 10,
    "start_time": "2022-03-05T18:04:39.329Z"
   },
   {
    "duration": 3,
    "start_time": "2022-03-05T18:04:39.341Z"
   },
   {
    "duration": 35,
    "start_time": "2022-03-05T18:04:39.348Z"
   },
   {
    "duration": 32,
    "start_time": "2022-03-05T18:04:39.385Z"
   },
   {
    "duration": 8,
    "start_time": "2022-03-05T18:04:39.418Z"
   },
   {
    "duration": 4,
    "start_time": "2022-03-05T18:04:39.428Z"
   },
   {
    "duration": 9,
    "start_time": "2022-03-05T18:04:39.433Z"
   },
   {
    "duration": 275,
    "start_time": "2022-03-05T18:04:39.443Z"
   },
   {
    "duration": 38,
    "start_time": "2022-03-05T18:04:39.720Z"
   },
   {
    "duration": 20,
    "start_time": "2022-03-05T18:04:39.759Z"
   },
   {
    "duration": 6,
    "start_time": "2022-03-05T18:04:39.780Z"
   },
   {
    "duration": 10,
    "start_time": "2022-03-05T18:04:39.787Z"
   },
   {
    "duration": 5,
    "start_time": "2022-03-05T18:04:39.799Z"
   },
   {
    "duration": 346,
    "start_time": "2022-03-05T18:04:39.806Z"
   },
   {
    "duration": 352,
    "start_time": "2022-03-05T18:04:40.153Z"
   },
   {
    "duration": 330,
    "start_time": "2022-03-05T18:04:40.507Z"
   },
   {
    "duration": 2,
    "start_time": "2022-03-05T18:04:40.839Z"
   },
   {
    "duration": 7,
    "start_time": "2022-03-05T18:04:40.843Z"
   },
   {
    "duration": 5,
    "start_time": "2022-03-05T18:04:40.851Z"
   },
   {
    "duration": 438,
    "start_time": "2022-03-05T18:04:40.858Z"
   },
   {
    "duration": 4,
    "start_time": "2022-03-05T18:04:41.298Z"
   },
   {
    "duration": 345,
    "start_time": "2022-03-05T18:04:41.304Z"
   },
   {
    "duration": 21,
    "start_time": "2022-03-05T18:04:41.630Z"
   },
   {
    "duration": -180,
    "start_time": "2022-03-05T18:04:41.832Z"
   },
   {
    "duration": -185,
    "start_time": "2022-03-05T18:04:41.838Z"
   },
   {
    "duration": -190,
    "start_time": "2022-03-05T18:04:41.844Z"
   },
   {
    "duration": -203,
    "start_time": "2022-03-05T18:04:41.858Z"
   },
   {
    "duration": -211,
    "start_time": "2022-03-05T18:04:41.867Z"
   },
   {
    "duration": -218,
    "start_time": "2022-03-05T18:04:41.875Z"
   },
   {
    "duration": -226,
    "start_time": "2022-03-05T18:04:41.884Z"
   },
   {
    "duration": -232,
    "start_time": "2022-03-05T18:04:41.891Z"
   },
   {
    "duration": -239,
    "start_time": "2022-03-05T18:04:41.899Z"
   },
   {
    "duration": 616,
    "start_time": "2022-03-05T18:05:13.377Z"
   },
   {
    "duration": 3,
    "start_time": "2022-03-05T18:05:13.994Z"
   },
   {
    "duration": 85,
    "start_time": "2022-03-05T18:05:13.999Z"
   },
   {
    "duration": 2,
    "start_time": "2022-03-05T18:05:14.086Z"
   },
   {
    "duration": 153,
    "start_time": "2022-03-05T18:05:14.090Z"
   },
   {
    "duration": 95,
    "start_time": "2022-03-05T18:05:14.245Z"
   },
   {
    "duration": 34,
    "start_time": "2022-03-05T18:05:14.342Z"
   },
   {
    "duration": 26,
    "start_time": "2022-03-05T18:05:14.378Z"
   },
   {
    "duration": 171,
    "start_time": "2022-03-05T18:05:14.406Z"
   },
   {
    "duration": 49,
    "start_time": "2022-03-05T18:05:14.578Z"
   },
   {
    "duration": 87,
    "start_time": "2022-03-05T18:05:14.628Z"
   },
   {
    "duration": 18,
    "start_time": "2022-03-05T18:05:14.716Z"
   },
   {
    "duration": 15,
    "start_time": "2022-03-05T18:05:14.736Z"
   },
   {
    "duration": 37,
    "start_time": "2022-03-05T18:05:14.753Z"
   },
   {
    "duration": 37,
    "start_time": "2022-03-05T18:05:14.792Z"
   },
   {
    "duration": 48,
    "start_time": "2022-03-05T18:05:14.830Z"
   },
   {
    "duration": 34,
    "start_time": "2022-03-05T18:05:14.879Z"
   },
   {
    "duration": 3,
    "start_time": "2022-03-05T18:05:14.914Z"
   },
   {
    "duration": 9,
    "start_time": "2022-03-05T18:05:14.919Z"
   },
   {
    "duration": 15,
    "start_time": "2022-03-05T18:05:14.930Z"
   },
   {
    "duration": 9,
    "start_time": "2022-03-05T18:05:14.947Z"
   },
   {
    "duration": 3,
    "start_time": "2022-03-05T18:05:14.958Z"
   },
   {
    "duration": 8,
    "start_time": "2022-03-05T18:05:14.980Z"
   },
   {
    "duration": 37,
    "start_time": "2022-03-05T18:05:14.990Z"
   },
   {
    "duration": 8,
    "start_time": "2022-03-05T18:05:15.029Z"
   },
   {
    "duration": 11,
    "start_time": "2022-03-05T18:05:15.039Z"
   },
   {
    "duration": 25,
    "start_time": "2022-03-05T18:05:15.052Z"
   },
   {
    "duration": 253,
    "start_time": "2022-03-05T18:05:15.079Z"
   },
   {
    "duration": 48,
    "start_time": "2022-03-05T18:05:15.333Z"
   },
   {
    "duration": 5,
    "start_time": "2022-03-05T18:05:15.383Z"
   },
   {
    "duration": 6,
    "start_time": "2022-03-05T18:05:15.390Z"
   },
   {
    "duration": 12,
    "start_time": "2022-03-05T18:05:15.398Z"
   },
   {
    "duration": 14,
    "start_time": "2022-03-05T18:05:15.412Z"
   },
   {
    "duration": 340,
    "start_time": "2022-03-05T18:05:15.428Z"
   },
   {
    "duration": 380,
    "start_time": "2022-03-05T18:05:15.770Z"
   },
   {
    "duration": 341,
    "start_time": "2022-03-05T18:05:16.152Z"
   },
   {
    "duration": 2,
    "start_time": "2022-03-05T18:05:16.494Z"
   },
   {
    "duration": 5,
    "start_time": "2022-03-05T18:05:16.498Z"
   },
   {
    "duration": 5,
    "start_time": "2022-03-05T18:05:16.504Z"
   },
   {
    "duration": 411,
    "start_time": "2022-03-05T18:05:16.511Z"
   },
   {
    "duration": 2,
    "start_time": "2022-03-05T18:05:16.924Z"
   },
   {
    "duration": 31,
    "start_time": "2022-03-05T18:05:16.927Z"
   },
   {
    "duration": 4,
    "start_time": "2022-03-05T18:05:16.959Z"
   },
   {
    "duration": 13,
    "start_time": "2022-03-05T18:05:16.964Z"
   },
   {
    "duration": 11,
    "start_time": "2022-03-05T18:05:16.979Z"
   },
   {
    "duration": 10,
    "start_time": "2022-03-05T18:05:16.992Z"
   },
   {
    "duration": 6,
    "start_time": "2022-03-05T18:05:17.003Z"
   },
   {
    "duration": 14,
    "start_time": "2022-03-05T18:05:17.011Z"
   },
   {
    "duration": 5,
    "start_time": "2022-03-05T18:05:17.027Z"
   },
   {
    "duration": 323,
    "start_time": "2022-03-05T18:05:17.034Z"
   },
   {
    "duration": 313,
    "start_time": "2022-03-05T18:05:17.359Z"
   },
   {
    "duration": 354,
    "start_time": "2022-03-05T18:05:17.674Z"
   },
   {
    "duration": 9,
    "start_time": "2022-03-05T18:06:00.545Z"
   },
   {
    "duration": 28,
    "start_time": "2022-03-05T18:06:33.580Z"
   },
   {
    "duration": 24,
    "start_time": "2022-03-05T18:06:36.589Z"
   },
   {
    "duration": 26,
    "start_time": "2022-03-05T18:07:19.188Z"
   },
   {
    "duration": 9,
    "start_time": "2022-03-05T18:07:26.531Z"
   },
   {
    "duration": 26,
    "start_time": "2022-03-05T18:07:29.940Z"
   },
   {
    "duration": 7716,
    "start_time": "2022-03-05T18:10:06.966Z"
   },
   {
    "duration": 562,
    "start_time": "2022-03-05T18:10:18.731Z"
   },
   {
    "duration": 3,
    "start_time": "2022-03-05T18:10:19.295Z"
   },
   {
    "duration": 87,
    "start_time": "2022-03-05T18:10:19.301Z"
   },
   {
    "duration": 3,
    "start_time": "2022-03-05T18:10:19.390Z"
   },
   {
    "duration": 167,
    "start_time": "2022-03-05T18:10:19.395Z"
   },
   {
    "duration": 106,
    "start_time": "2022-03-05T18:10:19.564Z"
   },
   {
    "duration": 36,
    "start_time": "2022-03-05T18:10:19.677Z"
   },
   {
    "duration": 27,
    "start_time": "2022-03-05T18:10:19.717Z"
   },
   {
    "duration": 175,
    "start_time": "2022-03-05T18:10:19.747Z"
   },
   {
    "duration": 62,
    "start_time": "2022-03-05T18:10:19.924Z"
   },
   {
    "duration": 89,
    "start_time": "2022-03-05T18:10:19.988Z"
   },
   {
    "duration": 20,
    "start_time": "2022-03-05T18:10:20.079Z"
   },
   {
    "duration": 17,
    "start_time": "2022-03-05T18:10:20.101Z"
   },
   {
    "duration": 26,
    "start_time": "2022-03-05T18:10:20.120Z"
   },
   {
    "duration": 65,
    "start_time": "2022-03-05T18:10:20.148Z"
   },
   {
    "duration": 33,
    "start_time": "2022-03-05T18:10:20.215Z"
   },
   {
    "duration": 56,
    "start_time": "2022-03-05T18:10:20.250Z"
   },
   {
    "duration": 5,
    "start_time": "2022-03-05T18:10:20.308Z"
   },
   {
    "duration": 6,
    "start_time": "2022-03-05T18:10:20.314Z"
   },
   {
    "duration": 9,
    "start_time": "2022-03-05T18:10:20.322Z"
   },
   {
    "duration": 13,
    "start_time": "2022-03-05T18:10:20.333Z"
   },
   {
    "duration": 3,
    "start_time": "2022-03-05T18:10:20.348Z"
   },
   {
    "duration": 8,
    "start_time": "2022-03-05T18:10:20.379Z"
   },
   {
    "duration": 36,
    "start_time": "2022-03-05T18:10:20.389Z"
   },
   {
    "duration": 8,
    "start_time": "2022-03-05T18:10:20.427Z"
   },
   {
    "duration": 10,
    "start_time": "2022-03-05T18:10:20.437Z"
   },
   {
    "duration": 9,
    "start_time": "2022-03-05T18:10:20.448Z"
   },
   {
    "duration": -55,
    "start_time": "2022-03-05T18:10:27.904Z"
   },
   {
    "duration": -87,
    "start_time": "2022-03-05T18:10:27.937Z"
   },
   {
    "duration": -95,
    "start_time": "2022-03-05T18:10:27.946Z"
   },
   {
    "duration": -114,
    "start_time": "2022-03-05T18:10:27.966Z"
   },
   {
    "duration": -121,
    "start_time": "2022-03-05T18:10:27.974Z"
   },
   {
    "duration": -148,
    "start_time": "2022-03-05T18:10:28.002Z"
   },
   {
    "duration": -161,
    "start_time": "2022-03-05T18:10:28.016Z"
   },
   {
    "duration": -231,
    "start_time": "2022-03-05T18:10:28.087Z"
   },
   {
    "duration": -268,
    "start_time": "2022-03-05T18:10:28.125Z"
   },
   {
    "duration": -278,
    "start_time": "2022-03-05T18:10:28.136Z"
   },
   {
    "duration": -311,
    "start_time": "2022-03-05T18:10:28.170Z"
   },
   {
    "duration": -321,
    "start_time": "2022-03-05T18:10:28.181Z"
   },
   {
    "duration": -330,
    "start_time": "2022-03-05T18:10:28.191Z"
   },
   {
    "duration": -361,
    "start_time": "2022-03-05T18:10:28.223Z"
   },
   {
    "duration": -370,
    "start_time": "2022-03-05T18:10:28.233Z"
   },
   {
    "duration": -423,
    "start_time": "2022-03-05T18:10:28.287Z"
   },
   {
    "duration": -475,
    "start_time": "2022-03-05T18:10:28.339Z"
   },
   {
    "duration": -499,
    "start_time": "2022-03-05T18:10:28.364Z"
   },
   {
    "duration": -507,
    "start_time": "2022-03-05T18:10:28.373Z"
   },
   {
    "duration": -523,
    "start_time": "2022-03-05T18:10:28.390Z"
   },
   {
    "duration": -535,
    "start_time": "2022-03-05T18:10:28.403Z"
   },
   {
    "duration": -545,
    "start_time": "2022-03-05T18:10:28.414Z"
   },
   {
    "duration": -553,
    "start_time": "2022-03-05T18:10:28.423Z"
   },
   {
    "duration": -585,
    "start_time": "2022-03-05T18:10:28.456Z"
   },
   {
    "duration": -596,
    "start_time": "2022-03-05T18:10:28.468Z"
   },
   {
    "duration": 259,
    "start_time": "2022-03-05T18:10:38.099Z"
   },
   {
    "duration": 260,
    "start_time": "2022-03-05T18:10:41.004Z"
   },
   {
    "duration": 592,
    "start_time": "2022-03-07T08:57:07.949Z"
   },
   {
    "duration": 2,
    "start_time": "2022-03-07T08:57:08.543Z"
   },
   {
    "duration": 78,
    "start_time": "2022-03-07T08:57:08.547Z"
   },
   {
    "duration": 2,
    "start_time": "2022-03-07T08:57:08.627Z"
   },
   {
    "duration": 134,
    "start_time": "2022-03-07T08:57:08.631Z"
   },
   {
    "duration": 89,
    "start_time": "2022-03-07T08:57:08.767Z"
   },
   {
    "duration": 19,
    "start_time": "2022-03-07T08:57:08.863Z"
   },
   {
    "duration": 37,
    "start_time": "2022-03-07T08:57:08.883Z"
   },
   {
    "duration": 165,
    "start_time": "2022-03-07T08:57:08.923Z"
   },
   {
    "duration": 47,
    "start_time": "2022-03-07T08:57:09.090Z"
   },
   {
    "duration": 86,
    "start_time": "2022-03-07T08:57:09.139Z"
   },
   {
    "duration": 17,
    "start_time": "2022-03-07T08:57:09.227Z"
   },
   {
    "duration": 26,
    "start_time": "2022-03-07T08:57:09.246Z"
   },
   {
    "duration": 22,
    "start_time": "2022-03-07T08:57:09.274Z"
   },
   {
    "duration": 33,
    "start_time": "2022-03-07T08:57:09.298Z"
   },
   {
    "duration": 51,
    "start_time": "2022-03-07T08:57:09.332Z"
   },
   {
    "duration": 29,
    "start_time": "2022-03-07T08:57:09.384Z"
   },
   {
    "duration": 2,
    "start_time": "2022-03-07T08:57:09.415Z"
   },
   {
    "duration": 6,
    "start_time": "2022-03-07T08:57:09.419Z"
   },
   {
    "duration": 9,
    "start_time": "2022-03-07T08:57:09.427Z"
   },
   {
    "duration": 29,
    "start_time": "2022-03-07T08:57:09.438Z"
   },
   {
    "duration": 3,
    "start_time": "2022-03-07T08:57:09.469Z"
   },
   {
    "duration": 11,
    "start_time": "2022-03-07T08:57:09.473Z"
   },
   {
    "duration": 27,
    "start_time": "2022-03-07T08:57:09.485Z"
   },
   {
    "duration": 10,
    "start_time": "2022-03-07T08:57:09.513Z"
   },
   {
    "duration": 3,
    "start_time": "2022-03-07T08:57:09.524Z"
   },
   {
    "duration": 3,
    "start_time": "2022-03-07T08:57:09.531Z"
   },
   {
    "duration": 253,
    "start_time": "2022-03-07T08:57:09.536Z"
   },
   {
    "duration": 32,
    "start_time": "2022-03-07T08:57:09.790Z"
   },
   {
    "duration": 5,
    "start_time": "2022-03-07T08:57:09.823Z"
   },
   {
    "duration": 5,
    "start_time": "2022-03-07T08:57:09.830Z"
   },
   {
    "duration": 27,
    "start_time": "2022-03-07T08:57:09.837Z"
   },
   {
    "duration": 2,
    "start_time": "2022-03-07T08:57:09.865Z"
   },
   {
    "duration": 269,
    "start_time": "2022-03-07T08:57:09.869Z"
   },
   {
    "duration": 277,
    "start_time": "2022-03-07T08:57:10.139Z"
   },
   {
    "duration": 274,
    "start_time": "2022-03-07T08:57:10.417Z"
   },
   {
    "duration": 2,
    "start_time": "2022-03-07T08:57:10.692Z"
   },
   {
    "duration": 5,
    "start_time": "2022-03-07T08:57:10.696Z"
   },
   {
    "duration": 7,
    "start_time": "2022-03-07T08:57:10.703Z"
   },
   {
    "duration": 395,
    "start_time": "2022-03-07T08:57:10.711Z"
   },
   {
    "duration": 2,
    "start_time": "2022-03-07T08:57:11.108Z"
   },
   {
    "duration": 28,
    "start_time": "2022-03-07T08:57:11.112Z"
   },
   {
    "duration": 32,
    "start_time": "2022-03-07T08:57:11.141Z"
   },
   {
    "duration": 2,
    "start_time": "2022-03-07T08:57:11.175Z"
   },
   {
    "duration": 10,
    "start_time": "2022-03-07T08:57:11.178Z"
   },
   {
    "duration": 10,
    "start_time": "2022-03-07T08:57:11.190Z"
   },
   {
    "duration": 5,
    "start_time": "2022-03-07T08:57:11.201Z"
   },
   {
    "duration": 11,
    "start_time": "2022-03-07T08:57:11.207Z"
   },
   {
    "duration": 2,
    "start_time": "2022-03-07T08:57:11.219Z"
   },
   {
    "duration": 284,
    "start_time": "2022-03-07T08:57:11.223Z"
   },
   {
    "duration": 262,
    "start_time": "2022-03-07T08:57:11.509Z"
   },
   {
    "duration": 292,
    "start_time": "2022-03-07T08:57:11.773Z"
   },
   {
    "duration": 22,
    "start_time": "2022-03-07T09:01:13.204Z"
   },
   {
    "duration": 7,
    "start_time": "2022-03-07T09:01:20.459Z"
   },
   {
    "duration": 22,
    "start_time": "2022-03-07T09:01:54.240Z"
   },
   {
    "duration": 8,
    "start_time": "2022-03-07T09:01:56.859Z"
   },
   {
    "duration": 8,
    "start_time": "2022-03-07T09:02:13.552Z"
   },
   {
    "duration": 8,
    "start_time": "2022-03-07T09:02:15.048Z"
   },
   {
    "duration": 7,
    "start_time": "2022-03-07T09:02:19.971Z"
   },
   {
    "duration": 10,
    "start_time": "2022-03-07T09:02:45.254Z"
   },
   {
    "duration": 8,
    "start_time": "2022-03-07T09:03:20.046Z"
   },
   {
    "duration": 7,
    "start_time": "2022-03-07T09:03:28.564Z"
   },
   {
    "duration": 7,
    "start_time": "2022-03-07T09:03:31.787Z"
   },
   {
    "duration": 592,
    "start_time": "2022-03-07T09:03:38.584Z"
   },
   {
    "duration": 3,
    "start_time": "2022-03-07T09:03:39.177Z"
   },
   {
    "duration": 82,
    "start_time": "2022-03-07T09:03:39.181Z"
   },
   {
    "duration": 2,
    "start_time": "2022-03-07T09:03:39.265Z"
   },
   {
    "duration": 145,
    "start_time": "2022-03-07T09:03:39.269Z"
   },
   {
    "duration": 101,
    "start_time": "2022-03-07T09:03:39.416Z"
   },
   {
    "duration": 19,
    "start_time": "2022-03-07T09:03:39.519Z"
   },
   {
    "duration": 21,
    "start_time": "2022-03-07T09:03:39.541Z"
   },
   {
    "duration": 169,
    "start_time": "2022-03-07T09:03:39.565Z"
   },
   {
    "duration": 59,
    "start_time": "2022-03-07T09:03:39.736Z"
   },
   {
    "duration": 82,
    "start_time": "2022-03-07T09:03:39.797Z"
   },
   {
    "duration": 18,
    "start_time": "2022-03-07T09:03:39.881Z"
   },
   {
    "duration": 16,
    "start_time": "2022-03-07T09:03:39.901Z"
   },
   {
    "duration": 24,
    "start_time": "2022-03-07T09:03:39.918Z"
   },
   {
    "duration": 54,
    "start_time": "2022-03-07T09:03:39.944Z"
   },
   {
    "duration": 36,
    "start_time": "2022-03-07T09:03:40.000Z"
   },
   {
    "duration": 53,
    "start_time": "2022-03-07T09:03:40.038Z"
   },
   {
    "duration": 4,
    "start_time": "2022-03-07T09:03:40.093Z"
   },
   {
    "duration": 5,
    "start_time": "2022-03-07T09:03:40.099Z"
   },
   {
    "duration": 8,
    "start_time": "2022-03-07T09:03:40.106Z"
   },
   {
    "duration": 9,
    "start_time": "2022-03-07T09:03:40.116Z"
   },
   {
    "duration": 5,
    "start_time": "2022-03-07T09:03:40.127Z"
   },
   {
    "duration": 35,
    "start_time": "2022-03-07T09:03:40.135Z"
   },
   {
    "duration": 28,
    "start_time": "2022-03-07T09:03:40.172Z"
   },
   {
    "duration": 10,
    "start_time": "2022-03-07T09:03:40.202Z"
   },
   {
    "duration": 4,
    "start_time": "2022-03-07T09:03:40.214Z"
   },
   {
    "duration": 6,
    "start_time": "2022-03-07T09:03:40.220Z"
   },
   {
    "duration": 262,
    "start_time": "2022-03-07T09:03:40.227Z"
   },
   {
    "duration": 34,
    "start_time": "2022-03-07T09:03:40.491Z"
   },
   {
    "duration": 6,
    "start_time": "2022-03-07T09:03:40.527Z"
   },
   {
    "duration": 28,
    "start_time": "2022-03-07T09:03:40.535Z"
   },
   {
    "duration": 5,
    "start_time": "2022-03-07T09:03:40.564Z"
   },
   {
    "duration": 4,
    "start_time": "2022-03-07T09:03:40.570Z"
   },
   {
    "duration": 262,
    "start_time": "2022-03-07T09:03:40.575Z"
   },
   {
    "duration": 295,
    "start_time": "2022-03-07T09:03:40.839Z"
   },
   {
    "duration": 272,
    "start_time": "2022-03-07T09:03:41.136Z"
   },
   {
    "duration": 2,
    "start_time": "2022-03-07T09:03:41.410Z"
   },
   {
    "duration": 5,
    "start_time": "2022-03-07T09:03:41.414Z"
   },
   {
    "duration": 4,
    "start_time": "2022-03-07T09:03:41.421Z"
   },
   {
    "duration": 373,
    "start_time": "2022-03-07T09:03:41.426Z"
   },
   {
    "duration": 2,
    "start_time": "2022-03-07T09:03:41.801Z"
   },
   {
    "duration": 12,
    "start_time": "2022-03-07T09:03:41.805Z"
   },
   {
    "duration": 9,
    "start_time": "2022-03-07T09:03:41.819Z"
   },
   {
    "duration": 3,
    "start_time": "2022-03-07T09:03:41.829Z"
   },
   {
    "duration": 10,
    "start_time": "2022-03-07T09:03:41.834Z"
   },
   {
    "duration": 24,
    "start_time": "2022-03-07T09:03:41.846Z"
   },
   {
    "duration": 2,
    "start_time": "2022-03-07T09:03:41.872Z"
   },
   {
    "duration": 13,
    "start_time": "2022-03-07T09:03:41.876Z"
   },
   {
    "duration": 3,
    "start_time": "2022-03-07T09:03:41.890Z"
   },
   {
    "duration": 284,
    "start_time": "2022-03-07T09:03:41.895Z"
   },
   {
    "duration": 261,
    "start_time": "2022-03-07T09:03:42.181Z"
   },
   {
    "duration": 304,
    "start_time": "2022-03-07T09:03:42.444Z"
   },
   {
    "duration": 10,
    "start_time": "2022-03-07T09:04:19.972Z"
   },
   {
    "duration": 312,
    "start_time": "2022-03-07T09:05:52.443Z"
   },
   {
    "duration": 9,
    "start_time": "2022-03-07T09:06:28.791Z"
   },
   {
    "duration": 215,
    "start_time": "2022-03-07T09:06:35.067Z"
   },
   {
    "duration": 229,
    "start_time": "2022-03-07T09:06:56.024Z"
   },
   {
    "duration": 213,
    "start_time": "2022-03-07T09:06:58.656Z"
   },
   {
    "duration": 210,
    "start_time": "2022-03-07T09:07:06.199Z"
   },
   {
    "duration": 7,
    "start_time": "2022-03-07T09:07:26.937Z"
   },
   {
    "duration": 233,
    "start_time": "2022-03-07T09:07:30.854Z"
   },
   {
    "duration": 208,
    "start_time": "2022-03-07T09:08:11.506Z"
   },
   {
    "duration": 218,
    "start_time": "2022-03-07T09:08:24.480Z"
   },
   {
    "duration": 11,
    "start_time": "2022-03-07T09:08:41.726Z"
   },
   {
    "duration": 602,
    "start_time": "2022-03-07T09:08:54.645Z"
   },
   {
    "duration": 3,
    "start_time": "2022-03-07T09:08:55.249Z"
   },
   {
    "duration": 121,
    "start_time": "2022-03-07T09:08:55.255Z"
   },
   {
    "duration": 3,
    "start_time": "2022-03-07T09:08:55.378Z"
   },
   {
    "duration": 158,
    "start_time": "2022-03-07T09:08:55.383Z"
   },
   {
    "duration": 145,
    "start_time": "2022-03-07T09:08:55.543Z"
   },
   {
    "duration": 21,
    "start_time": "2022-03-07T09:08:55.691Z"
   },
   {
    "duration": 23,
    "start_time": "2022-03-07T09:08:55.714Z"
   },
   {
    "duration": 169,
    "start_time": "2022-03-07T09:08:55.739Z"
   },
   {
    "duration": 65,
    "start_time": "2022-03-07T09:08:55.910Z"
   },
   {
    "duration": 88,
    "start_time": "2022-03-07T09:08:55.977Z"
   },
   {
    "duration": 20,
    "start_time": "2022-03-07T09:08:56.067Z"
   },
   {
    "duration": 16,
    "start_time": "2022-03-07T09:08:56.089Z"
   },
   {
    "duration": 24,
    "start_time": "2022-03-07T09:08:56.107Z"
   },
   {
    "duration": 60,
    "start_time": "2022-03-07T09:08:56.133Z"
   },
   {
    "duration": 34,
    "start_time": "2022-03-07T09:08:56.194Z"
   },
   {
    "duration": 47,
    "start_time": "2022-03-07T09:08:56.230Z"
   },
   {
    "duration": 3,
    "start_time": "2022-03-07T09:08:56.278Z"
   },
   {
    "duration": 14,
    "start_time": "2022-03-07T09:08:56.283Z"
   },
   {
    "duration": 10,
    "start_time": "2022-03-07T09:08:56.299Z"
   },
   {
    "duration": 18,
    "start_time": "2022-03-07T09:08:56.310Z"
   },
   {
    "duration": 3,
    "start_time": "2022-03-07T09:08:56.331Z"
   },
   {
    "duration": 8,
    "start_time": "2022-03-07T09:08:56.336Z"
   },
   {
    "duration": 37,
    "start_time": "2022-03-07T09:08:56.345Z"
   },
   {
    "duration": 10,
    "start_time": "2022-03-07T09:08:56.384Z"
   },
   {
    "duration": 5,
    "start_time": "2022-03-07T09:08:56.395Z"
   },
   {
    "duration": 6,
    "start_time": "2022-03-07T09:08:56.401Z"
   },
   {
    "duration": 250,
    "start_time": "2022-03-07T09:08:56.408Z"
   },
   {
    "duration": 34,
    "start_time": "2022-03-07T09:08:56.662Z"
   },
   {
    "duration": 5,
    "start_time": "2022-03-07T09:08:56.698Z"
   },
   {
    "duration": 8,
    "start_time": "2022-03-07T09:08:56.705Z"
   },
   {
    "duration": 27,
    "start_time": "2022-03-07T09:08:56.714Z"
   },
   {
    "duration": 7,
    "start_time": "2022-03-07T09:08:56.742Z"
   },
   {
    "duration": 272,
    "start_time": "2022-03-07T09:08:56.750Z"
   },
   {
    "duration": 295,
    "start_time": "2022-03-07T09:08:57.023Z"
   },
   {
    "duration": 277,
    "start_time": "2022-03-07T09:08:57.320Z"
   },
   {
    "duration": 3,
    "start_time": "2022-03-07T09:08:57.599Z"
   },
   {
    "duration": 9,
    "start_time": "2022-03-07T09:08:57.603Z"
   },
   {
    "duration": 8,
    "start_time": "2022-03-07T09:08:57.613Z"
   },
   {
    "duration": 384,
    "start_time": "2022-03-07T09:08:57.622Z"
   },
   {
    "duration": 2,
    "start_time": "2022-03-07T09:08:58.008Z"
   },
   {
    "duration": 321,
    "start_time": "2022-03-07T09:08:58.012Z"
   },
   {
    "duration": -65,
    "start_time": "2022-03-07T09:08:58.400Z"
   },
   {
    "duration": -97,
    "start_time": "2022-03-07T09:08:58.433Z"
   },
   {
    "duration": -119,
    "start_time": "2022-03-07T09:08:58.455Z"
   },
   {
    "duration": -144,
    "start_time": "2022-03-07T09:08:58.481Z"
   },
   {
    "duration": -166,
    "start_time": "2022-03-07T09:08:58.504Z"
   },
   {
    "duration": -188,
    "start_time": "2022-03-07T09:08:58.527Z"
   },
   {
    "duration": -195,
    "start_time": "2022-03-07T09:08:58.535Z"
   },
   {
    "duration": -202,
    "start_time": "2022-03-07T09:08:58.543Z"
   },
   {
    "duration": -209,
    "start_time": "2022-03-07T09:08:58.551Z"
   },
   {
    "duration": 256,
    "start_time": "2022-03-07T09:09:41.097Z"
   },
   {
    "duration": 217,
    "start_time": "2022-03-07T09:09:47.695Z"
   },
   {
    "duration": 211,
    "start_time": "2022-03-07T09:10:49.151Z"
   },
   {
    "duration": 222,
    "start_time": "2022-03-07T09:11:22.915Z"
   },
   {
    "duration": 234,
    "start_time": "2022-03-07T09:13:20.484Z"
   },
   {
    "duration": 552,
    "start_time": "2022-03-07T09:13:28.002Z"
   },
   {
    "duration": 2,
    "start_time": "2022-03-07T09:13:28.556Z"
   },
   {
    "duration": 70,
    "start_time": "2022-03-07T09:13:28.563Z"
   },
   {
    "duration": 2,
    "start_time": "2022-03-07T09:13:28.635Z"
   },
   {
    "duration": 161,
    "start_time": "2022-03-07T09:13:28.639Z"
   },
   {
    "duration": 100,
    "start_time": "2022-03-07T09:13:28.802Z"
   },
   {
    "duration": 20,
    "start_time": "2022-03-07T09:13:28.905Z"
   },
   {
    "duration": 21,
    "start_time": "2022-03-07T09:13:28.927Z"
   },
   {
    "duration": 158,
    "start_time": "2022-03-07T09:13:28.950Z"
   },
   {
    "duration": 58,
    "start_time": "2022-03-07T09:13:29.110Z"
   },
   {
    "duration": 64,
    "start_time": "2022-03-07T09:13:29.170Z"
   },
   {
    "duration": 34,
    "start_time": "2022-03-07T09:13:29.236Z"
   },
   {
    "duration": 15,
    "start_time": "2022-03-07T09:13:29.272Z"
   },
   {
    "duration": 23,
    "start_time": "2022-03-07T09:13:29.289Z"
   },
   {
    "duration": 54,
    "start_time": "2022-03-07T09:13:29.313Z"
   },
   {
    "duration": 34,
    "start_time": "2022-03-07T09:13:29.369Z"
   },
   {
    "duration": 33,
    "start_time": "2022-03-07T09:13:29.406Z"
   },
   {
    "duration": 4,
    "start_time": "2022-03-07T09:13:29.463Z"
   },
   {
    "duration": 6,
    "start_time": "2022-03-07T09:13:29.469Z"
   },
   {
    "duration": 9,
    "start_time": "2022-03-07T09:13:29.476Z"
   },
   {
    "duration": 10,
    "start_time": "2022-03-07T09:13:29.486Z"
   },
   {
    "duration": 3,
    "start_time": "2022-03-07T09:13:29.501Z"
   },
   {
    "duration": 17,
    "start_time": "2022-03-07T09:13:29.506Z"
   },
   {
    "duration": 52,
    "start_time": "2022-03-07T09:13:29.525Z"
   },
   {
    "duration": 10,
    "start_time": "2022-03-07T09:13:29.580Z"
   },
   {
    "duration": 4,
    "start_time": "2022-03-07T09:13:29.591Z"
   },
   {
    "duration": 7,
    "start_time": "2022-03-07T09:13:29.597Z"
   },
   {
    "duration": 252,
    "start_time": "2022-03-07T09:13:29.605Z"
   },
   {
    "duration": 5,
    "start_time": "2022-03-07T09:13:29.863Z"
   },
   {
    "duration": 36,
    "start_time": "2022-03-07T09:13:29.869Z"
   },
   {
    "duration": 7,
    "start_time": "2022-03-07T09:13:29.907Z"
   },
   {
    "duration": 6,
    "start_time": "2022-03-07T09:13:29.915Z"
   },
   {
    "duration": 9,
    "start_time": "2022-03-07T09:13:29.922Z"
   },
   {
    "duration": 32,
    "start_time": "2022-03-07T09:13:29.932Z"
   },
   {
    "duration": 283,
    "start_time": "2022-03-07T09:13:29.966Z"
   },
   {
    "duration": 298,
    "start_time": "2022-03-07T09:13:30.251Z"
   },
   {
    "duration": 294,
    "start_time": "2022-03-07T09:13:30.551Z"
   },
   {
    "duration": 2,
    "start_time": "2022-03-07T09:13:30.848Z"
   },
   {
    "duration": 17,
    "start_time": "2022-03-07T09:13:30.852Z"
   },
   {
    "duration": 7,
    "start_time": "2022-03-07T09:13:30.871Z"
   },
   {
    "duration": 426,
    "start_time": "2022-03-07T09:13:30.880Z"
   },
   {
    "duration": 3,
    "start_time": "2022-03-07T09:13:31.308Z"
   },
   {
    "duration": 317,
    "start_time": "2022-03-07T09:13:31.313Z"
   },
   {
    "duration": -73,
    "start_time": "2022-03-07T09:13:31.706Z"
   },
   {
    "duration": -95,
    "start_time": "2022-03-07T09:13:31.729Z"
   },
   {
    "duration": -113,
    "start_time": "2022-03-07T09:13:31.748Z"
   },
   {
    "duration": -119,
    "start_time": "2022-03-07T09:13:31.756Z"
   },
   {
    "duration": -150,
    "start_time": "2022-03-07T09:13:31.788Z"
   },
   {
    "duration": -173,
    "start_time": "2022-03-07T09:13:31.812Z"
   },
   {
    "duration": -192,
    "start_time": "2022-03-07T09:13:31.833Z"
   },
   {
    "duration": -199,
    "start_time": "2022-03-07T09:13:31.841Z"
   },
   {
    "duration": -219,
    "start_time": "2022-03-07T09:13:31.862Z"
   },
   {
    "duration": 247,
    "start_time": "2022-03-07T09:13:41.419Z"
   },
   {
    "duration": 561,
    "start_time": "2022-03-07T09:13:59.583Z"
   },
   {
    "duration": 3,
    "start_time": "2022-03-07T09:14:00.146Z"
   },
   {
    "duration": 88,
    "start_time": "2022-03-07T09:14:00.152Z"
   },
   {
    "duration": 3,
    "start_time": "2022-03-07T09:14:00.242Z"
   },
   {
    "duration": 149,
    "start_time": "2022-03-07T09:14:00.247Z"
   },
   {
    "duration": 91,
    "start_time": "2022-03-07T09:14:00.398Z"
   },
   {
    "duration": 20,
    "start_time": "2022-03-07T09:14:00.491Z"
   },
   {
    "duration": 26,
    "start_time": "2022-03-07T09:14:00.514Z"
   },
   {
    "duration": 161,
    "start_time": "2022-03-07T09:14:00.543Z"
   },
   {
    "duration": 63,
    "start_time": "2022-03-07T09:14:00.706Z"
   },
   {
    "duration": 64,
    "start_time": "2022-03-07T09:14:00.771Z"
   },
   {
    "duration": 34,
    "start_time": "2022-03-07T09:14:00.837Z"
   },
   {
    "duration": 15,
    "start_time": "2022-03-07T09:14:00.873Z"
   },
   {
    "duration": 36,
    "start_time": "2022-03-07T09:14:00.890Z"
   },
   {
    "duration": 44,
    "start_time": "2022-03-07T09:14:00.928Z"
   },
   {
    "duration": 33,
    "start_time": "2022-03-07T09:14:00.974Z"
   },
   {
    "duration": 34,
    "start_time": "2022-03-07T09:14:01.009Z"
   },
   {
    "duration": 4,
    "start_time": "2022-03-07T09:14:01.064Z"
   },
   {
    "duration": 11,
    "start_time": "2022-03-07T09:14:01.070Z"
   },
   {
    "duration": 16,
    "start_time": "2022-03-07T09:14:01.083Z"
   },
   {
    "duration": 37,
    "start_time": "2022-03-07T09:14:01.101Z"
   },
   {
    "duration": 17,
    "start_time": "2022-03-07T09:14:01.140Z"
   },
   {
    "duration": 24,
    "start_time": "2022-03-07T09:14:01.162Z"
   },
   {
    "duration": 32,
    "start_time": "2022-03-07T09:14:01.188Z"
   },
   {
    "duration": 11,
    "start_time": "2022-03-07T09:14:01.222Z"
   },
   {
    "duration": 25,
    "start_time": "2022-03-07T09:14:01.235Z"
   },
   {
    "duration": 13,
    "start_time": "2022-03-07T09:14:01.262Z"
   },
   {
    "duration": 265,
    "start_time": "2022-03-07T09:14:01.277Z"
   },
   {
    "duration": 19,
    "start_time": "2022-03-07T09:14:01.543Z"
   },
   {
    "duration": 61,
    "start_time": "2022-03-07T09:14:01.565Z"
   },
   {
    "duration": 5,
    "start_time": "2022-03-07T09:14:01.628Z"
   },
   {
    "duration": 6,
    "start_time": "2022-03-07T09:14:01.635Z"
   },
   {
    "duration": 11,
    "start_time": "2022-03-07T09:14:01.643Z"
   },
   {
    "duration": 11,
    "start_time": "2022-03-07T09:14:01.656Z"
   },
   {
    "duration": 277,
    "start_time": "2022-03-07T09:14:01.668Z"
   },
   {
    "duration": 299,
    "start_time": "2022-03-07T09:14:01.947Z"
   },
   {
    "duration": 294,
    "start_time": "2022-03-07T09:14:02.247Z"
   },
   {
    "duration": 2,
    "start_time": "2022-03-07T09:14:02.543Z"
   },
   {
    "duration": 14,
    "start_time": "2022-03-07T09:14:02.546Z"
   },
   {
    "duration": 7,
    "start_time": "2022-03-07T09:14:02.562Z"
   },
   {
    "duration": 433,
    "start_time": "2022-03-07T09:14:02.570Z"
   },
   {
    "duration": 3,
    "start_time": "2022-03-07T09:14:03.004Z"
   },
   {
    "duration": 296,
    "start_time": "2022-03-07T09:14:03.009Z"
   },
   {
    "duration": -1049,
    "start_time": "2022-03-07T09:14:04.356Z"
   },
   {
    "duration": -1077,
    "start_time": "2022-03-07T09:14:04.385Z"
   },
   {
    "duration": -1086,
    "start_time": "2022-03-07T09:14:04.395Z"
   },
   {
    "duration": -1090,
    "start_time": "2022-03-07T09:14:04.400Z"
   },
   {
    "duration": -1099,
    "start_time": "2022-03-07T09:14:04.409Z"
   },
   {
    "duration": -1133,
    "start_time": "2022-03-07T09:14:04.444Z"
   },
   {
    "duration": -1165,
    "start_time": "2022-03-07T09:14:04.477Z"
   },
   {
    "duration": -1173,
    "start_time": "2022-03-07T09:14:04.486Z"
   },
   {
    "duration": -1181,
    "start_time": "2022-03-07T09:14:04.495Z"
   },
   {
    "duration": 8,
    "start_time": "2022-03-07T09:14:13.593Z"
   },
   {
    "duration": 9,
    "start_time": "2022-03-07T09:14:21.389Z"
   },
   {
    "duration": 10,
    "start_time": "2022-03-07T09:14:23.354Z"
   },
   {
    "duration": 262,
    "start_time": "2022-03-07T09:14:24.843Z"
   },
   {
    "duration": 252,
    "start_time": "2022-03-07T09:14:28.161Z"
   },
   {
    "duration": 304,
    "start_time": "2022-03-07T09:14:30.900Z"
   },
   {
    "duration": 9,
    "start_time": "2022-03-07T09:14:39.730Z"
   },
   {
    "duration": 7,
    "start_time": "2022-03-07T09:14:43.669Z"
   },
   {
    "duration": 216,
    "start_time": "2022-03-07T09:15:12.922Z"
   },
   {
    "duration": 6,
    "start_time": "2022-03-07T09:15:41.234Z"
   },
   {
    "duration": 7,
    "start_time": "2022-03-07T09:16:09.506Z"
   },
   {
    "duration": 11,
    "start_time": "2022-03-07T09:16:20.194Z"
   },
   {
    "duration": 7,
    "start_time": "2022-03-07T09:16:28.814Z"
   },
   {
    "duration": 600,
    "start_time": "2022-03-07T09:16:35.064Z"
   },
   {
    "duration": 3,
    "start_time": "2022-03-07T09:16:35.665Z"
   },
   {
    "duration": 74,
    "start_time": "2022-03-07T09:16:35.672Z"
   },
   {
    "duration": 3,
    "start_time": "2022-03-07T09:16:35.747Z"
   },
   {
    "duration": 153,
    "start_time": "2022-03-07T09:16:35.751Z"
   },
   {
    "duration": 93,
    "start_time": "2022-03-07T09:16:35.906Z"
   },
   {
    "duration": 19,
    "start_time": "2022-03-07T09:16:36.002Z"
   },
   {
    "duration": 20,
    "start_time": "2022-03-07T09:16:36.023Z"
   },
   {
    "duration": 167,
    "start_time": "2022-03-07T09:16:36.044Z"
   },
   {
    "duration": 58,
    "start_time": "2022-03-07T09:16:36.213Z"
   },
   {
    "duration": 64,
    "start_time": "2022-03-07T09:16:36.273Z"
   },
   {
    "duration": 30,
    "start_time": "2022-03-07T09:16:36.339Z"
   },
   {
    "duration": 16,
    "start_time": "2022-03-07T09:16:36.370Z"
   },
   {
    "duration": 23,
    "start_time": "2022-03-07T09:16:36.388Z"
   },
   {
    "duration": 51,
    "start_time": "2022-03-07T09:16:36.413Z"
   },
   {
    "duration": 32,
    "start_time": "2022-03-07T09:16:36.465Z"
   },
   {
    "duration": 31,
    "start_time": "2022-03-07T09:16:36.498Z"
   },
   {
    "duration": 3,
    "start_time": "2022-03-07T09:16:36.530Z"
   },
   {
    "duration": 28,
    "start_time": "2022-03-07T09:16:36.535Z"
   },
   {
    "duration": 10,
    "start_time": "2022-03-07T09:16:36.565Z"
   },
   {
    "duration": 11,
    "start_time": "2022-03-07T09:16:36.576Z"
   },
   {
    "duration": 3,
    "start_time": "2022-03-07T09:16:36.590Z"
   },
   {
    "duration": 8,
    "start_time": "2022-03-07T09:16:36.595Z"
   },
   {
    "duration": 25,
    "start_time": "2022-03-07T09:16:36.605Z"
   },
   {
    "duration": 10,
    "start_time": "2022-03-07T09:16:36.632Z"
   },
   {
    "duration": 21,
    "start_time": "2022-03-07T09:16:36.643Z"
   },
   {
    "duration": 7,
    "start_time": "2022-03-07T09:16:36.666Z"
   },
   {
    "duration": 246,
    "start_time": "2022-03-07T09:16:36.674Z"
   },
   {
    "duration": 6,
    "start_time": "2022-03-07T09:16:36.922Z"
   },
   {
    "duration": 6,
    "start_time": "2022-03-07T09:16:36.930Z"
   },
   {
    "duration": 25,
    "start_time": "2022-03-07T09:16:36.938Z"
   },
   {
    "duration": 35,
    "start_time": "2022-03-07T09:16:36.964Z"
   },
   {
    "duration": 5,
    "start_time": "2022-03-07T09:16:37.001Z"
   },
   {
    "duration": 5,
    "start_time": "2022-03-07T09:16:37.007Z"
   },
   {
    "duration": 8,
    "start_time": "2022-03-07T09:16:37.014Z"
   },
   {
    "duration": 8,
    "start_time": "2022-03-07T09:16:37.023Z"
   },
   {
    "duration": 301,
    "start_time": "2022-03-07T09:16:37.033Z"
   },
   {
    "duration": 279,
    "start_time": "2022-03-07T09:16:37.336Z"
   },
   {
    "duration": 269,
    "start_time": "2022-03-07T09:16:37.617Z"
   },
   {
    "duration": 2,
    "start_time": "2022-03-07T09:16:37.888Z"
   },
   {
    "duration": 9,
    "start_time": "2022-03-07T09:16:37.892Z"
   },
   {
    "duration": 5,
    "start_time": "2022-03-07T09:16:37.902Z"
   },
   {
    "duration": 391,
    "start_time": "2022-03-07T09:16:37.908Z"
   },
   {
    "duration": 2,
    "start_time": "2022-03-07T09:16:38.300Z"
   },
   {
    "duration": 5,
    "start_time": "2022-03-07T09:16:38.304Z"
   },
   {
    "duration": 9,
    "start_time": "2022-03-07T09:16:38.311Z"
   },
   {
    "duration": 11,
    "start_time": "2022-03-07T09:16:38.321Z"
   },
   {
    "duration": 5,
    "start_time": "2022-03-07T09:16:38.334Z"
   },
   {
    "duration": 23,
    "start_time": "2022-03-07T09:16:38.340Z"
   },
   {
    "duration": 2,
    "start_time": "2022-03-07T09:16:38.364Z"
   },
   {
    "duration": 260,
    "start_time": "2022-03-07T09:16:38.368Z"
   },
   {
    "duration": 266,
    "start_time": "2022-03-07T09:16:38.630Z"
   },
   {
    "duration": 326,
    "start_time": "2022-03-07T09:16:38.897Z"
   },
   {
    "duration": 8,
    "start_time": "2022-03-07T09:16:59.601Z"
   },
   {
    "duration": 8,
    "start_time": "2022-03-07T09:17:04.139Z"
   },
   {
    "duration": 8,
    "start_time": "2022-03-07T09:17:07.662Z"
   },
   {
    "duration": 5,
    "start_time": "2022-03-07T09:17:52.155Z"
   },
   {
    "duration": 5,
    "start_time": "2022-03-07T09:18:06.068Z"
   },
   {
    "duration": 7,
    "start_time": "2022-03-07T09:19:02.783Z"
   },
   {
    "duration": 6,
    "start_time": "2022-03-07T09:19:05.205Z"
   },
   {
    "duration": 7,
    "start_time": "2022-03-07T09:19:06.477Z"
   },
   {
    "duration": 7,
    "start_time": "2022-03-07T09:19:19.964Z"
   },
   {
    "duration": 4,
    "start_time": "2022-03-07T09:20:00.348Z"
   },
   {
    "duration": 7,
    "start_time": "2022-03-07T09:20:01.577Z"
   },
   {
    "duration": 583,
    "start_time": "2022-03-07T09:20:10.338Z"
   },
   {
    "duration": 2,
    "start_time": "2022-03-07T09:20:10.923Z"
   },
   {
    "duration": 82,
    "start_time": "2022-03-07T09:20:10.927Z"
   },
   {
    "duration": 3,
    "start_time": "2022-03-07T09:20:11.011Z"
   },
   {
    "duration": 214,
    "start_time": "2022-03-07T09:20:11.016Z"
   },
   {
    "duration": 145,
    "start_time": "2022-03-07T09:20:11.232Z"
   },
   {
    "duration": 21,
    "start_time": "2022-03-07T09:20:11.380Z"
   },
   {
    "duration": 27,
    "start_time": "2022-03-07T09:20:11.405Z"
   },
   {
    "duration": 238,
    "start_time": "2022-03-07T09:20:11.435Z"
   },
   {
    "duration": 89,
    "start_time": "2022-03-07T09:20:11.675Z"
   },
   {
    "duration": 63,
    "start_time": "2022-03-07T09:20:11.765Z"
   },
   {
    "duration": 18,
    "start_time": "2022-03-07T09:20:11.829Z"
   },
   {
    "duration": 15,
    "start_time": "2022-03-07T09:20:11.862Z"
   },
   {
    "duration": 22,
    "start_time": "2022-03-07T09:20:11.878Z"
   },
   {
    "duration": 34,
    "start_time": "2022-03-07T09:20:11.901Z"
   },
   {
    "duration": 52,
    "start_time": "2022-03-07T09:20:11.936Z"
   },
   {
    "duration": 31,
    "start_time": "2022-03-07T09:20:11.990Z"
   },
   {
    "duration": 3,
    "start_time": "2022-03-07T09:20:12.023Z"
   },
   {
    "duration": 6,
    "start_time": "2022-03-07T09:20:12.027Z"
   },
   {
    "duration": 29,
    "start_time": "2022-03-07T09:20:12.035Z"
   },
   {
    "duration": 9,
    "start_time": "2022-03-07T09:20:12.066Z"
   },
   {
    "duration": 3,
    "start_time": "2022-03-07T09:20:12.076Z"
   },
   {
    "duration": 10,
    "start_time": "2022-03-07T09:20:12.083Z"
   },
   {
    "duration": 26,
    "start_time": "2022-03-07T09:20:12.095Z"
   },
   {
    "duration": 10,
    "start_time": "2022-03-07T09:20:12.123Z"
   },
   {
    "duration": 4,
    "start_time": "2022-03-07T09:20:12.134Z"
   },
   {
    "duration": 3,
    "start_time": "2022-03-07T09:20:12.163Z"
   },
   {
    "duration": 243,
    "start_time": "2022-03-07T09:20:12.168Z"
   },
   {
    "duration": 7,
    "start_time": "2022-03-07T09:20:12.413Z"
   },
   {
    "duration": 5,
    "start_time": "2022-03-07T09:20:12.421Z"
   },
   {
    "duration": 18,
    "start_time": "2022-03-07T09:20:12.427Z"
   },
   {
    "duration": 20,
    "start_time": "2022-03-07T09:20:12.447Z"
   },
   {
    "duration": 54,
    "start_time": "2022-03-07T09:20:12.469Z"
   },
   {
    "duration": 6,
    "start_time": "2022-03-07T09:20:12.525Z"
   },
   {
    "duration": 6,
    "start_time": "2022-03-07T09:20:12.533Z"
   },
   {
    "duration": 7,
    "start_time": "2022-03-07T09:20:12.562Z"
   },
   {
    "duration": 3,
    "start_time": "2022-03-07T09:20:12.571Z"
   },
   {
    "duration": 438,
    "start_time": "2022-03-07T09:20:12.576Z"
   },
   {
    "duration": 456,
    "start_time": "2022-03-07T09:20:13.016Z"
   },
   {
    "duration": 287,
    "start_time": "2022-03-07T09:20:13.474Z"
   },
   {
    "duration": 3,
    "start_time": "2022-03-07T09:20:13.762Z"
   },
   {
    "duration": 9,
    "start_time": "2022-03-07T09:20:13.766Z"
   },
   {
    "duration": 419,
    "start_time": "2022-03-07T09:20:13.778Z"
   },
   {
    "duration": 9,
    "start_time": "2022-03-07T09:20:14.200Z"
   },
   {
    "duration": 10,
    "start_time": "2022-03-07T09:20:14.211Z"
   },
   {
    "duration": 6,
    "start_time": "2022-03-07T09:20:14.223Z"
   },
   {
    "duration": 17,
    "start_time": "2022-03-07T09:20:14.230Z"
   },
   {
    "duration": 16,
    "start_time": "2022-03-07T09:20:14.249Z"
   },
   {
    "duration": 264,
    "start_time": "2022-03-07T09:20:14.267Z"
   },
   {
    "duration": 270,
    "start_time": "2022-03-07T09:20:14.533Z"
   },
   {
    "duration": 314,
    "start_time": "2022-03-07T09:20:14.805Z"
   },
   {
    "duration": 9,
    "start_time": "2022-03-07T09:20:45.891Z"
   },
   {
    "duration": 8,
    "start_time": "2022-03-07T09:21:05.664Z"
   },
   {
    "duration": 7,
    "start_time": "2022-03-07T09:21:18.748Z"
   },
   {
    "duration": 7,
    "start_time": "2022-03-07T09:22:34.084Z"
   },
   {
    "duration": 11,
    "start_time": "2022-03-07T09:22:36.010Z"
   },
   {
    "duration": 9,
    "start_time": "2022-03-07T09:22:56.497Z"
   },
   {
    "duration": 10,
    "start_time": "2022-03-07T09:23:01.023Z"
   },
   {
    "duration": 603,
    "start_time": "2022-03-07T09:23:16.474Z"
   },
   {
    "duration": 3,
    "start_time": "2022-03-07T09:23:17.079Z"
   },
   {
    "duration": 82,
    "start_time": "2022-03-07T09:23:17.084Z"
   },
   {
    "duration": 4,
    "start_time": "2022-03-07T09:23:17.168Z"
   },
   {
    "duration": 150,
    "start_time": "2022-03-07T09:23:17.173Z"
   },
   {
    "duration": 95,
    "start_time": "2022-03-07T09:23:17.325Z"
   },
   {
    "duration": 19,
    "start_time": "2022-03-07T09:23:17.422Z"
   },
   {
    "duration": 22,
    "start_time": "2022-03-07T09:23:17.444Z"
   },
   {
    "duration": 168,
    "start_time": "2022-03-07T09:23:17.468Z"
   },
   {
    "duration": 58,
    "start_time": "2022-03-07T09:23:17.637Z"
   },
   {
    "duration": 83,
    "start_time": "2022-03-07T09:23:17.697Z"
   },
   {
    "duration": 20,
    "start_time": "2022-03-07T09:23:17.782Z"
   },
   {
    "duration": 19,
    "start_time": "2022-03-07T09:23:17.804Z"
   },
   {
    "duration": 23,
    "start_time": "2022-03-07T09:23:17.864Z"
   },
   {
    "duration": 34,
    "start_time": "2022-03-07T09:23:17.888Z"
   },
   {
    "duration": 31,
    "start_time": "2022-03-07T09:23:17.923Z"
   },
   {
    "duration": 35,
    "start_time": "2022-03-07T09:23:17.956Z"
   },
   {
    "duration": 4,
    "start_time": "2022-03-07T09:23:17.995Z"
   },
   {
    "duration": 11,
    "start_time": "2022-03-07T09:23:18.001Z"
   },
   {
    "duration": 10,
    "start_time": "2022-03-07T09:23:18.014Z"
   },
   {
    "duration": 9,
    "start_time": "2022-03-07T09:23:18.026Z"
   },
   {
    "duration": 3,
    "start_time": "2022-03-07T09:23:18.037Z"
   },
   {
    "duration": 6,
    "start_time": "2022-03-07T09:23:18.043Z"
   },
   {
    "duration": 34,
    "start_time": "2022-03-07T09:23:18.051Z"
   },
   {
    "duration": 9,
    "start_time": "2022-03-07T09:23:18.087Z"
   },
   {
    "duration": 3,
    "start_time": "2022-03-07T09:23:18.098Z"
   },
   {
    "duration": 6,
    "start_time": "2022-03-07T09:23:18.102Z"
   },
   {
    "duration": 242,
    "start_time": "2022-03-07T09:23:18.110Z"
   },
   {
    "duration": 13,
    "start_time": "2022-03-07T09:23:18.354Z"
   },
   {
    "duration": 7,
    "start_time": "2022-03-07T09:23:18.368Z"
   },
   {
    "duration": 7,
    "start_time": "2022-03-07T09:23:18.377Z"
   },
   {
    "duration": 8,
    "start_time": "2022-03-07T09:23:18.386Z"
   },
   {
    "duration": 40,
    "start_time": "2022-03-07T09:23:18.395Z"
   },
   {
    "duration": 5,
    "start_time": "2022-03-07T09:23:18.437Z"
   },
   {
    "duration": 6,
    "start_time": "2022-03-07T09:23:18.443Z"
   },
   {
    "duration": 8,
    "start_time": "2022-03-07T09:23:18.450Z"
   },
   {
    "duration": 5,
    "start_time": "2022-03-07T09:23:18.459Z"
   },
   {
    "duration": 418,
    "start_time": "2022-03-07T09:23:18.465Z"
   },
   {
    "duration": 529,
    "start_time": "2022-03-07T09:23:18.884Z"
   },
   {
    "duration": 281,
    "start_time": "2022-03-07T09:23:19.415Z"
   },
   {
    "duration": 2,
    "start_time": "2022-03-07T09:23:19.699Z"
   },
   {
    "duration": 8,
    "start_time": "2022-03-07T09:23:19.703Z"
   },
   {
    "duration": 390,
    "start_time": "2022-03-07T09:23:19.713Z"
   },
   {
    "duration": 7,
    "start_time": "2022-03-07T09:23:20.105Z"
   },
   {
    "duration": 8,
    "start_time": "2022-03-07T09:23:20.114Z"
   },
   {
    "duration": 11,
    "start_time": "2022-03-07T09:23:20.124Z"
   },
   {
    "duration": 31,
    "start_time": "2022-03-07T09:23:20.137Z"
   },
   {
    "duration": 6,
    "start_time": "2022-03-07T09:23:20.170Z"
   },
   {
    "duration": 11,
    "start_time": "2022-03-07T09:23:20.177Z"
   },
   {
    "duration": 2,
    "start_time": "2022-03-07T09:23:20.190Z"
   },
   {
    "duration": 253,
    "start_time": "2022-03-07T09:23:20.194Z"
   },
   {
    "duration": 257,
    "start_time": "2022-03-07T09:23:20.449Z"
   },
   {
    "duration": 287,
    "start_time": "2022-03-07T09:23:20.707Z"
   },
   {
    "duration": 228,
    "start_time": "2022-03-07T09:25:21.555Z"
   },
   {
    "duration": 603,
    "start_time": "2022-03-07T09:26:45.976Z"
   },
   {
    "duration": 2,
    "start_time": "2022-03-07T09:26:46.581Z"
   },
   {
    "duration": 82,
    "start_time": "2022-03-07T09:26:46.585Z"
   },
   {
    "duration": 3,
    "start_time": "2022-03-07T09:26:46.669Z"
   },
   {
    "duration": 145,
    "start_time": "2022-03-07T09:26:46.673Z"
   },
   {
    "duration": 96,
    "start_time": "2022-03-07T09:26:46.819Z"
   },
   {
    "duration": 19,
    "start_time": "2022-03-07T09:26:46.917Z"
   },
   {
    "duration": 20,
    "start_time": "2022-03-07T09:26:46.938Z"
   },
   {
    "duration": 171,
    "start_time": "2022-03-07T09:26:46.960Z"
   },
   {
    "duration": 56,
    "start_time": "2022-03-07T09:26:47.132Z"
   },
   {
    "duration": 79,
    "start_time": "2022-03-07T09:26:47.190Z"
   },
   {
    "duration": 17,
    "start_time": "2022-03-07T09:26:47.271Z"
   },
   {
    "duration": 15,
    "start_time": "2022-03-07T09:26:47.290Z"
   },
   {
    "duration": 23,
    "start_time": "2022-03-07T09:26:47.306Z"
   },
   {
    "duration": 55,
    "start_time": "2022-03-07T09:26:47.330Z"
   },
   {
    "duration": 31,
    "start_time": "2022-03-07T09:26:47.387Z"
   },
   {
    "duration": 47,
    "start_time": "2022-03-07T09:26:47.420Z"
   },
   {
    "duration": 4,
    "start_time": "2022-03-07T09:26:47.468Z"
   },
   {
    "duration": 7,
    "start_time": "2022-03-07T09:26:47.473Z"
   },
   {
    "duration": 9,
    "start_time": "2022-03-07T09:26:47.481Z"
   },
   {
    "duration": 8,
    "start_time": "2022-03-07T09:26:47.491Z"
   },
   {
    "duration": 3,
    "start_time": "2022-03-07T09:26:47.501Z"
   },
   {
    "duration": 9,
    "start_time": "2022-03-07T09:26:47.507Z"
   },
   {
    "duration": 50,
    "start_time": "2022-03-07T09:26:47.517Z"
   },
   {
    "duration": 10,
    "start_time": "2022-03-07T09:26:47.568Z"
   },
   {
    "duration": 4,
    "start_time": "2022-03-07T09:26:47.579Z"
   },
   {
    "duration": 7,
    "start_time": "2022-03-07T09:26:47.584Z"
   },
   {
    "duration": 334,
    "start_time": "2022-03-07T09:26:47.592Z"
   },
   {
    "duration": 7,
    "start_time": "2022-03-07T09:26:47.928Z"
   },
   {
    "duration": 5,
    "start_time": "2022-03-07T09:26:47.937Z"
   },
   {
    "duration": 49,
    "start_time": "2022-03-07T09:26:47.944Z"
   },
   {
    "duration": 5,
    "start_time": "2022-03-07T09:26:47.995Z"
   },
   {
    "duration": 9,
    "start_time": "2022-03-07T09:26:48.001Z"
   },
   {
    "duration": 8,
    "start_time": "2022-03-07T09:26:48.011Z"
   },
   {
    "duration": 4,
    "start_time": "2022-03-07T09:26:48.021Z"
   },
   {
    "duration": 278,
    "start_time": "2022-03-07T09:26:48.026Z"
   },
   {
    "duration": 286,
    "start_time": "2022-03-07T09:26:48.306Z"
   },
   {
    "duration": 280,
    "start_time": "2022-03-07T09:26:48.594Z"
   },
   {
    "duration": 3,
    "start_time": "2022-03-07T09:26:48.876Z"
   },
   {
    "duration": 7,
    "start_time": "2022-03-07T09:26:48.881Z"
   },
   {
    "duration": 404,
    "start_time": "2022-03-07T09:26:48.889Z"
   },
   {
    "duration": 8,
    "start_time": "2022-03-07T09:26:49.295Z"
   },
   {
    "duration": 7,
    "start_time": "2022-03-07T09:26:49.304Z"
   },
   {
    "duration": 9,
    "start_time": "2022-03-07T09:26:49.312Z"
   },
   {
    "duration": 10,
    "start_time": "2022-03-07T09:26:49.323Z"
   },
   {
    "duration": 3,
    "start_time": "2022-03-07T09:26:49.363Z"
   },
   {
    "duration": 11,
    "start_time": "2022-03-07T09:26:49.368Z"
   },
   {
    "duration": 2,
    "start_time": "2022-03-07T09:26:49.381Z"
   },
   {
    "duration": 282,
    "start_time": "2022-03-07T09:26:49.385Z"
   },
   {
    "duration": 279,
    "start_time": "2022-03-07T09:26:49.669Z"
   },
   {
    "duration": 309,
    "start_time": "2022-03-07T09:26:49.949Z"
   },
   {
    "duration": 11,
    "start_time": "2022-03-07T09:27:14.498Z"
   },
   {
    "duration": 9,
    "start_time": "2022-03-07T09:27:20.710Z"
   },
   {
    "duration": 10,
    "start_time": "2022-03-07T09:27:45.290Z"
   },
   {
    "duration": 3,
    "start_time": "2022-03-07T09:27:46.977Z"
   },
   {
    "duration": 10,
    "start_time": "2022-03-07T09:27:47.987Z"
   },
   {
    "duration": 102,
    "start_time": "2022-03-07T09:32:35.970Z"
   },
   {
    "duration": 18,
    "start_time": "2022-03-07T09:32:41.357Z"
   },
   {
    "duration": 2,
    "start_time": "2022-03-07T09:32:54.548Z"
   },
   {
    "duration": 215,
    "start_time": "2022-03-07T09:35:24.953Z"
   },
   {
    "duration": 2,
    "start_time": "2022-03-07T09:35:36.417Z"
   },
   {
    "duration": 287,
    "start_time": "2022-03-07T09:36:12.456Z"
   },
   {
    "duration": 358,
    "start_time": "2022-03-07T09:36:17.466Z"
   },
   {
    "duration": 15,
    "start_time": "2022-03-07T09:50:35.218Z"
   },
   {
    "duration": 187,
    "start_time": "2022-03-07T09:50:54.895Z"
   },
   {
    "duration": 2,
    "start_time": "2022-03-07T09:52:16.808Z"
   },
   {
    "duration": 8,
    "start_time": "2022-03-07T09:52:16.812Z"
   },
   {
    "duration": 5,
    "start_time": "2022-03-07T09:52:16.821Z"
   },
   {
    "duration": 6,
    "start_time": "2022-03-07T09:52:16.828Z"
   },
   {
    "duration": 146,
    "start_time": "2022-03-07T09:52:16.836Z"
   },
   {
    "duration": 104,
    "start_time": "2022-03-07T09:52:16.984Z"
   },
   {
    "duration": 19,
    "start_time": "2022-03-07T09:52:17.090Z"
   },
   {
    "duration": 19,
    "start_time": "2022-03-07T09:52:17.110Z"
   },
   {
    "duration": 155,
    "start_time": "2022-03-07T09:52:17.130Z"
   },
   {
    "duration": 48,
    "start_time": "2022-03-07T09:52:17.287Z"
   },
   {
    "duration": 72,
    "start_time": "2022-03-07T09:52:17.337Z"
   },
   {
    "duration": 17,
    "start_time": "2022-03-07T09:52:17.411Z"
   },
   {
    "duration": 33,
    "start_time": "2022-03-07T09:52:17.430Z"
   },
   {
    "duration": 23,
    "start_time": "2022-03-07T09:52:17.465Z"
   },
   {
    "duration": 26,
    "start_time": "2022-03-07T09:52:17.489Z"
   },
   {
    "duration": 47,
    "start_time": "2022-03-07T09:52:17.517Z"
   },
   {
    "duration": 32,
    "start_time": "2022-03-07T09:52:17.565Z"
   },
   {
    "duration": 3,
    "start_time": "2022-03-07T09:52:17.600Z"
   },
   {
    "duration": 8,
    "start_time": "2022-03-07T09:52:17.605Z"
   },
   {
    "duration": 8,
    "start_time": "2022-03-07T09:52:17.615Z"
   },
   {
    "duration": 10,
    "start_time": "2022-03-07T09:52:17.624Z"
   },
   {
    "duration": 3,
    "start_time": "2022-03-07T09:52:17.636Z"
   },
   {
    "duration": 8,
    "start_time": "2022-03-07T09:52:17.662Z"
   },
   {
    "duration": 27,
    "start_time": "2022-03-07T09:52:17.672Z"
   },
   {
    "duration": 7,
    "start_time": "2022-03-07T09:52:17.701Z"
   },
   {
    "duration": 5,
    "start_time": "2022-03-07T09:52:17.710Z"
   },
   {
    "duration": 6,
    "start_time": "2022-03-07T09:52:17.716Z"
   },
   {
    "duration": 252,
    "start_time": "2022-03-07T09:52:17.724Z"
   },
   {
    "duration": 7,
    "start_time": "2022-03-07T09:52:17.977Z"
   },
   {
    "duration": 6,
    "start_time": "2022-03-07T09:52:17.985Z"
   },
   {
    "duration": 39,
    "start_time": "2022-03-07T09:52:17.993Z"
   },
   {
    "duration": 5,
    "start_time": "2022-03-07T09:52:18.033Z"
   },
   {
    "duration": 24,
    "start_time": "2022-03-07T09:52:18.039Z"
   },
   {
    "duration": 8,
    "start_time": "2022-03-07T09:52:18.065Z"
   },
   {
    "duration": 5,
    "start_time": "2022-03-07T09:52:18.075Z"
   },
   {
    "duration": 278,
    "start_time": "2022-03-07T09:52:18.081Z"
   },
   {
    "duration": 293,
    "start_time": "2022-03-07T09:52:18.363Z"
   },
   {
    "duration": 285,
    "start_time": "2022-03-07T09:52:18.658Z"
   },
   {
    "duration": 2,
    "start_time": "2022-03-07T09:52:18.945Z"
   },
   {
    "duration": 23,
    "start_time": "2022-03-07T09:52:18.949Z"
   },
   {
    "duration": 10,
    "start_time": "2022-03-07T09:52:18.974Z"
   },
   {
    "duration": 30,
    "start_time": "2022-03-07T09:52:18.985Z"
   },
   {
    "duration": 27,
    "start_time": "2022-03-07T09:52:19.016Z"
   },
   {
    "duration": 12,
    "start_time": "2022-03-07T09:52:19.045Z"
   },
   {
    "duration": 261,
    "start_time": "2022-03-07T09:52:19.059Z"
   },
   {
    "duration": 293,
    "start_time": "2022-03-07T09:52:19.322Z"
   },
   {
    "duration": 188,
    "start_time": "2022-03-07T09:52:46.765Z"
   },
   {
    "duration": 289,
    "start_time": "2022-03-07T09:54:23.927Z"
   },
   {
    "duration": 96,
    "start_time": "2022-03-07T09:54:47.661Z"
   },
   {
    "duration": 19,
    "start_time": "2022-03-07T09:54:52.480Z"
   },
   {
    "duration": 11,
    "start_time": "2022-03-07T09:54:59.783Z"
   },
   {
    "duration": 3,
    "start_time": "2022-03-07T09:55:26.809Z"
   },
   {
    "duration": 275,
    "start_time": "2022-03-07T09:57:24.130Z"
   },
   {
    "duration": 402,
    "start_time": "2022-03-07T10:00:29.820Z"
   },
   {
    "duration": 306,
    "start_time": "2022-03-07T10:01:04.359Z"
   },
   {
    "duration": 287,
    "start_time": "2022-03-07T10:01:12.608Z"
   },
   {
    "duration": 288,
    "start_time": "2022-03-07T10:01:25.705Z"
   },
   {
    "duration": 295,
    "start_time": "2022-03-07T10:01:31.976Z"
   },
   {
    "duration": 291,
    "start_time": "2022-03-07T10:01:37.048Z"
   },
   {
    "duration": 590,
    "start_time": "2022-03-07T10:27:10.752Z"
   },
   {
    "duration": 3,
    "start_time": "2022-03-07T10:27:11.343Z"
   },
   {
    "duration": 79,
    "start_time": "2022-03-07T10:27:11.348Z"
   },
   {
    "duration": 3,
    "start_time": "2022-03-07T10:27:11.429Z"
   },
   {
    "duration": 152,
    "start_time": "2022-03-07T10:27:11.433Z"
   },
   {
    "duration": 100,
    "start_time": "2022-03-07T10:27:11.586Z"
   },
   {
    "duration": 18,
    "start_time": "2022-03-07T10:27:11.688Z"
   },
   {
    "duration": 26,
    "start_time": "2022-03-07T10:27:11.708Z"
   },
   {
    "duration": 172,
    "start_time": "2022-03-07T10:27:11.736Z"
   },
   {
    "duration": 61,
    "start_time": "2022-03-07T10:27:11.910Z"
   },
   {
    "duration": 67,
    "start_time": "2022-03-07T10:27:11.972Z"
   },
   {
    "duration": 32,
    "start_time": "2022-03-07T10:27:12.040Z"
   },
   {
    "duration": 15,
    "start_time": "2022-03-07T10:27:12.073Z"
   },
   {
    "duration": 23,
    "start_time": "2022-03-07T10:27:12.090Z"
   },
   {
    "duration": 53,
    "start_time": "2022-03-07T10:27:12.115Z"
   },
   {
    "duration": 31,
    "start_time": "2022-03-07T10:27:12.170Z"
   },
   {
    "duration": 30,
    "start_time": "2022-03-07T10:27:12.202Z"
   },
   {
    "duration": 2,
    "start_time": "2022-03-07T10:27:12.234Z"
   },
   {
    "duration": 25,
    "start_time": "2022-03-07T10:27:12.238Z"
   },
   {
    "duration": 8,
    "start_time": "2022-03-07T10:27:12.264Z"
   },
   {
    "duration": 10,
    "start_time": "2022-03-07T10:27:12.273Z"
   },
   {
    "duration": 3,
    "start_time": "2022-03-07T10:27:12.285Z"
   },
   {
    "duration": 7,
    "start_time": "2022-03-07T10:27:12.291Z"
   },
   {
    "duration": 28,
    "start_time": "2022-03-07T10:27:12.299Z"
   },
   {
    "duration": 35,
    "start_time": "2022-03-07T10:27:12.329Z"
   },
   {
    "duration": 4,
    "start_time": "2022-03-07T10:27:12.366Z"
   },
   {
    "duration": 5,
    "start_time": "2022-03-07T10:27:12.372Z"
   },
   {
    "duration": 255,
    "start_time": "2022-03-07T10:27:12.379Z"
   },
   {
    "duration": 6,
    "start_time": "2022-03-07T10:27:12.636Z"
   },
   {
    "duration": 3,
    "start_time": "2022-03-07T10:27:12.644Z"
   },
   {
    "duration": 47,
    "start_time": "2022-03-07T10:27:12.649Z"
   },
   {
    "duration": 5,
    "start_time": "2022-03-07T10:27:12.698Z"
   },
   {
    "duration": 5,
    "start_time": "2022-03-07T10:27:12.704Z"
   },
   {
    "duration": 7,
    "start_time": "2022-03-07T10:27:12.711Z"
   },
   {
    "duration": 4,
    "start_time": "2022-03-07T10:27:12.719Z"
   },
   {
    "duration": 285,
    "start_time": "2022-03-07T10:27:12.724Z"
   },
   {
    "duration": 291,
    "start_time": "2022-03-07T10:27:13.011Z"
   },
   {
    "duration": 289,
    "start_time": "2022-03-07T10:27:13.304Z"
   },
   {
    "duration": 5,
    "start_time": "2022-03-07T10:27:13.596Z"
   },
   {
    "duration": 399,
    "start_time": "2022-03-07T10:27:13.603Z"
   },
   {
    "duration": 6,
    "start_time": "2022-03-07T10:27:14.005Z"
   },
   {
    "duration": 21,
    "start_time": "2022-03-07T10:27:14.013Z"
   },
   {
    "duration": 29,
    "start_time": "2022-03-07T10:27:14.036Z"
   },
   {
    "duration": 265,
    "start_time": "2022-03-07T10:27:14.067Z"
   },
   {
    "duration": 311,
    "start_time": "2022-03-07T10:27:14.333Z"
   },
   {
    "duration": 570,
    "start_time": "2022-03-08T06:23:00.901Z"
   },
   {
    "duration": 2,
    "start_time": "2022-03-08T06:23:01.473Z"
   },
   {
    "duration": 88,
    "start_time": "2022-03-08T06:23:01.478Z"
   },
   {
    "duration": 3,
    "start_time": "2022-03-08T06:23:01.568Z"
   },
   {
    "duration": 153,
    "start_time": "2022-03-08T06:23:01.573Z"
   },
   {
    "duration": 95,
    "start_time": "2022-03-08T06:23:01.728Z"
   },
   {
    "duration": 20,
    "start_time": "2022-03-08T06:23:01.832Z"
   },
   {
    "duration": 40,
    "start_time": "2022-03-08T06:23:01.855Z"
   },
   {
    "duration": 162,
    "start_time": "2022-03-08T06:23:01.897Z"
   },
   {
    "duration": 46,
    "start_time": "2022-03-08T06:23:02.060Z"
   },
   {
    "duration": 83,
    "start_time": "2022-03-08T06:23:02.107Z"
   },
   {
    "duration": 17,
    "start_time": "2022-03-08T06:23:02.191Z"
   },
   {
    "duration": 26,
    "start_time": "2022-03-08T06:23:02.210Z"
   },
   {
    "duration": 24,
    "start_time": "2022-03-08T06:23:02.238Z"
   },
   {
    "duration": 37,
    "start_time": "2022-03-08T06:23:02.263Z"
   },
   {
    "duration": 57,
    "start_time": "2022-03-08T06:23:02.301Z"
   },
   {
    "duration": 30,
    "start_time": "2022-03-08T06:23:02.360Z"
   },
   {
    "duration": 3,
    "start_time": "2022-03-08T06:23:02.391Z"
   },
   {
    "duration": 15,
    "start_time": "2022-03-08T06:23:02.395Z"
   },
   {
    "duration": 9,
    "start_time": "2022-03-08T06:23:02.412Z"
   },
   {
    "duration": 9,
    "start_time": "2022-03-08T06:23:02.433Z"
   },
   {
    "duration": 4,
    "start_time": "2022-03-08T06:23:02.443Z"
   },
   {
    "duration": 9,
    "start_time": "2022-03-08T06:23:02.450Z"
   },
   {
    "duration": 27,
    "start_time": "2022-03-08T06:23:02.461Z"
   },
   {
    "duration": 8,
    "start_time": "2022-03-08T06:23:02.490Z"
   },
   {
    "duration": 4,
    "start_time": "2022-03-08T06:23:02.499Z"
   },
   {
    "duration": 3,
    "start_time": "2022-03-08T06:23:02.534Z"
   },
   {
    "duration": 236,
    "start_time": "2022-03-08T06:23:02.539Z"
   },
   {
    "duration": 7,
    "start_time": "2022-03-08T06:23:02.776Z"
   },
   {
    "duration": 5,
    "start_time": "2022-03-08T06:23:02.784Z"
   },
   {
    "duration": 52,
    "start_time": "2022-03-08T06:23:02.790Z"
   },
   {
    "duration": 5,
    "start_time": "2022-03-08T06:23:02.844Z"
   },
   {
    "duration": 7,
    "start_time": "2022-03-08T06:23:02.850Z"
   },
   {
    "duration": 7,
    "start_time": "2022-03-08T06:23:02.859Z"
   },
   {
    "duration": 274,
    "start_time": "2022-03-08T06:23:02.868Z"
   },
   {
    "duration": 289,
    "start_time": "2022-03-08T06:23:03.144Z"
   },
   {
    "duration": 279,
    "start_time": "2022-03-08T06:23:03.434Z"
   },
   {
    "duration": 5,
    "start_time": "2022-03-08T06:23:03.714Z"
   },
   {
    "duration": 420,
    "start_time": "2022-03-08T06:23:03.732Z"
   },
   {
    "duration": 7,
    "start_time": "2022-03-08T06:23:04.153Z"
   },
   {
    "duration": 8,
    "start_time": "2022-03-08T06:23:04.162Z"
   },
   {
    "duration": 8,
    "start_time": "2022-03-08T06:23:04.172Z"
   },
   {
    "duration": 284,
    "start_time": "2022-03-08T06:23:04.181Z"
   },
   {
    "duration": 325,
    "start_time": "2022-03-08T06:23:04.467Z"
   },
   {
    "duration": 247,
    "start_time": "2022-03-08T06:34:04.911Z"
   },
   {
    "duration": 3,
    "start_time": "2022-03-08T06:34:06.959Z"
   },
   {
    "duration": 318,
    "start_time": "2022-03-08T09:25:36.628Z"
   },
   {
    "duration": 849,
    "start_time": "2022-03-08T09:25:44.541Z"
   },
   {
    "duration": 4,
    "start_time": "2022-03-08T09:25:45.392Z"
   },
   {
    "duration": 128,
    "start_time": "2022-03-08T09:25:45.400Z"
   },
   {
    "duration": 4,
    "start_time": "2022-03-08T09:25:45.530Z"
   },
   {
    "duration": 209,
    "start_time": "2022-03-08T09:25:45.536Z"
   },
   {
    "duration": 139,
    "start_time": "2022-03-08T09:25:45.747Z"
   },
   {
    "duration": 23,
    "start_time": "2022-03-08T09:25:45.889Z"
   },
   {
    "duration": 31,
    "start_time": "2022-03-08T09:25:45.915Z"
   },
   {
    "duration": 253,
    "start_time": "2022-03-08T09:25:45.950Z"
   },
   {
    "duration": 86,
    "start_time": "2022-03-08T09:25:46.206Z"
   },
   {
    "duration": 113,
    "start_time": "2022-03-08T09:25:46.294Z"
   },
   {
    "duration": 24,
    "start_time": "2022-03-08T09:25:46.409Z"
   },
   {
    "duration": 42,
    "start_time": "2022-03-08T09:25:46.436Z"
   },
   {
    "duration": 34,
    "start_time": "2022-03-08T09:25:46.481Z"
   },
   {
    "duration": 71,
    "start_time": "2022-03-08T09:25:46.517Z"
   },
   {
    "duration": 47,
    "start_time": "2022-03-08T09:25:46.591Z"
   },
   {
    "duration": 73,
    "start_time": "2022-03-08T09:25:46.641Z"
   },
   {
    "duration": 4,
    "start_time": "2022-03-08T09:25:46.717Z"
   },
   {
    "duration": 7,
    "start_time": "2022-03-08T09:25:46.724Z"
   },
   {
    "duration": 12,
    "start_time": "2022-03-08T09:25:46.733Z"
   },
   {
    "duration": 35,
    "start_time": "2022-03-08T09:25:46.748Z"
   },
   {
    "duration": 5,
    "start_time": "2022-03-08T09:25:46.786Z"
   },
   {
    "duration": 11,
    "start_time": "2022-03-08T09:25:46.793Z"
   },
   {
    "duration": 74,
    "start_time": "2022-03-08T09:25:46.806Z"
   },
   {
    "duration": 15,
    "start_time": "2022-03-08T09:25:46.883Z"
   },
   {
    "duration": 5,
    "start_time": "2022-03-08T09:25:46.901Z"
   },
   {
    "duration": 6,
    "start_time": "2022-03-08T09:25:46.911Z"
   },
   {
    "duration": 423,
    "start_time": "2022-03-08T09:25:46.920Z"
   },
   {
    "duration": 10,
    "start_time": "2022-03-08T09:25:47.346Z"
   },
   {
    "duration": 18,
    "start_time": "2022-03-08T09:25:47.358Z"
   },
   {
    "duration": 70,
    "start_time": "2022-03-08T09:25:47.379Z"
   },
   {
    "duration": 25,
    "start_time": "2022-03-08T09:25:47.451Z"
   },
   {
    "duration": 23,
    "start_time": "2022-03-08T09:25:47.479Z"
   },
   {
    "duration": 11,
    "start_time": "2022-03-08T09:25:47.506Z"
   },
   {
    "duration": 477,
    "start_time": "2022-03-08T09:25:47.519Z"
   },
   {
    "duration": 503,
    "start_time": "2022-03-08T09:25:47.998Z"
   },
   {
    "duration": 510,
    "start_time": "2022-03-08T09:25:48.504Z"
   },
   {
    "duration": 10,
    "start_time": "2022-03-08T09:25:49.017Z"
   },
   {
    "duration": 676,
    "start_time": "2022-03-08T09:25:49.030Z"
   },
   {
    "duration": 11,
    "start_time": "2022-03-08T09:25:49.709Z"
   },
   {
    "duration": 13,
    "start_time": "2022-03-08T09:25:49.722Z"
   },
   {
    "duration": 36,
    "start_time": "2022-03-08T09:25:49.738Z"
   },
   {
    "duration": 498,
    "start_time": "2022-03-08T09:25:49.777Z"
   },
   {
    "duration": 613,
    "start_time": "2022-03-08T09:25:50.278Z"
   },
   {
    "duration": 12,
    "start_time": "2022-03-08T09:25:50.895Z"
   },
   {
    "duration": 9,
    "start_time": "2022-03-08T09:26:10.831Z"
   },
   {
    "duration": 1058,
    "start_time": "2022-03-08T09:38:36.933Z"
   },
   {
    "duration": 3,
    "start_time": "2022-03-08T09:38:37.994Z"
   },
   {
    "duration": 133,
    "start_time": "2022-03-08T09:38:38.001Z"
   },
   {
    "duration": 4,
    "start_time": "2022-03-08T09:38:38.137Z"
   },
   {
    "duration": 319,
    "start_time": "2022-03-08T09:38:38.144Z"
   },
   {
    "duration": 204,
    "start_time": "2022-03-08T09:38:38.466Z"
   },
   {
    "duration": 39,
    "start_time": "2022-03-08T09:38:38.673Z"
   },
   {
    "duration": 46,
    "start_time": "2022-03-08T09:38:38.717Z"
   },
   {
    "duration": 374,
    "start_time": "2022-03-08T09:38:38.767Z"
   },
   {
    "duration": 76,
    "start_time": "2022-03-08T09:38:39.145Z"
   },
   {
    "duration": 133,
    "start_time": "2022-03-08T09:38:39.224Z"
   },
   {
    "duration": 35,
    "start_time": "2022-03-08T09:38:39.360Z"
   },
   {
    "duration": 22,
    "start_time": "2022-03-08T09:38:39.398Z"
   },
   {
    "duration": 55,
    "start_time": "2022-03-08T09:38:39.423Z"
   },
   {
    "duration": 55,
    "start_time": "2022-03-08T09:38:39.480Z"
   },
   {
    "duration": 91,
    "start_time": "2022-03-08T09:38:39.538Z"
   },
   {
    "duration": 7,
    "start_time": "2022-03-08T09:38:39.632Z"
   },
   {
    "duration": 69,
    "start_time": "2022-03-08T09:38:39.642Z"
   },
   {
    "duration": 3,
    "start_time": "2022-03-08T09:38:39.715Z"
   },
   {
    "duration": 8,
    "start_time": "2022-03-08T09:38:39.721Z"
   },
   {
    "duration": 15,
    "start_time": "2022-03-08T09:38:39.732Z"
   },
   {
    "duration": 39,
    "start_time": "2022-03-08T09:38:39.750Z"
   },
   {
    "duration": 8,
    "start_time": "2022-03-08T09:38:39.796Z"
   },
   {
    "duration": 13,
    "start_time": "2022-03-08T09:38:39.807Z"
   },
   {
    "duration": 76,
    "start_time": "2022-03-08T09:38:39.823Z"
   },
   {
    "duration": 16,
    "start_time": "2022-03-08T09:38:39.901Z"
   },
   {
    "duration": 5,
    "start_time": "2022-03-08T09:38:39.920Z"
   },
   {
    "duration": 8,
    "start_time": "2022-03-08T09:38:39.928Z"
   },
   {
    "duration": 437,
    "start_time": "2022-03-08T09:38:39.939Z"
   },
   {
    "duration": 12,
    "start_time": "2022-03-08T09:38:40.379Z"
   },
   {
    "duration": 6,
    "start_time": "2022-03-08T09:38:40.394Z"
   },
   {
    "duration": 107,
    "start_time": "2022-03-08T09:38:40.403Z"
   },
   {
    "duration": 9,
    "start_time": "2022-03-08T09:38:40.513Z"
   },
   {
    "duration": 28,
    "start_time": "2022-03-08T09:38:40.524Z"
   },
   {
    "duration": 18,
    "start_time": "2022-03-08T09:38:40.555Z"
   },
   {
    "duration": 497,
    "start_time": "2022-03-08T09:38:40.576Z"
   },
   {
    "duration": 523,
    "start_time": "2022-03-08T09:38:41.076Z"
   },
   {
    "duration": 531,
    "start_time": "2022-03-08T09:38:41.601Z"
   },
   {
    "duration": 6,
    "start_time": "2022-03-08T09:38:42.135Z"
   },
   {
    "duration": 545,
    "start_time": "2022-03-08T09:38:42.143Z"
   },
   {
    "duration": 10,
    "start_time": "2022-03-08T09:38:42.690Z"
   },
   {
    "duration": 10,
    "start_time": "2022-03-08T09:38:42.703Z"
   },
   {
    "duration": 15,
    "start_time": "2022-03-08T09:38:42.716Z"
   },
   {
    "duration": 523,
    "start_time": "2022-03-08T09:38:42.774Z"
   },
   {
    "duration": 552,
    "start_time": "2022-03-08T09:38:43.299Z"
   },
   {
    "duration": 22,
    "start_time": "2022-03-08T09:38:43.853Z"
   },
   {
    "duration": 11,
    "start_time": "2022-03-08T09:38:43.878Z"
   }
  ],
  "kernelspec": {
   "display_name": "Python 3 (ipykernel)",
   "language": "python",
   "name": "python3"
  },
  "language_info": {
   "codemirror_mode": {
    "name": "ipython",
    "version": 3
   },
   "file_extension": ".py",
   "mimetype": "text/x-python",
   "name": "python",
   "nbconvert_exporter": "python",
   "pygments_lexer": "ipython3",
   "version": "3.9.7"
  },
  "toc": {
   "base_numbering": 1,
   "nav_menu": {},
   "number_sections": true,
   "sideBar": true,
   "skip_h1_title": true,
   "title_cell": "Table of Contents",
   "title_sidebar": "Contents",
   "toc_cell": false,
   "toc_position": {},
   "toc_section_display": true,
   "toc_window_display": false
  }
 },
 "nbformat": 4,
 "nbformat_minor": 5
}
