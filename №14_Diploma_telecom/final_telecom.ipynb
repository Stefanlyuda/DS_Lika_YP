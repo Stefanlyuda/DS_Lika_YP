{
 "cells": [
  {
   "cell_type": "markdown",
   "id": "b77319a2",
   "metadata": {},
   "source": [
    "## Дипломный проект \"Телеком. Прогнозирование оттока клиентов\""
   ]
  },
  {
   "cell_type": "markdown",
   "id": "366c9bb1",
   "metadata": {},
   "source": [
    "### Задача\n",
    "Построить модель машинного обучения для прогнозирования оттока клиентов компании «Ниединогоразрыва.ком»"
   ]
  },
  {
   "cell_type": "markdown",
   "id": "eacc352d",
   "metadata": {},
   "source": [
    "### Описание услуг\n",
    "\n",
    "Оператор предоставляет два основных типа услуг: \n",
    "\n",
    "1. Стационарную телефонную связь. Возможно подключение телефонного аппарата к нескольким линиям одновременно.\n",
    "2. Интернет. Подключение может быть двух типов: через телефонную линию (DSL*,* от англ. *digital subscriber line*, «цифровая абонентская линия») или оптоволоконный кабель (*Fiber optic*).\n",
    "\n",
    "\n",
    "А также у пользователя есть возможноть подключить дополнительные услуги\n",
    "\n",
    "\n",
    "3. Интернет-безопасность: антивирус (*DeviceProtection*) и блокировка небезопасных сайтов (*OnlineSecurity*);\n",
    "4. Выделенная линия технической поддержки (*TechSupport*);\n",
    "5. Облачное хранилище файлов для резервного копирования данных (*OnlineBackup*);\n",
    "6. Стриминговое телевидение (*StreamingTV*) и каталог фильмов (*StreamingMovies*)."
   ]
  },
  {
   "cell_type": "markdown",
   "id": "63df5a06",
   "metadata": {},
   "source": [
    "- `contract.csv` — информация о договоре;\n",
    "- `personal.csv` — персональные данные клиента;\n",
    "- `internet.csv` — информация об интернет-услугах;\n",
    "- `phone.csv` — информация об услугах телефонии."
   ]
  },
  {
   "cell_type": "markdown",
   "id": "437587d7",
   "metadata": {},
   "source": [
    "### Импорт библиотек"
   ]
  },
  {
   "cell_type": "code",
   "execution_count": 1,
   "id": "8d04b76a",
   "metadata": {},
   "outputs": [],
   "source": [
    "import pandas as pd \n",
    "import numpy as np\n",
    "\n",
    "import datetime\n",
    "from sklearn.model_selection import train_test_split,GridSearchCV\n",
    "import seaborn as sns\n",
    "\n",
    "import warnings \n",
    "warnings.simplefilter(action='ignore', category=FutureWarning)\n",
    "\n",
    "import matplotlib.pyplot as plt\n",
    "import math\n",
    "from sklearn.tree import DecisionTreeClassifier\n",
    "from sklearn.metrics import accuracy_score \n",
    "\n",
    "from sklearn.metrics import roc_curve #график auc_roc\n",
    "from sklearn.metrics import roc_auc_score\n",
    "from sklearn.utils import shuffle #перемешивание при семплировании \n",
    "\n",
    "from sklearn.preprocessing import StandardScaler #масштабирование количественных признаков\n",
    "pd.options.mode.chained_assignment = None\n",
    "\n",
    "from sklearn.tree import DecisionTreeClassifier #дерево решений \n",
    "from sklearn.ensemble import RandomForestClassifier #случайный лес\n",
    "from sklearn.linear_model import LogisticRegression"
   ]
  },
  {
   "cell_type": "markdown",
   "id": "29633db6",
   "metadata": {},
   "source": [
    "### Импорт библиотек градинетного бутинга"
   ]
  },
  {
   "cell_type": "code",
   "execution_count": 2,
   "id": "306c24db",
   "metadata": {},
   "outputs": [
    {
     "name": "stdout",
     "output_type": "stream",
     "text": [
      "Requirement already satisfied: lightgbm in /opt/conda/lib/python3.9/site-packages (3.3.1)\n",
      "Requirement already satisfied: wheel in /opt/conda/lib/python3.9/site-packages (from lightgbm) (0.36.2)\n",
      "Requirement already satisfied: scikit-learn!=0.22.0 in /opt/conda/lib/python3.9/site-packages (from lightgbm) (0.24.1)\n",
      "Requirement already satisfied: scipy in /opt/conda/lib/python3.9/site-packages (from lightgbm) (1.8.0)\n",
      "Requirement already satisfied: numpy in /opt/conda/lib/python3.9/site-packages (from lightgbm) (1.21.1)\n",
      "Requirement already satisfied: threadpoolctl>=2.0.0 in /opt/conda/lib/python3.9/site-packages (from scikit-learn!=0.22.0->lightgbm) (3.1.0)\n",
      "Requirement already satisfied: joblib>=0.11 in /opt/conda/lib/python3.9/site-packages (from scikit-learn!=0.22.0->lightgbm) (1.1.0)\n",
      "Note: you may need to restart the kernel to use updated packages.\n"
     ]
    }
   ],
   "source": [
    "try:\n",
    "    %pip install lightgbm\n",
    "except:\n",
    "    !pip install lightgbm"
   ]
  },
  {
   "cell_type": "code",
   "execution_count": 3,
   "id": "ecbd2d7f",
   "metadata": {},
   "outputs": [
    {
     "name": "stdout",
     "output_type": "stream",
     "text": [
      "Requirement already satisfied: catboost in /opt/conda/lib/python3.9/site-packages (1.0.3)\n",
      "Requirement already satisfied: matplotlib in /opt/conda/lib/python3.9/site-packages (from catboost) (3.3.4)\n",
      "Requirement already satisfied: pandas>=0.24.0 in /opt/conda/lib/python3.9/site-packages (from catboost) (1.2.4)\n",
      "Requirement already satisfied: scipy in /opt/conda/lib/python3.9/site-packages (from catboost) (1.8.0)\n",
      "Requirement already satisfied: graphviz in /opt/conda/lib/python3.9/site-packages (from catboost) (0.20)\n",
      "Requirement already satisfied: numpy>=1.16.0 in /opt/conda/lib/python3.9/site-packages (from catboost) (1.21.1)\n",
      "Requirement already satisfied: six in /opt/conda/lib/python3.9/site-packages (from catboost) (1.16.0)\n",
      "Requirement already satisfied: plotly in /opt/conda/lib/python3.9/site-packages (from catboost) (5.4.0)\n",
      "Requirement already satisfied: python-dateutil>=2.7.3 in /opt/conda/lib/python3.9/site-packages (from pandas>=0.24.0->catboost) (2.8.1)\n",
      "Requirement already satisfied: pytz>=2017.3 in /opt/conda/lib/python3.9/site-packages (from pandas>=0.24.0->catboost) (2021.1)\n",
      "Requirement already satisfied: pyparsing!=2.0.4,!=2.1.2,!=2.1.6,>=2.0.3 in /opt/conda/lib/python3.9/site-packages (from matplotlib->catboost) (2.4.7)\n",
      "Requirement already satisfied: cycler>=0.10 in /opt/conda/lib/python3.9/site-packages (from matplotlib->catboost) (0.11.0)\n",
      "Requirement already satisfied: kiwisolver>=1.0.1 in /opt/conda/lib/python3.9/site-packages (from matplotlib->catboost) (1.4.2)\n",
      "Requirement already satisfied: pillow>=6.2.0 in /opt/conda/lib/python3.9/site-packages (from matplotlib->catboost) (8.4.0)\n",
      "Requirement already satisfied: tenacity>=6.2.0 in /opt/conda/lib/python3.9/site-packages (from plotly->catboost) (8.0.1)\n",
      "Note: you may need to restart the kernel to use updated packages.\n"
     ]
    }
   ],
   "source": [
    "try:\n",
    "    %pip install catboost\n",
    "except: \n",
    "    !pip install catboost"
   ]
  },
  {
   "cell_type": "code",
   "execution_count": 4,
   "id": "962c569a",
   "metadata": {},
   "outputs": [],
   "source": [
    "from catboost import CatBoostClassifier\n",
    "import warnings\n",
    "warnings.filterwarnings(\"ignore\")"
   ]
  },
  {
   "cell_type": "code",
   "execution_count": 5,
   "id": "b2fbd3d5",
   "metadata": {},
   "outputs": [],
   "source": [
    "from numpy.random import RandomState\n",
    "rdm = RandomState(250722)"
   ]
  },
  {
   "cell_type": "code",
   "execution_count": 6,
   "id": "7d7581e1",
   "metadata": {},
   "outputs": [],
   "source": [
    "from lightgbm import LGBMClassifier"
   ]
  },
  {
   "cell_type": "markdown",
   "id": "b9f523cb",
   "metadata": {},
   "source": [
    "### Загрузка данных"
   ]
  },
  {
   "cell_type": "code",
   "execution_count": 7,
   "id": "9e546d8c",
   "metadata": {},
   "outputs": [],
   "source": [
    "try:\n",
    "    data_personal = pd.read_csv('/Users/l.stefanenko/Desktop/Yandex/diploma/datasets/final_provider/personal.csv')\n",
    "    data_contract = pd.read_csv('/Users/l.stefanenko/Desktop/Yandex/diploma/datasets/final_provider/contract.csv')\n",
    "    data_phone = pd.read_csv('/Users/l.stefanenko/Desktop/Yandex/diploma/datasets/final_provider/phone.csv')\n",
    "    data_internet = pd.read_csv('/Users/l.stefanenko/Desktop/Yandex/diploma/datasets/final_provider/internet.csv')\n",
    "except:\n",
    "    data_personal = pd.read_csv('/datasets/final_provider/personal.csv')\n",
    "    data_contract = pd.read_csv('/datasets/final_provider/contract.csv')\n",
    "    data_phone = pd.read_csv('/datasets/final_provider/phone.csv')\n",
    "    data_internet = pd.read_csv('/datasets/final_provider/internet.csv')"
   ]
  },
  {
   "cell_type": "markdown",
   "id": "264ec42e",
   "metadata": {},
   "source": [
    "### Получение информации  о датасетах"
   ]
  },
  {
   "cell_type": "code",
   "execution_count": 8,
   "id": "8f488598",
   "metadata": {},
   "outputs": [],
   "source": [
    "def info_df(personal,contract,phone,internet):\n",
    "    df_all= [personal,contract,phone,internet]\n",
    "    for i in df_all:\n",
    "        display(i.head())\n",
    "        i.info()\n",
    "        display(i.duplicated().sum())\n",
    "        display(i.shape)"
   ]
  },
  {
   "cell_type": "code",
   "execution_count": 9,
   "id": "548194ca",
   "metadata": {},
   "outputs": [
    {
     "data": {
      "text/html": [
       "<div>\n",
       "<style scoped>\n",
       "    .dataframe tbody tr th:only-of-type {\n",
       "        vertical-align: middle;\n",
       "    }\n",
       "\n",
       "    .dataframe tbody tr th {\n",
       "        vertical-align: top;\n",
       "    }\n",
       "\n",
       "    .dataframe thead th {\n",
       "        text-align: right;\n",
       "    }\n",
       "</style>\n",
       "<table border=\"1\" class=\"dataframe\">\n",
       "  <thead>\n",
       "    <tr style=\"text-align: right;\">\n",
       "      <th></th>\n",
       "      <th>customerID</th>\n",
       "      <th>BeginDate</th>\n",
       "      <th>EndDate</th>\n",
       "      <th>Type</th>\n",
       "      <th>PaperlessBilling</th>\n",
       "      <th>PaymentMethod</th>\n",
       "      <th>MonthlyCharges</th>\n",
       "      <th>TotalCharges</th>\n",
       "    </tr>\n",
       "  </thead>\n",
       "  <tbody>\n",
       "    <tr>\n",
       "      <th>0</th>\n",
       "      <td>7590-VHVEG</td>\n",
       "      <td>2020-01-01</td>\n",
       "      <td>No</td>\n",
       "      <td>Month-to-month</td>\n",
       "      <td>Yes</td>\n",
       "      <td>Electronic check</td>\n",
       "      <td>29.85</td>\n",
       "      <td>29.85</td>\n",
       "    </tr>\n",
       "    <tr>\n",
       "      <th>1</th>\n",
       "      <td>5575-GNVDE</td>\n",
       "      <td>2017-04-01</td>\n",
       "      <td>No</td>\n",
       "      <td>One year</td>\n",
       "      <td>No</td>\n",
       "      <td>Mailed check</td>\n",
       "      <td>56.95</td>\n",
       "      <td>1889.5</td>\n",
       "    </tr>\n",
       "    <tr>\n",
       "      <th>2</th>\n",
       "      <td>3668-QPYBK</td>\n",
       "      <td>2019-10-01</td>\n",
       "      <td>2019-12-01 00:00:00</td>\n",
       "      <td>Month-to-month</td>\n",
       "      <td>Yes</td>\n",
       "      <td>Mailed check</td>\n",
       "      <td>53.85</td>\n",
       "      <td>108.15</td>\n",
       "    </tr>\n",
       "    <tr>\n",
       "      <th>3</th>\n",
       "      <td>7795-CFOCW</td>\n",
       "      <td>2016-05-01</td>\n",
       "      <td>No</td>\n",
       "      <td>One year</td>\n",
       "      <td>No</td>\n",
       "      <td>Bank transfer (automatic)</td>\n",
       "      <td>42.30</td>\n",
       "      <td>1840.75</td>\n",
       "    </tr>\n",
       "    <tr>\n",
       "      <th>4</th>\n",
       "      <td>9237-HQITU</td>\n",
       "      <td>2019-09-01</td>\n",
       "      <td>2019-11-01 00:00:00</td>\n",
       "      <td>Month-to-month</td>\n",
       "      <td>Yes</td>\n",
       "      <td>Electronic check</td>\n",
       "      <td>70.70</td>\n",
       "      <td>151.65</td>\n",
       "    </tr>\n",
       "  </tbody>\n",
       "</table>\n",
       "</div>"
      ],
      "text/plain": [
       "   customerID   BeginDate              EndDate            Type  \\\n",
       "0  7590-VHVEG  2020-01-01                   No  Month-to-month   \n",
       "1  5575-GNVDE  2017-04-01                   No        One year   \n",
       "2  3668-QPYBK  2019-10-01  2019-12-01 00:00:00  Month-to-month   \n",
       "3  7795-CFOCW  2016-05-01                   No        One year   \n",
       "4  9237-HQITU  2019-09-01  2019-11-01 00:00:00  Month-to-month   \n",
       "\n",
       "  PaperlessBilling              PaymentMethod  MonthlyCharges TotalCharges  \n",
       "0              Yes           Electronic check           29.85        29.85  \n",
       "1               No               Mailed check           56.95       1889.5  \n",
       "2              Yes               Mailed check           53.85       108.15  \n",
       "3               No  Bank transfer (automatic)           42.30      1840.75  \n",
       "4              Yes           Electronic check           70.70       151.65  "
      ]
     },
     "metadata": {},
     "output_type": "display_data"
    },
    {
     "name": "stdout",
     "output_type": "stream",
     "text": [
      "<class 'pandas.core.frame.DataFrame'>\n",
      "RangeIndex: 7043 entries, 0 to 7042\n",
      "Data columns (total 8 columns):\n",
      " #   Column            Non-Null Count  Dtype  \n",
      "---  ------            --------------  -----  \n",
      " 0   customerID        7043 non-null   object \n",
      " 1   BeginDate         7043 non-null   object \n",
      " 2   EndDate           7043 non-null   object \n",
      " 3   Type              7043 non-null   object \n",
      " 4   PaperlessBilling  7043 non-null   object \n",
      " 5   PaymentMethod     7043 non-null   object \n",
      " 6   MonthlyCharges    7043 non-null   float64\n",
      " 7   TotalCharges      7043 non-null   object \n",
      "dtypes: float64(1), object(7)\n",
      "memory usage: 440.3+ KB\n"
     ]
    },
    {
     "data": {
      "text/plain": [
       "0"
      ]
     },
     "metadata": {},
     "output_type": "display_data"
    },
    {
     "data": {
      "text/plain": [
       "(7043, 8)"
      ]
     },
     "metadata": {},
     "output_type": "display_data"
    },
    {
     "data": {
      "text/html": [
       "<div>\n",
       "<style scoped>\n",
       "    .dataframe tbody tr th:only-of-type {\n",
       "        vertical-align: middle;\n",
       "    }\n",
       "\n",
       "    .dataframe tbody tr th {\n",
       "        vertical-align: top;\n",
       "    }\n",
       "\n",
       "    .dataframe thead th {\n",
       "        text-align: right;\n",
       "    }\n",
       "</style>\n",
       "<table border=\"1\" class=\"dataframe\">\n",
       "  <thead>\n",
       "    <tr style=\"text-align: right;\">\n",
       "      <th></th>\n",
       "      <th>customerID</th>\n",
       "      <th>gender</th>\n",
       "      <th>SeniorCitizen</th>\n",
       "      <th>Partner</th>\n",
       "      <th>Dependents</th>\n",
       "    </tr>\n",
       "  </thead>\n",
       "  <tbody>\n",
       "    <tr>\n",
       "      <th>0</th>\n",
       "      <td>7590-VHVEG</td>\n",
       "      <td>Female</td>\n",
       "      <td>0</td>\n",
       "      <td>Yes</td>\n",
       "      <td>No</td>\n",
       "    </tr>\n",
       "    <tr>\n",
       "      <th>1</th>\n",
       "      <td>5575-GNVDE</td>\n",
       "      <td>Male</td>\n",
       "      <td>0</td>\n",
       "      <td>No</td>\n",
       "      <td>No</td>\n",
       "    </tr>\n",
       "    <tr>\n",
       "      <th>2</th>\n",
       "      <td>3668-QPYBK</td>\n",
       "      <td>Male</td>\n",
       "      <td>0</td>\n",
       "      <td>No</td>\n",
       "      <td>No</td>\n",
       "    </tr>\n",
       "    <tr>\n",
       "      <th>3</th>\n",
       "      <td>7795-CFOCW</td>\n",
       "      <td>Male</td>\n",
       "      <td>0</td>\n",
       "      <td>No</td>\n",
       "      <td>No</td>\n",
       "    </tr>\n",
       "    <tr>\n",
       "      <th>4</th>\n",
       "      <td>9237-HQITU</td>\n",
       "      <td>Female</td>\n",
       "      <td>0</td>\n",
       "      <td>No</td>\n",
       "      <td>No</td>\n",
       "    </tr>\n",
       "  </tbody>\n",
       "</table>\n",
       "</div>"
      ],
      "text/plain": [
       "   customerID  gender  SeniorCitizen Partner Dependents\n",
       "0  7590-VHVEG  Female              0     Yes         No\n",
       "1  5575-GNVDE    Male              0      No         No\n",
       "2  3668-QPYBK    Male              0      No         No\n",
       "3  7795-CFOCW    Male              0      No         No\n",
       "4  9237-HQITU  Female              0      No         No"
      ]
     },
     "metadata": {},
     "output_type": "display_data"
    },
    {
     "name": "stdout",
     "output_type": "stream",
     "text": [
      "<class 'pandas.core.frame.DataFrame'>\n",
      "RangeIndex: 7043 entries, 0 to 7042\n",
      "Data columns (total 5 columns):\n",
      " #   Column         Non-Null Count  Dtype \n",
      "---  ------         --------------  ----- \n",
      " 0   customerID     7043 non-null   object\n",
      " 1   gender         7043 non-null   object\n",
      " 2   SeniorCitizen  7043 non-null   int64 \n",
      " 3   Partner        7043 non-null   object\n",
      " 4   Dependents     7043 non-null   object\n",
      "dtypes: int64(1), object(4)\n",
      "memory usage: 275.2+ KB\n"
     ]
    },
    {
     "data": {
      "text/plain": [
       "0"
      ]
     },
     "metadata": {},
     "output_type": "display_data"
    },
    {
     "data": {
      "text/plain": [
       "(7043, 5)"
      ]
     },
     "metadata": {},
     "output_type": "display_data"
    },
    {
     "data": {
      "text/html": [
       "<div>\n",
       "<style scoped>\n",
       "    .dataframe tbody tr th:only-of-type {\n",
       "        vertical-align: middle;\n",
       "    }\n",
       "\n",
       "    .dataframe tbody tr th {\n",
       "        vertical-align: top;\n",
       "    }\n",
       "\n",
       "    .dataframe thead th {\n",
       "        text-align: right;\n",
       "    }\n",
       "</style>\n",
       "<table border=\"1\" class=\"dataframe\">\n",
       "  <thead>\n",
       "    <tr style=\"text-align: right;\">\n",
       "      <th></th>\n",
       "      <th>customerID</th>\n",
       "      <th>MultipleLines</th>\n",
       "    </tr>\n",
       "  </thead>\n",
       "  <tbody>\n",
       "    <tr>\n",
       "      <th>0</th>\n",
       "      <td>5575-GNVDE</td>\n",
       "      <td>No</td>\n",
       "    </tr>\n",
       "    <tr>\n",
       "      <th>1</th>\n",
       "      <td>3668-QPYBK</td>\n",
       "      <td>No</td>\n",
       "    </tr>\n",
       "    <tr>\n",
       "      <th>2</th>\n",
       "      <td>9237-HQITU</td>\n",
       "      <td>No</td>\n",
       "    </tr>\n",
       "    <tr>\n",
       "      <th>3</th>\n",
       "      <td>9305-CDSKC</td>\n",
       "      <td>Yes</td>\n",
       "    </tr>\n",
       "    <tr>\n",
       "      <th>4</th>\n",
       "      <td>1452-KIOVK</td>\n",
       "      <td>Yes</td>\n",
       "    </tr>\n",
       "  </tbody>\n",
       "</table>\n",
       "</div>"
      ],
      "text/plain": [
       "   customerID MultipleLines\n",
       "0  5575-GNVDE            No\n",
       "1  3668-QPYBK            No\n",
       "2  9237-HQITU            No\n",
       "3  9305-CDSKC           Yes\n",
       "4  1452-KIOVK           Yes"
      ]
     },
     "metadata": {},
     "output_type": "display_data"
    },
    {
     "name": "stdout",
     "output_type": "stream",
     "text": [
      "<class 'pandas.core.frame.DataFrame'>\n",
      "RangeIndex: 6361 entries, 0 to 6360\n",
      "Data columns (total 2 columns):\n",
      " #   Column         Non-Null Count  Dtype \n",
      "---  ------         --------------  ----- \n",
      " 0   customerID     6361 non-null   object\n",
      " 1   MultipleLines  6361 non-null   object\n",
      "dtypes: object(2)\n",
      "memory usage: 99.5+ KB\n"
     ]
    },
    {
     "data": {
      "text/plain": [
       "0"
      ]
     },
     "metadata": {},
     "output_type": "display_data"
    },
    {
     "data": {
      "text/plain": [
       "(6361, 2)"
      ]
     },
     "metadata": {},
     "output_type": "display_data"
    },
    {
     "data": {
      "text/html": [
       "<div>\n",
       "<style scoped>\n",
       "    .dataframe tbody tr th:only-of-type {\n",
       "        vertical-align: middle;\n",
       "    }\n",
       "\n",
       "    .dataframe tbody tr th {\n",
       "        vertical-align: top;\n",
       "    }\n",
       "\n",
       "    .dataframe thead th {\n",
       "        text-align: right;\n",
       "    }\n",
       "</style>\n",
       "<table border=\"1\" class=\"dataframe\">\n",
       "  <thead>\n",
       "    <tr style=\"text-align: right;\">\n",
       "      <th></th>\n",
       "      <th>customerID</th>\n",
       "      <th>InternetService</th>\n",
       "      <th>OnlineSecurity</th>\n",
       "      <th>OnlineBackup</th>\n",
       "      <th>DeviceProtection</th>\n",
       "      <th>TechSupport</th>\n",
       "      <th>StreamingTV</th>\n",
       "      <th>StreamingMovies</th>\n",
       "    </tr>\n",
       "  </thead>\n",
       "  <tbody>\n",
       "    <tr>\n",
       "      <th>0</th>\n",
       "      <td>7590-VHVEG</td>\n",
       "      <td>DSL</td>\n",
       "      <td>No</td>\n",
       "      <td>Yes</td>\n",
       "      <td>No</td>\n",
       "      <td>No</td>\n",
       "      <td>No</td>\n",
       "      <td>No</td>\n",
       "    </tr>\n",
       "    <tr>\n",
       "      <th>1</th>\n",
       "      <td>5575-GNVDE</td>\n",
       "      <td>DSL</td>\n",
       "      <td>Yes</td>\n",
       "      <td>No</td>\n",
       "      <td>Yes</td>\n",
       "      <td>No</td>\n",
       "      <td>No</td>\n",
       "      <td>No</td>\n",
       "    </tr>\n",
       "    <tr>\n",
       "      <th>2</th>\n",
       "      <td>3668-QPYBK</td>\n",
       "      <td>DSL</td>\n",
       "      <td>Yes</td>\n",
       "      <td>Yes</td>\n",
       "      <td>No</td>\n",
       "      <td>No</td>\n",
       "      <td>No</td>\n",
       "      <td>No</td>\n",
       "    </tr>\n",
       "    <tr>\n",
       "      <th>3</th>\n",
       "      <td>7795-CFOCW</td>\n",
       "      <td>DSL</td>\n",
       "      <td>Yes</td>\n",
       "      <td>No</td>\n",
       "      <td>Yes</td>\n",
       "      <td>Yes</td>\n",
       "      <td>No</td>\n",
       "      <td>No</td>\n",
       "    </tr>\n",
       "    <tr>\n",
       "      <th>4</th>\n",
       "      <td>9237-HQITU</td>\n",
       "      <td>Fiber optic</td>\n",
       "      <td>No</td>\n",
       "      <td>No</td>\n",
       "      <td>No</td>\n",
       "      <td>No</td>\n",
       "      <td>No</td>\n",
       "      <td>No</td>\n",
       "    </tr>\n",
       "  </tbody>\n",
       "</table>\n",
       "</div>"
      ],
      "text/plain": [
       "   customerID InternetService OnlineSecurity OnlineBackup DeviceProtection  \\\n",
       "0  7590-VHVEG             DSL             No          Yes               No   \n",
       "1  5575-GNVDE             DSL            Yes           No              Yes   \n",
       "2  3668-QPYBK             DSL            Yes          Yes               No   \n",
       "3  7795-CFOCW             DSL            Yes           No              Yes   \n",
       "4  9237-HQITU     Fiber optic             No           No               No   \n",
       "\n",
       "  TechSupport StreamingTV StreamingMovies  \n",
       "0          No          No              No  \n",
       "1          No          No              No  \n",
       "2          No          No              No  \n",
       "3         Yes          No              No  \n",
       "4          No          No              No  "
      ]
     },
     "metadata": {},
     "output_type": "display_data"
    },
    {
     "name": "stdout",
     "output_type": "stream",
     "text": [
      "<class 'pandas.core.frame.DataFrame'>\n",
      "RangeIndex: 5517 entries, 0 to 5516\n",
      "Data columns (total 8 columns):\n",
      " #   Column            Non-Null Count  Dtype \n",
      "---  ------            --------------  ----- \n",
      " 0   customerID        5517 non-null   object\n",
      " 1   InternetService   5517 non-null   object\n",
      " 2   OnlineSecurity    5517 non-null   object\n",
      " 3   OnlineBackup      5517 non-null   object\n",
      " 4   DeviceProtection  5517 non-null   object\n",
      " 5   TechSupport       5517 non-null   object\n",
      " 6   StreamingTV       5517 non-null   object\n",
      " 7   StreamingMovies   5517 non-null   object\n",
      "dtypes: object(8)\n",
      "memory usage: 344.9+ KB\n"
     ]
    },
    {
     "data": {
      "text/plain": [
       "0"
      ]
     },
     "metadata": {},
     "output_type": "display_data"
    },
    {
     "data": {
      "text/plain": [
       "(5517, 8)"
      ]
     },
     "metadata": {},
     "output_type": "display_data"
    }
   ],
   "source": [
    "info_df(data_contract,data_personal,data_phone,data_internet)"
   ]
  },
  {
   "cell_type": "markdown",
   "id": "db8fef30",
   "metadata": {},
   "source": [
    "##  Предобработка данных"
   ]
  },
  {
   "cell_type": "markdown",
   "id": "43223ee6",
   "metadata": {},
   "source": [
    "### Приведение названий колонок к нижнему регистру"
   ]
  },
  {
   "cell_type": "code",
   "execution_count": 10,
   "id": "fe6d14d3",
   "metadata": {},
   "outputs": [],
   "source": [
    "def change_col(df:pd.DataFrame):\n",
    "    df.columns = df.columns.str.lower()"
   ]
  },
  {
   "cell_type": "code",
   "execution_count": 11,
   "id": "0fc5c4e7",
   "metadata": {},
   "outputs": [],
   "source": [
    "df_lst = [data_contract,data_personal,data_phone,data_internet]\n",
    "for elem in df_lst:\n",
    "    change_col(elem)"
   ]
  },
  {
   "cell_type": "markdown",
   "id": "40aa6dcf",
   "metadata": {},
   "source": [
    "### Cоединение таблиц"
   ]
  },
  {
   "cell_type": "code",
   "execution_count": 12,
   "id": "8dee02b5",
   "metadata": {},
   "outputs": [],
   "source": [
    "data = data_contract.merge(data_personal,on = 'customerid', how = 'left')\n",
    "data = data.merge(data_phone,on = 'customerid', how = 'left')\n",
    "data = data.merge(data_internet,on = 'customerid', how = 'left')"
   ]
  },
  {
   "cell_type": "code",
   "execution_count": 13,
   "id": "c3433e34",
   "metadata": {},
   "outputs": [],
   "source": [
    "def info(df: pd.DataFrame):\n",
    "    print(f'Информация:')\n",
    "    print(f'Первые {len(df.head())} строк:')\n",
    "    display(df.head())\n",
    "    print('Общая информация:')\n",
    "    df.info()\n",
    "    print(f'Количество дубликатов: {df.duplicated().sum()}')"
   ]
  },
  {
   "cell_type": "code",
   "execution_count": 14,
   "id": "5c63613e",
   "metadata": {
    "scrolled": false
   },
   "outputs": [
    {
     "name": "stdout",
     "output_type": "stream",
     "text": [
      "Информация:\n",
      "Первые 5 строк:\n"
     ]
    },
    {
     "data": {
      "text/html": [
       "<div>\n",
       "<style scoped>\n",
       "    .dataframe tbody tr th:only-of-type {\n",
       "        vertical-align: middle;\n",
       "    }\n",
       "\n",
       "    .dataframe tbody tr th {\n",
       "        vertical-align: top;\n",
       "    }\n",
       "\n",
       "    .dataframe thead th {\n",
       "        text-align: right;\n",
       "    }\n",
       "</style>\n",
       "<table border=\"1\" class=\"dataframe\">\n",
       "  <thead>\n",
       "    <tr style=\"text-align: right;\">\n",
       "      <th></th>\n",
       "      <th>customerid</th>\n",
       "      <th>begindate</th>\n",
       "      <th>enddate</th>\n",
       "      <th>type</th>\n",
       "      <th>paperlessbilling</th>\n",
       "      <th>paymentmethod</th>\n",
       "      <th>monthlycharges</th>\n",
       "      <th>totalcharges</th>\n",
       "      <th>gender</th>\n",
       "      <th>seniorcitizen</th>\n",
       "      <th>partner</th>\n",
       "      <th>dependents</th>\n",
       "      <th>multiplelines</th>\n",
       "      <th>internetservice</th>\n",
       "      <th>onlinesecurity</th>\n",
       "      <th>onlinebackup</th>\n",
       "      <th>deviceprotection</th>\n",
       "      <th>techsupport</th>\n",
       "      <th>streamingtv</th>\n",
       "      <th>streamingmovies</th>\n",
       "    </tr>\n",
       "  </thead>\n",
       "  <tbody>\n",
       "    <tr>\n",
       "      <th>0</th>\n",
       "      <td>7590-VHVEG</td>\n",
       "      <td>2020-01-01</td>\n",
       "      <td>No</td>\n",
       "      <td>Month-to-month</td>\n",
       "      <td>Yes</td>\n",
       "      <td>Electronic check</td>\n",
       "      <td>29.85</td>\n",
       "      <td>29.85</td>\n",
       "      <td>Female</td>\n",
       "      <td>0</td>\n",
       "      <td>Yes</td>\n",
       "      <td>No</td>\n",
       "      <td>NaN</td>\n",
       "      <td>DSL</td>\n",
       "      <td>No</td>\n",
       "      <td>Yes</td>\n",
       "      <td>No</td>\n",
       "      <td>No</td>\n",
       "      <td>No</td>\n",
       "      <td>No</td>\n",
       "    </tr>\n",
       "    <tr>\n",
       "      <th>1</th>\n",
       "      <td>5575-GNVDE</td>\n",
       "      <td>2017-04-01</td>\n",
       "      <td>No</td>\n",
       "      <td>One year</td>\n",
       "      <td>No</td>\n",
       "      <td>Mailed check</td>\n",
       "      <td>56.95</td>\n",
       "      <td>1889.5</td>\n",
       "      <td>Male</td>\n",
       "      <td>0</td>\n",
       "      <td>No</td>\n",
       "      <td>No</td>\n",
       "      <td>No</td>\n",
       "      <td>DSL</td>\n",
       "      <td>Yes</td>\n",
       "      <td>No</td>\n",
       "      <td>Yes</td>\n",
       "      <td>No</td>\n",
       "      <td>No</td>\n",
       "      <td>No</td>\n",
       "    </tr>\n",
       "    <tr>\n",
       "      <th>2</th>\n",
       "      <td>3668-QPYBK</td>\n",
       "      <td>2019-10-01</td>\n",
       "      <td>2019-12-01 00:00:00</td>\n",
       "      <td>Month-to-month</td>\n",
       "      <td>Yes</td>\n",
       "      <td>Mailed check</td>\n",
       "      <td>53.85</td>\n",
       "      <td>108.15</td>\n",
       "      <td>Male</td>\n",
       "      <td>0</td>\n",
       "      <td>No</td>\n",
       "      <td>No</td>\n",
       "      <td>No</td>\n",
       "      <td>DSL</td>\n",
       "      <td>Yes</td>\n",
       "      <td>Yes</td>\n",
       "      <td>No</td>\n",
       "      <td>No</td>\n",
       "      <td>No</td>\n",
       "      <td>No</td>\n",
       "    </tr>\n",
       "    <tr>\n",
       "      <th>3</th>\n",
       "      <td>7795-CFOCW</td>\n",
       "      <td>2016-05-01</td>\n",
       "      <td>No</td>\n",
       "      <td>One year</td>\n",
       "      <td>No</td>\n",
       "      <td>Bank transfer (automatic)</td>\n",
       "      <td>42.30</td>\n",
       "      <td>1840.75</td>\n",
       "      <td>Male</td>\n",
       "      <td>0</td>\n",
       "      <td>No</td>\n",
       "      <td>No</td>\n",
       "      <td>NaN</td>\n",
       "      <td>DSL</td>\n",
       "      <td>Yes</td>\n",
       "      <td>No</td>\n",
       "      <td>Yes</td>\n",
       "      <td>Yes</td>\n",
       "      <td>No</td>\n",
       "      <td>No</td>\n",
       "    </tr>\n",
       "    <tr>\n",
       "      <th>4</th>\n",
       "      <td>9237-HQITU</td>\n",
       "      <td>2019-09-01</td>\n",
       "      <td>2019-11-01 00:00:00</td>\n",
       "      <td>Month-to-month</td>\n",
       "      <td>Yes</td>\n",
       "      <td>Electronic check</td>\n",
       "      <td>70.70</td>\n",
       "      <td>151.65</td>\n",
       "      <td>Female</td>\n",
       "      <td>0</td>\n",
       "      <td>No</td>\n",
       "      <td>No</td>\n",
       "      <td>No</td>\n",
       "      <td>Fiber optic</td>\n",
       "      <td>No</td>\n",
       "      <td>No</td>\n",
       "      <td>No</td>\n",
       "      <td>No</td>\n",
       "      <td>No</td>\n",
       "      <td>No</td>\n",
       "    </tr>\n",
       "  </tbody>\n",
       "</table>\n",
       "</div>"
      ],
      "text/plain": [
       "   customerid   begindate              enddate            type  \\\n",
       "0  7590-VHVEG  2020-01-01                   No  Month-to-month   \n",
       "1  5575-GNVDE  2017-04-01                   No        One year   \n",
       "2  3668-QPYBK  2019-10-01  2019-12-01 00:00:00  Month-to-month   \n",
       "3  7795-CFOCW  2016-05-01                   No        One year   \n",
       "4  9237-HQITU  2019-09-01  2019-11-01 00:00:00  Month-to-month   \n",
       "\n",
       "  paperlessbilling              paymentmethod  monthlycharges totalcharges  \\\n",
       "0              Yes           Electronic check           29.85        29.85   \n",
       "1               No               Mailed check           56.95       1889.5   \n",
       "2              Yes               Mailed check           53.85       108.15   \n",
       "3               No  Bank transfer (automatic)           42.30      1840.75   \n",
       "4              Yes           Electronic check           70.70       151.65   \n",
       "\n",
       "   gender  seniorcitizen partner dependents multiplelines internetservice  \\\n",
       "0  Female              0     Yes         No           NaN             DSL   \n",
       "1    Male              0      No         No            No             DSL   \n",
       "2    Male              0      No         No            No             DSL   \n",
       "3    Male              0      No         No           NaN             DSL   \n",
       "4  Female              0      No         No            No     Fiber optic   \n",
       "\n",
       "  onlinesecurity onlinebackup deviceprotection techsupport streamingtv  \\\n",
       "0             No          Yes               No          No          No   \n",
       "1            Yes           No              Yes          No          No   \n",
       "2            Yes          Yes               No          No          No   \n",
       "3            Yes           No              Yes         Yes          No   \n",
       "4             No           No               No          No          No   \n",
       "\n",
       "  streamingmovies  \n",
       "0              No  \n",
       "1              No  \n",
       "2              No  \n",
       "3              No  \n",
       "4              No  "
      ]
     },
     "metadata": {},
     "output_type": "display_data"
    },
    {
     "name": "stdout",
     "output_type": "stream",
     "text": [
      "Общая информация:\n",
      "<class 'pandas.core.frame.DataFrame'>\n",
      "Int64Index: 7043 entries, 0 to 7042\n",
      "Data columns (total 20 columns):\n",
      " #   Column            Non-Null Count  Dtype  \n",
      "---  ------            --------------  -----  \n",
      " 0   customerid        7043 non-null   object \n",
      " 1   begindate         7043 non-null   object \n",
      " 2   enddate           7043 non-null   object \n",
      " 3   type              7043 non-null   object \n",
      " 4   paperlessbilling  7043 non-null   object \n",
      " 5   paymentmethod     7043 non-null   object \n",
      " 6   monthlycharges    7043 non-null   float64\n",
      " 7   totalcharges      7043 non-null   object \n",
      " 8   gender            7043 non-null   object \n",
      " 9   seniorcitizen     7043 non-null   int64  \n",
      " 10  partner           7043 non-null   object \n",
      " 11  dependents        7043 non-null   object \n",
      " 12  multiplelines     6361 non-null   object \n",
      " 13  internetservice   5517 non-null   object \n",
      " 14  onlinesecurity    5517 non-null   object \n",
      " 15  onlinebackup      5517 non-null   object \n",
      " 16  deviceprotection  5517 non-null   object \n",
      " 17  techsupport       5517 non-null   object \n",
      " 18  streamingtv       5517 non-null   object \n",
      " 19  streamingmovies   5517 non-null   object \n",
      "dtypes: float64(1), int64(1), object(18)\n",
      "memory usage: 1.1+ MB\n",
      "Количество дубликатов: 0\n"
     ]
    }
   ],
   "source": [
    "info(data)"
   ]
  },
  {
   "cell_type": "markdown",
   "id": "d77ca52f",
   "metadata": {},
   "source": [
    "### Нахождение времени жизни клиента"
   ]
  },
  {
   "cell_type": "code",
   "execution_count": 15,
   "id": "3f819568",
   "metadata": {},
   "outputs": [],
   "source": [
    "data['begindate'] = pd.to_datetime(data['begindate'])"
   ]
  },
  {
   "cell_type": "code",
   "execution_count": 16,
   "id": "a0896f1c",
   "metadata": {},
   "outputs": [],
   "source": [
    "# Замена значений NO из enddate на дату снятияя показаний -- 2020-02-01\n",
    "data.loc[data['enddate'] == 'No', 'enddate'] = pd.to_datetime('2020-02-01')\n",
    "data.enddate = pd.to_datetime(data.enddate)"
   ]
  },
  {
   "cell_type": "code",
   "execution_count": 17,
   "id": "ea640263",
   "metadata": {},
   "outputs": [
    {
     "data": {
      "text/plain": [
       "2020-02-01    5174\n",
       "2019-11-01     485\n",
       "2019-12-01     466\n",
       "2020-01-01     460\n",
       "2019-10-01     458\n",
       "Name: enddate, dtype: int64"
      ]
     },
     "execution_count": 17,
     "metadata": {},
     "output_type": "execute_result"
    }
   ],
   "source": [
    "data.enddate.value_counts()"
   ]
  },
  {
   "cell_type": "code",
   "execution_count": 18,
   "id": "f7a18f29",
   "metadata": {},
   "outputs": [],
   "source": [
    "#Найдем количество дней, в течение которых человек был клиентом компании\n",
    "data['sumdays'] = (data['enddate'] - data['begindate']).dt.days"
   ]
  },
  {
   "cell_type": "code",
   "execution_count": 19,
   "id": "9c18823c",
   "metadata": {},
   "outputs": [
    {
     "data": {
      "text/html": [
       "<div>\n",
       "<style scoped>\n",
       "    .dataframe tbody tr th:only-of-type {\n",
       "        vertical-align: middle;\n",
       "    }\n",
       "\n",
       "    .dataframe tbody tr th {\n",
       "        vertical-align: top;\n",
       "    }\n",
       "\n",
       "    .dataframe thead th {\n",
       "        text-align: right;\n",
       "    }\n",
       "</style>\n",
       "<table border=\"1\" class=\"dataframe\">\n",
       "  <thead>\n",
       "    <tr style=\"text-align: right;\">\n",
       "      <th></th>\n",
       "      <th>customerid</th>\n",
       "      <th>begindate</th>\n",
       "      <th>enddate</th>\n",
       "      <th>type</th>\n",
       "      <th>paperlessbilling</th>\n",
       "      <th>paymentmethod</th>\n",
       "      <th>monthlycharges</th>\n",
       "      <th>totalcharges</th>\n",
       "      <th>gender</th>\n",
       "      <th>seniorcitizen</th>\n",
       "      <th>...</th>\n",
       "      <th>dependents</th>\n",
       "      <th>multiplelines</th>\n",
       "      <th>internetservice</th>\n",
       "      <th>onlinesecurity</th>\n",
       "      <th>onlinebackup</th>\n",
       "      <th>deviceprotection</th>\n",
       "      <th>techsupport</th>\n",
       "      <th>streamingtv</th>\n",
       "      <th>streamingmovies</th>\n",
       "      <th>sumdays</th>\n",
       "    </tr>\n",
       "  </thead>\n",
       "  <tbody>\n",
       "    <tr>\n",
       "      <th>0</th>\n",
       "      <td>7590-VHVEG</td>\n",
       "      <td>2020-01-01</td>\n",
       "      <td>2020-02-01</td>\n",
       "      <td>Month-to-month</td>\n",
       "      <td>Yes</td>\n",
       "      <td>Electronic check</td>\n",
       "      <td>29.85</td>\n",
       "      <td>29.85</td>\n",
       "      <td>Female</td>\n",
       "      <td>0</td>\n",
       "      <td>...</td>\n",
       "      <td>No</td>\n",
       "      <td>NaN</td>\n",
       "      <td>DSL</td>\n",
       "      <td>No</td>\n",
       "      <td>Yes</td>\n",
       "      <td>No</td>\n",
       "      <td>No</td>\n",
       "      <td>No</td>\n",
       "      <td>No</td>\n",
       "      <td>31</td>\n",
       "    </tr>\n",
       "    <tr>\n",
       "      <th>1</th>\n",
       "      <td>5575-GNVDE</td>\n",
       "      <td>2017-04-01</td>\n",
       "      <td>2020-02-01</td>\n",
       "      <td>One year</td>\n",
       "      <td>No</td>\n",
       "      <td>Mailed check</td>\n",
       "      <td>56.95</td>\n",
       "      <td>1889.5</td>\n",
       "      <td>Male</td>\n",
       "      <td>0</td>\n",
       "      <td>...</td>\n",
       "      <td>No</td>\n",
       "      <td>No</td>\n",
       "      <td>DSL</td>\n",
       "      <td>Yes</td>\n",
       "      <td>No</td>\n",
       "      <td>Yes</td>\n",
       "      <td>No</td>\n",
       "      <td>No</td>\n",
       "      <td>No</td>\n",
       "      <td>1036</td>\n",
       "    </tr>\n",
       "    <tr>\n",
       "      <th>2</th>\n",
       "      <td>3668-QPYBK</td>\n",
       "      <td>2019-10-01</td>\n",
       "      <td>2019-12-01</td>\n",
       "      <td>Month-to-month</td>\n",
       "      <td>Yes</td>\n",
       "      <td>Mailed check</td>\n",
       "      <td>53.85</td>\n",
       "      <td>108.15</td>\n",
       "      <td>Male</td>\n",
       "      <td>0</td>\n",
       "      <td>...</td>\n",
       "      <td>No</td>\n",
       "      <td>No</td>\n",
       "      <td>DSL</td>\n",
       "      <td>Yes</td>\n",
       "      <td>Yes</td>\n",
       "      <td>No</td>\n",
       "      <td>No</td>\n",
       "      <td>No</td>\n",
       "      <td>No</td>\n",
       "      <td>61</td>\n",
       "    </tr>\n",
       "    <tr>\n",
       "      <th>3</th>\n",
       "      <td>7795-CFOCW</td>\n",
       "      <td>2016-05-01</td>\n",
       "      <td>2020-02-01</td>\n",
       "      <td>One year</td>\n",
       "      <td>No</td>\n",
       "      <td>Bank transfer (automatic)</td>\n",
       "      <td>42.30</td>\n",
       "      <td>1840.75</td>\n",
       "      <td>Male</td>\n",
       "      <td>0</td>\n",
       "      <td>...</td>\n",
       "      <td>No</td>\n",
       "      <td>NaN</td>\n",
       "      <td>DSL</td>\n",
       "      <td>Yes</td>\n",
       "      <td>No</td>\n",
       "      <td>Yes</td>\n",
       "      <td>Yes</td>\n",
       "      <td>No</td>\n",
       "      <td>No</td>\n",
       "      <td>1371</td>\n",
       "    </tr>\n",
       "    <tr>\n",
       "      <th>4</th>\n",
       "      <td>9237-HQITU</td>\n",
       "      <td>2019-09-01</td>\n",
       "      <td>2019-11-01</td>\n",
       "      <td>Month-to-month</td>\n",
       "      <td>Yes</td>\n",
       "      <td>Electronic check</td>\n",
       "      <td>70.70</td>\n",
       "      <td>151.65</td>\n",
       "      <td>Female</td>\n",
       "      <td>0</td>\n",
       "      <td>...</td>\n",
       "      <td>No</td>\n",
       "      <td>No</td>\n",
       "      <td>Fiber optic</td>\n",
       "      <td>No</td>\n",
       "      <td>No</td>\n",
       "      <td>No</td>\n",
       "      <td>No</td>\n",
       "      <td>No</td>\n",
       "      <td>No</td>\n",
       "      <td>61</td>\n",
       "    </tr>\n",
       "  </tbody>\n",
       "</table>\n",
       "<p>5 rows × 21 columns</p>\n",
       "</div>"
      ],
      "text/plain": [
       "   customerid  begindate    enddate            type paperlessbilling  \\\n",
       "0  7590-VHVEG 2020-01-01 2020-02-01  Month-to-month              Yes   \n",
       "1  5575-GNVDE 2017-04-01 2020-02-01        One year               No   \n",
       "2  3668-QPYBK 2019-10-01 2019-12-01  Month-to-month              Yes   \n",
       "3  7795-CFOCW 2016-05-01 2020-02-01        One year               No   \n",
       "4  9237-HQITU 2019-09-01 2019-11-01  Month-to-month              Yes   \n",
       "\n",
       "               paymentmethod  monthlycharges totalcharges  gender  \\\n",
       "0           Electronic check           29.85        29.85  Female   \n",
       "1               Mailed check           56.95       1889.5    Male   \n",
       "2               Mailed check           53.85       108.15    Male   \n",
       "3  Bank transfer (automatic)           42.30      1840.75    Male   \n",
       "4           Electronic check           70.70       151.65  Female   \n",
       "\n",
       "   seniorcitizen  ... dependents multiplelines internetservice onlinesecurity  \\\n",
       "0              0  ...         No           NaN             DSL             No   \n",
       "1              0  ...         No            No             DSL            Yes   \n",
       "2              0  ...         No            No             DSL            Yes   \n",
       "3              0  ...         No           NaN             DSL            Yes   \n",
       "4              0  ...         No            No     Fiber optic             No   \n",
       "\n",
       "  onlinebackup deviceprotection techsupport streamingtv streamingmovies  \\\n",
       "0          Yes               No          No          No              No   \n",
       "1           No              Yes          No          No              No   \n",
       "2          Yes               No          No          No              No   \n",
       "3           No              Yes         Yes          No              No   \n",
       "4           No               No          No          No              No   \n",
       "\n",
       "  sumdays  \n",
       "0      31  \n",
       "1    1036  \n",
       "2      61  \n",
       "3    1371  \n",
       "4      61  \n",
       "\n",
       "[5 rows x 21 columns]"
      ]
     },
     "execution_count": 19,
     "metadata": {},
     "output_type": "execute_result"
    }
   ],
   "source": [
    "data.head()"
   ]
  },
  {
   "cell_type": "markdown",
   "id": "bb88a6a6",
   "metadata": {},
   "source": [
    "### Работа  с пропусками и  пробелами"
   ]
  },
  {
   "cell_type": "code",
   "execution_count": 20,
   "id": "43c1de7f",
   "metadata": {},
   "outputs": [
    {
     "data": {
      "text/plain": [
       "customerid             0\n",
       "begindate              0\n",
       "enddate                0\n",
       "type                   0\n",
       "paperlessbilling       0\n",
       "paymentmethod          0\n",
       "monthlycharges         0\n",
       "totalcharges           0\n",
       "gender                 0\n",
       "seniorcitizen          0\n",
       "partner                0\n",
       "dependents             0\n",
       "multiplelines        682\n",
       "internetservice     1526\n",
       "onlinesecurity      1526\n",
       "onlinebackup        1526\n",
       "deviceprotection    1526\n",
       "techsupport         1526\n",
       "streamingtv         1526\n",
       "streamingmovies     1526\n",
       "sumdays                0\n",
       "dtype: int64"
      ]
     },
     "execution_count": 20,
     "metadata": {},
     "output_type": "execute_result"
    }
   ],
   "source": [
    "data.isna().sum()"
   ]
  },
  {
   "cell_type": "code",
   "execution_count": 21,
   "id": "845f561a",
   "metadata": {},
   "outputs": [
    {
     "name": "stdout",
     "output_type": "stream",
     "text": [
      "Доля пропущенных значений  0.001561834445548772\n"
     ]
    }
   ],
   "source": [
    " #Пробелы скорее всего вызваны  тем, что это совсем новые пользователи, по  которым нет данных. \n",
    "data[data[\"totalcharges\"] == \" \"]\n",
    "print(\"Доля пропущенных значений \", len(data[data[\"totalcharges\"] == \" \"]) / len(data[\"totalcharges\"]*100))"
   ]
  },
  {
   "cell_type": "code",
   "execution_count": 22,
   "id": "7c7d20de",
   "metadata": {},
   "outputs": [],
   "source": [
    "#Удалим пользователей,у которых суммарное число контракта равнонулю дней,тк.их доля меньше 1 процента\n",
    "data = data[data['sumdays'] != 0]"
   ]
  },
  {
   "cell_type": "code",
   "execution_count": 23,
   "id": "3eca4110",
   "metadata": {},
   "outputs": [],
   "source": [
    "#  Заменим все пропущенные значения на NO\n",
    "def data_fillna (data:pd.DataFrame, colname: str):\n",
    "    data[colname] = data[colname].fillna ('No')"
   ]
  },
  {
   "cell_type": "code",
   "execution_count": 24,
   "id": "30b84464",
   "metadata": {},
   "outputs": [],
   "source": [
    "lst_to_fiil = ['internetservice',\n",
    "                'onlinesecurity',\n",
    "                'onlinebackup',\n",
    "                'deviceprotection',\n",
    "                'techsupport',\n",
    "                'streamingtv',\n",
    "                'streamingmovies',\n",
    "              'multiplelines']\n",
    "for elem in lst_to_fiil:\n",
    "    data_fillna(data, elem)"
   ]
  },
  {
   "cell_type": "code",
   "execution_count": 25,
   "id": "4740863e",
   "metadata": {},
   "outputs": [
    {
     "data": {
      "text/plain": [
       "customerid          0\n",
       "begindate           0\n",
       "enddate             0\n",
       "type                0\n",
       "paperlessbilling    0\n",
       "paymentmethod       0\n",
       "monthlycharges      0\n",
       "totalcharges        0\n",
       "gender              0\n",
       "seniorcitizen       0\n",
       "partner             0\n",
       "dependents          0\n",
       "multiplelines       0\n",
       "internetservice     0\n",
       "onlinesecurity      0\n",
       "onlinebackup        0\n",
       "deviceprotection    0\n",
       "techsupport         0\n",
       "streamingtv         0\n",
       "streamingmovies     0\n",
       "sumdays             0\n",
       "dtype: int64"
      ]
     },
     "execution_count": 25,
     "metadata": {},
     "output_type": "execute_result"
    }
   ],
   "source": [
    "data.isna().sum()"
   ]
  },
  {
   "cell_type": "markdown",
   "id": "9b3cd219",
   "metadata": {},
   "source": [
    "### Приведение  данных к нужному типу и удаление невлияющих на исследование столбцов"
   ]
  },
  {
   "cell_type": "code",
   "execution_count": 26,
   "id": "ea22c173",
   "metadata": {},
   "outputs": [
    {
     "data": {
      "text/plain": [
       "0    5163\n",
       "1    1869\n",
       "Name: out, dtype: int64"
      ]
     },
     "execution_count": 26,
     "metadata": {},
     "output_type": "execute_result"
    }
   ],
   "source": [
    "#Вопрос!!! почему эта операция (перевода в инт) дает нам  нули  и единицы??\n",
    "data['out'] = (data['enddate'] != datetime.datetime(2020,2,1)).astype(int)\n",
    "data['out'].value_counts()"
   ]
  },
  {
   "cell_type": "code",
   "execution_count": 27,
   "id": "4cae44ff",
   "metadata": {},
   "outputs": [],
   "source": [
    "data[\"totalcharges\"] = data[\"totalcharges\"].astype('float')"
   ]
  },
  {
   "cell_type": "code",
   "execution_count": 28,
   "id": "ef69d7b9",
   "metadata": {},
   "outputs": [],
   "source": [
    "data = data.drop(('customerid'), axis=1)\n",
    "data = data.drop(('begindate'), axis=1)\n",
    "data = data.drop(('enddate'), axis=1)"
   ]
  },
  {
   "cell_type": "code",
   "execution_count": 29,
   "id": "a8e137ad",
   "metadata": {},
   "outputs": [
    {
     "name": "stdout",
     "output_type": "stream",
     "text": [
      "<class 'pandas.core.frame.DataFrame'>\n",
      "Int64Index: 7032 entries, 0 to 7042\n",
      "Data columns (total 19 columns):\n",
      " #   Column            Non-Null Count  Dtype  \n",
      "---  ------            --------------  -----  \n",
      " 0   type              7032 non-null   object \n",
      " 1   paperlessbilling  7032 non-null   object \n",
      " 2   paymentmethod     7032 non-null   object \n",
      " 3   monthlycharges    7032 non-null   float64\n",
      " 4   totalcharges      7032 non-null   float64\n",
      " 5   gender            7032 non-null   object \n",
      " 6   seniorcitizen     7032 non-null   int64  \n",
      " 7   partner           7032 non-null   object \n",
      " 8   dependents        7032 non-null   object \n",
      " 9   multiplelines     7032 non-null   object \n",
      " 10  internetservice   7032 non-null   object \n",
      " 11  onlinesecurity    7032 non-null   object \n",
      " 12  onlinebackup      7032 non-null   object \n",
      " 13  deviceprotection  7032 non-null   object \n",
      " 14  techsupport       7032 non-null   object \n",
      " 15  streamingtv       7032 non-null   object \n",
      " 16  streamingmovies   7032 non-null   object \n",
      " 17  sumdays           7032 non-null   int64  \n",
      " 18  out               7032 non-null   int64  \n",
      "dtypes: float64(2), int64(3), object(14)\n",
      "memory usage: 1.1+ MB\n"
     ]
    }
   ],
   "source": [
    "data.info()"
   ]
  },
  {
   "cell_type": "markdown",
   "id": "fa2053d4",
   "metadata": {},
   "source": [
    "### Кодирование данных"
   ]
  },
  {
   "cell_type": "code",
   "execution_count": 30,
   "id": "54673e83",
   "metadata": {},
   "outputs": [],
   "source": [
    "# перевод бинарных признаков методом OHE\n",
    "def get_dummies(df: pd.DataFrame, colname: str):\n",
    "    df[colname] = pd.get_dummies(df[colname],drop_first = True)"
   ]
  },
  {
   "cell_type": "code",
   "execution_count": 31,
   "id": "5012b8f3",
   "metadata": {},
   "outputs": [],
   "source": [
    "lst_to_dummies = ['onlinesecurity',\n",
    "                'onlinebackup',\n",
    "                'deviceprotection',\n",
    "                'techsupport',\n",
    "                'streamingtv',\n",
    "                'streamingmovies',\n",
    "                 'multiplelines',\n",
    "                 'dependents',\n",
    "                 'partner',\n",
    "                 'gender',\n",
    "                 'paperlessbilling',\n",
    "                 'out']\n",
    "for elem in lst_to_dummies:\n",
    "    get_dummies(data, elem)"
   ]
  },
  {
   "cell_type": "code",
   "execution_count": 32,
   "id": "00e5689f",
   "metadata": {},
   "outputs": [
    {
     "data": {
      "text/html": [
       "<div>\n",
       "<style scoped>\n",
       "    .dataframe tbody tr th:only-of-type {\n",
       "        vertical-align: middle;\n",
       "    }\n",
       "\n",
       "    .dataframe tbody tr th {\n",
       "        vertical-align: top;\n",
       "    }\n",
       "\n",
       "    .dataframe thead th {\n",
       "        text-align: right;\n",
       "    }\n",
       "</style>\n",
       "<table border=\"1\" class=\"dataframe\">\n",
       "  <thead>\n",
       "    <tr style=\"text-align: right;\">\n",
       "      <th></th>\n",
       "      <th>type</th>\n",
       "      <th>paperlessbilling</th>\n",
       "      <th>paymentmethod</th>\n",
       "      <th>monthlycharges</th>\n",
       "      <th>totalcharges</th>\n",
       "      <th>gender</th>\n",
       "      <th>seniorcitizen</th>\n",
       "      <th>partner</th>\n",
       "      <th>dependents</th>\n",
       "      <th>multiplelines</th>\n",
       "      <th>internetservice</th>\n",
       "      <th>onlinesecurity</th>\n",
       "      <th>onlinebackup</th>\n",
       "      <th>deviceprotection</th>\n",
       "      <th>techsupport</th>\n",
       "      <th>streamingtv</th>\n",
       "      <th>streamingmovies</th>\n",
       "      <th>sumdays</th>\n",
       "      <th>out</th>\n",
       "    </tr>\n",
       "  </thead>\n",
       "  <tbody>\n",
       "    <tr>\n",
       "      <th>0</th>\n",
       "      <td>Month-to-month</td>\n",
       "      <td>1</td>\n",
       "      <td>Electronic check</td>\n",
       "      <td>29.85</td>\n",
       "      <td>29.85</td>\n",
       "      <td>0</td>\n",
       "      <td>0</td>\n",
       "      <td>1</td>\n",
       "      <td>0</td>\n",
       "      <td>0</td>\n",
       "      <td>DSL</td>\n",
       "      <td>0</td>\n",
       "      <td>1</td>\n",
       "      <td>0</td>\n",
       "      <td>0</td>\n",
       "      <td>0</td>\n",
       "      <td>0</td>\n",
       "      <td>31</td>\n",
       "      <td>0</td>\n",
       "    </tr>\n",
       "    <tr>\n",
       "      <th>1</th>\n",
       "      <td>One year</td>\n",
       "      <td>0</td>\n",
       "      <td>Mailed check</td>\n",
       "      <td>56.95</td>\n",
       "      <td>1889.50</td>\n",
       "      <td>1</td>\n",
       "      <td>0</td>\n",
       "      <td>0</td>\n",
       "      <td>0</td>\n",
       "      <td>0</td>\n",
       "      <td>DSL</td>\n",
       "      <td>1</td>\n",
       "      <td>0</td>\n",
       "      <td>1</td>\n",
       "      <td>0</td>\n",
       "      <td>0</td>\n",
       "      <td>0</td>\n",
       "      <td>1036</td>\n",
       "      <td>0</td>\n",
       "    </tr>\n",
       "    <tr>\n",
       "      <th>2</th>\n",
       "      <td>Month-to-month</td>\n",
       "      <td>1</td>\n",
       "      <td>Mailed check</td>\n",
       "      <td>53.85</td>\n",
       "      <td>108.15</td>\n",
       "      <td>1</td>\n",
       "      <td>0</td>\n",
       "      <td>0</td>\n",
       "      <td>0</td>\n",
       "      <td>0</td>\n",
       "      <td>DSL</td>\n",
       "      <td>1</td>\n",
       "      <td>1</td>\n",
       "      <td>0</td>\n",
       "      <td>0</td>\n",
       "      <td>0</td>\n",
       "      <td>0</td>\n",
       "      <td>61</td>\n",
       "      <td>1</td>\n",
       "    </tr>\n",
       "    <tr>\n",
       "      <th>3</th>\n",
       "      <td>One year</td>\n",
       "      <td>0</td>\n",
       "      <td>Bank transfer (automatic)</td>\n",
       "      <td>42.30</td>\n",
       "      <td>1840.75</td>\n",
       "      <td>1</td>\n",
       "      <td>0</td>\n",
       "      <td>0</td>\n",
       "      <td>0</td>\n",
       "      <td>0</td>\n",
       "      <td>DSL</td>\n",
       "      <td>1</td>\n",
       "      <td>0</td>\n",
       "      <td>1</td>\n",
       "      <td>1</td>\n",
       "      <td>0</td>\n",
       "      <td>0</td>\n",
       "      <td>1371</td>\n",
       "      <td>0</td>\n",
       "    </tr>\n",
       "    <tr>\n",
       "      <th>4</th>\n",
       "      <td>Month-to-month</td>\n",
       "      <td>1</td>\n",
       "      <td>Electronic check</td>\n",
       "      <td>70.70</td>\n",
       "      <td>151.65</td>\n",
       "      <td>0</td>\n",
       "      <td>0</td>\n",
       "      <td>0</td>\n",
       "      <td>0</td>\n",
       "      <td>0</td>\n",
       "      <td>Fiber optic</td>\n",
       "      <td>0</td>\n",
       "      <td>0</td>\n",
       "      <td>0</td>\n",
       "      <td>0</td>\n",
       "      <td>0</td>\n",
       "      <td>0</td>\n",
       "      <td>61</td>\n",
       "      <td>1</td>\n",
       "    </tr>\n",
       "  </tbody>\n",
       "</table>\n",
       "</div>"
      ],
      "text/plain": [
       "             type  paperlessbilling              paymentmethod  \\\n",
       "0  Month-to-month                 1           Electronic check   \n",
       "1        One year                 0               Mailed check   \n",
       "2  Month-to-month                 1               Mailed check   \n",
       "3        One year                 0  Bank transfer (automatic)   \n",
       "4  Month-to-month                 1           Electronic check   \n",
       "\n",
       "   monthlycharges  totalcharges  gender  seniorcitizen  partner  dependents  \\\n",
       "0           29.85         29.85       0              0        1           0   \n",
       "1           56.95       1889.50       1              0        0           0   \n",
       "2           53.85        108.15       1              0        0           0   \n",
       "3           42.30       1840.75       1              0        0           0   \n",
       "4           70.70        151.65       0              0        0           0   \n",
       "\n",
       "   multiplelines internetservice  onlinesecurity  onlinebackup  \\\n",
       "0              0             DSL               0             1   \n",
       "1              0             DSL               1             0   \n",
       "2              0             DSL               1             1   \n",
       "3              0             DSL               1             0   \n",
       "4              0     Fiber optic               0             0   \n",
       "\n",
       "   deviceprotection  techsupport  streamingtv  streamingmovies  sumdays  out  \n",
       "0                 0            0            0                0       31    0  \n",
       "1                 1            0            0                0     1036    0  \n",
       "2                 0            0            0                0       61    1  \n",
       "3                 1            1            0                0     1371    0  \n",
       "4                 0            0            0                0       61    1  "
      ]
     },
     "execution_count": 32,
     "metadata": {},
     "output_type": "execute_result"
    }
   ],
   "source": [
    "data.head()"
   ]
  },
  {
   "cell_type": "code",
   "execution_count": 33,
   "id": "8d44e535",
   "metadata": {},
   "outputs": [
    {
     "data": {
      "text/plain": [
       "array(['Month-to-month', 'One year', 'Two year'], dtype=object)"
      ]
     },
     "execution_count": 33,
     "metadata": {},
     "output_type": "execute_result"
    }
   ],
   "source": [
    "data.type.unique()"
   ]
  },
  {
   "cell_type": "code",
   "execution_count": 34,
   "id": "a29a6bb0",
   "metadata": {},
   "outputs": [
    {
     "data": {
      "text/plain": [
       "array(['Electronic check', 'Mailed check', 'Bank transfer (automatic)',\n",
       "       'Credit card (automatic)'], dtype=object)"
      ]
     },
     "execution_count": 34,
     "metadata": {},
     "output_type": "execute_result"
    }
   ],
   "source": [
    "data.paymentmethod.unique()"
   ]
  },
  {
   "cell_type": "code",
   "execution_count": 35,
   "id": "1ee1c11d",
   "metadata": {},
   "outputs": [
    {
     "data": {
      "text/plain": [
       "array(['DSL', 'Fiber optic', 'No'], dtype=object)"
      ]
     },
     "execution_count": 35,
     "metadata": {},
     "output_type": "execute_result"
    }
   ],
   "source": [
    "data.internetservice.unique()"
   ]
  },
  {
   "cell_type": "code",
   "execution_count": 36,
   "id": "c1385765",
   "metadata": {},
   "outputs": [],
   "source": [
    "#Для столбцов, у которых больше двух параметров,  применим технику кодирования LabelEncoder\n",
    "from sklearn.preprocessing import LabelEncoder\n",
    "def LabelEncoder_fn (df:pd.DataFrame, colname:str):\n",
    "    df[colname]= LabelEncoder().fit_transform(df[colname])"
   ]
  },
  {
   "cell_type": "code",
   "execution_count": 37,
   "id": "ae9cc237",
   "metadata": {},
   "outputs": [],
   "source": [
    "LabelEncoder_lst = ['type','paymentmethod','internetservice']\n",
    "for elem in LabelEncoder_lst:\n",
    "    LabelEncoder_fn(data,elem)"
   ]
  },
  {
   "cell_type": "code",
   "execution_count": 38,
   "id": "a134a5f5",
   "metadata": {},
   "outputs": [
    {
     "data": {
      "text/html": [
       "<div>\n",
       "<style scoped>\n",
       "    .dataframe tbody tr th:only-of-type {\n",
       "        vertical-align: middle;\n",
       "    }\n",
       "\n",
       "    .dataframe tbody tr th {\n",
       "        vertical-align: top;\n",
       "    }\n",
       "\n",
       "    .dataframe thead th {\n",
       "        text-align: right;\n",
       "    }\n",
       "</style>\n",
       "<table border=\"1\" class=\"dataframe\">\n",
       "  <thead>\n",
       "    <tr style=\"text-align: right;\">\n",
       "      <th></th>\n",
       "      <th>type</th>\n",
       "      <th>paperlessbilling</th>\n",
       "      <th>paymentmethod</th>\n",
       "      <th>monthlycharges</th>\n",
       "      <th>totalcharges</th>\n",
       "      <th>gender</th>\n",
       "      <th>seniorcitizen</th>\n",
       "      <th>partner</th>\n",
       "      <th>dependents</th>\n",
       "      <th>multiplelines</th>\n",
       "      <th>internetservice</th>\n",
       "      <th>onlinesecurity</th>\n",
       "      <th>onlinebackup</th>\n",
       "      <th>deviceprotection</th>\n",
       "      <th>techsupport</th>\n",
       "      <th>streamingtv</th>\n",
       "      <th>streamingmovies</th>\n",
       "      <th>sumdays</th>\n",
       "      <th>out</th>\n",
       "    </tr>\n",
       "  </thead>\n",
       "  <tbody>\n",
       "    <tr>\n",
       "      <th>0</th>\n",
       "      <td>0</td>\n",
       "      <td>1</td>\n",
       "      <td>2</td>\n",
       "      <td>29.85</td>\n",
       "      <td>29.85</td>\n",
       "      <td>0</td>\n",
       "      <td>0</td>\n",
       "      <td>1</td>\n",
       "      <td>0</td>\n",
       "      <td>0</td>\n",
       "      <td>0</td>\n",
       "      <td>0</td>\n",
       "      <td>1</td>\n",
       "      <td>0</td>\n",
       "      <td>0</td>\n",
       "      <td>0</td>\n",
       "      <td>0</td>\n",
       "      <td>31</td>\n",
       "      <td>0</td>\n",
       "    </tr>\n",
       "    <tr>\n",
       "      <th>1</th>\n",
       "      <td>1</td>\n",
       "      <td>0</td>\n",
       "      <td>3</td>\n",
       "      <td>56.95</td>\n",
       "      <td>1889.50</td>\n",
       "      <td>1</td>\n",
       "      <td>0</td>\n",
       "      <td>0</td>\n",
       "      <td>0</td>\n",
       "      <td>0</td>\n",
       "      <td>0</td>\n",
       "      <td>1</td>\n",
       "      <td>0</td>\n",
       "      <td>1</td>\n",
       "      <td>0</td>\n",
       "      <td>0</td>\n",
       "      <td>0</td>\n",
       "      <td>1036</td>\n",
       "      <td>0</td>\n",
       "    </tr>\n",
       "    <tr>\n",
       "      <th>2</th>\n",
       "      <td>0</td>\n",
       "      <td>1</td>\n",
       "      <td>3</td>\n",
       "      <td>53.85</td>\n",
       "      <td>108.15</td>\n",
       "      <td>1</td>\n",
       "      <td>0</td>\n",
       "      <td>0</td>\n",
       "      <td>0</td>\n",
       "      <td>0</td>\n",
       "      <td>0</td>\n",
       "      <td>1</td>\n",
       "      <td>1</td>\n",
       "      <td>0</td>\n",
       "      <td>0</td>\n",
       "      <td>0</td>\n",
       "      <td>0</td>\n",
       "      <td>61</td>\n",
       "      <td>1</td>\n",
       "    </tr>\n",
       "    <tr>\n",
       "      <th>3</th>\n",
       "      <td>1</td>\n",
       "      <td>0</td>\n",
       "      <td>0</td>\n",
       "      <td>42.30</td>\n",
       "      <td>1840.75</td>\n",
       "      <td>1</td>\n",
       "      <td>0</td>\n",
       "      <td>0</td>\n",
       "      <td>0</td>\n",
       "      <td>0</td>\n",
       "      <td>0</td>\n",
       "      <td>1</td>\n",
       "      <td>0</td>\n",
       "      <td>1</td>\n",
       "      <td>1</td>\n",
       "      <td>0</td>\n",
       "      <td>0</td>\n",
       "      <td>1371</td>\n",
       "      <td>0</td>\n",
       "    </tr>\n",
       "    <tr>\n",
       "      <th>4</th>\n",
       "      <td>0</td>\n",
       "      <td>1</td>\n",
       "      <td>2</td>\n",
       "      <td>70.70</td>\n",
       "      <td>151.65</td>\n",
       "      <td>0</td>\n",
       "      <td>0</td>\n",
       "      <td>0</td>\n",
       "      <td>0</td>\n",
       "      <td>0</td>\n",
       "      <td>1</td>\n",
       "      <td>0</td>\n",
       "      <td>0</td>\n",
       "      <td>0</td>\n",
       "      <td>0</td>\n",
       "      <td>0</td>\n",
       "      <td>0</td>\n",
       "      <td>61</td>\n",
       "      <td>1</td>\n",
       "    </tr>\n",
       "  </tbody>\n",
       "</table>\n",
       "</div>"
      ],
      "text/plain": [
       "   type  paperlessbilling  paymentmethod  monthlycharges  totalcharges  \\\n",
       "0     0                 1              2           29.85         29.85   \n",
       "1     1                 0              3           56.95       1889.50   \n",
       "2     0                 1              3           53.85        108.15   \n",
       "3     1                 0              0           42.30       1840.75   \n",
       "4     0                 1              2           70.70        151.65   \n",
       "\n",
       "   gender  seniorcitizen  partner  dependents  multiplelines  internetservice  \\\n",
       "0       0              0        1           0              0                0   \n",
       "1       1              0        0           0              0                0   \n",
       "2       1              0        0           0              0                0   \n",
       "3       1              0        0           0              0                0   \n",
       "4       0              0        0           0              0                1   \n",
       "\n",
       "   onlinesecurity  onlinebackup  deviceprotection  techsupport  streamingtv  \\\n",
       "0               0             1                 0            0            0   \n",
       "1               1             0                 1            0            0   \n",
       "2               1             1                 0            0            0   \n",
       "3               1             0                 1            1            0   \n",
       "4               0             0                 0            0            0   \n",
       "\n",
       "   streamingmovies  sumdays  out  \n",
       "0                0       31    0  \n",
       "1                0     1036    0  \n",
       "2                0       61    1  \n",
       "3                0     1371    0  \n",
       "4                0       61    1  "
      ]
     },
     "metadata": {},
     "output_type": "display_data"
    }
   ],
   "source": [
    "display(data.head())"
   ]
  },
  {
   "cell_type": "markdown",
   "id": "06540142",
   "metadata": {},
   "source": [
    "### Анализ количественных данных"
   ]
  },
  {
   "cell_type": "code",
   "execution_count": 39,
   "id": "a1e62150",
   "metadata": {},
   "outputs": [
    {
     "data": {
      "text/html": [
       "<div>\n",
       "<style scoped>\n",
       "    .dataframe tbody tr th:only-of-type {\n",
       "        vertical-align: middle;\n",
       "    }\n",
       "\n",
       "    .dataframe tbody tr th {\n",
       "        vertical-align: top;\n",
       "    }\n",
       "\n",
       "    .dataframe thead th {\n",
       "        text-align: right;\n",
       "    }\n",
       "</style>\n",
       "<table border=\"1\" class=\"dataframe\">\n",
       "  <thead>\n",
       "    <tr style=\"text-align: right;\">\n",
       "      <th></th>\n",
       "      <th>monthlycharges</th>\n",
       "      <th>totalcharges</th>\n",
       "      <th>sumdays</th>\n",
       "    </tr>\n",
       "  </thead>\n",
       "  <tbody>\n",
       "    <tr>\n",
       "      <th>count</th>\n",
       "      <td>7032.000000</td>\n",
       "      <td>7032.000000</td>\n",
       "      <td>7032.000000</td>\n",
       "    </tr>\n",
       "    <tr>\n",
       "      <th>mean</th>\n",
       "      <td>64.798208</td>\n",
       "      <td>2283.300441</td>\n",
       "      <td>987.538538</td>\n",
       "    </tr>\n",
       "    <tr>\n",
       "      <th>std</th>\n",
       "      <td>30.085974</td>\n",
       "      <td>2266.771362</td>\n",
       "      <td>747.153663</td>\n",
       "    </tr>\n",
       "    <tr>\n",
       "      <th>min</th>\n",
       "      <td>18.250000</td>\n",
       "      <td>18.800000</td>\n",
       "      <td>30.000000</td>\n",
       "    </tr>\n",
       "    <tr>\n",
       "      <th>25%</th>\n",
       "      <td>35.587500</td>\n",
       "      <td>401.450000</td>\n",
       "      <td>275.000000</td>\n",
       "    </tr>\n",
       "    <tr>\n",
       "      <th>50%</th>\n",
       "      <td>70.350000</td>\n",
       "      <td>1397.475000</td>\n",
       "      <td>883.000000</td>\n",
       "    </tr>\n",
       "    <tr>\n",
       "      <th>75%</th>\n",
       "      <td>89.862500</td>\n",
       "      <td>3794.737500</td>\n",
       "      <td>1676.000000</td>\n",
       "    </tr>\n",
       "    <tr>\n",
       "      <th>max</th>\n",
       "      <td>118.750000</td>\n",
       "      <td>8684.800000</td>\n",
       "      <td>2191.000000</td>\n",
       "    </tr>\n",
       "  </tbody>\n",
       "</table>\n",
       "</div>"
      ],
      "text/plain": [
       "       monthlycharges  totalcharges      sumdays\n",
       "count     7032.000000   7032.000000  7032.000000\n",
       "mean        64.798208   2283.300441   987.538538\n",
       "std         30.085974   2266.771362   747.153663\n",
       "min         18.250000     18.800000    30.000000\n",
       "25%         35.587500    401.450000   275.000000\n",
       "50%         70.350000   1397.475000   883.000000\n",
       "75%         89.862500   3794.737500  1676.000000\n",
       "max        118.750000   8684.800000  2191.000000"
      ]
     },
     "execution_count": 39,
     "metadata": {},
     "output_type": "execute_result"
    }
   ],
   "source": [
    "data[['monthlycharges','totalcharges','sumdays']].describe()"
   ]
  },
  {
   "cell_type": "code",
   "execution_count": 40,
   "id": "389ffdfd",
   "metadata": {},
   "outputs": [],
   "source": [
    "def hist (x:pd.Series):\n",
    "    plt.figure()\n",
    "    plt.hist(x,edgecolor = 'black',color  = 'skyblue') #добавление черной границы столбца\n",
    "    plt.grid()"
   ]
  },
  {
   "cell_type": "code",
   "execution_count": 41,
   "id": "2cda0331",
   "metadata": {},
   "outputs": [
    {
     "data": {
      "image/png": "[encoded data removed]",
      "text/plain": [
       "<Figure size 432x288 with 1 Axes>"
      ]
     },
     "metadata": {
      "needs_background": "light"
     },
     "output_type": "display_data"
    }
   ],
   "source": [
    "hist(data['monthlycharges'])"
   ]
  },
  {
   "cell_type": "code",
   "execution_count": 42,
   "id": "5553972d",
   "metadata": {},
   "outputs": [
    {
     "data": {
      "image/png": "[encoded data removed]",
      "text/plain": [
       "<Figure size 432x288 with 1 Axes>"
      ]
     },
     "metadata": {
      "needs_background": "light"
     },
     "output_type": "display_data"
    }
   ],
   "source": [
    "hist(data['totalcharges'])"
   ]
  },
  {
   "cell_type": "code",
   "execution_count": 43,
   "id": "8becbe65",
   "metadata": {},
   "outputs": [
    {
     "data": {
      "image/png": "[encoded data removed]",
      "text/plain": [
       "<Figure size 432x288 with 1 Axes>"
      ]
     },
     "metadata": {
      "needs_background": "light"
     },
     "output_type": "display_data"
    }
   ],
   "source": [
    "hist(data['sumdays'])"
   ]
  },
  {
   "cell_type": "code",
   "execution_count": 44,
   "id": "6b780eb0",
   "metadata": {},
   "outputs": [
    {
     "data": {
      "image/png": "[encoded data removed]",
      "text/plain": [
       "<Figure size 432x288 with 1 Axes>"
      ]
     },
     "metadata": {
      "needs_background": "light"
     },
     "output_type": "display_data"
    }
   ],
   "source": [
    "data.boxplot(column='monthlycharges')\n",
    "plt.show()"
   ]
  },
  {
   "cell_type": "code",
   "execution_count": 45,
   "id": "757d2eea",
   "metadata": {},
   "outputs": [
    {
     "data": {
      "image/png": "[encoded data removed]",
      "text/plain": [
       "<Figure size 432x288 with 1 Axes>"
      ]
     },
     "metadata": {
      "needs_background": "light"
     },
     "output_type": "display_data"
    }
   ],
   "source": [
    "data.boxplot(column='totalcharges')\n",
    "plt.show()"
   ]
  },
  {
   "cell_type": "code",
   "execution_count": 46,
   "id": "d967ac95",
   "metadata": {},
   "outputs": [
    {
     "data": {
      "image/png": "[encoded data removed]",
      "text/plain": [
       "<Figure size 432x288 with 1 Axes>"
      ]
     },
     "metadata": {
      "needs_background": "light"
     },
     "output_type": "display_data"
    }
   ],
   "source": [
    "data.boxplot(column='sumdays')\n",
    "plt.show()"
   ]
  },
  {
   "cell_type": "markdown",
   "id": "a49fe299",
   "metadata": {},
   "source": [
    "#### Дисбаланс классов"
   ]
  },
  {
   "cell_type": "code",
   "execution_count": 47,
   "id": "a8a5918a",
   "metadata": {},
   "outputs": [
    {
     "data": {
      "image/png": "[encoded data removed]",
      "text/plain": [
       "<Figure size 432x288 with 1 Axes>"
      ]
     },
     "metadata": {
      "needs_background": "light"
     },
     "output_type": "display_data"
    }
   ],
   "source": [
    "hist(data['out'])"
   ]
  },
  {
   "cell_type": "markdown",
   "id": "a3ef903f",
   "metadata": {},
   "source": [
    "Видим сильный дисбаланс целевого признака, значит необходимо использовать балансировку `class_weight`"
   ]
  },
  {
   "cell_type": "markdown",
   "id": "a31a7954",
   "metadata": {},
   "source": [
    "### Машинное обучение"
   ]
  },
  {
   "cell_type": "code",
   "execution_count": 48,
   "id": "e80a12de",
   "metadata": {},
   "outputs": [],
   "source": [
    "from sklearn.pipeline import Pipeline\n",
    "def take_res(model_name, df = data):\n",
    "    features = df.drop('out', axis = 1)\n",
    "    target = df.out\n",
    "    X_train, X_test, y_train, y_test = train_test_split(features, target, test_size = .2, random_state=rdm, stratify=target)\n",
    "    model = model_name\n",
    "    pipe_model = Pipeline([('sc', StandardScaler()),\n",
    "        ('mod', model)])\n",
    "    if \"Log\" in str(type(model)):\n",
    "        params = {\n",
    "                'mod__random_state' : [250722],\n",
    "                'mod__class_weight' : ['balanced'],\n",
    "                'mod__C': [1,50,5],\n",
    "                'mod__solver' : ['liblinear'],\n",
    "                'mod__max_iter': [500],\n",
    "                'mod__penalty' : ['l1', 'l2']\n",
    "            }\n",
    "        name = 'LogisticRegression'\n",
    "    elif 'RandomForest' in str(type(model)):\n",
    "        params = {\n",
    "                'mod__random_state' : [250722],\n",
    "                'mod__n_estimators' : [80, 300, 20],\n",
    "                'mod__class_weight' : ['balanced'],\n",
    "                'mod__max_depth' : [1,15,5],    \n",
    "                'mod__criterion' : ['gini', 'entropy']\n",
    "            }\n",
    "        name = 'RandomForestClassifier'\n",
    "    elif 'CatBoost' in str(type(model)):\n",
    "        params = {\n",
    "                'mod__random_seed' : [250722],\n",
    "                'mod__thread_count' : [-1],\n",
    "                'mod__auto_class_weights' : ['Balanced'],\n",
    "                'mod__depth' : [10],\n",
    "                'mod__learning_rate' : [0.4],\n",
    "                'mod__min_data_in_leaf': [1,2,15],\n",
    "                'mod__iterations' : [25, 300, 25],\n",
    "                'mod__logging_level' : ['Silent'],\n",
    "                'mod__l2_leaf_reg': [3, 6, 9]\n",
    "            } \n",
    "        name = 'CatBoostClassifier'\n",
    "    elif 'LGBM' in str(type(model)):\n",
    "        params = {\n",
    "                'mod__n_estimators': [5, 450, 25],\n",
    "                'mod__num_leaves': [5,300,25],\n",
    "                'mod__max_depth' : [5, 50, 5],\n",
    "                'mod__learning_rate' : [0.4],\n",
    "                'mod__class_weight': ['balanced'],\n",
    "                'mod__random_state':[250722],\n",
    "                'mod__n_jobs' : [3]\n",
    "            }\n",
    "        name = 'LGBMClassifier'\n",
    "    grid = GridSearchCV(pipe_model, params, cv = 5, scoring = 'roc_auc', n_jobs=3, verbose = False)        \n",
    "    grid.fit(X_train, y_train)\n",
    "    print('TRAIN ROC-AUC: ', grid.best_score_)\n",
    "    print('BEST MODEL', grid.best_estimator_)   \n",
    "    grid.best_estimator_.fit(X_train, y_train)\n",
    "    prediction = grid.best_estimator_.predict_proba(X_test)[:,1]\n",
    "    print('TEST ROC-AUC', roc_auc_score(y_test, prediction))\n",
    "    model.fit(X_train, y_train)\n",
    "\n",
    "    try:\n",
    "        sort = model.feature_importances_.argsort()\n",
    "        plt.barh(X_train.columns[sort], model.feature_importances_[sort])\n",
    "    except:\n",
    "        sort = model.coef_[0].argsort()\n",
    "        plt.barh(X_train.columns[sort], model.coef_[0][sort])\n",
    "    plt.grid('true')\n",
    "    plt.title('Значимые для модели признаки '+ name)\n",
    "    plt.show();\n",
    "\n"
   ]
  },
  {
   "cell_type": "code",
   "execution_count": 50,
   "id": "8a4ef1d4",
   "metadata": {},
   "outputs": [
    {
     "name": "stdout",
     "output_type": "stream",
     "text": [
      "TRAIN ROC-AUC:  0.8405524468162643\n",
      "BEST MODEL Pipeline(steps=[('sc', StandardScaler()),\n",
      "                ('mod',\n",
      "                 LogisticRegression(C=50, class_weight='balanced', max_iter=500,\n",
      "                                    penalty='l1', random_state=250722,\n",
      "                                    solver='liblinear'))])\n",
      "TEST ROC-AUC 0.8334985582722044\n"
     ]
    },
    {
     "data": {
      "image/png": "[encoded data removed]",
      "text/plain": [
       "<Figure size 432x288 with 1 Axes>"
      ]
     },
     "metadata": {
      "needs_background": "light"
     },
     "output_type": "display_data"
    }
   ],
   "source": [
    "take_res(LogisticRegression())"
   ]
  },
  {
   "cell_type": "markdown",
   "id": "fdb51bbe",
   "metadata": {},
   "source": [
    "Вывод: для логистической регрессии наиболее значимыми оказались параметры type,onlinesecurity, techsupport"
   ]
  },
  {
   "cell_type": "code",
   "execution_count": 51,
   "id": "67d18cdd",
   "metadata": {},
   "outputs": [
    {
     "name": "stdout",
     "output_type": "stream",
     "text": [
      "TRAIN ROC-AUC:  0.9019172058597261\n",
      "BEST MODEL Pipeline(steps=[('sc', StandardScaler()),\n",
      "                ('mod',\n",
      "                 LGBMClassifier(class_weight='balanced', learning_rate=0.4,\n",
      "                                max_depth=5, n_estimators=450, n_jobs=3,\n",
      "                                num_leaves=5, random_state=250722))])\n",
      "TEST ROC-AUC 0.9230189831807051\n"
     ]
    },
    {
     "data": {
      "image/png": "[encoded data removed]",
      "text/plain": [
       "<Figure size 432x288 with 1 Axes>"
      ]
     },
     "metadata": {
      "needs_background": "light"
     },
     "output_type": "display_data"
    }
   ],
   "source": [
    "take_res(LGBMClassifier())"
   ]
  },
  {
   "cell_type": "markdown",
   "id": "7392c244",
   "metadata": {},
   "source": [
    "Вывод: Наиболее значимымыи для модели LGBM оказались параметры sumdays,monthlycharges, totalcharges"
   ]
  },
  {
   "cell_type": "code",
   "execution_count": 52,
   "id": "49d6f443",
   "metadata": {},
   "outputs": [
    {
     "name": "stdout",
     "output_type": "stream",
     "text": [
      "TRAIN ROC-AUC:  0.8709916833350878\n",
      "BEST MODEL Pipeline(steps=[('sc', StandardScaler()),\n",
      "                ('mod',\n",
      "                 <catboost.core.CatBoostClassifier object at 0x7f1d75531100>)])\n",
      "TEST ROC-AUC 0.8784341334879459\n",
      "Learning rate set to 0.02154\n",
      "0:\tlearn: 0.6770481\ttotal: 3.33ms\tremaining: 3.33s\n",
      "1:\tlearn: 0.6620672\ttotal: 5.54ms\tremaining: 2.76s\n",
      "2:\tlearn: 0.6483607\ttotal: 7.6ms\tremaining: 2.52s\n",
      "3:\tlearn: 0.6357629\ttotal: 9.65ms\tremaining: 2.4s\n",
      "4:\tlearn: 0.6243472\ttotal: 11.2ms\tremaining: 2.23s\n",
      "5:\tlearn: 0.6125976\ttotal: 13.3ms\tremaining: 2.2s\n",
      "6:\tlearn: 0.6026581\ttotal: 15.3ms\tremaining: 2.17s\n",
      "7:\tlearn: 0.5926680\ttotal: 17.3ms\tremaining: 2.14s\n",
      "8:\tlearn: 0.5830619\ttotal: 19.3ms\tremaining: 2.13s\n",
      "9:\tlearn: 0.5734501\ttotal: 21.3ms\tremaining: 2.11s\n",
      "10:\tlearn: 0.5654110\ttotal: 23.2ms\tremaining: 2.09s\n",
      "11:\tlearn: 0.5588048\ttotal: 25.2ms\tremaining: 2.08s\n",
      "12:\tlearn: 0.5515573\ttotal: 27.3ms\tremaining: 2.07s\n",
      "13:\tlearn: 0.5438096\ttotal: 29.3ms\tremaining: 2.06s\n",
      "14:\tlearn: 0.5363892\ttotal: 31.3ms\tremaining: 2.05s\n",
      "15:\tlearn: 0.5303762\ttotal: 33.3ms\tremaining: 2.05s\n",
      "16:\tlearn: 0.5237961\ttotal: 35.3ms\tremaining: 2.04s\n",
      "17:\tlearn: 0.5175954\ttotal: 37.2ms\tremaining: 2.03s\n",
      "18:\tlearn: 0.5123968\ttotal: 38.8ms\tremaining: 2s\n",
      "19:\tlearn: 0.5072347\ttotal: 40.8ms\tremaining: 2s\n",
      "20:\tlearn: 0.5024459\ttotal: 42.8ms\tremaining: 2s\n",
      "21:\tlearn: 0.4983275\ttotal: 44.4ms\tremaining: 1.97s\n",
      "22:\tlearn: 0.4940837\ttotal: 46.4ms\tremaining: 1.97s\n",
      "23:\tlearn: 0.4905025\ttotal: 48.3ms\tremaining: 1.97s\n",
      "24:\tlearn: 0.4856842\ttotal: 51ms\tremaining: 1.99s\n",
      "25:\tlearn: 0.4814841\ttotal: 53.6ms\tremaining: 2.01s\n",
      "26:\tlearn: 0.4782974\ttotal: 55.6ms\tremaining: 2s\n",
      "27:\tlearn: 0.4746606\ttotal: 57.7ms\tremaining: 2s\n",
      "28:\tlearn: 0.4712370\ttotal: 59.7ms\tremaining: 2s\n",
      "29:\tlearn: 0.4676791\ttotal: 61.8ms\tremaining: 2s\n",
      "30:\tlearn: 0.4639298\ttotal: 63.8ms\tremaining: 2s\n",
      "31:\tlearn: 0.4607279\ttotal: 65.9ms\tremaining: 1.99s\n",
      "32:\tlearn: 0.4581684\ttotal: 68ms\tremaining: 1.99s\n",
      "33:\tlearn: 0.4556105\ttotal: 70ms\tremaining: 1.99s\n",
      "34:\tlearn: 0.4533594\ttotal: 72ms\tremaining: 1.99s\n",
      "35:\tlearn: 0.4509599\ttotal: 74.2ms\tremaining: 1.99s\n",
      "36:\tlearn: 0.4480482\ttotal: 76.4ms\tremaining: 1.99s\n",
      "37:\tlearn: 0.4455592\ttotal: 78.4ms\tremaining: 1.98s\n",
      "38:\tlearn: 0.4432365\ttotal: 80.7ms\tremaining: 1.99s\n",
      "39:\tlearn: 0.4414518\ttotal: 82.8ms\tremaining: 1.99s\n",
      "40:\tlearn: 0.4396584\ttotal: 84.9ms\tremaining: 1.99s\n",
      "41:\tlearn: 0.4379802\ttotal: 87.1ms\tremaining: 1.99s\n",
      "42:\tlearn: 0.4358089\ttotal: 89.1ms\tremaining: 1.98s\n",
      "43:\tlearn: 0.4336457\ttotal: 91.2ms\tremaining: 1.98s\n",
      "44:\tlearn: 0.4319890\ttotal: 93.2ms\tremaining: 1.98s\n",
      "45:\tlearn: 0.4298546\ttotal: 95.2ms\tremaining: 1.97s\n",
      "46:\tlearn: 0.4280905\ttotal: 97.4ms\tremaining: 1.97s\n",
      "47:\tlearn: 0.4266333\ttotal: 99.5ms\tremaining: 1.97s\n",
      "48:\tlearn: 0.4251674\ttotal: 101ms\tremaining: 1.96s\n",
      "49:\tlearn: 0.4236545\ttotal: 103ms\tremaining: 1.96s\n",
      "50:\tlearn: 0.4222740\ttotal: 105ms\tremaining: 1.96s\n",
      "51:\tlearn: 0.4207700\ttotal: 107ms\tremaining: 1.96s\n",
      "52:\tlearn: 0.4195456\ttotal: 110ms\tremaining: 1.96s\n",
      "53:\tlearn: 0.4179569\ttotal: 112ms\tremaining: 1.97s\n",
      "54:\tlearn: 0.4169544\ttotal: 115ms\tremaining: 1.97s\n",
      "55:\tlearn: 0.4158314\ttotal: 117ms\tremaining: 1.97s\n",
      "56:\tlearn: 0.4147296\ttotal: 119ms\tremaining: 1.97s\n",
      "57:\tlearn: 0.4135984\ttotal: 121ms\tremaining: 1.97s\n",
      "58:\tlearn: 0.4126842\ttotal: 123ms\tremaining: 1.97s\n",
      "59:\tlearn: 0.4117880\ttotal: 125ms\tremaining: 1.96s\n",
      "60:\tlearn: 0.4104850\ttotal: 128ms\tremaining: 1.96s\n",
      "61:\tlearn: 0.4096964\ttotal: 130ms\tremaining: 1.97s\n",
      "62:\tlearn: 0.4084889\ttotal: 132ms\tremaining: 1.97s\n",
      "63:\tlearn: 0.4076189\ttotal: 135ms\tremaining: 1.97s\n",
      "64:\tlearn: 0.4068039\ttotal: 137ms\tremaining: 1.97s\n",
      "65:\tlearn: 0.4060785\ttotal: 139ms\tremaining: 1.97s\n",
      "66:\tlearn: 0.4053470\ttotal: 141ms\tremaining: 1.97s\n",
      "67:\tlearn: 0.4045359\ttotal: 143ms\tremaining: 1.97s\n",
      "68:\tlearn: 0.4038260\ttotal: 146ms\tremaining: 1.97s\n",
      "69:\tlearn: 0.4031741\ttotal: 148ms\tremaining: 1.96s\n",
      "70:\tlearn: 0.4024956\ttotal: 150ms\tremaining: 1.96s\n",
      "71:\tlearn: 0.4014877\ttotal: 152ms\tremaining: 1.96s\n",
      "72:\tlearn: 0.4007441\ttotal: 154ms\tremaining: 1.96s\n",
      "73:\tlearn: 0.3999080\ttotal: 157ms\tremaining: 1.96s\n",
      "74:\tlearn: 0.3993668\ttotal: 159ms\tremaining: 1.96s\n",
      "75:\tlearn: 0.3987087\ttotal: 162ms\tremaining: 1.97s\n",
      "76:\tlearn: 0.3980726\ttotal: 164ms\tremaining: 1.97s\n",
      "77:\tlearn: 0.3972250\ttotal: 166ms\tremaining: 1.96s\n",
      "78:\tlearn: 0.3964928\ttotal: 168ms\tremaining: 1.96s\n",
      "79:\tlearn: 0.3957029\ttotal: 171ms\tremaining: 1.96s\n",
      "80:\tlearn: 0.3948498\ttotal: 173ms\tremaining: 1.96s\n",
      "81:\tlearn: 0.3943097\ttotal: 175ms\tremaining: 1.95s\n",
      "82:\tlearn: 0.3937520\ttotal: 177ms\tremaining: 1.95s\n",
      "83:\tlearn: 0.3932356\ttotal: 179ms\tremaining: 1.95s\n",
      "84:\tlearn: 0.3927910\ttotal: 180ms\tremaining: 1.94s\n",
      "85:\tlearn: 0.3922120\ttotal: 182ms\tremaining: 1.94s\n",
      "86:\tlearn: 0.3917044\ttotal: 184ms\tremaining: 1.94s\n",
      "87:\tlearn: 0.3912365\ttotal: 186ms\tremaining: 1.93s\n",
      "88:\tlearn: 0.3906870\ttotal: 189ms\tremaining: 1.93s\n",
      "89:\tlearn: 0.3902153\ttotal: 191ms\tremaining: 1.93s\n",
      "90:\tlearn: 0.3894252\ttotal: 193ms\tremaining: 1.93s\n",
      "91:\tlearn: 0.3888413\ttotal: 195ms\tremaining: 1.92s\n",
      "92:\tlearn: 0.3885118\ttotal: 197ms\tremaining: 1.92s\n",
      "93:\tlearn: 0.3880550\ttotal: 199ms\tremaining: 1.91s\n",
      "94:\tlearn: 0.3876784\ttotal: 201ms\tremaining: 1.91s\n",
      "95:\tlearn: 0.3872223\ttotal: 203ms\tremaining: 1.91s\n",
      "96:\tlearn: 0.3867241\ttotal: 205ms\tremaining: 1.9s\n",
      "97:\tlearn: 0.3859926\ttotal: 207ms\tremaining: 1.9s\n",
      "98:\tlearn: 0.3858231\ttotal: 208ms\tremaining: 1.89s\n",
      "99:\tlearn: 0.3854632\ttotal: 209ms\tremaining: 1.89s\n",
      "100:\tlearn: 0.3853689\ttotal: 211ms\tremaining: 1.87s\n",
      "101:\tlearn: 0.3847616\ttotal: 213ms\tremaining: 1.87s\n",
      "102:\tlearn: 0.3842990\ttotal: 215ms\tremaining: 1.87s\n",
      "103:\tlearn: 0.3839031\ttotal: 217ms\tremaining: 1.86s\n",
      "104:\tlearn: 0.3835028\ttotal: 218ms\tremaining: 1.86s\n",
      "105:\tlearn: 0.3831349\ttotal: 220ms\tremaining: 1.86s\n",
      "106:\tlearn: 0.3827699\ttotal: 222ms\tremaining: 1.86s\n",
      "107:\tlearn: 0.3823468\ttotal: 224ms\tremaining: 1.85s\n",
      "108:\tlearn: 0.3815439\ttotal: 226ms\tremaining: 1.85s\n",
      "109:\tlearn: 0.3811368\ttotal: 228ms\tremaining: 1.85s\n",
      "110:\tlearn: 0.3808454\ttotal: 231ms\tremaining: 1.85s\n",
      "111:\tlearn: 0.3805774\ttotal: 232ms\tremaining: 1.84s\n",
      "112:\tlearn: 0.3802954\ttotal: 234ms\tremaining: 1.84s\n",
      "113:\tlearn: 0.3798619\ttotal: 236ms\tremaining: 1.84s\n",
      "114:\tlearn: 0.3795778\ttotal: 238ms\tremaining: 1.83s\n",
      "115:\tlearn: 0.3792160\ttotal: 240ms\tremaining: 1.83s\n",
      "116:\tlearn: 0.3789127\ttotal: 242ms\tremaining: 1.83s\n",
      "117:\tlearn: 0.3780956\ttotal: 244ms\tremaining: 1.82s\n",
      "118:\tlearn: 0.3775291\ttotal: 247ms\tremaining: 1.82s\n",
      "119:\tlearn: 0.3773610\ttotal: 248ms\tremaining: 1.82s\n",
      "120:\tlearn: 0.3769824\ttotal: 250ms\tremaining: 1.82s\n",
      "121:\tlearn: 0.3767360\ttotal: 252ms\tremaining: 1.82s\n",
      "122:\tlearn: 0.3761242\ttotal: 254ms\tremaining: 1.81s\n",
      "123:\tlearn: 0.3757436\ttotal: 256ms\tremaining: 1.81s\n",
      "124:\tlearn: 0.3754648\ttotal: 258ms\tremaining: 1.81s\n",
      "125:\tlearn: 0.3748913\ttotal: 261ms\tremaining: 1.81s\n",
      "126:\tlearn: 0.3745409\ttotal: 263ms\tremaining: 1.8s\n",
      "127:\tlearn: 0.3742034\ttotal: 265ms\tremaining: 1.8s\n",
      "128:\tlearn: 0.3738925\ttotal: 267ms\tremaining: 1.8s\n",
      "129:\tlearn: 0.3733175\ttotal: 269ms\tremaining: 1.8s\n",
      "130:\tlearn: 0.3730967\ttotal: 271ms\tremaining: 1.79s\n",
      "131:\tlearn: 0.3728681\ttotal: 273ms\tremaining: 1.79s\n",
      "132:\tlearn: 0.3726246\ttotal: 275ms\tremaining: 1.79s\n",
      "133:\tlearn: 0.3723309\ttotal: 277ms\tremaining: 1.79s\n",
      "134:\tlearn: 0.3720097\ttotal: 279ms\tremaining: 1.79s\n",
      "135:\tlearn: 0.3717426\ttotal: 281ms\tremaining: 1.79s\n",
      "136:\tlearn: 0.3714775\ttotal: 284ms\tremaining: 1.79s\n",
      "137:\tlearn: 0.3712550\ttotal: 286ms\tremaining: 1.79s\n",
      "138:\tlearn: 0.3709905\ttotal: 288ms\tremaining: 1.79s\n",
      "139:\tlearn: 0.3704913\ttotal: 291ms\tremaining: 1.78s\n",
      "140:\tlearn: 0.3702142\ttotal: 293ms\tremaining: 1.78s\n",
      "141:\tlearn: 0.3700092\ttotal: 295ms\tremaining: 1.78s\n",
      "142:\tlearn: 0.3697602\ttotal: 297ms\tremaining: 1.78s\n",
      "143:\tlearn: 0.3693663\ttotal: 299ms\tremaining: 1.78s\n",
      "144:\tlearn: 0.3691074\ttotal: 301ms\tremaining: 1.78s\n",
      "145:\tlearn: 0.3688777\ttotal: 304ms\tremaining: 1.78s\n",
      "146:\tlearn: 0.3687227\ttotal: 306ms\tremaining: 1.77s\n",
      "147:\tlearn: 0.3684317\ttotal: 308ms\tremaining: 1.77s\n",
      "148:\tlearn: 0.3681844\ttotal: 310ms\tremaining: 1.77s\n",
      "149:\tlearn: 0.3678016\ttotal: 312ms\tremaining: 1.77s\n",
      "150:\tlearn: 0.3675960\ttotal: 314ms\tremaining: 1.77s\n",
      "151:\tlearn: 0.3673886\ttotal: 316ms\tremaining: 1.76s\n",
      "152:\tlearn: 0.3671472\ttotal: 318ms\tremaining: 1.76s\n",
      "153:\tlearn: 0.3668795\ttotal: 320ms\tremaining: 1.76s\n",
      "154:\tlearn: 0.3664338\ttotal: 322ms\tremaining: 1.76s\n",
      "155:\tlearn: 0.3662383\ttotal: 324ms\tremaining: 1.75s\n",
      "156:\tlearn: 0.3660297\ttotal: 326ms\tremaining: 1.75s\n",
      "157:\tlearn: 0.3656861\ttotal: 328ms\tremaining: 1.75s\n",
      "158:\tlearn: 0.3654063\ttotal: 330ms\tremaining: 1.75s\n",
      "159:\tlearn: 0.3652161\ttotal: 332ms\tremaining: 1.75s\n",
      "160:\tlearn: 0.3650201\ttotal: 335ms\tremaining: 1.74s\n",
      "161:\tlearn: 0.3647529\ttotal: 337ms\tremaining: 1.74s\n",
      "162:\tlearn: 0.3645395\ttotal: 339ms\tremaining: 1.74s\n",
      "163:\tlearn: 0.3642606\ttotal: 341ms\tremaining: 1.74s\n",
      "164:\tlearn: 0.3640623\ttotal: 344ms\tremaining: 1.74s\n",
      "165:\tlearn: 0.3638380\ttotal: 347ms\tremaining: 1.74s\n",
      "166:\tlearn: 0.3636127\ttotal: 350ms\tremaining: 1.75s\n",
      "167:\tlearn: 0.3633123\ttotal: 353ms\tremaining: 1.75s\n",
      "168:\tlearn: 0.3630294\ttotal: 356ms\tremaining: 1.75s\n",
      "169:\tlearn: 0.3627411\ttotal: 358ms\tremaining: 1.75s\n",
      "170:\tlearn: 0.3625635\ttotal: 360ms\tremaining: 1.75s\n",
      "171:\tlearn: 0.3623338\ttotal: 363ms\tremaining: 1.75s\n",
      "172:\tlearn: 0.3622134\ttotal: 365ms\tremaining: 1.74s\n",
      "173:\tlearn: 0.3621007\ttotal: 367ms\tremaining: 1.74s\n",
      "174:\tlearn: 0.3618610\ttotal: 369ms\tremaining: 1.74s\n",
      "175:\tlearn: 0.3616545\ttotal: 371ms\tremaining: 1.74s\n",
      "176:\tlearn: 0.3614562\ttotal: 373ms\tremaining: 1.74s\n",
      "177:\tlearn: 0.3612452\ttotal: 375ms\tremaining: 1.73s\n",
      "178:\tlearn: 0.3611053\ttotal: 379ms\tremaining: 1.74s\n",
      "179:\tlearn: 0.3609592\ttotal: 381ms\tremaining: 1.74s\n",
      "180:\tlearn: 0.3607675\ttotal: 385ms\tremaining: 1.74s\n",
      "181:\tlearn: 0.3605483\ttotal: 387ms\tremaining: 1.74s\n",
      "182:\tlearn: 0.3604628\ttotal: 390ms\tremaining: 1.74s\n",
      "183:\tlearn: 0.3602483\ttotal: 392ms\tremaining: 1.74s\n",
      "184:\tlearn: 0.3600244\ttotal: 394ms\tremaining: 1.73s\n",
      "185:\tlearn: 0.3597470\ttotal: 396ms\tremaining: 1.73s\n",
      "186:\tlearn: 0.3595833\ttotal: 398ms\tremaining: 1.73s\n",
      "187:\tlearn: 0.3592755\ttotal: 400ms\tremaining: 1.73s\n",
      "188:\tlearn: 0.3591133\ttotal: 403ms\tremaining: 1.73s\n",
      "189:\tlearn: 0.3587473\ttotal: 405ms\tremaining: 1.72s\n",
      "190:\tlearn: 0.3586229\ttotal: 407ms\tremaining: 1.72s\n",
      "191:\tlearn: 0.3585305\ttotal: 409ms\tremaining: 1.72s\n",
      "192:\tlearn: 0.3582653\ttotal: 411ms\tremaining: 1.72s\n",
      "193:\tlearn: 0.3579933\ttotal: 413ms\tremaining: 1.72s\n",
      "194:\tlearn: 0.3579319\ttotal: 414ms\tremaining: 1.71s\n",
      "195:\tlearn: 0.3578726\ttotal: 416ms\tremaining: 1.7s\n",
      "196:\tlearn: 0.3577122\ttotal: 418ms\tremaining: 1.7s\n",
      "197:\tlearn: 0.3575933\ttotal: 419ms\tremaining: 1.7s\n",
      "198:\tlearn: 0.3573789\ttotal: 422ms\tremaining: 1.7s\n",
      "199:\tlearn: 0.3570536\ttotal: 424ms\tremaining: 1.69s\n",
      "200:\tlearn: 0.3565813\ttotal: 426ms\tremaining: 1.69s\n",
      "201:\tlearn: 0.3562469\ttotal: 428ms\tremaining: 1.69s\n",
      "202:\tlearn: 0.3560935\ttotal: 430ms\tremaining: 1.69s\n",
      "203:\tlearn: 0.3558634\ttotal: 432ms\tremaining: 1.69s\n",
      "204:\tlearn: 0.3557199\ttotal: 434ms\tremaining: 1.68s\n",
      "205:\tlearn: 0.3553748\ttotal: 436ms\tremaining: 1.68s\n",
      "206:\tlearn: 0.3552484\ttotal: 439ms\tremaining: 1.68s\n",
      "207:\tlearn: 0.3550436\ttotal: 442ms\tremaining: 1.68s\n",
      "208:\tlearn: 0.3548827\ttotal: 445ms\tremaining: 1.68s\n",
      "209:\tlearn: 0.3547291\ttotal: 447ms\tremaining: 1.68s\n",
      "210:\tlearn: 0.3545916\ttotal: 450ms\tremaining: 1.68s\n",
      "211:\tlearn: 0.3543962\ttotal: 452ms\tremaining: 1.68s\n",
      "212:\tlearn: 0.3541825\ttotal: 454ms\tremaining: 1.68s\n",
      "213:\tlearn: 0.3539188\ttotal: 457ms\tremaining: 1.68s\n",
      "214:\tlearn: 0.3536575\ttotal: 459ms\tremaining: 1.68s\n",
      "215:\tlearn: 0.3534592\ttotal: 461ms\tremaining: 1.67s\n",
      "216:\tlearn: 0.3532627\ttotal: 464ms\tremaining: 1.67s\n",
      "217:\tlearn: 0.3531583\ttotal: 467ms\tremaining: 1.68s\n",
      "218:\tlearn: 0.3530793\ttotal: 470ms\tremaining: 1.68s\n",
      "219:\tlearn: 0.3528610\ttotal: 472ms\tremaining: 1.68s\n",
      "220:\tlearn: 0.3527613\ttotal: 475ms\tremaining: 1.67s\n",
      "221:\tlearn: 0.3525927\ttotal: 477ms\tremaining: 1.67s\n",
      "222:\tlearn: 0.3520394\ttotal: 480ms\tremaining: 1.67s\n",
      "223:\tlearn: 0.3518785\ttotal: 482ms\tremaining: 1.67s\n",
      "224:\tlearn: 0.3517078\ttotal: 484ms\tremaining: 1.67s\n",
      "225:\tlearn: 0.3516199\ttotal: 486ms\tremaining: 1.67s\n",
      "226:\tlearn: 0.3515123\ttotal: 489ms\tremaining: 1.66s\n",
      "227:\tlearn: 0.3512985\ttotal: 491ms\tremaining: 1.66s\n",
      "228:\tlearn: 0.3511374\ttotal: 493ms\tremaining: 1.66s\n",
      "229:\tlearn: 0.3510187\ttotal: 496ms\tremaining: 1.66s\n",
      "230:\tlearn: 0.3508329\ttotal: 498ms\tremaining: 1.66s\n",
      "231:\tlearn: 0.3506991\ttotal: 500ms\tremaining: 1.66s\n",
      "232:\tlearn: 0.3504208\ttotal: 503ms\tremaining: 1.65s\n",
      "233:\tlearn: 0.3501328\ttotal: 505ms\tremaining: 1.65s\n",
      "234:\tlearn: 0.3499066\ttotal: 508ms\tremaining: 1.65s\n",
      "235:\tlearn: 0.3497695\ttotal: 510ms\tremaining: 1.65s\n",
      "236:\tlearn: 0.3496223\ttotal: 512ms\tremaining: 1.65s\n",
      "237:\tlearn: 0.3494817\ttotal: 515ms\tremaining: 1.65s\n",
      "238:\tlearn: 0.3493941\ttotal: 517ms\tremaining: 1.65s\n",
      "239:\tlearn: 0.3492581\ttotal: 519ms\tremaining: 1.64s\n",
      "240:\tlearn: 0.3490886\ttotal: 521ms\tremaining: 1.64s\n",
      "241:\tlearn: 0.3487656\ttotal: 524ms\tremaining: 1.64s\n",
      "242:\tlearn: 0.3485675\ttotal: 526ms\tremaining: 1.64s\n",
      "243:\tlearn: 0.3484344\ttotal: 529ms\tremaining: 1.64s\n",
      "244:\tlearn: 0.3482970\ttotal: 531ms\tremaining: 1.64s\n",
      "245:\tlearn: 0.3481994\ttotal: 533ms\tremaining: 1.63s\n",
      "246:\tlearn: 0.3480151\ttotal: 536ms\tremaining: 1.63s\n",
      "247:\tlearn: 0.3478471\ttotal: 538ms\tremaining: 1.63s\n",
      "248:\tlearn: 0.3476630\ttotal: 540ms\tremaining: 1.63s\n",
      "249:\tlearn: 0.3475174\ttotal: 543ms\tremaining: 1.63s\n",
      "250:\tlearn: 0.3473490\ttotal: 545ms\tremaining: 1.63s\n",
      "251:\tlearn: 0.3472310\ttotal: 547ms\tremaining: 1.62s\n",
      "252:\tlearn: 0.3470741\ttotal: 549ms\tremaining: 1.62s\n",
      "253:\tlearn: 0.3468579\ttotal: 551ms\tremaining: 1.62s\n",
      "254:\tlearn: 0.3467460\ttotal: 554ms\tremaining: 1.62s\n",
      "255:\tlearn: 0.3466264\ttotal: 556ms\tremaining: 1.61s\n",
      "256:\tlearn: 0.3465107\ttotal: 558ms\tremaining: 1.61s\n",
      "257:\tlearn: 0.3464459\ttotal: 560ms\tremaining: 1.61s\n",
      "258:\tlearn: 0.3462440\ttotal: 563ms\tremaining: 1.61s\n",
      "259:\tlearn: 0.3460835\ttotal: 565ms\tremaining: 1.61s\n",
      "260:\tlearn: 0.3459705\ttotal: 568ms\tremaining: 1.61s\n",
      "261:\tlearn: 0.3456859\ttotal: 571ms\tremaining: 1.61s\n",
      "262:\tlearn: 0.3453391\ttotal: 573ms\tremaining: 1.6s\n",
      "263:\tlearn: 0.3451556\ttotal: 576ms\tremaining: 1.6s\n",
      "264:\tlearn: 0.3449879\ttotal: 578ms\tremaining: 1.6s\n",
      "265:\tlearn: 0.3447843\ttotal: 580ms\tremaining: 1.6s\n",
      "266:\tlearn: 0.3445166\ttotal: 582ms\tremaining: 1.6s\n",
      "267:\tlearn: 0.3443077\ttotal: 584ms\tremaining: 1.59s\n",
      "268:\tlearn: 0.3440904\ttotal: 586ms\tremaining: 1.59s\n",
      "269:\tlearn: 0.3439620\ttotal: 588ms\tremaining: 1.59s\n",
      "270:\tlearn: 0.3437868\ttotal: 590ms\tremaining: 1.59s\n",
      "271:\tlearn: 0.3437841\ttotal: 591ms\tremaining: 1.58s\n",
      "272:\tlearn: 0.3436403\ttotal: 593ms\tremaining: 1.58s\n",
      "273:\tlearn: 0.3433502\ttotal: 595ms\tremaining: 1.58s\n",
      "274:\tlearn: 0.3432146\ttotal: 597ms\tremaining: 1.57s\n",
      "275:\tlearn: 0.3429152\ttotal: 599ms\tremaining: 1.57s\n",
      "276:\tlearn: 0.3427695\ttotal: 601ms\tremaining: 1.57s\n",
      "277:\tlearn: 0.3425669\ttotal: 603ms\tremaining: 1.56s\n",
      "278:\tlearn: 0.3424676\ttotal: 605ms\tremaining: 1.56s\n",
      "279:\tlearn: 0.3420027\ttotal: 607ms\tremaining: 1.56s\n",
      "280:\tlearn: 0.3418593\ttotal: 609ms\tremaining: 1.56s\n",
      "281:\tlearn: 0.3416680\ttotal: 611ms\tremaining: 1.55s\n",
      "282:\tlearn: 0.3415606\ttotal: 613ms\tremaining: 1.55s\n",
      "283:\tlearn: 0.3413817\ttotal: 615ms\tremaining: 1.55s\n",
      "284:\tlearn: 0.3412144\ttotal: 617ms\tremaining: 1.55s\n",
      "285:\tlearn: 0.3410363\ttotal: 619ms\tremaining: 1.54s\n",
      "286:\tlearn: 0.3408308\ttotal: 621ms\tremaining: 1.54s\n",
      "287:\tlearn: 0.3407463\ttotal: 622ms\tremaining: 1.54s\n",
      "288:\tlearn: 0.3403595\ttotal: 625ms\tremaining: 1.54s\n",
      "289:\tlearn: 0.3400874\ttotal: 627ms\tremaining: 1.53s\n",
      "290:\tlearn: 0.3399142\ttotal: 628ms\tremaining: 1.53s\n",
      "291:\tlearn: 0.3397264\ttotal: 630ms\tremaining: 1.53s\n",
      "292:\tlearn: 0.3395175\ttotal: 632ms\tremaining: 1.52s\n",
      "293:\tlearn: 0.3394972\ttotal: 634ms\tremaining: 1.52s\n",
      "294:\tlearn: 0.3393127\ttotal: 636ms\tremaining: 1.52s\n",
      "295:\tlearn: 0.3391017\ttotal: 638ms\tremaining: 1.52s\n",
      "296:\tlearn: 0.3390145\ttotal: 640ms\tremaining: 1.51s\n",
      "297:\tlearn: 0.3388939\ttotal: 642ms\tremaining: 1.51s\n",
      "298:\tlearn: 0.3388398\ttotal: 644ms\tremaining: 1.51s\n",
      "299:\tlearn: 0.3387798\ttotal: 646ms\tremaining: 1.51s\n",
      "300:\tlearn: 0.3383151\ttotal: 648ms\tremaining: 1.5s\n",
      "301:\tlearn: 0.3381327\ttotal: 650ms\tremaining: 1.5s\n",
      "302:\tlearn: 0.3380623\ttotal: 652ms\tremaining: 1.5s\n",
      "303:\tlearn: 0.3379086\ttotal: 653ms\tremaining: 1.5s\n",
      "304:\tlearn: 0.3377760\ttotal: 655ms\tremaining: 1.49s\n",
      "305:\tlearn: 0.3376462\ttotal: 658ms\tremaining: 1.49s\n",
      "306:\tlearn: 0.3374678\ttotal: 660ms\tremaining: 1.49s\n",
      "307:\tlearn: 0.3373289\ttotal: 662ms\tremaining: 1.49s\n",
      "308:\tlearn: 0.3372296\ttotal: 665ms\tremaining: 1.49s\n",
      "309:\tlearn: 0.3369942\ttotal: 667ms\tremaining: 1.48s\n",
      "310:\tlearn: 0.3368072\ttotal: 669ms\tremaining: 1.48s\n",
      "311:\tlearn: 0.3367249\ttotal: 671ms\tremaining: 1.48s\n",
      "312:\tlearn: 0.3365378\ttotal: 673ms\tremaining: 1.48s\n",
      "313:\tlearn: 0.3363255\ttotal: 675ms\tremaining: 1.47s\n",
      "314:\tlearn: 0.3362426\ttotal: 676ms\tremaining: 1.47s\n",
      "315:\tlearn: 0.3361258\ttotal: 678ms\tremaining: 1.47s\n",
      "316:\tlearn: 0.3360095\ttotal: 680ms\tremaining: 1.47s\n",
      "317:\tlearn: 0.3359180\ttotal: 682ms\tremaining: 1.46s\n",
      "318:\tlearn: 0.3356842\ttotal: 684ms\tremaining: 1.46s\n",
      "319:\tlearn: 0.3354323\ttotal: 686ms\tremaining: 1.46s\n",
      "320:\tlearn: 0.3353211\ttotal: 688ms\tremaining: 1.46s\n",
      "321:\tlearn: 0.3351505\ttotal: 690ms\tremaining: 1.45s\n",
      "322:\tlearn: 0.3347815\ttotal: 692ms\tremaining: 1.45s\n",
      "323:\tlearn: 0.3345400\ttotal: 695ms\tremaining: 1.45s\n",
      "324:\tlearn: 0.3342695\ttotal: 697ms\tremaining: 1.45s\n",
      "325:\tlearn: 0.3341193\ttotal: 699ms\tremaining: 1.44s\n",
      "326:\tlearn: 0.3340452\ttotal: 700ms\tremaining: 1.44s\n",
      "327:\tlearn: 0.3339146\ttotal: 702ms\tremaining: 1.44s\n",
      "328:\tlearn: 0.3336720\ttotal: 704ms\tremaining: 1.44s\n",
      "329:\tlearn: 0.3334981\ttotal: 706ms\tremaining: 1.43s\n",
      "330:\tlearn: 0.3334971\ttotal: 707ms\tremaining: 1.43s\n",
      "331:\tlearn: 0.3333083\ttotal: 709ms\tremaining: 1.43s\n",
      "332:\tlearn: 0.3331927\ttotal: 712ms\tremaining: 1.43s\n",
      "333:\tlearn: 0.3330954\ttotal: 714ms\tremaining: 1.42s\n",
      "334:\tlearn: 0.3330195\ttotal: 716ms\tremaining: 1.42s\n",
      "335:\tlearn: 0.3326877\ttotal: 718ms\tremaining: 1.42s\n",
      "336:\tlearn: 0.3324294\ttotal: 720ms\tremaining: 1.42s\n",
      "337:\tlearn: 0.3322717\ttotal: 722ms\tremaining: 1.41s\n",
      "338:\tlearn: 0.3320722\ttotal: 724ms\tremaining: 1.41s\n",
      "339:\tlearn: 0.3319130\ttotal: 726ms\tremaining: 1.41s\n",
      "340:\tlearn: 0.3318181\ttotal: 728ms\tremaining: 1.41s\n",
      "341:\tlearn: 0.3316065\ttotal: 730ms\tremaining: 1.41s\n",
      "342:\tlearn: 0.3315423\ttotal: 732ms\tremaining: 1.4s\n",
      "343:\tlearn: 0.3314499\ttotal: 735ms\tremaining: 1.4s\n",
      "344:\tlearn: 0.3311434\ttotal: 737ms\tremaining: 1.4s\n",
      "345:\tlearn: 0.3310161\ttotal: 739ms\tremaining: 1.4s\n",
      "346:\tlearn: 0.3305827\ttotal: 741ms\tremaining: 1.39s\n",
      "347:\tlearn: 0.3304486\ttotal: 743ms\tremaining: 1.39s\n",
      "348:\tlearn: 0.3302702\ttotal: 745ms\tremaining: 1.39s\n",
      "349:\tlearn: 0.3301275\ttotal: 747ms\tremaining: 1.39s\n",
      "350:\tlearn: 0.3300674\ttotal: 749ms\tremaining: 1.39s\n",
      "351:\tlearn: 0.3300012\ttotal: 751ms\tremaining: 1.38s\n",
      "352:\tlearn: 0.3298905\ttotal: 754ms\tremaining: 1.38s\n",
      "353:\tlearn: 0.3297299\ttotal: 756ms\tremaining: 1.38s\n",
      "354:\tlearn: 0.3295671\ttotal: 758ms\tremaining: 1.38s\n",
      "355:\tlearn: 0.3294387\ttotal: 760ms\tremaining: 1.37s\n",
      "356:\tlearn: 0.3293031\ttotal: 762ms\tremaining: 1.37s\n",
      "357:\tlearn: 0.3291937\ttotal: 764ms\tremaining: 1.37s\n",
      "358:\tlearn: 0.3290564\ttotal: 766ms\tremaining: 1.37s\n",
      "359:\tlearn: 0.3290028\ttotal: 768ms\tremaining: 1.36s\n",
      "360:\tlearn: 0.3288543\ttotal: 770ms\tremaining: 1.36s\n",
      "361:\tlearn: 0.3287834\ttotal: 772ms\tremaining: 1.36s\n",
      "362:\tlearn: 0.3286885\ttotal: 773ms\tremaining: 1.36s\n",
      "363:\tlearn: 0.3285473\ttotal: 775ms\tremaining: 1.35s\n",
      "364:\tlearn: 0.3283388\ttotal: 777ms\tremaining: 1.35s\n",
      "365:\tlearn: 0.3280410\ttotal: 779ms\tremaining: 1.35s\n",
      "366:\tlearn: 0.3279511\ttotal: 781ms\tremaining: 1.35s\n",
      "367:\tlearn: 0.3277902\ttotal: 783ms\tremaining: 1.34s\n",
      "368:\tlearn: 0.3276191\ttotal: 785ms\tremaining: 1.34s\n",
      "369:\tlearn: 0.3274829\ttotal: 787ms\tremaining: 1.34s\n",
      "370:\tlearn: 0.3274036\ttotal: 789ms\tremaining: 1.34s\n",
      "371:\tlearn: 0.3273106\ttotal: 792ms\tremaining: 1.34s\n",
      "372:\tlearn: 0.3272248\ttotal: 794ms\tremaining: 1.33s\n",
      "373:\tlearn: 0.3271459\ttotal: 796ms\tremaining: 1.33s\n",
      "374:\tlearn: 0.3270141\ttotal: 798ms\tremaining: 1.33s\n",
      "375:\tlearn: 0.3269724\ttotal: 800ms\tremaining: 1.33s\n",
      "376:\tlearn: 0.3268914\ttotal: 802ms\tremaining: 1.32s\n",
      "377:\tlearn: 0.3268858\ttotal: 803ms\tremaining: 1.32s\n",
      "378:\tlearn: 0.3267830\ttotal: 805ms\tremaining: 1.32s\n",
      "379:\tlearn: 0.3266426\ttotal: 807ms\tremaining: 1.32s\n",
      "380:\tlearn: 0.3265159\ttotal: 810ms\tremaining: 1.31s\n",
      "381:\tlearn: 0.3264740\ttotal: 812ms\tremaining: 1.31s\n",
      "382:\tlearn: 0.3263258\ttotal: 814ms\tremaining: 1.31s\n",
      "383:\tlearn: 0.3260751\ttotal: 816ms\tremaining: 1.31s\n",
      "384:\tlearn: 0.3258771\ttotal: 818ms\tremaining: 1.31s\n",
      "385:\tlearn: 0.3257367\ttotal: 820ms\tremaining: 1.3s\n",
      "386:\tlearn: 0.3254696\ttotal: 823ms\tremaining: 1.3s\n",
      "387:\tlearn: 0.3253051\ttotal: 825ms\tremaining: 1.3s\n",
      "388:\tlearn: 0.3251792\ttotal: 827ms\tremaining: 1.3s\n",
      "389:\tlearn: 0.3251048\ttotal: 829ms\tremaining: 1.3s\n",
      "390:\tlearn: 0.3249883\ttotal: 832ms\tremaining: 1.3s\n",
      "391:\tlearn: 0.3248037\ttotal: 835ms\tremaining: 1.29s\n",
      "392:\tlearn: 0.3246622\ttotal: 837ms\tremaining: 1.29s\n",
      "393:\tlearn: 0.3245710\ttotal: 839ms\tremaining: 1.29s\n",
      "394:\tlearn: 0.3244735\ttotal: 841ms\tremaining: 1.29s\n",
      "395:\tlearn: 0.3243766\ttotal: 843ms\tremaining: 1.29s\n",
      "396:\tlearn: 0.3242307\ttotal: 846ms\tremaining: 1.28s\n",
      "397:\tlearn: 0.3241307\ttotal: 848ms\tremaining: 1.28s\n",
      "398:\tlearn: 0.3239749\ttotal: 850ms\tremaining: 1.28s\n",
      "399:\tlearn: 0.3238674\ttotal: 852ms\tremaining: 1.28s\n",
      "400:\tlearn: 0.3237188\ttotal: 855ms\tremaining: 1.28s\n",
      "401:\tlearn: 0.3233391\ttotal: 857ms\tremaining: 1.27s\n",
      "402:\tlearn: 0.3232366\ttotal: 859ms\tremaining: 1.27s\n",
      "403:\tlearn: 0.3231066\ttotal: 861ms\tremaining: 1.27s\n",
      "404:\tlearn: 0.3227673\ttotal: 863ms\tremaining: 1.27s\n",
      "405:\tlearn: 0.3224455\ttotal: 866ms\tremaining: 1.27s\n",
      "406:\tlearn: 0.3223117\ttotal: 868ms\tremaining: 1.26s\n",
      "407:\tlearn: 0.3222092\ttotal: 870ms\tremaining: 1.26s\n",
      "408:\tlearn: 0.3220634\ttotal: 872ms\tremaining: 1.26s\n",
      "409:\tlearn: 0.3218614\ttotal: 874ms\tremaining: 1.26s\n",
      "410:\tlearn: 0.3217509\ttotal: 876ms\tremaining: 1.25s\n",
      "411:\tlearn: 0.3216808\ttotal: 878ms\tremaining: 1.25s\n",
      "412:\tlearn: 0.3215250\ttotal: 880ms\tremaining: 1.25s\n",
      "413:\tlearn: 0.3213600\ttotal: 882ms\tremaining: 1.25s\n",
      "414:\tlearn: 0.3211237\ttotal: 884ms\tremaining: 1.25s\n",
      "415:\tlearn: 0.3210879\ttotal: 885ms\tremaining: 1.24s\n",
      "416:\tlearn: 0.3209290\ttotal: 887ms\tremaining: 1.24s\n",
      "417:\tlearn: 0.3207685\ttotal: 889ms\tremaining: 1.24s\n",
      "418:\tlearn: 0.3206066\ttotal: 891ms\tremaining: 1.24s\n",
      "419:\tlearn: 0.3201995\ttotal: 894ms\tremaining: 1.23s\n",
      "420:\tlearn: 0.3201190\ttotal: 896ms\tremaining: 1.23s\n",
      "421:\tlearn: 0.3199805\ttotal: 898ms\tremaining: 1.23s\n",
      "422:\tlearn: 0.3198647\ttotal: 900ms\tremaining: 1.23s\n",
      "423:\tlearn: 0.3196912\ttotal: 902ms\tremaining: 1.22s\n",
      "424:\tlearn: 0.3194903\ttotal: 904ms\tremaining: 1.22s\n",
      "425:\tlearn: 0.3193533\ttotal: 906ms\tremaining: 1.22s\n",
      "426:\tlearn: 0.3192477\ttotal: 907ms\tremaining: 1.22s\n",
      "427:\tlearn: 0.3190537\ttotal: 909ms\tremaining: 1.21s\n",
      "428:\tlearn: 0.3189364\ttotal: 911ms\tremaining: 1.21s\n",
      "429:\tlearn: 0.3184392\ttotal: 914ms\tremaining: 1.21s\n",
      "430:\tlearn: 0.3182634\ttotal: 916ms\tremaining: 1.21s\n",
      "431:\tlearn: 0.3177846\ttotal: 919ms\tremaining: 1.21s\n",
      "432:\tlearn: 0.3173701\ttotal: 921ms\tremaining: 1.21s\n",
      "433:\tlearn: 0.3169868\ttotal: 923ms\tremaining: 1.2s\n",
      "434:\tlearn: 0.3165877\ttotal: 925ms\tremaining: 1.2s\n",
      "435:\tlearn: 0.3164713\ttotal: 928ms\tremaining: 1.2s\n",
      "436:\tlearn: 0.3161964\ttotal: 930ms\tremaining: 1.2s\n",
      "437:\tlearn: 0.3161093\ttotal: 932ms\tremaining: 1.2s\n",
      "438:\tlearn: 0.3158001\ttotal: 935ms\tremaining: 1.19s\n",
      "439:\tlearn: 0.3155910\ttotal: 937ms\tremaining: 1.19s\n",
      "440:\tlearn: 0.3154313\ttotal: 939ms\tremaining: 1.19s\n",
      "441:\tlearn: 0.3151468\ttotal: 941ms\tremaining: 1.19s\n",
      "442:\tlearn: 0.3150691\ttotal: 943ms\tremaining: 1.19s\n",
      "443:\tlearn: 0.3149042\ttotal: 945ms\tremaining: 1.18s\n",
      "444:\tlearn: 0.3148583\ttotal: 947ms\tremaining: 1.18s\n",
      "445:\tlearn: 0.3147672\ttotal: 949ms\tremaining: 1.18s\n",
      "446:\tlearn: 0.3144129\ttotal: 951ms\tremaining: 1.18s\n",
      "447:\tlearn: 0.3142478\ttotal: 953ms\tremaining: 1.17s\n",
      "448:\tlearn: 0.3140870\ttotal: 956ms\tremaining: 1.17s\n",
      "449:\tlearn: 0.3139303\ttotal: 958ms\tremaining: 1.17s\n",
      "450:\tlearn: 0.3137276\ttotal: 960ms\tremaining: 1.17s\n",
      "451:\tlearn: 0.3133957\ttotal: 962ms\tremaining: 1.17s\n",
      "452:\tlearn: 0.3132799\ttotal: 965ms\tremaining: 1.16s\n",
      "453:\tlearn: 0.3131308\ttotal: 967ms\tremaining: 1.16s\n",
      "454:\tlearn: 0.3129794\ttotal: 969ms\tremaining: 1.16s\n",
      "455:\tlearn: 0.3128738\ttotal: 971ms\tremaining: 1.16s\n",
      "456:\tlearn: 0.3126171\ttotal: 973ms\tremaining: 1.16s\n",
      "457:\tlearn: 0.3125005\ttotal: 975ms\tremaining: 1.15s\n",
      "458:\tlearn: 0.3123598\ttotal: 977ms\tremaining: 1.15s\n",
      "459:\tlearn: 0.3119939\ttotal: 979ms\tremaining: 1.15s\n",
      "460:\tlearn: 0.3117430\ttotal: 981ms\tremaining: 1.15s\n",
      "461:\tlearn: 0.3115658\ttotal: 983ms\tremaining: 1.14s\n",
      "462:\tlearn: 0.3113855\ttotal: 985ms\tremaining: 1.14s\n",
      "463:\tlearn: 0.3112618\ttotal: 987ms\tremaining: 1.14s\n",
      "464:\tlearn: 0.3110526\ttotal: 990ms\tremaining: 1.14s\n",
      "465:\tlearn: 0.3110053\ttotal: 992ms\tremaining: 1.14s\n",
      "466:\tlearn: 0.3107047\ttotal: 994ms\tremaining: 1.13s\n",
      "467:\tlearn: 0.3104679\ttotal: 996ms\tremaining: 1.13s\n",
      "468:\tlearn: 0.3103234\ttotal: 999ms\tremaining: 1.13s\n",
      "469:\tlearn: 0.3101338\ttotal: 1s\tremaining: 1.13s\n",
      "470:\tlearn: 0.3100249\ttotal: 1s\tremaining: 1.13s\n",
      "471:\tlearn: 0.3098471\ttotal: 1s\tremaining: 1.12s\n",
      "472:\tlearn: 0.3097130\ttotal: 1.01s\tremaining: 1.12s\n",
      "473:\tlearn: 0.3095133\ttotal: 1.01s\tremaining: 1.12s\n",
      "474:\tlearn: 0.3093313\ttotal: 1.01s\tremaining: 1.12s\n",
      "475:\tlearn: 0.3092367\ttotal: 1.01s\tremaining: 1.11s\n",
      "476:\tlearn: 0.3090411\ttotal: 1.01s\tremaining: 1.11s\n",
      "477:\tlearn: 0.3088897\ttotal: 1.02s\tremaining: 1.11s\n",
      "478:\tlearn: 0.3086947\ttotal: 1.02s\tremaining: 1.11s\n",
      "479:\tlearn: 0.3085372\ttotal: 1.02s\tremaining: 1.11s\n",
      "480:\tlearn: 0.3084140\ttotal: 1.02s\tremaining: 1.1s\n",
      "481:\tlearn: 0.3082758\ttotal: 1.02s\tremaining: 1.1s\n",
      "482:\tlearn: 0.3080699\ttotal: 1.03s\tremaining: 1.1s\n",
      "483:\tlearn: 0.3078649\ttotal: 1.03s\tremaining: 1.1s\n",
      "484:\tlearn: 0.3077848\ttotal: 1.03s\tremaining: 1.09s\n",
      "485:\tlearn: 0.3076206\ttotal: 1.03s\tremaining: 1.09s\n",
      "486:\tlearn: 0.3073637\ttotal: 1.04s\tremaining: 1.09s\n",
      "487:\tlearn: 0.3072375\ttotal: 1.04s\tremaining: 1.09s\n",
      "488:\tlearn: 0.3070994\ttotal: 1.04s\tremaining: 1.09s\n",
      "489:\tlearn: 0.3070037\ttotal: 1.04s\tremaining: 1.08s\n",
      "490:\tlearn: 0.3068883\ttotal: 1.04s\tremaining: 1.08s\n",
      "491:\tlearn: 0.3067768\ttotal: 1.05s\tremaining: 1.08s\n",
      "492:\tlearn: 0.3066330\ttotal: 1.05s\tremaining: 1.08s\n",
      "493:\tlearn: 0.3064680\ttotal: 1.05s\tremaining: 1.08s\n",
      "494:\tlearn: 0.3062102\ttotal: 1.05s\tremaining: 1.07s\n",
      "495:\tlearn: 0.3060888\ttotal: 1.05s\tremaining: 1.07s\n",
      "496:\tlearn: 0.3059214\ttotal: 1.06s\tremaining: 1.07s\n",
      "497:\tlearn: 0.3058021\ttotal: 1.06s\tremaining: 1.07s\n",
      "498:\tlearn: 0.3056666\ttotal: 1.06s\tremaining: 1.06s\n",
      "499:\tlearn: 0.3055141\ttotal: 1.06s\tremaining: 1.06s\n",
      "500:\tlearn: 0.3054023\ttotal: 1.06s\tremaining: 1.06s\n",
      "501:\tlearn: 0.3052460\ttotal: 1.07s\tremaining: 1.06s\n",
      "502:\tlearn: 0.3049612\ttotal: 1.07s\tremaining: 1.06s\n",
      "503:\tlearn: 0.3048140\ttotal: 1.07s\tremaining: 1.05s\n",
      "504:\tlearn: 0.3045851\ttotal: 1.07s\tremaining: 1.05s\n",
      "505:\tlearn: 0.3045002\ttotal: 1.07s\tremaining: 1.05s\n",
      "506:\tlearn: 0.3043362\ttotal: 1.08s\tremaining: 1.05s\n",
      "507:\tlearn: 0.3039109\ttotal: 1.08s\tremaining: 1.05s\n",
      "508:\tlearn: 0.3038639\ttotal: 1.08s\tremaining: 1.04s\n",
      "509:\tlearn: 0.3037701\ttotal: 1.08s\tremaining: 1.04s\n",
      "510:\tlearn: 0.3036536\ttotal: 1.09s\tremaining: 1.04s\n",
      "511:\tlearn: 0.3034783\ttotal: 1.09s\tremaining: 1.04s\n",
      "512:\tlearn: 0.3031800\ttotal: 1.09s\tremaining: 1.03s\n",
      "513:\tlearn: 0.3030156\ttotal: 1.09s\tremaining: 1.03s\n",
      "514:\tlearn: 0.3029570\ttotal: 1.09s\tremaining: 1.03s\n",
      "515:\tlearn: 0.3027419\ttotal: 1.1s\tremaining: 1.03s\n",
      "516:\tlearn: 0.3026173\ttotal: 1.1s\tremaining: 1.03s\n",
      "517:\tlearn: 0.3025041\ttotal: 1.1s\tremaining: 1.02s\n",
      "518:\tlearn: 0.3024041\ttotal: 1.1s\tremaining: 1.02s\n",
      "519:\tlearn: 0.3022638\ttotal: 1.1s\tremaining: 1.02s\n",
      "520:\tlearn: 0.3021291\ttotal: 1.11s\tremaining: 1.02s\n",
      "521:\tlearn: 0.3020315\ttotal: 1.11s\tremaining: 1.01s\n",
      "522:\tlearn: 0.3018817\ttotal: 1.11s\tremaining: 1.01s\n",
      "523:\tlearn: 0.3017076\ttotal: 1.11s\tremaining: 1.01s\n",
      "524:\tlearn: 0.3015217\ttotal: 1.11s\tremaining: 1.01s\n",
      "525:\tlearn: 0.3013917\ttotal: 1.12s\tremaining: 1s\n",
      "526:\tlearn: 0.3011084\ttotal: 1.12s\tremaining: 1s\n",
      "527:\tlearn: 0.3009410\ttotal: 1.12s\tremaining: 1s\n",
      "528:\tlearn: 0.3007971\ttotal: 1.12s\tremaining: 999ms\n",
      "529:\tlearn: 0.3007044\ttotal: 1.12s\tremaining: 997ms\n",
      "530:\tlearn: 0.3005789\ttotal: 1.13s\tremaining: 995ms\n",
      "531:\tlearn: 0.3004487\ttotal: 1.13s\tremaining: 993ms\n",
      "532:\tlearn: 0.3003509\ttotal: 1.13s\tremaining: 990ms\n",
      "533:\tlearn: 0.3001171\ttotal: 1.13s\tremaining: 988ms\n",
      "534:\tlearn: 0.2999071\ttotal: 1.13s\tremaining: 986ms\n",
      "535:\tlearn: 0.2997954\ttotal: 1.14s\tremaining: 984ms\n",
      "536:\tlearn: 0.2997195\ttotal: 1.14s\tremaining: 982ms\n",
      "537:\tlearn: 0.2996311\ttotal: 1.14s\tremaining: 980ms\n",
      "538:\tlearn: 0.2994419\ttotal: 1.14s\tremaining: 978ms\n",
      "539:\tlearn: 0.2992209\ttotal: 1.15s\tremaining: 976ms\n",
      "540:\tlearn: 0.2991339\ttotal: 1.15s\tremaining: 974ms\n",
      "541:\tlearn: 0.2989244\ttotal: 1.15s\tremaining: 971ms\n",
      "542:\tlearn: 0.2987417\ttotal: 1.15s\tremaining: 969ms\n",
      "543:\tlearn: 0.2985826\ttotal: 1.15s\tremaining: 967ms\n",
      "544:\tlearn: 0.2984614\ttotal: 1.16s\tremaining: 965ms\n",
      "545:\tlearn: 0.2982977\ttotal: 1.16s\tremaining: 963ms\n",
      "546:\tlearn: 0.2981605\ttotal: 1.16s\tremaining: 961ms\n",
      "547:\tlearn: 0.2980833\ttotal: 1.16s\tremaining: 959ms\n",
      "548:\tlearn: 0.2978763\ttotal: 1.17s\tremaining: 957ms\n",
      "549:\tlearn: 0.2976432\ttotal: 1.17s\tremaining: 955ms\n",
      "550:\tlearn: 0.2974469\ttotal: 1.17s\tremaining: 953ms\n",
      "551:\tlearn: 0.2972954\ttotal: 1.17s\tremaining: 951ms\n",
      "552:\tlearn: 0.2971437\ttotal: 1.17s\tremaining: 949ms\n",
      "553:\tlearn: 0.2970089\ttotal: 1.18s\tremaining: 947ms\n",
      "554:\tlearn: 0.2968528\ttotal: 1.18s\tremaining: 945ms\n",
      "555:\tlearn: 0.2968120\ttotal: 1.18s\tremaining: 942ms\n",
      "556:\tlearn: 0.2964297\ttotal: 1.18s\tremaining: 940ms\n",
      "557:\tlearn: 0.2962330\ttotal: 1.18s\tremaining: 938ms\n",
      "558:\tlearn: 0.2960192\ttotal: 1.19s\tremaining: 936ms\n",
      "559:\tlearn: 0.2958960\ttotal: 1.19s\tremaining: 934ms\n",
      "560:\tlearn: 0.2958182\ttotal: 1.19s\tremaining: 932ms\n",
      "561:\tlearn: 0.2957391\ttotal: 1.19s\tremaining: 930ms\n",
      "562:\tlearn: 0.2956143\ttotal: 1.2s\tremaining: 928ms\n",
      "563:\tlearn: 0.2954178\ttotal: 1.2s\tremaining: 926ms\n",
      "564:\tlearn: 0.2953286\ttotal: 1.2s\tremaining: 924ms\n",
      "565:\tlearn: 0.2952106\ttotal: 1.2s\tremaining: 922ms\n",
      "566:\tlearn: 0.2951226\ttotal: 1.2s\tremaining: 919ms\n",
      "567:\tlearn: 0.2950383\ttotal: 1.21s\tremaining: 917ms\n",
      "568:\tlearn: 0.2948840\ttotal: 1.21s\tremaining: 915ms\n",
      "569:\tlearn: 0.2946683\ttotal: 1.21s\tremaining: 913ms\n",
      "570:\tlearn: 0.2945343\ttotal: 1.21s\tremaining: 911ms\n",
      "571:\tlearn: 0.2944324\ttotal: 1.21s\tremaining: 909ms\n",
      "572:\tlearn: 0.2943459\ttotal: 1.22s\tremaining: 907ms\n",
      "573:\tlearn: 0.2942077\ttotal: 1.22s\tremaining: 905ms\n",
      "574:\tlearn: 0.2940971\ttotal: 1.22s\tremaining: 903ms\n",
      "575:\tlearn: 0.2939547\ttotal: 1.22s\tremaining: 900ms\n",
      "576:\tlearn: 0.2937695\ttotal: 1.23s\tremaining: 898ms\n",
      "577:\tlearn: 0.2935721\ttotal: 1.23s\tremaining: 896ms\n",
      "578:\tlearn: 0.2934278\ttotal: 1.23s\tremaining: 894ms\n",
      "579:\tlearn: 0.2933480\ttotal: 1.23s\tremaining: 892ms\n",
      "580:\tlearn: 0.2932512\ttotal: 1.23s\tremaining: 889ms\n",
      "581:\tlearn: 0.2931033\ttotal: 1.24s\tremaining: 887ms\n",
      "582:\tlearn: 0.2929698\ttotal: 1.24s\tremaining: 885ms\n",
      "583:\tlearn: 0.2927779\ttotal: 1.24s\tremaining: 883ms\n",
      "584:\tlearn: 0.2926476\ttotal: 1.24s\tremaining: 881ms\n",
      "585:\tlearn: 0.2923986\ttotal: 1.24s\tremaining: 879ms\n",
      "586:\tlearn: 0.2923280\ttotal: 1.25s\tremaining: 876ms\n",
      "587:\tlearn: 0.2921606\ttotal: 1.25s\tremaining: 874ms\n",
      "588:\tlearn: 0.2920314\ttotal: 1.25s\tremaining: 872ms\n",
      "589:\tlearn: 0.2919319\ttotal: 1.25s\tremaining: 870ms\n",
      "590:\tlearn: 0.2916711\ttotal: 1.25s\tremaining: 868ms\n",
      "591:\tlearn: 0.2915633\ttotal: 1.26s\tremaining: 866ms\n",
      "592:\tlearn: 0.2914577\ttotal: 1.26s\tremaining: 864ms\n",
      "593:\tlearn: 0.2913195\ttotal: 1.26s\tremaining: 862ms\n",
      "594:\tlearn: 0.2911634\ttotal: 1.26s\tremaining: 860ms\n",
      "595:\tlearn: 0.2910952\ttotal: 1.26s\tremaining: 858ms\n",
      "596:\tlearn: 0.2910196\ttotal: 1.27s\tremaining: 856ms\n",
      "597:\tlearn: 0.2908262\ttotal: 1.27s\tremaining: 854ms\n",
      "598:\tlearn: 0.2906461\ttotal: 1.27s\tremaining: 852ms\n",
      "599:\tlearn: 0.2904757\ttotal: 1.27s\tremaining: 850ms\n",
      "600:\tlearn: 0.2903385\ttotal: 1.28s\tremaining: 848ms\n",
      "601:\tlearn: 0.2902247\ttotal: 1.28s\tremaining: 846ms\n",
      "602:\tlearn: 0.2901164\ttotal: 1.28s\tremaining: 843ms\n",
      "603:\tlearn: 0.2899477\ttotal: 1.28s\tremaining: 841ms\n",
      "604:\tlearn: 0.2898828\ttotal: 1.28s\tremaining: 839ms\n",
      "605:\tlearn: 0.2897787\ttotal: 1.29s\tremaining: 837ms\n",
      "606:\tlearn: 0.2896491\ttotal: 1.29s\tremaining: 835ms\n",
      "607:\tlearn: 0.2895728\ttotal: 1.29s\tremaining: 833ms\n",
      "608:\tlearn: 0.2894681\ttotal: 1.29s\tremaining: 831ms\n",
      "609:\tlearn: 0.2893988\ttotal: 1.29s\tremaining: 829ms\n",
      "610:\tlearn: 0.2892948\ttotal: 1.3s\tremaining: 827ms\n",
      "611:\tlearn: 0.2891902\ttotal: 1.3s\tremaining: 824ms\n",
      "612:\tlearn: 0.2891078\ttotal: 1.3s\tremaining: 822ms\n",
      "613:\tlearn: 0.2888965\ttotal: 1.3s\tremaining: 820ms\n",
      "614:\tlearn: 0.2886642\ttotal: 1.31s\tremaining: 818ms\n",
      "615:\tlearn: 0.2884909\ttotal: 1.31s\tremaining: 816ms\n",
      "616:\tlearn: 0.2883239\ttotal: 1.31s\tremaining: 814ms\n",
      "617:\tlearn: 0.2879125\ttotal: 1.31s\tremaining: 812ms\n",
      "618:\tlearn: 0.2875238\ttotal: 1.31s\tremaining: 810ms\n",
      "619:\tlearn: 0.2873877\ttotal: 1.32s\tremaining: 808ms\n",
      "620:\tlearn: 0.2872371\ttotal: 1.32s\tremaining: 806ms\n",
      "621:\tlearn: 0.2868737\ttotal: 1.32s\tremaining: 804ms\n",
      "622:\tlearn: 0.2867535\ttotal: 1.32s\tremaining: 801ms\n",
      "623:\tlearn: 0.2866576\ttotal: 1.33s\tremaining: 799ms\n",
      "624:\tlearn: 0.2864572\ttotal: 1.33s\tremaining: 797ms\n",
      "625:\tlearn: 0.2863917\ttotal: 1.33s\tremaining: 795ms\n",
      "626:\tlearn: 0.2860881\ttotal: 1.33s\tremaining: 793ms\n",
      "627:\tlearn: 0.2860259\ttotal: 1.33s\tremaining: 791ms\n",
      "628:\tlearn: 0.2858495\ttotal: 1.34s\tremaining: 788ms\n",
      "629:\tlearn: 0.2857254\ttotal: 1.34s\tremaining: 786ms\n",
      "630:\tlearn: 0.2855328\ttotal: 1.34s\tremaining: 784ms\n",
      "631:\tlearn: 0.2853982\ttotal: 1.34s\tremaining: 782ms\n",
      "632:\tlearn: 0.2853337\ttotal: 1.34s\tremaining: 779ms\n",
      "633:\tlearn: 0.2852784\ttotal: 1.35s\tremaining: 777ms\n",
      "634:\tlearn: 0.2852209\ttotal: 1.35s\tremaining: 775ms\n",
      "635:\tlearn: 0.2850663\ttotal: 1.35s\tremaining: 773ms\n",
      "636:\tlearn: 0.2848689\ttotal: 1.35s\tremaining: 771ms\n",
      "637:\tlearn: 0.2847379\ttotal: 1.35s\tremaining: 768ms\n",
      "638:\tlearn: 0.2845196\ttotal: 1.36s\tremaining: 766ms\n",
      "639:\tlearn: 0.2843744\ttotal: 1.36s\tremaining: 764ms\n",
      "640:\tlearn: 0.2842958\ttotal: 1.36s\tremaining: 762ms\n",
      "641:\tlearn: 0.2841989\ttotal: 1.36s\tremaining: 760ms\n",
      "642:\tlearn: 0.2840665\ttotal: 1.36s\tremaining: 758ms\n",
      "643:\tlearn: 0.2840294\ttotal: 1.37s\tremaining: 755ms\n",
      "644:\tlearn: 0.2838234\ttotal: 1.37s\tremaining: 753ms\n",
      "645:\tlearn: 0.2837324\ttotal: 1.37s\tremaining: 751ms\n",
      "646:\tlearn: 0.2835709\ttotal: 1.37s\tremaining: 749ms\n",
      "647:\tlearn: 0.2834908\ttotal: 1.37s\tremaining: 747ms\n",
      "648:\tlearn: 0.2834547\ttotal: 1.38s\tremaining: 745ms\n",
      "649:\tlearn: 0.2832921\ttotal: 1.38s\tremaining: 742ms\n",
      "650:\tlearn: 0.2831161\ttotal: 1.38s\tremaining: 740ms\n",
      "651:\tlearn: 0.2830908\ttotal: 1.38s\tremaining: 738ms\n",
      "652:\tlearn: 0.2830357\ttotal: 1.38s\tremaining: 736ms\n",
      "653:\tlearn: 0.2828742\ttotal: 1.39s\tremaining: 734ms\n",
      "654:\tlearn: 0.2827325\ttotal: 1.39s\tremaining: 731ms\n",
      "655:\tlearn: 0.2826417\ttotal: 1.39s\tremaining: 729ms\n",
      "656:\tlearn: 0.2824873\ttotal: 1.39s\tremaining: 727ms\n",
      "657:\tlearn: 0.2823544\ttotal: 1.39s\tremaining: 725ms\n",
      "658:\tlearn: 0.2822652\ttotal: 1.4s\tremaining: 723ms\n",
      "659:\tlearn: 0.2821473\ttotal: 1.4s\tremaining: 720ms\n",
      "660:\tlearn: 0.2818209\ttotal: 1.4s\tremaining: 718ms\n",
      "661:\tlearn: 0.2816940\ttotal: 1.4s\tremaining: 716ms\n",
      "662:\tlearn: 0.2815366\ttotal: 1.4s\tremaining: 714ms\n",
      "663:\tlearn: 0.2814562\ttotal: 1.41s\tremaining: 712ms\n",
      "664:\tlearn: 0.2813614\ttotal: 1.41s\tremaining: 709ms\n",
      "665:\tlearn: 0.2812368\ttotal: 1.41s\tremaining: 707ms\n",
      "666:\tlearn: 0.2811543\ttotal: 1.41s\tremaining: 705ms\n",
      "667:\tlearn: 0.2810845\ttotal: 1.41s\tremaining: 703ms\n",
      "668:\tlearn: 0.2809186\ttotal: 1.42s\tremaining: 701ms\n",
      "669:\tlearn: 0.2807990\ttotal: 1.42s\tremaining: 698ms\n",
      "670:\tlearn: 0.2806893\ttotal: 1.42s\tremaining: 696ms\n",
      "671:\tlearn: 0.2805562\ttotal: 1.42s\tremaining: 694ms\n",
      "672:\tlearn: 0.2804831\ttotal: 1.42s\tremaining: 692ms\n",
      "673:\tlearn: 0.2803732\ttotal: 1.43s\tremaining: 690ms\n",
      "674:\tlearn: 0.2803224\ttotal: 1.43s\tremaining: 688ms\n",
      "675:\tlearn: 0.2802343\ttotal: 1.43s\tremaining: 685ms\n",
      "676:\tlearn: 0.2800401\ttotal: 1.43s\tremaining: 683ms\n",
      "677:\tlearn: 0.2799200\ttotal: 1.43s\tremaining: 681ms\n",
      "678:\tlearn: 0.2797728\ttotal: 1.44s\tremaining: 679ms\n",
      "679:\tlearn: 0.2797187\ttotal: 1.44s\tremaining: 677ms\n",
      "680:\tlearn: 0.2795689\ttotal: 1.44s\tremaining: 675ms\n",
      "681:\tlearn: 0.2791906\ttotal: 1.44s\tremaining: 673ms\n",
      "682:\tlearn: 0.2790474\ttotal: 1.44s\tremaining: 671ms\n",
      "683:\tlearn: 0.2789960\ttotal: 1.45s\tremaining: 669ms\n",
      "684:\tlearn: 0.2788580\ttotal: 1.45s\tremaining: 666ms\n",
      "685:\tlearn: 0.2787749\ttotal: 1.45s\tremaining: 664ms\n",
      "686:\tlearn: 0.2786266\ttotal: 1.45s\tremaining: 662ms\n",
      "687:\tlearn: 0.2785471\ttotal: 1.46s\tremaining: 660ms\n",
      "688:\tlearn: 0.2784161\ttotal: 1.46s\tremaining: 658ms\n",
      "689:\tlearn: 0.2783514\ttotal: 1.46s\tremaining: 656ms\n",
      "690:\tlearn: 0.2782590\ttotal: 1.46s\tremaining: 654ms\n",
      "691:\tlearn: 0.2781165\ttotal: 1.46s\tremaining: 652ms\n",
      "692:\tlearn: 0.2778763\ttotal: 1.47s\tremaining: 649ms\n",
      "693:\tlearn: 0.2777753\ttotal: 1.47s\tremaining: 647ms\n",
      "694:\tlearn: 0.2776352\ttotal: 1.47s\tremaining: 645ms\n",
      "695:\tlearn: 0.2775073\ttotal: 1.47s\tremaining: 643ms\n",
      "696:\tlearn: 0.2773995\ttotal: 1.47s\tremaining: 641ms\n",
      "697:\tlearn: 0.2773034\ttotal: 1.48s\tremaining: 639ms\n",
      "698:\tlearn: 0.2772138\ttotal: 1.48s\tremaining: 637ms\n",
      "699:\tlearn: 0.2771084\ttotal: 1.48s\tremaining: 634ms\n",
      "700:\tlearn: 0.2769572\ttotal: 1.48s\tremaining: 632ms\n",
      "701:\tlearn: 0.2768523\ttotal: 1.48s\tremaining: 630ms\n",
      "702:\tlearn: 0.2765639\ttotal: 1.49s\tremaining: 628ms\n",
      "703:\tlearn: 0.2764745\ttotal: 1.49s\tremaining: 626ms\n",
      "704:\tlearn: 0.2764215\ttotal: 1.49s\tremaining: 624ms\n",
      "705:\tlearn: 0.2763392\ttotal: 1.49s\tremaining: 621ms\n",
      "706:\tlearn: 0.2761545\ttotal: 1.49s\tremaining: 619ms\n",
      "707:\tlearn: 0.2760305\ttotal: 1.5s\tremaining: 617ms\n",
      "708:\tlearn: 0.2759778\ttotal: 1.5s\tremaining: 615ms\n",
      "709:\tlearn: 0.2757919\ttotal: 1.5s\tremaining: 613ms\n",
      "710:\tlearn: 0.2756444\ttotal: 1.5s\tremaining: 611ms\n",
      "711:\tlearn: 0.2754134\ttotal: 1.5s\tremaining: 609ms\n",
      "712:\tlearn: 0.2753598\ttotal: 1.51s\tremaining: 607ms\n",
      "713:\tlearn: 0.2753153\ttotal: 1.51s\tremaining: 604ms\n",
      "714:\tlearn: 0.2751619\ttotal: 1.51s\tremaining: 602ms\n",
      "715:\tlearn: 0.2750085\ttotal: 1.51s\tremaining: 600ms\n",
      "716:\tlearn: 0.2748627\ttotal: 1.51s\tremaining: 598ms\n",
      "717:\tlearn: 0.2746622\ttotal: 1.52s\tremaining: 596ms\n",
      "718:\tlearn: 0.2745533\ttotal: 1.52s\tremaining: 594ms\n",
      "719:\tlearn: 0.2744516\ttotal: 1.52s\tremaining: 592ms\n",
      "720:\tlearn: 0.2743450\ttotal: 1.52s\tremaining: 589ms\n",
      "721:\tlearn: 0.2742384\ttotal: 1.52s\tremaining: 587ms\n",
      "722:\tlearn: 0.2739133\ttotal: 1.53s\tremaining: 585ms\n",
      "723:\tlearn: 0.2736308\ttotal: 1.53s\tremaining: 583ms\n",
      "724:\tlearn: 0.2732768\ttotal: 1.53s\tremaining: 581ms\n",
      "725:\tlearn: 0.2731240\ttotal: 1.53s\tremaining: 579ms\n",
      "726:\tlearn: 0.2730497\ttotal: 1.54s\tremaining: 577ms\n",
      "727:\tlearn: 0.2729440\ttotal: 1.54s\tremaining: 575ms\n",
      "728:\tlearn: 0.2728232\ttotal: 1.54s\tremaining: 573ms\n",
      "729:\tlearn: 0.2727135\ttotal: 1.54s\tremaining: 571ms\n",
      "730:\tlearn: 0.2726603\ttotal: 1.54s\tremaining: 568ms\n",
      "731:\tlearn: 0.2725372\ttotal: 1.55s\tremaining: 566ms\n",
      "732:\tlearn: 0.2723192\ttotal: 1.55s\tremaining: 564ms\n",
      "733:\tlearn: 0.2721700\ttotal: 1.55s\tremaining: 562ms\n",
      "734:\tlearn: 0.2720677\ttotal: 1.55s\tremaining: 560ms\n",
      "735:\tlearn: 0.2717615\ttotal: 1.55s\tremaining: 558ms\n",
      "736:\tlearn: 0.2716250\ttotal: 1.56s\tremaining: 556ms\n",
      "737:\tlearn: 0.2715460\ttotal: 1.56s\tremaining: 553ms\n",
      "738:\tlearn: 0.2713657\ttotal: 1.56s\tremaining: 551ms\n",
      "739:\tlearn: 0.2713004\ttotal: 1.56s\tremaining: 549ms\n",
      "740:\tlearn: 0.2711455\ttotal: 1.56s\tremaining: 547ms\n",
      "741:\tlearn: 0.2710525\ttotal: 1.57s\tremaining: 545ms\n",
      "742:\tlearn: 0.2709337\ttotal: 1.57s\tremaining: 543ms\n",
      "743:\tlearn: 0.2707838\ttotal: 1.57s\tremaining: 540ms\n",
      "744:\tlearn: 0.2705744\ttotal: 1.57s\tremaining: 538ms\n",
      "745:\tlearn: 0.2704840\ttotal: 1.57s\tremaining: 536ms\n",
      "746:\tlearn: 0.2703725\ttotal: 1.58s\tremaining: 534ms\n",
      "747:\tlearn: 0.2702928\ttotal: 1.58s\tremaining: 532ms\n",
      "748:\tlearn: 0.2699886\ttotal: 1.58s\tremaining: 530ms\n",
      "749:\tlearn: 0.2699126\ttotal: 1.58s\tremaining: 527ms\n",
      "750:\tlearn: 0.2698307\ttotal: 1.58s\tremaining: 525ms\n",
      "751:\tlearn: 0.2697041\ttotal: 1.59s\tremaining: 523ms\n",
      "752:\tlearn: 0.2695698\ttotal: 1.59s\tremaining: 521ms\n",
      "753:\tlearn: 0.2693934\ttotal: 1.59s\tremaining: 519ms\n",
      "754:\tlearn: 0.2692540\ttotal: 1.59s\tremaining: 517ms\n",
      "755:\tlearn: 0.2692465\ttotal: 1.59s\tremaining: 514ms\n",
      "756:\tlearn: 0.2691309\ttotal: 1.59s\tremaining: 512ms\n",
      "757:\tlearn: 0.2690262\ttotal: 1.6s\tremaining: 510ms\n",
      "758:\tlearn: 0.2689554\ttotal: 1.6s\tremaining: 508ms\n",
      "759:\tlearn: 0.2688542\ttotal: 1.6s\tremaining: 506ms\n",
      "760:\tlearn: 0.2687783\ttotal: 1.6s\tremaining: 504ms\n",
      "761:\tlearn: 0.2686482\ttotal: 1.6s\tremaining: 501ms\n",
      "762:\tlearn: 0.2685751\ttotal: 1.61s\tremaining: 499ms\n",
      "763:\tlearn: 0.2684751\ttotal: 1.61s\tremaining: 497ms\n",
      "764:\tlearn: 0.2683688\ttotal: 1.61s\tremaining: 495ms\n",
      "765:\tlearn: 0.2683102\ttotal: 1.61s\tremaining: 493ms\n",
      "766:\tlearn: 0.2680228\ttotal: 1.61s\tremaining: 491ms\n",
      "767:\tlearn: 0.2679760\ttotal: 1.62s\tremaining: 489ms\n",
      "768:\tlearn: 0.2678797\ttotal: 1.62s\tremaining: 486ms\n",
      "769:\tlearn: 0.2678222\ttotal: 1.62s\tremaining: 484ms\n",
      "770:\tlearn: 0.2677154\ttotal: 1.62s\tremaining: 482ms\n",
      "771:\tlearn: 0.2676158\ttotal: 1.63s\tremaining: 480ms\n",
      "772:\tlearn: 0.2676089\ttotal: 1.63s\tremaining: 478ms\n",
      "773:\tlearn: 0.2675581\ttotal: 1.63s\tremaining: 476ms\n",
      "774:\tlearn: 0.2674370\ttotal: 1.63s\tremaining: 473ms\n",
      "775:\tlearn: 0.2673622\ttotal: 1.63s\tremaining: 471ms\n",
      "776:\tlearn: 0.2672695\ttotal: 1.63s\tremaining: 469ms\n",
      "777:\tlearn: 0.2671973\ttotal: 1.64s\tremaining: 467ms\n",
      "778:\tlearn: 0.2671053\ttotal: 1.64s\tremaining: 465ms\n",
      "779:\tlearn: 0.2670169\ttotal: 1.64s\tremaining: 463ms\n",
      "780:\tlearn: 0.2668749\ttotal: 1.64s\tremaining: 461ms\n",
      "781:\tlearn: 0.2668192\ttotal: 1.64s\tremaining: 459ms\n",
      "782:\tlearn: 0.2667140\ttotal: 1.65s\tremaining: 456ms\n",
      "783:\tlearn: 0.2666150\ttotal: 1.65s\tremaining: 454ms\n",
      "784:\tlearn: 0.2665546\ttotal: 1.65s\tremaining: 452ms\n",
      "785:\tlearn: 0.2664581\ttotal: 1.65s\tremaining: 450ms\n",
      "786:\tlearn: 0.2663877\ttotal: 1.65s\tremaining: 448ms\n",
      "787:\tlearn: 0.2662645\ttotal: 1.66s\tremaining: 446ms\n",
      "788:\tlearn: 0.2661738\ttotal: 1.66s\tremaining: 444ms\n",
      "789:\tlearn: 0.2660310\ttotal: 1.66s\tremaining: 442ms\n",
      "790:\tlearn: 0.2659619\ttotal: 1.66s\tremaining: 439ms\n",
      "791:\tlearn: 0.2658622\ttotal: 1.67s\tremaining: 437ms\n",
      "792:\tlearn: 0.2656043\ttotal: 1.67s\tremaining: 435ms\n",
      "793:\tlearn: 0.2654992\ttotal: 1.67s\tremaining: 433ms\n",
      "794:\tlearn: 0.2654142\ttotal: 1.67s\tremaining: 431ms\n",
      "795:\tlearn: 0.2653294\ttotal: 1.67s\tremaining: 429ms\n",
      "796:\tlearn: 0.2652746\ttotal: 1.68s\tremaining: 427ms\n",
      "797:\tlearn: 0.2651997\ttotal: 1.68s\tremaining: 425ms\n",
      "798:\tlearn: 0.2649221\ttotal: 1.68s\tremaining: 423ms\n",
      "799:\tlearn: 0.2648559\ttotal: 1.68s\tremaining: 420ms\n",
      "800:\tlearn: 0.2646873\ttotal: 1.68s\tremaining: 418ms\n",
      "801:\tlearn: 0.2645388\ttotal: 1.69s\tremaining: 416ms\n",
      "802:\tlearn: 0.2643928\ttotal: 1.69s\tremaining: 414ms\n",
      "803:\tlearn: 0.2642598\ttotal: 1.69s\tremaining: 412ms\n",
      "804:\tlearn: 0.2641229\ttotal: 1.69s\tremaining: 410ms\n",
      "805:\tlearn: 0.2639864\ttotal: 1.69s\tremaining: 408ms\n",
      "806:\tlearn: 0.2638993\ttotal: 1.7s\tremaining: 406ms\n",
      "807:\tlearn: 0.2637660\ttotal: 1.7s\tremaining: 404ms\n",
      "808:\tlearn: 0.2633671\ttotal: 1.7s\tremaining: 402ms\n",
      "809:\tlearn: 0.2633199\ttotal: 1.7s\tremaining: 400ms\n",
      "810:\tlearn: 0.2632389\ttotal: 1.71s\tremaining: 397ms\n",
      "811:\tlearn: 0.2631304\ttotal: 1.71s\tremaining: 395ms\n",
      "812:\tlearn: 0.2630733\ttotal: 1.71s\tremaining: 393ms\n",
      "813:\tlearn: 0.2630157\ttotal: 1.71s\tremaining: 391ms\n",
      "814:\tlearn: 0.2626426\ttotal: 1.71s\tremaining: 389ms\n",
      "815:\tlearn: 0.2625164\ttotal: 1.72s\tremaining: 387ms\n",
      "816:\tlearn: 0.2622689\ttotal: 1.72s\tremaining: 385ms\n",
      "817:\tlearn: 0.2621950\ttotal: 1.72s\tremaining: 383ms\n",
      "818:\tlearn: 0.2620863\ttotal: 1.72s\tremaining: 381ms\n",
      "819:\tlearn: 0.2618192\ttotal: 1.73s\tremaining: 379ms\n",
      "820:\tlearn: 0.2617782\ttotal: 1.73s\tremaining: 377ms\n",
      "821:\tlearn: 0.2616924\ttotal: 1.73s\tremaining: 374ms\n",
      "822:\tlearn: 0.2615839\ttotal: 1.73s\tremaining: 372ms\n",
      "823:\tlearn: 0.2613649\ttotal: 1.73s\tremaining: 370ms\n",
      "824:\tlearn: 0.2612308\ttotal: 1.74s\tremaining: 368ms\n",
      "825:\tlearn: 0.2611843\ttotal: 1.74s\tremaining: 366ms\n",
      "826:\tlearn: 0.2611024\ttotal: 1.74s\tremaining: 364ms\n",
      "827:\tlearn: 0.2609777\ttotal: 1.74s\tremaining: 362ms\n",
      "828:\tlearn: 0.2608428\ttotal: 1.74s\tremaining: 359ms\n",
      "829:\tlearn: 0.2607270\ttotal: 1.74s\tremaining: 357ms\n",
      "830:\tlearn: 0.2606656\ttotal: 1.75s\tremaining: 355ms\n",
      "831:\tlearn: 0.2606249\ttotal: 1.75s\tremaining: 353ms\n",
      "832:\tlearn: 0.2605891\ttotal: 1.75s\tremaining: 351ms\n",
      "833:\tlearn: 0.2605169\ttotal: 1.75s\tremaining: 349ms\n",
      "834:\tlearn: 0.2603713\ttotal: 1.75s\tremaining: 347ms\n",
      "835:\tlearn: 0.2603161\ttotal: 1.76s\tremaining: 345ms\n",
      "836:\tlearn: 0.2602374\ttotal: 1.76s\tremaining: 342ms\n",
      "837:\tlearn: 0.2601111\ttotal: 1.76s\tremaining: 340ms\n",
      "838:\tlearn: 0.2600104\ttotal: 1.76s\tremaining: 338ms\n",
      "839:\tlearn: 0.2598492\ttotal: 1.76s\tremaining: 336ms\n",
      "840:\tlearn: 0.2596994\ttotal: 1.77s\tremaining: 334ms\n",
      "841:\tlearn: 0.2596547\ttotal: 1.77s\tremaining: 332ms\n",
      "842:\tlearn: 0.2595146\ttotal: 1.77s\tremaining: 330ms\n",
      "843:\tlearn: 0.2594628\ttotal: 1.77s\tremaining: 328ms\n",
      "844:\tlearn: 0.2593860\ttotal: 1.77s\tremaining: 325ms\n",
      "845:\tlearn: 0.2592904\ttotal: 1.77s\tremaining: 323ms\n",
      "846:\tlearn: 0.2592254\ttotal: 1.78s\tremaining: 321ms\n",
      "847:\tlearn: 0.2589734\ttotal: 1.78s\tremaining: 319ms\n",
      "848:\tlearn: 0.2588418\ttotal: 1.78s\tremaining: 317ms\n",
      "849:\tlearn: 0.2587682\ttotal: 1.78s\tremaining: 315ms\n",
      "850:\tlearn: 0.2586836\ttotal: 1.79s\tremaining: 313ms\n",
      "851:\tlearn: 0.2586452\ttotal: 1.79s\tremaining: 311ms\n",
      "852:\tlearn: 0.2585528\ttotal: 1.79s\tremaining: 308ms\n",
      "853:\tlearn: 0.2584804\ttotal: 1.79s\tremaining: 306ms\n",
      "854:\tlearn: 0.2584091\ttotal: 1.79s\tremaining: 304ms\n",
      "855:\tlearn: 0.2583384\ttotal: 1.79s\tremaining: 302ms\n",
      "856:\tlearn: 0.2582212\ttotal: 1.8s\tremaining: 300ms\n",
      "857:\tlearn: 0.2579814\ttotal: 1.8s\tremaining: 298ms\n",
      "858:\tlearn: 0.2579242\ttotal: 1.8s\tremaining: 296ms\n",
      "859:\tlearn: 0.2576111\ttotal: 1.8s\tremaining: 294ms\n",
      "860:\tlearn: 0.2574913\ttotal: 1.8s\tremaining: 291ms\n",
      "861:\tlearn: 0.2574753\ttotal: 1.81s\tremaining: 289ms\n",
      "862:\tlearn: 0.2573778\ttotal: 1.81s\tremaining: 287ms\n",
      "863:\tlearn: 0.2573101\ttotal: 1.81s\tremaining: 285ms\n",
      "864:\tlearn: 0.2571850\ttotal: 1.81s\tremaining: 283ms\n",
      "865:\tlearn: 0.2570388\ttotal: 1.81s\tremaining: 281ms\n",
      "866:\tlearn: 0.2569928\ttotal: 1.82s\tremaining: 279ms\n",
      "867:\tlearn: 0.2568710\ttotal: 1.82s\tremaining: 277ms\n",
      "868:\tlearn: 0.2567767\ttotal: 1.82s\tremaining: 275ms\n",
      "869:\tlearn: 0.2566694\ttotal: 1.82s\tremaining: 272ms\n",
      "870:\tlearn: 0.2565727\ttotal: 1.82s\tremaining: 270ms\n",
      "871:\tlearn: 0.2565007\ttotal: 1.83s\tremaining: 268ms\n",
      "872:\tlearn: 0.2564348\ttotal: 1.83s\tremaining: 266ms\n",
      "873:\tlearn: 0.2563722\ttotal: 1.83s\tremaining: 264ms\n",
      "874:\tlearn: 0.2562711\ttotal: 1.83s\tremaining: 262ms\n",
      "875:\tlearn: 0.2562315\ttotal: 1.83s\tremaining: 260ms\n",
      "876:\tlearn: 0.2561353\ttotal: 1.83s\tremaining: 258ms\n",
      "877:\tlearn: 0.2560576\ttotal: 1.84s\tremaining: 255ms\n",
      "878:\tlearn: 0.2558590\ttotal: 1.84s\tremaining: 253ms\n",
      "879:\tlearn: 0.2558231\ttotal: 1.84s\tremaining: 251ms\n",
      "880:\tlearn: 0.2556108\ttotal: 1.84s\tremaining: 249ms\n",
      "881:\tlearn: 0.2555497\ttotal: 1.84s\tremaining: 247ms\n",
      "882:\tlearn: 0.2554377\ttotal: 1.85s\tremaining: 245ms\n",
      "883:\tlearn: 0.2554030\ttotal: 1.85s\tremaining: 243ms\n",
      "884:\tlearn: 0.2552974\ttotal: 1.85s\tremaining: 241ms\n",
      "885:\tlearn: 0.2551815\ttotal: 1.85s\tremaining: 238ms\n",
      "886:\tlearn: 0.2549543\ttotal: 1.85s\tremaining: 236ms\n",
      "887:\tlearn: 0.2548346\ttotal: 1.86s\tremaining: 234ms\n",
      "888:\tlearn: 0.2547095\ttotal: 1.86s\tremaining: 232ms\n",
      "889:\tlearn: 0.2545894\ttotal: 1.86s\tremaining: 230ms\n",
      "890:\tlearn: 0.2544784\ttotal: 1.86s\tremaining: 228ms\n",
      "891:\tlearn: 0.2544145\ttotal: 1.86s\tremaining: 226ms\n",
      "892:\tlearn: 0.2542755\ttotal: 1.87s\tremaining: 224ms\n",
      "893:\tlearn: 0.2541918\ttotal: 1.87s\tremaining: 222ms\n",
      "894:\tlearn: 0.2541304\ttotal: 1.87s\tremaining: 219ms\n",
      "895:\tlearn: 0.2539997\ttotal: 1.87s\tremaining: 217ms\n",
      "896:\tlearn: 0.2538899\ttotal: 1.87s\tremaining: 215ms\n",
      "897:\tlearn: 0.2538292\ttotal: 1.88s\tremaining: 213ms\n",
      "898:\tlearn: 0.2535490\ttotal: 1.88s\tremaining: 211ms\n",
      "899:\tlearn: 0.2533254\ttotal: 1.88s\tremaining: 209ms\n",
      "900:\tlearn: 0.2531121\ttotal: 1.88s\tremaining: 207ms\n",
      "901:\tlearn: 0.2530681\ttotal: 1.88s\tremaining: 205ms\n",
      "902:\tlearn: 0.2529162\ttotal: 1.89s\tremaining: 203ms\n",
      "903:\tlearn: 0.2527787\ttotal: 1.89s\tremaining: 200ms\n",
      "904:\tlearn: 0.2525782\ttotal: 1.89s\tremaining: 198ms\n",
      "905:\tlearn: 0.2524999\ttotal: 1.89s\tremaining: 196ms\n",
      "906:\tlearn: 0.2524855\ttotal: 1.89s\tremaining: 194ms\n",
      "907:\tlearn: 0.2524472\ttotal: 1.9s\tremaining: 192ms\n",
      "908:\tlearn: 0.2523179\ttotal: 1.9s\tremaining: 190ms\n",
      "909:\tlearn: 0.2521921\ttotal: 1.9s\tremaining: 188ms\n",
      "910:\tlearn: 0.2521305\ttotal: 1.9s\tremaining: 186ms\n",
      "911:\tlearn: 0.2520509\ttotal: 1.9s\tremaining: 184ms\n",
      "912:\tlearn: 0.2519805\ttotal: 1.91s\tremaining: 182ms\n",
      "913:\tlearn: 0.2518904\ttotal: 1.91s\tremaining: 179ms\n",
      "914:\tlearn: 0.2517855\ttotal: 1.91s\tremaining: 177ms\n",
      "915:\tlearn: 0.2517275\ttotal: 1.91s\tremaining: 175ms\n",
      "916:\tlearn: 0.2515257\ttotal: 1.91s\tremaining: 173ms\n",
      "917:\tlearn: 0.2514571\ttotal: 1.92s\tremaining: 171ms\n",
      "918:\tlearn: 0.2513768\ttotal: 1.92s\tremaining: 169ms\n",
      "919:\tlearn: 0.2513060\ttotal: 1.92s\tremaining: 167ms\n",
      "920:\tlearn: 0.2512469\ttotal: 1.92s\tremaining: 165ms\n",
      "921:\tlearn: 0.2511745\ttotal: 1.92s\tremaining: 163ms\n",
      "922:\tlearn: 0.2510996\ttotal: 1.93s\tremaining: 161ms\n",
      "923:\tlearn: 0.2510177\ttotal: 1.93s\tremaining: 159ms\n",
      "924:\tlearn: 0.2509145\ttotal: 1.93s\tremaining: 157ms\n",
      "925:\tlearn: 0.2508494\ttotal: 1.93s\tremaining: 154ms\n",
      "926:\tlearn: 0.2507459\ttotal: 1.94s\tremaining: 152ms\n",
      "927:\tlearn: 0.2505818\ttotal: 1.94s\tremaining: 150ms\n",
      "928:\tlearn: 0.2504455\ttotal: 1.94s\tremaining: 148ms\n",
      "929:\tlearn: 0.2503161\ttotal: 1.94s\tremaining: 146ms\n",
      "930:\tlearn: 0.2502736\ttotal: 1.94s\tremaining: 144ms\n",
      "931:\tlearn: 0.2501565\ttotal: 1.95s\tremaining: 142ms\n",
      "932:\tlearn: 0.2500931\ttotal: 1.95s\tremaining: 140ms\n",
      "933:\tlearn: 0.2500366\ttotal: 1.95s\tremaining: 138ms\n",
      "934:\tlearn: 0.2499829\ttotal: 1.95s\tremaining: 136ms\n",
      "935:\tlearn: 0.2499109\ttotal: 1.95s\tremaining: 134ms\n",
      "936:\tlearn: 0.2498208\ttotal: 1.96s\tremaining: 132ms\n",
      "937:\tlearn: 0.2496638\ttotal: 1.96s\tremaining: 129ms\n",
      "938:\tlearn: 0.2495044\ttotal: 1.96s\tremaining: 127ms\n",
      "939:\tlearn: 0.2493382\ttotal: 1.96s\tremaining: 125ms\n",
      "940:\tlearn: 0.2492878\ttotal: 1.96s\tremaining: 123ms\n",
      "941:\tlearn: 0.2491815\ttotal: 1.97s\tremaining: 121ms\n",
      "942:\tlearn: 0.2491681\ttotal: 1.97s\tremaining: 119ms\n",
      "943:\tlearn: 0.2491222\ttotal: 1.97s\tremaining: 117ms\n",
      "944:\tlearn: 0.2490739\ttotal: 1.97s\tremaining: 115ms\n",
      "945:\tlearn: 0.2489963\ttotal: 1.97s\tremaining: 113ms\n",
      "946:\tlearn: 0.2489481\ttotal: 1.98s\tremaining: 111ms\n",
      "947:\tlearn: 0.2487859\ttotal: 1.98s\tremaining: 109ms\n",
      "948:\tlearn: 0.2486361\ttotal: 1.98s\tremaining: 106ms\n",
      "949:\tlearn: 0.2485800\ttotal: 1.98s\tremaining: 104ms\n",
      "950:\tlearn: 0.2485031\ttotal: 1.98s\tremaining: 102ms\n",
      "951:\tlearn: 0.2484363\ttotal: 1.99s\tremaining: 100ms\n",
      "952:\tlearn: 0.2483721\ttotal: 1.99s\tremaining: 98.1ms\n",
      "953:\tlearn: 0.2483088\ttotal: 1.99s\tremaining: 96ms\n",
      "954:\tlearn: 0.2482149\ttotal: 1.99s\tremaining: 93.9ms\n",
      "955:\tlearn: 0.2481470\ttotal: 1.99s\tremaining: 91.8ms\n",
      "956:\tlearn: 0.2480847\ttotal: 2s\tremaining: 89.7ms\n",
      "957:\tlearn: 0.2479999\ttotal: 2s\tremaining: 87.6ms\n",
      "958:\tlearn: 0.2479540\ttotal: 2s\tremaining: 85.5ms\n",
      "959:\tlearn: 0.2478326\ttotal: 2s\tremaining: 83.5ms\n",
      "960:\tlearn: 0.2477088\ttotal: 2s\tremaining: 81.4ms\n",
      "961:\tlearn: 0.2474662\ttotal: 2.01s\tremaining: 79.3ms\n",
      "962:\tlearn: 0.2473818\ttotal: 2.01s\tremaining: 77.2ms\n",
      "963:\tlearn: 0.2472594\ttotal: 2.01s\tremaining: 75.1ms\n",
      "964:\tlearn: 0.2472462\ttotal: 2.01s\tremaining: 73ms\n",
      "965:\tlearn: 0.2472122\ttotal: 2.01s\tremaining: 70.9ms\n",
      "966:\tlearn: 0.2471025\ttotal: 2.02s\tremaining: 68.8ms\n",
      "967:\tlearn: 0.2470591\ttotal: 2.02s\tremaining: 66.7ms\n",
      "968:\tlearn: 0.2470104\ttotal: 2.02s\tremaining: 64.6ms\n",
      "969:\tlearn: 0.2469776\ttotal: 2.02s\tremaining: 62.6ms\n",
      "970:\tlearn: 0.2469123\ttotal: 2.02s\tremaining: 60.5ms\n",
      "971:\tlearn: 0.2468161\ttotal: 2.03s\tremaining: 58.4ms\n",
      "972:\tlearn: 0.2467347\ttotal: 2.03s\tremaining: 56.3ms\n",
      "973:\tlearn: 0.2466569\ttotal: 2.03s\tremaining: 54.2ms\n",
      "974:\tlearn: 0.2465980\ttotal: 2.03s\tremaining: 52.1ms\n",
      "975:\tlearn: 0.2464679\ttotal: 2.03s\tremaining: 50ms\n",
      "976:\tlearn: 0.2464376\ttotal: 2.04s\tremaining: 47.9ms\n",
      "977:\tlearn: 0.2462713\ttotal: 2.04s\tremaining: 45.9ms\n",
      "978:\tlearn: 0.2461974\ttotal: 2.04s\tremaining: 43.8ms\n",
      "979:\tlearn: 0.2461244\ttotal: 2.04s\tremaining: 41.7ms\n",
      "980:\tlearn: 0.2460241\ttotal: 2.05s\tremaining: 39.6ms\n",
      "981:\tlearn: 0.2459325\ttotal: 2.05s\tremaining: 37.6ms\n",
      "982:\tlearn: 0.2456925\ttotal: 2.05s\tremaining: 35.5ms\n",
      "983:\tlearn: 0.2455308\ttotal: 2.05s\tremaining: 33.4ms\n",
      "984:\tlearn: 0.2454085\ttotal: 2.06s\tremaining: 31.3ms\n",
      "985:\tlearn: 0.2453172\ttotal: 2.06s\tremaining: 29.2ms\n",
      "986:\tlearn: 0.2452177\ttotal: 2.06s\tremaining: 27.2ms\n",
      "987:\tlearn: 0.2451626\ttotal: 2.06s\tremaining: 25.1ms\n",
      "988:\tlearn: 0.2450666\ttotal: 2.07s\tremaining: 23ms\n",
      "989:\tlearn: 0.2449206\ttotal: 2.07s\tremaining: 20.9ms\n",
      "990:\tlearn: 0.2447950\ttotal: 2.07s\tremaining: 18.8ms\n",
      "991:\tlearn: 0.2447322\ttotal: 2.07s\tremaining: 16.7ms\n",
      "992:\tlearn: 0.2447002\ttotal: 2.07s\tremaining: 14.6ms\n",
      "993:\tlearn: 0.2446877\ttotal: 2.08s\tremaining: 12.5ms\n",
      "994:\tlearn: 0.2445482\ttotal: 2.08s\tremaining: 10.5ms\n",
      "995:\tlearn: 0.2444986\ttotal: 2.08s\tremaining: 8.37ms\n",
      "996:\tlearn: 0.2443765\ttotal: 2.08s\tremaining: 6.28ms\n",
      "997:\tlearn: 0.2443025\ttotal: 2.09s\tremaining: 4.18ms\n",
      "998:\tlearn: 0.2441973\ttotal: 2.09s\tremaining: 2.09ms\n",
      "999:\tlearn: 0.2441200\ttotal: 2.09s\tremaining: 0us\n"
     ]
    },
    {
     "data": {
      "image/png": "[encoded data removed]",
      "text/plain": [
       "<Figure size 432x288 with 1 Axes>"
      ]
     },
     "metadata": {
      "needs_background": "light"
     },
     "output_type": "display_data"
    }
   ],
   "source": [
    "take_res(CatBoostClassifier())"
   ]
  },
  {
   "cell_type": "markdown",
   "id": "2b945a4f",
   "metadata": {},
   "source": [
    "Вывод: Наиболее значимыми парметрами для CatBoost оказались пармтеры sumdays,monthlycharges, type"
   ]
  },
  {
   "cell_type": "code",
   "execution_count": 53,
   "id": "23c70c27",
   "metadata": {},
   "outputs": [
    {
     "name": "stdout",
     "output_type": "stream",
     "text": [
      "TRAIN ROC-AUC:  0.8563132151562511\n",
      "BEST MODEL Pipeline(steps=[('sc', StandardScaler()),\n",
      "                ('mod',\n",
      "                 RandomForestClassifier(class_weight='balanced',\n",
      "                                        criterion='entropy', max_depth=5,\n",
      "                                        n_estimators=300,\n",
      "                                        random_state=250722))])\n",
      "TEST ROC-AUC 0.8584803101914884\n"
     ]
    },
    {
     "data": {
      "image/png": "[encoded data removed]",
      "text/plain": [
       "<Figure size 432x288 with 1 Axes>"
      ]
     },
     "metadata": {
      "needs_background": "light"
     },
     "output_type": "display_data"
    }
   ],
   "source": [
    "take_res(RandomForestClassifier())"
   ]
  },
  {
   "cell_type": "markdown",
   "id": "48d9d3ad",
   "metadata": {},
   "source": [
    "Вывод: наиболее значимые признаки для модели RandomForest оказались sumdays, monthlycharges, totalcharges"
   ]
  },
  {
   "cell_type": "markdown",
   "id": "6cda3ba2",
   "metadata": {},
   "source": [
    "### Вывод:наилучшие результаты  на тестовой выборке у модели LGBMClassifier со значением:\n",
    "\n",
    "### TEST ROC-AUC 0.0.9230189831807051\n",
    "### TEST accuracy 0.8670931058990761\n",
    "\n",
    "###  Поставленная задача по потроению модели машинного обучения для прогнозирования ухода клиентов выполнена. Данную модель можно использовать для прогнозирования оттока клиентов и выбирать наиболее правильные промоакции для удержания клиентов. Компания может выгружать данные каждый месяц, находить время жизни клиента и тем самым обеспечаить работы моделей градиентного бустинга."
   ]
  }
 ],
 "metadata": {
  "ExecuteTimeLog": [
   {
    "duration": 1468,
    "start_time": "2022-08-02T18:47:48.744Z"
   },
   {
    "duration": 2072,
    "start_time": "2022-08-02T18:47:50.214Z"
   },
   {
    "duration": 1855,
    "start_time": "2022-08-02T18:47:52.288Z"
   },
   {
    "duration": 22,
    "start_time": "2022-08-02T18:47:54.145Z"
   },
   {
    "duration": 3,
    "start_time": "2022-08-02T18:47:54.169Z"
   },
   {
    "duration": 26,
    "start_time": "2022-08-02T18:47:54.173Z"
   },
   {
    "duration": 136,
    "start_time": "2022-08-02T18:47:54.201Z"
   },
   {
    "duration": 0,
    "start_time": "2022-08-02T18:47:54.340Z"
   },
   {
    "duration": 0,
    "start_time": "2022-08-02T18:47:54.341Z"
   },
   {
    "duration": 0,
    "start_time": "2022-08-02T18:47:54.342Z"
   },
   {
    "duration": 0,
    "start_time": "2022-08-02T18:47:54.343Z"
   },
   {
    "duration": 0,
    "start_time": "2022-08-02T18:47:54.344Z"
   },
   {
    "duration": 0,
    "start_time": "2022-08-02T18:47:54.357Z"
   },
   {
    "duration": 0,
    "start_time": "2022-08-02T18:47:54.358Z"
   },
   {
    "duration": 0,
    "start_time": "2022-08-02T18:47:54.359Z"
   },
   {
    "duration": 0,
    "start_time": "2022-08-02T18:47:54.360Z"
   },
   {
    "duration": 0,
    "start_time": "2022-08-02T18:47:54.361Z"
   },
   {
    "duration": 0,
    "start_time": "2022-08-02T18:47:54.362Z"
   },
   {
    "duration": 0,
    "start_time": "2022-08-02T18:47:54.363Z"
   },
   {
    "duration": 0,
    "start_time": "2022-08-02T18:47:54.365Z"
   },
   {
    "duration": 0,
    "start_time": "2022-08-02T18:47:54.366Z"
   },
   {
    "duration": 0,
    "start_time": "2022-08-02T18:47:54.366Z"
   },
   {
    "duration": 0,
    "start_time": "2022-08-02T18:47:54.368Z"
   },
   {
    "duration": 0,
    "start_time": "2022-08-02T18:47:54.368Z"
   },
   {
    "duration": 1,
    "start_time": "2022-08-02T18:47:54.369Z"
   },
   {
    "duration": 0,
    "start_time": "2022-08-02T18:47:54.371Z"
   },
   {
    "duration": 0,
    "start_time": "2022-08-02T18:47:54.372Z"
   },
   {
    "duration": 0,
    "start_time": "2022-08-02T18:47:54.374Z"
   },
   {
    "duration": 0,
    "start_time": "2022-08-02T18:47:54.375Z"
   },
   {
    "duration": 0,
    "start_time": "2022-08-02T18:47:54.376Z"
   },
   {
    "duration": 0,
    "start_time": "2022-08-02T18:47:54.377Z"
   },
   {
    "duration": 0,
    "start_time": "2022-08-02T18:47:54.378Z"
   },
   {
    "duration": 0,
    "start_time": "2022-08-02T18:47:54.380Z"
   },
   {
    "duration": 0,
    "start_time": "2022-08-02T18:47:54.381Z"
   },
   {
    "duration": 0,
    "start_time": "2022-08-02T18:47:54.382Z"
   },
   {
    "duration": 0,
    "start_time": "2022-08-02T18:47:54.384Z"
   },
   {
    "duration": 0,
    "start_time": "2022-08-02T18:47:54.385Z"
   },
   {
    "duration": 0,
    "start_time": "2022-08-02T18:47:54.386Z"
   },
   {
    "duration": 0,
    "start_time": "2022-08-02T18:47:54.389Z"
   },
   {
    "duration": 0,
    "start_time": "2022-08-02T18:47:54.390Z"
   },
   {
    "duration": 0,
    "start_time": "2022-08-02T18:47:54.392Z"
   },
   {
    "duration": 0,
    "start_time": "2022-08-02T18:47:54.393Z"
   },
   {
    "duration": 0,
    "start_time": "2022-08-02T18:47:54.395Z"
   },
   {
    "duration": 0,
    "start_time": "2022-08-02T18:47:54.396Z"
   },
   {
    "duration": 0,
    "start_time": "2022-08-02T18:47:54.397Z"
   },
   {
    "duration": 0,
    "start_time": "2022-08-02T18:47:54.398Z"
   },
   {
    "duration": 0,
    "start_time": "2022-08-02T18:47:54.399Z"
   },
   {
    "duration": 0,
    "start_time": "2022-08-02T18:47:54.456Z"
   },
   {
    "duration": 0,
    "start_time": "2022-08-02T18:47:54.458Z"
   },
   {
    "duration": 0,
    "start_time": "2022-08-02T18:47:54.459Z"
   },
   {
    "duration": 0,
    "start_time": "2022-08-02T18:47:54.461Z"
   },
   {
    "duration": 0,
    "start_time": "2022-08-02T18:47:54.461Z"
   },
   {
    "duration": 290,
    "start_time": "2022-08-02T18:52:25.539Z"
   },
   {
    "duration": 3,
    "start_time": "2022-08-02T18:52:29.477Z"
   },
   {
    "duration": 83,
    "start_time": "2022-08-02T18:52:32.081Z"
   },
   {
    "duration": 1350,
    "start_time": "2022-08-02T18:52:38.570Z"
   },
   {
    "duration": 1883,
    "start_time": "2022-08-02T18:52:39.922Z"
   },
   {
    "duration": 1786,
    "start_time": "2022-08-02T18:52:41.807Z"
   },
   {
    "duration": 23,
    "start_time": "2022-08-02T18:52:43.595Z"
   },
   {
    "duration": 4,
    "start_time": "2022-08-02T18:52:43.619Z"
   },
   {
    "duration": 31,
    "start_time": "2022-08-02T18:52:43.625Z"
   },
   {
    "duration": 97,
    "start_time": "2022-08-02T18:52:43.657Z"
   },
   {
    "duration": 5,
    "start_time": "2022-08-02T18:52:43.755Z"
   },
   {
    "duration": 106,
    "start_time": "2022-08-02T18:52:43.761Z"
   },
   {
    "duration": 2,
    "start_time": "2022-08-02T18:52:43.870Z"
   },
   {
    "duration": 8,
    "start_time": "2022-08-02T18:52:43.873Z"
   },
   {
    "duration": 25,
    "start_time": "2022-08-02T18:52:43.882Z"
   },
   {
    "duration": 2,
    "start_time": "2022-08-02T18:52:43.909Z"
   },
   {
    "duration": 68,
    "start_time": "2022-08-02T18:52:43.913Z"
   },
   {
    "duration": 5,
    "start_time": "2022-08-02T18:52:43.983Z"
   },
   {
    "duration": 25,
    "start_time": "2022-08-02T18:52:43.989Z"
   },
   {
    "duration": 41,
    "start_time": "2022-08-02T18:52:44.015Z"
   },
   {
    "duration": 18,
    "start_time": "2022-08-02T18:52:44.057Z"
   },
   {
    "duration": 27,
    "start_time": "2022-08-02T18:52:44.077Z"
   },
   {
    "duration": 10,
    "start_time": "2022-08-02T18:52:44.105Z"
   },
   {
    "duration": 12,
    "start_time": "2022-08-02T18:52:44.116Z"
   },
   {
    "duration": 7,
    "start_time": "2022-08-02T18:52:44.129Z"
   },
   {
    "duration": 17,
    "start_time": "2022-08-02T18:52:44.137Z"
   },
   {
    "duration": 18,
    "start_time": "2022-08-02T18:52:44.155Z"
   },
   {
    "duration": 8,
    "start_time": "2022-08-02T18:52:44.174Z"
   },
   {
    "duration": 11,
    "start_time": "2022-08-02T18:52:44.184Z"
   },
   {
    "duration": 12,
    "start_time": "2022-08-02T18:52:44.197Z"
   },
   {
    "duration": 15,
    "start_time": "2022-08-02T18:52:44.212Z"
   },
   {
    "duration": 15,
    "start_time": "2022-08-02T18:52:44.229Z"
   },
   {
    "duration": 3,
    "start_time": "2022-08-02T18:52:44.246Z"
   },
   {
    "duration": 31,
    "start_time": "2022-08-02T18:52:44.250Z"
   },
   {
    "duration": 12,
    "start_time": "2022-08-02T18:52:44.282Z"
   },
   {
    "duration": 7,
    "start_time": "2022-08-02T18:52:44.296Z"
   },
   {
    "duration": 7,
    "start_time": "2022-08-02T18:52:44.305Z"
   },
   {
    "duration": 6,
    "start_time": "2022-08-02T18:52:44.313Z"
   },
   {
    "duration": 6,
    "start_time": "2022-08-02T18:52:44.321Z"
   },
   {
    "duration": 10,
    "start_time": "2022-08-02T18:52:44.329Z"
   },
   {
    "duration": 24,
    "start_time": "2022-08-02T18:52:44.341Z"
   },
   {
    "duration": 17,
    "start_time": "2022-08-02T18:52:44.367Z"
   },
   {
    "duration": 3,
    "start_time": "2022-08-02T18:52:44.385Z"
   },
   {
    "duration": 145,
    "start_time": "2022-08-02T18:52:44.389Z"
   },
   {
    "duration": 115,
    "start_time": "2022-08-02T18:52:44.536Z"
   },
   {
    "duration": 190,
    "start_time": "2022-08-02T18:52:44.652Z"
   },
   {
    "duration": 116,
    "start_time": "2022-08-02T18:52:44.844Z"
   },
   {
    "duration": 98,
    "start_time": "2022-08-02T18:52:44.961Z"
   },
   {
    "duration": 97,
    "start_time": "2022-08-02T18:52:45.060Z"
   },
   {
    "duration": 135,
    "start_time": "2022-08-02T18:52:45.159Z"
   },
   {
    "duration": 13,
    "start_time": "2022-08-02T18:52:45.296Z"
   },
   {
    "duration": 4749,
    "start_time": "2022-08-02T18:52:45.312Z"
   },
   {
    "duration": 120,
    "start_time": "2022-08-02T18:52:50.066Z"
   },
   {
    "duration": 0,
    "start_time": "2022-08-02T18:52:50.188Z"
   },
   {
    "duration": 0,
    "start_time": "2022-08-02T18:52:50.189Z"
   },
   {
    "duration": 1346,
    "start_time": "2022-08-02T18:53:47.491Z"
   },
   {
    "duration": 1873,
    "start_time": "2022-08-02T18:53:48.838Z"
   },
   {
    "duration": 2017,
    "start_time": "2022-08-02T18:53:50.713Z"
   },
   {
    "duration": 22,
    "start_time": "2022-08-02T18:53:52.732Z"
   },
   {
    "duration": 16,
    "start_time": "2022-08-02T18:53:52.756Z"
   },
   {
    "duration": 29,
    "start_time": "2022-08-02T18:53:52.774Z"
   },
   {
    "duration": 114,
    "start_time": "2022-08-02T18:53:52.805Z"
   },
   {
    "duration": 5,
    "start_time": "2022-08-02T18:53:52.920Z"
   },
   {
    "duration": 108,
    "start_time": "2022-08-02T18:53:52.926Z"
   },
   {
    "duration": 4,
    "start_time": "2022-08-02T18:53:53.062Z"
   },
   {
    "duration": 12,
    "start_time": "2022-08-02T18:53:53.072Z"
   },
   {
    "duration": 45,
    "start_time": "2022-08-02T18:53:53.086Z"
   },
   {
    "duration": 3,
    "start_time": "2022-08-02T18:53:53.133Z"
   },
   {
    "duration": 81,
    "start_time": "2022-08-02T18:53:53.137Z"
   },
   {
    "duration": 6,
    "start_time": "2022-08-02T18:53:53.220Z"
   },
   {
    "duration": 17,
    "start_time": "2022-08-02T18:53:53.227Z"
   },
   {
    "duration": 51,
    "start_time": "2022-08-02T18:53:53.246Z"
   },
   {
    "duration": 12,
    "start_time": "2022-08-02T18:53:53.299Z"
   },
   {
    "duration": 35,
    "start_time": "2022-08-02T18:53:53.313Z"
   },
   {
    "duration": 31,
    "start_time": "2022-08-02T18:53:53.349Z"
   },
   {
    "duration": 18,
    "start_time": "2022-08-02T18:53:53.381Z"
   },
   {
    "duration": 16,
    "start_time": "2022-08-02T18:53:53.401Z"
   },
   {
    "duration": 10,
    "start_time": "2022-08-02T18:53:53.418Z"
   },
   {
    "duration": 31,
    "start_time": "2022-08-02T18:53:53.429Z"
   },
   {
    "duration": 44,
    "start_time": "2022-08-02T18:53:53.464Z"
   },
   {
    "duration": 17,
    "start_time": "2022-08-02T18:53:53.509Z"
   },
   {
    "duration": 18,
    "start_time": "2022-08-02T18:53:53.527Z"
   },
   {
    "duration": 23,
    "start_time": "2022-08-02T18:53:53.548Z"
   },
   {
    "duration": 29,
    "start_time": "2022-08-02T18:53:53.573Z"
   },
   {
    "duration": 4,
    "start_time": "2022-08-02T18:53:53.603Z"
   },
   {
    "duration": 36,
    "start_time": "2022-08-02T18:53:53.608Z"
   },
   {
    "duration": 23,
    "start_time": "2022-08-02T18:53:53.646Z"
   },
   {
    "duration": 21,
    "start_time": "2022-08-02T18:53:53.671Z"
   },
   {
    "duration": 24,
    "start_time": "2022-08-02T18:53:53.694Z"
   },
   {
    "duration": 27,
    "start_time": "2022-08-02T18:53:53.720Z"
   },
   {
    "duration": 39,
    "start_time": "2022-08-02T18:53:53.749Z"
   },
   {
    "duration": 28,
    "start_time": "2022-08-02T18:53:53.789Z"
   },
   {
    "duration": 27,
    "start_time": "2022-08-02T18:53:53.818Z"
   },
   {
    "duration": 48,
    "start_time": "2022-08-02T18:53:53.846Z"
   },
   {
    "duration": 7,
    "start_time": "2022-08-02T18:53:53.896Z"
   },
   {
    "duration": 150,
    "start_time": "2022-08-02T18:53:53.904Z"
   },
   {
    "duration": 119,
    "start_time": "2022-08-02T18:53:54.056Z"
   },
   {
    "duration": 206,
    "start_time": "2022-08-02T18:53:54.177Z"
   },
   {
    "duration": 108,
    "start_time": "2022-08-02T18:53:54.385Z"
   },
   {
    "duration": 99,
    "start_time": "2022-08-02T18:53:54.495Z"
   },
   {
    "duration": 94,
    "start_time": "2022-08-02T18:53:54.596Z"
   },
   {
    "duration": 122,
    "start_time": "2022-08-02T18:53:54.691Z"
   },
   {
    "duration": 9,
    "start_time": "2022-08-02T18:53:54.815Z"
   },
   {
    "duration": 5543,
    "start_time": "2022-08-02T18:53:54.825Z"
   },
   {
    "duration": 188391,
    "start_time": "2022-08-02T18:54:00.370Z"
   },
   {
    "duration": 322352,
    "start_time": "2022-08-02T18:57:08.763Z"
   },
   {
    "duration": 59275,
    "start_time": "2022-08-02T19:02:31.117Z"
   },
   {
    "duration": 2268,
    "start_time": "2022-08-04T10:35:04.427Z"
   },
   {
    "duration": 2687,
    "start_time": "2022-08-04T10:35:06.697Z"
   },
   {
    "duration": 2798,
    "start_time": "2022-08-04T10:35:09.386Z"
   },
   {
    "duration": 20,
    "start_time": "2022-08-04T10:35:12.186Z"
   },
   {
    "duration": 25,
    "start_time": "2022-08-04T10:35:12.207Z"
   },
   {
    "duration": 56,
    "start_time": "2022-08-04T10:35:12.234Z"
   },
   {
    "duration": 304,
    "start_time": "2022-08-04T10:35:12.291Z"
   },
   {
    "duration": 3,
    "start_time": "2022-08-04T10:35:12.597Z"
   },
   {
    "duration": 105,
    "start_time": "2022-08-04T10:35:12.601Z"
   },
   {
    "duration": 3,
    "start_time": "2022-08-04T10:35:12.708Z"
   },
   {
    "duration": 14,
    "start_time": "2022-08-04T10:35:12.712Z"
   },
   {
    "duration": 42,
    "start_time": "2022-08-04T10:35:12.728Z"
   },
   {
    "duration": 7,
    "start_time": "2022-08-04T10:35:12.771Z"
   },
   {
    "duration": 65,
    "start_time": "2022-08-04T10:35:12.780Z"
   },
   {
    "duration": 5,
    "start_time": "2022-08-04T10:35:12.847Z"
   },
   {
    "duration": 21,
    "start_time": "2022-08-04T10:35:12.853Z"
   },
   {
    "duration": 27,
    "start_time": "2022-08-04T10:35:12.876Z"
   },
   {
    "duration": 20,
    "start_time": "2022-08-04T10:35:12.905Z"
   },
   {
    "duration": 33,
    "start_time": "2022-08-04T10:35:12.927Z"
   },
   {
    "duration": 19,
    "start_time": "2022-08-04T10:35:12.962Z"
   },
   {
    "duration": 21,
    "start_time": "2022-08-04T10:35:12.983Z"
   },
   {
    "duration": 28,
    "start_time": "2022-08-04T10:35:13.005Z"
   },
   {
    "duration": 27,
    "start_time": "2022-08-04T10:35:13.035Z"
   },
   {
    "duration": 27,
    "start_time": "2022-08-04T10:35:13.063Z"
   },
   {
    "duration": 23,
    "start_time": "2022-08-04T10:35:13.092Z"
   },
   {
    "duration": 17,
    "start_time": "2022-08-04T10:35:13.117Z"
   },
   {
    "duration": 15,
    "start_time": "2022-08-04T10:35:13.136Z"
   },
   {
    "duration": 22,
    "start_time": "2022-08-04T10:35:13.154Z"
   },
   {
    "duration": 18,
    "start_time": "2022-08-04T10:35:13.178Z"
   },
   {
    "duration": 21,
    "start_time": "2022-08-04T10:35:13.197Z"
   },
   {
    "duration": 49,
    "start_time": "2022-08-04T10:35:13.220Z"
   },
   {
    "duration": 12,
    "start_time": "2022-08-04T10:35:13.270Z"
   },
   {
    "duration": 18,
    "start_time": "2022-08-04T10:35:13.284Z"
   },
   {
    "duration": 18,
    "start_time": "2022-08-04T10:35:13.303Z"
   },
   {
    "duration": 24,
    "start_time": "2022-08-04T10:35:13.322Z"
   },
   {
    "duration": 17,
    "start_time": "2022-08-04T10:35:13.347Z"
   },
   {
    "duration": 27,
    "start_time": "2022-08-04T10:35:13.365Z"
   },
   {
    "duration": 33,
    "start_time": "2022-08-04T10:35:13.393Z"
   },
   {
    "duration": 39,
    "start_time": "2022-08-04T10:35:13.427Z"
   },
   {
    "duration": 21,
    "start_time": "2022-08-04T10:35:13.468Z"
   },
   {
    "duration": 140,
    "start_time": "2022-08-04T10:35:13.490Z"
   },
   {
    "duration": 110,
    "start_time": "2022-08-04T10:35:13.631Z"
   },
   {
    "duration": 193,
    "start_time": "2022-08-04T10:35:13.743Z"
   },
   {
    "duration": 94,
    "start_time": "2022-08-04T10:35:13.938Z"
   },
   {
    "duration": 100,
    "start_time": "2022-08-04T10:35:14.033Z"
   },
   {
    "duration": 99,
    "start_time": "2022-08-04T10:35:14.134Z"
   },
   {
    "duration": 120,
    "start_time": "2022-08-04T10:35:14.235Z"
   },
   {
    "duration": 10,
    "start_time": "2022-08-04T10:35:14.357Z"
   },
   {
    "duration": 109,
    "start_time": "2022-08-04T10:35:14.368Z"
   },
   {
    "duration": 0,
    "start_time": "2022-08-04T10:35:14.478Z"
   },
   {
    "duration": 0,
    "start_time": "2022-08-04T10:35:14.479Z"
   },
   {
    "duration": 0,
    "start_time": "2022-08-04T10:35:14.480Z"
   },
   {
    "duration": 1748,
    "start_time": "2022-08-04T10:40:15.799Z"
   },
   {
    "duration": 2810,
    "start_time": "2022-08-04T10:40:17.549Z"
   },
   {
    "duration": 3257,
    "start_time": "2022-08-04T10:40:20.361Z"
   },
   {
    "duration": 21,
    "start_time": "2022-08-04T10:40:23.620Z"
   },
   {
    "duration": 2,
    "start_time": "2022-08-04T10:40:23.643Z"
   },
   {
    "duration": 25,
    "start_time": "2022-08-04T10:40:23.647Z"
   },
   {
    "duration": 104,
    "start_time": "2022-08-04T10:40:23.673Z"
   },
   {
    "duration": 3,
    "start_time": "2022-08-04T10:40:23.779Z"
   },
   {
    "duration": 77,
    "start_time": "2022-08-04T10:40:23.783Z"
   },
   {
    "duration": 3,
    "start_time": "2022-08-04T10:40:23.862Z"
   },
   {
    "duration": 6,
    "start_time": "2022-08-04T10:40:23.867Z"
   },
   {
    "duration": 46,
    "start_time": "2022-08-04T10:40:23.874Z"
   },
   {
    "duration": 3,
    "start_time": "2022-08-04T10:40:23.922Z"
   },
   {
    "duration": 43,
    "start_time": "2022-08-04T10:40:23.927Z"
   },
   {
    "duration": 6,
    "start_time": "2022-08-04T10:40:23.972Z"
   },
   {
    "duration": 31,
    "start_time": "2022-08-04T10:40:23.980Z"
   },
   {
    "duration": 6,
    "start_time": "2022-08-04T10:40:24.013Z"
   },
   {
    "duration": 5,
    "start_time": "2022-08-04T10:40:24.021Z"
   },
   {
    "duration": 25,
    "start_time": "2022-08-04T10:40:24.027Z"
   },
   {
    "duration": 10,
    "start_time": "2022-08-04T10:40:24.053Z"
   },
   {
    "duration": 43,
    "start_time": "2022-08-04T10:40:24.064Z"
   },
   {
    "duration": 5,
    "start_time": "2022-08-04T10:40:24.108Z"
   },
   {
    "duration": 5,
    "start_time": "2022-08-04T10:40:24.114Z"
   },
   {
    "duration": 10,
    "start_time": "2022-08-04T10:40:24.120Z"
   },
   {
    "duration": 10,
    "start_time": "2022-08-04T10:40:24.131Z"
   },
   {
    "duration": 5,
    "start_time": "2022-08-04T10:40:24.142Z"
   },
   {
    "duration": 8,
    "start_time": "2022-08-04T10:40:24.149Z"
   },
   {
    "duration": 7,
    "start_time": "2022-08-04T10:40:24.160Z"
   },
   {
    "duration": 39,
    "start_time": "2022-08-04T10:40:24.168Z"
   },
   {
    "duration": 3,
    "start_time": "2022-08-04T10:40:24.209Z"
   },
   {
    "duration": 19,
    "start_time": "2022-08-04T10:40:24.213Z"
   },
   {
    "duration": 12,
    "start_time": "2022-08-04T10:40:24.233Z"
   },
   {
    "duration": 6,
    "start_time": "2022-08-04T10:40:24.246Z"
   },
   {
    "duration": 5,
    "start_time": "2022-08-04T10:40:24.254Z"
   },
   {
    "duration": 5,
    "start_time": "2022-08-04T10:40:24.260Z"
   },
   {
    "duration": 4,
    "start_time": "2022-08-04T10:40:24.267Z"
   },
   {
    "duration": 37,
    "start_time": "2022-08-04T10:40:24.272Z"
   },
   {
    "duration": 11,
    "start_time": "2022-08-04T10:40:24.311Z"
   },
   {
    "duration": 27,
    "start_time": "2022-08-04T10:40:24.324Z"
   },
   {
    "duration": 4,
    "start_time": "2022-08-04T10:40:24.353Z"
   },
   {
    "duration": 152,
    "start_time": "2022-08-04T10:40:24.358Z"
   },
   {
    "duration": 112,
    "start_time": "2022-08-04T10:40:24.512Z"
   },
   {
    "duration": 195,
    "start_time": "2022-08-04T10:40:24.625Z"
   },
   {
    "duration": 97,
    "start_time": "2022-08-04T10:40:24.822Z"
   },
   {
    "duration": 97,
    "start_time": "2022-08-04T10:40:24.920Z"
   },
   {
    "duration": 89,
    "start_time": "2022-08-04T10:40:25.019Z"
   },
   {
    "duration": 125,
    "start_time": "2022-08-04T10:40:25.109Z"
   },
   {
    "duration": 10,
    "start_time": "2022-08-04T10:40:25.235Z"
   },
   {
    "duration": 600,
    "start_time": "2022-08-04T10:40:25.247Z"
   },
   {
    "duration": 0,
    "start_time": "2022-08-04T10:40:25.848Z"
   },
   {
    "duration": 0,
    "start_time": "2022-08-04T10:40:25.850Z"
   },
   {
    "duration": 0,
    "start_time": "2022-08-04T10:40:25.850Z"
   },
   {
    "duration": 5575,
    "start_time": "2022-08-04T10:40:39.306Z"
   },
   {
    "duration": 66513,
    "start_time": "2022-08-04T10:40:44.965Z"
   },
   {
    "duration": 290988,
    "start_time": "2022-08-04T10:41:51.480Z"
   },
   {
    "duration": 44129,
    "start_time": "2022-08-04T10:46:42.470Z"
   }
  ],
  "kernelspec": {
   "display_name": "Python 3 (ipykernel)",
   "language": "python",
   "name": "python3"
  },
  "language_info": {
   "codemirror_mode": {
    "name": "ipython",
    "version": 3
   },
   "file_extension": ".py",
   "mimetype": "text/x-python",
   "name": "python",
   "nbconvert_exporter": "python",
   "pygments_lexer": "ipython3",
   "version": "3.9.7"
  },
  "toc": {
   "base_numbering": 1,
   "nav_menu": {},
   "number_sections": true,
   "sideBar": true,
   "skip_h1_title": true,
   "title_cell": "Table of Contents",
   "title_sidebar": "Contents",
   "toc_cell": false,
   "toc_position": {
    "height": "calc(100% - 180px)",
    "left": "10px",
    "top": "150px",
    "width": "266.884px"
   },
   "toc_section_display": true,
   "toc_window_display": true
  }
 },
 "nbformat": 4,
 "nbformat_minor": 5
}
