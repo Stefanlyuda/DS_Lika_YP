{
 "cells": [
  {
   "cell_type": "markdown",
   "metadata": {
    "toc": true
   },
   "source": [
    "<h1>Содержание<span class=\"tocSkip\"></span></h1>\n",
    "<div class=\"toc\"><ul class=\"toc-item\"><li><span><a href=\"#Шаг-1.-Откройте-файл-с-данными-и-изучите-общую-информацию\" data-toc-modified-id=\"Шаг-1.-Откройте-файл-с-данными-и-изучите-общую-информацию-1\"><span class=\"toc-item-num\">1&nbsp;&nbsp;</span>Шаг 1. Откройте файл с данными и изучите общую информацию</a></span></li><li><span><a href=\"#Шаг-2.-Предобработка-данных\" data-toc-modified-id=\"Шаг-2.-Предобработка-данных-2\"><span class=\"toc-item-num\">2&nbsp;&nbsp;</span>Шаг 2. Предобработка данных</a></span><ul class=\"toc-item\"><li><span><a href=\"#Обработка-пропусков\" data-toc-modified-id=\"Обработка-пропусков-2.1\"><span class=\"toc-item-num\">2.1&nbsp;&nbsp;</span>Обработка пропусков</a></span></li><li><span><a href=\"#Замена-типа-данных\" data-toc-modified-id=\"Замена-типа-данных-2.2\"><span class=\"toc-item-num\">2.2&nbsp;&nbsp;</span>Замена типа данных</a></span></li><li><span><a href=\"#Обработка-дубликатов\" data-toc-modified-id=\"Обработка-дубликатов-2.3\"><span class=\"toc-item-num\">2.3&nbsp;&nbsp;</span>Обработка дубликатов</a></span></li><li><span><a href=\"#Лемматизация\" data-toc-modified-id=\"Лемматизация-2.4\"><span class=\"toc-item-num\">2.4&nbsp;&nbsp;</span>Лемматизация</a></span></li><li><span><a href=\"#Категоризация-данных\" data-toc-modified-id=\"Категоризация-данных-2.5\"><span class=\"toc-item-num\">2.5&nbsp;&nbsp;</span>Категоризация данных</a></span></li></ul></li><li><span><a href=\"#Шаг-3.-Ответьте-на-вопросы\" data-toc-modified-id=\"Шаг-3.-Ответьте-на-вопросы-3\"><span class=\"toc-item-num\">3&nbsp;&nbsp;</span>Шаг 3. Ответьте на вопросы</a></span></li><li><span><a href=\"#Шаг-4.-Общий-вывод\" data-toc-modified-id=\"Шаг-4.-Общий-вывод-4\"><span class=\"toc-item-num\">4&nbsp;&nbsp;</span>Шаг 4. Общий вывод</a></span></li><li><span><a href=\"#Чек-лист-готовности-проекта\" data-toc-modified-id=\"Чек-лист-готовности-проекта-5\"><span class=\"toc-item-num\">5&nbsp;&nbsp;</span>Чек-лист готовности проекта</a></span></li></ul></div>"
   ]
  },
  {
   "cell_type": "markdown",
   "metadata": {},
   "source": [
    "# Исследование надёжности заёмщиков\n",
    "\n",
    "Заказчик — кредитный отдел банка. Нужно разобраться, влияет ли семейное положение и количество детей клиента на факт погашения кредита в срок. Входные данные от банка — статистика о платёжеспособности клиентов.\n",
    "\n",
    "Результаты исследования будут учтены при построении модели **кредитного скоринга** — специальной системы, которая оценивает способность потенциального заёмщика вернуть кредит банку."
   ]
  },
  {
   "cell_type": "markdown",
   "metadata": {},
   "source": [
    "**Введение**\n",
    "\n",
    "Возврат кредитов в банк окружен большим количеством рисков как для заемщика, так и для банка. Данный кейс предлагает взглянуть на данные со стороны банка и определить вероятность возврата кредита заемщиками исходя из полученных данных о платежеспособности клиентов. \n",
    "\n",
    "Цель исследования — проверьте три гипотезы:\n",
    "1. Вероятность возврата кредита в срок выше у клиентов с детьми;\n",
    "2. Наличие супруга/супруга у заемщика положительно влияет на возврат кредита в срок;\n",
    "3. Высокий уровень дохода обеспечивает возврат кредита в срок;\n",
    "4. Вероятность возврата кредита в срок зависит от цели кредита. \n",
    "\n",
    "**Ход исследования**\n",
    "\n",
    "Данные о поведении пользователей получены из файла '/datasets/data.csv' О качестве данных ничего не известно. Поэтому перед проверкой гипотез понадобится обзор данных.\n",
    "Затем, на этапе предобработки будут исправлены ошибки в данных и подготовка таблицы для исследования\n",
    "Таким образом, исследование пройдёт в три этапа:\n",
    "1. Обзор данных.\n",
    "2. Предобработка данных.\n",
    "3. Проверка гипотез."
   ]
  },
  {
   "cell_type": "markdown",
   "metadata": {},
   "source": [
    "## Шаг 1. Откройте файл с данными и изучите общую информацию"
   ]
  },
  {
   "cell_type": "code",
   "execution_count": 1,
   "metadata": {},
   "outputs": [
    {
     "name": "stdout",
     "output_type": "stream",
     "text": [
      "Requirement already satisfied: seaborn in /Users/l.stefanenko/opt/anaconda3/lib/python3.9/site-packages (0.11.2)\n",
      "Requirement already satisfied: matplotlib>=2.2 in /Users/l.stefanenko/opt/anaconda3/lib/python3.9/site-packages (from seaborn) (3.4.3)\n",
      "Requirement already satisfied: pandas>=0.23 in /Users/l.stefanenko/opt/anaconda3/lib/python3.9/site-packages (from seaborn) (1.3.4)\n",
      "Requirement already satisfied: scipy>=1.0 in /Users/l.stefanenko/opt/anaconda3/lib/python3.9/site-packages (from seaborn) (1.7.1)\n",
      "Requirement already satisfied: numpy>=1.15 in /Users/l.stefanenko/opt/anaconda3/lib/python3.9/site-packages (from seaborn) (1.20.3)\n",
      "Requirement already satisfied: python-dateutil>=2.7 in /Users/l.stefanenko/opt/anaconda3/lib/python3.9/site-packages (from matplotlib>=2.2->seaborn) (2.8.2)\n",
      "Requirement already satisfied: kiwisolver>=1.0.1 in /Users/l.stefanenko/opt/anaconda3/lib/python3.9/site-packages (from matplotlib>=2.2->seaborn) (1.3.1)\n",
      "Requirement already satisfied: pillow>=6.2.0 in /Users/l.stefanenko/opt/anaconda3/lib/python3.9/site-packages (from matplotlib>=2.2->seaborn) (8.4.0)\n",
      "Requirement already satisfied: pyparsing>=2.2.1 in /Users/l.stefanenko/opt/anaconda3/lib/python3.9/site-packages (from matplotlib>=2.2->seaborn) (3.0.4)\n",
      "Requirement already satisfied: cycler>=0.10 in /Users/l.stefanenko/opt/anaconda3/lib/python3.9/site-packages (from matplotlib>=2.2->seaborn) (0.10.0)\n",
      "Requirement already satisfied: pytz>=2017.3 in /Users/l.stefanenko/opt/anaconda3/lib/python3.9/site-packages (from pandas>=0.23->seaborn) (2021.3)\n",
      "Requirement already satisfied: six in /Users/l.stefanenko/opt/anaconda3/lib/python3.9/site-packages (from cycler>=0.10->matplotlib>=2.2->seaborn) (1.16.0)\n",
      "\u001b[33mWARNING: There was an error checking the latest version of pip.\u001b[0m\u001b[33m\n",
      "\u001b[0m"
     ]
    },
    {
     "data": {
      "text/plain": [
       "<module 'pandas' from '/Users/l.stefanenko/opt/anaconda3/lib/python3.9/site-packages/pandas/__init__.py'>"
      ]
     },
     "metadata": {},
     "output_type": "display_data"
    }
   ],
   "source": [
    "\n",
    "import pandas as pd \n",
    "import matplotlib.pyplot as plt\n",
    "!pip install seaborn -U\n",
    "import seaborn as sns\n",
    "\n",
    "from IPython.display import display\n",
    "display(pd)\n",
    "from pymystem3 import Mystem \n",
    "m = Mystem()"
   ]
  },
  {
   "cell_type": "code",
   "execution_count": 2,
   "metadata": {},
   "outputs": [
    {
     "name": "stdout",
     "output_type": "stream",
     "text": [
      "<class 'pandas.core.frame.DataFrame'>\n",
      "RangeIndex: 21525 entries, 0 to 21524\n",
      "Data columns (total 12 columns):\n",
      " #   Column            Non-Null Count  Dtype  \n",
      "---  ------            --------------  -----  \n",
      " 0   children          21525 non-null  int64  \n",
      " 1   days_employed     19351 non-null  float64\n",
      " 2   dob_years         21525 non-null  int64  \n",
      " 3   education         21525 non-null  object \n",
      " 4   education_id      21525 non-null  int64  \n",
      " 5   family_status     21525 non-null  object \n",
      " 6   family_status_id  21525 non-null  int64  \n",
      " 7   gender            21525 non-null  object \n",
      " 8   income_type       21525 non-null  object \n",
      " 9   debt              21525 non-null  int64  \n",
      " 10  total_income      19351 non-null  float64\n",
      " 11  purpose           21525 non-null  object \n",
      "dtypes: float64(2), int64(5), object(5)\n",
      "memory usage: 2.0+ MB\n"
     ]
    }
   ],
   "source": [
    "data = pd.read_csv('/Users/l.stefanenko/Desktop/Yandex/Github/№2 Предобработка_Прогноз возврата кредита/data (2).csv')\n",
    "data.info()"
   ]
  },
  {
   "cell_type": "markdown",
   "metadata": {},
   "source": [
    "Таблица состоит из 12 колонок и 21525 строк. \n",
    "\n",
    "Описание данных\n",
    "\n",
    "- children — количество детей в семье\n",
    "- days_employed — трудовой стаж в днях\n",
    "- dob_days — возраст клиента в годах\n",
    "- education — образование клиента\n",
    "- education_id — идентификатор образования\n",
    "- family_status — семейное положение\n",
    "- family_status_id — идентификатор семейного положения\n",
    "- gender — пол клиента\n",
    "- income_type — тип занятости\n",
    "- debt — имел ли задолженность по возврату кредитов\n",
    "- total_income — доход в месяц\n",
    "- purpose — цель получения кредита\n",
    "\n",
    "Для удобства сделаем замену названия колонки dob_days--age через функцию rename"
   ]
  },
  {
   "cell_type": "code",
   "execution_count": 3,
   "metadata": {},
   "outputs": [
    {
     "data": {
      "text/html": [
       "<div>\n",
       "<style scoped>\n",
       "    .dataframe tbody tr th:only-of-type {\n",
       "        vertical-align: middle;\n",
       "    }\n",
       "\n",
       "    .dataframe tbody tr th {\n",
       "        vertical-align: top;\n",
       "    }\n",
       "\n",
       "    .dataframe thead th {\n",
       "        text-align: right;\n",
       "    }\n",
       "</style>\n",
       "<table border=\"1\" class=\"dataframe\">\n",
       "  <thead>\n",
       "    <tr style=\"text-align: right;\">\n",
       "      <th></th>\n",
       "      <th>count</th>\n",
       "      <th>mean</th>\n",
       "      <th>std</th>\n",
       "      <th>min</th>\n",
       "      <th>25%</th>\n",
       "      <th>50%</th>\n",
       "      <th>75%</th>\n",
       "      <th>max</th>\n",
       "    </tr>\n",
       "  </thead>\n",
       "  <tbody>\n",
       "    <tr>\n",
       "      <th>children</th>\n",
       "      <td>21525.0</td>\n",
       "      <td>0.538908</td>\n",
       "      <td>1.381587</td>\n",
       "      <td>-1.000000</td>\n",
       "      <td>0.000000</td>\n",
       "      <td>0.000000</td>\n",
       "      <td>1.000000</td>\n",
       "      <td>2.000000e+01</td>\n",
       "    </tr>\n",
       "    <tr>\n",
       "      <th>days_employed</th>\n",
       "      <td>19351.0</td>\n",
       "      <td>63046.497661</td>\n",
       "      <td>140827.311974</td>\n",
       "      <td>-18388.949901</td>\n",
       "      <td>-2747.423625</td>\n",
       "      <td>-1203.369529</td>\n",
       "      <td>-291.095954</td>\n",
       "      <td>4.017554e+05</td>\n",
       "    </tr>\n",
       "    <tr>\n",
       "      <th>age</th>\n",
       "      <td>21525.0</td>\n",
       "      <td>43.293380</td>\n",
       "      <td>12.574584</td>\n",
       "      <td>0.000000</td>\n",
       "      <td>33.000000</td>\n",
       "      <td>42.000000</td>\n",
       "      <td>53.000000</td>\n",
       "      <td>7.500000e+01</td>\n",
       "    </tr>\n",
       "    <tr>\n",
       "      <th>education_id</th>\n",
       "      <td>21525.0</td>\n",
       "      <td>0.817236</td>\n",
       "      <td>0.548138</td>\n",
       "      <td>0.000000</td>\n",
       "      <td>1.000000</td>\n",
       "      <td>1.000000</td>\n",
       "      <td>1.000000</td>\n",
       "      <td>4.000000e+00</td>\n",
       "    </tr>\n",
       "    <tr>\n",
       "      <th>family_status_id</th>\n",
       "      <td>21525.0</td>\n",
       "      <td>0.972544</td>\n",
       "      <td>1.420324</td>\n",
       "      <td>0.000000</td>\n",
       "      <td>0.000000</td>\n",
       "      <td>0.000000</td>\n",
       "      <td>1.000000</td>\n",
       "      <td>4.000000e+00</td>\n",
       "    </tr>\n",
       "    <tr>\n",
       "      <th>debt</th>\n",
       "      <td>21525.0</td>\n",
       "      <td>0.080883</td>\n",
       "      <td>0.272661</td>\n",
       "      <td>0.000000</td>\n",
       "      <td>0.000000</td>\n",
       "      <td>0.000000</td>\n",
       "      <td>0.000000</td>\n",
       "      <td>1.000000e+00</td>\n",
       "    </tr>\n",
       "    <tr>\n",
       "      <th>total_income</th>\n",
       "      <td>19351.0</td>\n",
       "      <td>167422.302208</td>\n",
       "      <td>102971.566448</td>\n",
       "      <td>20667.263793</td>\n",
       "      <td>103053.152913</td>\n",
       "      <td>145017.937533</td>\n",
       "      <td>203435.067663</td>\n",
       "      <td>2.265604e+06</td>\n",
       "    </tr>\n",
       "  </tbody>\n",
       "</table>\n",
       "</div>"
      ],
      "text/plain": [
       "                    count           mean            std           min  \\\n",
       "children          21525.0       0.538908       1.381587     -1.000000   \n",
       "days_employed     19351.0   63046.497661  140827.311974 -18388.949901   \n",
       "age               21525.0      43.293380      12.574584      0.000000   \n",
       "education_id      21525.0       0.817236       0.548138      0.000000   \n",
       "family_status_id  21525.0       0.972544       1.420324      0.000000   \n",
       "debt              21525.0       0.080883       0.272661      0.000000   \n",
       "total_income      19351.0  167422.302208  102971.566448  20667.263793   \n",
       "\n",
       "                            25%            50%            75%           max  \n",
       "children               0.000000       0.000000       1.000000  2.000000e+01  \n",
       "days_employed      -2747.423625   -1203.369529    -291.095954  4.017554e+05  \n",
       "age                   33.000000      42.000000      53.000000  7.500000e+01  \n",
       "education_id           1.000000       1.000000       1.000000  4.000000e+00  \n",
       "family_status_id       0.000000       0.000000       1.000000  4.000000e+00  \n",
       "debt                   0.000000       0.000000       0.000000  1.000000e+00  \n",
       "total_income      103053.152913  145017.937533  203435.067663  2.265604e+06  "
      ]
     },
     "execution_count": 3,
     "metadata": {},
     "output_type": "execute_result"
    }
   ],
   "source": [
    "data = data.rename(columns = {\"dob_years\":\"age\"} )           \n",
    "data['education'] = data['education'].str.lower()#нижний регистр\n",
    "data.describe().T"
   ]
  },
  {
   "cell_type": "markdown",
   "metadata": {},
   "source": [
    "**Вывод**"
   ]
  },
  {
   "cell_type": "markdown",
   "metadata": {},
   "source": [
    "В таблице был разный регистр в столбике 'education', устранили эту ошибку для продолжения работы с таблицей"
   ]
  },
  {
   "cell_type": "markdown",
   "metadata": {},
   "source": [
    "## Шаг 2. Предобработка данных"
   ]
  },
  {
   "cell_type": "markdown",
   "metadata": {},
   "source": [
    "### Обработка пропусков"
   ]
  },
  {
   "cell_type": "code",
   "execution_count": 4,
   "metadata": {},
   "outputs": [
    {
     "data": {
      "text/plain": [
       "children               0\n",
       "days_employed       2174\n",
       "age                    0\n",
       "education              0\n",
       "education_id           0\n",
       "family_status          0\n",
       "family_status_id       0\n",
       "gender                 0\n",
       "income_type            0\n",
       "debt                   0\n",
       "total_income        2174\n",
       "purpose                0\n",
       "dtype: int64"
      ]
     },
     "execution_count": 4,
     "metadata": {},
     "output_type": "execute_result"
    }
   ],
   "source": [
    "data.isna().sum()"
   ]
  },
  {
   "cell_type": "markdown",
   "metadata": {},
   "source": [
    "Мы видим, что столбцы days_employed и total_income имеют разное количество пропусков равное 2174.\n",
    "\n",
    "Пропуски составляют 10% от общего числа данных - это довольно много. \n",
    "Удалять нельзя Есть корреляция в возникновении пропусков: равное количество респондентов не дали данных о своем доходе и соответственно днях работы. Возможно у них не было этого вопроса в анкете, возможно они скрывают свои доходы и соотвественно дни работы, которые считаются системой автоматически.В данной ситуации для заполнения пропусков, ипользуем медиану. "
   ]
  },
  {
   "cell_type": "code",
   "execution_count": 5,
   "metadata": {},
   "outputs": [
    {
     "data": {
      "text/plain": [
       "children            14236\n",
       "days_employed       12752\n",
       "age                 14236\n",
       "education           14236\n",
       "education_id        14236\n",
       "family_status       14236\n",
       "family_status_id    14236\n",
       "gender              14236\n",
       "income_type         14236\n",
       "debt                14236\n",
       "total_income        12752\n",
       "purpose             14236\n",
       "dtype: int64"
      ]
     },
     "execution_count": 5,
     "metadata": {},
     "output_type": "execute_result"
    }
   ],
   "source": [
    "#узнаем сколько клиентов с указанным гендером F в таблице\n",
    "data [data['gender'] =='F'].count()"
   ]
  },
  {
   "cell_type": "markdown",
   "metadata": {},
   "source": [
    "Перед заменой пропусков заменим все значения на положительные с мопощью функции abs"
   ]
  },
  {
   "cell_type": "code",
   "execution_count": 6,
   "metadata": {},
   "outputs": [],
   "source": [
    "data['days_employed'] = data['days_employed'].abs()\n",
    "data['children'] = data['children'].abs()"
   ]
  },
  {
   "cell_type": "markdown",
   "metadata": {},
   "source": [
    "Введем новые переменные\n",
    "- total_income_avg - медианное значение доходов клиентов\n",
    "- days_employed_avg - медианное значение дней работы клиентов\n",
    "Заполним этими значениями наши пропуски в столбцах"
   ]
  },
  {
   "cell_type": "code",
   "execution_count": 7,
   "metadata": {},
   "outputs": [
    {
     "data": {
      "text/html": [
       "<div>\n",
       "<style scoped>\n",
       "    .dataframe tbody tr th:only-of-type {\n",
       "        vertical-align: middle;\n",
       "    }\n",
       "\n",
       "    .dataframe tbody tr th {\n",
       "        vertical-align: top;\n",
       "    }\n",
       "\n",
       "    .dataframe thead th {\n",
       "        text-align: right;\n",
       "    }\n",
       "</style>\n",
       "<table border=\"1\" class=\"dataframe\">\n",
       "  <thead>\n",
       "    <tr style=\"text-align: right;\">\n",
       "      <th></th>\n",
       "      <th>children</th>\n",
       "      <th>days_employed</th>\n",
       "      <th>age</th>\n",
       "      <th>education</th>\n",
       "      <th>education_id</th>\n",
       "      <th>family_status</th>\n",
       "      <th>family_status_id</th>\n",
       "      <th>gender</th>\n",
       "      <th>income_type</th>\n",
       "      <th>debt</th>\n",
       "      <th>total_income</th>\n",
       "      <th>purpose</th>\n",
       "    </tr>\n",
       "  </thead>\n",
       "  <tbody>\n",
       "    <tr>\n",
       "      <th>0</th>\n",
       "      <td>1</td>\n",
       "      <td>8437.673028</td>\n",
       "      <td>42</td>\n",
       "      <td>высшее</td>\n",
       "      <td>0</td>\n",
       "      <td>женат / замужем</td>\n",
       "      <td>0</td>\n",
       "      <td>F</td>\n",
       "      <td>сотрудник</td>\n",
       "      <td>0</td>\n",
       "      <td>253875.639453</td>\n",
       "      <td>покупка жилья</td>\n",
       "    </tr>\n",
       "    <tr>\n",
       "      <th>1</th>\n",
       "      <td>1</td>\n",
       "      <td>4024.803754</td>\n",
       "      <td>36</td>\n",
       "      <td>среднее</td>\n",
       "      <td>1</td>\n",
       "      <td>женат / замужем</td>\n",
       "      <td>0</td>\n",
       "      <td>F</td>\n",
       "      <td>сотрудник</td>\n",
       "      <td>0</td>\n",
       "      <td>112080.014102</td>\n",
       "      <td>приобретение автомобиля</td>\n",
       "    </tr>\n",
       "    <tr>\n",
       "      <th>2</th>\n",
       "      <td>0</td>\n",
       "      <td>5623.422610</td>\n",
       "      <td>33</td>\n",
       "      <td>среднее</td>\n",
       "      <td>1</td>\n",
       "      <td>женат / замужем</td>\n",
       "      <td>0</td>\n",
       "      <td>M</td>\n",
       "      <td>сотрудник</td>\n",
       "      <td>0</td>\n",
       "      <td>145885.952297</td>\n",
       "      <td>покупка жилья</td>\n",
       "    </tr>\n",
       "    <tr>\n",
       "      <th>3</th>\n",
       "      <td>3</td>\n",
       "      <td>4124.747207</td>\n",
       "      <td>32</td>\n",
       "      <td>среднее</td>\n",
       "      <td>1</td>\n",
       "      <td>женат / замужем</td>\n",
       "      <td>0</td>\n",
       "      <td>M</td>\n",
       "      <td>сотрудник</td>\n",
       "      <td>0</td>\n",
       "      <td>267628.550329</td>\n",
       "      <td>дополнительное образование</td>\n",
       "    </tr>\n",
       "    <tr>\n",
       "      <th>4</th>\n",
       "      <td>0</td>\n",
       "      <td>340266.072047</td>\n",
       "      <td>53</td>\n",
       "      <td>среднее</td>\n",
       "      <td>1</td>\n",
       "      <td>гражданский брак</td>\n",
       "      <td>1</td>\n",
       "      <td>F</td>\n",
       "      <td>пенсионер</td>\n",
       "      <td>0</td>\n",
       "      <td>158616.077870</td>\n",
       "      <td>сыграть свадьбу</td>\n",
       "    </tr>\n",
       "  </tbody>\n",
       "</table>\n",
       "</div>"
      ],
      "text/plain": [
       "   children  days_employed  age education  education_id     family_status  \\\n",
       "0         1    8437.673028   42    высшее             0   женат / замужем   \n",
       "1         1    4024.803754   36   среднее             1   женат / замужем   \n",
       "2         0    5623.422610   33   среднее             1   женат / замужем   \n",
       "3         3    4124.747207   32   среднее             1   женат / замужем   \n",
       "4         0  340266.072047   53   среднее             1  гражданский брак   \n",
       "\n",
       "   family_status_id gender income_type  debt   total_income  \\\n",
       "0                 0      F   сотрудник     0  253875.639453   \n",
       "1                 0      F   сотрудник     0  112080.014102   \n",
       "2                 0      M   сотрудник     0  145885.952297   \n",
       "3                 0      M   сотрудник     0  267628.550329   \n",
       "4                 1      F   пенсионер     0  158616.077870   \n",
       "\n",
       "                      purpose  \n",
       "0               покупка жилья  \n",
       "1     приобретение автомобиля  \n",
       "2               покупка жилья  \n",
       "3  дополнительное образование  \n",
       "4             сыграть свадьбу  "
      ]
     },
     "metadata": {},
     "output_type": "display_data"
    }
   ],
   "source": [
    "total_income_avg = data['total_income'].median() \n",
    "data['total_income'] = data['total_income'].fillna (value = total_income_avg)\n",
    "days_employed_avg = data['days_employed'].median() \n",
    "data['days_employed'] = data['days_employed'].fillna (value = days_employed_avg)\n",
    "display (data.head(5))"
   ]
  },
  {
   "cell_type": "markdown",
   "metadata": {},
   "source": [
    "В ходе работы были найдены аномальные значения в таблице. \n",
    "\n",
    "- стаж работы более 930 лет в столбце days_employed\n",
    "- 20 детей в столбце children\n",
    "- неопределенный пол XNA в столбце gender\n",
    "- опечатка 'ремонт жилью'в столбике purpose\n",
    "\n",
    "Произведем замену значений с помощью метода replace и заменим стаж работы на макисмальный, т.к. чаще всего аномальное значение выпадало в статусе \"пенсионер\""
   ]
  },
  {
   "cell_type": "code",
   "execution_count": 8,
   "metadata": {},
   "outputs": [
    {
     "name": "stdout",
     "output_type": "stream",
     "text": [
      "Количество аномальных значений стажа равно: 3447\n",
      "Заменим аномальные значения на максимально возможный стаж, получим таблицу ниже\n"
     ]
    },
    {
     "data": {
      "text/html": [
       "<div>\n",
       "<style scoped>\n",
       "    .dataframe tbody tr th:only-of-type {\n",
       "        vertical-align: middle;\n",
       "    }\n",
       "\n",
       "    .dataframe tbody tr th {\n",
       "        vertical-align: top;\n",
       "    }\n",
       "\n",
       "    .dataframe thead th {\n",
       "        text-align: right;\n",
       "    }\n",
       "</style>\n",
       "<table border=\"1\" class=\"dataframe\">\n",
       "  <thead>\n",
       "    <tr style=\"text-align: right;\">\n",
       "      <th></th>\n",
       "      <th>children</th>\n",
       "      <th>days_employed</th>\n",
       "      <th>age</th>\n",
       "      <th>education</th>\n",
       "      <th>education_id</th>\n",
       "      <th>family_status</th>\n",
       "      <th>family_status_id</th>\n",
       "      <th>gender</th>\n",
       "      <th>income_type</th>\n",
       "      <th>debt</th>\n",
       "      <th>total_income</th>\n",
       "      <th>purpose</th>\n",
       "    </tr>\n",
       "  </thead>\n",
       "  <tbody>\n",
       "    <tr>\n",
       "      <th>0</th>\n",
       "      <td>1</td>\n",
       "      <td>8437.673028</td>\n",
       "      <td>42</td>\n",
       "      <td>высшее</td>\n",
       "      <td>0</td>\n",
       "      <td>женат / замужем</td>\n",
       "      <td>0</td>\n",
       "      <td>F</td>\n",
       "      <td>сотрудник</td>\n",
       "      <td>0</td>\n",
       "      <td>253875.639453</td>\n",
       "      <td>покупка жилья</td>\n",
       "    </tr>\n",
       "    <tr>\n",
       "      <th>1</th>\n",
       "      <td>1</td>\n",
       "      <td>4024.803754</td>\n",
       "      <td>36</td>\n",
       "      <td>среднее</td>\n",
       "      <td>1</td>\n",
       "      <td>женат / замужем</td>\n",
       "      <td>0</td>\n",
       "      <td>F</td>\n",
       "      <td>сотрудник</td>\n",
       "      <td>0</td>\n",
       "      <td>112080.014102</td>\n",
       "      <td>приобретение автомобиля</td>\n",
       "    </tr>\n",
       "    <tr>\n",
       "      <th>2</th>\n",
       "      <td>0</td>\n",
       "      <td>5623.422610</td>\n",
       "      <td>33</td>\n",
       "      <td>среднее</td>\n",
       "      <td>1</td>\n",
       "      <td>женат / замужем</td>\n",
       "      <td>0</td>\n",
       "      <td>M</td>\n",
       "      <td>сотрудник</td>\n",
       "      <td>0</td>\n",
       "      <td>145885.952297</td>\n",
       "      <td>покупка жилья</td>\n",
       "    </tr>\n",
       "    <tr>\n",
       "      <th>3</th>\n",
       "      <td>3</td>\n",
       "      <td>4124.747207</td>\n",
       "      <td>32</td>\n",
       "      <td>среднее</td>\n",
       "      <td>1</td>\n",
       "      <td>женат / замужем</td>\n",
       "      <td>0</td>\n",
       "      <td>M</td>\n",
       "      <td>сотрудник</td>\n",
       "      <td>0</td>\n",
       "      <td>267628.550329</td>\n",
       "      <td>дополнительное образование</td>\n",
       "    </tr>\n",
       "    <tr>\n",
       "      <th>4</th>\n",
       "      <td>0</td>\n",
       "      <td>17155.000000</td>\n",
       "      <td>53</td>\n",
       "      <td>среднее</td>\n",
       "      <td>1</td>\n",
       "      <td>гражданский брак</td>\n",
       "      <td>1</td>\n",
       "      <td>F</td>\n",
       "      <td>пенсионер</td>\n",
       "      <td>0</td>\n",
       "      <td>158616.077870</td>\n",
       "      <td>сыграть свадьбу</td>\n",
       "    </tr>\n",
       "  </tbody>\n",
       "</table>\n",
       "</div>"
      ],
      "text/plain": [
       "   children  days_employed  age education  education_id     family_status  \\\n",
       "0         1    8437.673028   42    высшее             0   женат / замужем   \n",
       "1         1    4024.803754   36   среднее             1   женат / замужем   \n",
       "2         0    5623.422610   33   среднее             1   женат / замужем   \n",
       "3         3    4124.747207   32   среднее             1   женат / замужем   \n",
       "4         0   17155.000000   53   среднее             1  гражданский брак   \n",
       "\n",
       "   family_status_id gender income_type  debt   total_income  \\\n",
       "0                 0      F   сотрудник     0  253875.639453   \n",
       "1                 0      F   сотрудник     0  112080.014102   \n",
       "2                 0      M   сотрудник     0  145885.952297   \n",
       "3                 0      M   сотрудник     0  267628.550329   \n",
       "4                 1      F   пенсионер     0  158616.077870   \n",
       "\n",
       "                      purpose  \n",
       "0               покупка жилья  \n",
       "1     приобретение автомобиля  \n",
       "2               покупка жилья  \n",
       "3  дополнительное образование  \n",
       "4             сыграть свадьбу  "
      ]
     },
     "metadata": {},
     "output_type": "display_data"
    }
   ],
   "source": [
    "data['gender'] = data['gender'].replace('XNA', 'F')\n",
    "data['children'] = data['children'].replace(20, 2)\n",
    "data['purpose'] = data['purpose'].replace('ремонт жилью','ремонт жилья')\n",
    "print ('Количество аномальных значений стажа равно:',data[data['days_employed'] > 47*365] ['days_employed'].count())#3447 значений больше 47 (65 пенсионный возраст - 18) лет рабочего стажа\n",
    "print ('Заменим аномальные значения на максимально возможный стаж, получим таблицу ниже')\n",
    "data.loc[data['days_employed'] > 17155, 'days_employed'] = 17155 #заменили все аномальные занчения на максимум\n",
    "display (data.head (5))"
   ]
  },
  {
   "cell_type": "markdown",
   "metadata": {},
   "source": [
    "**Вывод**"
   ]
  },
  {
   "cell_type": "markdown",
   "metadata": {},
   "source": [
    "В ходе работы по предобработке данных были установлены следующие ошибки в таблице, требующие устранения: \n",
    "Пропущенные значения и аномальные значения. Ошибки устранены.\n",
    "Подготовка данных для работы: очищние данных и изменение типа на целочисленные значения для упрощения расчетов и экономии места в памяти, очищение ошибки в данных о днях работы (замена аномальных на максимальное значение 17155 дней)\n",
    "Также заменили значение XNA нв F в колонке \"пол\" ,т.к. гипотеза строилась вне зависимоти от пола, то можно сюда поставить любой пол. Также можно было просто удалить эту строку, т.к. она всего одна во всей таблице и на результат не сильно повлияет. "
   ]
  },
  {
   "cell_type": "markdown",
   "metadata": {},
   "source": [
    "### Замена типа данных"
   ]
  },
  {
   "cell_type": "markdown",
   "metadata": {},
   "source": [
    "Проверим какие типы данных есть в таблице"
   ]
  },
  {
   "cell_type": "code",
   "execution_count": 9,
   "metadata": {},
   "outputs": [
    {
     "data": {
      "text/plain": [
       "children              int64\n",
       "days_employed       float64\n",
       "age                   int64\n",
       "education            object\n",
       "education_id          int64\n",
       "family_status        object\n",
       "family_status_id      int64\n",
       "gender               object\n",
       "income_type          object\n",
       "debt                  int64\n",
       "total_income        float64\n",
       "purpose              object\n",
       "dtype: object"
      ]
     },
     "execution_count": 9,
     "metadata": {},
     "output_type": "execute_result"
    }
   ],
   "source": [
    "data.dtypes"
   ]
  },
  {
   "cell_type": "code",
   "execution_count": 10,
   "metadata": {},
   "outputs": [
    {
     "name": "stdout",
     "output_type": "stream",
     "text": [
      "<class 'pandas.core.frame.DataFrame'>\n",
      "RangeIndex: 21525 entries, 0 to 21524\n",
      "Data columns (total 12 columns):\n",
      " #   Column            Non-Null Count  Dtype  \n",
      "---  ------            --------------  -----  \n",
      " 0   children          21525 non-null  uint8  \n",
      " 1   days_employed     21525 non-null  float64\n",
      " 2   age               21525 non-null  int64  \n",
      " 3   education         21525 non-null  object \n",
      " 4   education_id      21525 non-null  uint8  \n",
      " 5   family_status     21525 non-null  object \n",
      " 6   family_status_id  21525 non-null  uint8  \n",
      " 7   gender            21525 non-null  object \n",
      " 8   income_type       21525 non-null  object \n",
      " 9   debt              21525 non-null  uint8  \n",
      " 10  total_income      21525 non-null  int64  \n",
      " 11  purpose           21525 non-null  object \n",
      "dtypes: float64(1), int64(2), object(5), uint8(4)\n",
      "memory usage: 1.4+ MB\n"
     ]
    }
   ],
   "source": [
    "data['total_income'] = data['total_income'].astype('int')\n",
    "data['education_id'] = data['education_id'].astype('uint8')\n",
    "data['family_status_id'] = data['family_status_id'].astype('uint8')\n",
    "data['family_status'] = data['family_status'].astype(\"str\")\n",
    "data['education'] = data['education'].astype(\"str\")\n",
    "data['income_type'] = data['income_type'].astype(\"str\")\n",
    "data['children'] = data['children'].astype('uint8')\n",
    "data['debt'] = data['debt'].astype('uint8')\n",
    "data.info()\n",
    "\n"
   ]
  },
  {
   "cell_type": "markdown",
   "metadata": {},
   "source": [
    "**Вывод**"
   ]
  },
  {
   "cell_type": "markdown",
   "metadata": {},
   "source": [
    "В ходе замены типа данных место, занимаемое в памяти сократилось почти в два раза. с 2,6+ МВ до 1,4+МВ"
   ]
  },
  {
   "cell_type": "markdown",
   "metadata": {},
   "source": [
    "### Обработка дубликатов"
   ]
  },
  {
   "cell_type": "code",
   "execution_count": 11,
   "metadata": {},
   "outputs": [
    {
     "name": "stdout",
     "output_type": "stream",
     "text": [
      "71\n"
     ]
    }
   ],
   "source": [
    "print (data.duplicated().sum())"
   ]
  },
  {
   "cell_type": "code",
   "execution_count": 12,
   "metadata": {},
   "outputs": [
    {
     "name": "stdout",
     "output_type": "stream",
     "text": [
      "0\n"
     ]
    }
   ],
   "source": [
    "data = data.drop_duplicates().reset_index(drop = True)\n",
    "print (data.duplicated().sum())"
   ]
  },
  {
   "cell_type": "markdown",
   "metadata": {},
   "source": [
    "**Вывод**"
   ]
  },
  {
   "cell_type": "markdown",
   "metadata": {},
   "source": [
    "Во всей таблице 71 дубликат. Это значение менее одного процента и связано с заменами, производимыми выше. \n",
    "То есть мы заменили все дни работы на максимальное - 17155 и total_income на среднее арифметическое 167422. Произведем удаление дубликатов с помощью метода drop_duplicates()"
   ]
  },
  {
   "cell_type": "markdown",
   "metadata": {},
   "source": [
    "### Лемматизация"
   ]
  },
  {
   "cell_type": "code",
   "execution_count": 13,
   "metadata": {},
   "outputs": [
    {
     "data": {
      "text/html": [
       "<div>\n",
       "<style scoped>\n",
       "    .dataframe tbody tr th:only-of-type {\n",
       "        vertical-align: middle;\n",
       "    }\n",
       "\n",
       "    .dataframe tbody tr th {\n",
       "        vertical-align: top;\n",
       "    }\n",
       "\n",
       "    .dataframe thead th {\n",
       "        text-align: right;\n",
       "    }\n",
       "</style>\n",
       "<table border=\"1\" class=\"dataframe\">\n",
       "  <thead>\n",
       "    <tr style=\"text-align: right;\">\n",
       "      <th></th>\n",
       "      <th>children</th>\n",
       "      <th>days_employed</th>\n",
       "      <th>age</th>\n",
       "      <th>education</th>\n",
       "      <th>education_id</th>\n",
       "      <th>family_status</th>\n",
       "      <th>family_status_id</th>\n",
       "      <th>gender</th>\n",
       "      <th>income_type</th>\n",
       "      <th>debt</th>\n",
       "      <th>total_income</th>\n",
       "      <th>purpose</th>\n",
       "      <th>category</th>\n",
       "    </tr>\n",
       "  </thead>\n",
       "  <tbody>\n",
       "    <tr>\n",
       "      <th>21449</th>\n",
       "      <td>1</td>\n",
       "      <td>4529.316663</td>\n",
       "      <td>43</td>\n",
       "      <td>среднее</td>\n",
       "      <td>1</td>\n",
       "      <td>гражданский брак</td>\n",
       "      <td>1</td>\n",
       "      <td>F</td>\n",
       "      <td>компаньон</td>\n",
       "      <td>0</td>\n",
       "      <td>224791</td>\n",
       "      <td>операции с жильем</td>\n",
       "      <td>недвижимость</td>\n",
       "    </tr>\n",
       "    <tr>\n",
       "      <th>21450</th>\n",
       "      <td>0</td>\n",
       "      <td>17155.000000</td>\n",
       "      <td>67</td>\n",
       "      <td>среднее</td>\n",
       "      <td>1</td>\n",
       "      <td>женат / замужем</td>\n",
       "      <td>0</td>\n",
       "      <td>F</td>\n",
       "      <td>пенсионер</td>\n",
       "      <td>0</td>\n",
       "      <td>155999</td>\n",
       "      <td>сделка с автомобилем</td>\n",
       "      <td>автомобиль</td>\n",
       "    </tr>\n",
       "    <tr>\n",
       "      <th>21451</th>\n",
       "      <td>1</td>\n",
       "      <td>2113.346888</td>\n",
       "      <td>38</td>\n",
       "      <td>среднее</td>\n",
       "      <td>1</td>\n",
       "      <td>гражданский брак</td>\n",
       "      <td>1</td>\n",
       "      <td>M</td>\n",
       "      <td>сотрудник</td>\n",
       "      <td>1</td>\n",
       "      <td>89672</td>\n",
       "      <td>недвижимость</td>\n",
       "      <td>недвижимость</td>\n",
       "    </tr>\n",
       "    <tr>\n",
       "      <th>21452</th>\n",
       "      <td>3</td>\n",
       "      <td>3112.481705</td>\n",
       "      <td>38</td>\n",
       "      <td>среднее</td>\n",
       "      <td>1</td>\n",
       "      <td>женат / замужем</td>\n",
       "      <td>0</td>\n",
       "      <td>M</td>\n",
       "      <td>сотрудник</td>\n",
       "      <td>1</td>\n",
       "      <td>244093</td>\n",
       "      <td>на покупку своего автомобиля</td>\n",
       "      <td>автомобиль</td>\n",
       "    </tr>\n",
       "    <tr>\n",
       "      <th>21453</th>\n",
       "      <td>2</td>\n",
       "      <td>1984.507589</td>\n",
       "      <td>40</td>\n",
       "      <td>среднее</td>\n",
       "      <td>1</td>\n",
       "      <td>женат / замужем</td>\n",
       "      <td>0</td>\n",
       "      <td>F</td>\n",
       "      <td>сотрудник</td>\n",
       "      <td>0</td>\n",
       "      <td>82047</td>\n",
       "      <td>на покупку автомобиля</td>\n",
       "      <td>автомобиль</td>\n",
       "    </tr>\n",
       "  </tbody>\n",
       "</table>\n",
       "</div>"
      ],
      "text/plain": [
       "       children  days_employed  age education  education_id     family_status  \\\n",
       "21449         1    4529.316663   43   среднее             1  гражданский брак   \n",
       "21450         0   17155.000000   67   среднее             1   женат / замужем   \n",
       "21451         1    2113.346888   38   среднее             1  гражданский брак   \n",
       "21452         3    3112.481705   38   среднее             1   женат / замужем   \n",
       "21453         2    1984.507589   40   среднее             1   женат / замужем   \n",
       "\n",
       "       family_status_id gender income_type  debt  total_income  \\\n",
       "21449                 1      F   компаньон     0        224791   \n",
       "21450                 0      F   пенсионер     0        155999   \n",
       "21451                 1      M   сотрудник     1         89672   \n",
       "21452                 0      M   сотрудник     1        244093   \n",
       "21453                 0      F   сотрудник     0         82047   \n",
       "\n",
       "                            purpose      category  \n",
       "21449             операции с жильем  недвижимость  \n",
       "21450          сделка с автомобилем    автомобиль  \n",
       "21451                  недвижимость  недвижимость  \n",
       "21452  на покупку своего автомобиля    автомобиль  \n",
       "21453         на покупку автомобиля    автомобиль  "
      ]
     },
     "metadata": {},
     "output_type": "display_data"
    }
   ],
   "source": [
    "def category_of_purpose(row):\n",
    "    lem_purpose = m.lemmatize(row['purpose'])\n",
    "    if 'автомобиль' in lem_purpose:\n",
    "        return 'автомобиль'\n",
    "    if ('жилье' in lem_purpose) or ('недвижимость' in lem_purpose ):\n",
    "        return 'недвижимость'\n",
    "    if ('образование' in lem_purpose):\n",
    "        return 'обучение'\n",
    "    if ('свадьба' in lem_purpose):\n",
    "        return 'свадьба'\n",
    "    else:\n",
    "        return 'не определено'\n",
    "data['category'] = data.apply(category_of_purpose, axis=1)\n",
    "display (data.tail())"
   ]
  },
  {
   "cell_type": "markdown",
   "metadata": {},
   "source": [
    "**Вывод**"
   ]
  },
  {
   "cell_type": "markdown",
   "metadata": {},
   "source": [
    "Произведена проверка уникальных значений в столбце  purpose. На основе полученных данных применена лемматизация."
   ]
  },
  {
   "cell_type": "markdown",
   "metadata": {},
   "source": [
    "### Категоризация данных"
   ]
  },
  {
   "cell_type": "code",
   "execution_count": 30,
   "metadata": {},
   "outputs": [
    {
     "data": {
      "text/html": [
       "<div>\n",
       "<style scoped>\n",
       "    .dataframe tbody tr th:only-of-type {\n",
       "        vertical-align: middle;\n",
       "    }\n",
       "\n",
       "    .dataframe tbody tr th {\n",
       "        vertical-align: top;\n",
       "    }\n",
       "\n",
       "    .dataframe thead th {\n",
       "        text-align: right;\n",
       "    }\n",
       "</style>\n",
       "<table border=\"1\" class=\"dataframe\">\n",
       "  <thead>\n",
       "    <tr style=\"text-align: right;\">\n",
       "      <th></th>\n",
       "      <th>children</th>\n",
       "      <th>days_employed</th>\n",
       "      <th>age</th>\n",
       "      <th>education</th>\n",
       "      <th>education_id</th>\n",
       "      <th>family_status</th>\n",
       "      <th>family_status_id</th>\n",
       "      <th>gender</th>\n",
       "      <th>income_type</th>\n",
       "      <th>debt</th>\n",
       "      <th>total_income</th>\n",
       "      <th>purpose</th>\n",
       "      <th>category</th>\n",
       "      <th>children_status</th>\n",
       "      <th>debt_status</th>\n",
       "      <th>income</th>\n",
       "    </tr>\n",
       "  </thead>\n",
       "  <tbody>\n",
       "    <tr>\n",
       "      <th>21449</th>\n",
       "      <td>1</td>\n",
       "      <td>4529.316663</td>\n",
       "      <td>43</td>\n",
       "      <td>среднее</td>\n",
       "      <td>1</td>\n",
       "      <td>гражданский брак</td>\n",
       "      <td>1</td>\n",
       "      <td>F</td>\n",
       "      <td>компаньон</td>\n",
       "      <td>0</td>\n",
       "      <td>224791</td>\n",
       "      <td>операции с жильем</td>\n",
       "      <td>недвижимость</td>\n",
       "      <td>есть дети</td>\n",
       "      <td>нет задолженности</td>\n",
       "      <td>высокий уровень дохода</td>\n",
       "    </tr>\n",
       "    <tr>\n",
       "      <th>21450</th>\n",
       "      <td>0</td>\n",
       "      <td>17155.000000</td>\n",
       "      <td>67</td>\n",
       "      <td>среднее</td>\n",
       "      <td>1</td>\n",
       "      <td>женат / замужем</td>\n",
       "      <td>0</td>\n",
       "      <td>F</td>\n",
       "      <td>пенсионер</td>\n",
       "      <td>0</td>\n",
       "      <td>155999</td>\n",
       "      <td>сделка с автомобилем</td>\n",
       "      <td>автомобиль</td>\n",
       "      <td>нет детей</td>\n",
       "      <td>нет задолженности</td>\n",
       "      <td>высокий уровень дохода</td>\n",
       "    </tr>\n",
       "    <tr>\n",
       "      <th>21451</th>\n",
       "      <td>1</td>\n",
       "      <td>2113.346888</td>\n",
       "      <td>38</td>\n",
       "      <td>среднее</td>\n",
       "      <td>1</td>\n",
       "      <td>гражданский брак</td>\n",
       "      <td>1</td>\n",
       "      <td>M</td>\n",
       "      <td>сотрудник</td>\n",
       "      <td>1</td>\n",
       "      <td>89672</td>\n",
       "      <td>недвижимость</td>\n",
       "      <td>недвижимость</td>\n",
       "      <td>есть дети</td>\n",
       "      <td>есть задолженность</td>\n",
       "      <td>низкий уровень дохода</td>\n",
       "    </tr>\n",
       "    <tr>\n",
       "      <th>21452</th>\n",
       "      <td>3</td>\n",
       "      <td>3112.481705</td>\n",
       "      <td>38</td>\n",
       "      <td>среднее</td>\n",
       "      <td>1</td>\n",
       "      <td>женат / замужем</td>\n",
       "      <td>0</td>\n",
       "      <td>M</td>\n",
       "      <td>сотрудник</td>\n",
       "      <td>1</td>\n",
       "      <td>244093</td>\n",
       "      <td>на покупку своего автомобиля</td>\n",
       "      <td>автомобиль</td>\n",
       "      <td>есть дети</td>\n",
       "      <td>есть задолженность</td>\n",
       "      <td>высокий уровень дохода</td>\n",
       "    </tr>\n",
       "    <tr>\n",
       "      <th>21453</th>\n",
       "      <td>2</td>\n",
       "      <td>1984.507589</td>\n",
       "      <td>40</td>\n",
       "      <td>среднее</td>\n",
       "      <td>1</td>\n",
       "      <td>женат / замужем</td>\n",
       "      <td>0</td>\n",
       "      <td>F</td>\n",
       "      <td>сотрудник</td>\n",
       "      <td>0</td>\n",
       "      <td>82047</td>\n",
       "      <td>на покупку автомобиля</td>\n",
       "      <td>автомобиль</td>\n",
       "      <td>есть дети</td>\n",
       "      <td>нет задолженности</td>\n",
       "      <td>низкий уровень дохода</td>\n",
       "    </tr>\n",
       "  </tbody>\n",
       "</table>\n",
       "</div>"
      ],
      "text/plain": [
       "       children  days_employed  age education  education_id     family_status  \\\n",
       "21449         1    4529.316663   43   среднее             1  гражданский брак   \n",
       "21450         0   17155.000000   67   среднее             1   женат / замужем   \n",
       "21451         1    2113.346888   38   среднее             1  гражданский брак   \n",
       "21452         3    3112.481705   38   среднее             1   женат / замужем   \n",
       "21453         2    1984.507589   40   среднее             1   женат / замужем   \n",
       "\n",
       "       family_status_id gender income_type  debt  total_income  \\\n",
       "21449                 1      F   компаньон     0        224791   \n",
       "21450                 0      F   пенсионер     0        155999   \n",
       "21451                 1      M   сотрудник     1         89672   \n",
       "21452                 0      M   сотрудник     1        244093   \n",
       "21453                 0      F   сотрудник     0         82047   \n",
       "\n",
       "                            purpose      category children_status  \\\n",
       "21449             операции с жильем  недвижимость       есть дети   \n",
       "21450          сделка с автомобилем    автомобиль       нет детей   \n",
       "21451                  недвижимость  недвижимость       есть дети   \n",
       "21452  на покупку своего автомобиля    автомобиль       есть дети   \n",
       "21453         на покупку автомобиля    автомобиль       есть дети   \n",
       "\n",
       "              debt_status                  income  \n",
       "21449   нет задолженности  высокий уровень дохода  \n",
       "21450   нет задолженности  высокий уровень дохода  \n",
       "21451  есть задолженность   низкий уровень дохода  \n",
       "21452  есть задолженность  высокий уровень дохода  \n",
       "21453   нет задолженности   низкий уровень дохода  "
      ]
     },
     "metadata": {},
     "output_type": "display_data"
    }
   ],
   "source": [
    "def children_status (kids):\n",
    "    if kids['children'] != 0:\n",
    "        return 'есть дети'\n",
    "    if kids ['children'] == 0:\n",
    "        return 'нет детей'\n",
    "data ['children_status'] = data.apply (children_status, axis = 1)\n",
    "\n",
    "\n",
    "def debt_status (row):\n",
    "    if row ['debt'] == 1:\n",
    "        return 'есть задолженность'\n",
    "    else:\n",
    "        return 'нет задолженности'\n",
    "data ['debt_status'] = data.apply (debt_status, axis = 1)\n",
    "\n",
    "\n",
    "def income_status (row):\n",
    "    if row ['total_income'] < 100000:\n",
    "        return 'низкий уровень дохода'\n",
    "    elif 100000 < row ['total_income'] < 150000:\n",
    "        return 'средний уровень дохода'\n",
    "    else:\n",
    "        return 'высокий уровень дохода'\n",
    "data ['income'] = data.apply (income_status, axis = 1)\n",
    "display (data.tail(5))"
   ]
  },
  {
   "cell_type": "markdown",
   "metadata": {},
   "source": [
    "**Вывод**"
   ]
  },
  {
   "cell_type": "markdown",
   "metadata": {},
   "source": [
    "На основе уникальных значений столбца выделены основные категории и произведена категоризация. Данные разбиты на категориии: автомобиль, свадьба, недвижимость, обучение. \n",
    "Также выделены категории \"есть задолженность\" и \"нет задолженности\" для всех клиентов банка. \n",
    "Выделены категории по наличию детей для ответа на вопросы. "
   ]
  },
  {
   "cell_type": "markdown",
   "metadata": {},
   "source": [
    "## Шаг 3. Ответьте на вопросы"
   ]
  },
  {
   "cell_type": "markdown",
   "metadata": {},
   "source": [
    "- Есть ли зависимость между наличием детей и возвратом кредита в срок?"
   ]
  },
  {
   "cell_type": "code",
   "execution_count": 15,
   "metadata": {},
   "outputs": [
    {
     "data": {
      "text/html": [
       "<div>\n",
       "<style scoped>\n",
       "    .dataframe tbody tr th:only-of-type {\n",
       "        vertical-align: middle;\n",
       "    }\n",
       "\n",
       "    .dataframe tbody tr th {\n",
       "        vertical-align: top;\n",
       "    }\n",
       "\n",
       "    .dataframe thead th {\n",
       "        text-align: right;\n",
       "    }\n",
       "</style>\n",
       "<table border=\"1\" class=\"dataframe\">\n",
       "  <thead>\n",
       "    <tr style=\"text-align: right;\">\n",
       "      <th>debt_status</th>\n",
       "      <th>есть задолженность</th>\n",
       "      <th>нет задолженности</th>\n",
       "    </tr>\n",
       "    <tr>\n",
       "      <th>children_status</th>\n",
       "      <th></th>\n",
       "      <th></th>\n",
       "    </tr>\n",
       "  </thead>\n",
       "  <tbody>\n",
       "    <tr>\n",
       "      <th>нет детей</th>\n",
       "      <td>1063</td>\n",
       "      <td>13028</td>\n",
       "    </tr>\n",
       "    <tr>\n",
       "      <th>есть дети</th>\n",
       "      <td>678</td>\n",
       "      <td>6685</td>\n",
       "    </tr>\n",
       "  </tbody>\n",
       "</table>\n",
       "</div>"
      ],
      "text/plain": [
       "debt_status      есть задолженность  нет задолженности\n",
       "children_status                                       \n",
       "нет детей                      1063              13028\n",
       "есть дети                       678               6685"
      ]
     },
     "metadata": {},
     "output_type": "display_data"
    }
   ],
   "source": [
    "data_pivot = data.pivot_table(\n",
    "    index = ['children_status'], \n",
    "    columns = 'debt_status',\n",
    "    values ='debt',\n",
    "    aggfunc = 'count')\n",
    "display (data_pivot.sort_index(ascending = False))\n"
   ]
  },
  {
   "cell_type": "code",
   "execution_count": 16,
   "metadata": {},
   "outputs": [
    {
     "data": {
      "image/png": "[encoded data removed]",
      "text/plain": [
       "<Figure size 432x288 with 1 Axes>"
      ]
     },
     "metadata": {
      "needs_background": "light"
     },
     "output_type": "display_data"
    }
   ],
   "source": [
    "sns.barplot (y = data['debt'], x = data ['children_status'])\n",
    "plt.show()"
   ]
  },
  {
   "cell_type": "markdown",
   "metadata": {},
   "source": [
    "**Вывод**"
   ]
  },
  {
   "cell_type": "markdown",
   "metadata": {},
   "source": [
    "Среди клиентов банка, имеющих задолженности меньше тех, кто имеет детей. Соотвественно наличие детей положительно влияет на вероятность возварата кредита. "
   ]
  },
  {
   "cell_type": "markdown",
   "metadata": {},
   "source": [
    "- Есть ли зависимость между семейным положением и возвратом кредита в срок?"
   ]
  },
  {
   "cell_type": "code",
   "execution_count": 17,
   "metadata": {},
   "outputs": [
    {
     "data": {
      "text/html": [
       "<div>\n",
       "<style scoped>\n",
       "    .dataframe tbody tr th:only-of-type {\n",
       "        vertical-align: middle;\n",
       "    }\n",
       "\n",
       "    .dataframe tbody tr th {\n",
       "        vertical-align: top;\n",
       "    }\n",
       "\n",
       "    .dataframe thead th {\n",
       "        text-align: right;\n",
       "    }\n",
       "</style>\n",
       "<table border=\"1\" class=\"dataframe\">\n",
       "  <thead>\n",
       "    <tr style=\"text-align: right;\">\n",
       "      <th>debt_status</th>\n",
       "      <th>есть задолженность</th>\n",
       "      <th>нет задолженности</th>\n",
       "    </tr>\n",
       "    <tr>\n",
       "      <th>family_status</th>\n",
       "      <th></th>\n",
       "      <th></th>\n",
       "    </tr>\n",
       "  </thead>\n",
       "  <tbody>\n",
       "    <tr>\n",
       "      <th>женат / замужем</th>\n",
       "      <td>931</td>\n",
       "      <td>11408</td>\n",
       "    </tr>\n",
       "    <tr>\n",
       "      <th>гражданский брак</th>\n",
       "      <td>388</td>\n",
       "      <td>3763</td>\n",
       "    </tr>\n",
       "    <tr>\n",
       "      <th>вдовец / вдова</th>\n",
       "      <td>63</td>\n",
       "      <td>896</td>\n",
       "    </tr>\n",
       "    <tr>\n",
       "      <th>в разводе</th>\n",
       "      <td>85</td>\n",
       "      <td>1110</td>\n",
       "    </tr>\n",
       "    <tr>\n",
       "      <th>Не женат / не замужем</th>\n",
       "      <td>274</td>\n",
       "      <td>2536</td>\n",
       "    </tr>\n",
       "  </tbody>\n",
       "</table>\n",
       "</div>"
      ],
      "text/plain": [
       "debt_status            есть задолженность  нет задолженности\n",
       "family_status                                               \n",
       "женат / замужем                       931              11408\n",
       "гражданский брак                      388               3763\n",
       "вдовец / вдова                         63                896\n",
       "в разводе                              85               1110\n",
       "Не женат / не замужем                 274               2536"
      ]
     },
     "metadata": {},
     "output_type": "display_data"
    }
   ],
   "source": [
    "data_pivot = data.pivot_table(\n",
    "    index = ['family_status'], \n",
    "    columns = 'debt_status',\n",
    "    values ='debt',\n",
    "    aggfunc = 'count')\n",
    "display (data_pivot.sort_index(ascending = False))\n"
   ]
  },
  {
   "cell_type": "code",
   "execution_count": 23,
   "metadata": {},
   "outputs": [
    {
     "data": {
      "image/png": "[encoded data removed]",
      "text/plain": [
       "<Figure size 432x288 with 1 Axes>"
      ]
     },
     "metadata": {
      "needs_background": "light"
     },
     "output_type": "display_data"
    }
   ],
   "source": [
    "sns.barplot (y = data['debt'], x = data ['family_status'])\n",
    "sns.set(style=\"white\")\n",
    "plt.xticks(rotation=90)\n",
    "plt.show()"
   ]
  },
  {
   "cell_type": "markdown",
   "metadata": {},
   "source": [
    "**Вывод**"
   ]
  },
  {
   "cell_type": "markdown",
   "metadata": {},
   "source": [
    "Семейное положение слабо влияет на вероятность возврата кредита. Среди должников в каждом сегементе около 1-2 процентов должников или меньше. Но больше всего тех, кто не замужем\\не женат. Меньше всего должников среди категории вдовец\\вдова. "
   ]
  },
  {
   "cell_type": "markdown",
   "metadata": {},
   "source": [
    "- Есть ли зависимость между уровнем дохода и возвратом кредита в срок?"
   ]
  },
  {
   "cell_type": "code",
   "execution_count": 27,
   "metadata": {},
   "outputs": [
    {
     "data": {
      "text/html": [
       "<div>\n",
       "<style scoped>\n",
       "    .dataframe tbody tr th:only-of-type {\n",
       "        vertical-align: middle;\n",
       "    }\n",
       "\n",
       "    .dataframe tbody tr th {\n",
       "        vertical-align: top;\n",
       "    }\n",
       "\n",
       "    .dataframe thead th {\n",
       "        text-align: right;\n",
       "    }\n",
       "</style>\n",
       "<table border=\"1\" class=\"dataframe\">\n",
       "  <thead>\n",
       "    <tr style=\"text-align: right;\">\n",
       "      <th>debt_status</th>\n",
       "      <th>есть задолженность</th>\n",
       "      <th>нет задолженности</th>\n",
       "    </tr>\n",
       "    <tr>\n",
       "      <th>income</th>\n",
       "      <th></th>\n",
       "      <th></th>\n",
       "    </tr>\n",
       "  </thead>\n",
       "  <tbody>\n",
       "    <tr>\n",
       "      <th>средний уровень дохода</th>\n",
       "      <td>661</td>\n",
       "      <td>7146</td>\n",
       "    </tr>\n",
       "    <tr>\n",
       "      <th>низкий уровень дохода</th>\n",
       "      <td>354</td>\n",
       "      <td>4109</td>\n",
       "    </tr>\n",
       "    <tr>\n",
       "      <th>высокий уровень дохода</th>\n",
       "      <td>726</td>\n",
       "      <td>8458</td>\n",
       "    </tr>\n",
       "  </tbody>\n",
       "</table>\n",
       "</div>"
      ],
      "text/plain": [
       "debt_status             есть задолженность  нет задолженности\n",
       "income                                                       \n",
       "средний уровень дохода                 661               7146\n",
       "низкий уровень дохода                  354               4109\n",
       "высокий уровень дохода                 726               8458"
      ]
     },
     "metadata": {},
     "output_type": "display_data"
    },
    {
     "data": {
      "image/png": "[encoded data removed]",
      "text/plain": [
       "<Figure size 432x288 with 1 Axes>"
      ]
     },
     "metadata": {},
     "output_type": "display_data"
    }
   ],
   "source": [
    "data_pivot = data.pivot_table(\n",
    "    index = ['income'], \n",
    "    columns = 'debt_status',\n",
    "    values ='debt',\n",
    "    aggfunc = 'count')\n",
    "display (data_pivot.sort_index(ascending = False))\n",
    "sns.barplot (y = data['debt'], x = data ['income'])\n",
    "sns.set(style=\"white\")\n",
    "plt.xticks(rotation=90)\n",
    "plt.show()"
   ]
  },
  {
   "cell_type": "markdown",
   "metadata": {},
   "source": [
    "**Вывод**"
   ]
  },
  {
   "cell_type": "markdown",
   "metadata": {},
   "source": [
    "Больше всего задолженностей среди клиентов со среднем уровнем дохода. В целом этот показатель не сильно влияет на вероятность возврата. Среди всех категорий примерно одинаковый процент должников "
   ]
  },
  {
   "cell_type": "markdown",
   "metadata": {},
   "source": [
    "- Как разные цели кредита влияют на его возврат в срок?"
   ]
  },
  {
   "cell_type": "code",
   "execution_count": 29,
   "metadata": {
    "scrolled": false
   },
   "outputs": [
    {
     "data": {
      "text/html": [
       "<div>\n",
       "<style scoped>\n",
       "    .dataframe tbody tr th:only-of-type {\n",
       "        vertical-align: middle;\n",
       "    }\n",
       "\n",
       "    .dataframe tbody tr th {\n",
       "        vertical-align: top;\n",
       "    }\n",
       "\n",
       "    .dataframe thead th {\n",
       "        text-align: right;\n",
       "    }\n",
       "</style>\n",
       "<table border=\"1\" class=\"dataframe\">\n",
       "  <thead>\n",
       "    <tr style=\"text-align: right;\">\n",
       "      <th>debt_status</th>\n",
       "      <th>есть задолженность</th>\n",
       "      <th>нет задолженности</th>\n",
       "    </tr>\n",
       "    <tr>\n",
       "      <th>category</th>\n",
       "      <th></th>\n",
       "      <th></th>\n",
       "    </tr>\n",
       "  </thead>\n",
       "  <tbody>\n",
       "    <tr>\n",
       "      <th>свадьба</th>\n",
       "      <td>186</td>\n",
       "      <td>2138</td>\n",
       "    </tr>\n",
       "    <tr>\n",
       "      <th>обучение</th>\n",
       "      <td>370</td>\n",
       "      <td>3643</td>\n",
       "    </tr>\n",
       "    <tr>\n",
       "      <th>недвижимость</th>\n",
       "      <td>782</td>\n",
       "      <td>10029</td>\n",
       "    </tr>\n",
       "    <tr>\n",
       "      <th>автомобиль</th>\n",
       "      <td>403</td>\n",
       "      <td>3903</td>\n",
       "    </tr>\n",
       "  </tbody>\n",
       "</table>\n",
       "</div>"
      ],
      "text/plain": [
       "debt_status   есть задолженность  нет задолженности\n",
       "category                                           \n",
       "свадьба                      186               2138\n",
       "обучение                     370               3643\n",
       "недвижимость                 782              10029\n",
       "автомобиль                   403               3903"
      ]
     },
     "metadata": {},
     "output_type": "display_data"
    },
    {
     "data": {
      "image/png": "[encoded data removed]",
      "text/plain": [
       "<Figure size 432x288 with 1 Axes>"
      ]
     },
     "metadata": {},
     "output_type": "display_data"
    }
   ],
   "source": [
    "data_pivot = data.pivot_table(\n",
    "    index = ['category'], \n",
    "    columns = 'debt_status',\n",
    "    values ='debt',\n",
    "    aggfunc = 'count')\n",
    "display (data_pivot.sort_index(ascending = False))\n",
    "sns.barplot (y = data ['debt'], x = data ['category'])\n",
    "plt.show()"
   ]
  },
  {
   "cell_type": "markdown",
   "metadata": {},
   "source": [
    "**Вывод**"
   ]
  },
  {
   "cell_type": "markdown",
   "metadata": {},
   "source": [
    "По процентному соотношению больше всего должников среди тех, кто брал кредит на автомобили"
   ]
  },
  {
   "cell_type": "markdown",
   "metadata": {},
   "source": [
    "## Шаг 4. Общий вывод"
   ]
  },
  {
   "cell_type": "markdown",
   "metadata": {},
   "source": [
    "Вероятность возврата кредита в срок выше у клиентов с детьми;\n",
    "- Данная гипотеза не подтвердилась. Среди клиентов, у которых нет задолжности 13028 без детей и 6685 тех, у кого дети есть. Среди должников банка 678 клиентов, у которых есть дети и 1063 у которых нет.\n",
    "Наличие супруга/супруга у заемщика положительно влияет на возврат кредита в срок;\n",
    "- На вероятность возврата кредита положительно влияет наличие детей и супруга\\супруги. Нет задолжености у 11408 клиентов банка, которые находятся в браке. И всего 931 клиент, находясь в браке имеет задолженность. \n",
    "Высокий уровень дохода обеспечивает возврат кредита в срок;\n",
    "- Данная гипотеза не пдтвердилась. Больше всего должников банка (726) среди категории \"высокий уровень дохода\", т.е. свыше 150 тыс. в месяц. Меньше всего должников (354) в сегементе \"низкий уровень дохода\", т.е. меньше 100 тыс. руб. \n",
    "Вероятность возврата кредита в срок зависит от цели кредита.\n",
    "- Да, это действительно так. Больше всего должников среди тех, кто брал кредит на покупку недвижимость. Таких клиентов 782 чел. Скорее всего увеличение количества должников в этом сегменте обьясняется самым продолжительным сроком кредитования среди других категорий. Меньше всего должников среди тех, кто берет кредиты с целью организации свадьбы, таких клиентов всего 186. Полагаю, что это обьясняется небольшой суммой кредита из которой повышается вероятность возврата в срок "
   ]
  }
 ],
 "metadata": {
  "ExecuteTimeLog": [
   {
    "duration": 633,
    "start_time": "2022-01-04T22:12:26.751Z"
   },
   {
    "duration": 50,
    "start_time": "2022-01-04T22:12:40.896Z"
   },
   {
    "duration": 50,
    "start_time": "2022-01-04T22:12:44.987Z"
   },
   {
    "duration": 60,
    "start_time": "2022-01-04T22:12:50.531Z"
   },
   {
    "duration": 62,
    "start_time": "2022-01-04T22:13:14.689Z"
   },
   {
    "duration": 63,
    "start_time": "2022-01-04T22:14:37.042Z"
   },
   {
    "duration": 59,
    "start_time": "2022-01-04T22:14:54.432Z"
   },
   {
    "duration": 65,
    "start_time": "2022-01-04T22:15:23.970Z"
   },
   {
    "duration": 11,
    "start_time": "2022-01-04T22:20:05.258Z"
   },
   {
    "duration": 20,
    "start_time": "2022-01-04T22:20:19.505Z"
   },
   {
    "duration": 67,
    "start_time": "2022-01-04T22:21:27.695Z"
   },
   {
    "duration": 66,
    "start_time": "2022-01-04T22:21:45.104Z"
   },
   {
    "duration": 23,
    "start_time": "2022-01-04T22:22:12.762Z"
   },
   {
    "duration": 18,
    "start_time": "2022-01-04T22:22:23.903Z"
   },
   {
    "duration": 69,
    "start_time": "2022-01-04T22:23:19.124Z"
   },
   {
    "duration": 65,
    "start_time": "2022-01-04T22:25:49.109Z"
   },
   {
    "duration": 63,
    "start_time": "2022-01-04T22:27:45.752Z"
   },
   {
    "duration": 350,
    "start_time": "2022-01-05T09:27:17.199Z"
   },
   {
    "duration": 288,
    "start_time": "2022-01-05T09:28:17.765Z"
   },
   {
    "duration": 825,
    "start_time": "2022-01-05T09:28:25.030Z"
   },
   {
    "duration": 18,
    "start_time": "2022-01-05T09:28:29.459Z"
   },
   {
    "duration": 15,
    "start_time": "2022-01-05T09:29:28.652Z"
   },
   {
    "duration": 596,
    "start_time": "2022-01-05T09:42:00.344Z"
   },
   {
    "duration": 388,
    "start_time": "2022-01-05T09:42:26.400Z"
   },
   {
    "duration": 77,
    "start_time": "2022-01-05T09:42:37.245Z"
   },
   {
    "duration": 17,
    "start_time": "2022-01-05T09:51:21.557Z"
   },
   {
    "duration": 89,
    "start_time": "2022-01-05T09:59:33.509Z"
   },
   {
    "duration": 94,
    "start_time": "2022-01-05T09:59:42.211Z"
   },
   {
    "duration": 102,
    "start_time": "2022-01-05T09:59:58.052Z"
   },
   {
    "duration": 433,
    "start_time": "2022-01-05T10:00:09.750Z"
   },
   {
    "duration": 93,
    "start_time": "2022-01-05T10:00:22.625Z"
   },
   {
    "duration": 21,
    "start_time": "2022-01-05T10:01:28.085Z"
   },
   {
    "duration": 16,
    "start_time": "2022-01-05T10:02:11.115Z"
   },
   {
    "duration": 18,
    "start_time": "2022-01-05T10:30:12.606Z"
   },
   {
    "duration": 23,
    "start_time": "2022-01-05T10:30:16.804Z"
   },
   {
    "duration": 21,
    "start_time": "2022-01-05T10:39:49.133Z"
   },
   {
    "duration": 363,
    "start_time": "2022-01-05T10:44:45.614Z"
   },
   {
    "duration": 16,
    "start_time": "2022-01-05T10:45:30.277Z"
   },
   {
    "duration": 7188,
    "start_time": "2022-01-05T11:06:08.062Z"
   },
   {
    "duration": 20,
    "start_time": "2022-01-05T11:06:18.371Z"
   },
   {
    "duration": 31,
    "start_time": "2022-01-05T11:07:10.059Z"
   },
   {
    "duration": 37,
    "start_time": "2022-01-05T11:07:27.678Z"
   },
   {
    "duration": 23,
    "start_time": "2022-01-05T11:07:38.754Z"
   },
   {
    "duration": 34,
    "start_time": "2022-01-05T11:08:27.829Z"
   },
   {
    "duration": 29,
    "start_time": "2022-01-05T11:08:43.045Z"
   },
   {
    "duration": 22,
    "start_time": "2022-01-05T11:08:57.782Z"
   },
   {
    "duration": 20,
    "start_time": "2022-01-05T11:09:09.272Z"
   },
   {
    "duration": 24,
    "start_time": "2022-01-05T11:10:26.883Z"
   },
   {
    "duration": 20,
    "start_time": "2022-01-05T11:10:31.758Z"
   },
   {
    "duration": 298,
    "start_time": "2022-01-05T11:23:26.337Z"
   },
   {
    "duration": 330,
    "start_time": "2022-01-05T11:23:50.153Z"
   },
   {
    "duration": 340,
    "start_time": "2022-01-05T11:24:00.953Z"
   },
   {
    "duration": 123,
    "start_time": "2022-01-05T11:26:24.368Z"
   },
   {
    "duration": 31,
    "start_time": "2022-01-05T11:26:28.389Z"
   },
   {
    "duration": 304,
    "start_time": "2022-01-05T11:26:31.753Z"
   },
   {
    "duration": 303,
    "start_time": "2022-01-05T11:27:30.353Z"
   },
   {
    "duration": 68,
    "start_time": "2022-01-05T11:31:48.688Z"
   },
   {
    "duration": 23,
    "start_time": "2022-01-05T11:32:06.661Z"
   },
   {
    "duration": 25,
    "start_time": "2022-01-05T11:32:16.326Z"
   },
   {
    "duration": 30,
    "start_time": "2022-01-05T11:38:09.881Z"
   },
   {
    "duration": 29,
    "start_time": "2022-01-05T11:38:17.873Z"
   },
   {
    "duration": 89,
    "start_time": "2022-01-05T11:38:32.518Z"
   },
   {
    "duration": 23,
    "start_time": "2022-01-05T11:38:35.151Z"
   },
   {
    "duration": 30,
    "start_time": "2022-01-05T11:38:38.274Z"
   },
   {
    "duration": 28,
    "start_time": "2022-01-05T11:39:00.007Z"
   },
   {
    "duration": 30,
    "start_time": "2022-01-05T11:39:09.532Z"
   },
   {
    "duration": 33,
    "start_time": "2022-01-05T11:39:36.046Z"
   },
   {
    "duration": 29,
    "start_time": "2022-01-05T11:39:43.718Z"
   },
   {
    "duration": 29,
    "start_time": "2022-01-05T11:39:46.241Z"
   },
   {
    "duration": 3929,
    "start_time": "2022-01-05T11:40:11.255Z"
   },
   {
    "duration": 299,
    "start_time": "2022-01-05T11:40:19.129Z"
   },
   {
    "duration": 299,
    "start_time": "2022-01-05T11:40:25.035Z"
   },
   {
    "duration": 87,
    "start_time": "2022-01-05T11:40:36.161Z"
   },
   {
    "duration": 23,
    "start_time": "2022-01-05T11:40:38.752Z"
   },
   {
    "duration": 29,
    "start_time": "2022-01-05T11:40:41.918Z"
   },
   {
    "duration": 92,
    "start_time": "2022-01-05T17:27:33.434Z"
   },
   {
    "duration": 25,
    "start_time": "2022-01-05T17:27:37.536Z"
   },
   {
    "duration": 46,
    "start_time": "2022-01-05T17:27:40.018Z"
   },
   {
    "duration": 25,
    "start_time": "2022-01-05T17:28:19.461Z"
   },
   {
    "duration": 26,
    "start_time": "2022-01-05T17:33:47.005Z"
   },
   {
    "duration": 26,
    "start_time": "2022-01-05T17:34:11.647Z"
   },
   {
    "duration": 26,
    "start_time": "2022-01-05T17:34:19.656Z"
   },
   {
    "duration": 90,
    "start_time": "2022-01-05T17:34:31.415Z"
   },
   {
    "duration": 30,
    "start_time": "2022-01-05T17:34:31.508Z"
   },
   {
    "duration": 25,
    "start_time": "2022-01-05T17:34:31.541Z"
   },
   {
    "duration": 27,
    "start_time": "2022-01-05T17:34:51.788Z"
   },
   {
    "duration": 95,
    "start_time": "2022-01-05T17:35:29.981Z"
   },
   {
    "duration": 26,
    "start_time": "2022-01-05T17:35:33.787Z"
   },
   {
    "duration": 20,
    "start_time": "2022-01-05T17:35:37.155Z"
   },
   {
    "duration": 21,
    "start_time": "2022-01-05T17:36:36.188Z"
   },
   {
    "duration": 31,
    "start_time": "2022-01-05T17:37:43.812Z"
   },
   {
    "duration": 20,
    "start_time": "2022-01-05T17:38:05.299Z"
   },
   {
    "duration": 32,
    "start_time": "2022-01-05T17:43:45.808Z"
   },
   {
    "duration": 40,
    "start_time": "2022-01-05T17:44:30.164Z"
   },
   {
    "duration": 142,
    "start_time": "2022-01-05T17:54:36.932Z"
   },
   {
    "duration": 33,
    "start_time": "2022-01-05T17:54:51.402Z"
   },
   {
    "duration": 21,
    "start_time": "2022-01-05T17:55:04.070Z"
   },
   {
    "duration": 768,
    "start_time": "2022-01-05T17:55:24.658Z"
   },
   {
    "duration": 725,
    "start_time": "2022-01-05T17:55:36.369Z"
   },
   {
    "duration": 737,
    "start_time": "2022-01-05T17:56:01.300Z"
   },
   {
    "duration": 94,
    "start_time": "2022-01-05T17:56:19.049Z"
   },
   {
    "duration": 21,
    "start_time": "2022-01-05T17:56:47.923Z"
   },
   {
    "duration": 13,
    "start_time": "2022-01-05T17:56:55.267Z"
   },
   {
    "duration": 92,
    "start_time": "2022-01-05T17:57:47.732Z"
   },
   {
    "duration": 111,
    "start_time": "2022-01-05T17:57:51.969Z"
   },
   {
    "duration": 16,
    "start_time": "2022-01-05T17:58:03.984Z"
   },
   {
    "duration": 31,
    "start_time": "2022-01-05T17:58:47.105Z"
   },
   {
    "duration": 91,
    "start_time": "2022-01-05T17:59:00.587Z"
   },
   {
    "duration": 23,
    "start_time": "2022-01-05T17:59:00.680Z"
   },
   {
    "duration": 47,
    "start_time": "2022-01-05T17:59:28.437Z"
   },
   {
    "duration": 34,
    "start_time": "2022-01-05T18:00:05.487Z"
   },
   {
    "duration": 34,
    "start_time": "2022-01-05T18:00:18.942Z"
   },
   {
    "duration": 34,
    "start_time": "2022-01-05T18:00:32.051Z"
   },
   {
    "duration": 32,
    "start_time": "2022-01-05T18:00:39.778Z"
   },
   {
    "duration": 31,
    "start_time": "2022-01-05T18:00:47.402Z"
   },
   {
    "duration": 31,
    "start_time": "2022-01-05T18:00:53.725Z"
   },
   {
    "duration": 32,
    "start_time": "2022-01-05T18:01:02.360Z"
   },
   {
    "duration": 31,
    "start_time": "2022-01-05T18:01:11.663Z"
   },
   {
    "duration": 90,
    "start_time": "2022-01-05T18:01:19.234Z"
   },
   {
    "duration": 23,
    "start_time": "2022-01-05T18:01:19.327Z"
   },
   {
    "duration": 33,
    "start_time": "2022-01-05T18:01:22.097Z"
   },
   {
    "duration": 32,
    "start_time": "2022-01-05T18:01:34.431Z"
   },
   {
    "duration": 110,
    "start_time": "2022-01-05T18:21:09.538Z"
   },
   {
    "duration": 108,
    "start_time": "2022-01-05T18:21:46.058Z"
   },
   {
    "duration": 109,
    "start_time": "2022-01-05T18:22:29.736Z"
   },
   {
    "duration": 103,
    "start_time": "2022-01-05T18:22:37.381Z"
   },
   {
    "duration": 151,
    "start_time": "2022-01-05T18:22:47.900Z"
   },
   {
    "duration": 102,
    "start_time": "2022-01-05T18:22:57.331Z"
   },
   {
    "duration": 319,
    "start_time": "2022-01-05T18:23:17.219Z"
   },
   {
    "duration": 93,
    "start_time": "2022-01-05T18:36:57.129Z"
   },
   {
    "duration": 724,
    "start_time": "2022-01-05T18:37:02.066Z"
   },
   {
    "duration": 284,
    "start_time": "2022-01-05T18:41:12.017Z"
   },
   {
    "duration": 54,
    "start_time": "2022-01-05T18:41:30.070Z"
   },
   {
    "duration": 44,
    "start_time": "2022-01-05T18:41:44.871Z"
   },
   {
    "duration": 25,
    "start_time": "2022-01-05T18:41:58.031Z"
   },
   {
    "duration": 23,
    "start_time": "2022-01-05T18:42:14.247Z"
   },
   {
    "duration": 90,
    "start_time": "2022-01-05T18:42:32.391Z"
   },
   {
    "duration": 25,
    "start_time": "2022-01-05T18:42:32.483Z"
   },
   {
    "duration": 33,
    "start_time": "2022-01-05T18:42:34.888Z"
   },
   {
    "duration": 23,
    "start_time": "2022-01-05T18:44:03.485Z"
   },
   {
    "duration": 94,
    "start_time": "2022-01-05T18:44:27.332Z"
   },
   {
    "duration": 22,
    "start_time": "2022-01-05T18:45:46.716Z"
   },
   {
    "duration": 104,
    "start_time": "2022-01-05T18:46:04.330Z"
   },
   {
    "duration": 22,
    "start_time": "2022-01-05T18:46:09.038Z"
   },
   {
    "duration": 16,
    "start_time": "2022-01-05T18:49:37.089Z"
   },
   {
    "duration": 15,
    "start_time": "2022-01-05T18:49:46.288Z"
   },
   {
    "duration": 15,
    "start_time": "2022-01-05T18:50:03.546Z"
   },
   {
    "duration": 13,
    "start_time": "2022-01-05T18:50:41.162Z"
   },
   {
    "duration": 15,
    "start_time": "2022-01-05T18:51:51.540Z"
   },
   {
    "duration": 14,
    "start_time": "2022-01-05T18:54:37.862Z"
   },
   {
    "duration": 14,
    "start_time": "2022-01-05T18:55:56.312Z"
   },
   {
    "duration": 98,
    "start_time": "2022-01-05T18:58:17.626Z"
   },
   {
    "duration": 17,
    "start_time": "2022-01-05T18:58:22.879Z"
   },
   {
    "duration": 6,
    "start_time": "2022-01-05T19:00:01.186Z"
   },
   {
    "duration": 21,
    "start_time": "2022-01-05T19:00:13.040Z"
   },
   {
    "duration": 89,
    "start_time": "2022-01-05T19:00:23.860Z"
   },
   {
    "duration": 24,
    "start_time": "2022-01-05T19:00:23.952Z"
   },
   {
    "duration": 25,
    "start_time": "2022-01-05T19:00:26.132Z"
   },
   {
    "duration": 14,
    "start_time": "2022-01-05T19:00:42.143Z"
   },
   {
    "duration": 14,
    "start_time": "2022-01-05T19:01:27.617Z"
   },
   {
    "duration": 14,
    "start_time": "2022-01-05T19:08:19.663Z"
   },
   {
    "duration": 15,
    "start_time": "2022-01-05T19:08:34.828Z"
   },
   {
    "duration": 14,
    "start_time": "2022-01-05T19:09:06.060Z"
   },
   {
    "duration": 146,
    "start_time": "2022-01-05T19:17:40.181Z"
   },
   {
    "duration": 15,
    "start_time": "2022-01-05T19:17:47.700Z"
   },
   {
    "duration": 101,
    "start_time": "2022-01-05T19:18:00.940Z"
   },
   {
    "duration": 15,
    "start_time": "2022-01-05T19:18:05.617Z"
   },
   {
    "duration": 106,
    "start_time": "2022-01-05T19:18:08.740Z"
   },
   {
    "duration": 16,
    "start_time": "2022-01-05T19:18:17.067Z"
   },
   {
    "duration": 16,
    "start_time": "2022-01-05T19:23:59.013Z"
   },
   {
    "duration": 16,
    "start_time": "2022-01-05T19:24:01.541Z"
   },
   {
    "duration": 16,
    "start_time": "2022-01-05T19:24:08.812Z"
   },
   {
    "duration": 19,
    "start_time": "2022-01-05T19:24:18.857Z"
   },
   {
    "duration": 19,
    "start_time": "2022-01-05T19:24:37.150Z"
   },
   {
    "duration": 19,
    "start_time": "2022-01-05T19:24:38.613Z"
   },
   {
    "duration": 18,
    "start_time": "2022-01-05T19:24:39.439Z"
   },
   {
    "duration": 20,
    "start_time": "2022-01-05T19:24:54.220Z"
   },
   {
    "duration": 19,
    "start_time": "2022-01-05T19:24:56.672Z"
   },
   {
    "duration": 86,
    "start_time": "2022-01-05T19:25:01.239Z"
   },
   {
    "duration": 22,
    "start_time": "2022-01-05T19:25:01.328Z"
   },
   {
    "duration": 22,
    "start_time": "2022-01-05T19:25:03.317Z"
   },
   {
    "duration": 35,
    "start_time": "2022-01-05T19:25:32.825Z"
   },
   {
    "duration": 25,
    "start_time": "2022-01-05T19:25:45.600Z"
   },
   {
    "duration": 20,
    "start_time": "2022-01-05T19:25:48.649Z"
   },
   {
    "duration": 55,
    "start_time": "2022-01-05T19:32:05.290Z"
   },
   {
    "duration": 53,
    "start_time": "2022-01-05T19:32:09.971Z"
   },
   {
    "duration": 89,
    "start_time": "2022-01-05T19:32:14.675Z"
   },
   {
    "duration": 22,
    "start_time": "2022-01-05T19:32:14.766Z"
   },
   {
    "duration": 37,
    "start_time": "2022-01-05T19:32:14.791Z"
   },
   {
    "duration": 93,
    "start_time": "2022-01-05T19:32:57.689Z"
   },
   {
    "duration": 22,
    "start_time": "2022-01-05T19:32:57.785Z"
   },
   {
    "duration": 22,
    "start_time": "2022-01-05T19:32:57.823Z"
   },
   {
    "duration": 53,
    "start_time": "2022-01-05T19:33:00.371Z"
   },
   {
    "duration": 36,
    "start_time": "2022-01-05T19:33:08.650Z"
   },
   {
    "duration": 38,
    "start_time": "2022-01-05T19:33:09.450Z"
   },
   {
    "duration": 51,
    "start_time": "2022-01-05T19:33:15.232Z"
   },
   {
    "duration": 50,
    "start_time": "2022-01-05T19:33:59.382Z"
   },
   {
    "duration": 51,
    "start_time": "2022-01-05T19:34:56.859Z"
   },
   {
    "duration": 77,
    "start_time": "2022-01-05T19:36:15.206Z"
   },
   {
    "duration": 39,
    "start_time": "2022-01-05T19:36:43.199Z"
   },
   {
    "duration": 88,
    "start_time": "2022-01-05T19:36:50.319Z"
   },
   {
    "duration": 29,
    "start_time": "2022-01-05T19:36:50.410Z"
   },
   {
    "duration": 22,
    "start_time": "2022-01-05T19:36:50.442Z"
   },
   {
    "duration": 36,
    "start_time": "2022-01-05T19:36:52.220Z"
   },
   {
    "duration": 32,
    "start_time": "2022-01-05T19:37:14.137Z"
   },
   {
    "duration": 54,
    "start_time": "2022-01-05T19:38:13.147Z"
   },
   {
    "duration": 36,
    "start_time": "2022-01-05T19:38:29.893Z"
   },
   {
    "duration": 37,
    "start_time": "2022-01-05T19:38:44.060Z"
   },
   {
    "duration": 35,
    "start_time": "2022-01-05T19:38:50.308Z"
   },
   {
    "duration": 340,
    "start_time": "2022-01-05T19:41:28.912Z"
   },
   {
    "duration": 554,
    "start_time": "2022-01-05T19:41:34.781Z"
   },
   {
    "duration": 287,
    "start_time": "2022-01-05T19:42:06.324Z"
   },
   {
    "duration": 46,
    "start_time": "2022-01-05T19:42:24.375Z"
   },
   {
    "duration": 308,
    "start_time": "2022-01-05T19:44:49.907Z"
   },
   {
    "duration": 44,
    "start_time": "2022-01-05T19:45:02.671Z"
   },
   {
    "duration": 96,
    "start_time": "2022-01-05T19:51:01.027Z"
   },
   {
    "duration": 42,
    "start_time": "2022-01-05T19:51:12.628Z"
   },
   {
    "duration": 44,
    "start_time": "2022-01-05T19:52:57.565Z"
   },
   {
    "duration": 11,
    "start_time": "2022-01-05T20:06:27.547Z"
   },
   {
    "duration": 274,
    "start_time": "2022-01-05T20:21:51.136Z"
   },
   {
    "duration": 6,
    "start_time": "2022-01-05T20:22:14.107Z"
   },
   {
    "duration": 10,
    "start_time": "2022-01-05T22:15:54.011Z"
   },
   {
    "duration": 89,
    "start_time": "2022-01-05T22:35:12.224Z"
   },
   {
    "duration": 28,
    "start_time": "2022-01-05T22:35:12.316Z"
   },
   {
    "duration": 50,
    "start_time": "2022-01-05T22:35:31.167Z"
   },
   {
    "duration": 7890,
    "start_time": "2022-01-05T22:35:35.130Z"
   },
   {
    "duration": 23,
    "start_time": "2022-01-05T22:35:46.407Z"
   },
   {
    "duration": 48,
    "start_time": "2022-01-05T22:35:51.893Z"
   },
   {
    "duration": 12387,
    "start_time": "2022-01-05T22:35:55.509Z"
   },
   {
    "duration": 8068,
    "start_time": "2022-01-05T22:39:05.539Z"
   },
   {
    "duration": 6528,
    "start_time": "2022-01-05T22:39:37.328Z"
   },
   {
    "duration": 5318,
    "start_time": "2022-01-05T22:40:58.687Z"
   },
   {
    "duration": 5392,
    "start_time": "2022-01-05T22:41:23.680Z"
   },
   {
    "duration": 5643,
    "start_time": "2022-01-05T22:41:56.803Z"
   },
   {
    "duration": 5293,
    "start_time": "2022-01-05T22:42:10.629Z"
   },
   {
    "duration": 7777,
    "start_time": "2022-01-05T22:42:51.025Z"
   },
   {
    "duration": 5181,
    "start_time": "2022-01-05T22:43:04.004Z"
   },
   {
    "duration": 5186,
    "start_time": "2022-01-05T22:44:01.302Z"
   },
   {
    "duration": 4878,
    "start_time": "2022-01-05T22:44:31.216Z"
   },
   {
    "duration": 5659,
    "start_time": "2022-01-05T22:45:27.101Z"
   },
   {
    "duration": 5361,
    "start_time": "2022-01-05T22:46:02.713Z"
   },
   {
    "duration": 305,
    "start_time": "2022-01-05T22:46:18.792Z"
   },
   {
    "duration": 6083,
    "start_time": "2022-01-05T22:46:30.960Z"
   },
   {
    "duration": 6221,
    "start_time": "2022-01-05T22:46:53.377Z"
   },
   {
    "duration": 6622,
    "start_time": "2022-01-05T22:49:16.164Z"
   },
   {
    "duration": 8619,
    "start_time": "2022-01-05T22:53:20.432Z"
   },
   {
    "duration": 8346,
    "start_time": "2022-01-05T22:53:39.146Z"
   },
   {
    "duration": 12440,
    "start_time": "2022-01-05T22:54:07.582Z"
   },
   {
    "duration": 8176,
    "start_time": "2022-01-05T22:54:46.686Z"
   },
   {
    "duration": 122,
    "start_time": "2022-01-05T22:55:02.701Z"
   },
   {
    "duration": 23,
    "start_time": "2022-01-05T22:55:02.826Z"
   },
   {
    "duration": 25,
    "start_time": "2022-01-05T22:55:02.853Z"
   },
   {
    "duration": 76,
    "start_time": "2022-01-05T22:55:02.881Z"
   },
   {
    "duration": 6677,
    "start_time": "2022-01-05T22:55:02.960Z"
   },
   {
    "duration": 149,
    "start_time": "2022-01-06T09:02:41.352Z"
   },
   {
    "duration": 353,
    "start_time": "2022-01-06T09:03:26.222Z"
   },
   {
    "duration": 250,
    "start_time": "2022-01-06T09:05:21.374Z"
   },
   {
    "duration": 376,
    "start_time": "2022-01-06T09:06:27.726Z"
   },
   {
    "duration": 687,
    "start_time": "2022-01-06T09:06:51.069Z"
   },
   {
    "duration": 18,
    "start_time": "2022-01-06T09:06:51.758Z"
   },
   {
    "duration": 16,
    "start_time": "2022-01-06T09:06:51.778Z"
   },
   {
    "duration": 35,
    "start_time": "2022-01-06T09:06:51.796Z"
   },
   {
    "duration": 4404,
    "start_time": "2022-01-06T09:06:51.833Z"
   },
   {
    "duration": 337,
    "start_time": "2022-01-06T09:06:56.239Z"
   },
   {
    "duration": 261,
    "start_time": "2022-01-06T09:07:34.467Z"
   },
   {
    "duration": 287,
    "start_time": "2022-01-06T09:07:53.766Z"
   },
   {
    "duration": 28,
    "start_time": "2022-01-06T09:18:35.554Z"
   },
   {
    "duration": 18,
    "start_time": "2022-01-06T09:19:34.846Z"
   },
   {
    "duration": 296,
    "start_time": "2022-01-06T09:20:30.674Z"
   },
   {
    "duration": 21,
    "start_time": "2022-01-06T09:20:53.800Z"
   },
   {
    "duration": 395,
    "start_time": "2022-01-06T09:23:18.158Z"
   },
   {
    "duration": 18,
    "start_time": "2022-01-06T09:23:37.135Z"
   },
   {
    "duration": 433,
    "start_time": "2022-01-06T10:06:45.710Z"
   },
   {
    "duration": 14,
    "start_time": "2022-01-06T10:06:51.325Z"
   },
   {
    "duration": 14,
    "start_time": "2022-01-06T10:07:07.253Z"
   },
   {
    "duration": 82,
    "start_time": "2022-01-06T10:07:42.052Z"
   },
   {
    "duration": 82,
    "start_time": "2022-01-06T10:07:47.258Z"
   },
   {
    "duration": 13,
    "start_time": "2022-01-06T10:08:08.382Z"
   },
   {
    "duration": 15,
    "start_time": "2022-01-06T10:08:31.254Z"
   },
   {
    "duration": 16,
    "start_time": "2022-01-06T10:09:04.816Z"
   },
   {
    "duration": 1526,
    "start_time": "2022-01-06T10:13:30.638Z"
   },
   {
    "duration": 1884,
    "start_time": "2022-01-06T10:13:40.804Z"
   },
   {
    "duration": 1385,
    "start_time": "2022-01-06T10:14:05.317Z"
   },
   {
    "duration": 86,
    "start_time": "2022-01-06T10:14:14.208Z"
   },
   {
    "duration": 1310,
    "start_time": "2022-01-06T10:14:17.577Z"
   },
   {
    "duration": 1199,
    "start_time": "2022-01-06T10:15:21.226Z"
   },
   {
    "duration": 348,
    "start_time": "2022-01-06T10:15:59.825Z"
   },
   {
    "duration": 452,
    "start_time": "2022-01-06T10:16:08.214Z"
   },
   {
    "duration": 79,
    "start_time": "2022-01-06T10:19:03.221Z"
   },
   {
    "duration": 527,
    "start_time": "2022-01-06T10:19:07.213Z"
   },
   {
    "duration": 554,
    "start_time": "2022-01-06T10:19:25.151Z"
   },
   {
    "duration": 6615,
    "start_time": "2022-01-06T10:19:39.319Z"
   },
   {
    "duration": 81,
    "start_time": "2022-01-06T10:20:05.538Z"
   },
   {
    "duration": 101,
    "start_time": "2022-01-06T10:20:25.032Z"
   },
   {
    "duration": 81,
    "start_time": "2022-01-06T10:20:40.468Z"
   },
   {
    "duration": 75,
    "start_time": "2022-01-06T10:21:03.175Z"
   },
   {
    "duration": 17,
    "start_time": "2022-01-06T10:21:03.252Z"
   },
   {
    "duration": 18,
    "start_time": "2022-01-06T10:21:03.271Z"
   },
   {
    "duration": 36,
    "start_time": "2022-01-06T10:21:03.291Z"
   },
   {
    "duration": 4486,
    "start_time": "2022-01-06T10:21:03.329Z"
   },
   {
    "duration": 546,
    "start_time": "2022-01-06T10:21:07.818Z"
   },
   {
    "duration": 90,
    "start_time": "2022-01-06T10:21:08.366Z"
   },
   {
    "duration": 23,
    "start_time": "2022-01-06T10:21:24.268Z"
   },
   {
    "duration": 7141,
    "start_time": "2022-01-06T10:21:42.715Z"
   },
   {
    "duration": 17,
    "start_time": "2022-01-06T10:23:41.232Z"
   },
   {
    "duration": 17,
    "start_time": "2022-01-06T10:59:57.677Z"
   },
   {
    "duration": 81,
    "start_time": "2022-01-06T11:04:02.969Z"
   },
   {
    "duration": 87,
    "start_time": "2022-01-06T11:04:27.818Z"
   },
   {
    "duration": 6319,
    "start_time": "2022-01-06T11:04:34.240Z"
   },
   {
    "duration": 7151,
    "start_time": "2022-01-06T11:07:06.040Z"
   },
   {
    "duration": 77,
    "start_time": "2022-01-06T14:39:38.175Z"
   },
   {
    "duration": 16,
    "start_time": "2022-01-06T14:39:38.254Z"
   },
   {
    "duration": 16,
    "start_time": "2022-01-06T14:39:38.272Z"
   },
   {
    "duration": 33,
    "start_time": "2022-01-06T14:39:38.290Z"
   },
   {
    "duration": 4680,
    "start_time": "2022-01-06T14:39:38.325Z"
   },
   {
    "duration": 582,
    "start_time": "2022-01-06T14:39:43.007Z"
   },
   {
    "duration": 6567,
    "start_time": "2022-01-06T14:39:43.590Z"
   },
   {
    "duration": 7443,
    "start_time": "2022-01-06T14:39:58.127Z"
   },
   {
    "duration": 262,
    "start_time": "2022-01-06T14:41:29.562Z"
   },
   {
    "duration": 7273,
    "start_time": "2022-01-06T14:43:38.316Z"
   },
   {
    "duration": 7907,
    "start_time": "2022-01-06T14:45:38.324Z"
   },
   {
    "duration": 12075,
    "start_time": "2022-01-06T14:46:02.481Z"
   },
   {
    "duration": 7371,
    "start_time": "2022-01-06T14:49:10.923Z"
   },
   {
    "duration": 17,
    "start_time": "2022-01-06T14:49:51.836Z"
   },
   {
    "duration": 7680,
    "start_time": "2022-01-06T14:50:30.180Z"
   },
   {
    "duration": 6698,
    "start_time": "2022-01-06T14:50:53.102Z"
   },
   {
    "duration": 78,
    "start_time": "2022-01-06T14:51:03.728Z"
   },
   {
    "duration": 17,
    "start_time": "2022-01-06T14:51:03.808Z"
   },
   {
    "duration": 37,
    "start_time": "2022-01-06T14:51:03.827Z"
   },
   {
    "duration": 55,
    "start_time": "2022-01-06T14:51:03.866Z"
   },
   {
    "duration": 5472,
    "start_time": "2022-01-06T14:51:03.923Z"
   },
   {
    "duration": 803,
    "start_time": "2022-01-06T14:51:09.397Z"
   },
   {
    "duration": 228,
    "start_time": "2022-01-06T14:51:16.841Z"
   },
   {
    "duration": 7234,
    "start_time": "2022-01-06T14:51:29.547Z"
   },
   {
    "duration": 8308,
    "start_time": "2022-01-06T14:51:43.858Z"
   },
   {
    "duration": 7003,
    "start_time": "2022-01-06T14:52:44.782Z"
   },
   {
    "duration": 17,
    "start_time": "2022-01-06T14:53:28.676Z"
   },
   {
    "duration": 253,
    "start_time": "2022-01-06T14:55:08.691Z"
   },
   {
    "duration": 256,
    "start_time": "2022-01-06T14:55:13.463Z"
   },
   {
    "duration": 7139,
    "start_time": "2022-01-06T14:55:18.057Z"
   },
   {
    "duration": 7507,
    "start_time": "2022-01-06T14:55:44.702Z"
   },
   {
    "duration": 9206,
    "start_time": "2022-01-06T14:56:03.623Z"
   },
   {
    "duration": 7191,
    "start_time": "2022-01-06T14:57:16.012Z"
   },
   {
    "duration": 24,
    "start_time": "2022-01-06T14:57:31.161Z"
   },
   {
    "duration": 18,
    "start_time": "2022-01-06T14:59:57.490Z"
   },
   {
    "duration": 36,
    "start_time": "2022-01-06T15:03:11.830Z"
   },
   {
    "duration": 18,
    "start_time": "2022-01-06T15:04:45.831Z"
   },
   {
    "duration": 8179,
    "start_time": "2022-01-06T15:18:36.459Z"
   },
   {
    "duration": 7737,
    "start_time": "2022-01-06T15:20:52.544Z"
   },
   {
    "duration": 492,
    "start_time": "2022-01-06T15:23:43.903Z"
   },
   {
    "duration": 634,
    "start_time": "2022-01-06T15:24:53.081Z"
   },
   {
    "duration": 631,
    "start_time": "2022-01-06T15:25:31.782Z"
   },
   {
    "duration": 260,
    "start_time": "2022-01-06T15:26:39.342Z"
   },
   {
    "duration": 259,
    "start_time": "2022-01-06T15:26:44.112Z"
   },
   {
    "duration": 257,
    "start_time": "2022-01-06T15:26:47.734Z"
   },
   {
    "duration": 268,
    "start_time": "2022-01-06T15:26:58.128Z"
   },
   {
    "duration": 271,
    "start_time": "2022-01-06T15:27:49.355Z"
   },
   {
    "duration": 267,
    "start_time": "2022-01-06T15:27:58.397Z"
   },
   {
    "duration": 350,
    "start_time": "2022-01-06T15:28:05.286Z"
   },
   {
    "duration": 955,
    "start_time": "2022-01-06T15:28:16.455Z"
   },
   {
    "duration": 271,
    "start_time": "2022-01-06T15:28:48.367Z"
   },
   {
    "duration": 306,
    "start_time": "2022-01-06T15:30:37.477Z"
   },
   {
    "duration": 263,
    "start_time": "2022-01-06T15:31:04.623Z"
   },
   {
    "duration": 6537,
    "start_time": "2022-01-06T15:31:22.717Z"
   },
   {
    "duration": 6892,
    "start_time": "2022-01-06T15:31:46.135Z"
   },
   {
    "duration": 7270,
    "start_time": "2022-01-06T15:33:01.233Z"
   },
   {
    "duration": 268,
    "start_time": "2022-01-06T15:33:32.964Z"
   },
   {
    "duration": 8567,
    "start_time": "2022-01-06T15:33:42.940Z"
   },
   {
    "duration": 575,
    "start_time": "2022-01-06T15:35:48.446Z"
   },
   {
    "duration": 6893,
    "start_time": "2022-01-06T15:36:28.397Z"
   },
   {
    "duration": 537,
    "start_time": "2022-01-06T15:36:51.017Z"
   },
   {
    "duration": 264,
    "start_time": "2022-01-06T15:37:11.156Z"
   },
   {
    "duration": 659,
    "start_time": "2022-01-06T15:37:16.574Z"
   },
   {
    "duration": 24,
    "start_time": "2022-01-06T15:39:16.346Z"
   },
   {
    "duration": 849,
    "start_time": "2022-01-06T15:49:42.387Z"
   },
   {
    "duration": 260,
    "start_time": "2022-01-06T15:50:35.082Z"
   },
   {
    "duration": 716,
    "start_time": "2022-01-06T15:51:31.238Z"
   },
   {
    "duration": 901,
    "start_time": "2022-01-06T15:52:17.388Z"
   },
   {
    "duration": 21,
    "start_time": "2022-01-06T15:52:20.920Z"
   },
   {
    "duration": 19,
    "start_time": "2022-01-06T15:52:24.725Z"
   },
   {
    "duration": 615,
    "start_time": "2022-01-06T15:52:27.585Z"
   },
   {
    "duration": 1016,
    "start_time": "2022-01-06T15:53:21.192Z"
   },
   {
    "duration": 956,
    "start_time": "2022-01-06T15:54:09.866Z"
   },
   {
    "duration": 937,
    "start_time": "2022-01-06T15:55:05.320Z"
   },
   {
    "duration": 916,
    "start_time": "2022-01-06T15:55:40.886Z"
   },
   {
    "duration": 929,
    "start_time": "2022-01-06T15:56:09.675Z"
   },
   {
    "duration": 693,
    "start_time": "2022-01-06T15:56:21.044Z"
   },
   {
    "duration": 668,
    "start_time": "2022-01-06T15:56:55.936Z"
   },
   {
    "duration": 334,
    "start_time": "2022-01-06T15:58:31.529Z"
   },
   {
    "duration": 284,
    "start_time": "2022-01-06T15:58:50.107Z"
   },
   {
    "duration": 263,
    "start_time": "2022-01-06T15:58:59.652Z"
   },
   {
    "duration": 592,
    "start_time": "2022-01-06T15:59:07.468Z"
   },
   {
    "duration": 618,
    "start_time": "2022-01-06T16:03:48.809Z"
   },
   {
    "duration": 426,
    "start_time": "2022-01-06T16:05:32.596Z"
   },
   {
    "duration": 670,
    "start_time": "2022-01-07T13:41:15.270Z"
   },
   {
    "duration": 15,
    "start_time": "2022-01-07T13:41:15.942Z"
   },
   {
    "duration": 15,
    "start_time": "2022-01-07T13:41:15.959Z"
   },
   {
    "duration": 34,
    "start_time": "2022-01-07T13:41:15.991Z"
   },
   {
    "duration": 3998,
    "start_time": "2022-01-07T13:41:16.026Z"
   },
   {
    "duration": 923,
    "start_time": "2022-01-07T13:41:20.027Z"
   },
   {
    "duration": 993,
    "start_time": "2022-01-07T13:41:20.951Z"
   },
   {
    "duration": 645,
    "start_time": "2022-01-07T13:41:21.946Z"
   },
   {
    "duration": 619,
    "start_time": "2022-01-07T13:41:22.593Z"
   },
   {
    "duration": 630,
    "start_time": "2022-01-07T13:41:23.214Z"
   },
   {
    "duration": 474,
    "start_time": "2022-01-07T17:28:13.743Z"
   },
   {
    "duration": 882,
    "start_time": "2022-01-07T17:28:18.101Z"
   },
   {
    "duration": 345,
    "start_time": "2022-01-07T17:28:18.986Z"
   },
   {
    "duration": 162,
    "start_time": "2022-01-07T17:28:19.173Z"
   },
   {
    "duration": 156,
    "start_time": "2022-01-07T17:28:19.181Z"
   },
   {
    "duration": 153,
    "start_time": "2022-01-07T17:28:19.186Z"
   },
   {
    "duration": 152,
    "start_time": "2022-01-07T17:28:19.189Z"
   },
   {
    "duration": 151,
    "start_time": "2022-01-07T17:28:19.193Z"
   },
   {
    "duration": 149,
    "start_time": "2022-01-07T17:28:19.197Z"
   },
   {
    "duration": 147,
    "start_time": "2022-01-07T17:28:19.201Z"
   },
   {
    "duration": 144,
    "start_time": "2022-01-07T17:28:19.206Z"
   },
   {
    "duration": 145,
    "start_time": "2022-01-07T17:28:30.499Z"
   },
   {
    "duration": 337,
    "start_time": "2022-01-07T17:28:34.544Z"
   },
   {
    "duration": 1021,
    "start_time": "2022-01-08T09:38:17.659Z"
   },
   {
    "duration": 34,
    "start_time": "2022-01-08T09:38:18.683Z"
   },
   {
    "duration": 24,
    "start_time": "2022-01-08T09:38:18.720Z"
   },
   {
    "duration": 77,
    "start_time": "2022-01-08T09:38:18.747Z"
   },
   {
    "duration": 5555,
    "start_time": "2022-01-08T09:38:18.827Z"
   },
   {
    "duration": 1724,
    "start_time": "2022-01-08T09:38:24.385Z"
   },
   {
    "duration": 1493,
    "start_time": "2022-01-08T09:38:26.116Z"
   },
   {
    "duration": 1022,
    "start_time": "2022-01-08T09:38:27.617Z"
   },
   {
    "duration": 927,
    "start_time": "2022-01-08T09:38:28.641Z"
   },
   {
    "duration": 981,
    "start_time": "2022-01-08T09:38:29.570Z"
   },
   {
    "duration": 542,
    "start_time": "2022-01-08T09:39:36.309Z"
   },
   {
    "duration": 101,
    "start_time": "2022-01-08T09:39:47.082Z"
   },
   {
    "duration": 42,
    "start_time": "2022-01-08T09:39:47.186Z"
   },
   {
    "duration": 24,
    "start_time": "2022-01-08T09:39:47.231Z"
   },
   {
    "duration": 84,
    "start_time": "2022-01-08T09:39:47.258Z"
   },
   {
    "duration": 6153,
    "start_time": "2022-01-08T09:39:47.344Z"
   },
   {
    "duration": 1634,
    "start_time": "2022-01-08T09:39:53.500Z"
   },
   {
    "duration": 748,
    "start_time": "2022-01-08T09:39:55.136Z"
   },
   {
    "duration": 1171,
    "start_time": "2022-01-08T09:39:55.888Z"
   },
   {
    "duration": 957,
    "start_time": "2022-01-08T09:39:57.062Z"
   },
   {
    "duration": 1068,
    "start_time": "2022-01-08T09:39:58.022Z"
   },
   {
    "duration": 44,
    "start_time": "2022-01-08T09:51:15.008Z"
   },
   {
    "duration": 98,
    "start_time": "2022-01-08T09:51:28.871Z"
   },
   {
    "duration": 329,
    "start_time": "2022-01-08T09:51:55.814Z"
   },
   {
    "duration": 34,
    "start_time": "2022-01-08T09:52:07.228Z"
   },
   {
    "duration": 26,
    "start_time": "2022-01-08T09:52:30.652Z"
   },
   {
    "duration": 22,
    "start_time": "2022-01-08T09:52:41.665Z"
   },
   {
    "duration": 52,
    "start_time": "2022-01-08T09:53:10.610Z"
   },
   {
    "duration": 58,
    "start_time": "2022-01-08T09:53:19.466Z"
   },
   {
    "duration": 54,
    "start_time": "2022-01-08T09:53:35.438Z"
   },
   {
    "duration": 58,
    "start_time": "2022-01-08T09:53:54.739Z"
   },
   {
    "duration": 58,
    "start_time": "2022-01-08T09:54:59.385Z"
   },
   {
    "duration": 121,
    "start_time": "2022-01-08T11:04:11.848Z"
   },
   {
    "duration": 47,
    "start_time": "2022-01-08T11:04:11.972Z"
   },
   {
    "duration": 24,
    "start_time": "2022-01-08T11:04:12.022Z"
   },
   {
    "duration": 88,
    "start_time": "2022-01-08T11:04:12.049Z"
   },
   {
    "duration": 6189,
    "start_time": "2022-01-08T11:04:12.140Z"
   },
   {
    "duration": 1685,
    "start_time": "2022-01-08T11:04:18.332Z"
   },
   {
    "duration": 723,
    "start_time": "2022-01-08T11:04:20.020Z"
   },
   {
    "duration": 1006,
    "start_time": "2022-01-08T11:04:20.746Z"
   },
   {
    "duration": 952,
    "start_time": "2022-01-08T11:04:21.755Z"
   },
   {
    "duration": 962,
    "start_time": "2022-01-08T11:04:22.709Z"
   },
   {
    "duration": 94,
    "start_time": "2022-01-08T13:27:04.389Z"
   },
   {
    "duration": 51,
    "start_time": "2022-01-08T13:27:10.366Z"
   },
   {
    "duration": 27,
    "start_time": "2022-01-08T13:27:17.070Z"
   },
   {
    "duration": 23,
    "start_time": "2022-01-08T13:27:30.627Z"
   },
   {
    "duration": 25,
    "start_time": "2022-01-08T13:27:38.185Z"
   },
   {
    "duration": 23,
    "start_time": "2022-01-08T13:27:52.561Z"
   },
   {
    "duration": 22,
    "start_time": "2022-01-08T13:27:55.419Z"
   },
   {
    "duration": 34,
    "start_time": "2022-01-08T13:29:07.008Z"
   },
   {
    "duration": 21,
    "start_time": "2022-01-08T13:29:17.590Z"
   },
   {
    "duration": 5971,
    "start_time": "2022-01-08T13:29:50.901Z"
   },
   {
    "duration": 296,
    "start_time": "2022-01-08T13:30:18.174Z"
   },
   {
    "duration": -163,
    "start_time": "2022-01-08T13:30:18.636Z"
   },
   {
    "duration": -167,
    "start_time": "2022-01-08T13:30:18.642Z"
   },
   {
    "duration": -182,
    "start_time": "2022-01-08T13:30:18.658Z"
   },
   {
    "duration": -185,
    "start_time": "2022-01-08T13:30:18.663Z"
   },
   {
    "duration": -187,
    "start_time": "2022-01-08T13:30:18.666Z"
   },
   {
    "duration": -190,
    "start_time": "2022-01-08T13:30:18.671Z"
   },
   {
    "duration": -191,
    "start_time": "2022-01-08T13:30:18.673Z"
   },
   {
    "duration": -194,
    "start_time": "2022-01-08T13:30:18.678Z"
   },
   {
    "duration": -197,
    "start_time": "2022-01-08T13:30:18.682Z"
   },
   {
    "duration": 131,
    "start_time": "2022-01-08T13:30:53.660Z"
   },
   {
    "duration": 103,
    "start_time": "2022-01-08T13:33:14.386Z"
   },
   {
    "duration": 150,
    "start_time": "2022-01-08T13:33:22.531Z"
   },
   {
    "duration": 65,
    "start_time": "2022-01-08T13:33:22.685Z"
   },
   {
    "duration": 27,
    "start_time": "2022-01-08T13:33:22.753Z"
   },
   {
    "duration": 90,
    "start_time": "2022-01-08T13:33:22.784Z"
   },
   {
    "duration": 6994,
    "start_time": "2022-01-08T13:33:22.876Z"
   },
   {
    "duration": 110,
    "start_time": "2022-01-08T13:33:29.873Z"
   },
   {
    "duration": -134,
    "start_time": "2022-01-08T13:33:30.120Z"
   },
   {
    "duration": -136,
    "start_time": "2022-01-08T13:33:30.124Z"
   },
   {
    "duration": -140,
    "start_time": "2022-01-08T13:33:30.129Z"
   },
   {
    "duration": -142,
    "start_time": "2022-01-08T13:33:30.133Z"
   },
   {
    "duration": 3054,
    "start_time": "2022-01-08T13:35:52.945Z"
   },
   {
    "duration": 2952,
    "start_time": "2022-01-08T13:37:31.448Z"
   },
   {
    "duration": 1462,
    "start_time": "2022-01-08T14:41:22.937Z"
   },
   {
    "duration": 1593,
    "start_time": "2022-01-08T18:43:24.090Z"
   },
   {
    "duration": 524,
    "start_time": "2022-01-08T18:49:24.276Z"
   },
   {
    "duration": 346,
    "start_time": "2022-01-08T18:49:35.145Z"
   },
   {
    "duration": 782,
    "start_time": "2022-01-08T18:51:10.788Z"
   },
   {
    "duration": 355,
    "start_time": "2022-01-08T18:51:21.917Z"
   },
   {
    "duration": 105,
    "start_time": "2022-01-08T18:52:49.855Z"
   },
   {
    "duration": 98,
    "start_time": "2022-01-08T18:53:31.389Z"
   },
   {
    "duration": 102,
    "start_time": "2022-01-08T18:54:11.496Z"
   },
   {
    "duration": 103,
    "start_time": "2022-01-08T18:54:47.018Z"
   },
   {
    "duration": 105,
    "start_time": "2022-01-08T18:55:03.070Z"
   },
   {
    "duration": 322,
    "start_time": "2022-01-08T18:55:30.832Z"
   },
   {
    "duration": 347,
    "start_time": "2022-01-08T18:55:45.457Z"
   },
   {
    "duration": 98,
    "start_time": "2022-01-08T18:55:50.635Z"
   },
   {
    "duration": 99,
    "start_time": "2022-01-08T18:56:11.425Z"
   },
   {
    "duration": 340,
    "start_time": "2022-01-08T18:56:21.960Z"
   },
   {
    "duration": 89,
    "start_time": "2022-01-08T18:56:40.757Z"
   },
   {
    "duration": 147,
    "start_time": "2022-01-08T18:57:13.146Z"
   },
   {
    "duration": 89,
    "start_time": "2022-01-08T18:57:40.057Z"
   },
   {
    "duration": 113,
    "start_time": "2022-01-08T18:57:47.800Z"
   },
   {
    "duration": 72,
    "start_time": "2022-01-08T18:58:18.202Z"
   },
   {
    "duration": 298,
    "start_time": "2022-01-08T18:59:08.909Z"
   },
   {
    "duration": 72,
    "start_time": "2022-01-08T18:59:17.849Z"
   },
   {
    "duration": 87,
    "start_time": "2022-01-08T18:59:17.968Z"
   },
   {
    "duration": 34,
    "start_time": "2022-01-08T18:59:18.058Z"
   },
   {
    "duration": 48,
    "start_time": "2022-01-08T18:59:18.096Z"
   },
   {
    "duration": 79,
    "start_time": "2022-01-08T18:59:18.148Z"
   },
   {
    "duration": 6564,
    "start_time": "2022-01-08T18:59:18.230Z"
   },
   {
    "duration": 1611,
    "start_time": "2022-01-08T18:59:24.796Z"
   },
   {
    "duration": 1086,
    "start_time": "2022-01-08T18:59:26.409Z"
   },
   {
    "duration": -145,
    "start_time": "2022-01-08T18:59:27.643Z"
   },
   {
    "duration": -150,
    "start_time": "2022-01-08T18:59:27.650Z"
   },
   {
    "duration": -152,
    "start_time": "2022-01-08T18:59:27.653Z"
   },
   {
    "duration": 382,
    "start_time": "2022-01-08T19:03:02.642Z"
   },
   {
    "duration": -69,
    "start_time": "2022-01-08T19:03:03.097Z"
   },
   {
    "duration": -75,
    "start_time": "2022-01-08T19:03:03.104Z"
   },
   {
    "duration": -80,
    "start_time": "2022-01-08T19:03:03.111Z"
   },
   {
    "duration": -91,
    "start_time": "2022-01-08T19:03:03.123Z"
   },
   {
    "duration": -94,
    "start_time": "2022-01-08T19:03:03.127Z"
   },
   {
    "duration": -102,
    "start_time": "2022-01-08T19:03:03.136Z"
   },
   {
    "duration": -243,
    "start_time": "2022-01-08T19:03:03.279Z"
   },
   {
    "duration": -251,
    "start_time": "2022-01-08T19:03:03.288Z"
   },
   {
    "duration": -256,
    "start_time": "2022-01-08T19:03:03.295Z"
   },
   {
    "duration": -260,
    "start_time": "2022-01-08T19:03:03.300Z"
   },
   {
    "duration": 1004,
    "start_time": "2022-01-08T19:03:16.946Z"
   },
   {
    "duration": 791,
    "start_time": "2022-01-08T19:03:31.319Z"
   },
   {
    "duration": 303,
    "start_time": "2022-01-08T19:03:47.796Z"
   },
   {
    "duration": 691,
    "start_time": "2022-01-08T19:03:56.217Z"
   },
   {
    "duration": 991,
    "start_time": "2022-01-08T19:04:14.936Z"
   },
   {
    "duration": 998,
    "start_time": "2022-01-08T19:04:24.625Z"
   },
   {
    "duration": 1226,
    "start_time": "2022-01-08T19:05:26.667Z"
   },
   {
    "duration": 320,
    "start_time": "2022-01-08T19:05:39.381Z"
   },
   {
    "duration": 1095,
    "start_time": "2022-01-08T19:06:15.616Z"
   },
   {
    "duration": 97,
    "start_time": "2022-01-08T19:06:40.269Z"
   },
   {
    "duration": 81,
    "start_time": "2022-01-08T19:06:40.368Z"
   },
   {
    "duration": 30,
    "start_time": "2022-01-08T19:06:40.452Z"
   },
   {
    "duration": 48,
    "start_time": "2022-01-08T19:06:40.484Z"
   },
   {
    "duration": 53,
    "start_time": "2022-01-08T19:06:40.534Z"
   },
   {
    "duration": 6689,
    "start_time": "2022-01-08T19:06:40.589Z"
   },
   {
    "duration": 1396,
    "start_time": "2022-01-08T19:06:47.281Z"
   },
   {
    "duration": -90,
    "start_time": "2022-01-08T19:06:49.740Z"
   },
   {
    "duration": -111,
    "start_time": "2022-01-08T19:06:49.762Z"
   },
   {
    "duration": -120,
    "start_time": "2022-01-08T19:06:49.772Z"
   },
   {
    "duration": -123,
    "start_time": "2022-01-08T19:06:49.776Z"
   },
   {
    "duration": 993,
    "start_time": "2022-01-08T19:06:53.220Z"
   },
   {
    "duration": 701,
    "start_time": "2022-01-08T19:07:08.605Z"
   },
   {
    "duration": 1121,
    "start_time": "2022-01-08T19:07:26.688Z"
   },
   {
    "duration": 724,
    "start_time": "2022-01-08T19:07:40.807Z"
   },
   {
    "duration": 308,
    "start_time": "2022-01-08T19:07:46.576Z"
   },
   {
    "duration": 359,
    "start_time": "2022-01-08T19:09:08.575Z"
   },
   {
    "duration": 111,
    "start_time": "2022-01-08T19:09:25.174Z"
   },
   {
    "duration": 284,
    "start_time": "2022-01-08T19:09:43.639Z"
   },
   {
    "duration": 1569,
    "start_time": "2022-01-08T19:09:56.036Z"
   },
   {
    "duration": 313,
    "start_time": "2022-01-08T19:10:03.949Z"
   },
   {
    "duration": 122,
    "start_time": "2022-01-08T19:11:52.691Z"
   },
   {
    "duration": 699,
    "start_time": "2022-01-08T19:12:11.318Z"
   },
   {
    "duration": 1086,
    "start_time": "2022-01-08T19:12:24.473Z"
   },
   {
    "duration": 945,
    "start_time": "2022-01-08T19:12:42.880Z"
   },
   {
    "duration": 338,
    "start_time": "2022-01-08T19:13:11.926Z"
   },
   {
    "duration": 6080,
    "start_time": "2022-01-08T19:13:34.932Z"
   },
   {
    "duration": 1004,
    "start_time": "2022-01-08T19:13:44.856Z"
   },
   {
    "duration": 1432,
    "start_time": "2022-01-08T19:17:53.003Z"
   },
   {
    "duration": 1298,
    "start_time": "2022-01-08T19:18:10.333Z"
   },
   {
    "duration": 948,
    "start_time": "2022-01-08T19:18:18.211Z"
   },
   {
    "duration": 94,
    "start_time": "2022-01-08T19:20:23.153Z"
   },
   {
    "duration": 931,
    "start_time": "2022-01-08T19:20:28.449Z"
   },
   {
    "duration": 1086,
    "start_time": "2022-01-08T20:13:44.540Z"
   },
   {
    "duration": 1151,
    "start_time": "2022-01-08T20:14:01.653Z"
   },
   {
    "duration": 1168,
    "start_time": "2022-01-08T20:14:09.669Z"
   },
   {
    "duration": 139,
    "start_time": "2022-01-08T20:14:16.420Z"
   },
   {
    "duration": 186,
    "start_time": "2022-01-08T20:14:19.874Z"
   },
   {
    "duration": 338,
    "start_time": "2022-01-08T20:14:34.727Z"
   },
   {
    "duration": 312,
    "start_time": "2022-01-08T20:14:46.670Z"
   },
   {
    "duration": 316,
    "start_time": "2022-01-08T20:14:50.821Z"
   },
   {
    "duration": 75,
    "start_time": "2022-01-08T20:15:00.950Z"
   },
   {
    "duration": 80,
    "start_time": "2022-01-08T20:15:03.525Z"
   },
   {
    "duration": 312,
    "start_time": "2022-01-08T20:15:22.537Z"
   },
   {
    "duration": 305,
    "start_time": "2022-01-08T20:15:32.323Z"
   },
   {
    "duration": 73,
    "start_time": "2022-01-08T20:15:37.717Z"
   },
   {
    "duration": 88,
    "start_time": "2022-01-08T20:15:41.729Z"
   },
   {
    "duration": 30,
    "start_time": "2022-01-08T20:16:14.235Z"
   },
   {
    "duration": 29,
    "start_time": "2022-01-08T20:23:35.790Z"
   },
   {
    "duration": 320,
    "start_time": "2022-01-08T20:25:40.247Z"
   },
   {
    "duration": 341,
    "start_time": "2022-01-08T20:25:47.440Z"
   },
   {
    "duration": 321,
    "start_time": "2022-01-08T20:25:56.476Z"
   },
   {
    "duration": 308,
    "start_time": "2022-01-08T20:26:12.390Z"
   },
   {
    "duration": 308,
    "start_time": "2022-01-08T20:26:21.426Z"
   },
   {
    "duration": 72,
    "start_time": "2022-01-08T20:26:29.638Z"
   },
   {
    "duration": 26,
    "start_time": "2022-01-08T20:26:32.227Z"
   },
   {
    "duration": 81,
    "start_time": "2022-01-08T20:26:35.350Z"
   },
   {
    "duration": 14,
    "start_time": "2022-01-08T20:27:15.118Z"
   },
   {
    "duration": 94,
    "start_time": "2022-01-08T20:27:28.140Z"
   },
   {
    "duration": 27,
    "start_time": "2022-01-08T20:27:31.296Z"
   },
   {
    "duration": 14,
    "start_time": "2022-01-08T20:27:34.450Z"
   },
   {
    "duration": 279,
    "start_time": "2022-01-08T20:40:29.563Z"
   },
   {
    "duration": 72,
    "start_time": "2022-01-08T20:40:48.674Z"
   },
   {
    "duration": 27,
    "start_time": "2022-01-08T20:40:51.144Z"
   },
   {
    "duration": 284,
    "start_time": "2022-01-08T20:40:54.908Z"
   },
   {
    "duration": 530,
    "start_time": "2022-01-08T20:41:04.970Z"
   },
   {
    "duration": 93,
    "start_time": "2022-01-08T20:41:18.386Z"
   },
   {
    "duration": 370,
    "start_time": "2022-01-08T20:42:08.511Z"
   },
   {
    "duration": 333,
    "start_time": "2022-01-08T20:44:30.040Z"
   },
   {
    "duration": 336,
    "start_time": "2022-01-08T20:44:43.582Z"
   },
   {
    "duration": 335,
    "start_time": "2022-01-08T20:45:11.774Z"
   },
   {
    "duration": 13,
    "start_time": "2022-01-08T20:45:29.616Z"
   },
   {
    "duration": 13,
    "start_time": "2022-01-08T20:45:42.409Z"
   },
   {
    "duration": 38,
    "start_time": "2022-01-08T20:45:58.385Z"
   },
   {
    "duration": 17,
    "start_time": "2022-01-08T20:46:12.328Z"
   },
   {
    "duration": 335,
    "start_time": "2022-01-08T20:46:39.183Z"
   },
   {
    "duration": 333,
    "start_time": "2022-01-08T20:47:03.486Z"
   },
   {
    "duration": 335,
    "start_time": "2022-01-08T20:47:29.477Z"
   },
   {
    "duration": 333,
    "start_time": "2022-01-08T20:47:45.345Z"
   },
   {
    "duration": 73,
    "start_time": "2022-01-08T20:47:57.847Z"
   },
   {
    "duration": 29,
    "start_time": "2022-01-08T20:47:57.923Z"
   },
   {
    "duration": 12,
    "start_time": "2022-01-08T20:47:57.955Z"
   },
   {
    "duration": 16,
    "start_time": "2022-01-08T20:47:57.969Z"
   },
   {
    "duration": 90,
    "start_time": "2022-01-08T20:48:13.117Z"
   },
   {
    "duration": 539,
    "start_time": "2022-01-08T20:48:47.318Z"
   },
   {
    "duration": 323,
    "start_time": "2022-01-08T20:49:38.799Z"
   },
   {
    "duration": 353,
    "start_time": "2022-01-08T20:49:56.799Z"
   },
   {
    "duration": 324,
    "start_time": "2022-01-08T20:50:12.265Z"
   },
   {
    "duration": 488,
    "start_time": "2022-01-08T20:51:36.981Z"
   },
   {
    "duration": 99,
    "start_time": "2022-01-08T20:51:51.609Z"
   },
   {
    "duration": 347,
    "start_time": "2022-01-08T20:51:53.642Z"
   },
   {
    "duration": 298,
    "start_time": "2022-01-08T20:52:10.462Z"
   },
   {
    "duration": 280,
    "start_time": "2022-01-08T20:54:52.540Z"
   },
   {
    "duration": 314,
    "start_time": "2022-01-08T20:55:08.820Z"
   },
   {
    "duration": 295,
    "start_time": "2022-01-08T20:55:17.510Z"
   },
   {
    "duration": 82,
    "start_time": "2022-01-08T20:55:35.581Z"
   },
   {
    "duration": 27,
    "start_time": "2022-01-08T20:55:38.487Z"
   },
   {
    "duration": 17,
    "start_time": "2022-01-08T20:55:43.231Z"
   },
   {
    "duration": 16,
    "start_time": "2022-01-08T20:55:46.494Z"
   },
   {
    "duration": 292,
    "start_time": "2022-01-08T20:55:48.871Z"
   },
   {
    "duration": 15,
    "start_time": "2022-01-08T20:56:26.872Z"
   },
   {
    "duration": 15,
    "start_time": "2022-01-08T20:56:58.891Z"
   },
   {
    "duration": 12,
    "start_time": "2022-01-08T20:57:00.941Z"
   },
   {
    "duration": 323,
    "start_time": "2022-01-08T20:57:29.082Z"
   },
   {
    "duration": 26,
    "start_time": "2022-01-08T20:57:33.372Z"
   },
   {
    "duration": 42,
    "start_time": "2022-01-08T20:57:59.198Z"
   },
   {
    "duration": 94,
    "start_time": "2022-01-08T20:58:18.264Z"
   },
   {
    "duration": 316,
    "start_time": "2022-01-08T20:58:41.921Z"
   },
   {
    "duration": 35,
    "start_time": "2022-01-08T20:59:25.328Z"
   },
   {
    "duration": 334,
    "start_time": "2022-01-08T20:59:56.055Z"
   },
   {
    "duration": 36,
    "start_time": "2022-01-08T21:00:41.605Z"
   },
   {
    "duration": 10,
    "start_time": "2022-01-08T21:02:22.511Z"
   },
   {
    "duration": 21,
    "start_time": "2022-01-08T21:02:25.944Z"
   },
   {
    "duration": 17,
    "start_time": "2022-01-08T21:02:35.516Z"
   },
   {
    "duration": 108,
    "start_time": "2022-01-08T21:03:52.073Z"
   },
   {
    "duration": 319,
    "start_time": "2022-01-08T21:03:57.840Z"
   },
   {
    "duration": 25,
    "start_time": "2022-01-08T21:04:50.856Z"
   },
   {
    "duration": 74,
    "start_time": "2022-01-08T21:05:05.120Z"
   },
   {
    "duration": 28,
    "start_time": "2022-01-08T21:05:07.355Z"
   },
   {
    "duration": 12,
    "start_time": "2022-01-08T21:05:11.912Z"
   },
   {
    "duration": 29,
    "start_time": "2022-01-08T21:05:15.863Z"
   },
   {
    "duration": 6,
    "start_time": "2022-01-08T21:05:34.532Z"
   },
   {
    "duration": 86,
    "start_time": "2022-01-08T21:06:59.164Z"
   },
   {
    "duration": 710,
    "start_time": "2022-01-08T21:08:15.559Z"
   },
   {
    "duration": 312,
    "start_time": "2022-01-08T21:08:26.384Z"
   },
   {
    "duration": 74,
    "start_time": "2022-01-08T21:08:37.320Z"
   },
   {
    "duration": 28,
    "start_time": "2022-01-08T21:08:37.396Z"
   },
   {
    "duration": 24,
    "start_time": "2022-01-08T21:08:37.427Z"
   },
   {
    "duration": 15,
    "start_time": "2022-01-08T21:08:37.454Z"
   },
   {
    "duration": 5,
    "start_time": "2022-01-08T21:08:37.472Z"
   },
   {
    "duration": 32,
    "start_time": "2022-01-08T21:08:52.630Z"
   },
   {
    "duration": 72,
    "start_time": "2022-01-08T21:08:56.201Z"
   },
   {
    "duration": 28,
    "start_time": "2022-01-08T21:08:58.606Z"
   },
   {
    "duration": 14,
    "start_time": "2022-01-08T21:09:01.240Z"
   },
   {
    "duration": 16,
    "start_time": "2022-01-08T21:09:03.790Z"
   },
   {
    "duration": 6,
    "start_time": "2022-01-08T21:09:05.858Z"
   },
   {
    "duration": 68,
    "start_time": "2022-01-08T21:09:07.811Z"
   },
   {
    "duration": 299,
    "start_time": "2022-01-08T21:10:31.154Z"
   },
   {
    "duration": 321,
    "start_time": "2022-01-08T21:10:59.728Z"
   },
   {
    "duration": 333,
    "start_time": "2022-01-08T21:12:38.137Z"
   },
   {
    "duration": 283,
    "start_time": "2022-01-08T21:12:46.342Z"
   },
   {
    "duration": 75,
    "start_time": "2022-01-08T21:13:06.151Z"
   },
   {
    "duration": 27,
    "start_time": "2022-01-08T21:13:08.660Z"
   },
   {
    "duration": 13,
    "start_time": "2022-01-08T21:13:11.654Z"
   },
   {
    "duration": 16,
    "start_time": "2022-01-08T21:13:14.232Z"
   },
   {
    "duration": 76,
    "start_time": "2022-01-08T21:13:16.176Z"
   },
   {
    "duration": 6,
    "start_time": "2022-01-08T21:13:23.869Z"
   },
   {
    "duration": 290,
    "start_time": "2022-01-08T21:13:25.428Z"
   },
   {
    "duration": 75,
    "start_time": "2022-01-08T21:13:47.905Z"
   },
   {
    "duration": 27,
    "start_time": "2022-01-08T21:13:51.457Z"
   },
   {
    "duration": 13,
    "start_time": "2022-01-08T21:13:54.032Z"
   },
   {
    "duration": 16,
    "start_time": "2022-01-08T21:13:55.947Z"
   },
   {
    "duration": 6,
    "start_time": "2022-01-08T21:13:57.621Z"
   },
   {
    "duration": 66,
    "start_time": "2022-01-08T21:13:58.777Z"
   },
   {
    "duration": 321,
    "start_time": "2022-01-08T21:14:42.785Z"
   },
   {
    "duration": 92,
    "start_time": "2022-01-08T21:17:17.184Z"
   },
   {
    "duration": 26,
    "start_time": "2022-01-08T21:17:51.550Z"
   },
   {
    "duration": 21,
    "start_time": "2022-01-08T21:18:36.569Z"
   },
   {
    "duration": 17,
    "start_time": "2022-01-08T21:24:52.793Z"
   },
   {
    "duration": 22,
    "start_time": "2022-01-08T21:25:24.312Z"
   },
   {
    "duration": 20,
    "start_time": "2022-01-08T21:25:36.486Z"
   },
   {
    "duration": 20,
    "start_time": "2022-01-08T21:26:02.695Z"
   },
   {
    "duration": 24,
    "start_time": "2022-01-08T21:26:41.616Z"
   },
   {
    "duration": 17,
    "start_time": "2022-01-08T21:27:00.611Z"
   },
   {
    "duration": 20,
    "start_time": "2022-01-08T21:27:07.404Z"
   },
   {
    "duration": 20,
    "start_time": "2022-01-08T21:27:09.013Z"
   },
   {
    "duration": 16,
    "start_time": "2022-01-08T21:27:41.054Z"
   },
   {
    "duration": 74,
    "start_time": "2022-01-08T21:27:46.899Z"
   },
   {
    "duration": 26,
    "start_time": "2022-01-08T21:27:46.975Z"
   },
   {
    "duration": 29,
    "start_time": "2022-01-08T21:27:47.004Z"
   },
   {
    "duration": 16,
    "start_time": "2022-01-08T21:27:47.036Z"
   },
   {
    "duration": 5,
    "start_time": "2022-01-08T21:27:47.054Z"
   },
   {
    "duration": 20,
    "start_time": "2022-01-08T21:27:47.061Z"
   },
   {
    "duration": 52,
    "start_time": "2022-01-08T21:27:47.083Z"
   },
   {
    "duration": 6,
    "start_time": "2022-01-08T21:27:47.139Z"
   },
   {
    "duration": 87,
    "start_time": "2022-01-08T21:27:47.147Z"
   },
   {
    "duration": 6732,
    "start_time": "2022-01-08T21:27:47.237Z"
   },
   {
    "duration": 1373,
    "start_time": "2022-01-08T21:27:53.972Z"
   },
   {
    "duration": 705,
    "start_time": "2022-01-08T21:27:55.348Z"
   },
   {
    "duration": 1074,
    "start_time": "2022-01-08T21:27:56.055Z"
   },
   {
    "duration": 962,
    "start_time": "2022-01-08T21:27:57.132Z"
   },
   {
    "duration": 966,
    "start_time": "2022-01-08T21:27:58.097Z"
   },
   {
    "duration": 22,
    "start_time": "2022-01-08T21:28:04.578Z"
   },
   {
    "duration": 1119,
    "start_time": "2022-01-08T21:34:01.866Z"
   },
   {
    "duration": 2747,
    "start_time": "2022-01-08T21:34:51.605Z"
   },
   {
    "duration": 43,
    "start_time": "2022-01-08T21:40:16.873Z"
   },
   {
    "duration": 38,
    "start_time": "2022-01-08T21:41:10.234Z"
   },
   {
    "duration": 17,
    "start_time": "2022-01-08T21:42:08.375Z"
   },
   {
    "duration": 38,
    "start_time": "2022-01-08T21:42:14.217Z"
   },
   {
    "duration": 16,
    "start_time": "2022-01-08T21:42:18.647Z"
   },
   {
    "duration": 56,
    "start_time": "2022-01-08T21:44:26.548Z"
   },
   {
    "duration": 96,
    "start_time": "2022-01-08T21:45:06.011Z"
   },
   {
    "duration": 50,
    "start_time": "2022-01-08T21:45:12.685Z"
   },
   {
    "duration": 77,
    "start_time": "2022-01-08T21:45:23.307Z"
   },
   {
    "duration": 54,
    "start_time": "2022-01-08T21:45:23.387Z"
   },
   {
    "duration": 13,
    "start_time": "2022-01-08T21:45:23.443Z"
   },
   {
    "duration": 24,
    "start_time": "2022-01-08T21:45:23.458Z"
   },
   {
    "duration": 5,
    "start_time": "2022-01-08T21:45:23.485Z"
   },
   {
    "duration": 50,
    "start_time": "2022-01-08T21:45:23.492Z"
   },
   {
    "duration": 144,
    "start_time": "2022-01-08T21:45:23.545Z"
   },
   {
    "duration": -2,
    "start_time": "2022-01-08T21:45:23.695Z"
   },
   {
    "duration": -6,
    "start_time": "2022-01-08T21:45:23.701Z"
   },
   {
    "duration": -11,
    "start_time": "2022-01-08T21:45:23.708Z"
   },
   {
    "duration": -12,
    "start_time": "2022-01-08T21:45:23.711Z"
   },
   {
    "duration": -14,
    "start_time": "2022-01-08T21:45:23.715Z"
   },
   {
    "duration": -15,
    "start_time": "2022-01-08T21:45:23.719Z"
   },
   {
    "duration": -17,
    "start_time": "2022-01-08T21:45:23.723Z"
   },
   {
    "duration": -19,
    "start_time": "2022-01-08T21:45:23.727Z"
   },
   {
    "duration": 69,
    "start_time": "2022-01-08T21:45:34.660Z"
   },
   {
    "duration": 45,
    "start_time": "2022-01-08T21:45:52.450Z"
   },
   {
    "duration": 30,
    "start_time": "2022-01-08T21:46:12.905Z"
   },
   {
    "duration": 29,
    "start_time": "2022-01-08T21:46:23.645Z"
   },
   {
    "duration": 77,
    "start_time": "2022-01-08T21:46:28.468Z"
   },
   {
    "duration": 34,
    "start_time": "2022-01-08T21:46:35.031Z"
   },
   {
    "duration": 46,
    "start_time": "2022-01-08T21:47:03.511Z"
   },
   {
    "duration": 70,
    "start_time": "2022-01-08T21:47:46.415Z"
   },
   {
    "duration": 44,
    "start_time": "2022-01-08T21:48:20.065Z"
   },
   {
    "duration": 93,
    "start_time": "2022-01-08T21:48:47.145Z"
   },
   {
    "duration": 96,
    "start_time": "2022-01-08T21:48:54.653Z"
   },
   {
    "duration": 115,
    "start_time": "2022-01-08T21:50:00.769Z"
   },
   {
    "duration": 47,
    "start_time": "2022-01-08T21:50:09.439Z"
   },
   {
    "duration": 99,
    "start_time": "2022-01-08T21:51:04.339Z"
   },
   {
    "duration": 20,
    "start_time": "2022-01-08T21:51:13.629Z"
   },
   {
    "duration": 374,
    "start_time": "2022-01-08T21:51:42.565Z"
   },
   {
    "duration": 76,
    "start_time": "2022-01-08T21:51:59.004Z"
   },
   {
    "duration": 45,
    "start_time": "2022-01-08T21:52:03.901Z"
   },
   {
    "duration": 28,
    "start_time": "2022-01-08T21:52:12.400Z"
   },
   {
    "duration": 13,
    "start_time": "2022-01-08T21:52:19.774Z"
   },
   {
    "duration": 16,
    "start_time": "2022-01-08T21:52:23.840Z"
   },
   {
    "duration": 10,
    "start_time": "2022-01-08T21:52:26.954Z"
   },
   {
    "duration": 22,
    "start_time": "2022-01-08T21:52:29.035Z"
   },
   {
    "duration": 20,
    "start_time": "2022-01-08T21:52:39.043Z"
   },
   {
    "duration": 311,
    "start_time": "2022-01-08T21:52:43.351Z"
   },
   {
    "duration": 6,
    "start_time": "2022-01-08T21:53:19.195Z"
   },
   {
    "duration": 30,
    "start_time": "2022-01-08T21:54:01.868Z"
   },
   {
    "duration": 35,
    "start_time": "2022-01-08T21:54:16.244Z"
   },
   {
    "duration": 31,
    "start_time": "2022-01-08T21:54:29.262Z"
   },
   {
    "duration": 31,
    "start_time": "2022-01-08T21:54:43.519Z"
   },
   {
    "duration": 28,
    "start_time": "2022-01-08T21:54:55.860Z"
   },
   {
    "duration": 28,
    "start_time": "2022-01-08T21:54:57.839Z"
   },
   {
    "duration": 32,
    "start_time": "2022-01-08T21:55:02.047Z"
   },
   {
    "duration": 74,
    "start_time": "2022-01-08T21:55:04.726Z"
   },
   {
    "duration": 28,
    "start_time": "2022-01-08T21:55:07.768Z"
   },
   {
    "duration": 13,
    "start_time": "2022-01-08T21:55:10.739Z"
   },
   {
    "duration": 15,
    "start_time": "2022-01-08T21:55:12.799Z"
   },
   {
    "duration": 6,
    "start_time": "2022-01-08T21:55:14.843Z"
   },
   {
    "duration": 6,
    "start_time": "2022-01-08T21:55:18.279Z"
   },
   {
    "duration": 22,
    "start_time": "2022-01-08T21:55:20.314Z"
   },
   {
    "duration": 29,
    "start_time": "2022-01-08T21:55:22.922Z"
   },
   {
    "duration": 28,
    "start_time": "2022-01-08T21:55:53.004Z"
   },
   {
    "duration": 79,
    "start_time": "2022-01-08T21:56:07.293Z"
   },
   {
    "duration": 31,
    "start_time": "2022-01-08T21:56:11.385Z"
   },
   {
    "duration": 15,
    "start_time": "2022-01-08T21:56:14.827Z"
   },
   {
    "duration": 18,
    "start_time": "2022-01-08T21:56:16.929Z"
   },
   {
    "duration": 6,
    "start_time": "2022-01-08T21:56:18.700Z"
   },
   {
    "duration": 23,
    "start_time": "2022-01-08T21:56:20.713Z"
   },
   {
    "duration": 31,
    "start_time": "2022-01-08T21:56:24.661Z"
   },
   {
    "duration": 37,
    "start_time": "2022-01-08T21:56:58.220Z"
   },
   {
    "duration": 22,
    "start_time": "2022-01-08T21:57:05.504Z"
   },
   {
    "duration": 29,
    "start_time": "2022-01-08T21:57:08.254Z"
   },
   {
    "duration": 75,
    "start_time": "2022-01-08T21:57:16.137Z"
   },
   {
    "duration": 32,
    "start_time": "2022-01-08T21:57:16.215Z"
   },
   {
    "duration": 11,
    "start_time": "2022-01-08T21:57:16.250Z"
   },
   {
    "duration": 15,
    "start_time": "2022-01-08T21:57:16.264Z"
   },
   {
    "duration": 5,
    "start_time": "2022-01-08T21:57:16.281Z"
   },
   {
    "duration": 21,
    "start_time": "2022-01-08T21:57:16.323Z"
   },
   {
    "duration": 28,
    "start_time": "2022-01-08T21:57:16.347Z"
   },
   {
    "duration": 6,
    "start_time": "2022-01-08T21:57:16.378Z"
   },
   {
    "duration": 8,
    "start_time": "2022-01-08T21:57:16.422Z"
   },
   {
    "duration": 60,
    "start_time": "2022-01-08T21:57:16.433Z"
   },
   {
    "duration": 6448,
    "start_time": "2022-01-08T21:57:16.496Z"
   },
   {
    "duration": 1396,
    "start_time": "2022-01-08T21:57:22.947Z"
   },
   {
    "duration": 721,
    "start_time": "2022-01-08T21:57:24.345Z"
   },
   {
    "duration": 1006,
    "start_time": "2022-01-08T21:57:25.068Z"
   },
   {
    "duration": 979,
    "start_time": "2022-01-08T21:57:26.076Z"
   },
   {
    "duration": 952,
    "start_time": "2022-01-08T21:57:27.058Z"
   },
   {
    "duration": 33,
    "start_time": "2022-01-08T21:58:18.759Z"
   },
   {
    "duration": 22,
    "start_time": "2022-01-08T22:01:24.070Z"
   },
   {
    "duration": 23,
    "start_time": "2022-01-08T22:03:45.042Z"
   },
   {
    "duration": 22,
    "start_time": "2022-01-08T22:04:05.283Z"
   },
   {
    "duration": 38,
    "start_time": "2022-01-08T22:04:35.288Z"
   },
   {
    "duration": 26,
    "start_time": "2022-01-08T22:04:46.626Z"
   },
   {
    "duration": 30,
    "start_time": "2022-01-08T22:08:04.474Z"
   },
   {
    "duration": 27,
    "start_time": "2022-01-08T22:08:33.345Z"
   },
   {
    "duration": 1155,
    "start_time": "2022-01-08T22:11:00.805Z"
   },
   {
    "duration": 31,
    "start_time": "2022-01-08T22:11:29.998Z"
   },
   {
    "duration": 294,
    "start_time": "2022-01-08T22:11:39.668Z"
   },
   {
    "duration": 20,
    "start_time": "2022-01-08T22:11:47.278Z"
   },
   {
    "duration": 7704,
    "start_time": "2022-01-08T22:12:38.694Z"
   },
   {
    "duration": 102,
    "start_time": "2022-01-08T22:13:11.885Z"
   },
   {
    "duration": 32,
    "start_time": "2022-01-08T22:13:16.837Z"
   },
   {
    "duration": 29,
    "start_time": "2022-01-08T22:14:13.631Z"
   },
   {
    "duration": 32,
    "start_time": "2022-01-08T22:14:46.996Z"
   },
   {
    "duration": 13,
    "start_time": "2022-01-08T22:15:03.891Z"
   },
   {
    "duration": 15,
    "start_time": "2022-01-08T22:15:06.637Z"
   },
   {
    "duration": 6,
    "start_time": "2022-01-08T22:15:08.732Z"
   },
   {
    "duration": 8027,
    "start_time": "2022-01-08T22:15:10.620Z"
   },
   {
    "duration": -319,
    "start_time": "2022-01-08T22:15:18.969Z"
   },
   {
    "duration": 7,
    "start_time": "2022-01-08T22:15:19.316Z"
   },
   {
    "duration": 291,
    "start_time": "2022-01-08T22:15:22.066Z"
   },
   {
    "duration": 299,
    "start_time": "2022-01-08T22:15:44.063Z"
   },
   {
    "duration": 8069,
    "start_time": "2022-01-08T22:16:15.422Z"
   },
   {
    "duration": 8668,
    "start_time": "2022-01-08T22:20:14.100Z"
   },
   {
    "duration": 10,
    "start_time": "2022-01-08T22:20:34.129Z"
   },
   {
    "duration": 71,
    "start_time": "2022-01-08T22:20:50.438Z"
   },
   {
    "duration": 34,
    "start_time": "2022-01-08T22:20:55.295Z"
   },
   {
    "duration": 14,
    "start_time": "2022-01-08T22:21:06.971Z"
   },
   {
    "duration": 16,
    "start_time": "2022-01-08T22:21:10.695Z"
   },
   {
    "duration": 7,
    "start_time": "2022-01-08T22:21:12.368Z"
   },
   {
    "duration": 22,
    "start_time": "2022-01-08T22:21:14.833Z"
   },
   {
    "duration": 31,
    "start_time": "2022-01-08T22:21:17.430Z"
   },
   {
    "duration": 7,
    "start_time": "2022-01-08T22:21:22.403Z"
   },
   {
    "duration": 17,
    "start_time": "2022-01-08T22:21:24.805Z"
   },
   {
    "duration": 22,
    "start_time": "2022-01-08T22:22:06.196Z"
   },
   {
    "duration": 299,
    "start_time": "2022-01-08T22:23:28.242Z"
   },
   {
    "duration": 294,
    "start_time": "2022-01-08T22:24:43.133Z"
   },
   {
    "duration": 366,
    "start_time": "2022-01-08T22:24:58.987Z"
   },
   {
    "duration": 21,
    "start_time": "2022-01-08T22:25:10.020Z"
   },
   {
    "duration": 1099,
    "start_time": "2022-01-08T22:25:57.727Z"
   },
   {
    "duration": 21,
    "start_time": "2022-01-08T22:26:31.763Z"
   },
   {
    "duration": 24,
    "start_time": "2022-01-08T22:27:17.978Z"
   },
   {
    "duration": 33,
    "start_time": "2022-01-08T22:27:28.696Z"
   },
   {
    "duration": 59,
    "start_time": "2022-01-08T22:29:19.448Z"
   },
   {
    "duration": 63,
    "start_time": "2022-01-08T22:29:51.660Z"
   },
   {
    "duration": 6192,
    "start_time": "2022-01-08T22:29:56.640Z"
   },
   {
    "duration": 1441,
    "start_time": "2022-01-08T22:30:08.746Z"
   },
   {
    "duration": 709,
    "start_time": "2022-01-08T22:30:18.625Z"
   },
   {
    "duration": 991,
    "start_time": "2022-01-08T22:30:25.627Z"
   },
   {
    "duration": 876,
    "start_time": "2022-01-08T22:30:32.855Z"
   },
   {
    "duration": 1077,
    "start_time": "2022-01-08T22:30:41.235Z"
   },
   {
    "duration": 102,
    "start_time": "2022-01-08T22:31:37.319Z"
   },
   {
    "duration": 108,
    "start_time": "2022-01-08T22:32:14.890Z"
   },
   {
    "duration": 36,
    "start_time": "2022-01-08T22:32:15.001Z"
   },
   {
    "duration": 14,
    "start_time": "2022-01-08T22:32:15.041Z"
   },
   {
    "duration": 17,
    "start_time": "2022-01-08T22:32:15.058Z"
   },
   {
    "duration": 45,
    "start_time": "2022-01-08T22:32:15.078Z"
   },
   {
    "duration": 24,
    "start_time": "2022-01-08T22:32:15.125Z"
   },
   {
    "duration": 30,
    "start_time": "2022-01-08T22:32:15.151Z"
   },
   {
    "duration": 41,
    "start_time": "2022-01-08T22:32:15.184Z"
   },
   {
    "duration": 34,
    "start_time": "2022-01-08T22:32:15.228Z"
   },
   {
    "duration": 82,
    "start_time": "2022-01-08T22:32:15.264Z"
   },
   {
    "duration": 6190,
    "start_time": "2022-01-08T22:32:15.349Z"
   },
   {
    "duration": 1419,
    "start_time": "2022-01-08T22:32:21.541Z"
   },
   {
    "duration": 790,
    "start_time": "2022-01-08T22:32:22.963Z"
   },
   {
    "duration": 945,
    "start_time": "2022-01-08T22:32:23.755Z"
   },
   {
    "duration": 885,
    "start_time": "2022-01-08T22:32:24.702Z"
   },
   {
    "duration": 963,
    "start_time": "2022-01-08T22:32:25.591Z"
   },
   {
    "duration": 537,
    "start_time": "2022-01-09T20:36:21.146Z"
   },
   {
    "duration": 1287,
    "start_time": "2022-01-09T20:36:25.030Z"
   },
   {
    "duration": 54,
    "start_time": "2022-01-09T20:36:28.009Z"
   },
   {
    "duration": 116,
    "start_time": "2022-01-09T20:36:46.675Z"
   },
   {
    "duration": 4,
    "start_time": "2022-01-09T20:37:02.148Z"
   },
   {
    "duration": 3085,
    "start_time": "2022-01-09T20:38:15.683Z"
   },
   {
    "duration": 57,
    "start_time": "2022-01-09T20:38:21.459Z"
   },
   {
    "duration": 21,
    "start_time": "2022-01-09T20:38:27.876Z"
   },
   {
    "duration": 10,
    "start_time": "2022-01-09T20:38:31.638Z"
   },
   {
    "duration": 13,
    "start_time": "2022-01-09T20:38:34.379Z"
   },
   {
    "duration": 4,
    "start_time": "2022-01-09T20:38:39.041Z"
   },
   {
    "duration": 4,
    "start_time": "2022-01-09T20:38:41.907Z"
   },
   {
    "duration": 15,
    "start_time": "2022-01-09T20:38:44.710Z"
   },
   {
    "duration": 18,
    "start_time": "2022-01-09T20:38:56.870Z"
   },
   {
    "duration": 5,
    "start_time": "2022-01-09T20:39:04.024Z"
   },
   {
    "duration": 20,
    "start_time": "2022-01-09T20:39:08.435Z"
   },
   {
    "duration": 35,
    "start_time": "2022-01-09T20:39:13.300Z"
   },
   {
    "duration": 33,
    "start_time": "2022-01-09T20:39:36.353Z"
   },
   {
    "duration": 29,
    "start_time": "2022-01-09T20:42:30.169Z"
   },
   {
    "duration": 24,
    "start_time": "2022-01-09T20:42:41.899Z"
   },
   {
    "duration": 25,
    "start_time": "2022-01-09T20:42:44.890Z"
   },
   {
    "duration": 2353,
    "start_time": "2022-01-09T20:43:08.506Z"
   },
   {
    "duration": 55,
    "start_time": "2022-01-09T20:43:10.861Z"
   },
   {
    "duration": 20,
    "start_time": "2022-01-09T20:43:10.918Z"
   },
   {
    "duration": 11,
    "start_time": "2022-01-09T20:43:10.941Z"
   },
   {
    "duration": 10,
    "start_time": "2022-01-09T20:43:10.953Z"
   },
   {
    "duration": 4,
    "start_time": "2022-01-09T20:43:10.964Z"
   },
   {
    "duration": 15,
    "start_time": "2022-01-09T20:43:10.969Z"
   },
   {
    "duration": 49,
    "start_time": "2022-01-09T20:43:10.985Z"
   },
   {
    "duration": 4,
    "start_time": "2022-01-09T20:43:11.036Z"
   },
   {
    "duration": 20,
    "start_time": "2022-01-09T20:43:11.042Z"
   },
   {
    "duration": 32,
    "start_time": "2022-01-09T20:43:11.064Z"
   },
   {
    "duration": 49,
    "start_time": "2022-01-09T20:43:11.097Z"
   },
   {
    "duration": 4400,
    "start_time": "2022-01-09T20:43:11.148Z"
   },
   {
    "duration": 781,
    "start_time": "2022-01-09T20:43:15.550Z"
   },
   {
    "duration": 404,
    "start_time": "2022-01-09T20:43:16.333Z"
   },
   {
    "duration": 572,
    "start_time": "2022-01-09T20:43:16.739Z"
   },
   {
    "duration": 533,
    "start_time": "2022-01-09T20:43:17.312Z"
   },
   {
    "duration": 575,
    "start_time": "2022-01-09T20:43:17.847Z"
   },
   {
    "duration": 37,
    "start_time": "2022-01-09T20:43:18.424Z"
   },
   {
    "duration": 43,
    "start_time": "2022-01-09T20:43:21.068Z"
   },
   {
    "duration": 36,
    "start_time": "2022-01-09T20:43:24.220Z"
   },
   {
    "duration": 19,
    "start_time": "2022-01-09T20:43:44.468Z"
   },
   {
    "duration": 35,
    "start_time": "2022-01-09T20:43:46.366Z"
   },
   {
    "duration": 52,
    "start_time": "2022-01-09T20:43:54.111Z"
   },
   {
    "duration": 18,
    "start_time": "2022-01-09T20:43:55.991Z"
   },
   {
    "duration": 22,
    "start_time": "2022-01-09T20:43:58.804Z"
   },
   {
    "duration": 18,
    "start_time": "2022-01-09T20:44:01.828Z"
   },
   {
    "duration": 34,
    "start_time": "2022-01-09T20:44:03.801Z"
   },
   {
    "duration": 36,
    "start_time": "2022-01-09T20:44:08.333Z"
   },
   {
    "duration": 3475,
    "start_time": "2022-01-09T20:44:46.865Z"
   },
   {
    "duration": 373,
    "start_time": "2022-01-09T20:45:30.543Z"
   },
   {
    "duration": 729,
    "start_time": "2022-01-09T20:46:12.143Z"
   },
   {
    "duration": 2304,
    "start_time": "2022-01-09T20:46:31.971Z"
   },
   {
    "duration": 59,
    "start_time": "2022-01-09T20:46:37.405Z"
   },
   {
    "duration": 23,
    "start_time": "2022-01-09T20:46:42.031Z"
   },
   {
    "duration": 10,
    "start_time": "2022-01-09T20:46:45.117Z"
   },
   {
    "duration": 12,
    "start_time": "2022-01-09T20:46:47.617Z"
   },
   {
    "duration": 4,
    "start_time": "2022-01-09T20:46:50.791Z"
   },
   {
    "duration": 16,
    "start_time": "2022-01-09T20:46:53.121Z"
   },
   {
    "duration": 19,
    "start_time": "2022-01-09T20:46:55.526Z"
   },
   {
    "duration": 5,
    "start_time": "2022-01-09T20:46:59.819Z"
   },
   {
    "duration": 22,
    "start_time": "2022-01-09T20:47:01.803Z"
   },
   {
    "duration": 15,
    "start_time": "2022-01-09T20:47:04.990Z"
   },
   {
    "duration": 27,
    "start_time": "2022-01-09T20:47:07.598Z"
   },
   {
    "duration": 3396,
    "start_time": "2022-01-09T20:47:17.213Z"
   },
   {
    "duration": 771,
    "start_time": "2022-01-09T20:47:20.610Z"
   },
   {
    "duration": 700,
    "start_time": "2022-01-09T20:47:25.598Z"
   },
   {
    "duration": 618,
    "start_time": "2022-01-09T20:48:01.484Z"
   },
   {
    "duration": 553,
    "start_time": "2022-01-09T20:48:02.104Z"
   },
   {
    "duration": 670,
    "start_time": "2022-01-09T20:48:02.660Z"
   },
   {
    "duration": 695,
    "start_time": "2022-01-09T20:48:13.679Z"
   },
   {
    "duration": 586,
    "start_time": "2022-01-09T20:48:32.674Z"
   },
   {
    "duration": 550,
    "start_time": "2022-01-09T20:48:33.262Z"
   },
   {
    "duration": 661,
    "start_time": "2022-01-09T20:48:33.813Z"
   },
   {
    "duration": 2298,
    "start_time": "2022-01-09T20:53:55.966Z"
   },
   {
    "duration": 710,
    "start_time": "2022-01-09T20:54:07.828Z"
   },
   {
    "duration": 10338,
    "start_time": "2022-01-16T21:27:54.927Z"
   },
   {
    "duration": 80,
    "start_time": "2022-01-16T21:28:05.270Z"
   },
   {
    "duration": 34,
    "start_time": "2022-01-16T21:28:05.353Z"
   },
   {
    "duration": 21,
    "start_time": "2022-01-16T21:28:05.390Z"
   },
   {
    "duration": 17,
    "start_time": "2022-01-16T21:28:05.415Z"
   },
   {
    "duration": 6,
    "start_time": "2022-01-16T21:28:05.435Z"
   },
   {
    "duration": 72,
    "start_time": "2022-01-16T21:28:05.444Z"
   },
   {
    "duration": 33,
    "start_time": "2022-01-16T21:28:05.522Z"
   },
   {
    "duration": 41,
    "start_time": "2022-01-16T21:28:05.559Z"
   },
   {
    "duration": 36,
    "start_time": "2022-01-16T21:28:05.604Z"
   },
   {
    "duration": 25,
    "start_time": "2022-01-16T21:28:05.643Z"
   },
   {
    "duration": 46,
    "start_time": "2022-01-16T21:28:05.702Z"
   },
   {
    "duration": 5832,
    "start_time": "2022-01-16T21:28:05.751Z"
   },
   {
    "duration": 1521,
    "start_time": "2022-01-16T21:28:11.586Z"
   },
   {
    "duration": 951,
    "start_time": "2022-01-16T21:28:13.109Z"
   },
   {
    "duration": -25,
    "start_time": "2022-01-16T21:28:14.087Z"
   },
   {
    "duration": -37,
    "start_time": "2022-01-16T21:28:14.101Z"
   },
   {
    "duration": -42,
    "start_time": "2022-01-16T21:28:14.107Z"
   },
   {
    "duration": 672,
    "start_time": "2022-01-16T21:28:55.038Z"
   },
   {
    "duration": 594,
    "start_time": "2022-01-16T21:29:12.575Z"
   },
   {
    "duration": 678,
    "start_time": "2022-01-16T21:29:48.674Z"
   },
   {
    "duration": 757,
    "start_time": "2022-01-16T21:30:17.895Z"
   },
   {
    "duration": 667,
    "start_time": "2022-01-16T21:30:34.804Z"
   },
   {
    "duration": 365,
    "start_time": "2022-01-16T21:31:03.564Z"
   },
   {
    "duration": 678,
    "start_time": "2022-01-16T21:31:35.264Z"
   },
   {
    "duration": 810,
    "start_time": "2022-01-16T21:32:16.993Z"
   },
   {
    "duration": 814,
    "start_time": "2022-01-16T21:32:45.188Z"
   },
   {
    "duration": 815,
    "start_time": "2022-01-16T21:33:16.285Z"
   },
   {
    "duration": 361,
    "start_time": "2022-01-16T21:33:49.598Z"
   },
   {
    "duration": 375,
    "start_time": "2022-01-16T21:33:58.372Z"
   },
   {
    "duration": 704,
    "start_time": "2022-01-16T21:34:10.665Z"
   },
   {
    "duration": 4586,
    "start_time": "2022-01-17T11:53:02.908Z"
   },
   {
    "duration": 52,
    "start_time": "2022-01-17T11:53:07.496Z"
   },
   {
    "duration": 20,
    "start_time": "2022-01-17T11:53:07.550Z"
   },
   {
    "duration": 9,
    "start_time": "2022-01-17T11:53:07.572Z"
   },
   {
    "duration": 10,
    "start_time": "2022-01-17T11:53:07.583Z"
   },
   {
    "duration": 3,
    "start_time": "2022-01-17T11:53:07.594Z"
   },
   {
    "duration": 40,
    "start_time": "2022-01-17T11:53:07.598Z"
   },
   {
    "duration": 24,
    "start_time": "2022-01-17T11:53:07.640Z"
   },
   {
    "duration": 5,
    "start_time": "2022-01-17T11:53:07.666Z"
   },
   {
    "duration": 60,
    "start_time": "2022-01-17T11:53:07.672Z"
   },
   {
    "duration": 20,
    "start_time": "2022-01-17T11:53:07.733Z"
   },
   {
    "duration": 36,
    "start_time": "2022-01-17T11:53:07.755Z"
   },
   {
    "duration": 5140,
    "start_time": "2022-01-17T11:53:07.793Z"
   },
   {
    "duration": 1020,
    "start_time": "2022-01-17T11:53:12.934Z"
   },
   {
    "duration": 633,
    "start_time": "2022-01-17T11:53:13.956Z"
   },
   {
    "duration": 17,
    "start_time": "2022-01-17T11:53:14.591Z"
   },
   {
    "duration": 664,
    "start_time": "2022-01-17T11:53:14.610Z"
   },
   {
    "duration": -4,
    "start_time": "2022-01-17T11:53:15.279Z"
   },
   {
    "duration": -7,
    "start_time": "2022-01-17T11:53:15.283Z"
   },
   {
    "duration": 356,
    "start_time": "2022-01-17T11:54:05.617Z"
   },
   {
    "duration": 341,
    "start_time": "2022-01-17T11:54:08.073Z"
   },
   {
    "duration": 350,
    "start_time": "2022-01-17T11:55:09.290Z"
   },
   {
    "duration": 331,
    "start_time": "2022-01-17T11:56:47.527Z"
   },
   {
    "duration": 11943,
    "start_time": "2022-01-17T11:58:06.209Z"
   },
   {
    "duration": 8724,
    "start_time": "2022-01-17T11:58:23.207Z"
   },
   {
    "duration": 313,
    "start_time": "2022-01-17T11:59:05.264Z"
   },
   {
    "duration": 8159,
    "start_time": "2022-01-17T11:59:47.331Z"
   },
   {
    "duration": 8406,
    "start_time": "2022-01-17T12:00:17.759Z"
   },
   {
    "duration": -82,
    "start_time": "2022-01-17T12:02:05.315Z"
   },
   {
    "duration": -64,
    "start_time": "2022-01-17T12:03:08.398Z"
   },
   {
    "duration": 8359,
    "start_time": "2022-01-17T12:03:16.484Z"
   },
   {
    "duration": 10596,
    "start_time": "2022-01-17T12:03:30.002Z"
   },
   {
    "duration": 9313,
    "start_time": "2022-01-17T12:03:46.523Z"
   },
   {
    "duration": 332,
    "start_time": "2022-01-17T12:04:34.947Z"
   },
   {
    "duration": 449,
    "start_time": "2022-01-17T12:07:28.132Z"
   },
   {
    "duration": 8237,
    "start_time": "2022-01-17T12:48:04.553Z"
   },
   {
    "duration": 8641,
    "start_time": "2022-01-17T12:49:12.831Z"
   },
   {
    "duration": 8320,
    "start_time": "2022-01-17T12:49:37.446Z"
   },
   {
    "duration": 19,
    "start_time": "2022-01-17T12:50:15.549Z"
   },
   {
    "duration": 408,
    "start_time": "2022-01-17T12:50:52.002Z"
   },
   {
    "duration": 455,
    "start_time": "2022-01-17T12:51:55.598Z"
   },
   {
    "duration": 358,
    "start_time": "2022-01-17T13:14:39.303Z"
   },
   {
    "duration": 50669,
    "start_time": "2022-01-17T14:51:56.942Z"
   },
   {
    "duration": 58,
    "start_time": "2022-01-17T14:52:47.613Z"
   },
   {
    "duration": 25,
    "start_time": "2022-01-17T14:52:47.673Z"
   },
   {
    "duration": 12,
    "start_time": "2022-01-17T14:52:47.701Z"
   },
   {
    "duration": 13,
    "start_time": "2022-01-17T14:52:47.715Z"
   },
   {
    "duration": 6,
    "start_time": "2022-01-17T14:52:47.761Z"
   },
   {
    "duration": 27,
    "start_time": "2022-01-17T14:52:47.769Z"
   },
   {
    "duration": 33,
    "start_time": "2022-01-17T14:52:47.800Z"
   },
   {
    "duration": 8,
    "start_time": "2022-01-17T14:52:47.861Z"
   },
   {
    "duration": 40,
    "start_time": "2022-01-17T14:52:47.872Z"
   },
   {
    "duration": 16,
    "start_time": "2022-01-17T14:52:47.914Z"
   },
   {
    "duration": 36,
    "start_time": "2022-01-17T14:52:47.961Z"
   },
   {
    "duration": 5093,
    "start_time": "2022-01-17T14:52:47.999Z"
   },
   {
    "duration": 911,
    "start_time": "2022-01-17T14:52:53.094Z"
   },
   {
    "duration": 24,
    "start_time": "2022-01-17T14:52:54.007Z"
   },
   {
    "duration": 383,
    "start_time": "2022-01-17T14:52:54.032Z"
   },
   {
    "duration": 20,
    "start_time": "2022-01-17T14:52:54.417Z"
   },
   {
    "duration": 508,
    "start_time": "2022-01-17T14:52:54.438Z"
   },
   {
    "duration": 460,
    "start_time": "2022-01-17T14:52:54.948Z"
   },
   {
    "duration": 463,
    "start_time": "2022-01-17T14:52:55.409Z"
   }
  ],
  "kernelspec": {
   "display_name": "Python 3 (ipykernel)",
   "language": "python",
   "name": "python3"
  },
  "language_info": {
   "codemirror_mode": {
    "name": "ipython",
    "version": 3
   },
   "file_extension": ".py",
   "mimetype": "text/x-python",
   "name": "python",
   "nbconvert_exporter": "python",
   "pygments_lexer": "ipython3",
   "version": "3.9.7"
  },
  "toc": {
   "base_numbering": 1,
   "nav_menu": {},
   "number_sections": true,
   "sideBar": true,
   "skip_h1_title": true,
   "title_cell": "Содержание",
   "title_sidebar": "Contents",
   "toc_cell": true,
   "toc_position": {
    "height": "calc(100% - 180px)",
    "left": "10px",
    "top": "150px",
    "width": "165px"
   },
   "toc_section_display": true,
   "toc_window_display": true
  }
 },
 "nbformat": 4,
 "nbformat_minor": 2
}
